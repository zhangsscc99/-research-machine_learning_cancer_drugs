{
 "cells": [
  {
   "cell_type": "code",
   "execution_count": 189,
   "metadata": {},
   "outputs": [
    {
     "data": {
      "text/plain": [
       "'\\nimport pandas as pd\\nf1 = pd.read_csv(\\'B.csv\\')\\nf2 = pd.read_csv(\\'C.csv\\')\\nf3=pd.read_csv(\\'D.csv\\')\\nf4=pd.read_csv(\\'E.csv\\')\\nf5=pd.read_csv(\\'A.csv\\')\\nfile = [f1,f2,f3,f5]\\ntrain = pd.concat(file,axis=1)\\ntrain.to_csv(\"train.csv\", index=0, sep=\\',\\')\\n'"
      ]
     },
     "execution_count": 189,
     "metadata": {},
     "output_type": "execute_result"
    }
   ],
   "source": [
    "#a code block that deals with concentration and drug names\n",
    "#we do not use this block for now.\n",
    "\"\"\"\n",
    "import pandas as pd\n",
    "f1 = pd.read_csv('B.csv')\n",
    "f2 = pd.read_csv('C.csv')\n",
    "f3=pd.read_csv('D.csv')\n",
    "f4=pd.read_csv('E.csv')\n",
    "f5=pd.read_csv('A.csv')\n",
    "file = [f1,f2,f3,f5]\n",
    "train = pd.concat(file,axis=1)\n",
    "train.to_csv(\"train.csv\", index=0, sep=',')\n",
    "\"\"\""
   ]
  },
  {
   "cell_type": "code",
   "execution_count": 190,
   "metadata": {},
   "outputs": [
    {
     "name": "stdout",
     "output_type": "stream",
     "text": [
      "-0.294442\n"
     ]
    }
   ],
   "source": [
    "#do some further processing with \"A\" because there are some data error in it\n",
    "def remove_extradots(string):\n",
    "    counter=0\n",
    "    lst=[]\n",
    "    for i in range(len(string)):\n",
    "        if string[i]=='.' and counter<1 :\n",
    "            lst.append(string[i])\n",
    "            counter+=1\n",
    "        elif string[i]!='.':\n",
    "            lst.append(string[i])\n",
    "    res=\"\".join(lst)\n",
    "    return res\n",
    "\n",
    "\n",
    "\n",
    "import csv\n",
    "res_list=[]\n",
    "print(remove_extradots(\"-0.29444.2\"))\n",
    "with open('A.csv') as file2:\n",
    "    reader=csv.reader(file2)\n",
    "\n",
    "    for row in reader:\n",
    "        data=[]\n",
    "        for i in range(len(row)):\n",
    "            \n",
    "            data.append(remove_extradots(row[i]))\n",
    "        res_list.append(data)\n",
    "    \n",
    "\n",
    "\n",
    "with open('modified_A.csv', 'w') as file3:\n",
    "    writer = csv.writer(file3)\n",
    "    writer.writerows(res_list)\n",
    "file3.close()\n",
    "                \n"
   ]
  },
  {
   "cell_type": "code",
   "execution_count": 191,
   "metadata": {},
   "outputs": [
    {
     "data": {
      "text/plain": [
       "(767, 239)"
      ]
     },
     "execution_count": 191,
     "metadata": {},
     "output_type": "execute_result"
    }
   ],
   "source": [
    "#test file A\n",
    "df_A=pd.read_csv(\"A.csv\")\n",
    "df_A.shape\n",
    "df_A2=pd.read_csv(\"A_modified.csv\")\n",
    "df_A2.shape\n"
   ]
  },
  {
   "cell_type": "code",
   "execution_count": 192,
   "metadata": {},
   "outputs": [],
   "source": [
    "#a block that is used to concate the drug names(drug combinations and related concentration)\n",
    "\n",
    "import csv\n",
    "res_list=[]\n",
    "with open('train.csv', 'r') as file:\n",
    "    reader = csv.reader(file)\n",
    "    \n",
    "    for row in reader:\n",
    "        data=[]\n",
    "        data.append(row[0]+'+'+row[1])\n",
    "        res_list.append(data)\n",
    "\n",
    "        \n",
    "        \n",
    "with open('concatenated.csv', 'w') as file2:\n",
    "    writer = csv.writer(file2)\n",
    "    writer.writerows(res_list)"
   ]
  },
  {
   "cell_type": "code",
   "execution_count": 193,
   "metadata": {},
   "outputs": [],
   "source": [
    "#a block that is used to concate concentration and ks numbers.\n",
    "import pandas as pd\n",
    "f1 = pd.read_csv('concatenated.csv')\n",
    "#f2 = pd.read_csv('C.csv')\n",
    "f3=pd.read_csv('D.csv')\n",
    "f4=pd.read_csv('E.csv')\n",
    "f5=pd.read_csv('modified_A.csv')\n",
    "file = [f1,f3,f5]\n",
    "train = pd.concat(file,axis=1)\n",
    "train.to_csv(\"train3.csv\", index=0, sep=',')"
   ]
  },
  {
   "cell_type": "code",
   "execution_count": 194,
   "metadata": {},
   "outputs": [],
   "source": [
    "#a block that sets the fields for the drug data\n",
    "import csv\n",
    "fields=['drug_name','concentration','default']\n",
    "for i in range(1,239):\n",
    "    fields.append('ks'+str(i))\n",
    "rows=[]\n",
    "with open('train3.csv', 'r') as file:\n",
    "    reader = csv.reader(file)\n",
    "    \n",
    "    for row in reader:\n",
    "        rows.append(row)\n",
    "\n",
    "        \n",
    "        \n",
    "with open('drug_withfields2.csv', 'w') as file2:\n",
    "    writer = csv.writer(file2)\n",
    "    writer.writerow(fields)\n",
    "    writer.writerows(rows)"
   ]
  },
  {
   "cell_type": "code",
   "execution_count": 195,
   "metadata": {},
   "outputs": [
    {
     "name": "stdout",
     "output_type": "stream",
     "text": [
      "-0.294442\n"
     ]
    }
   ],
   "source": [
    "#do some further processing with \"drug_withfields\" because there are still some data error in it\n",
    "def remove_extradots(string):\n",
    "    counter=0\n",
    "    lst=[]\n",
    "    for i in range(len(string)):\n",
    "        if string[i]=='.' and counter<1 :\n",
    "            lst.append(string[i])\n",
    "            counter+=1\n",
    "        elif string[i]!='.':\n",
    "            lst.append(string[i])\n",
    "    res=\"\".join(lst)\n",
    "    return res\n",
    "\n",
    "\n",
    "\n",
    "import csv\n",
    "res_list=[]\n",
    "print(remove_extradots(\"-0.29444.2\"))\n",
    "with open('drug_withfields2.csv') as file2:\n",
    "    reader=csv.reader(file2)\n",
    "\n",
    "    for row in reader:\n",
    "        data=[]\n",
    "        for i in range(len(row)):\n",
    "            \n",
    "            data.append(remove_extradots(row[i]))\n",
    "        res_list.append(data)\n",
    "    \n",
    "\n",
    "\n",
    "with open('drug_with_fields.csv', 'w') as file3:\n",
    "    writer = csv.writer(file3)\n",
    "    writer.writerows(res_list)\n",
    "file3.close()\n",
    "                "
   ]
  },
  {
   "cell_type": "code",
   "execution_count": 196,
   "metadata": {},
   "outputs": [
    {
     "data": {
      "text/html": [
       "<div>\n",
       "<style scoped>\n",
       "    .dataframe tbody tr th:only-of-type {\n",
       "        vertical-align: middle;\n",
       "    }\n",
       "\n",
       "    .dataframe tbody tr th {\n",
       "        vertical-align: top;\n",
       "    }\n",
       "\n",
       "    .dataframe thead th {\n",
       "        text-align: right;\n",
       "    }\n",
       "</style>\n",
       "<table border=\"1\" class=\"dataframe\">\n",
       "  <thead>\n",
       "    <tr style=\"text-align: right;\">\n",
       "      <th></th>\n",
       "      <th>drug_name</th>\n",
       "      <th>concentration</th>\n",
       "      <th>default</th>\n",
       "      <th>ks1</th>\n",
       "      <th>ks2</th>\n",
       "      <th>ks3</th>\n",
       "      <th>ks4</th>\n",
       "      <th>ks5</th>\n",
       "      <th>ks6</th>\n",
       "      <th>ks7</th>\n",
       "      <th>...</th>\n",
       "      <th>ks229</th>\n",
       "      <th>ks230</th>\n",
       "      <th>ks231</th>\n",
       "      <th>ks232</th>\n",
       "      <th>ks233</th>\n",
       "      <th>ks234</th>\n",
       "      <th>ks235</th>\n",
       "      <th>ks236</th>\n",
       "      <th>ks237</th>\n",
       "      <th>ks238</th>\n",
       "    </tr>\n",
       "  </thead>\n",
       "  <tbody>\n",
       "    <tr>\n",
       "      <th>0</th>\n",
       "      <td>Etoposide+Etoposide</td>\n",
       "      <td>1</td>\n",
       "      <td>0</td>\n",
       "      <td>-0.915000</td>\n",
       "      <td>-0.309170</td>\n",
       "      <td>-0.266390</td>\n",
       "      <td>-0.595000</td>\n",
       "      <td>-0.719440</td>\n",
       "      <td>-0.304440</td>\n",
       "      <td>-0.235280</td>\n",
       "      <td>...</td>\n",
       "      <td>0.096111</td>\n",
       "      <td>0.273331</td>\n",
       "      <td>-0.259170</td>\n",
       "      <td>0.202780</td>\n",
       "      <td>0.171941</td>\n",
       "      <td>0.273332</td>\n",
       "      <td>-0.601110</td>\n",
       "      <td>-0.586391</td>\n",
       "      <td>-0.432780</td>\n",
       "      <td>0.321670</td>\n",
       "    </tr>\n",
       "    <tr>\n",
       "      <th>2</th>\n",
       "      <td>Etoposide+Etoposide</td>\n",
       "      <td>2</td>\n",
       "      <td>0</td>\n",
       "      <td>-0.827500</td>\n",
       "      <td>-0.185050</td>\n",
       "      <td>0.225330</td>\n",
       "      <td>-0.530960</td>\n",
       "      <td>-0.628240</td>\n",
       "      <td>-0.191880</td>\n",
       "      <td>0.273000</td>\n",
       "      <td>...</td>\n",
       "      <td>0.172830</td>\n",
       "      <td>0.209750</td>\n",
       "      <td>-0.334970</td>\n",
       "      <td>0.319720</td>\n",
       "      <td>0.240240</td>\n",
       "      <td>0.209750</td>\n",
       "      <td>-0.635440</td>\n",
       "      <td>-0.644490</td>\n",
       "      <td>-0.349710</td>\n",
       "      <td>0.430350</td>\n",
       "    </tr>\n",
       "    <tr>\n",
       "      <th>4</th>\n",
       "      <td>Etoposide+Etoposide</td>\n",
       "      <td>3</td>\n",
       "      <td>0</td>\n",
       "      <td>-0.590000</td>\n",
       "      <td>0.163430</td>\n",
       "      <td>-0.071733</td>\n",
       "      <td>0.036633</td>\n",
       "      <td>0.147570</td>\n",
       "      <td>-0.074267</td>\n",
       "      <td>-0.072833</td>\n",
       "      <td>...</td>\n",
       "      <td>0.366530</td>\n",
       "      <td>0.210270</td>\n",
       "      <td>-0.213230</td>\n",
       "      <td>0.495230</td>\n",
       "      <td>0.458200</td>\n",
       "      <td>0.210270</td>\n",
       "      <td>-0.405370</td>\n",
       "      <td>-0.440270</td>\n",
       "      <td>-0.207970</td>\n",
       "      <td>0.249330</td>\n",
       "    </tr>\n",
       "    <tr>\n",
       "      <th>6</th>\n",
       "      <td>Etoposide+Etoposide</td>\n",
       "      <td>4</td>\n",
       "      <td>0</td>\n",
       "      <td>0.055863</td>\n",
       "      <td>-0.089835</td>\n",
       "      <td>-0.060518</td>\n",
       "      <td>-0.058003</td>\n",
       "      <td>-0.082102</td>\n",
       "      <td>-0.062598</td>\n",
       "      <td>-0.054715</td>\n",
       "      <td>...</td>\n",
       "      <td>-0.148370</td>\n",
       "      <td>0.056149</td>\n",
       "      <td>-0.052402</td>\n",
       "      <td>-0.114600</td>\n",
       "      <td>-0.130490</td>\n",
       "      <td>0.056149</td>\n",
       "      <td>0.083671</td>\n",
       "      <td>0.055863</td>\n",
       "      <td>-0.075631</td>\n",
       "      <td>0.045953</td>\n",
       "    </tr>\n",
       "    <tr>\n",
       "      <th>8</th>\n",
       "      <td>Etoposide+Etoposide</td>\n",
       "      <td>5</td>\n",
       "      <td>0</td>\n",
       "      <td>0.072606</td>\n",
       "      <td>-0.050656</td>\n",
       "      <td>0.029489</td>\n",
       "      <td>-0.074577</td>\n",
       "      <td>-0.041196</td>\n",
       "      <td>-0.023138</td>\n",
       "      <td>0.033754</td>\n",
       "      <td>...</td>\n",
       "      <td>-0.111160</td>\n",
       "      <td>0.032801</td>\n",
       "      <td>0.039006</td>\n",
       "      <td>-0.113550</td>\n",
       "      <td>-0.121610</td>\n",
       "      <td>0.032801</td>\n",
       "      <td>0.100530</td>\n",
       "      <td>0.067107</td>\n",
       "      <td>-0.044104</td>\n",
       "      <td>-0.039664</td>\n",
       "    </tr>\n",
       "    <tr>\n",
       "      <th>10</th>\n",
       "      <td>Etoposide+Etoposide</td>\n",
       "      <td>6</td>\n",
       "      <td>0</td>\n",
       "      <td>0.051316</td>\n",
       "      <td>-0.086824</td>\n",
       "      <td>-0.048019</td>\n",
       "      <td>-0.051763</td>\n",
       "      <td>-0.092343</td>\n",
       "      <td>-0.050676</td>\n",
       "      <td>-0.042838</td>\n",
       "      <td>...</td>\n",
       "      <td>-0.111460</td>\n",
       "      <td>0.036606</td>\n",
       "      <td>-0.043273</td>\n",
       "      <td>-0.109670</td>\n",
       "      <td>-0.119730</td>\n",
       "      <td>0.036606</td>\n",
       "      <td>0.080060</td>\n",
       "      <td>0.045157</td>\n",
       "      <td>-0.077717</td>\n",
       "      <td>0.024058</td>\n",
       "    </tr>\n",
       "    <tr>\n",
       "      <th>24</th>\n",
       "      <td>Paclitaxel+Etoposide</td>\n",
       "      <td>1</td>\n",
       "      <td>0</td>\n",
       "      <td>-0.643330</td>\n",
       "      <td>-0.845910</td>\n",
       "      <td>-0.982080</td>\n",
       "      <td>-0.995000</td>\n",
       "      <td>-0.995580</td>\n",
       "      <td>-0.982080</td>\n",
       "      <td>-0.974200</td>\n",
       "      <td>...</td>\n",
       "      <td>-0.644390</td>\n",
       "      <td>-0.207400</td>\n",
       "      <td>0.308410</td>\n",
       "      <td>-0.664290</td>\n",
       "      <td>-0.645160</td>\n",
       "      <td>-0.207400</td>\n",
       "      <td>0.479270</td>\n",
       "      <td>0.394290</td>\n",
       "      <td>-0.083925</td>\n",
       "      <td>-0.203850</td>\n",
       "    </tr>\n",
       "    <tr>\n",
       "      <th>26</th>\n",
       "      <td>Paclitaxel+Etoposide</td>\n",
       "      <td>2</td>\n",
       "      <td>0</td>\n",
       "      <td>-0.567500</td>\n",
       "      <td>0.189400</td>\n",
       "      <td>0.260040</td>\n",
       "      <td>0.189290</td>\n",
       "      <td>0.164250</td>\n",
       "      <td>0.233990</td>\n",
       "      <td>0.273410</td>\n",
       "      <td>...</td>\n",
       "      <td>0.204410</td>\n",
       "      <td>0.313850</td>\n",
       "      <td>-0.262520</td>\n",
       "      <td>0.442070</td>\n",
       "      <td>0.378600</td>\n",
       "      <td>0.313850</td>\n",
       "      <td>-0.480640</td>\n",
       "      <td>-0.540500</td>\n",
       "      <td>-0.291820</td>\n",
       "      <td>0.307820</td>\n",
       "    </tr>\n",
       "    <tr>\n",
       "      <th>28</th>\n",
       "      <td>Paclitaxel+Etoposide</td>\n",
       "      <td>3</td>\n",
       "      <td>0</td>\n",
       "      <td>-0.062500</td>\n",
       "      <td>-0.077576</td>\n",
       "      <td>-0.061430</td>\n",
       "      <td>0.127530</td>\n",
       "      <td>-0.113590</td>\n",
       "      <td>-0.068394</td>\n",
       "      <td>0.052321</td>\n",
       "      <td>...</td>\n",
       "      <td>-0.051053</td>\n",
       "      <td>0.048413</td>\n",
       "      <td>-0.061178</td>\n",
       "      <td>-0.037804</td>\n",
       "      <td>-0.027852</td>\n",
       "      <td>0.048413</td>\n",
       "      <td>-0.070725</td>\n",
       "      <td>-0.084126</td>\n",
       "      <td>-0.084403</td>\n",
       "      <td>0.051949</td>\n",
       "    </tr>\n",
       "    <tr>\n",
       "      <th>30</th>\n",
       "      <td>Paclitaxel+Etoposide</td>\n",
       "      <td>4</td>\n",
       "      <td>0</td>\n",
       "      <td>0.087645</td>\n",
       "      <td>-0.073396</td>\n",
       "      <td>0.054754</td>\n",
       "      <td>-0.051970</td>\n",
       "      <td>-0.040780</td>\n",
       "      <td>0.034008</td>\n",
       "      <td>0.061768</td>\n",
       "      <td>...</td>\n",
       "      <td>-0.134110</td>\n",
       "      <td>0.024118</td>\n",
       "      <td>0.043218</td>\n",
       "      <td>-0.130790</td>\n",
       "      <td>-0.137150</td>\n",
       "      <td>0.024118</td>\n",
       "      <td>0.101820</td>\n",
       "      <td>0.072678</td>\n",
       "      <td>-0.068810</td>\n",
       "      <td>-0.028179</td>\n",
       "    </tr>\n",
       "    <tr>\n",
       "      <th>32</th>\n",
       "      <td>Paclitaxel+Etoposide</td>\n",
       "      <td>5</td>\n",
       "      <td>0</td>\n",
       "      <td>0.043110</td>\n",
       "      <td>-0.090163</td>\n",
       "      <td>-0.080549</td>\n",
       "      <td>-0.042581</td>\n",
       "      <td>-0.144170</td>\n",
       "      <td>-0.093598</td>\n",
       "      <td>-0.071687</td>\n",
       "      <td>...</td>\n",
       "      <td>-0.114490</td>\n",
       "      <td>0.055488</td>\n",
       "      <td>0.052114</td>\n",
       "      <td>-0.099634</td>\n",
       "      <td>-0.103660</td>\n",
       "      <td>0.055488</td>\n",
       "      <td>0.076199</td>\n",
       "      <td>-0.045366</td>\n",
       "      <td>-0.074492</td>\n",
       "      <td>-0.039492</td>\n",
       "    </tr>\n",
       "    <tr>\n",
       "      <th>34</th>\n",
       "      <td>Paclitaxel+Etoposide</td>\n",
       "      <td>6</td>\n",
       "      <td>0</td>\n",
       "      <td>0.057868</td>\n",
       "      <td>-0.104500</td>\n",
       "      <td>-0.102610</td>\n",
       "      <td>-0.078861</td>\n",
       "      <td>-0.149870</td>\n",
       "      <td>-0.114420</td>\n",
       "      <td>-0.094823</td>\n",
       "      <td>...</td>\n",
       "      <td>-0.113110</td>\n",
       "      <td>0.031001</td>\n",
       "      <td>0.045994</td>\n",
       "      <td>-0.118610</td>\n",
       "      <td>-0.122750</td>\n",
       "      <td>0.031001</td>\n",
       "      <td>0.093492</td>\n",
       "      <td>0.064062</td>\n",
       "      <td>-0.044960</td>\n",
       "      <td>-0.042547</td>\n",
       "    </tr>\n",
       "    <tr>\n",
       "      <th>120</th>\n",
       "      <td>Etoposide+Paclitaxel</td>\n",
       "      <td>1</td>\n",
       "      <td>0</td>\n",
       "      <td>-0.910830</td>\n",
       "      <td>-0.166720</td>\n",
       "      <td>0.202730</td>\n",
       "      <td>-0.414020</td>\n",
       "      <td>-0.540290</td>\n",
       "      <td>-0.188250</td>\n",
       "      <td>0.238400</td>\n",
       "      <td>...</td>\n",
       "      <td>0.189530</td>\n",
       "      <td>0.130480</td>\n",
       "      <td>-0.187330</td>\n",
       "      <td>0.227110</td>\n",
       "      <td>0.188100</td>\n",
       "      <td>0.130480</td>\n",
       "      <td>-0.598840</td>\n",
       "      <td>-0.583670</td>\n",
       "      <td>-0.330530</td>\n",
       "      <td>0.301470</td>\n",
       "    </tr>\n",
       "    <tr>\n",
       "      <th>122</th>\n",
       "      <td>Etoposide+Paclitaxel</td>\n",
       "      <td>2</td>\n",
       "      <td>0</td>\n",
       "      <td>-0.895830</td>\n",
       "      <td>-0.230060</td>\n",
       "      <td>0.252850</td>\n",
       "      <td>-0.470060</td>\n",
       "      <td>-0.655500</td>\n",
       "      <td>-0.129290</td>\n",
       "      <td>0.293970</td>\n",
       "      <td>...</td>\n",
       "      <td>0.129360</td>\n",
       "      <td>0.117240</td>\n",
       "      <td>-0.235550</td>\n",
       "      <td>0.196490</td>\n",
       "      <td>0.164770</td>\n",
       "      <td>0.117240</td>\n",
       "      <td>-0.645820</td>\n",
       "      <td>-0.620480</td>\n",
       "      <td>-0.412910</td>\n",
       "      <td>0.307420</td>\n",
       "    </tr>\n",
       "    <tr>\n",
       "      <th>124</th>\n",
       "      <td>Etoposide+Paclitaxel</td>\n",
       "      <td>3</td>\n",
       "      <td>0</td>\n",
       "      <td>-0.705000</td>\n",
       "      <td>0.135700</td>\n",
       "      <td>0.130320</td>\n",
       "      <td>-0.037338</td>\n",
       "      <td>-0.151090</td>\n",
       "      <td>0.067174</td>\n",
       "      <td>0.146220</td>\n",
       "      <td>...</td>\n",
       "      <td>0.365420</td>\n",
       "      <td>0.139750</td>\n",
       "      <td>-0.168850</td>\n",
       "      <td>0.432800</td>\n",
       "      <td>0.414080</td>\n",
       "      <td>0.139750</td>\n",
       "      <td>-0.481120</td>\n",
       "      <td>-0.505930</td>\n",
       "      <td>-0.308280</td>\n",
       "      <td>0.218820</td>\n",
       "    </tr>\n",
       "    <tr>\n",
       "      <th>126</th>\n",
       "      <td>Etoposide+Paclitaxel</td>\n",
       "      <td>4</td>\n",
       "      <td>0</td>\n",
       "      <td>-0.314210</td>\n",
       "      <td>0.175200</td>\n",
       "      <td>0.227600</td>\n",
       "      <td>0.146660</td>\n",
       "      <td>0.210930</td>\n",
       "      <td>0.210660</td>\n",
       "      <td>0.229190</td>\n",
       "      <td>...</td>\n",
       "      <td>0.155060</td>\n",
       "      <td>0.141610</td>\n",
       "      <td>-0.055215</td>\n",
       "      <td>0.236660</td>\n",
       "      <td>0.224220</td>\n",
       "      <td>0.141610</td>\n",
       "      <td>-0.267610</td>\n",
       "      <td>-0.210790</td>\n",
       "      <td>-0.135070</td>\n",
       "      <td>0.049731</td>\n",
       "    </tr>\n",
       "    <tr>\n",
       "      <th>128</th>\n",
       "      <td>Etoposide+Paclitaxel</td>\n",
       "      <td>5</td>\n",
       "      <td>0</td>\n",
       "      <td>-0.130000</td>\n",
       "      <td>0.043242</td>\n",
       "      <td>0.075262</td>\n",
       "      <td>0.031502</td>\n",
       "      <td>0.038232</td>\n",
       "      <td>0.065658</td>\n",
       "      <td>0.078688</td>\n",
       "      <td>...</td>\n",
       "      <td>0.056659</td>\n",
       "      <td>0.039780</td>\n",
       "      <td>-0.052051</td>\n",
       "      <td>0.071490</td>\n",
       "      <td>0.052923</td>\n",
       "      <td>0.039780</td>\n",
       "      <td>-0.088770</td>\n",
       "      <td>-0.079971</td>\n",
       "      <td>-0.062762</td>\n",
       "      <td>0.045847</td>\n",
       "    </tr>\n",
       "    <tr>\n",
       "      <th>130</th>\n",
       "      <td>Etoposide+Paclitaxel</td>\n",
       "      <td>6</td>\n",
       "      <td>0</td>\n",
       "      <td>0.029293</td>\n",
       "      <td>-0.117490</td>\n",
       "      <td>-0.083081</td>\n",
       "      <td>-0.091122</td>\n",
       "      <td>-0.130900</td>\n",
       "      <td>-0.088090</td>\n",
       "      <td>-0.077341</td>\n",
       "      <td>...</td>\n",
       "      <td>-0.125970</td>\n",
       "      <td>0.038568</td>\n",
       "      <td>-0.038495</td>\n",
       "      <td>-0.110320</td>\n",
       "      <td>-0.128930</td>\n",
       "      <td>0.038568</td>\n",
       "      <td>0.064061</td>\n",
       "      <td>0.051796</td>\n",
       "      <td>-0.072779</td>\n",
       "      <td>-0.031396</td>\n",
       "    </tr>\n",
       "    <tr>\n",
       "      <th>144</th>\n",
       "      <td>Paclitaxel+Paclitaxel</td>\n",
       "      <td>1</td>\n",
       "      <td>0</td>\n",
       "      <td>-0.179440</td>\n",
       "      <td>-0.770340</td>\n",
       "      <td>-0.994600</td>\n",
       "      <td>-1.000000</td>\n",
       "      <td>-1.000000</td>\n",
       "      <td>-0.996910</td>\n",
       "      <td>-0.994600</td>\n",
       "      <td>...</td>\n",
       "      <td>-0.555650</td>\n",
       "      <td>-0.107810</td>\n",
       "      <td>0.514750</td>\n",
       "      <td>-0.607440</td>\n",
       "      <td>-0.560250</td>\n",
       "      <td>-0.107810</td>\n",
       "      <td>0.926880</td>\n",
       "      <td>0.897280</td>\n",
       "      <td>0.292470</td>\n",
       "      <td>-0.710490</td>\n",
       "    </tr>\n",
       "    <tr>\n",
       "      <th>146</th>\n",
       "      <td>Paclitaxel+Paclitaxel</td>\n",
       "      <td>2</td>\n",
       "      <td>0</td>\n",
       "      <td>-0.633330</td>\n",
       "      <td>0.206700</td>\n",
       "      <td>0.276340</td>\n",
       "      <td>0.101780</td>\n",
       "      <td>0.159960</td>\n",
       "      <td>0.266090</td>\n",
       "      <td>0.289310</td>\n",
       "      <td>...</td>\n",
       "      <td>0.264060</td>\n",
       "      <td>0.189130</td>\n",
       "      <td>-0.111990</td>\n",
       "      <td>0.432140</td>\n",
       "      <td>0.408620</td>\n",
       "      <td>0.189130</td>\n",
       "      <td>-0.526990</td>\n",
       "      <td>-0.536920</td>\n",
       "      <td>-0.264350</td>\n",
       "      <td>0.202900</td>\n",
       "    </tr>\n",
       "    <tr>\n",
       "      <th>148</th>\n",
       "      <td>Paclitaxel+Paclitaxel</td>\n",
       "      <td>3</td>\n",
       "      <td>0</td>\n",
       "      <td>-0.396670</td>\n",
       "      <td>0.248980</td>\n",
       "      <td>0.295240</td>\n",
       "      <td>0.058078</td>\n",
       "      <td>0.192110</td>\n",
       "      <td>0.257800</td>\n",
       "      <td>0.314420</td>\n",
       "      <td>...</td>\n",
       "      <td>0.279040</td>\n",
       "      <td>0.062320</td>\n",
       "      <td>-0.029420</td>\n",
       "      <td>0.312640</td>\n",
       "      <td>0.310790</td>\n",
       "      <td>0.062320</td>\n",
       "      <td>-0.282840</td>\n",
       "      <td>-0.212540</td>\n",
       "      <td>-0.098604</td>\n",
       "      <td>-0.058758</td>\n",
       "    </tr>\n",
       "    <tr>\n",
       "      <th>150</th>\n",
       "      <td>Paclitaxel+Paclitaxel</td>\n",
       "      <td>4</td>\n",
       "      <td>0</td>\n",
       "      <td>-0.283290</td>\n",
       "      <td>0.179160</td>\n",
       "      <td>0.288650</td>\n",
       "      <td>0.058358</td>\n",
       "      <td>0.208310</td>\n",
       "      <td>0.271520</td>\n",
       "      <td>0.289620</td>\n",
       "      <td>...</td>\n",
       "      <td>0.171220</td>\n",
       "      <td>0.089758</td>\n",
       "      <td>-0.064354</td>\n",
       "      <td>0.240610</td>\n",
       "      <td>0.211960</td>\n",
       "      <td>0.089758</td>\n",
       "      <td>-0.297460</td>\n",
       "      <td>-0.243660</td>\n",
       "      <td>-0.089818</td>\n",
       "      <td>0.056447</td>\n",
       "    </tr>\n",
       "    <tr>\n",
       "      <th>152</th>\n",
       "      <td>Paclitaxel+Paclitaxel</td>\n",
       "      <td>5</td>\n",
       "      <td>0</td>\n",
       "      <td>-0.135140</td>\n",
       "      <td>0.099324</td>\n",
       "      <td>0.161150</td>\n",
       "      <td>0.051553</td>\n",
       "      <td>0.124520</td>\n",
       "      <td>0.157800</td>\n",
       "      <td>0.167330</td>\n",
       "      <td>...</td>\n",
       "      <td>0.054351</td>\n",
       "      <td>0.042283</td>\n",
       "      <td>-0.036215</td>\n",
       "      <td>0.078029</td>\n",
       "      <td>0.080373</td>\n",
       "      <td>0.042283</td>\n",
       "      <td>-0.103520</td>\n",
       "      <td>-0.083648</td>\n",
       "      <td>-0.031527</td>\n",
       "      <td>0.024459</td>\n",
       "    </tr>\n",
       "    <tr>\n",
       "      <th>154</th>\n",
       "      <td>Paclitaxel+Paclitaxel</td>\n",
       "      <td>6</td>\n",
       "      <td>0</td>\n",
       "      <td>0.096605</td>\n",
       "      <td>-0.106950</td>\n",
       "      <td>-0.046998</td>\n",
       "      <td>-0.128410</td>\n",
       "      <td>-0.080332</td>\n",
       "      <td>-0.054753</td>\n",
       "      <td>-0.041251</td>\n",
       "      <td>...</td>\n",
       "      <td>-0.128490</td>\n",
       "      <td>0.034068</td>\n",
       "      <td>-0.046963</td>\n",
       "      <td>-0.132030</td>\n",
       "      <td>-0.136710</td>\n",
       "      <td>0.034068</td>\n",
       "      <td>0.078195</td>\n",
       "      <td>0.058961</td>\n",
       "      <td>-0.050500</td>\n",
       "      <td>-0.049458</td>\n",
       "    </tr>\n",
       "  </tbody>\n",
       "</table>\n",
       "<p>24 rows × 241 columns</p>\n",
       "</div>"
      ],
      "text/plain": [
       "                 drug_name  concentration  default       ks1       ks2  \\\n",
       "0      Etoposide+Etoposide              1        0 -0.915000 -0.309170   \n",
       "2      Etoposide+Etoposide              2        0 -0.827500 -0.185050   \n",
       "4      Etoposide+Etoposide              3        0 -0.590000  0.163430   \n",
       "6      Etoposide+Etoposide              4        0  0.055863 -0.089835   \n",
       "8      Etoposide+Etoposide              5        0  0.072606 -0.050656   \n",
       "10     Etoposide+Etoposide              6        0  0.051316 -0.086824   \n",
       "24    Paclitaxel+Etoposide              1        0 -0.643330 -0.845910   \n",
       "26    Paclitaxel+Etoposide              2        0 -0.567500  0.189400   \n",
       "28    Paclitaxel+Etoposide              3        0 -0.062500 -0.077576   \n",
       "30    Paclitaxel+Etoposide              4        0  0.087645 -0.073396   \n",
       "32    Paclitaxel+Etoposide              5        0  0.043110 -0.090163   \n",
       "34    Paclitaxel+Etoposide              6        0  0.057868 -0.104500   \n",
       "120   Etoposide+Paclitaxel              1        0 -0.910830 -0.166720   \n",
       "122   Etoposide+Paclitaxel              2        0 -0.895830 -0.230060   \n",
       "124   Etoposide+Paclitaxel              3        0 -0.705000  0.135700   \n",
       "126   Etoposide+Paclitaxel              4        0 -0.314210  0.175200   \n",
       "128   Etoposide+Paclitaxel              5        0 -0.130000  0.043242   \n",
       "130   Etoposide+Paclitaxel              6        0  0.029293 -0.117490   \n",
       "144  Paclitaxel+Paclitaxel              1        0 -0.179440 -0.770340   \n",
       "146  Paclitaxel+Paclitaxel              2        0 -0.633330  0.206700   \n",
       "148  Paclitaxel+Paclitaxel              3        0 -0.396670  0.248980   \n",
       "150  Paclitaxel+Paclitaxel              4        0 -0.283290  0.179160   \n",
       "152  Paclitaxel+Paclitaxel              5        0 -0.135140  0.099324   \n",
       "154  Paclitaxel+Paclitaxel              6        0  0.096605 -0.106950   \n",
       "\n",
       "          ks3       ks4       ks5       ks6       ks7  ...     ks229  \\\n",
       "0   -0.266390 -0.595000 -0.719440 -0.304440 -0.235280  ...  0.096111   \n",
       "2    0.225330 -0.530960 -0.628240 -0.191880  0.273000  ...  0.172830   \n",
       "4   -0.071733  0.036633  0.147570 -0.074267 -0.072833  ...  0.366530   \n",
       "6   -0.060518 -0.058003 -0.082102 -0.062598 -0.054715  ... -0.148370   \n",
       "8    0.029489 -0.074577 -0.041196 -0.023138  0.033754  ... -0.111160   \n",
       "10  -0.048019 -0.051763 -0.092343 -0.050676 -0.042838  ... -0.111460   \n",
       "24  -0.982080 -0.995000 -0.995580 -0.982080 -0.974200  ... -0.644390   \n",
       "26   0.260040  0.189290  0.164250  0.233990  0.273410  ...  0.204410   \n",
       "28  -0.061430  0.127530 -0.113590 -0.068394  0.052321  ... -0.051053   \n",
       "30   0.054754 -0.051970 -0.040780  0.034008  0.061768  ... -0.134110   \n",
       "32  -0.080549 -0.042581 -0.144170 -0.093598 -0.071687  ... -0.114490   \n",
       "34  -0.102610 -0.078861 -0.149870 -0.114420 -0.094823  ... -0.113110   \n",
       "120  0.202730 -0.414020 -0.540290 -0.188250  0.238400  ...  0.189530   \n",
       "122  0.252850 -0.470060 -0.655500 -0.129290  0.293970  ...  0.129360   \n",
       "124  0.130320 -0.037338 -0.151090  0.067174  0.146220  ...  0.365420   \n",
       "126  0.227600  0.146660  0.210930  0.210660  0.229190  ...  0.155060   \n",
       "128  0.075262  0.031502  0.038232  0.065658  0.078688  ...  0.056659   \n",
       "130 -0.083081 -0.091122 -0.130900 -0.088090 -0.077341  ... -0.125970   \n",
       "144 -0.994600 -1.000000 -1.000000 -0.996910 -0.994600  ... -0.555650   \n",
       "146  0.276340  0.101780  0.159960  0.266090  0.289310  ...  0.264060   \n",
       "148  0.295240  0.058078  0.192110  0.257800  0.314420  ...  0.279040   \n",
       "150  0.288650  0.058358  0.208310  0.271520  0.289620  ...  0.171220   \n",
       "152  0.161150  0.051553  0.124520  0.157800  0.167330  ...  0.054351   \n",
       "154 -0.046998 -0.128410 -0.080332 -0.054753 -0.041251  ... -0.128490   \n",
       "\n",
       "        ks230     ks231     ks232     ks233     ks234     ks235     ks236  \\\n",
       "0    0.273331 -0.259170  0.202780  0.171941  0.273332 -0.601110 -0.586391   \n",
       "2    0.209750 -0.334970  0.319720  0.240240  0.209750 -0.635440 -0.644490   \n",
       "4    0.210270 -0.213230  0.495230  0.458200  0.210270 -0.405370 -0.440270   \n",
       "6    0.056149 -0.052402 -0.114600 -0.130490  0.056149  0.083671  0.055863   \n",
       "8    0.032801  0.039006 -0.113550 -0.121610  0.032801  0.100530  0.067107   \n",
       "10   0.036606 -0.043273 -0.109670 -0.119730  0.036606  0.080060  0.045157   \n",
       "24  -0.207400  0.308410 -0.664290 -0.645160 -0.207400  0.479270  0.394290   \n",
       "26   0.313850 -0.262520  0.442070  0.378600  0.313850 -0.480640 -0.540500   \n",
       "28   0.048413 -0.061178 -0.037804 -0.027852  0.048413 -0.070725 -0.084126   \n",
       "30   0.024118  0.043218 -0.130790 -0.137150  0.024118  0.101820  0.072678   \n",
       "32   0.055488  0.052114 -0.099634 -0.103660  0.055488  0.076199 -0.045366   \n",
       "34   0.031001  0.045994 -0.118610 -0.122750  0.031001  0.093492  0.064062   \n",
       "120  0.130480 -0.187330  0.227110  0.188100  0.130480 -0.598840 -0.583670   \n",
       "122  0.117240 -0.235550  0.196490  0.164770  0.117240 -0.645820 -0.620480   \n",
       "124  0.139750 -0.168850  0.432800  0.414080  0.139750 -0.481120 -0.505930   \n",
       "126  0.141610 -0.055215  0.236660  0.224220  0.141610 -0.267610 -0.210790   \n",
       "128  0.039780 -0.052051  0.071490  0.052923  0.039780 -0.088770 -0.079971   \n",
       "130  0.038568 -0.038495 -0.110320 -0.128930  0.038568  0.064061  0.051796   \n",
       "144 -0.107810  0.514750 -0.607440 -0.560250 -0.107810  0.926880  0.897280   \n",
       "146  0.189130 -0.111990  0.432140  0.408620  0.189130 -0.526990 -0.536920   \n",
       "148  0.062320 -0.029420  0.312640  0.310790  0.062320 -0.282840 -0.212540   \n",
       "150  0.089758 -0.064354  0.240610  0.211960  0.089758 -0.297460 -0.243660   \n",
       "152  0.042283 -0.036215  0.078029  0.080373  0.042283 -0.103520 -0.083648   \n",
       "154  0.034068 -0.046963 -0.132030 -0.136710  0.034068  0.078195  0.058961   \n",
       "\n",
       "        ks237     ks238  \n",
       "0   -0.432780  0.321670  \n",
       "2   -0.349710  0.430350  \n",
       "4   -0.207970  0.249330  \n",
       "6   -0.075631  0.045953  \n",
       "8   -0.044104 -0.039664  \n",
       "10  -0.077717  0.024058  \n",
       "24  -0.083925 -0.203850  \n",
       "26  -0.291820  0.307820  \n",
       "28  -0.084403  0.051949  \n",
       "30  -0.068810 -0.028179  \n",
       "32  -0.074492 -0.039492  \n",
       "34  -0.044960 -0.042547  \n",
       "120 -0.330530  0.301470  \n",
       "122 -0.412910  0.307420  \n",
       "124 -0.308280  0.218820  \n",
       "126 -0.135070  0.049731  \n",
       "128 -0.062762  0.045847  \n",
       "130 -0.072779 -0.031396  \n",
       "144  0.292470 -0.710490  \n",
       "146 -0.264350  0.202900  \n",
       "148 -0.098604 -0.058758  \n",
       "150 -0.089818  0.056447  \n",
       "152 -0.031527  0.024459  \n",
       "154 -0.050500 -0.049458  \n",
       "\n",
       "[24 rows x 241 columns]"
      ]
     },
     "execution_count": 196,
     "metadata": {},
     "output_type": "execute_result"
    }
   ],
   "source": [
    "#we take etoposide and palitaxel out. \n",
    "df=pd.read_csv('drug_with_fields.csv')\n",
    "df1=df.loc[(df['drug_name'] =='Etoposide+Etoposide') ]\n",
    "df2=df.loc[(df['drug_name'] =='Paclitaxel+Paclitaxel') ]\n",
    "df3=df.loc[(df['drug_name'] =='Etoposide+Paclitaxel')]\n",
    "df4=df.loc[(df['drug_name'] =='Paclitaxel+Etoposide') ]\n",
    "\n",
    "frames = [df1, df4, df3,df2]\n",
    "\n",
    "e_and_p = pd.concat(frames)\n",
    "#etoposide and paclitaxel combination. \n",
    "e_and_p"
   ]
  },
  {
   "cell_type": "code",
   "execution_count": 197,
   "metadata": {},
   "outputs": [
    {
     "data": {
      "text/html": [
       "<div>\n",
       "<style scoped>\n",
       "    .dataframe tbody tr th:only-of-type {\n",
       "        vertical-align: middle;\n",
       "    }\n",
       "\n",
       "    .dataframe tbody tr th {\n",
       "        vertical-align: top;\n",
       "    }\n",
       "\n",
       "    .dataframe thead th {\n",
       "        text-align: right;\n",
       "    }\n",
       "</style>\n",
       "<table border=\"1\" class=\"dataframe\">\n",
       "  <thead>\n",
       "    <tr style=\"text-align: right;\">\n",
       "      <th></th>\n",
       "      <th>principal component 1</th>\n",
       "      <th>principal component 2</th>\n",
       "    </tr>\n",
       "  </thead>\n",
       "  <tbody>\n",
       "    <tr>\n",
       "      <th>0</th>\n",
       "      <td>15.703670</td>\n",
       "      <td>-0.135231</td>\n",
       "    </tr>\n",
       "    <tr>\n",
       "      <th>1</th>\n",
       "      <td>14.368484</td>\n",
       "      <td>-1.977902</td>\n",
       "    </tr>\n",
       "    <tr>\n",
       "      <th>2</th>\n",
       "      <td>11.312913</td>\n",
       "      <td>-4.894773</td>\n",
       "    </tr>\n",
       "    <tr>\n",
       "      <th>3</th>\n",
       "      <td>-10.941894</td>\n",
       "      <td>0.430644</td>\n",
       "    </tr>\n",
       "    <tr>\n",
       "      <th>4</th>\n",
       "      <td>-10.143674</td>\n",
       "      <td>0.069568</td>\n",
       "    </tr>\n",
       "    <tr>\n",
       "      <th>5</th>\n",
       "      <td>-10.106220</td>\n",
       "      <td>1.292853</td>\n",
       "    </tr>\n",
       "    <tr>\n",
       "      <th>6</th>\n",
       "      <td>3.747914</td>\n",
       "      <td>24.496624</td>\n",
       "    </tr>\n",
       "    <tr>\n",
       "      <th>7</th>\n",
       "      <td>4.414673</td>\n",
       "      <td>-7.209681</td>\n",
       "    </tr>\n",
       "    <tr>\n",
       "      <th>8</th>\n",
       "      <td>-7.604867</td>\n",
       "      <td>-0.721113</td>\n",
       "    </tr>\n",
       "    <tr>\n",
       "      <th>9</th>\n",
       "      <td>-11.411440</td>\n",
       "      <td>1.396808</td>\n",
       "    </tr>\n",
       "    <tr>\n",
       "      <th>10</th>\n",
       "      <td>-11.185839</td>\n",
       "      <td>1.196897</td>\n",
       "    </tr>\n",
       "    <tr>\n",
       "      <th>11</th>\n",
       "      <td>-11.353835</td>\n",
       "      <td>1.802870</td>\n",
       "    </tr>\n",
       "    <tr>\n",
       "      <th>12</th>\n",
       "      <td>14.560272</td>\n",
       "      <td>-1.205680</td>\n",
       "    </tr>\n",
       "    <tr>\n",
       "      <th>13</th>\n",
       "      <td>15.208122</td>\n",
       "      <td>-1.571133</td>\n",
       "    </tr>\n",
       "    <tr>\n",
       "      <th>14</th>\n",
       "      <td>11.737914</td>\n",
       "      <td>-5.286400</td>\n",
       "    </tr>\n",
       "    <tr>\n",
       "      <th>15</th>\n",
       "      <td>0.788460</td>\n",
       "      <td>-7.238406</td>\n",
       "    </tr>\n",
       "    <tr>\n",
       "      <th>16</th>\n",
       "      <td>-5.709724</td>\n",
       "      <td>-2.726970</td>\n",
       "    </tr>\n",
       "    <tr>\n",
       "      <th>17</th>\n",
       "      <td>-9.844127</td>\n",
       "      <td>2.309725</td>\n",
       "    </tr>\n",
       "    <tr>\n",
       "      <th>18</th>\n",
       "      <td>9.031611</td>\n",
       "      <td>27.388322</td>\n",
       "    </tr>\n",
       "    <tr>\n",
       "      <th>19</th>\n",
       "      <td>3.926978</td>\n",
       "      <td>-8.383954</td>\n",
       "    </tr>\n",
       "    <tr>\n",
       "      <th>20</th>\n",
       "      <td>0.995680</td>\n",
       "      <td>-9.042804</td>\n",
       "    </tr>\n",
       "    <tr>\n",
       "      <th>21</th>\n",
       "      <td>0.129941</td>\n",
       "      <td>-7.850063</td>\n",
       "    </tr>\n",
       "    <tr>\n",
       "      <th>22</th>\n",
       "      <td>-6.013625</td>\n",
       "      <td>-4.315675</td>\n",
       "    </tr>\n",
       "    <tr>\n",
       "      <th>23</th>\n",
       "      <td>-11.611387</td>\n",
       "      <td>2.175474</td>\n",
       "    </tr>\n",
       "  </tbody>\n",
       "</table>\n",
       "</div>"
      ],
      "text/plain": [
       "    principal component 1  principal component 2\n",
       "0               15.703670              -0.135231\n",
       "1               14.368484              -1.977902\n",
       "2               11.312913              -4.894773\n",
       "3              -10.941894               0.430644\n",
       "4              -10.143674               0.069568\n",
       "5              -10.106220               1.292853\n",
       "6                3.747914              24.496624\n",
       "7                4.414673              -7.209681\n",
       "8               -7.604867              -0.721113\n",
       "9              -11.411440               1.396808\n",
       "10             -11.185839               1.196897\n",
       "11             -11.353835               1.802870\n",
       "12              14.560272              -1.205680\n",
       "13              15.208122              -1.571133\n",
       "14              11.737914              -5.286400\n",
       "15               0.788460              -7.238406\n",
       "16              -5.709724              -2.726970\n",
       "17              -9.844127               2.309725\n",
       "18               9.031611              27.388322\n",
       "19               3.926978              -8.383954\n",
       "20               0.995680              -9.042804\n",
       "21               0.129941              -7.850063\n",
       "22              -6.013625              -4.315675\n",
       "23             -11.611387               2.175474"
      ]
     },
     "execution_count": 197,
     "metadata": {},
     "output_type": "execute_result"
    }
   ],
   "source": [
    "#a code block that is used to deal with the data using PCA models(dimensionality reduction)\n",
    "import pandas as pd\n",
    "import plotly.express as px\n",
    "from sklearn.decomposition import PCA\n",
    "from sklearn.preprocessing import StandardScaler\n",
    "\n",
    "X_drug = e_and_p.iloc[:, 3:240].values\n",
    "\n",
    "X_drug = StandardScaler().fit_transform(X_drug)\n",
    "\n",
    "pca_drug = PCA(n_components=2)\n",
    "components = pca_drug.fit_transform(X_drug)\n",
    "principalDf = pd.DataFrame(data = components\n",
    "             , columns = ['principal component 1', 'principal component 2'])\n",
    "principalDf\n"
   ]
  },
  {
   "cell_type": "code",
   "execution_count": 207,
   "metadata": {},
   "outputs": [
    {
     "data": {
      "application/vnd.plotly.v1+json": {
       "config": {
        "plotlyServerURL": "https://plot.ly"
       },
       "data": [
        {
         "hovertemplate": "0=%{x}<br>1=%{y}<br>color=%{marker.color}<extra></extra>",
         "legendgroup": "",
         "marker": {
          "color": [
           1,
           2,
           3,
           4,
           5,
           6,
           1,
           2,
           3,
           4,
           5,
           6,
           1,
           2,
           3,
           4,
           5,
           6,
           1,
           2,
           3,
           4,
           5,
           6
          ],
          "coloraxis": "coloraxis",
          "symbol": "circle"
         },
         "mode": "markers",
         "name": "",
         "orientation": "v",
         "showlegend": false,
         "type": "scatter",
         "x": [
          15.703670277275839,
          14.368484311598074,
          11.31291252183276,
          -10.941894096541487,
          -10.14367367482138,
          -10.106220303909703,
          3.747914082340892,
          4.41467336778334,
          -7.604867172915816,
          -11.411440236134785,
          -11.185838615219506,
          -11.353834669364279,
          14.560271620458272,
          15.208121822330734,
          11.737913733078498,
          0.7884595358545399,
          -5.709723829610336,
          -9.844126611257666,
          9.031611164244385,
          3.926977566011462,
          0.9956795785655889,
          0.12994080463846586,
          -6.01362463591215,
          -11.611386540325736
         ],
         "xaxis": "x",
         "y": [
          -0.13523120279120168,
          -1.9779021579250577,
          -4.894773107243567,
          0.43064441247700985,
          0.06956813155652945,
          1.2928528973580122,
          24.496623631807267,
          -7.209681450307914,
          -0.7211131360320383,
          1.3968082219176154,
          1.196897156520612,
          1.8028703905393149,
          -1.2056803360622041,
          -1.5711327487471138,
          -5.286399962710558,
          -7.238406288156605,
          -2.7269698431740412,
          2.3097248900171667,
          27.38832162843748,
          -8.383953648500787,
          -9.042804214947331,
          -7.850062595712865,
          -4.315674875308243,
          2.1754742069885133
         ],
         "yaxis": "y"
        }
       ],
       "layout": {
        "coloraxis": {
         "colorbar": {
          "title": {
           "text": "color"
          }
         },
         "colorscale": [
          [
           0,
           "#0d0887"
          ],
          [
           0.1111111111111111,
           "#46039f"
          ],
          [
           0.2222222222222222,
           "#7201a8"
          ],
          [
           0.3333333333333333,
           "#9c179e"
          ],
          [
           0.4444444444444444,
           "#bd3786"
          ],
          [
           0.5555555555555556,
           "#d8576b"
          ],
          [
           0.6666666666666666,
           "#ed7953"
          ],
          [
           0.7777777777777778,
           "#fb9f3a"
          ],
          [
           0.8888888888888888,
           "#fdca26"
          ],
          [
           1,
           "#f0f921"
          ]
         ]
        },
        "legend": {
         "tracegroupgap": 0
        },
        "margin": {
         "t": 60
        },
        "template": {
         "data": {
          "bar": [
           {
            "error_x": {
             "color": "#2a3f5f"
            },
            "error_y": {
             "color": "#2a3f5f"
            },
            "marker": {
             "line": {
              "color": "#E5ECF6",
              "width": 0.5
             },
             "pattern": {
              "fillmode": "overlay",
              "size": 10,
              "solidity": 0.2
             }
            },
            "type": "bar"
           }
          ],
          "barpolar": [
           {
            "marker": {
             "line": {
              "color": "#E5ECF6",
              "width": 0.5
             },
             "pattern": {
              "fillmode": "overlay",
              "size": 10,
              "solidity": 0.2
             }
            },
            "type": "barpolar"
           }
          ],
          "carpet": [
           {
            "aaxis": {
             "endlinecolor": "#2a3f5f",
             "gridcolor": "white",
             "linecolor": "white",
             "minorgridcolor": "white",
             "startlinecolor": "#2a3f5f"
            },
            "baxis": {
             "endlinecolor": "#2a3f5f",
             "gridcolor": "white",
             "linecolor": "white",
             "minorgridcolor": "white",
             "startlinecolor": "#2a3f5f"
            },
            "type": "carpet"
           }
          ],
          "choropleth": [
           {
            "colorbar": {
             "outlinewidth": 0,
             "ticks": ""
            },
            "type": "choropleth"
           }
          ],
          "contour": [
           {
            "colorbar": {
             "outlinewidth": 0,
             "ticks": ""
            },
            "colorscale": [
             [
              0,
              "#0d0887"
             ],
             [
              0.1111111111111111,
              "#46039f"
             ],
             [
              0.2222222222222222,
              "#7201a8"
             ],
             [
              0.3333333333333333,
              "#9c179e"
             ],
             [
              0.4444444444444444,
              "#bd3786"
             ],
             [
              0.5555555555555556,
              "#d8576b"
             ],
             [
              0.6666666666666666,
              "#ed7953"
             ],
             [
              0.7777777777777778,
              "#fb9f3a"
             ],
             [
              0.8888888888888888,
              "#fdca26"
             ],
             [
              1,
              "#f0f921"
             ]
            ],
            "type": "contour"
           }
          ],
          "contourcarpet": [
           {
            "colorbar": {
             "outlinewidth": 0,
             "ticks": ""
            },
            "type": "contourcarpet"
           }
          ],
          "heatmap": [
           {
            "colorbar": {
             "outlinewidth": 0,
             "ticks": ""
            },
            "colorscale": [
             [
              0,
              "#0d0887"
             ],
             [
              0.1111111111111111,
              "#46039f"
             ],
             [
              0.2222222222222222,
              "#7201a8"
             ],
             [
              0.3333333333333333,
              "#9c179e"
             ],
             [
              0.4444444444444444,
              "#bd3786"
             ],
             [
              0.5555555555555556,
              "#d8576b"
             ],
             [
              0.6666666666666666,
              "#ed7953"
             ],
             [
              0.7777777777777778,
              "#fb9f3a"
             ],
             [
              0.8888888888888888,
              "#fdca26"
             ],
             [
              1,
              "#f0f921"
             ]
            ],
            "type": "heatmap"
           }
          ],
          "heatmapgl": [
           {
            "colorbar": {
             "outlinewidth": 0,
             "ticks": ""
            },
            "colorscale": [
             [
              0,
              "#0d0887"
             ],
             [
              0.1111111111111111,
              "#46039f"
             ],
             [
              0.2222222222222222,
              "#7201a8"
             ],
             [
              0.3333333333333333,
              "#9c179e"
             ],
             [
              0.4444444444444444,
              "#bd3786"
             ],
             [
              0.5555555555555556,
              "#d8576b"
             ],
             [
              0.6666666666666666,
              "#ed7953"
             ],
             [
              0.7777777777777778,
              "#fb9f3a"
             ],
             [
              0.8888888888888888,
              "#fdca26"
             ],
             [
              1,
              "#f0f921"
             ]
            ],
            "type": "heatmapgl"
           }
          ],
          "histogram": [
           {
            "marker": {
             "pattern": {
              "fillmode": "overlay",
              "size": 10,
              "solidity": 0.2
             }
            },
            "type": "histogram"
           }
          ],
          "histogram2d": [
           {
            "colorbar": {
             "outlinewidth": 0,
             "ticks": ""
            },
            "colorscale": [
             [
              0,
              "#0d0887"
             ],
             [
              0.1111111111111111,
              "#46039f"
             ],
             [
              0.2222222222222222,
              "#7201a8"
             ],
             [
              0.3333333333333333,
              "#9c179e"
             ],
             [
              0.4444444444444444,
              "#bd3786"
             ],
             [
              0.5555555555555556,
              "#d8576b"
             ],
             [
              0.6666666666666666,
              "#ed7953"
             ],
             [
              0.7777777777777778,
              "#fb9f3a"
             ],
             [
              0.8888888888888888,
              "#fdca26"
             ],
             [
              1,
              "#f0f921"
             ]
            ],
            "type": "histogram2d"
           }
          ],
          "histogram2dcontour": [
           {
            "colorbar": {
             "outlinewidth": 0,
             "ticks": ""
            },
            "colorscale": [
             [
              0,
              "#0d0887"
             ],
             [
              0.1111111111111111,
              "#46039f"
             ],
             [
              0.2222222222222222,
              "#7201a8"
             ],
             [
              0.3333333333333333,
              "#9c179e"
             ],
             [
              0.4444444444444444,
              "#bd3786"
             ],
             [
              0.5555555555555556,
              "#d8576b"
             ],
             [
              0.6666666666666666,
              "#ed7953"
             ],
             [
              0.7777777777777778,
              "#fb9f3a"
             ],
             [
              0.8888888888888888,
              "#fdca26"
             ],
             [
              1,
              "#f0f921"
             ]
            ],
            "type": "histogram2dcontour"
           }
          ],
          "mesh3d": [
           {
            "colorbar": {
             "outlinewidth": 0,
             "ticks": ""
            },
            "type": "mesh3d"
           }
          ],
          "parcoords": [
           {
            "line": {
             "colorbar": {
              "outlinewidth": 0,
              "ticks": ""
             }
            },
            "type": "parcoords"
           }
          ],
          "pie": [
           {
            "automargin": true,
            "type": "pie"
           }
          ],
          "scatter": [
           {
            "fillpattern": {
             "fillmode": "overlay",
             "size": 10,
             "solidity": 0.2
            },
            "type": "scatter"
           }
          ],
          "scatter3d": [
           {
            "line": {
             "colorbar": {
              "outlinewidth": 0,
              "ticks": ""
             }
            },
            "marker": {
             "colorbar": {
              "outlinewidth": 0,
              "ticks": ""
             }
            },
            "type": "scatter3d"
           }
          ],
          "scattercarpet": [
           {
            "marker": {
             "colorbar": {
              "outlinewidth": 0,
              "ticks": ""
             }
            },
            "type": "scattercarpet"
           }
          ],
          "scattergeo": [
           {
            "marker": {
             "colorbar": {
              "outlinewidth": 0,
              "ticks": ""
             }
            },
            "type": "scattergeo"
           }
          ],
          "scattergl": [
           {
            "marker": {
             "colorbar": {
              "outlinewidth": 0,
              "ticks": ""
             }
            },
            "type": "scattergl"
           }
          ],
          "scattermapbox": [
           {
            "marker": {
             "colorbar": {
              "outlinewidth": 0,
              "ticks": ""
             }
            },
            "type": "scattermapbox"
           }
          ],
          "scatterpolar": [
           {
            "marker": {
             "colorbar": {
              "outlinewidth": 0,
              "ticks": ""
             }
            },
            "type": "scatterpolar"
           }
          ],
          "scatterpolargl": [
           {
            "marker": {
             "colorbar": {
              "outlinewidth": 0,
              "ticks": ""
             }
            },
            "type": "scatterpolargl"
           }
          ],
          "scatterternary": [
           {
            "marker": {
             "colorbar": {
              "outlinewidth": 0,
              "ticks": ""
             }
            },
            "type": "scatterternary"
           }
          ],
          "surface": [
           {
            "colorbar": {
             "outlinewidth": 0,
             "ticks": ""
            },
            "colorscale": [
             [
              0,
              "#0d0887"
             ],
             [
              0.1111111111111111,
              "#46039f"
             ],
             [
              0.2222222222222222,
              "#7201a8"
             ],
             [
              0.3333333333333333,
              "#9c179e"
             ],
             [
              0.4444444444444444,
              "#bd3786"
             ],
             [
              0.5555555555555556,
              "#d8576b"
             ],
             [
              0.6666666666666666,
              "#ed7953"
             ],
             [
              0.7777777777777778,
              "#fb9f3a"
             ],
             [
              0.8888888888888888,
              "#fdca26"
             ],
             [
              1,
              "#f0f921"
             ]
            ],
            "type": "surface"
           }
          ],
          "table": [
           {
            "cells": {
             "fill": {
              "color": "#EBF0F8"
             },
             "line": {
              "color": "white"
             }
            },
            "header": {
             "fill": {
              "color": "#C8D4E3"
             },
             "line": {
              "color": "white"
             }
            },
            "type": "table"
           }
          ]
         },
         "layout": {
          "annotationdefaults": {
           "arrowcolor": "#2a3f5f",
           "arrowhead": 0,
           "arrowwidth": 1
          },
          "autotypenumbers": "strict",
          "coloraxis": {
           "colorbar": {
            "outlinewidth": 0,
            "ticks": ""
           }
          },
          "colorscale": {
           "diverging": [
            [
             0,
             "#8e0152"
            ],
            [
             0.1,
             "#c51b7d"
            ],
            [
             0.2,
             "#de77ae"
            ],
            [
             0.3,
             "#f1b6da"
            ],
            [
             0.4,
             "#fde0ef"
            ],
            [
             0.5,
             "#f7f7f7"
            ],
            [
             0.6,
             "#e6f5d0"
            ],
            [
             0.7,
             "#b8e186"
            ],
            [
             0.8,
             "#7fbc41"
            ],
            [
             0.9,
             "#4d9221"
            ],
            [
             1,
             "#276419"
            ]
           ],
           "sequential": [
            [
             0,
             "#0d0887"
            ],
            [
             0.1111111111111111,
             "#46039f"
            ],
            [
             0.2222222222222222,
             "#7201a8"
            ],
            [
             0.3333333333333333,
             "#9c179e"
            ],
            [
             0.4444444444444444,
             "#bd3786"
            ],
            [
             0.5555555555555556,
             "#d8576b"
            ],
            [
             0.6666666666666666,
             "#ed7953"
            ],
            [
             0.7777777777777778,
             "#fb9f3a"
            ],
            [
             0.8888888888888888,
             "#fdca26"
            ],
            [
             1,
             "#f0f921"
            ]
           ],
           "sequentialminus": [
            [
             0,
             "#0d0887"
            ],
            [
             0.1111111111111111,
             "#46039f"
            ],
            [
             0.2222222222222222,
             "#7201a8"
            ],
            [
             0.3333333333333333,
             "#9c179e"
            ],
            [
             0.4444444444444444,
             "#bd3786"
            ],
            [
             0.5555555555555556,
             "#d8576b"
            ],
            [
             0.6666666666666666,
             "#ed7953"
            ],
            [
             0.7777777777777778,
             "#fb9f3a"
            ],
            [
             0.8888888888888888,
             "#fdca26"
            ],
            [
             1,
             "#f0f921"
            ]
           ]
          },
          "colorway": [
           "#636efa",
           "#EF553B",
           "#00cc96",
           "#ab63fa",
           "#FFA15A",
           "#19d3f3",
           "#FF6692",
           "#B6E880",
           "#FF97FF",
           "#FECB52"
          ],
          "font": {
           "color": "#2a3f5f"
          },
          "geo": {
           "bgcolor": "white",
           "lakecolor": "white",
           "landcolor": "#E5ECF6",
           "showlakes": true,
           "showland": true,
           "subunitcolor": "white"
          },
          "hoverlabel": {
           "align": "left"
          },
          "hovermode": "closest",
          "mapbox": {
           "style": "light"
          },
          "paper_bgcolor": "white",
          "plot_bgcolor": "#E5ECF6",
          "polar": {
           "angularaxis": {
            "gridcolor": "white",
            "linecolor": "white",
            "ticks": ""
           },
           "bgcolor": "#E5ECF6",
           "radialaxis": {
            "gridcolor": "white",
            "linecolor": "white",
            "ticks": ""
           }
          },
          "scene": {
           "xaxis": {
            "backgroundcolor": "#E5ECF6",
            "gridcolor": "white",
            "gridwidth": 2,
            "linecolor": "white",
            "showbackground": true,
            "ticks": "",
            "zerolinecolor": "white"
           },
           "yaxis": {
            "backgroundcolor": "#E5ECF6",
            "gridcolor": "white",
            "gridwidth": 2,
            "linecolor": "white",
            "showbackground": true,
            "ticks": "",
            "zerolinecolor": "white"
           },
           "zaxis": {
            "backgroundcolor": "#E5ECF6",
            "gridcolor": "white",
            "gridwidth": 2,
            "linecolor": "white",
            "showbackground": true,
            "ticks": "",
            "zerolinecolor": "white"
           }
          },
          "shapedefaults": {
           "line": {
            "color": "#2a3f5f"
           }
          },
          "ternary": {
           "aaxis": {
            "gridcolor": "white",
            "linecolor": "white",
            "ticks": ""
           },
           "baxis": {
            "gridcolor": "white",
            "linecolor": "white",
            "ticks": ""
           },
           "bgcolor": "#E5ECF6",
           "caxis": {
            "gridcolor": "white",
            "linecolor": "white",
            "ticks": ""
           }
          },
          "title": {
           "x": 0.05
          },
          "xaxis": {
           "automargin": true,
           "gridcolor": "white",
           "linecolor": "white",
           "ticks": "",
           "title": {
            "standoff": 15
           },
           "zerolinecolor": "white",
           "zerolinewidth": 2
          },
          "yaxis": {
           "automargin": true,
           "gridcolor": "white",
           "linecolor": "white",
           "ticks": "",
           "title": {
            "standoff": 15
           },
           "zerolinecolor": "white",
           "zerolinewidth": 2
          }
         }
        },
        "xaxis": {
         "anchor": "y",
         "domain": [
          0,
          1
         ],
         "title": {
          "text": "0"
         }
        },
        "yaxis": {
         "anchor": "x",
         "domain": [
          0,
          1
         ],
         "title": {
          "text": "1"
         }
        }
       }
      }
     },
     "metadata": {},
     "output_type": "display_data"
    }
   ],
   "source": [
    "#visualization\n",
    "#pca model\n",
    "import pandas as pd\n",
    "import plotly.express as px\n",
    "from sklearn.decomposition import PCA\n",
    "from sklearn.preprocessing import StandardScaler\n",
    "\n",
    "\n",
    "X_drug = e_and_p.iloc[:, 3:240].values\n",
    "\n",
    "X_drug = StandardScaler().fit_transform(X_drug)\n",
    "\n",
    "pca_drug = PCA(n_components=2)\n",
    "components = pca_drug.fit_transform(X_drug)\n",
    "\n",
    "\n",
    "\n",
    "fig = px.scatter(components, x=0, y=1, color=e_and_p['concentration'])\n",
    "fig.show()"
   ]
  },
  {
   "cell_type": "code",
   "execution_count": 198,
   "metadata": {},
   "outputs": [
    {
     "data": {
      "text/plain": [
       "6"
      ]
     },
     "execution_count": 198,
     "metadata": {},
     "output_type": "execute_result"
    }
   ],
   "source": [
    "#debug: could not convert string to float\n",
    "len('-0.915')"
   ]
  },
  {
   "cell_type": "code",
   "execution_count": 199,
   "metadata": {},
   "outputs": [],
   "source": [
    "#computing centroids"
   ]
  },
  {
   "cell_type": "code",
   "execution_count": 200,
   "metadata": {},
   "outputs": [],
   "source": [
    "#calculating distances between centroids"
   ]
  },
  {
   "cell_type": "code",
   "execution_count": 201,
   "metadata": {},
   "outputs": [],
   "source": [
    "#doing knn "
   ]
  },
  {
   "cell_type": "code",
   "execution_count": 202,
   "metadata": {},
   "outputs": [],
   "source": [
    "#find similar drug response"
   ]
  },
  {
   "cell_type": "code",
   "execution_count": 203,
   "metadata": {},
   "outputs": [
    {
     "data": {
      "text/plain": [
       "'0.273331'"
      ]
     },
     "execution_count": 203,
     "metadata": {},
     "output_type": "execute_result"
    }
   ],
   "source": [
    "#test a function\n",
    "def remove_extradots(string):\n",
    "    counter=0\n",
    "    lst=[]\n",
    "    for i in range(len(string)):\n",
    "        if string[i]=='.' and counter<1 :\n",
    "            lst.append(string[i])\n",
    "            counter+=1\n",
    "        elif string[i]!='.':\n",
    "            lst.append(string[i])\n",
    "    res=\"\".join(lst)\n",
    "    return res\n",
    "remove_extradots('-0.514..1')\n",
    "\n",
    "remove_extradots('0.27333.1')"
   ]
  }
 ],
 "metadata": {
  "kernelspec": {
   "display_name": "Python 3.8.5 ('base')",
   "language": "python",
   "name": "python3"
  },
  "language_info": {
   "codemirror_mode": {
    "name": "ipython",
    "version": 3
   },
   "file_extension": ".py",
   "mimetype": "text/x-python",
   "name": "python",
   "nbconvert_exporter": "python",
   "pygments_lexer": "ipython3",
   "version": "3.8.5"
  },
  "vscode": {
   "interpreter": {
    "hash": "40d3a090f54c6569ab1632332b64b2c03c39dcf918b08424e98f38b5ae0af88f"
   }
  }
 },
 "nbformat": 4,
 "nbformat_minor": 4
}

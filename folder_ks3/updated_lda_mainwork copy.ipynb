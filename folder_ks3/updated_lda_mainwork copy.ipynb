{
 "cells": [
  {
   "cell_type": "code",
   "execution_count": 1,
   "metadata": {},
   "outputs": [],
   "source": [
    "#a code block that deals with concentration and drug names\n",
    "#we do not use this block for now.\n",
    "\n",
    "import pandas as pd\n",
    "f1 = pd.read_csv('B.csv')\n",
    "f2 = pd.read_csv('C.csv')\n",
    "f3=pd.read_csv('D.csv')\n",
    "f4=pd.read_csv('E.csv')\n",
    "f5=pd.read_csv('A_ks3.csv')\n",
    "file = [f1,f2,f3,f5]\n",
    "train = pd.concat(file,axis=1)\n",
    "train.to_csv(\"train.csv\", index=0, sep=',')\n"
   ]
  },
  {
   "cell_type": "code",
   "execution_count": 2,
   "metadata": {},
   "outputs": [
    {
     "name": "stdout",
     "output_type": "stream",
     "text": [
      "-0.294442\n"
     ]
    }
   ],
   "source": [
    "#do some further processing with \"A\" because there are some data error in it\n",
    "def remove_extradots(string):\n",
    "    counter=0\n",
    "    lst=[]\n",
    "    for i in range(len(string)):\n",
    "        if string[i]=='.' and counter<1 :\n",
    "            lst.append(string[i])\n",
    "            counter+=1\n",
    "        elif string[i]!='.':\n",
    "            lst.append(string[i])\n",
    "    res=\"\".join(lst)\n",
    "    return res\n",
    "\n",
    "\n",
    "\n",
    "import csv\n",
    "res_list=[]\n",
    "print(remove_extradots(\"-0.29444.2\"))\n",
    "with open('A_ks3.csv') as file2:\n",
    "    reader=csv.reader(file2)\n",
    "\n",
    "    for row in reader:\n",
    "        data=[]\n",
    "        for i in range(len(row)):\n",
    "            \n",
    "            data.append(remove_extradots(row[i]))\n",
    "        res_list.append(data)\n",
    "    \n",
    "\n",
    "\n",
    "with open('modified_A.csv', 'w') as file3:\n",
    "    writer = csv.writer(file3)\n",
    "    writer.writerows(res_list)\n",
    "file3.close()\n",
    "                \n"
   ]
  },
  {
   "cell_type": "code",
   "execution_count": 3,
   "metadata": {},
   "outputs": [
    {
     "data": {
      "text/plain": [
       "(767, 239)"
      ]
     },
     "execution_count": 3,
     "metadata": {},
     "output_type": "execute_result"
    }
   ],
   "source": [
    "#test file A\n",
    "import pandas as pd\n",
    "df_A=pd.read_csv(\"A_ks3.csv\")\n",
    "df_A.shape\n",
    "#df_A2=pd.read_csv(\"A_modified.csv\")\n",
    "#df_A2.shape\n"
   ]
  },
  {
   "cell_type": "code",
   "execution_count": 4,
   "metadata": {},
   "outputs": [],
   "source": [
    "#a block that is used to concate the drug names(drug combinations and related concentration)\n",
    "\n",
    "import csv\n",
    "res_list=[]\n",
    "with open('train.csv', 'r') as file:\n",
    "    reader = csv.reader(file)\n",
    "    \n",
    "    for row in reader:\n",
    "        data=[]\n",
    "        data.append(row[0]+'+'+row[1]+\"+\"+row[2])\n",
    "        res_list.append(data)\n",
    "\n",
    "        \n",
    "        \n",
    "with open('concatenated.csv', 'w') as file2:\n",
    "    writer = csv.writer(file2)\n",
    "    writer.writerows(res_list)"
   ]
  },
  {
   "cell_type": "code",
   "execution_count": 5,
   "metadata": {},
   "outputs": [],
   "source": [
    "#a block that is used to concate concentration and ks numbers.\n",
    "import pandas as pd\n",
    "f1 = pd.read_csv('concatenated.csv')\n",
    "#f2 = pd.read_csv('C.csv')\n",
    "f3=pd.read_csv('D.csv')\n",
    "f4=pd.read_csv('E.csv')\n",
    "f5=pd.read_csv('modified_A.csv')\n",
    "file = [f1,f5]\n",
    "train = pd.concat(file,axis=1)\n",
    "train.to_csv(\"train3.csv\", index=0, sep=',')"
   ]
  },
  {
   "cell_type": "code",
   "execution_count": 6,
   "metadata": {},
   "outputs": [],
   "source": [
    "#a block that sets the fields for the drug data\n",
    "import csv\n",
    "fields=['drug_name','default']\n",
    "for i in range(1,239):\n",
    "    fields.append('ks'+str(i))\n",
    "rows=[]\n",
    "with open('train3.csv', 'r') as file:\n",
    "    reader = csv.reader(file)\n",
    "    \n",
    "    for row in reader:\n",
    "        rows.append(row)\n",
    "\n",
    "        \n",
    "        \n",
    "with open('drug_withfields2.csv', 'w') as file2:\n",
    "    writer = csv.writer(file2)\n",
    "    writer.writerow(fields)\n",
    "    writer.writerows(rows)"
   ]
  },
  {
   "cell_type": "code",
   "execution_count": 7,
   "metadata": {},
   "outputs": [
    {
     "name": "stdout",
     "output_type": "stream",
     "text": [
      "-0.294442\n"
     ]
    }
   ],
   "source": [
    "#do some further processing with \"drug_withfields\" because there are still some data error in it\n",
    "def remove_extradots(string):\n",
    "    counter=0\n",
    "    lst=[]\n",
    "    for i in range(len(string)):\n",
    "        if string[i]=='.' and counter<1 :\n",
    "            lst.append(string[i])\n",
    "            counter+=1\n",
    "        elif string[i]!='.':\n",
    "            lst.append(string[i])\n",
    "    res=\"\".join(lst)\n",
    "    return res\n",
    "\n",
    "\n",
    "\n",
    "import csv\n",
    "res_list=[]\n",
    "print(remove_extradots(\"-0.29444.2\"))\n",
    "with open('drug_withfields2.csv') as file2:\n",
    "    reader=csv.reader(file2)\n",
    "\n",
    "    for row in reader:\n",
    "        data=[]\n",
    "        for i in range(len(row)):\n",
    "            \n",
    "            data.append(remove_extradots(row[i]))\n",
    "        res_list.append(data)\n",
    "    \n",
    "\n",
    "\n",
    "with open('drug_with_fields.csv', 'w') as file3:\n",
    "    writer = csv.writer(file3)\n",
    "    writer.writerows(res_list)\n",
    "file3.close()\n",
    "                "
   ]
  },
  {
   "cell_type": "code",
   "execution_count": 8,
   "metadata": {},
   "outputs": [
    {
     "data": {
      "text/html": [
       "<div>\n",
       "<style scoped>\n",
       "    .dataframe tbody tr th:only-of-type {\n",
       "        vertical-align: middle;\n",
       "    }\n",
       "\n",
       "    .dataframe tbody tr th {\n",
       "        vertical-align: top;\n",
       "    }\n",
       "\n",
       "    .dataframe thead th {\n",
       "        text-align: right;\n",
       "    }\n",
       "</style>\n",
       "<table border=\"1\" class=\"dataframe\">\n",
       "  <thead>\n",
       "    <tr style=\"text-align: right;\">\n",
       "      <th></th>\n",
       "      <th>drug_name</th>\n",
       "      <th>default</th>\n",
       "      <th>ks1</th>\n",
       "      <th>ks2</th>\n",
       "      <th>ks3</th>\n",
       "      <th>ks4</th>\n",
       "      <th>ks5</th>\n",
       "      <th>ks6</th>\n",
       "      <th>ks7</th>\n",
       "      <th>ks8</th>\n",
       "      <th>...</th>\n",
       "      <th>ks229</th>\n",
       "      <th>ks230</th>\n",
       "      <th>ks231</th>\n",
       "      <th>ks232</th>\n",
       "      <th>ks233</th>\n",
       "      <th>ks234</th>\n",
       "      <th>ks235</th>\n",
       "      <th>ks236</th>\n",
       "      <th>ks237</th>\n",
       "      <th>ks238</th>\n",
       "    </tr>\n",
       "  </thead>\n",
       "  <tbody>\n",
       "    <tr>\n",
       "      <th>12</th>\n",
       "      <td>Etoposide+Gemcitabine+1</td>\n",
       "      <td>0</td>\n",
       "      <td>-0.639170</td>\n",
       "      <td>-0.144250</td>\n",
       "      <td>0.148430</td>\n",
       "      <td>-0.206640</td>\n",
       "      <td>-0.365490</td>\n",
       "      <td>-0.116250</td>\n",
       "      <td>0.160770</td>\n",
       "      <td>0.205180</td>\n",
       "      <td>...</td>\n",
       "      <td>0.247910</td>\n",
       "      <td>0.142580</td>\n",
       "      <td>-0.400640</td>\n",
       "      <td>0.383250</td>\n",
       "      <td>0.333460</td>\n",
       "      <td>0.142580</td>\n",
       "      <td>-0.582600</td>\n",
       "      <td>-0.645280</td>\n",
       "      <td>-0.255230</td>\n",
       "      <td>0.406690</td>\n",
       "    </tr>\n",
       "    <tr>\n",
       "      <th>14</th>\n",
       "      <td>Etoposide+Gemcitabine+2</td>\n",
       "      <td>0</td>\n",
       "      <td>-0.565830</td>\n",
       "      <td>-0.148970</td>\n",
       "      <td>-0.173080</td>\n",
       "      <td>-0.251080</td>\n",
       "      <td>-0.377400</td>\n",
       "      <td>-0.185960</td>\n",
       "      <td>-0.166540</td>\n",
       "      <td>-0.149940</td>\n",
       "      <td>...</td>\n",
       "      <td>0.235990</td>\n",
       "      <td>0.189400</td>\n",
       "      <td>-0.425990</td>\n",
       "      <td>0.397740</td>\n",
       "      <td>0.312770</td>\n",
       "      <td>0.189400</td>\n",
       "      <td>-0.506840</td>\n",
       "      <td>-0.601820</td>\n",
       "      <td>-0.194810</td>\n",
       "      <td>0.441380</td>\n",
       "    </tr>\n",
       "    <tr>\n",
       "      <th>16</th>\n",
       "      <td>Etoposide+Gemcitabine+3</td>\n",
       "      <td>0</td>\n",
       "      <td>-0.535830</td>\n",
       "      <td>0.097875</td>\n",
       "      <td>-0.143150</td>\n",
       "      <td>-0.098313</td>\n",
       "      <td>-0.125500</td>\n",
       "      <td>-0.143980</td>\n",
       "      <td>-0.158160</td>\n",
       "      <td>-0.148350</td>\n",
       "      <td>...</td>\n",
       "      <td>0.278330</td>\n",
       "      <td>0.256040</td>\n",
       "      <td>-0.286360</td>\n",
       "      <td>0.501470</td>\n",
       "      <td>0.430570</td>\n",
       "      <td>0.256040</td>\n",
       "      <td>-0.341480</td>\n",
       "      <td>-0.440620</td>\n",
       "      <td>-0.227430</td>\n",
       "      <td>0.318870</td>\n",
       "    </tr>\n",
       "    <tr>\n",
       "      <th>18</th>\n",
       "      <td>Etoposide+Gemcitabine+4</td>\n",
       "      <td>0</td>\n",
       "      <td>-0.459460</td>\n",
       "      <td>0.090733</td>\n",
       "      <td>-0.140140</td>\n",
       "      <td>-0.069508</td>\n",
       "      <td>-0.167160</td>\n",
       "      <td>-0.150810</td>\n",
       "      <td>-0.136360</td>\n",
       "      <td>-0.125550</td>\n",
       "      <td>...</td>\n",
       "      <td>0.233550</td>\n",
       "      <td>0.226280</td>\n",
       "      <td>-0.173630</td>\n",
       "      <td>0.437650</td>\n",
       "      <td>0.405720</td>\n",
       "      <td>0.226280</td>\n",
       "      <td>-0.291770</td>\n",
       "      <td>-0.360490</td>\n",
       "      <td>-0.117630</td>\n",
       "      <td>0.212030</td>\n",
       "    </tr>\n",
       "    <tr>\n",
       "      <th>20</th>\n",
       "      <td>Etoposide+Gemcitabine+5</td>\n",
       "      <td>0</td>\n",
       "      <td>-0.098333</td>\n",
       "      <td>-0.079680</td>\n",
       "      <td>-0.120000</td>\n",
       "      <td>-0.084225</td>\n",
       "      <td>-0.170440</td>\n",
       "      <td>-0.116250</td>\n",
       "      <td>-0.111180</td>\n",
       "      <td>-0.106920</td>\n",
       "      <td>...</td>\n",
       "      <td>0.057003</td>\n",
       "      <td>0.043050</td>\n",
       "      <td>-0.099577</td>\n",
       "      <td>0.082478</td>\n",
       "      <td>0.064693</td>\n",
       "      <td>0.043050</td>\n",
       "      <td>-0.115180</td>\n",
       "      <td>-0.164870</td>\n",
       "      <td>-0.083051</td>\n",
       "      <td>0.098872</td>\n",
       "    </tr>\n",
       "    <tr>\n",
       "      <th>22</th>\n",
       "      <td>Etoposide+Gemcitabine+6</td>\n",
       "      <td>0</td>\n",
       "      <td>-0.056667</td>\n",
       "      <td>-0.030110</td>\n",
       "      <td>0.025658</td>\n",
       "      <td>-0.061638</td>\n",
       "      <td>-0.047487</td>\n",
       "      <td>0.029334</td>\n",
       "      <td>0.035004</td>\n",
       "      <td>0.038447</td>\n",
       "      <td>...</td>\n",
       "      <td>-0.021942</td>\n",
       "      <td>0.024703</td>\n",
       "      <td>-0.031179</td>\n",
       "      <td>0.044452</td>\n",
       "      <td>0.029900</td>\n",
       "      <td>0.024703</td>\n",
       "      <td>-0.074829</td>\n",
       "      <td>-0.102030</td>\n",
       "      <td>-0.051486</td>\n",
       "      <td>0.029702</td>\n",
       "    </tr>\n",
       "    <tr>\n",
       "      <th>72</th>\n",
       "      <td>Gemcitabine+Etoposide+1</td>\n",
       "      <td>0</td>\n",
       "      <td>-0.690830</td>\n",
       "      <td>-0.072245</td>\n",
       "      <td>0.192740</td>\n",
       "      <td>-0.173770</td>\n",
       "      <td>-0.333780</td>\n",
       "      <td>0.063140</td>\n",
       "      <td>0.226760</td>\n",
       "      <td>0.267730</td>\n",
       "      <td>...</td>\n",
       "      <td>0.181340</td>\n",
       "      <td>0.121490</td>\n",
       "      <td>-0.188670</td>\n",
       "      <td>0.271740</td>\n",
       "      <td>0.237440</td>\n",
       "      <td>0.121490</td>\n",
       "      <td>-0.564480</td>\n",
       "      <td>-0.541560</td>\n",
       "      <td>-0.246590</td>\n",
       "      <td>0.234070</td>\n",
       "    </tr>\n",
       "    <tr>\n",
       "      <th>74</th>\n",
       "      <td>Gemcitabine+Etoposide+2</td>\n",
       "      <td>0</td>\n",
       "      <td>-0.644170</td>\n",
       "      <td>-0.170130</td>\n",
       "      <td>0.119350</td>\n",
       "      <td>-0.200000</td>\n",
       "      <td>-0.381920</td>\n",
       "      <td>-0.115790</td>\n",
       "      <td>0.153420</td>\n",
       "      <td>0.204870</td>\n",
       "      <td>...</td>\n",
       "      <td>0.208230</td>\n",
       "      <td>0.145430</td>\n",
       "      <td>-0.311390</td>\n",
       "      <td>0.328440</td>\n",
       "      <td>0.266620</td>\n",
       "      <td>0.145430</td>\n",
       "      <td>-0.572710</td>\n",
       "      <td>-0.599840</td>\n",
       "      <td>-0.283470</td>\n",
       "      <td>0.356070</td>\n",
       "    </tr>\n",
       "    <tr>\n",
       "      <th>76</th>\n",
       "      <td>Gemcitabine+Etoposide+3</td>\n",
       "      <td>0</td>\n",
       "      <td>-0.515000</td>\n",
       "      <td>-0.122820</td>\n",
       "      <td>0.123830</td>\n",
       "      <td>-0.201090</td>\n",
       "      <td>-0.403390</td>\n",
       "      <td>-0.116680</td>\n",
       "      <td>0.145850</td>\n",
       "      <td>0.198010</td>\n",
       "      <td>...</td>\n",
       "      <td>0.166140</td>\n",
       "      <td>0.111680</td>\n",
       "      <td>-0.309330</td>\n",
       "      <td>0.253840</td>\n",
       "      <td>0.233610</td>\n",
       "      <td>0.111680</td>\n",
       "      <td>-0.450320</td>\n",
       "      <td>-0.500650</td>\n",
       "      <td>-0.265770</td>\n",
       "      <td>0.330860</td>\n",
       "    </tr>\n",
       "    <tr>\n",
       "      <th>78</th>\n",
       "      <td>Gemcitabine+Etoposide+4</td>\n",
       "      <td>0</td>\n",
       "      <td>0.019287</td>\n",
       "      <td>-0.145030</td>\n",
       "      <td>-0.192740</td>\n",
       "      <td>-0.111530</td>\n",
       "      <td>-0.278820</td>\n",
       "      <td>-0.193440</td>\n",
       "      <td>-0.168010</td>\n",
       "      <td>-0.159800</td>\n",
       "      <td>...</td>\n",
       "      <td>-0.075304</td>\n",
       "      <td>-0.036240</td>\n",
       "      <td>-0.063120</td>\n",
       "      <td>-0.081402</td>\n",
       "      <td>-0.089973</td>\n",
       "      <td>-0.036240</td>\n",
       "      <td>0.072861</td>\n",
       "      <td>0.051307</td>\n",
       "      <td>-0.061785</td>\n",
       "      <td>0.041670</td>\n",
       "    </tr>\n",
       "    <tr>\n",
       "      <th>80</th>\n",
       "      <td>Gemcitabine+Etoposide+5</td>\n",
       "      <td>0</td>\n",
       "      <td>0.087826</td>\n",
       "      <td>-0.167370</td>\n",
       "      <td>-0.172580</td>\n",
       "      <td>-0.098315</td>\n",
       "      <td>-0.294110</td>\n",
       "      <td>-0.173290</td>\n",
       "      <td>-0.144740</td>\n",
       "      <td>-0.138530</td>\n",
       "      <td>...</td>\n",
       "      <td>-0.109910</td>\n",
       "      <td>0.026654</td>\n",
       "      <td>-0.029774</td>\n",
       "      <td>-0.119600</td>\n",
       "      <td>-0.125730</td>\n",
       "      <td>0.026654</td>\n",
       "      <td>0.073383</td>\n",
       "      <td>0.046184</td>\n",
       "      <td>-0.073227</td>\n",
       "      <td>0.030426</td>\n",
       "    </tr>\n",
       "    <tr>\n",
       "      <th>82</th>\n",
       "      <td>Gemcitabine+Etoposide+6</td>\n",
       "      <td>0</td>\n",
       "      <td>0.046287</td>\n",
       "      <td>-0.124100</td>\n",
       "      <td>-0.127340</td>\n",
       "      <td>-0.088924</td>\n",
       "      <td>-0.230600</td>\n",
       "      <td>-0.126990</td>\n",
       "      <td>-0.107180</td>\n",
       "      <td>-0.095707</td>\n",
       "      <td>...</td>\n",
       "      <td>-0.087753</td>\n",
       "      <td>-0.039599</td>\n",
       "      <td>0.023745</td>\n",
       "      <td>-0.100910</td>\n",
       "      <td>-0.095169</td>\n",
       "      <td>-0.039599</td>\n",
       "      <td>0.061097</td>\n",
       "      <td>0.037679</td>\n",
       "      <td>-0.033165</td>\n",
       "      <td>-0.035960</td>\n",
       "    </tr>\n",
       "    <tr>\n",
       "      <th>0</th>\n",
       "      <td>Etoposide+Etoposide+1</td>\n",
       "      <td>0</td>\n",
       "      <td>-0.658330</td>\n",
       "      <td>-0.151980</td>\n",
       "      <td>-0.133790</td>\n",
       "      <td>-0.228720</td>\n",
       "      <td>-0.421970</td>\n",
       "      <td>-0.130760</td>\n",
       "      <td>0.161730</td>\n",
       "      <td>0.208450</td>\n",
       "      <td>...</td>\n",
       "      <td>0.232730</td>\n",
       "      <td>0.096027</td>\n",
       "      <td>-0.312950</td>\n",
       "      <td>0.339520</td>\n",
       "      <td>0.284891</td>\n",
       "      <td>0.096027</td>\n",
       "      <td>-0.559880</td>\n",
       "      <td>-0.570040</td>\n",
       "      <td>-0.212690</td>\n",
       "      <td>0.353240</td>\n",
       "    </tr>\n",
       "    <tr>\n",
       "      <th>2</th>\n",
       "      <td>Etoposide+Etoposide+2</td>\n",
       "      <td>0</td>\n",
       "      <td>-0.596670</td>\n",
       "      <td>-0.183410</td>\n",
       "      <td>-0.224890</td>\n",
       "      <td>-0.310260</td>\n",
       "      <td>-0.445170</td>\n",
       "      <td>-0.227970</td>\n",
       "      <td>-0.190090</td>\n",
       "      <td>-0.174000</td>\n",
       "      <td>...</td>\n",
       "      <td>0.220820</td>\n",
       "      <td>0.146930</td>\n",
       "      <td>-0.368010</td>\n",
       "      <td>0.342450</td>\n",
       "      <td>0.285190</td>\n",
       "      <td>0.146930</td>\n",
       "      <td>-0.498490</td>\n",
       "      <td>-0.577490</td>\n",
       "      <td>-0.216200</td>\n",
       "      <td>0.398800</td>\n",
       "    </tr>\n",
       "    <tr>\n",
       "      <th>4</th>\n",
       "      <td>Etoposide+Etoposide+3</td>\n",
       "      <td>0</td>\n",
       "      <td>-0.507540</td>\n",
       "      <td>0.080714</td>\n",
       "      <td>-0.125940</td>\n",
       "      <td>0.104190</td>\n",
       "      <td>-0.129000</td>\n",
       "      <td>-0.133430</td>\n",
       "      <td>-0.130930</td>\n",
       "      <td>-0.134840</td>\n",
       "      <td>...</td>\n",
       "      <td>0.299920</td>\n",
       "      <td>0.118720</td>\n",
       "      <td>-0.206960</td>\n",
       "      <td>0.427030</td>\n",
       "      <td>0.391510</td>\n",
       "      <td>0.118720</td>\n",
       "      <td>-0.328740</td>\n",
       "      <td>-0.414070</td>\n",
       "      <td>-0.155800</td>\n",
       "      <td>0.254140</td>\n",
       "    </tr>\n",
       "    <tr>\n",
       "      <th>6</th>\n",
       "      <td>Etoposide+Etoposide+4</td>\n",
       "      <td>0</td>\n",
       "      <td>-0.053269</td>\n",
       "      <td>-0.097863</td>\n",
       "      <td>-0.140810</td>\n",
       "      <td>-0.122950</td>\n",
       "      <td>-0.187030</td>\n",
       "      <td>-0.133820</td>\n",
       "      <td>-0.118800</td>\n",
       "      <td>-0.111940</td>\n",
       "      <td>...</td>\n",
       "      <td>-0.037030</td>\n",
       "      <td>0.022158</td>\n",
       "      <td>-0.063846</td>\n",
       "      <td>-0.028590</td>\n",
       "      <td>-0.035556</td>\n",
       "      <td>0.022158</td>\n",
       "      <td>0.054081</td>\n",
       "      <td>-0.064252</td>\n",
       "      <td>-0.036111</td>\n",
       "      <td>0.043312</td>\n",
       "    </tr>\n",
       "    <tr>\n",
       "      <th>8</th>\n",
       "      <td>Etoposide+Etoposide+5</td>\n",
       "      <td>0</td>\n",
       "      <td>0.038568</td>\n",
       "      <td>-0.070623</td>\n",
       "      <td>-0.084830</td>\n",
       "      <td>-0.055402</td>\n",
       "      <td>-0.134990</td>\n",
       "      <td>-0.088421</td>\n",
       "      <td>-0.069816</td>\n",
       "      <td>-0.063219</td>\n",
       "      <td>...</td>\n",
       "      <td>-0.065165</td>\n",
       "      <td>0.025711</td>\n",
       "      <td>-0.056965</td>\n",
       "      <td>-0.050647</td>\n",
       "      <td>-0.059582</td>\n",
       "      <td>0.025711</td>\n",
       "      <td>0.059502</td>\n",
       "      <td>-0.043597</td>\n",
       "      <td>-0.037950</td>\n",
       "      <td>0.031688</td>\n",
       "    </tr>\n",
       "    <tr>\n",
       "      <th>10</th>\n",
       "      <td>Etoposide+Etoposide+6</td>\n",
       "      <td>0</td>\n",
       "      <td>-0.021682</td>\n",
       "      <td>-0.073558</td>\n",
       "      <td>-0.087733</td>\n",
       "      <td>-0.079325</td>\n",
       "      <td>-0.128700</td>\n",
       "      <td>-0.096127</td>\n",
       "      <td>-0.071604</td>\n",
       "      <td>-0.062475</td>\n",
       "      <td>...</td>\n",
       "      <td>-0.037668</td>\n",
       "      <td>-0.027406</td>\n",
       "      <td>-0.071549</td>\n",
       "      <td>-0.027870</td>\n",
       "      <td>-0.039805</td>\n",
       "      <td>-0.027406</td>\n",
       "      <td>0.035064</td>\n",
       "      <td>-0.047980</td>\n",
       "      <td>-0.037499</td>\n",
       "      <td>0.056148</td>\n",
       "    </tr>\n",
       "    <tr>\n",
       "      <th>84</th>\n",
       "      <td>Gemcitabine+Gemcitabine+1</td>\n",
       "      <td>0</td>\n",
       "      <td>-0.577500</td>\n",
       "      <td>-0.105360</td>\n",
       "      <td>0.197020</td>\n",
       "      <td>-0.168100</td>\n",
       "      <td>-0.319050</td>\n",
       "      <td>0.068571</td>\n",
       "      <td>0.231790</td>\n",
       "      <td>0.267980</td>\n",
       "      <td>...</td>\n",
       "      <td>0.115600</td>\n",
       "      <td>0.153210</td>\n",
       "      <td>-0.225830</td>\n",
       "      <td>0.269170</td>\n",
       "      <td>0.211190</td>\n",
       "      <td>0.153210</td>\n",
       "      <td>-0.581670</td>\n",
       "      <td>-0.572620</td>\n",
       "      <td>-0.298210</td>\n",
       "      <td>0.294170</td>\n",
       "    </tr>\n",
       "    <tr>\n",
       "      <th>86</th>\n",
       "      <td>Gemcitabine+Gemcitabine+2</td>\n",
       "      <td>0</td>\n",
       "      <td>-0.550000</td>\n",
       "      <td>-0.147800</td>\n",
       "      <td>0.190130</td>\n",
       "      <td>-0.239410</td>\n",
       "      <td>-0.402250</td>\n",
       "      <td>-0.110940</td>\n",
       "      <td>0.227700</td>\n",
       "      <td>0.269670</td>\n",
       "      <td>...</td>\n",
       "      <td>0.163910</td>\n",
       "      <td>0.109200</td>\n",
       "      <td>-0.305200</td>\n",
       "      <td>0.255050</td>\n",
       "      <td>0.202480</td>\n",
       "      <td>0.109200</td>\n",
       "      <td>-0.518940</td>\n",
       "      <td>-0.559890</td>\n",
       "      <td>-0.235320</td>\n",
       "      <td>0.350600</td>\n",
       "    </tr>\n",
       "    <tr>\n",
       "      <th>88</th>\n",
       "      <td>Gemcitabine+Gemcitabine+3</td>\n",
       "      <td>0</td>\n",
       "      <td>-0.567500</td>\n",
       "      <td>-0.097928</td>\n",
       "      <td>0.175350</td>\n",
       "      <td>-0.199960</td>\n",
       "      <td>-0.304410</td>\n",
       "      <td>-0.101320</td>\n",
       "      <td>0.185030</td>\n",
       "      <td>0.226570</td>\n",
       "      <td>...</td>\n",
       "      <td>0.138680</td>\n",
       "      <td>0.137460</td>\n",
       "      <td>-0.320050</td>\n",
       "      <td>0.285520</td>\n",
       "      <td>0.236940</td>\n",
       "      <td>0.137460</td>\n",
       "      <td>-0.508240</td>\n",
       "      <td>-0.554130</td>\n",
       "      <td>-0.252150</td>\n",
       "      <td>0.359150</td>\n",
       "    </tr>\n",
       "    <tr>\n",
       "      <th>90</th>\n",
       "      <td>Gemcitabine+Gemcitabine+4</td>\n",
       "      <td>0</td>\n",
       "      <td>-0.418330</td>\n",
       "      <td>0.067900</td>\n",
       "      <td>-0.145000</td>\n",
       "      <td>-0.118180</td>\n",
       "      <td>-0.190180</td>\n",
       "      <td>-0.141560</td>\n",
       "      <td>-0.137320</td>\n",
       "      <td>-0.126020</td>\n",
       "      <td>...</td>\n",
       "      <td>0.196990</td>\n",
       "      <td>0.196180</td>\n",
       "      <td>-0.195260</td>\n",
       "      <td>0.379020</td>\n",
       "      <td>0.339310</td>\n",
       "      <td>0.196180</td>\n",
       "      <td>-0.273760</td>\n",
       "      <td>-0.355510</td>\n",
       "      <td>-0.171610</td>\n",
       "      <td>0.227690</td>\n",
       "    </tr>\n",
       "    <tr>\n",
       "      <th>92</th>\n",
       "      <td>Gemcitabine+Gemcitabine+5</td>\n",
       "      <td>0</td>\n",
       "      <td>-0.086594</td>\n",
       "      <td>-0.154860</td>\n",
       "      <td>-0.197830</td>\n",
       "      <td>-0.135800</td>\n",
       "      <td>-0.295870</td>\n",
       "      <td>-0.196300</td>\n",
       "      <td>-0.166920</td>\n",
       "      <td>-0.165830</td>\n",
       "      <td>...</td>\n",
       "      <td>-0.073804</td>\n",
       "      <td>0.028551</td>\n",
       "      <td>-0.072029</td>\n",
       "      <td>-0.060906</td>\n",
       "      <td>-0.073225</td>\n",
       "      <td>0.028551</td>\n",
       "      <td>-0.070254</td>\n",
       "      <td>-0.106050</td>\n",
       "      <td>-0.091739</td>\n",
       "      <td>0.084746</td>\n",
       "    </tr>\n",
       "    <tr>\n",
       "      <th>94</th>\n",
       "      <td>Gemcitabine+Gemcitabine+6</td>\n",
       "      <td>0</td>\n",
       "      <td>0.062926</td>\n",
       "      <td>-0.086938</td>\n",
       "      <td>-0.063973</td>\n",
       "      <td>-0.070039</td>\n",
       "      <td>-0.167980</td>\n",
       "      <td>-0.071415</td>\n",
       "      <td>-0.042771</td>\n",
       "      <td>-0.042655</td>\n",
       "      <td>...</td>\n",
       "      <td>-0.089477</td>\n",
       "      <td>-0.042016</td>\n",
       "      <td>-0.044826</td>\n",
       "      <td>-0.088585</td>\n",
       "      <td>-0.107190</td>\n",
       "      <td>-0.042016</td>\n",
       "      <td>0.074341</td>\n",
       "      <td>0.052888</td>\n",
       "      <td>-0.055930</td>\n",
       "      <td>0.032636</td>\n",
       "    </tr>\n",
       "  </tbody>\n",
       "</table>\n",
       "<p>24 rows × 240 columns</p>\n",
       "</div>"
      ],
      "text/plain": [
       "                    drug_name  default       ks1       ks2       ks3  \\\n",
       "12    Etoposide+Gemcitabine+1        0 -0.639170 -0.144250  0.148430   \n",
       "14    Etoposide+Gemcitabine+2        0 -0.565830 -0.148970 -0.173080   \n",
       "16    Etoposide+Gemcitabine+3        0 -0.535830  0.097875 -0.143150   \n",
       "18    Etoposide+Gemcitabine+4        0 -0.459460  0.090733 -0.140140   \n",
       "20    Etoposide+Gemcitabine+5        0 -0.098333 -0.079680 -0.120000   \n",
       "22    Etoposide+Gemcitabine+6        0 -0.056667 -0.030110  0.025658   \n",
       "72    Gemcitabine+Etoposide+1        0 -0.690830 -0.072245  0.192740   \n",
       "74    Gemcitabine+Etoposide+2        0 -0.644170 -0.170130  0.119350   \n",
       "76    Gemcitabine+Etoposide+3        0 -0.515000 -0.122820  0.123830   \n",
       "78    Gemcitabine+Etoposide+4        0  0.019287 -0.145030 -0.192740   \n",
       "80    Gemcitabine+Etoposide+5        0  0.087826 -0.167370 -0.172580   \n",
       "82    Gemcitabine+Etoposide+6        0  0.046287 -0.124100 -0.127340   \n",
       "0       Etoposide+Etoposide+1        0 -0.658330 -0.151980 -0.133790   \n",
       "2       Etoposide+Etoposide+2        0 -0.596670 -0.183410 -0.224890   \n",
       "4       Etoposide+Etoposide+3        0 -0.507540  0.080714 -0.125940   \n",
       "6       Etoposide+Etoposide+4        0 -0.053269 -0.097863 -0.140810   \n",
       "8       Etoposide+Etoposide+5        0  0.038568 -0.070623 -0.084830   \n",
       "10      Etoposide+Etoposide+6        0 -0.021682 -0.073558 -0.087733   \n",
       "84  Gemcitabine+Gemcitabine+1        0 -0.577500 -0.105360  0.197020   \n",
       "86  Gemcitabine+Gemcitabine+2        0 -0.550000 -0.147800  0.190130   \n",
       "88  Gemcitabine+Gemcitabine+3        0 -0.567500 -0.097928  0.175350   \n",
       "90  Gemcitabine+Gemcitabine+4        0 -0.418330  0.067900 -0.145000   \n",
       "92  Gemcitabine+Gemcitabine+5        0 -0.086594 -0.154860 -0.197830   \n",
       "94  Gemcitabine+Gemcitabine+6        0  0.062926 -0.086938 -0.063973   \n",
       "\n",
       "         ks4       ks5       ks6       ks7       ks8  ...     ks229     ks230  \\\n",
       "12 -0.206640 -0.365490 -0.116250  0.160770  0.205180  ...  0.247910  0.142580   \n",
       "14 -0.251080 -0.377400 -0.185960 -0.166540 -0.149940  ...  0.235990  0.189400   \n",
       "16 -0.098313 -0.125500 -0.143980 -0.158160 -0.148350  ...  0.278330  0.256040   \n",
       "18 -0.069508 -0.167160 -0.150810 -0.136360 -0.125550  ...  0.233550  0.226280   \n",
       "20 -0.084225 -0.170440 -0.116250 -0.111180 -0.106920  ...  0.057003  0.043050   \n",
       "22 -0.061638 -0.047487  0.029334  0.035004  0.038447  ... -0.021942  0.024703   \n",
       "72 -0.173770 -0.333780  0.063140  0.226760  0.267730  ...  0.181340  0.121490   \n",
       "74 -0.200000 -0.381920 -0.115790  0.153420  0.204870  ...  0.208230  0.145430   \n",
       "76 -0.201090 -0.403390 -0.116680  0.145850  0.198010  ...  0.166140  0.111680   \n",
       "78 -0.111530 -0.278820 -0.193440 -0.168010 -0.159800  ... -0.075304 -0.036240   \n",
       "80 -0.098315 -0.294110 -0.173290 -0.144740 -0.138530  ... -0.109910  0.026654   \n",
       "82 -0.088924 -0.230600 -0.126990 -0.107180 -0.095707  ... -0.087753 -0.039599   \n",
       "0  -0.228720 -0.421970 -0.130760  0.161730  0.208450  ...  0.232730  0.096027   \n",
       "2  -0.310260 -0.445170 -0.227970 -0.190090 -0.174000  ...  0.220820  0.146930   \n",
       "4   0.104190 -0.129000 -0.133430 -0.130930 -0.134840  ...  0.299920  0.118720   \n",
       "6  -0.122950 -0.187030 -0.133820 -0.118800 -0.111940  ... -0.037030  0.022158   \n",
       "8  -0.055402 -0.134990 -0.088421 -0.069816 -0.063219  ... -0.065165  0.025711   \n",
       "10 -0.079325 -0.128700 -0.096127 -0.071604 -0.062475  ... -0.037668 -0.027406   \n",
       "84 -0.168100 -0.319050  0.068571  0.231790  0.267980  ...  0.115600  0.153210   \n",
       "86 -0.239410 -0.402250 -0.110940  0.227700  0.269670  ...  0.163910  0.109200   \n",
       "88 -0.199960 -0.304410 -0.101320  0.185030  0.226570  ...  0.138680  0.137460   \n",
       "90 -0.118180 -0.190180 -0.141560 -0.137320 -0.126020  ...  0.196990  0.196180   \n",
       "92 -0.135800 -0.295870 -0.196300 -0.166920 -0.165830  ... -0.073804  0.028551   \n",
       "94 -0.070039 -0.167980 -0.071415 -0.042771 -0.042655  ... -0.089477 -0.042016   \n",
       "\n",
       "       ks231     ks232     ks233     ks234     ks235     ks236     ks237  \\\n",
       "12 -0.400640  0.383250  0.333460  0.142580 -0.582600 -0.645280 -0.255230   \n",
       "14 -0.425990  0.397740  0.312770  0.189400 -0.506840 -0.601820 -0.194810   \n",
       "16 -0.286360  0.501470  0.430570  0.256040 -0.341480 -0.440620 -0.227430   \n",
       "18 -0.173630  0.437650  0.405720  0.226280 -0.291770 -0.360490 -0.117630   \n",
       "20 -0.099577  0.082478  0.064693  0.043050 -0.115180 -0.164870 -0.083051   \n",
       "22 -0.031179  0.044452  0.029900  0.024703 -0.074829 -0.102030 -0.051486   \n",
       "72 -0.188670  0.271740  0.237440  0.121490 -0.564480 -0.541560 -0.246590   \n",
       "74 -0.311390  0.328440  0.266620  0.145430 -0.572710 -0.599840 -0.283470   \n",
       "76 -0.309330  0.253840  0.233610  0.111680 -0.450320 -0.500650 -0.265770   \n",
       "78 -0.063120 -0.081402 -0.089973 -0.036240  0.072861  0.051307 -0.061785   \n",
       "80 -0.029774 -0.119600 -0.125730  0.026654  0.073383  0.046184 -0.073227   \n",
       "82  0.023745 -0.100910 -0.095169 -0.039599  0.061097  0.037679 -0.033165   \n",
       "0  -0.312950  0.339520  0.284891  0.096027 -0.559880 -0.570040 -0.212690   \n",
       "2  -0.368010  0.342450  0.285190  0.146930 -0.498490 -0.577490 -0.216200   \n",
       "4  -0.206960  0.427030  0.391510  0.118720 -0.328740 -0.414070 -0.155800   \n",
       "6  -0.063846 -0.028590 -0.035556  0.022158  0.054081 -0.064252 -0.036111   \n",
       "8  -0.056965 -0.050647 -0.059582  0.025711  0.059502 -0.043597 -0.037950   \n",
       "10 -0.071549 -0.027870 -0.039805 -0.027406  0.035064 -0.047980 -0.037499   \n",
       "84 -0.225830  0.269170  0.211190  0.153210 -0.581670 -0.572620 -0.298210   \n",
       "86 -0.305200  0.255050  0.202480  0.109200 -0.518940 -0.559890 -0.235320   \n",
       "88 -0.320050  0.285520  0.236940  0.137460 -0.508240 -0.554130 -0.252150   \n",
       "90 -0.195260  0.379020  0.339310  0.196180 -0.273760 -0.355510 -0.171610   \n",
       "92 -0.072029 -0.060906 -0.073225  0.028551 -0.070254 -0.106050 -0.091739   \n",
       "94 -0.044826 -0.088585 -0.107190 -0.042016  0.074341  0.052888 -0.055930   \n",
       "\n",
       "       ks238  \n",
       "12  0.406690  \n",
       "14  0.441380  \n",
       "16  0.318870  \n",
       "18  0.212030  \n",
       "20  0.098872  \n",
       "22  0.029702  \n",
       "72  0.234070  \n",
       "74  0.356070  \n",
       "76  0.330860  \n",
       "78  0.041670  \n",
       "80  0.030426  \n",
       "82 -0.035960  \n",
       "0   0.353240  \n",
       "2   0.398800  \n",
       "4   0.254140  \n",
       "6   0.043312  \n",
       "8   0.031688  \n",
       "10  0.056148  \n",
       "84  0.294170  \n",
       "86  0.350600  \n",
       "88  0.359150  \n",
       "90  0.227690  \n",
       "92  0.084746  \n",
       "94  0.032636  \n",
       "\n",
       "[24 rows x 240 columns]"
      ]
     },
     "execution_count": 8,
     "metadata": {},
     "output_type": "execute_result"
    }
   ],
   "source": [
    "df=pd.read_csv('drug_with_fields.csv')\n",
    "#one type first type. dna\n",
    "df11=df.loc[(df['drug_name'] =='Etoposide+Gemcitabine+1') ]\n",
    "df12=df.loc[(df['drug_name'] =='Etoposide+Gemcitabine+2') ]\n",
    "df13=df.loc[(df['drug_name'] =='Etoposide+Gemcitabine+3') ]\n",
    "df14=df.loc[(df['drug_name'] =='Etoposide+Gemcitabine+4') ]\n",
    "df15=df.loc[(df['drug_name'] =='Etoposide+Gemcitabine+5') ]\n",
    "df16=df.loc[(df['drug_name'] =='Etoposide+Gemcitabine+6') ]\n",
    "df21=df.loc[(df['drug_name'] =='Gemcitabine+Etoposide+1') ]\n",
    "df22=df.loc[(df['drug_name'] =='Gemcitabine+Etoposide+2') ]\n",
    "df23=df.loc[(df['drug_name'] =='Gemcitabine+Etoposide+3') ]\n",
    "df24=df.loc[(df['drug_name'] =='Gemcitabine+Etoposide+4') ]\n",
    "df25=df.loc[(df['drug_name'] =='Gemcitabine+Etoposide+5') ]\n",
    "df26=df.loc[(df['drug_name'] =='Gemcitabine+Etoposide+6') ]\n",
    "df31=df.loc[(df['drug_name'] =='Etoposide+Etoposide+1') ]\n",
    "df32=df.loc[(df['drug_name'] =='Etoposide+Etoposide+2') ]\n",
    "df33=df.loc[(df['drug_name'] =='Etoposide+Etoposide+3') ]\n",
    "df34=df.loc[(df['drug_name'] =='Etoposide+Etoposide+4') ]\n",
    "df35=df.loc[(df['drug_name'] =='Etoposide+Etoposide+5') ]\n",
    "df36=df.loc[(df['drug_name'] =='Etoposide+Etoposide+6') ]\n",
    "df41=df.loc[(df['drug_name'] =='Gemcitabine+Gemcitabine+1') ]\n",
    "df42=df.loc[(df['drug_name'] =='Gemcitabine+Gemcitabine+2') ]\n",
    "df43=df.loc[(df['drug_name'] =='Gemcitabine+Gemcitabine+3') ]\n",
    "df44=df.loc[(df['drug_name'] =='Gemcitabine+Gemcitabine+4') ]\n",
    "df45=df.loc[(df['drug_name'] =='Gemcitabine+Gemcitabine+5') ]\n",
    "df46=df.loc[(df['drug_name'] =='Gemcitabine+Gemcitabine+6') ]\n",
    "frames = [df11, df12,df13,df14,df15,df16,df21,df22,df23,df24,df25,df26,df31,df32,df33,df34,df35,df36,df41,df42,df43,df44,df45,df46]\n",
    "dna = pd.concat(frames)\n",
    "dna\n"
   ]
  },
  {
   "cell_type": "code",
   "execution_count": 9,
   "metadata": {},
   "outputs": [
    {
     "data": {
      "text/html": [
       "<div>\n",
       "<style scoped>\n",
       "    .dataframe tbody tr th:only-of-type {\n",
       "        vertical-align: middle;\n",
       "    }\n",
       "\n",
       "    .dataframe tbody tr th {\n",
       "        vertical-align: top;\n",
       "    }\n",
       "\n",
       "    .dataframe thead th {\n",
       "        text-align: right;\n",
       "    }\n",
       "</style>\n",
       "<table border=\"1\" class=\"dataframe\">\n",
       "  <thead>\n",
       "    <tr style=\"text-align: right;\">\n",
       "      <th></th>\n",
       "      <th>drug_name</th>\n",
       "      <th>default</th>\n",
       "      <th>ks1</th>\n",
       "      <th>ks2</th>\n",
       "      <th>ks3</th>\n",
       "      <th>ks4</th>\n",
       "      <th>ks5</th>\n",
       "      <th>ks6</th>\n",
       "      <th>ks7</th>\n",
       "      <th>ks8</th>\n",
       "      <th>...</th>\n",
       "      <th>ks229</th>\n",
       "      <th>ks230</th>\n",
       "      <th>ks231</th>\n",
       "      <th>ks232</th>\n",
       "      <th>ks233</th>\n",
       "      <th>ks234</th>\n",
       "      <th>ks235</th>\n",
       "      <th>ks236</th>\n",
       "      <th>ks237</th>\n",
       "      <th>ks238</th>\n",
       "    </tr>\n",
       "  </thead>\n",
       "  <tbody>\n",
       "    <tr>\n",
       "      <th>12</th>\n",
       "      <td>Etoposide+Gemcitabine+1</td>\n",
       "      <td>0</td>\n",
       "      <td>-0.639170</td>\n",
       "      <td>-0.144250</td>\n",
       "      <td>0.148430</td>\n",
       "      <td>-0.206640</td>\n",
       "      <td>-0.365490</td>\n",
       "      <td>-0.116250</td>\n",
       "      <td>0.160770</td>\n",
       "      <td>0.205180</td>\n",
       "      <td>...</td>\n",
       "      <td>0.247910</td>\n",
       "      <td>0.142580</td>\n",
       "      <td>-0.400640</td>\n",
       "      <td>0.383250</td>\n",
       "      <td>0.333460</td>\n",
       "      <td>0.142580</td>\n",
       "      <td>-0.582600</td>\n",
       "      <td>-0.645280</td>\n",
       "      <td>-0.255230</td>\n",
       "      <td>0.406690</td>\n",
       "    </tr>\n",
       "    <tr>\n",
       "      <th>14</th>\n",
       "      <td>Etoposide+Gemcitabine+2</td>\n",
       "      <td>0</td>\n",
       "      <td>-0.565830</td>\n",
       "      <td>-0.148970</td>\n",
       "      <td>-0.173080</td>\n",
       "      <td>-0.251080</td>\n",
       "      <td>-0.377400</td>\n",
       "      <td>-0.185960</td>\n",
       "      <td>-0.166540</td>\n",
       "      <td>-0.149940</td>\n",
       "      <td>...</td>\n",
       "      <td>0.235990</td>\n",
       "      <td>0.189400</td>\n",
       "      <td>-0.425990</td>\n",
       "      <td>0.397740</td>\n",
       "      <td>0.312770</td>\n",
       "      <td>0.189400</td>\n",
       "      <td>-0.506840</td>\n",
       "      <td>-0.601820</td>\n",
       "      <td>-0.194810</td>\n",
       "      <td>0.441380</td>\n",
       "    </tr>\n",
       "    <tr>\n",
       "      <th>16</th>\n",
       "      <td>Etoposide+Gemcitabine+3</td>\n",
       "      <td>0</td>\n",
       "      <td>-0.535830</td>\n",
       "      <td>0.097875</td>\n",
       "      <td>-0.143150</td>\n",
       "      <td>-0.098313</td>\n",
       "      <td>-0.125500</td>\n",
       "      <td>-0.143980</td>\n",
       "      <td>-0.158160</td>\n",
       "      <td>-0.148350</td>\n",
       "      <td>...</td>\n",
       "      <td>0.278330</td>\n",
       "      <td>0.256040</td>\n",
       "      <td>-0.286360</td>\n",
       "      <td>0.501470</td>\n",
       "      <td>0.430570</td>\n",
       "      <td>0.256040</td>\n",
       "      <td>-0.341480</td>\n",
       "      <td>-0.440620</td>\n",
       "      <td>-0.227430</td>\n",
       "      <td>0.318870</td>\n",
       "    </tr>\n",
       "    <tr>\n",
       "      <th>18</th>\n",
       "      <td>Etoposide+Gemcitabine+4</td>\n",
       "      <td>0</td>\n",
       "      <td>-0.459460</td>\n",
       "      <td>0.090733</td>\n",
       "      <td>-0.140140</td>\n",
       "      <td>-0.069508</td>\n",
       "      <td>-0.167160</td>\n",
       "      <td>-0.150810</td>\n",
       "      <td>-0.136360</td>\n",
       "      <td>-0.125550</td>\n",
       "      <td>...</td>\n",
       "      <td>0.233550</td>\n",
       "      <td>0.226280</td>\n",
       "      <td>-0.173630</td>\n",
       "      <td>0.437650</td>\n",
       "      <td>0.405720</td>\n",
       "      <td>0.226280</td>\n",
       "      <td>-0.291770</td>\n",
       "      <td>-0.360490</td>\n",
       "      <td>-0.117630</td>\n",
       "      <td>0.212030</td>\n",
       "    </tr>\n",
       "    <tr>\n",
       "      <th>20</th>\n",
       "      <td>Etoposide+Gemcitabine+5</td>\n",
       "      <td>0</td>\n",
       "      <td>-0.098333</td>\n",
       "      <td>-0.079680</td>\n",
       "      <td>-0.120000</td>\n",
       "      <td>-0.084225</td>\n",
       "      <td>-0.170440</td>\n",
       "      <td>-0.116250</td>\n",
       "      <td>-0.111180</td>\n",
       "      <td>-0.106920</td>\n",
       "      <td>...</td>\n",
       "      <td>0.057003</td>\n",
       "      <td>0.043050</td>\n",
       "      <td>-0.099577</td>\n",
       "      <td>0.082478</td>\n",
       "      <td>0.064693</td>\n",
       "      <td>0.043050</td>\n",
       "      <td>-0.115180</td>\n",
       "      <td>-0.164870</td>\n",
       "      <td>-0.083051</td>\n",
       "      <td>0.098872</td>\n",
       "    </tr>\n",
       "    <tr>\n",
       "      <th>22</th>\n",
       "      <td>Etoposide+Gemcitabine+6</td>\n",
       "      <td>0</td>\n",
       "      <td>-0.056667</td>\n",
       "      <td>-0.030110</td>\n",
       "      <td>0.025658</td>\n",
       "      <td>-0.061638</td>\n",
       "      <td>-0.047487</td>\n",
       "      <td>0.029334</td>\n",
       "      <td>0.035004</td>\n",
       "      <td>0.038447</td>\n",
       "      <td>...</td>\n",
       "      <td>-0.021942</td>\n",
       "      <td>0.024703</td>\n",
       "      <td>-0.031179</td>\n",
       "      <td>0.044452</td>\n",
       "      <td>0.029900</td>\n",
       "      <td>0.024703</td>\n",
       "      <td>-0.074829</td>\n",
       "      <td>-0.102030</td>\n",
       "      <td>-0.051486</td>\n",
       "      <td>0.029702</td>\n",
       "    </tr>\n",
       "    <tr>\n",
       "      <th>72</th>\n",
       "      <td>Gemcitabine+Etoposide+1</td>\n",
       "      <td>0</td>\n",
       "      <td>-0.690830</td>\n",
       "      <td>-0.072245</td>\n",
       "      <td>0.192740</td>\n",
       "      <td>-0.173770</td>\n",
       "      <td>-0.333780</td>\n",
       "      <td>0.063140</td>\n",
       "      <td>0.226760</td>\n",
       "      <td>0.267730</td>\n",
       "      <td>...</td>\n",
       "      <td>0.181340</td>\n",
       "      <td>0.121490</td>\n",
       "      <td>-0.188670</td>\n",
       "      <td>0.271740</td>\n",
       "      <td>0.237440</td>\n",
       "      <td>0.121490</td>\n",
       "      <td>-0.564480</td>\n",
       "      <td>-0.541560</td>\n",
       "      <td>-0.246590</td>\n",
       "      <td>0.234070</td>\n",
       "    </tr>\n",
       "    <tr>\n",
       "      <th>74</th>\n",
       "      <td>Gemcitabine+Etoposide+2</td>\n",
       "      <td>0</td>\n",
       "      <td>-0.644170</td>\n",
       "      <td>-0.170130</td>\n",
       "      <td>0.119350</td>\n",
       "      <td>-0.200000</td>\n",
       "      <td>-0.381920</td>\n",
       "      <td>-0.115790</td>\n",
       "      <td>0.153420</td>\n",
       "      <td>0.204870</td>\n",
       "      <td>...</td>\n",
       "      <td>0.208230</td>\n",
       "      <td>0.145430</td>\n",
       "      <td>-0.311390</td>\n",
       "      <td>0.328440</td>\n",
       "      <td>0.266620</td>\n",
       "      <td>0.145430</td>\n",
       "      <td>-0.572710</td>\n",
       "      <td>-0.599840</td>\n",
       "      <td>-0.283470</td>\n",
       "      <td>0.356070</td>\n",
       "    </tr>\n",
       "    <tr>\n",
       "      <th>76</th>\n",
       "      <td>Gemcitabine+Etoposide+3</td>\n",
       "      <td>0</td>\n",
       "      <td>-0.515000</td>\n",
       "      <td>-0.122820</td>\n",
       "      <td>0.123830</td>\n",
       "      <td>-0.201090</td>\n",
       "      <td>-0.403390</td>\n",
       "      <td>-0.116680</td>\n",
       "      <td>0.145850</td>\n",
       "      <td>0.198010</td>\n",
       "      <td>...</td>\n",
       "      <td>0.166140</td>\n",
       "      <td>0.111680</td>\n",
       "      <td>-0.309330</td>\n",
       "      <td>0.253840</td>\n",
       "      <td>0.233610</td>\n",
       "      <td>0.111680</td>\n",
       "      <td>-0.450320</td>\n",
       "      <td>-0.500650</td>\n",
       "      <td>-0.265770</td>\n",
       "      <td>0.330860</td>\n",
       "    </tr>\n",
       "    <tr>\n",
       "      <th>78</th>\n",
       "      <td>Gemcitabine+Etoposide+4</td>\n",
       "      <td>0</td>\n",
       "      <td>0.019287</td>\n",
       "      <td>-0.145030</td>\n",
       "      <td>-0.192740</td>\n",
       "      <td>-0.111530</td>\n",
       "      <td>-0.278820</td>\n",
       "      <td>-0.193440</td>\n",
       "      <td>-0.168010</td>\n",
       "      <td>-0.159800</td>\n",
       "      <td>...</td>\n",
       "      <td>-0.075304</td>\n",
       "      <td>-0.036240</td>\n",
       "      <td>-0.063120</td>\n",
       "      <td>-0.081402</td>\n",
       "      <td>-0.089973</td>\n",
       "      <td>-0.036240</td>\n",
       "      <td>0.072861</td>\n",
       "      <td>0.051307</td>\n",
       "      <td>-0.061785</td>\n",
       "      <td>0.041670</td>\n",
       "    </tr>\n",
       "    <tr>\n",
       "      <th>80</th>\n",
       "      <td>Gemcitabine+Etoposide+5</td>\n",
       "      <td>0</td>\n",
       "      <td>0.087826</td>\n",
       "      <td>-0.167370</td>\n",
       "      <td>-0.172580</td>\n",
       "      <td>-0.098315</td>\n",
       "      <td>-0.294110</td>\n",
       "      <td>-0.173290</td>\n",
       "      <td>-0.144740</td>\n",
       "      <td>-0.138530</td>\n",
       "      <td>...</td>\n",
       "      <td>-0.109910</td>\n",
       "      <td>0.026654</td>\n",
       "      <td>-0.029774</td>\n",
       "      <td>-0.119600</td>\n",
       "      <td>-0.125730</td>\n",
       "      <td>0.026654</td>\n",
       "      <td>0.073383</td>\n",
       "      <td>0.046184</td>\n",
       "      <td>-0.073227</td>\n",
       "      <td>0.030426</td>\n",
       "    </tr>\n",
       "    <tr>\n",
       "      <th>82</th>\n",
       "      <td>Gemcitabine+Etoposide+6</td>\n",
       "      <td>0</td>\n",
       "      <td>0.046287</td>\n",
       "      <td>-0.124100</td>\n",
       "      <td>-0.127340</td>\n",
       "      <td>-0.088924</td>\n",
       "      <td>-0.230600</td>\n",
       "      <td>-0.126990</td>\n",
       "      <td>-0.107180</td>\n",
       "      <td>-0.095707</td>\n",
       "      <td>...</td>\n",
       "      <td>-0.087753</td>\n",
       "      <td>-0.039599</td>\n",
       "      <td>0.023745</td>\n",
       "      <td>-0.100910</td>\n",
       "      <td>-0.095169</td>\n",
       "      <td>-0.039599</td>\n",
       "      <td>0.061097</td>\n",
       "      <td>0.037679</td>\n",
       "      <td>-0.033165</td>\n",
       "      <td>-0.035960</td>\n",
       "    </tr>\n",
       "    <tr>\n",
       "      <th>0</th>\n",
       "      <td>Etoposide+Etoposide+1</td>\n",
       "      <td>0</td>\n",
       "      <td>-0.658330</td>\n",
       "      <td>-0.151980</td>\n",
       "      <td>-0.133790</td>\n",
       "      <td>-0.228720</td>\n",
       "      <td>-0.421970</td>\n",
       "      <td>-0.130760</td>\n",
       "      <td>0.161730</td>\n",
       "      <td>0.208450</td>\n",
       "      <td>...</td>\n",
       "      <td>0.232730</td>\n",
       "      <td>0.096027</td>\n",
       "      <td>-0.312950</td>\n",
       "      <td>0.339520</td>\n",
       "      <td>0.284891</td>\n",
       "      <td>0.096027</td>\n",
       "      <td>-0.559880</td>\n",
       "      <td>-0.570040</td>\n",
       "      <td>-0.212690</td>\n",
       "      <td>0.353240</td>\n",
       "    </tr>\n",
       "    <tr>\n",
       "      <th>2</th>\n",
       "      <td>Etoposide+Etoposide+2</td>\n",
       "      <td>0</td>\n",
       "      <td>-0.596670</td>\n",
       "      <td>-0.183410</td>\n",
       "      <td>-0.224890</td>\n",
       "      <td>-0.310260</td>\n",
       "      <td>-0.445170</td>\n",
       "      <td>-0.227970</td>\n",
       "      <td>-0.190090</td>\n",
       "      <td>-0.174000</td>\n",
       "      <td>...</td>\n",
       "      <td>0.220820</td>\n",
       "      <td>0.146930</td>\n",
       "      <td>-0.368010</td>\n",
       "      <td>0.342450</td>\n",
       "      <td>0.285190</td>\n",
       "      <td>0.146930</td>\n",
       "      <td>-0.498490</td>\n",
       "      <td>-0.577490</td>\n",
       "      <td>-0.216200</td>\n",
       "      <td>0.398800</td>\n",
       "    </tr>\n",
       "    <tr>\n",
       "      <th>4</th>\n",
       "      <td>Etoposide+Etoposide+3</td>\n",
       "      <td>0</td>\n",
       "      <td>-0.507540</td>\n",
       "      <td>0.080714</td>\n",
       "      <td>-0.125940</td>\n",
       "      <td>0.104190</td>\n",
       "      <td>-0.129000</td>\n",
       "      <td>-0.133430</td>\n",
       "      <td>-0.130930</td>\n",
       "      <td>-0.134840</td>\n",
       "      <td>...</td>\n",
       "      <td>0.299920</td>\n",
       "      <td>0.118720</td>\n",
       "      <td>-0.206960</td>\n",
       "      <td>0.427030</td>\n",
       "      <td>0.391510</td>\n",
       "      <td>0.118720</td>\n",
       "      <td>-0.328740</td>\n",
       "      <td>-0.414070</td>\n",
       "      <td>-0.155800</td>\n",
       "      <td>0.254140</td>\n",
       "    </tr>\n",
       "    <tr>\n",
       "      <th>6</th>\n",
       "      <td>Etoposide+Etoposide+4</td>\n",
       "      <td>0</td>\n",
       "      <td>-0.053269</td>\n",
       "      <td>-0.097863</td>\n",
       "      <td>-0.140810</td>\n",
       "      <td>-0.122950</td>\n",
       "      <td>-0.187030</td>\n",
       "      <td>-0.133820</td>\n",
       "      <td>-0.118800</td>\n",
       "      <td>-0.111940</td>\n",
       "      <td>...</td>\n",
       "      <td>-0.037030</td>\n",
       "      <td>0.022158</td>\n",
       "      <td>-0.063846</td>\n",
       "      <td>-0.028590</td>\n",
       "      <td>-0.035556</td>\n",
       "      <td>0.022158</td>\n",
       "      <td>0.054081</td>\n",
       "      <td>-0.064252</td>\n",
       "      <td>-0.036111</td>\n",
       "      <td>0.043312</td>\n",
       "    </tr>\n",
       "    <tr>\n",
       "      <th>8</th>\n",
       "      <td>Etoposide+Etoposide+5</td>\n",
       "      <td>0</td>\n",
       "      <td>0.038568</td>\n",
       "      <td>-0.070623</td>\n",
       "      <td>-0.084830</td>\n",
       "      <td>-0.055402</td>\n",
       "      <td>-0.134990</td>\n",
       "      <td>-0.088421</td>\n",
       "      <td>-0.069816</td>\n",
       "      <td>-0.063219</td>\n",
       "      <td>...</td>\n",
       "      <td>-0.065165</td>\n",
       "      <td>0.025711</td>\n",
       "      <td>-0.056965</td>\n",
       "      <td>-0.050647</td>\n",
       "      <td>-0.059582</td>\n",
       "      <td>0.025711</td>\n",
       "      <td>0.059502</td>\n",
       "      <td>-0.043597</td>\n",
       "      <td>-0.037950</td>\n",
       "      <td>0.031688</td>\n",
       "    </tr>\n",
       "    <tr>\n",
       "      <th>10</th>\n",
       "      <td>Etoposide+Etoposide+6</td>\n",
       "      <td>0</td>\n",
       "      <td>-0.021682</td>\n",
       "      <td>-0.073558</td>\n",
       "      <td>-0.087733</td>\n",
       "      <td>-0.079325</td>\n",
       "      <td>-0.128700</td>\n",
       "      <td>-0.096127</td>\n",
       "      <td>-0.071604</td>\n",
       "      <td>-0.062475</td>\n",
       "      <td>...</td>\n",
       "      <td>-0.037668</td>\n",
       "      <td>-0.027406</td>\n",
       "      <td>-0.071549</td>\n",
       "      <td>-0.027870</td>\n",
       "      <td>-0.039805</td>\n",
       "      <td>-0.027406</td>\n",
       "      <td>0.035064</td>\n",
       "      <td>-0.047980</td>\n",
       "      <td>-0.037499</td>\n",
       "      <td>0.056148</td>\n",
       "    </tr>\n",
       "    <tr>\n",
       "      <th>84</th>\n",
       "      <td>Gemcitabine+Gemcitabine+1</td>\n",
       "      <td>0</td>\n",
       "      <td>-0.577500</td>\n",
       "      <td>-0.105360</td>\n",
       "      <td>0.197020</td>\n",
       "      <td>-0.168100</td>\n",
       "      <td>-0.319050</td>\n",
       "      <td>0.068571</td>\n",
       "      <td>0.231790</td>\n",
       "      <td>0.267980</td>\n",
       "      <td>...</td>\n",
       "      <td>0.115600</td>\n",
       "      <td>0.153210</td>\n",
       "      <td>-0.225830</td>\n",
       "      <td>0.269170</td>\n",
       "      <td>0.211190</td>\n",
       "      <td>0.153210</td>\n",
       "      <td>-0.581670</td>\n",
       "      <td>-0.572620</td>\n",
       "      <td>-0.298210</td>\n",
       "      <td>0.294170</td>\n",
       "    </tr>\n",
       "    <tr>\n",
       "      <th>86</th>\n",
       "      <td>Gemcitabine+Gemcitabine+2</td>\n",
       "      <td>0</td>\n",
       "      <td>-0.550000</td>\n",
       "      <td>-0.147800</td>\n",
       "      <td>0.190130</td>\n",
       "      <td>-0.239410</td>\n",
       "      <td>-0.402250</td>\n",
       "      <td>-0.110940</td>\n",
       "      <td>0.227700</td>\n",
       "      <td>0.269670</td>\n",
       "      <td>...</td>\n",
       "      <td>0.163910</td>\n",
       "      <td>0.109200</td>\n",
       "      <td>-0.305200</td>\n",
       "      <td>0.255050</td>\n",
       "      <td>0.202480</td>\n",
       "      <td>0.109200</td>\n",
       "      <td>-0.518940</td>\n",
       "      <td>-0.559890</td>\n",
       "      <td>-0.235320</td>\n",
       "      <td>0.350600</td>\n",
       "    </tr>\n",
       "    <tr>\n",
       "      <th>88</th>\n",
       "      <td>Gemcitabine+Gemcitabine+3</td>\n",
       "      <td>0</td>\n",
       "      <td>-0.567500</td>\n",
       "      <td>-0.097928</td>\n",
       "      <td>0.175350</td>\n",
       "      <td>-0.199960</td>\n",
       "      <td>-0.304410</td>\n",
       "      <td>-0.101320</td>\n",
       "      <td>0.185030</td>\n",
       "      <td>0.226570</td>\n",
       "      <td>...</td>\n",
       "      <td>0.138680</td>\n",
       "      <td>0.137460</td>\n",
       "      <td>-0.320050</td>\n",
       "      <td>0.285520</td>\n",
       "      <td>0.236940</td>\n",
       "      <td>0.137460</td>\n",
       "      <td>-0.508240</td>\n",
       "      <td>-0.554130</td>\n",
       "      <td>-0.252150</td>\n",
       "      <td>0.359150</td>\n",
       "    </tr>\n",
       "    <tr>\n",
       "      <th>90</th>\n",
       "      <td>Gemcitabine+Gemcitabine+4</td>\n",
       "      <td>0</td>\n",
       "      <td>-0.418330</td>\n",
       "      <td>0.067900</td>\n",
       "      <td>-0.145000</td>\n",
       "      <td>-0.118180</td>\n",
       "      <td>-0.190180</td>\n",
       "      <td>-0.141560</td>\n",
       "      <td>-0.137320</td>\n",
       "      <td>-0.126020</td>\n",
       "      <td>...</td>\n",
       "      <td>0.196990</td>\n",
       "      <td>0.196180</td>\n",
       "      <td>-0.195260</td>\n",
       "      <td>0.379020</td>\n",
       "      <td>0.339310</td>\n",
       "      <td>0.196180</td>\n",
       "      <td>-0.273760</td>\n",
       "      <td>-0.355510</td>\n",
       "      <td>-0.171610</td>\n",
       "      <td>0.227690</td>\n",
       "    </tr>\n",
       "    <tr>\n",
       "      <th>92</th>\n",
       "      <td>Gemcitabine+Gemcitabine+5</td>\n",
       "      <td>0</td>\n",
       "      <td>-0.086594</td>\n",
       "      <td>-0.154860</td>\n",
       "      <td>-0.197830</td>\n",
       "      <td>-0.135800</td>\n",
       "      <td>-0.295870</td>\n",
       "      <td>-0.196300</td>\n",
       "      <td>-0.166920</td>\n",
       "      <td>-0.165830</td>\n",
       "      <td>...</td>\n",
       "      <td>-0.073804</td>\n",
       "      <td>0.028551</td>\n",
       "      <td>-0.072029</td>\n",
       "      <td>-0.060906</td>\n",
       "      <td>-0.073225</td>\n",
       "      <td>0.028551</td>\n",
       "      <td>-0.070254</td>\n",
       "      <td>-0.106050</td>\n",
       "      <td>-0.091739</td>\n",
       "      <td>0.084746</td>\n",
       "    </tr>\n",
       "    <tr>\n",
       "      <th>94</th>\n",
       "      <td>Gemcitabine+Gemcitabine+6</td>\n",
       "      <td>0</td>\n",
       "      <td>0.062926</td>\n",
       "      <td>-0.086938</td>\n",
       "      <td>-0.063973</td>\n",
       "      <td>-0.070039</td>\n",
       "      <td>-0.167980</td>\n",
       "      <td>-0.071415</td>\n",
       "      <td>-0.042771</td>\n",
       "      <td>-0.042655</td>\n",
       "      <td>...</td>\n",
       "      <td>-0.089477</td>\n",
       "      <td>-0.042016</td>\n",
       "      <td>-0.044826</td>\n",
       "      <td>-0.088585</td>\n",
       "      <td>-0.107190</td>\n",
       "      <td>-0.042016</td>\n",
       "      <td>0.074341</td>\n",
       "      <td>0.052888</td>\n",
       "      <td>-0.055930</td>\n",
       "      <td>0.032636</td>\n",
       "    </tr>\n",
       "  </tbody>\n",
       "</table>\n",
       "<p>24 rows × 240 columns</p>\n",
       "</div>"
      ],
      "text/plain": [
       "                    drug_name  default       ks1       ks2       ks3  \\\n",
       "12    Etoposide+Gemcitabine+1        0 -0.639170 -0.144250  0.148430   \n",
       "14    Etoposide+Gemcitabine+2        0 -0.565830 -0.148970 -0.173080   \n",
       "16    Etoposide+Gemcitabine+3        0 -0.535830  0.097875 -0.143150   \n",
       "18    Etoposide+Gemcitabine+4        0 -0.459460  0.090733 -0.140140   \n",
       "20    Etoposide+Gemcitabine+5        0 -0.098333 -0.079680 -0.120000   \n",
       "22    Etoposide+Gemcitabine+6        0 -0.056667 -0.030110  0.025658   \n",
       "72    Gemcitabine+Etoposide+1        0 -0.690830 -0.072245  0.192740   \n",
       "74    Gemcitabine+Etoposide+2        0 -0.644170 -0.170130  0.119350   \n",
       "76    Gemcitabine+Etoposide+3        0 -0.515000 -0.122820  0.123830   \n",
       "78    Gemcitabine+Etoposide+4        0  0.019287 -0.145030 -0.192740   \n",
       "80    Gemcitabine+Etoposide+5        0  0.087826 -0.167370 -0.172580   \n",
       "82    Gemcitabine+Etoposide+6        0  0.046287 -0.124100 -0.127340   \n",
       "0       Etoposide+Etoposide+1        0 -0.658330 -0.151980 -0.133790   \n",
       "2       Etoposide+Etoposide+2        0 -0.596670 -0.183410 -0.224890   \n",
       "4       Etoposide+Etoposide+3        0 -0.507540  0.080714 -0.125940   \n",
       "6       Etoposide+Etoposide+4        0 -0.053269 -0.097863 -0.140810   \n",
       "8       Etoposide+Etoposide+5        0  0.038568 -0.070623 -0.084830   \n",
       "10      Etoposide+Etoposide+6        0 -0.021682 -0.073558 -0.087733   \n",
       "84  Gemcitabine+Gemcitabine+1        0 -0.577500 -0.105360  0.197020   \n",
       "86  Gemcitabine+Gemcitabine+2        0 -0.550000 -0.147800  0.190130   \n",
       "88  Gemcitabine+Gemcitabine+3        0 -0.567500 -0.097928  0.175350   \n",
       "90  Gemcitabine+Gemcitabine+4        0 -0.418330  0.067900 -0.145000   \n",
       "92  Gemcitabine+Gemcitabine+5        0 -0.086594 -0.154860 -0.197830   \n",
       "94  Gemcitabine+Gemcitabine+6        0  0.062926 -0.086938 -0.063973   \n",
       "\n",
       "         ks4       ks5       ks6       ks7       ks8  ...     ks229     ks230  \\\n",
       "12 -0.206640 -0.365490 -0.116250  0.160770  0.205180  ...  0.247910  0.142580   \n",
       "14 -0.251080 -0.377400 -0.185960 -0.166540 -0.149940  ...  0.235990  0.189400   \n",
       "16 -0.098313 -0.125500 -0.143980 -0.158160 -0.148350  ...  0.278330  0.256040   \n",
       "18 -0.069508 -0.167160 -0.150810 -0.136360 -0.125550  ...  0.233550  0.226280   \n",
       "20 -0.084225 -0.170440 -0.116250 -0.111180 -0.106920  ...  0.057003  0.043050   \n",
       "22 -0.061638 -0.047487  0.029334  0.035004  0.038447  ... -0.021942  0.024703   \n",
       "72 -0.173770 -0.333780  0.063140  0.226760  0.267730  ...  0.181340  0.121490   \n",
       "74 -0.200000 -0.381920 -0.115790  0.153420  0.204870  ...  0.208230  0.145430   \n",
       "76 -0.201090 -0.403390 -0.116680  0.145850  0.198010  ...  0.166140  0.111680   \n",
       "78 -0.111530 -0.278820 -0.193440 -0.168010 -0.159800  ... -0.075304 -0.036240   \n",
       "80 -0.098315 -0.294110 -0.173290 -0.144740 -0.138530  ... -0.109910  0.026654   \n",
       "82 -0.088924 -0.230600 -0.126990 -0.107180 -0.095707  ... -0.087753 -0.039599   \n",
       "0  -0.228720 -0.421970 -0.130760  0.161730  0.208450  ...  0.232730  0.096027   \n",
       "2  -0.310260 -0.445170 -0.227970 -0.190090 -0.174000  ...  0.220820  0.146930   \n",
       "4   0.104190 -0.129000 -0.133430 -0.130930 -0.134840  ...  0.299920  0.118720   \n",
       "6  -0.122950 -0.187030 -0.133820 -0.118800 -0.111940  ... -0.037030  0.022158   \n",
       "8  -0.055402 -0.134990 -0.088421 -0.069816 -0.063219  ... -0.065165  0.025711   \n",
       "10 -0.079325 -0.128700 -0.096127 -0.071604 -0.062475  ... -0.037668 -0.027406   \n",
       "84 -0.168100 -0.319050  0.068571  0.231790  0.267980  ...  0.115600  0.153210   \n",
       "86 -0.239410 -0.402250 -0.110940  0.227700  0.269670  ...  0.163910  0.109200   \n",
       "88 -0.199960 -0.304410 -0.101320  0.185030  0.226570  ...  0.138680  0.137460   \n",
       "90 -0.118180 -0.190180 -0.141560 -0.137320 -0.126020  ...  0.196990  0.196180   \n",
       "92 -0.135800 -0.295870 -0.196300 -0.166920 -0.165830  ... -0.073804  0.028551   \n",
       "94 -0.070039 -0.167980 -0.071415 -0.042771 -0.042655  ... -0.089477 -0.042016   \n",
       "\n",
       "       ks231     ks232     ks233     ks234     ks235     ks236     ks237  \\\n",
       "12 -0.400640  0.383250  0.333460  0.142580 -0.582600 -0.645280 -0.255230   \n",
       "14 -0.425990  0.397740  0.312770  0.189400 -0.506840 -0.601820 -0.194810   \n",
       "16 -0.286360  0.501470  0.430570  0.256040 -0.341480 -0.440620 -0.227430   \n",
       "18 -0.173630  0.437650  0.405720  0.226280 -0.291770 -0.360490 -0.117630   \n",
       "20 -0.099577  0.082478  0.064693  0.043050 -0.115180 -0.164870 -0.083051   \n",
       "22 -0.031179  0.044452  0.029900  0.024703 -0.074829 -0.102030 -0.051486   \n",
       "72 -0.188670  0.271740  0.237440  0.121490 -0.564480 -0.541560 -0.246590   \n",
       "74 -0.311390  0.328440  0.266620  0.145430 -0.572710 -0.599840 -0.283470   \n",
       "76 -0.309330  0.253840  0.233610  0.111680 -0.450320 -0.500650 -0.265770   \n",
       "78 -0.063120 -0.081402 -0.089973 -0.036240  0.072861  0.051307 -0.061785   \n",
       "80 -0.029774 -0.119600 -0.125730  0.026654  0.073383  0.046184 -0.073227   \n",
       "82  0.023745 -0.100910 -0.095169 -0.039599  0.061097  0.037679 -0.033165   \n",
       "0  -0.312950  0.339520  0.284891  0.096027 -0.559880 -0.570040 -0.212690   \n",
       "2  -0.368010  0.342450  0.285190  0.146930 -0.498490 -0.577490 -0.216200   \n",
       "4  -0.206960  0.427030  0.391510  0.118720 -0.328740 -0.414070 -0.155800   \n",
       "6  -0.063846 -0.028590 -0.035556  0.022158  0.054081 -0.064252 -0.036111   \n",
       "8  -0.056965 -0.050647 -0.059582  0.025711  0.059502 -0.043597 -0.037950   \n",
       "10 -0.071549 -0.027870 -0.039805 -0.027406  0.035064 -0.047980 -0.037499   \n",
       "84 -0.225830  0.269170  0.211190  0.153210 -0.581670 -0.572620 -0.298210   \n",
       "86 -0.305200  0.255050  0.202480  0.109200 -0.518940 -0.559890 -0.235320   \n",
       "88 -0.320050  0.285520  0.236940  0.137460 -0.508240 -0.554130 -0.252150   \n",
       "90 -0.195260  0.379020  0.339310  0.196180 -0.273760 -0.355510 -0.171610   \n",
       "92 -0.072029 -0.060906 -0.073225  0.028551 -0.070254 -0.106050 -0.091739   \n",
       "94 -0.044826 -0.088585 -0.107190 -0.042016  0.074341  0.052888 -0.055930   \n",
       "\n",
       "       ks238  \n",
       "12  0.406690  \n",
       "14  0.441380  \n",
       "16  0.318870  \n",
       "18  0.212030  \n",
       "20  0.098872  \n",
       "22  0.029702  \n",
       "72  0.234070  \n",
       "74  0.356070  \n",
       "76  0.330860  \n",
       "78  0.041670  \n",
       "80  0.030426  \n",
       "82 -0.035960  \n",
       "0   0.353240  \n",
       "2   0.398800  \n",
       "4   0.254140  \n",
       "6   0.043312  \n",
       "8   0.031688  \n",
       "10  0.056148  \n",
       "84  0.294170  \n",
       "86  0.350600  \n",
       "88  0.359150  \n",
       "90  0.227690  \n",
       "92  0.084746  \n",
       "94  0.032636  \n",
       "\n",
       "[24 rows x 240 columns]"
      ]
     },
     "execution_count": 9,
     "metadata": {},
     "output_type": "execute_result"
    }
   ],
   "source": [
    "\n",
    "#one type first type. mt\n",
    "df11=df.loc[(df['drug_name'] =='Paclitaxel+Vinblastine+1') ]\n",
    "df12=df.loc[(df['drug_name'] =='Paclitaxel+Vinblastine+2') ]\n",
    "df13=df.loc[(df['drug_name'] =='Paclitaxel+Vinblastine+3') ]\n",
    "df14=df.loc[(df['drug_name'] =='Paclitaxel+Vinblastine+4') ]\n",
    "df15=df.loc[(df['drug_name'] =='Paclitaxel+Vinblastine+5') ]\n",
    "df16=df.loc[(df['drug_name'] =='Paclitaxel+Vinblastine+6') ]\n",
    "df21=df.loc[(df['drug_name'] =='Vinblastine+Paclitaxel+1') ]\n",
    "df22=df.loc[(df['drug_name'] =='Vinblastine+Paclitaxel+2') ]\n",
    "df23=df.loc[(df['drug_name'] =='Vinblastine+Paclitaxel+3') ]\n",
    "df24=df.loc[(df['drug_name'] =='Vinblastine+Paclitaxel+4') ]\n",
    "df25=df.loc[(df['drug_name'] =='Vinblastine+Paclitaxel+5') ]\n",
    "df26=df.loc[(df['drug_name'] =='Vinblastine+Paclitaxel+6') ]\n",
    "df31=df.loc[(df['drug_name'] =='Paclitaxel+Paclitaxel+1') ]\n",
    "df32=df.loc[(df['drug_name'] =='Paclitaxel+Paclitaxel+2') ]\n",
    "df33=df.loc[(df['drug_name'] =='Paclitaxel+Paclitaxel+3') ]\n",
    "df34=df.loc[(df['drug_name'] =='Paclitaxel+Paclitaxel+4') ]\n",
    "df35=df.loc[(df['drug_name'] =='Paclitaxel+Paclitaxel+5') ]\n",
    "df36=df.loc[(df['drug_name'] =='Paclitaxel+Paclitaxel+6') ]\n",
    "df41=df.loc[(df['drug_name'] =='Vinblastine+Vinblastine+1') ]\n",
    "df42=df.loc[(df['drug_name'] =='Vinblastine+Vinblastine+2') ]\n",
    "df43=df.loc[(df['drug_name'] =='Vinblastine+Vinblastine+3') ]\n",
    "df44=df.loc[(df['drug_name'] =='Vinblastine+Vinblastine+4') ]\n",
    "df45=df.loc[(df['drug_name'] =='Vinblastine+Vinblastine+5') ]\n",
    "df46=df.loc[(df['drug_name'] =='Vinblastine+Vinblastine+6') ]\n",
    "frames2 = [df11, df12,df13,df14,df15,df16,df21,df22,df23,df24,df25,df26,df31,df32,df33,df34,df35,df36,df41,df42,df43,df44,df45,df46]\n",
    "mt= pd.concat(frames)\n",
    "mt\n",
    "\n"
   ]
  },
  {
   "cell_type": "code",
   "execution_count": 10,
   "metadata": {},
   "outputs": [
    {
     "data": {
      "text/html": [
       "<div>\n",
       "<style scoped>\n",
       "    .dataframe tbody tr th:only-of-type {\n",
       "        vertical-align: middle;\n",
       "    }\n",
       "\n",
       "    .dataframe tbody tr th {\n",
       "        vertical-align: top;\n",
       "    }\n",
       "\n",
       "    .dataframe thead th {\n",
       "        text-align: right;\n",
       "    }\n",
       "</style>\n",
       "<table border=\"1\" class=\"dataframe\">\n",
       "  <thead>\n",
       "    <tr style=\"text-align: right;\">\n",
       "      <th></th>\n",
       "      <th>drug_name</th>\n",
       "      <th>default</th>\n",
       "      <th>ks1</th>\n",
       "      <th>ks2</th>\n",
       "      <th>ks3</th>\n",
       "      <th>ks4</th>\n",
       "      <th>ks5</th>\n",
       "      <th>ks6</th>\n",
       "      <th>ks7</th>\n",
       "      <th>ks8</th>\n",
       "      <th>...</th>\n",
       "      <th>ks229</th>\n",
       "      <th>ks230</th>\n",
       "      <th>ks231</th>\n",
       "      <th>ks232</th>\n",
       "      <th>ks233</th>\n",
       "      <th>ks234</th>\n",
       "      <th>ks235</th>\n",
       "      <th>ks236</th>\n",
       "      <th>ks237</th>\n",
       "      <th>ks238</th>\n",
       "    </tr>\n",
       "  </thead>\n",
       "  <tbody>\n",
       "    <tr>\n",
       "      <th>397</th>\n",
       "      <td>17AAG+AUY922+1</td>\n",
       "      <td>0</td>\n",
       "      <td>-0.674170</td>\n",
       "      <td>-0.165250</td>\n",
       "      <td>0.200230</td>\n",
       "      <td>-0.264110</td>\n",
       "      <td>-0.360210</td>\n",
       "      <td>0.080297</td>\n",
       "      <td>0.233460</td>\n",
       "      <td>0.273340</td>\n",
       "      <td>...</td>\n",
       "      <td>0.194160</td>\n",
       "      <td>0.150090</td>\n",
       "      <td>-0.245180</td>\n",
       "      <td>0.309580</td>\n",
       "      <td>0.269810</td>\n",
       "      <td>0.150090</td>\n",
       "      <td>-0.643760</td>\n",
       "      <td>-0.616310</td>\n",
       "      <td>-0.296550</td>\n",
       "      <td>0.309170</td>\n",
       "    </tr>\n",
       "    <tr>\n",
       "      <th>399</th>\n",
       "      <td>17AAG+AUY922+2</td>\n",
       "      <td>0</td>\n",
       "      <td>-0.700830</td>\n",
       "      <td>-0.147950</td>\n",
       "      <td>0.164460</td>\n",
       "      <td>-0.306230</td>\n",
       "      <td>-0.410260</td>\n",
       "      <td>-0.143580</td>\n",
       "      <td>0.182530</td>\n",
       "      <td>0.231010</td>\n",
       "      <td>...</td>\n",
       "      <td>0.260780</td>\n",
       "      <td>0.144160</td>\n",
       "      <td>-0.337270</td>\n",
       "      <td>0.367270</td>\n",
       "      <td>0.306300</td>\n",
       "      <td>0.144160</td>\n",
       "      <td>-0.568830</td>\n",
       "      <td>-0.611730</td>\n",
       "      <td>-0.276100</td>\n",
       "      <td>0.357770</td>\n",
       "    </tr>\n",
       "    <tr>\n",
       "      <th>401</th>\n",
       "      <td>17AAG+AUY922+3</td>\n",
       "      <td>0</td>\n",
       "      <td>-0.711670</td>\n",
       "      <td>-0.172910</td>\n",
       "      <td>0.209390</td>\n",
       "      <td>-0.305160</td>\n",
       "      <td>-0.407760</td>\n",
       "      <td>-0.132470</td>\n",
       "      <td>0.234060</td>\n",
       "      <td>0.264910</td>\n",
       "      <td>...</td>\n",
       "      <td>0.224340</td>\n",
       "      <td>0.120910</td>\n",
       "      <td>-0.339780</td>\n",
       "      <td>0.301420</td>\n",
       "      <td>0.248450</td>\n",
       "      <td>0.120910</td>\n",
       "      <td>-0.576480</td>\n",
       "      <td>-0.609080</td>\n",
       "      <td>-0.243950</td>\n",
       "      <td>0.384440</td>\n",
       "    </tr>\n",
       "    <tr>\n",
       "      <th>403</th>\n",
       "      <td>17AAG+AUY922+4</td>\n",
       "      <td>0</td>\n",
       "      <td>-0.385830</td>\n",
       "      <td>-0.076059</td>\n",
       "      <td>-0.110900</td>\n",
       "      <td>-0.101530</td>\n",
       "      <td>-0.140170</td>\n",
       "      <td>-0.112720</td>\n",
       "      <td>-0.121420</td>\n",
       "      <td>-0.106850</td>\n",
       "      <td>...</td>\n",
       "      <td>0.195070</td>\n",
       "      <td>0.121020</td>\n",
       "      <td>-0.129360</td>\n",
       "      <td>0.308130</td>\n",
       "      <td>0.278850</td>\n",
       "      <td>0.121020</td>\n",
       "      <td>-0.327970</td>\n",
       "      <td>-0.362930</td>\n",
       "      <td>-0.205540</td>\n",
       "      <td>0.184100</td>\n",
       "    </tr>\n",
       "    <tr>\n",
       "      <th>405</th>\n",
       "      <td>17AAG+AUY922+5</td>\n",
       "      <td>0</td>\n",
       "      <td>-0.035735</td>\n",
       "      <td>-0.068093</td>\n",
       "      <td>-0.095508</td>\n",
       "      <td>-0.068125</td>\n",
       "      <td>-0.092885</td>\n",
       "      <td>-0.099710</td>\n",
       "      <td>-0.097177</td>\n",
       "      <td>-0.088020</td>\n",
       "      <td>...</td>\n",
       "      <td>0.049356</td>\n",
       "      <td>-0.061358</td>\n",
       "      <td>0.029322</td>\n",
       "      <td>0.032745</td>\n",
       "      <td>0.044422</td>\n",
       "      <td>-0.061358</td>\n",
       "      <td>-0.058091</td>\n",
       "      <td>-0.043913</td>\n",
       "      <td>0.029463</td>\n",
       "      <td>-0.030168</td>\n",
       "    </tr>\n",
       "    <tr>\n",
       "      <th>407</th>\n",
       "      <td>17AAG+AUY922+6</td>\n",
       "      <td>0</td>\n",
       "      <td>0.034927</td>\n",
       "      <td>0.029695</td>\n",
       "      <td>0.040069</td>\n",
       "      <td>-0.022628</td>\n",
       "      <td>0.039578</td>\n",
       "      <td>0.036269</td>\n",
       "      <td>0.030207</td>\n",
       "      <td>0.031801</td>\n",
       "      <td>...</td>\n",
       "      <td>0.029750</td>\n",
       "      <td>-0.064527</td>\n",
       "      <td>0.029504</td>\n",
       "      <td>-0.023891</td>\n",
       "      <td>-0.033674</td>\n",
       "      <td>-0.064527</td>\n",
       "      <td>-0.028519</td>\n",
       "      <td>0.023209</td>\n",
       "      <td>0.043316</td>\n",
       "      <td>0.015280</td>\n",
       "    </tr>\n",
       "    <tr>\n",
       "      <th>457</th>\n",
       "      <td>AUY922+17AAG+1</td>\n",
       "      <td>0</td>\n",
       "      <td>-0.546670</td>\n",
       "      <td>-0.103750</td>\n",
       "      <td>0.143520</td>\n",
       "      <td>-0.217090</td>\n",
       "      <td>-0.367850</td>\n",
       "      <td>-0.124090</td>\n",
       "      <td>0.175090</td>\n",
       "      <td>0.210830</td>\n",
       "      <td>...</td>\n",
       "      <td>0.213960</td>\n",
       "      <td>0.168560</td>\n",
       "      <td>-0.322850</td>\n",
       "      <td>0.333720</td>\n",
       "      <td>0.273550</td>\n",
       "      <td>0.168560</td>\n",
       "      <td>-0.535390</td>\n",
       "      <td>-0.569360</td>\n",
       "      <td>-0.299790</td>\n",
       "      <td>0.362140</td>\n",
       "    </tr>\n",
       "    <tr>\n",
       "      <th>459</th>\n",
       "      <td>AUY922+17AAG+2</td>\n",
       "      <td>0</td>\n",
       "      <td>-0.534170</td>\n",
       "      <td>-0.105630</td>\n",
       "      <td>-0.166570</td>\n",
       "      <td>-0.214090</td>\n",
       "      <td>-0.300690</td>\n",
       "      <td>-0.187910</td>\n",
       "      <td>-0.175280</td>\n",
       "      <td>-0.146890</td>\n",
       "      <td>...</td>\n",
       "      <td>0.281640</td>\n",
       "      <td>0.153210</td>\n",
       "      <td>-0.333080</td>\n",
       "      <td>0.391700</td>\n",
       "      <td>0.339380</td>\n",
       "      <td>0.153210</td>\n",
       "      <td>-0.405190</td>\n",
       "      <td>-0.503380</td>\n",
       "      <td>-0.213590</td>\n",
       "      <td>0.367460</td>\n",
       "    </tr>\n",
       "    <tr>\n",
       "      <th>461</th>\n",
       "      <td>AUY922+17AAG+3</td>\n",
       "      <td>0</td>\n",
       "      <td>-0.500000</td>\n",
       "      <td>0.089967</td>\n",
       "      <td>-0.169070</td>\n",
       "      <td>-0.131880</td>\n",
       "      <td>-0.174120</td>\n",
       "      <td>-0.164440</td>\n",
       "      <td>-0.159540</td>\n",
       "      <td>-0.144480</td>\n",
       "      <td>...</td>\n",
       "      <td>0.309000</td>\n",
       "      <td>0.183740</td>\n",
       "      <td>-0.213460</td>\n",
       "      <td>0.459440</td>\n",
       "      <td>0.421960</td>\n",
       "      <td>0.183740</td>\n",
       "      <td>-0.326910</td>\n",
       "      <td>-0.366540</td>\n",
       "      <td>-0.153870</td>\n",
       "      <td>0.262730</td>\n",
       "    </tr>\n",
       "    <tr>\n",
       "      <th>463</th>\n",
       "      <td>AUY922+17AAG+4</td>\n",
       "      <td>0</td>\n",
       "      <td>-0.488510</td>\n",
       "      <td>0.117650</td>\n",
       "      <td>-0.116610</td>\n",
       "      <td>0.067337</td>\n",
       "      <td>-0.167390</td>\n",
       "      <td>-0.128630</td>\n",
       "      <td>-0.111070</td>\n",
       "      <td>-0.102890</td>\n",
       "      <td>...</td>\n",
       "      <td>0.260980</td>\n",
       "      <td>0.249830</td>\n",
       "      <td>-0.159160</td>\n",
       "      <td>0.435610</td>\n",
       "      <td>0.411490</td>\n",
       "      <td>0.249830</td>\n",
       "      <td>-0.276550</td>\n",
       "      <td>-0.300780</td>\n",
       "      <td>-0.133790</td>\n",
       "      <td>0.197530</td>\n",
       "    </tr>\n",
       "    <tr>\n",
       "      <th>465</th>\n",
       "      <td>AUY922+17AAG+5</td>\n",
       "      <td>0</td>\n",
       "      <td>0.103470</td>\n",
       "      <td>-0.141110</td>\n",
       "      <td>-0.147490</td>\n",
       "      <td>-0.090191</td>\n",
       "      <td>-0.207450</td>\n",
       "      <td>-0.154570</td>\n",
       "      <td>-0.133400</td>\n",
       "      <td>-0.119800</td>\n",
       "      <td>...</td>\n",
       "      <td>-0.111550</td>\n",
       "      <td>-0.034668</td>\n",
       "      <td>0.032796</td>\n",
       "      <td>-0.127420</td>\n",
       "      <td>-0.132540</td>\n",
       "      <td>-0.034668</td>\n",
       "      <td>0.026069</td>\n",
       "      <td>-0.020105</td>\n",
       "      <td>-0.068546</td>\n",
       "      <td>0.024818</td>\n",
       "    </tr>\n",
       "    <tr>\n",
       "      <th>467</th>\n",
       "      <td>AUY922+17AAG+6</td>\n",
       "      <td>0</td>\n",
       "      <td>0.078576</td>\n",
       "      <td>-0.121490</td>\n",
       "      <td>-0.154390</td>\n",
       "      <td>0.057324</td>\n",
       "      <td>-0.230240</td>\n",
       "      <td>-0.165680</td>\n",
       "      <td>-0.141750</td>\n",
       "      <td>-0.125250</td>\n",
       "      <td>...</td>\n",
       "      <td>-0.097280</td>\n",
       "      <td>-0.056917</td>\n",
       "      <td>-0.027683</td>\n",
       "      <td>-0.115160</td>\n",
       "      <td>-0.098161</td>\n",
       "      <td>-0.056917</td>\n",
       "      <td>0.051001</td>\n",
       "      <td>0.039974</td>\n",
       "      <td>-0.043647</td>\n",
       "      <td>-0.021913</td>\n",
       "    </tr>\n",
       "    <tr>\n",
       "      <th>469</th>\n",
       "      <td>AUY922+AUY922+1</td>\n",
       "      <td>0</td>\n",
       "      <td>-0.627500</td>\n",
       "      <td>-0.100820</td>\n",
       "      <td>0.278970</td>\n",
       "      <td>-0.201220</td>\n",
       "      <td>-0.332010</td>\n",
       "      <td>0.134990</td>\n",
       "      <td>0.296720</td>\n",
       "      <td>0.348100</td>\n",
       "      <td>...</td>\n",
       "      <td>0.152970</td>\n",
       "      <td>0.154600</td>\n",
       "      <td>-0.211530</td>\n",
       "      <td>0.288170</td>\n",
       "      <td>0.241910</td>\n",
       "      <td>0.154600</td>\n",
       "      <td>-0.579220</td>\n",
       "      <td>-0.536160</td>\n",
       "      <td>-0.317500</td>\n",
       "      <td>0.295820</td>\n",
       "    </tr>\n",
       "    <tr>\n",
       "      <th>471</th>\n",
       "      <td>AUY922+AUY922+2</td>\n",
       "      <td>0</td>\n",
       "      <td>-0.625830</td>\n",
       "      <td>-0.128380</td>\n",
       "      <td>0.193910</td>\n",
       "      <td>-0.258700</td>\n",
       "      <td>-0.322990</td>\n",
       "      <td>-0.089658</td>\n",
       "      <td>0.216000</td>\n",
       "      <td>0.263310</td>\n",
       "      <td>...</td>\n",
       "      <td>0.247240</td>\n",
       "      <td>0.117780</td>\n",
       "      <td>-0.338870</td>\n",
       "      <td>0.348180</td>\n",
       "      <td>0.301000</td>\n",
       "      <td>0.117780</td>\n",
       "      <td>-0.595380</td>\n",
       "      <td>-0.633480</td>\n",
       "      <td>-0.232500</td>\n",
       "      <td>0.383500</td>\n",
       "    </tr>\n",
       "    <tr>\n",
       "      <th>473</th>\n",
       "      <td>AUY922+AUY922+3</td>\n",
       "      <td>0</td>\n",
       "      <td>-0.570830</td>\n",
       "      <td>-0.173100</td>\n",
       "      <td>-0.154870</td>\n",
       "      <td>-0.309510</td>\n",
       "      <td>-0.499800</td>\n",
       "      <td>-0.180530</td>\n",
       "      <td>0.160800</td>\n",
       "      <td>0.221650</td>\n",
       "      <td>...</td>\n",
       "      <td>0.183690</td>\n",
       "      <td>0.125750</td>\n",
       "      <td>-0.308570</td>\n",
       "      <td>0.296670</td>\n",
       "      <td>0.252310</td>\n",
       "      <td>0.125750</td>\n",
       "      <td>-0.515830</td>\n",
       "      <td>-0.562230</td>\n",
       "      <td>-0.260740</td>\n",
       "      <td>0.344360</td>\n",
       "    </tr>\n",
       "    <tr>\n",
       "      <th>475</th>\n",
       "      <td>AUY922+AUY922+4</td>\n",
       "      <td>0</td>\n",
       "      <td>-0.480000</td>\n",
       "      <td>0.096645</td>\n",
       "      <td>-0.134630</td>\n",
       "      <td>-0.131010</td>\n",
       "      <td>-0.144580</td>\n",
       "      <td>-0.139840</td>\n",
       "      <td>-0.146700</td>\n",
       "      <td>-0.136710</td>\n",
       "      <td>...</td>\n",
       "      <td>0.233660</td>\n",
       "      <td>0.289440</td>\n",
       "      <td>-0.227160</td>\n",
       "      <td>0.441070</td>\n",
       "      <td>0.412200</td>\n",
       "      <td>0.289440</td>\n",
       "      <td>-0.325660</td>\n",
       "      <td>-0.383750</td>\n",
       "      <td>-0.238240</td>\n",
       "      <td>0.259330</td>\n",
       "    </tr>\n",
       "    <tr>\n",
       "      <th>477</th>\n",
       "      <td>AUY922+AUY922+5</td>\n",
       "      <td>0</td>\n",
       "      <td>-0.111090</td>\n",
       "      <td>-0.119700</td>\n",
       "      <td>-0.193500</td>\n",
       "      <td>-0.131400</td>\n",
       "      <td>-0.215590</td>\n",
       "      <td>-0.186440</td>\n",
       "      <td>-0.182420</td>\n",
       "      <td>-0.174890</td>\n",
       "      <td>...</td>\n",
       "      <td>0.048307</td>\n",
       "      <td>-0.036060</td>\n",
       "      <td>-0.068808</td>\n",
       "      <td>0.044419</td>\n",
       "      <td>0.047941</td>\n",
       "      <td>-0.036060</td>\n",
       "      <td>-0.078903</td>\n",
       "      <td>-0.081848</td>\n",
       "      <td>-0.051267</td>\n",
       "      <td>0.065000</td>\n",
       "    </tr>\n",
       "    <tr>\n",
       "      <th>479</th>\n",
       "      <td>AUY922+AUY922+6</td>\n",
       "      <td>0</td>\n",
       "      <td>0.077260</td>\n",
       "      <td>-0.065729</td>\n",
       "      <td>-0.067111</td>\n",
       "      <td>-0.107860</td>\n",
       "      <td>-0.056747</td>\n",
       "      <td>-0.062081</td>\n",
       "      <td>-0.074421</td>\n",
       "      <td>-0.063658</td>\n",
       "      <td>...</td>\n",
       "      <td>-0.062735</td>\n",
       "      <td>-0.046472</td>\n",
       "      <td>-0.033543</td>\n",
       "      <td>-0.061652</td>\n",
       "      <td>-0.061088</td>\n",
       "      <td>-0.046472</td>\n",
       "      <td>0.043343</td>\n",
       "      <td>0.024561</td>\n",
       "      <td>-0.044296</td>\n",
       "      <td>0.031307</td>\n",
       "    </tr>\n",
       "    <tr>\n",
       "      <th>385</th>\n",
       "      <td>17AAG+17AAG+1</td>\n",
       "      <td>0</td>\n",
       "      <td>-0.630000</td>\n",
       "      <td>-0.178550</td>\n",
       "      <td>0.150480</td>\n",
       "      <td>-0.300570</td>\n",
       "      <td>-0.389470</td>\n",
       "      <td>-0.146400</td>\n",
       "      <td>0.178880</td>\n",
       "      <td>0.228610</td>\n",
       "      <td>...</td>\n",
       "      <td>0.222770</td>\n",
       "      <td>0.162170</td>\n",
       "      <td>-0.328160</td>\n",
       "      <td>0.366210</td>\n",
       "      <td>0.316790</td>\n",
       "      <td>0.162170</td>\n",
       "      <td>-0.604310</td>\n",
       "      <td>-0.602080</td>\n",
       "      <td>-0.260130</td>\n",
       "      <td>0.356700</td>\n",
       "    </tr>\n",
       "    <tr>\n",
       "      <th>387</th>\n",
       "      <td>17AAG+17AAG+2</td>\n",
       "      <td>0</td>\n",
       "      <td>-0.601670</td>\n",
       "      <td>-0.144300</td>\n",
       "      <td>-0.164650</td>\n",
       "      <td>-0.283210</td>\n",
       "      <td>-0.358190</td>\n",
       "      <td>-0.210870</td>\n",
       "      <td>-0.164890</td>\n",
       "      <td>0.157050</td>\n",
       "      <td>...</td>\n",
       "      <td>0.277410</td>\n",
       "      <td>0.164270</td>\n",
       "      <td>-0.370230</td>\n",
       "      <td>0.378680</td>\n",
       "      <td>0.326500</td>\n",
       "      <td>0.164270</td>\n",
       "      <td>-0.504140</td>\n",
       "      <td>-0.557970</td>\n",
       "      <td>-0.201740</td>\n",
       "      <td>0.396740</td>\n",
       "    </tr>\n",
       "    <tr>\n",
       "      <th>389</th>\n",
       "      <td>17AAG+17AAG+3</td>\n",
       "      <td>0</td>\n",
       "      <td>-0.444170</td>\n",
       "      <td>0.069580</td>\n",
       "      <td>-0.140730</td>\n",
       "      <td>-0.064966</td>\n",
       "      <td>-0.127770</td>\n",
       "      <td>-0.158230</td>\n",
       "      <td>-0.149290</td>\n",
       "      <td>-0.132510</td>\n",
       "      <td>...</td>\n",
       "      <td>0.272500</td>\n",
       "      <td>0.127560</td>\n",
       "      <td>-0.206850</td>\n",
       "      <td>0.376260</td>\n",
       "      <td>0.363970</td>\n",
       "      <td>0.127560</td>\n",
       "      <td>-0.271710</td>\n",
       "      <td>-0.342690</td>\n",
       "      <td>-0.183020</td>\n",
       "      <td>0.259040</td>\n",
       "    </tr>\n",
       "    <tr>\n",
       "      <th>391</th>\n",
       "      <td>17AAG+17AAG+4</td>\n",
       "      <td>0</td>\n",
       "      <td>0.061841</td>\n",
       "      <td>-0.167950</td>\n",
       "      <td>-0.190900</td>\n",
       "      <td>-0.183980</td>\n",
       "      <td>-0.219550</td>\n",
       "      <td>-0.191940</td>\n",
       "      <td>-0.185870</td>\n",
       "      <td>-0.167400</td>\n",
       "      <td>...</td>\n",
       "      <td>-0.077980</td>\n",
       "      <td>-0.031057</td>\n",
       "      <td>-0.048964</td>\n",
       "      <td>-0.090316</td>\n",
       "      <td>-0.088328</td>\n",
       "      <td>-0.031057</td>\n",
       "      <td>0.050463</td>\n",
       "      <td>-0.019334</td>\n",
       "      <td>-0.064789</td>\n",
       "      <td>0.066030</td>\n",
       "    </tr>\n",
       "    <tr>\n",
       "      <th>393</th>\n",
       "      <td>17AAG+17AAG+5</td>\n",
       "      <td>0</td>\n",
       "      <td>0.019024</td>\n",
       "      <td>-0.070078</td>\n",
       "      <td>-0.085918</td>\n",
       "      <td>-0.101700</td>\n",
       "      <td>-0.077878</td>\n",
       "      <td>-0.087723</td>\n",
       "      <td>-0.086992</td>\n",
       "      <td>-0.073214</td>\n",
       "      <td>...</td>\n",
       "      <td>-0.027454</td>\n",
       "      <td>-0.046287</td>\n",
       "      <td>0.026906</td>\n",
       "      <td>-0.043761</td>\n",
       "      <td>-0.040868</td>\n",
       "      <td>-0.046287</td>\n",
       "      <td>0.035078</td>\n",
       "      <td>0.032853</td>\n",
       "      <td>0.028508</td>\n",
       "      <td>-0.045145</td>\n",
       "    </tr>\n",
       "    <tr>\n",
       "      <th>395</th>\n",
       "      <td>17AAG+17AAG+6</td>\n",
       "      <td>0</td>\n",
       "      <td>-0.043149</td>\n",
       "      <td>-0.074153</td>\n",
       "      <td>-0.102210</td>\n",
       "      <td>-0.055896</td>\n",
       "      <td>-0.127040</td>\n",
       "      <td>-0.109260</td>\n",
       "      <td>-0.099949</td>\n",
       "      <td>-0.087387</td>\n",
       "      <td>...</td>\n",
       "      <td>0.057151</td>\n",
       "      <td>-0.034294</td>\n",
       "      <td>-0.024818</td>\n",
       "      <td>0.040144</td>\n",
       "      <td>0.053284</td>\n",
       "      <td>-0.034294</td>\n",
       "      <td>-0.071586</td>\n",
       "      <td>-0.057348</td>\n",
       "      <td>-0.058354</td>\n",
       "      <td>0.020486</td>\n",
       "    </tr>\n",
       "  </tbody>\n",
       "</table>\n",
       "<p>24 rows × 240 columns</p>\n",
       "</div>"
      ],
      "text/plain": [
       "           drug_name  default       ks1       ks2       ks3       ks4  \\\n",
       "397   17AAG+AUY922+1        0 -0.674170 -0.165250  0.200230 -0.264110   \n",
       "399   17AAG+AUY922+2        0 -0.700830 -0.147950  0.164460 -0.306230   \n",
       "401   17AAG+AUY922+3        0 -0.711670 -0.172910  0.209390 -0.305160   \n",
       "403   17AAG+AUY922+4        0 -0.385830 -0.076059 -0.110900 -0.101530   \n",
       "405   17AAG+AUY922+5        0 -0.035735 -0.068093 -0.095508 -0.068125   \n",
       "407   17AAG+AUY922+6        0  0.034927  0.029695  0.040069 -0.022628   \n",
       "457   AUY922+17AAG+1        0 -0.546670 -0.103750  0.143520 -0.217090   \n",
       "459   AUY922+17AAG+2        0 -0.534170 -0.105630 -0.166570 -0.214090   \n",
       "461   AUY922+17AAG+3        0 -0.500000  0.089967 -0.169070 -0.131880   \n",
       "463   AUY922+17AAG+4        0 -0.488510  0.117650 -0.116610  0.067337   \n",
       "465   AUY922+17AAG+5        0  0.103470 -0.141110 -0.147490 -0.090191   \n",
       "467   AUY922+17AAG+6        0  0.078576 -0.121490 -0.154390  0.057324   \n",
       "469  AUY922+AUY922+1        0 -0.627500 -0.100820  0.278970 -0.201220   \n",
       "471  AUY922+AUY922+2        0 -0.625830 -0.128380  0.193910 -0.258700   \n",
       "473  AUY922+AUY922+3        0 -0.570830 -0.173100 -0.154870 -0.309510   \n",
       "475  AUY922+AUY922+4        0 -0.480000  0.096645 -0.134630 -0.131010   \n",
       "477  AUY922+AUY922+5        0 -0.111090 -0.119700 -0.193500 -0.131400   \n",
       "479  AUY922+AUY922+6        0  0.077260 -0.065729 -0.067111 -0.107860   \n",
       "385    17AAG+17AAG+1        0 -0.630000 -0.178550  0.150480 -0.300570   \n",
       "387    17AAG+17AAG+2        0 -0.601670 -0.144300 -0.164650 -0.283210   \n",
       "389    17AAG+17AAG+3        0 -0.444170  0.069580 -0.140730 -0.064966   \n",
       "391    17AAG+17AAG+4        0  0.061841 -0.167950 -0.190900 -0.183980   \n",
       "393    17AAG+17AAG+5        0  0.019024 -0.070078 -0.085918 -0.101700   \n",
       "395    17AAG+17AAG+6        0 -0.043149 -0.074153 -0.102210 -0.055896   \n",
       "\n",
       "          ks5       ks6       ks7       ks8  ...     ks229     ks230  \\\n",
       "397 -0.360210  0.080297  0.233460  0.273340  ...  0.194160  0.150090   \n",
       "399 -0.410260 -0.143580  0.182530  0.231010  ...  0.260780  0.144160   \n",
       "401 -0.407760 -0.132470  0.234060  0.264910  ...  0.224340  0.120910   \n",
       "403 -0.140170 -0.112720 -0.121420 -0.106850  ...  0.195070  0.121020   \n",
       "405 -0.092885 -0.099710 -0.097177 -0.088020  ...  0.049356 -0.061358   \n",
       "407  0.039578  0.036269  0.030207  0.031801  ...  0.029750 -0.064527   \n",
       "457 -0.367850 -0.124090  0.175090  0.210830  ...  0.213960  0.168560   \n",
       "459 -0.300690 -0.187910 -0.175280 -0.146890  ...  0.281640  0.153210   \n",
       "461 -0.174120 -0.164440 -0.159540 -0.144480  ...  0.309000  0.183740   \n",
       "463 -0.167390 -0.128630 -0.111070 -0.102890  ...  0.260980  0.249830   \n",
       "465 -0.207450 -0.154570 -0.133400 -0.119800  ... -0.111550 -0.034668   \n",
       "467 -0.230240 -0.165680 -0.141750 -0.125250  ... -0.097280 -0.056917   \n",
       "469 -0.332010  0.134990  0.296720  0.348100  ...  0.152970  0.154600   \n",
       "471 -0.322990 -0.089658  0.216000  0.263310  ...  0.247240  0.117780   \n",
       "473 -0.499800 -0.180530  0.160800  0.221650  ...  0.183690  0.125750   \n",
       "475 -0.144580 -0.139840 -0.146700 -0.136710  ...  0.233660  0.289440   \n",
       "477 -0.215590 -0.186440 -0.182420 -0.174890  ...  0.048307 -0.036060   \n",
       "479 -0.056747 -0.062081 -0.074421 -0.063658  ... -0.062735 -0.046472   \n",
       "385 -0.389470 -0.146400  0.178880  0.228610  ...  0.222770  0.162170   \n",
       "387 -0.358190 -0.210870 -0.164890  0.157050  ...  0.277410  0.164270   \n",
       "389 -0.127770 -0.158230 -0.149290 -0.132510  ...  0.272500  0.127560   \n",
       "391 -0.219550 -0.191940 -0.185870 -0.167400  ... -0.077980 -0.031057   \n",
       "393 -0.077878 -0.087723 -0.086992 -0.073214  ... -0.027454 -0.046287   \n",
       "395 -0.127040 -0.109260 -0.099949 -0.087387  ...  0.057151 -0.034294   \n",
       "\n",
       "        ks231     ks232     ks233     ks234     ks235     ks236     ks237  \\\n",
       "397 -0.245180  0.309580  0.269810  0.150090 -0.643760 -0.616310 -0.296550   \n",
       "399 -0.337270  0.367270  0.306300  0.144160 -0.568830 -0.611730 -0.276100   \n",
       "401 -0.339780  0.301420  0.248450  0.120910 -0.576480 -0.609080 -0.243950   \n",
       "403 -0.129360  0.308130  0.278850  0.121020 -0.327970 -0.362930 -0.205540   \n",
       "405  0.029322  0.032745  0.044422 -0.061358 -0.058091 -0.043913  0.029463   \n",
       "407  0.029504 -0.023891 -0.033674 -0.064527 -0.028519  0.023209  0.043316   \n",
       "457 -0.322850  0.333720  0.273550  0.168560 -0.535390 -0.569360 -0.299790   \n",
       "459 -0.333080  0.391700  0.339380  0.153210 -0.405190 -0.503380 -0.213590   \n",
       "461 -0.213460  0.459440  0.421960  0.183740 -0.326910 -0.366540 -0.153870   \n",
       "463 -0.159160  0.435610  0.411490  0.249830 -0.276550 -0.300780 -0.133790   \n",
       "465  0.032796 -0.127420 -0.132540 -0.034668  0.026069 -0.020105 -0.068546   \n",
       "467 -0.027683 -0.115160 -0.098161 -0.056917  0.051001  0.039974 -0.043647   \n",
       "469 -0.211530  0.288170  0.241910  0.154600 -0.579220 -0.536160 -0.317500   \n",
       "471 -0.338870  0.348180  0.301000  0.117780 -0.595380 -0.633480 -0.232500   \n",
       "473 -0.308570  0.296670  0.252310  0.125750 -0.515830 -0.562230 -0.260740   \n",
       "475 -0.227160  0.441070  0.412200  0.289440 -0.325660 -0.383750 -0.238240   \n",
       "477 -0.068808  0.044419  0.047941 -0.036060 -0.078903 -0.081848 -0.051267   \n",
       "479 -0.033543 -0.061652 -0.061088 -0.046472  0.043343  0.024561 -0.044296   \n",
       "385 -0.328160  0.366210  0.316790  0.162170 -0.604310 -0.602080 -0.260130   \n",
       "387 -0.370230  0.378680  0.326500  0.164270 -0.504140 -0.557970 -0.201740   \n",
       "389 -0.206850  0.376260  0.363970  0.127560 -0.271710 -0.342690 -0.183020   \n",
       "391 -0.048964 -0.090316 -0.088328 -0.031057  0.050463 -0.019334 -0.064789   \n",
       "393  0.026906 -0.043761 -0.040868 -0.046287  0.035078  0.032853  0.028508   \n",
       "395 -0.024818  0.040144  0.053284 -0.034294 -0.071586 -0.057348 -0.058354   \n",
       "\n",
       "        ks238  \n",
       "397  0.309170  \n",
       "399  0.357770  \n",
       "401  0.384440  \n",
       "403  0.184100  \n",
       "405 -0.030168  \n",
       "407  0.015280  \n",
       "457  0.362140  \n",
       "459  0.367460  \n",
       "461  0.262730  \n",
       "463  0.197530  \n",
       "465  0.024818  \n",
       "467 -0.021913  \n",
       "469  0.295820  \n",
       "471  0.383500  \n",
       "473  0.344360  \n",
       "475  0.259330  \n",
       "477  0.065000  \n",
       "479  0.031307  \n",
       "385  0.356700  \n",
       "387  0.396740  \n",
       "389  0.259040  \n",
       "391  0.066030  \n",
       "393 -0.045145  \n",
       "395  0.020486  \n",
       "\n",
       "[24 rows x 240 columns]"
      ]
     },
     "execution_count": 10,
     "metadata": {},
     "output_type": "execute_result"
    }
   ],
   "source": [
    "#Dna ： etoposide，Gemcitabine\n",
    "#hsp：17aag，auy922\n",
    "#mt：paclitaxel，Vinblastine\n",
    "#prot：\"MG132\"，ps341\n",
    "#hdac：saha，apicidin\n",
    "\n",
    "frames3=[]\n",
    "for i in range(1,7):\n",
    "    frames3.append(df.loc[(df['drug_name'] =='17AAG+AUY922+'+str(i)) ])\n",
    "for j in range(1,7):\n",
    "    frames3.append(df.loc[(df['drug_name'] =='AUY922+17AAG+'+str(j)) ])\n",
    "for k in range(1,7):\n",
    "    frames3.append(df.loc[(df['drug_name'] =='AUY922+AUY922+'+str(k)) ])\n",
    "for m in range(1,7):\n",
    "    frames3.append(df.loc[(df['drug_name'] =='17AAG+17AAG+'+str(m)) ])\n",
    "HSP= pd.concat(frames3)\n",
    "HSP\n"
   ]
  },
  {
   "cell_type": "code",
   "execution_count": 11,
   "metadata": {},
   "outputs": [
    {
     "data": {
      "text/html": [
       "<div>\n",
       "<style scoped>\n",
       "    .dataframe tbody tr th:only-of-type {\n",
       "        vertical-align: middle;\n",
       "    }\n",
       "\n",
       "    .dataframe tbody tr th {\n",
       "        vertical-align: top;\n",
       "    }\n",
       "\n",
       "    .dataframe thead th {\n",
       "        text-align: right;\n",
       "    }\n",
       "</style>\n",
       "<table border=\"1\" class=\"dataframe\">\n",
       "  <thead>\n",
       "    <tr style=\"text-align: right;\">\n",
       "      <th></th>\n",
       "      <th>drug_name</th>\n",
       "      <th>default</th>\n",
       "      <th>ks1</th>\n",
       "      <th>ks2</th>\n",
       "      <th>ks3</th>\n",
       "      <th>ks4</th>\n",
       "      <th>ks5</th>\n",
       "      <th>ks6</th>\n",
       "      <th>ks7</th>\n",
       "      <th>ks8</th>\n",
       "      <th>...</th>\n",
       "      <th>ks229</th>\n",
       "      <th>ks230</th>\n",
       "      <th>ks231</th>\n",
       "      <th>ks232</th>\n",
       "      <th>ks233</th>\n",
       "      <th>ks234</th>\n",
       "      <th>ks235</th>\n",
       "      <th>ks236</th>\n",
       "      <th>ks237</th>\n",
       "      <th>ks238</th>\n",
       "    </tr>\n",
       "  </thead>\n",
       "  <tbody>\n",
       "    <tr>\n",
       "      <th>541</th>\n",
       "      <td>MG132+PS341+1</td>\n",
       "      <td>0</td>\n",
       "      <td>-0.891670</td>\n",
       "      <td>0.110950</td>\n",
       "      <td>0.301900</td>\n",
       "      <td>-0.279440</td>\n",
       "      <td>0.098135</td>\n",
       "      <td>0.281070</td>\n",
       "      <td>0.294400</td>\n",
       "      <td>0.309760</td>\n",
       "      <td>...</td>\n",
       "      <td>0.200480</td>\n",
       "      <td>0.147740</td>\n",
       "      <td>-0.115630</td>\n",
       "      <td>0.236270</td>\n",
       "      <td>0.220440</td>\n",
       "      <td>0.147740</td>\n",
       "      <td>-0.447860</td>\n",
       "      <td>-0.377020</td>\n",
       "      <td>-0.226150</td>\n",
       "      <td>0.167220</td>\n",
       "    </tr>\n",
       "    <tr>\n",
       "      <th>543</th>\n",
       "      <td>MG132+PS341+2</td>\n",
       "      <td>0</td>\n",
       "      <td>-0.517500</td>\n",
       "      <td>0.168780</td>\n",
       "      <td>0.193490</td>\n",
       "      <td>-0.111110</td>\n",
       "      <td>0.213560</td>\n",
       "      <td>0.220710</td>\n",
       "      <td>0.171860</td>\n",
       "      <td>0.177260</td>\n",
       "      <td>...</td>\n",
       "      <td>0.094218</td>\n",
       "      <td>0.328100</td>\n",
       "      <td>-0.165050</td>\n",
       "      <td>0.420530</td>\n",
       "      <td>0.345920</td>\n",
       "      <td>0.328100</td>\n",
       "      <td>-0.422090</td>\n",
       "      <td>-0.432280</td>\n",
       "      <td>-0.222040</td>\n",
       "      <td>0.228390</td>\n",
       "    </tr>\n",
       "    <tr>\n",
       "      <th>545</th>\n",
       "      <td>MG132+PS341+3</td>\n",
       "      <td>0</td>\n",
       "      <td>-0.303330</td>\n",
       "      <td>0.295650</td>\n",
       "      <td>0.338850</td>\n",
       "      <td>0.085449</td>\n",
       "      <td>0.390210</td>\n",
       "      <td>0.347480</td>\n",
       "      <td>0.297410</td>\n",
       "      <td>0.288930</td>\n",
       "      <td>...</td>\n",
       "      <td>0.369560</td>\n",
       "      <td>-0.092352</td>\n",
       "      <td>0.068915</td>\n",
       "      <td>0.374440</td>\n",
       "      <td>0.407730</td>\n",
       "      <td>-0.092352</td>\n",
       "      <td>-0.362720</td>\n",
       "      <td>-0.299970</td>\n",
       "      <td>0.102300</td>\n",
       "      <td>0.086307</td>\n",
       "    </tr>\n",
       "    <tr>\n",
       "      <th>547</th>\n",
       "      <td>MG132+PS341+4</td>\n",
       "      <td>0</td>\n",
       "      <td>-0.144900</td>\n",
       "      <td>0.113020</td>\n",
       "      <td>0.157820</td>\n",
       "      <td>-0.113800</td>\n",
       "      <td>0.057448</td>\n",
       "      <td>0.154810</td>\n",
       "      <td>0.156140</td>\n",
       "      <td>0.165310</td>\n",
       "      <td>...</td>\n",
       "      <td>0.130930</td>\n",
       "      <td>-0.045745</td>\n",
       "      <td>0.034401</td>\n",
       "      <td>0.127880</td>\n",
       "      <td>0.161850</td>\n",
       "      <td>-0.045745</td>\n",
       "      <td>-0.242080</td>\n",
       "      <td>-0.172890</td>\n",
       "      <td>-0.076924</td>\n",
       "      <td>-0.038118</td>\n",
       "    </tr>\n",
       "    <tr>\n",
       "      <th>549</th>\n",
       "      <td>MG132+PS341+5</td>\n",
       "      <td>0</td>\n",
       "      <td>-0.069596</td>\n",
       "      <td>0.039161</td>\n",
       "      <td>0.052463</td>\n",
       "      <td>-0.076390</td>\n",
       "      <td>-0.036266</td>\n",
       "      <td>0.062042</td>\n",
       "      <td>0.047907</td>\n",
       "      <td>0.051863</td>\n",
       "      <td>...</td>\n",
       "      <td>0.063351</td>\n",
       "      <td>-0.058697</td>\n",
       "      <td>-0.040620</td>\n",
       "      <td>0.058325</td>\n",
       "      <td>0.063276</td>\n",
       "      <td>-0.058697</td>\n",
       "      <td>-0.097174</td>\n",
       "      <td>-0.062797</td>\n",
       "      <td>-0.041476</td>\n",
       "      <td>-0.034772</td>\n",
       "    </tr>\n",
       "    <tr>\n",
       "      <th>551</th>\n",
       "      <td>MG132+PS341+6</td>\n",
       "      <td>0</td>\n",
       "      <td>0.079233</td>\n",
       "      <td>-0.025412</td>\n",
       "      <td>0.053315</td>\n",
       "      <td>-0.070311</td>\n",
       "      <td>0.042623</td>\n",
       "      <td>0.050622</td>\n",
       "      <td>0.048866</td>\n",
       "      <td>0.055388</td>\n",
       "      <td>...</td>\n",
       "      <td>-0.078986</td>\n",
       "      <td>-0.037343</td>\n",
       "      <td>0.020911</td>\n",
       "      <td>-0.079932</td>\n",
       "      <td>-0.081184</td>\n",
       "      <td>-0.037343</td>\n",
       "      <td>0.085301</td>\n",
       "      <td>0.063439</td>\n",
       "      <td>-0.023748</td>\n",
       "      <td>-0.032736</td>\n",
       "    </tr>\n",
       "    <tr>\n",
       "      <th>601</th>\n",
       "      <td>PS341+MG132+1</td>\n",
       "      <td>0</td>\n",
       "      <td>-0.975000</td>\n",
       "      <td>0.217530</td>\n",
       "      <td>0.492660</td>\n",
       "      <td>-0.372630</td>\n",
       "      <td>-0.289840</td>\n",
       "      <td>0.432070</td>\n",
       "      <td>0.544090</td>\n",
       "      <td>0.619680</td>\n",
       "      <td>...</td>\n",
       "      <td>0.184250</td>\n",
       "      <td>-0.152470</td>\n",
       "      <td>0.160190</td>\n",
       "      <td>0.215080</td>\n",
       "      <td>0.187820</td>\n",
       "      <td>-0.152470</td>\n",
       "      <td>-0.596210</td>\n",
       "      <td>-0.532770</td>\n",
       "      <td>-0.348150</td>\n",
       "      <td>0.169970</td>\n",
       "    </tr>\n",
       "    <tr>\n",
       "      <th>603</th>\n",
       "      <td>PS341+MG132+2</td>\n",
       "      <td>0</td>\n",
       "      <td>-0.548360</td>\n",
       "      <td>0.118980</td>\n",
       "      <td>0.328470</td>\n",
       "      <td>-0.078737</td>\n",
       "      <td>0.172830</td>\n",
       "      <td>0.317740</td>\n",
       "      <td>0.321990</td>\n",
       "      <td>0.316160</td>\n",
       "      <td>...</td>\n",
       "      <td>0.147120</td>\n",
       "      <td>-0.111680</td>\n",
       "      <td>0.146140</td>\n",
       "      <td>0.107590</td>\n",
       "      <td>0.148410</td>\n",
       "      <td>-0.111680</td>\n",
       "      <td>-0.382750</td>\n",
       "      <td>-0.295190</td>\n",
       "      <td>-0.170930</td>\n",
       "      <td>0.065504</td>\n",
       "    </tr>\n",
       "    <tr>\n",
       "      <th>605</th>\n",
       "      <td>PS341+MG132+3</td>\n",
       "      <td>0</td>\n",
       "      <td>-0.450000</td>\n",
       "      <td>0.314700</td>\n",
       "      <td>0.499940</td>\n",
       "      <td>0.082381</td>\n",
       "      <td>0.132200</td>\n",
       "      <td>0.413510</td>\n",
       "      <td>0.511010</td>\n",
       "      <td>0.542800</td>\n",
       "      <td>...</td>\n",
       "      <td>0.144050</td>\n",
       "      <td>-0.110710</td>\n",
       "      <td>0.149230</td>\n",
       "      <td>0.131370</td>\n",
       "      <td>0.147680</td>\n",
       "      <td>-0.110710</td>\n",
       "      <td>-0.221250</td>\n",
       "      <td>-0.159760</td>\n",
       "      <td>-0.217800</td>\n",
       "      <td>-0.069940</td>\n",
       "    </tr>\n",
       "    <tr>\n",
       "      <th>607</th>\n",
       "      <td>PS341+MG132+4</td>\n",
       "      <td>0</td>\n",
       "      <td>-0.290000</td>\n",
       "      <td>0.250700</td>\n",
       "      <td>0.321830</td>\n",
       "      <td>0.081790</td>\n",
       "      <td>0.160620</td>\n",
       "      <td>0.268470</td>\n",
       "      <td>0.313930</td>\n",
       "      <td>0.327710</td>\n",
       "      <td>...</td>\n",
       "      <td>0.184780</td>\n",
       "      <td>0.049164</td>\n",
       "      <td>-0.031841</td>\n",
       "      <td>0.207130</td>\n",
       "      <td>0.196040</td>\n",
       "      <td>0.049164</td>\n",
       "      <td>-0.260410</td>\n",
       "      <td>-0.206640</td>\n",
       "      <td>-0.198110</td>\n",
       "      <td>-0.037574</td>\n",
       "    </tr>\n",
       "    <tr>\n",
       "      <th>609</th>\n",
       "      <td>PS341+MG132+5</td>\n",
       "      <td>0</td>\n",
       "      <td>-0.053163</td>\n",
       "      <td>0.029507</td>\n",
       "      <td>0.036718</td>\n",
       "      <td>0.050714</td>\n",
       "      <td>0.051684</td>\n",
       "      <td>0.039201</td>\n",
       "      <td>0.029201</td>\n",
       "      <td>0.027653</td>\n",
       "      <td>...</td>\n",
       "      <td>0.081854</td>\n",
       "      <td>-0.090510</td>\n",
       "      <td>0.031633</td>\n",
       "      <td>0.044779</td>\n",
       "      <td>0.065714</td>\n",
       "      <td>-0.090510</td>\n",
       "      <td>-0.065476</td>\n",
       "      <td>-0.081973</td>\n",
       "      <td>-0.032670</td>\n",
       "      <td>0.038844</td>\n",
       "    </tr>\n",
       "    <tr>\n",
       "      <th>611</th>\n",
       "      <td>PS341+MG132+6</td>\n",
       "      <td>0</td>\n",
       "      <td>0.069282</td>\n",
       "      <td>-0.086974</td>\n",
       "      <td>-0.100470</td>\n",
       "      <td>-0.051279</td>\n",
       "      <td>-0.099086</td>\n",
       "      <td>-0.100080</td>\n",
       "      <td>-0.093394</td>\n",
       "      <td>-0.089554</td>\n",
       "      <td>...</td>\n",
       "      <td>-0.072346</td>\n",
       "      <td>-0.047852</td>\n",
       "      <td>0.026047</td>\n",
       "      <td>-0.095554</td>\n",
       "      <td>-0.097377</td>\n",
       "      <td>-0.047852</td>\n",
       "      <td>0.045312</td>\n",
       "      <td>0.040305</td>\n",
       "      <td>-0.047190</td>\n",
       "      <td>-0.042462</td>\n",
       "    </tr>\n",
       "    <tr>\n",
       "      <th>529</th>\n",
       "      <td>MG132+MG132+1</td>\n",
       "      <td>0</td>\n",
       "      <td>-0.920000</td>\n",
       "      <td>0.173770</td>\n",
       "      <td>0.315830</td>\n",
       "      <td>-0.161920</td>\n",
       "      <td>0.108220</td>\n",
       "      <td>0.312320</td>\n",
       "      <td>0.299280</td>\n",
       "      <td>0.326850</td>\n",
       "      <td>...</td>\n",
       "      <td>0.219750</td>\n",
       "      <td>-0.113700</td>\n",
       "      <td>0.171230</td>\n",
       "      <td>0.257320</td>\n",
       "      <td>0.302750</td>\n",
       "      <td>-0.113700</td>\n",
       "      <td>-0.449380</td>\n",
       "      <td>-0.383080</td>\n",
       "      <td>-0.256740</td>\n",
       "      <td>0.140870</td>\n",
       "    </tr>\n",
       "    <tr>\n",
       "      <th>531</th>\n",
       "      <td>MG132+MG132+2</td>\n",
       "      <td>0</td>\n",
       "      <td>-0.420000</td>\n",
       "      <td>0.109610</td>\n",
       "      <td>0.148740</td>\n",
       "      <td>-0.056667</td>\n",
       "      <td>0.111750</td>\n",
       "      <td>0.168070</td>\n",
       "      <td>0.129890</td>\n",
       "      <td>0.118770</td>\n",
       "      <td>...</td>\n",
       "      <td>0.074930</td>\n",
       "      <td>0.327750</td>\n",
       "      <td>-0.105960</td>\n",
       "      <td>0.369590</td>\n",
       "      <td>0.313550</td>\n",
       "      <td>0.327750</td>\n",
       "      <td>-0.405540</td>\n",
       "      <td>-0.408250</td>\n",
       "      <td>-0.283390</td>\n",
       "      <td>0.170090</td>\n",
       "    </tr>\n",
       "    <tr>\n",
       "      <th>533</th>\n",
       "      <td>MG132+MG132+3</td>\n",
       "      <td>0</td>\n",
       "      <td>-0.208330</td>\n",
       "      <td>0.171060</td>\n",
       "      <td>0.166240</td>\n",
       "      <td>-0.099039</td>\n",
       "      <td>-0.034092</td>\n",
       "      <td>0.116150</td>\n",
       "      <td>0.193160</td>\n",
       "      <td>0.236690</td>\n",
       "      <td>...</td>\n",
       "      <td>0.144110</td>\n",
       "      <td>0.041886</td>\n",
       "      <td>0.027709</td>\n",
       "      <td>0.172800</td>\n",
       "      <td>0.185200</td>\n",
       "      <td>0.041886</td>\n",
       "      <td>-0.199550</td>\n",
       "      <td>-0.133050</td>\n",
       "      <td>-0.140300</td>\n",
       "      <td>-0.071865</td>\n",
       "    </tr>\n",
       "    <tr>\n",
       "      <th>535</th>\n",
       "      <td>MG132+MG132+4</td>\n",
       "      <td>0</td>\n",
       "      <td>-0.124780</td>\n",
       "      <td>-0.084102</td>\n",
       "      <td>0.132470</td>\n",
       "      <td>-0.108960</td>\n",
       "      <td>0.035755</td>\n",
       "      <td>0.127120</td>\n",
       "      <td>0.138170</td>\n",
       "      <td>0.146800</td>\n",
       "      <td>...</td>\n",
       "      <td>0.082371</td>\n",
       "      <td>0.042858</td>\n",
       "      <td>-0.057388</td>\n",
       "      <td>0.097449</td>\n",
       "      <td>0.098567</td>\n",
       "      <td>0.042858</td>\n",
       "      <td>-0.242810</td>\n",
       "      <td>-0.192140</td>\n",
       "      <td>-0.132250</td>\n",
       "      <td>0.052360</td>\n",
       "    </tr>\n",
       "    <tr>\n",
       "      <th>537</th>\n",
       "      <td>MG132+MG132+5</td>\n",
       "      <td>0</td>\n",
       "      <td>-0.072951</td>\n",
       "      <td>-0.038507</td>\n",
       "      <td>0.041875</td>\n",
       "      <td>-0.118020</td>\n",
       "      <td>-0.034618</td>\n",
       "      <td>0.039549</td>\n",
       "      <td>0.041076</td>\n",
       "      <td>0.056701</td>\n",
       "      <td>...</td>\n",
       "      <td>0.069132</td>\n",
       "      <td>-0.045903</td>\n",
       "      <td>-0.040590</td>\n",
       "      <td>0.059236</td>\n",
       "      <td>0.056736</td>\n",
       "      <td>-0.045903</td>\n",
       "      <td>-0.128990</td>\n",
       "      <td>-0.084167</td>\n",
       "      <td>-0.034583</td>\n",
       "      <td>-0.038854</td>\n",
       "    </tr>\n",
       "    <tr>\n",
       "      <th>539</th>\n",
       "      <td>MG132+MG132+6</td>\n",
       "      <td>0</td>\n",
       "      <td>0.039511</td>\n",
       "      <td>-0.093682</td>\n",
       "      <td>-0.084746</td>\n",
       "      <td>-0.141690</td>\n",
       "      <td>-0.093560</td>\n",
       "      <td>-0.083728</td>\n",
       "      <td>-0.074773</td>\n",
       "      <td>-0.066714</td>\n",
       "      <td>...</td>\n",
       "      <td>-0.049065</td>\n",
       "      <td>-0.048474</td>\n",
       "      <td>-0.046049</td>\n",
       "      <td>-0.078709</td>\n",
       "      <td>-0.077621</td>\n",
       "      <td>-0.048474</td>\n",
       "      <td>-0.056682</td>\n",
       "      <td>-0.049143</td>\n",
       "      <td>0.038697</td>\n",
       "      <td>-0.022210</td>\n",
       "    </tr>\n",
       "    <tr>\n",
       "      <th>613</th>\n",
       "      <td>PS341+PS341+1</td>\n",
       "      <td>0</td>\n",
       "      <td>-0.970830</td>\n",
       "      <td>0.092143</td>\n",
       "      <td>0.280710</td>\n",
       "      <td>-0.187860</td>\n",
       "      <td>-0.192620</td>\n",
       "      <td>0.210120</td>\n",
       "      <td>0.332980</td>\n",
       "      <td>0.359880</td>\n",
       "      <td>...</td>\n",
       "      <td>0.156900</td>\n",
       "      <td>-0.262620</td>\n",
       "      <td>0.226190</td>\n",
       "      <td>-0.143330</td>\n",
       "      <td>0.104400</td>\n",
       "      <td>-0.262620</td>\n",
       "      <td>-0.326070</td>\n",
       "      <td>-0.349880</td>\n",
       "      <td>-0.234050</td>\n",
       "      <td>0.183330</td>\n",
       "    </tr>\n",
       "    <tr>\n",
       "      <th>615</th>\n",
       "      <td>PS341+PS341+2</td>\n",
       "      <td>0</td>\n",
       "      <td>-0.762500</td>\n",
       "      <td>0.120140</td>\n",
       "      <td>0.220000</td>\n",
       "      <td>-0.128190</td>\n",
       "      <td>0.060000</td>\n",
       "      <td>0.238330</td>\n",
       "      <td>0.217220</td>\n",
       "      <td>0.221670</td>\n",
       "      <td>...</td>\n",
       "      <td>0.188470</td>\n",
       "      <td>-0.110970</td>\n",
       "      <td>0.121110</td>\n",
       "      <td>0.137360</td>\n",
       "      <td>0.202500</td>\n",
       "      <td>-0.110970</td>\n",
       "      <td>-0.369440</td>\n",
       "      <td>-0.314720</td>\n",
       "      <td>-0.245280</td>\n",
       "      <td>0.087917</td>\n",
       "    </tr>\n",
       "    <tr>\n",
       "      <th>617</th>\n",
       "      <td>PS341+PS341+3</td>\n",
       "      <td>0</td>\n",
       "      <td>-0.398130</td>\n",
       "      <td>0.287300</td>\n",
       "      <td>0.394770</td>\n",
       "      <td>-0.078121</td>\n",
       "      <td>0.382920</td>\n",
       "      <td>0.418140</td>\n",
       "      <td>0.360310</td>\n",
       "      <td>0.349280</td>\n",
       "      <td>...</td>\n",
       "      <td>0.311430</td>\n",
       "      <td>-0.136360</td>\n",
       "      <td>0.026532</td>\n",
       "      <td>0.276640</td>\n",
       "      <td>0.327740</td>\n",
       "      <td>-0.136360</td>\n",
       "      <td>-0.425950</td>\n",
       "      <td>-0.389270</td>\n",
       "      <td>-0.158090</td>\n",
       "      <td>0.137310</td>\n",
       "    </tr>\n",
       "    <tr>\n",
       "      <th>619</th>\n",
       "      <td>PS341+PS341+4</td>\n",
       "      <td>0</td>\n",
       "      <td>-0.383200</td>\n",
       "      <td>0.285140</td>\n",
       "      <td>0.401850</td>\n",
       "      <td>0.069713</td>\n",
       "      <td>0.152230</td>\n",
       "      <td>0.341450</td>\n",
       "      <td>0.387470</td>\n",
       "      <td>0.403920</td>\n",
       "      <td>...</td>\n",
       "      <td>0.181350</td>\n",
       "      <td>0.073040</td>\n",
       "      <td>-0.024058</td>\n",
       "      <td>0.232780</td>\n",
       "      <td>0.225820</td>\n",
       "      <td>0.073040</td>\n",
       "      <td>-0.301810</td>\n",
       "      <td>-0.276650</td>\n",
       "      <td>-0.233980</td>\n",
       "      <td>0.060711</td>\n",
       "    </tr>\n",
       "    <tr>\n",
       "      <th>621</th>\n",
       "      <td>PS341+PS341+5</td>\n",
       "      <td>0</td>\n",
       "      <td>-0.103330</td>\n",
       "      <td>-0.027607</td>\n",
       "      <td>-0.028744</td>\n",
       "      <td>-0.062957</td>\n",
       "      <td>0.028274</td>\n",
       "      <td>-0.033035</td>\n",
       "      <td>-0.033879</td>\n",
       "      <td>-0.028164</td>\n",
       "      <td>...</td>\n",
       "      <td>0.081840</td>\n",
       "      <td>-0.053869</td>\n",
       "      <td>-0.031493</td>\n",
       "      <td>0.065545</td>\n",
       "      <td>0.078530</td>\n",
       "      <td>-0.053869</td>\n",
       "      <td>-0.098928</td>\n",
       "      <td>-0.087984</td>\n",
       "      <td>-0.055749</td>\n",
       "      <td>0.041887</td>\n",
       "    </tr>\n",
       "    <tr>\n",
       "      <th>623</th>\n",
       "      <td>PS341+PS341+6</td>\n",
       "      <td>0</td>\n",
       "      <td>0.047283</td>\n",
       "      <td>-0.026824</td>\n",
       "      <td>-0.028787</td>\n",
       "      <td>0.060666</td>\n",
       "      <td>-0.043555</td>\n",
       "      <td>-0.033135</td>\n",
       "      <td>-0.033467</td>\n",
       "      <td>-0.027157</td>\n",
       "      <td>...</td>\n",
       "      <td>-0.032332</td>\n",
       "      <td>-0.040681</td>\n",
       "      <td>-0.022185</td>\n",
       "      <td>-0.038989</td>\n",
       "      <td>-0.043225</td>\n",
       "      <td>-0.040681</td>\n",
       "      <td>0.033661</td>\n",
       "      <td>-0.031896</td>\n",
       "      <td>-0.054401</td>\n",
       "      <td>0.029959</td>\n",
       "    </tr>\n",
       "  </tbody>\n",
       "</table>\n",
       "<p>24 rows × 240 columns</p>\n",
       "</div>"
      ],
      "text/plain": [
       "         drug_name  default       ks1       ks2       ks3       ks4       ks5  \\\n",
       "541  MG132+PS341+1        0 -0.891670  0.110950  0.301900 -0.279440  0.098135   \n",
       "543  MG132+PS341+2        0 -0.517500  0.168780  0.193490 -0.111110  0.213560   \n",
       "545  MG132+PS341+3        0 -0.303330  0.295650  0.338850  0.085449  0.390210   \n",
       "547  MG132+PS341+4        0 -0.144900  0.113020  0.157820 -0.113800  0.057448   \n",
       "549  MG132+PS341+5        0 -0.069596  0.039161  0.052463 -0.076390 -0.036266   \n",
       "551  MG132+PS341+6        0  0.079233 -0.025412  0.053315 -0.070311  0.042623   \n",
       "601  PS341+MG132+1        0 -0.975000  0.217530  0.492660 -0.372630 -0.289840   \n",
       "603  PS341+MG132+2        0 -0.548360  0.118980  0.328470 -0.078737  0.172830   \n",
       "605  PS341+MG132+3        0 -0.450000  0.314700  0.499940  0.082381  0.132200   \n",
       "607  PS341+MG132+4        0 -0.290000  0.250700  0.321830  0.081790  0.160620   \n",
       "609  PS341+MG132+5        0 -0.053163  0.029507  0.036718  0.050714  0.051684   \n",
       "611  PS341+MG132+6        0  0.069282 -0.086974 -0.100470 -0.051279 -0.099086   \n",
       "529  MG132+MG132+1        0 -0.920000  0.173770  0.315830 -0.161920  0.108220   \n",
       "531  MG132+MG132+2        0 -0.420000  0.109610  0.148740 -0.056667  0.111750   \n",
       "533  MG132+MG132+3        0 -0.208330  0.171060  0.166240 -0.099039 -0.034092   \n",
       "535  MG132+MG132+4        0 -0.124780 -0.084102  0.132470 -0.108960  0.035755   \n",
       "537  MG132+MG132+5        0 -0.072951 -0.038507  0.041875 -0.118020 -0.034618   \n",
       "539  MG132+MG132+6        0  0.039511 -0.093682 -0.084746 -0.141690 -0.093560   \n",
       "613  PS341+PS341+1        0 -0.970830  0.092143  0.280710 -0.187860 -0.192620   \n",
       "615  PS341+PS341+2        0 -0.762500  0.120140  0.220000 -0.128190  0.060000   \n",
       "617  PS341+PS341+3        0 -0.398130  0.287300  0.394770 -0.078121  0.382920   \n",
       "619  PS341+PS341+4        0 -0.383200  0.285140  0.401850  0.069713  0.152230   \n",
       "621  PS341+PS341+5        0 -0.103330 -0.027607 -0.028744 -0.062957  0.028274   \n",
       "623  PS341+PS341+6        0  0.047283 -0.026824 -0.028787  0.060666 -0.043555   \n",
       "\n",
       "          ks6       ks7       ks8  ...     ks229     ks230     ks231  \\\n",
       "541  0.281070  0.294400  0.309760  ...  0.200480  0.147740 -0.115630   \n",
       "543  0.220710  0.171860  0.177260  ...  0.094218  0.328100 -0.165050   \n",
       "545  0.347480  0.297410  0.288930  ...  0.369560 -0.092352  0.068915   \n",
       "547  0.154810  0.156140  0.165310  ...  0.130930 -0.045745  0.034401   \n",
       "549  0.062042  0.047907  0.051863  ...  0.063351 -0.058697 -0.040620   \n",
       "551  0.050622  0.048866  0.055388  ... -0.078986 -0.037343  0.020911   \n",
       "601  0.432070  0.544090  0.619680  ...  0.184250 -0.152470  0.160190   \n",
       "603  0.317740  0.321990  0.316160  ...  0.147120 -0.111680  0.146140   \n",
       "605  0.413510  0.511010  0.542800  ...  0.144050 -0.110710  0.149230   \n",
       "607  0.268470  0.313930  0.327710  ...  0.184780  0.049164 -0.031841   \n",
       "609  0.039201  0.029201  0.027653  ...  0.081854 -0.090510  0.031633   \n",
       "611 -0.100080 -0.093394 -0.089554  ... -0.072346 -0.047852  0.026047   \n",
       "529  0.312320  0.299280  0.326850  ...  0.219750 -0.113700  0.171230   \n",
       "531  0.168070  0.129890  0.118770  ...  0.074930  0.327750 -0.105960   \n",
       "533  0.116150  0.193160  0.236690  ...  0.144110  0.041886  0.027709   \n",
       "535  0.127120  0.138170  0.146800  ...  0.082371  0.042858 -0.057388   \n",
       "537  0.039549  0.041076  0.056701  ...  0.069132 -0.045903 -0.040590   \n",
       "539 -0.083728 -0.074773 -0.066714  ... -0.049065 -0.048474 -0.046049   \n",
       "613  0.210120  0.332980  0.359880  ...  0.156900 -0.262620  0.226190   \n",
       "615  0.238330  0.217220  0.221670  ...  0.188470 -0.110970  0.121110   \n",
       "617  0.418140  0.360310  0.349280  ...  0.311430 -0.136360  0.026532   \n",
       "619  0.341450  0.387470  0.403920  ...  0.181350  0.073040 -0.024058   \n",
       "621 -0.033035 -0.033879 -0.028164  ...  0.081840 -0.053869 -0.031493   \n",
       "623 -0.033135 -0.033467 -0.027157  ... -0.032332 -0.040681 -0.022185   \n",
       "\n",
       "        ks232     ks233     ks234     ks235     ks236     ks237     ks238  \n",
       "541  0.236270  0.220440  0.147740 -0.447860 -0.377020 -0.226150  0.167220  \n",
       "543  0.420530  0.345920  0.328100 -0.422090 -0.432280 -0.222040  0.228390  \n",
       "545  0.374440  0.407730 -0.092352 -0.362720 -0.299970  0.102300  0.086307  \n",
       "547  0.127880  0.161850 -0.045745 -0.242080 -0.172890 -0.076924 -0.038118  \n",
       "549  0.058325  0.063276 -0.058697 -0.097174 -0.062797 -0.041476 -0.034772  \n",
       "551 -0.079932 -0.081184 -0.037343  0.085301  0.063439 -0.023748 -0.032736  \n",
       "601  0.215080  0.187820 -0.152470 -0.596210 -0.532770 -0.348150  0.169970  \n",
       "603  0.107590  0.148410 -0.111680 -0.382750 -0.295190 -0.170930  0.065504  \n",
       "605  0.131370  0.147680 -0.110710 -0.221250 -0.159760 -0.217800 -0.069940  \n",
       "607  0.207130  0.196040  0.049164 -0.260410 -0.206640 -0.198110 -0.037574  \n",
       "609  0.044779  0.065714 -0.090510 -0.065476 -0.081973 -0.032670  0.038844  \n",
       "611 -0.095554 -0.097377 -0.047852  0.045312  0.040305 -0.047190 -0.042462  \n",
       "529  0.257320  0.302750 -0.113700 -0.449380 -0.383080 -0.256740  0.140870  \n",
       "531  0.369590  0.313550  0.327750 -0.405540 -0.408250 -0.283390  0.170090  \n",
       "533  0.172800  0.185200  0.041886 -0.199550 -0.133050 -0.140300 -0.071865  \n",
       "535  0.097449  0.098567  0.042858 -0.242810 -0.192140 -0.132250  0.052360  \n",
       "537  0.059236  0.056736 -0.045903 -0.128990 -0.084167 -0.034583 -0.038854  \n",
       "539 -0.078709 -0.077621 -0.048474 -0.056682 -0.049143  0.038697 -0.022210  \n",
       "613 -0.143330  0.104400 -0.262620 -0.326070 -0.349880 -0.234050  0.183330  \n",
       "615  0.137360  0.202500 -0.110970 -0.369440 -0.314720 -0.245280  0.087917  \n",
       "617  0.276640  0.327740 -0.136360 -0.425950 -0.389270 -0.158090  0.137310  \n",
       "619  0.232780  0.225820  0.073040 -0.301810 -0.276650 -0.233980  0.060711  \n",
       "621  0.065545  0.078530 -0.053869 -0.098928 -0.087984 -0.055749  0.041887  \n",
       "623 -0.038989 -0.043225 -0.040681  0.033661 -0.031896 -0.054401  0.029959  \n",
       "\n",
       "[24 rows x 240 columns]"
      ]
     },
     "execution_count": 11,
     "metadata": {},
     "output_type": "execute_result"
    }
   ],
   "source": [
    "#Dna ： etoposide，Gemcitabine\n",
    "#mt：paclitaxel，Vinblastine\n",
    "#hsp：17aag，auy922\n",
    "\n",
    "#prot：\"MG132\"，ps341\n",
    "#hdac：saha，apicidin\n",
    "\n",
    "frames4=[]\n",
    "for i in range(1,7):\n",
    "    frames4.append(df.loc[(df['drug_name'] =='MG132+PS341+'+str(i)) ])\n",
    "for j in range(1,7):\n",
    "    frames4.append(df.loc[(df['drug_name'] =='PS341+MG132+'+str(j)) ])\n",
    "for k in range(1,7):\n",
    "    frames4.append(df.loc[(df['drug_name'] =='MG132+MG132+'+str(k)) ])\n",
    "for m in range(1,7):\n",
    "    frames4.append(df.loc[(df['drug_name'] =='PS341+PS341+'+str(m)) ])\n",
    "PROT= pd.concat(frames4)\n",
    "PROT"
   ]
  },
  {
   "cell_type": "code",
   "execution_count": 12,
   "metadata": {},
   "outputs": [
    {
     "data": {
      "text/html": [
       "<div>\n",
       "<style scoped>\n",
       "    .dataframe tbody tr th:only-of-type {\n",
       "        vertical-align: middle;\n",
       "    }\n",
       "\n",
       "    .dataframe tbody tr th {\n",
       "        vertical-align: top;\n",
       "    }\n",
       "\n",
       "    .dataframe thead th {\n",
       "        text-align: right;\n",
       "    }\n",
       "</style>\n",
       "<table border=\"1\" class=\"dataframe\">\n",
       "  <thead>\n",
       "    <tr style=\"text-align: right;\">\n",
       "      <th></th>\n",
       "      <th>drug_name</th>\n",
       "      <th>default</th>\n",
       "      <th>ks1</th>\n",
       "      <th>ks2</th>\n",
       "      <th>ks3</th>\n",
       "      <th>ks4</th>\n",
       "      <th>ks5</th>\n",
       "      <th>ks6</th>\n",
       "      <th>ks7</th>\n",
       "      <th>ks8</th>\n",
       "      <th>...</th>\n",
       "      <th>ks229</th>\n",
       "      <th>ks230</th>\n",
       "      <th>ks231</th>\n",
       "      <th>ks232</th>\n",
       "      <th>ks233</th>\n",
       "      <th>ks234</th>\n",
       "      <th>ks235</th>\n",
       "      <th>ks236</th>\n",
       "      <th>ks237</th>\n",
       "      <th>ks238</th>\n",
       "    </tr>\n",
       "  </thead>\n",
       "  <tbody>\n",
       "    <tr>\n",
       "      <th>672</th>\n",
       "      <td>SAHA+Apicidin+1</td>\n",
       "      <td>0</td>\n",
       "      <td>-0.483470</td>\n",
       "      <td>0.378410</td>\n",
       "      <td>0.507380</td>\n",
       "      <td>0.054191</td>\n",
       "      <td>0.309380</td>\n",
       "      <td>0.496270</td>\n",
       "      <td>0.493420</td>\n",
       "      <td>0.488420</td>\n",
       "      <td>...</td>\n",
       "      <td>0.204440</td>\n",
       "      <td>0.236390</td>\n",
       "      <td>-0.289110</td>\n",
       "      <td>0.380580</td>\n",
       "      <td>0.328690</td>\n",
       "      <td>0.236390</td>\n",
       "      <td>-0.327600</td>\n",
       "      <td>-0.362680</td>\n",
       "      <td>-0.197870</td>\n",
       "      <td>0.308700</td>\n",
       "    </tr>\n",
       "    <tr>\n",
       "      <th>674</th>\n",
       "      <td>SAHA+Apicidin+2</td>\n",
       "      <td>0</td>\n",
       "      <td>-0.415000</td>\n",
       "      <td>0.434060</td>\n",
       "      <td>0.498840</td>\n",
       "      <td>0.145890</td>\n",
       "      <td>0.382940</td>\n",
       "      <td>0.471850</td>\n",
       "      <td>0.483930</td>\n",
       "      <td>0.474400</td>\n",
       "      <td>...</td>\n",
       "      <td>0.324860</td>\n",
       "      <td>0.189350</td>\n",
       "      <td>-0.174450</td>\n",
       "      <td>0.475740</td>\n",
       "      <td>0.455210</td>\n",
       "      <td>0.189350</td>\n",
       "      <td>-0.369090</td>\n",
       "      <td>-0.377870</td>\n",
       "      <td>-0.103480</td>\n",
       "      <td>0.214850</td>\n",
       "    </tr>\n",
       "    <tr>\n",
       "      <th>676</th>\n",
       "      <td>SAHA+Apicidin+3</td>\n",
       "      <td>0</td>\n",
       "      <td>-0.021667</td>\n",
       "      <td>0.356350</td>\n",
       "      <td>0.410930</td>\n",
       "      <td>0.124640</td>\n",
       "      <td>0.440360</td>\n",
       "      <td>0.413760</td>\n",
       "      <td>0.377510</td>\n",
       "      <td>0.367060</td>\n",
       "      <td>...</td>\n",
       "      <td>0.098529</td>\n",
       "      <td>-0.054964</td>\n",
       "      <td>0.058282</td>\n",
       "      <td>0.091017</td>\n",
       "      <td>0.108830</td>\n",
       "      <td>-0.054964</td>\n",
       "      <td>0.175570</td>\n",
       "      <td>0.139930</td>\n",
       "      <td>0.022424</td>\n",
       "      <td>-0.049736</td>\n",
       "    </tr>\n",
       "    <tr>\n",
       "      <th>678</th>\n",
       "      <td>SAHA+Apicidin+4</td>\n",
       "      <td>0</td>\n",
       "      <td>-0.067095</td>\n",
       "      <td>0.121050</td>\n",
       "      <td>0.109130</td>\n",
       "      <td>0.179530</td>\n",
       "      <td>0.125080</td>\n",
       "      <td>0.097586</td>\n",
       "      <td>0.097511</td>\n",
       "      <td>0.101550</td>\n",
       "      <td>...</td>\n",
       "      <td>0.097934</td>\n",
       "      <td>-0.068645</td>\n",
       "      <td>0.033961</td>\n",
       "      <td>0.079089</td>\n",
       "      <td>0.092833</td>\n",
       "      <td>-0.068645</td>\n",
       "      <td>0.024577</td>\n",
       "      <td>0.024098</td>\n",
       "      <td>0.029259</td>\n",
       "      <td>-0.038790</td>\n",
       "    </tr>\n",
       "    <tr>\n",
       "      <th>680</th>\n",
       "      <td>SAHA+Apicidin+5</td>\n",
       "      <td>0</td>\n",
       "      <td>-0.105770</td>\n",
       "      <td>-0.024704</td>\n",
       "      <td>-0.072792</td>\n",
       "      <td>0.083621</td>\n",
       "      <td>-0.077803</td>\n",
       "      <td>-0.078574</td>\n",
       "      <td>-0.072374</td>\n",
       "      <td>-0.065043</td>\n",
       "      <td>...</td>\n",
       "      <td>0.088531</td>\n",
       "      <td>-0.040063</td>\n",
       "      <td>-0.056233</td>\n",
       "      <td>0.098405</td>\n",
       "      <td>0.097657</td>\n",
       "      <td>-0.040063</td>\n",
       "      <td>-0.074212</td>\n",
       "      <td>-0.073149</td>\n",
       "      <td>-0.055901</td>\n",
       "      <td>0.049737</td>\n",
       "    </tr>\n",
       "    <tr>\n",
       "      <th>682</th>\n",
       "      <td>SAHA+Apicidin+6</td>\n",
       "      <td>0</td>\n",
       "      <td>0.033385</td>\n",
       "      <td>-0.046291</td>\n",
       "      <td>-0.067642</td>\n",
       "      <td>0.076785</td>\n",
       "      <td>-0.104490</td>\n",
       "      <td>-0.066556</td>\n",
       "      <td>-0.060004</td>\n",
       "      <td>-0.050636</td>\n",
       "      <td>...</td>\n",
       "      <td>-0.036501</td>\n",
       "      <td>-0.044210</td>\n",
       "      <td>-0.034021</td>\n",
       "      <td>-0.056094</td>\n",
       "      <td>-0.058187</td>\n",
       "      <td>-0.044210</td>\n",
       "      <td>0.041564</td>\n",
       "      <td>0.024791</td>\n",
       "      <td>-0.026339</td>\n",
       "      <td>0.027583</td>\n",
       "    </tr>\n",
       "    <tr>\n",
       "      <th>289</th>\n",
       "      <td>Apicidin+SAHA+1</td>\n",
       "      <td>0</td>\n",
       "      <td>-0.590000</td>\n",
       "      <td>0.403760</td>\n",
       "      <td>0.528880</td>\n",
       "      <td>0.070518</td>\n",
       "      <td>0.282550</td>\n",
       "      <td>0.503800</td>\n",
       "      <td>0.547050</td>\n",
       "      <td>0.535440</td>\n",
       "      <td>...</td>\n",
       "      <td>0.157880</td>\n",
       "      <td>0.251990</td>\n",
       "      <td>-0.322100</td>\n",
       "      <td>0.385490</td>\n",
       "      <td>0.313880</td>\n",
       "      <td>0.251990</td>\n",
       "      <td>-0.308220</td>\n",
       "      <td>-0.372210</td>\n",
       "      <td>-0.217090</td>\n",
       "      <td>0.332200</td>\n",
       "    </tr>\n",
       "    <tr>\n",
       "      <th>291</th>\n",
       "      <td>Apicidin+SAHA+2</td>\n",
       "      <td>0</td>\n",
       "      <td>-0.430830</td>\n",
       "      <td>0.515260</td>\n",
       "      <td>0.594430</td>\n",
       "      <td>0.113280</td>\n",
       "      <td>0.476670</td>\n",
       "      <td>0.582180</td>\n",
       "      <td>0.587270</td>\n",
       "      <td>0.582360</td>\n",
       "      <td>...</td>\n",
       "      <td>0.322930</td>\n",
       "      <td>0.186260</td>\n",
       "      <td>-0.189940</td>\n",
       "      <td>0.493480</td>\n",
       "      <td>0.466380</td>\n",
       "      <td>0.186260</td>\n",
       "      <td>-0.376750</td>\n",
       "      <td>-0.418820</td>\n",
       "      <td>-0.125460</td>\n",
       "      <td>0.249450</td>\n",
       "    </tr>\n",
       "    <tr>\n",
       "      <th>293</th>\n",
       "      <td>Apicidin+SAHA+3</td>\n",
       "      <td>0</td>\n",
       "      <td>0.072443</td>\n",
       "      <td>0.324550</td>\n",
       "      <td>0.402210</td>\n",
       "      <td>0.102980</td>\n",
       "      <td>0.395130</td>\n",
       "      <td>0.387780</td>\n",
       "      <td>0.382380</td>\n",
       "      <td>0.378520</td>\n",
       "      <td>...</td>\n",
       "      <td>0.057739</td>\n",
       "      <td>-0.066992</td>\n",
       "      <td>0.067471</td>\n",
       "      <td>0.033199</td>\n",
       "      <td>0.040728</td>\n",
       "      <td>-0.066992</td>\n",
       "      <td>0.210860</td>\n",
       "      <td>0.157610</td>\n",
       "      <td>0.044320</td>\n",
       "      <td>-0.066944</td>\n",
       "    </tr>\n",
       "    <tr>\n",
       "      <th>295</th>\n",
       "      <td>Apicidin+SAHA+4</td>\n",
       "      <td>0</td>\n",
       "      <td>0.058409</td>\n",
       "      <td>0.086580</td>\n",
       "      <td>0.145730</td>\n",
       "      <td>0.069141</td>\n",
       "      <td>0.141870</td>\n",
       "      <td>0.147640</td>\n",
       "      <td>0.130650</td>\n",
       "      <td>0.130870</td>\n",
       "      <td>...</td>\n",
       "      <td>-0.039272</td>\n",
       "      <td>-0.053431</td>\n",
       "      <td>0.026095</td>\n",
       "      <td>-0.064258</td>\n",
       "      <td>-0.063837</td>\n",
       "      <td>-0.053431</td>\n",
       "      <td>0.108660</td>\n",
       "      <td>0.088379</td>\n",
       "      <td>0.049114</td>\n",
       "      <td>0.022708</td>\n",
       "    </tr>\n",
       "    <tr>\n",
       "      <th>297</th>\n",
       "      <td>Apicidin+SAHA+5</td>\n",
       "      <td>0</td>\n",
       "      <td>-0.030833</td>\n",
       "      <td>-0.020203</td>\n",
       "      <td>0.063110</td>\n",
       "      <td>-0.039417</td>\n",
       "      <td>0.049413</td>\n",
       "      <td>0.066406</td>\n",
       "      <td>0.062899</td>\n",
       "      <td>0.065365</td>\n",
       "      <td>...</td>\n",
       "      <td>-0.051345</td>\n",
       "      <td>0.026422</td>\n",
       "      <td>-0.034135</td>\n",
       "      <td>-0.050741</td>\n",
       "      <td>-0.058051</td>\n",
       "      <td>0.026422</td>\n",
       "      <td>0.041671</td>\n",
       "      <td>-0.051855</td>\n",
       "      <td>-0.055493</td>\n",
       "      <td>0.034789</td>\n",
       "    </tr>\n",
       "    <tr>\n",
       "      <th>299</th>\n",
       "      <td>Apicidin+SAHA+6</td>\n",
       "      <td>0</td>\n",
       "      <td>0.049460</td>\n",
       "      <td>-0.053651</td>\n",
       "      <td>-0.042118</td>\n",
       "      <td>-0.044433</td>\n",
       "      <td>-0.084437</td>\n",
       "      <td>-0.050467</td>\n",
       "      <td>-0.034464</td>\n",
       "      <td>-0.033721</td>\n",
       "      <td>...</td>\n",
       "      <td>-0.082965</td>\n",
       "      <td>-0.038377</td>\n",
       "      <td>-0.052748</td>\n",
       "      <td>-0.073479</td>\n",
       "      <td>-0.088828</td>\n",
       "      <td>-0.038377</td>\n",
       "      <td>0.063656</td>\n",
       "      <td>0.043241</td>\n",
       "      <td>-0.039218</td>\n",
       "      <td>0.029998</td>\n",
       "    </tr>\n",
       "    <tr>\n",
       "      <th>673</th>\n",
       "      <td>Apicidin+Apicidin+1</td>\n",
       "      <td>0</td>\n",
       "      <td>-0.607500</td>\n",
       "      <td>0.422640</td>\n",
       "      <td>0.530900</td>\n",
       "      <td>0.097063</td>\n",
       "      <td>0.321690</td>\n",
       "      <td>0.508580</td>\n",
       "      <td>0.523850</td>\n",
       "      <td>0.514040</td>\n",
       "      <td>...</td>\n",
       "      <td>0.197350</td>\n",
       "      <td>0.226690</td>\n",
       "      <td>-0.296720</td>\n",
       "      <td>0.409690</td>\n",
       "      <td>0.353670</td>\n",
       "      <td>0.226690</td>\n",
       "      <td>-0.322380</td>\n",
       "      <td>-0.368730</td>\n",
       "      <td>-0.193030</td>\n",
       "      <td>0.318330</td>\n",
       "    </tr>\n",
       "    <tr>\n",
       "      <th>675</th>\n",
       "      <td>Apicidin+Apicidin+2</td>\n",
       "      <td>0</td>\n",
       "      <td>-0.374170</td>\n",
       "      <td>0.467510</td>\n",
       "      <td>0.554460</td>\n",
       "      <td>0.104690</td>\n",
       "      <td>0.434370</td>\n",
       "      <td>0.545750</td>\n",
       "      <td>0.530580</td>\n",
       "      <td>0.518560</td>\n",
       "      <td>...</td>\n",
       "      <td>0.343130</td>\n",
       "      <td>0.142720</td>\n",
       "      <td>-0.145790</td>\n",
       "      <td>0.453350</td>\n",
       "      <td>0.442610</td>\n",
       "      <td>0.142720</td>\n",
       "      <td>-0.361430</td>\n",
       "      <td>-0.349250</td>\n",
       "      <td>-0.062247</td>\n",
       "      <td>0.204750</td>\n",
       "    </tr>\n",
       "    <tr>\n",
       "      <th>677</th>\n",
       "      <td>Apicidin+Apicidin+3</td>\n",
       "      <td>0</td>\n",
       "      <td>-0.078879</td>\n",
       "      <td>0.340940</td>\n",
       "      <td>0.409950</td>\n",
       "      <td>0.144220</td>\n",
       "      <td>0.438490</td>\n",
       "      <td>0.403460</td>\n",
       "      <td>0.381310</td>\n",
       "      <td>0.373190</td>\n",
       "      <td>...</td>\n",
       "      <td>0.147160</td>\n",
       "      <td>-0.081721</td>\n",
       "      <td>0.081201</td>\n",
       "      <td>0.128410</td>\n",
       "      <td>0.158770</td>\n",
       "      <td>-0.081721</td>\n",
       "      <td>0.085946</td>\n",
       "      <td>0.107080</td>\n",
       "      <td>-0.043279</td>\n",
       "      <td>-0.072984</td>\n",
       "    </tr>\n",
       "    <tr>\n",
       "      <th>679</th>\n",
       "      <td>Apicidin+Apicidin+4</td>\n",
       "      <td>0</td>\n",
       "      <td>0.020777</td>\n",
       "      <td>0.132380</td>\n",
       "      <td>0.121070</td>\n",
       "      <td>0.160830</td>\n",
       "      <td>0.144290</td>\n",
       "      <td>0.119190</td>\n",
       "      <td>0.120040</td>\n",
       "      <td>0.126400</td>\n",
       "      <td>...</td>\n",
       "      <td>0.065990</td>\n",
       "      <td>-0.075789</td>\n",
       "      <td>0.026795</td>\n",
       "      <td>0.025656</td>\n",
       "      <td>0.037766</td>\n",
       "      <td>-0.075789</td>\n",
       "      <td>0.107360</td>\n",
       "      <td>0.080741</td>\n",
       "      <td>0.042009</td>\n",
       "      <td>-0.034231</td>\n",
       "    </tr>\n",
       "    <tr>\n",
       "      <th>681</th>\n",
       "      <td>Apicidin+Apicidin+5</td>\n",
       "      <td>0</td>\n",
       "      <td>-0.066264</td>\n",
       "      <td>0.052155</td>\n",
       "      <td>0.036121</td>\n",
       "      <td>0.117100</td>\n",
       "      <td>0.045029</td>\n",
       "      <td>0.038908</td>\n",
       "      <td>0.046322</td>\n",
       "      <td>0.046092</td>\n",
       "      <td>...</td>\n",
       "      <td>0.061983</td>\n",
       "      <td>-0.040805</td>\n",
       "      <td>-0.024483</td>\n",
       "      <td>0.046954</td>\n",
       "      <td>0.046954</td>\n",
       "      <td>-0.040805</td>\n",
       "      <td>0.026063</td>\n",
       "      <td>0.028333</td>\n",
       "      <td>-0.050000</td>\n",
       "      <td>-0.024109</td>\n",
       "    </tr>\n",
       "    <tr>\n",
       "      <th>683</th>\n",
       "      <td>Apicidin+Apicidin+6</td>\n",
       "      <td>0</td>\n",
       "      <td>0.026089</td>\n",
       "      <td>-0.082388</td>\n",
       "      <td>-0.147870</td>\n",
       "      <td>0.099931</td>\n",
       "      <td>-0.168590</td>\n",
       "      <td>-0.163880</td>\n",
       "      <td>-0.136340</td>\n",
       "      <td>-0.119950</td>\n",
       "      <td>...</td>\n",
       "      <td>-0.034673</td>\n",
       "      <td>-0.065980</td>\n",
       "      <td>-0.026414</td>\n",
       "      <td>-0.045341</td>\n",
       "      <td>-0.038509</td>\n",
       "      <td>-0.065980</td>\n",
       "      <td>0.035644</td>\n",
       "      <td>0.021920</td>\n",
       "      <td>0.034071</td>\n",
       "      <td>-0.031728</td>\n",
       "    </tr>\n",
       "    <tr>\n",
       "      <th>288</th>\n",
       "      <td>SAHA+SAHA+1</td>\n",
       "      <td>0</td>\n",
       "      <td>-0.566670</td>\n",
       "      <td>0.438030</td>\n",
       "      <td>0.550750</td>\n",
       "      <td>-0.059810</td>\n",
       "      <td>0.309010</td>\n",
       "      <td>0.538490</td>\n",
       "      <td>0.554360</td>\n",
       "      <td>0.557370</td>\n",
       "      <td>...</td>\n",
       "      <td>0.145700</td>\n",
       "      <td>0.245320</td>\n",
       "      <td>-0.310180</td>\n",
       "      <td>0.390800</td>\n",
       "      <td>0.306810</td>\n",
       "      <td>0.245320</td>\n",
       "      <td>-0.328060</td>\n",
       "      <td>-0.365680</td>\n",
       "      <td>-0.230430</td>\n",
       "      <td>0.317350</td>\n",
       "    </tr>\n",
       "    <tr>\n",
       "      <th>290</th>\n",
       "      <td>SAHA+SAHA+2</td>\n",
       "      <td>0</td>\n",
       "      <td>-0.400830</td>\n",
       "      <td>0.453910</td>\n",
       "      <td>0.541630</td>\n",
       "      <td>0.080766</td>\n",
       "      <td>0.392600</td>\n",
       "      <td>0.521220</td>\n",
       "      <td>0.523850</td>\n",
       "      <td>0.521880</td>\n",
       "      <td>...</td>\n",
       "      <td>0.276140</td>\n",
       "      <td>0.146990</td>\n",
       "      <td>-0.186400</td>\n",
       "      <td>0.431820</td>\n",
       "      <td>0.387490</td>\n",
       "      <td>0.146990</td>\n",
       "      <td>-0.326960</td>\n",
       "      <td>-0.384520</td>\n",
       "      <td>-0.117040</td>\n",
       "      <td>0.223650</td>\n",
       "    </tr>\n",
       "    <tr>\n",
       "      <th>292</th>\n",
       "      <td>SAHA+SAHA+3</td>\n",
       "      <td>0</td>\n",
       "      <td>-0.027500</td>\n",
       "      <td>0.344000</td>\n",
       "      <td>0.405700</td>\n",
       "      <td>0.094734</td>\n",
       "      <td>0.412200</td>\n",
       "      <td>0.393270</td>\n",
       "      <td>0.389870</td>\n",
       "      <td>0.381490</td>\n",
       "      <td>...</td>\n",
       "      <td>0.099992</td>\n",
       "      <td>-0.054705</td>\n",
       "      <td>0.034129</td>\n",
       "      <td>0.084542</td>\n",
       "      <td>0.097334</td>\n",
       "      <td>-0.054705</td>\n",
       "      <td>0.167440</td>\n",
       "      <td>0.133150</td>\n",
       "      <td>0.032564</td>\n",
       "      <td>-0.044638</td>\n",
       "    </tr>\n",
       "    <tr>\n",
       "      <th>294</th>\n",
       "      <td>SAHA+SAHA+4</td>\n",
       "      <td>0</td>\n",
       "      <td>0.058409</td>\n",
       "      <td>0.122910</td>\n",
       "      <td>0.206910</td>\n",
       "      <td>0.051181</td>\n",
       "      <td>0.177520</td>\n",
       "      <td>0.198690</td>\n",
       "      <td>0.195540</td>\n",
       "      <td>0.188580</td>\n",
       "      <td>...</td>\n",
       "      <td>-0.029757</td>\n",
       "      <td>-0.055261</td>\n",
       "      <td>0.028340</td>\n",
       "      <td>-0.042782</td>\n",
       "      <td>-0.043384</td>\n",
       "      <td>-0.055261</td>\n",
       "      <td>0.099458</td>\n",
       "      <td>0.070751</td>\n",
       "      <td>-0.032516</td>\n",
       "      <td>-0.028639</td>\n",
       "    </tr>\n",
       "    <tr>\n",
       "      <th>296</th>\n",
       "      <td>SAHA+SAHA+5</td>\n",
       "      <td>0</td>\n",
       "      <td>-0.032444</td>\n",
       "      <td>0.030642</td>\n",
       "      <td>0.020422</td>\n",
       "      <td>0.042036</td>\n",
       "      <td>-0.020363</td>\n",
       "      <td>0.021656</td>\n",
       "      <td>0.027619</td>\n",
       "      <td>0.027713</td>\n",
       "      <td>...</td>\n",
       "      <td>-0.032298</td>\n",
       "      <td>-0.038075</td>\n",
       "      <td>-0.034494</td>\n",
       "      <td>-0.035861</td>\n",
       "      <td>-0.036607</td>\n",
       "      <td>-0.038075</td>\n",
       "      <td>0.060642</td>\n",
       "      <td>-0.056715</td>\n",
       "      <td>-0.035955</td>\n",
       "      <td>0.043947</td>\n",
       "    </tr>\n",
       "    <tr>\n",
       "      <th>298</th>\n",
       "      <td>SAHA+SAHA+6</td>\n",
       "      <td>0</td>\n",
       "      <td>-0.037423</td>\n",
       "      <td>-0.058404</td>\n",
       "      <td>-0.044503</td>\n",
       "      <td>-0.062743</td>\n",
       "      <td>-0.058652</td>\n",
       "      <td>-0.037050</td>\n",
       "      <td>-0.032443</td>\n",
       "      <td>-0.033832</td>\n",
       "      <td>...</td>\n",
       "      <td>-0.017008</td>\n",
       "      <td>-0.029015</td>\n",
       "      <td>-0.045767</td>\n",
       "      <td>0.028778</td>\n",
       "      <td>0.017072</td>\n",
       "      <td>-0.029015</td>\n",
       "      <td>-0.060954</td>\n",
       "      <td>-0.103370</td>\n",
       "      <td>-0.054734</td>\n",
       "      <td>0.076501</td>\n",
       "    </tr>\n",
       "  </tbody>\n",
       "</table>\n",
       "<p>24 rows × 240 columns</p>\n",
       "</div>"
      ],
      "text/plain": [
       "               drug_name  default       ks1       ks2       ks3       ks4  \\\n",
       "672      SAHA+Apicidin+1        0 -0.483470  0.378410  0.507380  0.054191   \n",
       "674      SAHA+Apicidin+2        0 -0.415000  0.434060  0.498840  0.145890   \n",
       "676      SAHA+Apicidin+3        0 -0.021667  0.356350  0.410930  0.124640   \n",
       "678      SAHA+Apicidin+4        0 -0.067095  0.121050  0.109130  0.179530   \n",
       "680      SAHA+Apicidin+5        0 -0.105770 -0.024704 -0.072792  0.083621   \n",
       "682      SAHA+Apicidin+6        0  0.033385 -0.046291 -0.067642  0.076785   \n",
       "289      Apicidin+SAHA+1        0 -0.590000  0.403760  0.528880  0.070518   \n",
       "291      Apicidin+SAHA+2        0 -0.430830  0.515260  0.594430  0.113280   \n",
       "293      Apicidin+SAHA+3        0  0.072443  0.324550  0.402210  0.102980   \n",
       "295      Apicidin+SAHA+4        0  0.058409  0.086580  0.145730  0.069141   \n",
       "297      Apicidin+SAHA+5        0 -0.030833 -0.020203  0.063110 -0.039417   \n",
       "299      Apicidin+SAHA+6        0  0.049460 -0.053651 -0.042118 -0.044433   \n",
       "673  Apicidin+Apicidin+1        0 -0.607500  0.422640  0.530900  0.097063   \n",
       "675  Apicidin+Apicidin+2        0 -0.374170  0.467510  0.554460  0.104690   \n",
       "677  Apicidin+Apicidin+3        0 -0.078879  0.340940  0.409950  0.144220   \n",
       "679  Apicidin+Apicidin+4        0  0.020777  0.132380  0.121070  0.160830   \n",
       "681  Apicidin+Apicidin+5        0 -0.066264  0.052155  0.036121  0.117100   \n",
       "683  Apicidin+Apicidin+6        0  0.026089 -0.082388 -0.147870  0.099931   \n",
       "288          SAHA+SAHA+1        0 -0.566670  0.438030  0.550750 -0.059810   \n",
       "290          SAHA+SAHA+2        0 -0.400830  0.453910  0.541630  0.080766   \n",
       "292          SAHA+SAHA+3        0 -0.027500  0.344000  0.405700  0.094734   \n",
       "294          SAHA+SAHA+4        0  0.058409  0.122910  0.206910  0.051181   \n",
       "296          SAHA+SAHA+5        0 -0.032444  0.030642  0.020422  0.042036   \n",
       "298          SAHA+SAHA+6        0 -0.037423 -0.058404 -0.044503 -0.062743   \n",
       "\n",
       "          ks5       ks6       ks7       ks8  ...     ks229     ks230  \\\n",
       "672  0.309380  0.496270  0.493420  0.488420  ...  0.204440  0.236390   \n",
       "674  0.382940  0.471850  0.483930  0.474400  ...  0.324860  0.189350   \n",
       "676  0.440360  0.413760  0.377510  0.367060  ...  0.098529 -0.054964   \n",
       "678  0.125080  0.097586  0.097511  0.101550  ...  0.097934 -0.068645   \n",
       "680 -0.077803 -0.078574 -0.072374 -0.065043  ...  0.088531 -0.040063   \n",
       "682 -0.104490 -0.066556 -0.060004 -0.050636  ... -0.036501 -0.044210   \n",
       "289  0.282550  0.503800  0.547050  0.535440  ...  0.157880  0.251990   \n",
       "291  0.476670  0.582180  0.587270  0.582360  ...  0.322930  0.186260   \n",
       "293  0.395130  0.387780  0.382380  0.378520  ...  0.057739 -0.066992   \n",
       "295  0.141870  0.147640  0.130650  0.130870  ... -0.039272 -0.053431   \n",
       "297  0.049413  0.066406  0.062899  0.065365  ... -0.051345  0.026422   \n",
       "299 -0.084437 -0.050467 -0.034464 -0.033721  ... -0.082965 -0.038377   \n",
       "673  0.321690  0.508580  0.523850  0.514040  ...  0.197350  0.226690   \n",
       "675  0.434370  0.545750  0.530580  0.518560  ...  0.343130  0.142720   \n",
       "677  0.438490  0.403460  0.381310  0.373190  ...  0.147160 -0.081721   \n",
       "679  0.144290  0.119190  0.120040  0.126400  ...  0.065990 -0.075789   \n",
       "681  0.045029  0.038908  0.046322  0.046092  ...  0.061983 -0.040805   \n",
       "683 -0.168590 -0.163880 -0.136340 -0.119950  ... -0.034673 -0.065980   \n",
       "288  0.309010  0.538490  0.554360  0.557370  ...  0.145700  0.245320   \n",
       "290  0.392600  0.521220  0.523850  0.521880  ...  0.276140  0.146990   \n",
       "292  0.412200  0.393270  0.389870  0.381490  ...  0.099992 -0.054705   \n",
       "294  0.177520  0.198690  0.195540  0.188580  ... -0.029757 -0.055261   \n",
       "296 -0.020363  0.021656  0.027619  0.027713  ... -0.032298 -0.038075   \n",
       "298 -0.058652 -0.037050 -0.032443 -0.033832  ... -0.017008 -0.029015   \n",
       "\n",
       "        ks231     ks232     ks233     ks234     ks235     ks236     ks237  \\\n",
       "672 -0.289110  0.380580  0.328690  0.236390 -0.327600 -0.362680 -0.197870   \n",
       "674 -0.174450  0.475740  0.455210  0.189350 -0.369090 -0.377870 -0.103480   \n",
       "676  0.058282  0.091017  0.108830 -0.054964  0.175570  0.139930  0.022424   \n",
       "678  0.033961  0.079089  0.092833 -0.068645  0.024577  0.024098  0.029259   \n",
       "680 -0.056233  0.098405  0.097657 -0.040063 -0.074212 -0.073149 -0.055901   \n",
       "682 -0.034021 -0.056094 -0.058187 -0.044210  0.041564  0.024791 -0.026339   \n",
       "289 -0.322100  0.385490  0.313880  0.251990 -0.308220 -0.372210 -0.217090   \n",
       "291 -0.189940  0.493480  0.466380  0.186260 -0.376750 -0.418820 -0.125460   \n",
       "293  0.067471  0.033199  0.040728 -0.066992  0.210860  0.157610  0.044320   \n",
       "295  0.026095 -0.064258 -0.063837 -0.053431  0.108660  0.088379  0.049114   \n",
       "297 -0.034135 -0.050741 -0.058051  0.026422  0.041671 -0.051855 -0.055493   \n",
       "299 -0.052748 -0.073479 -0.088828 -0.038377  0.063656  0.043241 -0.039218   \n",
       "673 -0.296720  0.409690  0.353670  0.226690 -0.322380 -0.368730 -0.193030   \n",
       "675 -0.145790  0.453350  0.442610  0.142720 -0.361430 -0.349250 -0.062247   \n",
       "677  0.081201  0.128410  0.158770 -0.081721  0.085946  0.107080 -0.043279   \n",
       "679  0.026795  0.025656  0.037766 -0.075789  0.107360  0.080741  0.042009   \n",
       "681 -0.024483  0.046954  0.046954 -0.040805  0.026063  0.028333 -0.050000   \n",
       "683 -0.026414 -0.045341 -0.038509 -0.065980  0.035644  0.021920  0.034071   \n",
       "288 -0.310180  0.390800  0.306810  0.245320 -0.328060 -0.365680 -0.230430   \n",
       "290 -0.186400  0.431820  0.387490  0.146990 -0.326960 -0.384520 -0.117040   \n",
       "292  0.034129  0.084542  0.097334 -0.054705  0.167440  0.133150  0.032564   \n",
       "294  0.028340 -0.042782 -0.043384 -0.055261  0.099458  0.070751 -0.032516   \n",
       "296 -0.034494 -0.035861 -0.036607 -0.038075  0.060642 -0.056715 -0.035955   \n",
       "298 -0.045767  0.028778  0.017072 -0.029015 -0.060954 -0.103370 -0.054734   \n",
       "\n",
       "        ks238  \n",
       "672  0.308700  \n",
       "674  0.214850  \n",
       "676 -0.049736  \n",
       "678 -0.038790  \n",
       "680  0.049737  \n",
       "682  0.027583  \n",
       "289  0.332200  \n",
       "291  0.249450  \n",
       "293 -0.066944  \n",
       "295  0.022708  \n",
       "297  0.034789  \n",
       "299  0.029998  \n",
       "673  0.318330  \n",
       "675  0.204750  \n",
       "677 -0.072984  \n",
       "679 -0.034231  \n",
       "681 -0.024109  \n",
       "683 -0.031728  \n",
       "288  0.317350  \n",
       "290  0.223650  \n",
       "292 -0.044638  \n",
       "294 -0.028639  \n",
       "296  0.043947  \n",
       "298  0.076501  \n",
       "\n",
       "[24 rows x 240 columns]"
      ]
     },
     "execution_count": 12,
     "metadata": {},
     "output_type": "execute_result"
    }
   ],
   "source": [
    "#Dna ： etoposide，Gemcitabine\n",
    "#hsp：17aag，auy922\n",
    "#mt：paclitaxel，Vinblastine\n",
    "#prot：\"MG132\"，ps341\n",
    "#hdac：saha，apicidin\n",
    "\n",
    "frames5=[]\n",
    "for i in range(1,7):\n",
    "    frames5.append(df.loc[(df['drug_name'] =='SAHA+Apicidin+'+str(i)) ])\n",
    "for j in range(1,7):\n",
    "    frames5.append(df.loc[(df['drug_name'] =='Apicidin+SAHA+'+str(j)) ])\n",
    "for k in range(1,7):\n",
    "    frames5.append(df.loc[(df['drug_name'] =='Apicidin+Apicidin+'+str(k)) ])\n",
    "for m in range(1,7):\n",
    "    frames5.append(df.loc[(df['drug_name'] =='SAHA+SAHA+'+str(m)) ])\n",
    "HDAC= pd.concat(frames5)\n",
    "HDAC"
   ]
  },
  {
   "cell_type": "code",
   "execution_count": 13,
   "metadata": {},
   "outputs": [
    {
     "data": {
      "text/html": [
       "<div>\n",
       "<style scoped>\n",
       "    .dataframe tbody tr th:only-of-type {\n",
       "        vertical-align: middle;\n",
       "    }\n",
       "\n",
       "    .dataframe tbody tr th {\n",
       "        vertical-align: top;\n",
       "    }\n",
       "\n",
       "    .dataframe thead th {\n",
       "        text-align: right;\n",
       "    }\n",
       "</style>\n",
       "<table border=\"1\" class=\"dataframe\">\n",
       "  <thead>\n",
       "    <tr style=\"text-align: right;\">\n",
       "      <th></th>\n",
       "      <th>drug_name</th>\n",
       "      <th>default</th>\n",
       "      <th>ks1</th>\n",
       "      <th>ks2</th>\n",
       "      <th>ks3</th>\n",
       "      <th>ks4</th>\n",
       "      <th>ks5</th>\n",
       "      <th>ks6</th>\n",
       "      <th>ks7</th>\n",
       "      <th>ks8</th>\n",
       "      <th>...</th>\n",
       "      <th>ks229</th>\n",
       "      <th>ks230</th>\n",
       "      <th>ks231</th>\n",
       "      <th>ks232</th>\n",
       "      <th>ks233</th>\n",
       "      <th>ks234</th>\n",
       "      <th>ks235</th>\n",
       "      <th>ks236</th>\n",
       "      <th>ks237</th>\n",
       "      <th>ks238</th>\n",
       "    </tr>\n",
       "  </thead>\n",
       "  <tbody>\n",
       "    <tr>\n",
       "      <th>360</th>\n",
       "      <td>DMSO+DMSO+1</td>\n",
       "      <td>0</td>\n",
       "      <td>-0.045833</td>\n",
       "      <td>0.045630</td>\n",
       "      <td>0.069729</td>\n",
       "      <td>0.032458</td>\n",
       "      <td>0.046111</td>\n",
       "      <td>0.066633</td>\n",
       "      <td>0.065636</td>\n",
       "      <td>0.065471</td>\n",
       "      <td>...</td>\n",
       "      <td>0.046291</td>\n",
       "      <td>-0.051054</td>\n",
       "      <td>0.041213</td>\n",
       "      <td>0.054894</td>\n",
       "      <td>0.057422</td>\n",
       "      <td>-0.051054</td>\n",
       "      <td>-0.046160</td>\n",
       "      <td>-0.033450</td>\n",
       "      <td>0.036330</td>\n",
       "      <td>-0.048836</td>\n",
       "    </tr>\n",
       "    <tr>\n",
       "      <th>361</th>\n",
       "      <td>DMSO+DMSO+1</td>\n",
       "      <td>0</td>\n",
       "      <td>-0.030833</td>\n",
       "      <td>-0.023131</td>\n",
       "      <td>-0.031360</td>\n",
       "      <td>0.062452</td>\n",
       "      <td>-0.053954</td>\n",
       "      <td>-0.040629</td>\n",
       "      <td>-0.026232</td>\n",
       "      <td>-0.031318</td>\n",
       "      <td>...</td>\n",
       "      <td>-0.023766</td>\n",
       "      <td>0.031447</td>\n",
       "      <td>0.021458</td>\n",
       "      <td>0.033830</td>\n",
       "      <td>-0.027707</td>\n",
       "      <td>0.031447</td>\n",
       "      <td>-0.025351</td>\n",
       "      <td>-0.030948</td>\n",
       "      <td>-0.033814</td>\n",
       "      <td>-0.016715</td>\n",
       "    </tr>\n",
       "    <tr>\n",
       "      <th>372</th>\n",
       "      <td>DMSO+DMSO+1</td>\n",
       "      <td>0</td>\n",
       "      <td>0.073695</td>\n",
       "      <td>0.029093</td>\n",
       "      <td>0.060841</td>\n",
       "      <td>-0.051401</td>\n",
       "      <td>0.045579</td>\n",
       "      <td>0.059491</td>\n",
       "      <td>0.065626</td>\n",
       "      <td>0.067293</td>\n",
       "      <td>...</td>\n",
       "      <td>-0.056869</td>\n",
       "      <td>-0.047279</td>\n",
       "      <td>0.018971</td>\n",
       "      <td>-0.060553</td>\n",
       "      <td>-0.059574</td>\n",
       "      <td>-0.047279</td>\n",
       "      <td>0.061162</td>\n",
       "      <td>0.062511</td>\n",
       "      <td>0.037518</td>\n",
       "      <td>-0.025859</td>\n",
       "    </tr>\n",
       "    <tr>\n",
       "      <th>373</th>\n",
       "      <td>DMSO+DMSO+1</td>\n",
       "      <td>0</td>\n",
       "      <td>0.054498</td>\n",
       "      <td>-0.058508</td>\n",
       "      <td>-0.051640</td>\n",
       "      <td>0.054882</td>\n",
       "      <td>-0.083751</td>\n",
       "      <td>-0.058458</td>\n",
       "      <td>-0.044537</td>\n",
       "      <td>-0.045241</td>\n",
       "      <td>...</td>\n",
       "      <td>-0.045220</td>\n",
       "      <td>-0.029909</td>\n",
       "      <td>0.025876</td>\n",
       "      <td>-0.047225</td>\n",
       "      <td>-0.051016</td>\n",
       "      <td>-0.029909</td>\n",
       "      <td>0.057636</td>\n",
       "      <td>0.044428</td>\n",
       "      <td>-0.033292</td>\n",
       "      <td>-0.028554</td>\n",
       "    </tr>\n",
       "    <tr>\n",
       "      <th>744</th>\n",
       "      <td>DMSO+DMSO+1</td>\n",
       "      <td>0</td>\n",
       "      <td>0.029236</td>\n",
       "      <td>0.068853</td>\n",
       "      <td>0.090612</td>\n",
       "      <td>-0.056395</td>\n",
       "      <td>0.128060</td>\n",
       "      <td>0.107350</td>\n",
       "      <td>0.076957</td>\n",
       "      <td>0.078520</td>\n",
       "      <td>...</td>\n",
       "      <td>0.041101</td>\n",
       "      <td>-0.075546</td>\n",
       "      <td>0.050462</td>\n",
       "      <td>-0.017656</td>\n",
       "      <td>0.026370</td>\n",
       "      <td>-0.075546</td>\n",
       "      <td>0.032150</td>\n",
       "      <td>0.047150</td>\n",
       "      <td>0.047016</td>\n",
       "      <td>-0.044879</td>\n",
       "    </tr>\n",
       "    <tr>\n",
       "      <th>745</th>\n",
       "      <td>DMSO+DMSO+1</td>\n",
       "      <td>0</td>\n",
       "      <td>0.094064</td>\n",
       "      <td>0.033183</td>\n",
       "      <td>0.045444</td>\n",
       "      <td>0.036417</td>\n",
       "      <td>0.050826</td>\n",
       "      <td>0.054721</td>\n",
       "      <td>0.042239</td>\n",
       "      <td>0.043264</td>\n",
       "      <td>...</td>\n",
       "      <td>-0.045217</td>\n",
       "      <td>-0.046219</td>\n",
       "      <td>0.041002</td>\n",
       "      <td>-0.068256</td>\n",
       "      <td>-0.060617</td>\n",
       "      <td>-0.046219</td>\n",
       "      <td>0.088994</td>\n",
       "      <td>0.089534</td>\n",
       "      <td>0.052159</td>\n",
       "      <td>-0.051164</td>\n",
       "    </tr>\n",
       "    <tr>\n",
       "      <th>756</th>\n",
       "      <td>DMSO+DMSO+1</td>\n",
       "      <td>0</td>\n",
       "      <td>-0.055592</td>\n",
       "      <td>-0.037596</td>\n",
       "      <td>-0.074126</td>\n",
       "      <td>0.073131</td>\n",
       "      <td>-0.062658</td>\n",
       "      <td>-0.075823</td>\n",
       "      <td>-0.070209</td>\n",
       "      <td>-0.062338</td>\n",
       "      <td>...</td>\n",
       "      <td>0.056219</td>\n",
       "      <td>-0.086398</td>\n",
       "      <td>0.025401</td>\n",
       "      <td>0.056737</td>\n",
       "      <td>0.046577</td>\n",
       "      <td>-0.086398</td>\n",
       "      <td>0.028009</td>\n",
       "      <td>-0.026541</td>\n",
       "      <td>0.047628</td>\n",
       "      <td>-0.028851</td>\n",
       "    </tr>\n",
       "    <tr>\n",
       "      <th>757</th>\n",
       "      <td>DMSO+DMSO+1</td>\n",
       "      <td>0</td>\n",
       "      <td>0.039511</td>\n",
       "      <td>-0.027140</td>\n",
       "      <td>0.037520</td>\n",
       "      <td>-0.073599</td>\n",
       "      <td>0.023893</td>\n",
       "      <td>0.052570</td>\n",
       "      <td>0.033635</td>\n",
       "      <td>0.038678</td>\n",
       "      <td>...</td>\n",
       "      <td>-0.053294</td>\n",
       "      <td>-0.027504</td>\n",
       "      <td>0.036150</td>\n",
       "      <td>-0.064167</td>\n",
       "      <td>-0.054687</td>\n",
       "      <td>-0.027504</td>\n",
       "      <td>0.036694</td>\n",
       "      <td>0.041318</td>\n",
       "      <td>0.027011</td>\n",
       "      <td>-0.041909</td>\n",
       "    </tr>\n",
       "    <tr>\n",
       "      <th>362</th>\n",
       "      <td>DMSO+DMSO+2</td>\n",
       "      <td>0</td>\n",
       "      <td>-0.023333</td>\n",
       "      <td>0.045120</td>\n",
       "      <td>0.054200</td>\n",
       "      <td>0.039305</td>\n",
       "      <td>0.060897</td>\n",
       "      <td>0.048528</td>\n",
       "      <td>0.048075</td>\n",
       "      <td>0.048062</td>\n",
       "      <td>...</td>\n",
       "      <td>0.038766</td>\n",
       "      <td>-0.046344</td>\n",
       "      <td>-0.018238</td>\n",
       "      <td>0.028612</td>\n",
       "      <td>0.024483</td>\n",
       "      <td>-0.046344</td>\n",
       "      <td>-0.030608</td>\n",
       "      <td>0.030488</td>\n",
       "      <td>-0.022086</td>\n",
       "      <td>0.020984</td>\n",
       "    </tr>\n",
       "    <tr>\n",
       "      <th>363</th>\n",
       "      <td>DMSO+DMSO+2</td>\n",
       "      <td>0</td>\n",
       "      <td>0.069926</td>\n",
       "      <td>0.024255</td>\n",
       "      <td>0.063075</td>\n",
       "      <td>0.054632</td>\n",
       "      <td>0.043439</td>\n",
       "      <td>0.049959</td>\n",
       "      <td>0.060518</td>\n",
       "      <td>0.060538</td>\n",
       "      <td>...</td>\n",
       "      <td>-0.045492</td>\n",
       "      <td>-0.029847</td>\n",
       "      <td>0.042770</td>\n",
       "      <td>-0.065779</td>\n",
       "      <td>-0.071061</td>\n",
       "      <td>-0.029847</td>\n",
       "      <td>0.075309</td>\n",
       "      <td>0.084582</td>\n",
       "      <td>0.032159</td>\n",
       "      <td>-0.034693</td>\n",
       "    </tr>\n",
       "    <tr>\n",
       "      <th>374</th>\n",
       "      <td>DMSO+DMSO+2</td>\n",
       "      <td>0</td>\n",
       "      <td>0.018606</td>\n",
       "      <td>0.028958</td>\n",
       "      <td>0.041390</td>\n",
       "      <td>0.026484</td>\n",
       "      <td>-0.042806</td>\n",
       "      <td>0.050203</td>\n",
       "      <td>0.034655</td>\n",
       "      <td>0.033762</td>\n",
       "      <td>...</td>\n",
       "      <td>-0.030803</td>\n",
       "      <td>-0.020127</td>\n",
       "      <td>-0.017493</td>\n",
       "      <td>-0.039523</td>\n",
       "      <td>-0.037747</td>\n",
       "      <td>-0.020127</td>\n",
       "      <td>0.047422</td>\n",
       "      <td>0.034487</td>\n",
       "      <td>0.036766</td>\n",
       "      <td>0.032490</td>\n",
       "    </tr>\n",
       "    <tr>\n",
       "      <th>375</th>\n",
       "      <td>DMSO+DMSO+2</td>\n",
       "      <td>0</td>\n",
       "      <td>-0.076667</td>\n",
       "      <td>0.033630</td>\n",
       "      <td>0.035200</td>\n",
       "      <td>-0.065921</td>\n",
       "      <td>0.035431</td>\n",
       "      <td>0.037716</td>\n",
       "      <td>0.039592</td>\n",
       "      <td>0.044047</td>\n",
       "      <td>...</td>\n",
       "      <td>0.038708</td>\n",
       "      <td>-0.033436</td>\n",
       "      <td>0.039343</td>\n",
       "      <td>0.027363</td>\n",
       "      <td>0.030197</td>\n",
       "      <td>-0.033436</td>\n",
       "      <td>-0.048766</td>\n",
       "      <td>-0.060088</td>\n",
       "      <td>-0.021574</td>\n",
       "      <td>-0.034876</td>\n",
       "    </tr>\n",
       "    <tr>\n",
       "      <th>746</th>\n",
       "      <td>DMSO+DMSO+2</td>\n",
       "      <td>0</td>\n",
       "      <td>-0.056405</td>\n",
       "      <td>-0.024389</td>\n",
       "      <td>-0.042762</td>\n",
       "      <td>0.047312</td>\n",
       "      <td>-0.032773</td>\n",
       "      <td>-0.040065</td>\n",
       "      <td>-0.039588</td>\n",
       "      <td>-0.034835</td>\n",
       "      <td>...</td>\n",
       "      <td>0.031610</td>\n",
       "      <td>0.032531</td>\n",
       "      <td>0.030344</td>\n",
       "      <td>0.031126</td>\n",
       "      <td>0.036778</td>\n",
       "      <td>0.032531</td>\n",
       "      <td>-0.034477</td>\n",
       "      <td>-0.044178</td>\n",
       "      <td>-0.029232</td>\n",
       "      <td>-0.022395</td>\n",
       "    </tr>\n",
       "    <tr>\n",
       "      <th>747</th>\n",
       "      <td>DMSO+DMSO+2</td>\n",
       "      <td>0</td>\n",
       "      <td>0.071958</td>\n",
       "      <td>0.057600</td>\n",
       "      <td>0.050552</td>\n",
       "      <td>0.131620</td>\n",
       "      <td>0.051325</td>\n",
       "      <td>0.041265</td>\n",
       "      <td>0.056094</td>\n",
       "      <td>0.058906</td>\n",
       "      <td>...</td>\n",
       "      <td>-0.046466</td>\n",
       "      <td>-0.046416</td>\n",
       "      <td>0.035201</td>\n",
       "      <td>-0.077249</td>\n",
       "      <td>-0.067078</td>\n",
       "      <td>-0.046416</td>\n",
       "      <td>0.098384</td>\n",
       "      <td>0.092058</td>\n",
       "      <td>0.025452</td>\n",
       "      <td>-0.049930</td>\n",
       "    </tr>\n",
       "    <tr>\n",
       "      <th>758</th>\n",
       "      <td>DMSO+DMSO+2</td>\n",
       "      <td>0</td>\n",
       "      <td>-0.032087</td>\n",
       "      <td>-0.027087</td>\n",
       "      <td>-0.038807</td>\n",
       "      <td>0.105020</td>\n",
       "      <td>-0.035720</td>\n",
       "      <td>-0.043649</td>\n",
       "      <td>-0.037279</td>\n",
       "      <td>-0.042226</td>\n",
       "      <td>...</td>\n",
       "      <td>0.043859</td>\n",
       "      <td>-0.053303</td>\n",
       "      <td>-0.024001</td>\n",
       "      <td>0.044349</td>\n",
       "      <td>0.043848</td>\n",
       "      <td>-0.053303</td>\n",
       "      <td>-0.043441</td>\n",
       "      <td>-0.042666</td>\n",
       "      <td>0.042251</td>\n",
       "      <td>0.044809</td>\n",
       "    </tr>\n",
       "    <tr>\n",
       "      <th>759</th>\n",
       "      <td>DMSO+DMSO+2</td>\n",
       "      <td>0</td>\n",
       "      <td>0.036972</td>\n",
       "      <td>-0.032795</td>\n",
       "      <td>-0.037089</td>\n",
       "      <td>0.080217</td>\n",
       "      <td>-0.029010</td>\n",
       "      <td>-0.034117</td>\n",
       "      <td>-0.031728</td>\n",
       "      <td>-0.034413</td>\n",
       "      <td>...</td>\n",
       "      <td>-0.040671</td>\n",
       "      <td>-0.050581</td>\n",
       "      <td>0.030043</td>\n",
       "      <td>-0.050473</td>\n",
       "      <td>-0.044103</td>\n",
       "      <td>-0.050581</td>\n",
       "      <td>0.044793</td>\n",
       "      <td>0.038443</td>\n",
       "      <td>-0.021533</td>\n",
       "      <td>-0.029466</td>\n",
       "    </tr>\n",
       "    <tr>\n",
       "      <th>364</th>\n",
       "      <td>DMSO+DMSO+3</td>\n",
       "      <td>0</td>\n",
       "      <td>-0.028333</td>\n",
       "      <td>0.027500</td>\n",
       "      <td>0.045833</td>\n",
       "      <td>-0.019167</td>\n",
       "      <td>0.055833</td>\n",
       "      <td>0.046667</td>\n",
       "      <td>0.048333</td>\n",
       "      <td>0.046667</td>\n",
       "      <td>...</td>\n",
       "      <td>0.038333</td>\n",
       "      <td>-0.047500</td>\n",
       "      <td>-0.036667</td>\n",
       "      <td>0.036667</td>\n",
       "      <td>0.033333</td>\n",
       "      <td>-0.047500</td>\n",
       "      <td>-0.050000</td>\n",
       "      <td>-0.060000</td>\n",
       "      <td>0.040000</td>\n",
       "      <td>0.038333</td>\n",
       "    </tr>\n",
       "    <tr>\n",
       "      <th>365</th>\n",
       "      <td>DMSO+DMSO+3</td>\n",
       "      <td>0</td>\n",
       "      <td>-0.153120</td>\n",
       "      <td>-0.056478</td>\n",
       "      <td>-0.289820</td>\n",
       "      <td>0.260850</td>\n",
       "      <td>-0.379400</td>\n",
       "      <td>-0.336930</td>\n",
       "      <td>-0.231180</td>\n",
       "      <td>-0.194540</td>\n",
       "      <td>...</td>\n",
       "      <td>0.107550</td>\n",
       "      <td>-0.031215</td>\n",
       "      <td>0.058068</td>\n",
       "      <td>0.106800</td>\n",
       "      <td>0.118350</td>\n",
       "      <td>-0.031215</td>\n",
       "      <td>0.129280</td>\n",
       "      <td>0.094758</td>\n",
       "      <td>-0.058489</td>\n",
       "      <td>-0.069014</td>\n",
       "    </tr>\n",
       "    <tr>\n",
       "      <th>376</th>\n",
       "      <td>DMSO+DMSO+3</td>\n",
       "      <td>0</td>\n",
       "      <td>-0.056667</td>\n",
       "      <td>0.033979</td>\n",
       "      <td>0.080593</td>\n",
       "      <td>-0.061445</td>\n",
       "      <td>0.048790</td>\n",
       "      <td>0.080128</td>\n",
       "      <td>0.078249</td>\n",
       "      <td>0.078662</td>\n",
       "      <td>...</td>\n",
       "      <td>0.025128</td>\n",
       "      <td>0.031681</td>\n",
       "      <td>-0.035918</td>\n",
       "      <td>0.037461</td>\n",
       "      <td>0.033684</td>\n",
       "      <td>0.031681</td>\n",
       "      <td>-0.055241</td>\n",
       "      <td>-0.060373</td>\n",
       "      <td>-0.031119</td>\n",
       "      <td>0.036335</td>\n",
       "    </tr>\n",
       "    <tr>\n",
       "      <th>377</th>\n",
       "      <td>DMSO+DMSO+3</td>\n",
       "      <td>0</td>\n",
       "      <td>-0.030000</td>\n",
       "      <td>-0.038507</td>\n",
       "      <td>-0.024825</td>\n",
       "      <td>-0.084936</td>\n",
       "      <td>-0.036916</td>\n",
       "      <td>-0.019928</td>\n",
       "      <td>0.022475</td>\n",
       "      <td>-0.026384</td>\n",
       "      <td>...</td>\n",
       "      <td>-0.039584</td>\n",
       "      <td>0.040103</td>\n",
       "      <td>-0.034464</td>\n",
       "      <td>0.035547</td>\n",
       "      <td>-0.031969</td>\n",
       "      <td>0.040103</td>\n",
       "      <td>-0.041500</td>\n",
       "      <td>-0.074882</td>\n",
       "      <td>-0.041792</td>\n",
       "      <td>0.034160</td>\n",
       "    </tr>\n",
       "    <tr>\n",
       "      <th>748</th>\n",
       "      <td>DMSO+DMSO+3</td>\n",
       "      <td>0</td>\n",
       "      <td>-0.064607</td>\n",
       "      <td>0.032506</td>\n",
       "      <td>-0.049825</td>\n",
       "      <td>0.057344</td>\n",
       "      <td>-0.049680</td>\n",
       "      <td>-0.050397</td>\n",
       "      <td>-0.041168</td>\n",
       "      <td>-0.040912</td>\n",
       "      <td>...</td>\n",
       "      <td>0.053518</td>\n",
       "      <td>-0.045318</td>\n",
       "      <td>0.019083</td>\n",
       "      <td>0.037216</td>\n",
       "      <td>0.043266</td>\n",
       "      <td>-0.045318</td>\n",
       "      <td>-0.036152</td>\n",
       "      <td>-0.025906</td>\n",
       "      <td>0.032045</td>\n",
       "      <td>-0.027308</td>\n",
       "    </tr>\n",
       "    <tr>\n",
       "      <th>749</th>\n",
       "      <td>DMSO+DMSO+3</td>\n",
       "      <td>0</td>\n",
       "      <td>0.050093</td>\n",
       "      <td>-0.029630</td>\n",
       "      <td>-0.036358</td>\n",
       "      <td>0.018241</td>\n",
       "      <td>0.028395</td>\n",
       "      <td>-0.030648</td>\n",
       "      <td>-0.041389</td>\n",
       "      <td>-0.036451</td>\n",
       "      <td>...</td>\n",
       "      <td>0.030031</td>\n",
       "      <td>-0.056543</td>\n",
       "      <td>0.040432</td>\n",
       "      <td>-0.048025</td>\n",
       "      <td>-0.032500</td>\n",
       "      <td>-0.056543</td>\n",
       "      <td>0.043920</td>\n",
       "      <td>0.058457</td>\n",
       "      <td>0.049969</td>\n",
       "      <td>-0.049691</td>\n",
       "    </tr>\n",
       "    <tr>\n",
       "      <th>760</th>\n",
       "      <td>DMSO+DMSO+3</td>\n",
       "      <td>0</td>\n",
       "      <td>-0.040912</td>\n",
       "      <td>-0.037584</td>\n",
       "      <td>-0.086443</td>\n",
       "      <td>0.070179</td>\n",
       "      <td>-0.089379</td>\n",
       "      <td>-0.087466</td>\n",
       "      <td>-0.078909</td>\n",
       "      <td>-0.077237</td>\n",
       "      <td>...</td>\n",
       "      <td>0.040157</td>\n",
       "      <td>-0.023132</td>\n",
       "      <td>-0.026818</td>\n",
       "      <td>0.039871</td>\n",
       "      <td>0.045761</td>\n",
       "      <td>-0.023132</td>\n",
       "      <td>-0.037232</td>\n",
       "      <td>-0.048820</td>\n",
       "      <td>-0.044111</td>\n",
       "      <td>0.022657</td>\n",
       "    </tr>\n",
       "    <tr>\n",
       "      <th>761</th>\n",
       "      <td>DMSO+DMSO+3</td>\n",
       "      <td>0</td>\n",
       "      <td>-0.049171</td>\n",
       "      <td>0.051818</td>\n",
       "      <td>0.039541</td>\n",
       "      <td>-0.026366</td>\n",
       "      <td>0.079148</td>\n",
       "      <td>0.041413</td>\n",
       "      <td>0.032470</td>\n",
       "      <td>0.034970</td>\n",
       "      <td>...</td>\n",
       "      <td>0.063821</td>\n",
       "      <td>-0.050660</td>\n",
       "      <td>-0.026587</td>\n",
       "      <td>0.066674</td>\n",
       "      <td>0.061529</td>\n",
       "      <td>-0.050660</td>\n",
       "      <td>-0.040147</td>\n",
       "      <td>-0.029972</td>\n",
       "      <td>0.045747</td>\n",
       "      <td>0.030218</td>\n",
       "    </tr>\n",
       "    <tr>\n",
       "      <th>366</th>\n",
       "      <td>DMSO+DMSO+4</td>\n",
       "      <td>0</td>\n",
       "      <td>0.029373</td>\n",
       "      <td>0.034538</td>\n",
       "      <td>0.054697</td>\n",
       "      <td>-0.055866</td>\n",
       "      <td>0.043778</td>\n",
       "      <td>0.051144</td>\n",
       "      <td>0.046399</td>\n",
       "      <td>0.047104</td>\n",
       "      <td>...</td>\n",
       "      <td>-0.042827</td>\n",
       "      <td>-0.025252</td>\n",
       "      <td>0.026945</td>\n",
       "      <td>-0.045102</td>\n",
       "      <td>-0.041622</td>\n",
       "      <td>-0.025252</td>\n",
       "      <td>0.038029</td>\n",
       "      <td>0.036147</td>\n",
       "      <td>-0.043858</td>\n",
       "      <td>-0.020050</td>\n",
       "    </tr>\n",
       "    <tr>\n",
       "      <th>367</th>\n",
       "      <td>DMSO+DMSO+4</td>\n",
       "      <td>0</td>\n",
       "      <td>-0.023333</td>\n",
       "      <td>0.031522</td>\n",
       "      <td>0.055250</td>\n",
       "      <td>0.031131</td>\n",
       "      <td>0.062378</td>\n",
       "      <td>0.059967</td>\n",
       "      <td>0.052217</td>\n",
       "      <td>0.054816</td>\n",
       "      <td>...</td>\n",
       "      <td>0.042283</td>\n",
       "      <td>-0.042899</td>\n",
       "      <td>0.016640</td>\n",
       "      <td>0.022297</td>\n",
       "      <td>0.023015</td>\n",
       "      <td>-0.042899</td>\n",
       "      <td>-0.024816</td>\n",
       "      <td>-0.025474</td>\n",
       "      <td>0.028724</td>\n",
       "      <td>-0.027196</td>\n",
       "    </tr>\n",
       "    <tr>\n",
       "      <th>378</th>\n",
       "      <td>DMSO+DMSO+4</td>\n",
       "      <td>0</td>\n",
       "      <td>-0.084788</td>\n",
       "      <td>-0.039664</td>\n",
       "      <td>-0.042280</td>\n",
       "      <td>-0.064268</td>\n",
       "      <td>-0.041899</td>\n",
       "      <td>-0.037690</td>\n",
       "      <td>-0.040096</td>\n",
       "      <td>-0.039343</td>\n",
       "      <td>...</td>\n",
       "      <td>0.060749</td>\n",
       "      <td>0.036976</td>\n",
       "      <td>-0.038834</td>\n",
       "      <td>0.079920</td>\n",
       "      <td>0.077652</td>\n",
       "      <td>0.036976</td>\n",
       "      <td>-0.103150</td>\n",
       "      <td>-0.122470</td>\n",
       "      <td>-0.050491</td>\n",
       "      <td>0.062524</td>\n",
       "    </tr>\n",
       "    <tr>\n",
       "      <th>379</th>\n",
       "      <td>DMSO+DMSO+4</td>\n",
       "      <td>0</td>\n",
       "      <td>-0.084788</td>\n",
       "      <td>0.061762</td>\n",
       "      <td>0.042738</td>\n",
       "      <td>-0.051412</td>\n",
       "      <td>0.025873</td>\n",
       "      <td>0.041584</td>\n",
       "      <td>0.043921</td>\n",
       "      <td>0.035854</td>\n",
       "      <td>...</td>\n",
       "      <td>0.076165</td>\n",
       "      <td>0.024976</td>\n",
       "      <td>-0.042527</td>\n",
       "      <td>0.080271</td>\n",
       "      <td>0.072197</td>\n",
       "      <td>0.024976</td>\n",
       "      <td>-0.049088</td>\n",
       "      <td>-0.058446</td>\n",
       "      <td>-0.031038</td>\n",
       "      <td>0.055291</td>\n",
       "    </tr>\n",
       "    <tr>\n",
       "      <th>750</th>\n",
       "      <td>DMSO+DMSO+4</td>\n",
       "      <td>0</td>\n",
       "      <td>-0.086608</td>\n",
       "      <td>0.037805</td>\n",
       "      <td>-0.057019</td>\n",
       "      <td>0.076620</td>\n",
       "      <td>-0.045129</td>\n",
       "      <td>-0.060505</td>\n",
       "      <td>-0.053826</td>\n",
       "      <td>-0.041843</td>\n",
       "      <td>...</td>\n",
       "      <td>0.084366</td>\n",
       "      <td>-0.036315</td>\n",
       "      <td>-0.024038</td>\n",
       "      <td>0.083228</td>\n",
       "      <td>0.085822</td>\n",
       "      <td>-0.036315</td>\n",
       "      <td>-0.062242</td>\n",
       "      <td>-0.054002</td>\n",
       "      <td>-0.026925</td>\n",
       "      <td>-0.027312</td>\n",
       "    </tr>\n",
       "    <tr>\n",
       "      <th>751</th>\n",
       "      <td>DMSO+DMSO+4</td>\n",
       "      <td>0</td>\n",
       "      <td>0.069282</td>\n",
       "      <td>-0.037465</td>\n",
       "      <td>-0.046289</td>\n",
       "      <td>0.042331</td>\n",
       "      <td>-0.043263</td>\n",
       "      <td>-0.052185</td>\n",
       "      <td>-0.049001</td>\n",
       "      <td>-0.045826</td>\n",
       "      <td>...</td>\n",
       "      <td>-0.026259</td>\n",
       "      <td>-0.072032</td>\n",
       "      <td>0.062115</td>\n",
       "      <td>-0.055204</td>\n",
       "      <td>-0.046483</td>\n",
       "      <td>-0.072032</td>\n",
       "      <td>0.065028</td>\n",
       "      <td>0.067993</td>\n",
       "      <td>0.044721</td>\n",
       "      <td>-0.061037</td>\n",
       "    </tr>\n",
       "    <tr>\n",
       "      <th>762</th>\n",
       "      <td>DMSO+DMSO+4</td>\n",
       "      <td>0</td>\n",
       "      <td>-0.035735</td>\n",
       "      <td>0.031032</td>\n",
       "      <td>0.053588</td>\n",
       "      <td>-0.037182</td>\n",
       "      <td>0.046151</td>\n",
       "      <td>0.064437</td>\n",
       "      <td>0.046888</td>\n",
       "      <td>0.041087</td>\n",
       "      <td>...</td>\n",
       "      <td>0.036011</td>\n",
       "      <td>-0.045174</td>\n",
       "      <td>-0.017997</td>\n",
       "      <td>0.031192</td>\n",
       "      <td>0.032828</td>\n",
       "      <td>-0.045174</td>\n",
       "      <td>-0.037696</td>\n",
       "      <td>0.022594</td>\n",
       "      <td>0.039518</td>\n",
       "      <td>-0.026381</td>\n",
       "    </tr>\n",
       "    <tr>\n",
       "      <th>763</th>\n",
       "      <td>DMSO+DMSO+4</td>\n",
       "      <td>0</td>\n",
       "      <td>-0.050746</td>\n",
       "      <td>0.034945</td>\n",
       "      <td>0.043244</td>\n",
       "      <td>0.056416</td>\n",
       "      <td>0.058554</td>\n",
       "      <td>0.054092</td>\n",
       "      <td>0.034642</td>\n",
       "      <td>0.032023</td>\n",
       "      <td>...</td>\n",
       "      <td>0.048130</td>\n",
       "      <td>-0.060165</td>\n",
       "      <td>0.041221</td>\n",
       "      <td>0.041298</td>\n",
       "      <td>0.046207</td>\n",
       "      <td>-0.060165</td>\n",
       "      <td>-0.048079</td>\n",
       "      <td>-0.038779</td>\n",
       "      <td>0.051620</td>\n",
       "      <td>-0.049578</td>\n",
       "    </tr>\n",
       "    <tr>\n",
       "      <th>368</th>\n",
       "      <td>DMSO+DMSO+5</td>\n",
       "      <td>0</td>\n",
       "      <td>0.099136</td>\n",
       "      <td>-0.056353</td>\n",
       "      <td>0.023986</td>\n",
       "      <td>-0.023674</td>\n",
       "      <td>-0.047861</td>\n",
       "      <td>0.027799</td>\n",
       "      <td>0.020085</td>\n",
       "      <td>0.017862</td>\n",
       "      <td>...</td>\n",
       "      <td>-0.078068</td>\n",
       "      <td>-0.037384</td>\n",
       "      <td>-0.028002</td>\n",
       "      <td>-0.087371</td>\n",
       "      <td>-0.093078</td>\n",
       "      <td>-0.037384</td>\n",
       "      <td>0.055170</td>\n",
       "      <td>0.050214</td>\n",
       "      <td>-0.034116</td>\n",
       "      <td>-0.022124</td>\n",
       "    </tr>\n",
       "    <tr>\n",
       "      <th>369</th>\n",
       "      <td>DMSO+DMSO+5</td>\n",
       "      <td>0</td>\n",
       "      <td>0.020646</td>\n",
       "      <td>0.043503</td>\n",
       "      <td>0.060578</td>\n",
       "      <td>0.036344</td>\n",
       "      <td>0.061037</td>\n",
       "      <td>0.057007</td>\n",
       "      <td>0.061973</td>\n",
       "      <td>0.064473</td>\n",
       "      <td>...</td>\n",
       "      <td>-0.038061</td>\n",
       "      <td>-0.029405</td>\n",
       "      <td>0.056378</td>\n",
       "      <td>-0.036548</td>\n",
       "      <td>-0.032211</td>\n",
       "      <td>-0.029405</td>\n",
       "      <td>0.056871</td>\n",
       "      <td>0.077058</td>\n",
       "      <td>-0.028452</td>\n",
       "      <td>-0.051003</td>\n",
       "    </tr>\n",
       "    <tr>\n",
       "      <th>380</th>\n",
       "      <td>DMSO+DMSO+5</td>\n",
       "      <td>0</td>\n",
       "      <td>-0.034098</td>\n",
       "      <td>0.030928</td>\n",
       "      <td>0.057626</td>\n",
       "      <td>-0.057777</td>\n",
       "      <td>0.039000</td>\n",
       "      <td>0.058611</td>\n",
       "      <td>0.059537</td>\n",
       "      <td>0.059478</td>\n",
       "      <td>...</td>\n",
       "      <td>-0.023465</td>\n",
       "      <td>-0.021382</td>\n",
       "      <td>0.044005</td>\n",
       "      <td>-0.026736</td>\n",
       "      <td>-0.026100</td>\n",
       "      <td>-0.021382</td>\n",
       "      <td>-0.048818</td>\n",
       "      <td>-0.053210</td>\n",
       "      <td>-0.027802</td>\n",
       "      <td>-0.036109</td>\n",
       "    </tr>\n",
       "    <tr>\n",
       "      <th>381</th>\n",
       "      <td>DMSO+DMSO+5</td>\n",
       "      <td>0</td>\n",
       "      <td>-0.076667</td>\n",
       "      <td>0.047676</td>\n",
       "      <td>0.061718</td>\n",
       "      <td>-0.062250</td>\n",
       "      <td>0.073749</td>\n",
       "      <td>0.063202</td>\n",
       "      <td>0.060599</td>\n",
       "      <td>0.055715</td>\n",
       "      <td>...</td>\n",
       "      <td>0.040449</td>\n",
       "      <td>0.033481</td>\n",
       "      <td>0.021966</td>\n",
       "      <td>0.060697</td>\n",
       "      <td>0.063298</td>\n",
       "      <td>0.033481</td>\n",
       "      <td>-0.090896</td>\n",
       "      <td>-0.097080</td>\n",
       "      <td>-0.030393</td>\n",
       "      <td>0.041801</td>\n",
       "    </tr>\n",
       "    <tr>\n",
       "      <th>752</th>\n",
       "      <td>DMSO+DMSO+5</td>\n",
       "      <td>0</td>\n",
       "      <td>-0.080586</td>\n",
       "      <td>-0.021371</td>\n",
       "      <td>-0.048900</td>\n",
       "      <td>0.044969</td>\n",
       "      <td>0.029567</td>\n",
       "      <td>-0.048856</td>\n",
       "      <td>-0.054016</td>\n",
       "      <td>-0.042526</td>\n",
       "      <td>...</td>\n",
       "      <td>0.076304</td>\n",
       "      <td>-0.031923</td>\n",
       "      <td>-0.050203</td>\n",
       "      <td>0.082023</td>\n",
       "      <td>0.072043</td>\n",
       "      <td>-0.031923</td>\n",
       "      <td>-0.065190</td>\n",
       "      <td>-0.052946</td>\n",
       "      <td>-0.024140</td>\n",
       "      <td>0.047596</td>\n",
       "    </tr>\n",
       "    <tr>\n",
       "      <th>753</th>\n",
       "      <td>DMSO+DMSO+5</td>\n",
       "      <td>0</td>\n",
       "      <td>-0.018382</td>\n",
       "      <td>-0.036100</td>\n",
       "      <td>0.021561</td>\n",
       "      <td>-0.080307</td>\n",
       "      <td>0.033277</td>\n",
       "      <td>0.026537</td>\n",
       "      <td>-0.022152</td>\n",
       "      <td>-0.024159</td>\n",
       "      <td>...</td>\n",
       "      <td>0.028455</td>\n",
       "      <td>-0.061764</td>\n",
       "      <td>0.053859</td>\n",
       "      <td>-0.032864</td>\n",
       "      <td>-0.023487</td>\n",
       "      <td>-0.061764</td>\n",
       "      <td>0.036036</td>\n",
       "      <td>0.041618</td>\n",
       "      <td>0.062322</td>\n",
       "      <td>-0.053981</td>\n",
       "    </tr>\n",
       "    <tr>\n",
       "      <th>764</th>\n",
       "      <td>DMSO+DMSO+5</td>\n",
       "      <td>0</td>\n",
       "      <td>-0.046150</td>\n",
       "      <td>-0.042004</td>\n",
       "      <td>-0.035158</td>\n",
       "      <td>0.032152</td>\n",
       "      <td>0.024188</td>\n",
       "      <td>-0.024757</td>\n",
       "      <td>-0.042827</td>\n",
       "      <td>-0.035348</td>\n",
       "      <td>...</td>\n",
       "      <td>0.041857</td>\n",
       "      <td>-0.051941</td>\n",
       "      <td>0.029599</td>\n",
       "      <td>0.041709</td>\n",
       "      <td>0.037911</td>\n",
       "      <td>-0.051941</td>\n",
       "      <td>-0.064778</td>\n",
       "      <td>-0.058576</td>\n",
       "      <td>-0.050211</td>\n",
       "      <td>0.040781</td>\n",
       "    </tr>\n",
       "    <tr>\n",
       "      <th>765</th>\n",
       "      <td>DMSO+DMSO+5</td>\n",
       "      <td>0</td>\n",
       "      <td>-0.062955</td>\n",
       "      <td>0.043926</td>\n",
       "      <td>0.044278</td>\n",
       "      <td>-0.032397</td>\n",
       "      <td>0.061400</td>\n",
       "      <td>0.057268</td>\n",
       "      <td>0.033754</td>\n",
       "      <td>0.030043</td>\n",
       "      <td>...</td>\n",
       "      <td>0.052792</td>\n",
       "      <td>-0.033471</td>\n",
       "      <td>-0.024510</td>\n",
       "      <td>0.055945</td>\n",
       "      <td>0.057423</td>\n",
       "      <td>-0.033471</td>\n",
       "      <td>-0.059149</td>\n",
       "      <td>-0.042904</td>\n",
       "      <td>0.029674</td>\n",
       "      <td>0.027414</td>\n",
       "    </tr>\n",
       "    <tr>\n",
       "      <th>370</th>\n",
       "      <td>DMSO+DMSO+6</td>\n",
       "      <td>0</td>\n",
       "      <td>0.118480</td>\n",
       "      <td>-0.052185</td>\n",
       "      <td>-0.023870</td>\n",
       "      <td>0.015962</td>\n",
       "      <td>-0.051530</td>\n",
       "      <td>-0.034408</td>\n",
       "      <td>-0.021386</td>\n",
       "      <td>0.018979</td>\n",
       "      <td>...</td>\n",
       "      <td>-0.083784</td>\n",
       "      <td>-0.057756</td>\n",
       "      <td>0.022192</td>\n",
       "      <td>-0.118270</td>\n",
       "      <td>-0.104240</td>\n",
       "      <td>-0.057756</td>\n",
       "      <td>0.075792</td>\n",
       "      <td>0.059856</td>\n",
       "      <td>-0.035129</td>\n",
       "      <td>-0.027168</td>\n",
       "    </tr>\n",
       "    <tr>\n",
       "      <th>371</th>\n",
       "      <td>DMSO+DMSO+6</td>\n",
       "      <td>0</td>\n",
       "      <td>0.040511</td>\n",
       "      <td>0.025139</td>\n",
       "      <td>0.041982</td>\n",
       "      <td>0.043357</td>\n",
       "      <td>0.058772</td>\n",
       "      <td>0.040365</td>\n",
       "      <td>0.038991</td>\n",
       "      <td>0.040923</td>\n",
       "      <td>...</td>\n",
       "      <td>-0.031577</td>\n",
       "      <td>-0.036929</td>\n",
       "      <td>0.018367</td>\n",
       "      <td>-0.031092</td>\n",
       "      <td>-0.025803</td>\n",
       "      <td>-0.036929</td>\n",
       "      <td>0.049817</td>\n",
       "      <td>0.036232</td>\n",
       "      <td>0.037463</td>\n",
       "      <td>-0.027649</td>\n",
       "    </tr>\n",
       "    <tr>\n",
       "      <th>382</th>\n",
       "      <td>DMSO+DMSO+6</td>\n",
       "      <td>0</td>\n",
       "      <td>-0.156060</td>\n",
       "      <td>0.064540</td>\n",
       "      <td>0.057057</td>\n",
       "      <td>-0.039832</td>\n",
       "      <td>0.043153</td>\n",
       "      <td>0.057722</td>\n",
       "      <td>0.056716</td>\n",
       "      <td>0.061716</td>\n",
       "      <td>...</td>\n",
       "      <td>0.107790</td>\n",
       "      <td>0.041076</td>\n",
       "      <td>-0.025427</td>\n",
       "      <td>0.127510</td>\n",
       "      <td>0.123030</td>\n",
       "      <td>0.041076</td>\n",
       "      <td>-0.144710</td>\n",
       "      <td>-0.150270</td>\n",
       "      <td>-0.039429</td>\n",
       "      <td>0.039811</td>\n",
       "    </tr>\n",
       "    <tr>\n",
       "      <th>383</th>\n",
       "      <td>DMSO+DMSO+6</td>\n",
       "      <td>0</td>\n",
       "      <td>-0.129050</td>\n",
       "      <td>0.078132</td>\n",
       "      <td>0.097199</td>\n",
       "      <td>-0.068729</td>\n",
       "      <td>0.096897</td>\n",
       "      <td>0.102080</td>\n",
       "      <td>0.093429</td>\n",
       "      <td>0.100230</td>\n",
       "      <td>...</td>\n",
       "      <td>0.097303</td>\n",
       "      <td>-0.026349</td>\n",
       "      <td>0.047503</td>\n",
       "      <td>0.100560</td>\n",
       "      <td>0.102540</td>\n",
       "      <td>-0.026349</td>\n",
       "      <td>-0.098545</td>\n",
       "      <td>-0.087436</td>\n",
       "      <td>-0.028672</td>\n",
       "      <td>-0.040644</td>\n",
       "    </tr>\n",
       "    <tr>\n",
       "      <th>754</th>\n",
       "      <td>DMSO+DMSO+6</td>\n",
       "      <td>0</td>\n",
       "      <td>-0.034270</td>\n",
       "      <td>-0.046098</td>\n",
       "      <td>-0.097904</td>\n",
       "      <td>0.034439</td>\n",
       "      <td>-0.085415</td>\n",
       "      <td>-0.097073</td>\n",
       "      <td>-0.092850</td>\n",
       "      <td>-0.082848</td>\n",
       "      <td>...</td>\n",
       "      <td>0.032324</td>\n",
       "      <td>-0.039492</td>\n",
       "      <td>-0.054502</td>\n",
       "      <td>0.027212</td>\n",
       "      <td>0.034754</td>\n",
       "      <td>-0.039492</td>\n",
       "      <td>0.023565</td>\n",
       "      <td>-0.032719</td>\n",
       "      <td>-0.018783</td>\n",
       "      <td>0.055371</td>\n",
       "    </tr>\n",
       "    <tr>\n",
       "      <th>755</th>\n",
       "      <td>DMSO+DMSO+6</td>\n",
       "      <td>0</td>\n",
       "      <td>0.019024</td>\n",
       "      <td>0.023192</td>\n",
       "      <td>0.029223</td>\n",
       "      <td>-0.034336</td>\n",
       "      <td>0.032044</td>\n",
       "      <td>0.033690</td>\n",
       "      <td>0.022005</td>\n",
       "      <td>0.020924</td>\n",
       "      <td>...</td>\n",
       "      <td>-0.026061</td>\n",
       "      <td>-0.045560</td>\n",
       "      <td>0.022520</td>\n",
       "      <td>-0.030191</td>\n",
       "      <td>-0.029522</td>\n",
       "      <td>-0.045560</td>\n",
       "      <td>-0.022733</td>\n",
       "      <td>0.033174</td>\n",
       "      <td>0.031173</td>\n",
       "      <td>-0.021555</td>\n",
       "    </tr>\n",
       "    <tr>\n",
       "      <th>766</th>\n",
       "      <td>DMSO+DMSO+6</td>\n",
       "      <td>0</td>\n",
       "      <td>-0.030833</td>\n",
       "      <td>0.077126</td>\n",
       "      <td>0.073685</td>\n",
       "      <td>-0.074497</td>\n",
       "      <td>0.120190</td>\n",
       "      <td>0.088412</td>\n",
       "      <td>0.060566</td>\n",
       "      <td>0.061987</td>\n",
       "      <td>...</td>\n",
       "      <td>0.047312</td>\n",
       "      <td>0.025392</td>\n",
       "      <td>0.050416</td>\n",
       "      <td>0.048214</td>\n",
       "      <td>0.050098</td>\n",
       "      <td>0.025392</td>\n",
       "      <td>-0.034964</td>\n",
       "      <td>0.035534</td>\n",
       "      <td>0.019352</td>\n",
       "      <td>-0.049585</td>\n",
       "    </tr>\n",
       "    <tr>\n",
       "      <th>767</th>\n",
       "      <td>DMSO+DMSO+6</td>\n",
       "      <td>0</td>\n",
       "      <td>-0.043897</td>\n",
       "      <td>0.060833</td>\n",
       "      <td>0.078476</td>\n",
       "      <td>-0.077643</td>\n",
       "      <td>0.127950</td>\n",
       "      <td>0.091221</td>\n",
       "      <td>0.064554</td>\n",
       "      <td>0.068872</td>\n",
       "      <td>...</td>\n",
       "      <td>0.066944</td>\n",
       "      <td>-0.058880</td>\n",
       "      <td>0.035480</td>\n",
       "      <td>0.047912</td>\n",
       "      <td>0.052508</td>\n",
       "      <td>-0.058880</td>\n",
       "      <td>-0.060345</td>\n",
       "      <td>-0.047938</td>\n",
       "      <td>0.052710</td>\n",
       "      <td>-0.036019</td>\n",
       "    </tr>\n",
       "  </tbody>\n",
       "</table>\n",
       "<p>48 rows × 240 columns</p>\n",
       "</div>"
      ],
      "text/plain": [
       "       drug_name  default       ks1       ks2       ks3       ks4       ks5  \\\n",
       "360  DMSO+DMSO+1        0 -0.045833  0.045630  0.069729  0.032458  0.046111   \n",
       "361  DMSO+DMSO+1        0 -0.030833 -0.023131 -0.031360  0.062452 -0.053954   \n",
       "372  DMSO+DMSO+1        0  0.073695  0.029093  0.060841 -0.051401  0.045579   \n",
       "373  DMSO+DMSO+1        0  0.054498 -0.058508 -0.051640  0.054882 -0.083751   \n",
       "744  DMSO+DMSO+1        0  0.029236  0.068853  0.090612 -0.056395  0.128060   \n",
       "745  DMSO+DMSO+1        0  0.094064  0.033183  0.045444  0.036417  0.050826   \n",
       "756  DMSO+DMSO+1        0 -0.055592 -0.037596 -0.074126  0.073131 -0.062658   \n",
       "757  DMSO+DMSO+1        0  0.039511 -0.027140  0.037520 -0.073599  0.023893   \n",
       "362  DMSO+DMSO+2        0 -0.023333  0.045120  0.054200  0.039305  0.060897   \n",
       "363  DMSO+DMSO+2        0  0.069926  0.024255  0.063075  0.054632  0.043439   \n",
       "374  DMSO+DMSO+2        0  0.018606  0.028958  0.041390  0.026484 -0.042806   \n",
       "375  DMSO+DMSO+2        0 -0.076667  0.033630  0.035200 -0.065921  0.035431   \n",
       "746  DMSO+DMSO+2        0 -0.056405 -0.024389 -0.042762  0.047312 -0.032773   \n",
       "747  DMSO+DMSO+2        0  0.071958  0.057600  0.050552  0.131620  0.051325   \n",
       "758  DMSO+DMSO+2        0 -0.032087 -0.027087 -0.038807  0.105020 -0.035720   \n",
       "759  DMSO+DMSO+2        0  0.036972 -0.032795 -0.037089  0.080217 -0.029010   \n",
       "364  DMSO+DMSO+3        0 -0.028333  0.027500  0.045833 -0.019167  0.055833   \n",
       "365  DMSO+DMSO+3        0 -0.153120 -0.056478 -0.289820  0.260850 -0.379400   \n",
       "376  DMSO+DMSO+3        0 -0.056667  0.033979  0.080593 -0.061445  0.048790   \n",
       "377  DMSO+DMSO+3        0 -0.030000 -0.038507 -0.024825 -0.084936 -0.036916   \n",
       "748  DMSO+DMSO+3        0 -0.064607  0.032506 -0.049825  0.057344 -0.049680   \n",
       "749  DMSO+DMSO+3        0  0.050093 -0.029630 -0.036358  0.018241  0.028395   \n",
       "760  DMSO+DMSO+3        0 -0.040912 -0.037584 -0.086443  0.070179 -0.089379   \n",
       "761  DMSO+DMSO+3        0 -0.049171  0.051818  0.039541 -0.026366  0.079148   \n",
       "366  DMSO+DMSO+4        0  0.029373  0.034538  0.054697 -0.055866  0.043778   \n",
       "367  DMSO+DMSO+4        0 -0.023333  0.031522  0.055250  0.031131  0.062378   \n",
       "378  DMSO+DMSO+4        0 -0.084788 -0.039664 -0.042280 -0.064268 -0.041899   \n",
       "379  DMSO+DMSO+4        0 -0.084788  0.061762  0.042738 -0.051412  0.025873   \n",
       "750  DMSO+DMSO+4        0 -0.086608  0.037805 -0.057019  0.076620 -0.045129   \n",
       "751  DMSO+DMSO+4        0  0.069282 -0.037465 -0.046289  0.042331 -0.043263   \n",
       "762  DMSO+DMSO+4        0 -0.035735  0.031032  0.053588 -0.037182  0.046151   \n",
       "763  DMSO+DMSO+4        0 -0.050746  0.034945  0.043244  0.056416  0.058554   \n",
       "368  DMSO+DMSO+5        0  0.099136 -0.056353  0.023986 -0.023674 -0.047861   \n",
       "369  DMSO+DMSO+5        0  0.020646  0.043503  0.060578  0.036344  0.061037   \n",
       "380  DMSO+DMSO+5        0 -0.034098  0.030928  0.057626 -0.057777  0.039000   \n",
       "381  DMSO+DMSO+5        0 -0.076667  0.047676  0.061718 -0.062250  0.073749   \n",
       "752  DMSO+DMSO+5        0 -0.080586 -0.021371 -0.048900  0.044969  0.029567   \n",
       "753  DMSO+DMSO+5        0 -0.018382 -0.036100  0.021561 -0.080307  0.033277   \n",
       "764  DMSO+DMSO+5        0 -0.046150 -0.042004 -0.035158  0.032152  0.024188   \n",
       "765  DMSO+DMSO+5        0 -0.062955  0.043926  0.044278 -0.032397  0.061400   \n",
       "370  DMSO+DMSO+6        0  0.118480 -0.052185 -0.023870  0.015962 -0.051530   \n",
       "371  DMSO+DMSO+6        0  0.040511  0.025139  0.041982  0.043357  0.058772   \n",
       "382  DMSO+DMSO+6        0 -0.156060  0.064540  0.057057 -0.039832  0.043153   \n",
       "383  DMSO+DMSO+6        0 -0.129050  0.078132  0.097199 -0.068729  0.096897   \n",
       "754  DMSO+DMSO+6        0 -0.034270 -0.046098 -0.097904  0.034439 -0.085415   \n",
       "755  DMSO+DMSO+6        0  0.019024  0.023192  0.029223 -0.034336  0.032044   \n",
       "766  DMSO+DMSO+6        0 -0.030833  0.077126  0.073685 -0.074497  0.120190   \n",
       "767  DMSO+DMSO+6        0 -0.043897  0.060833  0.078476 -0.077643  0.127950   \n",
       "\n",
       "          ks6       ks7       ks8  ...     ks229     ks230     ks231  \\\n",
       "360  0.066633  0.065636  0.065471  ...  0.046291 -0.051054  0.041213   \n",
       "361 -0.040629 -0.026232 -0.031318  ... -0.023766  0.031447  0.021458   \n",
       "372  0.059491  0.065626  0.067293  ... -0.056869 -0.047279  0.018971   \n",
       "373 -0.058458 -0.044537 -0.045241  ... -0.045220 -0.029909  0.025876   \n",
       "744  0.107350  0.076957  0.078520  ...  0.041101 -0.075546  0.050462   \n",
       "745  0.054721  0.042239  0.043264  ... -0.045217 -0.046219  0.041002   \n",
       "756 -0.075823 -0.070209 -0.062338  ...  0.056219 -0.086398  0.025401   \n",
       "757  0.052570  0.033635  0.038678  ... -0.053294 -0.027504  0.036150   \n",
       "362  0.048528  0.048075  0.048062  ...  0.038766 -0.046344 -0.018238   \n",
       "363  0.049959  0.060518  0.060538  ... -0.045492 -0.029847  0.042770   \n",
       "374  0.050203  0.034655  0.033762  ... -0.030803 -0.020127 -0.017493   \n",
       "375  0.037716  0.039592  0.044047  ...  0.038708 -0.033436  0.039343   \n",
       "746 -0.040065 -0.039588 -0.034835  ...  0.031610  0.032531  0.030344   \n",
       "747  0.041265  0.056094  0.058906  ... -0.046466 -0.046416  0.035201   \n",
       "758 -0.043649 -0.037279 -0.042226  ...  0.043859 -0.053303 -0.024001   \n",
       "759 -0.034117 -0.031728 -0.034413  ... -0.040671 -0.050581  0.030043   \n",
       "364  0.046667  0.048333  0.046667  ...  0.038333 -0.047500 -0.036667   \n",
       "365 -0.336930 -0.231180 -0.194540  ...  0.107550 -0.031215  0.058068   \n",
       "376  0.080128  0.078249  0.078662  ...  0.025128  0.031681 -0.035918   \n",
       "377 -0.019928  0.022475 -0.026384  ... -0.039584  0.040103 -0.034464   \n",
       "748 -0.050397 -0.041168 -0.040912  ...  0.053518 -0.045318  0.019083   \n",
       "749 -0.030648 -0.041389 -0.036451  ...  0.030031 -0.056543  0.040432   \n",
       "760 -0.087466 -0.078909 -0.077237  ...  0.040157 -0.023132 -0.026818   \n",
       "761  0.041413  0.032470  0.034970  ...  0.063821 -0.050660 -0.026587   \n",
       "366  0.051144  0.046399  0.047104  ... -0.042827 -0.025252  0.026945   \n",
       "367  0.059967  0.052217  0.054816  ...  0.042283 -0.042899  0.016640   \n",
       "378 -0.037690 -0.040096 -0.039343  ...  0.060749  0.036976 -0.038834   \n",
       "379  0.041584  0.043921  0.035854  ...  0.076165  0.024976 -0.042527   \n",
       "750 -0.060505 -0.053826 -0.041843  ...  0.084366 -0.036315 -0.024038   \n",
       "751 -0.052185 -0.049001 -0.045826  ... -0.026259 -0.072032  0.062115   \n",
       "762  0.064437  0.046888  0.041087  ...  0.036011 -0.045174 -0.017997   \n",
       "763  0.054092  0.034642  0.032023  ...  0.048130 -0.060165  0.041221   \n",
       "368  0.027799  0.020085  0.017862  ... -0.078068 -0.037384 -0.028002   \n",
       "369  0.057007  0.061973  0.064473  ... -0.038061 -0.029405  0.056378   \n",
       "380  0.058611  0.059537  0.059478  ... -0.023465 -0.021382  0.044005   \n",
       "381  0.063202  0.060599  0.055715  ...  0.040449  0.033481  0.021966   \n",
       "752 -0.048856 -0.054016 -0.042526  ...  0.076304 -0.031923 -0.050203   \n",
       "753  0.026537 -0.022152 -0.024159  ...  0.028455 -0.061764  0.053859   \n",
       "764 -0.024757 -0.042827 -0.035348  ...  0.041857 -0.051941  0.029599   \n",
       "765  0.057268  0.033754  0.030043  ...  0.052792 -0.033471 -0.024510   \n",
       "370 -0.034408 -0.021386  0.018979  ... -0.083784 -0.057756  0.022192   \n",
       "371  0.040365  0.038991  0.040923  ... -0.031577 -0.036929  0.018367   \n",
       "382  0.057722  0.056716  0.061716  ...  0.107790  0.041076 -0.025427   \n",
       "383  0.102080  0.093429  0.100230  ...  0.097303 -0.026349  0.047503   \n",
       "754 -0.097073 -0.092850 -0.082848  ...  0.032324 -0.039492 -0.054502   \n",
       "755  0.033690  0.022005  0.020924  ... -0.026061 -0.045560  0.022520   \n",
       "766  0.088412  0.060566  0.061987  ...  0.047312  0.025392  0.050416   \n",
       "767  0.091221  0.064554  0.068872  ...  0.066944 -0.058880  0.035480   \n",
       "\n",
       "        ks232     ks233     ks234     ks235     ks236     ks237     ks238  \n",
       "360  0.054894  0.057422 -0.051054 -0.046160 -0.033450  0.036330 -0.048836  \n",
       "361  0.033830 -0.027707  0.031447 -0.025351 -0.030948 -0.033814 -0.016715  \n",
       "372 -0.060553 -0.059574 -0.047279  0.061162  0.062511  0.037518 -0.025859  \n",
       "373 -0.047225 -0.051016 -0.029909  0.057636  0.044428 -0.033292 -0.028554  \n",
       "744 -0.017656  0.026370 -0.075546  0.032150  0.047150  0.047016 -0.044879  \n",
       "745 -0.068256 -0.060617 -0.046219  0.088994  0.089534  0.052159 -0.051164  \n",
       "756  0.056737  0.046577 -0.086398  0.028009 -0.026541  0.047628 -0.028851  \n",
       "757 -0.064167 -0.054687 -0.027504  0.036694  0.041318  0.027011 -0.041909  \n",
       "362  0.028612  0.024483 -0.046344 -0.030608  0.030488 -0.022086  0.020984  \n",
       "363 -0.065779 -0.071061 -0.029847  0.075309  0.084582  0.032159 -0.034693  \n",
       "374 -0.039523 -0.037747 -0.020127  0.047422  0.034487  0.036766  0.032490  \n",
       "375  0.027363  0.030197 -0.033436 -0.048766 -0.060088 -0.021574 -0.034876  \n",
       "746  0.031126  0.036778  0.032531 -0.034477 -0.044178 -0.029232 -0.022395  \n",
       "747 -0.077249 -0.067078 -0.046416  0.098384  0.092058  0.025452 -0.049930  \n",
       "758  0.044349  0.043848 -0.053303 -0.043441 -0.042666  0.042251  0.044809  \n",
       "759 -0.050473 -0.044103 -0.050581  0.044793  0.038443 -0.021533 -0.029466  \n",
       "364  0.036667  0.033333 -0.047500 -0.050000 -0.060000  0.040000  0.038333  \n",
       "365  0.106800  0.118350 -0.031215  0.129280  0.094758 -0.058489 -0.069014  \n",
       "376  0.037461  0.033684  0.031681 -0.055241 -0.060373 -0.031119  0.036335  \n",
       "377  0.035547 -0.031969  0.040103 -0.041500 -0.074882 -0.041792  0.034160  \n",
       "748  0.037216  0.043266 -0.045318 -0.036152 -0.025906  0.032045 -0.027308  \n",
       "749 -0.048025 -0.032500 -0.056543  0.043920  0.058457  0.049969 -0.049691  \n",
       "760  0.039871  0.045761 -0.023132 -0.037232 -0.048820 -0.044111  0.022657  \n",
       "761  0.066674  0.061529 -0.050660 -0.040147 -0.029972  0.045747  0.030218  \n",
       "366 -0.045102 -0.041622 -0.025252  0.038029  0.036147 -0.043858 -0.020050  \n",
       "367  0.022297  0.023015 -0.042899 -0.024816 -0.025474  0.028724 -0.027196  \n",
       "378  0.079920  0.077652  0.036976 -0.103150 -0.122470 -0.050491  0.062524  \n",
       "379  0.080271  0.072197  0.024976 -0.049088 -0.058446 -0.031038  0.055291  \n",
       "750  0.083228  0.085822 -0.036315 -0.062242 -0.054002 -0.026925 -0.027312  \n",
       "751 -0.055204 -0.046483 -0.072032  0.065028  0.067993  0.044721 -0.061037  \n",
       "762  0.031192  0.032828 -0.045174 -0.037696  0.022594  0.039518 -0.026381  \n",
       "763  0.041298  0.046207 -0.060165 -0.048079 -0.038779  0.051620 -0.049578  \n",
       "368 -0.087371 -0.093078 -0.037384  0.055170  0.050214 -0.034116 -0.022124  \n",
       "369 -0.036548 -0.032211 -0.029405  0.056871  0.077058 -0.028452 -0.051003  \n",
       "380 -0.026736 -0.026100 -0.021382 -0.048818 -0.053210 -0.027802 -0.036109  \n",
       "381  0.060697  0.063298  0.033481 -0.090896 -0.097080 -0.030393  0.041801  \n",
       "752  0.082023  0.072043 -0.031923 -0.065190 -0.052946 -0.024140  0.047596  \n",
       "753 -0.032864 -0.023487 -0.061764  0.036036  0.041618  0.062322 -0.053981  \n",
       "764  0.041709  0.037911 -0.051941 -0.064778 -0.058576 -0.050211  0.040781  \n",
       "765  0.055945  0.057423 -0.033471 -0.059149 -0.042904  0.029674  0.027414  \n",
       "370 -0.118270 -0.104240 -0.057756  0.075792  0.059856 -0.035129 -0.027168  \n",
       "371 -0.031092 -0.025803 -0.036929  0.049817  0.036232  0.037463 -0.027649  \n",
       "382  0.127510  0.123030  0.041076 -0.144710 -0.150270 -0.039429  0.039811  \n",
       "383  0.100560  0.102540 -0.026349 -0.098545 -0.087436 -0.028672 -0.040644  \n",
       "754  0.027212  0.034754 -0.039492  0.023565 -0.032719 -0.018783  0.055371  \n",
       "755 -0.030191 -0.029522 -0.045560 -0.022733  0.033174  0.031173 -0.021555  \n",
       "766  0.048214  0.050098  0.025392 -0.034964  0.035534  0.019352 -0.049585  \n",
       "767  0.047912  0.052508 -0.058880 -0.060345 -0.047938  0.052710 -0.036019  \n",
       "\n",
       "[48 rows x 240 columns]"
      ]
     },
     "execution_count": 13,
     "metadata": {},
     "output_type": "execute_result"
    }
   ],
   "source": [
    "#Dna ： etoposide，Gemcitabine\n",
    "#hsp：17aag，auy922\n",
    "#mt：paclitaxel，Vinblastine\n",
    "#prot：\"MG132\"，ps341\n",
    "#hdac：saha，apicidin\n",
    "\n",
    "frames6=[]\n",
    "for i in range(1,7):\n",
    "    frames6.append(df.loc[(df['drug_name'] =='DMSO+DMSO+'+str(i)) ])\n",
    "\n",
    "DMSO= pd.concat(frames6)\n",
    "DMSO\n",
    "#len(DMSO)\n"
   ]
  },
  {
   "cell_type": "code",
   "execution_count": 14,
   "metadata": {},
   "outputs": [
    {
     "name": "stdout",
     "output_type": "stream",
     "text": [
      "                   drug_name  default       ks1       ks2       ks3       ks4  \\\n",
      "12   Etoposide+Gemcitabine+1        0 -0.639170 -0.144250  0.148430 -0.206640   \n",
      "14   Etoposide+Gemcitabine+2        0 -0.565830 -0.148970 -0.173080 -0.251080   \n",
      "16   Etoposide+Gemcitabine+3        0 -0.535830  0.097875 -0.143150 -0.098313   \n",
      "18   Etoposide+Gemcitabine+4        0 -0.459460  0.090733 -0.140140 -0.069508   \n",
      "20   Etoposide+Gemcitabine+5        0 -0.098333 -0.079680 -0.120000 -0.084225   \n",
      "..                       ...      ...       ...       ...       ...       ...   \n",
      "383              DMSO+DMSO+6        0 -0.129050  0.078132  0.097199 -0.068729   \n",
      "754              DMSO+DMSO+6        0 -0.034270 -0.046098 -0.097904  0.034439   \n",
      "755              DMSO+DMSO+6        0  0.019024  0.023192  0.029223 -0.034336   \n",
      "766              DMSO+DMSO+6        0 -0.030833  0.077126  0.073685 -0.074497   \n",
      "767              DMSO+DMSO+6        0 -0.043897  0.060833  0.078476 -0.077643   \n",
      "\n",
      "          ks5       ks6       ks7       ks8  ...     ks229     ks230  \\\n",
      "12  -0.365490 -0.116250  0.160770  0.205180  ...  0.247910  0.142580   \n",
      "14  -0.377400 -0.185960 -0.166540 -0.149940  ...  0.235990  0.189400   \n",
      "16  -0.125500 -0.143980 -0.158160 -0.148350  ...  0.278330  0.256040   \n",
      "18  -0.167160 -0.150810 -0.136360 -0.125550  ...  0.233550  0.226280   \n",
      "20  -0.170440 -0.116250 -0.111180 -0.106920  ...  0.057003  0.043050   \n",
      "..        ...       ...       ...       ...  ...       ...       ...   \n",
      "383  0.096897  0.102080  0.093429  0.100230  ...  0.097303 -0.026349   \n",
      "754 -0.085415 -0.097073 -0.092850 -0.082848  ...  0.032324 -0.039492   \n",
      "755  0.032044  0.033690  0.022005  0.020924  ... -0.026061 -0.045560   \n",
      "766  0.120190  0.088412  0.060566  0.061987  ...  0.047312  0.025392   \n",
      "767  0.127950  0.091221  0.064554  0.068872  ...  0.066944 -0.058880   \n",
      "\n",
      "        ks231     ks232     ks233     ks234     ks235     ks236     ks237  \\\n",
      "12  -0.400640  0.383250  0.333460  0.142580 -0.582600 -0.645280 -0.255230   \n",
      "14  -0.425990  0.397740  0.312770  0.189400 -0.506840 -0.601820 -0.194810   \n",
      "16  -0.286360  0.501470  0.430570  0.256040 -0.341480 -0.440620 -0.227430   \n",
      "18  -0.173630  0.437650  0.405720  0.226280 -0.291770 -0.360490 -0.117630   \n",
      "20  -0.099577  0.082478  0.064693  0.043050 -0.115180 -0.164870 -0.083051   \n",
      "..        ...       ...       ...       ...       ...       ...       ...   \n",
      "383  0.047503  0.100560  0.102540 -0.026349 -0.098545 -0.087436 -0.028672   \n",
      "754 -0.054502  0.027212  0.034754 -0.039492  0.023565 -0.032719 -0.018783   \n",
      "755  0.022520 -0.030191 -0.029522 -0.045560 -0.022733  0.033174  0.031173   \n",
      "766  0.050416  0.048214  0.050098  0.025392 -0.034964  0.035534  0.019352   \n",
      "767  0.035480  0.047912  0.052508 -0.058880 -0.060345 -0.047938  0.052710   \n",
      "\n",
      "        ks238  \n",
      "12   0.406690  \n",
      "14   0.441380  \n",
      "16   0.318870  \n",
      "18   0.212030  \n",
      "20   0.098872  \n",
      "..        ...  \n",
      "383 -0.040644  \n",
      "754  0.055371  \n",
      "755 -0.021555  \n",
      "766 -0.049585  \n",
      "767 -0.036019  \n",
      "\n",
      "[168 rows x 240 columns]\n",
      "168\n"
     ]
    }
   ],
   "source": [
    "combi=frames+frames2+frames3+frames4+frames5+frames6\n",
    "training= pd.concat(combi)\n",
    "print(training)\n",
    "print(len(training))\n",
    "\n"
   ]
  },
  {
   "cell_type": "code",
   "execution_count": 15,
   "metadata": {},
   "outputs": [
    {
     "name": "stdout",
     "output_type": "stream",
     "text": [
      "237\n",
      "4\n"
     ]
    }
   ],
   "source": [
    "#lda model\n",
    "#just sample\n",
    "#Dna ： etoposide，Gemcitabine\n",
    "#mt：paclitaxel，Vinblastine\n",
    "#hsp：17aag，auy922\n",
    "\n",
    "#prot：\"MG132\"，ps341\n",
    "#hdac：saha，apicidin\n",
    "from sklearn.datasets import make_classification\n",
    "from sklearn.discriminant_analysis import LinearDiscriminantAnalysis\n",
    "\n",
    "X_drug=training.iloc[:, 3:240].values\n",
    "\n",
    "y=[]\n",
    "for i in range(24):\n",
    "    y.append('DNA')\n",
    "for j in range(24):\n",
    "    y.append('MT')\n",
    "for k in range(24):\n",
    "    y.append('HSP')\n",
    "for m in range(24):\n",
    "    y.append('PROT')\n",
    "for n in range(24):\n",
    "    y.append('HDAC')\n",
    "for k in range(48):\n",
    "    y.append('DMSO')\n",
    "print(len(X_drug[0]))\n",
    "model = LinearDiscriminantAnalysis(n_components=4)\n",
    "#model.fit(X_drug, y)\n",
    "#X_drug2 = model.transform(X_drug)\n",
    "#reduce dimension for the data\n",
    "X_drug2=model.fit(X_drug,y).transform(X_drug)\n",
    "X_drug2\n",
    "print(len(X_drug2[0]))\n",
    "\n"
   ]
  },
  {
   "cell_type": "code",
   "execution_count": 16,
   "metadata": {},
   "outputs": [
    {
     "name": "stdout",
     "output_type": "stream",
     "text": [
      "168\n",
      "[-7.76042984  0.36734649  2.24034194  0.14574942]\n"
     ]
    }
   ],
   "source": [
    "print(len(X_drug2))\n",
    "print(X_drug2[-1])"
   ]
  },
  {
   "cell_type": "code",
   "execution_count": 17,
   "metadata": {},
   "outputs": [],
   "source": [
    "#wipe out those whose concentration is not valid\n",
    "def get_centroid(point_lst):\n",
    "    x_sum=0\n",
    "    y_sum=0\n",
    "    z1_sum=0\n",
    "    z2_sum=0\n",
    "    z3_sum=0\n",
    "    z4_sum=0\n",
    "\n",
    "\n",
    "    for i in range(len(point_lst)):\n",
    "        x_sum+=point_lst[i][0]\n",
    "        y_sum+=point_lst[i][1]\n",
    "        z1_sum+=point_lst[i][2]\n",
    "        z2_sum+=point_lst[i][3]\n",
    "        #z3_sum+=point_lst[i][4]\n",
    "        #z4_sum+=point_lst[i][5]\n",
    "\n",
    "\n",
    "    x_mean=x_sum/len(point_lst)\n",
    "    y_mean=y_sum/len(point_lst)\n",
    "    z1_mean=z1_sum/len(point_lst)\n",
    "    z2_mean=z2_sum/len(point_lst)\n",
    "    #z3_mean=z3_sum/len(point_lst)\n",
    "    #z4_mean=z4_sum/len(point_lst)\n",
    "    centroid=[]\n",
    "    centroid.append(x_mean)\n",
    "    centroid.append(y_mean)\n",
    "    centroid.append(z1_mean)\n",
    "    centroid.append(z2_mean)\n",
    "    #centroid.append(z3_mean)\n",
    "    #centroid.append(z4_mean)\n",
    "    #centroid.append(point_lst[0][-1])\n",
    "    return centroid\n",
    "\n"
   ]
  },
  {
   "cell_type": "code",
   "execution_count": 18,
   "metadata": {},
   "outputs": [
    {
     "data": {
      "text/html": [
       "<div>\n",
       "<style scoped>\n",
       "    .dataframe tbody tr th:only-of-type {\n",
       "        vertical-align: middle;\n",
       "    }\n",
       "\n",
       "    .dataframe tbody tr th {\n",
       "        vertical-align: top;\n",
       "    }\n",
       "\n",
       "    .dataframe thead th {\n",
       "        text-align: right;\n",
       "    }\n",
       "</style>\n",
       "<table border=\"1\" class=\"dataframe\">\n",
       "  <thead>\n",
       "    <tr style=\"text-align: right;\">\n",
       "      <th></th>\n",
       "      <th>principal component 1</th>\n",
       "      <th>principal component 2</th>\n",
       "      <th>principal component 3</th>\n",
       "      <th>principal component 4</th>\n",
       "    </tr>\n",
       "  </thead>\n",
       "  <tbody>\n",
       "    <tr>\n",
       "      <th>0</th>\n",
       "      <td>8.135686</td>\n",
       "      <td>-0.599061</td>\n",
       "      <td>4.272090</td>\n",
       "      <td>3.963843</td>\n",
       "    </tr>\n",
       "    <tr>\n",
       "      <th>1</th>\n",
       "      <td>7.101879</td>\n",
       "      <td>-0.244859</td>\n",
       "      <td>3.572983</td>\n",
       "      <td>5.052534</td>\n",
       "    </tr>\n",
       "    <tr>\n",
       "      <th>2</th>\n",
       "      <td>7.525829</td>\n",
       "      <td>0.710095</td>\n",
       "      <td>3.693703</td>\n",
       "      <td>4.943005</td>\n",
       "    </tr>\n",
       "    <tr>\n",
       "      <th>3</th>\n",
       "      <td>8.585531</td>\n",
       "      <td>0.720823</td>\n",
       "      <td>3.113446</td>\n",
       "      <td>4.579971</td>\n",
       "    </tr>\n",
       "    <tr>\n",
       "      <th>4</th>\n",
       "      <td>7.585193</td>\n",
       "      <td>0.148029</td>\n",
       "      <td>1.611679</td>\n",
       "      <td>3.094811</td>\n",
       "    </tr>\n",
       "    <tr>\n",
       "      <th>...</th>\n",
       "      <td>...</td>\n",
       "      <td>...</td>\n",
       "      <td>...</td>\n",
       "      <td>...</td>\n",
       "    </tr>\n",
       "    <tr>\n",
       "      <th>163</th>\n",
       "      <td>-10.047273</td>\n",
       "      <td>0.738590</td>\n",
       "      <td>1.147129</td>\n",
       "      <td>0.291324</td>\n",
       "    </tr>\n",
       "    <tr>\n",
       "      <th>164</th>\n",
       "      <td>-9.281311</td>\n",
       "      <td>-0.066942</td>\n",
       "      <td>1.446367</td>\n",
       "      <td>0.117489</td>\n",
       "    </tr>\n",
       "    <tr>\n",
       "      <th>165</th>\n",
       "      <td>-7.078092</td>\n",
       "      <td>-0.233108</td>\n",
       "      <td>-0.703078</td>\n",
       "      <td>0.737991</td>\n",
       "    </tr>\n",
       "    <tr>\n",
       "      <th>166</th>\n",
       "      <td>-8.580074</td>\n",
       "      <td>0.103565</td>\n",
       "      <td>2.372221</td>\n",
       "      <td>1.109327</td>\n",
       "    </tr>\n",
       "    <tr>\n",
       "      <th>167</th>\n",
       "      <td>-7.760430</td>\n",
       "      <td>0.367346</td>\n",
       "      <td>2.240342</td>\n",
       "      <td>0.145749</td>\n",
       "    </tr>\n",
       "  </tbody>\n",
       "</table>\n",
       "<p>168 rows × 4 columns</p>\n",
       "</div>"
      ],
      "text/plain": [
       "     principal component 1  principal component 2  principal component 3  \\\n",
       "0                 8.135686              -0.599061               4.272090   \n",
       "1                 7.101879              -0.244859               3.572983   \n",
       "2                 7.525829               0.710095               3.693703   \n",
       "3                 8.585531               0.720823               3.113446   \n",
       "4                 7.585193               0.148029               1.611679   \n",
       "..                     ...                    ...                    ...   \n",
       "163             -10.047273               0.738590               1.147129   \n",
       "164              -9.281311              -0.066942               1.446367   \n",
       "165              -7.078092              -0.233108              -0.703078   \n",
       "166              -8.580074               0.103565               2.372221   \n",
       "167              -7.760430               0.367346               2.240342   \n",
       "\n",
       "     principal component 4  \n",
       "0                 3.963843  \n",
       "1                 5.052534  \n",
       "2                 4.943005  \n",
       "3                 4.579971  \n",
       "4                 3.094811  \n",
       "..                     ...  \n",
       "163               0.291324  \n",
       "164               0.117489  \n",
       "165               0.737991  \n",
       "166               1.109327  \n",
       "167               0.145749  \n",
       "\n",
       "[168 rows x 4 columns]"
      ]
     },
     "execution_count": 18,
     "metadata": {},
     "output_type": "execute_result"
    }
   ],
   "source": [
    "#pca_drug = PCA(n_components=6)\n",
    "#components = pca_drug.fit_transform(X_drug)\n",
    "principalDf = pd.DataFrame(data = X_drug2\n",
    "             , columns =['principal component 1', 'principal component 2','principal component 3','principal component 4'])\n",
    "principalDf"
   ]
  },
  {
   "cell_type": "code",
   "execution_count": 19,
   "metadata": {},
   "outputs": [],
   "source": [
    "#predict\n",
    "#still sample but useful this block \n",
    "#model2 = LinearDiscriminantAnalysis(n_components=1)\n",
    "#model2.fit(X_drug2,y)\n",
    "#row=X_drug2\n",
    "#yhat = model2.predict(row)\n",
    "# summarize prediction\n",
    "#print('Predicted Class: %s' % yhat)\n",
    "\n"
   ]
  },
  {
   "cell_type": "code",
   "execution_count": 20,
   "metadata": {},
   "outputs": [
    {
     "name": "stdout",
     "output_type": "stream",
     "text": [
      "168\n"
     ]
    },
    {
     "data": {
      "text/plain": [
       "[array([-8.44475753,  0.69777021,  0.14718422,  1.20461533]),\n",
       " array([-8.16955335,  0.03455641, -0.02232433,  2.84538975]),\n",
       " array([-10.60616222,   1.35158342,  -0.32391184,   1.25223833]),\n",
       " array([-10.71859732,   1.02370548,   0.23004521,   2.09975572]),\n",
       " array([-8.71750625, -0.03450073, -0.59825725,  0.12076088]),\n",
       " array([-7.94307062,  0.19955846, -0.29191142,  2.12436769]),\n",
       " array([-10.19784033,   0.60362364,   0.78651069,   2.16329733])]"
      ]
     },
     "execution_count": 20,
     "metadata": {},
     "output_type": "execute_result"
    }
   ],
   "source": [
    "all_list=[]\n",
    "\n",
    "for i in range(len(X_drug2)):\n",
    "    all_list.append(X_drug2[i])\n",
    "print(len(all_list))\n",
    "all_list[120:127]"
   ]
  },
  {
   "cell_type": "code",
   "execution_count": 21,
   "metadata": {},
   "outputs": [
    {
     "name": "stdout",
     "output_type": "stream",
     "text": [
      "[-8.44475753  0.69777021  0.14718422  1.20461533]\n",
      "[-9.40861161 -1.14318543  1.75997853  0.48901212]\n",
      "[-8.37643631 -1.16760447  1.75116539  2.59154374]\n",
      "[-7.98631609 -0.45757837  1.4019414   2.21909852]\n",
      "[-9.83535496  2.05079095  2.18185101  0.03352737]\n",
      "[-8.64970946 -0.76261078  2.34530919  1.73220609]\n",
      "132\n",
      "36\n"
     ]
    }
   ],
   "source": [
    "X_training=[]\n",
    "X_testing=[]\n",
    "#X_training=all_list[6:24]+all_list[30:48]+all_list[54:72]+all_list[78:96]+all_list[102:120]+all_list[120]\n",
    "X_training=all_list[6:24]+all_list[30:48]+all_list[54:72]+all_list[78:96]+all_list[102:120]\n",
    "for i in range(120,168,8):\n",
    "    X_training+=all_list[i:i+7]\n",
    "\n",
    "X_testing=all_list[:6]+all_list[24:30]+all_list[48:54]+all_list[72:78]+all_list[96:102]\n",
    "for j in range(120,168,8):\n",
    "    X_testing.append(all_list[j])\n",
    "    print(all_list[j])\n",
    "\n",
    "#X_testing=all_list[:6]+all_list[24:30]+all_list[48:54]+all_list[72:78]+all_list[96:102]\n",
    "#X_testing.append()\n",
    "print(len(X_training))\n",
    "print(len(X_testing))\n",
    "y=[]\n",
    "for i in range(18):\n",
    "    y.append('DNA')\n",
    "for j in range(18):\n",
    "    y.append(\"MT\")\n",
    "for k in range(18):\n",
    "    y.append(\"HSP\")\n",
    "for m in range(18):\n",
    "    y.append(\"PROT\")\n",
    "for n in range(18):\n",
    "    y.append(\"HDAC\")\n",
    "for k in range(42):\n",
    "    y.append(\"DMSO\")\n"
   ]
  },
  {
   "cell_type": "code",
   "execution_count": 22,
   "metadata": {},
   "outputs": [
    {
     "name": "stdout",
     "output_type": "stream",
     "text": [
      "48\n",
      "[-8.910713388740216, -0.19411075928510704, 1.3867797857932018, 0.7811564080471373]\n"
     ]
    }
   ],
   "source": [
    "\n",
    "dmso_lst2=[]\n",
    "for i in range(48):\n",
    "    dmso_lst2.append(all_list[i+120])\n",
    "print(len(dmso_lst2))\n",
    "cen_dmso=get_centroid(dmso_lst2)\n",
    "print(cen_dmso)\n"
   ]
  },
  {
   "cell_type": "code",
   "execution_count": 23,
   "metadata": {},
   "outputs": [],
   "source": [
    "#calculating the distance\n",
    "from math import sqrt\n",
    "def euclidean_distance(row1, row2):\n",
    "    distance =0\n",
    "\t#print(len(row1)-1) this is to ensure that we calculate 6 points\n",
    "    for i in range(len(row1)-1):\n",
    "\n",
    "\t\n",
    "\n",
    "        distance += (row1[i] - row2[i])**2\n",
    "    return sqrt(distance)"
   ]
  },
  {
   "cell_type": "code",
   "execution_count": 24,
   "metadata": {},
   "outputs": [
    {
     "name": "stdout",
     "output_type": "stream",
     "text": [
      "48\n"
     ]
    },
    {
     "data": {
      "text/plain": [
       "6.236302372344532"
      ]
     },
     "execution_count": 24,
     "metadata": {},
     "output_type": "execute_result"
    }
   ],
   "source": [
    "dist_lst=[]\n",
    "for i in range(len(dmso_lst2)):\n",
    "    dist_lst.append(euclidean_distance(dmso_lst2[i],cen_dmso))\n",
    "dist_lst.sort()\n",
    "print(len(dist_lst))\n",
    "max_ave=sum(dist_lst[-5:-1])/len(dist_lst[-5:-1])\n",
    "max_ave\n",
    "max_ave*=2\n",
    "max_ave\n"
   ]
  },
  {
   "cell_type": "code",
   "execution_count": 25,
   "metadata": {},
   "outputs": [
    {
     "name": "stdout",
     "output_type": "stream",
     "text": [
      "10.285422365725097\n"
     ]
    }
   ],
   "source": [
    "#selecting data\n",
    "effect=[]\n",
    "dist_lst2=[]\n",
    "for i in range(120):\n",
    "    selection_dist=euclidean_distance(all_list[i],cen_dmso)\n",
    "    dist_lst2.append(selection_dist)\n",
    "dist_lst2.sort()\n",
    "print(dist_lst2[0])"
   ]
  },
  {
   "cell_type": "code",
   "execution_count": 26,
   "metadata": {},
   "outputs": [
    {
     "name": "stdout",
     "output_type": "stream",
     "text": [
      "['DNA' 'DNA' 'DNA' 'DNA' 'DNA' 'DNA' 'MT' 'MT' 'MT' 'MT' 'MT' 'MT' 'HSP'\n",
      " 'HSP' 'HSP' 'HSP' 'HSP' 'HSP' 'PROT' 'PROT' 'PROT' 'PROT' 'PROT' 'PROT'\n",
      " 'HDAC' 'HDAC' 'HDAC' 'HDAC' 'HDAC' 'HDAC' 'DMSO' 'DMSO' 'DMSO' 'DMSO'\n",
      " 'DMSO' 'DMSO']\n",
      "36\n"
     ]
    }
   ],
   "source": [
    "model2 = LinearDiscriminantAnalysis(n_components=4)\n",
    "model2.fit(X_training,y)\n",
    "yhat2=model2.predict(X_testing)\n",
    "\n",
    "print(yhat2)\n",
    "print(len(yhat2))"
   ]
  },
  {
   "cell_type": "code",
   "execution_count": null,
   "metadata": {},
   "outputs": [],
   "source": []
  },
  {
   "cell_type": "code",
   "execution_count": 27,
   "metadata": {},
   "outputs": [],
   "source": [
    "def accuracy(list1,list2):\n",
    "    length=len(list1)\n",
    "    list3=[]\n",
    "    for i in range(int(length/6.0)):\n",
    "        list3.append(list2[0])\n",
    "    for j in range(int(length/6.0)):\n",
    "        list3.append(list2[1])\n",
    "    for m in range(int(length/6.0)):\n",
    "        list3.append(list2[2])\n",
    "    for n in range(int(length/6.0)):\n",
    "        list3.append(list2[3])\n",
    "    for k in range(int(length/6.0)):\n",
    "        list3.append(list2[4])\n",
    "    for k in range(int(length/6.0)):\n",
    "        list3.append(list2[5])\n",
    "\n",
    "    counter=0\n",
    "    for k in range(len(list1)):\n",
    "\n",
    "        if list1[k]==list3[k]:\n",
    "            counter+=1\n",
    "    return counter/length\n",
    "\n"
   ]
  },
  {
   "cell_type": "code",
   "execution_count": 28,
   "metadata": {},
   "outputs": [
    {
     "data": {
      "text/plain": [
       "'100.00%'"
      ]
     },
     "execution_count": 28,
     "metadata": {},
     "output_type": "execute_result"
    }
   ],
   "source": [
    "#test accuracy\n",
    "'%.2f%%' % ((accuracy( yhat2,['DNA',\"MT\",\"HSP\",\"PROT\",\"HDAC\",\"DMSO\"]))*100)\n"
   ]
  },
  {
   "cell_type": "code",
   "execution_count": 29,
   "metadata": {},
   "outputs": [
    {
     "data": {
      "text/plain": [
       "['DNA',\n",
       " 'DNA',\n",
       " 'DNA',\n",
       " 'DNA',\n",
       " 'DNA',\n",
       " 'DNA',\n",
       " 'DNA',\n",
       " 'DNA',\n",
       " 'DNA',\n",
       " 'DNA',\n",
       " 'DNA',\n",
       " 'DNA',\n",
       " 'DNA',\n",
       " 'DNA',\n",
       " 'DNA',\n",
       " 'DNA',\n",
       " 'DNA',\n",
       " 'DNA',\n",
       " 'DNA',\n",
       " 'DNA',\n",
       " 'DNA',\n",
       " 'DNA',\n",
       " 'DNA',\n",
       " 'DNA',\n",
       " 'MT',\n",
       " 'MT',\n",
       " 'MT',\n",
       " 'MT',\n",
       " 'MT',\n",
       " 'MT',\n",
       " 'MT',\n",
       " 'MT',\n",
       " 'MT',\n",
       " 'MT',\n",
       " 'MT',\n",
       " 'MT',\n",
       " 'MT',\n",
       " 'MT',\n",
       " 'MT',\n",
       " 'MT',\n",
       " 'MT',\n",
       " 'MT',\n",
       " 'MT',\n",
       " 'MT',\n",
       " 'MT',\n",
       " 'MT',\n",
       " 'MT',\n",
       " 'MT',\n",
       " 'HSP',\n",
       " 'HSP',\n",
       " 'HSP',\n",
       " 'HSP',\n",
       " 'HSP',\n",
       " 'HSP',\n",
       " 'HSP',\n",
       " 'HSP',\n",
       " 'HSP',\n",
       " 'HSP',\n",
       " 'HSP',\n",
       " 'HSP',\n",
       " 'HSP',\n",
       " 'HSP',\n",
       " 'HSP',\n",
       " 'HSP',\n",
       " 'HSP',\n",
       " 'HSP',\n",
       " 'HSP',\n",
       " 'HSP',\n",
       " 'HSP',\n",
       " 'HSP',\n",
       " 'HSP',\n",
       " 'HSP',\n",
       " 'PROT',\n",
       " 'PROT',\n",
       " 'PROT',\n",
       " 'PROT',\n",
       " 'PROT',\n",
       " 'PROT',\n",
       " 'PROT',\n",
       " 'PROT',\n",
       " 'PROT',\n",
       " 'PROT',\n",
       " 'PROT',\n",
       " 'PROT',\n",
       " 'PROT',\n",
       " 'PROT',\n",
       " 'PROT',\n",
       " 'PROT',\n",
       " 'PROT',\n",
       " 'PROT',\n",
       " 'PROT',\n",
       " 'PROT',\n",
       " 'PROT',\n",
       " 'PROT',\n",
       " 'PROT',\n",
       " 'PROT',\n",
       " 'HDAC',\n",
       " 'HDAC',\n",
       " 'HDAC',\n",
       " 'HDAC',\n",
       " 'HDAC',\n",
       " 'HDAC',\n",
       " 'HDAC',\n",
       " 'HDAC',\n",
       " 'HDAC',\n",
       " 'HDAC',\n",
       " 'HDAC',\n",
       " 'HDAC',\n",
       " 'HDAC',\n",
       " 'HDAC',\n",
       " 'HDAC',\n",
       " 'HDAC',\n",
       " 'HDAC',\n",
       " 'HDAC',\n",
       " 'HDAC',\n",
       " 'HDAC',\n",
       " 'HDAC',\n",
       " 'HDAC',\n",
       " 'HDAC',\n",
       " 'HDAC',\n",
       " 'DMSO',\n",
       " 'DMSO',\n",
       " 'DMSO',\n",
       " 'DMSO',\n",
       " 'DMSO',\n",
       " 'DMSO',\n",
       " 'DMSO',\n",
       " 'DMSO',\n",
       " 'DMSO',\n",
       " 'DMSO',\n",
       " 'DMSO',\n",
       " 'DMSO',\n",
       " 'DMSO',\n",
       " 'DMSO',\n",
       " 'DMSO',\n",
       " 'DMSO',\n",
       " 'DMSO',\n",
       " 'DMSO',\n",
       " 'DMSO',\n",
       " 'DMSO',\n",
       " 'DMSO',\n",
       " 'DMSO',\n",
       " 'DMSO',\n",
       " 'DMSO',\n",
       " 'DMSO',\n",
       " 'DMSO',\n",
       " 'DMSO',\n",
       " 'DMSO',\n",
       " 'DMSO',\n",
       " 'DMSO',\n",
       " 'DMSO',\n",
       " 'DMSO',\n",
       " 'DMSO',\n",
       " 'DMSO',\n",
       " 'DMSO',\n",
       " 'DMSO',\n",
       " 'DMSO',\n",
       " 'DMSO',\n",
       " 'DMSO',\n",
       " 'DMSO',\n",
       " 'DMSO',\n",
       " 'DMSO',\n",
       " 'DMSO',\n",
       " 'DMSO',\n",
       " 'DMSO',\n",
       " 'DMSO',\n",
       " 'DMSO',\n",
       " 'DMSO']"
      ]
     },
     "execution_count": 29,
     "metadata": {},
     "output_type": "execute_result"
    }
   ],
   "source": [
    "training[\"drug_name\"]\n",
    "train_drug_name_without_concentration=[]\n",
    "for each in training['drug_name']:\n",
    "    train_drug_name_without_concentration.append(each[:-2])\n",
    "    #print(training[\"drug_name\"][i][0:-1])\n",
    "    \n",
    "\n",
    "train_drug_name_without_concentration\n",
    "train_drug_name_without_concentration2=[]\n",
    "#dna,mt,hsp,prot,hdac\n",
    "for i in range(int((len(train_drug_name_without_concentration)-48)/5.0)):\n",
    "    train_drug_name_without_concentration2.append('DNA')\n",
    "for i in range(int((len(train_drug_name_without_concentration)-48)/5.0)):\n",
    "    train_drug_name_without_concentration2.append('MT')\n",
    "for i in range(int((len(train_drug_name_without_concentration)-48)/5.0)):\n",
    "    train_drug_name_without_concentration2.append('HSP')\n",
    "for i in range(int((len(train_drug_name_without_concentration)-48)/5.0)):\n",
    "    train_drug_name_without_concentration2.append('PROT')\n",
    "for i in range(int((len(train_drug_name_without_concentration)-48)/5.0)):\n",
    "    train_drug_name_without_concentration2.append('HDAC')\n",
    "for i in range(48):\n",
    "    train_drug_name_without_concentration2.append(\"DMSO\")\n",
    "\n",
    "train_drug_name_without_concentration2   \n"
   ]
  },
  {
   "cell_type": "code",
   "execution_count": 30,
   "metadata": {},
   "outputs": [
    {
     "data": {
      "application/vnd.plotly.v1+json": {
       "config": {
        "plotlyServerURL": "https://plot.ly"
       },
       "data": [
        {
         "hovertemplate": "color=DNA<br>0=%{x}<br>1=%{y}<extra></extra>",
         "legendgroup": "DNA",
         "marker": {
          "color": "#636efa",
          "symbol": "circle"
         },
         "mode": "markers",
         "name": "DNA",
         "orientation": "v",
         "showlegend": true,
         "type": "scatter",
         "x": [
          7.113235578211603,
          6.523094582605621,
          6.372280046999069,
          7.393581535633702,
          7.427083449770668,
          5.4303545743106545,
          6.22542310786533,
          6.228132787212191,
          6.936907308991299,
          5.761488199644026,
          5.349060463948416,
          7.23365441700893,
          6.907428180578348,
          6.874282902308855,
          6.766705550986622,
          7.998769865511323,
          5.852944408304146,
          6.698653833027988,
          6.7242338926837695,
          6.191920182535642,
          6.412660852016169,
          5.657005754573309,
          4.730826585681897,
          6.775592000120066
         ],
         "xaxis": "x",
         "y": [
          1.1399352949241794,
          0.6335758024611473,
          -0.16514634248662655,
          -0.01278266248030818,
          0.3085879850944377,
          1.321089693420048,
          0.12914988520055568,
          0.5079656167371458,
          -0.23347352148182113,
          0.3120354038056134,
          0.11714593408650288,
          1.976258781968873,
          -0.3021152898140386,
          -1.40968046219694,
          -0.2595559490239989,
          -0.4643127392762633,
          -1.1715336563262766,
          0.6328225172753613,
          -0.2384458213525229,
          -0.579773614347857,
          -0.6388910246498951,
          0.06223966543824915,
          -1.3434031254905692,
          0.4061479918868819
         ],
         "yaxis": "y"
        },
        {
         "hovertemplate": "color=MT<br>0=%{x}<br>1=%{y}<extra></extra>",
         "legendgroup": "MT",
         "marker": {
          "color": "#EF553B",
          "symbol": "circle"
         },
         "mode": "markers",
         "name": "MT",
         "orientation": "v",
         "showlegend": true,
         "type": "scatter",
         "x": [
          2.699889714806994,
          3.8359646494709185,
          3.878881404399397,
          0.5706120441150676,
          2.75614885685736,
          2.261267890063617,
          3.3193272807064576,
          3.531695456626847,
          2.8976194900303374,
          4.263258797537381,
          2.6941151848703075,
          2.4413832432675644,
          2.6870660233881285,
          3.245048472807059,
          2.9903080846969776,
          3.5944081249053434,
          2.671540005423879,
          2.4417534509633274,
          2.781099016703051,
          1.7004368979982003,
          2.644648372379496,
          2.6479466739777537,
          2.8048737597189,
          1.4062504682059351
         ],
         "xaxis": "x",
         "y": [
          1.6948283356557576,
          2.0474900253610766,
          1.9387505271828496,
          2.4030881286193813,
          2.198178326431518,
          -0.8856497565661637,
          1.7606932880231725,
          1.2807122696816824,
          1.4643165274298362,
          0.43535231040698,
          2.4351275455300465,
          2.5198188701205746,
          1.983517498002706,
          2.5373394228995694,
          1.6288014773007304,
          1.8492704693707933,
          3.0718408530544004,
          0.4154959128639682,
          2.2363901126816113,
          1.2285716326700071,
          1.646890893009876,
          1.1934035983310887,
          0.6576214659209729,
          2.8212688956337275
         ],
         "yaxis": "y"
        },
        {
         "hovertemplate": "color=HSP<br>0=%{x}<br>1=%{y}<extra></extra>",
         "legendgroup": "HSP",
         "marker": {
          "color": "#00cc96",
          "symbol": "circle"
         },
         "mode": "markers",
         "name": "HSP",
         "orientation": "v",
         "showlegend": true,
         "type": "scatter",
         "x": [
          4.431507349271681,
          5.137445513412689,
          3.8015167559747165,
          4.268595097154558,
          3.5914624956004912,
          3.3153713719072146,
          2.8680571261981274,
          4.498352619177359,
          4.124544385531157,
          3.560884045725557,
          4.640073439421957,
          2.9247064860788474,
          4.310044501865348,
          4.2629272406897885,
          3.9642086638386833,
          4.4120630747872776,
          5.200446686750006,
          2.9289746798078586,
          4.240466193069179,
          3.4383306928803066,
          3.2724354932596427,
          4.826240799603493,
          1.849491616162487,
          3.056044809130788
         ],
         "xaxis": "x",
         "y": [
          -7.157430257962924,
          -7.961761794764888,
          -8.059600687728304,
          -8.052908449594886,
          -6.69164511005495,
          -8.153563095678757,
          -7.103220185725287,
          -7.337098919802926,
          -8.057275690966938,
          -6.764506857261185,
          -7.881131666857855,
          -8.447420023536132,
          -7.597904315010106,
          -6.903296166192863,
          -6.376776286189654,
          -7.268255272138318,
          -7.506672154128005,
          -5.290735288421032,
          -8.456624601358344,
          -7.741626367697235,
          -6.360521030691759,
          -6.706806419224326,
          -6.03803295674625,
          -6.8892481209556395
         ],
         "yaxis": "y"
        },
        {
         "hovertemplate": "color=PROT<br>0=%{x}<br>1=%{y}<extra></extra>",
         "legendgroup": "PROT",
         "marker": {
          "color": "#ab63fa",
          "symbol": "circle"
         },
         "mode": "markers",
         "name": "PROT",
         "orientation": "v",
         "showlegend": true,
         "type": "scatter",
         "x": [
          1.1323612597990695,
          1.9620652719096694,
          0.43182109405351293,
          1.9690729172877177,
          1.9961555559983077,
          1.4562206398075899,
          2.233454752255818,
          2.8514001909863604,
          2.077618043993246,
          0.6656597133288734,
          2.569456301884972,
          1.4870428096957276,
          2.7327085219277967,
          2.133849226438122,
          2.651277078302592,
          1.9099838487667582,
          2.7509784281018623,
          2.8516561887019853,
          2.2925204273672057,
          2.3773876259250337,
          3.248829654521498,
          1.8791061364626134,
          2.5421125592629576,
          3.270115450922327
         ],
         "xaxis": "x",
         "y": [
          -3.076982364476895,
          -2.1834668351176254,
          -2.4712077080462724,
          -2.1741646462098303,
          -3.589562518638102,
          -4.286512443259783,
          -2.7575388430104266,
          -3.016229544973834,
          -2.589667779297011,
          -2.4706869927351103,
          -2.6831028795906766,
          -1.931492522912556,
          -3.1671661263590476,
          -3.423708258187712,
          -3.7236179101901605,
          -2.579603858361983,
          -3.3035531970833967,
          -3.3728890135627325,
          -2.851972367699381,
          -3.267371499435536,
          -2.3124167369520623,
          -2.8138878306435866,
          -1.0763225382691626,
          -1.4854361070193793
         ],
         "yaxis": "y"
        },
        {
         "hovertemplate": "color=HDAC<br>0=%{x}<br>1=%{y}<extra></extra>",
         "legendgroup": "HDAC",
         "marker": {
          "color": "#FFA15A",
          "symbol": "circle"
         },
         "mode": "markers",
         "name": "HDAC",
         "orientation": "v",
         "showlegend": true,
         "type": "scatter",
         "x": [
          1.480847575909008,
          0.9749711333103317,
          1.5406147404496375,
          2.8617718989066008,
          1.10183153152055,
          2.5313626686685518,
          1.1601663856924898,
          4.428708218646828,
          1.6914564868675035,
          1.5541866133842133,
          2.512456803128878,
          2.238262671390829,
          3.7265377584019608,
          2.279220927872735,
          1.699835433498612,
          0.8066469972399211,
          3.8394418864884488,
          1.7916179331208726,
          3.840859080372007,
          -0.35754485238826567,
          0.9644364309485028,
          3.805096870655078,
          2.788034918689751,
          1.1556644931225655
         ],
         "xaxis": "x",
         "y": [
          10.163096396378918,
          8.2973856900846,
          11.151661812286333,
          11.287614470765805,
          8.219542544133864,
          9.038700395662529,
          10.320995150225537,
          9.096370623696185,
          10.055906842203985,
          8.268953864458037,
          10.4410039162418,
          9.187507737222333,
          8.755827193920739,
          10.17346579119757,
          7.594267441205441,
          7.509521788297729,
          7.598326324587377,
          9.687084988259548,
          9.732472337415022,
          11.40044440231447,
          10.845543192651515,
          9.854295766438579,
          10.15260990317866,
          7.394093550772709
         ],
         "yaxis": "y"
        },
        {
         "hovertemplate": "color=DMSO<br>0=%{x}<br>1=%{y}<extra></extra>",
         "legendgroup": "DMSO",
         "marker": {
          "color": "#19d3f3",
          "symbol": "circle"
         },
         "mode": "markers",
         "name": "DMSO",
         "orientation": "v",
         "showlegend": true,
         "type": "scatter",
         "x": [
          -7.9835663135090185,
          -7.677708276236205,
          -9.42118175565444,
          -9.41283116608625,
          -8.024526610136384,
          -6.942788622830595,
          -9.606676125322165,
          -11.523726862684443,
          -9.83257439979275,
          -7.515381277369258,
          -8.376999674285068,
          -9.536782551690242,
          -7.101646384795531,
          -8.898047680908698,
          -9.467294094886977,
          -6.798706218721109,
          -8.266916135989064,
          -7.615829481416827,
          -6.2771072804104,
          -9.7776048409391,
          -8.334568894953733,
          -8.30439607171509,
          -9.845039489116537,
          -7.467571670711118,
          -7.621828646585653,
          -9.149173221732992,
          -11.587720267057831,
          -6.015547698528352,
          -9.203301269399056,
          -10.72591930809862,
          -7.61352585930982,
          -8.793136603967186,
          -9.251805295788511,
          -9.254615552054272,
          -9.298966069757315,
          -9.90359695691229,
          -7.780033257957633,
          -8.7229074812135,
          -10.031347145062682,
          -9.354693742589003,
          -8.5212273215789,
          -9.935392675459344,
          -8.106993948981218,
          -9.655450685930681,
          -9.649283216070168,
          -6.712487774637682,
          -8.792577842213989,
          -7.473389144300169
         ],
         "xaxis": "x",
         "y": [
          -1.3405088799611327,
          -0.6464945846576803,
          -2.3539982777461566,
          -2.062039741287382,
          -0.6799850357048184,
          -0.8397457854557211,
          -1.502004576544542,
          -1.410403538822319,
          0.3832741016085357,
          0.22014407224848007,
          1.3752340470251365,
          0.33300813234042276,
          1.6477093448864566,
          0.6566571150815631,
          -0.022274346285330468,
          -0.6018083320167741,
          0.4917152700457848,
          -0.5608546489552994,
          1.5313621322111675,
          -1.0399859206198043,
          -3.0976663311301333,
          -1.937517319367428,
          -1.243086531218613,
          0.37496729681288626,
          -0.17228183736622082,
          0.24754513086828953,
          -0.18801398883027987,
          -2.59100429163536,
          0.4555348483107374,
          -0.2570901766994252,
          -0.2848636253183052,
          1.644324869646657,
          -2.9301475133150214,
          0.21509044200995067,
          -1.9898291308968452,
          -1.3621820303195529,
          -0.3860678483634706,
          0.07419639869826508,
          -0.9474910327284418,
          -1.2877042060877177,
          0.020036745197222147,
          1.9194349723211312,
          -1.7385552680137524,
          -1.618164418499635,
          -0.6390114715507229,
          -0.21810223083900548,
          -0.7586890792845598,
          -0.9876917956574396
         ],
         "yaxis": "y"
        }
       ],
       "layout": {
        "legend": {
         "title": {
          "text": "color"
         },
         "tracegroupgap": 0
        },
        "margin": {
         "t": 60
        },
        "template": {
         "data": {
          "bar": [
           {
            "error_x": {
             "color": "#2a3f5f"
            },
            "error_y": {
             "color": "#2a3f5f"
            },
            "marker": {
             "line": {
              "color": "#E5ECF6",
              "width": 0.5
             },
             "pattern": {
              "fillmode": "overlay",
              "size": 10,
              "solidity": 0.2
             }
            },
            "type": "bar"
           }
          ],
          "barpolar": [
           {
            "marker": {
             "line": {
              "color": "#E5ECF6",
              "width": 0.5
             },
             "pattern": {
              "fillmode": "overlay",
              "size": 10,
              "solidity": 0.2
             }
            },
            "type": "barpolar"
           }
          ],
          "carpet": [
           {
            "aaxis": {
             "endlinecolor": "#2a3f5f",
             "gridcolor": "white",
             "linecolor": "white",
             "minorgridcolor": "white",
             "startlinecolor": "#2a3f5f"
            },
            "baxis": {
             "endlinecolor": "#2a3f5f",
             "gridcolor": "white",
             "linecolor": "white",
             "minorgridcolor": "white",
             "startlinecolor": "#2a3f5f"
            },
            "type": "carpet"
           }
          ],
          "choropleth": [
           {
            "colorbar": {
             "outlinewidth": 0,
             "ticks": ""
            },
            "type": "choropleth"
           }
          ],
          "contour": [
           {
            "colorbar": {
             "outlinewidth": 0,
             "ticks": ""
            },
            "colorscale": [
             [
              0,
              "#0d0887"
             ],
             [
              0.1111111111111111,
              "#46039f"
             ],
             [
              0.2222222222222222,
              "#7201a8"
             ],
             [
              0.3333333333333333,
              "#9c179e"
             ],
             [
              0.4444444444444444,
              "#bd3786"
             ],
             [
              0.5555555555555556,
              "#d8576b"
             ],
             [
              0.6666666666666666,
              "#ed7953"
             ],
             [
              0.7777777777777778,
              "#fb9f3a"
             ],
             [
              0.8888888888888888,
              "#fdca26"
             ],
             [
              1,
              "#f0f921"
             ]
            ],
            "type": "contour"
           }
          ],
          "contourcarpet": [
           {
            "colorbar": {
             "outlinewidth": 0,
             "ticks": ""
            },
            "type": "contourcarpet"
           }
          ],
          "heatmap": [
           {
            "colorbar": {
             "outlinewidth": 0,
             "ticks": ""
            },
            "colorscale": [
             [
              0,
              "#0d0887"
             ],
             [
              0.1111111111111111,
              "#46039f"
             ],
             [
              0.2222222222222222,
              "#7201a8"
             ],
             [
              0.3333333333333333,
              "#9c179e"
             ],
             [
              0.4444444444444444,
              "#bd3786"
             ],
             [
              0.5555555555555556,
              "#d8576b"
             ],
             [
              0.6666666666666666,
              "#ed7953"
             ],
             [
              0.7777777777777778,
              "#fb9f3a"
             ],
             [
              0.8888888888888888,
              "#fdca26"
             ],
             [
              1,
              "#f0f921"
             ]
            ],
            "type": "heatmap"
           }
          ],
          "heatmapgl": [
           {
            "colorbar": {
             "outlinewidth": 0,
             "ticks": ""
            },
            "colorscale": [
             [
              0,
              "#0d0887"
             ],
             [
              0.1111111111111111,
              "#46039f"
             ],
             [
              0.2222222222222222,
              "#7201a8"
             ],
             [
              0.3333333333333333,
              "#9c179e"
             ],
             [
              0.4444444444444444,
              "#bd3786"
             ],
             [
              0.5555555555555556,
              "#d8576b"
             ],
             [
              0.6666666666666666,
              "#ed7953"
             ],
             [
              0.7777777777777778,
              "#fb9f3a"
             ],
             [
              0.8888888888888888,
              "#fdca26"
             ],
             [
              1,
              "#f0f921"
             ]
            ],
            "type": "heatmapgl"
           }
          ],
          "histogram": [
           {
            "marker": {
             "pattern": {
              "fillmode": "overlay",
              "size": 10,
              "solidity": 0.2
             }
            },
            "type": "histogram"
           }
          ],
          "histogram2d": [
           {
            "colorbar": {
             "outlinewidth": 0,
             "ticks": ""
            },
            "colorscale": [
             [
              0,
              "#0d0887"
             ],
             [
              0.1111111111111111,
              "#46039f"
             ],
             [
              0.2222222222222222,
              "#7201a8"
             ],
             [
              0.3333333333333333,
              "#9c179e"
             ],
             [
              0.4444444444444444,
              "#bd3786"
             ],
             [
              0.5555555555555556,
              "#d8576b"
             ],
             [
              0.6666666666666666,
              "#ed7953"
             ],
             [
              0.7777777777777778,
              "#fb9f3a"
             ],
             [
              0.8888888888888888,
              "#fdca26"
             ],
             [
              1,
              "#f0f921"
             ]
            ],
            "type": "histogram2d"
           }
          ],
          "histogram2dcontour": [
           {
            "colorbar": {
             "outlinewidth": 0,
             "ticks": ""
            },
            "colorscale": [
             [
              0,
              "#0d0887"
             ],
             [
              0.1111111111111111,
              "#46039f"
             ],
             [
              0.2222222222222222,
              "#7201a8"
             ],
             [
              0.3333333333333333,
              "#9c179e"
             ],
             [
              0.4444444444444444,
              "#bd3786"
             ],
             [
              0.5555555555555556,
              "#d8576b"
             ],
             [
              0.6666666666666666,
              "#ed7953"
             ],
             [
              0.7777777777777778,
              "#fb9f3a"
             ],
             [
              0.8888888888888888,
              "#fdca26"
             ],
             [
              1,
              "#f0f921"
             ]
            ],
            "type": "histogram2dcontour"
           }
          ],
          "mesh3d": [
           {
            "colorbar": {
             "outlinewidth": 0,
             "ticks": ""
            },
            "type": "mesh3d"
           }
          ],
          "parcoords": [
           {
            "line": {
             "colorbar": {
              "outlinewidth": 0,
              "ticks": ""
             }
            },
            "type": "parcoords"
           }
          ],
          "pie": [
           {
            "automargin": true,
            "type": "pie"
           }
          ],
          "scatter": [
           {
            "fillpattern": {
             "fillmode": "overlay",
             "size": 10,
             "solidity": 0.2
            },
            "type": "scatter"
           }
          ],
          "scatter3d": [
           {
            "line": {
             "colorbar": {
              "outlinewidth": 0,
              "ticks": ""
             }
            },
            "marker": {
             "colorbar": {
              "outlinewidth": 0,
              "ticks": ""
             }
            },
            "type": "scatter3d"
           }
          ],
          "scattercarpet": [
           {
            "marker": {
             "colorbar": {
              "outlinewidth": 0,
              "ticks": ""
             }
            },
            "type": "scattercarpet"
           }
          ],
          "scattergeo": [
           {
            "marker": {
             "colorbar": {
              "outlinewidth": 0,
              "ticks": ""
             }
            },
            "type": "scattergeo"
           }
          ],
          "scattergl": [
           {
            "marker": {
             "colorbar": {
              "outlinewidth": 0,
              "ticks": ""
             }
            },
            "type": "scattergl"
           }
          ],
          "scattermapbox": [
           {
            "marker": {
             "colorbar": {
              "outlinewidth": 0,
              "ticks": ""
             }
            },
            "type": "scattermapbox"
           }
          ],
          "scatterpolar": [
           {
            "marker": {
             "colorbar": {
              "outlinewidth": 0,
              "ticks": ""
             }
            },
            "type": "scatterpolar"
           }
          ],
          "scatterpolargl": [
           {
            "marker": {
             "colorbar": {
              "outlinewidth": 0,
              "ticks": ""
             }
            },
            "type": "scatterpolargl"
           }
          ],
          "scatterternary": [
           {
            "marker": {
             "colorbar": {
              "outlinewidth": 0,
              "ticks": ""
             }
            },
            "type": "scatterternary"
           }
          ],
          "surface": [
           {
            "colorbar": {
             "outlinewidth": 0,
             "ticks": ""
            },
            "colorscale": [
             [
              0,
              "#0d0887"
             ],
             [
              0.1111111111111111,
              "#46039f"
             ],
             [
              0.2222222222222222,
              "#7201a8"
             ],
             [
              0.3333333333333333,
              "#9c179e"
             ],
             [
              0.4444444444444444,
              "#bd3786"
             ],
             [
              0.5555555555555556,
              "#d8576b"
             ],
             [
              0.6666666666666666,
              "#ed7953"
             ],
             [
              0.7777777777777778,
              "#fb9f3a"
             ],
             [
              0.8888888888888888,
              "#fdca26"
             ],
             [
              1,
              "#f0f921"
             ]
            ],
            "type": "surface"
           }
          ],
          "table": [
           {
            "cells": {
             "fill": {
              "color": "#EBF0F8"
             },
             "line": {
              "color": "white"
             }
            },
            "header": {
             "fill": {
              "color": "#C8D4E3"
             },
             "line": {
              "color": "white"
             }
            },
            "type": "table"
           }
          ]
         },
         "layout": {
          "annotationdefaults": {
           "arrowcolor": "#2a3f5f",
           "arrowhead": 0,
           "arrowwidth": 1
          },
          "autotypenumbers": "strict",
          "coloraxis": {
           "colorbar": {
            "outlinewidth": 0,
            "ticks": ""
           }
          },
          "colorscale": {
           "diverging": [
            [
             0,
             "#8e0152"
            ],
            [
             0.1,
             "#c51b7d"
            ],
            [
             0.2,
             "#de77ae"
            ],
            [
             0.3,
             "#f1b6da"
            ],
            [
             0.4,
             "#fde0ef"
            ],
            [
             0.5,
             "#f7f7f7"
            ],
            [
             0.6,
             "#e6f5d0"
            ],
            [
             0.7,
             "#b8e186"
            ],
            [
             0.8,
             "#7fbc41"
            ],
            [
             0.9,
             "#4d9221"
            ],
            [
             1,
             "#276419"
            ]
           ],
           "sequential": [
            [
             0,
             "#0d0887"
            ],
            [
             0.1111111111111111,
             "#46039f"
            ],
            [
             0.2222222222222222,
             "#7201a8"
            ],
            [
             0.3333333333333333,
             "#9c179e"
            ],
            [
             0.4444444444444444,
             "#bd3786"
            ],
            [
             0.5555555555555556,
             "#d8576b"
            ],
            [
             0.6666666666666666,
             "#ed7953"
            ],
            [
             0.7777777777777778,
             "#fb9f3a"
            ],
            [
             0.8888888888888888,
             "#fdca26"
            ],
            [
             1,
             "#f0f921"
            ]
           ],
           "sequentialminus": [
            [
             0,
             "#0d0887"
            ],
            [
             0.1111111111111111,
             "#46039f"
            ],
            [
             0.2222222222222222,
             "#7201a8"
            ],
            [
             0.3333333333333333,
             "#9c179e"
            ],
            [
             0.4444444444444444,
             "#bd3786"
            ],
            [
             0.5555555555555556,
             "#d8576b"
            ],
            [
             0.6666666666666666,
             "#ed7953"
            ],
            [
             0.7777777777777778,
             "#fb9f3a"
            ],
            [
             0.8888888888888888,
             "#fdca26"
            ],
            [
             1,
             "#f0f921"
            ]
           ]
          },
          "colorway": [
           "#636efa",
           "#EF553B",
           "#00cc96",
           "#ab63fa",
           "#FFA15A",
           "#19d3f3",
           "#FF6692",
           "#B6E880",
           "#FF97FF",
           "#FECB52"
          ],
          "font": {
           "color": "#2a3f5f"
          },
          "geo": {
           "bgcolor": "white",
           "lakecolor": "white",
           "landcolor": "#E5ECF6",
           "showlakes": true,
           "showland": true,
           "subunitcolor": "white"
          },
          "hoverlabel": {
           "align": "left"
          },
          "hovermode": "closest",
          "mapbox": {
           "style": "light"
          },
          "paper_bgcolor": "white",
          "plot_bgcolor": "#E5ECF6",
          "polar": {
           "angularaxis": {
            "gridcolor": "white",
            "linecolor": "white",
            "ticks": ""
           },
           "bgcolor": "#E5ECF6",
           "radialaxis": {
            "gridcolor": "white",
            "linecolor": "white",
            "ticks": ""
           }
          },
          "scene": {
           "xaxis": {
            "backgroundcolor": "#E5ECF6",
            "gridcolor": "white",
            "gridwidth": 2,
            "linecolor": "white",
            "showbackground": true,
            "ticks": "",
            "zerolinecolor": "white"
           },
           "yaxis": {
            "backgroundcolor": "#E5ECF6",
            "gridcolor": "white",
            "gridwidth": 2,
            "linecolor": "white",
            "showbackground": true,
            "ticks": "",
            "zerolinecolor": "white"
           },
           "zaxis": {
            "backgroundcolor": "#E5ECF6",
            "gridcolor": "white",
            "gridwidth": 2,
            "linecolor": "white",
            "showbackground": true,
            "ticks": "",
            "zerolinecolor": "white"
           }
          },
          "shapedefaults": {
           "line": {
            "color": "#2a3f5f"
           }
          },
          "ternary": {
           "aaxis": {
            "gridcolor": "white",
            "linecolor": "white",
            "ticks": ""
           },
           "baxis": {
            "gridcolor": "white",
            "linecolor": "white",
            "ticks": ""
           },
           "bgcolor": "#E5ECF6",
           "caxis": {
            "gridcolor": "white",
            "linecolor": "white",
            "ticks": ""
           }
          },
          "title": {
           "x": 0.05
          },
          "xaxis": {
           "automargin": true,
           "gridcolor": "white",
           "linecolor": "white",
           "ticks": "",
           "title": {
            "standoff": 15
           },
           "zerolinecolor": "white",
           "zerolinewidth": 2
          },
          "yaxis": {
           "automargin": true,
           "gridcolor": "white",
           "linecolor": "white",
           "ticks": "",
           "title": {
            "standoff": 15
           },
           "zerolinecolor": "white",
           "zerolinewidth": 2
          }
         }
        },
        "xaxis": {
         "anchor": "y",
         "domain": [
          0,
          1
         ],
         "title": {
          "text": "0"
         }
        },
        "yaxis": {
         "anchor": "x",
         "domain": [
          0,
          1
         ],
         "title": {
          "text": "1"
         }
        }
       }
      }
     },
     "metadata": {},
     "output_type": "display_data"
    }
   ],
   "source": [
    "import plotly.express as px\n",
    "from sklearn.decomposition import PCA\n",
    "from sklearn.preprocessing import StandardScaler\n",
    "model = LinearDiscriminantAnalysis(n_components=4)\n",
    "y2=[]\n",
    "for i in range(24):\n",
    "    y2.append('DNA')\n",
    "for j in range(24):\n",
    "    y2.append('MT')\n",
    "for k in range(24):\n",
    "    y2.append('HSP')\n",
    "for m in range(24):\n",
    "    y2.append('PROT')\n",
    "for n in range(24):\n",
    "    y2.append('HDAC')\n",
    "for k in range(48):\n",
    "    y2.append('DMSO')\n",
    "#model.fit(X_drug, y)\n",
    "#X_drug2 = model.transform(X_drug)\n",
    "X_drug3=training.iloc[:,2:240].values\n",
    "X_drug3=model.fit(X_drug3,y2).transform(X_drug3)\n",
    "fig = px.scatter(X_drug3, x=0, y=1, color=train_drug_name_without_concentration2)\n",
    "#training['drug_name']\n",
    "fig.show()\n",
    "#these 5 groups are very clearly separated, as we can see in the image"
   ]
  },
  {
   "cell_type": "code",
   "execution_count": 31,
   "metadata": {},
   "outputs": [
    {
     "data": {
      "application/vnd.plotly.v1+json": {
       "config": {
        "plotlyServerURL": "https://plot.ly"
       },
       "data": [
        {
         "hovertemplate": "color=Etoposide+Gemcitabine+1<br>0=%{x}<br>1=%{y}<extra></extra>",
         "legendgroup": "Etoposide+Gemcitabine+1",
         "marker": {
          "color": "#636efa",
          "symbol": "circle"
         },
         "mode": "markers",
         "name": "Etoposide+Gemcitabine+1",
         "orientation": "v",
         "showlegend": true,
         "type": "scatter",
         "x": [
          7.113235578211603
         ],
         "xaxis": "x",
         "y": [
          1.1399352949241794
         ],
         "yaxis": "y"
        },
        {
         "hovertemplate": "color=Etoposide+Gemcitabine+2<br>0=%{x}<br>1=%{y}<extra></extra>",
         "legendgroup": "Etoposide+Gemcitabine+2",
         "marker": {
          "color": "#EF553B",
          "symbol": "circle"
         },
         "mode": "markers",
         "name": "Etoposide+Gemcitabine+2",
         "orientation": "v",
         "showlegend": true,
         "type": "scatter",
         "x": [
          6.523094582605621
         ],
         "xaxis": "x",
         "y": [
          0.6335758024611473
         ],
         "yaxis": "y"
        },
        {
         "hovertemplate": "color=Etoposide+Gemcitabine+3<br>0=%{x}<br>1=%{y}<extra></extra>",
         "legendgroup": "Etoposide+Gemcitabine+3",
         "marker": {
          "color": "#00cc96",
          "symbol": "circle"
         },
         "mode": "markers",
         "name": "Etoposide+Gemcitabine+3",
         "orientation": "v",
         "showlegend": true,
         "type": "scatter",
         "x": [
          6.372280046999069
         ],
         "xaxis": "x",
         "y": [
          -0.16514634248662655
         ],
         "yaxis": "y"
        },
        {
         "hovertemplate": "color=Etoposide+Gemcitabine+4<br>0=%{x}<br>1=%{y}<extra></extra>",
         "legendgroup": "Etoposide+Gemcitabine+4",
         "marker": {
          "color": "#ab63fa",
          "symbol": "circle"
         },
         "mode": "markers",
         "name": "Etoposide+Gemcitabine+4",
         "orientation": "v",
         "showlegend": true,
         "type": "scatter",
         "x": [
          7.393581535633702
         ],
         "xaxis": "x",
         "y": [
          -0.01278266248030818
         ],
         "yaxis": "y"
        },
        {
         "hovertemplate": "color=Etoposide+Gemcitabine+5<br>0=%{x}<br>1=%{y}<extra></extra>",
         "legendgroup": "Etoposide+Gemcitabine+5",
         "marker": {
          "color": "#FFA15A",
          "symbol": "circle"
         },
         "mode": "markers",
         "name": "Etoposide+Gemcitabine+5",
         "orientation": "v",
         "showlegend": true,
         "type": "scatter",
         "x": [
          7.427083449770668
         ],
         "xaxis": "x",
         "y": [
          0.3085879850944377
         ],
         "yaxis": "y"
        },
        {
         "hovertemplate": "color=Etoposide+Gemcitabine+6<br>0=%{x}<br>1=%{y}<extra></extra>",
         "legendgroup": "Etoposide+Gemcitabine+6",
         "marker": {
          "color": "#19d3f3",
          "symbol": "circle"
         },
         "mode": "markers",
         "name": "Etoposide+Gemcitabine+6",
         "orientation": "v",
         "showlegend": true,
         "type": "scatter",
         "x": [
          5.4303545743106545
         ],
         "xaxis": "x",
         "y": [
          1.321089693420048
         ],
         "yaxis": "y"
        },
        {
         "hovertemplate": "color=Gemcitabine+Etoposide+1<br>0=%{x}<br>1=%{y}<extra></extra>",
         "legendgroup": "Gemcitabine+Etoposide+1",
         "marker": {
          "color": "#FF6692",
          "symbol": "circle"
         },
         "mode": "markers",
         "name": "Gemcitabine+Etoposide+1",
         "orientation": "v",
         "showlegend": true,
         "type": "scatter",
         "x": [
          6.22542310786533
         ],
         "xaxis": "x",
         "y": [
          0.12914988520055568
         ],
         "yaxis": "y"
        },
        {
         "hovertemplate": "color=Gemcitabine+Etoposide+2<br>0=%{x}<br>1=%{y}<extra></extra>",
         "legendgroup": "Gemcitabine+Etoposide+2",
         "marker": {
          "color": "#B6E880",
          "symbol": "circle"
         },
         "mode": "markers",
         "name": "Gemcitabine+Etoposide+2",
         "orientation": "v",
         "showlegend": true,
         "type": "scatter",
         "x": [
          6.228132787212191
         ],
         "xaxis": "x",
         "y": [
          0.5079656167371458
         ],
         "yaxis": "y"
        },
        {
         "hovertemplate": "color=Gemcitabine+Etoposide+3<br>0=%{x}<br>1=%{y}<extra></extra>",
         "legendgroup": "Gemcitabine+Etoposide+3",
         "marker": {
          "color": "#FF97FF",
          "symbol": "circle"
         },
         "mode": "markers",
         "name": "Gemcitabine+Etoposide+3",
         "orientation": "v",
         "showlegend": true,
         "type": "scatter",
         "x": [
          6.936907308991299
         ],
         "xaxis": "x",
         "y": [
          -0.23347352148182113
         ],
         "yaxis": "y"
        },
        {
         "hovertemplate": "color=Gemcitabine+Etoposide+4<br>0=%{x}<br>1=%{y}<extra></extra>",
         "legendgroup": "Gemcitabine+Etoposide+4",
         "marker": {
          "color": "#FECB52",
          "symbol": "circle"
         },
         "mode": "markers",
         "name": "Gemcitabine+Etoposide+4",
         "orientation": "v",
         "showlegend": true,
         "type": "scatter",
         "x": [
          5.761488199644026
         ],
         "xaxis": "x",
         "y": [
          0.3120354038056134
         ],
         "yaxis": "y"
        },
        {
         "hovertemplate": "color=Gemcitabine+Etoposide+5<br>0=%{x}<br>1=%{y}<extra></extra>",
         "legendgroup": "Gemcitabine+Etoposide+5",
         "marker": {
          "color": "#636efa",
          "symbol": "circle"
         },
         "mode": "markers",
         "name": "Gemcitabine+Etoposide+5",
         "orientation": "v",
         "showlegend": true,
         "type": "scatter",
         "x": [
          5.349060463948416
         ],
         "xaxis": "x",
         "y": [
          0.11714593408650288
         ],
         "yaxis": "y"
        },
        {
         "hovertemplate": "color=Gemcitabine+Etoposide+6<br>0=%{x}<br>1=%{y}<extra></extra>",
         "legendgroup": "Gemcitabine+Etoposide+6",
         "marker": {
          "color": "#EF553B",
          "symbol": "circle"
         },
         "mode": "markers",
         "name": "Gemcitabine+Etoposide+6",
         "orientation": "v",
         "showlegend": true,
         "type": "scatter",
         "x": [
          7.23365441700893
         ],
         "xaxis": "x",
         "y": [
          1.976258781968873
         ],
         "yaxis": "y"
        },
        {
         "hovertemplate": "color=Etoposide+Etoposide+1<br>0=%{x}<br>1=%{y}<extra></extra>",
         "legendgroup": "Etoposide+Etoposide+1",
         "marker": {
          "color": "#00cc96",
          "symbol": "circle"
         },
         "mode": "markers",
         "name": "Etoposide+Etoposide+1",
         "orientation": "v",
         "showlegend": true,
         "type": "scatter",
         "x": [
          6.907428180578348
         ],
         "xaxis": "x",
         "y": [
          -0.3021152898140386
         ],
         "yaxis": "y"
        },
        {
         "hovertemplate": "color=Etoposide+Etoposide+2<br>0=%{x}<br>1=%{y}<extra></extra>",
         "legendgroup": "Etoposide+Etoposide+2",
         "marker": {
          "color": "#ab63fa",
          "symbol": "circle"
         },
         "mode": "markers",
         "name": "Etoposide+Etoposide+2",
         "orientation": "v",
         "showlegend": true,
         "type": "scatter",
         "x": [
          6.874282902308855
         ],
         "xaxis": "x",
         "y": [
          -1.40968046219694
         ],
         "yaxis": "y"
        },
        {
         "hovertemplate": "color=Etoposide+Etoposide+3<br>0=%{x}<br>1=%{y}<extra></extra>",
         "legendgroup": "Etoposide+Etoposide+3",
         "marker": {
          "color": "#FFA15A",
          "symbol": "circle"
         },
         "mode": "markers",
         "name": "Etoposide+Etoposide+3",
         "orientation": "v",
         "showlegend": true,
         "type": "scatter",
         "x": [
          6.766705550986622
         ],
         "xaxis": "x",
         "y": [
          -0.2595559490239989
         ],
         "yaxis": "y"
        },
        {
         "hovertemplate": "color=Etoposide+Etoposide+4<br>0=%{x}<br>1=%{y}<extra></extra>",
         "legendgroup": "Etoposide+Etoposide+4",
         "marker": {
          "color": "#19d3f3",
          "symbol": "circle"
         },
         "mode": "markers",
         "name": "Etoposide+Etoposide+4",
         "orientation": "v",
         "showlegend": true,
         "type": "scatter",
         "x": [
          7.998769865511323
         ],
         "xaxis": "x",
         "y": [
          -0.4643127392762633
         ],
         "yaxis": "y"
        },
        {
         "hovertemplate": "color=Etoposide+Etoposide+5<br>0=%{x}<br>1=%{y}<extra></extra>",
         "legendgroup": "Etoposide+Etoposide+5",
         "marker": {
          "color": "#FF6692",
          "symbol": "circle"
         },
         "mode": "markers",
         "name": "Etoposide+Etoposide+5",
         "orientation": "v",
         "showlegend": true,
         "type": "scatter",
         "x": [
          5.852944408304146
         ],
         "xaxis": "x",
         "y": [
          -1.1715336563262766
         ],
         "yaxis": "y"
        },
        {
         "hovertemplate": "color=Etoposide+Etoposide+6<br>0=%{x}<br>1=%{y}<extra></extra>",
         "legendgroup": "Etoposide+Etoposide+6",
         "marker": {
          "color": "#B6E880",
          "symbol": "circle"
         },
         "mode": "markers",
         "name": "Etoposide+Etoposide+6",
         "orientation": "v",
         "showlegend": true,
         "type": "scatter",
         "x": [
          6.698653833027988
         ],
         "xaxis": "x",
         "y": [
          0.6328225172753613
         ],
         "yaxis": "y"
        },
        {
         "hovertemplate": "color=Gemcitabine+Gemcitabine+1<br>0=%{x}<br>1=%{y}<extra></extra>",
         "legendgroup": "Gemcitabine+Gemcitabine+1",
         "marker": {
          "color": "#FF97FF",
          "symbol": "circle"
         },
         "mode": "markers",
         "name": "Gemcitabine+Gemcitabine+1",
         "orientation": "v",
         "showlegend": true,
         "type": "scatter",
         "x": [
          6.7242338926837695
         ],
         "xaxis": "x",
         "y": [
          -0.2384458213525229
         ],
         "yaxis": "y"
        },
        {
         "hovertemplate": "color=Gemcitabine+Gemcitabine+2<br>0=%{x}<br>1=%{y}<extra></extra>",
         "legendgroup": "Gemcitabine+Gemcitabine+2",
         "marker": {
          "color": "#FECB52",
          "symbol": "circle"
         },
         "mode": "markers",
         "name": "Gemcitabine+Gemcitabine+2",
         "orientation": "v",
         "showlegend": true,
         "type": "scatter",
         "x": [
          6.191920182535642
         ],
         "xaxis": "x",
         "y": [
          -0.579773614347857
         ],
         "yaxis": "y"
        },
        {
         "hovertemplate": "color=Gemcitabine+Gemcitabine+3<br>0=%{x}<br>1=%{y}<extra></extra>",
         "legendgroup": "Gemcitabine+Gemcitabine+3",
         "marker": {
          "color": "#636efa",
          "symbol": "circle"
         },
         "mode": "markers",
         "name": "Gemcitabine+Gemcitabine+3",
         "orientation": "v",
         "showlegend": true,
         "type": "scatter",
         "x": [
          6.412660852016169
         ],
         "xaxis": "x",
         "y": [
          -0.6388910246498951
         ],
         "yaxis": "y"
        },
        {
         "hovertemplate": "color=Gemcitabine+Gemcitabine+4<br>0=%{x}<br>1=%{y}<extra></extra>",
         "legendgroup": "Gemcitabine+Gemcitabine+4",
         "marker": {
          "color": "#EF553B",
          "symbol": "circle"
         },
         "mode": "markers",
         "name": "Gemcitabine+Gemcitabine+4",
         "orientation": "v",
         "showlegend": true,
         "type": "scatter",
         "x": [
          5.657005754573309
         ],
         "xaxis": "x",
         "y": [
          0.06223966543824915
         ],
         "yaxis": "y"
        },
        {
         "hovertemplate": "color=Gemcitabine+Gemcitabine+5<br>0=%{x}<br>1=%{y}<extra></extra>",
         "legendgroup": "Gemcitabine+Gemcitabine+5",
         "marker": {
          "color": "#00cc96",
          "symbol": "circle"
         },
         "mode": "markers",
         "name": "Gemcitabine+Gemcitabine+5",
         "orientation": "v",
         "showlegend": true,
         "type": "scatter",
         "x": [
          4.730826585681897
         ],
         "xaxis": "x",
         "y": [
          -1.3434031254905692
         ],
         "yaxis": "y"
        },
        {
         "hovertemplate": "color=Gemcitabine+Gemcitabine+6<br>0=%{x}<br>1=%{y}<extra></extra>",
         "legendgroup": "Gemcitabine+Gemcitabine+6",
         "marker": {
          "color": "#ab63fa",
          "symbol": "circle"
         },
         "mode": "markers",
         "name": "Gemcitabine+Gemcitabine+6",
         "orientation": "v",
         "showlegend": true,
         "type": "scatter",
         "x": [
          6.775592000120066
         ],
         "xaxis": "x",
         "y": [
          0.4061479918868819
         ],
         "yaxis": "y"
        },
        {
         "hovertemplate": "color=Paclitaxel+Vinblastine+1<br>0=%{x}<br>1=%{y}<extra></extra>",
         "legendgroup": "Paclitaxel+Vinblastine+1",
         "marker": {
          "color": "#FFA15A",
          "symbol": "circle"
         },
         "mode": "markers",
         "name": "Paclitaxel+Vinblastine+1",
         "orientation": "v",
         "showlegend": true,
         "type": "scatter",
         "x": [
          2.699889714806994
         ],
         "xaxis": "x",
         "y": [
          1.6948283356557576
         ],
         "yaxis": "y"
        },
        {
         "hovertemplate": "color=Paclitaxel+Vinblastine+2<br>0=%{x}<br>1=%{y}<extra></extra>",
         "legendgroup": "Paclitaxel+Vinblastine+2",
         "marker": {
          "color": "#19d3f3",
          "symbol": "circle"
         },
         "mode": "markers",
         "name": "Paclitaxel+Vinblastine+2",
         "orientation": "v",
         "showlegend": true,
         "type": "scatter",
         "x": [
          3.8359646494709185
         ],
         "xaxis": "x",
         "y": [
          2.0474900253610766
         ],
         "yaxis": "y"
        },
        {
         "hovertemplate": "color=Paclitaxel+Vinblastine+3<br>0=%{x}<br>1=%{y}<extra></extra>",
         "legendgroup": "Paclitaxel+Vinblastine+3",
         "marker": {
          "color": "#FF6692",
          "symbol": "circle"
         },
         "mode": "markers",
         "name": "Paclitaxel+Vinblastine+3",
         "orientation": "v",
         "showlegend": true,
         "type": "scatter",
         "x": [
          3.878881404399397
         ],
         "xaxis": "x",
         "y": [
          1.9387505271828496
         ],
         "yaxis": "y"
        },
        {
         "hovertemplate": "color=Paclitaxel+Vinblastine+4<br>0=%{x}<br>1=%{y}<extra></extra>",
         "legendgroup": "Paclitaxel+Vinblastine+4",
         "marker": {
          "color": "#B6E880",
          "symbol": "circle"
         },
         "mode": "markers",
         "name": "Paclitaxel+Vinblastine+4",
         "orientation": "v",
         "showlegend": true,
         "type": "scatter",
         "x": [
          0.5706120441150676
         ],
         "xaxis": "x",
         "y": [
          2.4030881286193813
         ],
         "yaxis": "y"
        },
        {
         "hovertemplate": "color=Paclitaxel+Vinblastine+5<br>0=%{x}<br>1=%{y}<extra></extra>",
         "legendgroup": "Paclitaxel+Vinblastine+5",
         "marker": {
          "color": "#FF97FF",
          "symbol": "circle"
         },
         "mode": "markers",
         "name": "Paclitaxel+Vinblastine+5",
         "orientation": "v",
         "showlegend": true,
         "type": "scatter",
         "x": [
          2.75614885685736
         ],
         "xaxis": "x",
         "y": [
          2.198178326431518
         ],
         "yaxis": "y"
        },
        {
         "hovertemplate": "color=Paclitaxel+Vinblastine+6<br>0=%{x}<br>1=%{y}<extra></extra>",
         "legendgroup": "Paclitaxel+Vinblastine+6",
         "marker": {
          "color": "#FECB52",
          "symbol": "circle"
         },
         "mode": "markers",
         "name": "Paclitaxel+Vinblastine+6",
         "orientation": "v",
         "showlegend": true,
         "type": "scatter",
         "x": [
          2.261267890063617
         ],
         "xaxis": "x",
         "y": [
          -0.8856497565661637
         ],
         "yaxis": "y"
        },
        {
         "hovertemplate": "color=Vinblastine+Paclitaxel+1<br>0=%{x}<br>1=%{y}<extra></extra>",
         "legendgroup": "Vinblastine+Paclitaxel+1",
         "marker": {
          "color": "#636efa",
          "symbol": "circle"
         },
         "mode": "markers",
         "name": "Vinblastine+Paclitaxel+1",
         "orientation": "v",
         "showlegend": true,
         "type": "scatter",
         "x": [
          3.3193272807064576
         ],
         "xaxis": "x",
         "y": [
          1.7606932880231725
         ],
         "yaxis": "y"
        },
        {
         "hovertemplate": "color=Vinblastine+Paclitaxel+2<br>0=%{x}<br>1=%{y}<extra></extra>",
         "legendgroup": "Vinblastine+Paclitaxel+2",
         "marker": {
          "color": "#EF553B",
          "symbol": "circle"
         },
         "mode": "markers",
         "name": "Vinblastine+Paclitaxel+2",
         "orientation": "v",
         "showlegend": true,
         "type": "scatter",
         "x": [
          3.531695456626847
         ],
         "xaxis": "x",
         "y": [
          1.2807122696816824
         ],
         "yaxis": "y"
        },
        {
         "hovertemplate": "color=Vinblastine+Paclitaxel+3<br>0=%{x}<br>1=%{y}<extra></extra>",
         "legendgroup": "Vinblastine+Paclitaxel+3",
         "marker": {
          "color": "#00cc96",
          "symbol": "circle"
         },
         "mode": "markers",
         "name": "Vinblastine+Paclitaxel+3",
         "orientation": "v",
         "showlegend": true,
         "type": "scatter",
         "x": [
          2.8976194900303374
         ],
         "xaxis": "x",
         "y": [
          1.4643165274298362
         ],
         "yaxis": "y"
        },
        {
         "hovertemplate": "color=Vinblastine+Paclitaxel+4<br>0=%{x}<br>1=%{y}<extra></extra>",
         "legendgroup": "Vinblastine+Paclitaxel+4",
         "marker": {
          "color": "#ab63fa",
          "symbol": "circle"
         },
         "mode": "markers",
         "name": "Vinblastine+Paclitaxel+4",
         "orientation": "v",
         "showlegend": true,
         "type": "scatter",
         "x": [
          4.263258797537381
         ],
         "xaxis": "x",
         "y": [
          0.43535231040698
         ],
         "yaxis": "y"
        },
        {
         "hovertemplate": "color=Vinblastine+Paclitaxel+5<br>0=%{x}<br>1=%{y}<extra></extra>",
         "legendgroup": "Vinblastine+Paclitaxel+5",
         "marker": {
          "color": "#FFA15A",
          "symbol": "circle"
         },
         "mode": "markers",
         "name": "Vinblastine+Paclitaxel+5",
         "orientation": "v",
         "showlegend": true,
         "type": "scatter",
         "x": [
          2.6941151848703075
         ],
         "xaxis": "x",
         "y": [
          2.4351275455300465
         ],
         "yaxis": "y"
        },
        {
         "hovertemplate": "color=Vinblastine+Paclitaxel+6<br>0=%{x}<br>1=%{y}<extra></extra>",
         "legendgroup": "Vinblastine+Paclitaxel+6",
         "marker": {
          "color": "#19d3f3",
          "symbol": "circle"
         },
         "mode": "markers",
         "name": "Vinblastine+Paclitaxel+6",
         "orientation": "v",
         "showlegend": true,
         "type": "scatter",
         "x": [
          2.4413832432675644
         ],
         "xaxis": "x",
         "y": [
          2.5198188701205746
         ],
         "yaxis": "y"
        },
        {
         "hovertemplate": "color=Paclitaxel+Paclitaxel+1<br>0=%{x}<br>1=%{y}<extra></extra>",
         "legendgroup": "Paclitaxel+Paclitaxel+1",
         "marker": {
          "color": "#FF6692",
          "symbol": "circle"
         },
         "mode": "markers",
         "name": "Paclitaxel+Paclitaxel+1",
         "orientation": "v",
         "showlegend": true,
         "type": "scatter",
         "x": [
          2.6870660233881285
         ],
         "xaxis": "x",
         "y": [
          1.983517498002706
         ],
         "yaxis": "y"
        },
        {
         "hovertemplate": "color=Paclitaxel+Paclitaxel+2<br>0=%{x}<br>1=%{y}<extra></extra>",
         "legendgroup": "Paclitaxel+Paclitaxel+2",
         "marker": {
          "color": "#B6E880",
          "symbol": "circle"
         },
         "mode": "markers",
         "name": "Paclitaxel+Paclitaxel+2",
         "orientation": "v",
         "showlegend": true,
         "type": "scatter",
         "x": [
          3.245048472807059
         ],
         "xaxis": "x",
         "y": [
          2.5373394228995694
         ],
         "yaxis": "y"
        },
        {
         "hovertemplate": "color=Paclitaxel+Paclitaxel+3<br>0=%{x}<br>1=%{y}<extra></extra>",
         "legendgroup": "Paclitaxel+Paclitaxel+3",
         "marker": {
          "color": "#FF97FF",
          "symbol": "circle"
         },
         "mode": "markers",
         "name": "Paclitaxel+Paclitaxel+3",
         "orientation": "v",
         "showlegend": true,
         "type": "scatter",
         "x": [
          2.9903080846969776
         ],
         "xaxis": "x",
         "y": [
          1.6288014773007304
         ],
         "yaxis": "y"
        },
        {
         "hovertemplate": "color=Paclitaxel+Paclitaxel+4<br>0=%{x}<br>1=%{y}<extra></extra>",
         "legendgroup": "Paclitaxel+Paclitaxel+4",
         "marker": {
          "color": "#FECB52",
          "symbol": "circle"
         },
         "mode": "markers",
         "name": "Paclitaxel+Paclitaxel+4",
         "orientation": "v",
         "showlegend": true,
         "type": "scatter",
         "x": [
          3.5944081249053434
         ],
         "xaxis": "x",
         "y": [
          1.8492704693707933
         ],
         "yaxis": "y"
        },
        {
         "hovertemplate": "color=Paclitaxel+Paclitaxel+5<br>0=%{x}<br>1=%{y}<extra></extra>",
         "legendgroup": "Paclitaxel+Paclitaxel+5",
         "marker": {
          "color": "#636efa",
          "symbol": "circle"
         },
         "mode": "markers",
         "name": "Paclitaxel+Paclitaxel+5",
         "orientation": "v",
         "showlegend": true,
         "type": "scatter",
         "x": [
          2.671540005423879
         ],
         "xaxis": "x",
         "y": [
          3.0718408530544004
         ],
         "yaxis": "y"
        },
        {
         "hovertemplate": "color=Paclitaxel+Paclitaxel+6<br>0=%{x}<br>1=%{y}<extra></extra>",
         "legendgroup": "Paclitaxel+Paclitaxel+6",
         "marker": {
          "color": "#EF553B",
          "symbol": "circle"
         },
         "mode": "markers",
         "name": "Paclitaxel+Paclitaxel+6",
         "orientation": "v",
         "showlegend": true,
         "type": "scatter",
         "x": [
          2.4417534509633274
         ],
         "xaxis": "x",
         "y": [
          0.4154959128639682
         ],
         "yaxis": "y"
        },
        {
         "hovertemplate": "color=Vinblastine+Vinblastine+1<br>0=%{x}<br>1=%{y}<extra></extra>",
         "legendgroup": "Vinblastine+Vinblastine+1",
         "marker": {
          "color": "#00cc96",
          "symbol": "circle"
         },
         "mode": "markers",
         "name": "Vinblastine+Vinblastine+1",
         "orientation": "v",
         "showlegend": true,
         "type": "scatter",
         "x": [
          2.781099016703051
         ],
         "xaxis": "x",
         "y": [
          2.2363901126816113
         ],
         "yaxis": "y"
        },
        {
         "hovertemplate": "color=Vinblastine+Vinblastine+2<br>0=%{x}<br>1=%{y}<extra></extra>",
         "legendgroup": "Vinblastine+Vinblastine+2",
         "marker": {
          "color": "#ab63fa",
          "symbol": "circle"
         },
         "mode": "markers",
         "name": "Vinblastine+Vinblastine+2",
         "orientation": "v",
         "showlegend": true,
         "type": "scatter",
         "x": [
          1.7004368979982003
         ],
         "xaxis": "x",
         "y": [
          1.2285716326700071
         ],
         "yaxis": "y"
        },
        {
         "hovertemplate": "color=Vinblastine+Vinblastine+3<br>0=%{x}<br>1=%{y}<extra></extra>",
         "legendgroup": "Vinblastine+Vinblastine+3",
         "marker": {
          "color": "#FFA15A",
          "symbol": "circle"
         },
         "mode": "markers",
         "name": "Vinblastine+Vinblastine+3",
         "orientation": "v",
         "showlegend": true,
         "type": "scatter",
         "x": [
          2.644648372379496
         ],
         "xaxis": "x",
         "y": [
          1.646890893009876
         ],
         "yaxis": "y"
        },
        {
         "hovertemplate": "color=Vinblastine+Vinblastine+4<br>0=%{x}<br>1=%{y}<extra></extra>",
         "legendgroup": "Vinblastine+Vinblastine+4",
         "marker": {
          "color": "#19d3f3",
          "symbol": "circle"
         },
         "mode": "markers",
         "name": "Vinblastine+Vinblastine+4",
         "orientation": "v",
         "showlegend": true,
         "type": "scatter",
         "x": [
          2.6479466739777537
         ],
         "xaxis": "x",
         "y": [
          1.1934035983310887
         ],
         "yaxis": "y"
        },
        {
         "hovertemplate": "color=Vinblastine+Vinblastine+5<br>0=%{x}<br>1=%{y}<extra></extra>",
         "legendgroup": "Vinblastine+Vinblastine+5",
         "marker": {
          "color": "#FF6692",
          "symbol": "circle"
         },
         "mode": "markers",
         "name": "Vinblastine+Vinblastine+5",
         "orientation": "v",
         "showlegend": true,
         "type": "scatter",
         "x": [
          2.8048737597189
         ],
         "xaxis": "x",
         "y": [
          0.6576214659209729
         ],
         "yaxis": "y"
        },
        {
         "hovertemplate": "color=Vinblastine+Vinblastine+6<br>0=%{x}<br>1=%{y}<extra></extra>",
         "legendgroup": "Vinblastine+Vinblastine+6",
         "marker": {
          "color": "#B6E880",
          "symbol": "circle"
         },
         "mode": "markers",
         "name": "Vinblastine+Vinblastine+6",
         "orientation": "v",
         "showlegend": true,
         "type": "scatter",
         "x": [
          1.4062504682059351
         ],
         "xaxis": "x",
         "y": [
          2.8212688956337275
         ],
         "yaxis": "y"
        },
        {
         "hovertemplate": "color=17AAG+AUY922+1<br>0=%{x}<br>1=%{y}<extra></extra>",
         "legendgroup": "17AAG+AUY922+1",
         "marker": {
          "color": "#FF97FF",
          "symbol": "circle"
         },
         "mode": "markers",
         "name": "17AAG+AUY922+1",
         "orientation": "v",
         "showlegend": true,
         "type": "scatter",
         "x": [
          4.431507349271681
         ],
         "xaxis": "x",
         "y": [
          -7.157430257962924
         ],
         "yaxis": "y"
        },
        {
         "hovertemplate": "color=17AAG+AUY922+2<br>0=%{x}<br>1=%{y}<extra></extra>",
         "legendgroup": "17AAG+AUY922+2",
         "marker": {
          "color": "#FECB52",
          "symbol": "circle"
         },
         "mode": "markers",
         "name": "17AAG+AUY922+2",
         "orientation": "v",
         "showlegend": true,
         "type": "scatter",
         "x": [
          5.137445513412689
         ],
         "xaxis": "x",
         "y": [
          -7.961761794764888
         ],
         "yaxis": "y"
        },
        {
         "hovertemplate": "color=17AAG+AUY922+3<br>0=%{x}<br>1=%{y}<extra></extra>",
         "legendgroup": "17AAG+AUY922+3",
         "marker": {
          "color": "#636efa",
          "symbol": "circle"
         },
         "mode": "markers",
         "name": "17AAG+AUY922+3",
         "orientation": "v",
         "showlegend": true,
         "type": "scatter",
         "x": [
          3.8015167559747165
         ],
         "xaxis": "x",
         "y": [
          -8.059600687728304
         ],
         "yaxis": "y"
        },
        {
         "hovertemplate": "color=17AAG+AUY922+4<br>0=%{x}<br>1=%{y}<extra></extra>",
         "legendgroup": "17AAG+AUY922+4",
         "marker": {
          "color": "#EF553B",
          "symbol": "circle"
         },
         "mode": "markers",
         "name": "17AAG+AUY922+4",
         "orientation": "v",
         "showlegend": true,
         "type": "scatter",
         "x": [
          4.268595097154558
         ],
         "xaxis": "x",
         "y": [
          -8.052908449594886
         ],
         "yaxis": "y"
        },
        {
         "hovertemplate": "color=17AAG+AUY922+5<br>0=%{x}<br>1=%{y}<extra></extra>",
         "legendgroup": "17AAG+AUY922+5",
         "marker": {
          "color": "#00cc96",
          "symbol": "circle"
         },
         "mode": "markers",
         "name": "17AAG+AUY922+5",
         "orientation": "v",
         "showlegend": true,
         "type": "scatter",
         "x": [
          3.5914624956004912
         ],
         "xaxis": "x",
         "y": [
          -6.69164511005495
         ],
         "yaxis": "y"
        },
        {
         "hovertemplate": "color=17AAG+AUY922+6<br>0=%{x}<br>1=%{y}<extra></extra>",
         "legendgroup": "17AAG+AUY922+6",
         "marker": {
          "color": "#ab63fa",
          "symbol": "circle"
         },
         "mode": "markers",
         "name": "17AAG+AUY922+6",
         "orientation": "v",
         "showlegend": true,
         "type": "scatter",
         "x": [
          3.3153713719072146
         ],
         "xaxis": "x",
         "y": [
          -8.153563095678757
         ],
         "yaxis": "y"
        },
        {
         "hovertemplate": "color=AUY922+17AAG+1<br>0=%{x}<br>1=%{y}<extra></extra>",
         "legendgroup": "AUY922+17AAG+1",
         "marker": {
          "color": "#FFA15A",
          "symbol": "circle"
         },
         "mode": "markers",
         "name": "AUY922+17AAG+1",
         "orientation": "v",
         "showlegend": true,
         "type": "scatter",
         "x": [
          2.8680571261981274
         ],
         "xaxis": "x",
         "y": [
          -7.103220185725287
         ],
         "yaxis": "y"
        },
        {
         "hovertemplate": "color=AUY922+17AAG+2<br>0=%{x}<br>1=%{y}<extra></extra>",
         "legendgroup": "AUY922+17AAG+2",
         "marker": {
          "color": "#19d3f3",
          "symbol": "circle"
         },
         "mode": "markers",
         "name": "AUY922+17AAG+2",
         "orientation": "v",
         "showlegend": true,
         "type": "scatter",
         "x": [
          4.498352619177359
         ],
         "xaxis": "x",
         "y": [
          -7.337098919802926
         ],
         "yaxis": "y"
        },
        {
         "hovertemplate": "color=AUY922+17AAG+3<br>0=%{x}<br>1=%{y}<extra></extra>",
         "legendgroup": "AUY922+17AAG+3",
         "marker": {
          "color": "#FF6692",
          "symbol": "circle"
         },
         "mode": "markers",
         "name": "AUY922+17AAG+3",
         "orientation": "v",
         "showlegend": true,
         "type": "scatter",
         "x": [
          4.124544385531157
         ],
         "xaxis": "x",
         "y": [
          -8.057275690966938
         ],
         "yaxis": "y"
        },
        {
         "hovertemplate": "color=AUY922+17AAG+4<br>0=%{x}<br>1=%{y}<extra></extra>",
         "legendgroup": "AUY922+17AAG+4",
         "marker": {
          "color": "#B6E880",
          "symbol": "circle"
         },
         "mode": "markers",
         "name": "AUY922+17AAG+4",
         "orientation": "v",
         "showlegend": true,
         "type": "scatter",
         "x": [
          3.560884045725557
         ],
         "xaxis": "x",
         "y": [
          -6.764506857261185
         ],
         "yaxis": "y"
        },
        {
         "hovertemplate": "color=AUY922+17AAG+5<br>0=%{x}<br>1=%{y}<extra></extra>",
         "legendgroup": "AUY922+17AAG+5",
         "marker": {
          "color": "#FF97FF",
          "symbol": "circle"
         },
         "mode": "markers",
         "name": "AUY922+17AAG+5",
         "orientation": "v",
         "showlegend": true,
         "type": "scatter",
         "x": [
          4.640073439421957
         ],
         "xaxis": "x",
         "y": [
          -7.881131666857855
         ],
         "yaxis": "y"
        },
        {
         "hovertemplate": "color=AUY922+17AAG+6<br>0=%{x}<br>1=%{y}<extra></extra>",
         "legendgroup": "AUY922+17AAG+6",
         "marker": {
          "color": "#FECB52",
          "symbol": "circle"
         },
         "mode": "markers",
         "name": "AUY922+17AAG+6",
         "orientation": "v",
         "showlegend": true,
         "type": "scatter",
         "x": [
          2.9247064860788474
         ],
         "xaxis": "x",
         "y": [
          -8.447420023536132
         ],
         "yaxis": "y"
        },
        {
         "hovertemplate": "color=AUY922+AUY922+1<br>0=%{x}<br>1=%{y}<extra></extra>",
         "legendgroup": "AUY922+AUY922+1",
         "marker": {
          "color": "#636efa",
          "symbol": "circle"
         },
         "mode": "markers",
         "name": "AUY922+AUY922+1",
         "orientation": "v",
         "showlegend": true,
         "type": "scatter",
         "x": [
          4.310044501865348
         ],
         "xaxis": "x",
         "y": [
          -7.597904315010106
         ],
         "yaxis": "y"
        },
        {
         "hovertemplate": "color=AUY922+AUY922+2<br>0=%{x}<br>1=%{y}<extra></extra>",
         "legendgroup": "AUY922+AUY922+2",
         "marker": {
          "color": "#EF553B",
          "symbol": "circle"
         },
         "mode": "markers",
         "name": "AUY922+AUY922+2",
         "orientation": "v",
         "showlegend": true,
         "type": "scatter",
         "x": [
          4.2629272406897885
         ],
         "xaxis": "x",
         "y": [
          -6.903296166192863
         ],
         "yaxis": "y"
        },
        {
         "hovertemplate": "color=AUY922+AUY922+3<br>0=%{x}<br>1=%{y}<extra></extra>",
         "legendgroup": "AUY922+AUY922+3",
         "marker": {
          "color": "#00cc96",
          "symbol": "circle"
         },
         "mode": "markers",
         "name": "AUY922+AUY922+3",
         "orientation": "v",
         "showlegend": true,
         "type": "scatter",
         "x": [
          3.9642086638386833
         ],
         "xaxis": "x",
         "y": [
          -6.376776286189654
         ],
         "yaxis": "y"
        },
        {
         "hovertemplate": "color=AUY922+AUY922+4<br>0=%{x}<br>1=%{y}<extra></extra>",
         "legendgroup": "AUY922+AUY922+4",
         "marker": {
          "color": "#ab63fa",
          "symbol": "circle"
         },
         "mode": "markers",
         "name": "AUY922+AUY922+4",
         "orientation": "v",
         "showlegend": true,
         "type": "scatter",
         "x": [
          4.4120630747872776
         ],
         "xaxis": "x",
         "y": [
          -7.268255272138318
         ],
         "yaxis": "y"
        },
        {
         "hovertemplate": "color=AUY922+AUY922+5<br>0=%{x}<br>1=%{y}<extra></extra>",
         "legendgroup": "AUY922+AUY922+5",
         "marker": {
          "color": "#FFA15A",
          "symbol": "circle"
         },
         "mode": "markers",
         "name": "AUY922+AUY922+5",
         "orientation": "v",
         "showlegend": true,
         "type": "scatter",
         "x": [
          5.200446686750006
         ],
         "xaxis": "x",
         "y": [
          -7.506672154128005
         ],
         "yaxis": "y"
        },
        {
         "hovertemplate": "color=AUY922+AUY922+6<br>0=%{x}<br>1=%{y}<extra></extra>",
         "legendgroup": "AUY922+AUY922+6",
         "marker": {
          "color": "#19d3f3",
          "symbol": "circle"
         },
         "mode": "markers",
         "name": "AUY922+AUY922+6",
         "orientation": "v",
         "showlegend": true,
         "type": "scatter",
         "x": [
          2.9289746798078586
         ],
         "xaxis": "x",
         "y": [
          -5.290735288421032
         ],
         "yaxis": "y"
        },
        {
         "hovertemplate": "color=17AAG+17AAG+1<br>0=%{x}<br>1=%{y}<extra></extra>",
         "legendgroup": "17AAG+17AAG+1",
         "marker": {
          "color": "#FF6692",
          "symbol": "circle"
         },
         "mode": "markers",
         "name": "17AAG+17AAG+1",
         "orientation": "v",
         "showlegend": true,
         "type": "scatter",
         "x": [
          4.240466193069179
         ],
         "xaxis": "x",
         "y": [
          -8.456624601358344
         ],
         "yaxis": "y"
        },
        {
         "hovertemplate": "color=17AAG+17AAG+2<br>0=%{x}<br>1=%{y}<extra></extra>",
         "legendgroup": "17AAG+17AAG+2",
         "marker": {
          "color": "#B6E880",
          "symbol": "circle"
         },
         "mode": "markers",
         "name": "17AAG+17AAG+2",
         "orientation": "v",
         "showlegend": true,
         "type": "scatter",
         "x": [
          3.4383306928803066
         ],
         "xaxis": "x",
         "y": [
          -7.741626367697235
         ],
         "yaxis": "y"
        },
        {
         "hovertemplate": "color=17AAG+17AAG+3<br>0=%{x}<br>1=%{y}<extra></extra>",
         "legendgroup": "17AAG+17AAG+3",
         "marker": {
          "color": "#FF97FF",
          "symbol": "circle"
         },
         "mode": "markers",
         "name": "17AAG+17AAG+3",
         "orientation": "v",
         "showlegend": true,
         "type": "scatter",
         "x": [
          3.2724354932596427
         ],
         "xaxis": "x",
         "y": [
          -6.360521030691759
         ],
         "yaxis": "y"
        },
        {
         "hovertemplate": "color=17AAG+17AAG+4<br>0=%{x}<br>1=%{y}<extra></extra>",
         "legendgroup": "17AAG+17AAG+4",
         "marker": {
          "color": "#FECB52",
          "symbol": "circle"
         },
         "mode": "markers",
         "name": "17AAG+17AAG+4",
         "orientation": "v",
         "showlegend": true,
         "type": "scatter",
         "x": [
          4.826240799603493
         ],
         "xaxis": "x",
         "y": [
          -6.706806419224326
         ],
         "yaxis": "y"
        },
        {
         "hovertemplate": "color=17AAG+17AAG+5<br>0=%{x}<br>1=%{y}<extra></extra>",
         "legendgroup": "17AAG+17AAG+5",
         "marker": {
          "color": "#636efa",
          "symbol": "circle"
         },
         "mode": "markers",
         "name": "17AAG+17AAG+5",
         "orientation": "v",
         "showlegend": true,
         "type": "scatter",
         "x": [
          1.849491616162487
         ],
         "xaxis": "x",
         "y": [
          -6.03803295674625
         ],
         "yaxis": "y"
        },
        {
         "hovertemplate": "color=17AAG+17AAG+6<br>0=%{x}<br>1=%{y}<extra></extra>",
         "legendgroup": "17AAG+17AAG+6",
         "marker": {
          "color": "#EF553B",
          "symbol": "circle"
         },
         "mode": "markers",
         "name": "17AAG+17AAG+6",
         "orientation": "v",
         "showlegend": true,
         "type": "scatter",
         "x": [
          3.056044809130788
         ],
         "xaxis": "x",
         "y": [
          -6.8892481209556395
         ],
         "yaxis": "y"
        },
        {
         "hovertemplate": "color=MG132+PS341+1<br>0=%{x}<br>1=%{y}<extra></extra>",
         "legendgroup": "MG132+PS341+1",
         "marker": {
          "color": "#00cc96",
          "symbol": "circle"
         },
         "mode": "markers",
         "name": "MG132+PS341+1",
         "orientation": "v",
         "showlegend": true,
         "type": "scatter",
         "x": [
          1.1323612597990695
         ],
         "xaxis": "x",
         "y": [
          -3.076982364476895
         ],
         "yaxis": "y"
        },
        {
         "hovertemplate": "color=MG132+PS341+2<br>0=%{x}<br>1=%{y}<extra></extra>",
         "legendgroup": "MG132+PS341+2",
         "marker": {
          "color": "#ab63fa",
          "symbol": "circle"
         },
         "mode": "markers",
         "name": "MG132+PS341+2",
         "orientation": "v",
         "showlegend": true,
         "type": "scatter",
         "x": [
          1.9620652719096694
         ],
         "xaxis": "x",
         "y": [
          -2.1834668351176254
         ],
         "yaxis": "y"
        },
        {
         "hovertemplate": "color=MG132+PS341+3<br>0=%{x}<br>1=%{y}<extra></extra>",
         "legendgroup": "MG132+PS341+3",
         "marker": {
          "color": "#FFA15A",
          "symbol": "circle"
         },
         "mode": "markers",
         "name": "MG132+PS341+3",
         "orientation": "v",
         "showlegend": true,
         "type": "scatter",
         "x": [
          0.43182109405351293
         ],
         "xaxis": "x",
         "y": [
          -2.4712077080462724
         ],
         "yaxis": "y"
        },
        {
         "hovertemplate": "color=MG132+PS341+4<br>0=%{x}<br>1=%{y}<extra></extra>",
         "legendgroup": "MG132+PS341+4",
         "marker": {
          "color": "#19d3f3",
          "symbol": "circle"
         },
         "mode": "markers",
         "name": "MG132+PS341+4",
         "orientation": "v",
         "showlegend": true,
         "type": "scatter",
         "x": [
          1.9690729172877177
         ],
         "xaxis": "x",
         "y": [
          -2.1741646462098303
         ],
         "yaxis": "y"
        },
        {
         "hovertemplate": "color=MG132+PS341+5<br>0=%{x}<br>1=%{y}<extra></extra>",
         "legendgroup": "MG132+PS341+5",
         "marker": {
          "color": "#FF6692",
          "symbol": "circle"
         },
         "mode": "markers",
         "name": "MG132+PS341+5",
         "orientation": "v",
         "showlegend": true,
         "type": "scatter",
         "x": [
          1.9961555559983077
         ],
         "xaxis": "x",
         "y": [
          -3.589562518638102
         ],
         "yaxis": "y"
        },
        {
         "hovertemplate": "color=MG132+PS341+6<br>0=%{x}<br>1=%{y}<extra></extra>",
         "legendgroup": "MG132+PS341+6",
         "marker": {
          "color": "#B6E880",
          "symbol": "circle"
         },
         "mode": "markers",
         "name": "MG132+PS341+6",
         "orientation": "v",
         "showlegend": true,
         "type": "scatter",
         "x": [
          1.4562206398075899
         ],
         "xaxis": "x",
         "y": [
          -4.286512443259783
         ],
         "yaxis": "y"
        },
        {
         "hovertemplate": "color=PS341+MG132+1<br>0=%{x}<br>1=%{y}<extra></extra>",
         "legendgroup": "PS341+MG132+1",
         "marker": {
          "color": "#FF97FF",
          "symbol": "circle"
         },
         "mode": "markers",
         "name": "PS341+MG132+1",
         "orientation": "v",
         "showlegend": true,
         "type": "scatter",
         "x": [
          2.233454752255818
         ],
         "xaxis": "x",
         "y": [
          -2.7575388430104266
         ],
         "yaxis": "y"
        },
        {
         "hovertemplate": "color=PS341+MG132+2<br>0=%{x}<br>1=%{y}<extra></extra>",
         "legendgroup": "PS341+MG132+2",
         "marker": {
          "color": "#FECB52",
          "symbol": "circle"
         },
         "mode": "markers",
         "name": "PS341+MG132+2",
         "orientation": "v",
         "showlegend": true,
         "type": "scatter",
         "x": [
          2.8514001909863604
         ],
         "xaxis": "x",
         "y": [
          -3.016229544973834
         ],
         "yaxis": "y"
        },
        {
         "hovertemplate": "color=PS341+MG132+3<br>0=%{x}<br>1=%{y}<extra></extra>",
         "legendgroup": "PS341+MG132+3",
         "marker": {
          "color": "#636efa",
          "symbol": "circle"
         },
         "mode": "markers",
         "name": "PS341+MG132+3",
         "orientation": "v",
         "showlegend": true,
         "type": "scatter",
         "x": [
          2.077618043993246
         ],
         "xaxis": "x",
         "y": [
          -2.589667779297011
         ],
         "yaxis": "y"
        },
        {
         "hovertemplate": "color=PS341+MG132+4<br>0=%{x}<br>1=%{y}<extra></extra>",
         "legendgroup": "PS341+MG132+4",
         "marker": {
          "color": "#EF553B",
          "symbol": "circle"
         },
         "mode": "markers",
         "name": "PS341+MG132+4",
         "orientation": "v",
         "showlegend": true,
         "type": "scatter",
         "x": [
          0.6656597133288734
         ],
         "xaxis": "x",
         "y": [
          -2.4706869927351103
         ],
         "yaxis": "y"
        },
        {
         "hovertemplate": "color=PS341+MG132+5<br>0=%{x}<br>1=%{y}<extra></extra>",
         "legendgroup": "PS341+MG132+5",
         "marker": {
          "color": "#00cc96",
          "symbol": "circle"
         },
         "mode": "markers",
         "name": "PS341+MG132+5",
         "orientation": "v",
         "showlegend": true,
         "type": "scatter",
         "x": [
          2.569456301884972
         ],
         "xaxis": "x",
         "y": [
          -2.6831028795906766
         ],
         "yaxis": "y"
        },
        {
         "hovertemplate": "color=PS341+MG132+6<br>0=%{x}<br>1=%{y}<extra></extra>",
         "legendgroup": "PS341+MG132+6",
         "marker": {
          "color": "#ab63fa",
          "symbol": "circle"
         },
         "mode": "markers",
         "name": "PS341+MG132+6",
         "orientation": "v",
         "showlegend": true,
         "type": "scatter",
         "x": [
          1.4870428096957276
         ],
         "xaxis": "x",
         "y": [
          -1.931492522912556
         ],
         "yaxis": "y"
        },
        {
         "hovertemplate": "color=MG132+MG132+1<br>0=%{x}<br>1=%{y}<extra></extra>",
         "legendgroup": "MG132+MG132+1",
         "marker": {
          "color": "#FFA15A",
          "symbol": "circle"
         },
         "mode": "markers",
         "name": "MG132+MG132+1",
         "orientation": "v",
         "showlegend": true,
         "type": "scatter",
         "x": [
          2.7327085219277967
         ],
         "xaxis": "x",
         "y": [
          -3.1671661263590476
         ],
         "yaxis": "y"
        },
        {
         "hovertemplate": "color=MG132+MG132+2<br>0=%{x}<br>1=%{y}<extra></extra>",
         "legendgroup": "MG132+MG132+2",
         "marker": {
          "color": "#19d3f3",
          "symbol": "circle"
         },
         "mode": "markers",
         "name": "MG132+MG132+2",
         "orientation": "v",
         "showlegend": true,
         "type": "scatter",
         "x": [
          2.133849226438122
         ],
         "xaxis": "x",
         "y": [
          -3.423708258187712
         ],
         "yaxis": "y"
        },
        {
         "hovertemplate": "color=MG132+MG132+3<br>0=%{x}<br>1=%{y}<extra></extra>",
         "legendgroup": "MG132+MG132+3",
         "marker": {
          "color": "#FF6692",
          "symbol": "circle"
         },
         "mode": "markers",
         "name": "MG132+MG132+3",
         "orientation": "v",
         "showlegend": true,
         "type": "scatter",
         "x": [
          2.651277078302592
         ],
         "xaxis": "x",
         "y": [
          -3.7236179101901605
         ],
         "yaxis": "y"
        },
        {
         "hovertemplate": "color=MG132+MG132+4<br>0=%{x}<br>1=%{y}<extra></extra>",
         "legendgroup": "MG132+MG132+4",
         "marker": {
          "color": "#B6E880",
          "symbol": "circle"
         },
         "mode": "markers",
         "name": "MG132+MG132+4",
         "orientation": "v",
         "showlegend": true,
         "type": "scatter",
         "x": [
          1.9099838487667582
         ],
         "xaxis": "x",
         "y": [
          -2.579603858361983
         ],
         "yaxis": "y"
        },
        {
         "hovertemplate": "color=MG132+MG132+5<br>0=%{x}<br>1=%{y}<extra></extra>",
         "legendgroup": "MG132+MG132+5",
         "marker": {
          "color": "#FF97FF",
          "symbol": "circle"
         },
         "mode": "markers",
         "name": "MG132+MG132+5",
         "orientation": "v",
         "showlegend": true,
         "type": "scatter",
         "x": [
          2.7509784281018623
         ],
         "xaxis": "x",
         "y": [
          -3.3035531970833967
         ],
         "yaxis": "y"
        },
        {
         "hovertemplate": "color=MG132+MG132+6<br>0=%{x}<br>1=%{y}<extra></extra>",
         "legendgroup": "MG132+MG132+6",
         "marker": {
          "color": "#FECB52",
          "symbol": "circle"
         },
         "mode": "markers",
         "name": "MG132+MG132+6",
         "orientation": "v",
         "showlegend": true,
         "type": "scatter",
         "x": [
          2.8516561887019853
         ],
         "xaxis": "x",
         "y": [
          -3.3728890135627325
         ],
         "yaxis": "y"
        },
        {
         "hovertemplate": "color=PS341+PS341+1<br>0=%{x}<br>1=%{y}<extra></extra>",
         "legendgroup": "PS341+PS341+1",
         "marker": {
          "color": "#636efa",
          "symbol": "circle"
         },
         "mode": "markers",
         "name": "PS341+PS341+1",
         "orientation": "v",
         "showlegend": true,
         "type": "scatter",
         "x": [
          2.2925204273672057
         ],
         "xaxis": "x",
         "y": [
          -2.851972367699381
         ],
         "yaxis": "y"
        },
        {
         "hovertemplate": "color=PS341+PS341+2<br>0=%{x}<br>1=%{y}<extra></extra>",
         "legendgroup": "PS341+PS341+2",
         "marker": {
          "color": "#EF553B",
          "symbol": "circle"
         },
         "mode": "markers",
         "name": "PS341+PS341+2",
         "orientation": "v",
         "showlegend": true,
         "type": "scatter",
         "x": [
          2.3773876259250337
         ],
         "xaxis": "x",
         "y": [
          -3.267371499435536
         ],
         "yaxis": "y"
        },
        {
         "hovertemplate": "color=PS341+PS341+3<br>0=%{x}<br>1=%{y}<extra></extra>",
         "legendgroup": "PS341+PS341+3",
         "marker": {
          "color": "#00cc96",
          "symbol": "circle"
         },
         "mode": "markers",
         "name": "PS341+PS341+3",
         "orientation": "v",
         "showlegend": true,
         "type": "scatter",
         "x": [
          3.248829654521498
         ],
         "xaxis": "x",
         "y": [
          -2.3124167369520623
         ],
         "yaxis": "y"
        },
        {
         "hovertemplate": "color=PS341+PS341+4<br>0=%{x}<br>1=%{y}<extra></extra>",
         "legendgroup": "PS341+PS341+4",
         "marker": {
          "color": "#ab63fa",
          "symbol": "circle"
         },
         "mode": "markers",
         "name": "PS341+PS341+4",
         "orientation": "v",
         "showlegend": true,
         "type": "scatter",
         "x": [
          1.8791061364626134
         ],
         "xaxis": "x",
         "y": [
          -2.8138878306435866
         ],
         "yaxis": "y"
        },
        {
         "hovertemplate": "color=PS341+PS341+5<br>0=%{x}<br>1=%{y}<extra></extra>",
         "legendgroup": "PS341+PS341+5",
         "marker": {
          "color": "#FFA15A",
          "symbol": "circle"
         },
         "mode": "markers",
         "name": "PS341+PS341+5",
         "orientation": "v",
         "showlegend": true,
         "type": "scatter",
         "x": [
          2.5421125592629576
         ],
         "xaxis": "x",
         "y": [
          -1.0763225382691626
         ],
         "yaxis": "y"
        },
        {
         "hovertemplate": "color=PS341+PS341+6<br>0=%{x}<br>1=%{y}<extra></extra>",
         "legendgroup": "PS341+PS341+6",
         "marker": {
          "color": "#19d3f3",
          "symbol": "circle"
         },
         "mode": "markers",
         "name": "PS341+PS341+6",
         "orientation": "v",
         "showlegend": true,
         "type": "scatter",
         "x": [
          3.270115450922327
         ],
         "xaxis": "x",
         "y": [
          -1.4854361070193793
         ],
         "yaxis": "y"
        },
        {
         "hovertemplate": "color=SAHA+Apicidin+1<br>0=%{x}<br>1=%{y}<extra></extra>",
         "legendgroup": "SAHA+Apicidin+1",
         "marker": {
          "color": "#FF6692",
          "symbol": "circle"
         },
         "mode": "markers",
         "name": "SAHA+Apicidin+1",
         "orientation": "v",
         "showlegend": true,
         "type": "scatter",
         "x": [
          1.480847575909008
         ],
         "xaxis": "x",
         "y": [
          10.163096396378918
         ],
         "yaxis": "y"
        },
        {
         "hovertemplate": "color=SAHA+Apicidin+2<br>0=%{x}<br>1=%{y}<extra></extra>",
         "legendgroup": "SAHA+Apicidin+2",
         "marker": {
          "color": "#B6E880",
          "symbol": "circle"
         },
         "mode": "markers",
         "name": "SAHA+Apicidin+2",
         "orientation": "v",
         "showlegend": true,
         "type": "scatter",
         "x": [
          0.9749711333103317
         ],
         "xaxis": "x",
         "y": [
          8.2973856900846
         ],
         "yaxis": "y"
        },
        {
         "hovertemplate": "color=SAHA+Apicidin+3<br>0=%{x}<br>1=%{y}<extra></extra>",
         "legendgroup": "SAHA+Apicidin+3",
         "marker": {
          "color": "#FF97FF",
          "symbol": "circle"
         },
         "mode": "markers",
         "name": "SAHA+Apicidin+3",
         "orientation": "v",
         "showlegend": true,
         "type": "scatter",
         "x": [
          1.5406147404496375
         ],
         "xaxis": "x",
         "y": [
          11.151661812286333
         ],
         "yaxis": "y"
        },
        {
         "hovertemplate": "color=SAHA+Apicidin+4<br>0=%{x}<br>1=%{y}<extra></extra>",
         "legendgroup": "SAHA+Apicidin+4",
         "marker": {
          "color": "#FECB52",
          "symbol": "circle"
         },
         "mode": "markers",
         "name": "SAHA+Apicidin+4",
         "orientation": "v",
         "showlegend": true,
         "type": "scatter",
         "x": [
          2.8617718989066008
         ],
         "xaxis": "x",
         "y": [
          11.287614470765805
         ],
         "yaxis": "y"
        },
        {
         "hovertemplate": "color=SAHA+Apicidin+5<br>0=%{x}<br>1=%{y}<extra></extra>",
         "legendgroup": "SAHA+Apicidin+5",
         "marker": {
          "color": "#636efa",
          "symbol": "circle"
         },
         "mode": "markers",
         "name": "SAHA+Apicidin+5",
         "orientation": "v",
         "showlegend": true,
         "type": "scatter",
         "x": [
          1.10183153152055
         ],
         "xaxis": "x",
         "y": [
          8.219542544133864
         ],
         "yaxis": "y"
        },
        {
         "hovertemplate": "color=SAHA+Apicidin+6<br>0=%{x}<br>1=%{y}<extra></extra>",
         "legendgroup": "SAHA+Apicidin+6",
         "marker": {
          "color": "#EF553B",
          "symbol": "circle"
         },
         "mode": "markers",
         "name": "SAHA+Apicidin+6",
         "orientation": "v",
         "showlegend": true,
         "type": "scatter",
         "x": [
          2.5313626686685518
         ],
         "xaxis": "x",
         "y": [
          9.038700395662529
         ],
         "yaxis": "y"
        },
        {
         "hovertemplate": "color=Apicidin+SAHA+1<br>0=%{x}<br>1=%{y}<extra></extra>",
         "legendgroup": "Apicidin+SAHA+1",
         "marker": {
          "color": "#00cc96",
          "symbol": "circle"
         },
         "mode": "markers",
         "name": "Apicidin+SAHA+1",
         "orientation": "v",
         "showlegend": true,
         "type": "scatter",
         "x": [
          1.1601663856924898
         ],
         "xaxis": "x",
         "y": [
          10.320995150225537
         ],
         "yaxis": "y"
        },
        {
         "hovertemplate": "color=Apicidin+SAHA+2<br>0=%{x}<br>1=%{y}<extra></extra>",
         "legendgroup": "Apicidin+SAHA+2",
         "marker": {
          "color": "#ab63fa",
          "symbol": "circle"
         },
         "mode": "markers",
         "name": "Apicidin+SAHA+2",
         "orientation": "v",
         "showlegend": true,
         "type": "scatter",
         "x": [
          4.428708218646828
         ],
         "xaxis": "x",
         "y": [
          9.096370623696185
         ],
         "yaxis": "y"
        },
        {
         "hovertemplate": "color=Apicidin+SAHA+3<br>0=%{x}<br>1=%{y}<extra></extra>",
         "legendgroup": "Apicidin+SAHA+3",
         "marker": {
          "color": "#FFA15A",
          "symbol": "circle"
         },
         "mode": "markers",
         "name": "Apicidin+SAHA+3",
         "orientation": "v",
         "showlegend": true,
         "type": "scatter",
         "x": [
          1.6914564868675035
         ],
         "xaxis": "x",
         "y": [
          10.055906842203985
         ],
         "yaxis": "y"
        },
        {
         "hovertemplate": "color=Apicidin+SAHA+4<br>0=%{x}<br>1=%{y}<extra></extra>",
         "legendgroup": "Apicidin+SAHA+4",
         "marker": {
          "color": "#19d3f3",
          "symbol": "circle"
         },
         "mode": "markers",
         "name": "Apicidin+SAHA+4",
         "orientation": "v",
         "showlegend": true,
         "type": "scatter",
         "x": [
          1.5541866133842133
         ],
         "xaxis": "x",
         "y": [
          8.268953864458037
         ],
         "yaxis": "y"
        },
        {
         "hovertemplate": "color=Apicidin+SAHA+5<br>0=%{x}<br>1=%{y}<extra></extra>",
         "legendgroup": "Apicidin+SAHA+5",
         "marker": {
          "color": "#FF6692",
          "symbol": "circle"
         },
         "mode": "markers",
         "name": "Apicidin+SAHA+5",
         "orientation": "v",
         "showlegend": true,
         "type": "scatter",
         "x": [
          2.512456803128878
         ],
         "xaxis": "x",
         "y": [
          10.4410039162418
         ],
         "yaxis": "y"
        },
        {
         "hovertemplate": "color=Apicidin+SAHA+6<br>0=%{x}<br>1=%{y}<extra></extra>",
         "legendgroup": "Apicidin+SAHA+6",
         "marker": {
          "color": "#B6E880",
          "symbol": "circle"
         },
         "mode": "markers",
         "name": "Apicidin+SAHA+6",
         "orientation": "v",
         "showlegend": true,
         "type": "scatter",
         "x": [
          2.238262671390829
         ],
         "xaxis": "x",
         "y": [
          9.187507737222333
         ],
         "yaxis": "y"
        },
        {
         "hovertemplate": "color=Apicidin+Apicidin+1<br>0=%{x}<br>1=%{y}<extra></extra>",
         "legendgroup": "Apicidin+Apicidin+1",
         "marker": {
          "color": "#FF97FF",
          "symbol": "circle"
         },
         "mode": "markers",
         "name": "Apicidin+Apicidin+1",
         "orientation": "v",
         "showlegend": true,
         "type": "scatter",
         "x": [
          3.7265377584019608
         ],
         "xaxis": "x",
         "y": [
          8.755827193920739
         ],
         "yaxis": "y"
        },
        {
         "hovertemplate": "color=Apicidin+Apicidin+2<br>0=%{x}<br>1=%{y}<extra></extra>",
         "legendgroup": "Apicidin+Apicidin+2",
         "marker": {
          "color": "#FECB52",
          "symbol": "circle"
         },
         "mode": "markers",
         "name": "Apicidin+Apicidin+2",
         "orientation": "v",
         "showlegend": true,
         "type": "scatter",
         "x": [
          2.279220927872735
         ],
         "xaxis": "x",
         "y": [
          10.17346579119757
         ],
         "yaxis": "y"
        },
        {
         "hovertemplate": "color=Apicidin+Apicidin+3<br>0=%{x}<br>1=%{y}<extra></extra>",
         "legendgroup": "Apicidin+Apicidin+3",
         "marker": {
          "color": "#636efa",
          "symbol": "circle"
         },
         "mode": "markers",
         "name": "Apicidin+Apicidin+3",
         "orientation": "v",
         "showlegend": true,
         "type": "scatter",
         "x": [
          1.699835433498612
         ],
         "xaxis": "x",
         "y": [
          7.594267441205441
         ],
         "yaxis": "y"
        },
        {
         "hovertemplate": "color=Apicidin+Apicidin+4<br>0=%{x}<br>1=%{y}<extra></extra>",
         "legendgroup": "Apicidin+Apicidin+4",
         "marker": {
          "color": "#EF553B",
          "symbol": "circle"
         },
         "mode": "markers",
         "name": "Apicidin+Apicidin+4",
         "orientation": "v",
         "showlegend": true,
         "type": "scatter",
         "x": [
          0.8066469972399211
         ],
         "xaxis": "x",
         "y": [
          7.509521788297729
         ],
         "yaxis": "y"
        },
        {
         "hovertemplate": "color=Apicidin+Apicidin+5<br>0=%{x}<br>1=%{y}<extra></extra>",
         "legendgroup": "Apicidin+Apicidin+5",
         "marker": {
          "color": "#00cc96",
          "symbol": "circle"
         },
         "mode": "markers",
         "name": "Apicidin+Apicidin+5",
         "orientation": "v",
         "showlegend": true,
         "type": "scatter",
         "x": [
          3.8394418864884488
         ],
         "xaxis": "x",
         "y": [
          7.598326324587377
         ],
         "yaxis": "y"
        },
        {
         "hovertemplate": "color=Apicidin+Apicidin+6<br>0=%{x}<br>1=%{y}<extra></extra>",
         "legendgroup": "Apicidin+Apicidin+6",
         "marker": {
          "color": "#ab63fa",
          "symbol": "circle"
         },
         "mode": "markers",
         "name": "Apicidin+Apicidin+6",
         "orientation": "v",
         "showlegend": true,
         "type": "scatter",
         "x": [
          1.7916179331208726
         ],
         "xaxis": "x",
         "y": [
          9.687084988259548
         ],
         "yaxis": "y"
        },
        {
         "hovertemplate": "color=SAHA+SAHA+1<br>0=%{x}<br>1=%{y}<extra></extra>",
         "legendgroup": "SAHA+SAHA+1",
         "marker": {
          "color": "#FFA15A",
          "symbol": "circle"
         },
         "mode": "markers",
         "name": "SAHA+SAHA+1",
         "orientation": "v",
         "showlegend": true,
         "type": "scatter",
         "x": [
          3.840859080372007
         ],
         "xaxis": "x",
         "y": [
          9.732472337415022
         ],
         "yaxis": "y"
        },
        {
         "hovertemplate": "color=SAHA+SAHA+2<br>0=%{x}<br>1=%{y}<extra></extra>",
         "legendgroup": "SAHA+SAHA+2",
         "marker": {
          "color": "#19d3f3",
          "symbol": "circle"
         },
         "mode": "markers",
         "name": "SAHA+SAHA+2",
         "orientation": "v",
         "showlegend": true,
         "type": "scatter",
         "x": [
          -0.35754485238826567
         ],
         "xaxis": "x",
         "y": [
          11.40044440231447
         ],
         "yaxis": "y"
        },
        {
         "hovertemplate": "color=SAHA+SAHA+3<br>0=%{x}<br>1=%{y}<extra></extra>",
         "legendgroup": "SAHA+SAHA+3",
         "marker": {
          "color": "#FF6692",
          "symbol": "circle"
         },
         "mode": "markers",
         "name": "SAHA+SAHA+3",
         "orientation": "v",
         "showlegend": true,
         "type": "scatter",
         "x": [
          0.9644364309485028
         ],
         "xaxis": "x",
         "y": [
          10.845543192651515
         ],
         "yaxis": "y"
        },
        {
         "hovertemplate": "color=SAHA+SAHA+4<br>0=%{x}<br>1=%{y}<extra></extra>",
         "legendgroup": "SAHA+SAHA+4",
         "marker": {
          "color": "#B6E880",
          "symbol": "circle"
         },
         "mode": "markers",
         "name": "SAHA+SAHA+4",
         "orientation": "v",
         "showlegend": true,
         "type": "scatter",
         "x": [
          3.805096870655078
         ],
         "xaxis": "x",
         "y": [
          9.854295766438579
         ],
         "yaxis": "y"
        },
        {
         "hovertemplate": "color=SAHA+SAHA+5<br>0=%{x}<br>1=%{y}<extra></extra>",
         "legendgroup": "SAHA+SAHA+5",
         "marker": {
          "color": "#FF97FF",
          "symbol": "circle"
         },
         "mode": "markers",
         "name": "SAHA+SAHA+5",
         "orientation": "v",
         "showlegend": true,
         "type": "scatter",
         "x": [
          2.788034918689751
         ],
         "xaxis": "x",
         "y": [
          10.15260990317866
         ],
         "yaxis": "y"
        },
        {
         "hovertemplate": "color=SAHA+SAHA+6<br>0=%{x}<br>1=%{y}<extra></extra>",
         "legendgroup": "SAHA+SAHA+6",
         "marker": {
          "color": "#FECB52",
          "symbol": "circle"
         },
         "mode": "markers",
         "name": "SAHA+SAHA+6",
         "orientation": "v",
         "showlegend": true,
         "type": "scatter",
         "x": [
          1.1556644931225655
         ],
         "xaxis": "x",
         "y": [
          7.394093550772709
         ],
         "yaxis": "y"
        },
        {
         "hovertemplate": "color=DMSO+DMSO+1<br>0=%{x}<br>1=%{y}<extra></extra>",
         "legendgroup": "DMSO+DMSO+1",
         "marker": {
          "color": "#636efa",
          "symbol": "circle"
         },
         "mode": "markers",
         "name": "DMSO+DMSO+1",
         "orientation": "v",
         "showlegend": true,
         "type": "scatter",
         "x": [
          -7.9835663135090185,
          -7.677708276236205,
          -9.42118175565444,
          -9.41283116608625,
          -8.024526610136384,
          -6.942788622830595,
          -9.606676125322165,
          -11.523726862684443
         ],
         "xaxis": "x",
         "y": [
          -1.3405088799611327,
          -0.6464945846576803,
          -2.3539982777461566,
          -2.062039741287382,
          -0.6799850357048184,
          -0.8397457854557211,
          -1.502004576544542,
          -1.410403538822319
         ],
         "yaxis": "y"
        },
        {
         "hovertemplate": "color=DMSO+DMSO+2<br>0=%{x}<br>1=%{y}<extra></extra>",
         "legendgroup": "DMSO+DMSO+2",
         "marker": {
          "color": "#EF553B",
          "symbol": "circle"
         },
         "mode": "markers",
         "name": "DMSO+DMSO+2",
         "orientation": "v",
         "showlegend": true,
         "type": "scatter",
         "x": [
          -9.83257439979275,
          -7.515381277369258,
          -8.376999674285068,
          -9.536782551690242,
          -7.101646384795531,
          -8.898047680908698,
          -9.467294094886977,
          -6.798706218721109
         ],
         "xaxis": "x",
         "y": [
          0.3832741016085357,
          0.22014407224848007,
          1.3752340470251365,
          0.33300813234042276,
          1.6477093448864566,
          0.6566571150815631,
          -0.022274346285330468,
          -0.6018083320167741
         ],
         "yaxis": "y"
        },
        {
         "hovertemplate": "color=DMSO+DMSO+3<br>0=%{x}<br>1=%{y}<extra></extra>",
         "legendgroup": "DMSO+DMSO+3",
         "marker": {
          "color": "#00cc96",
          "symbol": "circle"
         },
         "mode": "markers",
         "name": "DMSO+DMSO+3",
         "orientation": "v",
         "showlegend": true,
         "type": "scatter",
         "x": [
          -8.266916135989064,
          -7.615829481416827,
          -6.2771072804104,
          -9.7776048409391,
          -8.334568894953733,
          -8.30439607171509,
          -9.845039489116537,
          -7.467571670711118
         ],
         "xaxis": "x",
         "y": [
          0.4917152700457848,
          -0.5608546489552994,
          1.5313621322111675,
          -1.0399859206198043,
          -3.0976663311301333,
          -1.937517319367428,
          -1.243086531218613,
          0.37496729681288626
         ],
         "yaxis": "y"
        },
        {
         "hovertemplate": "color=DMSO+DMSO+4<br>0=%{x}<br>1=%{y}<extra></extra>",
         "legendgroup": "DMSO+DMSO+4",
         "marker": {
          "color": "#ab63fa",
          "symbol": "circle"
         },
         "mode": "markers",
         "name": "DMSO+DMSO+4",
         "orientation": "v",
         "showlegend": true,
         "type": "scatter",
         "x": [
          -7.621828646585653,
          -9.149173221732992,
          -11.587720267057831,
          -6.015547698528352,
          -9.203301269399056,
          -10.72591930809862,
          -7.61352585930982,
          -8.793136603967186
         ],
         "xaxis": "x",
         "y": [
          -0.17228183736622082,
          0.24754513086828953,
          -0.18801398883027987,
          -2.59100429163536,
          0.4555348483107374,
          -0.2570901766994252,
          -0.2848636253183052,
          1.644324869646657
         ],
         "yaxis": "y"
        },
        {
         "hovertemplate": "color=DMSO+DMSO+5<br>0=%{x}<br>1=%{y}<extra></extra>",
         "legendgroup": "DMSO+DMSO+5",
         "marker": {
          "color": "#FFA15A",
          "symbol": "circle"
         },
         "mode": "markers",
         "name": "DMSO+DMSO+5",
         "orientation": "v",
         "showlegend": true,
         "type": "scatter",
         "x": [
          -9.251805295788511,
          -9.254615552054272,
          -9.298966069757315,
          -9.90359695691229,
          -7.780033257957633,
          -8.7229074812135,
          -10.031347145062682,
          -9.354693742589003
         ],
         "xaxis": "x",
         "y": [
          -2.9301475133150214,
          0.21509044200995067,
          -1.9898291308968452,
          -1.3621820303195529,
          -0.3860678483634706,
          0.07419639869826508,
          -0.9474910327284418,
          -1.2877042060877177
         ],
         "yaxis": "y"
        },
        {
         "hovertemplate": "color=DMSO+DMSO+6<br>0=%{x}<br>1=%{y}<extra></extra>",
         "legendgroup": "DMSO+DMSO+6",
         "marker": {
          "color": "#19d3f3",
          "symbol": "circle"
         },
         "mode": "markers",
         "name": "DMSO+DMSO+6",
         "orientation": "v",
         "showlegend": true,
         "type": "scatter",
         "x": [
          -8.5212273215789,
          -9.935392675459344,
          -8.106993948981218,
          -9.655450685930681,
          -9.649283216070168,
          -6.712487774637682,
          -8.792577842213989,
          -7.473389144300169
         ],
         "xaxis": "x",
         "y": [
          0.020036745197222147,
          1.9194349723211312,
          -1.7385552680137524,
          -1.618164418499635,
          -0.6390114715507229,
          -0.21810223083900548,
          -0.7586890792845598,
          -0.9876917956574396
         ],
         "yaxis": "y"
        }
       ],
       "layout": {
        "legend": {
         "title": {
          "text": "color"
         },
         "tracegroupgap": 0
        },
        "margin": {
         "t": 60
        },
        "template": {
         "data": {
          "bar": [
           {
            "error_x": {
             "color": "#2a3f5f"
            },
            "error_y": {
             "color": "#2a3f5f"
            },
            "marker": {
             "line": {
              "color": "#E5ECF6",
              "width": 0.5
             },
             "pattern": {
              "fillmode": "overlay",
              "size": 10,
              "solidity": 0.2
             }
            },
            "type": "bar"
           }
          ],
          "barpolar": [
           {
            "marker": {
             "line": {
              "color": "#E5ECF6",
              "width": 0.5
             },
             "pattern": {
              "fillmode": "overlay",
              "size": 10,
              "solidity": 0.2
             }
            },
            "type": "barpolar"
           }
          ],
          "carpet": [
           {
            "aaxis": {
             "endlinecolor": "#2a3f5f",
             "gridcolor": "white",
             "linecolor": "white",
             "minorgridcolor": "white",
             "startlinecolor": "#2a3f5f"
            },
            "baxis": {
             "endlinecolor": "#2a3f5f",
             "gridcolor": "white",
             "linecolor": "white",
             "minorgridcolor": "white",
             "startlinecolor": "#2a3f5f"
            },
            "type": "carpet"
           }
          ],
          "choropleth": [
           {
            "colorbar": {
             "outlinewidth": 0,
             "ticks": ""
            },
            "type": "choropleth"
           }
          ],
          "contour": [
           {
            "colorbar": {
             "outlinewidth": 0,
             "ticks": ""
            },
            "colorscale": [
             [
              0,
              "#0d0887"
             ],
             [
              0.1111111111111111,
              "#46039f"
             ],
             [
              0.2222222222222222,
              "#7201a8"
             ],
             [
              0.3333333333333333,
              "#9c179e"
             ],
             [
              0.4444444444444444,
              "#bd3786"
             ],
             [
              0.5555555555555556,
              "#d8576b"
             ],
             [
              0.6666666666666666,
              "#ed7953"
             ],
             [
              0.7777777777777778,
              "#fb9f3a"
             ],
             [
              0.8888888888888888,
              "#fdca26"
             ],
             [
              1,
              "#f0f921"
             ]
            ],
            "type": "contour"
           }
          ],
          "contourcarpet": [
           {
            "colorbar": {
             "outlinewidth": 0,
             "ticks": ""
            },
            "type": "contourcarpet"
           }
          ],
          "heatmap": [
           {
            "colorbar": {
             "outlinewidth": 0,
             "ticks": ""
            },
            "colorscale": [
             [
              0,
              "#0d0887"
             ],
             [
              0.1111111111111111,
              "#46039f"
             ],
             [
              0.2222222222222222,
              "#7201a8"
             ],
             [
              0.3333333333333333,
              "#9c179e"
             ],
             [
              0.4444444444444444,
              "#bd3786"
             ],
             [
              0.5555555555555556,
              "#d8576b"
             ],
             [
              0.6666666666666666,
              "#ed7953"
             ],
             [
              0.7777777777777778,
              "#fb9f3a"
             ],
             [
              0.8888888888888888,
              "#fdca26"
             ],
             [
              1,
              "#f0f921"
             ]
            ],
            "type": "heatmap"
           }
          ],
          "heatmapgl": [
           {
            "colorbar": {
             "outlinewidth": 0,
             "ticks": ""
            },
            "colorscale": [
             [
              0,
              "#0d0887"
             ],
             [
              0.1111111111111111,
              "#46039f"
             ],
             [
              0.2222222222222222,
              "#7201a8"
             ],
             [
              0.3333333333333333,
              "#9c179e"
             ],
             [
              0.4444444444444444,
              "#bd3786"
             ],
             [
              0.5555555555555556,
              "#d8576b"
             ],
             [
              0.6666666666666666,
              "#ed7953"
             ],
             [
              0.7777777777777778,
              "#fb9f3a"
             ],
             [
              0.8888888888888888,
              "#fdca26"
             ],
             [
              1,
              "#f0f921"
             ]
            ],
            "type": "heatmapgl"
           }
          ],
          "histogram": [
           {
            "marker": {
             "pattern": {
              "fillmode": "overlay",
              "size": 10,
              "solidity": 0.2
             }
            },
            "type": "histogram"
           }
          ],
          "histogram2d": [
           {
            "colorbar": {
             "outlinewidth": 0,
             "ticks": ""
            },
            "colorscale": [
             [
              0,
              "#0d0887"
             ],
             [
              0.1111111111111111,
              "#46039f"
             ],
             [
              0.2222222222222222,
              "#7201a8"
             ],
             [
              0.3333333333333333,
              "#9c179e"
             ],
             [
              0.4444444444444444,
              "#bd3786"
             ],
             [
              0.5555555555555556,
              "#d8576b"
             ],
             [
              0.6666666666666666,
              "#ed7953"
             ],
             [
              0.7777777777777778,
              "#fb9f3a"
             ],
             [
              0.8888888888888888,
              "#fdca26"
             ],
             [
              1,
              "#f0f921"
             ]
            ],
            "type": "histogram2d"
           }
          ],
          "histogram2dcontour": [
           {
            "colorbar": {
             "outlinewidth": 0,
             "ticks": ""
            },
            "colorscale": [
             [
              0,
              "#0d0887"
             ],
             [
              0.1111111111111111,
              "#46039f"
             ],
             [
              0.2222222222222222,
              "#7201a8"
             ],
             [
              0.3333333333333333,
              "#9c179e"
             ],
             [
              0.4444444444444444,
              "#bd3786"
             ],
             [
              0.5555555555555556,
              "#d8576b"
             ],
             [
              0.6666666666666666,
              "#ed7953"
             ],
             [
              0.7777777777777778,
              "#fb9f3a"
             ],
             [
              0.8888888888888888,
              "#fdca26"
             ],
             [
              1,
              "#f0f921"
             ]
            ],
            "type": "histogram2dcontour"
           }
          ],
          "mesh3d": [
           {
            "colorbar": {
             "outlinewidth": 0,
             "ticks": ""
            },
            "type": "mesh3d"
           }
          ],
          "parcoords": [
           {
            "line": {
             "colorbar": {
              "outlinewidth": 0,
              "ticks": ""
             }
            },
            "type": "parcoords"
           }
          ],
          "pie": [
           {
            "automargin": true,
            "type": "pie"
           }
          ],
          "scatter": [
           {
            "fillpattern": {
             "fillmode": "overlay",
             "size": 10,
             "solidity": 0.2
            },
            "type": "scatter"
           }
          ],
          "scatter3d": [
           {
            "line": {
             "colorbar": {
              "outlinewidth": 0,
              "ticks": ""
             }
            },
            "marker": {
             "colorbar": {
              "outlinewidth": 0,
              "ticks": ""
             }
            },
            "type": "scatter3d"
           }
          ],
          "scattercarpet": [
           {
            "marker": {
             "colorbar": {
              "outlinewidth": 0,
              "ticks": ""
             }
            },
            "type": "scattercarpet"
           }
          ],
          "scattergeo": [
           {
            "marker": {
             "colorbar": {
              "outlinewidth": 0,
              "ticks": ""
             }
            },
            "type": "scattergeo"
           }
          ],
          "scattergl": [
           {
            "marker": {
             "colorbar": {
              "outlinewidth": 0,
              "ticks": ""
             }
            },
            "type": "scattergl"
           }
          ],
          "scattermapbox": [
           {
            "marker": {
             "colorbar": {
              "outlinewidth": 0,
              "ticks": ""
             }
            },
            "type": "scattermapbox"
           }
          ],
          "scatterpolar": [
           {
            "marker": {
             "colorbar": {
              "outlinewidth": 0,
              "ticks": ""
             }
            },
            "type": "scatterpolar"
           }
          ],
          "scatterpolargl": [
           {
            "marker": {
             "colorbar": {
              "outlinewidth": 0,
              "ticks": ""
             }
            },
            "type": "scatterpolargl"
           }
          ],
          "scatterternary": [
           {
            "marker": {
             "colorbar": {
              "outlinewidth": 0,
              "ticks": ""
             }
            },
            "type": "scatterternary"
           }
          ],
          "surface": [
           {
            "colorbar": {
             "outlinewidth": 0,
             "ticks": ""
            },
            "colorscale": [
             [
              0,
              "#0d0887"
             ],
             [
              0.1111111111111111,
              "#46039f"
             ],
             [
              0.2222222222222222,
              "#7201a8"
             ],
             [
              0.3333333333333333,
              "#9c179e"
             ],
             [
              0.4444444444444444,
              "#bd3786"
             ],
             [
              0.5555555555555556,
              "#d8576b"
             ],
             [
              0.6666666666666666,
              "#ed7953"
             ],
             [
              0.7777777777777778,
              "#fb9f3a"
             ],
             [
              0.8888888888888888,
              "#fdca26"
             ],
             [
              1,
              "#f0f921"
             ]
            ],
            "type": "surface"
           }
          ],
          "table": [
           {
            "cells": {
             "fill": {
              "color": "#EBF0F8"
             },
             "line": {
              "color": "white"
             }
            },
            "header": {
             "fill": {
              "color": "#C8D4E3"
             },
             "line": {
              "color": "white"
             }
            },
            "type": "table"
           }
          ]
         },
         "layout": {
          "annotationdefaults": {
           "arrowcolor": "#2a3f5f",
           "arrowhead": 0,
           "arrowwidth": 1
          },
          "autotypenumbers": "strict",
          "coloraxis": {
           "colorbar": {
            "outlinewidth": 0,
            "ticks": ""
           }
          },
          "colorscale": {
           "diverging": [
            [
             0,
             "#8e0152"
            ],
            [
             0.1,
             "#c51b7d"
            ],
            [
             0.2,
             "#de77ae"
            ],
            [
             0.3,
             "#f1b6da"
            ],
            [
             0.4,
             "#fde0ef"
            ],
            [
             0.5,
             "#f7f7f7"
            ],
            [
             0.6,
             "#e6f5d0"
            ],
            [
             0.7,
             "#b8e186"
            ],
            [
             0.8,
             "#7fbc41"
            ],
            [
             0.9,
             "#4d9221"
            ],
            [
             1,
             "#276419"
            ]
           ],
           "sequential": [
            [
             0,
             "#0d0887"
            ],
            [
             0.1111111111111111,
             "#46039f"
            ],
            [
             0.2222222222222222,
             "#7201a8"
            ],
            [
             0.3333333333333333,
             "#9c179e"
            ],
            [
             0.4444444444444444,
             "#bd3786"
            ],
            [
             0.5555555555555556,
             "#d8576b"
            ],
            [
             0.6666666666666666,
             "#ed7953"
            ],
            [
             0.7777777777777778,
             "#fb9f3a"
            ],
            [
             0.8888888888888888,
             "#fdca26"
            ],
            [
             1,
             "#f0f921"
            ]
           ],
           "sequentialminus": [
            [
             0,
             "#0d0887"
            ],
            [
             0.1111111111111111,
             "#46039f"
            ],
            [
             0.2222222222222222,
             "#7201a8"
            ],
            [
             0.3333333333333333,
             "#9c179e"
            ],
            [
             0.4444444444444444,
             "#bd3786"
            ],
            [
             0.5555555555555556,
             "#d8576b"
            ],
            [
             0.6666666666666666,
             "#ed7953"
            ],
            [
             0.7777777777777778,
             "#fb9f3a"
            ],
            [
             0.8888888888888888,
             "#fdca26"
            ],
            [
             1,
             "#f0f921"
            ]
           ]
          },
          "colorway": [
           "#636efa",
           "#EF553B",
           "#00cc96",
           "#ab63fa",
           "#FFA15A",
           "#19d3f3",
           "#FF6692",
           "#B6E880",
           "#FF97FF",
           "#FECB52"
          ],
          "font": {
           "color": "#2a3f5f"
          },
          "geo": {
           "bgcolor": "white",
           "lakecolor": "white",
           "landcolor": "#E5ECF6",
           "showlakes": true,
           "showland": true,
           "subunitcolor": "white"
          },
          "hoverlabel": {
           "align": "left"
          },
          "hovermode": "closest",
          "mapbox": {
           "style": "light"
          },
          "paper_bgcolor": "white",
          "plot_bgcolor": "#E5ECF6",
          "polar": {
           "angularaxis": {
            "gridcolor": "white",
            "linecolor": "white",
            "ticks": ""
           },
           "bgcolor": "#E5ECF6",
           "radialaxis": {
            "gridcolor": "white",
            "linecolor": "white",
            "ticks": ""
           }
          },
          "scene": {
           "xaxis": {
            "backgroundcolor": "#E5ECF6",
            "gridcolor": "white",
            "gridwidth": 2,
            "linecolor": "white",
            "showbackground": true,
            "ticks": "",
            "zerolinecolor": "white"
           },
           "yaxis": {
            "backgroundcolor": "#E5ECF6",
            "gridcolor": "white",
            "gridwidth": 2,
            "linecolor": "white",
            "showbackground": true,
            "ticks": "",
            "zerolinecolor": "white"
           },
           "zaxis": {
            "backgroundcolor": "#E5ECF6",
            "gridcolor": "white",
            "gridwidth": 2,
            "linecolor": "white",
            "showbackground": true,
            "ticks": "",
            "zerolinecolor": "white"
           }
          },
          "shapedefaults": {
           "line": {
            "color": "#2a3f5f"
           }
          },
          "ternary": {
           "aaxis": {
            "gridcolor": "white",
            "linecolor": "white",
            "ticks": ""
           },
           "baxis": {
            "gridcolor": "white",
            "linecolor": "white",
            "ticks": ""
           },
           "bgcolor": "#E5ECF6",
           "caxis": {
            "gridcolor": "white",
            "linecolor": "white",
            "ticks": ""
           }
          },
          "title": {
           "x": 0.05
          },
          "xaxis": {
           "automargin": true,
           "gridcolor": "white",
           "linecolor": "white",
           "ticks": "",
           "title": {
            "standoff": 15
           },
           "zerolinecolor": "white",
           "zerolinewidth": 2
          },
          "yaxis": {
           "automargin": true,
           "gridcolor": "white",
           "linecolor": "white",
           "ticks": "",
           "title": {
            "standoff": 15
           },
           "zerolinecolor": "white",
           "zerolinewidth": 2
          }
         }
        },
        "xaxis": {
         "anchor": "y",
         "domain": [
          0,
          1
         ],
         "title": {
          "text": "0"
         }
        },
        "yaxis": {
         "anchor": "x",
         "domain": [
          0,
          1
         ],
         "title": {
          "text": "1"
         }
        }
       }
      }
     },
     "metadata": {},
     "output_type": "display_data"
    }
   ],
   "source": [
    "import plotly.express as px\n",
    "from sklearn.decomposition import PCA\n",
    "from sklearn.preprocessing import StandardScaler\n",
    "model = LinearDiscriminantAnalysis(n_components=4)\n",
    "y2=[]\n",
    "for i in range(24):\n",
    "    y2.append('DNA')\n",
    "for j in range(24):\n",
    "    y2.append('MT')\n",
    "for k in range(24):\n",
    "    y2.append('HSP')\n",
    "for m in range(24):\n",
    "    y2.append('PROT')\n",
    "for n in range(24):\n",
    "    y2.append('HDAC')\n",
    "for k in range(48):\n",
    "    y2.append(\"DMSO\")\n",
    "#model.fit(X_drug, y)\n",
    "#X_drug2 = model.transform(X_drug)\n",
    "X_drug3=training.iloc[:,2:240].values\n",
    "X_drug3=model.fit(X_drug3,y2).transform(X_drug3)\n",
    "fig = px.scatter(X_drug3, x=0, y=1, color=training['drug_name'])\n",
    "fig.show()\n",
    "#these 5 groups are very clearly separated, as we can see in the image"
   ]
  },
  {
   "cell_type": "code",
   "execution_count": 32,
   "metadata": {},
   "outputs": [],
   "source": [
    "# Create a function\n",
    "def select_n_components(var_ratio, goal_var: float) -> int:\n",
    "    # Set initial variance explained so far\n",
    "    total_variance = 0.0\n",
    "    \n",
    "    # Set initial number of features\n",
    "    n_components = 0\n",
    "    \n",
    "    # For the explained variance of each feature:\n",
    "    for explained_variance in var_ratio:\n",
    "        \n",
    "        # Add the explained variance to the total\n",
    "        total_variance += explained_variance\n",
    "        \n",
    "        # Add one to the number of components\n",
    "        n_components += 1\n",
    "        \n",
    "        # If we reach our goal level of explained variance\n",
    "        if total_variance >= goal_var:\n",
    "            # End the loop\n",
    "            break\n",
    "            \n",
    "    # Return the number of components\n",
    "    return n_components"
   ]
  },
  {
   "cell_type": "code",
   "execution_count": 33,
   "metadata": {},
   "outputs": [],
   "source": [
    "lda = LinearDiscriminantAnalysis(n_components=None)\n",
    "y5=[]\n",
    "for i in range(18):\n",
    "    y5.append('DNA')\n",
    "for j in range(18):\n",
    "    y5.append(\"MT\")\n",
    "for k in range(18):\n",
    "    y5.append(\"HSP\")\n",
    "for m in range(18):\n",
    "    y5.append(\"PROT\")\n",
    "for n in range(18):\n",
    "    y5.append(\"HDAC\")\n",
    "for k in range(42):\n",
    "    y5.append(\"DMSO\")\n",
    "\n",
    "X_lda=lda.fit(X_training,y5)\n"
   ]
  },
  {
   "cell_type": "code",
   "execution_count": 34,
   "metadata": {},
   "outputs": [
    {
     "data": {
      "text/plain": [
       "array([0.47138848, 0.26083963, 0.16057942, 0.10719246])"
      ]
     },
     "execution_count": 34,
     "metadata": {},
     "output_type": "execute_result"
    }
   ],
   "source": [
    "# Create array of explained variance ratios\n",
    "lda_var_ratios = lda.explained_variance_ratio_\n",
    "lda_var_ratios"
   ]
  },
  {
   "cell_type": "code",
   "execution_count": 35,
   "metadata": {},
   "outputs": [
    {
     "name": "stdout",
     "output_type": "stream",
     "text": [
      "4\n",
      "3\n",
      "3\n",
      "2\n",
      "1\n"
     ]
    }
   ],
   "source": [
    "# Run function\n",
    "print(select_n_components(lda_var_ratios, 0.95))\n",
    "print(select_n_components(lda_var_ratios, 0.85))\n",
    "print(select_n_components(lda_var_ratios, 0.75))\n",
    "print(select_n_components(lda_var_ratios, 0.65))\n",
    "print(select_n_components(lda_var_ratios, 0.35))\n"
   ]
  },
  {
   "cell_type": "code",
   "execution_count": 36,
   "metadata": {},
   "outputs": [
    {
     "data": {
      "text/html": [
       "<div>\n",
       "<style scoped>\n",
       "    .dataframe tbody tr th:only-of-type {\n",
       "        vertical-align: middle;\n",
       "    }\n",
       "\n",
       "    .dataframe tbody tr th {\n",
       "        vertical-align: top;\n",
       "    }\n",
       "\n",
       "    .dataframe thead th {\n",
       "        text-align: right;\n",
       "    }\n",
       "</style>\n",
       "<table border=\"1\" class=\"dataframe\">\n",
       "  <thead>\n",
       "    <tr style=\"text-align: right;\">\n",
       "      <th></th>\n",
       "      <th>principal component 1</th>\n",
       "      <th>principal component 2</th>\n",
       "      <th>principal component 3</th>\n",
       "      <th>principal component 4</th>\n",
       "    </tr>\n",
       "  </thead>\n",
       "  <tbody>\n",
       "    <tr>\n",
       "      <th>0</th>\n",
       "      <td>8.135686</td>\n",
       "      <td>-0.599061</td>\n",
       "      <td>4.272090</td>\n",
       "      <td>3.963843</td>\n",
       "    </tr>\n",
       "    <tr>\n",
       "      <th>1</th>\n",
       "      <td>7.101879</td>\n",
       "      <td>-0.244859</td>\n",
       "      <td>3.572983</td>\n",
       "      <td>5.052534</td>\n",
       "    </tr>\n",
       "    <tr>\n",
       "      <th>2</th>\n",
       "      <td>7.525829</td>\n",
       "      <td>0.710095</td>\n",
       "      <td>3.693703</td>\n",
       "      <td>4.943005</td>\n",
       "    </tr>\n",
       "    <tr>\n",
       "      <th>3</th>\n",
       "      <td>8.585531</td>\n",
       "      <td>0.720823</td>\n",
       "      <td>3.113446</td>\n",
       "      <td>4.579971</td>\n",
       "    </tr>\n",
       "    <tr>\n",
       "      <th>4</th>\n",
       "      <td>7.585193</td>\n",
       "      <td>0.148029</td>\n",
       "      <td>1.611679</td>\n",
       "      <td>3.094811</td>\n",
       "    </tr>\n",
       "    <tr>\n",
       "      <th>...</th>\n",
       "      <td>...</td>\n",
       "      <td>...</td>\n",
       "      <td>...</td>\n",
       "      <td>...</td>\n",
       "    </tr>\n",
       "    <tr>\n",
       "      <th>163</th>\n",
       "      <td>-10.047273</td>\n",
       "      <td>0.738590</td>\n",
       "      <td>1.147129</td>\n",
       "      <td>0.291324</td>\n",
       "    </tr>\n",
       "    <tr>\n",
       "      <th>164</th>\n",
       "      <td>-9.281311</td>\n",
       "      <td>-0.066942</td>\n",
       "      <td>1.446367</td>\n",
       "      <td>0.117489</td>\n",
       "    </tr>\n",
       "    <tr>\n",
       "      <th>165</th>\n",
       "      <td>-7.078092</td>\n",
       "      <td>-0.233108</td>\n",
       "      <td>-0.703078</td>\n",
       "      <td>0.737991</td>\n",
       "    </tr>\n",
       "    <tr>\n",
       "      <th>166</th>\n",
       "      <td>-8.580074</td>\n",
       "      <td>0.103565</td>\n",
       "      <td>2.372221</td>\n",
       "      <td>1.109327</td>\n",
       "    </tr>\n",
       "    <tr>\n",
       "      <th>167</th>\n",
       "      <td>-7.760430</td>\n",
       "      <td>0.367346</td>\n",
       "      <td>2.240342</td>\n",
       "      <td>0.145749</td>\n",
       "    </tr>\n",
       "  </tbody>\n",
       "</table>\n",
       "<p>168 rows × 4 columns</p>\n",
       "</div>"
      ],
      "text/plain": [
       "     principal component 1  principal component 2  principal component 3  \\\n",
       "0                 8.135686              -0.599061               4.272090   \n",
       "1                 7.101879              -0.244859               3.572983   \n",
       "2                 7.525829               0.710095               3.693703   \n",
       "3                 8.585531               0.720823               3.113446   \n",
       "4                 7.585193               0.148029               1.611679   \n",
       "..                     ...                    ...                    ...   \n",
       "163             -10.047273               0.738590               1.147129   \n",
       "164              -9.281311              -0.066942               1.446367   \n",
       "165              -7.078092              -0.233108              -0.703078   \n",
       "166              -8.580074               0.103565               2.372221   \n",
       "167              -7.760430               0.367346               2.240342   \n",
       "\n",
       "     principal component 4  \n",
       "0                 3.963843  \n",
       "1                 5.052534  \n",
       "2                 4.943005  \n",
       "3                 4.579971  \n",
       "4                 3.094811  \n",
       "..                     ...  \n",
       "163               0.291324  \n",
       "164               0.117489  \n",
       "165               0.737991  \n",
       "166               1.109327  \n",
       "167               0.145749  \n",
       "\n",
       "[168 rows x 4 columns]"
      ]
     },
     "execution_count": 36,
     "metadata": {},
     "output_type": "execute_result"
    }
   ],
   "source": [
    "#pca_drug = PCA(n_components=6)\n",
    "#components = pca_drug.fit_transform(X_drug)\n",
    "principalDf = pd.DataFrame(data = X_drug2\n",
    "             , columns =['principal component 1', 'principal component 2','principal component 3','principal component 4'])\n",
    "principalDf"
   ]
  },
  {
   "cell_type": "code",
   "execution_count": 37,
   "metadata": {},
   "outputs": [
    {
     "data": {
      "text/html": [
       "<div>\n",
       "<style scoped>\n",
       "    .dataframe tbody tr th:only-of-type {\n",
       "        vertical-align: middle;\n",
       "    }\n",
       "\n",
       "    .dataframe tbody tr th {\n",
       "        vertical-align: top;\n",
       "    }\n",
       "\n",
       "    .dataframe thead th {\n",
       "        text-align: right;\n",
       "    }\n",
       "</style>\n",
       "<table border=\"1\" class=\"dataframe\">\n",
       "  <thead>\n",
       "    <tr style=\"text-align: right;\">\n",
       "      <th></th>\n",
       "      <th>drug_name</th>\n",
       "      <th>default</th>\n",
       "      <th>ks1</th>\n",
       "      <th>ks2</th>\n",
       "      <th>ks3</th>\n",
       "      <th>ks4</th>\n",
       "      <th>ks5</th>\n",
       "      <th>ks6</th>\n",
       "      <th>ks7</th>\n",
       "      <th>ks8</th>\n",
       "      <th>...</th>\n",
       "      <th>ks229</th>\n",
       "      <th>ks230</th>\n",
       "      <th>ks231</th>\n",
       "      <th>ks232</th>\n",
       "      <th>ks233</th>\n",
       "      <th>ks234</th>\n",
       "      <th>ks235</th>\n",
       "      <th>ks236</th>\n",
       "      <th>ks237</th>\n",
       "      <th>ks238</th>\n",
       "    </tr>\n",
       "  </thead>\n",
       "  <tbody>\n",
       "    <tr>\n",
       "      <th>12</th>\n",
       "      <td>Etoposide+Gemcitabine+1</td>\n",
       "      <td>0</td>\n",
       "      <td>-0.639170</td>\n",
       "      <td>-0.144250</td>\n",
       "      <td>0.148430</td>\n",
       "      <td>-0.206640</td>\n",
       "      <td>-0.365490</td>\n",
       "      <td>-0.116250</td>\n",
       "      <td>0.160770</td>\n",
       "      <td>0.205180</td>\n",
       "      <td>...</td>\n",
       "      <td>0.247910</td>\n",
       "      <td>0.142580</td>\n",
       "      <td>-0.400640</td>\n",
       "      <td>0.383250</td>\n",
       "      <td>0.333460</td>\n",
       "      <td>0.142580</td>\n",
       "      <td>-0.582600</td>\n",
       "      <td>-0.645280</td>\n",
       "      <td>-0.255230</td>\n",
       "      <td>0.406690</td>\n",
       "    </tr>\n",
       "    <tr>\n",
       "      <th>14</th>\n",
       "      <td>Etoposide+Gemcitabine+2</td>\n",
       "      <td>0</td>\n",
       "      <td>-0.565830</td>\n",
       "      <td>-0.148970</td>\n",
       "      <td>-0.173080</td>\n",
       "      <td>-0.251080</td>\n",
       "      <td>-0.377400</td>\n",
       "      <td>-0.185960</td>\n",
       "      <td>-0.166540</td>\n",
       "      <td>-0.149940</td>\n",
       "      <td>...</td>\n",
       "      <td>0.235990</td>\n",
       "      <td>0.189400</td>\n",
       "      <td>-0.425990</td>\n",
       "      <td>0.397740</td>\n",
       "      <td>0.312770</td>\n",
       "      <td>0.189400</td>\n",
       "      <td>-0.506840</td>\n",
       "      <td>-0.601820</td>\n",
       "      <td>-0.194810</td>\n",
       "      <td>0.441380</td>\n",
       "    </tr>\n",
       "    <tr>\n",
       "      <th>16</th>\n",
       "      <td>Etoposide+Gemcitabine+3</td>\n",
       "      <td>0</td>\n",
       "      <td>-0.535830</td>\n",
       "      <td>0.097875</td>\n",
       "      <td>-0.143150</td>\n",
       "      <td>-0.098313</td>\n",
       "      <td>-0.125500</td>\n",
       "      <td>-0.143980</td>\n",
       "      <td>-0.158160</td>\n",
       "      <td>-0.148350</td>\n",
       "      <td>...</td>\n",
       "      <td>0.278330</td>\n",
       "      <td>0.256040</td>\n",
       "      <td>-0.286360</td>\n",
       "      <td>0.501470</td>\n",
       "      <td>0.430570</td>\n",
       "      <td>0.256040</td>\n",
       "      <td>-0.341480</td>\n",
       "      <td>-0.440620</td>\n",
       "      <td>-0.227430</td>\n",
       "      <td>0.318870</td>\n",
       "    </tr>\n",
       "    <tr>\n",
       "      <th>18</th>\n",
       "      <td>Etoposide+Gemcitabine+4</td>\n",
       "      <td>0</td>\n",
       "      <td>-0.459460</td>\n",
       "      <td>0.090733</td>\n",
       "      <td>-0.140140</td>\n",
       "      <td>-0.069508</td>\n",
       "      <td>-0.167160</td>\n",
       "      <td>-0.150810</td>\n",
       "      <td>-0.136360</td>\n",
       "      <td>-0.125550</td>\n",
       "      <td>...</td>\n",
       "      <td>0.233550</td>\n",
       "      <td>0.226280</td>\n",
       "      <td>-0.173630</td>\n",
       "      <td>0.437650</td>\n",
       "      <td>0.405720</td>\n",
       "      <td>0.226280</td>\n",
       "      <td>-0.291770</td>\n",
       "      <td>-0.360490</td>\n",
       "      <td>-0.117630</td>\n",
       "      <td>0.212030</td>\n",
       "    </tr>\n",
       "    <tr>\n",
       "      <th>20</th>\n",
       "      <td>Etoposide+Gemcitabine+5</td>\n",
       "      <td>0</td>\n",
       "      <td>-0.098333</td>\n",
       "      <td>-0.079680</td>\n",
       "      <td>-0.120000</td>\n",
       "      <td>-0.084225</td>\n",
       "      <td>-0.170440</td>\n",
       "      <td>-0.116250</td>\n",
       "      <td>-0.111180</td>\n",
       "      <td>-0.106920</td>\n",
       "      <td>...</td>\n",
       "      <td>0.057003</td>\n",
       "      <td>0.043050</td>\n",
       "      <td>-0.099577</td>\n",
       "      <td>0.082478</td>\n",
       "      <td>0.064693</td>\n",
       "      <td>0.043050</td>\n",
       "      <td>-0.115180</td>\n",
       "      <td>-0.164870</td>\n",
       "      <td>-0.083051</td>\n",
       "      <td>0.098872</td>\n",
       "    </tr>\n",
       "    <tr>\n",
       "      <th>...</th>\n",
       "      <td>...</td>\n",
       "      <td>...</td>\n",
       "      <td>...</td>\n",
       "      <td>...</td>\n",
       "      <td>...</td>\n",
       "      <td>...</td>\n",
       "      <td>...</td>\n",
       "      <td>...</td>\n",
       "      <td>...</td>\n",
       "      <td>...</td>\n",
       "      <td>...</td>\n",
       "      <td>...</td>\n",
       "      <td>...</td>\n",
       "      <td>...</td>\n",
       "      <td>...</td>\n",
       "      <td>...</td>\n",
       "      <td>...</td>\n",
       "      <td>...</td>\n",
       "      <td>...</td>\n",
       "      <td>...</td>\n",
       "      <td>...</td>\n",
       "    </tr>\n",
       "    <tr>\n",
       "      <th>383</th>\n",
       "      <td>DMSO+DMSO+6</td>\n",
       "      <td>0</td>\n",
       "      <td>-0.129050</td>\n",
       "      <td>0.078132</td>\n",
       "      <td>0.097199</td>\n",
       "      <td>-0.068729</td>\n",
       "      <td>0.096897</td>\n",
       "      <td>0.102080</td>\n",
       "      <td>0.093429</td>\n",
       "      <td>0.100230</td>\n",
       "      <td>...</td>\n",
       "      <td>0.097303</td>\n",
       "      <td>-0.026349</td>\n",
       "      <td>0.047503</td>\n",
       "      <td>0.100560</td>\n",
       "      <td>0.102540</td>\n",
       "      <td>-0.026349</td>\n",
       "      <td>-0.098545</td>\n",
       "      <td>-0.087436</td>\n",
       "      <td>-0.028672</td>\n",
       "      <td>-0.040644</td>\n",
       "    </tr>\n",
       "    <tr>\n",
       "      <th>754</th>\n",
       "      <td>DMSO+DMSO+6</td>\n",
       "      <td>0</td>\n",
       "      <td>-0.034270</td>\n",
       "      <td>-0.046098</td>\n",
       "      <td>-0.097904</td>\n",
       "      <td>0.034439</td>\n",
       "      <td>-0.085415</td>\n",
       "      <td>-0.097073</td>\n",
       "      <td>-0.092850</td>\n",
       "      <td>-0.082848</td>\n",
       "      <td>...</td>\n",
       "      <td>0.032324</td>\n",
       "      <td>-0.039492</td>\n",
       "      <td>-0.054502</td>\n",
       "      <td>0.027212</td>\n",
       "      <td>0.034754</td>\n",
       "      <td>-0.039492</td>\n",
       "      <td>0.023565</td>\n",
       "      <td>-0.032719</td>\n",
       "      <td>-0.018783</td>\n",
       "      <td>0.055371</td>\n",
       "    </tr>\n",
       "    <tr>\n",
       "      <th>755</th>\n",
       "      <td>DMSO+DMSO+6</td>\n",
       "      <td>0</td>\n",
       "      <td>0.019024</td>\n",
       "      <td>0.023192</td>\n",
       "      <td>0.029223</td>\n",
       "      <td>-0.034336</td>\n",
       "      <td>0.032044</td>\n",
       "      <td>0.033690</td>\n",
       "      <td>0.022005</td>\n",
       "      <td>0.020924</td>\n",
       "      <td>...</td>\n",
       "      <td>-0.026061</td>\n",
       "      <td>-0.045560</td>\n",
       "      <td>0.022520</td>\n",
       "      <td>-0.030191</td>\n",
       "      <td>-0.029522</td>\n",
       "      <td>-0.045560</td>\n",
       "      <td>-0.022733</td>\n",
       "      <td>0.033174</td>\n",
       "      <td>0.031173</td>\n",
       "      <td>-0.021555</td>\n",
       "    </tr>\n",
       "    <tr>\n",
       "      <th>766</th>\n",
       "      <td>DMSO+DMSO+6</td>\n",
       "      <td>0</td>\n",
       "      <td>-0.030833</td>\n",
       "      <td>0.077126</td>\n",
       "      <td>0.073685</td>\n",
       "      <td>-0.074497</td>\n",
       "      <td>0.120190</td>\n",
       "      <td>0.088412</td>\n",
       "      <td>0.060566</td>\n",
       "      <td>0.061987</td>\n",
       "      <td>...</td>\n",
       "      <td>0.047312</td>\n",
       "      <td>0.025392</td>\n",
       "      <td>0.050416</td>\n",
       "      <td>0.048214</td>\n",
       "      <td>0.050098</td>\n",
       "      <td>0.025392</td>\n",
       "      <td>-0.034964</td>\n",
       "      <td>0.035534</td>\n",
       "      <td>0.019352</td>\n",
       "      <td>-0.049585</td>\n",
       "    </tr>\n",
       "    <tr>\n",
       "      <th>767</th>\n",
       "      <td>DMSO+DMSO+6</td>\n",
       "      <td>0</td>\n",
       "      <td>-0.043897</td>\n",
       "      <td>0.060833</td>\n",
       "      <td>0.078476</td>\n",
       "      <td>-0.077643</td>\n",
       "      <td>0.127950</td>\n",
       "      <td>0.091221</td>\n",
       "      <td>0.064554</td>\n",
       "      <td>0.068872</td>\n",
       "      <td>...</td>\n",
       "      <td>0.066944</td>\n",
       "      <td>-0.058880</td>\n",
       "      <td>0.035480</td>\n",
       "      <td>0.047912</td>\n",
       "      <td>0.052508</td>\n",
       "      <td>-0.058880</td>\n",
       "      <td>-0.060345</td>\n",
       "      <td>-0.047938</td>\n",
       "      <td>0.052710</td>\n",
       "      <td>-0.036019</td>\n",
       "    </tr>\n",
       "  </tbody>\n",
       "</table>\n",
       "<p>168 rows × 240 columns</p>\n",
       "</div>"
      ],
      "text/plain": [
       "                   drug_name  default       ks1       ks2       ks3       ks4  \\\n",
       "12   Etoposide+Gemcitabine+1        0 -0.639170 -0.144250  0.148430 -0.206640   \n",
       "14   Etoposide+Gemcitabine+2        0 -0.565830 -0.148970 -0.173080 -0.251080   \n",
       "16   Etoposide+Gemcitabine+3        0 -0.535830  0.097875 -0.143150 -0.098313   \n",
       "18   Etoposide+Gemcitabine+4        0 -0.459460  0.090733 -0.140140 -0.069508   \n",
       "20   Etoposide+Gemcitabine+5        0 -0.098333 -0.079680 -0.120000 -0.084225   \n",
       "..                       ...      ...       ...       ...       ...       ...   \n",
       "383              DMSO+DMSO+6        0 -0.129050  0.078132  0.097199 -0.068729   \n",
       "754              DMSO+DMSO+6        0 -0.034270 -0.046098 -0.097904  0.034439   \n",
       "755              DMSO+DMSO+6        0  0.019024  0.023192  0.029223 -0.034336   \n",
       "766              DMSO+DMSO+6        0 -0.030833  0.077126  0.073685 -0.074497   \n",
       "767              DMSO+DMSO+6        0 -0.043897  0.060833  0.078476 -0.077643   \n",
       "\n",
       "          ks5       ks6       ks7       ks8  ...     ks229     ks230  \\\n",
       "12  -0.365490 -0.116250  0.160770  0.205180  ...  0.247910  0.142580   \n",
       "14  -0.377400 -0.185960 -0.166540 -0.149940  ...  0.235990  0.189400   \n",
       "16  -0.125500 -0.143980 -0.158160 -0.148350  ...  0.278330  0.256040   \n",
       "18  -0.167160 -0.150810 -0.136360 -0.125550  ...  0.233550  0.226280   \n",
       "20  -0.170440 -0.116250 -0.111180 -0.106920  ...  0.057003  0.043050   \n",
       "..        ...       ...       ...       ...  ...       ...       ...   \n",
       "383  0.096897  0.102080  0.093429  0.100230  ...  0.097303 -0.026349   \n",
       "754 -0.085415 -0.097073 -0.092850 -0.082848  ...  0.032324 -0.039492   \n",
       "755  0.032044  0.033690  0.022005  0.020924  ... -0.026061 -0.045560   \n",
       "766  0.120190  0.088412  0.060566  0.061987  ...  0.047312  0.025392   \n",
       "767  0.127950  0.091221  0.064554  0.068872  ...  0.066944 -0.058880   \n",
       "\n",
       "        ks231     ks232     ks233     ks234     ks235     ks236     ks237  \\\n",
       "12  -0.400640  0.383250  0.333460  0.142580 -0.582600 -0.645280 -0.255230   \n",
       "14  -0.425990  0.397740  0.312770  0.189400 -0.506840 -0.601820 -0.194810   \n",
       "16  -0.286360  0.501470  0.430570  0.256040 -0.341480 -0.440620 -0.227430   \n",
       "18  -0.173630  0.437650  0.405720  0.226280 -0.291770 -0.360490 -0.117630   \n",
       "20  -0.099577  0.082478  0.064693  0.043050 -0.115180 -0.164870 -0.083051   \n",
       "..        ...       ...       ...       ...       ...       ...       ...   \n",
       "383  0.047503  0.100560  0.102540 -0.026349 -0.098545 -0.087436 -0.028672   \n",
       "754 -0.054502  0.027212  0.034754 -0.039492  0.023565 -0.032719 -0.018783   \n",
       "755  0.022520 -0.030191 -0.029522 -0.045560 -0.022733  0.033174  0.031173   \n",
       "766  0.050416  0.048214  0.050098  0.025392 -0.034964  0.035534  0.019352   \n",
       "767  0.035480  0.047912  0.052508 -0.058880 -0.060345 -0.047938  0.052710   \n",
       "\n",
       "        ks238  \n",
       "12   0.406690  \n",
       "14   0.441380  \n",
       "16   0.318870  \n",
       "18   0.212030  \n",
       "20   0.098872  \n",
       "..        ...  \n",
       "383 -0.040644  \n",
       "754  0.055371  \n",
       "755 -0.021555  \n",
       "766 -0.049585  \n",
       "767 -0.036019  \n",
       "\n",
       "[168 rows x 240 columns]"
      ]
     },
     "execution_count": 37,
     "metadata": {},
     "output_type": "execute_result"
    }
   ],
   "source": [
    "training"
   ]
  },
  {
   "cell_type": "code",
   "execution_count": 38,
   "metadata": {},
   "outputs": [
    {
     "name": "stdout",
     "output_type": "stream",
     "text": [
      "['DNA' 'DNA' 'DNA' 'DNA' 'DNA' 'DNA' 'MT' 'MT' 'MT' 'MT' 'MT' 'MT' 'HSP'\n",
      " 'HSP' 'HSP' 'HSP' 'HSP' 'HSP' 'PROT' 'PROT' 'PROT' 'PROT' 'PROT' 'PROT'\n",
      " 'HDAC' 'HDAC' 'HDAC' 'HDAC' 'HDAC' 'HDAC' 'DMSO' 'DMSO' 'DMSO' 'DMSO'\n",
      " 'DMSO' 'DMSO']\n",
      "1.0\n"
     ]
    }
   ],
   "source": [
    "#knn\n",
    "from sklearn.neighbors import KNeighborsClassifier\n",
    "from sklearn.metrics import accuracy_score\n",
    "knn5 = KNeighborsClassifier(n_neighbors=20)\n",
    "knn5.fit(X_training, y)\n",
    "y_pred_5 = knn5.predict(X_testing)\n",
    "print(y_pred_5)\n",
    "print(accuracy(y_pred_5,['DNA',\"MT\",\"HSP\",\"PROT\",\"HDAC\",\"DMSO\"]))\n",
    "#print(\"Accuracy with k=5\", accuracy_score(y_test, y_pred_5)*100)"
   ]
  },
  {
   "cell_type": "code",
   "execution_count": 39,
   "metadata": {},
   "outputs": [
    {
     "name": "stdout",
     "output_type": "stream",
     "text": [
      "168\n"
     ]
    }
   ],
   "source": [
    "import numpy as np\n",
    "all_list2=[]\n",
    "for i in range(len(all_list)):\n",
    "    all_list2.append(np.ndarray.tolist(all_list[i]))\n",
    "\n",
    "print(len(all_list2))"
   ]
  },
  {
   "cell_type": "code",
   "execution_count": 40,
   "metadata": {},
   "outputs": [],
   "source": [
    "#starts with bootstrap sampling\n",
    "#24,24,24,24,24,48\n",
    "#6,6,6,6,6,12\n",
    "\n",
    "\n",
    "import random\n",
    "def bootstrap(all_list):\n",
    "    part1=all_list[:24]\n",
    "    \n",
    "    part2=all_list[24:48]\n",
    "    part3=all_list[48:72]\n",
    "    part4=all_list[72:96]\n",
    "    part5=all_list[96:120]\n",
    "    part6=all_list[120:168]\n",
    "\n",
    "    testing_data=[]\n",
    "    toremovelst=[]\n",
    "    testing_data2=[]\n",
    "    toremovelst2=[]\n",
    "    testing_data3=[]\n",
    "    toremovelst3=[]\n",
    "    testing_data4=[]\n",
    "    toremovelst4=[]\n",
    "    testing_data5=[]\n",
    "    toremovelst5=[]\n",
    "    testing_data6=[]\n",
    "    toremovelst6=[]\n",
    "    #1\n",
    "    \n",
    "    \n",
    "    toremoveindexlst=random.sample(range(24), 6)\n",
    "    for i in range(len(toremoveindexlst)):\n",
    "        toremoveindex=toremoveindexlst[i]\n",
    "\n",
    "        target=part1[toremoveindex]\n",
    "        toremovelst.append(target)\n",
    "        testing_data.append(target)\n",
    "    \n",
    "        \n",
    "    for i in range(len(toremovelst)):\n",
    "        part1.remove(toremovelst[i])\n",
    "    #2\n",
    "    toremoveindexlst2=random.sample(range(24), 6)\n",
    "    for i in range(len(toremoveindexlst2)):\n",
    "        toremoveindex2=toremoveindexlst2[i]\n",
    "\n",
    "        target2=part2[toremoveindex2]\n",
    "        toremovelst2.append(target2)\n",
    "        testing_data.append(target2)\n",
    "    \n",
    "        \n",
    "    for i in range(len(toremovelst2)):\n",
    "        part2.remove(toremovelst2[i])\n",
    "    #3\n",
    "    toremoveindexlst3=random.sample(range(24), 6)\n",
    "    for i in range(len(toremoveindexlst3)):\n",
    "        toremoveindex3=toremoveindexlst3[i]\n",
    "\n",
    "        target3=part3[toremoveindex3]\n",
    "        toremovelst3.append(target3)\n",
    "        testing_data.append(target3)\n",
    "\n",
    "    for i in range(len(toremovelst3)):\n",
    "        part3.remove(toremovelst3[i])\n",
    "    #4\n",
    "    toremoveindexlst4=random.sample(range(24), 6)\n",
    "    for i in range(len(toremoveindexlst4)):\n",
    "        toremoveindex4=toremoveindexlst4[i]\n",
    "\n",
    "        target4=part4[toremoveindex4]\n",
    "        toremovelst4.append(target4)\n",
    "        testing_data.append(target4)\n",
    "        \n",
    "    for i in range(len(toremovelst4)):\n",
    "        part4.remove(toremovelst4[i])\n",
    "    #5\n",
    "    toremoveindexlst5=random.sample(range(24), 6)\n",
    "    for i in range(len(toremoveindexlst5)):\n",
    "        toremoveindex5=toremoveindexlst5[i]\n",
    "\n",
    "        target5=part5[toremoveindex5]\n",
    "        toremovelst5.append(target5)\n",
    "        testing_data.append(target5)\n",
    "\n",
    "    for i in range(len(toremovelst5)):\n",
    "        part5.remove(toremovelst5[i])\n",
    "\n",
    "    #6\n",
    "    toremoveindexlst6=random.sample(range(48), 12)\n",
    "    for i in range(len(toremoveindexlst6)):\n",
    "        toremoveindex6=toremoveindexlst6[i]\n",
    "\n",
    "        target6=part6[toremoveindex6]\n",
    "        toremovelst6.append(target6)\n",
    "        testing_data.append(target6)\n",
    "    \n",
    "        \n",
    "    for i in range(len(toremovelst6)):\n",
    "        part6.remove(toremovelst6[i])\n",
    "    \n",
    "    \n",
    "        \n",
    "\n",
    "\n",
    "\n",
    "\n",
    "\n",
    "        \n",
    "    \n",
    "    \n",
    "\n",
    "\n",
    "\n",
    "\n",
    "\n",
    "    return part1,part2,part3,part4,part5,part6,testing_data\n",
    "\n"
   ]
  },
  {
   "cell_type": "code",
   "execution_count": 41,
   "metadata": {},
   "outputs": [],
   "source": [
    "part1,part2,part3,part4,part5,part6,testing_data=bootstrap(all_list2)\n",
    "\n"
   ]
  },
  {
   "cell_type": "code",
   "execution_count": 42,
   "metadata": {},
   "outputs": [
    {
     "name": "stdout",
     "output_type": "stream",
     "text": [
      "126 36\n"
     ]
    }
   ],
   "source": [
    "training_data=part1+part2+part3+part4+part5+part6\n",
    "print(len(training_data),len(part6))\n",
    "y6=[]\n",
    "for i in range(18):\n",
    "    y6.append('DNA')\n",
    "for j in range(18):\n",
    "    y6.append(\"MT\")\n",
    "for k in range(18):\n",
    "    y6.append(\"HSP\")\n",
    "for m in range(18):\n",
    "    y6.append(\"PROT\")\n",
    "for n in range(18):\n",
    "    y6.append(\"HDAC\")\n",
    "for k in range(36):\n",
    "    y6.append(\"DMSO\")"
   ]
  },
  {
   "cell_type": "code",
   "execution_count": 43,
   "metadata": {},
   "outputs": [
    {
     "name": "stdout",
     "output_type": "stream",
     "text": [
      "['DNA' 'DNA' 'DNA' 'DNA' 'DNA' 'DNA' 'MT' 'MT' 'MT' 'MT' 'MT' 'MT' 'HSP'\n",
      " 'HSP' 'HSP' 'HSP' 'HSP' 'HSP' 'PROT' 'PROT' 'PROT' 'PROT' 'PROT' 'PROT'\n",
      " 'HDAC' 'HDAC' 'HDAC' 'HDAC' 'HDAC' 'HDAC' 'DMSO' 'DMSO' 'DMSO' 'DMSO'\n",
      " 'DMSO' 'DMSO']\n",
      "36\n"
     ]
    }
   ],
   "source": [
    "model6 = LinearDiscriminantAnalysis(n_components=4)\n",
    "model6.fit(training_data,y6)\n",
    "yhat6=model6.predict(X_testing)\n",
    "\n",
    "print(yhat6)\n",
    "print(len(yhat6))"
   ]
  },
  {
   "cell_type": "code",
   "execution_count": 44,
   "metadata": {},
   "outputs": [],
   "source": [
    "def accuracy2(list1,list2):\n",
    "    length=len(list1)\n",
    "    list3=[]\n",
    "    for i in range(6):\n",
    "        list3.append(list2[0])\n",
    "    for j in range(6):\n",
    "        list3.append(list2[1])\n",
    "    for m in range(6):\n",
    "        list3.append(list2[2])\n",
    "    for n in range(6):\n",
    "        list3.append(list2[3])\n",
    "    for k in range(6):\n",
    "        list3.append(list2[4])\n",
    "    for k in range(12):\n",
    "        list3.append(list2[5])\n",
    "\n",
    "    counter=0\n",
    "    for k in range(len(list1)):\n",
    "\n",
    "        if list1[k]==list3[k]:\n",
    "            counter+=1\n",
    "    return counter/length\n",
    "\n"
   ]
  },
  {
   "cell_type": "code",
   "execution_count": 45,
   "metadata": {},
   "outputs": [],
   "source": [
    "a1=accuracy2(yhat6,[\"DNA\",\"MT\",\"HSP\",\"PROT\",\"HDAC\",\"DMSO\"])\n"
   ]
  },
  {
   "cell_type": "code",
   "execution_count": 46,
   "metadata": {},
   "outputs": [],
   "source": [
    "#bootstrap "
   ]
  },
  {
   "cell_type": "code",
   "execution_count": 47,
   "metadata": {},
   "outputs": [],
   "source": [
    "#just to predict, then we will know the effects of bootstrap sampling\n",
    "accuracylst=[]\n",
    "def bootstrap_predict_accuracy():\n",
    "    part1,part2,part3,part4,part5,part6,testing_data=bootstrap(all_list2)\n",
    "    training_data=part1+part2+part3+part4+part5+part6\n",
    "\n",
    "\n",
    "    model6 = LinearDiscriminantAnalysis(n_components=4)\n",
    "    model6.fit(training_data,y6)\n",
    "    yhat6=model6.predict(X_testing)\n",
    "    a=accuracy2(yhat6,[\"DNA\",\"MT\",\"HSP\",\"PROT\",\"HDAC\",\"DMSO\"])\n",
    "\n",
    "\n",
    "    accuracylst.append(a)\n",
    "\n",
    "for i in range(10):\n",
    "    bootstrap_predict_accuracy()\n",
    "ave_accuracy=sum(accuracylst)/len(accuracylst)\n",
    "\n",
    "    "
   ]
  },
  {
   "cell_type": "code",
   "execution_count": 48,
   "metadata": {},
   "outputs": [
    {
     "data": {
      "text/plain": [
       "1.0"
      ]
     },
     "execution_count": 48,
     "metadata": {},
     "output_type": "execute_result"
    }
   ],
   "source": [
    "ave_accuracy"
   ]
  }
 ],
 "metadata": {
  "kernelspec": {
   "display_name": "Python 3.8.5 ('base')",
   "language": "python",
   "name": "python3"
  },
  "language_info": {
   "codemirror_mode": {
    "name": "ipython",
    "version": 3
   },
   "file_extension": ".py",
   "mimetype": "text/x-python",
   "name": "python",
   "nbconvert_exporter": "python",
   "pygments_lexer": "ipython3",
   "version": "3.8.5"
  },
  "vscode": {
   "interpreter": {
    "hash": "40d3a090f54c6569ab1632332b64b2c03c39dcf918b08424e98f38b5ae0af88f"
   }
  }
 },
 "nbformat": 4,
 "nbformat_minor": 4
}

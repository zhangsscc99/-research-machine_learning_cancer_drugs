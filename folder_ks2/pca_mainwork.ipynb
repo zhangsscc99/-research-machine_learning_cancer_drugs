{
 "cells": [
  {
   "cell_type": "code",
   "execution_count": 1,
   "metadata": {},
   "outputs": [],
   "source": [
    "#a code block that deals with concentration and drug names\n",
    "#we do not use this block for now.\n",
    "\n",
    "import pandas as pd\n",
    "f1 = pd.read_csv('B.csv')\n",
    "f2 = pd.read_csv('C.csv')\n",
    "f3=pd.read_csv('D.csv')\n",
    "f4=pd.read_csv('E.csv')\n",
    "f5=pd.read_csv('A_ks2.csv')\n",
    "file = [f1,f2,f3,f5]\n",
    "train = pd.concat(file,axis=1)\n",
    "train.to_csv(\"train.csv\", index=0, sep=',')\n"
   ]
  },
  {
   "cell_type": "code",
   "execution_count": 2,
   "metadata": {},
   "outputs": [
    {
     "name": "stdout",
     "output_type": "stream",
     "text": [
      "-0.294442\n"
     ]
    }
   ],
   "source": [
    "#do some further processing with \"A\" because there are some data error in it\n",
    "def remove_extradots(string):\n",
    "    counter=0\n",
    "    lst=[]\n",
    "    for i in range(len(string)):\n",
    "        if string[i]=='.' and counter<1 :\n",
    "            lst.append(string[i])\n",
    "            counter+=1\n",
    "        elif string[i]!='.':\n",
    "            lst.append(string[i])\n",
    "    res=\"\".join(lst)\n",
    "    return res\n",
    "\n",
    "\n",
    "\n",
    "import csv\n",
    "res_list=[]\n",
    "print(remove_extradots(\"-0.29444.2\"))\n",
    "with open('A_ks2.csv') as file2:\n",
    "    reader=csv.reader(file2)\n",
    "\n",
    "    for row in reader:\n",
    "        data=[]\n",
    "        for i in range(len(row)):\n",
    "            \n",
    "            data.append(remove_extradots(row[i]))\n",
    "        res_list.append(data)\n",
    "    \n",
    "\n",
    "\n",
    "with open('modified_A.csv', 'w') as file3:\n",
    "    writer = csv.writer(file3)\n",
    "    writer.writerows(res_list)\n",
    "file3.close()\n",
    "                \n"
   ]
  },
  {
   "cell_type": "code",
   "execution_count": 3,
   "metadata": {},
   "outputs": [
    {
     "data": {
      "text/plain": [
       "(767, 239)"
      ]
     },
     "execution_count": 3,
     "metadata": {},
     "output_type": "execute_result"
    }
   ],
   "source": [
    "#test file A\n",
    "import pandas as pd\n",
    "df_A=pd.read_csv(\"A_ks2.csv\")\n",
    "df_A.shape\n",
    "#df_A2=pd.read_csv(\"A_modified.csv\")\n",
    "#df_A2.shape\n"
   ]
  },
  {
   "cell_type": "code",
   "execution_count": 4,
   "metadata": {},
   "outputs": [],
   "source": [
    "#a block that is used to concate the drug names(drug combinations and related concentration)\n",
    "\n",
    "import csv\n",
    "res_list=[]\n",
    "with open('train.csv', 'r') as file:\n",
    "    reader = csv.reader(file)\n",
    "    \n",
    "    for row in reader:\n",
    "        data=[]\n",
    "        data.append(row[0]+'+'+row[1]+\"+\"+row[2])\n",
    "        res_list.append(data)\n",
    "\n",
    "        \n",
    "        \n",
    "with open('concatenated.csv', 'w') as file2:\n",
    "    writer = csv.writer(file2)\n",
    "    writer.writerows(res_list)"
   ]
  },
  {
   "cell_type": "code",
   "execution_count": 5,
   "metadata": {},
   "outputs": [],
   "source": [
    "#a block that is used to concate concentration and ks numbers.\n",
    "import pandas as pd\n",
    "f1 = pd.read_csv('concatenated.csv')\n",
    "#f2 = pd.read_csv('C.csv')\n",
    "f3=pd.read_csv('D.csv')\n",
    "f4=pd.read_csv('E.csv')\n",
    "f5=pd.read_csv('modified_A.csv')\n",
    "file = [f1,f5]\n",
    "train = pd.concat(file,axis=1)\n",
    "train.to_csv(\"train3.csv\", index=0, sep=',')"
   ]
  },
  {
   "cell_type": "code",
   "execution_count": 6,
   "metadata": {},
   "outputs": [],
   "source": [
    "#a block that sets the fields for the drug data\n",
    "import csv\n",
    "fields=['drug_name','default']\n",
    "for i in range(1,239):\n",
    "    fields.append('ks'+str(i))\n",
    "rows=[]\n",
    "with open('train3.csv', 'r') as file:\n",
    "    reader = csv.reader(file)\n",
    "    \n",
    "    for row in reader:\n",
    "        rows.append(row)\n",
    "\n",
    "        \n",
    "        \n",
    "with open('drug_withfields2.csv', 'w') as file2:\n",
    "    writer = csv.writer(file2)\n",
    "    writer.writerow(fields)\n",
    "    writer.writerows(rows)"
   ]
  },
  {
   "cell_type": "code",
   "execution_count": 7,
   "metadata": {},
   "outputs": [
    {
     "name": "stdout",
     "output_type": "stream",
     "text": [
      "-0.294442\n"
     ]
    }
   ],
   "source": [
    "#do some further processing with \"drug_withfields\" because there are still some data error in it\n",
    "def remove_extradots(string):\n",
    "    counter=0\n",
    "    lst=[]\n",
    "    for i in range(len(string)):\n",
    "        if string[i]=='.' and counter<1 :\n",
    "            lst.append(string[i])\n",
    "            counter+=1\n",
    "        elif string[i]!='.':\n",
    "            lst.append(string[i])\n",
    "    res=\"\".join(lst)\n",
    "    return res\n",
    "\n",
    "\n",
    "\n",
    "import csv\n",
    "res_list=[]\n",
    "print(remove_extradots(\"-0.29444.2\"))\n",
    "with open('drug_withfields2.csv') as file2:\n",
    "    reader=csv.reader(file2)\n",
    "\n",
    "    for row in reader:\n",
    "        data=[]\n",
    "        for i in range(len(row)):\n",
    "            \n",
    "            data.append(remove_extradots(row[i]))\n",
    "        res_list.append(data)\n",
    "    \n",
    "\n",
    "\n",
    "with open('drug_with_fields.csv', 'w') as file3:\n",
    "    writer = csv.writer(file3)\n",
    "    writer.writerows(res_list)\n",
    "file3.close()\n",
    "                "
   ]
  },
  {
   "cell_type": "code",
   "execution_count": 8,
   "metadata": {},
   "outputs": [
    {
     "data": {
      "text/html": [
       "<div>\n",
       "<style scoped>\n",
       "    .dataframe tbody tr th:only-of-type {\n",
       "        vertical-align: middle;\n",
       "    }\n",
       "\n",
       "    .dataframe tbody tr th {\n",
       "        vertical-align: top;\n",
       "    }\n",
       "\n",
       "    .dataframe thead th {\n",
       "        text-align: right;\n",
       "    }\n",
       "</style>\n",
       "<table border=\"1\" class=\"dataframe\">\n",
       "  <thead>\n",
       "    <tr style=\"text-align: right;\">\n",
       "      <th></th>\n",
       "      <th>drug_name</th>\n",
       "      <th>default</th>\n",
       "      <th>ks1</th>\n",
       "      <th>ks2</th>\n",
       "      <th>ks3</th>\n",
       "      <th>ks4</th>\n",
       "      <th>ks5</th>\n",
       "      <th>ks6</th>\n",
       "      <th>ks7</th>\n",
       "      <th>ks8</th>\n",
       "      <th>...</th>\n",
       "      <th>ks229</th>\n",
       "      <th>ks230</th>\n",
       "      <th>ks231</th>\n",
       "      <th>ks232</th>\n",
       "      <th>ks233</th>\n",
       "      <th>ks234</th>\n",
       "      <th>ks235</th>\n",
       "      <th>ks236</th>\n",
       "      <th>ks237</th>\n",
       "      <th>ks238</th>\n",
       "    </tr>\n",
       "  </thead>\n",
       "  <tbody>\n",
       "    <tr>\n",
       "      <th>0</th>\n",
       "      <td>Etoposide+Etoposide+1</td>\n",
       "      <td>0</td>\n",
       "      <td>-0.275910</td>\n",
       "      <td>-0.090945</td>\n",
       "      <td>-0.219180</td>\n",
       "      <td>0.151500</td>\n",
       "      <td>-0.261880</td>\n",
       "      <td>-0.247700</td>\n",
       "      <td>-0.203930</td>\n",
       "      <td>-0.191430</td>\n",
       "      <td>...</td>\n",
       "      <td>0.121660</td>\n",
       "      <td>0.101620</td>\n",
       "      <td>-0.218100</td>\n",
       "      <td>0.205050</td>\n",
       "      <td>0.167310</td>\n",
       "      <td>0.101621</td>\n",
       "      <td>-0.124470</td>\n",
       "      <td>-0.203870</td>\n",
       "      <td>-0.095000</td>\n",
       "      <td>0.216890</td>\n",
       "    </tr>\n",
       "    <tr>\n",
       "      <th>2</th>\n",
       "      <td>Etoposide+Etoposide+2</td>\n",
       "      <td>0</td>\n",
       "      <td>-0.293500</td>\n",
       "      <td>-0.120860</td>\n",
       "      <td>-0.257060</td>\n",
       "      <td>-0.128320</td>\n",
       "      <td>-0.265030</td>\n",
       "      <td>-0.258180</td>\n",
       "      <td>-0.241930</td>\n",
       "      <td>-0.233880</td>\n",
       "      <td>...</td>\n",
       "      <td>0.117910</td>\n",
       "      <td>0.096803</td>\n",
       "      <td>-0.305870</td>\n",
       "      <td>0.220450</td>\n",
       "      <td>0.164190</td>\n",
       "      <td>0.096803</td>\n",
       "      <td>-0.108550</td>\n",
       "      <td>-0.253310</td>\n",
       "      <td>-0.094153</td>\n",
       "      <td>0.297360</td>\n",
       "    </tr>\n",
       "    <tr>\n",
       "      <th>4</th>\n",
       "      <td>Etoposide+Etoposide+3</td>\n",
       "      <td>0</td>\n",
       "      <td>-0.240420</td>\n",
       "      <td>-0.083899</td>\n",
       "      <td>-0.210410</td>\n",
       "      <td>0.089637</td>\n",
       "      <td>-0.172030</td>\n",
       "      <td>-0.217160</td>\n",
       "      <td>-0.210520</td>\n",
       "      <td>-0.204970</td>\n",
       "      <td>...</td>\n",
       "      <td>0.105970</td>\n",
       "      <td>0.093028</td>\n",
       "      <td>-0.161720</td>\n",
       "      <td>0.161540</td>\n",
       "      <td>0.152760</td>\n",
       "      <td>0.093028</td>\n",
       "      <td>0.047837</td>\n",
       "      <td>-0.113280</td>\n",
       "      <td>-0.076406</td>\n",
       "      <td>0.143950</td>\n",
       "    </tr>\n",
       "    <tr>\n",
       "      <th>6</th>\n",
       "      <td>Etoposide+Etoposide+4</td>\n",
       "      <td>0</td>\n",
       "      <td>-0.047500</td>\n",
       "      <td>-0.083910</td>\n",
       "      <td>-0.118560</td>\n",
       "      <td>-0.051050</td>\n",
       "      <td>-0.111450</td>\n",
       "      <td>-0.121400</td>\n",
       "      <td>-0.110790</td>\n",
       "      <td>-0.105290</td>\n",
       "      <td>...</td>\n",
       "      <td>0.030848</td>\n",
       "      <td>-0.051124</td>\n",
       "      <td>-0.092303</td>\n",
       "      <td>-0.032973</td>\n",
       "      <td>-0.048831</td>\n",
       "      <td>-0.051124</td>\n",
       "      <td>0.090242</td>\n",
       "      <td>0.034324</td>\n",
       "      <td>0.019477</td>\n",
       "      <td>0.068619</td>\n",
       "    </tr>\n",
       "    <tr>\n",
       "      <th>8</th>\n",
       "      <td>Etoposide+Etoposide+5</td>\n",
       "      <td>0</td>\n",
       "      <td>0.033567</td>\n",
       "      <td>-0.055637</td>\n",
       "      <td>-0.082210</td>\n",
       "      <td>0.047443</td>\n",
       "      <td>-0.061823</td>\n",
       "      <td>-0.086123</td>\n",
       "      <td>-0.073333</td>\n",
       "      <td>-0.072355</td>\n",
       "      <td>...</td>\n",
       "      <td>-0.044610</td>\n",
       "      <td>0.031479</td>\n",
       "      <td>-0.049750</td>\n",
       "      <td>-0.039881</td>\n",
       "      <td>-0.049906</td>\n",
       "      <td>0.031479</td>\n",
       "      <td>0.077472</td>\n",
       "      <td>0.057093</td>\n",
       "      <td>0.022270</td>\n",
       "      <td>0.043294</td>\n",
       "    </tr>\n",
       "    <tr>\n",
       "      <th>10</th>\n",
       "      <td>Etoposide+Etoposide+6</td>\n",
       "      <td>0</td>\n",
       "      <td>-0.048333</td>\n",
       "      <td>-0.069917</td>\n",
       "      <td>-0.075126</td>\n",
       "      <td>0.068748</td>\n",
       "      <td>-0.065750</td>\n",
       "      <td>-0.071556</td>\n",
       "      <td>-0.067314</td>\n",
       "      <td>-0.065130</td>\n",
       "      <td>...</td>\n",
       "      <td>-0.047176</td>\n",
       "      <td>0.050841</td>\n",
       "      <td>-0.074885</td>\n",
       "      <td>0.035328</td>\n",
       "      <td>-0.027911</td>\n",
       "      <td>0.050841</td>\n",
       "      <td>0.036477</td>\n",
       "      <td>-0.053590</td>\n",
       "      <td>-0.034550</td>\n",
       "      <td>0.069791</td>\n",
       "    </tr>\n",
       "    <tr>\n",
       "      <th>144</th>\n",
       "      <td>Paclitaxel+Paclitaxel+1</td>\n",
       "      <td>0</td>\n",
       "      <td>-0.345830</td>\n",
       "      <td>-0.047523</td>\n",
       "      <td>0.041385</td>\n",
       "      <td>0.160800</td>\n",
       "      <td>-0.127690</td>\n",
       "      <td>-0.054636</td>\n",
       "      <td>0.068545</td>\n",
       "      <td>0.086350</td>\n",
       "      <td>...</td>\n",
       "      <td>-0.167170</td>\n",
       "      <td>-0.109620</td>\n",
       "      <td>0.237110</td>\n",
       "      <td>-0.193720</td>\n",
       "      <td>-0.176260</td>\n",
       "      <td>-0.109620</td>\n",
       "      <td>0.254350</td>\n",
       "      <td>0.233920</td>\n",
       "      <td>-0.135880</td>\n",
       "      <td>-0.222000</td>\n",
       "    </tr>\n",
       "    <tr>\n",
       "      <th>146</th>\n",
       "      <td>Paclitaxel+Paclitaxel+2</td>\n",
       "      <td>0</td>\n",
       "      <td>-0.298390</td>\n",
       "      <td>-0.043951</td>\n",
       "      <td>-0.096627</td>\n",
       "      <td>0.198230</td>\n",
       "      <td>-0.177700</td>\n",
       "      <td>-0.127780</td>\n",
       "      <td>-0.080544</td>\n",
       "      <td>-0.063401</td>\n",
       "      <td>...</td>\n",
       "      <td>-0.125800</td>\n",
       "      <td>0.249350</td>\n",
       "      <td>-0.068528</td>\n",
       "      <td>0.149510</td>\n",
       "      <td>0.092665</td>\n",
       "      <td>0.249350</td>\n",
       "      <td>0.032246</td>\n",
       "      <td>-0.090130</td>\n",
       "      <td>-0.190440</td>\n",
       "      <td>0.060920</td>\n",
       "    </tr>\n",
       "    <tr>\n",
       "      <th>148</th>\n",
       "      <td>Paclitaxel+Paclitaxel+3</td>\n",
       "      <td>0</td>\n",
       "      <td>-0.033514</td>\n",
       "      <td>0.100010</td>\n",
       "      <td>0.105290</td>\n",
       "      <td>0.138610</td>\n",
       "      <td>-0.067465</td>\n",
       "      <td>0.037774</td>\n",
       "      <td>0.128760</td>\n",
       "      <td>0.152240</td>\n",
       "      <td>...</td>\n",
       "      <td>0.042920</td>\n",
       "      <td>-0.144900</td>\n",
       "      <td>0.100240</td>\n",
       "      <td>-0.088007</td>\n",
       "      <td>-0.080484</td>\n",
       "      <td>-0.144900</td>\n",
       "      <td>0.144210</td>\n",
       "      <td>0.135380</td>\n",
       "      <td>-0.096218</td>\n",
       "      <td>-0.131800</td>\n",
       "    </tr>\n",
       "    <tr>\n",
       "      <th>150</th>\n",
       "      <td>Paclitaxel+Paclitaxel+4</td>\n",
       "      <td>0</td>\n",
       "      <td>-0.045142</td>\n",
       "      <td>-0.066604</td>\n",
       "      <td>-0.057752</td>\n",
       "      <td>0.088145</td>\n",
       "      <td>-0.110970</td>\n",
       "      <td>-0.081981</td>\n",
       "      <td>0.042893</td>\n",
       "      <td>0.050786</td>\n",
       "      <td>...</td>\n",
       "      <td>-0.051022</td>\n",
       "      <td>-0.073003</td>\n",
       "      <td>0.021478</td>\n",
       "      <td>-0.063050</td>\n",
       "      <td>-0.066777</td>\n",
       "      <td>-0.073003</td>\n",
       "      <td>-0.036965</td>\n",
       "      <td>0.035346</td>\n",
       "      <td>-0.080267</td>\n",
       "      <td>-0.043239</td>\n",
       "    </tr>\n",
       "    <tr>\n",
       "      <th>152</th>\n",
       "      <td>Paclitaxel+Paclitaxel+5</td>\n",
       "      <td>0</td>\n",
       "      <td>-0.049167</td>\n",
       "      <td>-0.048660</td>\n",
       "      <td>-0.034528</td>\n",
       "      <td>0.056987</td>\n",
       "      <td>-0.105310</td>\n",
       "      <td>-0.038903</td>\n",
       "      <td>0.027986</td>\n",
       "      <td>0.037731</td>\n",
       "      <td>...</td>\n",
       "      <td>0.021240</td>\n",
       "      <td>-0.055216</td>\n",
       "      <td>0.026174</td>\n",
       "      <td>-0.027441</td>\n",
       "      <td>-0.030952</td>\n",
       "      <td>-0.055216</td>\n",
       "      <td>-0.043796</td>\n",
       "      <td>-0.034291</td>\n",
       "      <td>0.046705</td>\n",
       "      <td>-0.045753</td>\n",
       "    </tr>\n",
       "    <tr>\n",
       "      <th>154</th>\n",
       "      <td>Paclitaxel+Paclitaxel+6</td>\n",
       "      <td>0</td>\n",
       "      <td>0.051307</td>\n",
       "      <td>-0.079163</td>\n",
       "      <td>-0.094310</td>\n",
       "      <td>0.109480</td>\n",
       "      <td>-0.143680</td>\n",
       "      <td>-0.098605</td>\n",
       "      <td>-0.078069</td>\n",
       "      <td>-0.073278</td>\n",
       "      <td>...</td>\n",
       "      <td>-0.063198</td>\n",
       "      <td>-0.032841</td>\n",
       "      <td>0.024849</td>\n",
       "      <td>-0.074468</td>\n",
       "      <td>-0.079894</td>\n",
       "      <td>-0.032841</td>\n",
       "      <td>0.097195</td>\n",
       "      <td>0.115560</td>\n",
       "      <td>0.052926</td>\n",
       "      <td>-0.041861</td>\n",
       "    </tr>\n",
       "    <tr>\n",
       "      <th>120</th>\n",
       "      <td>Etoposide+Paclitaxel+1</td>\n",
       "      <td>0</td>\n",
       "      <td>-0.367500</td>\n",
       "      <td>-0.072034</td>\n",
       "      <td>-0.105500</td>\n",
       "      <td>0.155100</td>\n",
       "      <td>-0.222940</td>\n",
       "      <td>-0.149430</td>\n",
       "      <td>-0.077209</td>\n",
       "      <td>0.062592</td>\n",
       "      <td>...</td>\n",
       "      <td>0.140290</td>\n",
       "      <td>-0.093349</td>\n",
       "      <td>0.078807</td>\n",
       "      <td>0.076055</td>\n",
       "      <td>0.107590</td>\n",
       "      <td>-0.093349</td>\n",
       "      <td>-0.099786</td>\n",
       "      <td>-0.081109</td>\n",
       "      <td>-0.123590</td>\n",
       "      <td>-0.073066</td>\n",
       "    </tr>\n",
       "    <tr>\n",
       "      <th>122</th>\n",
       "      <td>Etoposide+Paclitaxel+2</td>\n",
       "      <td>0</td>\n",
       "      <td>-0.452500</td>\n",
       "      <td>-0.129170</td>\n",
       "      <td>-0.212810</td>\n",
       "      <td>0.166420</td>\n",
       "      <td>-0.321580</td>\n",
       "      <td>-0.249770</td>\n",
       "      <td>-0.171520</td>\n",
       "      <td>-0.151060</td>\n",
       "      <td>...</td>\n",
       "      <td>0.168230</td>\n",
       "      <td>-0.152030</td>\n",
       "      <td>0.077574</td>\n",
       "      <td>0.106140</td>\n",
       "      <td>0.150660</td>\n",
       "      <td>-0.152030</td>\n",
       "      <td>-0.148400</td>\n",
       "      <td>-0.130010</td>\n",
       "      <td>-0.062373</td>\n",
       "      <td>-0.049840</td>\n",
       "    </tr>\n",
       "    <tr>\n",
       "      <th>124</th>\n",
       "      <td>Etoposide+Paclitaxel+3</td>\n",
       "      <td>0</td>\n",
       "      <td>-0.282500</td>\n",
       "      <td>-0.075323</td>\n",
       "      <td>-0.165730</td>\n",
       "      <td>0.200480</td>\n",
       "      <td>-0.176800</td>\n",
       "      <td>-0.203170</td>\n",
       "      <td>-0.149440</td>\n",
       "      <td>-0.136910</td>\n",
       "      <td>...</td>\n",
       "      <td>0.153250</td>\n",
       "      <td>-0.115910</td>\n",
       "      <td>0.035296</td>\n",
       "      <td>0.109010</td>\n",
       "      <td>0.145400</td>\n",
       "      <td>-0.115910</td>\n",
       "      <td>-0.128980</td>\n",
       "      <td>-0.131160</td>\n",
       "      <td>-0.078091</td>\n",
       "      <td>0.037688</td>\n",
       "    </tr>\n",
       "    <tr>\n",
       "      <th>126</th>\n",
       "      <td>Etoposide+Paclitaxel+4</td>\n",
       "      <td>0</td>\n",
       "      <td>-0.110760</td>\n",
       "      <td>-0.107290</td>\n",
       "      <td>-0.141410</td>\n",
       "      <td>0.128200</td>\n",
       "      <td>-0.212210</td>\n",
       "      <td>-0.174390</td>\n",
       "      <td>-0.114720</td>\n",
       "      <td>-0.091529</td>\n",
       "      <td>...</td>\n",
       "      <td>0.065352</td>\n",
       "      <td>-0.096753</td>\n",
       "      <td>-0.031082</td>\n",
       "      <td>-0.040232</td>\n",
       "      <td>-0.051787</td>\n",
       "      <td>-0.096753</td>\n",
       "      <td>-0.066804</td>\n",
       "      <td>-0.061753</td>\n",
       "      <td>-0.060301</td>\n",
       "      <td>-0.062371</td>\n",
       "    </tr>\n",
       "    <tr>\n",
       "      <th>128</th>\n",
       "      <td>Etoposide+Paclitaxel+5</td>\n",
       "      <td>0</td>\n",
       "      <td>-0.087083</td>\n",
       "      <td>-0.122920</td>\n",
       "      <td>-0.163750</td>\n",
       "      <td>0.180420</td>\n",
       "      <td>-0.234170</td>\n",
       "      <td>-0.192080</td>\n",
       "      <td>-0.130420</td>\n",
       "      <td>-0.122920</td>\n",
       "      <td>...</td>\n",
       "      <td>0.042083</td>\n",
       "      <td>0.038333</td>\n",
       "      <td>0.025417</td>\n",
       "      <td>0.017083</td>\n",
       "      <td>0.031250</td>\n",
       "      <td>0.038333</td>\n",
       "      <td>-0.041667</td>\n",
       "      <td>-0.050833</td>\n",
       "      <td>0.050000</td>\n",
       "      <td>-0.037083</td>\n",
       "    </tr>\n",
       "    <tr>\n",
       "      <th>130</th>\n",
       "      <td>Etoposide+Paclitaxel+6</td>\n",
       "      <td>0</td>\n",
       "      <td>-0.058333</td>\n",
       "      <td>-0.095467</td>\n",
       "      <td>-0.137830</td>\n",
       "      <td>0.153970</td>\n",
       "      <td>-0.196620</td>\n",
       "      <td>-0.149460</td>\n",
       "      <td>-0.121490</td>\n",
       "      <td>-0.114170</td>\n",
       "      <td>...</td>\n",
       "      <td>-0.035374</td>\n",
       "      <td>0.024382</td>\n",
       "      <td>-0.035853</td>\n",
       "      <td>-0.036132</td>\n",
       "      <td>-0.034340</td>\n",
       "      <td>0.024382</td>\n",
       "      <td>0.043666</td>\n",
       "      <td>0.050470</td>\n",
       "      <td>0.066030</td>\n",
       "      <td>-0.037296</td>\n",
       "    </tr>\n",
       "    <tr>\n",
       "      <th>24</th>\n",
       "      <td>Paclitaxel+Etoposide+1</td>\n",
       "      <td>0</td>\n",
       "      <td>-0.351670</td>\n",
       "      <td>-0.078333</td>\n",
       "      <td>-0.187380</td>\n",
       "      <td>0.189470</td>\n",
       "      <td>-0.362220</td>\n",
       "      <td>-0.254880</td>\n",
       "      <td>-0.129820</td>\n",
       "      <td>-0.090106</td>\n",
       "      <td>...</td>\n",
       "      <td>-0.223050</td>\n",
       "      <td>0.286770</td>\n",
       "      <td>-0.139610</td>\n",
       "      <td>0.159660</td>\n",
       "      <td>-0.075479</td>\n",
       "      <td>0.286770</td>\n",
       "      <td>0.140120</td>\n",
       "      <td>-0.108230</td>\n",
       "      <td>-0.187090</td>\n",
       "      <td>0.131770</td>\n",
       "    </tr>\n",
       "    <tr>\n",
       "      <th>26</th>\n",
       "      <td>Paclitaxel+Etoposide+2</td>\n",
       "      <td>0</td>\n",
       "      <td>-0.165260</td>\n",
       "      <td>-0.069171</td>\n",
       "      <td>-0.209440</td>\n",
       "      <td>0.263530</td>\n",
       "      <td>-0.260330</td>\n",
       "      <td>-0.253460</td>\n",
       "      <td>-0.169370</td>\n",
       "      <td>-0.146480</td>\n",
       "      <td>...</td>\n",
       "      <td>-0.086419</td>\n",
       "      <td>0.303930</td>\n",
       "      <td>-0.199750</td>\n",
       "      <td>0.220770</td>\n",
       "      <td>0.133330</td>\n",
       "      <td>0.303930</td>\n",
       "      <td>-0.056822</td>\n",
       "      <td>-0.162380</td>\n",
       "      <td>-0.147970</td>\n",
       "      <td>0.171640</td>\n",
       "    </tr>\n",
       "    <tr>\n",
       "      <th>28</th>\n",
       "      <td>Paclitaxel+Etoposide+3</td>\n",
       "      <td>0</td>\n",
       "      <td>0.130230</td>\n",
       "      <td>-0.092300</td>\n",
       "      <td>-0.186570</td>\n",
       "      <td>0.270140</td>\n",
       "      <td>-0.239050</td>\n",
       "      <td>-0.210320</td>\n",
       "      <td>-0.148410</td>\n",
       "      <td>-0.143850</td>\n",
       "      <td>...</td>\n",
       "      <td>-0.068608</td>\n",
       "      <td>-0.077117</td>\n",
       "      <td>-0.025767</td>\n",
       "      <td>-0.133670</td>\n",
       "      <td>-0.131600</td>\n",
       "      <td>-0.077117</td>\n",
       "      <td>0.261790</td>\n",
       "      <td>0.204760</td>\n",
       "      <td>0.059933</td>\n",
       "      <td>-0.042423</td>\n",
       "    </tr>\n",
       "    <tr>\n",
       "      <th>30</th>\n",
       "      <td>Paclitaxel+Etoposide+4</td>\n",
       "      <td>0</td>\n",
       "      <td>0.045309</td>\n",
       "      <td>-0.111240</td>\n",
       "      <td>-0.187010</td>\n",
       "      <td>0.227440</td>\n",
       "      <td>-0.255350</td>\n",
       "      <td>-0.213020</td>\n",
       "      <td>-0.155960</td>\n",
       "      <td>-0.140210</td>\n",
       "      <td>...</td>\n",
       "      <td>-0.067344</td>\n",
       "      <td>0.043980</td>\n",
       "      <td>0.024186</td>\n",
       "      <td>-0.068623</td>\n",
       "      <td>-0.077672</td>\n",
       "      <td>0.043980</td>\n",
       "      <td>0.098980</td>\n",
       "      <td>0.103410</td>\n",
       "      <td>-0.052258</td>\n",
       "      <td>-0.033021</td>\n",
       "    </tr>\n",
       "    <tr>\n",
       "      <th>32</th>\n",
       "      <td>Paclitaxel+Etoposide+5</td>\n",
       "      <td>0</td>\n",
       "      <td>-0.054167</td>\n",
       "      <td>-0.108200</td>\n",
       "      <td>-0.197210</td>\n",
       "      <td>0.233310</td>\n",
       "      <td>-0.259280</td>\n",
       "      <td>-0.229740</td>\n",
       "      <td>-0.147790</td>\n",
       "      <td>-0.136500</td>\n",
       "      <td>...</td>\n",
       "      <td>-0.035216</td>\n",
       "      <td>0.028501</td>\n",
       "      <td>-0.034059</td>\n",
       "      <td>-0.047374</td>\n",
       "      <td>-0.044335</td>\n",
       "      <td>0.028501</td>\n",
       "      <td>0.074191</td>\n",
       "      <td>0.060564</td>\n",
       "      <td>0.038112</td>\n",
       "      <td>-0.022764</td>\n",
       "    </tr>\n",
       "    <tr>\n",
       "      <th>34</th>\n",
       "      <td>Paclitaxel+Etoposide+6</td>\n",
       "      <td>0</td>\n",
       "      <td>-0.050833</td>\n",
       "      <td>-0.095636</td>\n",
       "      <td>-0.155480</td>\n",
       "      <td>0.167760</td>\n",
       "      <td>-0.208820</td>\n",
       "      <td>-0.167770</td>\n",
       "      <td>-0.130920</td>\n",
       "      <td>-0.127110</td>\n",
       "      <td>...</td>\n",
       "      <td>-0.036416</td>\n",
       "      <td>0.045412</td>\n",
       "      <td>-0.047098</td>\n",
       "      <td>-0.040205</td>\n",
       "      <td>-0.035304</td>\n",
       "      <td>0.045412</td>\n",
       "      <td>0.036104</td>\n",
       "      <td>-0.022017</td>\n",
       "      <td>-0.032283</td>\n",
       "      <td>0.051669</td>\n",
       "    </tr>\n",
       "  </tbody>\n",
       "</table>\n",
       "<p>24 rows × 240 columns</p>\n",
       "</div>"
      ],
      "text/plain": [
       "                   drug_name  default       ks1       ks2       ks3       ks4  \\\n",
       "0      Etoposide+Etoposide+1        0 -0.275910 -0.090945 -0.219180  0.151500   \n",
       "2      Etoposide+Etoposide+2        0 -0.293500 -0.120860 -0.257060 -0.128320   \n",
       "4      Etoposide+Etoposide+3        0 -0.240420 -0.083899 -0.210410  0.089637   \n",
       "6      Etoposide+Etoposide+4        0 -0.047500 -0.083910 -0.118560 -0.051050   \n",
       "8      Etoposide+Etoposide+5        0  0.033567 -0.055637 -0.082210  0.047443   \n",
       "10     Etoposide+Etoposide+6        0 -0.048333 -0.069917 -0.075126  0.068748   \n",
       "144  Paclitaxel+Paclitaxel+1        0 -0.345830 -0.047523  0.041385  0.160800   \n",
       "146  Paclitaxel+Paclitaxel+2        0 -0.298390 -0.043951 -0.096627  0.198230   \n",
       "148  Paclitaxel+Paclitaxel+3        0 -0.033514  0.100010  0.105290  0.138610   \n",
       "150  Paclitaxel+Paclitaxel+4        0 -0.045142 -0.066604 -0.057752  0.088145   \n",
       "152  Paclitaxel+Paclitaxel+5        0 -0.049167 -0.048660 -0.034528  0.056987   \n",
       "154  Paclitaxel+Paclitaxel+6        0  0.051307 -0.079163 -0.094310  0.109480   \n",
       "120   Etoposide+Paclitaxel+1        0 -0.367500 -0.072034 -0.105500  0.155100   \n",
       "122   Etoposide+Paclitaxel+2        0 -0.452500 -0.129170 -0.212810  0.166420   \n",
       "124   Etoposide+Paclitaxel+3        0 -0.282500 -0.075323 -0.165730  0.200480   \n",
       "126   Etoposide+Paclitaxel+4        0 -0.110760 -0.107290 -0.141410  0.128200   \n",
       "128   Etoposide+Paclitaxel+5        0 -0.087083 -0.122920 -0.163750  0.180420   \n",
       "130   Etoposide+Paclitaxel+6        0 -0.058333 -0.095467 -0.137830  0.153970   \n",
       "24    Paclitaxel+Etoposide+1        0 -0.351670 -0.078333 -0.187380  0.189470   \n",
       "26    Paclitaxel+Etoposide+2        0 -0.165260 -0.069171 -0.209440  0.263530   \n",
       "28    Paclitaxel+Etoposide+3        0  0.130230 -0.092300 -0.186570  0.270140   \n",
       "30    Paclitaxel+Etoposide+4        0  0.045309 -0.111240 -0.187010  0.227440   \n",
       "32    Paclitaxel+Etoposide+5        0 -0.054167 -0.108200 -0.197210  0.233310   \n",
       "34    Paclitaxel+Etoposide+6        0 -0.050833 -0.095636 -0.155480  0.167760   \n",
       "\n",
       "          ks5       ks6       ks7       ks8  ...     ks229     ks230  \\\n",
       "0   -0.261880 -0.247700 -0.203930 -0.191430  ...  0.121660  0.101620   \n",
       "2   -0.265030 -0.258180 -0.241930 -0.233880  ...  0.117910  0.096803   \n",
       "4   -0.172030 -0.217160 -0.210520 -0.204970  ...  0.105970  0.093028   \n",
       "6   -0.111450 -0.121400 -0.110790 -0.105290  ...  0.030848 -0.051124   \n",
       "8   -0.061823 -0.086123 -0.073333 -0.072355  ... -0.044610  0.031479   \n",
       "10  -0.065750 -0.071556 -0.067314 -0.065130  ... -0.047176  0.050841   \n",
       "144 -0.127690 -0.054636  0.068545  0.086350  ... -0.167170 -0.109620   \n",
       "146 -0.177700 -0.127780 -0.080544 -0.063401  ... -0.125800  0.249350   \n",
       "148 -0.067465  0.037774  0.128760  0.152240  ...  0.042920 -0.144900   \n",
       "150 -0.110970 -0.081981  0.042893  0.050786  ... -0.051022 -0.073003   \n",
       "152 -0.105310 -0.038903  0.027986  0.037731  ...  0.021240 -0.055216   \n",
       "154 -0.143680 -0.098605 -0.078069 -0.073278  ... -0.063198 -0.032841   \n",
       "120 -0.222940 -0.149430 -0.077209  0.062592  ...  0.140290 -0.093349   \n",
       "122 -0.321580 -0.249770 -0.171520 -0.151060  ...  0.168230 -0.152030   \n",
       "124 -0.176800 -0.203170 -0.149440 -0.136910  ...  0.153250 -0.115910   \n",
       "126 -0.212210 -0.174390 -0.114720 -0.091529  ...  0.065352 -0.096753   \n",
       "128 -0.234170 -0.192080 -0.130420 -0.122920  ...  0.042083  0.038333   \n",
       "130 -0.196620 -0.149460 -0.121490 -0.114170  ... -0.035374  0.024382   \n",
       "24  -0.362220 -0.254880 -0.129820 -0.090106  ... -0.223050  0.286770   \n",
       "26  -0.260330 -0.253460 -0.169370 -0.146480  ... -0.086419  0.303930   \n",
       "28  -0.239050 -0.210320 -0.148410 -0.143850  ... -0.068608 -0.077117   \n",
       "30  -0.255350 -0.213020 -0.155960 -0.140210  ... -0.067344  0.043980   \n",
       "32  -0.259280 -0.229740 -0.147790 -0.136500  ... -0.035216  0.028501   \n",
       "34  -0.208820 -0.167770 -0.130920 -0.127110  ... -0.036416  0.045412   \n",
       "\n",
       "        ks231     ks232     ks233     ks234     ks235     ks236     ks237  \\\n",
       "0   -0.218100  0.205050  0.167310  0.101621 -0.124470 -0.203870 -0.095000   \n",
       "2   -0.305870  0.220450  0.164190  0.096803 -0.108550 -0.253310 -0.094153   \n",
       "4   -0.161720  0.161540  0.152760  0.093028  0.047837 -0.113280 -0.076406   \n",
       "6   -0.092303 -0.032973 -0.048831 -0.051124  0.090242  0.034324  0.019477   \n",
       "8   -0.049750 -0.039881 -0.049906  0.031479  0.077472  0.057093  0.022270   \n",
       "10  -0.074885  0.035328 -0.027911  0.050841  0.036477 -0.053590 -0.034550   \n",
       "144  0.237110 -0.193720 -0.176260 -0.109620  0.254350  0.233920 -0.135880   \n",
       "146 -0.068528  0.149510  0.092665  0.249350  0.032246 -0.090130 -0.190440   \n",
       "148  0.100240 -0.088007 -0.080484 -0.144900  0.144210  0.135380 -0.096218   \n",
       "150  0.021478 -0.063050 -0.066777 -0.073003 -0.036965  0.035346 -0.080267   \n",
       "152  0.026174 -0.027441 -0.030952 -0.055216 -0.043796 -0.034291  0.046705   \n",
       "154  0.024849 -0.074468 -0.079894 -0.032841  0.097195  0.115560  0.052926   \n",
       "120  0.078807  0.076055  0.107590 -0.093349 -0.099786 -0.081109 -0.123590   \n",
       "122  0.077574  0.106140  0.150660 -0.152030 -0.148400 -0.130010 -0.062373   \n",
       "124  0.035296  0.109010  0.145400 -0.115910 -0.128980 -0.131160 -0.078091   \n",
       "126 -0.031082 -0.040232 -0.051787 -0.096753 -0.066804 -0.061753 -0.060301   \n",
       "128  0.025417  0.017083  0.031250  0.038333 -0.041667 -0.050833  0.050000   \n",
       "130 -0.035853 -0.036132 -0.034340  0.024382  0.043666  0.050470  0.066030   \n",
       "24  -0.139610  0.159660 -0.075479  0.286770  0.140120 -0.108230 -0.187090   \n",
       "26  -0.199750  0.220770  0.133330  0.303930 -0.056822 -0.162380 -0.147970   \n",
       "28  -0.025767 -0.133670 -0.131600 -0.077117  0.261790  0.204760  0.059933   \n",
       "30   0.024186 -0.068623 -0.077672  0.043980  0.098980  0.103410 -0.052258   \n",
       "32  -0.034059 -0.047374 -0.044335  0.028501  0.074191  0.060564  0.038112   \n",
       "34  -0.047098 -0.040205 -0.035304  0.045412  0.036104 -0.022017 -0.032283   \n",
       "\n",
       "        ks238  \n",
       "0    0.216890  \n",
       "2    0.297360  \n",
       "4    0.143950  \n",
       "6    0.068619  \n",
       "8    0.043294  \n",
       "10   0.069791  \n",
       "144 -0.222000  \n",
       "146  0.060920  \n",
       "148 -0.131800  \n",
       "150 -0.043239  \n",
       "152 -0.045753  \n",
       "154 -0.041861  \n",
       "120 -0.073066  \n",
       "122 -0.049840  \n",
       "124  0.037688  \n",
       "126 -0.062371  \n",
       "128 -0.037083  \n",
       "130 -0.037296  \n",
       "24   0.131770  \n",
       "26   0.171640  \n",
       "28  -0.042423  \n",
       "30  -0.033021  \n",
       "32  -0.022764  \n",
       "34   0.051669  \n",
       "\n",
       "[24 rows x 240 columns]"
      ]
     },
     "execution_count": 8,
     "metadata": {},
     "output_type": "execute_result"
    }
   ],
   "source": [
    "#we take etoposide and palitaxel out. \n",
    "df=pd.read_csv('drug_with_fields.csv')\n",
    "df11=df.loc[(df['drug_name'] =='Etoposide+Etoposide+1') ]\n",
    "df12=df.loc[(df['drug_name'] =='Etoposide+Etoposide+2') ]\n",
    "df13=df.loc[(df['drug_name'] =='Etoposide+Etoposide+3') ]\n",
    "df14=df.loc[(df['drug_name'] =='Etoposide+Etoposide+4') ]\n",
    "df15=df.loc[(df['drug_name'] =='Etoposide+Etoposide+5') ]\n",
    "df16=df.loc[(df['drug_name'] =='Etoposide+Etoposide+6') ]\n",
    "df21=df.loc[(df['drug_name'] =='Paclitaxel+Paclitaxel+1') ]\n",
    "df22=df.loc[(df['drug_name'] =='Paclitaxel+Paclitaxel+2') ]\n",
    "df23=df.loc[(df['drug_name'] =='Paclitaxel+Paclitaxel+3') ]\n",
    "df24=df.loc[(df['drug_name'] =='Paclitaxel+Paclitaxel+4') ]\n",
    "df25=df.loc[(df['drug_name'] =='Paclitaxel+Paclitaxel+5') ]\n",
    "df26=df.loc[(df['drug_name'] =='Paclitaxel+Paclitaxel+6') ]\n",
    "df31=df.loc[(df['drug_name'] =='Etoposide+Paclitaxel+1')]\n",
    "df32=df.loc[(df['drug_name'] =='Etoposide+Paclitaxel+2')]\n",
    "df33=df.loc[(df['drug_name'] =='Etoposide+Paclitaxel+3')]\n",
    "df34=df.loc[(df['drug_name'] =='Etoposide+Paclitaxel+4')]\n",
    "df35=df.loc[(df['drug_name'] =='Etoposide+Paclitaxel+5')]\n",
    "df36=df.loc[(df['drug_name'] =='Etoposide+Paclitaxel+6')]\n",
    "df41=df.loc[(df['drug_name'] =='Paclitaxel+Etoposide+1') ]\n",
    "df42=df.loc[(df['drug_name'] =='Paclitaxel+Etoposide+2') ]\n",
    "df43=df.loc[(df['drug_name'] =='Paclitaxel+Etoposide+3') ]\n",
    "df44=df.loc[(df['drug_name'] =='Paclitaxel+Etoposide+4') ]\n",
    "df45=df.loc[(df['drug_name'] =='Paclitaxel+Etoposide+5') ]\n",
    "df46=df.loc[(df['drug_name'] =='Paclitaxel+Etoposide+6') ]\n",
    "\n",
    "frames = [df11, df12,df13,df14,df15,df16,df21,df22,df23,df24,df25,df26,df31,df32,df33,df34,df35,df36,df41,df42,df43,df44,df45,df46]\n",
    "\n",
    "e_and_p = pd.concat(frames)\n",
    "#etoposide and paclitaxel combination. \n",
    "e_and_p"
   ]
  },
  {
   "cell_type": "code",
   "execution_count": 9,
   "metadata": {},
   "outputs": [
    {
     "data": {
      "text/html": [
       "<div>\n",
       "<style scoped>\n",
       "    .dataframe tbody tr th:only-of-type {\n",
       "        vertical-align: middle;\n",
       "    }\n",
       "\n",
       "    .dataframe tbody tr th {\n",
       "        vertical-align: top;\n",
       "    }\n",
       "\n",
       "    .dataframe thead th {\n",
       "        text-align: right;\n",
       "    }\n",
       "</style>\n",
       "<table border=\"1\" class=\"dataframe\">\n",
       "  <thead>\n",
       "    <tr style=\"text-align: right;\">\n",
       "      <th></th>\n",
       "      <th>principal component 1</th>\n",
       "      <th>principal component 2</th>\n",
       "    </tr>\n",
       "  </thead>\n",
       "  <tbody>\n",
       "    <tr>\n",
       "      <th>0</th>\n",
       "      <td>20.762611</td>\n",
       "      <td>0.101476</td>\n",
       "    </tr>\n",
       "    <tr>\n",
       "      <th>1</th>\n",
       "      <td>21.036409</td>\n",
       "      <td>-2.407718</td>\n",
       "    </tr>\n",
       "    <tr>\n",
       "      <th>2</th>\n",
       "      <td>15.579223</td>\n",
       "      <td>-4.396056</td>\n",
       "    </tr>\n",
       "    <tr>\n",
       "      <th>3</th>\n",
       "      <td>2.220313</td>\n",
       "      <td>-3.732008</td>\n",
       "    </tr>\n",
       "    <tr>\n",
       "      <th>4</th>\n",
       "      <td>-8.560587</td>\n",
       "      <td>-2.506903</td>\n",
       "    </tr>\n",
       "    <tr>\n",
       "      <th>5</th>\n",
       "      <td>-4.085542</td>\n",
       "      <td>-5.340973</td>\n",
       "    </tr>\n",
       "    <tr>\n",
       "      <th>6</th>\n",
       "      <td>-18.342606</td>\n",
       "      <td>10.806272</td>\n",
       "    </tr>\n",
       "    <tr>\n",
       "      <th>7</th>\n",
       "      <td>-3.597545</td>\n",
       "      <td>-1.781693</td>\n",
       "    </tr>\n",
       "    <tr>\n",
       "      <th>8</th>\n",
       "      <td>-12.417614</td>\n",
       "      <td>11.436544</td>\n",
       "    </tr>\n",
       "    <tr>\n",
       "      <th>9</th>\n",
       "      <td>-7.820144</td>\n",
       "      <td>5.759005</td>\n",
       "    </tr>\n",
       "    <tr>\n",
       "      <th>10</th>\n",
       "      <td>-7.129386</td>\n",
       "      <td>1.984963</td>\n",
       "    </tr>\n",
       "    <tr>\n",
       "      <th>11</th>\n",
       "      <td>-7.380593</td>\n",
       "      <td>-3.147656</td>\n",
       "    </tr>\n",
       "    <tr>\n",
       "      <th>12</th>\n",
       "      <td>9.378073</td>\n",
       "      <td>13.697445</td>\n",
       "    </tr>\n",
       "    <tr>\n",
       "      <th>13</th>\n",
       "      <td>15.459593</td>\n",
       "      <td>9.682643</td>\n",
       "    </tr>\n",
       "    <tr>\n",
       "      <th>14</th>\n",
       "      <td>13.756358</td>\n",
       "      <td>5.268334</td>\n",
       "    </tr>\n",
       "    <tr>\n",
       "      <th>15</th>\n",
       "      <td>0.307688</td>\n",
       "      <td>2.613801</td>\n",
       "    </tr>\n",
       "    <tr>\n",
       "      <th>16</th>\n",
       "      <td>-1.034737</td>\n",
       "      <td>-2.085966</td>\n",
       "    </tr>\n",
       "    <tr>\n",
       "      <th>17</th>\n",
       "      <td>-3.056298</td>\n",
       "      <td>-6.318536</td>\n",
       "    </tr>\n",
       "    <tr>\n",
       "      <th>18</th>\n",
       "      <td>-2.516776</td>\n",
       "      <td>-2.259099</td>\n",
       "    </tr>\n",
       "    <tr>\n",
       "      <th>19</th>\n",
       "      <td>3.254403</td>\n",
       "      <td>-8.592034</td>\n",
       "    </tr>\n",
       "    <tr>\n",
       "      <th>20</th>\n",
       "      <td>-7.358703</td>\n",
       "      <td>-5.294430</td>\n",
       "    </tr>\n",
       "    <tr>\n",
       "      <th>21</th>\n",
       "      <td>-4.090515</td>\n",
       "      <td>-4.923744</td>\n",
       "    </tr>\n",
       "    <tr>\n",
       "      <th>22</th>\n",
       "      <td>-3.589818</td>\n",
       "      <td>-6.983456</td>\n",
       "    </tr>\n",
       "    <tr>\n",
       "      <th>23</th>\n",
       "      <td>-10.773808</td>\n",
       "      <td>-1.580214</td>\n",
       "    </tr>\n",
       "  </tbody>\n",
       "</table>\n",
       "</div>"
      ],
      "text/plain": [
       "    principal component 1  principal component 2\n",
       "0               20.762611               0.101476\n",
       "1               21.036409              -2.407718\n",
       "2               15.579223              -4.396056\n",
       "3                2.220313              -3.732008\n",
       "4               -8.560587              -2.506903\n",
       "5               -4.085542              -5.340973\n",
       "6              -18.342606              10.806272\n",
       "7               -3.597545              -1.781693\n",
       "8              -12.417614              11.436544\n",
       "9               -7.820144               5.759005\n",
       "10              -7.129386               1.984963\n",
       "11              -7.380593              -3.147656\n",
       "12               9.378073              13.697445\n",
       "13              15.459593               9.682643\n",
       "14              13.756358               5.268334\n",
       "15               0.307688               2.613801\n",
       "16              -1.034737              -2.085966\n",
       "17              -3.056298              -6.318536\n",
       "18              -2.516776              -2.259099\n",
       "19               3.254403              -8.592034\n",
       "20              -7.358703              -5.294430\n",
       "21              -4.090515              -4.923744\n",
       "22              -3.589818              -6.983456\n",
       "23             -10.773808              -1.580214"
      ]
     },
     "execution_count": 9,
     "metadata": {},
     "output_type": "execute_result"
    }
   ],
   "source": [
    "#a code block that is used to deal with the data using PCA models(dimensionality reduction)\n",
    "import pandas as pd\n",
    "import plotly.express as px\n",
    "from sklearn.decomposition import PCA\n",
    "from sklearn.preprocessing import StandardScaler\n",
    "\n",
    "X_drug = e_and_p.iloc[:, 3:240].values\n",
    "\n",
    "X_drug = StandardScaler().fit_transform(X_drug)\n",
    "\n",
    "pca_drug = PCA(n_components=2)\n",
    "components = pca_drug.fit_transform(X_drug)\n",
    "principalDf = pd.DataFrame(data = components\n",
    "             , columns = ['principal component 1', 'principal component 2'])\n",
    "principalDf\n"
   ]
  },
  {
   "cell_type": "code",
   "execution_count": 10,
   "metadata": {},
   "outputs": [
    {
     "name": "stdout",
     "output_type": "stream",
     "text": [
      "[[17.73296623929187, 27.871041396315064], [13.314568210626076, 22.2397283644569], [9.834798356175458, 26.890957918643227], [6.627777097815258, 8.71515734241262], [7.53761245290945, 7.329202181279876], [1.41949781110949, 5.362276675675016]]\n",
      "5 1\n"
     ]
    }
   ],
   "source": [
    "#compute the distance between points\n",
    "#calculating distances between centroids\n",
    "#index for reference\n",
    "#0，6，12，18\n",
    "#1，7，13，19\n",
    "#2,8,14,20\n",
    "#3,9,15,21\n",
    "#4,10,16,22\n",
    "#5，11，17，23\n",
    "#first, we gonna find the most similar single drug response for \"Etoposide+Paclitaxel+1\t\"\n",
    "import math\n",
    "p_combi=principalDf.iloc[12,:]\n",
    "dist1=[]\n",
    "\n",
    "p=[]\n",
    "for i in range(24):\n",
    "    p.append([principalDf.iloc[i,:][0],principalDf.iloc[i,:][1]])\n",
    "dist1.append(math.dist(p[12],p[0]))\n",
    "\n",
    "dist1.append(math.dist(p[12],p[6]))\n",
    "#print(dist1)\n",
    "#conclusion, the most similar single drug response for \"Etoposide+Paclitaxel+1\t\" is \t\"Etoposide+Etoposide+1\"\n",
    "\n",
    "#then, we see the situation where the concentration decreases(still etoposide +paclitaxel)\n",
    "dist2=[]\n",
    "dist2.append(math.dist(p[13],p[1]))\n",
    "dist2.append(math.dist(p[13],p[7]))\n",
    "#print(dist2)\n",
    "#conclusion: still \"etoposide+etoposide+1\"\n",
    "\n",
    "#concentration 3\n",
    "dist3=[]\n",
    "dist3.append(math.dist(p[14],p[2]))\n",
    "dist3.append(math.dist(p[14],p[8]))\n",
    "dist3\n",
    "\n",
    "#then we just write a loop function and see the whole 6 situations\n",
    "big_dist=[]\n",
    "for i in range(6):\n",
    "    dist=[]\n",
    "    dist.append(math.dist(p[i+12],p[i]))\n",
    "    dist.append(math.dist(p[i+12],p[i+6]))\n",
    "    big_dist.append(dist)\n",
    "print(big_dist)\n",
    "counter_for_etoposide=0\n",
    "counter_for_paclitaxel=0\n",
    "for i in range(len(big_dist)):\n",
    "    if big_dist[i][0]<big_dist[i][1]:\n",
    "        counter_for_etoposide+=1\n",
    "    else:\n",
    "        counter_for_paclitaxel+=1\n",
    "print(counter_for_etoposide,counter_for_paclitaxel)\n",
    "\n",
    "\n",
    "#p1=principalDf.iloc[0,:]\n",
    "#p2=principalDf.iloc[6,:]\n",
    "\n",
    "#conclusion: etoposide is the major drug in \"etoposide+paclitaxel\" combination\n",
    "\n"
   ]
  },
  {
   "cell_type": "code",
   "execution_count": 11,
   "metadata": {},
   "outputs": [
    {
     "data": {
      "text/plain": [
       "numpy.float64"
      ]
     },
     "execution_count": 11,
     "metadata": {},
     "output_type": "execute_result"
    }
   ],
   "source": [
    "#test a datatype for debugging\n",
    "type(principalDf.iloc[0,:][0])"
   ]
  },
  {
   "cell_type": "code",
   "execution_count": 12,
   "metadata": {},
   "outputs": [
    {
     "name": "stdout",
     "output_type": "stream",
     "text": [
      "[[23.39876468844315, 20.522202935332622], [18.82672303193234, 9.660741975639038], [22.955512402143825, 17.479075159407785], [6.422365963884269, 11.315090293364698], [6.68939972791638, 9.64163192806229], [7.67308359908585, 3.737751118407227]]\n",
      "2 4\n"
     ]
    }
   ],
   "source": [
    "#find a similar single drug response for \"paclitaxel+etoposide\" combination\n",
    "\n",
    "big_dist2=[]\n",
    "for i in range(6):\n",
    "    dist=[]\n",
    "    dist.append(math.dist(p[i+18],p[i]))\n",
    "    dist.append(math.dist(p[i+18],p[i+6]))\n",
    "    big_dist2.append(dist)\n",
    "print(big_dist2)\n",
    "counter_for_etoposide2=0\n",
    "counter_for_paclitaxel2=0\n",
    "for i in range(len(big_dist2)):\n",
    "    if big_dist2[i][0]<big_dist2[i][1]:\n",
    "        counter_for_etoposide2+=1\n",
    "    else:\n",
    "        counter_for_paclitaxel2+=1\n",
    "print(counter_for_etoposide2,counter_for_paclitaxel2)"
   ]
  },
  {
   "cell_type": "code",
   "execution_count": 13,
   "metadata": {},
   "outputs": [
    {
     "name": "stdout",
     "output_type": "stream",
     "text": [
      "[7.14903585230119, 15.25416714964775]\n",
      "[12.152757132568222, 10.528271488800028]\n"
     ]
    }
   ],
   "source": [
    "#processing with the data using centroid\n",
    "#did not use centroid before because of different concentration\n",
    "#centroid_for_e=\n",
    "import math\n",
    "p_for_e=principalDf.iloc[0:6,:]\n",
    "p_for_p=principalDf.iloc[6:12,:]\n",
    "p_for_eandp=principalDf.iloc[12:18,:]\n",
    "p_for_pande=principalDf.iloc[18:24,:]\n",
    "centroid1=p_for_e.mean(axis=0)\n",
    "centroid2=p_for_p.mean(axis=0)\n",
    "centroid3=p_for_eandp.mean(axis=0)\n",
    "centroid4=p_for_pande.mean(axis=0)\n",
    "\n",
    "distance=[]\n",
    "distance2=[]\n",
    "distance.append(math.dist(centroid3,centroid1))\n",
    "distance.append(math.dist(centroid3,centroid2))\n",
    "distance2.append(math.dist(centroid4,centroid1))\n",
    "distance2.append(math.dist(centroid4,centroid2))\n",
    "print(distance)\n",
    "print(distance2)\n",
    "\n",
    "#for \"etoposide+paclitaxel\", etoposide is more similar to it\n",
    "#for \"paclitaxel+etoposide\", paclitaxel is more similar to it\n"
   ]
  },
  {
   "cell_type": "code",
   "execution_count": 14,
   "metadata": {},
   "outputs": [
    {
     "name": "stdout",
     "output_type": "stream",
     "text": [
      "(array([[0.        , 7.28721619]]), array([[12, 13]]))\n"
     ]
    }
   ],
   "source": [
    "\n",
    "#sklearn codes about knn\n",
    "from sklearn.neighbors import NearestNeighbors\n",
    "neighbor = NearestNeighbors(n_neighbors=2)\n",
    "neighbor.fit(p)\n",
    "\n",
    "print(neighbor.kneighbors([p[12]]))\n",
    "\n"
   ]
  },
  {
   "cell_type": "code",
   "execution_count": 15,
   "metadata": {},
   "outputs": [],
   "source": [
    "#before using knn, we need to process with p(add a label. drug_name. for further classification)\n",
    "#for i in range(6):\n",
    "    #print(p[i])\n",
    "\n",
    "#e_c=pd.Series([\"Etoposide\"], dtype=\"string\")\n",
    "#e_p=pd.Series([\"Paclitaxel\"], dtype=\"string\")\n",
    "#e_cp=pd.Series([\"Etoposide+Paclitaxel\"], dtype=\"string\")\n",
    "#type(e_c)\n",
    "#newdata=[]\n",
    "#for i in range(6):\n",
    "\n",
    "#    newdata.append(pd.concat([p[i],e_c]))\n",
    "#for j in range(6):\n",
    "#    newdata.append(pd.concat([p[i+6],e_p]))\n",
    "#for k in range(6):\n",
    " #   newdata.append(pd.concat([p[i+12],e_cp]))\n",
    "\n",
    "for i in range(6):\n",
    "    p[i].append('Etoposide')\n",
    "for j in range(6):\n",
    "    p[j+6].append('Paclitaxel')\n",
    "for k in range(6):\n",
    "    p[k+12].append('Etoposide+Paclitaxel')\n",
    "for m in range(6):\n",
    "    p[m+18].append(\"Paclitaxel+Etoposide\")\n",
    "\n",
    "\n",
    "\n"
   ]
  },
  {
   "cell_type": "code",
   "execution_count": 16,
   "metadata": {},
   "outputs": [],
   "source": [
    "#to show p"
   ]
  },
  {
   "cell_type": "code",
   "execution_count": 17,
   "metadata": {},
   "outputs": [
    {
     "data": {
      "text/plain": [
       "[[20.762611316472956, 0.10147613265441022, 'Etoposide'],\n",
       " [21.036409417777627, -2.407718214685798, 'Etoposide'],\n",
       " [15.579223153512624, -4.39605560525661, 'Etoposide'],\n",
       " [2.2203133290157733, -3.7320081162945336, 'Etoposide'],\n",
       " [-8.56058682704142, -2.5069026396482084, 'Etoposide'],\n",
       " [-4.0855419100451815, -5.340972773522344, 'Etoposide'],\n",
       " [-18.34260629403779, 10.806271833583098, 'Paclitaxel'],\n",
       " [-3.5975449184462898, -1.78169297664057, 'Paclitaxel'],\n",
       " [-12.417614106684367, 11.436544435115042, 'Paclitaxel'],\n",
       " [-7.820144203204372, 5.759005433944957, 'Paclitaxel'],\n",
       " [-7.129385870425525, 1.984962679396495, 'Paclitaxel'],\n",
       " [-7.3805929728674755, -3.147655967988275, 'Paclitaxel']]"
      ]
     },
     "execution_count": 17,
     "metadata": {},
     "output_type": "execute_result"
    }
   ],
   "source": [
    "p2=p[:12]\n",
    "\n",
    "p2"
   ]
  },
  {
   "cell_type": "code",
   "execution_count": 18,
   "metadata": {},
   "outputs": [
    {
     "data": {
      "application/vnd.plotly.v1+json": {
       "config": {
        "plotlyServerURL": "https://plot.ly"
       },
       "data": [
        {
         "hovertemplate": "color=Etoposide+Etoposide+1<br>0=%{x}<br>1=%{y}<extra></extra>",
         "legendgroup": "Etoposide+Etoposide+1",
         "marker": {
          "color": "#636efa",
          "symbol": "circle"
         },
         "mode": "markers",
         "name": "Etoposide+Etoposide+1",
         "orientation": "v",
         "showlegend": true,
         "type": "scatter",
         "x": [
          20.78206566622972
         ],
         "xaxis": "x",
         "y": [
          0.06757029617091921
         ],
         "yaxis": "y"
        },
        {
         "hovertemplate": "color=Etoposide+Etoposide+2<br>0=%{x}<br>1=%{y}<extra></extra>",
         "legendgroup": "Etoposide+Etoposide+2",
         "marker": {
          "color": "#EF553B",
          "symbol": "circle"
         },
         "mode": "markers",
         "name": "Etoposide+Etoposide+2",
         "orientation": "v",
         "showlegend": true,
         "type": "scatter",
         "x": [
          21.05543694571092
         ],
         "xaxis": "x",
         "y": [
          -2.4391268253967673
         ],
         "yaxis": "y"
        },
        {
         "hovertemplate": "color=Etoposide+Etoposide+3<br>0=%{x}<br>1=%{y}<extra></extra>",
         "legendgroup": "Etoposide+Etoposide+3",
         "marker": {
          "color": "#00cc96",
          "symbol": "circle"
         },
         "mode": "markers",
         "name": "Etoposide+Etoposide+3",
         "orientation": "v",
         "showlegend": true,
         "type": "scatter",
         "x": [
          15.57883075183102
         ],
         "xaxis": "x",
         "y": [
          -4.457001700787494
         ],
         "yaxis": "y"
        },
        {
         "hovertemplate": "color=Etoposide+Etoposide+4<br>0=%{x}<br>1=%{y}<extra></extra>",
         "legendgroup": "Etoposide+Etoposide+4",
         "marker": {
          "color": "#ab63fa",
          "symbol": "circle"
         },
         "mode": "markers",
         "name": "Etoposide+Etoposide+4",
         "orientation": "v",
         "showlegend": true,
         "type": "scatter",
         "x": [
          2.1666985712986624
         ],
         "xaxis": "x",
         "y": [
          -3.8780523388543346
         ],
         "yaxis": "y"
        },
        {
         "hovertemplate": "color=Etoposide+Etoposide+5<br>0=%{x}<br>1=%{y}<extra></extra>",
         "legendgroup": "Etoposide+Etoposide+5",
         "marker": {
          "color": "#FFA15A",
          "symbol": "circle"
         },
         "mode": "markers",
         "name": "Etoposide+Etoposide+5",
         "orientation": "v",
         "showlegend": true,
         "type": "scatter",
         "x": [
          -8.62403020722376
         ],
         "xaxis": "x",
         "y": [
          -2.6347597815392567
         ],
         "yaxis": "y"
        },
        {
         "hovertemplate": "color=Etoposide+Etoposide+6<br>0=%{x}<br>1=%{y}<extra></extra>",
         "legendgroup": "Etoposide+Etoposide+6",
         "marker": {
          "color": "#19d3f3",
          "symbol": "circle"
         },
         "mode": "markers",
         "name": "Etoposide+Etoposide+6",
         "orientation": "v",
         "showlegend": true,
         "type": "scatter",
         "x": [
          -4.130299685374447
         ],
         "xaxis": "x",
         "y": [
          -5.416326823821039
         ],
         "yaxis": "y"
        },
        {
         "hovertemplate": "color=Paclitaxel+Paclitaxel+1<br>0=%{x}<br>1=%{y}<extra></extra>",
         "legendgroup": "Paclitaxel+Paclitaxel+1",
         "marker": {
          "color": "#FF6692",
          "symbol": "circle"
         },
         "mode": "markers",
         "name": "Paclitaxel+Paclitaxel+1",
         "orientation": "v",
         "showlegend": true,
         "type": "scatter",
         "x": [
          -18.20938655185139
         ],
         "xaxis": "x",
         "y": [
          11.110529395562239
         ],
         "yaxis": "y"
        },
        {
         "hovertemplate": "color=Paclitaxel+Paclitaxel+2<br>0=%{x}<br>1=%{y}<extra></extra>",
         "legendgroup": "Paclitaxel+Paclitaxel+2",
         "marker": {
          "color": "#B6E880",
          "symbol": "circle"
         },
         "mode": "markers",
         "name": "Paclitaxel+Paclitaxel+2",
         "orientation": "v",
         "showlegend": true,
         "type": "scatter",
         "x": [
          -3.5287893655968063
         ],
         "xaxis": "x",
         "y": [
          -1.538265556529768
         ],
         "yaxis": "y"
        },
        {
         "hovertemplate": "color=Paclitaxel+Paclitaxel+3<br>0=%{x}<br>1=%{y}<extra></extra>",
         "legendgroup": "Paclitaxel+Paclitaxel+3",
         "marker": {
          "color": "#FF97FF",
          "symbol": "circle"
         },
         "mode": "markers",
         "name": "Paclitaxel+Paclitaxel+3",
         "orientation": "v",
         "showlegend": true,
         "type": "scatter",
         "x": [
          -12.413108106448755
         ],
         "xaxis": "x",
         "y": [
          11.420703336111412
         ],
         "yaxis": "y"
        },
        {
         "hovertemplate": "color=Paclitaxel+Paclitaxel+4<br>0=%{x}<br>1=%{y}<extra></extra>",
         "legendgroup": "Paclitaxel+Paclitaxel+4",
         "marker": {
          "color": "#FECB52",
          "symbol": "circle"
         },
         "mode": "markers",
         "name": "Paclitaxel+Paclitaxel+4",
         "orientation": "v",
         "showlegend": true,
         "type": "scatter",
         "x": [
          -7.83471442429594
         ],
         "xaxis": "x",
         "y": [
          5.6896537597731465
         ],
         "yaxis": "y"
        },
        {
         "hovertemplate": "color=Paclitaxel+Paclitaxel+5<br>0=%{x}<br>1=%{y}<extra></extra>",
         "legendgroup": "Paclitaxel+Paclitaxel+5",
         "marker": {
          "color": "#636efa",
          "symbol": "circle"
         },
         "mode": "markers",
         "name": "Paclitaxel+Paclitaxel+5",
         "orientation": "v",
         "showlegend": true,
         "type": "scatter",
         "x": [
          -7.1511221623306716
         ],
         "xaxis": "x",
         "y": [
          1.9305394881007796
         ],
         "yaxis": "y"
        },
        {
         "hovertemplate": "color=Paclitaxel+Paclitaxel+6<br>0=%{x}<br>1=%{y}<extra></extra>",
         "legendgroup": "Paclitaxel+Paclitaxel+6",
         "marker": {
          "color": "#EF553B",
          "symbol": "circle"
         },
         "mode": "markers",
         "name": "Paclitaxel+Paclitaxel+6",
         "orientation": "v",
         "showlegend": true,
         "type": "scatter",
         "x": [
          -7.450128924088527
         ],
         "xaxis": "x",
         "y": [
          -3.255435235596968
         ],
         "yaxis": "y"
        },
        {
         "hovertemplate": "color=Etoposide+Paclitaxel+1<br>0=%{x}<br>1=%{y}<extra></extra>",
         "legendgroup": "Etoposide+Paclitaxel+1",
         "marker": {
          "color": "#00cc96",
          "symbol": "circle"
         },
         "mode": "markers",
         "name": "Etoposide+Paclitaxel+1",
         "orientation": "v",
         "showlegend": true,
         "type": "scatter",
         "x": [
          9.473629629339806
         ],
         "xaxis": "x",
         "y": [
          13.719579101227298
         ],
         "yaxis": "y"
        },
        {
         "hovertemplate": "color=Etoposide+Paclitaxel+2<br>0=%{x}<br>1=%{y}<extra></extra>",
         "legendgroup": "Etoposide+Paclitaxel+2",
         "marker": {
          "color": "#ab63fa",
          "symbol": "circle"
         },
         "mode": "markers",
         "name": "Etoposide+Paclitaxel+2",
         "orientation": "v",
         "showlegend": true,
         "type": "scatter",
         "x": [
          15.563839846583537
         ],
         "xaxis": "x",
         "y": [
          9.677581024732351
         ],
         "yaxis": "y"
        },
        {
         "hovertemplate": "color=Etoposide+Paclitaxel+3<br>0=%{x}<br>1=%{y}<extra></extra>",
         "legendgroup": "Etoposide+Paclitaxel+3",
         "marker": {
          "color": "#FFA15A",
          "symbol": "circle"
         },
         "mode": "markers",
         "name": "Etoposide+Paclitaxel+3",
         "orientation": "v",
         "showlegend": true,
         "type": "scatter",
         "x": [
          13.790031150220726
         ],
         "xaxis": "x",
         "y": [
          5.163119147864661
         ],
         "yaxis": "y"
        },
        {
         "hovertemplate": "color=Etoposide+Paclitaxel+4<br>0=%{x}<br>1=%{y}<extra></extra>",
         "legendgroup": "Etoposide+Paclitaxel+4",
         "marker": {
          "color": "#19d3f3",
          "symbol": "circle"
         },
         "mode": "markers",
         "name": "Etoposide+Paclitaxel+4",
         "orientation": "v",
         "showlegend": true,
         "type": "scatter",
         "x": [
          0.29984815031481615
         ],
         "xaxis": "x",
         "y": [
          2.5620610643473607
         ],
         "yaxis": "y"
        },
        {
         "hovertemplate": "color=Etoposide+Paclitaxel+5<br>0=%{x}<br>1=%{y}<extra></extra>",
         "legendgroup": "Etoposide+Paclitaxel+5",
         "marker": {
          "color": "#FF6692",
          "symbol": "circle"
         },
         "mode": "markers",
         "name": "Etoposide+Paclitaxel+5",
         "orientation": "v",
         "showlegend": true,
         "type": "scatter",
         "x": [
          -1.0602529747311193
         ],
         "xaxis": "x",
         "y": [
          -2.139963627684509
         ],
         "yaxis": "y"
        },
        {
         "hovertemplate": "color=Etoposide+Paclitaxel+6<br>0=%{x}<br>1=%{y}<extra></extra>",
         "legendgroup": "Etoposide+Paclitaxel+6",
         "marker": {
          "color": "#B6E880",
          "symbol": "circle"
         },
         "mode": "markers",
         "name": "Etoposide+Paclitaxel+6",
         "orientation": "v",
         "showlegend": true,
         "type": "scatter",
         "x": [
          -3.0998415798986554
         ],
         "xaxis": "x",
         "y": [
          -6.376140798075264
         ],
         "yaxis": "y"
        },
        {
         "hovertemplate": "color=Paclitaxel+Etoposide+1<br>0=%{x}<br>1=%{y}<extra></extra>",
         "legendgroup": "Paclitaxel+Etoposide+1",
         "marker": {
          "color": "#FF97FF",
          "symbol": "circle"
         },
         "mode": "markers",
         "name": "Paclitaxel+Etoposide+1",
         "orientation": "v",
         "showlegend": true,
         "type": "scatter",
         "x": [
          -2.414764244535226
         ],
         "xaxis": "x",
         "y": [
          -1.8096603568501477
         ],
         "yaxis": "y"
        },
        {
         "hovertemplate": "color=Paclitaxel+Etoposide+2<br>0=%{x}<br>1=%{y}<extra></extra>",
         "legendgroup": "Paclitaxel+Etoposide+2",
         "marker": {
          "color": "#FECB52",
          "symbol": "circle"
         },
         "mode": "markers",
         "name": "Paclitaxel+Etoposide+2",
         "orientation": "v",
         "showlegend": true,
         "type": "scatter",
         "x": [
          3.2559631290018607
         ],
         "xaxis": "x",
         "y": [
          -8.392532906831535
         ],
         "yaxis": "y"
        },
        {
         "hovertemplate": "color=Paclitaxel+Etoposide+3<br>0=%{x}<br>1=%{y}<extra></extra>",
         "legendgroup": "Paclitaxel+Etoposide+3",
         "marker": {
          "color": "#636efa",
          "symbol": "circle"
         },
         "mode": "markers",
         "name": "Paclitaxel+Etoposide+3",
         "orientation": "v",
         "showlegend": true,
         "type": "scatter",
         "x": [
          -7.459102499120544
         ],
         "xaxis": "x",
         "y": [
          -5.408122160426188
         ],
         "yaxis": "y"
        },
        {
         "hovertemplate": "color=Paclitaxel+Etoposide+4<br>0=%{x}<br>1=%{y}<extra></extra>",
         "legendgroup": "Paclitaxel+Etoposide+4",
         "marker": {
          "color": "#EF553B",
          "symbol": "circle"
         },
         "mode": "markers",
         "name": "Paclitaxel+Etoposide+4",
         "orientation": "v",
         "showlegend": true,
         "type": "scatter",
         "x": [
          -4.16341065205547
         ],
         "xaxis": "x",
         "y": [
          -5.005373782509312
         ],
         "yaxis": "y"
        },
        {
         "hovertemplate": "color=Paclitaxel+Etoposide+5<br>0=%{x}<br>1=%{y}<extra></extra>",
         "legendgroup": "Paclitaxel+Etoposide+5",
         "marker": {
          "color": "#00cc96",
          "symbol": "circle"
         },
         "mode": "markers",
         "name": "Paclitaxel+Etoposide+5",
         "orientation": "v",
         "showlegend": true,
         "type": "scatter",
         "x": [
          -3.631040222075212
         ],
         "xaxis": "x",
         "y": [
          -6.990147896373702
         ],
         "yaxis": "y"
        },
        {
         "hovertemplate": "color=Paclitaxel+Etoposide+6<br>0=%{x}<br>1=%{y}<extra></extra>",
         "legendgroup": "Paclitaxel+Etoposide+6",
         "marker": {
          "color": "#ab63fa",
          "symbol": "circle"
         },
         "mode": "markers",
         "name": "Paclitaxel+Etoposide+6",
         "orientation": "v",
         "showlegend": true,
         "type": "scatter",
         "x": [
          -10.796352240904548
         ],
         "xaxis": "x",
         "y": [
          -1.600426822613884
         ],
         "yaxis": "y"
        }
       ],
       "layout": {
        "legend": {
         "title": {
          "text": "color"
         },
         "tracegroupgap": 0
        },
        "margin": {
         "t": 60
        },
        "template": {
         "data": {
          "bar": [
           {
            "error_x": {
             "color": "#2a3f5f"
            },
            "error_y": {
             "color": "#2a3f5f"
            },
            "marker": {
             "line": {
              "color": "#E5ECF6",
              "width": 0.5
             },
             "pattern": {
              "fillmode": "overlay",
              "size": 10,
              "solidity": 0.2
             }
            },
            "type": "bar"
           }
          ],
          "barpolar": [
           {
            "marker": {
             "line": {
              "color": "#E5ECF6",
              "width": 0.5
             },
             "pattern": {
              "fillmode": "overlay",
              "size": 10,
              "solidity": 0.2
             }
            },
            "type": "barpolar"
           }
          ],
          "carpet": [
           {
            "aaxis": {
             "endlinecolor": "#2a3f5f",
             "gridcolor": "white",
             "linecolor": "white",
             "minorgridcolor": "white",
             "startlinecolor": "#2a3f5f"
            },
            "baxis": {
             "endlinecolor": "#2a3f5f",
             "gridcolor": "white",
             "linecolor": "white",
             "minorgridcolor": "white",
             "startlinecolor": "#2a3f5f"
            },
            "type": "carpet"
           }
          ],
          "choropleth": [
           {
            "colorbar": {
             "outlinewidth": 0,
             "ticks": ""
            },
            "type": "choropleth"
           }
          ],
          "contour": [
           {
            "colorbar": {
             "outlinewidth": 0,
             "ticks": ""
            },
            "colorscale": [
             [
              0,
              "#0d0887"
             ],
             [
              0.1111111111111111,
              "#46039f"
             ],
             [
              0.2222222222222222,
              "#7201a8"
             ],
             [
              0.3333333333333333,
              "#9c179e"
             ],
             [
              0.4444444444444444,
              "#bd3786"
             ],
             [
              0.5555555555555556,
              "#d8576b"
             ],
             [
              0.6666666666666666,
              "#ed7953"
             ],
             [
              0.7777777777777778,
              "#fb9f3a"
             ],
             [
              0.8888888888888888,
              "#fdca26"
             ],
             [
              1,
              "#f0f921"
             ]
            ],
            "type": "contour"
           }
          ],
          "contourcarpet": [
           {
            "colorbar": {
             "outlinewidth": 0,
             "ticks": ""
            },
            "type": "contourcarpet"
           }
          ],
          "heatmap": [
           {
            "colorbar": {
             "outlinewidth": 0,
             "ticks": ""
            },
            "colorscale": [
             [
              0,
              "#0d0887"
             ],
             [
              0.1111111111111111,
              "#46039f"
             ],
             [
              0.2222222222222222,
              "#7201a8"
             ],
             [
              0.3333333333333333,
              "#9c179e"
             ],
             [
              0.4444444444444444,
              "#bd3786"
             ],
             [
              0.5555555555555556,
              "#d8576b"
             ],
             [
              0.6666666666666666,
              "#ed7953"
             ],
             [
              0.7777777777777778,
              "#fb9f3a"
             ],
             [
              0.8888888888888888,
              "#fdca26"
             ],
             [
              1,
              "#f0f921"
             ]
            ],
            "type": "heatmap"
           }
          ],
          "heatmapgl": [
           {
            "colorbar": {
             "outlinewidth": 0,
             "ticks": ""
            },
            "colorscale": [
             [
              0,
              "#0d0887"
             ],
             [
              0.1111111111111111,
              "#46039f"
             ],
             [
              0.2222222222222222,
              "#7201a8"
             ],
             [
              0.3333333333333333,
              "#9c179e"
             ],
             [
              0.4444444444444444,
              "#bd3786"
             ],
             [
              0.5555555555555556,
              "#d8576b"
             ],
             [
              0.6666666666666666,
              "#ed7953"
             ],
             [
              0.7777777777777778,
              "#fb9f3a"
             ],
             [
              0.8888888888888888,
              "#fdca26"
             ],
             [
              1,
              "#f0f921"
             ]
            ],
            "type": "heatmapgl"
           }
          ],
          "histogram": [
           {
            "marker": {
             "pattern": {
              "fillmode": "overlay",
              "size": 10,
              "solidity": 0.2
             }
            },
            "type": "histogram"
           }
          ],
          "histogram2d": [
           {
            "colorbar": {
             "outlinewidth": 0,
             "ticks": ""
            },
            "colorscale": [
             [
              0,
              "#0d0887"
             ],
             [
              0.1111111111111111,
              "#46039f"
             ],
             [
              0.2222222222222222,
              "#7201a8"
             ],
             [
              0.3333333333333333,
              "#9c179e"
             ],
             [
              0.4444444444444444,
              "#bd3786"
             ],
             [
              0.5555555555555556,
              "#d8576b"
             ],
             [
              0.6666666666666666,
              "#ed7953"
             ],
             [
              0.7777777777777778,
              "#fb9f3a"
             ],
             [
              0.8888888888888888,
              "#fdca26"
             ],
             [
              1,
              "#f0f921"
             ]
            ],
            "type": "histogram2d"
           }
          ],
          "histogram2dcontour": [
           {
            "colorbar": {
             "outlinewidth": 0,
             "ticks": ""
            },
            "colorscale": [
             [
              0,
              "#0d0887"
             ],
             [
              0.1111111111111111,
              "#46039f"
             ],
             [
              0.2222222222222222,
              "#7201a8"
             ],
             [
              0.3333333333333333,
              "#9c179e"
             ],
             [
              0.4444444444444444,
              "#bd3786"
             ],
             [
              0.5555555555555556,
              "#d8576b"
             ],
             [
              0.6666666666666666,
              "#ed7953"
             ],
             [
              0.7777777777777778,
              "#fb9f3a"
             ],
             [
              0.8888888888888888,
              "#fdca26"
             ],
             [
              1,
              "#f0f921"
             ]
            ],
            "type": "histogram2dcontour"
           }
          ],
          "mesh3d": [
           {
            "colorbar": {
             "outlinewidth": 0,
             "ticks": ""
            },
            "type": "mesh3d"
           }
          ],
          "parcoords": [
           {
            "line": {
             "colorbar": {
              "outlinewidth": 0,
              "ticks": ""
             }
            },
            "type": "parcoords"
           }
          ],
          "pie": [
           {
            "automargin": true,
            "type": "pie"
           }
          ],
          "scatter": [
           {
            "fillpattern": {
             "fillmode": "overlay",
             "size": 10,
             "solidity": 0.2
            },
            "type": "scatter"
           }
          ],
          "scatter3d": [
           {
            "line": {
             "colorbar": {
              "outlinewidth": 0,
              "ticks": ""
             }
            },
            "marker": {
             "colorbar": {
              "outlinewidth": 0,
              "ticks": ""
             }
            },
            "type": "scatter3d"
           }
          ],
          "scattercarpet": [
           {
            "marker": {
             "colorbar": {
              "outlinewidth": 0,
              "ticks": ""
             }
            },
            "type": "scattercarpet"
           }
          ],
          "scattergeo": [
           {
            "marker": {
             "colorbar": {
              "outlinewidth": 0,
              "ticks": ""
             }
            },
            "type": "scattergeo"
           }
          ],
          "scattergl": [
           {
            "marker": {
             "colorbar": {
              "outlinewidth": 0,
              "ticks": ""
             }
            },
            "type": "scattergl"
           }
          ],
          "scattermapbox": [
           {
            "marker": {
             "colorbar": {
              "outlinewidth": 0,
              "ticks": ""
             }
            },
            "type": "scattermapbox"
           }
          ],
          "scatterpolar": [
           {
            "marker": {
             "colorbar": {
              "outlinewidth": 0,
              "ticks": ""
             }
            },
            "type": "scatterpolar"
           }
          ],
          "scatterpolargl": [
           {
            "marker": {
             "colorbar": {
              "outlinewidth": 0,
              "ticks": ""
             }
            },
            "type": "scatterpolargl"
           }
          ],
          "scatterternary": [
           {
            "marker": {
             "colorbar": {
              "outlinewidth": 0,
              "ticks": ""
             }
            },
            "type": "scatterternary"
           }
          ],
          "surface": [
           {
            "colorbar": {
             "outlinewidth": 0,
             "ticks": ""
            },
            "colorscale": [
             [
              0,
              "#0d0887"
             ],
             [
              0.1111111111111111,
              "#46039f"
             ],
             [
              0.2222222222222222,
              "#7201a8"
             ],
             [
              0.3333333333333333,
              "#9c179e"
             ],
             [
              0.4444444444444444,
              "#bd3786"
             ],
             [
              0.5555555555555556,
              "#d8576b"
             ],
             [
              0.6666666666666666,
              "#ed7953"
             ],
             [
              0.7777777777777778,
              "#fb9f3a"
             ],
             [
              0.8888888888888888,
              "#fdca26"
             ],
             [
              1,
              "#f0f921"
             ]
            ],
            "type": "surface"
           }
          ],
          "table": [
           {
            "cells": {
             "fill": {
              "color": "#EBF0F8"
             },
             "line": {
              "color": "white"
             }
            },
            "header": {
             "fill": {
              "color": "#C8D4E3"
             },
             "line": {
              "color": "white"
             }
            },
            "type": "table"
           }
          ]
         },
         "layout": {
          "annotationdefaults": {
           "arrowcolor": "#2a3f5f",
           "arrowhead": 0,
           "arrowwidth": 1
          },
          "autotypenumbers": "strict",
          "coloraxis": {
           "colorbar": {
            "outlinewidth": 0,
            "ticks": ""
           }
          },
          "colorscale": {
           "diverging": [
            [
             0,
             "#8e0152"
            ],
            [
             0.1,
             "#c51b7d"
            ],
            [
             0.2,
             "#de77ae"
            ],
            [
             0.3,
             "#f1b6da"
            ],
            [
             0.4,
             "#fde0ef"
            ],
            [
             0.5,
             "#f7f7f7"
            ],
            [
             0.6,
             "#e6f5d0"
            ],
            [
             0.7,
             "#b8e186"
            ],
            [
             0.8,
             "#7fbc41"
            ],
            [
             0.9,
             "#4d9221"
            ],
            [
             1,
             "#276419"
            ]
           ],
           "sequential": [
            [
             0,
             "#0d0887"
            ],
            [
             0.1111111111111111,
             "#46039f"
            ],
            [
             0.2222222222222222,
             "#7201a8"
            ],
            [
             0.3333333333333333,
             "#9c179e"
            ],
            [
             0.4444444444444444,
             "#bd3786"
            ],
            [
             0.5555555555555556,
             "#d8576b"
            ],
            [
             0.6666666666666666,
             "#ed7953"
            ],
            [
             0.7777777777777778,
             "#fb9f3a"
            ],
            [
             0.8888888888888888,
             "#fdca26"
            ],
            [
             1,
             "#f0f921"
            ]
           ],
           "sequentialminus": [
            [
             0,
             "#0d0887"
            ],
            [
             0.1111111111111111,
             "#46039f"
            ],
            [
             0.2222222222222222,
             "#7201a8"
            ],
            [
             0.3333333333333333,
             "#9c179e"
            ],
            [
             0.4444444444444444,
             "#bd3786"
            ],
            [
             0.5555555555555556,
             "#d8576b"
            ],
            [
             0.6666666666666666,
             "#ed7953"
            ],
            [
             0.7777777777777778,
             "#fb9f3a"
            ],
            [
             0.8888888888888888,
             "#fdca26"
            ],
            [
             1,
             "#f0f921"
            ]
           ]
          },
          "colorway": [
           "#636efa",
           "#EF553B",
           "#00cc96",
           "#ab63fa",
           "#FFA15A",
           "#19d3f3",
           "#FF6692",
           "#B6E880",
           "#FF97FF",
           "#FECB52"
          ],
          "font": {
           "color": "#2a3f5f"
          },
          "geo": {
           "bgcolor": "white",
           "lakecolor": "white",
           "landcolor": "#E5ECF6",
           "showlakes": true,
           "showland": true,
           "subunitcolor": "white"
          },
          "hoverlabel": {
           "align": "left"
          },
          "hovermode": "closest",
          "mapbox": {
           "style": "light"
          },
          "paper_bgcolor": "white",
          "plot_bgcolor": "#E5ECF6",
          "polar": {
           "angularaxis": {
            "gridcolor": "white",
            "linecolor": "white",
            "ticks": ""
           },
           "bgcolor": "#E5ECF6",
           "radialaxis": {
            "gridcolor": "white",
            "linecolor": "white",
            "ticks": ""
           }
          },
          "scene": {
           "xaxis": {
            "backgroundcolor": "#E5ECF6",
            "gridcolor": "white",
            "gridwidth": 2,
            "linecolor": "white",
            "showbackground": true,
            "ticks": "",
            "zerolinecolor": "white"
           },
           "yaxis": {
            "backgroundcolor": "#E5ECF6",
            "gridcolor": "white",
            "gridwidth": 2,
            "linecolor": "white",
            "showbackground": true,
            "ticks": "",
            "zerolinecolor": "white"
           },
           "zaxis": {
            "backgroundcolor": "#E5ECF6",
            "gridcolor": "white",
            "gridwidth": 2,
            "linecolor": "white",
            "showbackground": true,
            "ticks": "",
            "zerolinecolor": "white"
           }
          },
          "shapedefaults": {
           "line": {
            "color": "#2a3f5f"
           }
          },
          "ternary": {
           "aaxis": {
            "gridcolor": "white",
            "linecolor": "white",
            "ticks": ""
           },
           "baxis": {
            "gridcolor": "white",
            "linecolor": "white",
            "ticks": ""
           },
           "bgcolor": "#E5ECF6",
           "caxis": {
            "gridcolor": "white",
            "linecolor": "white",
            "ticks": ""
           }
          },
          "title": {
           "x": 0.05
          },
          "xaxis": {
           "automargin": true,
           "gridcolor": "white",
           "linecolor": "white",
           "ticks": "",
           "title": {
            "standoff": 15
           },
           "zerolinecolor": "white",
           "zerolinewidth": 2
          },
          "yaxis": {
           "automargin": true,
           "gridcolor": "white",
           "linecolor": "white",
           "ticks": "",
           "title": {
            "standoff": 15
           },
           "zerolinecolor": "white",
           "zerolinewidth": 2
          }
         }
        },
        "xaxis": {
         "anchor": "y",
         "domain": [
          0,
          1
         ],
         "title": {
          "text": "0"
         }
        },
        "yaxis": {
         "anchor": "x",
         "domain": [
          0,
          1
         ],
         "title": {
          "text": "1"
         }
        }
       }
      }
     },
     "metadata": {},
     "output_type": "display_data"
    }
   ],
   "source": [
    "#visualization(not the main work; just for getting an intuition)\n",
    "#pca model\n",
    "\n",
    "import pandas as pd\n",
    "import plotly.express as px\n",
    "from sklearn.decomposition import PCA\n",
    "from sklearn.preprocessing import StandardScaler\n",
    "\n",
    "\n",
    "X_drug = e_and_p.iloc[:, 2:240].values\n",
    "\n",
    "X_drug = StandardScaler().fit_transform(X_drug)\n",
    "\n",
    "pca_drug = PCA(n_components=2)\n",
    "components = pca_drug.fit_transform(X_drug)\n",
    "\n",
    "\n",
    "\n",
    "fig = px.scatter(components, x=0, y=1, color=e_and_p['drug_name'])\n",
    "fig.show()"
   ]
  },
  {
   "cell_type": "code",
   "execution_count": 19,
   "metadata": {},
   "outputs": [
    {
     "name": "stdout",
     "output_type": "stream",
     "text": [
      "[5.801779452524158, 3.809620166491786, 'Etoposide+Paclitaxel']\n"
     ]
    }
   ],
   "source": [
    "def get_centroid(point_lst):\n",
    "    x_sum=0\n",
    "    y_sum=0\n",
    "    for i in range(len(point_lst)):\n",
    "        x_sum+=point_lst[i][0]\n",
    "        y_sum+=point_lst[i][1]\n",
    "\n",
    "    x_mean=x_sum/len(point_lst)\n",
    "    y_mean=y_sum/len(point_lst)\n",
    "    centroid=[]\n",
    "    centroid.append(x_mean)\n",
    "    centroid.append(y_mean)\n",
    "    centroid.append(point_lst[0][-1])\n",
    "    return centroid\n",
    "print(get_centroid(p[12:18]))\n"
   ]
  },
  {
   "cell_type": "code",
   "execution_count": 20,
   "metadata": {},
   "outputs": [
    {
     "name": "stdout",
     "output_type": "stream",
     "text": [
      "The single drug response that is similar to \" Paclitaxel+Etoposide \" is: Paclitaxel.\n"
     ]
    }
   ],
   "source": [
    "# hand-written codes about knn\n",
    "# knn codes here: I picked many k values, and pick the most frequent results\n",
    "# (results according to different k values situations)\n",
    "# 1 euclidean distance\n",
    "# Example of calculating Euclidean distance\n",
    "from math import sqrt\n",
    " \n",
    "# calculate the Euclidean distance between two vectors\n",
    "def euclidean_distance(row1, row2):\n",
    "\tdistance = 0.0\n",
    "\tfor i in range(len(row1)-1):\n",
    "\t\tdistance += (row1[i] - row2[i])**2\n",
    "\treturn sqrt(distance)\n",
    "# Locate the most similar neighbors\n",
    "def get_neighbors(train, test_row, num_neighbors):\n",
    "\tdistances = list()\n",
    "\tfor train_row in train:\n",
    "\t\tdist = euclidean_distance(test_row, train_row)\n",
    "\t\tdistances.append((train_row, dist))\n",
    "\tdistances.sort(key=lambda tup: tup[1])\n",
    "\tneighbors = list()\n",
    "\tfor i in range(num_neighbors):\n",
    "\t\tneighbors.append(distances[i][0])\n",
    "\treturn neighbors\n",
    "\n",
    "# Make a classification prediction with neighbors\n",
    "def predict_classification(train, test_row, num_neighbors):\n",
    "    \t\n",
    "\tneighbors = get_neighbors(train, test_row, num_neighbors)\n",
    "\toutput_values = [row[-1] for row in neighbors]\n",
    "\tprediction = max(set(output_values), key=output_values.count)\n",
    "\treturn prediction\n",
    " \n",
    "# Test distance function\n",
    "\n",
    "#row0 = p[12]\n",
    "#for row in p:\n",
    "#\tdistance = euclidean_distance(row0, row)\n",
    "\t#print(distance)\n",
    "neighbors = get_neighbors(p2, p[12], 3)\n",
    "#for neighbor in neighbors:\n",
    "\t#print(neighbor)\n",
    "#neighbors2=get_neighbors(newdata,newdata[12],3)\n",
    "#prediction = predict_classification(p2, p[12], 3)\n",
    "#print('The single drug response that is similar to \" %s \" is: %s.' % (p[12][-1], prediction))\n",
    "#prediction = predict_classification(p2, p[12], 4)\n",
    "#print('The single drug response that is similar to \" %s \" is: %s.' % (p[12][-1], prediction))\n",
    "#prediction = predict_classification(p2, p[12], 5)\n",
    "#print('The single drug response that is similar to \" %s \" is: %s.' % (p[12][-1], prediction))\n",
    "#prediction = predict_classification(p2, p[12], 6)\n",
    "#print('The single drug response that is similar to \" %s \" is: %s.' % (p[12][-1], prediction))\n",
    "#prediction = predict_classification(p2, p[12], 7)\n",
    "#print('The single drug response that is similar to \" %s \" is: %s.' % (p[12][-1], prediction))\n",
    "centroid_ep=get_centroid(p[12:18])\n",
    "#prediction = predict_classification(p2, centroid_ep, 3)\n",
    "#print('The single drug response that is similar to \" %s \" is: %s.' % (centroid_ep[-1], prediction))\n",
    "centroid_pe=get_centroid(p[18:24])\n",
    "new_lst=[]\n",
    "new_lst.append(centroid_pe)\n",
    "new_lst.append(centroid_ep)\n",
    "new_centroid=get_centroid(new_lst)\n",
    "#prediction = predict_classification(p2, centroid_pe, 3)\n",
    "#print('The single drug response that is similar to \" %s \" is: %s.' % (centroid_pe[-1], prediction))\n",
    "#print(new_centroid)\n",
    "res=[]\n",
    "for i in range(1,13):\n",
    "    res.append(predict_classification(p2, new_centroid, i))\n",
    "#prediction = predict_classification(p2, new_centroid, 12)\n",
    "#print('The single drug response that is similar to \" %s \" is: %s.' % (new_centroid[-1], prediction))\n",
    "\n",
    "\n",
    "def more_frequent_res(lst):\n",
    "    \t\n",
    "\tcnt1=0\n",
    "\tcnt2=0\n",
    "\tfor i in range(len(lst)):\n",
    "\t\tif lst[i]=='Paclitaxel':\n",
    "\t\t\t\tcnt1+=1\n",
    "\t\telif lst[i]=='Etoposide':\n",
    "\t\t\t\tcnt2+=1\n",
    "\tif cnt1>cnt2: return 'Paclitaxel'\n",
    "\telse: return 'Etoposide'\n",
    "\n",
    "res2=more_frequent_res(res)\n",
    "#print(res2)\n",
    "print('The single drug response that is similar to \" %s \" is: %s.' %(new_centroid[-1],res2))\n",
    "\t\t\n",
    "\n"
   ]
  },
  {
   "cell_type": "code",
   "execution_count": 21,
   "metadata": {},
   "outputs": [],
   "source": [
    "#find similar drug response\n"
   ]
  },
  {
   "cell_type": "code",
   "execution_count": null,
   "metadata": {},
   "outputs": [],
   "source": []
  }
 ],
 "metadata": {
  "kernelspec": {
   "display_name": "Python 3.8.5 ('base')",
   "language": "python",
   "name": "python3"
  },
  "language_info": {
   "codemirror_mode": {
    "name": "ipython",
    "version": 3
   },
   "file_extension": ".py",
   "mimetype": "text/x-python",
   "name": "python",
   "nbconvert_exporter": "python",
   "pygments_lexer": "ipython3",
   "version": "3.8.5"
  },
  "vscode": {
   "interpreter": {
    "hash": "40d3a090f54c6569ab1632332b64b2c03c39dcf918b08424e98f38b5ae0af88f"
   }
  }
 },
 "nbformat": 4,
 "nbformat_minor": 4
}

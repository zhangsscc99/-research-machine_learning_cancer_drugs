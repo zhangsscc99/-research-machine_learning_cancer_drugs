{
 "cells": [
  {
   "cell_type": "code",
   "execution_count": 20,
   "metadata": {},
   "outputs": [
    {
     "name": "stdout",
     "output_type": "stream",
     "text": [
      "<class 'list'>\n"
     ]
    }
   ],
   "source": [
    "import csv\n",
    "with open('CoreCurriculum.csv', 'r') as csvfile:\n",
    "    \n",
    "    \n",
    "    lines = csv.reader(csvfile)\n",
    "    \n",
    "    \n",
    "    newlines=[]\n",
    "    counter=0\n",
    "    for line in lines:\n",
    "        \n",
    "\n",
    "        if counter>=5:\n",
    "            newlines.append(line)\n",
    "\n",
    "        counter+=1\n",
    "        \n",
    "print(type(newlines))\n",
    "\n",
    "with open('newcore.csv','w') as f2:\n",
    "    csvwriter = csv.writer(f2) \n",
    "        \n",
    "    # writing the fields \n",
    "    \n",
    "    csvwriter.writerows(newlines)\n",
    "\n",
    "f2.close()\n",
    "\n",
    "\n",
    "    \n",
    "    \n",
    "\n",
    "\n",
    "    \n",
    "    \n",
    "     \n",
    "    "
   ]
  },
  {
   "cell_type": "code",
   "execution_count": null,
   "metadata": {},
   "outputs": [],
   "source": [
    "with open(\"country.csv\", \"r\") as csv_file:\n",
    "    csv_reader = csv.DictReader(csv_file, delimiter=',')\n",
    "    for lines in csv_reader:\n",
    "      print(lines['COUNTRY_ID'], lines['COUNTRY_NAME'])"
   ]
  },
  {
   "cell_type": "code",
   "execution_count": 28,
   "metadata": {},
   "outputs": [
    {
     "name": "stdout",
     "output_type": "stream",
     "text": [
      "ARTH-UA 510 East Asian Art I: China, Korea, Japan to 1000 Ce       Chinese Arts\n",
      "ARTH-UA 511  East Asian Art II: China, Korea, Japan to 1000 Ce       Chinese Arts\n",
      "COLIT-UA 723 Modern Chinese Fiction       Inter-disciplinary Perspectives on China (IPC)\n",
      "COLIT-UA 723  Modern Chinese Fiction        HPC/CA\n",
      "COLIT-UA 726 Narrative Arts of Asia: Chinese Literature & World Literature       SSPC\n",
      "EAGC-UF - 101  east asian        SSPC\n",
      "EAGC-UF 101 East Asian Cultures       SSPC\n",
      "EAST-UA  732 Modern Chinese Fiction       Inter-disciplinary Perspectives on China (IPC)\n",
      "EAST-UA  732  Modern Chinese Fiction        Humanistic Perspectives on China / Chinese Arts\n",
      "EAST-UA 223 Politico-Philosophical Texts in Classical Chinese       Humanistic Perspectives on China / Chinese Arts\n",
      "EAST-UA 223 Politico-Philosophical Texts in Classical Chinese       SSPC\n",
      "EAST-UA 224 Narrative Texts in Classical Chinese       Chinese Arts\n",
      "EAST-UA 224 Narrative Texts in Classical Chinese       Inter-disciplinary Perspectives on China (IPC)\n",
      "EAST-UA 227  Country & City: Readings in Mod Chinese Lit & Film       Chinese Arts\n",
      "EAST-UA 228 Reading The Dream of The Red Chamber       China Arts\n",
      "EAST-UA 300/COLIT-UA 300  Human and Animal in Chinese Literature and Film       HPC/CA\n",
      "EAST-UA 351 Belief and Social Life in China       SSPC\n",
      "EAST-UA 531 Asia's Revolutns:China/India/Vietnam, 1885-1962       Social Science Perspective on China\n",
      "EAST-UA 536 Gender & Radicalism in Modern China       Inter-disciplinary Perspectives on China (IPC)\n",
      "EAST-UA 540 Chinese Film and Society       Inter-disciplinary Perspectives on China (IPC)\n",
      "EAST-UA 540  Chinese Film and Society       China Arts\n",
      "EAST-UA 543  Mass Culture: China       IPC\n",
      "EAST-UA 618  Approaches to Chinese Cinema       Chinese Arts\n",
      "EAST-UA 718 Epic Romances of Asia: China, Japan, and Vietnam       Chinese Arts\n",
      "EAST-UA 722 Readings in Chinese Philosophy & Culture       SSPC\n",
      "EAST-UA 722 Readings in Chinese Philosophy and Culture       Inter-disciplinary Perspectives on China (IPC)\n",
      "EAST-UA 722  Readings in Chinese Philosophy and Culture       Chinese Arts\n",
      "EAST-UA 731 20th Century Chinese Literature in Translation       SSPC\n",
      "EAST-UA 731 20th Century Chinese Literature in Translation       Inter-disciplinary Perspectives on China (IPC)\n",
      "EAST-UA 731 20th Century Chinese Literature in Translation       HPC/CA\n",
      "EAST-UA 732  East Asian Studies       Humanistic Perspectives on China / Chinese Arts\n",
      "EAST-UA 770 International Relations of Asia       SSPC\n",
      "EAST-UA 832 Intro to Buddhism       SSPC\n",
      "EAST-UA 833 Tibetan Buddhism       SSPC\n",
      "EAST-UA 9053 History of Modern China Since 1840       SSPC\n",
      "EAST-UA 950 Topic: Popular Religion in Pre-Modern China & Japan       HPC/CA\n",
      "EAST-UA 950 Topic: Popular Religion in Pre-Modern China & Japan       SSPC\n",
      "EAST-UA 950  Topics in Asian Studies: Visual Effects in East Asian.       HPC/CA\n",
      "EAST-UA 950  Topics in Asian Studies: East Asian Art & Civilizations       Humanistic Perspectives on China / Chinese Arts\n",
      "EAST-UA 952 Topics in Chinese Studies: Chinese Literature & World Literature       SSPC\n",
      "EAST-UA 952 Topic: Literary Transformations in Post-Mao China       SSPC\n",
      "EAST-UA 952 Topics in Chinese Studies (Political Thought of Modern China)       SSPC\n",
      "EAST-UA 952 Topics in Chinese Studies        Inter-disciplinary Perspectives on China (IPC)\n",
      "EAST-UA 952 Topic: Tales Retold? Modern Contemporary Chinese Art       Social Science Perspectives on China\n",
      "EAST-UA 952  Topics in East Asian studies: Political Thought of Modern China       SSPC\n",
      "FRSEM-UA 461 Reading the Dream of Red Chamber       China Arts\n",
      "HIST-UA 282 City Life and Urban Culture in Early Modern China       Inter-disciplinary Perspectives on China (IPC)\n",
      "HIST-UA 282  Topics: City life and Urban Culture in Early Modern China       SSPC\n",
      "HIST-UA 536  Topics: Underground Warriors and Empress Wu's Fashion: Mat        HPC/CA\n",
      "HIST-UA 536  Popular Culture in East Asia        SSPC\n",
      "HIST-UA 536  Gender & Radicalism in Modern China       SSPC\n",
      "HIST-UA 546 Mao and The Chinese Revolution       SSPC\n",
      "HIST-UA 546 Mao and The Chinese Revolution       Inter-disciplinary Perspectives on China (IPC)\n",
      "HIST-UA 551  Topics in Chinese History Topics in Chinese Hist Gender & Radicalism in Modern China       SSPC\n",
      "HIST-UA 654 Topics in Asian History       SSPC\n",
      "HIST-UA 9053 History of Modern China Since 1840       SSPC\n",
      "IDSEM-UG 1952 Africa, China and Globalization       SSPC\n",
      "LWSOC-UA 9251 Law, Culture and Politics in China       SSPC\n",
      "MCC-UE 1310  Culture & Media in Urban China       Chinese Arts (spring 2019 and before ONLY)\n",
      "MCC-UE 9451  Global Media Seminar: China       China Arts\n",
      "MCC-UE 9993  Chinese Cyberculture       Chinese Arts\n",
      "MCC-UE 9993  Chinese Cyberculture       SSPC\n",
      "PL-UY 2134W Philosophy of Science, Technology and Society in China and India       SSPC\n",
      "POL-UA 700  International Politics       Social Science Perspective on China\n",
      "POL-UA 770 International Relations of Asia       SSPC\n",
      "POL-UA 994 Topics: Political Economy of China       SSPC\n",
      "RELST-UA 835 Tibetan Buddhism       SSPC\n",
      "RELST-UA 9270  Seminar: Ghosts, Gods, Buddhas       Chinese Arts (spring 2019 and before ONLY)\n",
      "SCA-UA 380  Topics in A/P/A Studies: Global Noodles - Silk Routes & Subway Connections       Chinese Arts (spring 2019 and before ONLY)\n",
      "EAST-UA 952 Topics in Chinese Studies: Film and Society       Social Science Perspectives on China\n"
     ]
    }
   ],
   "source": [
    "with open(\"newcore.csv\", \"r\") as csv_file:\n",
    "    result=[]\n",
    "    csv_reader = csv.DictReader(csv_file, delimiter=',')\n",
    "    for lines in csv_reader:\n",
    "        if lines['Core']=='SSPC' or lines['Core']=='Chinese Arts' or lines['Core']=='Inter-disciplinary Perspectives on China (IPC)' or lines['Core']=='Humanistic Perspectives on China / Chinese Arts' or lines['Core']=='China Arts' or lines['Core']=='Social Science Perspective on China' or lines['Core']=='IPC' or lines['Core']=='HPC/CA' or lines['Core']=='Chinese Arts (spring 2019 and before ONLY)' or lines['Core']=='Social Science Perspectives on China':\n",
    "\n",
    "            print(lines['Course_Number'],lines['Course_Title'],'     ', lines['Core'])\n",
    "            result.append([lines['Course_Number'],lines['Course_Title'],'     ', lines['Core']])\n",
    "\n",
    "with open('result.csv','w') as result2:\n",
    "    csvwriter = csv.writer(result2) \n",
    "        \n",
    "    # writing the fields \n",
    "    \n",
    "    csvwriter.writerows(result)\n",
    "result2.close()\n",
    "\n",
    "    "
   ]
  },
  {
   "cell_type": "code",
   "execution_count": 33,
   "metadata": {},
   "outputs": [
    {
     "name": "stdout",
     "output_type": "stream",
     "text": [
      "[5.1 3.5 1.4 0.2]\n",
      "[-8.06179978  0.30042062]\n"
     ]
    }
   ],
   "source": [
    "# input and output variables\n",
    "from sklearn import datasets\n",
    "from sklearn.decomposition import PCA\n",
    "\n",
    "# import some data to play with\n",
    "dataset = datasets.load_iris()\n",
    "\n",
    "X = dataset.data\n",
    "y = dataset.target\n",
    "target_names = dataset.target_names\n",
    "\n",
    "# importing the requried module\n",
    "from sklearn.discriminant_analysis import LinearDiscriminantAnalysis\n",
    "\n",
    "# initializing the model with 2 components\n",
    "lda = LinearDiscriminantAnalysis(n_components=2)\n",
    "\n",
    "# fitting the dataset\n",
    "X_r2 = lda.fit(X, y).transform(X)\n",
    "print(X[0])\n",
    "print(X_r2[0])"
   ]
  }
 ],
 "metadata": {
  "kernelspec": {
   "display_name": "Python 3.8.5 ('base')",
   "language": "python",
   "name": "python3"
  },
  "language_info": {
   "codemirror_mode": {
    "name": "ipython",
    "version": 3
   },
   "file_extension": ".py",
   "mimetype": "text/x-python",
   "name": "python",
   "nbconvert_exporter": "python",
   "pygments_lexer": "ipython3",
   "version": "3.8.5"
  },
  "vscode": {
   "interpreter": {
    "hash": "40d3a090f54c6569ab1632332b64b2c03c39dcf918b08424e98f38b5ae0af88f"
   }
  }
 },
 "nbformat": 4,
 "nbformat_minor": 4
}

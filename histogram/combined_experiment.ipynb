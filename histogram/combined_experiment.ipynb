{
 "cells": [
  {
   "cell_type": "code",
   "execution_count": 77,
   "metadata": {},
   "outputs": [],
   "source": [
    "#design of the program\n",
    "#需求\n",
    "#训练数据的浓度是可以被更改的（设置成许多的小函数 应该就可以参数一键直接改掉了）\n",
    "#只要我想输入哪些药物 就能输入哪些 \n",
    "#我想改component就能直接改\n",
    "#我想用pca或者lda能够自己选定\n",
    "#设置的药物label能直接根据我的需求去设定\n",
    "#能有filter功能，只要我想要 就要给我更改filter的数据\n",
    "#\n"
   ]
  },
  {
   "cell_type": "code",
   "execution_count": 78,
   "metadata": {},
   "outputs": [
    {
     "data": {
      "text/html": [
       "<div>\n",
       "<style scoped>\n",
       "    .dataframe tbody tr th:only-of-type {\n",
       "        vertical-align: middle;\n",
       "    }\n",
       "\n",
       "    .dataframe tbody tr th {\n",
       "        vertical-align: top;\n",
       "    }\n",
       "\n",
       "    .dataframe thead th {\n",
       "        text-align: right;\n",
       "    }\n",
       "</style>\n",
       "<table border=\"1\" class=\"dataframe\">\n",
       "  <thead>\n",
       "    <tr style=\"text-align: right;\">\n",
       "      <th></th>\n",
       "      <th>drug_name</th>\n",
       "      <th>default</th>\n",
       "      <th>ks1</th>\n",
       "      <th>ks2</th>\n",
       "      <th>ks3</th>\n",
       "      <th>ks4</th>\n",
       "      <th>ks5</th>\n",
       "      <th>ks6</th>\n",
       "      <th>ks7</th>\n",
       "      <th>ks8</th>\n",
       "      <th>...</th>\n",
       "      <th>ks229</th>\n",
       "      <th>ks230</th>\n",
       "      <th>ks231</th>\n",
       "      <th>ks232</th>\n",
       "      <th>ks233</th>\n",
       "      <th>ks234</th>\n",
       "      <th>ks235</th>\n",
       "      <th>ks236</th>\n",
       "      <th>ks237</th>\n",
       "      <th>ks238</th>\n",
       "    </tr>\n",
       "  </thead>\n",
       "  <tbody>\n",
       "    <tr>\n",
       "      <th>0</th>\n",
       "      <td>Gemcitabine+17AAG+1</td>\n",
       "      <td>0</td>\n",
       "      <td>-0.41708</td>\n",
       "      <td>-0.541930</td>\n",
       "      <td>-0.36498</td>\n",
       "      <td>-0.306320</td>\n",
       "      <td>-0.799290</td>\n",
       "      <td>-0.58251</td>\n",
       "      <td>-0.33667</td>\n",
       "      <td>-0.31465</td>\n",
       "      <td>...</td>\n",
       "      <td>0.184100</td>\n",
       "      <td>0.060118</td>\n",
       "      <td>-0.171780</td>\n",
       "      <td>0.213250</td>\n",
       "      <td>0.209031</td>\n",
       "      <td>0.060118</td>\n",
       "      <td>-0.502310</td>\n",
       "      <td>-0.404050</td>\n",
       "      <td>-0.200240</td>\n",
       "      <td>0.226750</td>\n",
       "    </tr>\n",
       "    <tr>\n",
       "      <th>1</th>\n",
       "      <td>Gemcitabine+17AAG+1</td>\n",
       "      <td>0</td>\n",
       "      <td>-0.40000</td>\n",
       "      <td>-0.593380</td>\n",
       "      <td>-0.38970</td>\n",
       "      <td>-0.424760</td>\n",
       "      <td>-0.884610</td>\n",
       "      <td>-0.58410</td>\n",
       "      <td>-0.32108</td>\n",
       "      <td>-0.29055</td>\n",
       "      <td>...</td>\n",
       "      <td>0.122220</td>\n",
       "      <td>0.090601</td>\n",
       "      <td>-0.188930</td>\n",
       "      <td>0.172610</td>\n",
       "      <td>0.155130</td>\n",
       "      <td>0.090601</td>\n",
       "      <td>-0.550240</td>\n",
       "      <td>-0.413960</td>\n",
       "      <td>-0.223860</td>\n",
       "      <td>0.212200</td>\n",
       "    </tr>\n",
       "    <tr>\n",
       "      <th>2</th>\n",
       "      <td>Gemcitabine+17AAG+2</td>\n",
       "      <td>0</td>\n",
       "      <td>-0.32967</td>\n",
       "      <td>-0.544500</td>\n",
       "      <td>-0.28783</td>\n",
       "      <td>-0.347170</td>\n",
       "      <td>-0.825170</td>\n",
       "      <td>-0.53008</td>\n",
       "      <td>-0.24200</td>\n",
       "      <td>-0.20550</td>\n",
       "      <td>...</td>\n",
       "      <td>-0.104500</td>\n",
       "      <td>-0.123170</td>\n",
       "      <td>-0.069417</td>\n",
       "      <td>-0.168330</td>\n",
       "      <td>-0.156250</td>\n",
       "      <td>-0.123170</td>\n",
       "      <td>-0.406330</td>\n",
       "      <td>-0.304920</td>\n",
       "      <td>-0.172330</td>\n",
       "      <td>0.129580</td>\n",
       "    </tr>\n",
       "    <tr>\n",
       "      <th>3</th>\n",
       "      <td>Gemcitabine+17AAG+2</td>\n",
       "      <td>0</td>\n",
       "      <td>-0.38042</td>\n",
       "      <td>-0.476850</td>\n",
       "      <td>-0.28620</td>\n",
       "      <td>-0.309960</td>\n",
       "      <td>-0.789200</td>\n",
       "      <td>-0.52138</td>\n",
       "      <td>-0.23138</td>\n",
       "      <td>-0.19159</td>\n",
       "      <td>...</td>\n",
       "      <td>0.085960</td>\n",
       "      <td>-0.058587</td>\n",
       "      <td>-0.168620</td>\n",
       "      <td>-0.115580</td>\n",
       "      <td>0.122920</td>\n",
       "      <td>-0.058587</td>\n",
       "      <td>-0.396790</td>\n",
       "      <td>-0.327410</td>\n",
       "      <td>-0.189600</td>\n",
       "      <td>0.199510</td>\n",
       "    </tr>\n",
       "    <tr>\n",
       "      <th>4</th>\n",
       "      <td>Gemcitabine+17AAG+3</td>\n",
       "      <td>0</td>\n",
       "      <td>-0.34250</td>\n",
       "      <td>-0.456370</td>\n",
       "      <td>-0.31210</td>\n",
       "      <td>-0.284460</td>\n",
       "      <td>-0.748570</td>\n",
       "      <td>-0.50344</td>\n",
       "      <td>-0.24832</td>\n",
       "      <td>-0.20947</td>\n",
       "      <td>...</td>\n",
       "      <td>0.112590</td>\n",
       "      <td>-0.078223</td>\n",
       "      <td>-0.164030</td>\n",
       "      <td>0.132240</td>\n",
       "      <td>0.134300</td>\n",
       "      <td>-0.078223</td>\n",
       "      <td>-0.383420</td>\n",
       "      <td>-0.301940</td>\n",
       "      <td>-0.188050</td>\n",
       "      <td>0.192040</td>\n",
       "    </tr>\n",
       "    <tr>\n",
       "      <th>...</th>\n",
       "      <td>...</td>\n",
       "      <td>...</td>\n",
       "      <td>...</td>\n",
       "      <td>...</td>\n",
       "      <td>...</td>\n",
       "      <td>...</td>\n",
       "      <td>...</td>\n",
       "      <td>...</td>\n",
       "      <td>...</td>\n",
       "      <td>...</td>\n",
       "      <td>...</td>\n",
       "      <td>...</td>\n",
       "      <td>...</td>\n",
       "      <td>...</td>\n",
       "      <td>...</td>\n",
       "      <td>...</td>\n",
       "      <td>...</td>\n",
       "      <td>...</td>\n",
       "      <td>...</td>\n",
       "      <td>...</td>\n",
       "      <td>...</td>\n",
       "    </tr>\n",
       "    <tr>\n",
       "      <th>1531</th>\n",
       "      <td>DMSO+DMSO+4</td>\n",
       "      <td>0</td>\n",
       "      <td>-0.20042</td>\n",
       "      <td>0.190200</td>\n",
       "      <td>0.25483</td>\n",
       "      <td>-0.094821</td>\n",
       "      <td>0.176710</td>\n",
       "      <td>0.26651</td>\n",
       "      <td>0.23563</td>\n",
       "      <td>0.23331</td>\n",
       "      <td>...</td>\n",
       "      <td>0.140380</td>\n",
       "      <td>-0.028618</td>\n",
       "      <td>-0.115740</td>\n",
       "      <td>0.129690</td>\n",
       "      <td>0.139870</td>\n",
       "      <td>-0.028618</td>\n",
       "      <td>-0.112570</td>\n",
       "      <td>-0.140390</td>\n",
       "      <td>0.017725</td>\n",
       "      <td>0.113770</td>\n",
       "    </tr>\n",
       "    <tr>\n",
       "      <th>1532</th>\n",
       "      <td>DMSO+DMSO+5</td>\n",
       "      <td>0</td>\n",
       "      <td>-0.19125</td>\n",
       "      <td>0.190720</td>\n",
       "      <td>0.26269</td>\n",
       "      <td>-0.092610</td>\n",
       "      <td>0.080764</td>\n",
       "      <td>0.26569</td>\n",
       "      <td>0.25572</td>\n",
       "      <td>0.25968</td>\n",
       "      <td>...</td>\n",
       "      <td>0.230850</td>\n",
       "      <td>-0.034358</td>\n",
       "      <td>-0.232820</td>\n",
       "      <td>0.255570</td>\n",
       "      <td>0.258710</td>\n",
       "      <td>-0.034358</td>\n",
       "      <td>-0.224920</td>\n",
       "      <td>-0.274920</td>\n",
       "      <td>0.036213</td>\n",
       "      <td>0.208070</td>\n",
       "    </tr>\n",
       "    <tr>\n",
       "      <th>1533</th>\n",
       "      <td>DMSO+DMSO+5</td>\n",
       "      <td>0</td>\n",
       "      <td>-0.42625</td>\n",
       "      <td>0.252100</td>\n",
       "      <td>0.29306</td>\n",
       "      <td>-0.062056</td>\n",
       "      <td>0.148810</td>\n",
       "      <td>0.28713</td>\n",
       "      <td>0.26662</td>\n",
       "      <td>0.27103</td>\n",
       "      <td>...</td>\n",
       "      <td>0.229600</td>\n",
       "      <td>0.060381</td>\n",
       "      <td>-0.231070</td>\n",
       "      <td>0.254880</td>\n",
       "      <td>0.225020</td>\n",
       "      <td>0.060381</td>\n",
       "      <td>-0.239880</td>\n",
       "      <td>-0.309710</td>\n",
       "      <td>-0.067404</td>\n",
       "      <td>0.227050</td>\n",
       "    </tr>\n",
       "    <tr>\n",
       "      <th>1534</th>\n",
       "      <td>DMSO+DMSO+6</td>\n",
       "      <td>0</td>\n",
       "      <td>0.19065</td>\n",
       "      <td>0.036852</td>\n",
       "      <td>0.10324</td>\n",
       "      <td>-0.077310</td>\n",
       "      <td>0.058329</td>\n",
       "      <td>0.12246</td>\n",
       "      <td>0.08209</td>\n",
       "      <td>0.07820</td>\n",
       "      <td>...</td>\n",
       "      <td>0.027212</td>\n",
       "      <td>-0.019235</td>\n",
       "      <td>-0.067514</td>\n",
       "      <td>0.040317</td>\n",
       "      <td>-0.039779</td>\n",
       "      <td>-0.019235</td>\n",
       "      <td>-0.072545</td>\n",
       "      <td>-0.083441</td>\n",
       "      <td>0.015604</td>\n",
       "      <td>0.077095</td>\n",
       "    </tr>\n",
       "    <tr>\n",
       "      <th>1535</th>\n",
       "      <td>DMSO+DMSO+6</td>\n",
       "      <td>0</td>\n",
       "      <td>-0.18625</td>\n",
       "      <td>0.195590</td>\n",
       "      <td>0.26197</td>\n",
       "      <td>-0.086891</td>\n",
       "      <td>0.182060</td>\n",
       "      <td>0.28170</td>\n",
       "      <td>0.23954</td>\n",
       "      <td>0.24551</td>\n",
       "      <td>...</td>\n",
       "      <td>0.166080</td>\n",
       "      <td>0.046956</td>\n",
       "      <td>-0.173110</td>\n",
       "      <td>0.188910</td>\n",
       "      <td>0.173180</td>\n",
       "      <td>0.046956</td>\n",
       "      <td>-0.148670</td>\n",
       "      <td>-0.207620</td>\n",
       "      <td>0.027344</td>\n",
       "      <td>0.161700</td>\n",
       "    </tr>\n",
       "  </tbody>\n",
       "</table>\n",
       "<p>1536 rows × 240 columns</p>\n",
       "</div>"
      ],
      "text/plain": [
       "                drug_name  default      ks1       ks2      ks3       ks4  \\\n",
       "0     Gemcitabine+17AAG+1        0 -0.41708 -0.541930 -0.36498 -0.306320   \n",
       "1     Gemcitabine+17AAG+1        0 -0.40000 -0.593380 -0.38970 -0.424760   \n",
       "2     Gemcitabine+17AAG+2        0 -0.32967 -0.544500 -0.28783 -0.347170   \n",
       "3     Gemcitabine+17AAG+2        0 -0.38042 -0.476850 -0.28620 -0.309960   \n",
       "4     Gemcitabine+17AAG+3        0 -0.34250 -0.456370 -0.31210 -0.284460   \n",
       "...                   ...      ...      ...       ...      ...       ...   \n",
       "1531          DMSO+DMSO+4        0 -0.20042  0.190200  0.25483 -0.094821   \n",
       "1532          DMSO+DMSO+5        0 -0.19125  0.190720  0.26269 -0.092610   \n",
       "1533          DMSO+DMSO+5        0 -0.42625  0.252100  0.29306 -0.062056   \n",
       "1534          DMSO+DMSO+6        0  0.19065  0.036852  0.10324 -0.077310   \n",
       "1535          DMSO+DMSO+6        0 -0.18625  0.195590  0.26197 -0.086891   \n",
       "\n",
       "           ks5      ks6      ks7      ks8  ...     ks229     ks230     ks231  \\\n",
       "0    -0.799290 -0.58251 -0.33667 -0.31465  ...  0.184100  0.060118 -0.171780   \n",
       "1    -0.884610 -0.58410 -0.32108 -0.29055  ...  0.122220  0.090601 -0.188930   \n",
       "2    -0.825170 -0.53008 -0.24200 -0.20550  ... -0.104500 -0.123170 -0.069417   \n",
       "3    -0.789200 -0.52138 -0.23138 -0.19159  ...  0.085960 -0.058587 -0.168620   \n",
       "4    -0.748570 -0.50344 -0.24832 -0.20947  ...  0.112590 -0.078223 -0.164030   \n",
       "...        ...      ...      ...      ...  ...       ...       ...       ...   \n",
       "1531  0.176710  0.26651  0.23563  0.23331  ...  0.140380 -0.028618 -0.115740   \n",
       "1532  0.080764  0.26569  0.25572  0.25968  ...  0.230850 -0.034358 -0.232820   \n",
       "1533  0.148810  0.28713  0.26662  0.27103  ...  0.229600  0.060381 -0.231070   \n",
       "1534  0.058329  0.12246  0.08209  0.07820  ...  0.027212 -0.019235 -0.067514   \n",
       "1535  0.182060  0.28170  0.23954  0.24551  ...  0.166080  0.046956 -0.173110   \n",
       "\n",
       "         ks232     ks233     ks234     ks235     ks236     ks237     ks238  \n",
       "0     0.213250  0.209031  0.060118 -0.502310 -0.404050 -0.200240  0.226750  \n",
       "1     0.172610  0.155130  0.090601 -0.550240 -0.413960 -0.223860  0.212200  \n",
       "2    -0.168330 -0.156250 -0.123170 -0.406330 -0.304920 -0.172330  0.129580  \n",
       "3    -0.115580  0.122920 -0.058587 -0.396790 -0.327410 -0.189600  0.199510  \n",
       "4     0.132240  0.134300 -0.078223 -0.383420 -0.301940 -0.188050  0.192040  \n",
       "...        ...       ...       ...       ...       ...       ...       ...  \n",
       "1531  0.129690  0.139870 -0.028618 -0.112570 -0.140390  0.017725  0.113770  \n",
       "1532  0.255570  0.258710 -0.034358 -0.224920 -0.274920  0.036213  0.208070  \n",
       "1533  0.254880  0.225020  0.060381 -0.239880 -0.309710 -0.067404  0.227050  \n",
       "1534  0.040317 -0.039779 -0.019235 -0.072545 -0.083441  0.015604  0.077095  \n",
       "1535  0.188910  0.173180  0.046956 -0.148670 -0.207620  0.027344  0.161700  \n",
       "\n",
       "[1536 rows x 240 columns]"
      ]
     },
     "execution_count": 78,
     "metadata": {},
     "output_type": "execute_result"
    }
   ],
   "source": [
    "import pandas as pd\n",
    "df=pd.read_csv('drug_with_fields.csv')\n",
    "df"
   ]
  },
  {
   "cell_type": "code",
   "execution_count": 79,
   "metadata": {},
   "outputs": [],
   "source": [
    "check_name2=[]\n",
    "for each in df['drug_name']:\n",
    "    check_name2.append(each)\n"
   ]
  },
  {
   "cell_type": "code",
   "execution_count": 80,
   "metadata": {},
   "outputs": [],
   "source": [
    "frequency = {}\n",
    "\n",
    "# iterating over the list\n",
    "for item in check_name2:\n",
    "   # checking the element in dictionary\n",
    "   item=item[:-2]\n",
    "   if item in frequency:\n",
    "      # incrementing the counr\n",
    "      frequency[item] += 1\n",
    "   else:\n",
    "      # initializing the count\n",
    "      frequency[item] = 1\n"
   ]
  },
  {
   "cell_type": "code",
   "execution_count": 81,
   "metadata": {},
   "outputs": [],
   "source": [
    "#set training data and concentration\n",
    "#Dna ： etoposide，Gemcitabine\n",
    "#mt：paclitaxel，Vinblastine\n",
    "#hsp：17aag，auy922\n",
    "\n",
    "#prot：\"MG132\"，ps341\n",
    "#hdac：saha，apicidin\n",
    "#这个函数要自动会设定label的\n",
    "def set_training_label(single_df,training_label,name):\n",
    "    tem_name_lst=[]\n",
    "    for each in single_df['drug_name']:\n",
    "        tem_name_lst.append(each)\n",
    "    for i in range(len(single_df)):\n",
    "        training_label.append(name)\n",
    "        \n",
    "        \n",
    "\n",
    "\n",
    "\n",
    "def extract_any_drug_set(frames1,concentration,drug_name1,drug_name2):\n",
    "    if drug_name1!=drug_name2:\n",
    "        for i in range(len(concentration)):\n",
    "            frames1.append(df.loc[(df['drug_name'] =='%s+%s+'%(drug_name1,drug_name2)+str(concentration[i])) ])\n",
    "        for i in range(len(concentration)):\n",
    "            frames1.append(df.loc[(df['drug_name'] =='%s+%s+'%(drug_name2,drug_name1)+str(concentration[i])) ])\n",
    "    elif drug_name1==drug_name2:\n",
    "        #print(len(frames1))\n",
    "        #for i in range(len(concentration)):\n",
    "        #    frames1.append(df.loc[(df['drug_name'] =='%s+%s+'%(drug_name1,drug_name2)+str(concentration[i])) ])\n",
    "        #    pass\n",
    "        #if drug_name1==drug_name2:\n",
    "        #    pass\n",
    "\n",
    "          #  frames1.append(df.loc[(df['drug_name'] =='%s+%s+'%(drug_name1,drug_name2)+str(concentration[i])) ])\n",
    "        #print(len(frames1))\n",
    "        if drug_name1=='DMSO' and drug_name2=='DMSO':\n",
    "            for i in range(len(concentration)):\n",
    "                frames1.append(df.loc[(df['drug_name'] =='%s+%s+'%(drug_name1,drug_name2)+str(concentration[i])) ])\n",
    "            #pass\n",
    "        else:\n",
    "            for i in range(len(concentration)):\n",
    "\n",
    "                frames1.append(df.loc[(df['drug_name'] =='%s+DMSO+'%(drug_name1)+str(concentration[i])) ])\n",
    "            for i in range(len(concentration)):\n",
    "                frames1.append(df.loc[(df['drug_name'] =='DMSO+%s+'%(drug_name1)+str(concentration[i])) ])\n",
    "        #print(frames1)\n",
    "\n",
    "#five_drug_list\n",
    "\n",
    "five_drug=[]\n",
    "#for i in range(11):\n",
    "#    five_drug.append('f%s'%(i+1))\n",
    "\n",
    "import copy\n",
    "training_label=[]\n",
    "def set_training_datasetxy(namelist,concentration,label):\n",
    "    \n",
    "    \n",
    "    for i in range(len(namelist)):\n",
    "        global frames\n",
    "        frames=[]\n",
    "        #print(len(frames))\n",
    "        extract_any_drug_set(frames,concentration,namelist[i],namelist[i])\n",
    "        global Dataframe\n",
    "        Dataframe=pd.concat(frames)\n",
    "        five_drug.append(Dataframe)\n",
    "        #exec(\"%s=copy.deepcopy(Dataframe)\"%five_drug[i],globals())\n",
    "\n",
    "        set_training_label(Dataframe,label,namelist[i])\n",
    "    \n",
    "\n",
    "\n",
    "    \n",
    "    \n",
    "#effe_result=pd.concat(tem_five_drug_list)\n",
    "#training_X=pd.concat([f1,f2,f3,f4,f5,f6,f7,f8,f9,f10,f11])\n",
    "set_training_datasetxy(['Etoposide','Gemcitabine','Paclitaxel',\"Vinblastine\",\"17AAG\",\"AUY922\",\"MG132\",\"PS341\",\"SAHA\",\"Apicidin\",'DMSO'],[1],training_label)\n",
    "global global_name\n",
    "global_name='output_automatic_11_28_dmso_single.pdf'\n",
    "\n",
    "    "
   ]
  },
  {
   "cell_type": "code",
   "execution_count": 82,
   "metadata": {},
   "outputs": [],
   "source": [
    "training_X=pd.concat(five_drug)\n",
    "training_X_for_debug=copy.deepcopy(training_X)"
   ]
  },
  {
   "cell_type": "code",
   "execution_count": 83,
   "metadata": {},
   "outputs": [],
   "source": [
    "##for each in training_X_for_debug['drug_name']:\n",
    "#    print(each)"
   ]
  },
  {
   "cell_type": "code",
   "execution_count": 84,
   "metadata": {},
   "outputs": [
    {
     "data": {
      "text/plain": [
       "56"
      ]
     },
     "execution_count": 84,
     "metadata": {},
     "output_type": "execute_result"
    }
   ],
   "source": [
    "len(training_label)\n",
    "len(training_X_for_debug)"
   ]
  },
  {
   "cell_type": "code",
   "execution_count": 85,
   "metadata": {},
   "outputs": [],
   "source": [
    "#for each in training_X_for_debug['drug_name']:\n",
    "#    print(each)"
   ]
  },
  {
   "cell_type": "code",
   "execution_count": 86,
   "metadata": {},
   "outputs": [],
   "source": [
    "#LDA\n",
    "from sklearn.decomposition import PCA\n",
    "from sklearn.discriminant_analysis import LinearDiscriminantAnalysis \n",
    "from sklearn.preprocessing import StandardScaler\n",
    "model = LinearDiscriminantAnalysis(n_components=4)\n",
    "\n",
    "\n",
    "training_X=training_X.iloc[:,2:240].values\n",
    "training_X_for_visualization=copy.deepcopy(training_X)\n",
    "#visualization_data=visualization_data.iloc[:,2:240].values\n",
    "training_X2=model.fit(training_X,training_label).transform(training_X)\n",
    "pca = PCA(n_components=2)\n",
    "\n"
   ]
  },
  {
   "cell_type": "code",
   "execution_count": 87,
   "metadata": {},
   "outputs": [
    {
     "data": {
      "application/vnd.plotly.v1+json": {
       "config": {
        "plotlyServerURL": "https://plot.ly"
       },
       "data": [
        {
         "hovertemplate": "color=Etoposide<br>0=%{x}<br>1=%{y}<extra></extra>",
         "legendgroup": "Etoposide",
         "marker": {
          "color": "#636efa",
          "symbol": "circle"
         },
         "mode": "markers",
         "name": "Etoposide",
         "orientation": "v",
         "showlegend": true,
         "type": "scatter",
         "x": [
          9.513562219088449,
          8.477324677658249,
          10.21538507390203,
          9.614293467054129
         ],
         "xaxis": "x",
         "y": [
          5.212768888978681,
          5.891370265396743,
          5.27396195507143,
          4.919650809956312
         ],
         "yaxis": "y"
        },
        {
         "hovertemplate": "color=Gemcitabine<br>0=%{x}<br>1=%{y}<extra></extra>",
         "legendgroup": "Gemcitabine",
         "marker": {
          "color": "#EF553B",
          "symbol": "circle"
         },
         "mode": "markers",
         "name": "Gemcitabine",
         "orientation": "v",
         "showlegend": true,
         "type": "scatter",
         "x": [
          11.29913642687696,
          12.62307263211008,
          13.405852600623838,
          11.869451926628454
         ],
         "xaxis": "x",
         "y": [
          -0.5868220058875979,
          -0.864311974340668,
          0.7636440932456665,
          1.3034992336975135
         ],
         "yaxis": "y"
        },
        {
         "hovertemplate": "color=Paclitaxel<br>0=%{x}<br>1=%{y}<extra></extra>",
         "legendgroup": "Paclitaxel",
         "marker": {
          "color": "#00cc96",
          "symbol": "circle"
         },
         "mode": "markers",
         "name": "Paclitaxel",
         "orientation": "v",
         "showlegend": true,
         "type": "scatter",
         "x": [
          -16.60310029771131,
          -15.819452257346677,
          -15.288278008340692,
          -16.26981647571851
         ],
         "xaxis": "x",
         "y": [
          -7.516717469440176,
          -7.784805419753116,
          -6.716421166597245,
          -7.50045817020362
         ],
         "yaxis": "y"
        },
        {
         "hovertemplate": "color=Vinblastine<br>0=%{x}<br>1=%{y}<extra></extra>",
         "legendgroup": "Vinblastine",
         "marker": {
          "color": "#ab63fa",
          "symbol": "circle"
         },
         "mode": "markers",
         "name": "Vinblastine",
         "orientation": "v",
         "showlegend": true,
         "type": "scatter",
         "x": [
          -5.340847042292479,
          -6.402800017554298,
          -5.843763773903812,
          -5.182771824592014
         ],
         "xaxis": "x",
         "y": [
          0.5480131447761132,
          0.3117469263569739,
          1.4304735980851038,
          -1.5889699470847112
         ],
         "yaxis": "y"
        },
        {
         "hovertemplate": "color=17AAG<br>0=%{x}<br>1=%{y}<extra></extra>",
         "legendgroup": "17AAG",
         "marker": {
          "color": "#FFA15A",
          "symbol": "circle"
         },
         "mode": "markers",
         "name": "17AAG",
         "orientation": "v",
         "showlegend": true,
         "type": "scatter",
         "x": [
          -2.1143568492723417,
          1.19842546590476,
          -1.3655042680201872,
          -2.0697463613796994
         ],
         "xaxis": "x",
         "y": [
          -6.360667515953996,
          -3.3137704600687266,
          -4.289405368786065,
          -4.446939284179259
         ],
         "yaxis": "y"
        },
        {
         "hovertemplate": "color=AUY922<br>0=%{x}<br>1=%{y}<extra></extra>",
         "legendgroup": "AUY922",
         "marker": {
          "color": "#19d3f3",
          "symbol": "circle"
         },
         "mode": "markers",
         "name": "AUY922",
         "orientation": "v",
         "showlegend": true,
         "type": "scatter",
         "x": [
          4.573867966490154,
          1.7518101239181332,
          3.6896261773415797,
          4.487876710142951
         ],
         "xaxis": "x",
         "y": [
          0.47835238288806503,
          1.250919400441284,
          1.8385787598317755,
          1.8838081982596124
         ],
         "yaxis": "y"
        },
        {
         "hovertemplate": "color=MG132<br>0=%{x}<br>1=%{y}<extra></extra>",
         "legendgroup": "MG132",
         "marker": {
          "color": "#FF6692",
          "symbol": "circle"
         },
         "mode": "markers",
         "name": "MG132",
         "orientation": "v",
         "showlegend": true,
         "type": "scatter",
         "x": [
          -4.29549034957028,
          -5.479960349526119,
          -5.967416007086404,
          -5.769558583663425
         ],
         "xaxis": "x",
         "y": [
          16.937270533533706,
          16.105833707242137,
          16.363488523653015,
          16.63996721968503
         ],
         "yaxis": "y"
        },
        {
         "hovertemplate": "color=PS341<br>0=%{x}<br>1=%{y}<extra></extra>",
         "legendgroup": "PS341",
         "marker": {
          "color": "#B6E880",
          "symbol": "circle"
         },
         "mode": "markers",
         "name": "PS341",
         "orientation": "v",
         "showlegend": true,
         "type": "scatter",
         "x": [
          -11.825196649734597,
          -11.482835521390918,
          -9.822082337782488,
          -10.646479628395765
         ],
         "xaxis": "x",
         "y": [
          5.700491256721811,
          6.356107154900462,
          6.51440717722699,
          6.122098240143916
         ],
         "yaxis": "y"
        },
        {
         "hovertemplate": "color=SAHA<br>0=%{x}<br>1=%{y}<extra></extra>",
         "legendgroup": "SAHA",
         "marker": {
          "color": "#FF97FF",
          "symbol": "circle"
         },
         "mode": "markers",
         "name": "SAHA",
         "orientation": "v",
         "showlegend": true,
         "type": "scatter",
         "x": [
          -9.504378037615249,
          -8.308768365767085,
          -10.233740891567107,
          -8.086960080890996
         ],
         "xaxis": "x",
         "y": [
          -4.031911680365189,
          -5.478180565705098,
          -4.777645781662317,
          -3.791858564595754
         ],
         "yaxis": "y"
        },
        {
         "hovertemplate": "color=Apicidin<br>0=%{x}<br>1=%{y}<extra></extra>",
         "legendgroup": "Apicidin",
         "marker": {
          "color": "#FECB52",
          "symbol": "circle"
         },
         "mode": "markers",
         "name": "Apicidin",
         "orientation": "v",
         "showlegend": true,
         "type": "scatter",
         "x": [
          -4.818737099045089,
          -5.77052458004,
          -5.3482584206076265,
          -7.312297600965572
         ],
         "xaxis": "x",
         "y": [
          -1.127182290209744,
          -2.2956657895595196,
          -2.5681966458925487,
          -3.446310345544601
         ],
         "yaxis": "y"
        },
        {
         "hovertemplate": "color=DMSO<br>0=%{x}<br>1=%{y}<extra></extra>",
         "legendgroup": "DMSO",
         "marker": {
          "color": "#636efa",
          "symbol": "circle"
         },
         "mode": "markers",
         "name": "DMSO",
         "orientation": "v",
         "showlegend": true,
         "type": "scatter",
         "x": [
          7.492727114363952,
          6.573244632059814,
          8.807469104657843,
          7.55494929476938,
          7.168709973817367,
          6.989889889639523,
          7.2535720750795685,
          5.416165947208021,
          5.909058515782396,
          6.875725014439123,
          7.91732743915759,
          6.9849947171698155,
          5.687576748399926,
          8.727355971080513,
          8.561804284356665,
          6.332865490059472
         ],
         "xaxis": "x",
         "y": [
          -0.8602618497279041,
          -3.5817070265877606,
          -3.241060492605504,
          -1.9584180339498254,
          -3.1562796180674604,
          -5.246014588189655,
          -3.346854928800128,
          0.30016399800087346,
          -2.602397926529371,
          -2.720144953146161,
          -2.47950765887176,
          -3.172001450767547,
          -1.825960036456962,
          -4.165198857198778,
          -2.6750194852037064,
          -2.629548116160693
         ],
         "yaxis": "y"
        }
       ],
       "layout": {
        "legend": {
         "title": {
          "text": "color"
         },
         "tracegroupgap": 0
        },
        "margin": {
         "t": 60
        },
        "template": {
         "data": {
          "bar": [
           {
            "error_x": {
             "color": "#2a3f5f"
            },
            "error_y": {
             "color": "#2a3f5f"
            },
            "marker": {
             "line": {
              "color": "#E5ECF6",
              "width": 0.5
             },
             "pattern": {
              "fillmode": "overlay",
              "size": 10,
              "solidity": 0.2
             }
            },
            "type": "bar"
           }
          ],
          "barpolar": [
           {
            "marker": {
             "line": {
              "color": "#E5ECF6",
              "width": 0.5
             },
             "pattern": {
              "fillmode": "overlay",
              "size": 10,
              "solidity": 0.2
             }
            },
            "type": "barpolar"
           }
          ],
          "carpet": [
           {
            "aaxis": {
             "endlinecolor": "#2a3f5f",
             "gridcolor": "white",
             "linecolor": "white",
             "minorgridcolor": "white",
             "startlinecolor": "#2a3f5f"
            },
            "baxis": {
             "endlinecolor": "#2a3f5f",
             "gridcolor": "white",
             "linecolor": "white",
             "minorgridcolor": "white",
             "startlinecolor": "#2a3f5f"
            },
            "type": "carpet"
           }
          ],
          "choropleth": [
           {
            "colorbar": {
             "outlinewidth": 0,
             "ticks": ""
            },
            "type": "choropleth"
           }
          ],
          "contour": [
           {
            "colorbar": {
             "outlinewidth": 0,
             "ticks": ""
            },
            "colorscale": [
             [
              0,
              "#0d0887"
             ],
             [
              0.1111111111111111,
              "#46039f"
             ],
             [
              0.2222222222222222,
              "#7201a8"
             ],
             [
              0.3333333333333333,
              "#9c179e"
             ],
             [
              0.4444444444444444,
              "#bd3786"
             ],
             [
              0.5555555555555556,
              "#d8576b"
             ],
             [
              0.6666666666666666,
              "#ed7953"
             ],
             [
              0.7777777777777778,
              "#fb9f3a"
             ],
             [
              0.8888888888888888,
              "#fdca26"
             ],
             [
              1,
              "#f0f921"
             ]
            ],
            "type": "contour"
           }
          ],
          "contourcarpet": [
           {
            "colorbar": {
             "outlinewidth": 0,
             "ticks": ""
            },
            "type": "contourcarpet"
           }
          ],
          "heatmap": [
           {
            "colorbar": {
             "outlinewidth": 0,
             "ticks": ""
            },
            "colorscale": [
             [
              0,
              "#0d0887"
             ],
             [
              0.1111111111111111,
              "#46039f"
             ],
             [
              0.2222222222222222,
              "#7201a8"
             ],
             [
              0.3333333333333333,
              "#9c179e"
             ],
             [
              0.4444444444444444,
              "#bd3786"
             ],
             [
              0.5555555555555556,
              "#d8576b"
             ],
             [
              0.6666666666666666,
              "#ed7953"
             ],
             [
              0.7777777777777778,
              "#fb9f3a"
             ],
             [
              0.8888888888888888,
              "#fdca26"
             ],
             [
              1,
              "#f0f921"
             ]
            ],
            "type": "heatmap"
           }
          ],
          "heatmapgl": [
           {
            "colorbar": {
             "outlinewidth": 0,
             "ticks": ""
            },
            "colorscale": [
             [
              0,
              "#0d0887"
             ],
             [
              0.1111111111111111,
              "#46039f"
             ],
             [
              0.2222222222222222,
              "#7201a8"
             ],
             [
              0.3333333333333333,
              "#9c179e"
             ],
             [
              0.4444444444444444,
              "#bd3786"
             ],
             [
              0.5555555555555556,
              "#d8576b"
             ],
             [
              0.6666666666666666,
              "#ed7953"
             ],
             [
              0.7777777777777778,
              "#fb9f3a"
             ],
             [
              0.8888888888888888,
              "#fdca26"
             ],
             [
              1,
              "#f0f921"
             ]
            ],
            "type": "heatmapgl"
           }
          ],
          "histogram": [
           {
            "marker": {
             "pattern": {
              "fillmode": "overlay",
              "size": 10,
              "solidity": 0.2
             }
            },
            "type": "histogram"
           }
          ],
          "histogram2d": [
           {
            "colorbar": {
             "outlinewidth": 0,
             "ticks": ""
            },
            "colorscale": [
             [
              0,
              "#0d0887"
             ],
             [
              0.1111111111111111,
              "#46039f"
             ],
             [
              0.2222222222222222,
              "#7201a8"
             ],
             [
              0.3333333333333333,
              "#9c179e"
             ],
             [
              0.4444444444444444,
              "#bd3786"
             ],
             [
              0.5555555555555556,
              "#d8576b"
             ],
             [
              0.6666666666666666,
              "#ed7953"
             ],
             [
              0.7777777777777778,
              "#fb9f3a"
             ],
             [
              0.8888888888888888,
              "#fdca26"
             ],
             [
              1,
              "#f0f921"
             ]
            ],
            "type": "histogram2d"
           }
          ],
          "histogram2dcontour": [
           {
            "colorbar": {
             "outlinewidth": 0,
             "ticks": ""
            },
            "colorscale": [
             [
              0,
              "#0d0887"
             ],
             [
              0.1111111111111111,
              "#46039f"
             ],
             [
              0.2222222222222222,
              "#7201a8"
             ],
             [
              0.3333333333333333,
              "#9c179e"
             ],
             [
              0.4444444444444444,
              "#bd3786"
             ],
             [
              0.5555555555555556,
              "#d8576b"
             ],
             [
              0.6666666666666666,
              "#ed7953"
             ],
             [
              0.7777777777777778,
              "#fb9f3a"
             ],
             [
              0.8888888888888888,
              "#fdca26"
             ],
             [
              1,
              "#f0f921"
             ]
            ],
            "type": "histogram2dcontour"
           }
          ],
          "mesh3d": [
           {
            "colorbar": {
             "outlinewidth": 0,
             "ticks": ""
            },
            "type": "mesh3d"
           }
          ],
          "parcoords": [
           {
            "line": {
             "colorbar": {
              "outlinewidth": 0,
              "ticks": ""
             }
            },
            "type": "parcoords"
           }
          ],
          "pie": [
           {
            "automargin": true,
            "type": "pie"
           }
          ],
          "scatter": [
           {
            "marker": {
             "colorbar": {
              "outlinewidth": 0,
              "ticks": ""
             }
            },
            "type": "scatter"
           }
          ],
          "scatter3d": [
           {
            "line": {
             "colorbar": {
              "outlinewidth": 0,
              "ticks": ""
             }
            },
            "marker": {
             "colorbar": {
              "outlinewidth": 0,
              "ticks": ""
             }
            },
            "type": "scatter3d"
           }
          ],
          "scattercarpet": [
           {
            "marker": {
             "colorbar": {
              "outlinewidth": 0,
              "ticks": ""
             }
            },
            "type": "scattercarpet"
           }
          ],
          "scattergeo": [
           {
            "marker": {
             "colorbar": {
              "outlinewidth": 0,
              "ticks": ""
             }
            },
            "type": "scattergeo"
           }
          ],
          "scattergl": [
           {
            "marker": {
             "colorbar": {
              "outlinewidth": 0,
              "ticks": ""
             }
            },
            "type": "scattergl"
           }
          ],
          "scattermapbox": [
           {
            "marker": {
             "colorbar": {
              "outlinewidth": 0,
              "ticks": ""
             }
            },
            "type": "scattermapbox"
           }
          ],
          "scatterpolar": [
           {
            "marker": {
             "colorbar": {
              "outlinewidth": 0,
              "ticks": ""
             }
            },
            "type": "scatterpolar"
           }
          ],
          "scatterpolargl": [
           {
            "marker": {
             "colorbar": {
              "outlinewidth": 0,
              "ticks": ""
             }
            },
            "type": "scatterpolargl"
           }
          ],
          "scatterternary": [
           {
            "marker": {
             "colorbar": {
              "outlinewidth": 0,
              "ticks": ""
             }
            },
            "type": "scatterternary"
           }
          ],
          "surface": [
           {
            "colorbar": {
             "outlinewidth": 0,
             "ticks": ""
            },
            "colorscale": [
             [
              0,
              "#0d0887"
             ],
             [
              0.1111111111111111,
              "#46039f"
             ],
             [
              0.2222222222222222,
              "#7201a8"
             ],
             [
              0.3333333333333333,
              "#9c179e"
             ],
             [
              0.4444444444444444,
              "#bd3786"
             ],
             [
              0.5555555555555556,
              "#d8576b"
             ],
             [
              0.6666666666666666,
              "#ed7953"
             ],
             [
              0.7777777777777778,
              "#fb9f3a"
             ],
             [
              0.8888888888888888,
              "#fdca26"
             ],
             [
              1,
              "#f0f921"
             ]
            ],
            "type": "surface"
           }
          ],
          "table": [
           {
            "cells": {
             "fill": {
              "color": "#EBF0F8"
             },
             "line": {
              "color": "white"
             }
            },
            "header": {
             "fill": {
              "color": "#C8D4E3"
             },
             "line": {
              "color": "white"
             }
            },
            "type": "table"
           }
          ]
         },
         "layout": {
          "annotationdefaults": {
           "arrowcolor": "#2a3f5f",
           "arrowhead": 0,
           "arrowwidth": 1
          },
          "autotypenumbers": "strict",
          "coloraxis": {
           "colorbar": {
            "outlinewidth": 0,
            "ticks": ""
           }
          },
          "colorscale": {
           "diverging": [
            [
             0,
             "#8e0152"
            ],
            [
             0.1,
             "#c51b7d"
            ],
            [
             0.2,
             "#de77ae"
            ],
            [
             0.3,
             "#f1b6da"
            ],
            [
             0.4,
             "#fde0ef"
            ],
            [
             0.5,
             "#f7f7f7"
            ],
            [
             0.6,
             "#e6f5d0"
            ],
            [
             0.7,
             "#b8e186"
            ],
            [
             0.8,
             "#7fbc41"
            ],
            [
             0.9,
             "#4d9221"
            ],
            [
             1,
             "#276419"
            ]
           ],
           "sequential": [
            [
             0,
             "#0d0887"
            ],
            [
             0.1111111111111111,
             "#46039f"
            ],
            [
             0.2222222222222222,
             "#7201a8"
            ],
            [
             0.3333333333333333,
             "#9c179e"
            ],
            [
             0.4444444444444444,
             "#bd3786"
            ],
            [
             0.5555555555555556,
             "#d8576b"
            ],
            [
             0.6666666666666666,
             "#ed7953"
            ],
            [
             0.7777777777777778,
             "#fb9f3a"
            ],
            [
             0.8888888888888888,
             "#fdca26"
            ],
            [
             1,
             "#f0f921"
            ]
           ],
           "sequentialminus": [
            [
             0,
             "#0d0887"
            ],
            [
             0.1111111111111111,
             "#46039f"
            ],
            [
             0.2222222222222222,
             "#7201a8"
            ],
            [
             0.3333333333333333,
             "#9c179e"
            ],
            [
             0.4444444444444444,
             "#bd3786"
            ],
            [
             0.5555555555555556,
             "#d8576b"
            ],
            [
             0.6666666666666666,
             "#ed7953"
            ],
            [
             0.7777777777777778,
             "#fb9f3a"
            ],
            [
             0.8888888888888888,
             "#fdca26"
            ],
            [
             1,
             "#f0f921"
            ]
           ]
          },
          "colorway": [
           "#636efa",
           "#EF553B",
           "#00cc96",
           "#ab63fa",
           "#FFA15A",
           "#19d3f3",
           "#FF6692",
           "#B6E880",
           "#FF97FF",
           "#FECB52"
          ],
          "font": {
           "color": "#2a3f5f"
          },
          "geo": {
           "bgcolor": "white",
           "lakecolor": "white",
           "landcolor": "#E5ECF6",
           "showlakes": true,
           "showland": true,
           "subunitcolor": "white"
          },
          "hoverlabel": {
           "align": "left"
          },
          "hovermode": "closest",
          "mapbox": {
           "style": "light"
          },
          "paper_bgcolor": "white",
          "plot_bgcolor": "#E5ECF6",
          "polar": {
           "angularaxis": {
            "gridcolor": "white",
            "linecolor": "white",
            "ticks": ""
           },
           "bgcolor": "#E5ECF6",
           "radialaxis": {
            "gridcolor": "white",
            "linecolor": "white",
            "ticks": ""
           }
          },
          "scene": {
           "xaxis": {
            "backgroundcolor": "#E5ECF6",
            "gridcolor": "white",
            "gridwidth": 2,
            "linecolor": "white",
            "showbackground": true,
            "ticks": "",
            "zerolinecolor": "white"
           },
           "yaxis": {
            "backgroundcolor": "#E5ECF6",
            "gridcolor": "white",
            "gridwidth": 2,
            "linecolor": "white",
            "showbackground": true,
            "ticks": "",
            "zerolinecolor": "white"
           },
           "zaxis": {
            "backgroundcolor": "#E5ECF6",
            "gridcolor": "white",
            "gridwidth": 2,
            "linecolor": "white",
            "showbackground": true,
            "ticks": "",
            "zerolinecolor": "white"
           }
          },
          "shapedefaults": {
           "line": {
            "color": "#2a3f5f"
           }
          },
          "ternary": {
           "aaxis": {
            "gridcolor": "white",
            "linecolor": "white",
            "ticks": ""
           },
           "baxis": {
            "gridcolor": "white",
            "linecolor": "white",
            "ticks": ""
           },
           "bgcolor": "#E5ECF6",
           "caxis": {
            "gridcolor": "white",
            "linecolor": "white",
            "ticks": ""
           }
          },
          "title": {
           "x": 0.05
          },
          "xaxis": {
           "automargin": true,
           "gridcolor": "white",
           "linecolor": "white",
           "ticks": "",
           "title": {
            "standoff": 15
           },
           "zerolinecolor": "white",
           "zerolinewidth": 2
          },
          "yaxis": {
           "automargin": true,
           "gridcolor": "white",
           "linecolor": "white",
           "ticks": "",
           "title": {
            "standoff": 15
           },
           "zerolinecolor": "white",
           "zerolinewidth": 2
          }
         }
        },
        "xaxis": {
         "anchor": "y",
         "domain": [
          0,
          1
         ],
         "title": {
          "text": "0"
         }
        },
        "yaxis": {
         "anchor": "x",
         "domain": [
          0,
          1
         ],
         "title": {
          "text": "1"
         }
        }
       }
      }
     },
     "metadata": {},
     "output_type": "display_data"
    }
   ],
   "source": [
    "import plotly.express as px\n",
    "import plotly.graph_objects as go\n",
    "fig = px.scatter(training_X2, x=0, y=1, color=training_label)\n",
    "\n",
    "\n",
    "fig.show()"
   ]
  },
  {
   "cell_type": "code",
   "execution_count": 88,
   "metadata": {},
   "outputs": [
    {
     "data": {
      "text/plain": [
       "numpy.ndarray"
      ]
     },
     "execution_count": 88,
     "metadata": {},
     "output_type": "execute_result"
    }
   ],
   "source": [
    "type(training_X_for_visualization[0])"
   ]
  },
  {
   "cell_type": "code",
   "execution_count": 89,
   "metadata": {},
   "outputs": [],
   "source": [
    "#training_X_for_visualization=np.ndarray.tolist(training_X_for_visualization)"
   ]
  },
  {
   "cell_type": "code",
   "execution_count": 90,
   "metadata": {},
   "outputs": [
    {
     "data": {
      "text/plain": [
       "238"
      ]
     },
     "execution_count": 90,
     "metadata": {},
     "output_type": "execute_result"
    }
   ],
   "source": [
    "len(training_X_for_visualization[0])"
   ]
  },
  {
   "cell_type": "code",
   "execution_count": 91,
   "metadata": {},
   "outputs": [
    {
     "data": {
      "text/plain": [
       "[1.5669077732675696,\n",
       " 1.40839247014141,\n",
       " 1.029793961832097,\n",
       " 1.4910920942135506,\n",
       " 1.1804110445713345]"
      ]
     },
     "execution_count": 91,
     "metadata": {},
     "output_type": "execute_result"
    }
   ],
   "source": [
    "\n",
    "def get_min_matrix(matrix):\n",
    "    min_num=999\n",
    "    for i in range(len(matrix)):\n",
    "        for j in range(len(matrix[i])):\n",
    "            if matrix[i][j]<min_num and matrix[i][j]!=0:\n",
    "                min_num=matrix[i][j]\n",
    "    return min_num\n",
    "\n",
    "from sklearn.metrics import pairwise_distances\n",
    "same_class_distance_matrix=[]\n",
    "for i in range(5):\n",
    "    each_class=training_X_for_visualization[i*8:(i+1)*8]\n",
    "    dd=pairwise_distances(each_class,each_class,metric='euclidean')\n",
    "    same_class_distance_matrix.append(dd)\n",
    "len(same_class_distance_matrix)\n",
    "min_dist_matrix=[]\n",
    "for i in range(len(same_class_distance_matrix)):\n",
    "    min_dist_matrix.append(get_min_matrix(same_class_distance_matrix[i]))\n",
    "min_dist_matrix\n",
    "\n",
    "\n"
   ]
  },
  {
   "cell_type": "code",
   "execution_count": 92,
   "metadata": {},
   "outputs": [
    {
     "data": {
      "text/plain": [
       "(8, 238)"
      ]
     },
     "execution_count": 92,
     "metadata": {},
     "output_type": "execute_result"
    }
   ],
   "source": [
    "training_X_for_visualization[:8].shape"
   ]
  },
  {
   "cell_type": "code",
   "execution_count": 93,
   "metadata": {},
   "outputs": [],
   "source": [
    "for i in range(5):\n",
    "    each_class=training_X_for_visualization[i*8:(i+1)*8]\n",
    "    dd=pairwise_distances(each_class,each_class,metric='euclidean')\n",
    "    same_class_distance_matrix.append(dd)\n",
    "len(same_class_distance_matrix)\n",
    "min_dist_matrix=[]\n",
    "for i in range(len(same_class_distance_matrix)):\n",
    "    min_dist_matrix.append(get_min_matrix(same_class_distance_matrix[i]))\n",
    "min_dist_matrix\n",
    "different_class_distance_matrix=[]\n",
    "\n",
    "\n",
    "    "
   ]
  },
  {
   "cell_type": "code",
   "execution_count": 94,
   "metadata": {},
   "outputs": [
    {
     "data": {
      "text/plain": [
       "[array([[0.        , 3.83120281, 3.78282849, 4.69041376, 3.1084158 ,\n",
       "         4.3578398 , 4.31236264, 5.57564249],\n",
       "        [3.83120281, 0.        , 2.37138871, 5.57990363, 3.41999222,\n",
       "         4.19741172, 4.44587257, 5.963659  ],\n",
       "        [3.78282849, 2.37138871, 0.        , 5.25643987, 3.51465481,\n",
       "         3.88950658, 4.43153626, 5.40663194],\n",
       "        [4.69041376, 5.57990363, 5.25643987, 0.        , 4.68537723,\n",
       "         4.48315578, 5.0127212 , 4.63590703],\n",
       "        [3.1084158 , 3.41999222, 3.51465481, 4.68537723, 0.        ,\n",
       "         2.42674589, 2.11776763, 4.26490425],\n",
       "        [4.3578398 , 4.19741172, 3.88950658, 4.48315578, 2.42674589,\n",
       "         0.        , 1.56690777, 2.82158855],\n",
       "        [4.31236264, 4.44587257, 4.43153626, 5.0127212 , 2.11776763,\n",
       "         1.56690777, 0.        , 3.17700351],\n",
       "        [5.57564249, 5.963659  , 5.40663194, 4.63590703, 4.26490425,\n",
       "         2.82158855, 3.17700351, 0.        ]]),\n",
       " array([[0.        , 2.81271786, 1.7980626 , 2.27051078, 3.51793515,\n",
       "         2.95261035, 5.07025923, 4.33374221],\n",
       "        [2.81271786, 0.        , 2.62560539, 1.40839247, 3.25287884,\n",
       "         3.21827674, 3.28160035, 2.89125395],\n",
       "        [1.7980626 , 2.62560539, 0.        , 2.58050032, 3.26739923,\n",
       "         2.79852228, 4.59469717, 3.76099942],\n",
       "        [2.27051078, 1.40839247, 2.58050032, 0.        , 3.43526499,\n",
       "         3.29824161, 3.89319945, 3.48628882],\n",
       "        [3.51793515, 3.25287884, 3.26739923, 3.43526499, 0.        ,\n",
       "         1.41925809, 2.75509491, 2.11222668],\n",
       "        [2.95261035, 3.21827674, 2.79852228, 3.29824161, 1.41925809,\n",
       "         0.        , 3.42404767, 2.59502681],\n",
       "        [5.07025923, 3.28160035, 4.59469717, 3.89319945, 2.75509491,\n",
       "         3.42404767, 0.        , 1.54116546],\n",
       "        [4.33374221, 2.89125395, 3.76099942, 3.48628882, 2.11222668,\n",
       "         2.59502681, 1.54116546, 0.        ]]),\n",
       " array([[0.        , 1.94992007, 2.19750956, 1.27693095, 3.27490547,\n",
       "         3.29056279, 4.38004769, 4.86159383],\n",
       "        [1.94992007, 0.        , 1.02979396, 2.1911123 , 2.12705014,\n",
       "         3.4570895 , 3.53331263, 3.97139284],\n",
       "        [2.19750956, 1.02979396, 0.        , 2.10090638, 2.36137709,\n",
       "         3.77028724, 3.43957768, 4.00291156],\n",
       "        [1.27693095, 2.1911123 , 2.10090638, 0.        , 3.33337132,\n",
       "         3.26758667, 4.11457068, 4.67311954],\n",
       "        [3.27490547, 2.12705014, 2.36137709, 3.33337132, 0.        ,\n",
       "         2.90180339, 2.24766127, 2.71641104],\n",
       "        [3.29056279, 3.4570895 , 3.77028724, 3.26758667, 2.90180339,\n",
       "         0.        , 3.4980086 , 4.09939191],\n",
       "        [4.38004769, 3.53331263, 3.43957768, 4.11457068, 2.24766127,\n",
       "         3.4980086 , 0.        , 2.2337255 ],\n",
       "        [4.86159383, 3.97139284, 4.00291156, 4.67311954, 2.71641104,\n",
       "         4.09939191, 2.2337255 , 0.        ]]),\n",
       " array([[0.        , 2.19839236, 3.29052654, 3.38927505, 6.79075599,\n",
       "         6.44949969, 5.4294485 , 7.67790459],\n",
       "        [2.19839236, 0.        , 4.42721321, 4.6368737 , 6.09169044,\n",
       "         5.96620056, 4.93780814, 6.99654594],\n",
       "        [3.29052654, 4.42721321, 0.        , 2.55614252, 7.19334466,\n",
       "         6.50960644, 5.67301102, 7.75186472],\n",
       "        [3.38927505, 4.6368737 , 2.55614252, 0.        , 7.31658973,\n",
       "         6.65862876, 5.84858487, 7.96145161],\n",
       "        [6.79075599, 6.09169044, 7.19334466, 7.31658973, 0.        ,\n",
       "         1.50081754, 2.11507552, 1.49109209],\n",
       "        [6.44949969, 5.96620056, 6.50960644, 6.65862876, 1.50081754,\n",
       "         0.        , 1.70566535, 1.97715119],\n",
       "        [5.4294485 , 4.93780814, 5.67301102, 5.84858487, 2.11507552,\n",
       "         1.70566535, 0.        , 2.80744565],\n",
       "        [7.67790459, 6.99654594, 7.75186472, 7.96145161, 1.49109209,\n",
       "         1.97715119, 2.80744565, 0.        ]]),\n",
       " array([[0.        , 1.54602488, 1.69672022, 5.62030695, 3.39963612,\n",
       "         2.8766708 , 1.99151931, 3.03438803],\n",
       "        [1.54602488, 0.        , 1.88974466, 5.74186863, 3.67121896,\n",
       "         2.74318476, 2.01886983, 3.17667406],\n",
       "        [1.69672022, 1.88974466, 0.        , 5.39325771, 3.82300149,\n",
       "         3.34479514, 2.77215266, 3.39568948],\n",
       "        [5.62030695, 5.74186863, 5.39325771, 0.        , 3.38344565,\n",
       "         4.19805281, 5.20813075, 3.73639327],\n",
       "        [3.39963612, 3.67121896, 3.82300149, 3.38344565, 0.        ,\n",
       "         1.93669014, 2.55971788, 1.18041104],\n",
       "        [2.8766708 , 2.74318476, 3.34479514, 4.19805281, 1.93669014,\n",
       "         0.        , 1.66929045, 1.74169785],\n",
       "        [1.99151931, 2.01886983, 2.77215266, 5.20813075, 2.55971788,\n",
       "         1.66929045, 0.        , 2.13480364],\n",
       "        [3.03438803, 3.17667406, 3.39568948, 3.73639327, 1.18041104,\n",
       "         1.74169785, 2.13480364, 0.        ]]),\n",
       " array([[0.        , 3.83120281, 3.78282849, 4.69041376, 3.1084158 ,\n",
       "         4.3578398 , 4.31236264, 5.57564249],\n",
       "        [3.83120281, 0.        , 2.37138871, 5.57990363, 3.41999222,\n",
       "         4.19741172, 4.44587257, 5.963659  ],\n",
       "        [3.78282849, 2.37138871, 0.        , 5.25643987, 3.51465481,\n",
       "         3.88950658, 4.43153626, 5.40663194],\n",
       "        [4.69041376, 5.57990363, 5.25643987, 0.        , 4.68537723,\n",
       "         4.48315578, 5.0127212 , 4.63590703],\n",
       "        [3.1084158 , 3.41999222, 3.51465481, 4.68537723, 0.        ,\n",
       "         2.42674589, 2.11776763, 4.26490425],\n",
       "        [4.3578398 , 4.19741172, 3.88950658, 4.48315578, 2.42674589,\n",
       "         0.        , 1.56690777, 2.82158855],\n",
       "        [4.31236264, 4.44587257, 4.43153626, 5.0127212 , 2.11776763,\n",
       "         1.56690777, 0.        , 3.17700351],\n",
       "        [5.57564249, 5.963659  , 5.40663194, 4.63590703, 4.26490425,\n",
       "         2.82158855, 3.17700351, 0.        ]]),\n",
       " array([[0.        , 2.81271786, 1.7980626 , 2.27051078, 3.51793515,\n",
       "         2.95261035, 5.07025923, 4.33374221],\n",
       "        [2.81271786, 0.        , 2.62560539, 1.40839247, 3.25287884,\n",
       "         3.21827674, 3.28160035, 2.89125395],\n",
       "        [1.7980626 , 2.62560539, 0.        , 2.58050032, 3.26739923,\n",
       "         2.79852228, 4.59469717, 3.76099942],\n",
       "        [2.27051078, 1.40839247, 2.58050032, 0.        , 3.43526499,\n",
       "         3.29824161, 3.89319945, 3.48628882],\n",
       "        [3.51793515, 3.25287884, 3.26739923, 3.43526499, 0.        ,\n",
       "         1.41925809, 2.75509491, 2.11222668],\n",
       "        [2.95261035, 3.21827674, 2.79852228, 3.29824161, 1.41925809,\n",
       "         0.        , 3.42404767, 2.59502681],\n",
       "        [5.07025923, 3.28160035, 4.59469717, 3.89319945, 2.75509491,\n",
       "         3.42404767, 0.        , 1.54116546],\n",
       "        [4.33374221, 2.89125395, 3.76099942, 3.48628882, 2.11222668,\n",
       "         2.59502681, 1.54116546, 0.        ]]),\n",
       " array([[0.        , 1.94992007, 2.19750956, 1.27693095, 3.27490547,\n",
       "         3.29056279, 4.38004769, 4.86159383],\n",
       "        [1.94992007, 0.        , 1.02979396, 2.1911123 , 2.12705014,\n",
       "         3.4570895 , 3.53331263, 3.97139284],\n",
       "        [2.19750956, 1.02979396, 0.        , 2.10090638, 2.36137709,\n",
       "         3.77028724, 3.43957768, 4.00291156],\n",
       "        [1.27693095, 2.1911123 , 2.10090638, 0.        , 3.33337132,\n",
       "         3.26758667, 4.11457068, 4.67311954],\n",
       "        [3.27490547, 2.12705014, 2.36137709, 3.33337132, 0.        ,\n",
       "         2.90180339, 2.24766127, 2.71641104],\n",
       "        [3.29056279, 3.4570895 , 3.77028724, 3.26758667, 2.90180339,\n",
       "         0.        , 3.4980086 , 4.09939191],\n",
       "        [4.38004769, 3.53331263, 3.43957768, 4.11457068, 2.24766127,\n",
       "         3.4980086 , 0.        , 2.2337255 ],\n",
       "        [4.86159383, 3.97139284, 4.00291156, 4.67311954, 2.71641104,\n",
       "         4.09939191, 2.2337255 , 0.        ]]),\n",
       " array([[0.        , 2.19839236, 3.29052654, 3.38927505, 6.79075599,\n",
       "         6.44949969, 5.4294485 , 7.67790459],\n",
       "        [2.19839236, 0.        , 4.42721321, 4.6368737 , 6.09169044,\n",
       "         5.96620056, 4.93780814, 6.99654594],\n",
       "        [3.29052654, 4.42721321, 0.        , 2.55614252, 7.19334466,\n",
       "         6.50960644, 5.67301102, 7.75186472],\n",
       "        [3.38927505, 4.6368737 , 2.55614252, 0.        , 7.31658973,\n",
       "         6.65862876, 5.84858487, 7.96145161],\n",
       "        [6.79075599, 6.09169044, 7.19334466, 7.31658973, 0.        ,\n",
       "         1.50081754, 2.11507552, 1.49109209],\n",
       "        [6.44949969, 5.96620056, 6.50960644, 6.65862876, 1.50081754,\n",
       "         0.        , 1.70566535, 1.97715119],\n",
       "        [5.4294485 , 4.93780814, 5.67301102, 5.84858487, 2.11507552,\n",
       "         1.70566535, 0.        , 2.80744565],\n",
       "        [7.67790459, 6.99654594, 7.75186472, 7.96145161, 1.49109209,\n",
       "         1.97715119, 2.80744565, 0.        ]]),\n",
       " array([[0.        , 1.54602488, 1.69672022, 5.62030695, 3.39963612,\n",
       "         2.8766708 , 1.99151931, 3.03438803],\n",
       "        [1.54602488, 0.        , 1.88974466, 5.74186863, 3.67121896,\n",
       "         2.74318476, 2.01886983, 3.17667406],\n",
       "        [1.69672022, 1.88974466, 0.        , 5.39325771, 3.82300149,\n",
       "         3.34479514, 2.77215266, 3.39568948],\n",
       "        [5.62030695, 5.74186863, 5.39325771, 0.        , 3.38344565,\n",
       "         4.19805281, 5.20813075, 3.73639327],\n",
       "        [3.39963612, 3.67121896, 3.82300149, 3.38344565, 0.        ,\n",
       "         1.93669014, 2.55971788, 1.18041104],\n",
       "        [2.8766708 , 2.74318476, 3.34479514, 4.19805281, 1.93669014,\n",
       "         0.        , 1.66929045, 1.74169785],\n",
       "        [1.99151931, 2.01886983, 2.77215266, 5.20813075, 2.55971788,\n",
       "         1.66929045, 0.        , 2.13480364],\n",
       "        [3.03438803, 3.17667406, 3.39568948, 3.73639327, 1.18041104,\n",
       "         1.74169785, 2.13480364, 0.        ]])]"
      ]
     },
     "execution_count": 94,
     "metadata": {},
     "output_type": "execute_result"
    }
   ],
   "source": [
    "same_class_distance_matrix"
   ]
  },
  {
   "cell_type": "code",
   "execution_count": 95,
   "metadata": {},
   "outputs": [],
   "source": [
    "from sklearn.metrics import pairwise_distances\n",
    " \n",
    "\n",
    "same_class_matrix=[]\n",
    "for i in range(10):\n",
    "    each_class=[]\n",
    "    \n",
    "    each_class=training_X_for_visualization[i:(i+1)*4]\n",
    "    dd=pairwise_distances(each_class,each_class,metric='euclidean')\n",
    "    same_class_matrix.append(dd)\n",
    "#dd=pairwise_distances(coords,coords,metric='euclidean')\n",
    "#print(dd)"
   ]
  },
  {
   "cell_type": "markdown",
   "metadata": {},
   "source": [
    "# same class"
   ]
  },
  {
   "cell_type": "code",
   "execution_count": 96,
   "metadata": {},
   "outputs": [
    {
     "data": {
      "text/plain": [
       "10"
      ]
     },
     "execution_count": 96,
     "metadata": {},
     "output_type": "execute_result"
    }
   ],
   "source": [
    "len(same_class_matrix)"
   ]
  },
  {
   "cell_type": "markdown",
   "metadata": {},
   "source": [
    "# different class"
   ]
  },
  {
   "cell_type": "markdown",
   "metadata": {},
   "source": [
    "# Combination"
   ]
  },
  {
   "cell_type": "code",
   "execution_count": 97,
   "metadata": {},
   "outputs": [],
   "source": [
    "from itertools import combinations\n",
    "single_drug=['Etoposide','Gemcitabine','Paclitaxel',\"Vinblastine\",\"17AAG\",\"AUY922\",\"MG132\",\"PS341\",\"SAHA\",\"Apicidin\",\"DMSO\"] \n",
    "# Get all combinations of [1, 2, 3]\n",
    "# and length 2\n",
    "combi_name=[]\n",
    "def combi(lst):\n",
    "    comb = combinations(lst, 2)\n",
    "    \n",
    "    # Print the obtained combinations\n",
    "    for i in list(comb):\n",
    "        #print (i)\n",
    "        if i[0]!='DMSO' and i[1]!=\"DMSO\":\n",
    "            combi_name.append([i[0],i[1]])\n",
    "combi(single_drug)"
   ]
  },
  {
   "cell_type": "code",
   "execution_count": 98,
   "metadata": {},
   "outputs": [
    {
     "data": {
      "text/plain": [
       "[['Etoposide', 'Gemcitabine'],\n",
       " ['Etoposide', 'Paclitaxel'],\n",
       " ['Etoposide', 'Vinblastine'],\n",
       " ['Etoposide', '17AAG'],\n",
       " ['Etoposide', 'AUY922'],\n",
       " ['Etoposide', 'MG132'],\n",
       " ['Etoposide', 'PS341'],\n",
       " ['Etoposide', 'SAHA'],\n",
       " ['Etoposide', 'Apicidin'],\n",
       " ['Gemcitabine', 'Paclitaxel'],\n",
       " ['Gemcitabine', 'Vinblastine'],\n",
       " ['Gemcitabine', '17AAG'],\n",
       " ['Gemcitabine', 'AUY922'],\n",
       " ['Gemcitabine', 'MG132'],\n",
       " ['Gemcitabine', 'PS341'],\n",
       " ['Gemcitabine', 'SAHA'],\n",
       " ['Gemcitabine', 'Apicidin'],\n",
       " ['Paclitaxel', 'Vinblastine'],\n",
       " ['Paclitaxel', '17AAG'],\n",
       " ['Paclitaxel', 'AUY922'],\n",
       " ['Paclitaxel', 'MG132'],\n",
       " ['Paclitaxel', 'PS341'],\n",
       " ['Paclitaxel', 'SAHA'],\n",
       " ['Paclitaxel', 'Apicidin'],\n",
       " ['Vinblastine', '17AAG'],\n",
       " ['Vinblastine', 'AUY922'],\n",
       " ['Vinblastine', 'MG132'],\n",
       " ['Vinblastine', 'PS341'],\n",
       " ['Vinblastine', 'SAHA'],\n",
       " ['Vinblastine', 'Apicidin'],\n",
       " ['17AAG', 'AUY922'],\n",
       " ['17AAG', 'MG132'],\n",
       " ['17AAG', 'PS341'],\n",
       " ['17AAG', 'SAHA'],\n",
       " ['17AAG', 'Apicidin'],\n",
       " ['AUY922', 'MG132'],\n",
       " ['AUY922', 'PS341'],\n",
       " ['AUY922', 'SAHA'],\n",
       " ['AUY922', 'Apicidin'],\n",
       " ['MG132', 'PS341'],\n",
       " ['MG132', 'SAHA'],\n",
       " ['MG132', 'Apicidin'],\n",
       " ['PS341', 'SAHA'],\n",
       " ['PS341', 'Apicidin'],\n",
       " ['SAHA', 'Apicidin']]"
      ]
     },
     "execution_count": 98,
     "metadata": {},
     "output_type": "execute_result"
    }
   ],
   "source": [
    "combi_name"
   ]
  },
  {
   "cell_type": "code",
   "execution_count": 99,
   "metadata": {},
   "outputs": [],
   "source": [
    "def extract_any_drug_set(frames1,concentration,drug_name1,drug_name2):\n",
    "    if drug_name1!=drug_name2:\n",
    "        for i in range(len(concentration)):\n",
    "            frames1.append(df.loc[(df['drug_name'] =='%s+%s+'%(drug_name1,drug_name2)+str(concentration[i])) ])\n",
    "        for i in range(len(concentration)):\n",
    "            frames1.append(df.loc[(df['drug_name'] =='%s+%s+'%(drug_name2,drug_name1)+str(concentration[i])) ])\n",
    "    elif drug_name1==drug_name2:\n",
    "        #pass\n",
    "        #print(len(frames1))\n",
    "        #for i in range(len(concentration)):\n",
    "        #    frames1.append(df.loc[(df['drug_name'] =='%s+%s+'%(drug_name1,drug_name2)+str(concentration[i])) ])\n",
    "        #    pass\n",
    "        #if drug_name1==drug_name2:\n",
    "        #    pass\n",
    "\n",
    "          #  frames1.append(df.loc[(df['drug_name'] =='%s+%s+'%(drug_name1,drug_name2)+str(concentration[i])) ])\n",
    "        #print(len(frames1))\n",
    "        if drug_name1=='DMSO' and drug_name2=='DMSO':\n",
    "            \n",
    "        #这个函数其实 ，dmso和drug combination都要考虑到 有点复杂\n",
    "            for i in range(len(concentration)):\n",
    "                frames1.append(df.loc[(df['drug_name'] =='%s+%s+'%(drug_name1,drug_name2)+str(concentration[i])) ])\n",
    "            pass\n",
    "        else:\n",
    "            for i in range(len(concentration)):\n",
    "\n",
    "                frames1.append(df.loc[(df['drug_name'] =='%s+DMSO+'%(drug_name1)+str(concentration[i])) ])\n",
    "            for i in range(len(concentration)):\n",
    "                frames1.append(df.loc[(df['drug_name'] =='DMSO+%s+'%(drug_name1)+str(concentration[i])) ])\n",
    "        #print(frames1)"
   ]
  },
  {
   "cell_type": "code",
   "execution_count": 100,
   "metadata": {},
   "outputs": [],
   "source": [
    "combination_drug=[]\n",
    "def set_training_label(single_df,training_label,name):\n",
    "    for i in range(len(single_df)):\n",
    "        training_label.append(name)\n",
    "def set_visualization_datasetxy(namelist,concentration,label):\n",
    "    for i in range(len(namelist)):\n",
    "        global frames\n",
    "        frames=[]\n",
    "        extract_any_drug_set(frames,concentration,namelist[i][0],namelist[i][1])\n",
    "        global Dataframe\n",
    "        Dataframe=pd.concat(frames)\n",
    "        combination_drug.append(Dataframe)\n",
    "        if namelist[i][0]==namelist[i][1]:\n",
    "            set_training_label(Dataframe,label,namelist[i][0])\n",
    "        else:\n",
    "            set_training_label(Dataframe,label,namelist[i][0]+'+'+namelist[i][1])\n",
    "        \n",
    "\n",
    "visualization_data_name=[]\n",
    "\n",
    "for i in range(len(single_drug)):\n",
    "    visualization_data_name.append([single_drug[i],single_drug[i]])\n",
    "visualization_data_name+=combi_name\n",
    "\n",
    "\n",
    "visualization_label=[]\n",
    "set_visualization_datasetxy(visualization_data_name,[1,2,3,4,5,6],visualization_label)\n"
   ]
  },
  {
   "cell_type": "code",
   "execution_count": null,
   "metadata": {},
   "outputs": [],
   "source": []
  },
  {
   "cell_type": "code",
   "execution_count": 101,
   "metadata": {},
   "outputs": [],
   "source": [
    "visualization_data=pd.concat(combination_drug)\n",
    "visualization_help=copy.deepcopy(visualization_data)"
   ]
  },
  {
   "cell_type": "markdown",
   "metadata": {},
   "source": [
    "# LDA model training"
   ]
  },
  {
   "cell_type": "code",
   "execution_count": 102,
   "metadata": {},
   "outputs": [],
   "source": [
    "# Create a function\n",
    "def select_n_components(var_ratio, goal_var: float) -> int:\n",
    "    # Set initial variance explained so far\n",
    "    total_variance = 0.0\n",
    "    \n",
    "    # Set initial number of features\n",
    "    n_components = 0\n",
    "    \n",
    "    # For the explained variance of each feature:\n",
    "    for explained_variance in var_ratio:\n",
    "        \n",
    "        # Add the explained variance to the total\n",
    "        total_variance += explained_variance\n",
    "        \n",
    "        # Add one to the number of components\n",
    "        n_components += 1\n",
    "        \n",
    "        # If we reach our goal level of explained variance\n",
    "        if total_variance >= goal_var:\n",
    "            # End the loop\n",
    "            break\n",
    "            \n",
    "    # Return the number of components\n",
    "    return n_components"
   ]
  },
  {
   "cell_type": "code",
   "execution_count": 103,
   "metadata": {},
   "outputs": [
    {
     "name": "stdout",
     "output_type": "stream",
     "text": [
      "[0.41985458 0.19596445 0.17475095 0.05915512 0.05272537 0.03701797\n",
      " 0.02579554 0.01832136 0.01005233 0.00636233]\n",
      "7\n",
      "5\n",
      "3\n",
      "3\n",
      "1\n"
     ]
    }
   ],
   "source": [
    "from sklearn.discriminant_analysis import LinearDiscriminantAnalysis \n",
    "from sklearn.preprocessing import StandardScaler\n",
    "lda = LinearDiscriminantAnalysis(n_components=None)\n",
    "X_lda=lda.fit(training_X_for_visualization,training_label)\n",
    "lda_var_ratios = lda.explained_variance_ratio_\n",
    "print(lda_var_ratios)\n",
    "print(select_n_components(lda_var_ratios, 0.95))\n",
    "print(select_n_components(lda_var_ratios, 0.85))\n",
    "print(select_n_components(lda_var_ratios, 0.75))\n",
    "print(select_n_components(lda_var_ratios, 0.65))\n",
    "print(select_n_components(lda_var_ratios, 0.35))"
   ]
  },
  {
   "cell_type": "code",
   "execution_count": 104,
   "metadata": {},
   "outputs": [
    {
     "data": {
      "text/plain": [
       "56"
      ]
     },
     "execution_count": 104,
     "metadata": {},
     "output_type": "execute_result"
    }
   ],
   "source": [
    "len(training_X_for_visualization)"
   ]
  },
  {
   "cell_type": "code",
   "execution_count": 105,
   "metadata": {},
   "outputs": [],
   "source": [
    "#set training data and concentration\n",
    "#Dna ： etoposide，Gemcitabine\n",
    "#mt：paclitaxel，Vinblastine\n",
    "#hsp：17aag，auy922\n",
    "\n",
    "#prot：\"MG132\"，ps341\n",
    "#hdac：saha，apicidin"
   ]
  },
  {
   "cell_type": "code",
   "execution_count": 106,
   "metadata": {},
   "outputs": [],
   "source": [
    "training_label_class=[]\n",
    "for i in range(len(training_label)):\n",
    "    if training_label[i] in ['Etoposide','Gemcitabine']:\n",
    "        training_label_class.append('DNA')\n",
    "    elif training_label[i] in ['Paclitaxel','Vinblastine']:\n",
    "        training_label_class.append('MT')\n",
    "    elif training_label[i] in ['17AAG','AUY922']:\n",
    "        training_label_class.append('HSP')\n",
    "    elif training_label[i] in ['MG132','PS341']:\n",
    "        training_label_class.append('PROT')\n",
    "    elif training_label[i] in ['SAHA','Apicidin']:\n",
    "        training_label_class.append('HDAC') \n",
    "    elif training_label[i] in [\"DMSO\"]:\n",
    "        training_label_class.append(\"DMSO\")"
   ]
  },
  {
   "cell_type": "code",
   "execution_count": 107,
   "metadata": {},
   "outputs": [
    {
     "data": {
      "text/plain": [
       "56"
      ]
     },
     "execution_count": 107,
     "metadata": {},
     "output_type": "execute_result"
    }
   ],
   "source": [
    "len(training_label_class)"
   ]
  },
  {
   "cell_type": "code",
   "execution_count": 108,
   "metadata": {},
   "outputs": [],
   "source": [
    "#training_label_class"
   ]
  },
  {
   "cell_type": "code",
   "execution_count": 109,
   "metadata": {},
   "outputs": [
    {
     "name": "stdout",
     "output_type": "stream",
     "text": [
      "238\n",
      "4\n"
     ]
    },
    {
     "data": {
      "text/plain": [
       "'\\nfrom metric_learn import LFDA\\n\\nlfda = LFDA()\\n\\nvisualization_data=lfda.fit(training_X_for_visualization,training_label).transform(visualization_data)'"
      ]
     },
     "execution_count": 109,
     "metadata": {},
     "output_type": "execute_result"
    }
   ],
   "source": [
    "#LDA\n",
    "from sklearn.discriminant_analysis import LinearDiscriminantAnalysis \n",
    "from sklearn.preprocessing import StandardScaler\n",
    "\n",
    "model = LinearDiscriminantAnalysis(n_components=4)\n",
    "model2=LinearDiscriminantAnalysis(n_components=4)\n",
    "model3=LinearDiscriminantAnalysis(n_components=4)\n",
    "#training_X=training_X.iloc[:,2:240].values\n",
    "visualization_data=visualization_data.iloc[:,2:240].values\n",
    "#training_X_for_visualization=model.fit(training_X_for_visualization,training_label).transform(training_X_for_visualization)\n",
    "print(len(training_X_for_visualization[0]))\n",
    "#model.fit(training_X_for_visualization,training_label)\n",
    "#一个给自己监督降维，一个用别人的监督好的数据给自己降维（这样降维出来效果好）。再有一个用弄好的降维数据做拟合和预测。\n",
    "visualization_data=model2.fit(training_X_for_visualization,training_label_class).transform(visualization_data)\n",
    "training_X_for_visualization=model3.fit(training_X_for_visualization,training_label_class).transform(training_X_for_visualization)\n",
    "\n",
    "#visualization_data= pca.fit_transform(visualization_data)\n",
    "model.fit(training_X_for_visualization,training_label_class)\n",
    "\n",
    "print(len(visualization_data[0]))\n",
    "\"\"\"\n",
    "from metric_learn import LFDA\n",
    "\n",
    "lfda = LFDA()\n",
    "\n",
    "visualization_data=lfda.fit(training_X_for_visualization,training_label).transform(visualization_data)\"\"\"\n",
    "#klfda=klfda(k, y, r, metric = c(\"weighted\", \"orthonormalized\", \"plain\"),knn = 6, reg = 0.001)\n"
   ]
  },
  {
   "cell_type": "code",
   "execution_count": 110,
   "metadata": {},
   "outputs": [
    {
     "data": {
      "text/plain": [
       "1416"
      ]
     },
     "execution_count": 110,
     "metadata": {},
     "output_type": "execute_result"
    }
   ],
   "source": [
    "len(visualization_data)"
   ]
  },
  {
   "cell_type": "code",
   "execution_count": 111,
   "metadata": {},
   "outputs": [],
   "source": [
    "#Import knearest neighbors Classifier model\n",
    "from sklearn.neighbors import KNeighborsClassifier\n",
    "\n",
    "#Create KNN Classifier\n",
    "knn = KNeighborsClassifier(n_neighbors=10)\n",
    "\n",
    "#Train the model using the training sets\n",
    "knn.fit(training_X_for_visualization, training_label_class)\n",
    "\n",
    "#Predict the response for test dataset\n",
    "y_pred = knn.predict(visualization_data)"
   ]
  },
  {
   "cell_type": "code",
   "execution_count": null,
   "metadata": {},
   "outputs": [],
   "source": []
  },
  {
   "cell_type": "code",
   "execution_count": 112,
   "metadata": {},
   "outputs": [
    {
     "data": {
      "text/plain": [
       "[1.5669077732675696,\n",
       " 1.40839247014141,\n",
       " 1.029793961832097,\n",
       " 1.4910920942135506,\n",
       " 1.1804110445713345,\n",
       " 1.5669077732675696,\n",
       " 1.40839247014141,\n",
       " 1.029793961832097,\n",
       " 1.4910920942135506,\n",
       " 1.1804110445713345]"
      ]
     },
     "execution_count": 112,
     "metadata": {},
     "output_type": "execute_result"
    }
   ],
   "source": [
    "min_dist_matrix"
   ]
  },
  {
   "cell_type": "code",
   "execution_count": 113,
   "metadata": {},
   "outputs": [
    {
     "data": {
      "text/plain": [
       "4"
      ]
     },
     "execution_count": 113,
     "metadata": {},
     "output_type": "execute_result"
    }
   ],
   "source": [
    "len(training_X2[0])"
   ]
  },
  {
   "cell_type": "code",
   "execution_count": 114,
   "metadata": {},
   "outputs": [],
   "source": [
    "from sklearn.metrics import pairwise_distances\n",
    "testing_class_distance_matrix=[]\n",
    "testing_class=visualization_data[336:360]\n",
    "\n",
    "each_class=training_X_for_visualization[i*8:(i+1)*8]\n",
    "dd=pairwise_distances(testing_class,training_X_for_visualization,metric='euclidean')\n",
    "#same_class_distance_matrix.append(dd)\n",
    "#len(same_class_distance_matrix)\n",
    "#min_dist_matrix=[]\n",
    "#for i in range(len(same_class_distance_matrix)):\n",
    "#    min_dist_matrix.append(get_min_matrix(same_class_distance_matrix[i]))\n",
    "#min_dist_matrix"
   ]
  },
  {
   "cell_type": "code",
   "execution_count": 115,
   "metadata": {},
   "outputs": [
    {
     "data": {
      "text/plain": [
       "(24, 56)"
      ]
     },
     "execution_count": 115,
     "metadata": {},
     "output_type": "execute_result"
    }
   ],
   "source": [
    "dd.shape"
   ]
  },
  {
   "cell_type": "code",
   "execution_count": 116,
   "metadata": {},
   "outputs": [
    {
     "ename": "NameError",
     "evalue": "name 'min_dist_matrix_two' is not defined",
     "output_type": "error",
     "traceback": [
      "\u001b[0;31m---------------------------------------------------------------------------\u001b[0m",
      "\u001b[0;31mNameError\u001b[0m                                 Traceback (most recent call last)",
      "\u001b[0;32m<ipython-input-116-c2792c872de6>\u001b[0m in \u001b[0;36m<module>\u001b[0;34m\u001b[0m\n\u001b[0;32m----> 1\u001b[0;31m \u001b[0mmin_dist_matrix_two\u001b[0m\u001b[0;34m\u001b[0m\u001b[0;34m\u001b[0m\u001b[0m\n\u001b[0m",
      "\u001b[0;31mNameError\u001b[0m: name 'min_dist_matrix_two' is not defined"
     ]
    }
   ],
   "source": [
    "min_dist_matrix_two"
   ]
  },
  {
   "cell_type": "code",
   "execution_count": null,
   "metadata": {},
   "outputs": [
    {
     "data": {
      "text/plain": [
       "[[2.59261643732272,\n",
       "  10.419844649517238,\n",
       "  6.715065450607996,\n",
       "  14.521119806356321,\n",
       "  8.011144517140472],\n",
       " [3.0992405761518738,\n",
       "  11.7530377062242,\n",
       "  9.40267724515056,\n",
       "  16.126382132209404,\n",
       "  9.831699129234426],\n",
       " [4.270481023525078,\n",
       "  9.692895443993834,\n",
       "  8.37756554347888,\n",
       "  13.386156353894926,\n",
       "  8.50071412522849],\n",
       " [3.949382543171317,\n",
       "  9.133496569120464,\n",
       "  7.197526804871457,\n",
       "  12.714163370508988,\n",
       "  7.519440489699458],\n",
       " [4.321725137862787,\n",
       "  10.605653621152213,\n",
       "  9.917510387063063,\n",
       "  14.085263035989803,\n",
       "  9.324462752129035],\n",
       " [4.300197833333705,\n",
       "  11.152488962444352,\n",
       "  10.468887257835632,\n",
       "  14.94476269035548,\n",
       "  8.878706468515059],\n",
       " [1.851377852196941,\n",
       "  11.412695686226373,\n",
       "  7.992363202501018,\n",
       "  15.318986797329305,\n",
       "  9.225959052043583],\n",
       " [3.155110986158086,\n",
       "  12.114674701159013,\n",
       "  10.126793192817608,\n",
       "  16.535621791103036,\n",
       "  9.70623295933463],\n",
       " [7.009536411969162,\n",
       "  8.806116869531753,\n",
       "  10.207033811218441,\n",
       "  14.625119241494001,\n",
       "  7.956921424395951],\n",
       " [4.07673790562518,\n",
       "  10.934048331696248,\n",
       "  10.03701714561105,\n",
       "  15.417863677432804,\n",
       "  9.033106229366473],\n",
       " [3.930599586770135,\n",
       "  8.858913673241407,\n",
       "  6.481064584142582,\n",
       "  11.645194537298709,\n",
       "  8.039885394425017],\n",
       " [3.4180940148380268,\n",
       "  10.345409704830667,\n",
       "  5.676337053131176,\n",
       "  14.87078150584056,\n",
       "  8.389888457527173],\n",
       " [4.933075554407631,\n",
       "  9.539747068920231,\n",
       "  8.913868078343318,\n",
       "  13.922834239426951,\n",
       "  8.497872277015068],\n",
       " [4.3329460224179766,\n",
       "  10.052313476811754,\n",
       "  8.554582716829296,\n",
       "  14.635812639606968,\n",
       "  8.869362356612385],\n",
       " [4.375671362914178,\n",
       "  10.612455854260666,\n",
       "  9.283908339097938,\n",
       "  13.621716145324216,\n",
       "  10.294811944586524],\n",
       " [2.59196345681892,\n",
       "  10.616051982399311,\n",
       "  7.438897172895352,\n",
       "  13.707256420283171,\n",
       "  8.785594911547896],\n",
       " [4.681502072753629,\n",
       "  12.13670914369827,\n",
       "  9.834470587397632,\n",
       "  17.716915083209646,\n",
       "  10.373010483517133],\n",
       " [3.630563343642171,\n",
       "  10.378954956610086,\n",
       "  8.679202923757945,\n",
       "  13.656978623759878,\n",
       "  8.927320360429686],\n",
       " [6.297607776615909,\n",
       "  10.274900640119832,\n",
       "  11.355479040109739,\n",
       "  12.36531741330529,\n",
       "  9.522599618003232],\n",
       " [4.830056544213559,\n",
       "  10.642492318619789,\n",
       "  9.995565700771024,\n",
       "  14.164871143880362,\n",
       "  9.717049801848528],\n",
       " [7.532953769719932,\n",
       "  9.13714092141352,\n",
       "  11.553200806560854,\n",
       "  10.377288511411805,\n",
       "  9.900237428671987],\n",
       " [5.2954973427173035,\n",
       "  9.25400051820847,\n",
       "  9.74330838864652,\n",
       "  12.581147441634641,\n",
       "  8.076450195201812],\n",
       " [8.381700155029215,\n",
       "  9.096530448485233,\n",
       "  10.200207369585153,\n",
       "  7.201506118991719,\n",
       "  10.563437464538723],\n",
       " [7.722221712440779,\n",
       "  8.116475576946623,\n",
       "  11.073256676872543,\n",
       "  10.987493408119702,\n",
       "  8.231465328859505]]"
      ]
     },
     "execution_count": 296,
     "metadata": {},
     "output_type": "execute_result"
    }
   ],
   "source": [
    "min_dist_matrix_testing=[]\n",
    "for i in range(24):\n",
    "    each_min_set=[]\n",
    "\n",
    "    for j in range(5):\n",
    "        \n",
    "        each_min_set.append(min(dd[i][j*8:(j+1)*8]))\n",
    "    min_dist_matrix_testing.append(each_min_set)\n",
    "min_dist_matrix_testing"
   ]
  },
  {
   "cell_type": "code",
   "execution_count": null,
   "metadata": {},
   "outputs": [],
   "source": [
    "testing_xq=[]\n",
    "for i in range(len(min_dist_matrix_testing)-2):\n",
    "    testing_xq.append(min_dist_matrix_testing[i][0])\n",
    "testing_xq.append(min_dist_matrix_testing[22][0])\n",
    "testing_xq.append(min_dist_matrix_testing[23][0])\n",
    "\n"
   ]
  },
  {
   "cell_type": "code",
   "execution_count": null,
   "metadata": {},
   "outputs": [
    {
     "data": {
      "text/plain": [
       "['DNA',\n",
       " 'DNA',\n",
       " 'DNA',\n",
       " 'DNA',\n",
       " 'DNA',\n",
       " 'DNA',\n",
       " 'HDAC',\n",
       " 'HDAC',\n",
       " 'MT',\n",
       " 'HDAC',\n",
       " 'DNA',\n",
       " 'DNA',\n",
       " 'HDAC',\n",
       " 'HDAC',\n",
       " 'DNA',\n",
       " 'MT',\n",
       " 'DNA',\n",
       " 'HDAC',\n",
       " 'HDAC',\n",
       " 'DNA',\n",
       " 'HDAC',\n",
       " 'PROT',\n",
       " 'DNA',\n",
       " 'HDAC',\n",
       " 'DNA',\n",
       " 'DNA',\n",
       " 'DNA',\n",
       " 'DNA',\n",
       " 'DNA',\n",
       " 'DNA',\n",
       " 'DNA',\n",
       " 'DNA',\n",
       " 'DNA',\n",
       " 'DNA',\n",
       " 'DNA',\n",
       " 'DNA',\n",
       " 'DNA',\n",
       " 'DNA',\n",
       " 'DNA',\n",
       " 'DNA',\n",
       " 'DNA',\n",
       " 'DNA',\n",
       " 'DNA',\n",
       " 'DNA',\n",
       " 'MT',\n",
       " 'DNA',\n",
       " 'MT',\n",
       " 'DNA',\n",
       " 'MT',\n",
       " 'MT',\n",
       " 'MT',\n",
       " 'MT',\n",
       " 'MT',\n",
       " 'HDAC',\n",
       " 'HDAC',\n",
       " 'HDAC',\n",
       " 'HDAC',\n",
       " 'HDAC',\n",
       " 'HDAC',\n",
       " 'MT',\n",
       " 'HDAC',\n",
       " 'HDAC',\n",
       " 'HDAC',\n",
       " 'MT',\n",
       " 'HDAC',\n",
       " 'HDAC',\n",
       " 'HDAC',\n",
       " 'HDAC',\n",
       " 'HDAC',\n",
       " 'MT',\n",
       " 'MT',\n",
       " 'MT',\n",
       " 'MT',\n",
       " 'MT',\n",
       " 'MT',\n",
       " 'MT',\n",
       " 'MT',\n",
       " 'MT',\n",
       " 'MT',\n",
       " 'DNA',\n",
       " 'DNA',\n",
       " 'MT',\n",
       " 'MT',\n",
       " 'DNA',\n",
       " 'HDAC',\n",
       " 'PROT',\n",
       " 'HDAC',\n",
       " 'MT',\n",
       " 'HDAC',\n",
       " 'HDAC',\n",
       " 'HDAC',\n",
       " 'DNA',\n",
       " 'HDAC',\n",
       " 'HDAC',\n",
       " 'DNA',\n",
       " 'DNA',\n",
       " 'HSP',\n",
       " 'HSP',\n",
       " 'HSP',\n",
       " 'HSP',\n",
       " 'HSP',\n",
       " 'HSP',\n",
       " 'HSP',\n",
       " 'HSP',\n",
       " 'HSP',\n",
       " 'HSP',\n",
       " 'HSP',\n",
       " 'HSP',\n",
       " 'DNA',\n",
       " 'DNA',\n",
       " 'HSP',\n",
       " 'DNA',\n",
       " 'DNA',\n",
       " 'DNA',\n",
       " 'DNA',\n",
       " 'HSP',\n",
       " 'DNA',\n",
       " 'PROT',\n",
       " 'DNA',\n",
       " 'DNA',\n",
       " 'HSP',\n",
       " 'HSP',\n",
       " 'HSP',\n",
       " 'HSP',\n",
       " 'HSP',\n",
       " 'HSP',\n",
       " 'HSP',\n",
       " 'HSP',\n",
       " 'DNA',\n",
       " 'DNA',\n",
       " 'DNA',\n",
       " 'DNA',\n",
       " 'DNA',\n",
       " 'DNA',\n",
       " 'DNA',\n",
       " 'DNA',\n",
       " 'DNA',\n",
       " 'DNA',\n",
       " 'HDAC',\n",
       " 'HDAC',\n",
       " 'HDAC',\n",
       " 'HDAC',\n",
       " 'HDAC',\n",
       " 'HDAC',\n",
       " 'PROT',\n",
       " 'PROT',\n",
       " 'PROT',\n",
       " 'PROT',\n",
       " 'PROT',\n",
       " 'PROT',\n",
       " 'PROT',\n",
       " 'PROT',\n",
       " 'DNA',\n",
       " 'DNA',\n",
       " 'DNA',\n",
       " 'DNA',\n",
       " 'MT',\n",
       " 'DNA',\n",
       " 'DNA',\n",
       " 'HDAC',\n",
       " 'HDAC',\n",
       " 'DNA',\n",
       " 'DNA',\n",
       " 'PROT',\n",
       " 'DNA',\n",
       " 'DNA',\n",
       " 'HDAC',\n",
       " 'HDAC',\n",
       " 'PROT',\n",
       " 'PROT',\n",
       " 'PROT',\n",
       " 'PROT',\n",
       " 'PROT',\n",
       " 'PROT',\n",
       " 'PROT',\n",
       " 'PROT',\n",
       " 'PROT',\n",
       " 'PROT',\n",
       " 'PROT',\n",
       " 'PROT',\n",
       " 'DNA',\n",
       " 'DNA',\n",
       " 'DNA',\n",
       " 'PROT',\n",
       " 'DNA',\n",
       " 'DNA',\n",
       " 'DNA',\n",
       " 'DNA',\n",
       " 'DNA',\n",
       " 'DNA',\n",
       " 'DNA',\n",
       " 'DNA',\n",
       " 'HDAC',\n",
       " 'HDAC',\n",
       " 'HDAC',\n",
       " 'HDAC',\n",
       " 'HDAC',\n",
       " 'HDAC',\n",
       " 'HDAC',\n",
       " 'HSP',\n",
       " 'DNA',\n",
       " 'DNA',\n",
       " 'DNA',\n",
       " 'DNA',\n",
       " 'DNA',\n",
       " 'DNA',\n",
       " 'DNA',\n",
       " 'DNA',\n",
       " 'DNA',\n",
       " 'DNA',\n",
       " 'DNA',\n",
       " 'HDAC',\n",
       " 'DNA',\n",
       " 'DNA',\n",
       " 'DNA',\n",
       " 'HDAC',\n",
       " 'HDAC',\n",
       " 'HDAC',\n",
       " 'HDAC',\n",
       " 'HDAC',\n",
       " 'DNA',\n",
       " 'DNA',\n",
       " 'DNA',\n",
       " 'DNA',\n",
       " 'DNA',\n",
       " 'DNA',\n",
       " 'DNA',\n",
       " 'DNA',\n",
       " 'PROT',\n",
       " 'DNA',\n",
       " 'DNA',\n",
       " 'DNA',\n",
       " 'HDAC',\n",
       " 'HDAC',\n",
       " 'HDAC',\n",
       " 'DNA',\n",
       " 'HDAC',\n",
       " 'MT',\n",
       " 'HDAC',\n",
       " 'MT',\n",
       " 'DNA',\n",
       " 'HDAC',\n",
       " 'DNA',\n",
       " 'HDAC',\n",
       " 'DNA',\n",
       " 'DNA',\n",
       " 'DNA',\n",
       " 'HDAC',\n",
       " 'MT',\n",
       " 'DNA',\n",
       " 'MT',\n",
       " 'DNA',\n",
       " 'DNA',\n",
       " 'DNA',\n",
       " 'DNA',\n",
       " 'HDAC',\n",
       " 'HDAC',\n",
       " 'MT',\n",
       " 'DNA',\n",
       " 'MT',\n",
       " 'HDAC',\n",
       " 'DNA',\n",
       " 'MT',\n",
       " 'MT',\n",
       " 'DNA',\n",
       " 'DNA',\n",
       " 'HDAC',\n",
       " 'DNA',\n",
       " 'HDAC',\n",
       " 'HDAC',\n",
       " 'HDAC',\n",
       " 'HDAC',\n",
       " 'DNA',\n",
       " 'DNA',\n",
       " 'DNA',\n",
       " 'HDAC',\n",
       " 'DNA',\n",
       " 'DNA',\n",
       " 'DNA',\n",
       " 'HDAC',\n",
       " 'DNA',\n",
       " 'PROT',\n",
       " 'DNA',\n",
       " 'DNA',\n",
       " 'HDAC',\n",
       " 'HDAC',\n",
       " 'MT',\n",
       " 'PROT',\n",
       " 'HDAC',\n",
       " 'HDAC',\n",
       " 'HDAC',\n",
       " 'HDAC',\n",
       " 'DNA',\n",
       " 'HDAC',\n",
       " 'HDAC',\n",
       " 'MT',\n",
       " 'HDAC',\n",
       " 'PROT',\n",
       " 'MT',\n",
       " 'HDAC',\n",
       " 'HDAC',\n",
       " 'HDAC',\n",
       " 'HDAC',\n",
       " 'HDAC',\n",
       " 'DNA',\n",
       " 'DNA',\n",
       " 'MT',\n",
       " 'HDAC',\n",
       " 'DNA',\n",
       " 'DNA',\n",
       " 'HDAC',\n",
       " 'HDAC',\n",
       " 'MT',\n",
       " 'DNA',\n",
       " 'HDAC',\n",
       " 'HDAC',\n",
       " 'MT',\n",
       " 'HDAC',\n",
       " 'HDAC',\n",
       " 'HDAC',\n",
       " 'DNA',\n",
       " 'DNA',\n",
       " 'MT',\n",
       " 'HDAC',\n",
       " 'HDAC',\n",
       " 'DNA',\n",
       " 'HDAC',\n",
       " 'HDAC',\n",
       " 'HDAC',\n",
       " 'MT',\n",
       " 'HDAC',\n",
       " 'DNA',\n",
       " 'HDAC',\n",
       " 'MT',\n",
       " 'HDAC',\n",
       " 'HDAC',\n",
       " 'DNA',\n",
       " 'DNA',\n",
       " 'DNA',\n",
       " 'DNA',\n",
       " 'DNA',\n",
       " 'DNA',\n",
       " 'DNA',\n",
       " 'DNA',\n",
       " 'DNA',\n",
       " 'DNA',\n",
       " 'DNA',\n",
       " 'DNA',\n",
       " 'DNA',\n",
       " 'DNA',\n",
       " 'DNA',\n",
       " 'DNA',\n",
       " 'DNA',\n",
       " 'DNA',\n",
       " 'DNA',\n",
       " 'DNA',\n",
       " 'DNA',\n",
       " 'DNA',\n",
       " 'PROT',\n",
       " 'DNA',\n",
       " 'MT',\n",
       " 'MT',\n",
       " 'MT',\n",
       " 'MT',\n",
       " 'HDAC',\n",
       " 'HDAC',\n",
       " 'HDAC',\n",
       " 'HDAC',\n",
       " 'HDAC',\n",
       " 'HDAC',\n",
       " 'HDAC',\n",
       " 'HDAC',\n",
       " 'HDAC',\n",
       " 'HDAC',\n",
       " 'HDAC',\n",
       " 'HDAC',\n",
       " 'HDAC',\n",
       " 'HDAC',\n",
       " 'HDAC',\n",
       " 'HDAC',\n",
       " 'HDAC',\n",
       " 'HDAC',\n",
       " 'HDAC',\n",
       " 'HDAC',\n",
       " 'DNA',\n",
       " 'DNA',\n",
       " 'DNA',\n",
       " 'DNA',\n",
       " 'MT',\n",
       " 'MT',\n",
       " 'MT',\n",
       " 'DNA',\n",
       " 'DNA',\n",
       " 'DNA',\n",
       " 'DNA',\n",
       " 'DNA',\n",
       " 'DNA',\n",
       " 'DNA',\n",
       " 'DNA',\n",
       " 'PROT',\n",
       " 'MT',\n",
       " 'DNA',\n",
       " 'HDAC',\n",
       " 'HDAC',\n",
       " 'MT',\n",
       " 'DNA',\n",
       " 'MT',\n",
       " 'DNA',\n",
       " 'HSP',\n",
       " 'HSP',\n",
       " 'HSP',\n",
       " 'HSP',\n",
       " 'HSP',\n",
       " 'HSP',\n",
       " 'HSP',\n",
       " 'HSP',\n",
       " 'HSP',\n",
       " 'HSP',\n",
       " 'HSP',\n",
       " 'HSP',\n",
       " 'DNA',\n",
       " 'DNA',\n",
       " 'DNA',\n",
       " 'DNA',\n",
       " 'DNA',\n",
       " 'DNA',\n",
       " 'DNA',\n",
       " 'DNA',\n",
       " 'DNA',\n",
       " 'DNA',\n",
       " 'DNA',\n",
       " 'DNA',\n",
       " 'HSP',\n",
       " 'HSP',\n",
       " 'HSP',\n",
       " 'HSP',\n",
       " 'HSP',\n",
       " 'HSP',\n",
       " 'HSP',\n",
       " 'HSP',\n",
       " 'DNA',\n",
       " 'DNA',\n",
       " 'DNA',\n",
       " 'HSP',\n",
       " 'HDAC',\n",
       " 'DNA',\n",
       " 'DNA',\n",
       " 'HDAC',\n",
       " 'DNA',\n",
       " 'DNA',\n",
       " 'MT',\n",
       " 'HDAC',\n",
       " 'DNA',\n",
       " 'PROT',\n",
       " 'DNA',\n",
       " 'MT',\n",
       " 'PROT',\n",
       " 'PROT',\n",
       " 'PROT',\n",
       " 'PROT',\n",
       " 'HSP',\n",
       " 'HDAC',\n",
       " 'PROT',\n",
       " 'PROT',\n",
       " 'DNA',\n",
       " 'DNA',\n",
       " 'DNA',\n",
       " 'HSP',\n",
       " 'DNA',\n",
       " 'DNA',\n",
       " 'HSP',\n",
       " 'HSP',\n",
       " 'MT',\n",
       " 'DNA',\n",
       " 'HDAC',\n",
       " 'HDAC',\n",
       " 'DNA',\n",
       " 'DNA',\n",
       " 'DNA',\n",
       " 'HDAC',\n",
       " 'PROT',\n",
       " 'PROT',\n",
       " 'PROT',\n",
       " 'PROT',\n",
       " 'PROT',\n",
       " 'PROT',\n",
       " 'PROT',\n",
       " 'PROT',\n",
       " 'PROT',\n",
       " 'PROT',\n",
       " 'PROT',\n",
       " 'PROT',\n",
       " 'PROT',\n",
       " 'MT',\n",
       " 'DNA',\n",
       " 'DNA',\n",
       " 'DNA',\n",
       " 'DNA',\n",
       " 'DNA',\n",
       " 'DNA',\n",
       " 'DNA',\n",
       " 'PROT',\n",
       " 'DNA',\n",
       " 'DNA',\n",
       " 'HDAC',\n",
       " 'HDAC',\n",
       " 'HDAC',\n",
       " 'HDAC',\n",
       " 'HDAC',\n",
       " 'HDAC',\n",
       " 'HDAC',\n",
       " 'HDAC',\n",
       " 'DNA',\n",
       " 'DNA',\n",
       " 'DNA',\n",
       " 'DNA',\n",
       " 'DNA',\n",
       " 'DNA',\n",
       " 'DNA',\n",
       " 'DNA',\n",
       " 'HDAC',\n",
       " 'DNA',\n",
       " 'DNA',\n",
       " 'HDAC',\n",
       " 'HDAC',\n",
       " 'DNA',\n",
       " 'PROT',\n",
       " 'DNA',\n",
       " 'HDAC',\n",
       " 'HDAC',\n",
       " 'HDAC',\n",
       " 'HDAC',\n",
       " 'DNA',\n",
       " 'HSP',\n",
       " 'DNA',\n",
       " 'DNA',\n",
       " 'MT',\n",
       " 'DNA',\n",
       " 'HSP',\n",
       " 'DNA',\n",
       " 'DNA',\n",
       " 'MT',\n",
       " 'PROT',\n",
       " 'MT',\n",
       " 'HDAC',\n",
       " 'DNA',\n",
       " 'MT',\n",
       " 'DNA',\n",
       " 'DNA',\n",
       " 'DNA',\n",
       " 'DNA',\n",
       " 'DNA',\n",
       " 'MT',\n",
       " 'MT',\n",
       " 'MT',\n",
       " 'MT',\n",
       " 'HSP',\n",
       " 'HSP',\n",
       " 'HSP',\n",
       " 'HSP',\n",
       " 'HDAC',\n",
       " 'MT',\n",
       " 'HDAC',\n",
       " 'HSP',\n",
       " 'HDAC',\n",
       " 'HDAC',\n",
       " 'HDAC',\n",
       " 'HDAC',\n",
       " 'MT',\n",
       " 'MT',\n",
       " 'MT',\n",
       " 'MT',\n",
       " 'MT',\n",
       " 'MT',\n",
       " 'MT',\n",
       " 'HDAC',\n",
       " 'HSP',\n",
       " 'HSP',\n",
       " 'HSP',\n",
       " 'DNA',\n",
       " 'DNA',\n",
       " 'DNA',\n",
       " 'HSP',\n",
       " 'HSP',\n",
       " 'DNA',\n",
       " 'DNA',\n",
       " 'DNA',\n",
       " 'DNA',\n",
       " 'DNA',\n",
       " 'DNA',\n",
       " 'DNA',\n",
       " 'DNA',\n",
       " 'DNA',\n",
       " 'DNA',\n",
       " 'DNA',\n",
       " 'DNA',\n",
       " 'PROT',\n",
       " 'DNA',\n",
       " 'DNA',\n",
       " 'PROT',\n",
       " 'HSP',\n",
       " 'HSP',\n",
       " 'HSP',\n",
       " 'HSP',\n",
       " 'HSP',\n",
       " 'HSP',\n",
       " 'HSP',\n",
       " 'HSP',\n",
       " 'HSP',\n",
       " 'HSP',\n",
       " 'HSP',\n",
       " 'HSP',\n",
       " 'HSP',\n",
       " 'HSP',\n",
       " 'HSP',\n",
       " 'HSP',\n",
       " 'DNA',\n",
       " 'DNA',\n",
       " 'HSP',\n",
       " 'DNA',\n",
       " 'DNA',\n",
       " 'DNA',\n",
       " 'DNA',\n",
       " 'DNA',\n",
       " 'HSP',\n",
       " 'HSP',\n",
       " 'HSP',\n",
       " 'HSP',\n",
       " 'HSP',\n",
       " 'HSP',\n",
       " 'HSP',\n",
       " 'HSP',\n",
       " 'DNA',\n",
       " 'DNA',\n",
       " 'DNA',\n",
       " 'DNA',\n",
       " 'DNA',\n",
       " 'DNA',\n",
       " 'DNA',\n",
       " 'DNA',\n",
       " 'DNA',\n",
       " 'DNA',\n",
       " 'DNA',\n",
       " 'DNA',\n",
       " 'DNA',\n",
       " 'DNA',\n",
       " 'DNA',\n",
       " 'DNA',\n",
       " 'PROT',\n",
       " 'PROT',\n",
       " 'PROT',\n",
       " 'PROT',\n",
       " 'PROT',\n",
       " 'PROT',\n",
       " 'PROT',\n",
       " 'PROT',\n",
       " 'DNA',\n",
       " 'DNA',\n",
       " 'DNA',\n",
       " 'DNA',\n",
       " 'DNA',\n",
       " 'DNA',\n",
       " 'DNA',\n",
       " 'DNA',\n",
       " 'DNA',\n",
       " 'DNA',\n",
       " 'DNA',\n",
       " 'DNA',\n",
       " 'DNA',\n",
       " 'PROT',\n",
       " 'PROT',\n",
       " 'PROT',\n",
       " 'PROT',\n",
       " 'PROT',\n",
       " 'PROT',\n",
       " 'PROT',\n",
       " 'PROT',\n",
       " 'PROT',\n",
       " 'PROT',\n",
       " 'PROT',\n",
       " 'PROT',\n",
       " 'PROT',\n",
       " 'PROT',\n",
       " 'PROT',\n",
       " 'MT',\n",
       " 'HDAC',\n",
       " 'MT',\n",
       " 'MT',\n",
       " 'DNA',\n",
       " 'DNA',\n",
       " 'DNA',\n",
       " 'DNA',\n",
       " 'DNA',\n",
       " 'DNA',\n",
       " 'DNA',\n",
       " 'DNA',\n",
       " 'PROT',\n",
       " 'PROT',\n",
       " 'PROT',\n",
       " 'PROT',\n",
       " 'HDAC',\n",
       " 'HDAC',\n",
       " 'HDAC',\n",
       " 'HDAC',\n",
       " 'DNA',\n",
       " 'DNA',\n",
       " 'DNA',\n",
       " 'DNA',\n",
       " 'DNA',\n",
       " 'DNA',\n",
       " 'DNA',\n",
       " 'DNA',\n",
       " 'DNA',\n",
       " 'DNA',\n",
       " 'DNA',\n",
       " 'DNA',\n",
       " 'PROT',\n",
       " 'DNA',\n",
       " 'DNA',\n",
       " 'DNA',\n",
       " 'HDAC',\n",
       " 'HDAC',\n",
       " 'HDAC',\n",
       " 'HDAC',\n",
       " 'HSP',\n",
       " 'HSP',\n",
       " 'HSP',\n",
       " 'HSP',\n",
       " 'DNA',\n",
       " 'DNA',\n",
       " 'DNA',\n",
       " 'DNA',\n",
       " 'DNA',\n",
       " 'DNA',\n",
       " 'DNA',\n",
       " 'DNA',\n",
       " 'DNA',\n",
       " 'DNA',\n",
       " 'HDAC',\n",
       " 'DNA',\n",
       " 'PROT',\n",
       " 'DNA',\n",
       " 'PROT',\n",
       " 'DNA',\n",
       " 'MT',\n",
       " 'MT',\n",
       " 'MT',\n",
       " 'MT',\n",
       " 'HDAC',\n",
       " 'HDAC',\n",
       " 'HDAC',\n",
       " 'HDAC',\n",
       " 'HDAC',\n",
       " 'HDAC',\n",
       " 'HDAC',\n",
       " 'HDAC',\n",
       " 'HDAC',\n",
       " 'HDAC',\n",
       " 'HDAC',\n",
       " 'HDAC',\n",
       " 'HDAC',\n",
       " 'DNA',\n",
       " 'HDAC',\n",
       " 'HDAC',\n",
       " 'HDAC',\n",
       " 'HDAC',\n",
       " 'HDAC',\n",
       " 'HDAC',\n",
       " 'HSP',\n",
       " 'HSP',\n",
       " 'HSP',\n",
       " 'MT',\n",
       " 'HSP',\n",
       " 'HSP',\n",
       " 'HSP',\n",
       " 'HSP',\n",
       " 'HSP',\n",
       " 'HSP',\n",
       " 'HSP',\n",
       " 'HSP',\n",
       " 'HSP',\n",
       " 'HSP',\n",
       " 'HSP',\n",
       " 'HSP',\n",
       " 'MT',\n",
       " 'MT',\n",
       " 'MT',\n",
       " 'HSP',\n",
       " 'MT',\n",
       " 'HDAC',\n",
       " 'MT',\n",
       " 'HDAC',\n",
       " 'MT',\n",
       " 'MT',\n",
       " 'MT',\n",
       " 'MT',\n",
       " 'HSP',\n",
       " 'HSP',\n",
       " 'HSP',\n",
       " 'HSP',\n",
       " 'MT',\n",
       " 'HSP',\n",
       " 'HSP',\n",
       " 'HSP',\n",
       " 'MT',\n",
       " 'HDAC',\n",
       " 'HDAC',\n",
       " 'HDAC',\n",
       " 'HDAC',\n",
       " 'HDAC',\n",
       " 'HDAC',\n",
       " 'HDAC',\n",
       " 'HDAC',\n",
       " 'HDAC',\n",
       " 'HDAC',\n",
       " 'HDAC',\n",
       " 'MT',\n",
       " 'MT',\n",
       " 'PROT',\n",
       " 'MT',\n",
       " 'PROT',\n",
       " 'PROT',\n",
       " 'MT',\n",
       " 'PROT',\n",
       " 'HDAC',\n",
       " 'HSP',\n",
       " 'HDAC',\n",
       " 'MT',\n",
       " 'HDAC',\n",
       " 'HDAC',\n",
       " 'HDAC',\n",
       " 'HDAC',\n",
       " 'HDAC',\n",
       " 'HDAC',\n",
       " 'HDAC',\n",
       " 'MT',\n",
       " 'HDAC',\n",
       " 'HDAC',\n",
       " 'HDAC',\n",
       " 'HDAC',\n",
       " 'PROT',\n",
       " 'PROT',\n",
       " 'PROT',\n",
       " 'PROT',\n",
       " 'PROT',\n",
       " 'PROT',\n",
       " 'PROT',\n",
       " 'PROT',\n",
       " 'PROT',\n",
       " 'PROT',\n",
       " 'PROT',\n",
       " 'PROT',\n",
       " 'MT',\n",
       " 'MT',\n",
       " 'MT',\n",
       " 'MT',\n",
       " 'MT',\n",
       " 'HDAC',\n",
       " 'HDAC',\n",
       " 'HDAC',\n",
       " 'HDAC',\n",
       " 'HDAC',\n",
       " 'HDAC',\n",
       " 'HDAC',\n",
       " 'HDAC',\n",
       " 'HDAC',\n",
       " 'HDAC',\n",
       " 'HDAC',\n",
       " 'HDAC',\n",
       " 'HDAC',\n",
       " 'HDAC',\n",
       " 'HDAC',\n",
       " 'DNA',\n",
       " 'DNA',\n",
       " 'DNA',\n",
       " 'DNA',\n",
       " 'HDAC',\n",
       " 'HDAC',\n",
       " 'HDAC',\n",
       " 'HDAC',\n",
       " 'HDAC',\n",
       " 'HDAC',\n",
       " 'HDAC',\n",
       " 'HDAC',\n",
       " 'HDAC',\n",
       " 'MT',\n",
       " 'HDAC',\n",
       " 'HDAC',\n",
       " 'HDAC',\n",
       " 'MT',\n",
       " 'HDAC',\n",
       " 'MT',\n",
       " 'HDAC',\n",
       " 'HDAC',\n",
       " 'HDAC',\n",
       " 'DNA',\n",
       " 'DNA',\n",
       " 'DNA',\n",
       " 'DNA',\n",
       " 'DNA',\n",
       " 'HDAC',\n",
       " 'HDAC',\n",
       " 'HDAC',\n",
       " 'HDAC',\n",
       " 'HDAC',\n",
       " 'MT',\n",
       " 'HDAC',\n",
       " 'HDAC',\n",
       " 'HDAC',\n",
       " 'HDAC',\n",
       " 'HDAC',\n",
       " 'HDAC',\n",
       " 'HSP',\n",
       " 'HSP',\n",
       " 'HSP',\n",
       " 'HSP',\n",
       " 'HSP',\n",
       " 'HSP',\n",
       " 'HSP',\n",
       " 'HSP',\n",
       " 'HSP',\n",
       " 'HSP',\n",
       " 'HSP',\n",
       " 'HSP',\n",
       " 'HSP',\n",
       " 'DNA',\n",
       " 'HSP',\n",
       " 'DNA',\n",
       " 'DNA',\n",
       " 'DNA',\n",
       " 'DNA',\n",
       " 'DNA',\n",
       " 'DNA',\n",
       " 'DNA',\n",
       " 'DNA',\n",
       " 'DNA',\n",
       " 'HSP',\n",
       " 'HSP',\n",
       " 'HSP',\n",
       " 'HSP',\n",
       " 'HSP',\n",
       " 'HSP',\n",
       " 'HSP',\n",
       " 'HSP',\n",
       " 'DNA',\n",
       " 'DNA',\n",
       " 'DNA',\n",
       " 'DNA',\n",
       " 'DNA',\n",
       " 'PROT',\n",
       " 'DNA',\n",
       " 'PROT',\n",
       " 'DNA',\n",
       " 'MT',\n",
       " 'MT',\n",
       " 'DNA',\n",
       " 'MT',\n",
       " 'DNA',\n",
       " 'MT',\n",
       " 'PROT',\n",
       " 'PROT',\n",
       " 'PROT',\n",
       " 'PROT',\n",
       " 'PROT',\n",
       " 'PROT',\n",
       " 'PROT',\n",
       " 'MT',\n",
       " 'PROT',\n",
       " 'DNA',\n",
       " 'DNA',\n",
       " 'DNA',\n",
       " 'DNA',\n",
       " 'PROT',\n",
       " 'DNA',\n",
       " 'MT',\n",
       " 'DNA',\n",
       " 'HDAC',\n",
       " 'DNA',\n",
       " 'HDAC',\n",
       " 'PROT',\n",
       " 'DNA',\n",
       " 'DNA',\n",
       " 'DNA',\n",
       " 'HDAC',\n",
       " 'PROT',\n",
       " 'PROT',\n",
       " 'PROT',\n",
       " 'PROT',\n",
       " 'PROT',\n",
       " 'PROT',\n",
       " 'PROT',\n",
       " 'PROT',\n",
       " 'PROT',\n",
       " 'PROT',\n",
       " 'PROT',\n",
       " 'PROT',\n",
       " 'DNA',\n",
       " 'MT',\n",
       " 'HDAC',\n",
       " 'MT',\n",
       " ...]"
      ]
     },
     "execution_count": 298,
     "metadata": {},
     "output_type": "execute_result"
    }
   ],
   "source": [
    "import numpy as np\n",
    "y_pred=model.predict(visualization_data)\n",
    "y_pred=np.ndarray.tolist(y_pred)\n",
    "y_pred"
   ]
  },
  {
   "cell_type": "code",
   "execution_count": null,
   "metadata": {},
   "outputs": [
    {
     "data": {
      "text/plain": [
       "['DNA',\n",
       " 'DNA',\n",
       " 'DNA',\n",
       " 'DNA',\n",
       " 'DNA',\n",
       " 'DNA',\n",
       " 'DNA',\n",
       " 'DNA',\n",
       " 'DNA',\n",
       " 'DNA',\n",
       " 'DNA',\n",
       " 'DNA',\n",
       " 'DNA',\n",
       " 'DNA',\n",
       " 'DNA',\n",
       " 'DNA',\n",
       " 'DNA',\n",
       " 'DNA',\n",
       " 'DNA',\n",
       " 'DNA',\n",
       " 'DNA',\n",
       " 'DNA',\n",
       " 'PROT',\n",
       " 'DNA']"
      ]
     },
     "execution_count": 299,
     "metadata": {},
     "output_type": "execute_result"
    }
   ],
   "source": [
    "y_pred[336:360]"
   ]
  },
  {
   "cell_type": "code",
   "execution_count": null,
   "metadata": {},
   "outputs": [],
   "source": [
    "from math import sqrt\n",
    "def eucli(lst1,lst2):\n",
    "    dist=0\n",
    "    for i in range(len(lst1)):\n",
    "        dist+=(lst1[i]-lst2[i])**2\n",
    "    return sqrt(dist)\n",
    "\n",
    "\n"
   ]
  },
  {
   "cell_type": "code",
   "execution_count": null,
   "metadata": {},
   "outputs": [
    {
     "data": {
      "text/plain": [
       "4"
      ]
     },
     "execution_count": 301,
     "metadata": {},
     "output_type": "execute_result"
    }
   ],
   "source": [
    "len(training_X_for_visualization[0])"
   ]
  },
  {
   "cell_type": "code",
   "execution_count": null,
   "metadata": {},
   "outputs": [
    {
     "data": {
      "text/plain": [
       "[0.40059250788389233,\n",
       " 0.9941083353705005,\n",
       " 1.0233802010566877,\n",
       " 0.4414388634598124,\n",
       " 0.6969877815537736]"
      ]
     },
     "execution_count": 343,
     "metadata": {},
     "output_type": "execute_result"
    }
   ],
   "source": [
    "def get_min_matrix(matrix):\n",
    "    min_num=999\n",
    "    for i in range(len(matrix)):\n",
    "        for j in range(len(matrix[i])):\n",
    "            if matrix[i][j]<min_num and matrix[i][j]!=0:\n",
    "                min_num=matrix[i][j]\n",
    "    return min_num\n",
    "\n",
    "from sklearn.metrics import pairwise_distances\n",
    "same_class_distance_matrix=[]\n",
    "for i in range(5):\n",
    "    each_class=training_X_for_visualization[i*8:(i+1)*8]\n",
    "    dd=pairwise_distances(each_class,each_class,metric='euclidean')\n",
    "    same_class_distance_matrix.append(dd)\n",
    "len(same_class_distance_matrix)\n",
    "min_dist_matrix=[]\n",
    "for i in range(len(same_class_distance_matrix)):\n",
    "    min_dist_matrix.append(get_min_matrix(same_class_distance_matrix[i]))\n",
    "min_dist_matrix"
   ]
  },
  {
   "cell_type": "code",
   "execution_count": null,
   "metadata": {},
   "outputs": [],
   "source": [
    "t1=training_X_for_visualization[:8]\n",
    "t2=training_X_for_visualization[:8]"
   ]
  },
  {
   "cell_type": "code",
   "execution_count": null,
   "metadata": {},
   "outputs": [],
   "source": []
  },
  {
   "cell_type": "code",
   "execution_count": null,
   "metadata": {},
   "outputs": [
    {
     "name": "stdout",
     "output_type": "stream",
     "text": [
      "8\n",
      "8\n",
      "8\n",
      "8\n",
      "8\n"
     ]
    },
    {
     "data": {
      "text/plain": [
       "40"
      ]
     },
     "execution_count": 344,
     "metadata": {},
     "output_type": "execute_result"
    }
   ],
   "source": [
    "for i in range(5):\n",
    "    each_class=training_X_for_visualization[i*8:(i+1)*8]\n",
    "    print(len(each_class))\n",
    "    for j in range(5):\n",
    "        different_class=training_X_for_visualization[j*8:(j+1)*8]\n",
    "        condition=different_class!=each_class\n",
    "        for i in range(len(condition)):\n",
    "            for j in range(len(condition[i])):\n",
    "                if condition[i][j]==False:\n",
    "                    condition_to_use=False\n",
    "                else:\n",
    "                    condition_to_use=True\n",
    "        if condition_to_use:\n",
    "            dd2=pairwise_distances(each_class,different_class,metric='euclidean')\n",
    "            different_class_distance_matrix.append(dd2)\n",
    "len(different_class_distance_matrix)\n",
    "#每四个都是属于它的 其实\n",
    "    "
   ]
  },
  {
   "cell_type": "code",
   "execution_count": null,
   "metadata": {},
   "outputs": [
    {
     "data": {
      "text/plain": [
       "array([[0.        , 3.62526576, 2.15742718, 3.81914885, 2.72576519,\n",
       "        1.14807993, 3.19422646, 2.61557822],\n",
       "       [3.62526576, 0.        , 2.98549564, 1.54648121, 2.06816652,\n",
       "        2.60238212, 2.49816044, 3.26580188],\n",
       "       [2.15742718, 2.98549564, 0.        , 2.54894288, 1.44134735,\n",
       "        1.90924894, 1.66765693, 0.69698778],\n",
       "       [3.81914885, 1.54648121, 2.54894288, 0.        , 1.63991215,\n",
       "        3.08611061, 2.0067965 , 2.70740098],\n",
       "       [2.72576519, 2.06816652, 1.44134735, 1.63991215, 0.        ,\n",
       "        2.08238749, 0.70904213, 1.42711797],\n",
       "       [1.14807993, 2.60238212, 1.90924894, 3.08611061, 2.08238749,\n",
       "        0.        , 2.5814899 , 2.37841584],\n",
       "       [3.19422646, 2.49816044, 1.66765693, 2.0067965 , 0.70904213,\n",
       "        2.5814899 , 0.        , 1.3513683 ],\n",
       "       [2.61557822, 3.26580188, 0.69698778, 2.70740098, 1.42711797,\n",
       "        2.37841584, 1.3513683 , 0.        ]])"
      ]
     },
     "execution_count": 305,
     "metadata": {},
     "output_type": "execute_result"
    }
   ],
   "source": [
    "dd"
   ]
  },
  {
   "cell_type": "code",
   "execution_count": null,
   "metadata": {},
   "outputs": [
    {
     "data": {
      "text/plain": [
       "[12.66184330271327,\n",
       " 6.978783197250275,\n",
       " 14.789714008197212,\n",
       " 10.276965640940686,\n",
       " 12.66184330271327,\n",
       " 8.957261878981289,\n",
       " 8.609709673197054,\n",
       " 3.85743731758405,\n",
       " 6.978783197250275,\n",
       " 8.957261878981289,\n",
       " 13.100121135232346,\n",
       " 7.966902853991896,\n",
       " 14.789714008197212,\n",
       " 8.609709673197054,\n",
       " 13.100121135232346,\n",
       " 10.056412689688113,\n",
       " 10.276965640940686,\n",
       " 3.85743731758405,\n",
       " 7.966902853991896,\n",
       " 10.056412689688113]"
      ]
     },
     "execution_count": 306,
     "metadata": {},
     "output_type": "execute_result"
    }
   ],
   "source": [
    "min_dist_matrix_two=[]\n",
    "for i in range(len(different_class_distance_matrix)):\n",
    "    min_dist_matrix_two.append(get_min_matrix(different_class_distance_matrix[i]))\n",
    "min_dist_matrix_two\n",
    "    "
   ]
  },
  {
   "cell_type": "code",
   "execution_count": null,
   "metadata": {},
   "outputs": [],
   "source": [
    "def change_data_format(lst):\n",
    "    for i in range(len(lst)):\n",
    "        lst[i]=float(lst[i])"
   ]
  },
  {
   "cell_type": "code",
   "execution_count": null,
   "metadata": {},
   "outputs": [],
   "source": [
    "change_data_format(min_dist_matrix)\n",
    "change_data_format(min_dist_matrix_two)"
   ]
  },
  {
   "cell_type": "code",
   "execution_count": null,
   "metadata": {},
   "outputs": [
    {
     "data": {
      "text/plain": [
       "[0.40059250788389233,\n",
       " 0.9941083353705005,\n",
       " 1.0233802010566877,\n",
       " 0.4414388634598124,\n",
       " 0.6969877815537736]"
      ]
     },
     "execution_count": 345,
     "metadata": {},
     "output_type": "execute_result"
    }
   ],
   "source": [
    "min_dist_matrix"
   ]
  },
  {
   "cell_type": "markdown",
   "metadata": {},
   "source": [
    "# rewriting some functions\n"
   ]
  },
  {
   "cell_type": "code",
   "execution_count": null,
   "metadata": {},
   "outputs": [],
   "source": [
    "import numpy as np\n",
    "import matlab\n",
    "\n",
    "import matlab.engine\n",
    "eng = matlab.engine.start_matlab()\n",
    "\n",
    "\n",
    "\n",
    "def python_fitdist(nd_r1,distribution):\n",
    "    return eng.fitdist(nd_r1,distribution)\n",
    "def python_pdf(pd_r1,xq):\n",
    "    return eng.pdf(pd_r1,xq)\n",
    "def convert_list_to_colvec(testing_xq):\n",
    "    return matlab.double(testing_xq)\n",
    "def transpose(nd_r1):\n",
    "    return eng.transpose(nd_r1)"
   ]
  },
  {
   "cell_type": "markdown",
   "metadata": {},
   "source": [
    "# testing dataset"
   ]
  },
  {
   "cell_type": "code",
   "execution_count": null,
   "metadata": {},
   "outputs": [],
   "source": [
    "nd_r1=convert_list_to_colvec(list(min_dist_matrix))\n",
    "#print(nd_r1)\n",
    "nd_r2=convert_list_to_colvec(list(min_dist_matrix_two))\n",
    "nd_r1=nd_r1[0]\n",
    "#print(nd_r1)\n",
    "nd_r2=nd_r2[0]\n",
    "nd_r1=transpose(nd_r1)\n",
    "#nd_r1=nd_r1[0]\n",
    "#nd_r2=nd_r2[0]\n",
    "#print(nd_r1)\n",
    "nd_r2=transpose(nd_r2)\n",
    "xq=convert_list_to_colvec(testing_xq)\n",
    "pr1=23/24\n"
   ]
  },
  {
   "cell_type": "code",
   "execution_count": null,
   "metadata": {},
   "outputs": [],
   "source": []
  },
  {
   "cell_type": "code",
   "execution_count": null,
   "metadata": {},
   "outputs": [
    {
     "data": {
      "text/plain": [
       "1056"
      ]
     },
     "execution_count": 350,
     "metadata": {},
     "output_type": "execute_result"
    }
   ],
   "source": [
    "1416-360"
   ]
  },
  {
   "cell_type": "code",
   "execution_count": null,
   "metadata": {},
   "outputs": [],
   "source": [
    "pd_r1=python_fitdist(nd_r1,'Exponential')\n",
    "pd_r2=python_fitdist(nd_r2,'Kernel')\n",
    "\n",
    "def predict_a_set(xq):\n",
    "    prD_r1=python_pdf(pd_r1,xq)\n",
    "    prD_r2=python_pdf(pd_r2,xq)\n",
    "    prD_r1=np.asarray(prD_r1)\n",
    "    prD_r2=np.asarray(prD_r2)\n",
    "    y = prD_r1*pr1 / (prD_r1*pr1 + prD_r2*(1-pr1))\n",
    "    return y\n",
    "\n",
    "prD_r1=python_pdf(pd_r1,xq)\n",
    "prD_r2=python_pdf(pd_r2,xq)\n",
    "prD_r1=np.asarray(prD_r1)\n",
    "prD_r2=np.asarray(prD_r2)\n",
    "y = prD_r1*pr1 / (prD_r1*pr1 + prD_r2*(1-pr1))\n",
    "y=np.ndarray.tolist(y)\n",
    "y=y[0]\n"
   ]
  },
  {
   "cell_type": "code",
   "execution_count": null,
   "metadata": {},
   "outputs": [
    {
     "data": {
      "text/plain": [
       "[0.9781812803722361,\n",
       " 0.9464771286757863,\n",
       " 0.7052697359944513,\n",
       " 0.8037380051431846,\n",
       " 0.6871514077694667,\n",
       " 0.6948378625244177,\n",
       " 0.9949244216391238,\n",
       " 0.9412156915146096,\n",
       " 0.01996005875420735,\n",
       " 0.7678926364919036,\n",
       " 0.8086637095686662,\n",
       " 0.9099416842498647,\n",
       " 0.43915357059586974,\n",
       " 0.6831026956100704,\n",
       " 0.6674291876601459,\n",
       " 0.9782076578279306,\n",
       " 0.5455528810068689,\n",
       " 0.8752648604640552,\n",
       " 0.06633945978063606,\n",
       " 0.4827591200125729,\n",
       " 0.008345830303678805,\n",
       " 0.29525054120704763,\n",
       " 0.002188871108893637,\n",
       " 0.006135832490675597]"
      ]
     },
     "execution_count": 342,
     "metadata": {},
     "output_type": "execute_result"
    }
   ],
   "source": [
    "y"
   ]
  },
  {
   "cell_type": "code",
   "execution_count": null,
   "metadata": {},
   "outputs": [],
   "source": [
    "def confidence_score(pred_label,actual_label,part_data,target):\n",
    "    global pr1\n",
    "    pr1_up=0\n",
    "\n",
    "\n",
    "    #part_data,pred_label\n",
    "    #actual_label用来查找\n",
    "    global lst_dist,target_dist,other_dist\n",
    "    lst_dist=[]\n",
    "    target_dist=[]\n",
    "    other_dist=[]\n",
    "    for i in range(len(pred_label)):\n",
    "        each_dist=[]\n",
    "        each_dist2=[]\n",
    "        if pred_label[i]==target:\n",
    "            pr1_up+=1\n",
    "            #先是找实际的target，也是在这些限制好的数列里面\n",
    "            for j in range(len(visualization_label)):\n",
    "                if visualization_label[j]==target:\n",
    "                    each_dist.append(eucli(visualization_data[j],part_data[i]))\n",
    "            #print(each_dist)\n",
    "        \n",
    "        elif pred_label[i]!=target:\n",
    "            #然后再找其它的距离\n",
    "            each_target=pred_label[i]\n",
    "            #print(each_target)\n",
    "            for j in range(len(visualization_label)):\n",
    "                if visualization_label[j]==each_target:\n",
    "                    each_dist2.append(eucli(visualization_data[j],part_data[i]))\n",
    "                #print(each_dist2)\n",
    "        if len(each_dist)>0:\n",
    "\n",
    "            lst_dist.append(min(each_dist))\n",
    "            target_dist.append(min(each_dist))\n",
    "        elif len(each_dist2)>0:\n",
    "            lst_dist.append(min(each_dist2))\n",
    "        \n",
    "            other_dist.append(min(each_dist2))\n",
    "    pr1=pr1_up/24\n",
    "    #print(lst_dist)\n",
    "    #print(target_dist)\n",
    "    #print(other_dist)\n",
    "    #print(len(lst_dist),len(target_dist),len(other_dist))\n",
    "    \n",
    "\n",
    "    \n",
    "\n",
    "\n",
    "    "
   ]
  },
  {
   "cell_type": "code",
   "execution_count": null,
   "metadata": {},
   "outputs": [],
   "source": [
    "actual_label=copy.deepcopy(visualization_label[336:])\n",
    "pred_label=copy.deepcopy(y_pred[336:])"
   ]
  },
  {
   "cell_type": "code",
   "execution_count": null,
   "metadata": {},
   "outputs": [],
   "source": [
    "\n",
    "def res_generate(batch):\n",
    "    global start,end\n",
    "    \n",
    "    start=batch*24-24\n",
    "    end=batch*24\n",
    "    #print(start,end)\n",
    "    drug=pred_label[start]\n",
    "    confidence_score(pred_label[start:end],actual_label[start:end],visualization_data[start:end],drug)"
   ]
  },
  {
   "cell_type": "code",
   "execution_count": null,
   "metadata": {},
   "outputs": [],
   "source": [
    "def res_visualize():\n",
    "    global y \n",
    "    nd_r1=min(target_dist)\n",
    "    nd_r2=min(other_dist)\n",
    "\n",
    "    pd_r1 = mat.fitdist(nd_r1,'Exponential');\n",
    "    pd_r2 = mat.fitdist(nd_r2,'Kernel')\n",
    "    #pd_r1 = matlab.engine.fitdist(nd_r1,'Exponential');\n",
    "    #pd_r2 = matlab.engine.fitdist(nd_r2,'Kernel');\n",
    "    xq=matlab.double(lst_dist)\n",
    "    prD_r1 = mat.pdf(pd_r1,xq)\n",
    "    \n",
    "    prD_r2 = mat.pdf(pd_r2,xq)\n",
    "    prD_r1=np.asarray(prD_r1)\n",
    "    prD_r2=np.asarray(prD_r2)\n",
    "    y = prD_r1*pr1 / (prD_r1*pr1 + prD_r2*(1-pr1))\n",
    "    y=np.ndarray.tolist(y)\n",
    "    y=y[0]\n",
    "    global y_res\n",
    "    y_res=[]\n",
    "    for i in range(len(y)):\n",
    "        y_res.append([actual_label[start:end][i],pred_label[start:end][i],y[i]])\n",
    "    print('actual_compound        ','predict_result   ','confidence_score')\n",
    "    return y_res\n",
    "  \n",
    "    "
   ]
  },
  {
   "cell_type": "code",
   "execution_count": null,
   "metadata": {},
   "outputs": [],
   "source": [
    "def one_click(batch):\n",
    "\n",
    "    res_generate(batch)\n",
    "    y_res=res_visualize()\n",
    "    \n",
    "    return y_res"
   ]
  },
  {
   "cell_type": "code",
   "execution_count": null,
   "metadata": {},
   "outputs": [
    {
     "name": "stdout",
     "output_type": "stream",
     "text": [
      "actual_compound         predict_result    confidence_score\n"
     ]
    },
    {
     "data": {
      "text/plain": [
       "[['Etoposide+Gemcitabine', 'Gemcitabine', 0.9999703879516559],\n",
       " ['Etoposide+Gemcitabine', 'Gemcitabine', 0.9999996163440623],\n",
       " ['Etoposide+Gemcitabine', 'Gemcitabine', 0.9999994344575511],\n",
       " ['Etoposide+Gemcitabine', 'Gemcitabine', 0.9999969403480796],\n",
       " ['Etoposide+Gemcitabine', 'Gemcitabine', 0.7811310947730356],\n",
       " ['Etoposide+Gemcitabine', 'Gemcitabine', 0.9006863163936466],\n",
       " ['Etoposide+Gemcitabine', 'Gemcitabine', 0.787256475902175],\n",
       " ['Etoposide+Gemcitabine', 'Gemcitabine', 0.9737149372734017],\n",
       " ['Etoposide+Gemcitabine', 'Gemcitabine', 0.9390766100663424],\n",
       " ['Etoposide+Gemcitabine', 'Gemcitabine', 0.7652566863485507],\n",
       " ['Etoposide+Gemcitabine', 'Gemcitabine', 0.7691095492284087],\n",
       " ['Etoposide+Gemcitabine', 'Gemcitabine', 0.7998012128881523],\n",
       " ['Etoposide+Gemcitabine', 'Gemcitabine', 0.7638911104644518],\n",
       " ['Etoposide+Gemcitabine', 'Gemcitabine', 0.9004631688569402],\n",
       " ['Etoposide+Gemcitabine', 'Gemcitabine', 0.9999428310446992],\n",
       " ['Etoposide+Gemcitabine', 'Gemcitabine', 0.9869492190252427],\n",
       " ['Etoposide+Gemcitabine', 'Gemcitabine', 0.9999993405929911],\n",
       " ['Etoposide+Gemcitabine', 'Gemcitabine', 0.9380808867591547],\n",
       " ['Etoposide+Gemcitabine', 'Gemcitabine', 0.9695589218224427],\n",
       " ['Etoposide+Gemcitabine', 'Gemcitabine', 0.9661312747530625],\n",
       " ['Etoposide+Gemcitabine', 'Apicidin', 0.8011853130040402],\n",
       " ['Etoposide+Gemcitabine', 'Gemcitabine', 0.8120250323464251],\n",
       " ['Etoposide+Gemcitabine', 'Apicidin', 0.7650442346590514],\n",
       " ['Etoposide+Gemcitabine', 'Gemcitabine', 0.7662593151462451]]"
      ]
     },
     "execution_count": 128,
     "metadata": {},
     "output_type": "execute_result"
    }
   ],
   "source": [
    "one_click(1)"
   ]
  },
  {
   "cell_type": "code",
   "execution_count": null,
   "metadata": {},
   "outputs": [
    {
     "name": "stdout",
     "output_type": "stream",
     "text": [
      "actual_compound         predict_result    confidence_score\n"
     ]
    },
    {
     "data": {
      "text/plain": [
       "[['Etoposide+AUY922', 'AUY922', 0.9999999590732246],\n",
       " ['Etoposide+AUY922', 'AUY922', 0.9999864090402568],\n",
       " ['Etoposide+AUY922', 'AUY922', 0.9998414725836171],\n",
       " ['Etoposide+AUY922', 'AUY922', 0.9999999429948317],\n",
       " ['Etoposide+AUY922', '17AAG', 0.16896093013936128],\n",
       " ['Etoposide+AUY922', 'AUY922', 0.9971328431193226],\n",
       " ['Etoposide+AUY922', '17AAG', 0.16896093013936128],\n",
       " ['Etoposide+AUY922', 'AUY922', 0.9999999948162657],\n",
       " ['Etoposide+AUY922', 'Gemcitabine', 1.0],\n",
       " ['Etoposide+AUY922', 'Etoposide', 0.9999999999895925],\n",
       " ['Etoposide+AUY922', 'Gemcitabine', 1.0],\n",
       " ['Etoposide+AUY922', 'Etoposide', 0.9999999997393586],\n",
       " ['Etoposide+AUY922', 'Apicidin', 0.9996581933305447],\n",
       " ['Etoposide+AUY922', 'Apicidin', 0.9413909741657334],\n",
       " ['Etoposide+AUY922', 'Gemcitabine', 0.9999894378886667],\n",
       " ['Etoposide+AUY922', 'Apicidin', 0.9959822674719938],\n",
       " ['Etoposide+AUY922', 'Apicidin', 0.9998044182846403],\n",
       " ['Etoposide+AUY922', 'Apicidin', 0.9999999998805666],\n",
       " ['Etoposide+AUY922', 'Apicidin', 0.9999981585260129],\n",
       " ['Etoposide+AUY922', 'Gemcitabine', 1.0],\n",
       " ['Etoposide+AUY922', 'Apicidin', 0.9222959826702612],\n",
       " ['Etoposide+AUY922', 'Apicidin', 0.9996064319056811],\n",
       " ['Etoposide+AUY922', 'Apicidin', 0.9835536116875537],\n",
       " ['Etoposide+AUY922', 'Apicidin', 0.7932731904382095]]"
      ]
     },
     "execution_count": 129,
     "metadata": {},
     "output_type": "execute_result"
    }
   ],
   "source": [
    "one_click(5)"
   ]
  },
  {
   "cell_type": "code",
   "execution_count": null,
   "metadata": {},
   "outputs": [
    {
     "name": "stdout",
     "output_type": "stream",
     "text": [
      "actual_compound         predict_result    confidence_score\n"
     ]
    },
    {
     "data": {
      "text/plain": [
       "[['Etoposide+Gemcitabine', 'Gemcitabine', 0.9999703879516559],\n",
       " ['Etoposide+Gemcitabine', 'Gemcitabine', 0.9999996163440623],\n",
       " ['Etoposide+Gemcitabine', 'Gemcitabine', 0.9999994344575511],\n",
       " ['Etoposide+Gemcitabine', 'Gemcitabine', 0.9999969403480796],\n",
       " ['Etoposide+Gemcitabine', 'Gemcitabine', 0.7811310947730356],\n",
       " ['Etoposide+Gemcitabine', 'Gemcitabine', 0.9006863163936466],\n",
       " ['Etoposide+Gemcitabine', 'Gemcitabine', 0.787256475902175],\n",
       " ['Etoposide+Gemcitabine', 'Gemcitabine', 0.9737149372734017],\n",
       " ['Etoposide+Gemcitabine', 'Gemcitabine', 0.9390766100663424],\n",
       " ['Etoposide+Gemcitabine', 'Gemcitabine', 0.7652566863485507],\n",
       " ['Etoposide+Gemcitabine', 'Gemcitabine', 0.7691095492284087],\n",
       " ['Etoposide+Gemcitabine', 'Gemcitabine', 0.7998012128881523],\n",
       " ['Etoposide+Gemcitabine', 'Gemcitabine', 0.7638911104644518],\n",
       " ['Etoposide+Gemcitabine', 'Gemcitabine', 0.9004631688569402],\n",
       " ['Etoposide+Gemcitabine', 'Gemcitabine', 0.9999428310446992],\n",
       " ['Etoposide+Gemcitabine', 'Gemcitabine', 0.9869492190252427],\n",
       " ['Etoposide+Gemcitabine', 'Gemcitabine', 0.9999993405929911],\n",
       " ['Etoposide+Gemcitabine', 'Gemcitabine', 0.9380808867591547],\n",
       " ['Etoposide+Gemcitabine', 'Gemcitabine', 0.9695589218224427],\n",
       " ['Etoposide+Gemcitabine', 'Gemcitabine', 0.9661312747530625],\n",
       " ['Etoposide+Gemcitabine', 'Apicidin', 0.8011853130040402],\n",
       " ['Etoposide+Gemcitabine', 'Gemcitabine', 0.8120250323464251],\n",
       " ['Etoposide+Gemcitabine', 'Apicidin', 0.7650442346590514],\n",
       " ['Etoposide+Gemcitabine', 'Gemcitabine', 0.7662593151462451]]"
      ]
     },
     "execution_count": 130,
     "metadata": {},
     "output_type": "execute_result"
    }
   ],
   "source": [
    "one_click(1)"
   ]
  },
  {
   "cell_type": "code",
   "execution_count": null,
   "metadata": {},
   "outputs": [
    {
     "name": "stdout",
     "output_type": "stream",
     "text": [
      "actual_compound         predict_result    confidence_score\n",
      "actual_compound         predict_result    confidence_score\n",
      "actual_compound         predict_result    confidence_score\n",
      "actual_compound         predict_result    confidence_score\n",
      "actual_compound         predict_result    confidence_score\n"
     ]
    }
   ],
   "source": [
    "big_res=[]\n",
    "for i in range(1,6):\n",
    "    \n",
    "    big_res.append(one_click(i))\n",
    "    big_res.append('\\n')\n",
    "with open('result.txt','w') as f:\n",
    "    for each in big_res:\n",
    "        #print(each)\n",
    "        for each2 in each:\n",
    "\n",
    "            f.writelines(str(each2)+'\\n')\n",
    "f.close()\n",
    "\n"
   ]
  },
  {
   "cell_type": "code",
   "execution_count": null,
   "metadata": {},
   "outputs": [],
   "source": [
    "#Import knearest neighbors Classifier model\n",
    "from sklearn.neighbors import KNeighborsClassifier\n",
    "\n",
    "#Create KNN Classifier\n",
    "knn = KNeighborsClassifier(n_neighbors=10)\n",
    "\n",
    "#Train the model using the training sets\n",
    "knn.fit(training_X_for_visualization, training_label_class)\n",
    "\n",
    "#Predict the response for test dataset\n",
    "y_pred = knn.predict(visualization_data)"
   ]
  },
  {
   "cell_type": "code",
   "execution_count": null,
   "metadata": {},
   "outputs": [
    {
     "data": {
      "text/plain": [
       "array(['DNA', 'DNA', 'DNA', 'DNA', 'DNA', 'DNA', 'DNA', 'DNA', 'DNA',\n",
       "       'DNA', 'DNA', 'DNA', 'DNA', 'DNA', 'DNA', 'DNA', 'DNA', 'DNA',\n",
       "       'DNA', 'DNA', 'DNA', 'DNA', 'PROT', 'DNA'], dtype='<U4')"
      ]
     },
     "execution_count": 104,
     "metadata": {},
     "output_type": "execute_result"
    }
   ],
   "source": [
    "y_pred[336:360]"
   ]
  },
  {
   "cell_type": "code",
   "execution_count": null,
   "metadata": {},
   "outputs": [
    {
     "data": {
      "text/plain": [
       "array(['Etoposide', 'Etoposide', 'Etoposide', ..., 'Apicidin', 'Apicidin',\n",
       "       'Apicidin'], dtype='<U11')"
      ]
     },
     "execution_count": 133,
     "metadata": {},
     "output_type": "execute_result"
    }
   ],
   "source": [
    "y_pred"
   ]
  },
  {
   "cell_type": "code",
   "execution_count": null,
   "metadata": {},
   "outputs": [],
   "source": [
    "#之前稀疏的画图都是没有train过，而且依旧238列"
   ]
  },
  {
   "cell_type": "code",
   "execution_count": null,
   "metadata": {},
   "outputs": [
    {
     "data": {
      "application/vnd.plotly.v1+json": {
       "config": {
        "plotlyServerURL": "https://plot.ly"
       },
       "data": [
        {
         "hovertemplate": "color=Etoposide<br>0=%{x}<br>1=%{y}<extra></extra>",
         "legendgroup": "Etoposide",
         "marker": {
          "color": "#636efa",
          "symbol": "circle"
         },
         "mode": "markers",
         "name": "Etoposide",
         "showlegend": true,
         "type": "scattergl",
         "x": [
          -13.327913037546253,
          -11.689902692501343,
          -13.291768391566407,
          -12.802961961307323,
          -3.466859943672187,
          -3.010388487544133,
          -1.1593776385040122,
          -2.898917174727752,
          -0.9353234885997769,
          -1.9661171320754485,
          -1.9711250692273703,
          -1.067214190573952,
          -2.0668897167629527,
          -5.141065380042972,
          -3.456710701460105,
          -0.6678622986646962,
          -4.28056195165162,
          -4.8337040941442755,
          -2.74148595172284,
          -3.9133153082131558,
          -0.32734484284747506,
          0.007064160942457116,
          -2.219275466147237,
          -1.5442444271706204
         ],
         "xaxis": "x",
         "y": [
          0.09445000844192812,
          -1.1524980268498448,
          -0.27748182589568077,
          -0.1238534083290794,
          -2.3826443126627512,
          -2.681233689568358,
          -3.7068523951621333,
          -2.7699895080189707,
          -2.529514168123721,
          -4.100856573531205,
          -1.9346420352841323,
          -2.831674343903094,
          -3.751974842855482,
          -3.1791424899821403,
          -2.9254807329060246,
          -5.195996708021424,
          -1.0190088905349668,
          -3.502182468726074,
          -3.509479577106857,
          -0.3035966224082252,
          -4.057922703963351,
          -5.711312782307273,
          -2.1940976018431395,
          -4.421014684016915
         ],
         "yaxis": "y"
        },
        {
         "hovertemplate": "color=Gemcitabine<br>0=%{x}<br>1=%{y}<extra></extra>",
         "legendgroup": "Gemcitabine",
         "marker": {
          "color": "#EF553B",
          "symbol": "circle"
         },
         "mode": "markers",
         "name": "Gemcitabine",
         "showlegend": true,
         "type": "scattergl",
         "x": [
          -11.098693684791554,
          -11.877069762428,
          -11.88385365053891,
          -11.9542745514475,
          -10.446824237445213,
          -10.550155017255637,
          -11.549703748742541,
          -10.59034977239643,
          -10.818617523913586,
          -10.599341279076484,
          -11.08133225596158,
          -10.511712308137255,
          -8.069491347321781,
          -8.345585947018595,
          -10.21635389606858,
          -7.997764109521384,
          -9.66239555662402,
          -11.39611918418795,
          -9.326911601671561,
          -10.320520754054767,
          -5.015261356287647,
          -3.66796115060358,
          -3.49622354484305,
          -3.5016116736632164
         ],
         "xaxis": "x",
         "y": [
          1.8414745152318956,
          3.274387884320689,
          0.3343007200059656,
          0.1844655318470592,
          0.3812536929001435,
          0.5634129590133101,
          -1.2269599465093883,
          -1.2373325858881385,
          1.4948328272921942,
          1.5239036382969136,
          0.9173907099173743,
          0.35789943443901623,
          2.026044565748184,
          1.1321828975084098,
          2.876654207704415,
          1.2616806250995072,
          0.7201967692362439,
          -0.8151615132078814,
          -0.7181060884221234,
          -1.961255235489542,
          -6.232248307805733,
          -4.596416890496906,
          -4.683883547543512,
          -3.9628933597992146
         ],
         "yaxis": "y"
        },
        {
         "hovertemplate": "color=Paclitaxel<br>0=%{x}<br>1=%{y}<extra></extra>",
         "legendgroup": "Paclitaxel",
         "marker": {
          "color": "#00cc96",
          "symbol": "circle"
         },
         "mode": "markers",
         "name": "Paclitaxel",
         "showlegend": true,
         "type": "scattergl",
         "x": [
          12.862961436308513,
          12.074866522028524,
          11.616604091155986,
          12.577215135523067,
          4.59162425745166,
          2.185108078047936,
          3.6945038441237976,
          2.905940863698477,
          4.111050409274402,
          1.6112473562981904,
          3.8583455392926016,
          5.644138467043982,
          1.3727361561295515,
          3.1215916950726363,
          3.79372811655414,
          5.145906998117769,
          2.1364021443593373,
          4.201051754553074,
          3.228280206227391,
          4.103814850699751,
          3.1358777068685293,
          4.588354776095004,
          1.777823850258039,
          3.572095750829321
         ],
         "xaxis": "x",
         "y": [
          5.327554854795678,
          5.7160601996196,
          4.476796033956543,
          4.6423011042623905,
          2.1963300164852524,
          5.949517384892872,
          3.382208335564021,
          4.314314583533018,
          4.328389642835164,
          3.6359246958733316,
          3.856356975034899,
          2.445858355618215,
          3.801979307644172,
          4.163255952796874,
          3.7080738606610004,
          2.6329567582200126,
          5.064004577374696,
          2.956391543075256,
          2.344282272821166,
          3.392996652248607,
          5.534924388759434,
          2.9688272677172933,
          2.9136529965463884,
          3.138666535366518
         ],
         "yaxis": "y"
        },
        {
         "hovertemplate": "color=Vinblastine<br>0=%{x}<br>1=%{y}<extra></extra>",
         "legendgroup": "Vinblastine",
         "marker": {
          "color": "#ab63fa",
          "symbol": "circle"
         },
         "mode": "markers",
         "name": "Vinblastine",
         "showlegend": true,
         "type": "scattergl",
         "x": [
          2.726482539167952,
          4.233819601677425,
          3.582974607164195,
          3.4935392284555893,
          -2.426701046738606,
          -3.833066666808516,
          -2.1598981356967677,
          -4.221331140399714,
          -2.4173186256744312,
          -0.5312490105904234,
          -1.1129886586704107,
          -0.5268749047671127,
          -1.4755702864181246,
          -0.5824711488449363,
          -0.21293319295856894,
          0.9136993393886631,
          -3.0203569025880252,
          -1.804128426179136,
          -1.044271361905692,
          -0.3070078830677288,
          -3.278615238438413,
          -1.715024011681245,
          -1.4391875947976052,
          -1.535240140984615
         ],
         "xaxis": "x",
         "y": [
          0.3154991201797379,
          -0.2676606093302361,
          -1.4177543964315795,
          2.1401664234297364,
          -1.9583718210493064,
          -0.7735348092280372,
          -2.799933860298596,
          -0.42920295147959375,
          -1.7466885999100454,
          -2.315554361990691,
          -1.6466745869814143,
          -2.0569465178276634,
          -1.3655390764008712,
          -3.198480329505901,
          -4.082896061329974,
          -2.29210277244221,
          -1.3314485680658021,
          -1.4303478222791561,
          -1.466745948312884,
          -2.7004238483611815,
          -1.643058539000309,
          -3.0272095178358613,
          -2.752424250667518,
          -2.789536424278469
         ],
         "yaxis": "y"
        },
        {
         "hovertemplate": "color=17AAG<br>0=%{x}<br>1=%{y}<extra></extra>",
         "legendgroup": "17AAG",
         "marker": {
          "color": "#FFA15A",
          "symbol": "circle"
         },
         "mode": "markers",
         "name": "17AAG",
         "showlegend": true,
         "type": "scattergl",
         "x": [
          -0.1726901229722754,
          -4.408283062713471,
          -1.4840882236649142,
          -0.5356333357454061,
          -1.5597423153969796,
          -2.9837294894023714,
          -1.7647396380825509,
          0.6698153155420093,
          -3.8493526186651787,
          -4.176438327566149,
          -2.9186089185316346,
          -6.115809596249977,
          -7.935351348964287,
          -5.172630057280453,
          -7.914599790200594,
          -5.5508861878510425,
          -5.6884256263384785,
          -3.5935156688546255,
          -3.7231632334328637,
          -2.0870541924885324,
          -1.8667441317437856,
          0.019393551250089184,
          -2.5106897061164895,
          -3.0340636059424115
         ],
         "xaxis": "x",
         "y": [
          5.531507628334114,
          5.535888424498604,
          4.2641451683492155,
          4.144473968361342,
          6.428754055949447,
          5.098547203901394,
          7.568526045969442,
          5.906955842961459,
          4.836043342186777,
          3.332903559937902,
          4.755207808257709,
          2.9661099585256703,
          -0.15866687209175953,
          0.4562533556860969,
          0.6420448955398526,
          0.0992253830007109,
          1.297917755677252,
          0.6701332919764006,
          0.552405779317661,
          -0.7544952722425502,
          -0.02214993651727655,
          -1.147073214831983,
          0.40550604634473525,
          -0.38408367147255856
         ],
         "yaxis": "y"
        },
        {
         "hovertemplate": "color=AUY922<br>0=%{x}<br>1=%{y}<extra></extra>",
         "legendgroup": "AUY922",
         "marker": {
          "color": "#19d3f3",
          "symbol": "circle"
         },
         "mode": "markers",
         "name": "AUY922",
         "showlegend": true,
         "type": "scattergl",
         "x": [
          -7.445802485066017,
          -5.175139219340519,
          -6.310118264754314,
          -8.161623994780452,
          -4.058999706025459,
          -4.506315441597304,
          -4.982559222082254,
          -5.064512933674809,
          -8.256474633494932,
          -8.089124609813881,
          -9.396387052599648,
          -9.554857064999526,
          -3.758171107757905,
          -2.6268672475412673,
          -4.995144779564841,
          -7.440341889972692,
          -0.9073311380774406,
          -1.9010446817618627,
          -0.8309884077319766,
          -2.3311477844178587,
          -3.427939126185641,
          -1.198944443078117,
          -5.6381892255305495,
          -3.329187572259337
         ],
         "xaxis": "x",
         "y": [
          2.95207797436318,
          3.234266277118707,
          0.7670548077541346,
          1.5930241687960358,
          1.8283912642392592,
          1.9221157276475391,
          0.5059976625095033,
          -0.1859337473435055,
          1.5937642631761701,
          0.2749984928282629,
          -0.8049517848181366,
          -0.3187542290248751,
          -0.8930016219337302,
          -1.3229309241166152,
          -0.951591919913824,
          0.77260657259388,
          -1.966186321595186,
          -0.9988030606444586,
          -5.592929431391417,
          -4.587094681075114,
          -2.8879400651325633,
          -2.2514703916225054,
          -1.6637855534010195,
          -4.64356797985123
         ],
         "yaxis": "y"
        },
        {
         "hovertemplate": "color=MG132<br>0=%{x}<br>1=%{y}<extra></extra>",
         "legendgroup": "MG132",
         "marker": {
          "color": "#FF6692",
          "symbol": "circle"
         },
         "mode": "markers",
         "name": "MG132",
         "showlegend": true,
         "type": "scattergl",
         "x": [
          -0.6849477092374581,
          0.24361332471373243,
          0.29270485054160866,
          0.8694667398061744,
          5.7962675143098386,
          5.436632524668591,
          -2.4087324400514114,
          -2.6794365912110902,
          -7.559228302891102,
          -7.132589976709599,
          -7.506412372855499,
          -6.708393638315611,
          -0.12789945940951908,
          -0.9586949697712189,
          -0.680282843053297,
          -0.09687463061167154,
          0.036251915860130546,
          -2.7768347171231262,
          -2.645408432060183,
          1.2585411817947267,
          -1.3231490722503316,
          -3.2040303132505463,
          -2.0790028476581592,
          -5.099782747864295
         ],
         "xaxis": "x",
         "y": [
          -11.811979584407077,
          -10.67717807581798,
          -10.945759678421279,
          -12.05195616723558,
          -6.780927432427873,
          -6.906871476544461,
          -9.055540076058781,
          -7.968329991495596,
          -1.9866795653994689,
          -0.1689048587280449,
          -1.9526358876320444,
          0.3651061921241294,
          -4.088371192520235,
          -3.2387587816033414,
          -2.632723167122374,
          -2.715559890105835,
          -4.419557174049817,
          -3.377351789593461,
          -3.1945679292845957,
          -4.772261984612106,
          -0.4690846560836005,
          -1.119082671057884,
          -2.000365757787999,
          -2.3513617971615615
         ],
         "yaxis": "y"
        },
        {
         "hovertemplate": "color=PS341<br>0=%{x}<br>1=%{y}<extra></extra>",
         "legendgroup": "PS341",
         "marker": {
          "color": "#B6E880",
          "symbol": "circle"
         },
         "mode": "markers",
         "name": "PS341",
         "showlegend": true,
         "type": "scattergl",
         "x": [
          8.020162300975596,
          8.399956900871663,
          7.089344551726044,
          7.792860814067217,
          7.422784427098901,
          8.124616848790149,
          8.37427970749604,
          8.356717139461827,
          5.114368343472703,
          5.1258571954737695,
          5.088013157453887,
          7.2251262747278195,
          -3.7642362007084817,
          -5.289295369272975,
          -4.95527725878444,
          -1.8122958612408981,
          -1.5890366034111159,
          -2.1608192945724207,
          -4.7964303178056085,
          -2.2779276851062717,
          -1.069498448757912,
          -0.4261500203159969,
          -2.6136954765893647,
          -3.9428751399152815
         ],
         "xaxis": "x",
         "y": [
          -4.458371295809336,
          -6.186325271772021,
          -6.530102060434869,
          -6.133901679788308,
          -3.427924661980881,
          -5.316800811583388,
          -4.7083466523922395,
          -4.1427677034888895,
          -6.511238987898523,
          -5.281885585243292,
          -5.699582069357099,
          -4.8513520804626955,
          -5.65110496284682,
          -6.370931979599768,
          -6.356238983387545,
          -8.273334987646082,
          0.442181644403768,
          -0.9799960634150257,
          1.0725472023626663,
          -0.08683783427460709,
          -2.193257573337138,
          -2.433558771286316,
          -1.5065640290827291,
          -0.7012951434866666
         ],
         "yaxis": "y"
        },
        {
         "hovertemplate": "color=SAHA<br>0=%{x}<br>1=%{y}<extra></extra>",
         "legendgroup": "SAHA",
         "marker": {
          "color": "#FF97FF",
          "symbol": "circle"
         },
         "mode": "markers",
         "name": "SAHA",
         "showlegend": true,
         "type": "scattergl",
         "x": [
          5.722848136124481,
          4.520197123794989,
          5.85969536158611,
          3.9063767630713757,
          -1.0256818201804314,
          -0.738011181071225,
          -3.9992054170038607,
          -4.909430286729259,
          -5.103066518741561,
          -5.808840675468583,
          -8.190077649280028,
          -7.208612245045553,
          -4.554365269104793,
          -5.68802823280244,
          -7.595537360269703,
          -6.553258157829549,
          -2.2535632840378206,
          -3.068904066715583,
          -7.831785628535177,
          -4.065932274121335,
          -6.135817104929981,
          -4.184904500675399,
          -7.83203359490385,
          -7.565076721178752
         ],
         "xaxis": "x",
         "y": [
          2.5230227106764156,
          4.711470301255747,
          4.308740624552807,
          3.2335466335943,
          3.4770716514903093,
          3.173710685895708,
          4.988072459873082,
          6.977880138275833,
          -1.9944918953410848,
          0.1973403980803707,
          4.036550595130758,
          3.6637947563828743,
          -0.886553809831397,
          3.0006047612662594,
          3.0868913841935197,
          1.3690651494934163,
          -2.129280336339653,
          -3.238187838363289,
          0.02846468965268217,
          -4.7195311170045064,
          -2.6116175634338634,
          -3.5401648799953134,
          -2.3368142867372006,
          -1.500374640129651
         ],
         "yaxis": "y"
        },
        {
         "hovertemplate": "color=Apicidin<br>0=%{x}<br>1=%{y}<extra></extra>",
         "legendgroup": "Apicidin",
         "marker": {
          "color": "#FECB52",
          "symbol": "circle"
         },
         "mode": "markers",
         "name": "Apicidin",
         "showlegend": true,
         "type": "scattergl",
         "x": [
          2.7759111227702906,
          3.78195886141836,
          4.087174511298525,
          5.7740296261546975,
          -3.222406825291435,
          -3.7564633846468016,
          -6.1322766755611555,
          -1.9236474783166992,
          -1.6903567145501834,
          -3.38218614323711,
          -3.823803283279033,
          -0.8463305380392807,
          0.009583402904497114,
          0.41009786602543324,
          -1.4144619436136678,
          -2.5460835993277637,
          -3.1235556098538964,
          -3.4763563636838577,
          -0.8940814911744475,
          -1.2420606159766565,
          -3.0707594667664515,
          1.5573460191723008,
          -2.494617747066294,
          -1.3405627884899518
         ],
         "xaxis": "x",
         "y": [
          -0.7373276422865024,
          1.385545195032991,
          -0.1403340914982894,
          0.3802635355288387,
          -0.13436174525880587,
          0.7694354525310192,
          1.5993878191627504,
          -0.0879717555281033,
          -0.3482300433954835,
          0.8542889810489328,
          0.5342271239252557,
          -1.9604616182932066,
          -2.3522662028774395,
          -1.6383833900422653,
          -0.43696841398717295,
          -1.6810486932549735,
          -0.7596539125663945,
          -1.0642502632919209,
          -2.1173626146194295,
          -1.4998805487086617,
          -1.35704525204973,
          -3.00519139011174,
          -1.6537623238122432,
          -4.598438756227517
         ],
         "yaxis": "y"
        },
        {
         "hovertemplate": "color=DMSO<br>0=%{x}<br>1=%{y}<extra></extra>",
         "legendgroup": "DMSO",
         "marker": {
          "color": "#636efa",
          "symbol": "circle"
         },
         "mode": "markers",
         "name": "DMSO",
         "showlegend": true,
         "type": "scattergl",
         "x": [
          -1.4937123499336233,
          -2.8286914682478446,
          -3.0600491250877653,
          -7.695289135635584,
          -2.735947812182029,
          -1.788992277699651,
          -2.9978118196910315,
          -2.2291563375553802,
          -0.43926060258461014,
          -3.376950852986911,
          0.26928575546654226,
          -2.8560889438094845,
          -3.532262060398237,
          -3.3653577806184547,
          -3.0808743535335616,
          -0.007873132983001999,
          0.0827286609304529,
          -0.8590452863900176,
          -2.1948379138526195,
          -0.5942738994342525,
          0.16096955494736997,
          -0.1884129892411555,
          0.8082116911685981,
          -0.08544254713278193,
          -2.54443232199982,
          -2.655906468059363,
          -2.5164993622472203,
          0.7250492634934704,
          -2.643034411759641,
          -3.822386460767736,
          -0.32077625533273635,
          -0.9005666796522864,
          0.19302976427025134,
          -2.7350707965375913,
          -4.527591695474204,
          -2.667467410800773,
          0.4636823575970104,
          0.19139850542274273,
          -3.3364733311570727,
          -2.761607331999397,
          -2.004597893549839,
          2.7921349765351042,
          -3.5287269017602485,
          -0.193174119164263,
          -1.421541250640831,
          -1.3983478003685277,
          0.7708420443504923,
          4.37280480843899,
          -3.4526736276776764,
          -0.6610469762201948,
          -2.103786892144658,
          -0.12733151604558102,
          -0.6174663473838107,
          -1.9806957588727043,
          -2.0846474004369773,
          0.3438419628988368,
          -0.937118395594768,
          1.0526521831639377,
          -0.05387822656177788,
          -1.9189114429605802,
          -1.0295267853267627,
          0.6634955439835691,
          -1.9637986217839842,
          -3.3211989218064564,
          -0.6781164014430469,
          -3.202666122178821,
          -0.059149884456610236,
          -2.3263515999384556,
          -1.1451528163020517,
          -3.381837444941201,
          -2.0815219230749,
          -3.2838894132356877,
          0.664655589941335,
          -2.1760280523802895,
          -3.439744972787358,
          -2.8506849998430646,
          0.6626368346948797,
          -1.9692623179561692,
          -3.108894414986465,
          -4.6878865799722,
          -3.0412414931773064,
          -4.111825212316393,
          1.0115952732673295,
          -1.8198262640926568,
          -3.568490417426418,
          -0.6086915803042108,
          -1.1130356768120655,
          -4.545052065088162,
          0.5918942055103305,
          1.9084744196951822,
          -1.9635824548191252,
          -4.596504827937053,
          -0.7665018568666921,
          2.5626263014834123,
          -0.7985898495159622,
          -2.529266985689237
         ],
         "xaxis": "x",
         "y": [
          -2.9504870863524375,
          -4.486133167607222,
          -2.9042732020023623,
          -4.982520798311842,
          -2.6817750780222798,
          -1.5833451654323472,
          -0.9570316300150005,
          -3.4664332883762716,
          -2.8411459795979317,
          -1.6265518488976654,
          -5.827943210738623,
          -1.943727606492507,
          -1.4761889210199068,
          -3.026474044590125,
          -1.5823788670032553,
          -5.031492248836984,
          -2.9955937685562986,
          -2.1077619374197902,
          -0.31197649058988514,
          -0.49641758294338967,
          -2.4823178908716654,
          -1.9882452748261132,
          -2.2203469561081928,
          -2.1007358728498478,
          -1.8312137636449628,
          -0.975982530706929,
          -3.2617168526212974,
          -2.9338018511059403,
          -2.6970078565637046,
          -2.4746012145318135,
          -1.4740476247795624,
          -3.701030766159099,
          -2.1247686504786145,
          -2.196897642187674,
          -2.459273210153527,
          -4.623312107909221,
          -2.412298494762735,
          -2.786665754063319,
          -3.011237584374918,
          -4.531102150627074,
          -1.975893772655361,
          -4.079810617359046,
          0.7944658519323942,
          -3.05928790591976,
          -4.019678638373224,
          -3.694526891445188,
          -3.742328296248311,
          -6.364810051493382,
          -6.051549367940283,
          -2.8769244929919813,
          -3.0578555012089046,
          -2.9975761286388507,
          -2.417839376522884,
          -1.4892855941953427,
          -3.816406543239698,
          -4.11046018345849,
          -3.3032657334390185,
          -2.1747117155762097,
          -4.074012599330711,
          -3.2316593213224913,
          -3.565676773296558,
          -3.7788751179754203,
          -0.7122794550602809,
          -1.6274104608696718,
          -3.5963783261007345,
          -2.4133419079948855,
          -6.5381696567699334,
          -3.2180949377179306,
          -3.4092424469908393,
          -2.3333130875996537,
          -3.3880843343559066,
          -5.5412682725767475,
          -3.674854178708273,
          -0.5536312618308707,
          -2.4558476167128087,
          -1.7763351058197452,
          -2.1486704363042772,
          -1.9062893541015826,
          -3.581365173833586,
          -3.016451148937897,
          -1.6456777174574244,
          -0.8650248192916735,
          -6.370173465110444,
          -0.5104035285269277,
          -3.414354796143623,
          -1.4227066054489257,
          -4.010054320659767,
          -6.702100416914305,
          -6.038573655011357,
          -5.909471193955455,
          -5.499187789422414,
          -2.5838026467102906,
          -5.7611934332902175,
          -5.458235717689742,
          -2.9872258337396858,
          -6.0464161296175885
         ],
         "yaxis": "y"
        },
        {
         "hovertemplate": "color=Etoposide+Gemcitabine<br>0=%{x}<br>1=%{y}<extra></extra>",
         "legendgroup": "Etoposide+Gemcitabine",
         "marker": {
          "color": "#EF553B",
          "symbol": "circle"
         },
         "mode": "markers",
         "name": "Etoposide+Gemcitabine",
         "showlegend": true,
         "type": "scattergl",
         "x": [
          -9.642214191798823,
          -9.479083167461354,
          -8.421213331970595,
          -9.396546211166175,
          -9.035309522314229,
          -9.073651627368536,
          -10.044938605353162,
          -9.848969864624777,
          -7.224930948459632,
          -9.415868028445193,
          -8.991379618863352,
          -10.45865843576873,
          -7.095368334858395,
          -7.165701505412566,
          -7.850201652089143,
          -8.448196776836612,
          -10.773896096479644,
          -10.027186379001563,
          -7.885208365724834,
          -9.401300798179326,
          -3.576992549661763,
          -6.382452536620429,
          -2.77905289350716,
          -3.75211118589798
         ],
         "xaxis": "x",
         "y": [
          -0.31009165202605143,
          0.5150285983509354,
          -1.2875441753955097,
          -1.715137617314294,
          -1.9108235977887025,
          -2.4404189793397437,
          -0.01030565050445564,
          -1.030213602393955,
          -1.8356965165748913,
          -1.15770929058576,
          -2.5825558383246983,
          -0.3220591531744149,
          -0.27086401396130666,
          1.2710681161823092,
          0.4362202228266107,
          -0.5756849192937008,
          -0.15437244652462334,
          -2.644668268017627,
          -3.426960883499334,
          -1.7180682881677656,
          -3.03766393514031,
          -2.6197739307726473,
          -4.043166317363957,
          -3.129766897843939
         ],
         "yaxis": "y"
        },
        {
         "hovertemplate": "color=Etoposide+Paclitaxel<br>0=%{x}<br>1=%{y}<extra></extra>",
         "legendgroup": "Etoposide+Paclitaxel",
         "marker": {
          "color": "#00cc96",
          "symbol": "circle"
         },
         "mode": "markers",
         "name": "Etoposide+Paclitaxel",
         "showlegend": true,
         "type": "scattergl",
         "x": [
          13.75089678543689,
          14.084719894704081,
          13.121175927055901,
          13.785998414078488,
          5.969661779351387,
          4.061546156077304,
          4.569292621092941,
          2.7892011244558277,
          3.9591679943835687,
          6.2683188432970995,
          3.305874925927481,
          3.7662098428470085,
          4.564570403318266,
          3.576465060430071,
          3.4758886518529546,
          3.485851841320379,
          5.306077247982608,
          2.6348313056728125,
          3.1215823157248823,
          2.3713260778823453,
          2.2938215392192123,
          3.640641481067502,
          4.012988482155235,
          2.3751486717770227
         ],
         "xaxis": "x",
         "y": [
          1.3987302911900878,
          1.923629814068062,
          2.211938590022981,
          3.7033123135333645,
          3.578661681478603,
          2.9959933742591183,
          3.284136849258094,
          2.056045761112045,
          4.319518286143554,
          4.49351940677865,
          3.096160099544605,
          2.74487394479402,
          2.5095499658802374,
          2.601591427043381,
          2.3099854551785994,
          2.9376742131167033,
          3.0502413329177633,
          4.382131383321673,
          2.290904244941352,
          1.7823310643717885,
          4.386151228470879,
          2.3821951630972116,
          2.564691361669611,
          3.8769266605161246
         ],
         "yaxis": "y"
        },
        {
         "hovertemplate": "color=Etoposide+Vinblastine<br>0=%{x}<br>1=%{y}<extra></extra>",
         "legendgroup": "Etoposide+Vinblastine",
         "marker": {
          "color": "#ab63fa",
          "symbol": "circle"
         },
         "mode": "markers",
         "name": "Etoposide+Vinblastine",
         "showlegend": true,
         "type": "scattergl",
         "x": [
          -13.388657918404732,
          -13.021257028423769,
          -12.825864753637047,
          -12.954154446608898,
          -1.906542480289904,
          -3.077942393987085,
          -1.6551921929634879,
          -3.5718402564933642,
          -3.6063881873793413,
          -1.2990920046830707,
          -2.51017220331175,
          -3.971471906664683,
          -3.428208758482964,
          -0.7963139616350272,
          -3.078909091733577,
          0.4265497334631717,
          -1.0089756466842084,
          -1.6819970879863102,
          -2.2187908370350757,
          -2.4127835621593965,
          -0.8970933378367267,
          -2.7898830160868178,
          -0.19032136808093567,
          -2.46271036799601
         ],
         "xaxis": "x",
         "y": [
          -0.503732910333364,
          0.49330372515620874,
          -2.2794801892884613,
          -0.5283572061256061,
          -0.5954052008495642,
          -0.9422056055959791,
          -0.5579329734304007,
          -3.0328842760035224,
          -0.42592249722673325,
          -1.7590569561085532,
          -0.8084552847844015,
          -0.5897815546277204,
          0.12670229585830955,
          -2.523424823363099,
          -0.2996896152532328,
          -3.3553437024359805,
          -2.00953089953842,
          -2.74760272850099,
          -3.3912515468855693,
          -2.7462520941993978,
          -5.166393707026252,
          -2.320381093460011,
          -4.495389366533624,
          -2.658770389222557
         ],
         "yaxis": "y"
        },
        {
         "hovertemplate": "color=Etoposide+17AAG<br>0=%{x}<br>1=%{y}<extra></extra>",
         "legendgroup": "Etoposide+17AAG",
         "marker": {
          "color": "#FFA15A",
          "symbol": "circle"
         },
         "mode": "markers",
         "name": "Etoposide+17AAG",
         "showlegend": true,
         "type": "scattergl",
         "x": [
          -0.9660253689923971,
          -1.5042776627094967,
          -3.3240622667758895,
          -2.126660041858909,
          -1.7512917077944687,
          -3.2021598540588707,
          -1.7356038356754693,
          -1.1193622759799762,
          -4.788130694245128,
          -3.3957338295296826,
          -3.5127995193861246,
          -4.604399596960581,
          -8.37641068664383,
          -8.604425007720717,
          -7.7590124397671305,
          -7.78953046402814,
          -8.7192816989693,
          -7.048307840954788,
          -4.8632661377286315,
          -6.158486246831961,
          -9.101937750957624,
          -4.569483282111592,
          -3.528460995468048,
          -7.201755032120439
         ],
         "xaxis": "x",
         "y": [
          6.47150398552331,
          5.51523081083274,
          5.433380104506237,
          5.774573094618833,
          5.441206387702392,
          5.158861021272189,
          4.839381542328099,
          4.803817539326074,
          3.3950951728355703,
          1.5385641824961034,
          3.02689184023346,
          3.0928501332916105,
          -2.133483337292955,
          -0.8261722689263229,
          -2.0497936606882683,
          -1.8415238791301662,
          1.2224882765709701,
          1.148637212365555,
          -0.6338937072857663,
          -0.30376157659986563,
          0.8487585083161909,
          -1.0644693659399322,
          -1.1061049125302431,
          0.024568121933254323
         ],
         "yaxis": "y"
        },
        {
         "hovertemplate": "color=Etoposide+AUY922<br>0=%{x}<br>1=%{y}<extra></extra>",
         "legendgroup": "Etoposide+AUY922",
         "marker": {
          "color": "#19d3f3",
          "symbol": "circle"
         },
         "mode": "markers",
         "name": "Etoposide+AUY922",
         "showlegend": true,
         "type": "scattergl",
         "x": [
          -4.440390000584843,
          -3.6880348521900705,
          -8.152868252994955,
          -4.628247056544464,
          0.9989807794029587,
          -4.026890097454689,
          -2.841035760832687,
          -4.191361901125457,
          -8.571265088891385,
          -11.726686517918177,
          -7.613585929552579,
          -11.766787826157909,
          -3.124183340276814,
          -4.061693321036704,
          -7.2314138965755905,
          -3.8865088163246253,
          -2.4280970055696427,
          -3.1842552044757118,
          -2.0708472887965397,
          -7.0150942012161135,
          -3.530588727584688,
          -0.5617722744051983,
          -2.984461573142571,
          -0.747742189173012
         ],
         "xaxis": "x",
         "y": [
          2.5884530826972734,
          4.408038591945021,
          3.0150134270677014,
          2.058796277867989,
          3.3068064371947012,
          3.4478736280898072,
          5.59579560301314,
          4.025352915734614,
          2.777971825867856,
          1.9806926731152936,
          1.228562449909629,
          3.3293627474312424,
          -3.1983897058191757,
          -2.4401615790804376,
          -1.519864179849782,
          -4.843644317986706,
          -1.9433888845712992,
          -4.978818415920861,
          -4.12669171677834,
          -5.8394918627011405,
          -3.9711040931195565,
          -3.3621251285116656,
          -1.1601619904119864,
          -1.094911123194084
         ],
         "yaxis": "y"
        },
        {
         "hovertemplate": "color=Etoposide+MG132<br>0=%{x}<br>1=%{y}<extra></extra>",
         "legendgroup": "Etoposide+MG132",
         "marker": {
          "color": "#FF6692",
          "symbol": "circle"
         },
         "mode": "markers",
         "name": "Etoposide+MG132",
         "showlegend": true,
         "type": "scattergl",
         "x": [
          -3.347728718952986,
          -2.330185048553923,
          -1.9182896241150484,
          -2.5853927591838564,
          -2.7282563300039127,
          -5.822614783226419,
          5.511642498629184,
          -2.407177335307548,
          -7.8711481642145875,
          -8.565400830930287,
          -7.550543966569407,
          -5.626628378146309,
          -9.422476327331657,
          -8.425610801690757,
          -4.531900827049296,
          -8.923903107783904,
          -3.3282202739737983,
          -1.8782873759688852,
          -2.6753431691880913,
          -0.9568837665990847,
          -2.128098711046995,
          -2.151243310424474,
          -3.094580080869708,
          -3.0798348580190287
         ],
         "xaxis": "x",
         "y": [
          -4.358818301804385,
          -7.584899841502081,
          -8.385609063896425,
          -7.728535820095663,
          -4.41218590432811,
          -3.7439155346417725,
          -7.417999746258494,
          -5.952096486219365,
          0.7361919851961166,
          -1.6919540257472443,
          -4.947966299634444,
          -6.412321006492915,
          1.7364050266145792,
          1.2284000745888588,
          -3.749533497192812,
          -0.1756804731130931,
          -3.7065443040588737,
          -2.363081927964139,
          -5.421312238489991,
          -2.5957967598667917,
          -2.9815980080055873,
          -2.4126955924646856,
          -1.5371634386680715,
          -4.487285513514712
         ],
         "yaxis": "y"
        },
        {
         "hovertemplate": "color=Etoposide+PS341<br>0=%{x}<br>1=%{y}<extra></extra>",
         "legendgroup": "Etoposide+PS341",
         "marker": {
          "color": "#B6E880",
          "symbol": "circle"
         },
         "mode": "markers",
         "name": "Etoposide+PS341",
         "showlegend": true,
         "type": "scattergl",
         "x": [
          7.812687849639428,
          4.5875003021809135,
          7.091894591146972,
          5.6371844500557104,
          7.2941562767902,
          8.200918380494112,
          6.410097909249507,
          8.620801278460672,
          4.57952264965716,
          3.9464434421804593,
          4.727132845041495,
          5.438162366745856,
          -2.965556617156834,
          -3.1630751810292286,
          -6.043853348809201,
          -8.728697250498529,
          -0.08483543566229541,
          -0.9915025810022933,
          -2.893467226777098,
          -3.9738670966437373,
          -3.3799173214512916,
          -0.6553156243967306,
          -3.137343854544904,
          -1.4411342145219246
         ],
         "xaxis": "x",
         "y": [
          -5.884948727172509,
          -7.130759121811899,
          -7.00997553157054,
          -7.054129422231454,
          -7.804102812833396,
          -5.253610596102584,
          -6.975028240191657,
          -4.5825050713813225,
          -5.858485952007011,
          -4.324619037913151,
          -6.123564822592729,
          -6.623006302749202,
          -5.818225481148513,
          -6.9269780538641825,
          -3.1050367739822655,
          -2.6023434994430144,
          -2.3823501482661733,
          -1.2785479523978749,
          -1.0211079976831805,
          -0.7876184476221163,
          -0.38262464615724745,
          -2.9747393297744096,
          -1.0736524247011334,
          -2.742370890642464
         ],
         "yaxis": "y"
        },
        {
         "hovertemplate": "color=Etoposide+SAHA<br>0=%{x}<br>1=%{y}<extra></extra>",
         "legendgroup": "Etoposide+SAHA",
         "marker": {
          "color": "#FF97FF",
          "symbol": "circle"
         },
         "mode": "markers",
         "name": "Etoposide+SAHA",
         "showlegend": true,
         "type": "scattergl",
         "x": [
          8.488144630405627,
          6.312247011913945,
          5.2209715697006285,
          8.237241700005542,
          3.2849218804144305,
          1.3265406643678788,
          1.9173826429797654,
          3.917594743005973,
          -4.235427820837406,
          -2.98116166812104,
          -4.119398624005005,
          -0.8366772264268322,
          -4.59394146488749,
          -2.6806445384969546,
          -6.248623746876072,
          -2.2566460960053565,
          -2.5778637373672746,
          -0.4898572664853669,
          -3.816088436561989,
          -2.1769667453234893,
          -2.8634931878899956,
          -1.1731821787466465,
          -0.12199239520874418,
          -3.6143923385510206
         ],
         "xaxis": "x",
         "y": [
          -0.40183021759739795,
          1.6331413825326435,
          -1.2271474076908022,
          1.715326443394347,
          4.1545899474885095,
          4.0200586741066,
          3.001308751388911,
          4.892301759690313,
          0.516179200476601,
          0.22090042955030584,
          -0.2620367222525121,
          -1.2645297933608546,
          0.5653984797429874,
          0.139407035859117,
          1.3483013139277005,
          -1.8295004151067296,
          -3.6696921297949543,
          -3.0189777515155654,
          0.2743276303097527,
          -1.9088247064314219,
          -4.085981110709631,
          -3.4128736062945073,
          -2.80384184936479,
          -3.561536750293894
         ],
         "yaxis": "y"
        },
        {
         "hovertemplate": "color=Etoposide+Apicidin<br>0=%{x}<br>1=%{y}<extra></extra>",
         "legendgroup": "Etoposide+Apicidin",
         "marker": {
          "color": "#FECB52",
          "symbol": "circle"
         },
         "mode": "markers",
         "name": "Etoposide+Apicidin",
         "showlegend": true,
         "type": "scattergl",
         "x": [
          5.303102522449818,
          7.145748950223873,
          5.891103597681791,
          5.775711225827249,
          -4.073363726867219,
          -3.9150092741680096,
          -3.291505655629173,
          -3.438464537694287,
          -1.7566471007425104,
          -3.0295919206336848,
          -3.842591470802044,
          -1.912743165797617,
          -1.2431233123446588,
          0.0790317130915355,
          0.990989707889308,
          0.822743563977105,
          0.4615658355694172,
          0.7533903013679645,
          -1.0848079558587032,
          -1.6721416317974511,
          -4.108141328397193,
          -3.6671393498230382,
          -1.7838462805644202,
          -2.352850745929139
         ],
         "xaxis": "x",
         "y": [
          -0.570190278629924,
          1.364291193800597,
          0.7843887138406436,
          1.143791329954436,
          -0.07286664079172858,
          0.8077823231902322,
          -1.2261426230757955,
          0.22976884988272636,
          -1.8474450636992823,
          -0.7932475365057295,
          0.0929759865409852,
          -0.3698738038370908,
          -0.8122229142214593,
          -3.28146132747894,
          -4.095991036076036,
          -3.046515524409491,
          -1.963297146598459,
          -0.8357628592845159,
          -1.9635556785950166,
          -0.8637604832959369,
          0.14994163432467716,
          -0.6647247807914678,
          -0.5586613754726517,
          -0.13390840717140637
         ],
         "yaxis": "y"
        },
        {
         "hovertemplate": "color=Gemcitabine+Paclitaxel<br>0=%{x}<br>1=%{y}<extra></extra>",
         "legendgroup": "Gemcitabine+Paclitaxel",
         "marker": {
          "color": "#636efa",
          "symbol": "circle"
         },
         "mode": "markers",
         "name": "Gemcitabine+Paclitaxel",
         "showlegend": true,
         "type": "scattergl",
         "x": [
          12.21215356999615,
          11.706844067226601,
          11.556458195919104,
          10.602268302434341,
          -4.403902765091134,
          -5.028235933661592,
          -6.119108152264345,
          -3.6199834193249476,
          -5.0412180492167336,
          -2.980707390936465,
          -4.990202110191266,
          -5.310323646369986,
          -1.4124011516352915,
          -3.225536271800512,
          -3.1175172236996986,
          -5.127191488748023,
          -4.709500352620374,
          -3.6043169658391165,
          -2.754037123862926,
          -3.474560766240813,
          0.7206756834231103,
          -0.7739517214305962,
          1.04251628432203,
          -0.4509318156062837
         ],
         "xaxis": "x",
         "y": [
          4.033742930955073,
          4.076640820386108,
          2.7341190192424967,
          5.3847395692666495,
          4.177043024941787,
          2.39843001176647,
          1.2536119370357475,
          2.273072523257855,
          1.682959970310481,
          2.656332455899249,
          0.6209720901693159,
          2.8357875282610308,
          3.203657381184729,
          1.7595049117894934,
          1.999115840026126,
          2.525843969067256,
          -0.19473216030670526,
          -0.1602445405911476,
          0.2933281385638598,
          0.4931109440745309,
          0.7184147002023977,
          0.7751702640625964,
          1.3543871364201576,
          0.801345342099637
         ],
         "yaxis": "y"
        },
        {
         "hovertemplate": "color=Gemcitabine+Vinblastine<br>0=%{x}<br>1=%{y}<extra></extra>",
         "legendgroup": "Gemcitabine+Vinblastine",
         "marker": {
          "color": "#EF553B",
          "symbol": "circle"
         },
         "mode": "markers",
         "name": "Gemcitabine+Vinblastine",
         "showlegend": true,
         "type": "scattergl",
         "x": [
          -7.350021266522478,
          -8.2394232715729,
          -8.087988320998596,
          -6.634826633192807,
          -8.894223186402503,
          -8.434957232140249,
          -10.716479158856712,
          -9.801513833385396,
          -8.806974143300245,
          -9.305855922252888,
          -9.695606029480425,
          -8.077411849423823,
          -8.827442475967588,
          -9.619318842372627,
          -6.896325671400548,
          -6.86094393009753,
          -8.162654302952134,
          -5.117951542834774,
          -5.036033903218633,
          -5.894429255451994,
          -0.8278936420530085,
          -1.388516443248629,
          -1.4882152739548415,
          -2.0965991843772573
         ],
         "xaxis": "x",
         "y": [
          0.6292992595599494,
          2.171711689475506,
          0.42649066473946873,
          1.50573161173535,
          0.998685894185124,
          -1.3306169404018606,
          0.1904543041251495,
          0.9193952367489558,
          0.2281555363009163,
          -0.2209774876083371,
          1.056066732707819,
          0.02698255825178594,
          -0.030036513761040055,
          0.08739994326917681,
          -1.7338724451918242,
          -0.9024578371164413,
          -3.4951136685461868,
          -4.8310055703138834,
          -2.1481234602245305,
          -3.814166468531007,
          -3.7968555632416106,
          -2.9710679920884453,
          -2.3060945730920497,
          -4.032854481087267
         ],
         "yaxis": "y"
        },
        {
         "hovertemplate": "color=Gemcitabine+17AAG<br>0=%{x}<br>1=%{y}<extra></extra>",
         "legendgroup": "Gemcitabine+17AAG",
         "marker": {
          "color": "#00cc96",
          "symbol": "circle"
         },
         "mode": "markers",
         "name": "Gemcitabine+17AAG",
         "showlegend": true,
         "type": "scattergl",
         "x": [
          -10.279288780610766,
          -3.88757213130555,
          -2.078820976241083,
          -0.7164909754831682,
          -1.216558001191464,
          -1.677529189059661,
          -1.0801977823646642,
          -3.904810807968504,
          -1.9641258186501216,
          -2.6366226361471603,
          -1.676141815039419,
          -4.3183188213400365,
          -8.37112613627338,
          -6.479734577584526,
          -7.38467947031855,
          -8.49711711298853,
          -9.488108509195342,
          -10.80207029686203,
          -10.546460342419858,
          -11.185713761548367,
          -3.2138764820108268,
          -5.751171555423126,
          -5.1853127102480245,
          -6.5494744691906455
         ],
         "xaxis": "x",
         "y": [
          21.487093297645096,
          6.198636214383797,
          6.216869845327706,
          7.41703422311838,
          7.342524961837518,
          5.299655594492043,
          6.482515549567169,
          7.474505046292013,
          5.50646279593185,
          5.073622958173252,
          6.5241843719649,
          6.226362002106414,
          5.925137363585184,
          5.112102237373923,
          5.631547944932627,
          5.995938678785856,
          2.6601400896963336,
          2.3673536210692383,
          4.424369868232906,
          4.600667833775418,
          -0.518520582511751,
          0.7090747871509062,
          0.8120710297181271,
          0.15916904269991194
         ],
         "yaxis": "y"
        },
        {
         "hovertemplate": "color=Gemcitabine+AUY922<br>0=%{x}<br>1=%{y}<extra></extra>",
         "legendgroup": "Gemcitabine+AUY922",
         "marker": {
          "color": "#ab63fa",
          "symbol": "circle"
         },
         "mode": "markers",
         "name": "Gemcitabine+AUY922",
         "showlegend": true,
         "type": "scattergl",
         "x": [
          -0.9587415335918292,
          -2.7641343293703082,
          -3.935040192635913,
          -1.767780683350955,
          -1.2495694458527038,
          -0.3663996757718955,
          -2.539481848146964,
          -0.8899524967843252,
          -13.267859237725594,
          -15.105366481016809,
          -13.768645097965466,
          -12.188933004137255,
          -7.954762861366214,
          -9.54367196075214,
          -10.076170188267122,
          -9.233151904589901,
          -10.532726658555898,
          -9.686983016593896,
          -9.46776081194465,
          -9.402795901313535,
          -5.9559825679127965,
          -4.594393651618655,
          -4.311065049086484,
          -4.510297162790712
         ],
         "xaxis": "x",
         "y": [
          5.2781615399049,
          5.199930617023709,
          5.618221301744359,
          6.1010491488404845,
          4.242756165531652,
          6.040973577957016,
          5.4853468909578496,
          6.681178912905459,
          4.502254548672839,
          4.491356623037082,
          6.663068715542292,
          3.9035150906544445,
          0.11512107449737503,
          0.23696600364171852,
          2.313612943749562,
          3.0383787401372984,
          -0.5882441870653947,
          -1.765309871672992,
          -1.0963852198314823,
          -1.1160627895809814,
          -1.8121607292267745,
          -2.6499280823525635,
          -2.0083517281171614,
          -2.857600318660522
         ],
         "yaxis": "y"
        },
        {
         "hovertemplate": "color=Gemcitabine+MG132<br>0=%{x}<br>1=%{y}<extra></extra>",
         "legendgroup": "Gemcitabine+MG132",
         "marker": {
          "color": "#FFA15A",
          "symbol": "circle"
         },
         "mode": "markers",
         "name": "Gemcitabine+MG132",
         "showlegend": true,
         "type": "scattergl",
         "x": [
          -1.2330988193698256,
          1.1003034213800358,
          -2.9113117744539294,
          -1.1752052446416812,
          6.864606444849291,
          2.6111280137001787,
          5.448779609427849,
          9.070803719608689,
          -6.492244542876047,
          -7.973789865157432,
          -7.641299317961355,
          -8.790000523865153,
          -7.576538667874516,
          -7.662280829144746,
          -7.5938546120891655,
          -8.080993597560978,
          -9.857430974487581,
          -8.407685402034355,
          -9.732607165939527,
          -8.677984060465622,
          -3.9379696771708512,
          -1.9491105194089173,
          -3.057119714972453,
          -2.9080040160085763
         ],
         "xaxis": "x",
         "y": [
          -10.663432581674002,
          -10.784619491433196,
          -7.327198258503826,
          -9.984017587820633,
          -7.779737334952132,
          -10.284628049204034,
          -8.086906651164254,
          -6.318781708342356,
          -2.6055704664794233,
          -1.6109420189867991,
          -2.711818318624363,
          -0.6297099924460345,
          -2.1484948032853217,
          0.16834953922678028,
          -0.9126648959094451,
          0.8790344964093736,
          -2.154423259016403,
          -4.024131337768349,
          -2.1859581419341922,
          -1.764231947310181,
          -4.097106176303239,
          -5.686976751862886,
          -4.398990711939026,
          -6.125147993883213
         ],
         "yaxis": "y"
        },
        {
         "hovertemplate": "color=Gemcitabine+PS341<br>0=%{x}<br>1=%{y}<extra></extra>",
         "legendgroup": "Gemcitabine+PS341",
         "marker": {
          "color": "#19d3f3",
          "symbol": "circle"
         },
         "mode": "markers",
         "name": "Gemcitabine+PS341",
         "showlegend": true,
         "type": "scattergl",
         "x": [
          6.782238163350924,
          4.356141872618069,
          6.788166402015692,
          8.865858983546781,
          8.83045476056541,
          -0.09942001945253968,
          5.6438332156509015,
          7.9896248282549145,
          1.6653109488373494,
          1.8432862315961038,
          5.910821688557636,
          3.9965612803445776,
          -1.8407365610422277,
          -3.2618660141729645,
          -1.162502428489487,
          -0.95215742699155,
          -7.4987188088062116,
          -7.971318569310577,
          -5.8626870523334285,
          -6.195652937982589,
          -3.7594638270743554,
          -2.8692518993272476,
          -2.007688554567495,
          -3.689071861592195
         ],
         "xaxis": "x",
         "y": [
          -6.939406655813386,
          -7.6090433012411545,
          -6.299631231854274,
          -6.954810585738504,
          -5.232542457153921,
          -8.12126823394514,
          -7.385726063086066,
          -5.930432171548644,
          -6.142728666747866,
          -6.271498719185854,
          -7.350899089146332,
          -6.864442575324397,
          -4.443228408058027,
          -4.306987252076971,
          -6.000801735245956,
          -4.997036623545871,
          -0.5273463929368165,
          0.15304730933409166,
          -1.2678593818474297,
          -0.7327503247042512,
          -2.065859380161544,
          -2.3154585581547558,
          -2.050580347085789,
          -1.7824961656937859
         ],
         "yaxis": "y"
        },
        {
         "hovertemplate": "color=Gemcitabine+SAHA<br>0=%{x}<br>1=%{y}<extra></extra>",
         "legendgroup": "Gemcitabine+SAHA",
         "marker": {
          "color": "#FF6692",
          "symbol": "circle"
         },
         "mode": "markers",
         "name": "Gemcitabine+SAHA",
         "showlegend": true,
         "type": "scattergl",
         "x": [
          11.493668816321078,
          9.587093540798966,
          8.31025641916148,
          9.968538083388163,
          4.922821333282257,
          5.387082624198137,
          4.5645483413277885,
          4.733421126130185,
          -7.612913564000886,
          -7.631902928068622,
          -8.683712100110663,
          -9.171149772492715,
          -10.193187688856266,
          -9.948119503571942,
          -9.24506287023514,
          -9.482668671903543,
          -8.656196927473177,
          -10.348625160556217,
          -8.885898797207128,
          -9.041353962653307,
          0.8279013914413432,
          -2.899893624481384,
          -1.4900770920744064,
          -2.1099349061341983
         ],
         "xaxis": "x",
         "y": [
          -0.645013120294314,
          -0.36881044543602703,
          -0.8226598210835243,
          -0.3432074779987796,
          0.06685063185090591,
          2.115929489810004,
          0.628177298561669,
          1.1895613967612628,
          2.2679935643233624,
          2.467319412900285,
          2.2493246048011235,
          1.4892417029298375,
          1.5614639835668982,
          1.2434561252127823,
          1.2310668377493363,
          2.2975977500293,
          -2.3206305932946356,
          -0.3550565981934426,
          -0.3178223338932678,
          -1.8500138343622314,
          -5.327358273208299,
          -3.3491869907335197,
          -3.242654342913997,
          -4.213908491699972
         ],
         "yaxis": "y"
        },
        {
         "hovertemplate": "color=Gemcitabine+Apicidin<br>0=%{x}<br>1=%{y}<extra></extra>",
         "legendgroup": "Gemcitabine+Apicidin",
         "marker": {
          "color": "#B6E880",
          "symbol": "circle"
         },
         "mode": "markers",
         "name": "Gemcitabine+Apicidin",
         "showlegend": true,
         "type": "scattergl",
         "x": [
          9.414713041542683,
          7.788494135171151,
          8.635593484656237,
          7.4454992730913085,
          -1.5771864448003003,
          -4.876399616894882,
          -2.309620447021241,
          -4.206972296800215,
          -11.151119229684255,
          -11.270531438996185,
          -10.374762220919749,
          -11.394850542673245,
          -10.54185915653872,
          -8.493938209672603,
          -10.487419692259794,
          -10.232114565898705,
          -9.821280794415541,
          -5.5157918798245476,
          -3.158674080584753,
          -7.675005877457463,
          0.7077108765183538,
          -2.3653312483012945,
          -0.03056662561272775,
          -2.387939571228445
         ],
         "xaxis": "x",
         "y": [
          0.030056832927550858,
          -0.9667431195879905,
          0.26042763608361497,
          0.9219692580852397,
          1.9758365517810892,
          2.4240609706414187,
          3.002636563250261,
          3.473014243981382,
          2.5033481081512807,
          3.49650941892577,
          1.5059494927751647,
          1.8536581913690007,
          3.3885839979619194,
          3.3698503396448376,
          3.898095241711613,
          4.010131013321637,
          -2.460234140134213,
          -0.25397841604997823,
          -1.5518039761961835,
          -0.397304379289519,
          -2.6531280552663934,
          -0.846113279282297,
          -2.4021592879443925,
          -1.86344629398704
         ],
         "yaxis": "y"
        },
        {
         "hovertemplate": "color=Paclitaxel+Vinblastine<br>0=%{x}<br>1=%{y}<extra></extra>",
         "legendgroup": "Paclitaxel+Vinblastine",
         "marker": {
          "color": "#FF97FF",
          "symbol": "circle"
         },
         "mode": "markers",
         "name": "Paclitaxel+Vinblastine",
         "showlegend": true,
         "type": "scattergl",
         "x": [
          9.358752631274374,
          9.420646508733661,
          10.486705453369195,
          11.401861267650032,
          3.718405878664178,
          3.536272856412782,
          3.529519714150853,
          3.7284506835466,
          1.900604583696621,
          4.062749641283468,
          4.014777656440323,
          3.9456549210272547,
          4.674655381693695,
          3.797036616746046,
          3.401340994989331,
          3.856358305633004,
          2.5049377578673413,
          -7.6852589124982575,
          3.9983184455063236,
          3.1720755722375245,
          1.0514669659662792,
          2.9756127481589347,
          3.3685480053536003,
          3.7413613068755573
         ],
         "xaxis": "x",
         "y": [
          6.547198914891483,
          4.489013616259141,
          5.171206161315215,
          5.009573324457575,
          4.382318598012601,
          4.536062204455634,
          3.768824195248552,
          3.7174550941750963,
          3.634670263772968,
          2.640711178903237,
          3.893937170323268,
          5.463100165073871,
          3.026036028114075,
          1.9016381633529178,
          3.114327251498521,
          3.7367218172067878,
          2.5943597066315682,
          3.5237561259434953,
          3.3134896852534106,
          3.200852972455244,
          2.768211208593983,
          2.8124471282874572,
          2.890213183224052,
          3.2214050391027182
         ],
         "yaxis": "y"
        },
        {
         "hovertemplate": "color=Paclitaxel+17AAG<br>0=%{x}<br>1=%{y}<extra></extra>",
         "legendgroup": "Paclitaxel+17AAG",
         "marker": {
          "color": "#FECB52",
          "symbol": "circle"
         },
         "mode": "markers",
         "name": "Paclitaxel+17AAG",
         "showlegend": true,
         "type": "scattergl",
         "x": [
          8.687423283454274,
          7.318252376740586,
          5.141382259781653,
          7.169521692053854,
          -7.057147142449662,
          -6.609878399492459,
          -4.445213622472026,
          -6.649387856946468,
          -5.231327247984021,
          -6.3986670077795065,
          -7.897700244200972,
          -6.002026705123395,
          -10.006847441079561,
          -4.4985832479673045,
          -6.916748418985885,
          -7.521081972552957,
          4.929157210043604,
          4.7036271923183905,
          3.537117223652227,
          3.716352425566039,
          3.457654942988406,
          2.963772864813952,
          2.495698932869723,
          3.2034621901460825
         ],
         "xaxis": "x",
         "y": [
          9.112881899180179,
          8.996456181558472,
          8.420475447755994,
          9.603778662495843,
          3.689628301381795,
          3.4678223101037084,
          4.185773535147115,
          3.163014311925783,
          6.677987479065889,
          3.5328330026349053,
          5.248087508289979,
          0.8513231021072614,
          0.22571477209469787,
          2.305912337433065,
          -0.5213721857391217,
          0.3736286187488831,
          5.382350442467785,
          6.755215522876903,
          5.580613721392027,
          5.938269075049049,
          3.610892323370284,
          3.836579184879543,
          3.649059960440959,
          2.737038070954187
         ],
         "yaxis": "y"
        },
        {
         "hovertemplate": "color=Paclitaxel+AUY922<br>0=%{x}<br>1=%{y}<extra></extra>",
         "legendgroup": "Paclitaxel+AUY922",
         "marker": {
          "color": "#636efa",
          "symbol": "circle"
         },
         "mode": "markers",
         "name": "Paclitaxel+AUY922",
         "showlegend": true,
         "type": "scattergl",
         "x": [
          12.02818708408514,
          11.091750568386873,
          9.900775845386276,
          10.423474761921444,
          -6.433725236391658,
          -5.152845200517429,
          -5.010136890628701,
          -5.884360423932165,
          2.643172222469022,
          1.4867469885024953,
          -0.3331257392724509,
          0.9914879054680761,
          4.757076473103128,
          2.117642358462115,
          1.4788160552685623,
          1.6704904324080616,
          4.299499375713728,
          4.375516053961861,
          0.057833718579468334,
          3.903213138129116,
          1.0458296964355995,
          -0.1464660264860619,
          0.47170248403964804,
          3.5469667276574506
         ],
         "xaxis": "x",
         "y": [
          8.496611603195035,
          7.072714689430054,
          8.492822241919185,
          7.975288526707062,
          3.2676822976879034,
          3.3570688713035306,
          4.221350129824519,
          5.396499828794411,
          4.479274134690542,
          7.081461639457302,
          6.96915707127094,
          6.709218630313592,
          3.5603273535111497,
          4.0914424293789375,
          3.7291503581670704,
          3.305305292613836,
          4.285704526068415,
          2.632553160464529,
          3.570996942225347,
          4.070606218729232,
          2.965992452868094,
          1.2870347882145035,
          4.452032548168791,
          2.0802019908082965
         ],
         "yaxis": "y"
        },
        {
         "hovertemplate": "color=Paclitaxel+MG132<br>0=%{x}<br>1=%{y}<extra></extra>",
         "legendgroup": "Paclitaxel+MG132",
         "marker": {
          "color": "#EF553B",
          "symbol": "circle"
         },
         "mode": "markers",
         "name": "Paclitaxel+MG132",
         "showlegend": true,
         "type": "scattergl",
         "x": [
          12.11843012048999,
          12.136748047885856,
          13.467629985242306,
          10.811028284284841,
          5.149427693393006,
          4.627768405642972,
          4.46509455851473,
          4.471140199410629,
          0.89777248963907,
          -1.3466083854658746,
          2.2717697578013274,
          0.5219891976855179,
          2.4269187209043053,
          4.0951606639394225,
          6.136278246754654,
          4.623075608599293,
          2.4600505455532584,
          3.2062480147736583,
          1.958879186502163,
          4.217672124641126,
          2.321876363304654,
          2.969724645898073,
          3.016841246194232,
          0.745714761598587
         ],
         "xaxis": "x",
         "y": [
          -2.316866701869934,
          -2.3665541596487762,
          -2.9247788597659996,
          -3.4842171773812582,
          -6.772813493610179,
          -6.240294900084953,
          -6.754650401557302,
          -6.100774892079343,
          2.211588659875653,
          2.7435747876878955,
          2.187377724085457,
          3.367063053633389,
          2.0126599124342346,
          3.057687602239296,
          1.7343709611350402,
          3.6983095790300093,
          4.412557642655346,
          0.8302074436415715,
          3.2147036921741527,
          2.1974109080181754,
          2.7229889220108294,
          3.1441073480651354,
          1.9531050229800626,
          3.0968404845821524
         ],
         "yaxis": "y"
        },
        {
         "hovertemplate": "color=Paclitaxel+PS341<br>0=%{x}<br>1=%{y}<extra></extra>",
         "legendgroup": "Paclitaxel+PS341",
         "marker": {
          "color": "#00cc96",
          "symbol": "circle"
         },
         "mode": "markers",
         "name": "Paclitaxel+PS341",
         "showlegend": true,
         "type": "scattergl",
         "x": [
          10.074414942513489,
          8.417960202564169,
          7.628460973313456,
          8.247994658850267,
          8.72988787059307,
          8.12020616484985,
          7.063188472609797,
          8.339717733518913,
          8.693655190937276,
          8.794356273040968,
          7.837356646279562,
          8.510518003639396,
          5.125459653171961,
          2.5938191283768264,
          3.773986330166435,
          2.0906217777422063,
          -2.6044347248106505,
          2.5414833598149245,
          1.705895965313171,
          1.3123718067884107,
          1.6466994770253138,
          2.8104596809641875,
          2.566345685000234,
          1.1335576176415
         ],
         "xaxis": "x",
         "y": [
          -3.811831517868084,
          -4.122944443091964,
          -4.620219329727868,
          -6.385516015923939,
          -2.7772311274885904,
          -6.220992785821837,
          -5.406246294982331,
          -5.045808857491156,
          -4.881174371446053,
          -3.6493040254527744,
          -4.804898120541268,
          -2.841495710225356,
          -4.490263254282858,
          -4.581457561353158,
          -4.822943396890104,
          -4.8526590799811276,
          -1.4774922946605822,
          3.8374898136643094,
          3.1433373590808085,
          4.05112737580139,
          3.177384429299816,
          3.186876683600119,
          2.680356610343565,
          3.007192699277671
         ],
         "yaxis": "y"
        },
        {
         "hovertemplate": "color=Paclitaxel+SAHA<br>0=%{x}<br>1=%{y}<extra></extra>",
         "legendgroup": "Paclitaxel+SAHA",
         "marker": {
          "color": "#ab63fa",
          "symbol": "circle"
         },
         "mode": "markers",
         "name": "Paclitaxel+SAHA",
         "showlegend": true,
         "type": "scattergl",
         "x": [
          7.89629140534159,
          8.521681842970864,
          9.261541369575227,
          8.40541027785043,
          5.53949330910139,
          5.096802157921607,
          7.094312724243102,
          6.927374863567238,
          -6.744975098923821,
          -6.519426075479198,
          -5.457981996524052,
          -5.606986123568391,
          3.2546278247802567,
          3.413062691963435,
          5.146976546104487,
          3.7041518186812077,
          2.511318216148428,
          0.16753761661188482,
          0.7512322237484688,
          3.278836600634102,
          4.992137585265687,
          2.5435483140856485,
          5.219515551746233,
          2.167862611174279
         ],
         "xaxis": "x",
         "y": [
          7.6707289736949065,
          5.9056129762310405,
          4.629404927292536,
          6.013715091889161,
          5.635315964186955,
          5.111951494027815,
          3.429891232916611,
          3.6782710210508625,
          2.7005822305136316,
          1.632979756324221,
          2.932530303488755,
          1.6608701946482904,
          4.904667266067563,
          4.164215424609474,
          3.9034770739500044,
          5.906110235318424,
          3.216788645045714,
          2.5947479291529376,
          2.4432444771693542,
          2.5163832689349754,
          1.8431727272467588,
          3.5346118694631286,
          2.376113672922818,
          2.568803049553059
         ],
         "yaxis": "y"
        },
        {
         "hovertemplate": "color=Paclitaxel+Apicidin<br>0=%{x}<br>1=%{y}<extra></extra>",
         "legendgroup": "Paclitaxel+Apicidin",
         "marker": {
          "color": "#FFA15A",
          "symbol": "circle"
         },
         "mode": "markers",
         "name": "Paclitaxel+Apicidin",
         "showlegend": true,
         "type": "scattergl",
         "x": [
          9.26363200597628,
          11.431358859898985,
          10.461103874674228,
          9.09744662335222,
          1.8031507632774755,
          -0.4729889952889742,
          1.2420066515791013,
          -2.797811249311753,
          -5.568891527399546,
          -7.698435930659452,
          -6.064895932264621,
          -3.4877872768639726,
          3.735783627156494,
          3.7906253887532477,
          3.7867105992869625,
          3.459654011796269,
          4.963536914549433,
          3.7614920744618785,
          4.802366212375224,
          3.775921119947541,
          2.783402204819337,
          3.6876946815138734,
          2.3630538819962434,
          1.0061359781356654
         ],
         "xaxis": "x",
         "y": [
          6.907732587852111,
          4.385274174321722,
          6.014468180226643,
          4.306075376586015,
          2.258419099489046,
          1.8875706494041058,
          3.9701418677248452,
          1.1781347341331525,
          3.0059768593203176,
          1.5831756065594187,
          2.125991970067196,
          4.3133102208754694,
          5.376022367942433,
          5.6569620081683185,
          5.121844332200851,
          6.064093106396976,
          3.922978774188991,
          4.697028646547191,
          4.805507329170323,
          4.838307084088217,
          3.032002979845364,
          1.9605102477767862,
          3.703575152793736,
          1.309662603147466
         ],
         "yaxis": "y"
        },
        {
         "hovertemplate": "color=Vinblastine+17AAG<br>0=%{x}<br>1=%{y}<extra></extra>",
         "legendgroup": "Vinblastine+17AAG",
         "marker": {
          "color": "#19d3f3",
          "symbol": "circle"
         },
         "mode": "markers",
         "name": "Vinblastine+17AAG",
         "showlegend": true,
         "type": "scattergl",
         "x": [
          -2.0423766387330278,
          -2.1530339712097804,
          -2.1677446497926134,
          -1.4525234916373353,
          -2.3258314059278726,
          -1.5953032256796669,
          -0.31484112737516284,
          -1.9163600596552923,
          -2.0909773010242976,
          -4.932252905968747,
          -3.441684797593255,
          -5.931962905917011,
          -6.594818622123643,
          -8.029402834369451,
          -6.705404131346257,
          -7.282182100663731,
          -5.4992456420660485,
          -6.996236481649196,
          -3.1352589491617757,
          -3.695697414316386,
          -5.063335786905766,
          -3.2784917498946187,
          -6.746119667217517,
          -2.723704176579415
         ],
         "xaxis": "x",
         "y": [
          4.746489164236537,
          4.792528003929071,
          4.604700357870785,
          5.867481718469182,
          5.5530226136346075,
          4.832145945586231,
          5.272174775343936,
          3.6537202575717327,
          3.5697883854825196,
          3.7764652533736522,
          2.472033485659491,
          2.729096469767559,
          -0.7337428592131136,
          -1.2791824374216108,
          0.12230599917765339,
          0.7439376468272287,
          1.3188893679549456,
          -0.5163699775048698,
          -0.5117580889323844,
          0.8629468145307564,
          0.392672305513676,
          -2.1478433894745343,
          1.3975502192493008,
          -2.297020896389728
         ],
         "yaxis": "y"
        },
        {
         "hovertemplate": "color=Vinblastine+AUY922<br>0=%{x}<br>1=%{y}<extra></extra>",
         "legendgroup": "Vinblastine+AUY922",
         "marker": {
          "color": "#FF6692",
          "symbol": "circle"
         },
         "mode": "markers",
         "name": "Vinblastine+AUY922",
         "showlegend": true,
         "type": "scattergl",
         "x": [
          -4.7894860946989555,
          -5.703579404752211,
          -2.612752541641328,
          -3.5148048751431866,
          -4.646202741145356,
          -2.9818344046754444,
          -4.29209525095858,
          -3.5111878831763716,
          -7.033831802160808,
          -4.381141728194813,
          -6.605388356553943,
          -4.219270141208127,
          -2.0624928185948215,
          0.677426312579914,
          -2.2227055284495854,
          0.13079076117512822,
          -1.7417993583359512,
          -0.06841527936515823,
          1.0626386035974291,
          -0.9503099609010834,
          -0.5391912465324092,
          -0.4082156317909031,
          0.5254661742554534,
          2.5364919181818553
         ],
         "xaxis": "x",
         "y": [
          3.690113203632954,
          6.338503559387174,
          3.694767021465168,
          6.156946292285195,
          3.861503003540746,
          5.25497114623252,
          4.268091717934846,
          5.525047247152487,
          3.3730672100686543,
          -0.2577693490514428,
          1.4380146963628602,
          1.3768115590566719,
          -1.2029027115052389,
          -1.9515361157199627,
          -0.8530001765316827,
          -2.6535627883052224,
          -1.9118521102824722,
          -2.5308566656048432,
          -4.056996683988478,
          -2.346643664100327,
          -5.042323557136739,
          -3.787866238156561,
          -4.151281345420384,
          -5.823867987635642
         ],
         "yaxis": "y"
        },
        {
         "hovertemplate": "color=Vinblastine+MG132<br>0=%{x}<br>1=%{y}<extra></extra>",
         "legendgroup": "Vinblastine+MG132",
         "marker": {
          "color": "#B6E880",
          "symbol": "circle"
         },
         "mode": "markers",
         "name": "Vinblastine+MG132",
         "showlegend": true,
         "type": "scattergl",
         "x": [
          -1.8883240757829127,
          -2.8626438100797196,
          -0.9640343831066216,
          2.9087361622663495,
          5.851530483503514,
          4.681379681139295,
          2.625458000694982,
          1.6756850506461316,
          -7.171212907401669,
          -8.042666258393309,
          -5.903413340866639,
          -6.0828630666508845,
          -0.672137004943234,
          -1.4022088619665922,
          0.31814654416781385,
          -1.9709314407643908,
          -1.905832130053205,
          -0.5920658505269898,
          -1.4064915866694128,
          1.0602756541681546,
          -0.4430147233789141,
          -1.7134298655953395,
          -1.729026167693603,
          -0.5959865391360879
         ],
         "xaxis": "x",
         "y": [
          -11.014111824341592,
          -6.880953031613075,
          -12.04303310319503,
          -9.127356279906914,
          -6.101329643944477,
          -6.4657785244549615,
          -7.641635341387306,
          -8.200300183825275,
          0.7300952021402055,
          0.351419950360416,
          -0.7423010519712485,
          -1.209877164354753,
          -2.3599329238875564,
          -1.316958704794235,
          -2.204431148756915,
          -2.725402300842437,
          -3.401972967526456,
          -3.733445070344597,
          -3.26174485972902,
          -4.382940046832214,
          -4.233720375055537,
          -3.447221426314437,
          -4.102883993562183,
          -2.776173435668088
         ],
         "yaxis": "y"
        },
        {
         "hovertemplate": "color=Vinblastine+PS341<br>0=%{x}<br>1=%{y}<extra></extra>",
         "legendgroup": "Vinblastine+PS341",
         "marker": {
          "color": "#FF97FF",
          "symbol": "circle"
         },
         "mode": "markers",
         "name": "Vinblastine+PS341",
         "showlegend": true,
         "type": "scattergl",
         "x": [
          9.072935542718842,
          8.075138228738528,
          6.897907568186661,
          7.532513298519507,
          6.962982931681486,
          9.507865556723157,
          6.826366397404655,
          6.226807771521428,
          5.472505335786862,
          4.180101283335357,
          4.915552440789574,
          5.2766518211472695,
          -4.664354242517837,
          -3.497122565994598,
          -2.863771663126509,
          -3.373401094283032,
          -4.150280997535036,
          -2.1080429114310926,
          -2.294870991262038,
          -2.8381816715569035,
          0.1886920121209292,
          -0.3458941016417936,
          -1.8447743910349548,
          -2.5545564325270758
         ],
         "xaxis": "x",
         "y": [
          -5.073119190204013,
          -6.951466940878178,
          -7.896311306653975,
          -6.258522234849079,
          -5.446878854596729,
          -6.470550778292125,
          -6.917981581652192,
          -3.9403451886416416,
          -6.195135803830166,
          -6.059831660806295,
          -6.283533025691075,
          -6.965291250705013,
          -4.454990305902983,
          -7.414657651532449,
          -6.70780598587551,
          -5.891446772289337,
          -0.9969081402803277,
          0.667591157056359,
          -0.3433797758398094,
          -0.0013082211861364318,
          -5.205825762482063,
          -2.3365780149490756,
          -1.7403801677525397,
          -0.6838908798449549
         ],
         "yaxis": "y"
        },
        {
         "hovertemplate": "color=Vinblastine+SAHA<br>0=%{x}<br>1=%{y}<extra></extra>",
         "legendgroup": "Vinblastine+SAHA",
         "marker": {
          "color": "#FECB52",
          "symbol": "circle"
         },
         "mode": "markers",
         "name": "Vinblastine+SAHA",
         "showlegend": true,
         "type": "scattergl",
         "x": [
          6.701108825307788,
          7.08838322201024,
          6.057935381762829,
          5.806163366871408,
          3.4993515394679373,
          3.455253274084359,
          2.9731303464143837,
          2.0463828435005627,
          -4.469531391333292,
          -5.861092639796913,
          -6.678831238734187,
          -4.0300508399445505,
          -5.714283700726683,
          -0.6763435494533525,
          -2.109443828172093,
          -6.088402767852602,
          -1.5240076898230266,
          -0.682599819258453,
          -4.286097777142843,
          -2.896506800312042,
          -3.521178229708718,
          -4.935188079000709,
          -2.938994397723849,
          -3.2521579551866386
         ],
         "xaxis": "x",
         "y": [
          4.394179608165427,
          2.720948133784598,
          3.038574111805322,
          3.5865137786501435,
          4.018008465508525,
          1.3007939357171288,
          4.51199224455793,
          4.358964754521407,
          1.1879020217537073,
          -0.13716476394320998,
          2.305902758394949,
          0.09737876781814801,
          0.35805379662399645,
          -2.9083800849953514,
          0.0182928855869186,
          2.1311830639911045,
          -2.5137653860486275,
          -2.203144257967085,
          0.8335621152507862,
          -0.6349641967858587,
          -1.8793351728951149,
          -1.7261893473295935,
          -0.9100807232315435,
          -0.44850661071877873
         ],
         "yaxis": "y"
        },
        {
         "hovertemplate": "color=Vinblastine+Apicidin<br>0=%{x}<br>1=%{y}<extra></extra>",
         "legendgroup": "Vinblastine+Apicidin",
         "marker": {
          "color": "#636efa",
          "symbol": "circle"
         },
         "mode": "markers",
         "name": "Vinblastine+Apicidin",
         "showlegend": true,
         "type": "scattergl",
         "x": [
          5.401150728591934,
          5.246979915907721,
          6.454183614124648,
          5.924698687515261,
          -3.810113158051829,
          -4.869662560024741,
          -2.65794335896647,
          -4.017422829897619,
          -4.655644564987423,
          -5.302540804535655,
          -4.574087017157634,
          -4.816433051345313,
          -1.1205525239769447,
          -2.722565564557218,
          -0.8441747114910493,
          -0.3121924201633494,
          -2.0350494583142202,
          -0.8646034407638135,
          -2.4331550751965603,
          -0.4986824204862268,
          -0.7112399317983885,
          -0.9656550510042096,
          -1.0280400630372517,
          -0.5203427401201919
         ],
         "xaxis": "x",
         "y": [
          1.6133365982329806,
          1.8611016546404286,
          2.009918800958424,
          1.7920477198545404,
          -1.0136416960949708,
          2.0923098760425995,
          3.314759121289411,
          1.2415838618833186,
          -0.4012352512112876,
          0.45280793181424933,
          0.21871897234728266,
          1.6603956432528366,
          -1.040985388442806,
          1.5266897031952116,
          0.6530187357158573,
          -0.44461696244232535,
          -0.9262779103256938,
          -1.2604459862764608,
          0.357130564709864,
          -2.425906352114824,
          -1.9772398417474937,
          -1.2253073682609925,
          -0.5377134783294938,
          -3.431865450399956
         ],
         "yaxis": "y"
        },
        {
         "hovertemplate": "color=17AAG+AUY922<br>0=%{x}<br>1=%{y}<extra></extra>",
         "legendgroup": "17AAG+AUY922",
         "marker": {
          "color": "#EF553B",
          "symbol": "circle"
         },
         "mode": "markers",
         "name": "17AAG+AUY922",
         "showlegend": true,
         "type": "scattergl",
         "x": [
          -2.105926447762098,
          -1.492689661201813,
          -1.391289955520739,
          -3.4834589543638983,
          -3.9670395449417386,
          -2.1609506120737554,
          -2.418914929627111,
          -3.675755921505217,
          -3.4827624680903893,
          -2.056708816811225,
          -2.620953713796581,
          -2.4126332277726923,
          -4.643261675477803,
          -7.386377567782223,
          -7.332996470823904,
          -8.462910170721843,
          -5.419702379538331,
          -3.6388219524928616,
          -1.7510001418559622,
          -2.3595775069004117,
          -4.614946427059666,
          -5.6756385541580405,
          -2.788371252271448,
          -4.486236165226539
         ],
         "xaxis": "x",
         "y": [
          5.6730565145395975,
          6.057691498437924,
          5.482402822794212,
          6.167956021604581,
          5.299691849674698,
          5.078699701352583,
          5.839662702581991,
          6.13294522423453,
          7.237741429903143,
          6.5794443132023055,
          5.60653807582538,
          5.698249768166561,
          0.14406879298732736,
          0.9890467100102938,
          -0.30236475635601356,
          0.962839614658029,
          0.33908990482306656,
          0.28511827383895627,
          -0.482952888249235,
          -0.23505951812050338,
          1.3140363113852958,
          2.0879218888328155,
          0.25026315324398174,
          1.0366839243470203
         ],
         "yaxis": "y"
        },
        {
         "hovertemplate": "color=17AAG+MG132<br>0=%{x}<br>1=%{y}<extra></extra>",
         "legendgroup": "17AAG+MG132",
         "marker": {
          "color": "#00cc96",
          "symbol": "circle"
         },
         "mode": "markers",
         "name": "17AAG+MG132",
         "showlegend": true,
         "type": "scattergl",
         "x": [
          10.156075555265458,
          8.95390905183263,
          8.252210621583663,
          8.500949788044526,
          9.570376688859554,
          9.132704872838218,
          5.770629841064614,
          7.434574195024192,
          -5.69317433123311,
          -4.643663361720482,
          -8.705606797924233,
          -6.510213175141425,
          -9.22929937718263,
          -8.720921234309555,
          -7.809633609715724,
          -6.722115935658443,
          -6.115118636549256,
          -4.170026568227187,
          -5.447115718689269,
          -5.32954788620443,
          -3.8068658669324336,
          -2.07770792681373,
          -3.1484702852977597,
          -6.265503778513291
         ],
         "xaxis": "x",
         "y": [
          1.1332139500038787,
          2.305406301490912,
          3.097082908649846,
          2.048758547600427,
          2.440078217971192,
          3.8281073346116514,
          3.6569917226882125,
          5.72913027161625,
          2.3683546753853366,
          2.3940678462067084,
          3.410286660041186,
          3.6452357830852087,
          1.4184436808903818,
          0.2913676026047299,
          0.5532522215114428,
          1.4805359050172635,
          2.025115557440077,
          0.4887683385882631,
          0.7590966503831326,
          2.618412473634876,
          0.684096108716275,
          -0.2544898071284235,
          0.8737624055976027,
          1.1242620940856167
         ],
         "yaxis": "y"
        },
        {
         "hovertemplate": "color=17AAG+PS341<br>0=%{x}<br>1=%{y}<extra></extra>",
         "legendgroup": "17AAG+PS341",
         "marker": {
          "color": "#ab63fa",
          "symbol": "circle"
         },
         "mode": "markers",
         "name": "17AAG+PS341",
         "showlegend": true,
         "type": "scattergl",
         "x": [
          9.899842988973417,
          1.5142459290090233,
          8.282572596981502,
          9.567456275477879,
          0.38592351790788565,
          1.8350097746594243,
          7.634927801807219,
          4.834712506044997,
          2.126918217018907,
          -0.5872992915922626,
          4.712805520665577,
          8.999245217943812,
          -3.244731885780165,
          -6.953324423583038,
          -9.191639644370055,
          -9.361736349409002,
          -8.000297519901874,
          -7.0842481742041254,
          -5.31720461180534,
          -7.858475493313563,
          -4.835979616105152,
          -3.848885733104016,
          -4.399413580292775,
          -2.320853037278688
         ],
         "xaxis": "x",
         "y": [
          0.22373510924338721,
          -5.312306112493436,
          -1.7429107750564419,
          0.7920427385209462,
          -2.900833784820661,
          -3.958204205032276,
          -0.4297604069719656,
          -1.4740120949025033,
          -0.9848272343712683,
          -1.9804200764712787,
          -1.7900731544507695,
          3.3909877520821485,
          1.3043555827628772,
          1.8726321752394604,
          1.513168217030558,
          0.09152285930482745,
          1.951437832160069,
          0.968821506803877,
          0.004083427970232774,
          1.488659045294774,
          -0.3573660499492733,
          -1.2554509796328088,
          0.5218230473095052,
          -1.3850103197356243
         ],
         "yaxis": "y"
        },
        {
         "hovertemplate": "color=17AAG+SAHA<br>0=%{x}<br>1=%{y}<extra></extra>",
         "legendgroup": "17AAG+SAHA",
         "marker": {
          "color": "#FFA15A",
          "symbol": "circle"
         },
         "mode": "markers",
         "name": "17AAG+SAHA",
         "showlegend": true,
         "type": "scattergl",
         "x": [
          2.4803709337134836,
          2.743300363220884,
          1.2869047992830118,
          1.952688274377284,
          -1.6518607716884843,
          -0.8814546538042307,
          -1.454791970180337,
          -2.3254480565944746,
          -7.123033191309753,
          -6.204457612354186,
          -7.336492424543434,
          -6.020817414352502,
          -10.295871572551611,
          -9.007102002452008,
          -7.85458289557207,
          -11.896478801913023,
          -6.1500539467710285,
          -5.405174837622956,
          -7.5350690393409705,
          -6.791236423004596,
          -6.545502104276322,
          -5.598940149487264,
          -4.158109413036208,
          -3.8973483836415292
         ],
         "xaxis": "x",
         "y": [
          8.715348333292255,
          8.957085024773262,
          8.232418494464786,
          8.942204856790818,
          7.942462387637704,
          8.790808328519196,
          8.978880546306542,
          8.783083439850413,
          6.615748914790719,
          5.934835023097364,
          5.856448612934907,
          7.5136019992674665,
          3.42346989214868,
          2.5853066704933405,
          1.7727380871986127,
          3.0754636168226788,
          0.8528285062641866,
          1.108886633121401,
          2.088416536380219,
          1.8343052187585451,
          1.049454605676307,
          -0.4661182368593187,
          -1.262729854885413,
          -1.4798230398246173
         ],
         "yaxis": "y"
        },
        {
         "hovertemplate": "color=17AAG+Apicidin<br>0=%{x}<br>1=%{y}<extra></extra>",
         "legendgroup": "17AAG+Apicidin",
         "marker": {
          "color": "#19d3f3",
          "symbol": "circle"
         },
         "mode": "markers",
         "name": "17AAG+Apicidin",
         "showlegend": true,
         "type": "scattergl",
         "x": [
          -0.49004018162641455,
          -0.5463151410642738,
          -0.39640279659259736,
          0.37924642091583965,
          -5.312231435941856,
          -7.620324604841894,
          -5.3664763363260475,
          -7.335973664216414,
          -9.011560809814194,
          -7.579414585441277,
          -7.683040164528951,
          -10.079632908615304,
          -9.618471359600457,
          -9.285888237506674,
          -7.978365243592153,
          -12.34086585730585,
          -4.5111731062344775,
          -5.480867378692309,
          -3.4626503210369917,
          -6.2677626414127205,
          -3.1036382695585725,
          -1.3718676053961567,
          -1.7729335543974003,
          -6.239218791909292
         ],
         "xaxis": "x",
         "y": [
          8.472824018201546,
          8.588257107586434,
          8.644812377647579,
          9.443934444201423,
          8.96222189740914,
          7.200924566560512,
          6.964570994457733,
          7.0590613225487315,
          4.038072354576015,
          3.936000219548695,
          4.930771519683771,
          5.617583206932397,
          2.4949206713494445,
          2.233520636189736,
          1.9495798079609874,
          3.02066541041889,
          1.0953657802252967,
          1.3662835762040788,
          0.5597802794418695,
          2.396329036045828,
          0.36762285128663713,
          -2.432637443575238,
          -0.6295823415116094,
          1.1907014030447876
         ],
         "yaxis": "y"
        },
        {
         "hovertemplate": "color=AUY922+MG132<br>0=%{x}<br>1=%{y}<extra></extra>",
         "legendgroup": "AUY922+MG132",
         "marker": {
          "color": "#FF6692",
          "symbol": "circle"
         },
         "mode": "markers",
         "name": "AUY922+MG132",
         "showlegend": true,
         "type": "scattergl",
         "x": [
          7.81530673087314,
          8.839818936280682,
          0.8999169274437099,
          -1.7903272683009954,
          5.644273287652013,
          7.952964926402562,
          0.11071763284739865,
          2.057211987831506,
          -10.26245779694804,
          -8.923137553532609,
          -12.101313721874275,
          -10.608816962015382,
          -2.09695424391347,
          -5.827565153468149,
          -3.0943324040083438,
          -3.5316941780770845,
          -2.6872333096911047,
          -1.7857116679943579,
          -2.782495053835972,
          -6.748094982774298,
          -3.273272499794884,
          0.8622260494784945,
          -3.8308324143164487,
          -1.132778912005219
         ],
         "xaxis": "x",
         "y": [
          0.5273563904170232,
          0.4298782405377238,
          -4.00304150433713,
          -8.168524075469731,
          -1.842362096122367,
          1.2779110841834216,
          -6.701071406795796,
          -4.221576054154941,
          4.333614156537347,
          2.2614912693697313,
          2.665697545467233,
          0.8134104117601414,
          -1.5458846964124406,
          -1.777046774210942,
          -1.2151663166789912,
          -1.326728237286887,
          -2.5072998096431314,
          -2.4090671455166213,
          -1.5326478569724686,
          -6.931362737520694,
          -2.860392398314783,
          -4.089459469248168,
          -5.055985295576112,
          -5.941623048548287
         ],
         "yaxis": "y"
        },
        {
         "hovertemplate": "color=AUY922+PS341<br>0=%{x}<br>1=%{y}<extra></extra>",
         "legendgroup": "AUY922+PS341",
         "marker": {
          "color": "#B6E880",
          "symbol": "circle"
         },
         "mode": "markers",
         "name": "AUY922+PS341",
         "showlegend": true,
         "type": "scattergl",
         "x": [
          9.252021574476265,
          8.354867612978873,
          9.718203204804132,
          9.249024994517512,
          9.612067991477454,
          8.91949060748841,
          9.385131581865375,
          9.841131737761057,
          5.256313207081101,
          6.1984348382605905,
          6.683318497967281,
          5.835663335048818,
          -7.15902578528735,
          -5.880408890434867,
          -4.051711979575209,
          -7.806798046964596,
          -2.5654552845195973,
          -3.4945076871522747,
          -5.610566722009029,
          -4.195317064126994,
          -0.8691560486780975,
          -0.5988386424216762,
          0.024233192474779897,
          -0.8182045980559579
         ],
         "xaxis": "x",
         "y": [
          2.768022118378861,
          2.2418442219642714,
          2.6719690383656576,
          1.9491725173818324,
          1.1064870891617407,
          3.5729270442983476,
          2.117879106943818,
          2.1721762762078174,
          0.5601612684720262,
          -2.128699521534035,
          -0.8163887068834489,
          0.7751184099653509,
          -3.893585126059248,
          -3.716844996783274,
          -5.206157094498581,
          -2.6303356345359172,
          -0.24273870537797393,
          0.42336552115598897,
          1.0124187724062328,
          0.6847426283161683,
          -2.1162742564291737,
          -3.264178913059913,
          -2.517323227042724,
          -1.8715564935330435
         ],
         "yaxis": "y"
        },
        {
         "hovertemplate": "color=AUY922+SAHA<br>0=%{x}<br>1=%{y}<extra></extra>",
         "legendgroup": "AUY922+SAHA",
         "marker": {
          "color": "#FF97FF",
          "symbol": "circle"
         },
         "mode": "markers",
         "name": "AUY922+SAHA",
         "showlegend": true,
         "type": "scattergl",
         "x": [
          3.249326309632192,
          3.993671030522498,
          0.7681650117016136,
          0.23814416970291732,
          -0.8889857014612376,
          -1.536103566457789,
          -2.8223640623040436,
          -1.7006672252272583,
          -6.128650000774104,
          -6.268379693465086,
          -10.458736434865981,
          -8.162233748529848,
          -5.579328161100242,
          -5.783133423647727,
          -3.444521125960471,
          -3.161195732394261,
          -1.7449708424369048,
          -5.825745856204927,
          -0.7168416098665972,
          -2.875138365972078,
          -3.776269312708577,
          0.6611024597350222,
          -0.3292669822590823,
          -1.4595589301055187
         ],
         "xaxis": "x",
         "y": [
          7.407205841774922,
          8.535734011172579,
          6.679426032547763,
          8.691329430706535,
          9.487801470486303,
          8.267852733930205,
          9.178535583923766,
          8.466504084929548,
          3.3363986644035206,
          3.114076232954846,
          4.071765976751638,
          2.470027169554825,
          1.5809365573875587,
          1.5593576258858803,
          -0.4301129751501376,
          -0.2188914257970136,
          -1.6235222687406845,
          -0.35366945555648344,
          -2.774989541439781,
          -1.7061548150606927,
          -1.1948416146144607,
          -4.681177511183448,
          -3.519922403542391,
          -3.4591683436246115
         ],
         "yaxis": "y"
        },
        {
         "hovertemplate": "color=AUY922+Apicidin<br>0=%{x}<br>1=%{y}<extra></extra>",
         "legendgroup": "AUY922+Apicidin",
         "marker": {
          "color": "#FECB52",
          "symbol": "circle"
         },
         "mode": "markers",
         "name": "AUY922+Apicidin",
         "showlegend": true,
         "type": "scattergl",
         "x": [
          -0.18315022595982694,
          0.9113447778342169,
          -2.589085231087937,
          -1.7562803954000898,
          -3.028899016553771,
          -4.803361188053296,
          -5.28596673489281,
          -3.591466496462522,
          -9.828971446812783,
          -9.192601483888733,
          -10.32840241797329,
          -8.831809903177017,
          -6.101014647072975,
          -4.41140945476541,
          -5.242803697784217,
          -3.6015916816288795,
          0.35080239739901886,
          -1.9052010067608343,
          1.506431983072065,
          -3.6550464165445864,
          -3.4789240520018647,
          -1.9563141765254601,
          -1.355750315780451,
          -0.15392685885844323
         ],
         "xaxis": "x",
         "y": [
          7.38724142696143,
          7.731190324872041,
          5.749751486311301,
          7.778069719344321,
          5.42688988282902,
          6.649947333972802,
          7.546298484746094,
          7.109190538188213,
          4.523732861139994,
          5.006639479155511,
          5.511888882729409,
          5.4570892157969855,
          0.7729495057117386,
          2.2125214165389533,
          3.484600070319383,
          1.5874478587694278,
          -3.015339418224622,
          -1.0913139305722865,
          -3.576737690504605,
          -0.5421404971856812,
          -1.611966607026083,
          -2.583030843957747,
          -2.6030859588450124,
          -1.6694073854277147
         ],
         "yaxis": "y"
        },
        {
         "hovertemplate": "color=MG132+PS341<br>0=%{x}<br>1=%{y}<extra></extra>",
         "legendgroup": "MG132+PS341",
         "marker": {
          "color": "#636efa",
          "symbol": "circle"
         },
         "mode": "markers",
         "name": "MG132+PS341",
         "showlegend": true,
         "type": "scattergl",
         "x": [
          6.969061082067487,
          9.344747923708237,
          9.033684754468773,
          8.135479184599655,
          6.729581579809177,
          10.093300443820752,
          7.923066685808473,
          8.531296577630021,
          6.117420453652848,
          7.843873613981331,
          4.423770906544659,
          6.76996274494626,
          -4.610309730365767,
          -4.126304418338626,
          -2.502869508651027,
          -4.626123870002921,
          -6.939360503677379,
          -3.2536330637677793,
          -7.875456084123932,
          -4.990100439294809,
          -2.0138701544061726,
          -1.5248564062076657,
          -0.2996814731785853,
          -1.3632992605138132
         ],
         "xaxis": "x",
         "y": [
          -7.895302015391008,
          -5.486840408271516,
          -6.733135292028176,
          -5.616819550880414,
          -7.345294664955543,
          -4.75815820831453,
          2.0001304487207,
          -1.1684990010375036,
          -3.3889302096536413,
          -4.556838164532571,
          -4.421957418820345,
          -4.273430901366312,
          -6.4113079163210145,
          -6.649169286026892,
          -5.8453436539417245,
          -6.8893791026043845,
          2.1905898711739042,
          -0.36164522306609037,
          2.3596930615590552,
          2.0376836205034885,
          -3.234851371315234,
          -2.7945083624535627,
          -2.5661337769737065,
          -0.402244183842084
         ],
         "yaxis": "y"
        },
        {
         "hovertemplate": "color=MG132+SAHA<br>0=%{x}<br>1=%{y}<extra></extra>",
         "legendgroup": "MG132+SAHA",
         "marker": {
          "color": "#EF553B",
          "symbol": "circle"
         },
         "mode": "markers",
         "name": "MG132+SAHA",
         "showlegend": true,
         "type": "scattergl",
         "x": [
          0.0013084557698002641,
          -1.730251669099735,
          -5.148856169987269,
          -0.7067391201059688,
          -4.4109623097658615,
          -4.8779766970697995,
          -2.444518165558496,
          -1.8994100889039962,
          8.64279187300746,
          8.399693992802531,
          8.440656971299171,
          7.869204206453845,
          -3.446529917521762,
          -4.909289353183039,
          -6.004277793643233,
          -4.432198166999813,
          -1.9818446063098254,
          -4.111006895462686,
          -3.284401581728809,
          -3.560816796483438,
          -2.0149827380388556,
          -0.4357669360839235,
          -4.215018715707018,
          -3.0698761010593576
         ],
         "xaxis": "x",
         "y": [
          -9.809712074101807,
          -9.430927021960413,
          -9.245578690463404,
          -10.101891093421926,
          -6.370903440039692,
          -6.1926514709955045,
          -6.926555887416868,
          -8.081322496249143,
          -4.259810880625907,
          -3.9932903719567165,
          -3.7999504604132306,
          -4.098016371981602,
          1.0458799869385087,
          1.5686492586786636,
          1.3376247289536283,
          1.1379470630879747,
          -1.5454811426614536,
          -0.1392644201220574,
          -0.9826754201911483,
          -0.7239905884535593,
          -2.2514852548763655,
          -3.5177140435990424,
          -4.066665692097797,
          -4.707980865593664
         ],
         "yaxis": "y"
        },
        {
         "hovertemplate": "color=MG132+Apicidin<br>0=%{x}<br>1=%{y}<extra></extra>",
         "legendgroup": "MG132+Apicidin",
         "marker": {
          "color": "#00cc96",
          "symbol": "circle"
         },
         "mode": "markers",
         "name": "MG132+Apicidin",
         "showlegend": true,
         "type": "scattergl",
         "x": [
          -1.6736313363513693,
          -1.8151085678518932,
          -0.3782215470431844,
          6.562155656688904,
          5.014510979438123,
          0.44866232086774327,
          -4.287174287328633,
          -4.35793499778608,
          8.15871530921315,
          5.381274476133428,
          7.2504008608704,
          5.6663580316476505,
          -2.999396599870575,
          -3.83781327764634,
          -1.0983571832458392,
          0.0794735034748148,
          -0.9615289243991733,
          -0.4981542868375924,
          1.4568765502765926,
          -1.8489755663393355,
          -1.5271266771996022,
          -2.4679255808218135,
          -2.2546899573948096,
          -1.042620493261198
         ],
         "xaxis": "x",
         "y": [
          -9.749028189853881,
          -10.021271907826804,
          -10.653463400576081,
          -9.315622680837187,
          -7.883874502975956,
          -7.913396462549046,
          -6.98064585584676,
          -6.898712756758595,
          -3.224821835850752,
          -3.593125918261495,
          -1.318434694296971,
          -2.853240389694991,
          0.32065986096547583,
          0.9648582235525185,
          -0.7181856939904,
          -0.7941747933154266,
          -2.213156131073711,
          -1.131472490469027,
          -2.7932029406313275,
          0.5343009491189603,
          -0.9330545538287217,
          -0.5634801228400468,
          -0.4256386475101471,
          -0.6706562479053054
         ],
         "yaxis": "y"
        },
        {
         "hovertemplate": "color=PS341+SAHA<br>0=%{x}<br>1=%{y}<extra></extra>",
         "legendgroup": "PS341+SAHA",
         "marker": {
          "color": "#ab63fa",
          "symbol": "circle"
         },
         "mode": "markers",
         "name": "PS341+SAHA",
         "showlegend": true,
         "type": "scattergl",
         "x": [
          7.866476042509201,
          4.938716167346031,
          7.786837319334017,
          7.888064008599197,
          6.7433627858820575,
          7.306933025989622,
          4.525965577827219,
          6.546813034665471,
          7.8048190825822115,
          6.676754846221712,
          5.396662595015287,
          7.032265930637727,
          -3.1991959429462113,
          -1.0420583721055083,
          2.76415251365401,
          -0.3029935152178656,
          -2.1240481143594483,
          -0.24103441448185622,
          -0.7117995718674784,
          -2.5661582451072413,
          -0.9431563111361847,
          -1.285524443800511,
          0.6812473329638671,
          -0.25898638880835223
         ],
         "xaxis": "x",
         "y": [
          -3.705387283864246,
          -5.955230245218277,
          -4.473184686198623,
          -4.257173124822445,
          -5.26808961212543,
          -4.370494655253755,
          -5.669257388355928,
          -3.443436941684044,
          -4.661025428199427,
          -2.3772023090383363,
          -5.167595640953409,
          -4.591236819603448,
          -6.0847250154045165,
          -7.531904525413569,
          -5.170856774212911,
          -5.6525381522333396,
          0.19817787810309948,
          -1.2066835620099303,
          -0.3223101472370862,
          -0.09929112844671507,
          -1.394903834262331,
          -1.7131842133229107,
          -2.079282297287082,
          -2.473451530674527
         ],
         "yaxis": "y"
        },
        {
         "hovertemplate": "color=PS341+Apicidin<br>0=%{x}<br>1=%{y}<extra></extra>",
         "legendgroup": "PS341+Apicidin",
         "marker": {
          "color": "#FFA15A",
          "symbol": "circle"
         },
         "mode": "markers",
         "name": "PS341+Apicidin",
         "showlegend": true,
         "type": "scattergl",
         "x": [
          7.427049365057221,
          7.270625400129358,
          3.284961004751315,
          6.8077801353793665,
          7.180596126267239,
          8.888065265238247,
          7.885509114630469,
          7.561601782448979,
          6.957409095448037,
          6.925012520968437,
          7.3143157485962815,
          6.831871129038988,
          5.435928310952385,
          4.320094860383263,
          4.132147296579886,
          4.325271175560915,
          -3.3044532584795703,
          -2.4374237496823357,
          -1.1900151267151873,
          -2.901471714071595,
          -0.6902409798568983,
          -1.629611666242942,
          0.8348042776898628,
          -2.661920234631542
         ],
         "xaxis": "x",
         "y": [
          -5.180521633369846,
          -4.77398365112079,
          -7.485824066268839,
          -7.130965476847542,
          -5.302159289057451,
          -4.994259511301139,
          -3.8029974269129485,
          -3.87283171610482,
          -3.6238792168450438,
          -4.492460119957338,
          -4.398826776151114,
          -4.35843885562449,
          -4.998575265610427,
          -3.3929339754462458,
          -3.405910272572955,
          -4.908991725404396,
          -0.03376387906336799,
          1.3261342190687508,
          0.007695010284245462,
          1.4004872817105531,
          -0.8934594223524148,
          -0.9353280983545899,
          -2.6944743053518847,
          0.48497767830189337
         ],
         "yaxis": "y"
        },
        {
         "hovertemplate": "color=SAHA+Apicidin<br>0=%{x}<br>1=%{y}<extra></extra>",
         "legendgroup": "SAHA+Apicidin",
         "marker": {
          "color": "#19d3f3",
          "symbol": "circle"
         },
         "mode": "markers",
         "name": "SAHA+Apicidin",
         "showlegend": true,
         "type": "scattergl",
         "x": [
          6.7521187167742855,
          6.481240893356549,
          6.7524449059267315,
          5.322207931049298,
          4.535909187774047,
          4.861109318761074,
          5.553559005406548,
          3.468728042991621,
          -3.6933349146779433,
          -2.5656241574997156,
          -2.211825815744516,
          -3.153795570094022,
          -1.2800111386701387,
          -4.505033676457271,
          -0.5070297016024122,
          -1.8377101243782104,
          -1.7772633266549942,
          -1.4936527439737977,
          -2.213221046198129,
          -1.1832659213471846,
          -0.8885451238651063,
          -1.1670500931518988,
          -1.2351649710750925,
          0.11964370700232596
         ],
         "xaxis": "x",
         "y": [
          -0.5266956194977613,
          1.9334086903535135,
          1.8605595725503097,
          0.9119314588277587,
          3.078005087271904,
          3.065950747380868,
          1.0248233746355904,
          3.7438517879171096,
          0.7894721411158082,
          0.286820008558934,
          -1.1814276196001836,
          1.54769609583505,
          -0.10731980702308393,
          2.104953451882981,
          -0.7816939826932207,
          0.573787114481107,
          -0.8215379728970265,
          -1.094954944477593,
          -1.6535439543000412,
          0.586244952709821,
          -2.0213960758516794,
          -0.772923281122677,
          -1.3645439619337973,
          -2.463381393051983
         ],
         "yaxis": "y"
        }
       ],
       "layout": {
        "legend": {
         "title": {
          "text": "color"
         },
         "tracegroupgap": 0
        },
        "margin": {
         "t": 60
        },
        "template": {
         "data": {
          "bar": [
           {
            "error_x": {
             "color": "#2a3f5f"
            },
            "error_y": {
             "color": "#2a3f5f"
            },
            "marker": {
             "line": {
              "color": "#E5ECF6",
              "width": 0.5
             },
             "pattern": {
              "fillmode": "overlay",
              "size": 10,
              "solidity": 0.2
             }
            },
            "type": "bar"
           }
          ],
          "barpolar": [
           {
            "marker": {
             "line": {
              "color": "#E5ECF6",
              "width": 0.5
             },
             "pattern": {
              "fillmode": "overlay",
              "size": 10,
              "solidity": 0.2
             }
            },
            "type": "barpolar"
           }
          ],
          "carpet": [
           {
            "aaxis": {
             "endlinecolor": "#2a3f5f",
             "gridcolor": "white",
             "linecolor": "white",
             "minorgridcolor": "white",
             "startlinecolor": "#2a3f5f"
            },
            "baxis": {
             "endlinecolor": "#2a3f5f",
             "gridcolor": "white",
             "linecolor": "white",
             "minorgridcolor": "white",
             "startlinecolor": "#2a3f5f"
            },
            "type": "carpet"
           }
          ],
          "choropleth": [
           {
            "colorbar": {
             "outlinewidth": 0,
             "ticks": ""
            },
            "type": "choropleth"
           }
          ],
          "contour": [
           {
            "colorbar": {
             "outlinewidth": 0,
             "ticks": ""
            },
            "colorscale": [
             [
              0,
              "#0d0887"
             ],
             [
              0.1111111111111111,
              "#46039f"
             ],
             [
              0.2222222222222222,
              "#7201a8"
             ],
             [
              0.3333333333333333,
              "#9c179e"
             ],
             [
              0.4444444444444444,
              "#bd3786"
             ],
             [
              0.5555555555555556,
              "#d8576b"
             ],
             [
              0.6666666666666666,
              "#ed7953"
             ],
             [
              0.7777777777777778,
              "#fb9f3a"
             ],
             [
              0.8888888888888888,
              "#fdca26"
             ],
             [
              1,
              "#f0f921"
             ]
            ],
            "type": "contour"
           }
          ],
          "contourcarpet": [
           {
            "colorbar": {
             "outlinewidth": 0,
             "ticks": ""
            },
            "type": "contourcarpet"
           }
          ],
          "heatmap": [
           {
            "colorbar": {
             "outlinewidth": 0,
             "ticks": ""
            },
            "colorscale": [
             [
              0,
              "#0d0887"
             ],
             [
              0.1111111111111111,
              "#46039f"
             ],
             [
              0.2222222222222222,
              "#7201a8"
             ],
             [
              0.3333333333333333,
              "#9c179e"
             ],
             [
              0.4444444444444444,
              "#bd3786"
             ],
             [
              0.5555555555555556,
              "#d8576b"
             ],
             [
              0.6666666666666666,
              "#ed7953"
             ],
             [
              0.7777777777777778,
              "#fb9f3a"
             ],
             [
              0.8888888888888888,
              "#fdca26"
             ],
             [
              1,
              "#f0f921"
             ]
            ],
            "type": "heatmap"
           }
          ],
          "heatmapgl": [
           {
            "colorbar": {
             "outlinewidth": 0,
             "ticks": ""
            },
            "colorscale": [
             [
              0,
              "#0d0887"
             ],
             [
              0.1111111111111111,
              "#46039f"
             ],
             [
              0.2222222222222222,
              "#7201a8"
             ],
             [
              0.3333333333333333,
              "#9c179e"
             ],
             [
              0.4444444444444444,
              "#bd3786"
             ],
             [
              0.5555555555555556,
              "#d8576b"
             ],
             [
              0.6666666666666666,
              "#ed7953"
             ],
             [
              0.7777777777777778,
              "#fb9f3a"
             ],
             [
              0.8888888888888888,
              "#fdca26"
             ],
             [
              1,
              "#f0f921"
             ]
            ],
            "type": "heatmapgl"
           }
          ],
          "histogram": [
           {
            "marker": {
             "pattern": {
              "fillmode": "overlay",
              "size": 10,
              "solidity": 0.2
             }
            },
            "type": "histogram"
           }
          ],
          "histogram2d": [
           {
            "colorbar": {
             "outlinewidth": 0,
             "ticks": ""
            },
            "colorscale": [
             [
              0,
              "#0d0887"
             ],
             [
              0.1111111111111111,
              "#46039f"
             ],
             [
              0.2222222222222222,
              "#7201a8"
             ],
             [
              0.3333333333333333,
              "#9c179e"
             ],
             [
              0.4444444444444444,
              "#bd3786"
             ],
             [
              0.5555555555555556,
              "#d8576b"
             ],
             [
              0.6666666666666666,
              "#ed7953"
             ],
             [
              0.7777777777777778,
              "#fb9f3a"
             ],
             [
              0.8888888888888888,
              "#fdca26"
             ],
             [
              1,
              "#f0f921"
             ]
            ],
            "type": "histogram2d"
           }
          ],
          "histogram2dcontour": [
           {
            "colorbar": {
             "outlinewidth": 0,
             "ticks": ""
            },
            "colorscale": [
             [
              0,
              "#0d0887"
             ],
             [
              0.1111111111111111,
              "#46039f"
             ],
             [
              0.2222222222222222,
              "#7201a8"
             ],
             [
              0.3333333333333333,
              "#9c179e"
             ],
             [
              0.4444444444444444,
              "#bd3786"
             ],
             [
              0.5555555555555556,
              "#d8576b"
             ],
             [
              0.6666666666666666,
              "#ed7953"
             ],
             [
              0.7777777777777778,
              "#fb9f3a"
             ],
             [
              0.8888888888888888,
              "#fdca26"
             ],
             [
              1,
              "#f0f921"
             ]
            ],
            "type": "histogram2dcontour"
           }
          ],
          "mesh3d": [
           {
            "colorbar": {
             "outlinewidth": 0,
             "ticks": ""
            },
            "type": "mesh3d"
           }
          ],
          "parcoords": [
           {
            "line": {
             "colorbar": {
              "outlinewidth": 0,
              "ticks": ""
             }
            },
            "type": "parcoords"
           }
          ],
          "pie": [
           {
            "automargin": true,
            "type": "pie"
           }
          ],
          "scatter": [
           {
            "marker": {
             "colorbar": {
              "outlinewidth": 0,
              "ticks": ""
             }
            },
            "type": "scatter"
           }
          ],
          "scatter3d": [
           {
            "line": {
             "colorbar": {
              "outlinewidth": 0,
              "ticks": ""
             }
            },
            "marker": {
             "colorbar": {
              "outlinewidth": 0,
              "ticks": ""
             }
            },
            "type": "scatter3d"
           }
          ],
          "scattercarpet": [
           {
            "marker": {
             "colorbar": {
              "outlinewidth": 0,
              "ticks": ""
             }
            },
            "type": "scattercarpet"
           }
          ],
          "scattergeo": [
           {
            "marker": {
             "colorbar": {
              "outlinewidth": 0,
              "ticks": ""
             }
            },
            "type": "scattergeo"
           }
          ],
          "scattergl": [
           {
            "marker": {
             "colorbar": {
              "outlinewidth": 0,
              "ticks": ""
             }
            },
            "type": "scattergl"
           }
          ],
          "scattermapbox": [
           {
            "marker": {
             "colorbar": {
              "outlinewidth": 0,
              "ticks": ""
             }
            },
            "type": "scattermapbox"
           }
          ],
          "scatterpolar": [
           {
            "marker": {
             "colorbar": {
              "outlinewidth": 0,
              "ticks": ""
             }
            },
            "type": "scatterpolar"
           }
          ],
          "scatterpolargl": [
           {
            "marker": {
             "colorbar": {
              "outlinewidth": 0,
              "ticks": ""
             }
            },
            "type": "scatterpolargl"
           }
          ],
          "scatterternary": [
           {
            "marker": {
             "colorbar": {
              "outlinewidth": 0,
              "ticks": ""
             }
            },
            "type": "scatterternary"
           }
          ],
          "surface": [
           {
            "colorbar": {
             "outlinewidth": 0,
             "ticks": ""
            },
            "colorscale": [
             [
              0,
              "#0d0887"
             ],
             [
              0.1111111111111111,
              "#46039f"
             ],
             [
              0.2222222222222222,
              "#7201a8"
             ],
             [
              0.3333333333333333,
              "#9c179e"
             ],
             [
              0.4444444444444444,
              "#bd3786"
             ],
             [
              0.5555555555555556,
              "#d8576b"
             ],
             [
              0.6666666666666666,
              "#ed7953"
             ],
             [
              0.7777777777777778,
              "#fb9f3a"
             ],
             [
              0.8888888888888888,
              "#fdca26"
             ],
             [
              1,
              "#f0f921"
             ]
            ],
            "type": "surface"
           }
          ],
          "table": [
           {
            "cells": {
             "fill": {
              "color": "#EBF0F8"
             },
             "line": {
              "color": "white"
             }
            },
            "header": {
             "fill": {
              "color": "#C8D4E3"
             },
             "line": {
              "color": "white"
             }
            },
            "type": "table"
           }
          ]
         },
         "layout": {
          "annotationdefaults": {
           "arrowcolor": "#2a3f5f",
           "arrowhead": 0,
           "arrowwidth": 1
          },
          "autotypenumbers": "strict",
          "coloraxis": {
           "colorbar": {
            "outlinewidth": 0,
            "ticks": ""
           }
          },
          "colorscale": {
           "diverging": [
            [
             0,
             "#8e0152"
            ],
            [
             0.1,
             "#c51b7d"
            ],
            [
             0.2,
             "#de77ae"
            ],
            [
             0.3,
             "#f1b6da"
            ],
            [
             0.4,
             "#fde0ef"
            ],
            [
             0.5,
             "#f7f7f7"
            ],
            [
             0.6,
             "#e6f5d0"
            ],
            [
             0.7,
             "#b8e186"
            ],
            [
             0.8,
             "#7fbc41"
            ],
            [
             0.9,
             "#4d9221"
            ],
            [
             1,
             "#276419"
            ]
           ],
           "sequential": [
            [
             0,
             "#0d0887"
            ],
            [
             0.1111111111111111,
             "#46039f"
            ],
            [
             0.2222222222222222,
             "#7201a8"
            ],
            [
             0.3333333333333333,
             "#9c179e"
            ],
            [
             0.4444444444444444,
             "#bd3786"
            ],
            [
             0.5555555555555556,
             "#d8576b"
            ],
            [
             0.6666666666666666,
             "#ed7953"
            ],
            [
             0.7777777777777778,
             "#fb9f3a"
            ],
            [
             0.8888888888888888,
             "#fdca26"
            ],
            [
             1,
             "#f0f921"
            ]
           ],
           "sequentialminus": [
            [
             0,
             "#0d0887"
            ],
            [
             0.1111111111111111,
             "#46039f"
            ],
            [
             0.2222222222222222,
             "#7201a8"
            ],
            [
             0.3333333333333333,
             "#9c179e"
            ],
            [
             0.4444444444444444,
             "#bd3786"
            ],
            [
             0.5555555555555556,
             "#d8576b"
            ],
            [
             0.6666666666666666,
             "#ed7953"
            ],
            [
             0.7777777777777778,
             "#fb9f3a"
            ],
            [
             0.8888888888888888,
             "#fdca26"
            ],
            [
             1,
             "#f0f921"
            ]
           ]
          },
          "colorway": [
           "#636efa",
           "#EF553B",
           "#00cc96",
           "#ab63fa",
           "#FFA15A",
           "#19d3f3",
           "#FF6692",
           "#B6E880",
           "#FF97FF",
           "#FECB52"
          ],
          "font": {
           "color": "#2a3f5f"
          },
          "geo": {
           "bgcolor": "white",
           "lakecolor": "white",
           "landcolor": "#E5ECF6",
           "showlakes": true,
           "showland": true,
           "subunitcolor": "white"
          },
          "hoverlabel": {
           "align": "left"
          },
          "hovermode": "closest",
          "mapbox": {
           "style": "light"
          },
          "paper_bgcolor": "white",
          "plot_bgcolor": "#E5ECF6",
          "polar": {
           "angularaxis": {
            "gridcolor": "white",
            "linecolor": "white",
            "ticks": ""
           },
           "bgcolor": "#E5ECF6",
           "radialaxis": {
            "gridcolor": "white",
            "linecolor": "white",
            "ticks": ""
           }
          },
          "scene": {
           "xaxis": {
            "backgroundcolor": "#E5ECF6",
            "gridcolor": "white",
            "gridwidth": 2,
            "linecolor": "white",
            "showbackground": true,
            "ticks": "",
            "zerolinecolor": "white"
           },
           "yaxis": {
            "backgroundcolor": "#E5ECF6",
            "gridcolor": "white",
            "gridwidth": 2,
            "linecolor": "white",
            "showbackground": true,
            "ticks": "",
            "zerolinecolor": "white"
           },
           "zaxis": {
            "backgroundcolor": "#E5ECF6",
            "gridcolor": "white",
            "gridwidth": 2,
            "linecolor": "white",
            "showbackground": true,
            "ticks": "",
            "zerolinecolor": "white"
           }
          },
          "shapedefaults": {
           "line": {
            "color": "#2a3f5f"
           }
          },
          "ternary": {
           "aaxis": {
            "gridcolor": "white",
            "linecolor": "white",
            "ticks": ""
           },
           "baxis": {
            "gridcolor": "white",
            "linecolor": "white",
            "ticks": ""
           },
           "bgcolor": "#E5ECF6",
           "caxis": {
            "gridcolor": "white",
            "linecolor": "white",
            "ticks": ""
           }
          },
          "title": {
           "x": 0.05
          },
          "xaxis": {
           "automargin": true,
           "gridcolor": "white",
           "linecolor": "white",
           "ticks": "",
           "title": {
            "standoff": 15
           },
           "zerolinecolor": "white",
           "zerolinewidth": 2
          },
          "yaxis": {
           "automargin": true,
           "gridcolor": "white",
           "linecolor": "white",
           "ticks": "",
           "title": {
            "standoff": 15
           },
           "zerolinecolor": "white",
           "zerolinewidth": 2
          }
         }
        },
        "xaxis": {
         "anchor": "y",
         "domain": [
          0,
          1
         ],
         "title": {
          "text": "0"
         }
        },
        "yaxis": {
         "anchor": "x",
         "domain": [
          0,
          1
         ],
         "title": {
          "text": "1"
         }
        }
       }
      }
     },
     "metadata": {},
     "output_type": "display_data"
    }
   ],
   "source": [
    "import plotly.express as px\n",
    "import plotly.graph_objects as go\n",
    "fig = px.scatter(visualization_data, x=0, y=1, color=visualization_label)\n",
    "\n",
    "\n",
    "fig.show()"
   ]
  },
  {
   "cell_type": "markdown",
   "metadata": {},
   "source": [
    "# trace plotting"
   ]
  },
  {
   "cell_type": "markdown",
   "metadata": {},
   "source": [
    "## prediction and confidence scores\n"
   ]
  }
 ],
 "metadata": {
  "kernelspec": {
   "display_name": "Python 3.8.5 ('base')",
   "language": "python",
   "name": "python3"
  },
  "language_info": {
   "codemirror_mode": {
    "name": "ipython",
    "version": 3
   },
   "file_extension": ".py",
   "mimetype": "text/x-python",
   "name": "python",
   "nbconvert_exporter": "python",
   "pygments_lexer": "ipython3",
   "version": "3.8.5"
  },
  "vscode": {
   "interpreter": {
    "hash": "40d3a090f54c6569ab1632332b64b2c03c39dcf918b08424e98f38b5ae0af88f"
   }
  }
 },
 "nbformat": 4,
 "nbformat_minor": 4
}

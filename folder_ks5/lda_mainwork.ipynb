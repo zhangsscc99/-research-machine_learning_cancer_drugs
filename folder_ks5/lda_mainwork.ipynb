{
 "cells": [
  {
   "cell_type": "code",
   "execution_count": 1,
   "metadata": {},
   "outputs": [],
   "source": [
    "#a code block that deals with concentration and drug names\n",
    "#we do not use this block for now.\n",
    "\n",
    "import pandas as pd\n",
    "f1 = pd.read_csv('B.csv')\n",
    "f2 = pd.read_csv('C.csv')\n",
    "f3=pd.read_csv('D.csv')\n",
    "f4=pd.read_csv('E.csv')\n",
    "f5=pd.read_csv('A_ks5.csv')\n",
    "file = [f1,f2,f3,f5]\n",
    "train = pd.concat(file,axis=1)\n",
    "train.to_csv(\"train.csv\", index=0, sep=',')\n"
   ]
  },
  {
   "cell_type": "code",
   "execution_count": 2,
   "metadata": {},
   "outputs": [
    {
     "name": "stdout",
     "output_type": "stream",
     "text": [
      "-0.294442\n"
     ]
    }
   ],
   "source": [
    "#do some further processing with \"A\" because there are some data error in it\n",
    "def remove_extradots(string):\n",
    "    counter=0\n",
    "    lst=[]\n",
    "    for i in range(len(string)):\n",
    "        if string[i]=='.' and counter<1 :\n",
    "            lst.append(string[i])\n",
    "            counter+=1\n",
    "        elif string[i]!='.':\n",
    "            lst.append(string[i])\n",
    "    res=\"\".join(lst)\n",
    "    return res\n",
    "\n",
    "\n",
    "\n",
    "import csv\n",
    "res_list=[]\n",
    "print(remove_extradots(\"-0.29444.2\"))\n",
    "with open('A_ks5.csv') as file2:\n",
    "    reader=csv.reader(file2)\n",
    "\n",
    "    for row in reader:\n",
    "        data=[]\n",
    "        for i in range(len(row)):\n",
    "            \n",
    "            data.append(remove_extradots(row[i]))\n",
    "        res_list.append(data)\n",
    "    \n",
    "\n",
    "\n",
    "with open('modified_A.csv', 'w') as file3:\n",
    "    writer = csv.writer(file3)\n",
    "    writer.writerows(res_list)\n",
    "file3.close()\n",
    "                \n"
   ]
  },
  {
   "cell_type": "code",
   "execution_count": 3,
   "metadata": {},
   "outputs": [
    {
     "data": {
      "text/plain": [
       "(767, 239)"
      ]
     },
     "execution_count": 3,
     "metadata": {},
     "output_type": "execute_result"
    }
   ],
   "source": [
    "#test file A\n",
    "import pandas as pd\n",
    "df_A=pd.read_csv(\"A_ks5.csv\")\n",
    "df_A.shape\n",
    "#df_A2=pd.read_csv(\"A_modified.csv\")\n",
    "#df_A2.shape\n"
   ]
  },
  {
   "cell_type": "code",
   "execution_count": 4,
   "metadata": {},
   "outputs": [],
   "source": [
    "#a block that is used to concate the drug names(drug combinations and related concentration)\n",
    "\n",
    "import csv\n",
    "res_list=[]\n",
    "with open('train.csv', 'r') as file:\n",
    "    reader = csv.reader(file)\n",
    "    \n",
    "    for row in reader:\n",
    "        data=[]\n",
    "        data.append(row[0]+'+'+row[1]+\"+\"+row[2])\n",
    "        res_list.append(data)\n",
    "\n",
    "        \n",
    "        \n",
    "with open('concatenated.csv', 'w') as file2:\n",
    "    writer = csv.writer(file2)\n",
    "    writer.writerows(res_list)"
   ]
  },
  {
   "cell_type": "code",
   "execution_count": 5,
   "metadata": {},
   "outputs": [],
   "source": [
    "#a block that is used to concate concentration and ks numbers.\n",
    "import pandas as pd\n",
    "f1 = pd.read_csv('concatenated.csv')\n",
    "#f2 = pd.read_csv('C.csv')\n",
    "f3=pd.read_csv('D.csv')\n",
    "f4=pd.read_csv('E.csv')\n",
    "f5=pd.read_csv('modified_A.csv')\n",
    "file = [f1,f5]\n",
    "train = pd.concat(file,axis=1)\n",
    "train.to_csv(\"train3.csv\", index=0, sep=',')"
   ]
  },
  {
   "cell_type": "code",
   "execution_count": 6,
   "metadata": {},
   "outputs": [],
   "source": [
    "#a block that sets the fields for the drug data\n",
    "import csv\n",
    "fields=['drug_name','default']\n",
    "for i in range(1,239):\n",
    "    fields.append('ks'+str(i))\n",
    "rows=[]\n",
    "with open('train3.csv', 'r') as file:\n",
    "    reader = csv.reader(file)\n",
    "    \n",
    "    for row in reader:\n",
    "        rows.append(row)\n",
    "\n",
    "        \n",
    "        \n",
    "with open('drug_withfields2.csv', 'w') as file2:\n",
    "    writer = csv.writer(file2)\n",
    "    writer.writerow(fields)\n",
    "    writer.writerows(rows)"
   ]
  },
  {
   "cell_type": "code",
   "execution_count": 7,
   "metadata": {},
   "outputs": [
    {
     "name": "stdout",
     "output_type": "stream",
     "text": [
      "-0.294442\n"
     ]
    }
   ],
   "source": [
    "#do some further processing with \"drug_withfields\" because there are still some data error in it\n",
    "def remove_extradots(string):\n",
    "    counter=0\n",
    "    lst=[]\n",
    "    for i in range(len(string)):\n",
    "        if string[i]=='.' and counter<1 :\n",
    "            lst.append(string[i])\n",
    "            counter+=1\n",
    "        elif string[i]!='.':\n",
    "            lst.append(string[i])\n",
    "    res=\"\".join(lst)\n",
    "    return res\n",
    "\n",
    "\n",
    "\n",
    "import csv\n",
    "res_list=[]\n",
    "print(remove_extradots(\"-0.29444.2\"))\n",
    "with open('drug_withfields2.csv') as file2:\n",
    "    reader=csv.reader(file2)\n",
    "\n",
    "    for row in reader:\n",
    "        data=[]\n",
    "        for i in range(len(row)):\n",
    "            \n",
    "            data.append(remove_extradots(row[i]))\n",
    "        res_list.append(data)\n",
    "    \n",
    "\n",
    "\n",
    "with open('drug_with_fields.csv', 'w') as file3:\n",
    "    writer = csv.writer(file3)\n",
    "    writer.writerows(res_list)\n",
    "file3.close()\n",
    "                "
   ]
  },
  {
   "cell_type": "code",
   "execution_count": 8,
   "metadata": {},
   "outputs": [
    {
     "data": {
      "text/html": [
       "<div>\n",
       "<style scoped>\n",
       "    .dataframe tbody tr th:only-of-type {\n",
       "        vertical-align: middle;\n",
       "    }\n",
       "\n",
       "    .dataframe tbody tr th {\n",
       "        vertical-align: top;\n",
       "    }\n",
       "\n",
       "    .dataframe thead th {\n",
       "        text-align: right;\n",
       "    }\n",
       "</style>\n",
       "<table border=\"1\" class=\"dataframe\">\n",
       "  <thead>\n",
       "    <tr style=\"text-align: right;\">\n",
       "      <th></th>\n",
       "      <th>drug_name</th>\n",
       "      <th>default</th>\n",
       "      <th>ks1</th>\n",
       "      <th>ks2</th>\n",
       "      <th>ks3</th>\n",
       "      <th>ks4</th>\n",
       "      <th>ks5</th>\n",
       "      <th>ks6</th>\n",
       "      <th>ks7</th>\n",
       "      <th>ks8</th>\n",
       "      <th>...</th>\n",
       "      <th>ks229</th>\n",
       "      <th>ks230</th>\n",
       "      <th>ks231</th>\n",
       "      <th>ks232</th>\n",
       "      <th>ks233</th>\n",
       "      <th>ks234</th>\n",
       "      <th>ks235</th>\n",
       "      <th>ks236</th>\n",
       "      <th>ks237</th>\n",
       "      <th>ks238</th>\n",
       "    </tr>\n",
       "  </thead>\n",
       "  <tbody>\n",
       "    <tr>\n",
       "      <th>12</th>\n",
       "      <td>Etoposide+Gemcitabine+1</td>\n",
       "      <td>0</td>\n",
       "      <td>-0.749170</td>\n",
       "      <td>-0.669410</td>\n",
       "      <td>-0.927020</td>\n",
       "      <td>-0.965710</td>\n",
       "      <td>-0.987910</td>\n",
       "      <td>-0.922450</td>\n",
       "      <td>-0.889720</td>\n",
       "      <td>-0.870230</td>\n",
       "      <td>...</td>\n",
       "      <td>-0.337330</td>\n",
       "      <td>0.136410</td>\n",
       "      <td>-0.145360</td>\n",
       "      <td>-0.306520</td>\n",
       "      <td>-0.297390</td>\n",
       "      <td>0.136410</td>\n",
       "      <td>0.235710</td>\n",
       "      <td>0.167310</td>\n",
       "      <td>-0.203070</td>\n",
       "      <td>0.135950</td>\n",
       "    </tr>\n",
       "    <tr>\n",
       "      <th>14</th>\n",
       "      <td>Etoposide+Gemcitabine+2</td>\n",
       "      <td>0</td>\n",
       "      <td>-0.913330</td>\n",
       "      <td>-0.459310</td>\n",
       "      <td>-0.413220</td>\n",
       "      <td>-0.696840</td>\n",
       "      <td>-0.882330</td>\n",
       "      <td>-0.497390</td>\n",
       "      <td>-0.380400</td>\n",
       "      <td>-0.361150</td>\n",
       "      <td>...</td>\n",
       "      <td>0.137990</td>\n",
       "      <td>0.272160</td>\n",
       "      <td>-0.289340</td>\n",
       "      <td>0.270370</td>\n",
       "      <td>0.205260</td>\n",
       "      <td>0.272160</td>\n",
       "      <td>-0.627590</td>\n",
       "      <td>-0.608650</td>\n",
       "      <td>-0.403970</td>\n",
       "      <td>0.399480</td>\n",
       "    </tr>\n",
       "    <tr>\n",
       "      <th>16</th>\n",
       "      <td>Etoposide+Gemcitabine+3</td>\n",
       "      <td>0</td>\n",
       "      <td>-0.690000</td>\n",
       "      <td>0.299020</td>\n",
       "      <td>0.126810</td>\n",
       "      <td>0.259950</td>\n",
       "      <td>0.251080</td>\n",
       "      <td>0.149220</td>\n",
       "      <td>0.113770</td>\n",
       "      <td>0.086765</td>\n",
       "      <td>...</td>\n",
       "      <td>0.551860</td>\n",
       "      <td>0.247790</td>\n",
       "      <td>-0.315200</td>\n",
       "      <td>0.722750</td>\n",
       "      <td>0.682450</td>\n",
       "      <td>0.247790</td>\n",
       "      <td>-0.531130</td>\n",
       "      <td>-0.569710</td>\n",
       "      <td>-0.181620</td>\n",
       "      <td>0.395390</td>\n",
       "    </tr>\n",
       "    <tr>\n",
       "      <th>18</th>\n",
       "      <td>Etoposide+Gemcitabine+4</td>\n",
       "      <td>0</td>\n",
       "      <td>-0.677500</td>\n",
       "      <td>0.258400</td>\n",
       "      <td>0.152130</td>\n",
       "      <td>0.207060</td>\n",
       "      <td>0.146180</td>\n",
       "      <td>0.151390</td>\n",
       "      <td>0.143780</td>\n",
       "      <td>0.126430</td>\n",
       "      <td>...</td>\n",
       "      <td>0.485480</td>\n",
       "      <td>0.231640</td>\n",
       "      <td>-0.226070</td>\n",
       "      <td>0.623180</td>\n",
       "      <td>0.595200</td>\n",
       "      <td>0.231640</td>\n",
       "      <td>-0.474370</td>\n",
       "      <td>-0.498440</td>\n",
       "      <td>-0.153010</td>\n",
       "      <td>0.282530</td>\n",
       "    </tr>\n",
       "    <tr>\n",
       "      <th>20</th>\n",
       "      <td>Etoposide+Gemcitabine+5</td>\n",
       "      <td>0</td>\n",
       "      <td>-0.060833</td>\n",
       "      <td>-0.167140</td>\n",
       "      <td>-0.198800</td>\n",
       "      <td>0.093564</td>\n",
       "      <td>-0.258180</td>\n",
       "      <td>-0.186680</td>\n",
       "      <td>-0.175810</td>\n",
       "      <td>-0.170990</td>\n",
       "      <td>...</td>\n",
       "      <td>-0.052231</td>\n",
       "      <td>0.031219</td>\n",
       "      <td>-0.091645</td>\n",
       "      <td>-0.042901</td>\n",
       "      <td>-0.048864</td>\n",
       "      <td>0.031219</td>\n",
       "      <td>-0.108130</td>\n",
       "      <td>-0.122700</td>\n",
       "      <td>-0.088380</td>\n",
       "      <td>0.100400</td>\n",
       "    </tr>\n",
       "    <tr>\n",
       "      <th>22</th>\n",
       "      <td>Etoposide+Gemcitabine+6</td>\n",
       "      <td>0</td>\n",
       "      <td>0.083015</td>\n",
       "      <td>-0.050783</td>\n",
       "      <td>0.086035</td>\n",
       "      <td>0.068023</td>\n",
       "      <td>0.040280</td>\n",
       "      <td>0.069896</td>\n",
       "      <td>0.098187</td>\n",
       "      <td>0.105420</td>\n",
       "      <td>...</td>\n",
       "      <td>-0.099344</td>\n",
       "      <td>0.039748</td>\n",
       "      <td>-0.028958</td>\n",
       "      <td>-0.091077</td>\n",
       "      <td>-0.087472</td>\n",
       "      <td>0.039748</td>\n",
       "      <td>0.081126</td>\n",
       "      <td>0.075743</td>\n",
       "      <td>-0.045866</td>\n",
       "      <td>-0.049417</td>\n",
       "    </tr>\n",
       "    <tr>\n",
       "      <th>72</th>\n",
       "      <td>Gemcitabine+Etoposide+1</td>\n",
       "      <td>0</td>\n",
       "      <td>-0.713330</td>\n",
       "      <td>-0.774560</td>\n",
       "      <td>-0.961700</td>\n",
       "      <td>-0.986490</td>\n",
       "      <td>-0.994910</td>\n",
       "      <td>-0.968090</td>\n",
       "      <td>-0.944310</td>\n",
       "      <td>-0.923210</td>\n",
       "      <td>...</td>\n",
       "      <td>-0.426610</td>\n",
       "      <td>0.111720</td>\n",
       "      <td>0.116930</td>\n",
       "      <td>-0.403950</td>\n",
       "      <td>-0.403140</td>\n",
       "      <td>0.111720</td>\n",
       "      <td>0.213970</td>\n",
       "      <td>0.153460</td>\n",
       "      <td>-0.203070</td>\n",
       "      <td>0.089149</td>\n",
       "    </tr>\n",
       "    <tr>\n",
       "      <th>74</th>\n",
       "      <td>Gemcitabine+Etoposide+2</td>\n",
       "      <td>0</td>\n",
       "      <td>-0.780000</td>\n",
       "      <td>-0.722470</td>\n",
       "      <td>-0.922870</td>\n",
       "      <td>-0.968220</td>\n",
       "      <td>-0.994490</td>\n",
       "      <td>-0.928630</td>\n",
       "      <td>-0.905500</td>\n",
       "      <td>-0.887490</td>\n",
       "      <td>...</td>\n",
       "      <td>-0.352870</td>\n",
       "      <td>0.114080</td>\n",
       "      <td>0.093003</td>\n",
       "      <td>-0.329940</td>\n",
       "      <td>-0.313260</td>\n",
       "      <td>0.114080</td>\n",
       "      <td>0.193750</td>\n",
       "      <td>-0.156670</td>\n",
       "      <td>-0.252160</td>\n",
       "      <td>0.117480</td>\n",
       "    </tr>\n",
       "    <tr>\n",
       "      <th>76</th>\n",
       "      <td>Gemcitabine+Etoposide+3</td>\n",
       "      <td>0</td>\n",
       "      <td>-0.887500</td>\n",
       "      <td>-0.541820</td>\n",
       "      <td>-0.639910</td>\n",
       "      <td>-0.801420</td>\n",
       "      <td>-0.903400</td>\n",
       "      <td>-0.665160</td>\n",
       "      <td>-0.605320</td>\n",
       "      <td>-0.569120</td>\n",
       "      <td>...</td>\n",
       "      <td>0.112570</td>\n",
       "      <td>0.292570</td>\n",
       "      <td>-0.371510</td>\n",
       "      <td>0.223130</td>\n",
       "      <td>0.180650</td>\n",
       "      <td>0.292570</td>\n",
       "      <td>-0.563060</td>\n",
       "      <td>-0.610090</td>\n",
       "      <td>-0.389750</td>\n",
       "      <td>0.458960</td>\n",
       "    </tr>\n",
       "    <tr>\n",
       "      <th>78</th>\n",
       "      <td>Gemcitabine+Etoposide+4</td>\n",
       "      <td>0</td>\n",
       "      <td>0.107510</td>\n",
       "      <td>0.072807</td>\n",
       "      <td>0.043609</td>\n",
       "      <td>0.252200</td>\n",
       "      <td>-0.057031</td>\n",
       "      <td>-0.069156</td>\n",
       "      <td>0.059811</td>\n",
       "      <td>0.107200</td>\n",
       "      <td>...</td>\n",
       "      <td>-0.140180</td>\n",
       "      <td>0.047199</td>\n",
       "      <td>-0.043867</td>\n",
       "      <td>-0.152010</td>\n",
       "      <td>-0.145750</td>\n",
       "      <td>0.047199</td>\n",
       "      <td>0.205450</td>\n",
       "      <td>0.190560</td>\n",
       "      <td>-0.067196</td>\n",
       "      <td>-0.080784</td>\n",
       "    </tr>\n",
       "    <tr>\n",
       "      <th>80</th>\n",
       "      <td>Gemcitabine+Etoposide+5</td>\n",
       "      <td>0</td>\n",
       "      <td>0.100400</td>\n",
       "      <td>-0.083630</td>\n",
       "      <td>0.070463</td>\n",
       "      <td>0.188350</td>\n",
       "      <td>-0.059757</td>\n",
       "      <td>-0.030308</td>\n",
       "      <td>0.102570</td>\n",
       "      <td>0.119030</td>\n",
       "      <td>...</td>\n",
       "      <td>-0.155170</td>\n",
       "      <td>0.035656</td>\n",
       "      <td>-0.036042</td>\n",
       "      <td>-0.156410</td>\n",
       "      <td>-0.152880</td>\n",
       "      <td>0.035656</td>\n",
       "      <td>0.153490</td>\n",
       "      <td>0.138390</td>\n",
       "      <td>-0.061476</td>\n",
       "      <td>-0.065220</td>\n",
       "    </tr>\n",
       "    <tr>\n",
       "      <th>82</th>\n",
       "      <td>Gemcitabine+Etoposide+6</td>\n",
       "      <td>0</td>\n",
       "      <td>0.133120</td>\n",
       "      <td>-0.129150</td>\n",
       "      <td>-0.104200</td>\n",
       "      <td>0.212200</td>\n",
       "      <td>-0.154010</td>\n",
       "      <td>-0.137190</td>\n",
       "      <td>-0.081325</td>\n",
       "      <td>-0.058404</td>\n",
       "      <td>...</td>\n",
       "      <td>-0.159840</td>\n",
       "      <td>0.054025</td>\n",
       "      <td>-0.052054</td>\n",
       "      <td>-0.157770</td>\n",
       "      <td>-0.154720</td>\n",
       "      <td>0.054025</td>\n",
       "      <td>0.146020</td>\n",
       "      <td>0.122360</td>\n",
       "      <td>-0.071671</td>\n",
       "      <td>-0.044196</td>\n",
       "    </tr>\n",
       "    <tr>\n",
       "      <th>0</th>\n",
       "      <td>Etoposide+Etoposide+1</td>\n",
       "      <td>0</td>\n",
       "      <td>-0.930830</td>\n",
       "      <td>-0.494530</td>\n",
       "      <td>-0.571140</td>\n",
       "      <td>-0.799580</td>\n",
       "      <td>-0.885820</td>\n",
       "      <td>-0.605470</td>\n",
       "      <td>-0.502670</td>\n",
       "      <td>-0.483900</td>\n",
       "      <td>...</td>\n",
       "      <td>-0.081045</td>\n",
       "      <td>0.191610</td>\n",
       "      <td>-0.217910</td>\n",
       "      <td>0.135640</td>\n",
       "      <td>0.109241</td>\n",
       "      <td>0.191611</td>\n",
       "      <td>-0.457840</td>\n",
       "      <td>-0.457700</td>\n",
       "      <td>-0.306950</td>\n",
       "      <td>0.244280</td>\n",
       "    </tr>\n",
       "    <tr>\n",
       "      <th>2</th>\n",
       "      <td>Etoposide+Etoposide+2</td>\n",
       "      <td>0</td>\n",
       "      <td>-0.925000</td>\n",
       "      <td>-0.400790</td>\n",
       "      <td>-0.318350</td>\n",
       "      <td>-0.538470</td>\n",
       "      <td>-0.806570</td>\n",
       "      <td>-0.364790</td>\n",
       "      <td>-0.259440</td>\n",
       "      <td>-0.227850</td>\n",
       "      <td>...</td>\n",
       "      <td>0.209710</td>\n",
       "      <td>0.219110</td>\n",
       "      <td>-0.316050</td>\n",
       "      <td>0.302770</td>\n",
       "      <td>0.269690</td>\n",
       "      <td>0.219110</td>\n",
       "      <td>-0.682210</td>\n",
       "      <td>-0.677890</td>\n",
       "      <td>-0.436920</td>\n",
       "      <td>0.410580</td>\n",
       "    </tr>\n",
       "    <tr>\n",
       "      <th>4</th>\n",
       "      <td>Etoposide+Etoposide+3</td>\n",
       "      <td>0</td>\n",
       "      <td>-0.612500</td>\n",
       "      <td>0.097551</td>\n",
       "      <td>-0.134220</td>\n",
       "      <td>0.145150</td>\n",
       "      <td>-0.135310</td>\n",
       "      <td>-0.134520</td>\n",
       "      <td>-0.132050</td>\n",
       "      <td>-0.126850</td>\n",
       "      <td>...</td>\n",
       "      <td>0.448330</td>\n",
       "      <td>0.139830</td>\n",
       "      <td>-0.284680</td>\n",
       "      <td>0.535250</td>\n",
       "      <td>0.513990</td>\n",
       "      <td>0.139830</td>\n",
       "      <td>-0.458720</td>\n",
       "      <td>-0.513200</td>\n",
       "      <td>-0.164460</td>\n",
       "      <td>0.358140</td>\n",
       "    </tr>\n",
       "    <tr>\n",
       "      <th>6</th>\n",
       "      <td>Etoposide+Etoposide+4</td>\n",
       "      <td>0</td>\n",
       "      <td>0.097702</td>\n",
       "      <td>-0.056872</td>\n",
       "      <td>0.052675</td>\n",
       "      <td>0.092692</td>\n",
       "      <td>-0.035013</td>\n",
       "      <td>0.022697</td>\n",
       "      <td>0.067232</td>\n",
       "      <td>0.089390</td>\n",
       "      <td>...</td>\n",
       "      <td>-0.135830</td>\n",
       "      <td>0.052788</td>\n",
       "      <td>-0.042936</td>\n",
       "      <td>-0.105850</td>\n",
       "      <td>-0.116150</td>\n",
       "      <td>0.052788</td>\n",
       "      <td>0.122380</td>\n",
       "      <td>0.109650</td>\n",
       "      <td>-0.061423</td>\n",
       "      <td>-0.056829</td>\n",
       "    </tr>\n",
       "    <tr>\n",
       "      <th>8</th>\n",
       "      <td>Etoposide+Etoposide+5</td>\n",
       "      <td>0</td>\n",
       "      <td>0.086735</td>\n",
       "      <td>0.059167</td>\n",
       "      <td>0.080377</td>\n",
       "      <td>0.131050</td>\n",
       "      <td>0.028573</td>\n",
       "      <td>0.041073</td>\n",
       "      <td>0.097591</td>\n",
       "      <td>0.110090</td>\n",
       "      <td>...</td>\n",
       "      <td>-0.094087</td>\n",
       "      <td>0.048276</td>\n",
       "      <td>-0.029692</td>\n",
       "      <td>-0.090616</td>\n",
       "      <td>-0.095434</td>\n",
       "      <td>0.048276</td>\n",
       "      <td>0.135300</td>\n",
       "      <td>0.114380</td>\n",
       "      <td>-0.046655</td>\n",
       "      <td>-0.047169</td>\n",
       "    </tr>\n",
       "    <tr>\n",
       "      <th>10</th>\n",
       "      <td>Etoposide+Etoposide+6</td>\n",
       "      <td>0</td>\n",
       "      <td>0.101740</td>\n",
       "      <td>-0.058135</td>\n",
       "      <td>0.029234</td>\n",
       "      <td>0.118040</td>\n",
       "      <td>-0.071427</td>\n",
       "      <td>-0.024583</td>\n",
       "      <td>0.042422</td>\n",
       "      <td>0.067318</td>\n",
       "      <td>...</td>\n",
       "      <td>-0.105350</td>\n",
       "      <td>0.043098</td>\n",
       "      <td>-0.033994</td>\n",
       "      <td>-0.094549</td>\n",
       "      <td>-0.101240</td>\n",
       "      <td>0.043098</td>\n",
       "      <td>0.096732</td>\n",
       "      <td>0.081555</td>\n",
       "      <td>-0.054561</td>\n",
       "      <td>-0.039229</td>\n",
       "    </tr>\n",
       "    <tr>\n",
       "      <th>84</th>\n",
       "      <td>Gemcitabine+Gemcitabine+1</td>\n",
       "      <td>0</td>\n",
       "      <td>-0.701670</td>\n",
       "      <td>-0.739040</td>\n",
       "      <td>-0.955280</td>\n",
       "      <td>-0.974470</td>\n",
       "      <td>-0.997500</td>\n",
       "      <td>-0.956020</td>\n",
       "      <td>-0.948350</td>\n",
       "      <td>-0.936790</td>\n",
       "      <td>...</td>\n",
       "      <td>-0.373150</td>\n",
       "      <td>0.164250</td>\n",
       "      <td>-0.118720</td>\n",
       "      <td>-0.304390</td>\n",
       "      <td>-0.308700</td>\n",
       "      <td>0.164250</td>\n",
       "      <td>0.211120</td>\n",
       "      <td>0.159960</td>\n",
       "      <td>-0.231020</td>\n",
       "      <td>0.113860</td>\n",
       "    </tr>\n",
       "    <tr>\n",
       "      <th>86</th>\n",
       "      <td>Gemcitabine+Gemcitabine+2</td>\n",
       "      <td>0</td>\n",
       "      <td>-0.665830</td>\n",
       "      <td>-0.725630</td>\n",
       "      <td>-0.960370</td>\n",
       "      <td>-0.980240</td>\n",
       "      <td>-0.999170</td>\n",
       "      <td>-0.968460</td>\n",
       "      <td>-0.942910</td>\n",
       "      <td>-0.922550</td>\n",
       "      <td>...</td>\n",
       "      <td>-0.364990</td>\n",
       "      <td>0.141870</td>\n",
       "      <td>-0.093919</td>\n",
       "      <td>-0.339610</td>\n",
       "      <td>-0.322560</td>\n",
       "      <td>0.141870</td>\n",
       "      <td>0.249030</td>\n",
       "      <td>0.202570</td>\n",
       "      <td>-0.187940</td>\n",
       "      <td>0.086514</td>\n",
       "    </tr>\n",
       "    <tr>\n",
       "      <th>88</th>\n",
       "      <td>Gemcitabine+Gemcitabine+3</td>\n",
       "      <td>0</td>\n",
       "      <td>-0.878330</td>\n",
       "      <td>-0.520350</td>\n",
       "      <td>-0.636090</td>\n",
       "      <td>-0.784970</td>\n",
       "      <td>-0.893300</td>\n",
       "      <td>-0.631550</td>\n",
       "      <td>-0.585780</td>\n",
       "      <td>-0.570160</td>\n",
       "      <td>...</td>\n",
       "      <td>0.133530</td>\n",
       "      <td>0.228150</td>\n",
       "      <td>-0.319850</td>\n",
       "      <td>0.219740</td>\n",
       "      <td>0.190880</td>\n",
       "      <td>0.228150</td>\n",
       "      <td>-0.472540</td>\n",
       "      <td>-0.484150</td>\n",
       "      <td>-0.325380</td>\n",
       "      <td>0.362470</td>\n",
       "    </tr>\n",
       "    <tr>\n",
       "      <th>90</th>\n",
       "      <td>Gemcitabine+Gemcitabine+4</td>\n",
       "      <td>0</td>\n",
       "      <td>-0.697500</td>\n",
       "      <td>0.215210</td>\n",
       "      <td>-0.091668</td>\n",
       "      <td>0.313230</td>\n",
       "      <td>-0.075671</td>\n",
       "      <td>-0.090671</td>\n",
       "      <td>0.093784</td>\n",
       "      <td>0.087096</td>\n",
       "      <td>...</td>\n",
       "      <td>0.495020</td>\n",
       "      <td>0.301100</td>\n",
       "      <td>-0.288840</td>\n",
       "      <td>0.669520</td>\n",
       "      <td>0.638940</td>\n",
       "      <td>0.301100</td>\n",
       "      <td>-0.514150</td>\n",
       "      <td>-0.561630</td>\n",
       "      <td>-0.209890</td>\n",
       "      <td>0.369080</td>\n",
       "    </tr>\n",
       "    <tr>\n",
       "      <th>92</th>\n",
       "      <td>Gemcitabine+Gemcitabine+5</td>\n",
       "      <td>0</td>\n",
       "      <td>-0.035000</td>\n",
       "      <td>-0.205680</td>\n",
       "      <td>-0.212370</td>\n",
       "      <td>0.109260</td>\n",
       "      <td>-0.316220</td>\n",
       "      <td>-0.222360</td>\n",
       "      <td>-0.173480</td>\n",
       "      <td>-0.156270</td>\n",
       "      <td>...</td>\n",
       "      <td>-0.108000</td>\n",
       "      <td>0.050404</td>\n",
       "      <td>-0.089020</td>\n",
       "      <td>-0.092536</td>\n",
       "      <td>-0.091410</td>\n",
       "      <td>0.050404</td>\n",
       "      <td>-0.099881</td>\n",
       "      <td>-0.121120</td>\n",
       "      <td>-0.124370</td>\n",
       "      <td>0.087708</td>\n",
       "    </tr>\n",
       "    <tr>\n",
       "      <th>94</th>\n",
       "      <td>Gemcitabine+Gemcitabine+6</td>\n",
       "      <td>0</td>\n",
       "      <td>0.106630</td>\n",
       "      <td>-0.058514</td>\n",
       "      <td>0.065298</td>\n",
       "      <td>0.195070</td>\n",
       "      <td>-0.075471</td>\n",
       "      <td>-0.022524</td>\n",
       "      <td>0.091501</td>\n",
       "      <td>0.116910</td>\n",
       "      <td>...</td>\n",
       "      <td>-0.142740</td>\n",
       "      <td>0.041577</td>\n",
       "      <td>-0.030118</td>\n",
       "      <td>-0.135980</td>\n",
       "      <td>-0.143020</td>\n",
       "      <td>0.041577</td>\n",
       "      <td>0.147430</td>\n",
       "      <td>0.113920</td>\n",
       "      <td>-0.056411</td>\n",
       "      <td>-0.043697</td>\n",
       "    </tr>\n",
       "  </tbody>\n",
       "</table>\n",
       "<p>24 rows × 240 columns</p>\n",
       "</div>"
      ],
      "text/plain": [
       "                    drug_name  default       ks1       ks2       ks3  \\\n",
       "12    Etoposide+Gemcitabine+1        0 -0.749170 -0.669410 -0.927020   \n",
       "14    Etoposide+Gemcitabine+2        0 -0.913330 -0.459310 -0.413220   \n",
       "16    Etoposide+Gemcitabine+3        0 -0.690000  0.299020  0.126810   \n",
       "18    Etoposide+Gemcitabine+4        0 -0.677500  0.258400  0.152130   \n",
       "20    Etoposide+Gemcitabine+5        0 -0.060833 -0.167140 -0.198800   \n",
       "22    Etoposide+Gemcitabine+6        0  0.083015 -0.050783  0.086035   \n",
       "72    Gemcitabine+Etoposide+1        0 -0.713330 -0.774560 -0.961700   \n",
       "74    Gemcitabine+Etoposide+2        0 -0.780000 -0.722470 -0.922870   \n",
       "76    Gemcitabine+Etoposide+3        0 -0.887500 -0.541820 -0.639910   \n",
       "78    Gemcitabine+Etoposide+4        0  0.107510  0.072807  0.043609   \n",
       "80    Gemcitabine+Etoposide+5        0  0.100400 -0.083630  0.070463   \n",
       "82    Gemcitabine+Etoposide+6        0  0.133120 -0.129150 -0.104200   \n",
       "0       Etoposide+Etoposide+1        0 -0.930830 -0.494530 -0.571140   \n",
       "2       Etoposide+Etoposide+2        0 -0.925000 -0.400790 -0.318350   \n",
       "4       Etoposide+Etoposide+3        0 -0.612500  0.097551 -0.134220   \n",
       "6       Etoposide+Etoposide+4        0  0.097702 -0.056872  0.052675   \n",
       "8       Etoposide+Etoposide+5        0  0.086735  0.059167  0.080377   \n",
       "10      Etoposide+Etoposide+6        0  0.101740 -0.058135  0.029234   \n",
       "84  Gemcitabine+Gemcitabine+1        0 -0.701670 -0.739040 -0.955280   \n",
       "86  Gemcitabine+Gemcitabine+2        0 -0.665830 -0.725630 -0.960370   \n",
       "88  Gemcitabine+Gemcitabine+3        0 -0.878330 -0.520350 -0.636090   \n",
       "90  Gemcitabine+Gemcitabine+4        0 -0.697500  0.215210 -0.091668   \n",
       "92  Gemcitabine+Gemcitabine+5        0 -0.035000 -0.205680 -0.212370   \n",
       "94  Gemcitabine+Gemcitabine+6        0  0.106630 -0.058514  0.065298   \n",
       "\n",
       "         ks4       ks5       ks6       ks7       ks8  ...     ks229     ks230  \\\n",
       "12 -0.965710 -0.987910 -0.922450 -0.889720 -0.870230  ... -0.337330  0.136410   \n",
       "14 -0.696840 -0.882330 -0.497390 -0.380400 -0.361150  ...  0.137990  0.272160   \n",
       "16  0.259950  0.251080  0.149220  0.113770  0.086765  ...  0.551860  0.247790   \n",
       "18  0.207060  0.146180  0.151390  0.143780  0.126430  ...  0.485480  0.231640   \n",
       "20  0.093564 -0.258180 -0.186680 -0.175810 -0.170990  ... -0.052231  0.031219   \n",
       "22  0.068023  0.040280  0.069896  0.098187  0.105420  ... -0.099344  0.039748   \n",
       "72 -0.986490 -0.994910 -0.968090 -0.944310 -0.923210  ... -0.426610  0.111720   \n",
       "74 -0.968220 -0.994490 -0.928630 -0.905500 -0.887490  ... -0.352870  0.114080   \n",
       "76 -0.801420 -0.903400 -0.665160 -0.605320 -0.569120  ...  0.112570  0.292570   \n",
       "78  0.252200 -0.057031 -0.069156  0.059811  0.107200  ... -0.140180  0.047199   \n",
       "80  0.188350 -0.059757 -0.030308  0.102570  0.119030  ... -0.155170  0.035656   \n",
       "82  0.212200 -0.154010 -0.137190 -0.081325 -0.058404  ... -0.159840  0.054025   \n",
       "0  -0.799580 -0.885820 -0.605470 -0.502670 -0.483900  ... -0.081045  0.191610   \n",
       "2  -0.538470 -0.806570 -0.364790 -0.259440 -0.227850  ...  0.209710  0.219110   \n",
       "4   0.145150 -0.135310 -0.134520 -0.132050 -0.126850  ...  0.448330  0.139830   \n",
       "6   0.092692 -0.035013  0.022697  0.067232  0.089390  ... -0.135830  0.052788   \n",
       "8   0.131050  0.028573  0.041073  0.097591  0.110090  ... -0.094087  0.048276   \n",
       "10  0.118040 -0.071427 -0.024583  0.042422  0.067318  ... -0.105350  0.043098   \n",
       "84 -0.974470 -0.997500 -0.956020 -0.948350 -0.936790  ... -0.373150  0.164250   \n",
       "86 -0.980240 -0.999170 -0.968460 -0.942910 -0.922550  ... -0.364990  0.141870   \n",
       "88 -0.784970 -0.893300 -0.631550 -0.585780 -0.570160  ...  0.133530  0.228150   \n",
       "90  0.313230 -0.075671 -0.090671  0.093784  0.087096  ...  0.495020  0.301100   \n",
       "92  0.109260 -0.316220 -0.222360 -0.173480 -0.156270  ... -0.108000  0.050404   \n",
       "94  0.195070 -0.075471 -0.022524  0.091501  0.116910  ... -0.142740  0.041577   \n",
       "\n",
       "       ks231     ks232     ks233     ks234     ks235     ks236     ks237  \\\n",
       "12 -0.145360 -0.306520 -0.297390  0.136410  0.235710  0.167310 -0.203070   \n",
       "14 -0.289340  0.270370  0.205260  0.272160 -0.627590 -0.608650 -0.403970   \n",
       "16 -0.315200  0.722750  0.682450  0.247790 -0.531130 -0.569710 -0.181620   \n",
       "18 -0.226070  0.623180  0.595200  0.231640 -0.474370 -0.498440 -0.153010   \n",
       "20 -0.091645 -0.042901 -0.048864  0.031219 -0.108130 -0.122700 -0.088380   \n",
       "22 -0.028958 -0.091077 -0.087472  0.039748  0.081126  0.075743 -0.045866   \n",
       "72  0.116930 -0.403950 -0.403140  0.111720  0.213970  0.153460 -0.203070   \n",
       "74  0.093003 -0.329940 -0.313260  0.114080  0.193750 -0.156670 -0.252160   \n",
       "76 -0.371510  0.223130  0.180650  0.292570 -0.563060 -0.610090 -0.389750   \n",
       "78 -0.043867 -0.152010 -0.145750  0.047199  0.205450  0.190560 -0.067196   \n",
       "80 -0.036042 -0.156410 -0.152880  0.035656  0.153490  0.138390 -0.061476   \n",
       "82 -0.052054 -0.157770 -0.154720  0.054025  0.146020  0.122360 -0.071671   \n",
       "0  -0.217910  0.135640  0.109241  0.191611 -0.457840 -0.457700 -0.306950   \n",
       "2  -0.316050  0.302770  0.269690  0.219110 -0.682210 -0.677890 -0.436920   \n",
       "4  -0.284680  0.535250  0.513990  0.139830 -0.458720 -0.513200 -0.164460   \n",
       "6  -0.042936 -0.105850 -0.116150  0.052788  0.122380  0.109650 -0.061423   \n",
       "8  -0.029692 -0.090616 -0.095434  0.048276  0.135300  0.114380 -0.046655   \n",
       "10 -0.033994 -0.094549 -0.101240  0.043098  0.096732  0.081555 -0.054561   \n",
       "84 -0.118720 -0.304390 -0.308700  0.164250  0.211120  0.159960 -0.231020   \n",
       "86 -0.093919 -0.339610 -0.322560  0.141870  0.249030  0.202570 -0.187940   \n",
       "88 -0.319850  0.219740  0.190880  0.228150 -0.472540 -0.484150 -0.325380   \n",
       "90 -0.288840  0.669520  0.638940  0.301100 -0.514150 -0.561630 -0.209890   \n",
       "92 -0.089020 -0.092536 -0.091410  0.050404 -0.099881 -0.121120 -0.124370   \n",
       "94 -0.030118 -0.135980 -0.143020  0.041577  0.147430  0.113920 -0.056411   \n",
       "\n",
       "       ks238  \n",
       "12  0.135950  \n",
       "14  0.399480  \n",
       "16  0.395390  \n",
       "18  0.282530  \n",
       "20  0.100400  \n",
       "22 -0.049417  \n",
       "72  0.089149  \n",
       "74  0.117480  \n",
       "76  0.458960  \n",
       "78 -0.080784  \n",
       "80 -0.065220  \n",
       "82 -0.044196  \n",
       "0   0.244280  \n",
       "2   0.410580  \n",
       "4   0.358140  \n",
       "6  -0.056829  \n",
       "8  -0.047169  \n",
       "10 -0.039229  \n",
       "84  0.113860  \n",
       "86  0.086514  \n",
       "88  0.362470  \n",
       "90  0.369080  \n",
       "92  0.087708  \n",
       "94 -0.043697  \n",
       "\n",
       "[24 rows x 240 columns]"
      ]
     },
     "execution_count": 8,
     "metadata": {},
     "output_type": "execute_result"
    }
   ],
   "source": [
    "df=pd.read_csv('drug_with_fields.csv')\n",
    "#one type first type. dna\n",
    "df11=df.loc[(df['drug_name'] =='Etoposide+Gemcitabine+1') ]\n",
    "df12=df.loc[(df['drug_name'] =='Etoposide+Gemcitabine+2') ]\n",
    "df13=df.loc[(df['drug_name'] =='Etoposide+Gemcitabine+3') ]\n",
    "df14=df.loc[(df['drug_name'] =='Etoposide+Gemcitabine+4') ]\n",
    "df15=df.loc[(df['drug_name'] =='Etoposide+Gemcitabine+5') ]\n",
    "df16=df.loc[(df['drug_name'] =='Etoposide+Gemcitabine+6') ]\n",
    "df21=df.loc[(df['drug_name'] =='Gemcitabine+Etoposide+1') ]\n",
    "df22=df.loc[(df['drug_name'] =='Gemcitabine+Etoposide+2') ]\n",
    "df23=df.loc[(df['drug_name'] =='Gemcitabine+Etoposide+3') ]\n",
    "df24=df.loc[(df['drug_name'] =='Gemcitabine+Etoposide+4') ]\n",
    "df25=df.loc[(df['drug_name'] =='Gemcitabine+Etoposide+5') ]\n",
    "df26=df.loc[(df['drug_name'] =='Gemcitabine+Etoposide+6') ]\n",
    "df31=df.loc[(df['drug_name'] =='Etoposide+Etoposide+1') ]\n",
    "df32=df.loc[(df['drug_name'] =='Etoposide+Etoposide+2') ]\n",
    "df33=df.loc[(df['drug_name'] =='Etoposide+Etoposide+3') ]\n",
    "df34=df.loc[(df['drug_name'] =='Etoposide+Etoposide+4') ]\n",
    "df35=df.loc[(df['drug_name'] =='Etoposide+Etoposide+5') ]\n",
    "df36=df.loc[(df['drug_name'] =='Etoposide+Etoposide+6') ]\n",
    "df41=df.loc[(df['drug_name'] =='Gemcitabine+Gemcitabine+1') ]\n",
    "df42=df.loc[(df['drug_name'] =='Gemcitabine+Gemcitabine+2') ]\n",
    "df43=df.loc[(df['drug_name'] =='Gemcitabine+Gemcitabine+3') ]\n",
    "df44=df.loc[(df['drug_name'] =='Gemcitabine+Gemcitabine+4') ]\n",
    "df45=df.loc[(df['drug_name'] =='Gemcitabine+Gemcitabine+5') ]\n",
    "df46=df.loc[(df['drug_name'] =='Gemcitabine+Gemcitabine+6') ]\n",
    "frames = [df11, df12,df13,df14,df15,df16,df21,df22,df23,df24,df25,df26,df31,df32,df33,df34,df35,df36,df41,df42,df43,df44,df45,df46]\n",
    "dna = pd.concat(frames)\n",
    "dna\n"
   ]
  },
  {
   "cell_type": "code",
   "execution_count": 9,
   "metadata": {},
   "outputs": [
    {
     "data": {
      "text/html": [
       "<div>\n",
       "<style scoped>\n",
       "    .dataframe tbody tr th:only-of-type {\n",
       "        vertical-align: middle;\n",
       "    }\n",
       "\n",
       "    .dataframe tbody tr th {\n",
       "        vertical-align: top;\n",
       "    }\n",
       "\n",
       "    .dataframe thead th {\n",
       "        text-align: right;\n",
       "    }\n",
       "</style>\n",
       "<table border=\"1\" class=\"dataframe\">\n",
       "  <thead>\n",
       "    <tr style=\"text-align: right;\">\n",
       "      <th></th>\n",
       "      <th>drug_name</th>\n",
       "      <th>default</th>\n",
       "      <th>ks1</th>\n",
       "      <th>ks2</th>\n",
       "      <th>ks3</th>\n",
       "      <th>ks4</th>\n",
       "      <th>ks5</th>\n",
       "      <th>ks6</th>\n",
       "      <th>ks7</th>\n",
       "      <th>ks8</th>\n",
       "      <th>...</th>\n",
       "      <th>ks229</th>\n",
       "      <th>ks230</th>\n",
       "      <th>ks231</th>\n",
       "      <th>ks232</th>\n",
       "      <th>ks233</th>\n",
       "      <th>ks234</th>\n",
       "      <th>ks235</th>\n",
       "      <th>ks236</th>\n",
       "      <th>ks237</th>\n",
       "      <th>ks238</th>\n",
       "    </tr>\n",
       "  </thead>\n",
       "  <tbody>\n",
       "    <tr>\n",
       "      <th>12</th>\n",
       "      <td>Etoposide+Gemcitabine+1</td>\n",
       "      <td>0</td>\n",
       "      <td>-0.749170</td>\n",
       "      <td>-0.669410</td>\n",
       "      <td>-0.927020</td>\n",
       "      <td>-0.965710</td>\n",
       "      <td>-0.987910</td>\n",
       "      <td>-0.922450</td>\n",
       "      <td>-0.889720</td>\n",
       "      <td>-0.870230</td>\n",
       "      <td>...</td>\n",
       "      <td>-0.337330</td>\n",
       "      <td>0.136410</td>\n",
       "      <td>-0.145360</td>\n",
       "      <td>-0.306520</td>\n",
       "      <td>-0.297390</td>\n",
       "      <td>0.136410</td>\n",
       "      <td>0.235710</td>\n",
       "      <td>0.167310</td>\n",
       "      <td>-0.203070</td>\n",
       "      <td>0.135950</td>\n",
       "    </tr>\n",
       "    <tr>\n",
       "      <th>14</th>\n",
       "      <td>Etoposide+Gemcitabine+2</td>\n",
       "      <td>0</td>\n",
       "      <td>-0.913330</td>\n",
       "      <td>-0.459310</td>\n",
       "      <td>-0.413220</td>\n",
       "      <td>-0.696840</td>\n",
       "      <td>-0.882330</td>\n",
       "      <td>-0.497390</td>\n",
       "      <td>-0.380400</td>\n",
       "      <td>-0.361150</td>\n",
       "      <td>...</td>\n",
       "      <td>0.137990</td>\n",
       "      <td>0.272160</td>\n",
       "      <td>-0.289340</td>\n",
       "      <td>0.270370</td>\n",
       "      <td>0.205260</td>\n",
       "      <td>0.272160</td>\n",
       "      <td>-0.627590</td>\n",
       "      <td>-0.608650</td>\n",
       "      <td>-0.403970</td>\n",
       "      <td>0.399480</td>\n",
       "    </tr>\n",
       "    <tr>\n",
       "      <th>16</th>\n",
       "      <td>Etoposide+Gemcitabine+3</td>\n",
       "      <td>0</td>\n",
       "      <td>-0.690000</td>\n",
       "      <td>0.299020</td>\n",
       "      <td>0.126810</td>\n",
       "      <td>0.259950</td>\n",
       "      <td>0.251080</td>\n",
       "      <td>0.149220</td>\n",
       "      <td>0.113770</td>\n",
       "      <td>0.086765</td>\n",
       "      <td>...</td>\n",
       "      <td>0.551860</td>\n",
       "      <td>0.247790</td>\n",
       "      <td>-0.315200</td>\n",
       "      <td>0.722750</td>\n",
       "      <td>0.682450</td>\n",
       "      <td>0.247790</td>\n",
       "      <td>-0.531130</td>\n",
       "      <td>-0.569710</td>\n",
       "      <td>-0.181620</td>\n",
       "      <td>0.395390</td>\n",
       "    </tr>\n",
       "    <tr>\n",
       "      <th>18</th>\n",
       "      <td>Etoposide+Gemcitabine+4</td>\n",
       "      <td>0</td>\n",
       "      <td>-0.677500</td>\n",
       "      <td>0.258400</td>\n",
       "      <td>0.152130</td>\n",
       "      <td>0.207060</td>\n",
       "      <td>0.146180</td>\n",
       "      <td>0.151390</td>\n",
       "      <td>0.143780</td>\n",
       "      <td>0.126430</td>\n",
       "      <td>...</td>\n",
       "      <td>0.485480</td>\n",
       "      <td>0.231640</td>\n",
       "      <td>-0.226070</td>\n",
       "      <td>0.623180</td>\n",
       "      <td>0.595200</td>\n",
       "      <td>0.231640</td>\n",
       "      <td>-0.474370</td>\n",
       "      <td>-0.498440</td>\n",
       "      <td>-0.153010</td>\n",
       "      <td>0.282530</td>\n",
       "    </tr>\n",
       "    <tr>\n",
       "      <th>20</th>\n",
       "      <td>Etoposide+Gemcitabine+5</td>\n",
       "      <td>0</td>\n",
       "      <td>-0.060833</td>\n",
       "      <td>-0.167140</td>\n",
       "      <td>-0.198800</td>\n",
       "      <td>0.093564</td>\n",
       "      <td>-0.258180</td>\n",
       "      <td>-0.186680</td>\n",
       "      <td>-0.175810</td>\n",
       "      <td>-0.170990</td>\n",
       "      <td>...</td>\n",
       "      <td>-0.052231</td>\n",
       "      <td>0.031219</td>\n",
       "      <td>-0.091645</td>\n",
       "      <td>-0.042901</td>\n",
       "      <td>-0.048864</td>\n",
       "      <td>0.031219</td>\n",
       "      <td>-0.108130</td>\n",
       "      <td>-0.122700</td>\n",
       "      <td>-0.088380</td>\n",
       "      <td>0.100400</td>\n",
       "    </tr>\n",
       "    <tr>\n",
       "      <th>22</th>\n",
       "      <td>Etoposide+Gemcitabine+6</td>\n",
       "      <td>0</td>\n",
       "      <td>0.083015</td>\n",
       "      <td>-0.050783</td>\n",
       "      <td>0.086035</td>\n",
       "      <td>0.068023</td>\n",
       "      <td>0.040280</td>\n",
       "      <td>0.069896</td>\n",
       "      <td>0.098187</td>\n",
       "      <td>0.105420</td>\n",
       "      <td>...</td>\n",
       "      <td>-0.099344</td>\n",
       "      <td>0.039748</td>\n",
       "      <td>-0.028958</td>\n",
       "      <td>-0.091077</td>\n",
       "      <td>-0.087472</td>\n",
       "      <td>0.039748</td>\n",
       "      <td>0.081126</td>\n",
       "      <td>0.075743</td>\n",
       "      <td>-0.045866</td>\n",
       "      <td>-0.049417</td>\n",
       "    </tr>\n",
       "    <tr>\n",
       "      <th>72</th>\n",
       "      <td>Gemcitabine+Etoposide+1</td>\n",
       "      <td>0</td>\n",
       "      <td>-0.713330</td>\n",
       "      <td>-0.774560</td>\n",
       "      <td>-0.961700</td>\n",
       "      <td>-0.986490</td>\n",
       "      <td>-0.994910</td>\n",
       "      <td>-0.968090</td>\n",
       "      <td>-0.944310</td>\n",
       "      <td>-0.923210</td>\n",
       "      <td>...</td>\n",
       "      <td>-0.426610</td>\n",
       "      <td>0.111720</td>\n",
       "      <td>0.116930</td>\n",
       "      <td>-0.403950</td>\n",
       "      <td>-0.403140</td>\n",
       "      <td>0.111720</td>\n",
       "      <td>0.213970</td>\n",
       "      <td>0.153460</td>\n",
       "      <td>-0.203070</td>\n",
       "      <td>0.089149</td>\n",
       "    </tr>\n",
       "    <tr>\n",
       "      <th>74</th>\n",
       "      <td>Gemcitabine+Etoposide+2</td>\n",
       "      <td>0</td>\n",
       "      <td>-0.780000</td>\n",
       "      <td>-0.722470</td>\n",
       "      <td>-0.922870</td>\n",
       "      <td>-0.968220</td>\n",
       "      <td>-0.994490</td>\n",
       "      <td>-0.928630</td>\n",
       "      <td>-0.905500</td>\n",
       "      <td>-0.887490</td>\n",
       "      <td>...</td>\n",
       "      <td>-0.352870</td>\n",
       "      <td>0.114080</td>\n",
       "      <td>0.093003</td>\n",
       "      <td>-0.329940</td>\n",
       "      <td>-0.313260</td>\n",
       "      <td>0.114080</td>\n",
       "      <td>0.193750</td>\n",
       "      <td>-0.156670</td>\n",
       "      <td>-0.252160</td>\n",
       "      <td>0.117480</td>\n",
       "    </tr>\n",
       "    <tr>\n",
       "      <th>76</th>\n",
       "      <td>Gemcitabine+Etoposide+3</td>\n",
       "      <td>0</td>\n",
       "      <td>-0.887500</td>\n",
       "      <td>-0.541820</td>\n",
       "      <td>-0.639910</td>\n",
       "      <td>-0.801420</td>\n",
       "      <td>-0.903400</td>\n",
       "      <td>-0.665160</td>\n",
       "      <td>-0.605320</td>\n",
       "      <td>-0.569120</td>\n",
       "      <td>...</td>\n",
       "      <td>0.112570</td>\n",
       "      <td>0.292570</td>\n",
       "      <td>-0.371510</td>\n",
       "      <td>0.223130</td>\n",
       "      <td>0.180650</td>\n",
       "      <td>0.292570</td>\n",
       "      <td>-0.563060</td>\n",
       "      <td>-0.610090</td>\n",
       "      <td>-0.389750</td>\n",
       "      <td>0.458960</td>\n",
       "    </tr>\n",
       "    <tr>\n",
       "      <th>78</th>\n",
       "      <td>Gemcitabine+Etoposide+4</td>\n",
       "      <td>0</td>\n",
       "      <td>0.107510</td>\n",
       "      <td>0.072807</td>\n",
       "      <td>0.043609</td>\n",
       "      <td>0.252200</td>\n",
       "      <td>-0.057031</td>\n",
       "      <td>-0.069156</td>\n",
       "      <td>0.059811</td>\n",
       "      <td>0.107200</td>\n",
       "      <td>...</td>\n",
       "      <td>-0.140180</td>\n",
       "      <td>0.047199</td>\n",
       "      <td>-0.043867</td>\n",
       "      <td>-0.152010</td>\n",
       "      <td>-0.145750</td>\n",
       "      <td>0.047199</td>\n",
       "      <td>0.205450</td>\n",
       "      <td>0.190560</td>\n",
       "      <td>-0.067196</td>\n",
       "      <td>-0.080784</td>\n",
       "    </tr>\n",
       "    <tr>\n",
       "      <th>80</th>\n",
       "      <td>Gemcitabine+Etoposide+5</td>\n",
       "      <td>0</td>\n",
       "      <td>0.100400</td>\n",
       "      <td>-0.083630</td>\n",
       "      <td>0.070463</td>\n",
       "      <td>0.188350</td>\n",
       "      <td>-0.059757</td>\n",
       "      <td>-0.030308</td>\n",
       "      <td>0.102570</td>\n",
       "      <td>0.119030</td>\n",
       "      <td>...</td>\n",
       "      <td>-0.155170</td>\n",
       "      <td>0.035656</td>\n",
       "      <td>-0.036042</td>\n",
       "      <td>-0.156410</td>\n",
       "      <td>-0.152880</td>\n",
       "      <td>0.035656</td>\n",
       "      <td>0.153490</td>\n",
       "      <td>0.138390</td>\n",
       "      <td>-0.061476</td>\n",
       "      <td>-0.065220</td>\n",
       "    </tr>\n",
       "    <tr>\n",
       "      <th>82</th>\n",
       "      <td>Gemcitabine+Etoposide+6</td>\n",
       "      <td>0</td>\n",
       "      <td>0.133120</td>\n",
       "      <td>-0.129150</td>\n",
       "      <td>-0.104200</td>\n",
       "      <td>0.212200</td>\n",
       "      <td>-0.154010</td>\n",
       "      <td>-0.137190</td>\n",
       "      <td>-0.081325</td>\n",
       "      <td>-0.058404</td>\n",
       "      <td>...</td>\n",
       "      <td>-0.159840</td>\n",
       "      <td>0.054025</td>\n",
       "      <td>-0.052054</td>\n",
       "      <td>-0.157770</td>\n",
       "      <td>-0.154720</td>\n",
       "      <td>0.054025</td>\n",
       "      <td>0.146020</td>\n",
       "      <td>0.122360</td>\n",
       "      <td>-0.071671</td>\n",
       "      <td>-0.044196</td>\n",
       "    </tr>\n",
       "    <tr>\n",
       "      <th>0</th>\n",
       "      <td>Etoposide+Etoposide+1</td>\n",
       "      <td>0</td>\n",
       "      <td>-0.930830</td>\n",
       "      <td>-0.494530</td>\n",
       "      <td>-0.571140</td>\n",
       "      <td>-0.799580</td>\n",
       "      <td>-0.885820</td>\n",
       "      <td>-0.605470</td>\n",
       "      <td>-0.502670</td>\n",
       "      <td>-0.483900</td>\n",
       "      <td>...</td>\n",
       "      <td>-0.081045</td>\n",
       "      <td>0.191610</td>\n",
       "      <td>-0.217910</td>\n",
       "      <td>0.135640</td>\n",
       "      <td>0.109241</td>\n",
       "      <td>0.191611</td>\n",
       "      <td>-0.457840</td>\n",
       "      <td>-0.457700</td>\n",
       "      <td>-0.306950</td>\n",
       "      <td>0.244280</td>\n",
       "    </tr>\n",
       "    <tr>\n",
       "      <th>2</th>\n",
       "      <td>Etoposide+Etoposide+2</td>\n",
       "      <td>0</td>\n",
       "      <td>-0.925000</td>\n",
       "      <td>-0.400790</td>\n",
       "      <td>-0.318350</td>\n",
       "      <td>-0.538470</td>\n",
       "      <td>-0.806570</td>\n",
       "      <td>-0.364790</td>\n",
       "      <td>-0.259440</td>\n",
       "      <td>-0.227850</td>\n",
       "      <td>...</td>\n",
       "      <td>0.209710</td>\n",
       "      <td>0.219110</td>\n",
       "      <td>-0.316050</td>\n",
       "      <td>0.302770</td>\n",
       "      <td>0.269690</td>\n",
       "      <td>0.219110</td>\n",
       "      <td>-0.682210</td>\n",
       "      <td>-0.677890</td>\n",
       "      <td>-0.436920</td>\n",
       "      <td>0.410580</td>\n",
       "    </tr>\n",
       "    <tr>\n",
       "      <th>4</th>\n",
       "      <td>Etoposide+Etoposide+3</td>\n",
       "      <td>0</td>\n",
       "      <td>-0.612500</td>\n",
       "      <td>0.097551</td>\n",
       "      <td>-0.134220</td>\n",
       "      <td>0.145150</td>\n",
       "      <td>-0.135310</td>\n",
       "      <td>-0.134520</td>\n",
       "      <td>-0.132050</td>\n",
       "      <td>-0.126850</td>\n",
       "      <td>...</td>\n",
       "      <td>0.448330</td>\n",
       "      <td>0.139830</td>\n",
       "      <td>-0.284680</td>\n",
       "      <td>0.535250</td>\n",
       "      <td>0.513990</td>\n",
       "      <td>0.139830</td>\n",
       "      <td>-0.458720</td>\n",
       "      <td>-0.513200</td>\n",
       "      <td>-0.164460</td>\n",
       "      <td>0.358140</td>\n",
       "    </tr>\n",
       "    <tr>\n",
       "      <th>6</th>\n",
       "      <td>Etoposide+Etoposide+4</td>\n",
       "      <td>0</td>\n",
       "      <td>0.097702</td>\n",
       "      <td>-0.056872</td>\n",
       "      <td>0.052675</td>\n",
       "      <td>0.092692</td>\n",
       "      <td>-0.035013</td>\n",
       "      <td>0.022697</td>\n",
       "      <td>0.067232</td>\n",
       "      <td>0.089390</td>\n",
       "      <td>...</td>\n",
       "      <td>-0.135830</td>\n",
       "      <td>0.052788</td>\n",
       "      <td>-0.042936</td>\n",
       "      <td>-0.105850</td>\n",
       "      <td>-0.116150</td>\n",
       "      <td>0.052788</td>\n",
       "      <td>0.122380</td>\n",
       "      <td>0.109650</td>\n",
       "      <td>-0.061423</td>\n",
       "      <td>-0.056829</td>\n",
       "    </tr>\n",
       "    <tr>\n",
       "      <th>8</th>\n",
       "      <td>Etoposide+Etoposide+5</td>\n",
       "      <td>0</td>\n",
       "      <td>0.086735</td>\n",
       "      <td>0.059167</td>\n",
       "      <td>0.080377</td>\n",
       "      <td>0.131050</td>\n",
       "      <td>0.028573</td>\n",
       "      <td>0.041073</td>\n",
       "      <td>0.097591</td>\n",
       "      <td>0.110090</td>\n",
       "      <td>...</td>\n",
       "      <td>-0.094087</td>\n",
       "      <td>0.048276</td>\n",
       "      <td>-0.029692</td>\n",
       "      <td>-0.090616</td>\n",
       "      <td>-0.095434</td>\n",
       "      <td>0.048276</td>\n",
       "      <td>0.135300</td>\n",
       "      <td>0.114380</td>\n",
       "      <td>-0.046655</td>\n",
       "      <td>-0.047169</td>\n",
       "    </tr>\n",
       "    <tr>\n",
       "      <th>10</th>\n",
       "      <td>Etoposide+Etoposide+6</td>\n",
       "      <td>0</td>\n",
       "      <td>0.101740</td>\n",
       "      <td>-0.058135</td>\n",
       "      <td>0.029234</td>\n",
       "      <td>0.118040</td>\n",
       "      <td>-0.071427</td>\n",
       "      <td>-0.024583</td>\n",
       "      <td>0.042422</td>\n",
       "      <td>0.067318</td>\n",
       "      <td>...</td>\n",
       "      <td>-0.105350</td>\n",
       "      <td>0.043098</td>\n",
       "      <td>-0.033994</td>\n",
       "      <td>-0.094549</td>\n",
       "      <td>-0.101240</td>\n",
       "      <td>0.043098</td>\n",
       "      <td>0.096732</td>\n",
       "      <td>0.081555</td>\n",
       "      <td>-0.054561</td>\n",
       "      <td>-0.039229</td>\n",
       "    </tr>\n",
       "    <tr>\n",
       "      <th>84</th>\n",
       "      <td>Gemcitabine+Gemcitabine+1</td>\n",
       "      <td>0</td>\n",
       "      <td>-0.701670</td>\n",
       "      <td>-0.739040</td>\n",
       "      <td>-0.955280</td>\n",
       "      <td>-0.974470</td>\n",
       "      <td>-0.997500</td>\n",
       "      <td>-0.956020</td>\n",
       "      <td>-0.948350</td>\n",
       "      <td>-0.936790</td>\n",
       "      <td>...</td>\n",
       "      <td>-0.373150</td>\n",
       "      <td>0.164250</td>\n",
       "      <td>-0.118720</td>\n",
       "      <td>-0.304390</td>\n",
       "      <td>-0.308700</td>\n",
       "      <td>0.164250</td>\n",
       "      <td>0.211120</td>\n",
       "      <td>0.159960</td>\n",
       "      <td>-0.231020</td>\n",
       "      <td>0.113860</td>\n",
       "    </tr>\n",
       "    <tr>\n",
       "      <th>86</th>\n",
       "      <td>Gemcitabine+Gemcitabine+2</td>\n",
       "      <td>0</td>\n",
       "      <td>-0.665830</td>\n",
       "      <td>-0.725630</td>\n",
       "      <td>-0.960370</td>\n",
       "      <td>-0.980240</td>\n",
       "      <td>-0.999170</td>\n",
       "      <td>-0.968460</td>\n",
       "      <td>-0.942910</td>\n",
       "      <td>-0.922550</td>\n",
       "      <td>...</td>\n",
       "      <td>-0.364990</td>\n",
       "      <td>0.141870</td>\n",
       "      <td>-0.093919</td>\n",
       "      <td>-0.339610</td>\n",
       "      <td>-0.322560</td>\n",
       "      <td>0.141870</td>\n",
       "      <td>0.249030</td>\n",
       "      <td>0.202570</td>\n",
       "      <td>-0.187940</td>\n",
       "      <td>0.086514</td>\n",
       "    </tr>\n",
       "    <tr>\n",
       "      <th>88</th>\n",
       "      <td>Gemcitabine+Gemcitabine+3</td>\n",
       "      <td>0</td>\n",
       "      <td>-0.878330</td>\n",
       "      <td>-0.520350</td>\n",
       "      <td>-0.636090</td>\n",
       "      <td>-0.784970</td>\n",
       "      <td>-0.893300</td>\n",
       "      <td>-0.631550</td>\n",
       "      <td>-0.585780</td>\n",
       "      <td>-0.570160</td>\n",
       "      <td>...</td>\n",
       "      <td>0.133530</td>\n",
       "      <td>0.228150</td>\n",
       "      <td>-0.319850</td>\n",
       "      <td>0.219740</td>\n",
       "      <td>0.190880</td>\n",
       "      <td>0.228150</td>\n",
       "      <td>-0.472540</td>\n",
       "      <td>-0.484150</td>\n",
       "      <td>-0.325380</td>\n",
       "      <td>0.362470</td>\n",
       "    </tr>\n",
       "    <tr>\n",
       "      <th>90</th>\n",
       "      <td>Gemcitabine+Gemcitabine+4</td>\n",
       "      <td>0</td>\n",
       "      <td>-0.697500</td>\n",
       "      <td>0.215210</td>\n",
       "      <td>-0.091668</td>\n",
       "      <td>0.313230</td>\n",
       "      <td>-0.075671</td>\n",
       "      <td>-0.090671</td>\n",
       "      <td>0.093784</td>\n",
       "      <td>0.087096</td>\n",
       "      <td>...</td>\n",
       "      <td>0.495020</td>\n",
       "      <td>0.301100</td>\n",
       "      <td>-0.288840</td>\n",
       "      <td>0.669520</td>\n",
       "      <td>0.638940</td>\n",
       "      <td>0.301100</td>\n",
       "      <td>-0.514150</td>\n",
       "      <td>-0.561630</td>\n",
       "      <td>-0.209890</td>\n",
       "      <td>0.369080</td>\n",
       "    </tr>\n",
       "    <tr>\n",
       "      <th>92</th>\n",
       "      <td>Gemcitabine+Gemcitabine+5</td>\n",
       "      <td>0</td>\n",
       "      <td>-0.035000</td>\n",
       "      <td>-0.205680</td>\n",
       "      <td>-0.212370</td>\n",
       "      <td>0.109260</td>\n",
       "      <td>-0.316220</td>\n",
       "      <td>-0.222360</td>\n",
       "      <td>-0.173480</td>\n",
       "      <td>-0.156270</td>\n",
       "      <td>...</td>\n",
       "      <td>-0.108000</td>\n",
       "      <td>0.050404</td>\n",
       "      <td>-0.089020</td>\n",
       "      <td>-0.092536</td>\n",
       "      <td>-0.091410</td>\n",
       "      <td>0.050404</td>\n",
       "      <td>-0.099881</td>\n",
       "      <td>-0.121120</td>\n",
       "      <td>-0.124370</td>\n",
       "      <td>0.087708</td>\n",
       "    </tr>\n",
       "    <tr>\n",
       "      <th>94</th>\n",
       "      <td>Gemcitabine+Gemcitabine+6</td>\n",
       "      <td>0</td>\n",
       "      <td>0.106630</td>\n",
       "      <td>-0.058514</td>\n",
       "      <td>0.065298</td>\n",
       "      <td>0.195070</td>\n",
       "      <td>-0.075471</td>\n",
       "      <td>-0.022524</td>\n",
       "      <td>0.091501</td>\n",
       "      <td>0.116910</td>\n",
       "      <td>...</td>\n",
       "      <td>-0.142740</td>\n",
       "      <td>0.041577</td>\n",
       "      <td>-0.030118</td>\n",
       "      <td>-0.135980</td>\n",
       "      <td>-0.143020</td>\n",
       "      <td>0.041577</td>\n",
       "      <td>0.147430</td>\n",
       "      <td>0.113920</td>\n",
       "      <td>-0.056411</td>\n",
       "      <td>-0.043697</td>\n",
       "    </tr>\n",
       "  </tbody>\n",
       "</table>\n",
       "<p>24 rows × 240 columns</p>\n",
       "</div>"
      ],
      "text/plain": [
       "                    drug_name  default       ks1       ks2       ks3  \\\n",
       "12    Etoposide+Gemcitabine+1        0 -0.749170 -0.669410 -0.927020   \n",
       "14    Etoposide+Gemcitabine+2        0 -0.913330 -0.459310 -0.413220   \n",
       "16    Etoposide+Gemcitabine+3        0 -0.690000  0.299020  0.126810   \n",
       "18    Etoposide+Gemcitabine+4        0 -0.677500  0.258400  0.152130   \n",
       "20    Etoposide+Gemcitabine+5        0 -0.060833 -0.167140 -0.198800   \n",
       "22    Etoposide+Gemcitabine+6        0  0.083015 -0.050783  0.086035   \n",
       "72    Gemcitabine+Etoposide+1        0 -0.713330 -0.774560 -0.961700   \n",
       "74    Gemcitabine+Etoposide+2        0 -0.780000 -0.722470 -0.922870   \n",
       "76    Gemcitabine+Etoposide+3        0 -0.887500 -0.541820 -0.639910   \n",
       "78    Gemcitabine+Etoposide+4        0  0.107510  0.072807  0.043609   \n",
       "80    Gemcitabine+Etoposide+5        0  0.100400 -0.083630  0.070463   \n",
       "82    Gemcitabine+Etoposide+6        0  0.133120 -0.129150 -0.104200   \n",
       "0       Etoposide+Etoposide+1        0 -0.930830 -0.494530 -0.571140   \n",
       "2       Etoposide+Etoposide+2        0 -0.925000 -0.400790 -0.318350   \n",
       "4       Etoposide+Etoposide+3        0 -0.612500  0.097551 -0.134220   \n",
       "6       Etoposide+Etoposide+4        0  0.097702 -0.056872  0.052675   \n",
       "8       Etoposide+Etoposide+5        0  0.086735  0.059167  0.080377   \n",
       "10      Etoposide+Etoposide+6        0  0.101740 -0.058135  0.029234   \n",
       "84  Gemcitabine+Gemcitabine+1        0 -0.701670 -0.739040 -0.955280   \n",
       "86  Gemcitabine+Gemcitabine+2        0 -0.665830 -0.725630 -0.960370   \n",
       "88  Gemcitabine+Gemcitabine+3        0 -0.878330 -0.520350 -0.636090   \n",
       "90  Gemcitabine+Gemcitabine+4        0 -0.697500  0.215210 -0.091668   \n",
       "92  Gemcitabine+Gemcitabine+5        0 -0.035000 -0.205680 -0.212370   \n",
       "94  Gemcitabine+Gemcitabine+6        0  0.106630 -0.058514  0.065298   \n",
       "\n",
       "         ks4       ks5       ks6       ks7       ks8  ...     ks229     ks230  \\\n",
       "12 -0.965710 -0.987910 -0.922450 -0.889720 -0.870230  ... -0.337330  0.136410   \n",
       "14 -0.696840 -0.882330 -0.497390 -0.380400 -0.361150  ...  0.137990  0.272160   \n",
       "16  0.259950  0.251080  0.149220  0.113770  0.086765  ...  0.551860  0.247790   \n",
       "18  0.207060  0.146180  0.151390  0.143780  0.126430  ...  0.485480  0.231640   \n",
       "20  0.093564 -0.258180 -0.186680 -0.175810 -0.170990  ... -0.052231  0.031219   \n",
       "22  0.068023  0.040280  0.069896  0.098187  0.105420  ... -0.099344  0.039748   \n",
       "72 -0.986490 -0.994910 -0.968090 -0.944310 -0.923210  ... -0.426610  0.111720   \n",
       "74 -0.968220 -0.994490 -0.928630 -0.905500 -0.887490  ... -0.352870  0.114080   \n",
       "76 -0.801420 -0.903400 -0.665160 -0.605320 -0.569120  ...  0.112570  0.292570   \n",
       "78  0.252200 -0.057031 -0.069156  0.059811  0.107200  ... -0.140180  0.047199   \n",
       "80  0.188350 -0.059757 -0.030308  0.102570  0.119030  ... -0.155170  0.035656   \n",
       "82  0.212200 -0.154010 -0.137190 -0.081325 -0.058404  ... -0.159840  0.054025   \n",
       "0  -0.799580 -0.885820 -0.605470 -0.502670 -0.483900  ... -0.081045  0.191610   \n",
       "2  -0.538470 -0.806570 -0.364790 -0.259440 -0.227850  ...  0.209710  0.219110   \n",
       "4   0.145150 -0.135310 -0.134520 -0.132050 -0.126850  ...  0.448330  0.139830   \n",
       "6   0.092692 -0.035013  0.022697  0.067232  0.089390  ... -0.135830  0.052788   \n",
       "8   0.131050  0.028573  0.041073  0.097591  0.110090  ... -0.094087  0.048276   \n",
       "10  0.118040 -0.071427 -0.024583  0.042422  0.067318  ... -0.105350  0.043098   \n",
       "84 -0.974470 -0.997500 -0.956020 -0.948350 -0.936790  ... -0.373150  0.164250   \n",
       "86 -0.980240 -0.999170 -0.968460 -0.942910 -0.922550  ... -0.364990  0.141870   \n",
       "88 -0.784970 -0.893300 -0.631550 -0.585780 -0.570160  ...  0.133530  0.228150   \n",
       "90  0.313230 -0.075671 -0.090671  0.093784  0.087096  ...  0.495020  0.301100   \n",
       "92  0.109260 -0.316220 -0.222360 -0.173480 -0.156270  ... -0.108000  0.050404   \n",
       "94  0.195070 -0.075471 -0.022524  0.091501  0.116910  ... -0.142740  0.041577   \n",
       "\n",
       "       ks231     ks232     ks233     ks234     ks235     ks236     ks237  \\\n",
       "12 -0.145360 -0.306520 -0.297390  0.136410  0.235710  0.167310 -0.203070   \n",
       "14 -0.289340  0.270370  0.205260  0.272160 -0.627590 -0.608650 -0.403970   \n",
       "16 -0.315200  0.722750  0.682450  0.247790 -0.531130 -0.569710 -0.181620   \n",
       "18 -0.226070  0.623180  0.595200  0.231640 -0.474370 -0.498440 -0.153010   \n",
       "20 -0.091645 -0.042901 -0.048864  0.031219 -0.108130 -0.122700 -0.088380   \n",
       "22 -0.028958 -0.091077 -0.087472  0.039748  0.081126  0.075743 -0.045866   \n",
       "72  0.116930 -0.403950 -0.403140  0.111720  0.213970  0.153460 -0.203070   \n",
       "74  0.093003 -0.329940 -0.313260  0.114080  0.193750 -0.156670 -0.252160   \n",
       "76 -0.371510  0.223130  0.180650  0.292570 -0.563060 -0.610090 -0.389750   \n",
       "78 -0.043867 -0.152010 -0.145750  0.047199  0.205450  0.190560 -0.067196   \n",
       "80 -0.036042 -0.156410 -0.152880  0.035656  0.153490  0.138390 -0.061476   \n",
       "82 -0.052054 -0.157770 -0.154720  0.054025  0.146020  0.122360 -0.071671   \n",
       "0  -0.217910  0.135640  0.109241  0.191611 -0.457840 -0.457700 -0.306950   \n",
       "2  -0.316050  0.302770  0.269690  0.219110 -0.682210 -0.677890 -0.436920   \n",
       "4  -0.284680  0.535250  0.513990  0.139830 -0.458720 -0.513200 -0.164460   \n",
       "6  -0.042936 -0.105850 -0.116150  0.052788  0.122380  0.109650 -0.061423   \n",
       "8  -0.029692 -0.090616 -0.095434  0.048276  0.135300  0.114380 -0.046655   \n",
       "10 -0.033994 -0.094549 -0.101240  0.043098  0.096732  0.081555 -0.054561   \n",
       "84 -0.118720 -0.304390 -0.308700  0.164250  0.211120  0.159960 -0.231020   \n",
       "86 -0.093919 -0.339610 -0.322560  0.141870  0.249030  0.202570 -0.187940   \n",
       "88 -0.319850  0.219740  0.190880  0.228150 -0.472540 -0.484150 -0.325380   \n",
       "90 -0.288840  0.669520  0.638940  0.301100 -0.514150 -0.561630 -0.209890   \n",
       "92 -0.089020 -0.092536 -0.091410  0.050404 -0.099881 -0.121120 -0.124370   \n",
       "94 -0.030118 -0.135980 -0.143020  0.041577  0.147430  0.113920 -0.056411   \n",
       "\n",
       "       ks238  \n",
       "12  0.135950  \n",
       "14  0.399480  \n",
       "16  0.395390  \n",
       "18  0.282530  \n",
       "20  0.100400  \n",
       "22 -0.049417  \n",
       "72  0.089149  \n",
       "74  0.117480  \n",
       "76  0.458960  \n",
       "78 -0.080784  \n",
       "80 -0.065220  \n",
       "82 -0.044196  \n",
       "0   0.244280  \n",
       "2   0.410580  \n",
       "4   0.358140  \n",
       "6  -0.056829  \n",
       "8  -0.047169  \n",
       "10 -0.039229  \n",
       "84  0.113860  \n",
       "86  0.086514  \n",
       "88  0.362470  \n",
       "90  0.369080  \n",
       "92  0.087708  \n",
       "94 -0.043697  \n",
       "\n",
       "[24 rows x 240 columns]"
      ]
     },
     "execution_count": 9,
     "metadata": {},
     "output_type": "execute_result"
    }
   ],
   "source": [
    "\n",
    "#one type first type. mt\n",
    "df11=df.loc[(df['drug_name'] =='Paclitaxel+Vinblastine+1') ]\n",
    "df12=df.loc[(df['drug_name'] =='Paclitaxel+Vinblastine+2') ]\n",
    "df13=df.loc[(df['drug_name'] =='Paclitaxel+Vinblastine+3') ]\n",
    "df14=df.loc[(df['drug_name'] =='Paclitaxel+Vinblastine+4') ]\n",
    "df15=df.loc[(df['drug_name'] =='Paclitaxel+Vinblastine+5') ]\n",
    "df16=df.loc[(df['drug_name'] =='Paclitaxel+Vinblastine+6') ]\n",
    "df21=df.loc[(df['drug_name'] =='Vinblastine+Paclitaxel+1') ]\n",
    "df22=df.loc[(df['drug_name'] =='Vinblastine+Paclitaxel+2') ]\n",
    "df23=df.loc[(df['drug_name'] =='Vinblastine+Paclitaxel+3') ]\n",
    "df24=df.loc[(df['drug_name'] =='Vinblastine+Paclitaxel+4') ]\n",
    "df25=df.loc[(df['drug_name'] =='Vinblastine+Paclitaxel+5') ]\n",
    "df26=df.loc[(df['drug_name'] =='Vinblastine+Paclitaxel+6') ]\n",
    "df31=df.loc[(df['drug_name'] =='Paclitaxel+Paclitaxel+1') ]\n",
    "df32=df.loc[(df['drug_name'] =='Paclitaxel+Paclitaxel+2') ]\n",
    "df33=df.loc[(df['drug_name'] =='Paclitaxel+Paclitaxel+3') ]\n",
    "df34=df.loc[(df['drug_name'] =='Paclitaxel+Paclitaxel+4') ]\n",
    "df35=df.loc[(df['drug_name'] =='Paclitaxel+Paclitaxel+5') ]\n",
    "df36=df.loc[(df['drug_name'] =='Paclitaxel+Paclitaxel+6') ]\n",
    "df41=df.loc[(df['drug_name'] =='Vinblastine+Vinblastine+1') ]\n",
    "df42=df.loc[(df['drug_name'] =='Vinblastine+Vinblastine+2') ]\n",
    "df43=df.loc[(df['drug_name'] =='Vinblastine+Vinblastine+3') ]\n",
    "df44=df.loc[(df['drug_name'] =='Vinblastine+Vinblastine+4') ]\n",
    "df45=df.loc[(df['drug_name'] =='Vinblastine+Vinblastine+5') ]\n",
    "df46=df.loc[(df['drug_name'] =='Vinblastine+Vinblastine+6') ]\n",
    "frames2 = [df11, df12,df13,df14,df15,df16,df21,df22,df23,df24,df25,df26,df31,df32,df33,df34,df35,df36,df41,df42,df43,df44,df45,df46]\n",
    "mt= pd.concat(frames)\n",
    "mt\n",
    "\n"
   ]
  },
  {
   "cell_type": "code",
   "execution_count": 10,
   "metadata": {},
   "outputs": [
    {
     "data": {
      "text/html": [
       "<div>\n",
       "<style scoped>\n",
       "    .dataframe tbody tr th:only-of-type {\n",
       "        vertical-align: middle;\n",
       "    }\n",
       "\n",
       "    .dataframe tbody tr th {\n",
       "        vertical-align: top;\n",
       "    }\n",
       "\n",
       "    .dataframe thead th {\n",
       "        text-align: right;\n",
       "    }\n",
       "</style>\n",
       "<table border=\"1\" class=\"dataframe\">\n",
       "  <thead>\n",
       "    <tr style=\"text-align: right;\">\n",
       "      <th></th>\n",
       "      <th>drug_name</th>\n",
       "      <th>default</th>\n",
       "      <th>ks1</th>\n",
       "      <th>ks2</th>\n",
       "      <th>ks3</th>\n",
       "      <th>ks4</th>\n",
       "      <th>ks5</th>\n",
       "      <th>ks6</th>\n",
       "      <th>ks7</th>\n",
       "      <th>ks8</th>\n",
       "      <th>...</th>\n",
       "      <th>ks229</th>\n",
       "      <th>ks230</th>\n",
       "      <th>ks231</th>\n",
       "      <th>ks232</th>\n",
       "      <th>ks233</th>\n",
       "      <th>ks234</th>\n",
       "      <th>ks235</th>\n",
       "      <th>ks236</th>\n",
       "      <th>ks237</th>\n",
       "      <th>ks238</th>\n",
       "    </tr>\n",
       "  </thead>\n",
       "  <tbody>\n",
       "    <tr>\n",
       "      <th>397</th>\n",
       "      <td>17AAG+AUY922+1</td>\n",
       "      <td>0</td>\n",
       "      <td>-0.687500</td>\n",
       "      <td>-0.755260</td>\n",
       "      <td>-0.976050</td>\n",
       "      <td>-0.989520</td>\n",
       "      <td>-0.997500</td>\n",
       "      <td>-0.976050</td>\n",
       "      <td>-0.971550</td>\n",
       "      <td>-0.954580</td>\n",
       "      <td>...</td>\n",
       "      <td>-0.430090</td>\n",
       "      <td>-0.045055</td>\n",
       "      <td>0.163330</td>\n",
       "      <td>-0.445040</td>\n",
       "      <td>-0.421380</td>\n",
       "      <td>-0.045055</td>\n",
       "      <td>0.36891</td>\n",
       "      <td>0.29652</td>\n",
       "      <td>-0.122430</td>\n",
       "      <td>-0.178410</td>\n",
       "    </tr>\n",
       "    <tr>\n",
       "      <th>399</th>\n",
       "      <td>17AAG+AUY922+2</td>\n",
       "      <td>0</td>\n",
       "      <td>-0.825000</td>\n",
       "      <td>-0.707500</td>\n",
       "      <td>-0.900000</td>\n",
       "      <td>-0.978330</td>\n",
       "      <td>-0.987500</td>\n",
       "      <td>-0.909170</td>\n",
       "      <td>-0.884170</td>\n",
       "      <td>-0.863330</td>\n",
       "      <td>...</td>\n",
       "      <td>-0.365830</td>\n",
       "      <td>0.105000</td>\n",
       "      <td>0.118330</td>\n",
       "      <td>-0.355000</td>\n",
       "      <td>-0.344170</td>\n",
       "      <td>0.105000</td>\n",
       "      <td>0.27750</td>\n",
       "      <td>0.21667</td>\n",
       "      <td>-0.170830</td>\n",
       "      <td>-0.143330</td>\n",
       "    </tr>\n",
       "    <tr>\n",
       "      <th>401</th>\n",
       "      <td>17AAG+AUY922+3</td>\n",
       "      <td>0</td>\n",
       "      <td>-0.901670</td>\n",
       "      <td>-0.624760</td>\n",
       "      <td>-0.745490</td>\n",
       "      <td>-0.910350</td>\n",
       "      <td>-0.942800</td>\n",
       "      <td>-0.778430</td>\n",
       "      <td>-0.707540</td>\n",
       "      <td>-0.668760</td>\n",
       "      <td>...</td>\n",
       "      <td>-0.311990</td>\n",
       "      <td>0.122720</td>\n",
       "      <td>-0.130750</td>\n",
       "      <td>-0.291750</td>\n",
       "      <td>-0.269310</td>\n",
       "      <td>0.122720</td>\n",
       "      <td>-0.24902</td>\n",
       "      <td>-0.29693</td>\n",
       "      <td>-0.254250</td>\n",
       "      <td>0.169760</td>\n",
       "    </tr>\n",
       "    <tr>\n",
       "      <th>403</th>\n",
       "      <td>17AAG+AUY922+4</td>\n",
       "      <td>0</td>\n",
       "      <td>-0.212590</td>\n",
       "      <td>-0.045150</td>\n",
       "      <td>-0.105950</td>\n",
       "      <td>0.138100</td>\n",
       "      <td>-0.125270</td>\n",
       "      <td>-0.140810</td>\n",
       "      <td>-0.099238</td>\n",
       "      <td>-0.083805</td>\n",
       "      <td>...</td>\n",
       "      <td>0.127000</td>\n",
       "      <td>0.055021</td>\n",
       "      <td>-0.071852</td>\n",
       "      <td>0.180470</td>\n",
       "      <td>0.171570</td>\n",
       "      <td>0.055021</td>\n",
       "      <td>-0.14462</td>\n",
       "      <td>-0.16088</td>\n",
       "      <td>-0.077014</td>\n",
       "      <td>0.103630</td>\n",
       "    </tr>\n",
       "    <tr>\n",
       "      <th>405</th>\n",
       "      <td>17AAG+AUY922+5</td>\n",
       "      <td>0</td>\n",
       "      <td>0.041125</td>\n",
       "      <td>-0.062162</td>\n",
       "      <td>-0.045596</td>\n",
       "      <td>0.138780</td>\n",
       "      <td>-0.093122</td>\n",
       "      <td>-0.079141</td>\n",
       "      <td>-0.038862</td>\n",
       "      <td>0.030323</td>\n",
       "      <td>...</td>\n",
       "      <td>-0.053139</td>\n",
       "      <td>0.045375</td>\n",
       "      <td>0.040604</td>\n",
       "      <td>-0.072692</td>\n",
       "      <td>-0.072666</td>\n",
       "      <td>0.045375</td>\n",
       "      <td>0.11420</td>\n",
       "      <td>0.12236</td>\n",
       "      <td>-0.047177</td>\n",
       "      <td>-0.064111</td>\n",
       "    </tr>\n",
       "    <tr>\n",
       "      <th>407</th>\n",
       "      <td>17AAG+AUY922+6</td>\n",
       "      <td>0</td>\n",
       "      <td>0.072607</td>\n",
       "      <td>0.077800</td>\n",
       "      <td>0.108570</td>\n",
       "      <td>0.095616</td>\n",
       "      <td>0.047839</td>\n",
       "      <td>0.069354</td>\n",
       "      <td>0.108910</td>\n",
       "      <td>0.125410</td>\n",
       "      <td>...</td>\n",
       "      <td>-0.061909</td>\n",
       "      <td>0.039102</td>\n",
       "      <td>0.054175</td>\n",
       "      <td>-0.058110</td>\n",
       "      <td>-0.060372</td>\n",
       "      <td>0.039102</td>\n",
       "      <td>0.15201</td>\n",
       "      <td>0.15448</td>\n",
       "      <td>-0.029300</td>\n",
       "      <td>-0.091250</td>\n",
       "    </tr>\n",
       "    <tr>\n",
       "      <th>457</th>\n",
       "      <td>AUY922+17AAG+1</td>\n",
       "      <td>0</td>\n",
       "      <td>-0.617500</td>\n",
       "      <td>-0.711270</td>\n",
       "      <td>-0.956650</td>\n",
       "      <td>-0.983560</td>\n",
       "      <td>-0.995900</td>\n",
       "      <td>-0.964020</td>\n",
       "      <td>-0.941880</td>\n",
       "      <td>-0.926140</td>\n",
       "      <td>...</td>\n",
       "      <td>-0.332990</td>\n",
       "      <td>0.094657</td>\n",
       "      <td>-0.088627</td>\n",
       "      <td>-0.322840</td>\n",
       "      <td>-0.315650</td>\n",
       "      <td>0.094657</td>\n",
       "      <td>0.30183</td>\n",
       "      <td>0.22358</td>\n",
       "      <td>-0.136450</td>\n",
       "      <td>-0.113220</td>\n",
       "    </tr>\n",
       "    <tr>\n",
       "      <th>459</th>\n",
       "      <td>AUY922+17AAG+2</td>\n",
       "      <td>0</td>\n",
       "      <td>-0.870830</td>\n",
       "      <td>-0.466670</td>\n",
       "      <td>-0.526110</td>\n",
       "      <td>-0.780000</td>\n",
       "      <td>-0.910560</td>\n",
       "      <td>-0.551390</td>\n",
       "      <td>-0.504720</td>\n",
       "      <td>-0.485000</td>\n",
       "      <td>...</td>\n",
       "      <td>0.140000</td>\n",
       "      <td>0.229440</td>\n",
       "      <td>-0.350830</td>\n",
       "      <td>0.275830</td>\n",
       "      <td>0.232500</td>\n",
       "      <td>0.229440</td>\n",
       "      <td>-0.56694</td>\n",
       "      <td>-0.58306</td>\n",
       "      <td>-0.392500</td>\n",
       "      <td>0.398330</td>\n",
       "    </tr>\n",
       "    <tr>\n",
       "      <th>461</th>\n",
       "      <td>AUY922+17AAG+3</td>\n",
       "      <td>0</td>\n",
       "      <td>-0.687500</td>\n",
       "      <td>0.268900</td>\n",
       "      <td>-0.082731</td>\n",
       "      <td>0.328500</td>\n",
       "      <td>-0.089468</td>\n",
       "      <td>-0.081637</td>\n",
       "      <td>-0.072430</td>\n",
       "      <td>-0.067992</td>\n",
       "      <td>...</td>\n",
       "      <td>0.535290</td>\n",
       "      <td>0.248180</td>\n",
       "      <td>-0.307180</td>\n",
       "      <td>0.700600</td>\n",
       "      <td>0.663700</td>\n",
       "      <td>0.248180</td>\n",
       "      <td>-0.45772</td>\n",
       "      <td>-0.51238</td>\n",
       "      <td>-0.128500</td>\n",
       "      <td>0.350480</td>\n",
       "    </tr>\n",
       "    <tr>\n",
       "      <th>463</th>\n",
       "      <td>AUY922+17AAG+4</td>\n",
       "      <td>0</td>\n",
       "      <td>-0.685830</td>\n",
       "      <td>0.205200</td>\n",
       "      <td>-0.101370</td>\n",
       "      <td>0.276860</td>\n",
       "      <td>-0.130360</td>\n",
       "      <td>-0.100220</td>\n",
       "      <td>-0.079942</td>\n",
       "      <td>-0.077863</td>\n",
       "      <td>...</td>\n",
       "      <td>0.447060</td>\n",
       "      <td>0.263450</td>\n",
       "      <td>-0.183240</td>\n",
       "      <td>0.575830</td>\n",
       "      <td>0.572680</td>\n",
       "      <td>0.263450</td>\n",
       "      <td>-0.40132</td>\n",
       "      <td>-0.41589</td>\n",
       "      <td>-0.217430</td>\n",
       "      <td>0.230600</td>\n",
       "    </tr>\n",
       "    <tr>\n",
       "      <th>465</th>\n",
       "      <td>AUY922+17AAG+5</td>\n",
       "      <td>0</td>\n",
       "      <td>0.092078</td>\n",
       "      <td>-0.142130</td>\n",
       "      <td>-0.176780</td>\n",
       "      <td>0.237510</td>\n",
       "      <td>-0.268390</td>\n",
       "      <td>-0.245390</td>\n",
       "      <td>-0.150500</td>\n",
       "      <td>-0.114020</td>\n",
       "      <td>...</td>\n",
       "      <td>-0.139190</td>\n",
       "      <td>0.034783</td>\n",
       "      <td>0.040403</td>\n",
       "      <td>-0.131820</td>\n",
       "      <td>-0.139940</td>\n",
       "      <td>0.034783</td>\n",
       "      <td>0.13699</td>\n",
       "      <td>0.13144</td>\n",
       "      <td>-0.066351</td>\n",
       "      <td>-0.064588</td>\n",
       "    </tr>\n",
       "    <tr>\n",
       "      <th>467</th>\n",
       "      <td>AUY922+17AAG+6</td>\n",
       "      <td>0</td>\n",
       "      <td>0.086807</td>\n",
       "      <td>-0.080649</td>\n",
       "      <td>-0.091017</td>\n",
       "      <td>0.262560</td>\n",
       "      <td>-0.173160</td>\n",
       "      <td>-0.164350</td>\n",
       "      <td>-0.066861</td>\n",
       "      <td>-0.042175</td>\n",
       "      <td>...</td>\n",
       "      <td>-0.118740</td>\n",
       "      <td>-0.036071</td>\n",
       "      <td>0.028203</td>\n",
       "      <td>-0.137110</td>\n",
       "      <td>-0.126330</td>\n",
       "      <td>-0.036071</td>\n",
       "      <td>0.18423</td>\n",
       "      <td>0.16933</td>\n",
       "      <td>-0.049978</td>\n",
       "      <td>-0.076613</td>\n",
       "    </tr>\n",
       "    <tr>\n",
       "      <th>469</th>\n",
       "      <td>AUY922+AUY922+1</td>\n",
       "      <td>0</td>\n",
       "      <td>-0.500830</td>\n",
       "      <td>-0.824920</td>\n",
       "      <td>-0.988020</td>\n",
       "      <td>-0.997140</td>\n",
       "      <td>-0.998800</td>\n",
       "      <td>-0.989220</td>\n",
       "      <td>-0.983600</td>\n",
       "      <td>-0.980840</td>\n",
       "      <td>...</td>\n",
       "      <td>-0.475160</td>\n",
       "      <td>0.040314</td>\n",
       "      <td>0.292840</td>\n",
       "      <td>-0.492960</td>\n",
       "      <td>-0.470880</td>\n",
       "      <td>0.040314</td>\n",
       "      <td>0.57405</td>\n",
       "      <td>0.50833</td>\n",
       "      <td>-0.103530</td>\n",
       "      <td>-0.360010</td>\n",
       "    </tr>\n",
       "    <tr>\n",
       "      <th>471</th>\n",
       "      <td>AUY922+AUY922+2</td>\n",
       "      <td>0</td>\n",
       "      <td>-0.714170</td>\n",
       "      <td>-0.738300</td>\n",
       "      <td>-0.950710</td>\n",
       "      <td>-0.983230</td>\n",
       "      <td>-0.994480</td>\n",
       "      <td>-0.954260</td>\n",
       "      <td>-0.925510</td>\n",
       "      <td>-0.897170</td>\n",
       "      <td>...</td>\n",
       "      <td>-0.349280</td>\n",
       "      <td>0.129500</td>\n",
       "      <td>0.119570</td>\n",
       "      <td>-0.331520</td>\n",
       "      <td>-0.316300</td>\n",
       "      <td>0.129500</td>\n",
       "      <td>0.27907</td>\n",
       "      <td>0.21604</td>\n",
       "      <td>-0.160560</td>\n",
       "      <td>-0.121330</td>\n",
       "    </tr>\n",
       "    <tr>\n",
       "      <th>473</th>\n",
       "      <td>AUY922+AUY922+3</td>\n",
       "      <td>0</td>\n",
       "      <td>-0.760000</td>\n",
       "      <td>-0.752280</td>\n",
       "      <td>-0.912620</td>\n",
       "      <td>-0.969860</td>\n",
       "      <td>-0.992310</td>\n",
       "      <td>-0.912720</td>\n",
       "      <td>-0.897030</td>\n",
       "      <td>-0.880270</td>\n",
       "      <td>...</td>\n",
       "      <td>-0.344360</td>\n",
       "      <td>0.127250</td>\n",
       "      <td>-0.094740</td>\n",
       "      <td>-0.299720</td>\n",
       "      <td>-0.302970</td>\n",
       "      <td>0.127250</td>\n",
       "      <td>-0.18398</td>\n",
       "      <td>-0.18712</td>\n",
       "      <td>-0.251700</td>\n",
       "      <td>0.106070</td>\n",
       "    </tr>\n",
       "    <tr>\n",
       "      <th>475</th>\n",
       "      <td>AUY922+AUY922+4</td>\n",
       "      <td>0</td>\n",
       "      <td>-0.781670</td>\n",
       "      <td>0.176640</td>\n",
       "      <td>-0.113040</td>\n",
       "      <td>0.299460</td>\n",
       "      <td>-0.145990</td>\n",
       "      <td>-0.121720</td>\n",
       "      <td>-0.105750</td>\n",
       "      <td>-0.090565</td>\n",
       "      <td>...</td>\n",
       "      <td>0.538220</td>\n",
       "      <td>0.301600</td>\n",
       "      <td>-0.239870</td>\n",
       "      <td>0.664760</td>\n",
       "      <td>0.634390</td>\n",
       "      <td>0.301600</td>\n",
       "      <td>-0.56582</td>\n",
       "      <td>-0.57415</td>\n",
       "      <td>-0.217920</td>\n",
       "      <td>0.320560</td>\n",
       "    </tr>\n",
       "    <tr>\n",
       "      <th>477</th>\n",
       "      <td>AUY922+AUY922+5</td>\n",
       "      <td>0</td>\n",
       "      <td>-0.062247</td>\n",
       "      <td>-0.260270</td>\n",
       "      <td>-0.332000</td>\n",
       "      <td>0.151170</td>\n",
       "      <td>-0.456140</td>\n",
       "      <td>-0.360700</td>\n",
       "      <td>-0.291960</td>\n",
       "      <td>-0.262450</td>\n",
       "      <td>...</td>\n",
       "      <td>-0.057064</td>\n",
       "      <td>0.068009</td>\n",
       "      <td>-0.077889</td>\n",
       "      <td>-0.059540</td>\n",
       "      <td>-0.065136</td>\n",
       "      <td>0.068009</td>\n",
       "      <td>-0.14487</td>\n",
       "      <td>-0.15538</td>\n",
       "      <td>-0.112140</td>\n",
       "      <td>0.064177</td>\n",
       "    </tr>\n",
       "    <tr>\n",
       "      <th>479</th>\n",
       "      <td>AUY922+AUY922+6</td>\n",
       "      <td>0</td>\n",
       "      <td>0.094453</td>\n",
       "      <td>-0.056431</td>\n",
       "      <td>0.024914</td>\n",
       "      <td>-0.018491</td>\n",
       "      <td>-0.062686</td>\n",
       "      <td>-0.034803</td>\n",
       "      <td>0.036248</td>\n",
       "      <td>0.052053</td>\n",
       "      <td>...</td>\n",
       "      <td>-0.113150</td>\n",
       "      <td>0.055665</td>\n",
       "      <td>0.040311</td>\n",
       "      <td>-0.119280</td>\n",
       "      <td>-0.112650</td>\n",
       "      <td>0.055665</td>\n",
       "      <td>0.14191</td>\n",
       "      <td>0.14122</td>\n",
       "      <td>-0.052779</td>\n",
       "      <td>-0.084489</td>\n",
       "    </tr>\n",
       "    <tr>\n",
       "      <th>385</th>\n",
       "      <td>17AAG+17AAG+1</td>\n",
       "      <td>0</td>\n",
       "      <td>-0.861670</td>\n",
       "      <td>-0.679570</td>\n",
       "      <td>-0.838320</td>\n",
       "      <td>-0.955340</td>\n",
       "      <td>-0.958010</td>\n",
       "      <td>-0.838230</td>\n",
       "      <td>-0.805820</td>\n",
       "      <td>-0.790750</td>\n",
       "      <td>...</td>\n",
       "      <td>-0.198660</td>\n",
       "      <td>0.195630</td>\n",
       "      <td>-0.208590</td>\n",
       "      <td>-0.185780</td>\n",
       "      <td>-0.165000</td>\n",
       "      <td>0.195630</td>\n",
       "      <td>-0.35155</td>\n",
       "      <td>-0.36160</td>\n",
       "      <td>-0.292090</td>\n",
       "      <td>0.248890</td>\n",
       "    </tr>\n",
       "    <tr>\n",
       "      <th>387</th>\n",
       "      <td>17AAG+17AAG+2</td>\n",
       "      <td>0</td>\n",
       "      <td>-0.898330</td>\n",
       "      <td>-0.425800</td>\n",
       "      <td>-0.486410</td>\n",
       "      <td>-0.687730</td>\n",
       "      <td>-0.852260</td>\n",
       "      <td>-0.499650</td>\n",
       "      <td>-0.444240</td>\n",
       "      <td>-0.426290</td>\n",
       "      <td>...</td>\n",
       "      <td>0.229190</td>\n",
       "      <td>0.225830</td>\n",
       "      <td>-0.308520</td>\n",
       "      <td>0.295970</td>\n",
       "      <td>0.254480</td>\n",
       "      <td>0.225830</td>\n",
       "      <td>-0.62820</td>\n",
       "      <td>-0.64773</td>\n",
       "      <td>-0.397580</td>\n",
       "      <td>0.395790</td>\n",
       "    </tr>\n",
       "    <tr>\n",
       "      <th>389</th>\n",
       "      <td>17AAG+17AAG+3</td>\n",
       "      <td>0</td>\n",
       "      <td>-0.580000</td>\n",
       "      <td>0.050205</td>\n",
       "      <td>-0.170540</td>\n",
       "      <td>-0.059912</td>\n",
       "      <td>-0.170250</td>\n",
       "      <td>-0.171580</td>\n",
       "      <td>-0.168360</td>\n",
       "      <td>-0.160250</td>\n",
       "      <td>...</td>\n",
       "      <td>0.392620</td>\n",
       "      <td>0.205000</td>\n",
       "      <td>-0.268390</td>\n",
       "      <td>0.509170</td>\n",
       "      <td>0.483000</td>\n",
       "      <td>0.205000</td>\n",
       "      <td>-0.45724</td>\n",
       "      <td>-0.47493</td>\n",
       "      <td>-0.196080</td>\n",
       "      <td>0.305180</td>\n",
       "    </tr>\n",
       "    <tr>\n",
       "      <th>391</th>\n",
       "      <td>17AAG+17AAG+4</td>\n",
       "      <td>0</td>\n",
       "      <td>0.123770</td>\n",
       "      <td>-0.074506</td>\n",
       "      <td>-0.067362</td>\n",
       "      <td>0.109620</td>\n",
       "      <td>-0.096618</td>\n",
       "      <td>-0.121330</td>\n",
       "      <td>-0.059557</td>\n",
       "      <td>-0.035920</td>\n",
       "      <td>...</td>\n",
       "      <td>-0.103270</td>\n",
       "      <td>-0.029803</td>\n",
       "      <td>0.017400</td>\n",
       "      <td>-0.115760</td>\n",
       "      <td>-0.116890</td>\n",
       "      <td>-0.029803</td>\n",
       "      <td>0.14552</td>\n",
       "      <td>0.15470</td>\n",
       "      <td>-0.024412</td>\n",
       "      <td>-0.091311</td>\n",
       "    </tr>\n",
       "    <tr>\n",
       "      <th>393</th>\n",
       "      <td>17AAG+17AAG+5</td>\n",
       "      <td>0</td>\n",
       "      <td>0.103830</td>\n",
       "      <td>-0.070053</td>\n",
       "      <td>-0.093880</td>\n",
       "      <td>0.073408</td>\n",
       "      <td>-0.102620</td>\n",
       "      <td>-0.139060</td>\n",
       "      <td>-0.090679</td>\n",
       "      <td>-0.056269</td>\n",
       "      <td>...</td>\n",
       "      <td>-0.104840</td>\n",
       "      <td>0.022707</td>\n",
       "      <td>0.041385</td>\n",
       "      <td>-0.105700</td>\n",
       "      <td>-0.105690</td>\n",
       "      <td>0.022707</td>\n",
       "      <td>0.14385</td>\n",
       "      <td>0.14191</td>\n",
       "      <td>-0.045663</td>\n",
       "      <td>-0.072357</td>\n",
       "    </tr>\n",
       "    <tr>\n",
       "      <th>395</th>\n",
       "      <td>17AAG+17AAG+6</td>\n",
       "      <td>0</td>\n",
       "      <td>0.116620</td>\n",
       "      <td>-0.076437</td>\n",
       "      <td>-0.046308</td>\n",
       "      <td>0.120910</td>\n",
       "      <td>-0.102580</td>\n",
       "      <td>-0.068888</td>\n",
       "      <td>-0.033459</td>\n",
       "      <td>0.025073</td>\n",
       "      <td>...</td>\n",
       "      <td>-0.118240</td>\n",
       "      <td>0.044498</td>\n",
       "      <td>0.034456</td>\n",
       "      <td>-0.108620</td>\n",
       "      <td>-0.109910</td>\n",
       "      <td>0.044498</td>\n",
       "      <td>0.11005</td>\n",
       "      <td>0.11127</td>\n",
       "      <td>-0.057057</td>\n",
       "      <td>-0.050202</td>\n",
       "    </tr>\n",
       "  </tbody>\n",
       "</table>\n",
       "<p>24 rows × 240 columns</p>\n",
       "</div>"
      ],
      "text/plain": [
       "           drug_name  default       ks1       ks2       ks3       ks4  \\\n",
       "397   17AAG+AUY922+1        0 -0.687500 -0.755260 -0.976050 -0.989520   \n",
       "399   17AAG+AUY922+2        0 -0.825000 -0.707500 -0.900000 -0.978330   \n",
       "401   17AAG+AUY922+3        0 -0.901670 -0.624760 -0.745490 -0.910350   \n",
       "403   17AAG+AUY922+4        0 -0.212590 -0.045150 -0.105950  0.138100   \n",
       "405   17AAG+AUY922+5        0  0.041125 -0.062162 -0.045596  0.138780   \n",
       "407   17AAG+AUY922+6        0  0.072607  0.077800  0.108570  0.095616   \n",
       "457   AUY922+17AAG+1        0 -0.617500 -0.711270 -0.956650 -0.983560   \n",
       "459   AUY922+17AAG+2        0 -0.870830 -0.466670 -0.526110 -0.780000   \n",
       "461   AUY922+17AAG+3        0 -0.687500  0.268900 -0.082731  0.328500   \n",
       "463   AUY922+17AAG+4        0 -0.685830  0.205200 -0.101370  0.276860   \n",
       "465   AUY922+17AAG+5        0  0.092078 -0.142130 -0.176780  0.237510   \n",
       "467   AUY922+17AAG+6        0  0.086807 -0.080649 -0.091017  0.262560   \n",
       "469  AUY922+AUY922+1        0 -0.500830 -0.824920 -0.988020 -0.997140   \n",
       "471  AUY922+AUY922+2        0 -0.714170 -0.738300 -0.950710 -0.983230   \n",
       "473  AUY922+AUY922+3        0 -0.760000 -0.752280 -0.912620 -0.969860   \n",
       "475  AUY922+AUY922+4        0 -0.781670  0.176640 -0.113040  0.299460   \n",
       "477  AUY922+AUY922+5        0 -0.062247 -0.260270 -0.332000  0.151170   \n",
       "479  AUY922+AUY922+6        0  0.094453 -0.056431  0.024914 -0.018491   \n",
       "385    17AAG+17AAG+1        0 -0.861670 -0.679570 -0.838320 -0.955340   \n",
       "387    17AAG+17AAG+2        0 -0.898330 -0.425800 -0.486410 -0.687730   \n",
       "389    17AAG+17AAG+3        0 -0.580000  0.050205 -0.170540 -0.059912   \n",
       "391    17AAG+17AAG+4        0  0.123770 -0.074506 -0.067362  0.109620   \n",
       "393    17AAG+17AAG+5        0  0.103830 -0.070053 -0.093880  0.073408   \n",
       "395    17AAG+17AAG+6        0  0.116620 -0.076437 -0.046308  0.120910   \n",
       "\n",
       "          ks5       ks6       ks7       ks8  ...     ks229     ks230  \\\n",
       "397 -0.997500 -0.976050 -0.971550 -0.954580  ... -0.430090 -0.045055   \n",
       "399 -0.987500 -0.909170 -0.884170 -0.863330  ... -0.365830  0.105000   \n",
       "401 -0.942800 -0.778430 -0.707540 -0.668760  ... -0.311990  0.122720   \n",
       "403 -0.125270 -0.140810 -0.099238 -0.083805  ...  0.127000  0.055021   \n",
       "405 -0.093122 -0.079141 -0.038862  0.030323  ... -0.053139  0.045375   \n",
       "407  0.047839  0.069354  0.108910  0.125410  ... -0.061909  0.039102   \n",
       "457 -0.995900 -0.964020 -0.941880 -0.926140  ... -0.332990  0.094657   \n",
       "459 -0.910560 -0.551390 -0.504720 -0.485000  ...  0.140000  0.229440   \n",
       "461 -0.089468 -0.081637 -0.072430 -0.067992  ...  0.535290  0.248180   \n",
       "463 -0.130360 -0.100220 -0.079942 -0.077863  ...  0.447060  0.263450   \n",
       "465 -0.268390 -0.245390 -0.150500 -0.114020  ... -0.139190  0.034783   \n",
       "467 -0.173160 -0.164350 -0.066861 -0.042175  ... -0.118740 -0.036071   \n",
       "469 -0.998800 -0.989220 -0.983600 -0.980840  ... -0.475160  0.040314   \n",
       "471 -0.994480 -0.954260 -0.925510 -0.897170  ... -0.349280  0.129500   \n",
       "473 -0.992310 -0.912720 -0.897030 -0.880270  ... -0.344360  0.127250   \n",
       "475 -0.145990 -0.121720 -0.105750 -0.090565  ...  0.538220  0.301600   \n",
       "477 -0.456140 -0.360700 -0.291960 -0.262450  ... -0.057064  0.068009   \n",
       "479 -0.062686 -0.034803  0.036248  0.052053  ... -0.113150  0.055665   \n",
       "385 -0.958010 -0.838230 -0.805820 -0.790750  ... -0.198660  0.195630   \n",
       "387 -0.852260 -0.499650 -0.444240 -0.426290  ...  0.229190  0.225830   \n",
       "389 -0.170250 -0.171580 -0.168360 -0.160250  ...  0.392620  0.205000   \n",
       "391 -0.096618 -0.121330 -0.059557 -0.035920  ... -0.103270 -0.029803   \n",
       "393 -0.102620 -0.139060 -0.090679 -0.056269  ... -0.104840  0.022707   \n",
       "395 -0.102580 -0.068888 -0.033459  0.025073  ... -0.118240  0.044498   \n",
       "\n",
       "        ks231     ks232     ks233     ks234    ks235    ks236     ks237  \\\n",
       "397  0.163330 -0.445040 -0.421380 -0.045055  0.36891  0.29652 -0.122430   \n",
       "399  0.118330 -0.355000 -0.344170  0.105000  0.27750  0.21667 -0.170830   \n",
       "401 -0.130750 -0.291750 -0.269310  0.122720 -0.24902 -0.29693 -0.254250   \n",
       "403 -0.071852  0.180470  0.171570  0.055021 -0.14462 -0.16088 -0.077014   \n",
       "405  0.040604 -0.072692 -0.072666  0.045375  0.11420  0.12236 -0.047177   \n",
       "407  0.054175 -0.058110 -0.060372  0.039102  0.15201  0.15448 -0.029300   \n",
       "457 -0.088627 -0.322840 -0.315650  0.094657  0.30183  0.22358 -0.136450   \n",
       "459 -0.350830  0.275830  0.232500  0.229440 -0.56694 -0.58306 -0.392500   \n",
       "461 -0.307180  0.700600  0.663700  0.248180 -0.45772 -0.51238 -0.128500   \n",
       "463 -0.183240  0.575830  0.572680  0.263450 -0.40132 -0.41589 -0.217430   \n",
       "465  0.040403 -0.131820 -0.139940  0.034783  0.13699  0.13144 -0.066351   \n",
       "467  0.028203 -0.137110 -0.126330 -0.036071  0.18423  0.16933 -0.049978   \n",
       "469  0.292840 -0.492960 -0.470880  0.040314  0.57405  0.50833 -0.103530   \n",
       "471  0.119570 -0.331520 -0.316300  0.129500  0.27907  0.21604 -0.160560   \n",
       "473 -0.094740 -0.299720 -0.302970  0.127250 -0.18398 -0.18712 -0.251700   \n",
       "475 -0.239870  0.664760  0.634390  0.301600 -0.56582 -0.57415 -0.217920   \n",
       "477 -0.077889 -0.059540 -0.065136  0.068009 -0.14487 -0.15538 -0.112140   \n",
       "479  0.040311 -0.119280 -0.112650  0.055665  0.14191  0.14122 -0.052779   \n",
       "385 -0.208590 -0.185780 -0.165000  0.195630 -0.35155 -0.36160 -0.292090   \n",
       "387 -0.308520  0.295970  0.254480  0.225830 -0.62820 -0.64773 -0.397580   \n",
       "389 -0.268390  0.509170  0.483000  0.205000 -0.45724 -0.47493 -0.196080   \n",
       "391  0.017400 -0.115760 -0.116890 -0.029803  0.14552  0.15470 -0.024412   \n",
       "393  0.041385 -0.105700 -0.105690  0.022707  0.14385  0.14191 -0.045663   \n",
       "395  0.034456 -0.108620 -0.109910  0.044498  0.11005  0.11127 -0.057057   \n",
       "\n",
       "        ks238  \n",
       "397 -0.178410  \n",
       "399 -0.143330  \n",
       "401  0.169760  \n",
       "403  0.103630  \n",
       "405 -0.064111  \n",
       "407 -0.091250  \n",
       "457 -0.113220  \n",
       "459  0.398330  \n",
       "461  0.350480  \n",
       "463  0.230600  \n",
       "465 -0.064588  \n",
       "467 -0.076613  \n",
       "469 -0.360010  \n",
       "471 -0.121330  \n",
       "473  0.106070  \n",
       "475  0.320560  \n",
       "477  0.064177  \n",
       "479 -0.084489  \n",
       "385  0.248890  \n",
       "387  0.395790  \n",
       "389  0.305180  \n",
       "391 -0.091311  \n",
       "393 -0.072357  \n",
       "395 -0.050202  \n",
       "\n",
       "[24 rows x 240 columns]"
      ]
     },
     "execution_count": 10,
     "metadata": {},
     "output_type": "execute_result"
    }
   ],
   "source": [
    "#Dna ： etoposide，Gemcitabine\n",
    "#hsp：17aag，auy922\n",
    "#mt：paclitaxel，Vinblastine\n",
    "#prot：\"MG132\"，ps341\n",
    "#hdac：saha，apicidin\n",
    "\n",
    "frames3=[]\n",
    "for i in range(1,7):\n",
    "    frames3.append(df.loc[(df['drug_name'] =='17AAG+AUY922+'+str(i)) ])\n",
    "for j in range(1,7):\n",
    "    frames3.append(df.loc[(df['drug_name'] =='AUY922+17AAG+'+str(j)) ])\n",
    "for k in range(1,7):\n",
    "    frames3.append(df.loc[(df['drug_name'] =='AUY922+AUY922+'+str(k)) ])\n",
    "for m in range(1,7):\n",
    "    frames3.append(df.loc[(df['drug_name'] =='17AAG+17AAG+'+str(m)) ])\n",
    "HSP= pd.concat(frames3)\n",
    "HSP\n"
   ]
  },
  {
   "cell_type": "code",
   "execution_count": 11,
   "metadata": {},
   "outputs": [
    {
     "data": {
      "text/html": [
       "<div>\n",
       "<style scoped>\n",
       "    .dataframe tbody tr th:only-of-type {\n",
       "        vertical-align: middle;\n",
       "    }\n",
       "\n",
       "    .dataframe tbody tr th {\n",
       "        vertical-align: top;\n",
       "    }\n",
       "\n",
       "    .dataframe thead th {\n",
       "        text-align: right;\n",
       "    }\n",
       "</style>\n",
       "<table border=\"1\" class=\"dataframe\">\n",
       "  <thead>\n",
       "    <tr style=\"text-align: right;\">\n",
       "      <th></th>\n",
       "      <th>drug_name</th>\n",
       "      <th>default</th>\n",
       "      <th>ks1</th>\n",
       "      <th>ks2</th>\n",
       "      <th>ks3</th>\n",
       "      <th>ks4</th>\n",
       "      <th>ks5</th>\n",
       "      <th>ks6</th>\n",
       "      <th>ks7</th>\n",
       "      <th>ks8</th>\n",
       "      <th>...</th>\n",
       "      <th>ks229</th>\n",
       "      <th>ks230</th>\n",
       "      <th>ks231</th>\n",
       "      <th>ks232</th>\n",
       "      <th>ks233</th>\n",
       "      <th>ks234</th>\n",
       "      <th>ks235</th>\n",
       "      <th>ks236</th>\n",
       "      <th>ks237</th>\n",
       "      <th>ks238</th>\n",
       "    </tr>\n",
       "  </thead>\n",
       "  <tbody>\n",
       "    <tr>\n",
       "      <th>541</th>\n",
       "      <td>MG132+PS341+1</td>\n",
       "      <td>0</td>\n",
       "      <td>-0.988330</td>\n",
       "      <td>0.204550</td>\n",
       "      <td>0.490610</td>\n",
       "      <td>-0.466820</td>\n",
       "      <td>-0.147270</td>\n",
       "      <td>0.485150</td>\n",
       "      <td>0.499770</td>\n",
       "      <td>0.460610</td>\n",
       "      <td>...</td>\n",
       "      <td>0.378110</td>\n",
       "      <td>0.383940</td>\n",
       "      <td>-0.519700</td>\n",
       "      <td>0.485080</td>\n",
       "      <td>0.486890</td>\n",
       "      <td>0.383940</td>\n",
       "      <td>-0.656890</td>\n",
       "      <td>-0.654770</td>\n",
       "      <td>-0.435230</td>\n",
       "      <td>0.565530</td>\n",
       "    </tr>\n",
       "    <tr>\n",
       "      <th>543</th>\n",
       "      <td>MG132+PS341+2</td>\n",
       "      <td>0</td>\n",
       "      <td>-0.629170</td>\n",
       "      <td>0.433960</td>\n",
       "      <td>0.379030</td>\n",
       "      <td>0.161740</td>\n",
       "      <td>0.430830</td>\n",
       "      <td>0.349370</td>\n",
       "      <td>0.359510</td>\n",
       "      <td>0.368470</td>\n",
       "      <td>...</td>\n",
       "      <td>0.551670</td>\n",
       "      <td>0.129240</td>\n",
       "      <td>-0.055764</td>\n",
       "      <td>0.623680</td>\n",
       "      <td>0.611810</td>\n",
       "      <td>0.129240</td>\n",
       "      <td>-0.416530</td>\n",
       "      <td>-0.422010</td>\n",
       "      <td>-0.167920</td>\n",
       "      <td>0.180970</td>\n",
       "    </tr>\n",
       "    <tr>\n",
       "      <th>545</th>\n",
       "      <td>MG132+PS341+3</td>\n",
       "      <td>0</td>\n",
       "      <td>-0.409170</td>\n",
       "      <td>0.256740</td>\n",
       "      <td>0.175900</td>\n",
       "      <td>0.226020</td>\n",
       "      <td>0.120820</td>\n",
       "      <td>0.123790</td>\n",
       "      <td>0.188730</td>\n",
       "      <td>0.214750</td>\n",
       "      <td>...</td>\n",
       "      <td>0.328920</td>\n",
       "      <td>0.095963</td>\n",
       "      <td>-0.063551</td>\n",
       "      <td>0.382580</td>\n",
       "      <td>0.367300</td>\n",
       "      <td>0.095963</td>\n",
       "      <td>-0.204490</td>\n",
       "      <td>-0.171420</td>\n",
       "      <td>-0.132560</td>\n",
       "      <td>-0.038409</td>\n",
       "    </tr>\n",
       "    <tr>\n",
       "      <th>547</th>\n",
       "      <td>MG132+PS341+4</td>\n",
       "      <td>0</td>\n",
       "      <td>-0.342500</td>\n",
       "      <td>0.250800</td>\n",
       "      <td>0.244160</td>\n",
       "      <td>0.164610</td>\n",
       "      <td>0.140700</td>\n",
       "      <td>0.211330</td>\n",
       "      <td>0.257470</td>\n",
       "      <td>0.264390</td>\n",
       "      <td>...</td>\n",
       "      <td>0.294790</td>\n",
       "      <td>0.084982</td>\n",
       "      <td>-0.049263</td>\n",
       "      <td>0.353040</td>\n",
       "      <td>0.346170</td>\n",
       "      <td>0.084982</td>\n",
       "      <td>-0.218010</td>\n",
       "      <td>-0.184390</td>\n",
       "      <td>-0.067262</td>\n",
       "      <td>-0.024066</td>\n",
       "    </tr>\n",
       "    <tr>\n",
       "      <th>549</th>\n",
       "      <td>MG132+PS341+5</td>\n",
       "      <td>0</td>\n",
       "      <td>-0.046438</td>\n",
       "      <td>0.081620</td>\n",
       "      <td>0.094815</td>\n",
       "      <td>0.102460</td>\n",
       "      <td>-0.028970</td>\n",
       "      <td>0.061817</td>\n",
       "      <td>0.100800</td>\n",
       "      <td>0.107850</td>\n",
       "      <td>...</td>\n",
       "      <td>0.042222</td>\n",
       "      <td>-0.038748</td>\n",
       "      <td>0.036114</td>\n",
       "      <td>0.055844</td>\n",
       "      <td>0.059583</td>\n",
       "      <td>-0.038748</td>\n",
       "      <td>-0.048999</td>\n",
       "      <td>-0.043861</td>\n",
       "      <td>-0.039795</td>\n",
       "      <td>-0.056240</td>\n",
       "    </tr>\n",
       "    <tr>\n",
       "      <th>551</th>\n",
       "      <td>MG132+PS341+6</td>\n",
       "      <td>0</td>\n",
       "      <td>0.129920</td>\n",
       "      <td>-0.068248</td>\n",
       "      <td>0.061794</td>\n",
       "      <td>0.063990</td>\n",
       "      <td>-0.032913</td>\n",
       "      <td>0.028012</td>\n",
       "      <td>0.072540</td>\n",
       "      <td>0.082882</td>\n",
       "      <td>...</td>\n",
       "      <td>-0.137470</td>\n",
       "      <td>0.024990</td>\n",
       "      <td>0.023410</td>\n",
       "      <td>-0.152750</td>\n",
       "      <td>-0.147150</td>\n",
       "      <td>0.024990</td>\n",
       "      <td>0.159570</td>\n",
       "      <td>0.146420</td>\n",
       "      <td>-0.042805</td>\n",
       "      <td>-0.084911</td>\n",
       "    </tr>\n",
       "    <tr>\n",
       "      <th>601</th>\n",
       "      <td>PS341+MG132+1</td>\n",
       "      <td>0</td>\n",
       "      <td>-0.317470</td>\n",
       "      <td>-0.844290</td>\n",
       "      <td>-0.999150</td>\n",
       "      <td>-0.999170</td>\n",
       "      <td>-1.000000</td>\n",
       "      <td>-1.000000</td>\n",
       "      <td>-0.999150</td>\n",
       "      <td>-0.997460</td>\n",
       "      <td>...</td>\n",
       "      <td>-0.595790</td>\n",
       "      <td>-0.129110</td>\n",
       "      <td>0.521820</td>\n",
       "      <td>-0.636430</td>\n",
       "      <td>-0.594600</td>\n",
       "      <td>-0.129110</td>\n",
       "      <td>0.871410</td>\n",
       "      <td>0.839770</td>\n",
       "      <td>0.254930</td>\n",
       "      <td>-0.629690</td>\n",
       "    </tr>\n",
       "    <tr>\n",
       "      <th>603</th>\n",
       "      <td>PS341+MG132+2</td>\n",
       "      <td>0</td>\n",
       "      <td>-0.956670</td>\n",
       "      <td>-0.142860</td>\n",
       "      <td>0.326790</td>\n",
       "      <td>-0.229400</td>\n",
       "      <td>-0.215710</td>\n",
       "      <td>0.292860</td>\n",
       "      <td>0.366550</td>\n",
       "      <td>0.379880</td>\n",
       "      <td>...</td>\n",
       "      <td>0.170240</td>\n",
       "      <td>0.170000</td>\n",
       "      <td>-0.162380</td>\n",
       "      <td>0.211550</td>\n",
       "      <td>0.236070</td>\n",
       "      <td>0.170000</td>\n",
       "      <td>-0.491790</td>\n",
       "      <td>-0.505950</td>\n",
       "      <td>-0.376550</td>\n",
       "      <td>0.246070</td>\n",
       "    </tr>\n",
       "    <tr>\n",
       "      <th>605</th>\n",
       "      <td>PS341+MG132+3</td>\n",
       "      <td>0</td>\n",
       "      <td>-0.698740</td>\n",
       "      <td>0.362200</td>\n",
       "      <td>0.361490</td>\n",
       "      <td>0.115390</td>\n",
       "      <td>0.290760</td>\n",
       "      <td>0.314900</td>\n",
       "      <td>0.362070</td>\n",
       "      <td>0.361380</td>\n",
       "      <td>...</td>\n",
       "      <td>0.530840</td>\n",
       "      <td>0.059453</td>\n",
       "      <td>-0.103820</td>\n",
       "      <td>0.578050</td>\n",
       "      <td>0.565230</td>\n",
       "      <td>0.059453</td>\n",
       "      <td>-0.634780</td>\n",
       "      <td>-0.557460</td>\n",
       "      <td>-0.149750</td>\n",
       "      <td>0.072113</td>\n",
       "    </tr>\n",
       "    <tr>\n",
       "      <th>607</th>\n",
       "      <td>PS341+MG132+4</td>\n",
       "      <td>0</td>\n",
       "      <td>-0.475000</td>\n",
       "      <td>0.344120</td>\n",
       "      <td>0.364830</td>\n",
       "      <td>0.139640</td>\n",
       "      <td>0.368740</td>\n",
       "      <td>0.370740</td>\n",
       "      <td>0.353000</td>\n",
       "      <td>0.337120</td>\n",
       "      <td>...</td>\n",
       "      <td>0.402240</td>\n",
       "      <td>0.068881</td>\n",
       "      <td>-0.070857</td>\n",
       "      <td>0.459000</td>\n",
       "      <td>0.451740</td>\n",
       "      <td>0.068881</td>\n",
       "      <td>-0.390210</td>\n",
       "      <td>-0.322520</td>\n",
       "      <td>-0.120070</td>\n",
       "      <td>-0.025429</td>\n",
       "    </tr>\n",
       "    <tr>\n",
       "      <th>609</th>\n",
       "      <td>PS341+MG132+5</td>\n",
       "      <td>0</td>\n",
       "      <td>-0.127980</td>\n",
       "      <td>-0.074591</td>\n",
       "      <td>-0.059814</td>\n",
       "      <td>-0.024528</td>\n",
       "      <td>-0.058333</td>\n",
       "      <td>-0.062987</td>\n",
       "      <td>-0.060571</td>\n",
       "      <td>0.064933</td>\n",
       "      <td>...</td>\n",
       "      <td>0.068106</td>\n",
       "      <td>0.061402</td>\n",
       "      <td>-0.066157</td>\n",
       "      <td>0.103560</td>\n",
       "      <td>0.094802</td>\n",
       "      <td>0.061402</td>\n",
       "      <td>-0.145960</td>\n",
       "      <td>-0.158240</td>\n",
       "      <td>-0.100620</td>\n",
       "      <td>0.083475</td>\n",
       "    </tr>\n",
       "    <tr>\n",
       "      <th>611</th>\n",
       "      <td>PS341+MG132+6</td>\n",
       "      <td>0</td>\n",
       "      <td>0.139410</td>\n",
       "      <td>-0.097196</td>\n",
       "      <td>-0.043439</td>\n",
       "      <td>-0.038001</td>\n",
       "      <td>-0.077974</td>\n",
       "      <td>-0.061916</td>\n",
       "      <td>-0.030657</td>\n",
       "      <td>0.043506</td>\n",
       "      <td>...</td>\n",
       "      <td>-0.140550</td>\n",
       "      <td>0.028355</td>\n",
       "      <td>0.047181</td>\n",
       "      <td>-0.145160</td>\n",
       "      <td>-0.137980</td>\n",
       "      <td>0.028355</td>\n",
       "      <td>0.142240</td>\n",
       "      <td>0.151170</td>\n",
       "      <td>-0.048026</td>\n",
       "      <td>-0.078342</td>\n",
       "    </tr>\n",
       "    <tr>\n",
       "      <th>529</th>\n",
       "      <td>MG132+MG132+1</td>\n",
       "      <td>0</td>\n",
       "      <td>-0.320000</td>\n",
       "      <td>-0.846870</td>\n",
       "      <td>-0.998290</td>\n",
       "      <td>-0.999170</td>\n",
       "      <td>-1.000000</td>\n",
       "      <td>-0.998290</td>\n",
       "      <td>-0.998290</td>\n",
       "      <td>-0.995760</td>\n",
       "      <td>...</td>\n",
       "      <td>-0.583500</td>\n",
       "      <td>-0.153390</td>\n",
       "      <td>0.511220</td>\n",
       "      <td>-0.646450</td>\n",
       "      <td>-0.591480</td>\n",
       "      <td>-0.153390</td>\n",
       "      <td>0.880480</td>\n",
       "      <td>0.846850</td>\n",
       "      <td>0.248400</td>\n",
       "      <td>-0.638060</td>\n",
       "    </tr>\n",
       "    <tr>\n",
       "      <th>531</th>\n",
       "      <td>MG132+MG132+2</td>\n",
       "      <td>0</td>\n",
       "      <td>-0.639170</td>\n",
       "      <td>0.214840</td>\n",
       "      <td>0.288780</td>\n",
       "      <td>-0.060869</td>\n",
       "      <td>0.027829</td>\n",
       "      <td>0.248460</td>\n",
       "      <td>0.317930</td>\n",
       "      <td>0.321920</td>\n",
       "      <td>...</td>\n",
       "      <td>0.226240</td>\n",
       "      <td>0.150610</td>\n",
       "      <td>-0.103570</td>\n",
       "      <td>0.356330</td>\n",
       "      <td>0.333980</td>\n",
       "      <td>0.150610</td>\n",
       "      <td>-0.448690</td>\n",
       "      <td>-0.471340</td>\n",
       "      <td>-0.280420</td>\n",
       "      <td>0.187210</td>\n",
       "    </tr>\n",
       "    <tr>\n",
       "      <th>533</th>\n",
       "      <td>MG132+MG132+3</td>\n",
       "      <td>0</td>\n",
       "      <td>-0.448330</td>\n",
       "      <td>0.234150</td>\n",
       "      <td>0.193620</td>\n",
       "      <td>0.091442</td>\n",
       "      <td>0.095146</td>\n",
       "      <td>0.145780</td>\n",
       "      <td>0.211960</td>\n",
       "      <td>0.241340</td>\n",
       "      <td>...</td>\n",
       "      <td>0.345510</td>\n",
       "      <td>0.097377</td>\n",
       "      <td>-0.097720</td>\n",
       "      <td>0.389120</td>\n",
       "      <td>0.379120</td>\n",
       "      <td>0.097377</td>\n",
       "      <td>-0.362870</td>\n",
       "      <td>-0.307140</td>\n",
       "      <td>-0.098870</td>\n",
       "      <td>0.066927</td>\n",
       "    </tr>\n",
       "    <tr>\n",
       "      <th>535</th>\n",
       "      <td>MG132+MG132+4</td>\n",
       "      <td>0</td>\n",
       "      <td>-0.376460</td>\n",
       "      <td>0.175200</td>\n",
       "      <td>0.200250</td>\n",
       "      <td>0.120270</td>\n",
       "      <td>0.131310</td>\n",
       "      <td>0.188470</td>\n",
       "      <td>0.213180</td>\n",
       "      <td>0.212680</td>\n",
       "      <td>...</td>\n",
       "      <td>0.280020</td>\n",
       "      <td>0.098996</td>\n",
       "      <td>-0.093924</td>\n",
       "      <td>0.362160</td>\n",
       "      <td>0.343310</td>\n",
       "      <td>0.098996</td>\n",
       "      <td>-0.338940</td>\n",
       "      <td>-0.303490</td>\n",
       "      <td>-0.096399</td>\n",
       "      <td>0.088937</td>\n",
       "    </tr>\n",
       "    <tr>\n",
       "      <th>537</th>\n",
       "      <td>MG132+MG132+5</td>\n",
       "      <td>0</td>\n",
       "      <td>-0.056717</td>\n",
       "      <td>0.077550</td>\n",
       "      <td>0.090337</td>\n",
       "      <td>0.114540</td>\n",
       "      <td>-0.055216</td>\n",
       "      <td>0.055401</td>\n",
       "      <td>0.105040</td>\n",
       "      <td>0.122030</td>\n",
       "      <td>...</td>\n",
       "      <td>0.048111</td>\n",
       "      <td>0.047893</td>\n",
       "      <td>-0.031469</td>\n",
       "      <td>0.064738</td>\n",
       "      <td>0.062047</td>\n",
       "      <td>0.047893</td>\n",
       "      <td>-0.061542</td>\n",
       "      <td>-0.060981</td>\n",
       "      <td>-0.058192</td>\n",
       "      <td>-0.036754</td>\n",
       "    </tr>\n",
       "    <tr>\n",
       "      <th>539</th>\n",
       "      <td>MG132+MG132+6</td>\n",
       "      <td>0</td>\n",
       "      <td>0.124210</td>\n",
       "      <td>-0.087693</td>\n",
       "      <td>-0.032779</td>\n",
       "      <td>0.036694</td>\n",
       "      <td>-0.111280</td>\n",
       "      <td>-0.063507</td>\n",
       "      <td>0.024454</td>\n",
       "      <td>0.045902</td>\n",
       "      <td>...</td>\n",
       "      <td>-0.145300</td>\n",
       "      <td>0.030305</td>\n",
       "      <td>0.043179</td>\n",
       "      <td>-0.137450</td>\n",
       "      <td>-0.144100</td>\n",
       "      <td>0.030305</td>\n",
       "      <td>0.128640</td>\n",
       "      <td>0.136050</td>\n",
       "      <td>-0.043683</td>\n",
       "      <td>-0.091109</td>\n",
       "    </tr>\n",
       "    <tr>\n",
       "      <th>613</th>\n",
       "      <td>PS341+PS341+1</td>\n",
       "      <td>0</td>\n",
       "      <td>-0.250000</td>\n",
       "      <td>-0.864740</td>\n",
       "      <td>-0.997660</td>\n",
       "      <td>-0.999170</td>\n",
       "      <td>-1.000000</td>\n",
       "      <td>-0.999220</td>\n",
       "      <td>-0.996100</td>\n",
       "      <td>-0.991420</td>\n",
       "      <td>...</td>\n",
       "      <td>-0.617160</td>\n",
       "      <td>-0.154220</td>\n",
       "      <td>0.539510</td>\n",
       "      <td>-0.654110</td>\n",
       "      <td>-0.609320</td>\n",
       "      <td>-0.154220</td>\n",
       "      <td>0.889080</td>\n",
       "      <td>0.871430</td>\n",
       "      <td>0.245840</td>\n",
       "      <td>-0.659030</td>\n",
       "    </tr>\n",
       "    <tr>\n",
       "      <th>615</th>\n",
       "      <td>PS341+PS341+2</td>\n",
       "      <td>0</td>\n",
       "      <td>-0.861670</td>\n",
       "      <td>0.493330</td>\n",
       "      <td>0.557500</td>\n",
       "      <td>0.075833</td>\n",
       "      <td>0.493330</td>\n",
       "      <td>0.554170</td>\n",
       "      <td>0.511670</td>\n",
       "      <td>0.490830</td>\n",
       "      <td>...</td>\n",
       "      <td>0.609170</td>\n",
       "      <td>-0.055833</td>\n",
       "      <td>-0.243330</td>\n",
       "      <td>0.629170</td>\n",
       "      <td>0.631670</td>\n",
       "      <td>-0.055833</td>\n",
       "      <td>-0.635000</td>\n",
       "      <td>-0.657500</td>\n",
       "      <td>-0.255830</td>\n",
       "      <td>0.383330</td>\n",
       "    </tr>\n",
       "    <tr>\n",
       "      <th>617</th>\n",
       "      <td>PS341+PS341+3</td>\n",
       "      <td>0</td>\n",
       "      <td>-0.595000</td>\n",
       "      <td>0.401070</td>\n",
       "      <td>0.498680</td>\n",
       "      <td>0.085083</td>\n",
       "      <td>0.226890</td>\n",
       "      <td>0.429980</td>\n",
       "      <td>0.489530</td>\n",
       "      <td>0.517160</td>\n",
       "      <td>...</td>\n",
       "      <td>0.356520</td>\n",
       "      <td>0.104540</td>\n",
       "      <td>-0.049256</td>\n",
       "      <td>0.404130</td>\n",
       "      <td>0.393310</td>\n",
       "      <td>0.104540</td>\n",
       "      <td>-0.394560</td>\n",
       "      <td>-0.386950</td>\n",
       "      <td>-0.290010</td>\n",
       "      <td>0.095884</td>\n",
       "    </tr>\n",
       "    <tr>\n",
       "      <th>619</th>\n",
       "      <td>PS341+PS341+4</td>\n",
       "      <td>0</td>\n",
       "      <td>-0.505450</td>\n",
       "      <td>0.379650</td>\n",
       "      <td>0.407830</td>\n",
       "      <td>0.137260</td>\n",
       "      <td>0.373970</td>\n",
       "      <td>0.397300</td>\n",
       "      <td>0.388490</td>\n",
       "      <td>0.386370</td>\n",
       "      <td>...</td>\n",
       "      <td>0.442560</td>\n",
       "      <td>0.072424</td>\n",
       "      <td>-0.020291</td>\n",
       "      <td>0.466160</td>\n",
       "      <td>0.465930</td>\n",
       "      <td>0.072424</td>\n",
       "      <td>-0.357620</td>\n",
       "      <td>-0.283690</td>\n",
       "      <td>-0.140070</td>\n",
       "      <td>-0.022726</td>\n",
       "    </tr>\n",
       "    <tr>\n",
       "      <th>621</th>\n",
       "      <td>PS341+PS341+5</td>\n",
       "      <td>0</td>\n",
       "      <td>-0.140490</td>\n",
       "      <td>-0.044115</td>\n",
       "      <td>-0.053316</td>\n",
       "      <td>0.102880</td>\n",
       "      <td>-0.124030</td>\n",
       "      <td>-0.076084</td>\n",
       "      <td>-0.041468</td>\n",
       "      <td>-0.037740</td>\n",
       "      <td>...</td>\n",
       "      <td>0.080117</td>\n",
       "      <td>0.033649</td>\n",
       "      <td>0.044650</td>\n",
       "      <td>0.086125</td>\n",
       "      <td>0.105970</td>\n",
       "      <td>0.033649</td>\n",
       "      <td>-0.098549</td>\n",
       "      <td>-0.102860</td>\n",
       "      <td>-0.074002</td>\n",
       "      <td>0.050075</td>\n",
       "    </tr>\n",
       "    <tr>\n",
       "      <th>623</th>\n",
       "      <td>PS341+PS341+6</td>\n",
       "      <td>0</td>\n",
       "      <td>0.112100</td>\n",
       "      <td>0.059556</td>\n",
       "      <td>0.093113</td>\n",
       "      <td>0.030352</td>\n",
       "      <td>0.102850</td>\n",
       "      <td>0.073302</td>\n",
       "      <td>0.080489</td>\n",
       "      <td>0.090841</td>\n",
       "      <td>...</td>\n",
       "      <td>-0.090641</td>\n",
       "      <td>0.036167</td>\n",
       "      <td>0.034556</td>\n",
       "      <td>-0.099324</td>\n",
       "      <td>-0.098770</td>\n",
       "      <td>0.036167</td>\n",
       "      <td>0.129260</td>\n",
       "      <td>0.132320</td>\n",
       "      <td>-0.036659</td>\n",
       "      <td>-0.065723</td>\n",
       "    </tr>\n",
       "  </tbody>\n",
       "</table>\n",
       "<p>24 rows × 240 columns</p>\n",
       "</div>"
      ],
      "text/plain": [
       "         drug_name  default       ks1       ks2       ks3       ks4       ks5  \\\n",
       "541  MG132+PS341+1        0 -0.988330  0.204550  0.490610 -0.466820 -0.147270   \n",
       "543  MG132+PS341+2        0 -0.629170  0.433960  0.379030  0.161740  0.430830   \n",
       "545  MG132+PS341+3        0 -0.409170  0.256740  0.175900  0.226020  0.120820   \n",
       "547  MG132+PS341+4        0 -0.342500  0.250800  0.244160  0.164610  0.140700   \n",
       "549  MG132+PS341+5        0 -0.046438  0.081620  0.094815  0.102460 -0.028970   \n",
       "551  MG132+PS341+6        0  0.129920 -0.068248  0.061794  0.063990 -0.032913   \n",
       "601  PS341+MG132+1        0 -0.317470 -0.844290 -0.999150 -0.999170 -1.000000   \n",
       "603  PS341+MG132+2        0 -0.956670 -0.142860  0.326790 -0.229400 -0.215710   \n",
       "605  PS341+MG132+3        0 -0.698740  0.362200  0.361490  0.115390  0.290760   \n",
       "607  PS341+MG132+4        0 -0.475000  0.344120  0.364830  0.139640  0.368740   \n",
       "609  PS341+MG132+5        0 -0.127980 -0.074591 -0.059814 -0.024528 -0.058333   \n",
       "611  PS341+MG132+6        0  0.139410 -0.097196 -0.043439 -0.038001 -0.077974   \n",
       "529  MG132+MG132+1        0 -0.320000 -0.846870 -0.998290 -0.999170 -1.000000   \n",
       "531  MG132+MG132+2        0 -0.639170  0.214840  0.288780 -0.060869  0.027829   \n",
       "533  MG132+MG132+3        0 -0.448330  0.234150  0.193620  0.091442  0.095146   \n",
       "535  MG132+MG132+4        0 -0.376460  0.175200  0.200250  0.120270  0.131310   \n",
       "537  MG132+MG132+5        0 -0.056717  0.077550  0.090337  0.114540 -0.055216   \n",
       "539  MG132+MG132+6        0  0.124210 -0.087693 -0.032779  0.036694 -0.111280   \n",
       "613  PS341+PS341+1        0 -0.250000 -0.864740 -0.997660 -0.999170 -1.000000   \n",
       "615  PS341+PS341+2        0 -0.861670  0.493330  0.557500  0.075833  0.493330   \n",
       "617  PS341+PS341+3        0 -0.595000  0.401070  0.498680  0.085083  0.226890   \n",
       "619  PS341+PS341+4        0 -0.505450  0.379650  0.407830  0.137260  0.373970   \n",
       "621  PS341+PS341+5        0 -0.140490 -0.044115 -0.053316  0.102880 -0.124030   \n",
       "623  PS341+PS341+6        0  0.112100  0.059556  0.093113  0.030352  0.102850   \n",
       "\n",
       "          ks6       ks7       ks8  ...     ks229     ks230     ks231  \\\n",
       "541  0.485150  0.499770  0.460610  ...  0.378110  0.383940 -0.519700   \n",
       "543  0.349370  0.359510  0.368470  ...  0.551670  0.129240 -0.055764   \n",
       "545  0.123790  0.188730  0.214750  ...  0.328920  0.095963 -0.063551   \n",
       "547  0.211330  0.257470  0.264390  ...  0.294790  0.084982 -0.049263   \n",
       "549  0.061817  0.100800  0.107850  ...  0.042222 -0.038748  0.036114   \n",
       "551  0.028012  0.072540  0.082882  ... -0.137470  0.024990  0.023410   \n",
       "601 -1.000000 -0.999150 -0.997460  ... -0.595790 -0.129110  0.521820   \n",
       "603  0.292860  0.366550  0.379880  ...  0.170240  0.170000 -0.162380   \n",
       "605  0.314900  0.362070  0.361380  ...  0.530840  0.059453 -0.103820   \n",
       "607  0.370740  0.353000  0.337120  ...  0.402240  0.068881 -0.070857   \n",
       "609 -0.062987 -0.060571  0.064933  ...  0.068106  0.061402 -0.066157   \n",
       "611 -0.061916 -0.030657  0.043506  ... -0.140550  0.028355  0.047181   \n",
       "529 -0.998290 -0.998290 -0.995760  ... -0.583500 -0.153390  0.511220   \n",
       "531  0.248460  0.317930  0.321920  ...  0.226240  0.150610 -0.103570   \n",
       "533  0.145780  0.211960  0.241340  ...  0.345510  0.097377 -0.097720   \n",
       "535  0.188470  0.213180  0.212680  ...  0.280020  0.098996 -0.093924   \n",
       "537  0.055401  0.105040  0.122030  ...  0.048111  0.047893 -0.031469   \n",
       "539 -0.063507  0.024454  0.045902  ... -0.145300  0.030305  0.043179   \n",
       "613 -0.999220 -0.996100 -0.991420  ... -0.617160 -0.154220  0.539510   \n",
       "615  0.554170  0.511670  0.490830  ...  0.609170 -0.055833 -0.243330   \n",
       "617  0.429980  0.489530  0.517160  ...  0.356520  0.104540 -0.049256   \n",
       "619  0.397300  0.388490  0.386370  ...  0.442560  0.072424 -0.020291   \n",
       "621 -0.076084 -0.041468 -0.037740  ...  0.080117  0.033649  0.044650   \n",
       "623  0.073302  0.080489  0.090841  ... -0.090641  0.036167  0.034556   \n",
       "\n",
       "        ks232     ks233     ks234     ks235     ks236     ks237     ks238  \n",
       "541  0.485080  0.486890  0.383940 -0.656890 -0.654770 -0.435230  0.565530  \n",
       "543  0.623680  0.611810  0.129240 -0.416530 -0.422010 -0.167920  0.180970  \n",
       "545  0.382580  0.367300  0.095963 -0.204490 -0.171420 -0.132560 -0.038409  \n",
       "547  0.353040  0.346170  0.084982 -0.218010 -0.184390 -0.067262 -0.024066  \n",
       "549  0.055844  0.059583 -0.038748 -0.048999 -0.043861 -0.039795 -0.056240  \n",
       "551 -0.152750 -0.147150  0.024990  0.159570  0.146420 -0.042805 -0.084911  \n",
       "601 -0.636430 -0.594600 -0.129110  0.871410  0.839770  0.254930 -0.629690  \n",
       "603  0.211550  0.236070  0.170000 -0.491790 -0.505950 -0.376550  0.246070  \n",
       "605  0.578050  0.565230  0.059453 -0.634780 -0.557460 -0.149750  0.072113  \n",
       "607  0.459000  0.451740  0.068881 -0.390210 -0.322520 -0.120070 -0.025429  \n",
       "609  0.103560  0.094802  0.061402 -0.145960 -0.158240 -0.100620  0.083475  \n",
       "611 -0.145160 -0.137980  0.028355  0.142240  0.151170 -0.048026 -0.078342  \n",
       "529 -0.646450 -0.591480 -0.153390  0.880480  0.846850  0.248400 -0.638060  \n",
       "531  0.356330  0.333980  0.150610 -0.448690 -0.471340 -0.280420  0.187210  \n",
       "533  0.389120  0.379120  0.097377 -0.362870 -0.307140 -0.098870  0.066927  \n",
       "535  0.362160  0.343310  0.098996 -0.338940 -0.303490 -0.096399  0.088937  \n",
       "537  0.064738  0.062047  0.047893 -0.061542 -0.060981 -0.058192 -0.036754  \n",
       "539 -0.137450 -0.144100  0.030305  0.128640  0.136050 -0.043683 -0.091109  \n",
       "613 -0.654110 -0.609320 -0.154220  0.889080  0.871430  0.245840 -0.659030  \n",
       "615  0.629170  0.631670 -0.055833 -0.635000 -0.657500 -0.255830  0.383330  \n",
       "617  0.404130  0.393310  0.104540 -0.394560 -0.386950 -0.290010  0.095884  \n",
       "619  0.466160  0.465930  0.072424 -0.357620 -0.283690 -0.140070 -0.022726  \n",
       "621  0.086125  0.105970  0.033649 -0.098549 -0.102860 -0.074002  0.050075  \n",
       "623 -0.099324 -0.098770  0.036167  0.129260  0.132320 -0.036659 -0.065723  \n",
       "\n",
       "[24 rows x 240 columns]"
      ]
     },
     "execution_count": 11,
     "metadata": {},
     "output_type": "execute_result"
    }
   ],
   "source": [
    "#Dna ： etoposide，Gemcitabine\n",
    "#mt：paclitaxel，Vinblastine\n",
    "#hsp：17aag，auy922\n",
    "\n",
    "#prot：\"MG132\"，ps341\n",
    "#hdac：saha，apicidin\n",
    "\n",
    "frames4=[]\n",
    "for i in range(1,7):\n",
    "    frames4.append(df.loc[(df['drug_name'] =='MG132+PS341+'+str(i)) ])\n",
    "for j in range(1,7):\n",
    "    frames4.append(df.loc[(df['drug_name'] =='PS341+MG132+'+str(j)) ])\n",
    "for k in range(1,7):\n",
    "    frames4.append(df.loc[(df['drug_name'] =='MG132+MG132+'+str(k)) ])\n",
    "for m in range(1,7):\n",
    "    frames4.append(df.loc[(df['drug_name'] =='PS341+PS341+'+str(m)) ])\n",
    "PROT= pd.concat(frames4)\n",
    "PROT"
   ]
  },
  {
   "cell_type": "code",
   "execution_count": 12,
   "metadata": {},
   "outputs": [
    {
     "data": {
      "text/html": [
       "<div>\n",
       "<style scoped>\n",
       "    .dataframe tbody tr th:only-of-type {\n",
       "        vertical-align: middle;\n",
       "    }\n",
       "\n",
       "    .dataframe tbody tr th {\n",
       "        vertical-align: top;\n",
       "    }\n",
       "\n",
       "    .dataframe thead th {\n",
       "        text-align: right;\n",
       "    }\n",
       "</style>\n",
       "<table border=\"1\" class=\"dataframe\">\n",
       "  <thead>\n",
       "    <tr style=\"text-align: right;\">\n",
       "      <th></th>\n",
       "      <th>drug_name</th>\n",
       "      <th>default</th>\n",
       "      <th>ks1</th>\n",
       "      <th>ks2</th>\n",
       "      <th>ks3</th>\n",
       "      <th>ks4</th>\n",
       "      <th>ks5</th>\n",
       "      <th>ks6</th>\n",
       "      <th>ks7</th>\n",
       "      <th>ks8</th>\n",
       "      <th>...</th>\n",
       "      <th>ks229</th>\n",
       "      <th>ks230</th>\n",
       "      <th>ks231</th>\n",
       "      <th>ks232</th>\n",
       "      <th>ks233</th>\n",
       "      <th>ks234</th>\n",
       "      <th>ks235</th>\n",
       "      <th>ks236</th>\n",
       "      <th>ks237</th>\n",
       "      <th>ks238</th>\n",
       "    </tr>\n",
       "  </thead>\n",
       "  <tbody>\n",
       "    <tr>\n",
       "      <th>672</th>\n",
       "      <td>SAHA+Apicidin+1</td>\n",
       "      <td>0</td>\n",
       "      <td>-0.819170</td>\n",
       "      <td>-0.719220</td>\n",
       "      <td>-0.865900</td>\n",
       "      <td>-0.940780</td>\n",
       "      <td>-0.954210</td>\n",
       "      <td>-0.872760</td>\n",
       "      <td>-0.826870</td>\n",
       "      <td>-0.793480</td>\n",
       "      <td>...</td>\n",
       "      <td>-0.158290</td>\n",
       "      <td>0.122030</td>\n",
       "      <td>-0.127860</td>\n",
       "      <td>-0.152370</td>\n",
       "      <td>-0.135520</td>\n",
       "      <td>0.122030</td>\n",
       "      <td>-0.378410</td>\n",
       "      <td>-0.368750</td>\n",
       "      <td>-0.294340</td>\n",
       "      <td>0.209640</td>\n",
       "    </tr>\n",
       "    <tr>\n",
       "      <th>674</th>\n",
       "      <td>SAHA+Apicidin+2</td>\n",
       "      <td>0</td>\n",
       "      <td>-0.639170</td>\n",
       "      <td>0.557510</td>\n",
       "      <td>0.598390</td>\n",
       "      <td>0.115160</td>\n",
       "      <td>0.534800</td>\n",
       "      <td>0.599450</td>\n",
       "      <td>0.601010</td>\n",
       "      <td>0.581840</td>\n",
       "      <td>...</td>\n",
       "      <td>0.513520</td>\n",
       "      <td>0.170930</td>\n",
       "      <td>-0.087101</td>\n",
       "      <td>0.607680</td>\n",
       "      <td>0.600680</td>\n",
       "      <td>0.170930</td>\n",
       "      <td>-0.555800</td>\n",
       "      <td>-0.530110</td>\n",
       "      <td>-0.154950</td>\n",
       "      <td>0.224130</td>\n",
       "    </tr>\n",
       "    <tr>\n",
       "      <th>676</th>\n",
       "      <td>SAHA+Apicidin+3</td>\n",
       "      <td>0</td>\n",
       "      <td>-0.079362</td>\n",
       "      <td>0.363130</td>\n",
       "      <td>0.424230</td>\n",
       "      <td>0.152130</td>\n",
       "      <td>0.419280</td>\n",
       "      <td>0.422010</td>\n",
       "      <td>0.406750</td>\n",
       "      <td>0.391410</td>\n",
       "      <td>...</td>\n",
       "      <td>0.120260</td>\n",
       "      <td>0.042665</td>\n",
       "      <td>0.061202</td>\n",
       "      <td>0.140080</td>\n",
       "      <td>0.148740</td>\n",
       "      <td>0.042665</td>\n",
       "      <td>0.169720</td>\n",
       "      <td>0.157770</td>\n",
       "      <td>-0.055649</td>\n",
       "      <td>-0.077338</td>\n",
       "    </tr>\n",
       "    <tr>\n",
       "      <th>678</th>\n",
       "      <td>SAHA+Apicidin+4</td>\n",
       "      <td>0</td>\n",
       "      <td>0.042066</td>\n",
       "      <td>0.064977</td>\n",
       "      <td>0.082751</td>\n",
       "      <td>0.068676</td>\n",
       "      <td>0.072660</td>\n",
       "      <td>0.068002</td>\n",
       "      <td>0.085445</td>\n",
       "      <td>0.079475</td>\n",
       "      <td>...</td>\n",
       "      <td>-0.061610</td>\n",
       "      <td>-0.034680</td>\n",
       "      <td>0.037523</td>\n",
       "      <td>-0.073984</td>\n",
       "      <td>-0.065913</td>\n",
       "      <td>-0.034680</td>\n",
       "      <td>0.112630</td>\n",
       "      <td>0.110780</td>\n",
       "      <td>-0.037078</td>\n",
       "      <td>-0.056381</td>\n",
       "    </tr>\n",
       "    <tr>\n",
       "      <th>680</th>\n",
       "      <td>SAHA+Apicidin+5</td>\n",
       "      <td>0</td>\n",
       "      <td>0.045482</td>\n",
       "      <td>-0.121280</td>\n",
       "      <td>-0.086435</td>\n",
       "      <td>0.040694</td>\n",
       "      <td>-0.125620</td>\n",
       "      <td>-0.093616</td>\n",
       "      <td>-0.081189</td>\n",
       "      <td>-0.067276</td>\n",
       "      <td>...</td>\n",
       "      <td>-0.097808</td>\n",
       "      <td>0.044751</td>\n",
       "      <td>-0.036567</td>\n",
       "      <td>-0.098671</td>\n",
       "      <td>-0.096256</td>\n",
       "      <td>0.044751</td>\n",
       "      <td>-0.062315</td>\n",
       "      <td>-0.075092</td>\n",
       "      <td>-0.056719</td>\n",
       "      <td>-0.036545</td>\n",
       "    </tr>\n",
       "    <tr>\n",
       "      <th>682</th>\n",
       "      <td>SAHA+Apicidin+6</td>\n",
       "      <td>0</td>\n",
       "      <td>0.052281</td>\n",
       "      <td>-0.062670</td>\n",
       "      <td>-0.034032</td>\n",
       "      <td>-0.028311</td>\n",
       "      <td>-0.053935</td>\n",
       "      <td>-0.042351</td>\n",
       "      <td>0.017437</td>\n",
       "      <td>0.023533</td>\n",
       "      <td>...</td>\n",
       "      <td>-0.103150</td>\n",
       "      <td>0.029251</td>\n",
       "      <td>0.027240</td>\n",
       "      <td>-0.108380</td>\n",
       "      <td>-0.109020</td>\n",
       "      <td>0.029251</td>\n",
       "      <td>0.097031</td>\n",
       "      <td>0.095649</td>\n",
       "      <td>-0.028263</td>\n",
       "      <td>-0.083786</td>\n",
       "    </tr>\n",
       "    <tr>\n",
       "      <th>289</th>\n",
       "      <td>Apicidin+SAHA+1</td>\n",
       "      <td>0</td>\n",
       "      <td>-0.805000</td>\n",
       "      <td>-0.705380</td>\n",
       "      <td>-0.932300</td>\n",
       "      <td>-0.959650</td>\n",
       "      <td>-0.987230</td>\n",
       "      <td>-0.937750</td>\n",
       "      <td>-0.911380</td>\n",
       "      <td>-0.889150</td>\n",
       "      <td>...</td>\n",
       "      <td>-0.203840</td>\n",
       "      <td>0.081258</td>\n",
       "      <td>-0.142450</td>\n",
       "      <td>-0.197660</td>\n",
       "      <td>-0.196810</td>\n",
       "      <td>0.081258</td>\n",
       "      <td>-0.259610</td>\n",
       "      <td>-0.267610</td>\n",
       "      <td>-0.228320</td>\n",
       "      <td>0.171600</td>\n",
       "    </tr>\n",
       "    <tr>\n",
       "      <th>291</th>\n",
       "      <td>Apicidin+SAHA+2</td>\n",
       "      <td>0</td>\n",
       "      <td>-0.650830</td>\n",
       "      <td>0.636690</td>\n",
       "      <td>0.697760</td>\n",
       "      <td>0.173100</td>\n",
       "      <td>0.642820</td>\n",
       "      <td>0.703780</td>\n",
       "      <td>0.683010</td>\n",
       "      <td>0.645450</td>\n",
       "      <td>...</td>\n",
       "      <td>0.581390</td>\n",
       "      <td>0.183440</td>\n",
       "      <td>-0.155340</td>\n",
       "      <td>0.691520</td>\n",
       "      <td>0.675300</td>\n",
       "      <td>0.183440</td>\n",
       "      <td>-0.579620</td>\n",
       "      <td>-0.575490</td>\n",
       "      <td>-0.182310</td>\n",
       "      <td>0.294640</td>\n",
       "    </tr>\n",
       "    <tr>\n",
       "      <th>293</th>\n",
       "      <td>Apicidin+SAHA+3</td>\n",
       "      <td>0</td>\n",
       "      <td>0.050020</td>\n",
       "      <td>0.323170</td>\n",
       "      <td>0.443300</td>\n",
       "      <td>0.105150</td>\n",
       "      <td>0.444200</td>\n",
       "      <td>0.449360</td>\n",
       "      <td>0.430900</td>\n",
       "      <td>0.413740</td>\n",
       "      <td>...</td>\n",
       "      <td>0.041315</td>\n",
       "      <td>0.023062</td>\n",
       "      <td>0.048090</td>\n",
       "      <td>0.037481</td>\n",
       "      <td>0.034211</td>\n",
       "      <td>0.023062</td>\n",
       "      <td>0.199180</td>\n",
       "      <td>0.156040</td>\n",
       "      <td>-0.035293</td>\n",
       "      <td>-0.061665</td>\n",
       "    </tr>\n",
       "    <tr>\n",
       "      <th>295</th>\n",
       "      <td>Apicidin+SAHA+4</td>\n",
       "      <td>0</td>\n",
       "      <td>0.141710</td>\n",
       "      <td>-0.040410</td>\n",
       "      <td>0.108520</td>\n",
       "      <td>-0.032015</td>\n",
       "      <td>0.083251</td>\n",
       "      <td>0.105200</td>\n",
       "      <td>0.092807</td>\n",
       "      <td>0.085888</td>\n",
       "      <td>...</td>\n",
       "      <td>-0.155180</td>\n",
       "      <td>0.052958</td>\n",
       "      <td>-0.040014</td>\n",
       "      <td>-0.153580</td>\n",
       "      <td>-0.156740</td>\n",
       "      <td>0.052958</td>\n",
       "      <td>0.159050</td>\n",
       "      <td>0.119170</td>\n",
       "      <td>-0.061803</td>\n",
       "      <td>-0.039331</td>\n",
       "    </tr>\n",
       "    <tr>\n",
       "      <th>297</th>\n",
       "      <td>Apicidin+SAHA+5</td>\n",
       "      <td>0</td>\n",
       "      <td>0.123910</td>\n",
       "      <td>-0.078472</td>\n",
       "      <td>0.076635</td>\n",
       "      <td>-0.035787</td>\n",
       "      <td>0.033707</td>\n",
       "      <td>0.062920</td>\n",
       "      <td>0.077586</td>\n",
       "      <td>0.076516</td>\n",
       "      <td>...</td>\n",
       "      <td>-0.157020</td>\n",
       "      <td>0.047651</td>\n",
       "      <td>-0.048229</td>\n",
       "      <td>-0.150520</td>\n",
       "      <td>-0.154690</td>\n",
       "      <td>0.047651</td>\n",
       "      <td>0.133420</td>\n",
       "      <td>0.107470</td>\n",
       "      <td>-0.051899</td>\n",
       "      <td>-0.036275</td>\n",
       "    </tr>\n",
       "    <tr>\n",
       "      <th>299</th>\n",
       "      <td>Apicidin+SAHA+6</td>\n",
       "      <td>0</td>\n",
       "      <td>0.189250</td>\n",
       "      <td>-0.104780</td>\n",
       "      <td>0.043633</td>\n",
       "      <td>0.021472</td>\n",
       "      <td>-0.030832</td>\n",
       "      <td>0.031133</td>\n",
       "      <td>0.049691</td>\n",
       "      <td>0.053917</td>\n",
       "      <td>...</td>\n",
       "      <td>-0.182640</td>\n",
       "      <td>0.031323</td>\n",
       "      <td>-0.032265</td>\n",
       "      <td>-0.183220</td>\n",
       "      <td>-0.188680</td>\n",
       "      <td>0.031323</td>\n",
       "      <td>0.151100</td>\n",
       "      <td>0.124560</td>\n",
       "      <td>-0.036879</td>\n",
       "      <td>-0.060399</td>\n",
       "    </tr>\n",
       "    <tr>\n",
       "      <th>673</th>\n",
       "      <td>Apicidin+Apicidin+1</td>\n",
       "      <td>0</td>\n",
       "      <td>-0.781670</td>\n",
       "      <td>-0.755520</td>\n",
       "      <td>-0.972000</td>\n",
       "      <td>-0.986500</td>\n",
       "      <td>-0.997500</td>\n",
       "      <td>-0.961840</td>\n",
       "      <td>-0.939340</td>\n",
       "      <td>-0.921340</td>\n",
       "      <td>...</td>\n",
       "      <td>-0.270560</td>\n",
       "      <td>0.084436</td>\n",
       "      <td>0.112440</td>\n",
       "      <td>-0.245420</td>\n",
       "      <td>-0.243750</td>\n",
       "      <td>0.084436</td>\n",
       "      <td>-0.192600</td>\n",
       "      <td>-0.187440</td>\n",
       "      <td>-0.190410</td>\n",
       "      <td>-0.057446</td>\n",
       "    </tr>\n",
       "    <tr>\n",
       "      <th>675</th>\n",
       "      <td>Apicidin+Apicidin+2</td>\n",
       "      <td>0</td>\n",
       "      <td>-0.620000</td>\n",
       "      <td>0.633600</td>\n",
       "      <td>0.663650</td>\n",
       "      <td>0.157110</td>\n",
       "      <td>0.637890</td>\n",
       "      <td>0.661120</td>\n",
       "      <td>0.648740</td>\n",
       "      <td>0.621050</td>\n",
       "      <td>...</td>\n",
       "      <td>0.600990</td>\n",
       "      <td>0.125100</td>\n",
       "      <td>-0.135950</td>\n",
       "      <td>0.701670</td>\n",
       "      <td>0.695560</td>\n",
       "      <td>0.125100</td>\n",
       "      <td>-0.545730</td>\n",
       "      <td>-0.525900</td>\n",
       "      <td>-0.113990</td>\n",
       "      <td>0.274610</td>\n",
       "    </tr>\n",
       "    <tr>\n",
       "      <th>677</th>\n",
       "      <td>Apicidin+Apicidin+3</td>\n",
       "      <td>0</td>\n",
       "      <td>-0.102860</td>\n",
       "      <td>0.356880</td>\n",
       "      <td>0.410640</td>\n",
       "      <td>0.138420</td>\n",
       "      <td>0.405690</td>\n",
       "      <td>0.406500</td>\n",
       "      <td>0.385280</td>\n",
       "      <td>0.371240</td>\n",
       "      <td>...</td>\n",
       "      <td>0.148430</td>\n",
       "      <td>-0.035986</td>\n",
       "      <td>0.066418</td>\n",
       "      <td>0.155190</td>\n",
       "      <td>0.167760</td>\n",
       "      <td>-0.035986</td>\n",
       "      <td>0.152470</td>\n",
       "      <td>0.134030</td>\n",
       "      <td>0.034210</td>\n",
       "      <td>-0.075175</td>\n",
       "    </tr>\n",
       "    <tr>\n",
       "      <th>679</th>\n",
       "      <td>Apicidin+Apicidin+4</td>\n",
       "      <td>0</td>\n",
       "      <td>0.089211</td>\n",
       "      <td>0.071938</td>\n",
       "      <td>0.114040</td>\n",
       "      <td>0.053434</td>\n",
       "      <td>0.114270</td>\n",
       "      <td>0.110510</td>\n",
       "      <td>0.107040</td>\n",
       "      <td>0.106980</td>\n",
       "      <td>...</td>\n",
       "      <td>-0.102890</td>\n",
       "      <td>0.029339</td>\n",
       "      <td>0.052041</td>\n",
       "      <td>-0.099362</td>\n",
       "      <td>-0.097670</td>\n",
       "      <td>0.029339</td>\n",
       "      <td>0.149700</td>\n",
       "      <td>0.147750</td>\n",
       "      <td>-0.055161</td>\n",
       "      <td>-0.074297</td>\n",
       "    </tr>\n",
       "    <tr>\n",
       "      <th>681</th>\n",
       "      <td>Apicidin+Apicidin+5</td>\n",
       "      <td>0</td>\n",
       "      <td>0.051761</td>\n",
       "      <td>-0.091303</td>\n",
       "      <td>-0.026639</td>\n",
       "      <td>-0.031385</td>\n",
       "      <td>-0.036877</td>\n",
       "      <td>-0.027991</td>\n",
       "      <td>0.037166</td>\n",
       "      <td>0.039893</td>\n",
       "      <td>...</td>\n",
       "      <td>-0.122020</td>\n",
       "      <td>0.029522</td>\n",
       "      <td>-0.037169</td>\n",
       "      <td>-0.119630</td>\n",
       "      <td>-0.120680</td>\n",
       "      <td>0.029522</td>\n",
       "      <td>0.137050</td>\n",
       "      <td>0.125810</td>\n",
       "      <td>-0.033752</td>\n",
       "      <td>-0.077019</td>\n",
       "    </tr>\n",
       "    <tr>\n",
       "      <th>683</th>\n",
       "      <td>Apicidin+Apicidin+6</td>\n",
       "      <td>0</td>\n",
       "      <td>0.139410</td>\n",
       "      <td>-0.108400</td>\n",
       "      <td>-0.086694</td>\n",
       "      <td>0.042368</td>\n",
       "      <td>-0.111760</td>\n",
       "      <td>-0.108760</td>\n",
       "      <td>-0.069625</td>\n",
       "      <td>-0.055139</td>\n",
       "      <td>...</td>\n",
       "      <td>-0.153340</td>\n",
       "      <td>0.042060</td>\n",
       "      <td>0.031382</td>\n",
       "      <td>-0.154320</td>\n",
       "      <td>-0.161630</td>\n",
       "      <td>0.042060</td>\n",
       "      <td>0.130530</td>\n",
       "      <td>0.125020</td>\n",
       "      <td>-0.047549</td>\n",
       "      <td>-0.054140</td>\n",
       "    </tr>\n",
       "    <tr>\n",
       "      <th>288</th>\n",
       "      <td>SAHA+SAHA+1</td>\n",
       "      <td>0</td>\n",
       "      <td>-0.764170</td>\n",
       "      <td>-0.740900</td>\n",
       "      <td>-0.954870</td>\n",
       "      <td>-0.977370</td>\n",
       "      <td>-0.989740</td>\n",
       "      <td>-0.957440</td>\n",
       "      <td>-0.918400</td>\n",
       "      <td>-0.892630</td>\n",
       "      <td>...</td>\n",
       "      <td>-0.296220</td>\n",
       "      <td>0.132880</td>\n",
       "      <td>-0.099615</td>\n",
       "      <td>-0.270830</td>\n",
       "      <td>-0.266730</td>\n",
       "      <td>0.132880</td>\n",
       "      <td>-0.172180</td>\n",
       "      <td>-0.182880</td>\n",
       "      <td>-0.267880</td>\n",
       "      <td>0.132950</td>\n",
       "    </tr>\n",
       "    <tr>\n",
       "      <th>290</th>\n",
       "      <td>SAHA+SAHA+2</td>\n",
       "      <td>0</td>\n",
       "      <td>-0.650830</td>\n",
       "      <td>0.630790</td>\n",
       "      <td>0.676920</td>\n",
       "      <td>0.167740</td>\n",
       "      <td>0.599980</td>\n",
       "      <td>0.677670</td>\n",
       "      <td>0.658850</td>\n",
       "      <td>0.630060</td>\n",
       "      <td>...</td>\n",
       "      <td>0.538630</td>\n",
       "      <td>0.154080</td>\n",
       "      <td>-0.157860</td>\n",
       "      <td>0.643140</td>\n",
       "      <td>0.638610</td>\n",
       "      <td>0.154080</td>\n",
       "      <td>-0.524830</td>\n",
       "      <td>-0.520510</td>\n",
       "      <td>-0.183780</td>\n",
       "      <td>0.281670</td>\n",
       "    </tr>\n",
       "    <tr>\n",
       "      <th>292</th>\n",
       "      <td>SAHA+SAHA+3</td>\n",
       "      <td>0</td>\n",
       "      <td>-0.050000</td>\n",
       "      <td>0.361100</td>\n",
       "      <td>0.448260</td>\n",
       "      <td>0.162890</td>\n",
       "      <td>0.448480</td>\n",
       "      <td>0.446840</td>\n",
       "      <td>0.442590</td>\n",
       "      <td>0.420530</td>\n",
       "      <td>...</td>\n",
       "      <td>0.115710</td>\n",
       "      <td>0.047349</td>\n",
       "      <td>0.026096</td>\n",
       "      <td>0.127050</td>\n",
       "      <td>0.117700</td>\n",
       "      <td>0.047349</td>\n",
       "      <td>0.158250</td>\n",
       "      <td>0.101300</td>\n",
       "      <td>-0.058386</td>\n",
       "      <td>-0.035401</td>\n",
       "    </tr>\n",
       "    <tr>\n",
       "      <th>294</th>\n",
       "      <td>SAHA+SAHA+4</td>\n",
       "      <td>0</td>\n",
       "      <td>0.083482</td>\n",
       "      <td>0.102670</td>\n",
       "      <td>0.187060</td>\n",
       "      <td>0.068716</td>\n",
       "      <td>0.153600</td>\n",
       "      <td>0.179590</td>\n",
       "      <td>0.182010</td>\n",
       "      <td>0.171780</td>\n",
       "      <td>...</td>\n",
       "      <td>-0.091766</td>\n",
       "      <td>0.034585</td>\n",
       "      <td>-0.043996</td>\n",
       "      <td>-0.096631</td>\n",
       "      <td>-0.085410</td>\n",
       "      <td>0.034585</td>\n",
       "      <td>0.122200</td>\n",
       "      <td>0.102010</td>\n",
       "      <td>-0.051268</td>\n",
       "      <td>-0.048886</td>\n",
       "    </tr>\n",
       "    <tr>\n",
       "      <th>296</th>\n",
       "      <td>SAHA+SAHA+5</td>\n",
       "      <td>0</td>\n",
       "      <td>0.082080</td>\n",
       "      <td>-0.095090</td>\n",
       "      <td>0.045131</td>\n",
       "      <td>-0.038340</td>\n",
       "      <td>-0.036715</td>\n",
       "      <td>0.043464</td>\n",
       "      <td>0.051123</td>\n",
       "      <td>0.056143</td>\n",
       "      <td>...</td>\n",
       "      <td>-0.123530</td>\n",
       "      <td>0.058774</td>\n",
       "      <td>-0.068147</td>\n",
       "      <td>-0.110060</td>\n",
       "      <td>-0.114430</td>\n",
       "      <td>0.058774</td>\n",
       "      <td>0.075379</td>\n",
       "      <td>0.071095</td>\n",
       "      <td>-0.054242</td>\n",
       "      <td>0.039518</td>\n",
       "    </tr>\n",
       "    <tr>\n",
       "      <th>298</th>\n",
       "      <td>SAHA+SAHA+6</td>\n",
       "      <td>0</td>\n",
       "      <td>0.119230</td>\n",
       "      <td>-0.111520</td>\n",
       "      <td>-0.030594</td>\n",
       "      <td>-0.056651</td>\n",
       "      <td>-0.055880</td>\n",
       "      <td>-0.027947</td>\n",
       "      <td>0.038263</td>\n",
       "      <td>0.039357</td>\n",
       "      <td>...</td>\n",
       "      <td>-0.135570</td>\n",
       "      <td>0.036210</td>\n",
       "      <td>-0.046633</td>\n",
       "      <td>-0.139190</td>\n",
       "      <td>-0.153110</td>\n",
       "      <td>0.036210</td>\n",
       "      <td>0.079504</td>\n",
       "      <td>0.067747</td>\n",
       "      <td>-0.047180</td>\n",
       "      <td>0.037564</td>\n",
       "    </tr>\n",
       "  </tbody>\n",
       "</table>\n",
       "<p>24 rows × 240 columns</p>\n",
       "</div>"
      ],
      "text/plain": [
       "               drug_name  default       ks1       ks2       ks3       ks4  \\\n",
       "672      SAHA+Apicidin+1        0 -0.819170 -0.719220 -0.865900 -0.940780   \n",
       "674      SAHA+Apicidin+2        0 -0.639170  0.557510  0.598390  0.115160   \n",
       "676      SAHA+Apicidin+3        0 -0.079362  0.363130  0.424230  0.152130   \n",
       "678      SAHA+Apicidin+4        0  0.042066  0.064977  0.082751  0.068676   \n",
       "680      SAHA+Apicidin+5        0  0.045482 -0.121280 -0.086435  0.040694   \n",
       "682      SAHA+Apicidin+6        0  0.052281 -0.062670 -0.034032 -0.028311   \n",
       "289      Apicidin+SAHA+1        0 -0.805000 -0.705380 -0.932300 -0.959650   \n",
       "291      Apicidin+SAHA+2        0 -0.650830  0.636690  0.697760  0.173100   \n",
       "293      Apicidin+SAHA+3        0  0.050020  0.323170  0.443300  0.105150   \n",
       "295      Apicidin+SAHA+4        0  0.141710 -0.040410  0.108520 -0.032015   \n",
       "297      Apicidin+SAHA+5        0  0.123910 -0.078472  0.076635 -0.035787   \n",
       "299      Apicidin+SAHA+6        0  0.189250 -0.104780  0.043633  0.021472   \n",
       "673  Apicidin+Apicidin+1        0 -0.781670 -0.755520 -0.972000 -0.986500   \n",
       "675  Apicidin+Apicidin+2        0 -0.620000  0.633600  0.663650  0.157110   \n",
       "677  Apicidin+Apicidin+3        0 -0.102860  0.356880  0.410640  0.138420   \n",
       "679  Apicidin+Apicidin+4        0  0.089211  0.071938  0.114040  0.053434   \n",
       "681  Apicidin+Apicidin+5        0  0.051761 -0.091303 -0.026639 -0.031385   \n",
       "683  Apicidin+Apicidin+6        0  0.139410 -0.108400 -0.086694  0.042368   \n",
       "288          SAHA+SAHA+1        0 -0.764170 -0.740900 -0.954870 -0.977370   \n",
       "290          SAHA+SAHA+2        0 -0.650830  0.630790  0.676920  0.167740   \n",
       "292          SAHA+SAHA+3        0 -0.050000  0.361100  0.448260  0.162890   \n",
       "294          SAHA+SAHA+4        0  0.083482  0.102670  0.187060  0.068716   \n",
       "296          SAHA+SAHA+5        0  0.082080 -0.095090  0.045131 -0.038340   \n",
       "298          SAHA+SAHA+6        0  0.119230 -0.111520 -0.030594 -0.056651   \n",
       "\n",
       "          ks5       ks6       ks7       ks8  ...     ks229     ks230  \\\n",
       "672 -0.954210 -0.872760 -0.826870 -0.793480  ... -0.158290  0.122030   \n",
       "674  0.534800  0.599450  0.601010  0.581840  ...  0.513520  0.170930   \n",
       "676  0.419280  0.422010  0.406750  0.391410  ...  0.120260  0.042665   \n",
       "678  0.072660  0.068002  0.085445  0.079475  ... -0.061610 -0.034680   \n",
       "680 -0.125620 -0.093616 -0.081189 -0.067276  ... -0.097808  0.044751   \n",
       "682 -0.053935 -0.042351  0.017437  0.023533  ... -0.103150  0.029251   \n",
       "289 -0.987230 -0.937750 -0.911380 -0.889150  ... -0.203840  0.081258   \n",
       "291  0.642820  0.703780  0.683010  0.645450  ...  0.581390  0.183440   \n",
       "293  0.444200  0.449360  0.430900  0.413740  ...  0.041315  0.023062   \n",
       "295  0.083251  0.105200  0.092807  0.085888  ... -0.155180  0.052958   \n",
       "297  0.033707  0.062920  0.077586  0.076516  ... -0.157020  0.047651   \n",
       "299 -0.030832  0.031133  0.049691  0.053917  ... -0.182640  0.031323   \n",
       "673 -0.997500 -0.961840 -0.939340 -0.921340  ... -0.270560  0.084436   \n",
       "675  0.637890  0.661120  0.648740  0.621050  ...  0.600990  0.125100   \n",
       "677  0.405690  0.406500  0.385280  0.371240  ...  0.148430 -0.035986   \n",
       "679  0.114270  0.110510  0.107040  0.106980  ... -0.102890  0.029339   \n",
       "681 -0.036877 -0.027991  0.037166  0.039893  ... -0.122020  0.029522   \n",
       "683 -0.111760 -0.108760 -0.069625 -0.055139  ... -0.153340  0.042060   \n",
       "288 -0.989740 -0.957440 -0.918400 -0.892630  ... -0.296220  0.132880   \n",
       "290  0.599980  0.677670  0.658850  0.630060  ...  0.538630  0.154080   \n",
       "292  0.448480  0.446840  0.442590  0.420530  ...  0.115710  0.047349   \n",
       "294  0.153600  0.179590  0.182010  0.171780  ... -0.091766  0.034585   \n",
       "296 -0.036715  0.043464  0.051123  0.056143  ... -0.123530  0.058774   \n",
       "298 -0.055880 -0.027947  0.038263  0.039357  ... -0.135570  0.036210   \n",
       "\n",
       "        ks231     ks232     ks233     ks234     ks235     ks236     ks237  \\\n",
       "672 -0.127860 -0.152370 -0.135520  0.122030 -0.378410 -0.368750 -0.294340   \n",
       "674 -0.087101  0.607680  0.600680  0.170930 -0.555800 -0.530110 -0.154950   \n",
       "676  0.061202  0.140080  0.148740  0.042665  0.169720  0.157770 -0.055649   \n",
       "678  0.037523 -0.073984 -0.065913 -0.034680  0.112630  0.110780 -0.037078   \n",
       "680 -0.036567 -0.098671 -0.096256  0.044751 -0.062315 -0.075092 -0.056719   \n",
       "682  0.027240 -0.108380 -0.109020  0.029251  0.097031  0.095649 -0.028263   \n",
       "289 -0.142450 -0.197660 -0.196810  0.081258 -0.259610 -0.267610 -0.228320   \n",
       "291 -0.155340  0.691520  0.675300  0.183440 -0.579620 -0.575490 -0.182310   \n",
       "293  0.048090  0.037481  0.034211  0.023062  0.199180  0.156040 -0.035293   \n",
       "295 -0.040014 -0.153580 -0.156740  0.052958  0.159050  0.119170 -0.061803   \n",
       "297 -0.048229 -0.150520 -0.154690  0.047651  0.133420  0.107470 -0.051899   \n",
       "299 -0.032265 -0.183220 -0.188680  0.031323  0.151100  0.124560 -0.036879   \n",
       "673  0.112440 -0.245420 -0.243750  0.084436 -0.192600 -0.187440 -0.190410   \n",
       "675 -0.135950  0.701670  0.695560  0.125100 -0.545730 -0.525900 -0.113990   \n",
       "677  0.066418  0.155190  0.167760 -0.035986  0.152470  0.134030  0.034210   \n",
       "679  0.052041 -0.099362 -0.097670  0.029339  0.149700  0.147750 -0.055161   \n",
       "681 -0.037169 -0.119630 -0.120680  0.029522  0.137050  0.125810 -0.033752   \n",
       "683  0.031382 -0.154320 -0.161630  0.042060  0.130530  0.125020 -0.047549   \n",
       "288 -0.099615 -0.270830 -0.266730  0.132880 -0.172180 -0.182880 -0.267880   \n",
       "290 -0.157860  0.643140  0.638610  0.154080 -0.524830 -0.520510 -0.183780   \n",
       "292  0.026096  0.127050  0.117700  0.047349  0.158250  0.101300 -0.058386   \n",
       "294 -0.043996 -0.096631 -0.085410  0.034585  0.122200  0.102010 -0.051268   \n",
       "296 -0.068147 -0.110060 -0.114430  0.058774  0.075379  0.071095 -0.054242   \n",
       "298 -0.046633 -0.139190 -0.153110  0.036210  0.079504  0.067747 -0.047180   \n",
       "\n",
       "        ks238  \n",
       "672  0.209640  \n",
       "674  0.224130  \n",
       "676 -0.077338  \n",
       "678 -0.056381  \n",
       "680 -0.036545  \n",
       "682 -0.083786  \n",
       "289  0.171600  \n",
       "291  0.294640  \n",
       "293 -0.061665  \n",
       "295 -0.039331  \n",
       "297 -0.036275  \n",
       "299 -0.060399  \n",
       "673 -0.057446  \n",
       "675  0.274610  \n",
       "677 -0.075175  \n",
       "679 -0.074297  \n",
       "681 -0.077019  \n",
       "683 -0.054140  \n",
       "288  0.132950  \n",
       "290  0.281670  \n",
       "292 -0.035401  \n",
       "294 -0.048886  \n",
       "296  0.039518  \n",
       "298  0.037564  \n",
       "\n",
       "[24 rows x 240 columns]"
      ]
     },
     "execution_count": 12,
     "metadata": {},
     "output_type": "execute_result"
    }
   ],
   "source": [
    "#Dna ： etoposide，Gemcitabine\n",
    "#hsp：17aag，auy922\n",
    "#mt：paclitaxel，Vinblastine\n",
    "#prot：\"MG132\"，ps341\n",
    "#hdac：saha，apicidin\n",
    "\n",
    "frames5=[]\n",
    "for i in range(1,7):\n",
    "    frames5.append(df.loc[(df['drug_name'] =='SAHA+Apicidin+'+str(i)) ])\n",
    "for j in range(1,7):\n",
    "    frames5.append(df.loc[(df['drug_name'] =='Apicidin+SAHA+'+str(j)) ])\n",
    "for k in range(1,7):\n",
    "    frames5.append(df.loc[(df['drug_name'] =='Apicidin+Apicidin+'+str(k)) ])\n",
    "for m in range(1,7):\n",
    "    frames5.append(df.loc[(df['drug_name'] =='SAHA+SAHA+'+str(m)) ])\n",
    "HDAC= pd.concat(frames5)\n",
    "HDAC"
   ]
  },
  {
   "cell_type": "code",
   "execution_count": 13,
   "metadata": {},
   "outputs": [
    {
     "data": {
      "text/html": [
       "<div>\n",
       "<style scoped>\n",
       "    .dataframe tbody tr th:only-of-type {\n",
       "        vertical-align: middle;\n",
       "    }\n",
       "\n",
       "    .dataframe tbody tr th {\n",
       "        vertical-align: top;\n",
       "    }\n",
       "\n",
       "    .dataframe thead th {\n",
       "        text-align: right;\n",
       "    }\n",
       "</style>\n",
       "<table border=\"1\" class=\"dataframe\">\n",
       "  <thead>\n",
       "    <tr style=\"text-align: right;\">\n",
       "      <th></th>\n",
       "      <th>drug_name</th>\n",
       "      <th>default</th>\n",
       "      <th>ks1</th>\n",
       "      <th>ks2</th>\n",
       "      <th>ks3</th>\n",
       "      <th>ks4</th>\n",
       "      <th>ks5</th>\n",
       "      <th>ks6</th>\n",
       "      <th>ks7</th>\n",
       "      <th>ks8</th>\n",
       "      <th>...</th>\n",
       "      <th>ks229</th>\n",
       "      <th>ks230</th>\n",
       "      <th>ks231</th>\n",
       "      <th>ks232</th>\n",
       "      <th>ks233</th>\n",
       "      <th>ks234</th>\n",
       "      <th>ks235</th>\n",
       "      <th>ks236</th>\n",
       "      <th>ks237</th>\n",
       "      <th>ks238</th>\n",
       "    </tr>\n",
       "  </thead>\n",
       "  <tbody>\n",
       "    <tr>\n",
       "      <th>12</th>\n",
       "      <td>Etoposide+Gemcitabine+1</td>\n",
       "      <td>0</td>\n",
       "      <td>-0.749170</td>\n",
       "      <td>-0.66941</td>\n",
       "      <td>-0.927020</td>\n",
       "      <td>-0.965710</td>\n",
       "      <td>-0.987910</td>\n",
       "      <td>-0.922450</td>\n",
       "      <td>-0.889720</td>\n",
       "      <td>-0.870230</td>\n",
       "      <td>...</td>\n",
       "      <td>-0.337330</td>\n",
       "      <td>0.136410</td>\n",
       "      <td>-0.145360</td>\n",
       "      <td>-0.306520</td>\n",
       "      <td>-0.297390</td>\n",
       "      <td>0.136410</td>\n",
       "      <td>0.235710</td>\n",
       "      <td>0.167310</td>\n",
       "      <td>-0.203070</td>\n",
       "      <td>0.135950</td>\n",
       "    </tr>\n",
       "    <tr>\n",
       "      <th>14</th>\n",
       "      <td>Etoposide+Gemcitabine+2</td>\n",
       "      <td>0</td>\n",
       "      <td>-0.913330</td>\n",
       "      <td>-0.45931</td>\n",
       "      <td>-0.413220</td>\n",
       "      <td>-0.696840</td>\n",
       "      <td>-0.882330</td>\n",
       "      <td>-0.497390</td>\n",
       "      <td>-0.380400</td>\n",
       "      <td>-0.361150</td>\n",
       "      <td>...</td>\n",
       "      <td>0.137990</td>\n",
       "      <td>0.272160</td>\n",
       "      <td>-0.289340</td>\n",
       "      <td>0.270370</td>\n",
       "      <td>0.205260</td>\n",
       "      <td>0.272160</td>\n",
       "      <td>-0.627590</td>\n",
       "      <td>-0.608650</td>\n",
       "      <td>-0.403970</td>\n",
       "      <td>0.399480</td>\n",
       "    </tr>\n",
       "    <tr>\n",
       "      <th>16</th>\n",
       "      <td>Etoposide+Gemcitabine+3</td>\n",
       "      <td>0</td>\n",
       "      <td>-0.690000</td>\n",
       "      <td>0.29902</td>\n",
       "      <td>0.126810</td>\n",
       "      <td>0.259950</td>\n",
       "      <td>0.251080</td>\n",
       "      <td>0.149220</td>\n",
       "      <td>0.113770</td>\n",
       "      <td>0.086765</td>\n",
       "      <td>...</td>\n",
       "      <td>0.551860</td>\n",
       "      <td>0.247790</td>\n",
       "      <td>-0.315200</td>\n",
       "      <td>0.722750</td>\n",
       "      <td>0.682450</td>\n",
       "      <td>0.247790</td>\n",
       "      <td>-0.531130</td>\n",
       "      <td>-0.569710</td>\n",
       "      <td>-0.181620</td>\n",
       "      <td>0.395390</td>\n",
       "    </tr>\n",
       "    <tr>\n",
       "      <th>18</th>\n",
       "      <td>Etoposide+Gemcitabine+4</td>\n",
       "      <td>0</td>\n",
       "      <td>-0.677500</td>\n",
       "      <td>0.25840</td>\n",
       "      <td>0.152130</td>\n",
       "      <td>0.207060</td>\n",
       "      <td>0.146180</td>\n",
       "      <td>0.151390</td>\n",
       "      <td>0.143780</td>\n",
       "      <td>0.126430</td>\n",
       "      <td>...</td>\n",
       "      <td>0.485480</td>\n",
       "      <td>0.231640</td>\n",
       "      <td>-0.226070</td>\n",
       "      <td>0.623180</td>\n",
       "      <td>0.595200</td>\n",
       "      <td>0.231640</td>\n",
       "      <td>-0.474370</td>\n",
       "      <td>-0.498440</td>\n",
       "      <td>-0.153010</td>\n",
       "      <td>0.282530</td>\n",
       "    </tr>\n",
       "    <tr>\n",
       "      <th>20</th>\n",
       "      <td>Etoposide+Gemcitabine+5</td>\n",
       "      <td>0</td>\n",
       "      <td>-0.060833</td>\n",
       "      <td>-0.16714</td>\n",
       "      <td>-0.198800</td>\n",
       "      <td>0.093564</td>\n",
       "      <td>-0.258180</td>\n",
       "      <td>-0.186680</td>\n",
       "      <td>-0.175810</td>\n",
       "      <td>-0.170990</td>\n",
       "      <td>...</td>\n",
       "      <td>-0.052231</td>\n",
       "      <td>0.031219</td>\n",
       "      <td>-0.091645</td>\n",
       "      <td>-0.042901</td>\n",
       "      <td>-0.048864</td>\n",
       "      <td>0.031219</td>\n",
       "      <td>-0.108130</td>\n",
       "      <td>-0.122700</td>\n",
       "      <td>-0.088380</td>\n",
       "      <td>0.100400</td>\n",
       "    </tr>\n",
       "    <tr>\n",
       "      <th>...</th>\n",
       "      <td>...</td>\n",
       "      <td>...</td>\n",
       "      <td>...</td>\n",
       "      <td>...</td>\n",
       "      <td>...</td>\n",
       "      <td>...</td>\n",
       "      <td>...</td>\n",
       "      <td>...</td>\n",
       "      <td>...</td>\n",
       "      <td>...</td>\n",
       "      <td>...</td>\n",
       "      <td>...</td>\n",
       "      <td>...</td>\n",
       "      <td>...</td>\n",
       "      <td>...</td>\n",
       "      <td>...</td>\n",
       "      <td>...</td>\n",
       "      <td>...</td>\n",
       "      <td>...</td>\n",
       "      <td>...</td>\n",
       "      <td>...</td>\n",
       "    </tr>\n",
       "    <tr>\n",
       "      <th>290</th>\n",
       "      <td>SAHA+SAHA+2</td>\n",
       "      <td>0</td>\n",
       "      <td>-0.650830</td>\n",
       "      <td>0.63079</td>\n",
       "      <td>0.676920</td>\n",
       "      <td>0.167740</td>\n",
       "      <td>0.599980</td>\n",
       "      <td>0.677670</td>\n",
       "      <td>0.658850</td>\n",
       "      <td>0.630060</td>\n",
       "      <td>...</td>\n",
       "      <td>0.538630</td>\n",
       "      <td>0.154080</td>\n",
       "      <td>-0.157860</td>\n",
       "      <td>0.643140</td>\n",
       "      <td>0.638610</td>\n",
       "      <td>0.154080</td>\n",
       "      <td>-0.524830</td>\n",
       "      <td>-0.520510</td>\n",
       "      <td>-0.183780</td>\n",
       "      <td>0.281670</td>\n",
       "    </tr>\n",
       "    <tr>\n",
       "      <th>292</th>\n",
       "      <td>SAHA+SAHA+3</td>\n",
       "      <td>0</td>\n",
       "      <td>-0.050000</td>\n",
       "      <td>0.36110</td>\n",
       "      <td>0.448260</td>\n",
       "      <td>0.162890</td>\n",
       "      <td>0.448480</td>\n",
       "      <td>0.446840</td>\n",
       "      <td>0.442590</td>\n",
       "      <td>0.420530</td>\n",
       "      <td>...</td>\n",
       "      <td>0.115710</td>\n",
       "      <td>0.047349</td>\n",
       "      <td>0.026096</td>\n",
       "      <td>0.127050</td>\n",
       "      <td>0.117700</td>\n",
       "      <td>0.047349</td>\n",
       "      <td>0.158250</td>\n",
       "      <td>0.101300</td>\n",
       "      <td>-0.058386</td>\n",
       "      <td>-0.035401</td>\n",
       "    </tr>\n",
       "    <tr>\n",
       "      <th>294</th>\n",
       "      <td>SAHA+SAHA+4</td>\n",
       "      <td>0</td>\n",
       "      <td>0.083482</td>\n",
       "      <td>0.10267</td>\n",
       "      <td>0.187060</td>\n",
       "      <td>0.068716</td>\n",
       "      <td>0.153600</td>\n",
       "      <td>0.179590</td>\n",
       "      <td>0.182010</td>\n",
       "      <td>0.171780</td>\n",
       "      <td>...</td>\n",
       "      <td>-0.091766</td>\n",
       "      <td>0.034585</td>\n",
       "      <td>-0.043996</td>\n",
       "      <td>-0.096631</td>\n",
       "      <td>-0.085410</td>\n",
       "      <td>0.034585</td>\n",
       "      <td>0.122200</td>\n",
       "      <td>0.102010</td>\n",
       "      <td>-0.051268</td>\n",
       "      <td>-0.048886</td>\n",
       "    </tr>\n",
       "    <tr>\n",
       "      <th>296</th>\n",
       "      <td>SAHA+SAHA+5</td>\n",
       "      <td>0</td>\n",
       "      <td>0.082080</td>\n",
       "      <td>-0.09509</td>\n",
       "      <td>0.045131</td>\n",
       "      <td>-0.038340</td>\n",
       "      <td>-0.036715</td>\n",
       "      <td>0.043464</td>\n",
       "      <td>0.051123</td>\n",
       "      <td>0.056143</td>\n",
       "      <td>...</td>\n",
       "      <td>-0.123530</td>\n",
       "      <td>0.058774</td>\n",
       "      <td>-0.068147</td>\n",
       "      <td>-0.110060</td>\n",
       "      <td>-0.114430</td>\n",
       "      <td>0.058774</td>\n",
       "      <td>0.075379</td>\n",
       "      <td>0.071095</td>\n",
       "      <td>-0.054242</td>\n",
       "      <td>0.039518</td>\n",
       "    </tr>\n",
       "    <tr>\n",
       "      <th>298</th>\n",
       "      <td>SAHA+SAHA+6</td>\n",
       "      <td>0</td>\n",
       "      <td>0.119230</td>\n",
       "      <td>-0.11152</td>\n",
       "      <td>-0.030594</td>\n",
       "      <td>-0.056651</td>\n",
       "      <td>-0.055880</td>\n",
       "      <td>-0.027947</td>\n",
       "      <td>0.038263</td>\n",
       "      <td>0.039357</td>\n",
       "      <td>...</td>\n",
       "      <td>-0.135570</td>\n",
       "      <td>0.036210</td>\n",
       "      <td>-0.046633</td>\n",
       "      <td>-0.139190</td>\n",
       "      <td>-0.153110</td>\n",
       "      <td>0.036210</td>\n",
       "      <td>0.079504</td>\n",
       "      <td>0.067747</td>\n",
       "      <td>-0.047180</td>\n",
       "      <td>0.037564</td>\n",
       "    </tr>\n",
       "  </tbody>\n",
       "</table>\n",
       "<p>120 rows × 240 columns</p>\n",
       "</div>"
      ],
      "text/plain": [
       "                   drug_name  default       ks1      ks2       ks3       ks4  \\\n",
       "12   Etoposide+Gemcitabine+1        0 -0.749170 -0.66941 -0.927020 -0.965710   \n",
       "14   Etoposide+Gemcitabine+2        0 -0.913330 -0.45931 -0.413220 -0.696840   \n",
       "16   Etoposide+Gemcitabine+3        0 -0.690000  0.29902  0.126810  0.259950   \n",
       "18   Etoposide+Gemcitabine+4        0 -0.677500  0.25840  0.152130  0.207060   \n",
       "20   Etoposide+Gemcitabine+5        0 -0.060833 -0.16714 -0.198800  0.093564   \n",
       "..                       ...      ...       ...      ...       ...       ...   \n",
       "290              SAHA+SAHA+2        0 -0.650830  0.63079  0.676920  0.167740   \n",
       "292              SAHA+SAHA+3        0 -0.050000  0.36110  0.448260  0.162890   \n",
       "294              SAHA+SAHA+4        0  0.083482  0.10267  0.187060  0.068716   \n",
       "296              SAHA+SAHA+5        0  0.082080 -0.09509  0.045131 -0.038340   \n",
       "298              SAHA+SAHA+6        0  0.119230 -0.11152 -0.030594 -0.056651   \n",
       "\n",
       "          ks5       ks6       ks7       ks8  ...     ks229     ks230  \\\n",
       "12  -0.987910 -0.922450 -0.889720 -0.870230  ... -0.337330  0.136410   \n",
       "14  -0.882330 -0.497390 -0.380400 -0.361150  ...  0.137990  0.272160   \n",
       "16   0.251080  0.149220  0.113770  0.086765  ...  0.551860  0.247790   \n",
       "18   0.146180  0.151390  0.143780  0.126430  ...  0.485480  0.231640   \n",
       "20  -0.258180 -0.186680 -0.175810 -0.170990  ... -0.052231  0.031219   \n",
       "..        ...       ...       ...       ...  ...       ...       ...   \n",
       "290  0.599980  0.677670  0.658850  0.630060  ...  0.538630  0.154080   \n",
       "292  0.448480  0.446840  0.442590  0.420530  ...  0.115710  0.047349   \n",
       "294  0.153600  0.179590  0.182010  0.171780  ... -0.091766  0.034585   \n",
       "296 -0.036715  0.043464  0.051123  0.056143  ... -0.123530  0.058774   \n",
       "298 -0.055880 -0.027947  0.038263  0.039357  ... -0.135570  0.036210   \n",
       "\n",
       "        ks231     ks232     ks233     ks234     ks235     ks236     ks237  \\\n",
       "12  -0.145360 -0.306520 -0.297390  0.136410  0.235710  0.167310 -0.203070   \n",
       "14  -0.289340  0.270370  0.205260  0.272160 -0.627590 -0.608650 -0.403970   \n",
       "16  -0.315200  0.722750  0.682450  0.247790 -0.531130 -0.569710 -0.181620   \n",
       "18  -0.226070  0.623180  0.595200  0.231640 -0.474370 -0.498440 -0.153010   \n",
       "20  -0.091645 -0.042901 -0.048864  0.031219 -0.108130 -0.122700 -0.088380   \n",
       "..        ...       ...       ...       ...       ...       ...       ...   \n",
       "290 -0.157860  0.643140  0.638610  0.154080 -0.524830 -0.520510 -0.183780   \n",
       "292  0.026096  0.127050  0.117700  0.047349  0.158250  0.101300 -0.058386   \n",
       "294 -0.043996 -0.096631 -0.085410  0.034585  0.122200  0.102010 -0.051268   \n",
       "296 -0.068147 -0.110060 -0.114430  0.058774  0.075379  0.071095 -0.054242   \n",
       "298 -0.046633 -0.139190 -0.153110  0.036210  0.079504  0.067747 -0.047180   \n",
       "\n",
       "        ks238  \n",
       "12   0.135950  \n",
       "14   0.399480  \n",
       "16   0.395390  \n",
       "18   0.282530  \n",
       "20   0.100400  \n",
       "..        ...  \n",
       "290  0.281670  \n",
       "292 -0.035401  \n",
       "294 -0.048886  \n",
       "296  0.039518  \n",
       "298  0.037564  \n",
       "\n",
       "[120 rows x 240 columns]"
      ]
     },
     "execution_count": 13,
     "metadata": {},
     "output_type": "execute_result"
    }
   ],
   "source": [
    "combi=frames+frames2+frames3+frames4+frames5\n",
    "training= pd.concat(combi)\n",
    "training\n",
    "\n"
   ]
  },
  {
   "cell_type": "code",
   "execution_count": 14,
   "metadata": {},
   "outputs": [
    {
     "name": "stdout",
     "output_type": "stream",
     "text": [
      "237\n",
      "4\n"
     ]
    }
   ],
   "source": [
    "#lda model\n",
    "#just sample\n",
    "#Dna ： etoposide，Gemcitabine\n",
    "#mt：paclitaxel，Vinblastine\n",
    "#hsp：17aag，auy922\n",
    "\n",
    "#prot：\"MG132\"，ps341\n",
    "#hdac：saha，apicidin\n",
    "from sklearn.datasets import make_classification\n",
    "from sklearn.discriminant_analysis import LinearDiscriminantAnalysis\n",
    "\n",
    "X_drug=training.iloc[:, 3:240].values\n",
    "\n",
    "y=[]\n",
    "for i in range(24):\n",
    "    y.append('DNA')\n",
    "for j in range(24):\n",
    "    y.append('MT')\n",
    "for k in range(24):\n",
    "    y.append('HSP')\n",
    "for m in range(24):\n",
    "    y.append('PROT')\n",
    "for n in range(24):\n",
    "    y.append('HDAC')\n",
    "print(len(X_drug[0]))\n",
    "model = LinearDiscriminantAnalysis(n_components=4)\n",
    "#model.fit(X_drug, y)\n",
    "#X_drug2 = model.transform(X_drug)\n",
    "#reduce dimension for the data\n",
    "X_drug2=model.fit(X_drug,y).transform(X_drug)\n",
    "X_drug2\n",
    "print(len(X_drug2[0]))\n",
    "\n"
   ]
  },
  {
   "cell_type": "code",
   "execution_count": 15,
   "metadata": {},
   "outputs": [
    {
     "data": {
      "text/html": [
       "<div>\n",
       "<style scoped>\n",
       "    .dataframe tbody tr th:only-of-type {\n",
       "        vertical-align: middle;\n",
       "    }\n",
       "\n",
       "    .dataframe tbody tr th {\n",
       "        vertical-align: top;\n",
       "    }\n",
       "\n",
       "    .dataframe thead th {\n",
       "        text-align: right;\n",
       "    }\n",
       "</style>\n",
       "<table border=\"1\" class=\"dataframe\">\n",
       "  <thead>\n",
       "    <tr style=\"text-align: right;\">\n",
       "      <th></th>\n",
       "      <th>principal component 1</th>\n",
       "      <th>principal component 2</th>\n",
       "      <th>principal component 3</th>\n",
       "      <th>principal component 4</th>\n",
       "    </tr>\n",
       "  </thead>\n",
       "  <tbody>\n",
       "    <tr>\n",
       "      <th>0</th>\n",
       "      <td>-0.829590</td>\n",
       "      <td>-2.080418</td>\n",
       "      <td>-4.842193</td>\n",
       "      <td>1.987824</td>\n",
       "    </tr>\n",
       "    <tr>\n",
       "      <th>1</th>\n",
       "      <td>-0.603425</td>\n",
       "      <td>-2.534872</td>\n",
       "      <td>-4.162043</td>\n",
       "      <td>2.203777</td>\n",
       "    </tr>\n",
       "    <tr>\n",
       "      <th>2</th>\n",
       "      <td>-0.218175</td>\n",
       "      <td>-2.148624</td>\n",
       "      <td>-5.068653</td>\n",
       "      <td>1.888686</td>\n",
       "    </tr>\n",
       "    <tr>\n",
       "      <th>3</th>\n",
       "      <td>-0.969943</td>\n",
       "      <td>-2.286784</td>\n",
       "      <td>-4.505457</td>\n",
       "      <td>2.401279</td>\n",
       "    </tr>\n",
       "    <tr>\n",
       "      <th>4</th>\n",
       "      <td>-0.241403</td>\n",
       "      <td>-2.769237</td>\n",
       "      <td>-3.908104</td>\n",
       "      <td>1.716345</td>\n",
       "    </tr>\n",
       "    <tr>\n",
       "      <th>...</th>\n",
       "      <td>...</td>\n",
       "      <td>...</td>\n",
       "      <td>...</td>\n",
       "      <td>...</td>\n",
       "    </tr>\n",
       "    <tr>\n",
       "      <th>115</th>\n",
       "      <td>8.085646</td>\n",
       "      <td>2.561260</td>\n",
       "      <td>0.973898</td>\n",
       "      <td>0.628683</td>\n",
       "    </tr>\n",
       "    <tr>\n",
       "      <th>116</th>\n",
       "      <td>6.826936</td>\n",
       "      <td>1.196580</td>\n",
       "      <td>-0.087423</td>\n",
       "      <td>0.356439</td>\n",
       "    </tr>\n",
       "    <tr>\n",
       "      <th>117</th>\n",
       "      <td>6.368216</td>\n",
       "      <td>0.884793</td>\n",
       "      <td>-1.323926</td>\n",
       "      <td>-1.055899</td>\n",
       "    </tr>\n",
       "    <tr>\n",
       "      <th>118</th>\n",
       "      <td>7.113919</td>\n",
       "      <td>0.296574</td>\n",
       "      <td>0.016675</td>\n",
       "      <td>0.361444</td>\n",
       "    </tr>\n",
       "    <tr>\n",
       "      <th>119</th>\n",
       "      <td>5.549444</td>\n",
       "      <td>0.660208</td>\n",
       "      <td>0.710839</td>\n",
       "      <td>-3.014800</td>\n",
       "    </tr>\n",
       "  </tbody>\n",
       "</table>\n",
       "<p>120 rows × 4 columns</p>\n",
       "</div>"
      ],
      "text/plain": [
       "     principal component 1  principal component 2  principal component 3  \\\n",
       "0                -0.829590              -2.080418              -4.842193   \n",
       "1                -0.603425              -2.534872              -4.162043   \n",
       "2                -0.218175              -2.148624              -5.068653   \n",
       "3                -0.969943              -2.286784              -4.505457   \n",
       "4                -0.241403              -2.769237              -3.908104   \n",
       "..                     ...                    ...                    ...   \n",
       "115               8.085646               2.561260               0.973898   \n",
       "116               6.826936               1.196580              -0.087423   \n",
       "117               6.368216               0.884793              -1.323926   \n",
       "118               7.113919               0.296574               0.016675   \n",
       "119               5.549444               0.660208               0.710839   \n",
       "\n",
       "     principal component 4  \n",
       "0                 1.987824  \n",
       "1                 2.203777  \n",
       "2                 1.888686  \n",
       "3                 2.401279  \n",
       "4                 1.716345  \n",
       "..                     ...  \n",
       "115               0.628683  \n",
       "116               0.356439  \n",
       "117              -1.055899  \n",
       "118               0.361444  \n",
       "119              -3.014800  \n",
       "\n",
       "[120 rows x 4 columns]"
      ]
     },
     "execution_count": 15,
     "metadata": {},
     "output_type": "execute_result"
    }
   ],
   "source": [
    "#pca_drug = PCA(n_components=6)\n",
    "#components = pca_drug.fit_transform(X_drug)\n",
    "principalDf = pd.DataFrame(data = X_drug2\n",
    "             , columns =['principal component 1', 'principal component 2','principal component 3','principal component 4'])\n",
    "principalDf"
   ]
  },
  {
   "cell_type": "code",
   "execution_count": 16,
   "metadata": {},
   "outputs": [],
   "source": [
    "#predict\n",
    "#still sample but useful this block \n",
    "#model2 = LinearDiscriminantAnalysis(n_components=1)\n",
    "#model2.fit(X_drug2,y)\n",
    "#row=X_drug2\n",
    "#yhat = model2.predict(row)\n",
    "# summarize prediction\n",
    "#print('Predicted Class: %s' % yhat)\n",
    "\n"
   ]
  },
  {
   "cell_type": "code",
   "execution_count": 17,
   "metadata": {},
   "outputs": [
    {
     "name": "stdout",
     "output_type": "stream",
     "text": [
      "120\n"
     ]
    }
   ],
   "source": [
    "all_list=[]\n",
    "\n",
    "for i in range(len(X_drug2)):\n",
    "    all_list.append(X_drug2[i])\n",
    "print(len(all_list))"
   ]
  },
  {
   "cell_type": "code",
   "execution_count": 18,
   "metadata": {},
   "outputs": [
    {
     "name": "stdout",
     "output_type": "stream",
     "text": [
      "90\n",
      "30\n",
      "['DNA' 'DNA' 'DNA' 'DNA' 'DNA' 'DNA' 'MT' 'MT' 'MT' 'MT' 'MT' 'DNA' 'HSP'\n",
      " 'HSP' 'HSP' 'HSP' 'HSP' 'HSP' 'PROT' 'PROT' 'PROT' 'PROT' 'PROT' 'HSP'\n",
      " 'HDAC' 'HDAC' 'HDAC' 'HDAC' 'HDAC' 'HDAC']\n"
     ]
    }
   ],
   "source": [
    "X_training=[]\n",
    "X_testing=[]\n",
    "\n",
    "X_training=all_list[6:24]+all_list[30:48]+all_list[54:72]+all_list[78:96]+all_list[102:120]\n",
    "\n",
    "X_testing=all_list[:6]+all_list[24:30]+all_list[48:54]+all_list[72:78]+all_list[96:102]\n",
    "#X_testing.append()\n",
    "print(len(X_training))\n",
    "print(len(X_testing))\n",
    "y=[]\n",
    "for i in range(18):\n",
    "    y.append('DNA')\n",
    "for j in range(18):\n",
    "    y.append(\"MT\")\n",
    "for k in range(18):\n",
    "    y.append(\"HSP\")\n",
    "for m in range(18):\n",
    "    y.append(\"PROT\")\n",
    "for n in range(18):\n",
    "    y.append(\"HDAC\")\n",
    "model2 = LinearDiscriminantAnalysis(n_components=4)\n",
    "model2.fit(X_training,y)\n",
    "yhat2=model2.predict(X_testing)\n",
    "\n",
    "print(yhat2)"
   ]
  },
  {
   "cell_type": "code",
   "execution_count": 19,
   "metadata": {},
   "outputs": [],
   "source": [
    "def accuracy(list1,list2):\n",
    "    length=len(list1)\n",
    "    list3=[]\n",
    "    for i in range(int(length/5.0)):\n",
    "        list3.append(list2[0])\n",
    "    for j in range(int(length/5.0)):\n",
    "        list3.append(list2[1])\n",
    "    for m in range(int(length/5.0)):\n",
    "        list3.append(list2[2])\n",
    "    for n in range(int(length/5.0)):\n",
    "        list3.append(list2[3])\n",
    "    for k in range(int(length/5.0)):\n",
    "        list3.append(list2[4])\n",
    "\n",
    "    counter=0\n",
    "    for k in range(len(list1)):\n",
    "\n",
    "        if list1[k]==list3[k]:\n",
    "            counter+=1\n",
    "    return counter/length\n",
    "\n"
   ]
  },
  {
   "cell_type": "code",
   "execution_count": 20,
   "metadata": {},
   "outputs": [
    {
     "data": {
      "text/plain": [
       "'93.33%'"
      ]
     },
     "execution_count": 20,
     "metadata": {},
     "output_type": "execute_result"
    }
   ],
   "source": [
    "#test accuracy\n",
    "'%.2f%%' % ((accuracy( yhat2,['DNA',\"MT\",\"HSP\",\"PROT\",\"HDAC\"]))*100)"
   ]
  },
  {
   "cell_type": "code",
   "execution_count": 21,
   "metadata": {},
   "outputs": [
    {
     "data": {
      "text/plain": [
       "['DNA',\n",
       " 'DNA',\n",
       " 'DNA',\n",
       " 'DNA',\n",
       " 'DNA',\n",
       " 'DNA',\n",
       " 'DNA',\n",
       " 'DNA',\n",
       " 'DNA',\n",
       " 'DNA',\n",
       " 'DNA',\n",
       " 'DNA',\n",
       " 'DNA',\n",
       " 'DNA',\n",
       " 'DNA',\n",
       " 'DNA',\n",
       " 'DNA',\n",
       " 'DNA',\n",
       " 'DNA',\n",
       " 'DNA',\n",
       " 'DNA',\n",
       " 'DNA',\n",
       " 'DNA',\n",
       " 'DNA',\n",
       " 'MT',\n",
       " 'MT',\n",
       " 'MT',\n",
       " 'MT',\n",
       " 'MT',\n",
       " 'MT',\n",
       " 'MT',\n",
       " 'MT',\n",
       " 'MT',\n",
       " 'MT',\n",
       " 'MT',\n",
       " 'MT',\n",
       " 'MT',\n",
       " 'MT',\n",
       " 'MT',\n",
       " 'MT',\n",
       " 'MT',\n",
       " 'MT',\n",
       " 'MT',\n",
       " 'MT',\n",
       " 'MT',\n",
       " 'MT',\n",
       " 'MT',\n",
       " 'MT',\n",
       " 'HSP',\n",
       " 'HSP',\n",
       " 'HSP',\n",
       " 'HSP',\n",
       " 'HSP',\n",
       " 'HSP',\n",
       " 'HSP',\n",
       " 'HSP',\n",
       " 'HSP',\n",
       " 'HSP',\n",
       " 'HSP',\n",
       " 'HSP',\n",
       " 'HSP',\n",
       " 'HSP',\n",
       " 'HSP',\n",
       " 'HSP',\n",
       " 'HSP',\n",
       " 'HSP',\n",
       " 'HSP',\n",
       " 'HSP',\n",
       " 'HSP',\n",
       " 'HSP',\n",
       " 'HSP',\n",
       " 'HSP',\n",
       " 'PROT',\n",
       " 'PROT',\n",
       " 'PROT',\n",
       " 'PROT',\n",
       " 'PROT',\n",
       " 'PROT',\n",
       " 'PROT',\n",
       " 'PROT',\n",
       " 'PROT',\n",
       " 'PROT',\n",
       " 'PROT',\n",
       " 'PROT',\n",
       " 'PROT',\n",
       " 'PROT',\n",
       " 'PROT',\n",
       " 'PROT',\n",
       " 'PROT',\n",
       " 'PROT',\n",
       " 'PROT',\n",
       " 'PROT',\n",
       " 'PROT',\n",
       " 'PROT',\n",
       " 'PROT',\n",
       " 'PROT',\n",
       " 'HDAC',\n",
       " 'HDAC',\n",
       " 'HDAC',\n",
       " 'HDAC',\n",
       " 'HDAC',\n",
       " 'HDAC',\n",
       " 'HDAC',\n",
       " 'HDAC',\n",
       " 'HDAC',\n",
       " 'HDAC',\n",
       " 'HDAC',\n",
       " 'HDAC',\n",
       " 'HDAC',\n",
       " 'HDAC',\n",
       " 'HDAC',\n",
       " 'HDAC',\n",
       " 'HDAC',\n",
       " 'HDAC',\n",
       " 'HDAC',\n",
       " 'HDAC',\n",
       " 'HDAC',\n",
       " 'HDAC',\n",
       " 'HDAC',\n",
       " 'HDAC']"
      ]
     },
     "execution_count": 21,
     "metadata": {},
     "output_type": "execute_result"
    }
   ],
   "source": [
    "training[\"drug_name\"]\n",
    "train_drug_name_without_concentration=[]\n",
    "for each in training['drug_name']:\n",
    "    train_drug_name_without_concentration.append(each[:-2])\n",
    "    #print(training[\"drug_name\"][i][0:-1])\n",
    "    \n",
    "\n",
    "train_drug_name_without_concentration\n",
    "train_drug_name_without_concentration2=[]\n",
    "#dna,mt,hsp,prot,hdac\n",
    "for i in range(int(len(train_drug_name_without_concentration)/5.0)):\n",
    "    train_drug_name_without_concentration2.append('DNA')\n",
    "for i in range(int(len(train_drug_name_without_concentration)/5.0)):\n",
    "    train_drug_name_without_concentration2.append('MT')\n",
    "for i in range(int(len(train_drug_name_without_concentration)/5.0)):\n",
    "    train_drug_name_without_concentration2.append('HSP')\n",
    "for i in range(int(len(train_drug_name_without_concentration)/5.0)):\n",
    "    train_drug_name_without_concentration2.append('PROT')\n",
    "for i in range(int(len(train_drug_name_without_concentration)/5.0)):\n",
    "    train_drug_name_without_concentration2.append('HDAC')\n",
    "\n",
    "train_drug_name_without_concentration2   \n"
   ]
  },
  {
   "cell_type": "code",
   "execution_count": 22,
   "metadata": {},
   "outputs": [
    {
     "data": {
      "application/vnd.plotly.v1+json": {
       "config": {
        "plotlyServerURL": "https://plot.ly"
       },
       "data": [
        {
         "hovertemplate": "color=DNA<br>0=%{x}<br>1=%{y}<extra></extra>",
         "legendgroup": "DNA",
         "marker": {
          "color": "#636efa",
          "symbol": "circle"
         },
         "mode": "markers",
         "name": "DNA",
         "orientation": "v",
         "showlegend": true,
         "type": "scatter",
         "x": [
          -1.0843818111215269,
          -0.8595162308710257,
          -0.5406233653507233,
          -1.203801806514097,
          -0.38721814345368977,
          -0.5319676146075389,
          -1.3708605004817553,
          -0.542124290372601,
          -0.7930547317030464,
          -0.029401351832578936,
          -0.09452622227288268,
          -0.3359633366327219,
          -0.7450276868676458,
          -0.9160311839518348,
          -0.2632239198270465,
          -1.149962714643432,
          -0.3343642067791601,
          -0.012724193279634706,
          0.06923606606729873,
          -1.3797397371109337,
          -0.5635910991953988,
          -0.7989757083847081,
          -1.1939432402624475,
          -0.5624937790633412
         ],
         "xaxis": "x",
         "y": [
          -1.6984531326146246,
          -2.211062743969046,
          -1.7747046564809843,
          -1.9250078775975128,
          -2.521267271830348,
          -1.9895392500709013,
          -0.784218770718445,
          -1.168793595245964,
          -1.703288448815966,
          -1.8500033485735432,
          0.3022266232212092,
          -1.77685438501061,
          -1.9923496016692581,
          -1.7337946220138143,
          -1.701050423136874,
          -1.2545930841699464,
          -0.6287122492400802,
          -2.9854835205873123,
          -2.637501534617507,
          -1.0808400418471387,
          -1.7993163558735559,
          -2.079726405927136,
          -2.113652174986297,
          -3.7850227607237996
         ],
         "yaxis": "y"
        },
        {
         "hovertemplate": "color=MT<br>0=%{x}<br>1=%{y}<extra></extra>",
         "legendgroup": "MT",
         "marker": {
          "color": "#EF553B",
          "symbol": "circle"
         },
         "mode": "markers",
         "name": "MT",
         "orientation": "v",
         "showlegend": true,
         "type": "scatter",
         "x": [
          0.3146452813013391,
          -0.05911947383440711,
          -0.7520036034234335,
          0.13113597633271373,
          -1.010391548791584,
          -0.2558634520112168,
          -0.06063781249934,
          -0.9248898925151351,
          0.5373364935426337,
          0.5923846287489425,
          1.601937397073027,
          -1.9881313095572446,
          0.638317821172552,
          0.3465756476367901,
          -1.1423428103117734,
          -0.8279182208341678,
          -0.4220967568628128,
          1.0944440476187358,
          -0.6832440725473844,
          0.6533908730846868,
          -0.5978604954671239,
          0.1909408702491186,
          0.7991536564521502,
          2.2525545428877423
         ],
         "xaxis": "x",
         "y": [
          -4.764699225743474,
          -4.529229826596108,
          -4.65593682700666,
          -4.2792054574946645,
          -4.0119728666161185,
          -1.2656196942877933,
          -4.212656203509211,
          -4.045801895229953,
          -4.034303739174677,
          -3.6871559875398554,
          -3.5756570619158294,
          -3.4040587587126994,
          -3.181132666770296,
          -3.8404315980446886,
          -5.050103594202556,
          -3.693023557756262,
          -4.857226069038474,
          -3.9401228324739765,
          -4.176726333008641,
          -4.352080026272876,
          -4.382908785222412,
          -4.23765850911066,
          -2.4849515608225015,
          -2.3414285339405705
         ],
         "yaxis": "y"
        },
        {
         "hovertemplate": "color=HSP<br>0=%{x}<br>1=%{y}<extra></extra>",
         "legendgroup": "HSP",
         "marker": {
          "color": "#00cc96",
          "symbol": "circle"
         },
         "mode": "markers",
         "name": "HSP",
         "orientation": "v",
         "showlegend": true,
         "type": "scatter",
         "x": [
          -3.250058397118191,
          -3.6219402613572083,
          -2.7819221647501347,
          -2.147614102692301,
          -2.854350190026409,
          -2.5017686541445583,
          -2.7667598146086934,
          -3.1079967924050025,
          -3.5201448964753874,
          -3.3859324868129215,
          -4.239879519692006,
          -3.9842486336921406,
          -2.212224335030593,
          -3.1599339266139763,
          -3.9658860723590235,
          -3.0461431835622785,
          -2.565281718094113,
          -1.7280283764101667,
          -2.71915775064407,
          -3.314613369448855,
          -3.2606985127473154,
          -1.7281798074880395,
          -2.9672519937154744,
          -3.784247385838483
         ],
         "xaxis": "x",
         "y": [
          4.516275323342919,
          5.424242401581693,
          5.221176563031083,
          4.381066730550267,
          4.055220629373369,
          4.582542630184769,
          4.9098597433264315,
          5.104100561915502,
          4.656460748307808,
          5.790263543672487,
          3.6088598298896013,
          3.7559300431907388,
          5.217084336055351,
          4.748333406701641,
          4.9609092165399336,
          5.4953093206950365,
          5.326813521836081,
          0.3164380207386961,
          4.346895039585962,
          4.92195181381026,
          4.623895815283625,
          6.562899057859399,
          6.327884626325973,
          3.779395651433457
         ],
         "yaxis": "y"
        },
        {
         "hovertemplate": "color=PROT<br>0=%{x}<br>1=%{y}<extra></extra>",
         "legendgroup": "PROT",
         "marker": {
          "color": "#ab63fa",
          "symbol": "circle"
         },
         "mode": "markers",
         "name": "PROT",
         "orientation": "v",
         "showlegend": true,
         "type": "scatter",
         "x": [
          -3.3629176187850622,
          -2.257866810896753,
          -4.760076801395438,
          -2.1067123820251816,
          -2.9443474217100998,
          -5.009622079131445,
          -1.678894189525595,
          -3.139671983416517,
          -2.9356279422669136,
          -4.3233086882022596,
          -2.1624317808236215,
          -0.49142397063120546,
          -5.104634689434181,
          -3.82908893580035,
          -3.423765517176387,
          -4.017666644064066,
          -3.2715639749303707,
          -3.490702794153984,
          -4.161018620257458,
          -3.4806937130817874,
          -3.026645950387118,
          -2.278472810557059,
          -4.007263650216064,
          -2.020512596239568
         ],
         "xaxis": "x",
         "y": [
          -0.7535664993880882,
          -0.9533046873074685,
          -0.8068359583092569,
          -0.8488473810358618,
          -1.463639606214946,
          1.9320364331187865,
          -1.1872496793763274,
          -0.6745670935344189,
          -0.8206065605990029,
          -1.2690681282943796,
          -1.017214340351458,
          0.20333624606663597,
          -1.3525986263017737,
          -0.862971186135873,
          -0.5857578474781333,
          -1.1751448723235214,
          0.6752969364435603,
          -1.172939669241771,
          -0.6554301612655552,
          -0.4579030056224224,
          -1.5139632634417588,
          0.6155497268672616,
          -0.4905792417164773,
          -0.6616035160583864
         ],
         "yaxis": "y"
        },
        {
         "hovertemplate": "color=HDAC<br>0=%{x}<br>1=%{y}<extra></extra>",
         "legendgroup": "HDAC",
         "marker": {
          "color": "#FFA15A",
          "symbol": "circle"
         },
         "mode": "markers",
         "name": "HDAC",
         "orientation": "v",
         "showlegend": true,
         "type": "scatter",
         "x": [
          7.399510339784465,
          7.696886122897452,
          6.915168188191028,
          8.186387090674716,
          6.56831097095051,
          6.014707852805186,
          7.711979902346289,
          6.958423786845602,
          8.307976426044526,
          8.600075724730367,
          2.516286034639809,
          10.134428343461094,
          7.055652400539665,
          6.057109376359434,
          6.798115536969567,
          5.655603518955539,
          6.935870758425187,
          4.499003046441694,
          7.097580783766671,
          8.218687975664901,
          6.84103215006804,
          6.255342560849431,
          7.177878386362719,
          5.4931396541296085
         ],
         "xaxis": "x",
         "y": [
          2.0310651736876024,
          1.4571663368513639,
          1.850649706619678,
          1.4906684017326317,
          1.4774115009169564,
          1.847002534286316,
          0.9043214181689444,
          1.0249414295311932,
          2.351481307200464,
          2.689176037688221,
          -0.3231922682769563,
          -1.1080267803420174,
          2.807135322007626,
          2.311730526169471,
          1.7428011307925386,
          2.3676051279916877,
          4.189324000311883,
          4.167627284385342,
          1.397612004569577,
          2.0652285255892164,
          0.8533485963356384,
          0.6773252717733337,
          -0.1047364339439529,
          0.3931984952120845
         ],
         "yaxis": "y"
        }
       ],
       "layout": {
        "legend": {
         "title": {
          "text": "color"
         },
         "tracegroupgap": 0
        },
        "margin": {
         "t": 60
        },
        "template": {
         "data": {
          "bar": [
           {
            "error_x": {
             "color": "#2a3f5f"
            },
            "error_y": {
             "color": "#2a3f5f"
            },
            "marker": {
             "line": {
              "color": "#E5ECF6",
              "width": 0.5
             },
             "pattern": {
              "fillmode": "overlay",
              "size": 10,
              "solidity": 0.2
             }
            },
            "type": "bar"
           }
          ],
          "barpolar": [
           {
            "marker": {
             "line": {
              "color": "#E5ECF6",
              "width": 0.5
             },
             "pattern": {
              "fillmode": "overlay",
              "size": 10,
              "solidity": 0.2
             }
            },
            "type": "barpolar"
           }
          ],
          "carpet": [
           {
            "aaxis": {
             "endlinecolor": "#2a3f5f",
             "gridcolor": "white",
             "linecolor": "white",
             "minorgridcolor": "white",
             "startlinecolor": "#2a3f5f"
            },
            "baxis": {
             "endlinecolor": "#2a3f5f",
             "gridcolor": "white",
             "linecolor": "white",
             "minorgridcolor": "white",
             "startlinecolor": "#2a3f5f"
            },
            "type": "carpet"
           }
          ],
          "choropleth": [
           {
            "colorbar": {
             "outlinewidth": 0,
             "ticks": ""
            },
            "type": "choropleth"
           }
          ],
          "contour": [
           {
            "colorbar": {
             "outlinewidth": 0,
             "ticks": ""
            },
            "colorscale": [
             [
              0,
              "#0d0887"
             ],
             [
              0.1111111111111111,
              "#46039f"
             ],
             [
              0.2222222222222222,
              "#7201a8"
             ],
             [
              0.3333333333333333,
              "#9c179e"
             ],
             [
              0.4444444444444444,
              "#bd3786"
             ],
             [
              0.5555555555555556,
              "#d8576b"
             ],
             [
              0.6666666666666666,
              "#ed7953"
             ],
             [
              0.7777777777777778,
              "#fb9f3a"
             ],
             [
              0.8888888888888888,
              "#fdca26"
             ],
             [
              1,
              "#f0f921"
             ]
            ],
            "type": "contour"
           }
          ],
          "contourcarpet": [
           {
            "colorbar": {
             "outlinewidth": 0,
             "ticks": ""
            },
            "type": "contourcarpet"
           }
          ],
          "heatmap": [
           {
            "colorbar": {
             "outlinewidth": 0,
             "ticks": ""
            },
            "colorscale": [
             [
              0,
              "#0d0887"
             ],
             [
              0.1111111111111111,
              "#46039f"
             ],
             [
              0.2222222222222222,
              "#7201a8"
             ],
             [
              0.3333333333333333,
              "#9c179e"
             ],
             [
              0.4444444444444444,
              "#bd3786"
             ],
             [
              0.5555555555555556,
              "#d8576b"
             ],
             [
              0.6666666666666666,
              "#ed7953"
             ],
             [
              0.7777777777777778,
              "#fb9f3a"
             ],
             [
              0.8888888888888888,
              "#fdca26"
             ],
             [
              1,
              "#f0f921"
             ]
            ],
            "type": "heatmap"
           }
          ],
          "heatmapgl": [
           {
            "colorbar": {
             "outlinewidth": 0,
             "ticks": ""
            },
            "colorscale": [
             [
              0,
              "#0d0887"
             ],
             [
              0.1111111111111111,
              "#46039f"
             ],
             [
              0.2222222222222222,
              "#7201a8"
             ],
             [
              0.3333333333333333,
              "#9c179e"
             ],
             [
              0.4444444444444444,
              "#bd3786"
             ],
             [
              0.5555555555555556,
              "#d8576b"
             ],
             [
              0.6666666666666666,
              "#ed7953"
             ],
             [
              0.7777777777777778,
              "#fb9f3a"
             ],
             [
              0.8888888888888888,
              "#fdca26"
             ],
             [
              1,
              "#f0f921"
             ]
            ],
            "type": "heatmapgl"
           }
          ],
          "histogram": [
           {
            "marker": {
             "pattern": {
              "fillmode": "overlay",
              "size": 10,
              "solidity": 0.2
             }
            },
            "type": "histogram"
           }
          ],
          "histogram2d": [
           {
            "colorbar": {
             "outlinewidth": 0,
             "ticks": ""
            },
            "colorscale": [
             [
              0,
              "#0d0887"
             ],
             [
              0.1111111111111111,
              "#46039f"
             ],
             [
              0.2222222222222222,
              "#7201a8"
             ],
             [
              0.3333333333333333,
              "#9c179e"
             ],
             [
              0.4444444444444444,
              "#bd3786"
             ],
             [
              0.5555555555555556,
              "#d8576b"
             ],
             [
              0.6666666666666666,
              "#ed7953"
             ],
             [
              0.7777777777777778,
              "#fb9f3a"
             ],
             [
              0.8888888888888888,
              "#fdca26"
             ],
             [
              1,
              "#f0f921"
             ]
            ],
            "type": "histogram2d"
           }
          ],
          "histogram2dcontour": [
           {
            "colorbar": {
             "outlinewidth": 0,
             "ticks": ""
            },
            "colorscale": [
             [
              0,
              "#0d0887"
             ],
             [
              0.1111111111111111,
              "#46039f"
             ],
             [
              0.2222222222222222,
              "#7201a8"
             ],
             [
              0.3333333333333333,
              "#9c179e"
             ],
             [
              0.4444444444444444,
              "#bd3786"
             ],
             [
              0.5555555555555556,
              "#d8576b"
             ],
             [
              0.6666666666666666,
              "#ed7953"
             ],
             [
              0.7777777777777778,
              "#fb9f3a"
             ],
             [
              0.8888888888888888,
              "#fdca26"
             ],
             [
              1,
              "#f0f921"
             ]
            ],
            "type": "histogram2dcontour"
           }
          ],
          "mesh3d": [
           {
            "colorbar": {
             "outlinewidth": 0,
             "ticks": ""
            },
            "type": "mesh3d"
           }
          ],
          "parcoords": [
           {
            "line": {
             "colorbar": {
              "outlinewidth": 0,
              "ticks": ""
             }
            },
            "type": "parcoords"
           }
          ],
          "pie": [
           {
            "automargin": true,
            "type": "pie"
           }
          ],
          "scatter": [
           {
            "fillpattern": {
             "fillmode": "overlay",
             "size": 10,
             "solidity": 0.2
            },
            "type": "scatter"
           }
          ],
          "scatter3d": [
           {
            "line": {
             "colorbar": {
              "outlinewidth": 0,
              "ticks": ""
             }
            },
            "marker": {
             "colorbar": {
              "outlinewidth": 0,
              "ticks": ""
             }
            },
            "type": "scatter3d"
           }
          ],
          "scattercarpet": [
           {
            "marker": {
             "colorbar": {
              "outlinewidth": 0,
              "ticks": ""
             }
            },
            "type": "scattercarpet"
           }
          ],
          "scattergeo": [
           {
            "marker": {
             "colorbar": {
              "outlinewidth": 0,
              "ticks": ""
             }
            },
            "type": "scattergeo"
           }
          ],
          "scattergl": [
           {
            "marker": {
             "colorbar": {
              "outlinewidth": 0,
              "ticks": ""
             }
            },
            "type": "scattergl"
           }
          ],
          "scattermapbox": [
           {
            "marker": {
             "colorbar": {
              "outlinewidth": 0,
              "ticks": ""
             }
            },
            "type": "scattermapbox"
           }
          ],
          "scatterpolar": [
           {
            "marker": {
             "colorbar": {
              "outlinewidth": 0,
              "ticks": ""
             }
            },
            "type": "scatterpolar"
           }
          ],
          "scatterpolargl": [
           {
            "marker": {
             "colorbar": {
              "outlinewidth": 0,
              "ticks": ""
             }
            },
            "type": "scatterpolargl"
           }
          ],
          "scatterternary": [
           {
            "marker": {
             "colorbar": {
              "outlinewidth": 0,
              "ticks": ""
             }
            },
            "type": "scatterternary"
           }
          ],
          "surface": [
           {
            "colorbar": {
             "outlinewidth": 0,
             "ticks": ""
            },
            "colorscale": [
             [
              0,
              "#0d0887"
             ],
             [
              0.1111111111111111,
              "#46039f"
             ],
             [
              0.2222222222222222,
              "#7201a8"
             ],
             [
              0.3333333333333333,
              "#9c179e"
             ],
             [
              0.4444444444444444,
              "#bd3786"
             ],
             [
              0.5555555555555556,
              "#d8576b"
             ],
             [
              0.6666666666666666,
              "#ed7953"
             ],
             [
              0.7777777777777778,
              "#fb9f3a"
             ],
             [
              0.8888888888888888,
              "#fdca26"
             ],
             [
              1,
              "#f0f921"
             ]
            ],
            "type": "surface"
           }
          ],
          "table": [
           {
            "cells": {
             "fill": {
              "color": "#EBF0F8"
             },
             "line": {
              "color": "white"
             }
            },
            "header": {
             "fill": {
              "color": "#C8D4E3"
             },
             "line": {
              "color": "white"
             }
            },
            "type": "table"
           }
          ]
         },
         "layout": {
          "annotationdefaults": {
           "arrowcolor": "#2a3f5f",
           "arrowhead": 0,
           "arrowwidth": 1
          },
          "autotypenumbers": "strict",
          "coloraxis": {
           "colorbar": {
            "outlinewidth": 0,
            "ticks": ""
           }
          },
          "colorscale": {
           "diverging": [
            [
             0,
             "#8e0152"
            ],
            [
             0.1,
             "#c51b7d"
            ],
            [
             0.2,
             "#de77ae"
            ],
            [
             0.3,
             "#f1b6da"
            ],
            [
             0.4,
             "#fde0ef"
            ],
            [
             0.5,
             "#f7f7f7"
            ],
            [
             0.6,
             "#e6f5d0"
            ],
            [
             0.7,
             "#b8e186"
            ],
            [
             0.8,
             "#7fbc41"
            ],
            [
             0.9,
             "#4d9221"
            ],
            [
             1,
             "#276419"
            ]
           ],
           "sequential": [
            [
             0,
             "#0d0887"
            ],
            [
             0.1111111111111111,
             "#46039f"
            ],
            [
             0.2222222222222222,
             "#7201a8"
            ],
            [
             0.3333333333333333,
             "#9c179e"
            ],
            [
             0.4444444444444444,
             "#bd3786"
            ],
            [
             0.5555555555555556,
             "#d8576b"
            ],
            [
             0.6666666666666666,
             "#ed7953"
            ],
            [
             0.7777777777777778,
             "#fb9f3a"
            ],
            [
             0.8888888888888888,
             "#fdca26"
            ],
            [
             1,
             "#f0f921"
            ]
           ],
           "sequentialminus": [
            [
             0,
             "#0d0887"
            ],
            [
             0.1111111111111111,
             "#46039f"
            ],
            [
             0.2222222222222222,
             "#7201a8"
            ],
            [
             0.3333333333333333,
             "#9c179e"
            ],
            [
             0.4444444444444444,
             "#bd3786"
            ],
            [
             0.5555555555555556,
             "#d8576b"
            ],
            [
             0.6666666666666666,
             "#ed7953"
            ],
            [
             0.7777777777777778,
             "#fb9f3a"
            ],
            [
             0.8888888888888888,
             "#fdca26"
            ],
            [
             1,
             "#f0f921"
            ]
           ]
          },
          "colorway": [
           "#636efa",
           "#EF553B",
           "#00cc96",
           "#ab63fa",
           "#FFA15A",
           "#19d3f3",
           "#FF6692",
           "#B6E880",
           "#FF97FF",
           "#FECB52"
          ],
          "font": {
           "color": "#2a3f5f"
          },
          "geo": {
           "bgcolor": "white",
           "lakecolor": "white",
           "landcolor": "#E5ECF6",
           "showlakes": true,
           "showland": true,
           "subunitcolor": "white"
          },
          "hoverlabel": {
           "align": "left"
          },
          "hovermode": "closest",
          "mapbox": {
           "style": "light"
          },
          "paper_bgcolor": "white",
          "plot_bgcolor": "#E5ECF6",
          "polar": {
           "angularaxis": {
            "gridcolor": "white",
            "linecolor": "white",
            "ticks": ""
           },
           "bgcolor": "#E5ECF6",
           "radialaxis": {
            "gridcolor": "white",
            "linecolor": "white",
            "ticks": ""
           }
          },
          "scene": {
           "xaxis": {
            "backgroundcolor": "#E5ECF6",
            "gridcolor": "white",
            "gridwidth": 2,
            "linecolor": "white",
            "showbackground": true,
            "ticks": "",
            "zerolinecolor": "white"
           },
           "yaxis": {
            "backgroundcolor": "#E5ECF6",
            "gridcolor": "white",
            "gridwidth": 2,
            "linecolor": "white",
            "showbackground": true,
            "ticks": "",
            "zerolinecolor": "white"
           },
           "zaxis": {
            "backgroundcolor": "#E5ECF6",
            "gridcolor": "white",
            "gridwidth": 2,
            "linecolor": "white",
            "showbackground": true,
            "ticks": "",
            "zerolinecolor": "white"
           }
          },
          "shapedefaults": {
           "line": {
            "color": "#2a3f5f"
           }
          },
          "ternary": {
           "aaxis": {
            "gridcolor": "white",
            "linecolor": "white",
            "ticks": ""
           },
           "baxis": {
            "gridcolor": "white",
            "linecolor": "white",
            "ticks": ""
           },
           "bgcolor": "#E5ECF6",
           "caxis": {
            "gridcolor": "white",
            "linecolor": "white",
            "ticks": ""
           }
          },
          "title": {
           "x": 0.05
          },
          "xaxis": {
           "automargin": true,
           "gridcolor": "white",
           "linecolor": "white",
           "ticks": "",
           "title": {
            "standoff": 15
           },
           "zerolinecolor": "white",
           "zerolinewidth": 2
          },
          "yaxis": {
           "automargin": true,
           "gridcolor": "white",
           "linecolor": "white",
           "ticks": "",
           "title": {
            "standoff": 15
           },
           "zerolinecolor": "white",
           "zerolinewidth": 2
          }
         }
        },
        "xaxis": {
         "anchor": "y",
         "domain": [
          0,
          1
         ],
         "title": {
          "text": "0"
         }
        },
        "yaxis": {
         "anchor": "x",
         "domain": [
          0,
          1
         ],
         "title": {
          "text": "1"
         }
        }
       }
      }
     },
     "metadata": {},
     "output_type": "display_data"
    }
   ],
   "source": [
    "import plotly.express as px\n",
    "from sklearn.decomposition import PCA\n",
    "from sklearn.preprocessing import StandardScaler\n",
    "model = LinearDiscriminantAnalysis(n_components=4)\n",
    "y2=[]\n",
    "for i in range(24):\n",
    "    y2.append('DNA')\n",
    "for j in range(24):\n",
    "    y2.append('MT')\n",
    "for k in range(24):\n",
    "    y2.append('HSP')\n",
    "for m in range(24):\n",
    "    y2.append('PROT')\n",
    "for n in range(24):\n",
    "    y2.append('HDAC')\n",
    "#model.fit(X_drug, y)\n",
    "#X_drug2 = model.transform(X_drug)\n",
    "X_drug3=training.iloc[:,2:240].values\n",
    "X_drug3=model.fit(X_drug3,y2).transform(X_drug3)\n",
    "fig = px.scatter(X_drug3, x=0, y=1, color=train_drug_name_without_concentration2)\n",
    "#training['drug_name']\n",
    "fig.show()\n",
    "#these 5 groups are very clearly separated, as we can see in the image"
   ]
  },
  {
   "cell_type": "code",
   "execution_count": 23,
   "metadata": {},
   "outputs": [
    {
     "data": {
      "application/vnd.plotly.v1+json": {
       "config": {
        "plotlyServerURL": "https://plot.ly"
       },
       "data": [
        {
         "hovertemplate": "color=Etoposide+Gemcitabine+1<br>0=%{x}<br>1=%{y}<extra></extra>",
         "legendgroup": "Etoposide+Gemcitabine+1",
         "marker": {
          "color": "#636efa",
          "symbol": "circle"
         },
         "mode": "markers",
         "name": "Etoposide+Gemcitabine+1",
         "orientation": "v",
         "showlegend": true,
         "type": "scatter",
         "x": [
          -1.0843818111215269
         ],
         "xaxis": "x",
         "y": [
          -1.6984531326146246
         ],
         "yaxis": "y"
        },
        {
         "hovertemplate": "color=Etoposide+Gemcitabine+2<br>0=%{x}<br>1=%{y}<extra></extra>",
         "legendgroup": "Etoposide+Gemcitabine+2",
         "marker": {
          "color": "#EF553B",
          "symbol": "circle"
         },
         "mode": "markers",
         "name": "Etoposide+Gemcitabine+2",
         "orientation": "v",
         "showlegend": true,
         "type": "scatter",
         "x": [
          -0.8595162308710257
         ],
         "xaxis": "x",
         "y": [
          -2.211062743969046
         ],
         "yaxis": "y"
        },
        {
         "hovertemplate": "color=Etoposide+Gemcitabine+3<br>0=%{x}<br>1=%{y}<extra></extra>",
         "legendgroup": "Etoposide+Gemcitabine+3",
         "marker": {
          "color": "#00cc96",
          "symbol": "circle"
         },
         "mode": "markers",
         "name": "Etoposide+Gemcitabine+3",
         "orientation": "v",
         "showlegend": true,
         "type": "scatter",
         "x": [
          -0.5406233653507233
         ],
         "xaxis": "x",
         "y": [
          -1.7747046564809843
         ],
         "yaxis": "y"
        },
        {
         "hovertemplate": "color=Etoposide+Gemcitabine+4<br>0=%{x}<br>1=%{y}<extra></extra>",
         "legendgroup": "Etoposide+Gemcitabine+4",
         "marker": {
          "color": "#ab63fa",
          "symbol": "circle"
         },
         "mode": "markers",
         "name": "Etoposide+Gemcitabine+4",
         "orientation": "v",
         "showlegend": true,
         "type": "scatter",
         "x": [
          -1.203801806514097
         ],
         "xaxis": "x",
         "y": [
          -1.9250078775975128
         ],
         "yaxis": "y"
        },
        {
         "hovertemplate": "color=Etoposide+Gemcitabine+5<br>0=%{x}<br>1=%{y}<extra></extra>",
         "legendgroup": "Etoposide+Gemcitabine+5",
         "marker": {
          "color": "#FFA15A",
          "symbol": "circle"
         },
         "mode": "markers",
         "name": "Etoposide+Gemcitabine+5",
         "orientation": "v",
         "showlegend": true,
         "type": "scatter",
         "x": [
          -0.38721814345368977
         ],
         "xaxis": "x",
         "y": [
          -2.521267271830348
         ],
         "yaxis": "y"
        },
        {
         "hovertemplate": "color=Etoposide+Gemcitabine+6<br>0=%{x}<br>1=%{y}<extra></extra>",
         "legendgroup": "Etoposide+Gemcitabine+6",
         "marker": {
          "color": "#19d3f3",
          "symbol": "circle"
         },
         "mode": "markers",
         "name": "Etoposide+Gemcitabine+6",
         "orientation": "v",
         "showlegend": true,
         "type": "scatter",
         "x": [
          -0.5319676146075389
         ],
         "xaxis": "x",
         "y": [
          -1.9895392500709013
         ],
         "yaxis": "y"
        },
        {
         "hovertemplate": "color=Gemcitabine+Etoposide+1<br>0=%{x}<br>1=%{y}<extra></extra>",
         "legendgroup": "Gemcitabine+Etoposide+1",
         "marker": {
          "color": "#FF6692",
          "symbol": "circle"
         },
         "mode": "markers",
         "name": "Gemcitabine+Etoposide+1",
         "orientation": "v",
         "showlegend": true,
         "type": "scatter",
         "x": [
          -1.3708605004817553
         ],
         "xaxis": "x",
         "y": [
          -0.784218770718445
         ],
         "yaxis": "y"
        },
        {
         "hovertemplate": "color=Gemcitabine+Etoposide+2<br>0=%{x}<br>1=%{y}<extra></extra>",
         "legendgroup": "Gemcitabine+Etoposide+2",
         "marker": {
          "color": "#B6E880",
          "symbol": "circle"
         },
         "mode": "markers",
         "name": "Gemcitabine+Etoposide+2",
         "orientation": "v",
         "showlegend": true,
         "type": "scatter",
         "x": [
          -0.542124290372601
         ],
         "xaxis": "x",
         "y": [
          -1.168793595245964
         ],
         "yaxis": "y"
        },
        {
         "hovertemplate": "color=Gemcitabine+Etoposide+3<br>0=%{x}<br>1=%{y}<extra></extra>",
         "legendgroup": "Gemcitabine+Etoposide+3",
         "marker": {
          "color": "#FF97FF",
          "symbol": "circle"
         },
         "mode": "markers",
         "name": "Gemcitabine+Etoposide+3",
         "orientation": "v",
         "showlegend": true,
         "type": "scatter",
         "x": [
          -0.7930547317030464
         ],
         "xaxis": "x",
         "y": [
          -1.703288448815966
         ],
         "yaxis": "y"
        },
        {
         "hovertemplate": "color=Gemcitabine+Etoposide+4<br>0=%{x}<br>1=%{y}<extra></extra>",
         "legendgroup": "Gemcitabine+Etoposide+4",
         "marker": {
          "color": "#FECB52",
          "symbol": "circle"
         },
         "mode": "markers",
         "name": "Gemcitabine+Etoposide+4",
         "orientation": "v",
         "showlegend": true,
         "type": "scatter",
         "x": [
          -0.029401351832578936
         ],
         "xaxis": "x",
         "y": [
          -1.8500033485735432
         ],
         "yaxis": "y"
        },
        {
         "hovertemplate": "color=Gemcitabine+Etoposide+5<br>0=%{x}<br>1=%{y}<extra></extra>",
         "legendgroup": "Gemcitabine+Etoposide+5",
         "marker": {
          "color": "#636efa",
          "symbol": "circle"
         },
         "mode": "markers",
         "name": "Gemcitabine+Etoposide+5",
         "orientation": "v",
         "showlegend": true,
         "type": "scatter",
         "x": [
          -0.09452622227288268
         ],
         "xaxis": "x",
         "y": [
          0.3022266232212092
         ],
         "yaxis": "y"
        },
        {
         "hovertemplate": "color=Gemcitabine+Etoposide+6<br>0=%{x}<br>1=%{y}<extra></extra>",
         "legendgroup": "Gemcitabine+Etoposide+6",
         "marker": {
          "color": "#EF553B",
          "symbol": "circle"
         },
         "mode": "markers",
         "name": "Gemcitabine+Etoposide+6",
         "orientation": "v",
         "showlegend": true,
         "type": "scatter",
         "x": [
          -0.3359633366327219
         ],
         "xaxis": "x",
         "y": [
          -1.77685438501061
         ],
         "yaxis": "y"
        },
        {
         "hovertemplate": "color=Etoposide+Etoposide+1<br>0=%{x}<br>1=%{y}<extra></extra>",
         "legendgroup": "Etoposide+Etoposide+1",
         "marker": {
          "color": "#00cc96",
          "symbol": "circle"
         },
         "mode": "markers",
         "name": "Etoposide+Etoposide+1",
         "orientation": "v",
         "showlegend": true,
         "type": "scatter",
         "x": [
          -0.7450276868676458
         ],
         "xaxis": "x",
         "y": [
          -1.9923496016692581
         ],
         "yaxis": "y"
        },
        {
         "hovertemplate": "color=Etoposide+Etoposide+2<br>0=%{x}<br>1=%{y}<extra></extra>",
         "legendgroup": "Etoposide+Etoposide+2",
         "marker": {
          "color": "#ab63fa",
          "symbol": "circle"
         },
         "mode": "markers",
         "name": "Etoposide+Etoposide+2",
         "orientation": "v",
         "showlegend": true,
         "type": "scatter",
         "x": [
          -0.9160311839518348
         ],
         "xaxis": "x",
         "y": [
          -1.7337946220138143
         ],
         "yaxis": "y"
        },
        {
         "hovertemplate": "color=Etoposide+Etoposide+3<br>0=%{x}<br>1=%{y}<extra></extra>",
         "legendgroup": "Etoposide+Etoposide+3",
         "marker": {
          "color": "#FFA15A",
          "symbol": "circle"
         },
         "mode": "markers",
         "name": "Etoposide+Etoposide+3",
         "orientation": "v",
         "showlegend": true,
         "type": "scatter",
         "x": [
          -0.2632239198270465
         ],
         "xaxis": "x",
         "y": [
          -1.701050423136874
         ],
         "yaxis": "y"
        },
        {
         "hovertemplate": "color=Etoposide+Etoposide+4<br>0=%{x}<br>1=%{y}<extra></extra>",
         "legendgroup": "Etoposide+Etoposide+4",
         "marker": {
          "color": "#19d3f3",
          "symbol": "circle"
         },
         "mode": "markers",
         "name": "Etoposide+Etoposide+4",
         "orientation": "v",
         "showlegend": true,
         "type": "scatter",
         "x": [
          -1.149962714643432
         ],
         "xaxis": "x",
         "y": [
          -1.2545930841699464
         ],
         "yaxis": "y"
        },
        {
         "hovertemplate": "color=Etoposide+Etoposide+5<br>0=%{x}<br>1=%{y}<extra></extra>",
         "legendgroup": "Etoposide+Etoposide+5",
         "marker": {
          "color": "#FF6692",
          "symbol": "circle"
         },
         "mode": "markers",
         "name": "Etoposide+Etoposide+5",
         "orientation": "v",
         "showlegend": true,
         "type": "scatter",
         "x": [
          -0.3343642067791601
         ],
         "xaxis": "x",
         "y": [
          -0.6287122492400802
         ],
         "yaxis": "y"
        },
        {
         "hovertemplate": "color=Etoposide+Etoposide+6<br>0=%{x}<br>1=%{y}<extra></extra>",
         "legendgroup": "Etoposide+Etoposide+6",
         "marker": {
          "color": "#B6E880",
          "symbol": "circle"
         },
         "mode": "markers",
         "name": "Etoposide+Etoposide+6",
         "orientation": "v",
         "showlegend": true,
         "type": "scatter",
         "x": [
          -0.012724193279634706
         ],
         "xaxis": "x",
         "y": [
          -2.9854835205873123
         ],
         "yaxis": "y"
        },
        {
         "hovertemplate": "color=Gemcitabine+Gemcitabine+1<br>0=%{x}<br>1=%{y}<extra></extra>",
         "legendgroup": "Gemcitabine+Gemcitabine+1",
         "marker": {
          "color": "#FF97FF",
          "symbol": "circle"
         },
         "mode": "markers",
         "name": "Gemcitabine+Gemcitabine+1",
         "orientation": "v",
         "showlegend": true,
         "type": "scatter",
         "x": [
          0.06923606606729873
         ],
         "xaxis": "x",
         "y": [
          -2.637501534617507
         ],
         "yaxis": "y"
        },
        {
         "hovertemplate": "color=Gemcitabine+Gemcitabine+2<br>0=%{x}<br>1=%{y}<extra></extra>",
         "legendgroup": "Gemcitabine+Gemcitabine+2",
         "marker": {
          "color": "#FECB52",
          "symbol": "circle"
         },
         "mode": "markers",
         "name": "Gemcitabine+Gemcitabine+2",
         "orientation": "v",
         "showlegend": true,
         "type": "scatter",
         "x": [
          -1.3797397371109337
         ],
         "xaxis": "x",
         "y": [
          -1.0808400418471387
         ],
         "yaxis": "y"
        },
        {
         "hovertemplate": "color=Gemcitabine+Gemcitabine+3<br>0=%{x}<br>1=%{y}<extra></extra>",
         "legendgroup": "Gemcitabine+Gemcitabine+3",
         "marker": {
          "color": "#636efa",
          "symbol": "circle"
         },
         "mode": "markers",
         "name": "Gemcitabine+Gemcitabine+3",
         "orientation": "v",
         "showlegend": true,
         "type": "scatter",
         "x": [
          -0.5635910991953988
         ],
         "xaxis": "x",
         "y": [
          -1.7993163558735559
         ],
         "yaxis": "y"
        },
        {
         "hovertemplate": "color=Gemcitabine+Gemcitabine+4<br>0=%{x}<br>1=%{y}<extra></extra>",
         "legendgroup": "Gemcitabine+Gemcitabine+4",
         "marker": {
          "color": "#EF553B",
          "symbol": "circle"
         },
         "mode": "markers",
         "name": "Gemcitabine+Gemcitabine+4",
         "orientation": "v",
         "showlegend": true,
         "type": "scatter",
         "x": [
          -0.7989757083847081
         ],
         "xaxis": "x",
         "y": [
          -2.079726405927136
         ],
         "yaxis": "y"
        },
        {
         "hovertemplate": "color=Gemcitabine+Gemcitabine+5<br>0=%{x}<br>1=%{y}<extra></extra>",
         "legendgroup": "Gemcitabine+Gemcitabine+5",
         "marker": {
          "color": "#00cc96",
          "symbol": "circle"
         },
         "mode": "markers",
         "name": "Gemcitabine+Gemcitabine+5",
         "orientation": "v",
         "showlegend": true,
         "type": "scatter",
         "x": [
          -1.1939432402624475
         ],
         "xaxis": "x",
         "y": [
          -2.113652174986297
         ],
         "yaxis": "y"
        },
        {
         "hovertemplate": "color=Gemcitabine+Gemcitabine+6<br>0=%{x}<br>1=%{y}<extra></extra>",
         "legendgroup": "Gemcitabine+Gemcitabine+6",
         "marker": {
          "color": "#ab63fa",
          "symbol": "circle"
         },
         "mode": "markers",
         "name": "Gemcitabine+Gemcitabine+6",
         "orientation": "v",
         "showlegend": true,
         "type": "scatter",
         "x": [
          -0.5624937790633412
         ],
         "xaxis": "x",
         "y": [
          -3.7850227607237996
         ],
         "yaxis": "y"
        },
        {
         "hovertemplate": "color=Paclitaxel+Vinblastine+1<br>0=%{x}<br>1=%{y}<extra></extra>",
         "legendgroup": "Paclitaxel+Vinblastine+1",
         "marker": {
          "color": "#FFA15A",
          "symbol": "circle"
         },
         "mode": "markers",
         "name": "Paclitaxel+Vinblastine+1",
         "orientation": "v",
         "showlegend": true,
         "type": "scatter",
         "x": [
          0.3146452813013391
         ],
         "xaxis": "x",
         "y": [
          -4.764699225743474
         ],
         "yaxis": "y"
        },
        {
         "hovertemplate": "color=Paclitaxel+Vinblastine+2<br>0=%{x}<br>1=%{y}<extra></extra>",
         "legendgroup": "Paclitaxel+Vinblastine+2",
         "marker": {
          "color": "#19d3f3",
          "symbol": "circle"
         },
         "mode": "markers",
         "name": "Paclitaxel+Vinblastine+2",
         "orientation": "v",
         "showlegend": true,
         "type": "scatter",
         "x": [
          -0.05911947383440711
         ],
         "xaxis": "x",
         "y": [
          -4.529229826596108
         ],
         "yaxis": "y"
        },
        {
         "hovertemplate": "color=Paclitaxel+Vinblastine+3<br>0=%{x}<br>1=%{y}<extra></extra>",
         "legendgroup": "Paclitaxel+Vinblastine+3",
         "marker": {
          "color": "#FF6692",
          "symbol": "circle"
         },
         "mode": "markers",
         "name": "Paclitaxel+Vinblastine+3",
         "orientation": "v",
         "showlegend": true,
         "type": "scatter",
         "x": [
          -0.7520036034234335
         ],
         "xaxis": "x",
         "y": [
          -4.65593682700666
         ],
         "yaxis": "y"
        },
        {
         "hovertemplate": "color=Paclitaxel+Vinblastine+4<br>0=%{x}<br>1=%{y}<extra></extra>",
         "legendgroup": "Paclitaxel+Vinblastine+4",
         "marker": {
          "color": "#B6E880",
          "symbol": "circle"
         },
         "mode": "markers",
         "name": "Paclitaxel+Vinblastine+4",
         "orientation": "v",
         "showlegend": true,
         "type": "scatter",
         "x": [
          0.13113597633271373
         ],
         "xaxis": "x",
         "y": [
          -4.2792054574946645
         ],
         "yaxis": "y"
        },
        {
         "hovertemplate": "color=Paclitaxel+Vinblastine+5<br>0=%{x}<br>1=%{y}<extra></extra>",
         "legendgroup": "Paclitaxel+Vinblastine+5",
         "marker": {
          "color": "#FF97FF",
          "symbol": "circle"
         },
         "mode": "markers",
         "name": "Paclitaxel+Vinblastine+5",
         "orientation": "v",
         "showlegend": true,
         "type": "scatter",
         "x": [
          -1.010391548791584
         ],
         "xaxis": "x",
         "y": [
          -4.0119728666161185
         ],
         "yaxis": "y"
        },
        {
         "hovertemplate": "color=Paclitaxel+Vinblastine+6<br>0=%{x}<br>1=%{y}<extra></extra>",
         "legendgroup": "Paclitaxel+Vinblastine+6",
         "marker": {
          "color": "#FECB52",
          "symbol": "circle"
         },
         "mode": "markers",
         "name": "Paclitaxel+Vinblastine+6",
         "orientation": "v",
         "showlegend": true,
         "type": "scatter",
         "x": [
          -0.2558634520112168
         ],
         "xaxis": "x",
         "y": [
          -1.2656196942877933
         ],
         "yaxis": "y"
        },
        {
         "hovertemplate": "color=Vinblastine+Paclitaxel+1<br>0=%{x}<br>1=%{y}<extra></extra>",
         "legendgroup": "Vinblastine+Paclitaxel+1",
         "marker": {
          "color": "#636efa",
          "symbol": "circle"
         },
         "mode": "markers",
         "name": "Vinblastine+Paclitaxel+1",
         "orientation": "v",
         "showlegend": true,
         "type": "scatter",
         "x": [
          -0.06063781249934
         ],
         "xaxis": "x",
         "y": [
          -4.212656203509211
         ],
         "yaxis": "y"
        },
        {
         "hovertemplate": "color=Vinblastine+Paclitaxel+2<br>0=%{x}<br>1=%{y}<extra></extra>",
         "legendgroup": "Vinblastine+Paclitaxel+2",
         "marker": {
          "color": "#EF553B",
          "symbol": "circle"
         },
         "mode": "markers",
         "name": "Vinblastine+Paclitaxel+2",
         "orientation": "v",
         "showlegend": true,
         "type": "scatter",
         "x": [
          -0.9248898925151351
         ],
         "xaxis": "x",
         "y": [
          -4.045801895229953
         ],
         "yaxis": "y"
        },
        {
         "hovertemplate": "color=Vinblastine+Paclitaxel+3<br>0=%{x}<br>1=%{y}<extra></extra>",
         "legendgroup": "Vinblastine+Paclitaxel+3",
         "marker": {
          "color": "#00cc96",
          "symbol": "circle"
         },
         "mode": "markers",
         "name": "Vinblastine+Paclitaxel+3",
         "orientation": "v",
         "showlegend": true,
         "type": "scatter",
         "x": [
          0.5373364935426337
         ],
         "xaxis": "x",
         "y": [
          -4.034303739174677
         ],
         "yaxis": "y"
        },
        {
         "hovertemplate": "color=Vinblastine+Paclitaxel+4<br>0=%{x}<br>1=%{y}<extra></extra>",
         "legendgroup": "Vinblastine+Paclitaxel+4",
         "marker": {
          "color": "#ab63fa",
          "symbol": "circle"
         },
         "mode": "markers",
         "name": "Vinblastine+Paclitaxel+4",
         "orientation": "v",
         "showlegend": true,
         "type": "scatter",
         "x": [
          0.5923846287489425
         ],
         "xaxis": "x",
         "y": [
          -3.6871559875398554
         ],
         "yaxis": "y"
        },
        {
         "hovertemplate": "color=Vinblastine+Paclitaxel+5<br>0=%{x}<br>1=%{y}<extra></extra>",
         "legendgroup": "Vinblastine+Paclitaxel+5",
         "marker": {
          "color": "#FFA15A",
          "symbol": "circle"
         },
         "mode": "markers",
         "name": "Vinblastine+Paclitaxel+5",
         "orientation": "v",
         "showlegend": true,
         "type": "scatter",
         "x": [
          1.601937397073027
         ],
         "xaxis": "x",
         "y": [
          -3.5756570619158294
         ],
         "yaxis": "y"
        },
        {
         "hovertemplate": "color=Vinblastine+Paclitaxel+6<br>0=%{x}<br>1=%{y}<extra></extra>",
         "legendgroup": "Vinblastine+Paclitaxel+6",
         "marker": {
          "color": "#19d3f3",
          "symbol": "circle"
         },
         "mode": "markers",
         "name": "Vinblastine+Paclitaxel+6",
         "orientation": "v",
         "showlegend": true,
         "type": "scatter",
         "x": [
          -1.9881313095572446
         ],
         "xaxis": "x",
         "y": [
          -3.4040587587126994
         ],
         "yaxis": "y"
        },
        {
         "hovertemplate": "color=Paclitaxel+Paclitaxel+1<br>0=%{x}<br>1=%{y}<extra></extra>",
         "legendgroup": "Paclitaxel+Paclitaxel+1",
         "marker": {
          "color": "#FF6692",
          "symbol": "circle"
         },
         "mode": "markers",
         "name": "Paclitaxel+Paclitaxel+1",
         "orientation": "v",
         "showlegend": true,
         "type": "scatter",
         "x": [
          0.638317821172552
         ],
         "xaxis": "x",
         "y": [
          -3.181132666770296
         ],
         "yaxis": "y"
        },
        {
         "hovertemplate": "color=Paclitaxel+Paclitaxel+2<br>0=%{x}<br>1=%{y}<extra></extra>",
         "legendgroup": "Paclitaxel+Paclitaxel+2",
         "marker": {
          "color": "#B6E880",
          "symbol": "circle"
         },
         "mode": "markers",
         "name": "Paclitaxel+Paclitaxel+2",
         "orientation": "v",
         "showlegend": true,
         "type": "scatter",
         "x": [
          0.3465756476367901
         ],
         "xaxis": "x",
         "y": [
          -3.8404315980446886
         ],
         "yaxis": "y"
        },
        {
         "hovertemplate": "color=Paclitaxel+Paclitaxel+3<br>0=%{x}<br>1=%{y}<extra></extra>",
         "legendgroup": "Paclitaxel+Paclitaxel+3",
         "marker": {
          "color": "#FF97FF",
          "symbol": "circle"
         },
         "mode": "markers",
         "name": "Paclitaxel+Paclitaxel+3",
         "orientation": "v",
         "showlegend": true,
         "type": "scatter",
         "x": [
          -1.1423428103117734
         ],
         "xaxis": "x",
         "y": [
          -5.050103594202556
         ],
         "yaxis": "y"
        },
        {
         "hovertemplate": "color=Paclitaxel+Paclitaxel+4<br>0=%{x}<br>1=%{y}<extra></extra>",
         "legendgroup": "Paclitaxel+Paclitaxel+4",
         "marker": {
          "color": "#FECB52",
          "symbol": "circle"
         },
         "mode": "markers",
         "name": "Paclitaxel+Paclitaxel+4",
         "orientation": "v",
         "showlegend": true,
         "type": "scatter",
         "x": [
          -0.8279182208341678
         ],
         "xaxis": "x",
         "y": [
          -3.693023557756262
         ],
         "yaxis": "y"
        },
        {
         "hovertemplate": "color=Paclitaxel+Paclitaxel+5<br>0=%{x}<br>1=%{y}<extra></extra>",
         "legendgroup": "Paclitaxel+Paclitaxel+5",
         "marker": {
          "color": "#636efa",
          "symbol": "circle"
         },
         "mode": "markers",
         "name": "Paclitaxel+Paclitaxel+5",
         "orientation": "v",
         "showlegend": true,
         "type": "scatter",
         "x": [
          -0.4220967568628128
         ],
         "xaxis": "x",
         "y": [
          -4.857226069038474
         ],
         "yaxis": "y"
        },
        {
         "hovertemplate": "color=Paclitaxel+Paclitaxel+6<br>0=%{x}<br>1=%{y}<extra></extra>",
         "legendgroup": "Paclitaxel+Paclitaxel+6",
         "marker": {
          "color": "#EF553B",
          "symbol": "circle"
         },
         "mode": "markers",
         "name": "Paclitaxel+Paclitaxel+6",
         "orientation": "v",
         "showlegend": true,
         "type": "scatter",
         "x": [
          1.0944440476187358
         ],
         "xaxis": "x",
         "y": [
          -3.9401228324739765
         ],
         "yaxis": "y"
        },
        {
         "hovertemplate": "color=Vinblastine+Vinblastine+1<br>0=%{x}<br>1=%{y}<extra></extra>",
         "legendgroup": "Vinblastine+Vinblastine+1",
         "marker": {
          "color": "#00cc96",
          "symbol": "circle"
         },
         "mode": "markers",
         "name": "Vinblastine+Vinblastine+1",
         "orientation": "v",
         "showlegend": true,
         "type": "scatter",
         "x": [
          -0.6832440725473844
         ],
         "xaxis": "x",
         "y": [
          -4.176726333008641
         ],
         "yaxis": "y"
        },
        {
         "hovertemplate": "color=Vinblastine+Vinblastine+2<br>0=%{x}<br>1=%{y}<extra></extra>",
         "legendgroup": "Vinblastine+Vinblastine+2",
         "marker": {
          "color": "#ab63fa",
          "symbol": "circle"
         },
         "mode": "markers",
         "name": "Vinblastine+Vinblastine+2",
         "orientation": "v",
         "showlegend": true,
         "type": "scatter",
         "x": [
          0.6533908730846868
         ],
         "xaxis": "x",
         "y": [
          -4.352080026272876
         ],
         "yaxis": "y"
        },
        {
         "hovertemplate": "color=Vinblastine+Vinblastine+3<br>0=%{x}<br>1=%{y}<extra></extra>",
         "legendgroup": "Vinblastine+Vinblastine+3",
         "marker": {
          "color": "#FFA15A",
          "symbol": "circle"
         },
         "mode": "markers",
         "name": "Vinblastine+Vinblastine+3",
         "orientation": "v",
         "showlegend": true,
         "type": "scatter",
         "x": [
          -0.5978604954671239
         ],
         "xaxis": "x",
         "y": [
          -4.382908785222412
         ],
         "yaxis": "y"
        },
        {
         "hovertemplate": "color=Vinblastine+Vinblastine+4<br>0=%{x}<br>1=%{y}<extra></extra>",
         "legendgroup": "Vinblastine+Vinblastine+4",
         "marker": {
          "color": "#19d3f3",
          "symbol": "circle"
         },
         "mode": "markers",
         "name": "Vinblastine+Vinblastine+4",
         "orientation": "v",
         "showlegend": true,
         "type": "scatter",
         "x": [
          0.1909408702491186
         ],
         "xaxis": "x",
         "y": [
          -4.23765850911066
         ],
         "yaxis": "y"
        },
        {
         "hovertemplate": "color=Vinblastine+Vinblastine+5<br>0=%{x}<br>1=%{y}<extra></extra>",
         "legendgroup": "Vinblastine+Vinblastine+5",
         "marker": {
          "color": "#FF6692",
          "symbol": "circle"
         },
         "mode": "markers",
         "name": "Vinblastine+Vinblastine+5",
         "orientation": "v",
         "showlegend": true,
         "type": "scatter",
         "x": [
          0.7991536564521502
         ],
         "xaxis": "x",
         "y": [
          -2.4849515608225015
         ],
         "yaxis": "y"
        },
        {
         "hovertemplate": "color=Vinblastine+Vinblastine+6<br>0=%{x}<br>1=%{y}<extra></extra>",
         "legendgroup": "Vinblastine+Vinblastine+6",
         "marker": {
          "color": "#B6E880",
          "symbol": "circle"
         },
         "mode": "markers",
         "name": "Vinblastine+Vinblastine+6",
         "orientation": "v",
         "showlegend": true,
         "type": "scatter",
         "x": [
          2.2525545428877423
         ],
         "xaxis": "x",
         "y": [
          -2.3414285339405705
         ],
         "yaxis": "y"
        },
        {
         "hovertemplate": "color=17AAG+AUY922+1<br>0=%{x}<br>1=%{y}<extra></extra>",
         "legendgroup": "17AAG+AUY922+1",
         "marker": {
          "color": "#FF97FF",
          "symbol": "circle"
         },
         "mode": "markers",
         "name": "17AAG+AUY922+1",
         "orientation": "v",
         "showlegend": true,
         "type": "scatter",
         "x": [
          -3.250058397118191
         ],
         "xaxis": "x",
         "y": [
          4.516275323342919
         ],
         "yaxis": "y"
        },
        {
         "hovertemplate": "color=17AAG+AUY922+2<br>0=%{x}<br>1=%{y}<extra></extra>",
         "legendgroup": "17AAG+AUY922+2",
         "marker": {
          "color": "#FECB52",
          "symbol": "circle"
         },
         "mode": "markers",
         "name": "17AAG+AUY922+2",
         "orientation": "v",
         "showlegend": true,
         "type": "scatter",
         "x": [
          -3.6219402613572083
         ],
         "xaxis": "x",
         "y": [
          5.424242401581693
         ],
         "yaxis": "y"
        },
        {
         "hovertemplate": "color=17AAG+AUY922+3<br>0=%{x}<br>1=%{y}<extra></extra>",
         "legendgroup": "17AAG+AUY922+3",
         "marker": {
          "color": "#636efa",
          "symbol": "circle"
         },
         "mode": "markers",
         "name": "17AAG+AUY922+3",
         "orientation": "v",
         "showlegend": true,
         "type": "scatter",
         "x": [
          -2.7819221647501347
         ],
         "xaxis": "x",
         "y": [
          5.221176563031083
         ],
         "yaxis": "y"
        },
        {
         "hovertemplate": "color=17AAG+AUY922+4<br>0=%{x}<br>1=%{y}<extra></extra>",
         "legendgroup": "17AAG+AUY922+4",
         "marker": {
          "color": "#EF553B",
          "symbol": "circle"
         },
         "mode": "markers",
         "name": "17AAG+AUY922+4",
         "orientation": "v",
         "showlegend": true,
         "type": "scatter",
         "x": [
          -2.147614102692301
         ],
         "xaxis": "x",
         "y": [
          4.381066730550267
         ],
         "yaxis": "y"
        },
        {
         "hovertemplate": "color=17AAG+AUY922+5<br>0=%{x}<br>1=%{y}<extra></extra>",
         "legendgroup": "17AAG+AUY922+5",
         "marker": {
          "color": "#00cc96",
          "symbol": "circle"
         },
         "mode": "markers",
         "name": "17AAG+AUY922+5",
         "orientation": "v",
         "showlegend": true,
         "type": "scatter",
         "x": [
          -2.854350190026409
         ],
         "xaxis": "x",
         "y": [
          4.055220629373369
         ],
         "yaxis": "y"
        },
        {
         "hovertemplate": "color=17AAG+AUY922+6<br>0=%{x}<br>1=%{y}<extra></extra>",
         "legendgroup": "17AAG+AUY922+6",
         "marker": {
          "color": "#ab63fa",
          "symbol": "circle"
         },
         "mode": "markers",
         "name": "17AAG+AUY922+6",
         "orientation": "v",
         "showlegend": true,
         "type": "scatter",
         "x": [
          -2.5017686541445583
         ],
         "xaxis": "x",
         "y": [
          4.582542630184769
         ],
         "yaxis": "y"
        },
        {
         "hovertemplate": "color=AUY922+17AAG+1<br>0=%{x}<br>1=%{y}<extra></extra>",
         "legendgroup": "AUY922+17AAG+1",
         "marker": {
          "color": "#FFA15A",
          "symbol": "circle"
         },
         "mode": "markers",
         "name": "AUY922+17AAG+1",
         "orientation": "v",
         "showlegend": true,
         "type": "scatter",
         "x": [
          -2.7667598146086934
         ],
         "xaxis": "x",
         "y": [
          4.9098597433264315
         ],
         "yaxis": "y"
        },
        {
         "hovertemplate": "color=AUY922+17AAG+2<br>0=%{x}<br>1=%{y}<extra></extra>",
         "legendgroup": "AUY922+17AAG+2",
         "marker": {
          "color": "#19d3f3",
          "symbol": "circle"
         },
         "mode": "markers",
         "name": "AUY922+17AAG+2",
         "orientation": "v",
         "showlegend": true,
         "type": "scatter",
         "x": [
          -3.1079967924050025
         ],
         "xaxis": "x",
         "y": [
          5.104100561915502
         ],
         "yaxis": "y"
        },
        {
         "hovertemplate": "color=AUY922+17AAG+3<br>0=%{x}<br>1=%{y}<extra></extra>",
         "legendgroup": "AUY922+17AAG+3",
         "marker": {
          "color": "#FF6692",
          "symbol": "circle"
         },
         "mode": "markers",
         "name": "AUY922+17AAG+3",
         "orientation": "v",
         "showlegend": true,
         "type": "scatter",
         "x": [
          -3.5201448964753874
         ],
         "xaxis": "x",
         "y": [
          4.656460748307808
         ],
         "yaxis": "y"
        },
        {
         "hovertemplate": "color=AUY922+17AAG+4<br>0=%{x}<br>1=%{y}<extra></extra>",
         "legendgroup": "AUY922+17AAG+4",
         "marker": {
          "color": "#B6E880",
          "symbol": "circle"
         },
         "mode": "markers",
         "name": "AUY922+17AAG+4",
         "orientation": "v",
         "showlegend": true,
         "type": "scatter",
         "x": [
          -3.3859324868129215
         ],
         "xaxis": "x",
         "y": [
          5.790263543672487
         ],
         "yaxis": "y"
        },
        {
         "hovertemplate": "color=AUY922+17AAG+5<br>0=%{x}<br>1=%{y}<extra></extra>",
         "legendgroup": "AUY922+17AAG+5",
         "marker": {
          "color": "#FF97FF",
          "symbol": "circle"
         },
         "mode": "markers",
         "name": "AUY922+17AAG+5",
         "orientation": "v",
         "showlegend": true,
         "type": "scatter",
         "x": [
          -4.239879519692006
         ],
         "xaxis": "x",
         "y": [
          3.6088598298896013
         ],
         "yaxis": "y"
        },
        {
         "hovertemplate": "color=AUY922+17AAG+6<br>0=%{x}<br>1=%{y}<extra></extra>",
         "legendgroup": "AUY922+17AAG+6",
         "marker": {
          "color": "#FECB52",
          "symbol": "circle"
         },
         "mode": "markers",
         "name": "AUY922+17AAG+6",
         "orientation": "v",
         "showlegend": true,
         "type": "scatter",
         "x": [
          -3.9842486336921406
         ],
         "xaxis": "x",
         "y": [
          3.7559300431907388
         ],
         "yaxis": "y"
        },
        {
         "hovertemplate": "color=AUY922+AUY922+1<br>0=%{x}<br>1=%{y}<extra></extra>",
         "legendgroup": "AUY922+AUY922+1",
         "marker": {
          "color": "#636efa",
          "symbol": "circle"
         },
         "mode": "markers",
         "name": "AUY922+AUY922+1",
         "orientation": "v",
         "showlegend": true,
         "type": "scatter",
         "x": [
          -2.212224335030593
         ],
         "xaxis": "x",
         "y": [
          5.217084336055351
         ],
         "yaxis": "y"
        },
        {
         "hovertemplate": "color=AUY922+AUY922+2<br>0=%{x}<br>1=%{y}<extra></extra>",
         "legendgroup": "AUY922+AUY922+2",
         "marker": {
          "color": "#EF553B",
          "symbol": "circle"
         },
         "mode": "markers",
         "name": "AUY922+AUY922+2",
         "orientation": "v",
         "showlegend": true,
         "type": "scatter",
         "x": [
          -3.1599339266139763
         ],
         "xaxis": "x",
         "y": [
          4.748333406701641
         ],
         "yaxis": "y"
        },
        {
         "hovertemplate": "color=AUY922+AUY922+3<br>0=%{x}<br>1=%{y}<extra></extra>",
         "legendgroup": "AUY922+AUY922+3",
         "marker": {
          "color": "#00cc96",
          "symbol": "circle"
         },
         "mode": "markers",
         "name": "AUY922+AUY922+3",
         "orientation": "v",
         "showlegend": true,
         "type": "scatter",
         "x": [
          -3.9658860723590235
         ],
         "xaxis": "x",
         "y": [
          4.9609092165399336
         ],
         "yaxis": "y"
        },
        {
         "hovertemplate": "color=AUY922+AUY922+4<br>0=%{x}<br>1=%{y}<extra></extra>",
         "legendgroup": "AUY922+AUY922+4",
         "marker": {
          "color": "#ab63fa",
          "symbol": "circle"
         },
         "mode": "markers",
         "name": "AUY922+AUY922+4",
         "orientation": "v",
         "showlegend": true,
         "type": "scatter",
         "x": [
          -3.0461431835622785
         ],
         "xaxis": "x",
         "y": [
          5.4953093206950365
         ],
         "yaxis": "y"
        },
        {
         "hovertemplate": "color=AUY922+AUY922+5<br>0=%{x}<br>1=%{y}<extra></extra>",
         "legendgroup": "AUY922+AUY922+5",
         "marker": {
          "color": "#FFA15A",
          "symbol": "circle"
         },
         "mode": "markers",
         "name": "AUY922+AUY922+5",
         "orientation": "v",
         "showlegend": true,
         "type": "scatter",
         "x": [
          -2.565281718094113
         ],
         "xaxis": "x",
         "y": [
          5.326813521836081
         ],
         "yaxis": "y"
        },
        {
         "hovertemplate": "color=AUY922+AUY922+6<br>0=%{x}<br>1=%{y}<extra></extra>",
         "legendgroup": "AUY922+AUY922+6",
         "marker": {
          "color": "#19d3f3",
          "symbol": "circle"
         },
         "mode": "markers",
         "name": "AUY922+AUY922+6",
         "orientation": "v",
         "showlegend": true,
         "type": "scatter",
         "x": [
          -1.7280283764101667
         ],
         "xaxis": "x",
         "y": [
          0.3164380207386961
         ],
         "yaxis": "y"
        },
        {
         "hovertemplate": "color=17AAG+17AAG+1<br>0=%{x}<br>1=%{y}<extra></extra>",
         "legendgroup": "17AAG+17AAG+1",
         "marker": {
          "color": "#FF6692",
          "symbol": "circle"
         },
         "mode": "markers",
         "name": "17AAG+17AAG+1",
         "orientation": "v",
         "showlegend": true,
         "type": "scatter",
         "x": [
          -2.71915775064407
         ],
         "xaxis": "x",
         "y": [
          4.346895039585962
         ],
         "yaxis": "y"
        },
        {
         "hovertemplate": "color=17AAG+17AAG+2<br>0=%{x}<br>1=%{y}<extra></extra>",
         "legendgroup": "17AAG+17AAG+2",
         "marker": {
          "color": "#B6E880",
          "symbol": "circle"
         },
         "mode": "markers",
         "name": "17AAG+17AAG+2",
         "orientation": "v",
         "showlegend": true,
         "type": "scatter",
         "x": [
          -3.314613369448855
         ],
         "xaxis": "x",
         "y": [
          4.92195181381026
         ],
         "yaxis": "y"
        },
        {
         "hovertemplate": "color=17AAG+17AAG+3<br>0=%{x}<br>1=%{y}<extra></extra>",
         "legendgroup": "17AAG+17AAG+3",
         "marker": {
          "color": "#FF97FF",
          "symbol": "circle"
         },
         "mode": "markers",
         "name": "17AAG+17AAG+3",
         "orientation": "v",
         "showlegend": true,
         "type": "scatter",
         "x": [
          -3.2606985127473154
         ],
         "xaxis": "x",
         "y": [
          4.623895815283625
         ],
         "yaxis": "y"
        },
        {
         "hovertemplate": "color=17AAG+17AAG+4<br>0=%{x}<br>1=%{y}<extra></extra>",
         "legendgroup": "17AAG+17AAG+4",
         "marker": {
          "color": "#FECB52",
          "symbol": "circle"
         },
         "mode": "markers",
         "name": "17AAG+17AAG+4",
         "orientation": "v",
         "showlegend": true,
         "type": "scatter",
         "x": [
          -1.7281798074880395
         ],
         "xaxis": "x",
         "y": [
          6.562899057859399
         ],
         "yaxis": "y"
        },
        {
         "hovertemplate": "color=17AAG+17AAG+5<br>0=%{x}<br>1=%{y}<extra></extra>",
         "legendgroup": "17AAG+17AAG+5",
         "marker": {
          "color": "#636efa",
          "symbol": "circle"
         },
         "mode": "markers",
         "name": "17AAG+17AAG+5",
         "orientation": "v",
         "showlegend": true,
         "type": "scatter",
         "x": [
          -2.9672519937154744
         ],
         "xaxis": "x",
         "y": [
          6.327884626325973
         ],
         "yaxis": "y"
        },
        {
         "hovertemplate": "color=17AAG+17AAG+6<br>0=%{x}<br>1=%{y}<extra></extra>",
         "legendgroup": "17AAG+17AAG+6",
         "marker": {
          "color": "#EF553B",
          "symbol": "circle"
         },
         "mode": "markers",
         "name": "17AAG+17AAG+6",
         "orientation": "v",
         "showlegend": true,
         "type": "scatter",
         "x": [
          -3.784247385838483
         ],
         "xaxis": "x",
         "y": [
          3.779395651433457
         ],
         "yaxis": "y"
        },
        {
         "hovertemplate": "color=MG132+PS341+1<br>0=%{x}<br>1=%{y}<extra></extra>",
         "legendgroup": "MG132+PS341+1",
         "marker": {
          "color": "#00cc96",
          "symbol": "circle"
         },
         "mode": "markers",
         "name": "MG132+PS341+1",
         "orientation": "v",
         "showlegend": true,
         "type": "scatter",
         "x": [
          -3.3629176187850622
         ],
         "xaxis": "x",
         "y": [
          -0.7535664993880882
         ],
         "yaxis": "y"
        },
        {
         "hovertemplate": "color=MG132+PS341+2<br>0=%{x}<br>1=%{y}<extra></extra>",
         "legendgroup": "MG132+PS341+2",
         "marker": {
          "color": "#ab63fa",
          "symbol": "circle"
         },
         "mode": "markers",
         "name": "MG132+PS341+2",
         "orientation": "v",
         "showlegend": true,
         "type": "scatter",
         "x": [
          -2.257866810896753
         ],
         "xaxis": "x",
         "y": [
          -0.9533046873074685
         ],
         "yaxis": "y"
        },
        {
         "hovertemplate": "color=MG132+PS341+3<br>0=%{x}<br>1=%{y}<extra></extra>",
         "legendgroup": "MG132+PS341+3",
         "marker": {
          "color": "#FFA15A",
          "symbol": "circle"
         },
         "mode": "markers",
         "name": "MG132+PS341+3",
         "orientation": "v",
         "showlegend": true,
         "type": "scatter",
         "x": [
          -4.760076801395438
         ],
         "xaxis": "x",
         "y": [
          -0.8068359583092569
         ],
         "yaxis": "y"
        },
        {
         "hovertemplate": "color=MG132+PS341+4<br>0=%{x}<br>1=%{y}<extra></extra>",
         "legendgroup": "MG132+PS341+4",
         "marker": {
          "color": "#19d3f3",
          "symbol": "circle"
         },
         "mode": "markers",
         "name": "MG132+PS341+4",
         "orientation": "v",
         "showlegend": true,
         "type": "scatter",
         "x": [
          -2.1067123820251816
         ],
         "xaxis": "x",
         "y": [
          -0.8488473810358618
         ],
         "yaxis": "y"
        },
        {
         "hovertemplate": "color=MG132+PS341+5<br>0=%{x}<br>1=%{y}<extra></extra>",
         "legendgroup": "MG132+PS341+5",
         "marker": {
          "color": "#FF6692",
          "symbol": "circle"
         },
         "mode": "markers",
         "name": "MG132+PS341+5",
         "orientation": "v",
         "showlegend": true,
         "type": "scatter",
         "x": [
          -2.9443474217100998
         ],
         "xaxis": "x",
         "y": [
          -1.463639606214946
         ],
         "yaxis": "y"
        },
        {
         "hovertemplate": "color=MG132+PS341+6<br>0=%{x}<br>1=%{y}<extra></extra>",
         "legendgroup": "MG132+PS341+6",
         "marker": {
          "color": "#B6E880",
          "symbol": "circle"
         },
         "mode": "markers",
         "name": "MG132+PS341+6",
         "orientation": "v",
         "showlegend": true,
         "type": "scatter",
         "x": [
          -5.009622079131445
         ],
         "xaxis": "x",
         "y": [
          1.9320364331187865
         ],
         "yaxis": "y"
        },
        {
         "hovertemplate": "color=PS341+MG132+1<br>0=%{x}<br>1=%{y}<extra></extra>",
         "legendgroup": "PS341+MG132+1",
         "marker": {
          "color": "#FF97FF",
          "symbol": "circle"
         },
         "mode": "markers",
         "name": "PS341+MG132+1",
         "orientation": "v",
         "showlegend": true,
         "type": "scatter",
         "x": [
          -1.678894189525595
         ],
         "xaxis": "x",
         "y": [
          -1.1872496793763274
         ],
         "yaxis": "y"
        },
        {
         "hovertemplate": "color=PS341+MG132+2<br>0=%{x}<br>1=%{y}<extra></extra>",
         "legendgroup": "PS341+MG132+2",
         "marker": {
          "color": "#FECB52",
          "symbol": "circle"
         },
         "mode": "markers",
         "name": "PS341+MG132+2",
         "orientation": "v",
         "showlegend": true,
         "type": "scatter",
         "x": [
          -3.139671983416517
         ],
         "xaxis": "x",
         "y": [
          -0.6745670935344189
         ],
         "yaxis": "y"
        },
        {
         "hovertemplate": "color=PS341+MG132+3<br>0=%{x}<br>1=%{y}<extra></extra>",
         "legendgroup": "PS341+MG132+3",
         "marker": {
          "color": "#636efa",
          "symbol": "circle"
         },
         "mode": "markers",
         "name": "PS341+MG132+3",
         "orientation": "v",
         "showlegend": true,
         "type": "scatter",
         "x": [
          -2.9356279422669136
         ],
         "xaxis": "x",
         "y": [
          -0.8206065605990029
         ],
         "yaxis": "y"
        },
        {
         "hovertemplate": "color=PS341+MG132+4<br>0=%{x}<br>1=%{y}<extra></extra>",
         "legendgroup": "PS341+MG132+4",
         "marker": {
          "color": "#EF553B",
          "symbol": "circle"
         },
         "mode": "markers",
         "name": "PS341+MG132+4",
         "orientation": "v",
         "showlegend": true,
         "type": "scatter",
         "x": [
          -4.3233086882022596
         ],
         "xaxis": "x",
         "y": [
          -1.2690681282943796
         ],
         "yaxis": "y"
        },
        {
         "hovertemplate": "color=PS341+MG132+5<br>0=%{x}<br>1=%{y}<extra></extra>",
         "legendgroup": "PS341+MG132+5",
         "marker": {
          "color": "#00cc96",
          "symbol": "circle"
         },
         "mode": "markers",
         "name": "PS341+MG132+5",
         "orientation": "v",
         "showlegend": true,
         "type": "scatter",
         "x": [
          -2.1624317808236215
         ],
         "xaxis": "x",
         "y": [
          -1.017214340351458
         ],
         "yaxis": "y"
        },
        {
         "hovertemplate": "color=PS341+MG132+6<br>0=%{x}<br>1=%{y}<extra></extra>",
         "legendgroup": "PS341+MG132+6",
         "marker": {
          "color": "#ab63fa",
          "symbol": "circle"
         },
         "mode": "markers",
         "name": "PS341+MG132+6",
         "orientation": "v",
         "showlegend": true,
         "type": "scatter",
         "x": [
          -0.49142397063120546
         ],
         "xaxis": "x",
         "y": [
          0.20333624606663597
         ],
         "yaxis": "y"
        },
        {
         "hovertemplate": "color=MG132+MG132+1<br>0=%{x}<br>1=%{y}<extra></extra>",
         "legendgroup": "MG132+MG132+1",
         "marker": {
          "color": "#FFA15A",
          "symbol": "circle"
         },
         "mode": "markers",
         "name": "MG132+MG132+1",
         "orientation": "v",
         "showlegend": true,
         "type": "scatter",
         "x": [
          -5.104634689434181
         ],
         "xaxis": "x",
         "y": [
          -1.3525986263017737
         ],
         "yaxis": "y"
        },
        {
         "hovertemplate": "color=MG132+MG132+2<br>0=%{x}<br>1=%{y}<extra></extra>",
         "legendgroup": "MG132+MG132+2",
         "marker": {
          "color": "#19d3f3",
          "symbol": "circle"
         },
         "mode": "markers",
         "name": "MG132+MG132+2",
         "orientation": "v",
         "showlegend": true,
         "type": "scatter",
         "x": [
          -3.82908893580035
         ],
         "xaxis": "x",
         "y": [
          -0.862971186135873
         ],
         "yaxis": "y"
        },
        {
         "hovertemplate": "color=MG132+MG132+3<br>0=%{x}<br>1=%{y}<extra></extra>",
         "legendgroup": "MG132+MG132+3",
         "marker": {
          "color": "#FF6692",
          "symbol": "circle"
         },
         "mode": "markers",
         "name": "MG132+MG132+3",
         "orientation": "v",
         "showlegend": true,
         "type": "scatter",
         "x": [
          -3.423765517176387
         ],
         "xaxis": "x",
         "y": [
          -0.5857578474781333
         ],
         "yaxis": "y"
        },
        {
         "hovertemplate": "color=MG132+MG132+4<br>0=%{x}<br>1=%{y}<extra></extra>",
         "legendgroup": "MG132+MG132+4",
         "marker": {
          "color": "#B6E880",
          "symbol": "circle"
         },
         "mode": "markers",
         "name": "MG132+MG132+4",
         "orientation": "v",
         "showlegend": true,
         "type": "scatter",
         "x": [
          -4.017666644064066
         ],
         "xaxis": "x",
         "y": [
          -1.1751448723235214
         ],
         "yaxis": "y"
        },
        {
         "hovertemplate": "color=MG132+MG132+5<br>0=%{x}<br>1=%{y}<extra></extra>",
         "legendgroup": "MG132+MG132+5",
         "marker": {
          "color": "#FF97FF",
          "symbol": "circle"
         },
         "mode": "markers",
         "name": "MG132+MG132+5",
         "orientation": "v",
         "showlegend": true,
         "type": "scatter",
         "x": [
          -3.2715639749303707
         ],
         "xaxis": "x",
         "y": [
          0.6752969364435603
         ],
         "yaxis": "y"
        },
        {
         "hovertemplate": "color=MG132+MG132+6<br>0=%{x}<br>1=%{y}<extra></extra>",
         "legendgroup": "MG132+MG132+6",
         "marker": {
          "color": "#FECB52",
          "symbol": "circle"
         },
         "mode": "markers",
         "name": "MG132+MG132+6",
         "orientation": "v",
         "showlegend": true,
         "type": "scatter",
         "x": [
          -3.490702794153984
         ],
         "xaxis": "x",
         "y": [
          -1.172939669241771
         ],
         "yaxis": "y"
        },
        {
         "hovertemplate": "color=PS341+PS341+1<br>0=%{x}<br>1=%{y}<extra></extra>",
         "legendgroup": "PS341+PS341+1",
         "marker": {
          "color": "#636efa",
          "symbol": "circle"
         },
         "mode": "markers",
         "name": "PS341+PS341+1",
         "orientation": "v",
         "showlegend": true,
         "type": "scatter",
         "x": [
          -4.161018620257458
         ],
         "xaxis": "x",
         "y": [
          -0.6554301612655552
         ],
         "yaxis": "y"
        },
        {
         "hovertemplate": "color=PS341+PS341+2<br>0=%{x}<br>1=%{y}<extra></extra>",
         "legendgroup": "PS341+PS341+2",
         "marker": {
          "color": "#EF553B",
          "symbol": "circle"
         },
         "mode": "markers",
         "name": "PS341+PS341+2",
         "orientation": "v",
         "showlegend": true,
         "type": "scatter",
         "x": [
          -3.4806937130817874
         ],
         "xaxis": "x",
         "y": [
          -0.4579030056224224
         ],
         "yaxis": "y"
        },
        {
         "hovertemplate": "color=PS341+PS341+3<br>0=%{x}<br>1=%{y}<extra></extra>",
         "legendgroup": "PS341+PS341+3",
         "marker": {
          "color": "#00cc96",
          "symbol": "circle"
         },
         "mode": "markers",
         "name": "PS341+PS341+3",
         "orientation": "v",
         "showlegend": true,
         "type": "scatter",
         "x": [
          -3.026645950387118
         ],
         "xaxis": "x",
         "y": [
          -1.5139632634417588
         ],
         "yaxis": "y"
        },
        {
         "hovertemplate": "color=PS341+PS341+4<br>0=%{x}<br>1=%{y}<extra></extra>",
         "legendgroup": "PS341+PS341+4",
         "marker": {
          "color": "#ab63fa",
          "symbol": "circle"
         },
         "mode": "markers",
         "name": "PS341+PS341+4",
         "orientation": "v",
         "showlegend": true,
         "type": "scatter",
         "x": [
          -2.278472810557059
         ],
         "xaxis": "x",
         "y": [
          0.6155497268672616
         ],
         "yaxis": "y"
        },
        {
         "hovertemplate": "color=PS341+PS341+5<br>0=%{x}<br>1=%{y}<extra></extra>",
         "legendgroup": "PS341+PS341+5",
         "marker": {
          "color": "#FFA15A",
          "symbol": "circle"
         },
         "mode": "markers",
         "name": "PS341+PS341+5",
         "orientation": "v",
         "showlegend": true,
         "type": "scatter",
         "x": [
          -4.007263650216064
         ],
         "xaxis": "x",
         "y": [
          -0.4905792417164773
         ],
         "yaxis": "y"
        },
        {
         "hovertemplate": "color=PS341+PS341+6<br>0=%{x}<br>1=%{y}<extra></extra>",
         "legendgroup": "PS341+PS341+6",
         "marker": {
          "color": "#19d3f3",
          "symbol": "circle"
         },
         "mode": "markers",
         "name": "PS341+PS341+6",
         "orientation": "v",
         "showlegend": true,
         "type": "scatter",
         "x": [
          -2.020512596239568
         ],
         "xaxis": "x",
         "y": [
          -0.6616035160583864
         ],
         "yaxis": "y"
        },
        {
         "hovertemplate": "color=SAHA+Apicidin+1<br>0=%{x}<br>1=%{y}<extra></extra>",
         "legendgroup": "SAHA+Apicidin+1",
         "marker": {
          "color": "#FF6692",
          "symbol": "circle"
         },
         "mode": "markers",
         "name": "SAHA+Apicidin+1",
         "orientation": "v",
         "showlegend": true,
         "type": "scatter",
         "x": [
          7.399510339784465
         ],
         "xaxis": "x",
         "y": [
          2.0310651736876024
         ],
         "yaxis": "y"
        },
        {
         "hovertemplate": "color=SAHA+Apicidin+2<br>0=%{x}<br>1=%{y}<extra></extra>",
         "legendgroup": "SAHA+Apicidin+2",
         "marker": {
          "color": "#B6E880",
          "symbol": "circle"
         },
         "mode": "markers",
         "name": "SAHA+Apicidin+2",
         "orientation": "v",
         "showlegend": true,
         "type": "scatter",
         "x": [
          7.696886122897452
         ],
         "xaxis": "x",
         "y": [
          1.4571663368513639
         ],
         "yaxis": "y"
        },
        {
         "hovertemplate": "color=SAHA+Apicidin+3<br>0=%{x}<br>1=%{y}<extra></extra>",
         "legendgroup": "SAHA+Apicidin+3",
         "marker": {
          "color": "#FF97FF",
          "symbol": "circle"
         },
         "mode": "markers",
         "name": "SAHA+Apicidin+3",
         "orientation": "v",
         "showlegend": true,
         "type": "scatter",
         "x": [
          6.915168188191028
         ],
         "xaxis": "x",
         "y": [
          1.850649706619678
         ],
         "yaxis": "y"
        },
        {
         "hovertemplate": "color=SAHA+Apicidin+4<br>0=%{x}<br>1=%{y}<extra></extra>",
         "legendgroup": "SAHA+Apicidin+4",
         "marker": {
          "color": "#FECB52",
          "symbol": "circle"
         },
         "mode": "markers",
         "name": "SAHA+Apicidin+4",
         "orientation": "v",
         "showlegend": true,
         "type": "scatter",
         "x": [
          8.186387090674716
         ],
         "xaxis": "x",
         "y": [
          1.4906684017326317
         ],
         "yaxis": "y"
        },
        {
         "hovertemplate": "color=SAHA+Apicidin+5<br>0=%{x}<br>1=%{y}<extra></extra>",
         "legendgroup": "SAHA+Apicidin+5",
         "marker": {
          "color": "#636efa",
          "symbol": "circle"
         },
         "mode": "markers",
         "name": "SAHA+Apicidin+5",
         "orientation": "v",
         "showlegend": true,
         "type": "scatter",
         "x": [
          6.56831097095051
         ],
         "xaxis": "x",
         "y": [
          1.4774115009169564
         ],
         "yaxis": "y"
        },
        {
         "hovertemplate": "color=SAHA+Apicidin+6<br>0=%{x}<br>1=%{y}<extra></extra>",
         "legendgroup": "SAHA+Apicidin+6",
         "marker": {
          "color": "#EF553B",
          "symbol": "circle"
         },
         "mode": "markers",
         "name": "SAHA+Apicidin+6",
         "orientation": "v",
         "showlegend": true,
         "type": "scatter",
         "x": [
          6.014707852805186
         ],
         "xaxis": "x",
         "y": [
          1.847002534286316
         ],
         "yaxis": "y"
        },
        {
         "hovertemplate": "color=Apicidin+SAHA+1<br>0=%{x}<br>1=%{y}<extra></extra>",
         "legendgroup": "Apicidin+SAHA+1",
         "marker": {
          "color": "#00cc96",
          "symbol": "circle"
         },
         "mode": "markers",
         "name": "Apicidin+SAHA+1",
         "orientation": "v",
         "showlegend": true,
         "type": "scatter",
         "x": [
          7.711979902346289
         ],
         "xaxis": "x",
         "y": [
          0.9043214181689444
         ],
         "yaxis": "y"
        },
        {
         "hovertemplate": "color=Apicidin+SAHA+2<br>0=%{x}<br>1=%{y}<extra></extra>",
         "legendgroup": "Apicidin+SAHA+2",
         "marker": {
          "color": "#ab63fa",
          "symbol": "circle"
         },
         "mode": "markers",
         "name": "Apicidin+SAHA+2",
         "orientation": "v",
         "showlegend": true,
         "type": "scatter",
         "x": [
          6.958423786845602
         ],
         "xaxis": "x",
         "y": [
          1.0249414295311932
         ],
         "yaxis": "y"
        },
        {
         "hovertemplate": "color=Apicidin+SAHA+3<br>0=%{x}<br>1=%{y}<extra></extra>",
         "legendgroup": "Apicidin+SAHA+3",
         "marker": {
          "color": "#FFA15A",
          "symbol": "circle"
         },
         "mode": "markers",
         "name": "Apicidin+SAHA+3",
         "orientation": "v",
         "showlegend": true,
         "type": "scatter",
         "x": [
          8.307976426044526
         ],
         "xaxis": "x",
         "y": [
          2.351481307200464
         ],
         "yaxis": "y"
        },
        {
         "hovertemplate": "color=Apicidin+SAHA+4<br>0=%{x}<br>1=%{y}<extra></extra>",
         "legendgroup": "Apicidin+SAHA+4",
         "marker": {
          "color": "#19d3f3",
          "symbol": "circle"
         },
         "mode": "markers",
         "name": "Apicidin+SAHA+4",
         "orientation": "v",
         "showlegend": true,
         "type": "scatter",
         "x": [
          8.600075724730367
         ],
         "xaxis": "x",
         "y": [
          2.689176037688221
         ],
         "yaxis": "y"
        },
        {
         "hovertemplate": "color=Apicidin+SAHA+5<br>0=%{x}<br>1=%{y}<extra></extra>",
         "legendgroup": "Apicidin+SAHA+5",
         "marker": {
          "color": "#FF6692",
          "symbol": "circle"
         },
         "mode": "markers",
         "name": "Apicidin+SAHA+5",
         "orientation": "v",
         "showlegend": true,
         "type": "scatter",
         "x": [
          2.516286034639809
         ],
         "xaxis": "x",
         "y": [
          -0.3231922682769563
         ],
         "yaxis": "y"
        },
        {
         "hovertemplate": "color=Apicidin+SAHA+6<br>0=%{x}<br>1=%{y}<extra></extra>",
         "legendgroup": "Apicidin+SAHA+6",
         "marker": {
          "color": "#B6E880",
          "symbol": "circle"
         },
         "mode": "markers",
         "name": "Apicidin+SAHA+6",
         "orientation": "v",
         "showlegend": true,
         "type": "scatter",
         "x": [
          10.134428343461094
         ],
         "xaxis": "x",
         "y": [
          -1.1080267803420174
         ],
         "yaxis": "y"
        },
        {
         "hovertemplate": "color=Apicidin+Apicidin+1<br>0=%{x}<br>1=%{y}<extra></extra>",
         "legendgroup": "Apicidin+Apicidin+1",
         "marker": {
          "color": "#FF97FF",
          "symbol": "circle"
         },
         "mode": "markers",
         "name": "Apicidin+Apicidin+1",
         "orientation": "v",
         "showlegend": true,
         "type": "scatter",
         "x": [
          7.055652400539665
         ],
         "xaxis": "x",
         "y": [
          2.807135322007626
         ],
         "yaxis": "y"
        },
        {
         "hovertemplate": "color=Apicidin+Apicidin+2<br>0=%{x}<br>1=%{y}<extra></extra>",
         "legendgroup": "Apicidin+Apicidin+2",
         "marker": {
          "color": "#FECB52",
          "symbol": "circle"
         },
         "mode": "markers",
         "name": "Apicidin+Apicidin+2",
         "orientation": "v",
         "showlegend": true,
         "type": "scatter",
         "x": [
          6.057109376359434
         ],
         "xaxis": "x",
         "y": [
          2.311730526169471
         ],
         "yaxis": "y"
        },
        {
         "hovertemplate": "color=Apicidin+Apicidin+3<br>0=%{x}<br>1=%{y}<extra></extra>",
         "legendgroup": "Apicidin+Apicidin+3",
         "marker": {
          "color": "#636efa",
          "symbol": "circle"
         },
         "mode": "markers",
         "name": "Apicidin+Apicidin+3",
         "orientation": "v",
         "showlegend": true,
         "type": "scatter",
         "x": [
          6.798115536969567
         ],
         "xaxis": "x",
         "y": [
          1.7428011307925386
         ],
         "yaxis": "y"
        },
        {
         "hovertemplate": "color=Apicidin+Apicidin+4<br>0=%{x}<br>1=%{y}<extra></extra>",
         "legendgroup": "Apicidin+Apicidin+4",
         "marker": {
          "color": "#EF553B",
          "symbol": "circle"
         },
         "mode": "markers",
         "name": "Apicidin+Apicidin+4",
         "orientation": "v",
         "showlegend": true,
         "type": "scatter",
         "x": [
          5.655603518955539
         ],
         "xaxis": "x",
         "y": [
          2.3676051279916877
         ],
         "yaxis": "y"
        },
        {
         "hovertemplate": "color=Apicidin+Apicidin+5<br>0=%{x}<br>1=%{y}<extra></extra>",
         "legendgroup": "Apicidin+Apicidin+5",
         "marker": {
          "color": "#00cc96",
          "symbol": "circle"
         },
         "mode": "markers",
         "name": "Apicidin+Apicidin+5",
         "orientation": "v",
         "showlegend": true,
         "type": "scatter",
         "x": [
          6.935870758425187
         ],
         "xaxis": "x",
         "y": [
          4.189324000311883
         ],
         "yaxis": "y"
        },
        {
         "hovertemplate": "color=Apicidin+Apicidin+6<br>0=%{x}<br>1=%{y}<extra></extra>",
         "legendgroup": "Apicidin+Apicidin+6",
         "marker": {
          "color": "#ab63fa",
          "symbol": "circle"
         },
         "mode": "markers",
         "name": "Apicidin+Apicidin+6",
         "orientation": "v",
         "showlegend": true,
         "type": "scatter",
         "x": [
          4.499003046441694
         ],
         "xaxis": "x",
         "y": [
          4.167627284385342
         ],
         "yaxis": "y"
        },
        {
         "hovertemplate": "color=SAHA+SAHA+1<br>0=%{x}<br>1=%{y}<extra></extra>",
         "legendgroup": "SAHA+SAHA+1",
         "marker": {
          "color": "#FFA15A",
          "symbol": "circle"
         },
         "mode": "markers",
         "name": "SAHA+SAHA+1",
         "orientation": "v",
         "showlegend": true,
         "type": "scatter",
         "x": [
          7.097580783766671
         ],
         "xaxis": "x",
         "y": [
          1.397612004569577
         ],
         "yaxis": "y"
        },
        {
         "hovertemplate": "color=SAHA+SAHA+2<br>0=%{x}<br>1=%{y}<extra></extra>",
         "legendgroup": "SAHA+SAHA+2",
         "marker": {
          "color": "#19d3f3",
          "symbol": "circle"
         },
         "mode": "markers",
         "name": "SAHA+SAHA+2",
         "orientation": "v",
         "showlegend": true,
         "type": "scatter",
         "x": [
          8.218687975664901
         ],
         "xaxis": "x",
         "y": [
          2.0652285255892164
         ],
         "yaxis": "y"
        },
        {
         "hovertemplate": "color=SAHA+SAHA+3<br>0=%{x}<br>1=%{y}<extra></extra>",
         "legendgroup": "SAHA+SAHA+3",
         "marker": {
          "color": "#FF6692",
          "symbol": "circle"
         },
         "mode": "markers",
         "name": "SAHA+SAHA+3",
         "orientation": "v",
         "showlegend": true,
         "type": "scatter",
         "x": [
          6.84103215006804
         ],
         "xaxis": "x",
         "y": [
          0.8533485963356384
         ],
         "yaxis": "y"
        },
        {
         "hovertemplate": "color=SAHA+SAHA+4<br>0=%{x}<br>1=%{y}<extra></extra>",
         "legendgroup": "SAHA+SAHA+4",
         "marker": {
          "color": "#B6E880",
          "symbol": "circle"
         },
         "mode": "markers",
         "name": "SAHA+SAHA+4",
         "orientation": "v",
         "showlegend": true,
         "type": "scatter",
         "x": [
          6.255342560849431
         ],
         "xaxis": "x",
         "y": [
          0.6773252717733337
         ],
         "yaxis": "y"
        },
        {
         "hovertemplate": "color=SAHA+SAHA+5<br>0=%{x}<br>1=%{y}<extra></extra>",
         "legendgroup": "SAHA+SAHA+5",
         "marker": {
          "color": "#FF97FF",
          "symbol": "circle"
         },
         "mode": "markers",
         "name": "SAHA+SAHA+5",
         "orientation": "v",
         "showlegend": true,
         "type": "scatter",
         "x": [
          7.177878386362719
         ],
         "xaxis": "x",
         "y": [
          -0.1047364339439529
         ],
         "yaxis": "y"
        },
        {
         "hovertemplate": "color=SAHA+SAHA+6<br>0=%{x}<br>1=%{y}<extra></extra>",
         "legendgroup": "SAHA+SAHA+6",
         "marker": {
          "color": "#FECB52",
          "symbol": "circle"
         },
         "mode": "markers",
         "name": "SAHA+SAHA+6",
         "orientation": "v",
         "showlegend": true,
         "type": "scatter",
         "x": [
          5.4931396541296085
         ],
         "xaxis": "x",
         "y": [
          0.3931984952120845
         ],
         "yaxis": "y"
        }
       ],
       "layout": {
        "legend": {
         "title": {
          "text": "color"
         },
         "tracegroupgap": 0
        },
        "margin": {
         "t": 60
        },
        "template": {
         "data": {
          "bar": [
           {
            "error_x": {
             "color": "#2a3f5f"
            },
            "error_y": {
             "color": "#2a3f5f"
            },
            "marker": {
             "line": {
              "color": "#E5ECF6",
              "width": 0.5
             },
             "pattern": {
              "fillmode": "overlay",
              "size": 10,
              "solidity": 0.2
             }
            },
            "type": "bar"
           }
          ],
          "barpolar": [
           {
            "marker": {
             "line": {
              "color": "#E5ECF6",
              "width": 0.5
             },
             "pattern": {
              "fillmode": "overlay",
              "size": 10,
              "solidity": 0.2
             }
            },
            "type": "barpolar"
           }
          ],
          "carpet": [
           {
            "aaxis": {
             "endlinecolor": "#2a3f5f",
             "gridcolor": "white",
             "linecolor": "white",
             "minorgridcolor": "white",
             "startlinecolor": "#2a3f5f"
            },
            "baxis": {
             "endlinecolor": "#2a3f5f",
             "gridcolor": "white",
             "linecolor": "white",
             "minorgridcolor": "white",
             "startlinecolor": "#2a3f5f"
            },
            "type": "carpet"
           }
          ],
          "choropleth": [
           {
            "colorbar": {
             "outlinewidth": 0,
             "ticks": ""
            },
            "type": "choropleth"
           }
          ],
          "contour": [
           {
            "colorbar": {
             "outlinewidth": 0,
             "ticks": ""
            },
            "colorscale": [
             [
              0,
              "#0d0887"
             ],
             [
              0.1111111111111111,
              "#46039f"
             ],
             [
              0.2222222222222222,
              "#7201a8"
             ],
             [
              0.3333333333333333,
              "#9c179e"
             ],
             [
              0.4444444444444444,
              "#bd3786"
             ],
             [
              0.5555555555555556,
              "#d8576b"
             ],
             [
              0.6666666666666666,
              "#ed7953"
             ],
             [
              0.7777777777777778,
              "#fb9f3a"
             ],
             [
              0.8888888888888888,
              "#fdca26"
             ],
             [
              1,
              "#f0f921"
             ]
            ],
            "type": "contour"
           }
          ],
          "contourcarpet": [
           {
            "colorbar": {
             "outlinewidth": 0,
             "ticks": ""
            },
            "type": "contourcarpet"
           }
          ],
          "heatmap": [
           {
            "colorbar": {
             "outlinewidth": 0,
             "ticks": ""
            },
            "colorscale": [
             [
              0,
              "#0d0887"
             ],
             [
              0.1111111111111111,
              "#46039f"
             ],
             [
              0.2222222222222222,
              "#7201a8"
             ],
             [
              0.3333333333333333,
              "#9c179e"
             ],
             [
              0.4444444444444444,
              "#bd3786"
             ],
             [
              0.5555555555555556,
              "#d8576b"
             ],
             [
              0.6666666666666666,
              "#ed7953"
             ],
             [
              0.7777777777777778,
              "#fb9f3a"
             ],
             [
              0.8888888888888888,
              "#fdca26"
             ],
             [
              1,
              "#f0f921"
             ]
            ],
            "type": "heatmap"
           }
          ],
          "heatmapgl": [
           {
            "colorbar": {
             "outlinewidth": 0,
             "ticks": ""
            },
            "colorscale": [
             [
              0,
              "#0d0887"
             ],
             [
              0.1111111111111111,
              "#46039f"
             ],
             [
              0.2222222222222222,
              "#7201a8"
             ],
             [
              0.3333333333333333,
              "#9c179e"
             ],
             [
              0.4444444444444444,
              "#bd3786"
             ],
             [
              0.5555555555555556,
              "#d8576b"
             ],
             [
              0.6666666666666666,
              "#ed7953"
             ],
             [
              0.7777777777777778,
              "#fb9f3a"
             ],
             [
              0.8888888888888888,
              "#fdca26"
             ],
             [
              1,
              "#f0f921"
             ]
            ],
            "type": "heatmapgl"
           }
          ],
          "histogram": [
           {
            "marker": {
             "pattern": {
              "fillmode": "overlay",
              "size": 10,
              "solidity": 0.2
             }
            },
            "type": "histogram"
           }
          ],
          "histogram2d": [
           {
            "colorbar": {
             "outlinewidth": 0,
             "ticks": ""
            },
            "colorscale": [
             [
              0,
              "#0d0887"
             ],
             [
              0.1111111111111111,
              "#46039f"
             ],
             [
              0.2222222222222222,
              "#7201a8"
             ],
             [
              0.3333333333333333,
              "#9c179e"
             ],
             [
              0.4444444444444444,
              "#bd3786"
             ],
             [
              0.5555555555555556,
              "#d8576b"
             ],
             [
              0.6666666666666666,
              "#ed7953"
             ],
             [
              0.7777777777777778,
              "#fb9f3a"
             ],
             [
              0.8888888888888888,
              "#fdca26"
             ],
             [
              1,
              "#f0f921"
             ]
            ],
            "type": "histogram2d"
           }
          ],
          "histogram2dcontour": [
           {
            "colorbar": {
             "outlinewidth": 0,
             "ticks": ""
            },
            "colorscale": [
             [
              0,
              "#0d0887"
             ],
             [
              0.1111111111111111,
              "#46039f"
             ],
             [
              0.2222222222222222,
              "#7201a8"
             ],
             [
              0.3333333333333333,
              "#9c179e"
             ],
             [
              0.4444444444444444,
              "#bd3786"
             ],
             [
              0.5555555555555556,
              "#d8576b"
             ],
             [
              0.6666666666666666,
              "#ed7953"
             ],
             [
              0.7777777777777778,
              "#fb9f3a"
             ],
             [
              0.8888888888888888,
              "#fdca26"
             ],
             [
              1,
              "#f0f921"
             ]
            ],
            "type": "histogram2dcontour"
           }
          ],
          "mesh3d": [
           {
            "colorbar": {
             "outlinewidth": 0,
             "ticks": ""
            },
            "type": "mesh3d"
           }
          ],
          "parcoords": [
           {
            "line": {
             "colorbar": {
              "outlinewidth": 0,
              "ticks": ""
             }
            },
            "type": "parcoords"
           }
          ],
          "pie": [
           {
            "automargin": true,
            "type": "pie"
           }
          ],
          "scatter": [
           {
            "fillpattern": {
             "fillmode": "overlay",
             "size": 10,
             "solidity": 0.2
            },
            "type": "scatter"
           }
          ],
          "scatter3d": [
           {
            "line": {
             "colorbar": {
              "outlinewidth": 0,
              "ticks": ""
             }
            },
            "marker": {
             "colorbar": {
              "outlinewidth": 0,
              "ticks": ""
             }
            },
            "type": "scatter3d"
           }
          ],
          "scattercarpet": [
           {
            "marker": {
             "colorbar": {
              "outlinewidth": 0,
              "ticks": ""
             }
            },
            "type": "scattercarpet"
           }
          ],
          "scattergeo": [
           {
            "marker": {
             "colorbar": {
              "outlinewidth": 0,
              "ticks": ""
             }
            },
            "type": "scattergeo"
           }
          ],
          "scattergl": [
           {
            "marker": {
             "colorbar": {
              "outlinewidth": 0,
              "ticks": ""
             }
            },
            "type": "scattergl"
           }
          ],
          "scattermapbox": [
           {
            "marker": {
             "colorbar": {
              "outlinewidth": 0,
              "ticks": ""
             }
            },
            "type": "scattermapbox"
           }
          ],
          "scatterpolar": [
           {
            "marker": {
             "colorbar": {
              "outlinewidth": 0,
              "ticks": ""
             }
            },
            "type": "scatterpolar"
           }
          ],
          "scatterpolargl": [
           {
            "marker": {
             "colorbar": {
              "outlinewidth": 0,
              "ticks": ""
             }
            },
            "type": "scatterpolargl"
           }
          ],
          "scatterternary": [
           {
            "marker": {
             "colorbar": {
              "outlinewidth": 0,
              "ticks": ""
             }
            },
            "type": "scatterternary"
           }
          ],
          "surface": [
           {
            "colorbar": {
             "outlinewidth": 0,
             "ticks": ""
            },
            "colorscale": [
             [
              0,
              "#0d0887"
             ],
             [
              0.1111111111111111,
              "#46039f"
             ],
             [
              0.2222222222222222,
              "#7201a8"
             ],
             [
              0.3333333333333333,
              "#9c179e"
             ],
             [
              0.4444444444444444,
              "#bd3786"
             ],
             [
              0.5555555555555556,
              "#d8576b"
             ],
             [
              0.6666666666666666,
              "#ed7953"
             ],
             [
              0.7777777777777778,
              "#fb9f3a"
             ],
             [
              0.8888888888888888,
              "#fdca26"
             ],
             [
              1,
              "#f0f921"
             ]
            ],
            "type": "surface"
           }
          ],
          "table": [
           {
            "cells": {
             "fill": {
              "color": "#EBF0F8"
             },
             "line": {
              "color": "white"
             }
            },
            "header": {
             "fill": {
              "color": "#C8D4E3"
             },
             "line": {
              "color": "white"
             }
            },
            "type": "table"
           }
          ]
         },
         "layout": {
          "annotationdefaults": {
           "arrowcolor": "#2a3f5f",
           "arrowhead": 0,
           "arrowwidth": 1
          },
          "autotypenumbers": "strict",
          "coloraxis": {
           "colorbar": {
            "outlinewidth": 0,
            "ticks": ""
           }
          },
          "colorscale": {
           "diverging": [
            [
             0,
             "#8e0152"
            ],
            [
             0.1,
             "#c51b7d"
            ],
            [
             0.2,
             "#de77ae"
            ],
            [
             0.3,
             "#f1b6da"
            ],
            [
             0.4,
             "#fde0ef"
            ],
            [
             0.5,
             "#f7f7f7"
            ],
            [
             0.6,
             "#e6f5d0"
            ],
            [
             0.7,
             "#b8e186"
            ],
            [
             0.8,
             "#7fbc41"
            ],
            [
             0.9,
             "#4d9221"
            ],
            [
             1,
             "#276419"
            ]
           ],
           "sequential": [
            [
             0,
             "#0d0887"
            ],
            [
             0.1111111111111111,
             "#46039f"
            ],
            [
             0.2222222222222222,
             "#7201a8"
            ],
            [
             0.3333333333333333,
             "#9c179e"
            ],
            [
             0.4444444444444444,
             "#bd3786"
            ],
            [
             0.5555555555555556,
             "#d8576b"
            ],
            [
             0.6666666666666666,
             "#ed7953"
            ],
            [
             0.7777777777777778,
             "#fb9f3a"
            ],
            [
             0.8888888888888888,
             "#fdca26"
            ],
            [
             1,
             "#f0f921"
            ]
           ],
           "sequentialminus": [
            [
             0,
             "#0d0887"
            ],
            [
             0.1111111111111111,
             "#46039f"
            ],
            [
             0.2222222222222222,
             "#7201a8"
            ],
            [
             0.3333333333333333,
             "#9c179e"
            ],
            [
             0.4444444444444444,
             "#bd3786"
            ],
            [
             0.5555555555555556,
             "#d8576b"
            ],
            [
             0.6666666666666666,
             "#ed7953"
            ],
            [
             0.7777777777777778,
             "#fb9f3a"
            ],
            [
             0.8888888888888888,
             "#fdca26"
            ],
            [
             1,
             "#f0f921"
            ]
           ]
          },
          "colorway": [
           "#636efa",
           "#EF553B",
           "#00cc96",
           "#ab63fa",
           "#FFA15A",
           "#19d3f3",
           "#FF6692",
           "#B6E880",
           "#FF97FF",
           "#FECB52"
          ],
          "font": {
           "color": "#2a3f5f"
          },
          "geo": {
           "bgcolor": "white",
           "lakecolor": "white",
           "landcolor": "#E5ECF6",
           "showlakes": true,
           "showland": true,
           "subunitcolor": "white"
          },
          "hoverlabel": {
           "align": "left"
          },
          "hovermode": "closest",
          "mapbox": {
           "style": "light"
          },
          "paper_bgcolor": "white",
          "plot_bgcolor": "#E5ECF6",
          "polar": {
           "angularaxis": {
            "gridcolor": "white",
            "linecolor": "white",
            "ticks": ""
           },
           "bgcolor": "#E5ECF6",
           "radialaxis": {
            "gridcolor": "white",
            "linecolor": "white",
            "ticks": ""
           }
          },
          "scene": {
           "xaxis": {
            "backgroundcolor": "#E5ECF6",
            "gridcolor": "white",
            "gridwidth": 2,
            "linecolor": "white",
            "showbackground": true,
            "ticks": "",
            "zerolinecolor": "white"
           },
           "yaxis": {
            "backgroundcolor": "#E5ECF6",
            "gridcolor": "white",
            "gridwidth": 2,
            "linecolor": "white",
            "showbackground": true,
            "ticks": "",
            "zerolinecolor": "white"
           },
           "zaxis": {
            "backgroundcolor": "#E5ECF6",
            "gridcolor": "white",
            "gridwidth": 2,
            "linecolor": "white",
            "showbackground": true,
            "ticks": "",
            "zerolinecolor": "white"
           }
          },
          "shapedefaults": {
           "line": {
            "color": "#2a3f5f"
           }
          },
          "ternary": {
           "aaxis": {
            "gridcolor": "white",
            "linecolor": "white",
            "ticks": ""
           },
           "baxis": {
            "gridcolor": "white",
            "linecolor": "white",
            "ticks": ""
           },
           "bgcolor": "#E5ECF6",
           "caxis": {
            "gridcolor": "white",
            "linecolor": "white",
            "ticks": ""
           }
          },
          "title": {
           "x": 0.05
          },
          "xaxis": {
           "automargin": true,
           "gridcolor": "white",
           "linecolor": "white",
           "ticks": "",
           "title": {
            "standoff": 15
           },
           "zerolinecolor": "white",
           "zerolinewidth": 2
          },
          "yaxis": {
           "automargin": true,
           "gridcolor": "white",
           "linecolor": "white",
           "ticks": "",
           "title": {
            "standoff": 15
           },
           "zerolinecolor": "white",
           "zerolinewidth": 2
          }
         }
        },
        "xaxis": {
         "anchor": "y",
         "domain": [
          0,
          1
         ],
         "title": {
          "text": "0"
         }
        },
        "yaxis": {
         "anchor": "x",
         "domain": [
          0,
          1
         ],
         "title": {
          "text": "1"
         }
        }
       }
      }
     },
     "metadata": {},
     "output_type": "display_data"
    }
   ],
   "source": [
    "import plotly.express as px\n",
    "from sklearn.decomposition import PCA\n",
    "from sklearn.preprocessing import StandardScaler\n",
    "model = LinearDiscriminantAnalysis(n_components=4)\n",
    "y2=[]\n",
    "for i in range(24):\n",
    "    y2.append('DNA')\n",
    "for j in range(24):\n",
    "    y2.append('MT')\n",
    "for k in range(24):\n",
    "    y2.append('HSP')\n",
    "for m in range(24):\n",
    "    y2.append('PROT')\n",
    "for n in range(24):\n",
    "    y2.append('HDAC')\n",
    "#model.fit(X_drug, y)\n",
    "#X_drug2 = model.transform(X_drug)\n",
    "X_drug3=training.iloc[:,2:240].values\n",
    "X_drug3=model.fit(X_drug3,y2).transform(X_drug3)\n",
    "fig = px.scatter(X_drug3, x=0, y=1, color=training['drug_name'])\n",
    "fig.show()\n",
    "#these 5 groups are very clearly separated, as we can see in the image"
   ]
  },
  {
   "cell_type": "code",
   "execution_count": 24,
   "metadata": {},
   "outputs": [],
   "source": [
    "# Create a function\n",
    "def select_n_components(var_ratio, goal_var: float) -> int:\n",
    "    # Set initial variance explained so far\n",
    "    total_variance = 0.0\n",
    "    \n",
    "    # Set initial number of features\n",
    "    n_components = 0\n",
    "    \n",
    "    # For the explained variance of each feature:\n",
    "    for explained_variance in var_ratio:\n",
    "        \n",
    "        # Add the explained variance to the total\n",
    "        total_variance += explained_variance\n",
    "        \n",
    "        # Add one to the number of components\n",
    "        n_components += 1\n",
    "        \n",
    "        # If we reach our goal level of explained variance\n",
    "        if total_variance >= goal_var:\n",
    "            # End the loop\n",
    "            break\n",
    "            \n",
    "    # Return the number of components\n",
    "    return n_components"
   ]
  },
  {
   "cell_type": "code",
   "execution_count": 25,
   "metadata": {},
   "outputs": [],
   "source": [
    "lda = LinearDiscriminantAnalysis(n_components=None)\n",
    "y5=[]\n",
    "for i in range(18):\n",
    "    y5.append('DNA')\n",
    "for j in range(18):\n",
    "    y5.append(\"MT\")\n",
    "for k in range(18):\n",
    "    y5.append(\"HSP\")\n",
    "for m in range(18):\n",
    "    y5.append(\"PROT\")\n",
    "for n in range(18):\n",
    "    y5.append(\"HDAC\")\n",
    "\n",
    "X_lda=lda.fit(X_training,y5)\n"
   ]
  },
  {
   "cell_type": "code",
   "execution_count": 26,
   "metadata": {},
   "outputs": [
    {
     "data": {
      "text/plain": [
       "array([0.4211758 , 0.2787047 , 0.20173681, 0.09838269])"
      ]
     },
     "execution_count": 26,
     "metadata": {},
     "output_type": "execute_result"
    }
   ],
   "source": [
    "# Create array of explained variance ratios\n",
    "lda_var_ratios = lda.explained_variance_ratio_\n",
    "lda_var_ratios"
   ]
  },
  {
   "cell_type": "code",
   "execution_count": 27,
   "metadata": {},
   "outputs": [
    {
     "name": "stdout",
     "output_type": "stream",
     "text": [
      "4\n",
      "3\n",
      "3\n",
      "2\n",
      "1\n"
     ]
    }
   ],
   "source": [
    "# Run function\n",
    "print(select_n_components(lda_var_ratios, 0.95))\n",
    "print(select_n_components(lda_var_ratios, 0.85))\n",
    "print(select_n_components(lda_var_ratios, 0.75))\n",
    "print(select_n_components(lda_var_ratios, 0.65))\n",
    "print(select_n_components(lda_var_ratios, 0.35))\n"
   ]
  },
  {
   "cell_type": "code",
   "execution_count": 28,
   "metadata": {},
   "outputs": [
    {
     "data": {
      "text/html": [
       "<div>\n",
       "<style scoped>\n",
       "    .dataframe tbody tr th:only-of-type {\n",
       "        vertical-align: middle;\n",
       "    }\n",
       "\n",
       "    .dataframe tbody tr th {\n",
       "        vertical-align: top;\n",
       "    }\n",
       "\n",
       "    .dataframe thead th {\n",
       "        text-align: right;\n",
       "    }\n",
       "</style>\n",
       "<table border=\"1\" class=\"dataframe\">\n",
       "  <thead>\n",
       "    <tr style=\"text-align: right;\">\n",
       "      <th></th>\n",
       "      <th>principal component 1</th>\n",
       "      <th>principal component 2</th>\n",
       "      <th>principal component 3</th>\n",
       "      <th>principal component 4</th>\n",
       "    </tr>\n",
       "  </thead>\n",
       "  <tbody>\n",
       "    <tr>\n",
       "      <th>0</th>\n",
       "      <td>-0.829590</td>\n",
       "      <td>-2.080418</td>\n",
       "      <td>-4.842193</td>\n",
       "      <td>1.987824</td>\n",
       "    </tr>\n",
       "    <tr>\n",
       "      <th>1</th>\n",
       "      <td>-0.603425</td>\n",
       "      <td>-2.534872</td>\n",
       "      <td>-4.162043</td>\n",
       "      <td>2.203777</td>\n",
       "    </tr>\n",
       "    <tr>\n",
       "      <th>2</th>\n",
       "      <td>-0.218175</td>\n",
       "      <td>-2.148624</td>\n",
       "      <td>-5.068653</td>\n",
       "      <td>1.888686</td>\n",
       "    </tr>\n",
       "    <tr>\n",
       "      <th>3</th>\n",
       "      <td>-0.969943</td>\n",
       "      <td>-2.286784</td>\n",
       "      <td>-4.505457</td>\n",
       "      <td>2.401279</td>\n",
       "    </tr>\n",
       "    <tr>\n",
       "      <th>4</th>\n",
       "      <td>-0.241403</td>\n",
       "      <td>-2.769237</td>\n",
       "      <td>-3.908104</td>\n",
       "      <td>1.716345</td>\n",
       "    </tr>\n",
       "    <tr>\n",
       "      <th>...</th>\n",
       "      <td>...</td>\n",
       "      <td>...</td>\n",
       "      <td>...</td>\n",
       "      <td>...</td>\n",
       "    </tr>\n",
       "    <tr>\n",
       "      <th>115</th>\n",
       "      <td>8.085646</td>\n",
       "      <td>2.561260</td>\n",
       "      <td>0.973898</td>\n",
       "      <td>0.628683</td>\n",
       "    </tr>\n",
       "    <tr>\n",
       "      <th>116</th>\n",
       "      <td>6.826936</td>\n",
       "      <td>1.196580</td>\n",
       "      <td>-0.087423</td>\n",
       "      <td>0.356439</td>\n",
       "    </tr>\n",
       "    <tr>\n",
       "      <th>117</th>\n",
       "      <td>6.368216</td>\n",
       "      <td>0.884793</td>\n",
       "      <td>-1.323926</td>\n",
       "      <td>-1.055899</td>\n",
       "    </tr>\n",
       "    <tr>\n",
       "      <th>118</th>\n",
       "      <td>7.113919</td>\n",
       "      <td>0.296574</td>\n",
       "      <td>0.016675</td>\n",
       "      <td>0.361444</td>\n",
       "    </tr>\n",
       "    <tr>\n",
       "      <th>119</th>\n",
       "      <td>5.549444</td>\n",
       "      <td>0.660208</td>\n",
       "      <td>0.710839</td>\n",
       "      <td>-3.014800</td>\n",
       "    </tr>\n",
       "  </tbody>\n",
       "</table>\n",
       "<p>120 rows × 4 columns</p>\n",
       "</div>"
      ],
      "text/plain": [
       "     principal component 1  principal component 2  principal component 3  \\\n",
       "0                -0.829590              -2.080418              -4.842193   \n",
       "1                -0.603425              -2.534872              -4.162043   \n",
       "2                -0.218175              -2.148624              -5.068653   \n",
       "3                -0.969943              -2.286784              -4.505457   \n",
       "4                -0.241403              -2.769237              -3.908104   \n",
       "..                     ...                    ...                    ...   \n",
       "115               8.085646               2.561260               0.973898   \n",
       "116               6.826936               1.196580              -0.087423   \n",
       "117               6.368216               0.884793              -1.323926   \n",
       "118               7.113919               0.296574               0.016675   \n",
       "119               5.549444               0.660208               0.710839   \n",
       "\n",
       "     principal component 4  \n",
       "0                 1.987824  \n",
       "1                 2.203777  \n",
       "2                 1.888686  \n",
       "3                 2.401279  \n",
       "4                 1.716345  \n",
       "..                     ...  \n",
       "115               0.628683  \n",
       "116               0.356439  \n",
       "117              -1.055899  \n",
       "118               0.361444  \n",
       "119              -3.014800  \n",
       "\n",
       "[120 rows x 4 columns]"
      ]
     },
     "execution_count": 28,
     "metadata": {},
     "output_type": "execute_result"
    }
   ],
   "source": [
    "#pca_drug = PCA(n_components=6)\n",
    "#components = pca_drug.fit_transform(X_drug)\n",
    "principalDf = pd.DataFrame(data = X_drug2\n",
    "             , columns =['principal component 1', 'principal component 2','principal component 3','principal component 4'])\n",
    "principalDf"
   ]
  },
  {
   "cell_type": "code",
   "execution_count": 29,
   "metadata": {},
   "outputs": [
    {
     "data": {
      "text/html": [
       "<div>\n",
       "<style scoped>\n",
       "    .dataframe tbody tr th:only-of-type {\n",
       "        vertical-align: middle;\n",
       "    }\n",
       "\n",
       "    .dataframe tbody tr th {\n",
       "        vertical-align: top;\n",
       "    }\n",
       "\n",
       "    .dataframe thead th {\n",
       "        text-align: right;\n",
       "    }\n",
       "</style>\n",
       "<table border=\"1\" class=\"dataframe\">\n",
       "  <thead>\n",
       "    <tr style=\"text-align: right;\">\n",
       "      <th></th>\n",
       "      <th>drug_name</th>\n",
       "      <th>default</th>\n",
       "      <th>ks1</th>\n",
       "      <th>ks2</th>\n",
       "      <th>ks3</th>\n",
       "      <th>ks4</th>\n",
       "      <th>ks5</th>\n",
       "      <th>ks6</th>\n",
       "      <th>ks7</th>\n",
       "      <th>ks8</th>\n",
       "      <th>...</th>\n",
       "      <th>ks229</th>\n",
       "      <th>ks230</th>\n",
       "      <th>ks231</th>\n",
       "      <th>ks232</th>\n",
       "      <th>ks233</th>\n",
       "      <th>ks234</th>\n",
       "      <th>ks235</th>\n",
       "      <th>ks236</th>\n",
       "      <th>ks237</th>\n",
       "      <th>ks238</th>\n",
       "    </tr>\n",
       "  </thead>\n",
       "  <tbody>\n",
       "    <tr>\n",
       "      <th>12</th>\n",
       "      <td>Etoposide+Gemcitabine+1</td>\n",
       "      <td>0</td>\n",
       "      <td>-0.749170</td>\n",
       "      <td>-0.66941</td>\n",
       "      <td>-0.927020</td>\n",
       "      <td>-0.965710</td>\n",
       "      <td>-0.987910</td>\n",
       "      <td>-0.922450</td>\n",
       "      <td>-0.889720</td>\n",
       "      <td>-0.870230</td>\n",
       "      <td>...</td>\n",
       "      <td>-0.337330</td>\n",
       "      <td>0.136410</td>\n",
       "      <td>-0.145360</td>\n",
       "      <td>-0.306520</td>\n",
       "      <td>-0.297390</td>\n",
       "      <td>0.136410</td>\n",
       "      <td>0.235710</td>\n",
       "      <td>0.167310</td>\n",
       "      <td>-0.203070</td>\n",
       "      <td>0.135950</td>\n",
       "    </tr>\n",
       "    <tr>\n",
       "      <th>14</th>\n",
       "      <td>Etoposide+Gemcitabine+2</td>\n",
       "      <td>0</td>\n",
       "      <td>-0.913330</td>\n",
       "      <td>-0.45931</td>\n",
       "      <td>-0.413220</td>\n",
       "      <td>-0.696840</td>\n",
       "      <td>-0.882330</td>\n",
       "      <td>-0.497390</td>\n",
       "      <td>-0.380400</td>\n",
       "      <td>-0.361150</td>\n",
       "      <td>...</td>\n",
       "      <td>0.137990</td>\n",
       "      <td>0.272160</td>\n",
       "      <td>-0.289340</td>\n",
       "      <td>0.270370</td>\n",
       "      <td>0.205260</td>\n",
       "      <td>0.272160</td>\n",
       "      <td>-0.627590</td>\n",
       "      <td>-0.608650</td>\n",
       "      <td>-0.403970</td>\n",
       "      <td>0.399480</td>\n",
       "    </tr>\n",
       "    <tr>\n",
       "      <th>16</th>\n",
       "      <td>Etoposide+Gemcitabine+3</td>\n",
       "      <td>0</td>\n",
       "      <td>-0.690000</td>\n",
       "      <td>0.29902</td>\n",
       "      <td>0.126810</td>\n",
       "      <td>0.259950</td>\n",
       "      <td>0.251080</td>\n",
       "      <td>0.149220</td>\n",
       "      <td>0.113770</td>\n",
       "      <td>0.086765</td>\n",
       "      <td>...</td>\n",
       "      <td>0.551860</td>\n",
       "      <td>0.247790</td>\n",
       "      <td>-0.315200</td>\n",
       "      <td>0.722750</td>\n",
       "      <td>0.682450</td>\n",
       "      <td>0.247790</td>\n",
       "      <td>-0.531130</td>\n",
       "      <td>-0.569710</td>\n",
       "      <td>-0.181620</td>\n",
       "      <td>0.395390</td>\n",
       "    </tr>\n",
       "    <tr>\n",
       "      <th>18</th>\n",
       "      <td>Etoposide+Gemcitabine+4</td>\n",
       "      <td>0</td>\n",
       "      <td>-0.677500</td>\n",
       "      <td>0.25840</td>\n",
       "      <td>0.152130</td>\n",
       "      <td>0.207060</td>\n",
       "      <td>0.146180</td>\n",
       "      <td>0.151390</td>\n",
       "      <td>0.143780</td>\n",
       "      <td>0.126430</td>\n",
       "      <td>...</td>\n",
       "      <td>0.485480</td>\n",
       "      <td>0.231640</td>\n",
       "      <td>-0.226070</td>\n",
       "      <td>0.623180</td>\n",
       "      <td>0.595200</td>\n",
       "      <td>0.231640</td>\n",
       "      <td>-0.474370</td>\n",
       "      <td>-0.498440</td>\n",
       "      <td>-0.153010</td>\n",
       "      <td>0.282530</td>\n",
       "    </tr>\n",
       "    <tr>\n",
       "      <th>20</th>\n",
       "      <td>Etoposide+Gemcitabine+5</td>\n",
       "      <td>0</td>\n",
       "      <td>-0.060833</td>\n",
       "      <td>-0.16714</td>\n",
       "      <td>-0.198800</td>\n",
       "      <td>0.093564</td>\n",
       "      <td>-0.258180</td>\n",
       "      <td>-0.186680</td>\n",
       "      <td>-0.175810</td>\n",
       "      <td>-0.170990</td>\n",
       "      <td>...</td>\n",
       "      <td>-0.052231</td>\n",
       "      <td>0.031219</td>\n",
       "      <td>-0.091645</td>\n",
       "      <td>-0.042901</td>\n",
       "      <td>-0.048864</td>\n",
       "      <td>0.031219</td>\n",
       "      <td>-0.108130</td>\n",
       "      <td>-0.122700</td>\n",
       "      <td>-0.088380</td>\n",
       "      <td>0.100400</td>\n",
       "    </tr>\n",
       "    <tr>\n",
       "      <th>...</th>\n",
       "      <td>...</td>\n",
       "      <td>...</td>\n",
       "      <td>...</td>\n",
       "      <td>...</td>\n",
       "      <td>...</td>\n",
       "      <td>...</td>\n",
       "      <td>...</td>\n",
       "      <td>...</td>\n",
       "      <td>...</td>\n",
       "      <td>...</td>\n",
       "      <td>...</td>\n",
       "      <td>...</td>\n",
       "      <td>...</td>\n",
       "      <td>...</td>\n",
       "      <td>...</td>\n",
       "      <td>...</td>\n",
       "      <td>...</td>\n",
       "      <td>...</td>\n",
       "      <td>...</td>\n",
       "      <td>...</td>\n",
       "      <td>...</td>\n",
       "    </tr>\n",
       "    <tr>\n",
       "      <th>290</th>\n",
       "      <td>SAHA+SAHA+2</td>\n",
       "      <td>0</td>\n",
       "      <td>-0.650830</td>\n",
       "      <td>0.63079</td>\n",
       "      <td>0.676920</td>\n",
       "      <td>0.167740</td>\n",
       "      <td>0.599980</td>\n",
       "      <td>0.677670</td>\n",
       "      <td>0.658850</td>\n",
       "      <td>0.630060</td>\n",
       "      <td>...</td>\n",
       "      <td>0.538630</td>\n",
       "      <td>0.154080</td>\n",
       "      <td>-0.157860</td>\n",
       "      <td>0.643140</td>\n",
       "      <td>0.638610</td>\n",
       "      <td>0.154080</td>\n",
       "      <td>-0.524830</td>\n",
       "      <td>-0.520510</td>\n",
       "      <td>-0.183780</td>\n",
       "      <td>0.281670</td>\n",
       "    </tr>\n",
       "    <tr>\n",
       "      <th>292</th>\n",
       "      <td>SAHA+SAHA+3</td>\n",
       "      <td>0</td>\n",
       "      <td>-0.050000</td>\n",
       "      <td>0.36110</td>\n",
       "      <td>0.448260</td>\n",
       "      <td>0.162890</td>\n",
       "      <td>0.448480</td>\n",
       "      <td>0.446840</td>\n",
       "      <td>0.442590</td>\n",
       "      <td>0.420530</td>\n",
       "      <td>...</td>\n",
       "      <td>0.115710</td>\n",
       "      <td>0.047349</td>\n",
       "      <td>0.026096</td>\n",
       "      <td>0.127050</td>\n",
       "      <td>0.117700</td>\n",
       "      <td>0.047349</td>\n",
       "      <td>0.158250</td>\n",
       "      <td>0.101300</td>\n",
       "      <td>-0.058386</td>\n",
       "      <td>-0.035401</td>\n",
       "    </tr>\n",
       "    <tr>\n",
       "      <th>294</th>\n",
       "      <td>SAHA+SAHA+4</td>\n",
       "      <td>0</td>\n",
       "      <td>0.083482</td>\n",
       "      <td>0.10267</td>\n",
       "      <td>0.187060</td>\n",
       "      <td>0.068716</td>\n",
       "      <td>0.153600</td>\n",
       "      <td>0.179590</td>\n",
       "      <td>0.182010</td>\n",
       "      <td>0.171780</td>\n",
       "      <td>...</td>\n",
       "      <td>-0.091766</td>\n",
       "      <td>0.034585</td>\n",
       "      <td>-0.043996</td>\n",
       "      <td>-0.096631</td>\n",
       "      <td>-0.085410</td>\n",
       "      <td>0.034585</td>\n",
       "      <td>0.122200</td>\n",
       "      <td>0.102010</td>\n",
       "      <td>-0.051268</td>\n",
       "      <td>-0.048886</td>\n",
       "    </tr>\n",
       "    <tr>\n",
       "      <th>296</th>\n",
       "      <td>SAHA+SAHA+5</td>\n",
       "      <td>0</td>\n",
       "      <td>0.082080</td>\n",
       "      <td>-0.09509</td>\n",
       "      <td>0.045131</td>\n",
       "      <td>-0.038340</td>\n",
       "      <td>-0.036715</td>\n",
       "      <td>0.043464</td>\n",
       "      <td>0.051123</td>\n",
       "      <td>0.056143</td>\n",
       "      <td>...</td>\n",
       "      <td>-0.123530</td>\n",
       "      <td>0.058774</td>\n",
       "      <td>-0.068147</td>\n",
       "      <td>-0.110060</td>\n",
       "      <td>-0.114430</td>\n",
       "      <td>0.058774</td>\n",
       "      <td>0.075379</td>\n",
       "      <td>0.071095</td>\n",
       "      <td>-0.054242</td>\n",
       "      <td>0.039518</td>\n",
       "    </tr>\n",
       "    <tr>\n",
       "      <th>298</th>\n",
       "      <td>SAHA+SAHA+6</td>\n",
       "      <td>0</td>\n",
       "      <td>0.119230</td>\n",
       "      <td>-0.11152</td>\n",
       "      <td>-0.030594</td>\n",
       "      <td>-0.056651</td>\n",
       "      <td>-0.055880</td>\n",
       "      <td>-0.027947</td>\n",
       "      <td>0.038263</td>\n",
       "      <td>0.039357</td>\n",
       "      <td>...</td>\n",
       "      <td>-0.135570</td>\n",
       "      <td>0.036210</td>\n",
       "      <td>-0.046633</td>\n",
       "      <td>-0.139190</td>\n",
       "      <td>-0.153110</td>\n",
       "      <td>0.036210</td>\n",
       "      <td>0.079504</td>\n",
       "      <td>0.067747</td>\n",
       "      <td>-0.047180</td>\n",
       "      <td>0.037564</td>\n",
       "    </tr>\n",
       "  </tbody>\n",
       "</table>\n",
       "<p>120 rows × 240 columns</p>\n",
       "</div>"
      ],
      "text/plain": [
       "                   drug_name  default       ks1      ks2       ks3       ks4  \\\n",
       "12   Etoposide+Gemcitabine+1        0 -0.749170 -0.66941 -0.927020 -0.965710   \n",
       "14   Etoposide+Gemcitabine+2        0 -0.913330 -0.45931 -0.413220 -0.696840   \n",
       "16   Etoposide+Gemcitabine+3        0 -0.690000  0.29902  0.126810  0.259950   \n",
       "18   Etoposide+Gemcitabine+4        0 -0.677500  0.25840  0.152130  0.207060   \n",
       "20   Etoposide+Gemcitabine+5        0 -0.060833 -0.16714 -0.198800  0.093564   \n",
       "..                       ...      ...       ...      ...       ...       ...   \n",
       "290              SAHA+SAHA+2        0 -0.650830  0.63079  0.676920  0.167740   \n",
       "292              SAHA+SAHA+3        0 -0.050000  0.36110  0.448260  0.162890   \n",
       "294              SAHA+SAHA+4        0  0.083482  0.10267  0.187060  0.068716   \n",
       "296              SAHA+SAHA+5        0  0.082080 -0.09509  0.045131 -0.038340   \n",
       "298              SAHA+SAHA+6        0  0.119230 -0.11152 -0.030594 -0.056651   \n",
       "\n",
       "          ks5       ks6       ks7       ks8  ...     ks229     ks230  \\\n",
       "12  -0.987910 -0.922450 -0.889720 -0.870230  ... -0.337330  0.136410   \n",
       "14  -0.882330 -0.497390 -0.380400 -0.361150  ...  0.137990  0.272160   \n",
       "16   0.251080  0.149220  0.113770  0.086765  ...  0.551860  0.247790   \n",
       "18   0.146180  0.151390  0.143780  0.126430  ...  0.485480  0.231640   \n",
       "20  -0.258180 -0.186680 -0.175810 -0.170990  ... -0.052231  0.031219   \n",
       "..        ...       ...       ...       ...  ...       ...       ...   \n",
       "290  0.599980  0.677670  0.658850  0.630060  ...  0.538630  0.154080   \n",
       "292  0.448480  0.446840  0.442590  0.420530  ...  0.115710  0.047349   \n",
       "294  0.153600  0.179590  0.182010  0.171780  ... -0.091766  0.034585   \n",
       "296 -0.036715  0.043464  0.051123  0.056143  ... -0.123530  0.058774   \n",
       "298 -0.055880 -0.027947  0.038263  0.039357  ... -0.135570  0.036210   \n",
       "\n",
       "        ks231     ks232     ks233     ks234     ks235     ks236     ks237  \\\n",
       "12  -0.145360 -0.306520 -0.297390  0.136410  0.235710  0.167310 -0.203070   \n",
       "14  -0.289340  0.270370  0.205260  0.272160 -0.627590 -0.608650 -0.403970   \n",
       "16  -0.315200  0.722750  0.682450  0.247790 -0.531130 -0.569710 -0.181620   \n",
       "18  -0.226070  0.623180  0.595200  0.231640 -0.474370 -0.498440 -0.153010   \n",
       "20  -0.091645 -0.042901 -0.048864  0.031219 -0.108130 -0.122700 -0.088380   \n",
       "..        ...       ...       ...       ...       ...       ...       ...   \n",
       "290 -0.157860  0.643140  0.638610  0.154080 -0.524830 -0.520510 -0.183780   \n",
       "292  0.026096  0.127050  0.117700  0.047349  0.158250  0.101300 -0.058386   \n",
       "294 -0.043996 -0.096631 -0.085410  0.034585  0.122200  0.102010 -0.051268   \n",
       "296 -0.068147 -0.110060 -0.114430  0.058774  0.075379  0.071095 -0.054242   \n",
       "298 -0.046633 -0.139190 -0.153110  0.036210  0.079504  0.067747 -0.047180   \n",
       "\n",
       "        ks238  \n",
       "12   0.135950  \n",
       "14   0.399480  \n",
       "16   0.395390  \n",
       "18   0.282530  \n",
       "20   0.100400  \n",
       "..        ...  \n",
       "290  0.281670  \n",
       "292 -0.035401  \n",
       "294 -0.048886  \n",
       "296  0.039518  \n",
       "298  0.037564  \n",
       "\n",
       "[120 rows x 240 columns]"
      ]
     },
     "execution_count": 29,
     "metadata": {},
     "output_type": "execute_result"
    }
   ],
   "source": [
    "training"
   ]
  },
  {
   "cell_type": "code",
   "execution_count": 34,
   "metadata": {},
   "outputs": [
    {
     "name": "stdout",
     "output_type": "stream",
     "text": [
      "['DNA' 'DNA' 'DNA' 'DNA' 'DNA' 'DNA' 'MT' 'MT' 'MT' 'MT' 'MT' 'DNA' 'HSP'\n",
      " 'HSP' 'HSP' 'HSP' 'HSP' 'HSP' 'PROT' 'PROT' 'PROT' 'PROT' 'PROT' 'HSP'\n",
      " 'HDAC' 'HDAC' 'HDAC' 'HDAC' 'HDAC' 'HDAC']\n",
      "0.9333333333333333\n"
     ]
    }
   ],
   "source": [
    "#knn\n",
    "from sklearn.neighbors import KNeighborsClassifier\n",
    "from sklearn.metrics import accuracy_score\n",
    "knn5 = KNeighborsClassifier(n_neighbors=40)\n",
    "knn5.fit(X_training, y)\n",
    "y_pred_5 = knn5.predict(X_testing)\n",
    "print(y_pred_5)\n",
    "print(accuracy(y_pred_5,['DNA',\"MT\",\"HSP\",\"PROT\",\"HDAC\"]))\n",
    "#print(\"Accuracy with k=5\", accuracy_score(y_test, y_pred_5)*100)"
   ]
  }
 ],
 "metadata": {
  "kernelspec": {
   "display_name": "Python 3.8.5 ('base')",
   "language": "python",
   "name": "python3"
  },
  "language_info": {
   "codemirror_mode": {
    "name": "ipython",
    "version": 3
   },
   "file_extension": ".py",
   "mimetype": "text/x-python",
   "name": "python",
   "nbconvert_exporter": "python",
   "pygments_lexer": "ipython3",
   "version": "3.8.5"
  },
  "vscode": {
   "interpreter": {
    "hash": "40d3a090f54c6569ab1632332b64b2c03c39dcf918b08424e98f38b5ae0af88f"
   }
  }
 },
 "nbformat": 4,
 "nbformat_minor": 4
}

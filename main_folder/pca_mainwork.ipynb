{
 "cells": [
  {
   "cell_type": "code",
   "execution_count": 23,
   "metadata": {},
   "outputs": [],
   "source": [
    "#a code block that deals with concentration and drug names\n",
    "#we do not use this block for now.\n",
    "\n",
    "import pandas as pd\n",
    "f1 = pd.read_csv('B.csv')\n",
    "f2 = pd.read_csv('C.csv')\n",
    "f3=pd.read_csv('D.csv')\n",
    "f4=pd.read_csv('E.csv')\n",
    "f5=pd.read_csv('A.csv')\n",
    "file = [f1,f2,f3,f5]\n",
    "train = pd.concat(file,axis=1)\n",
    "train.to_csv(\"train.csv\", index=0, sep=',')\n"
   ]
  },
  {
   "cell_type": "code",
   "execution_count": 24,
   "metadata": {},
   "outputs": [
    {
     "name": "stdout",
     "output_type": "stream",
     "text": [
      "-0.294442\n"
     ]
    }
   ],
   "source": [
    "#do some further processing with \"A\" because there are some data error in it\n",
    "def remove_extradots(string):\n",
    "    counter=0\n",
    "    lst=[]\n",
    "    for i in range(len(string)):\n",
    "        if string[i]=='.' and counter<1 :\n",
    "            lst.append(string[i])\n",
    "            counter+=1\n",
    "        elif string[i]!='.':\n",
    "            lst.append(string[i])\n",
    "    res=\"\".join(lst)\n",
    "    return res\n",
    "\n",
    "\n",
    "\n",
    "import csv\n",
    "res_list=[]\n",
    "print(remove_extradots(\"-0.29444.2\"))\n",
    "with open('A.csv') as file2:\n",
    "    reader=csv.reader(file2)\n",
    "\n",
    "    for row in reader:\n",
    "        data=[]\n",
    "        for i in range(len(row)):\n",
    "            \n",
    "            data.append(remove_extradots(row[i]))\n",
    "        res_list.append(data)\n",
    "    \n",
    "\n",
    "\n",
    "with open('modified_A.csv', 'w') as file3:\n",
    "    writer = csv.writer(file3)\n",
    "    writer.writerows(res_list)\n",
    "file3.close()\n",
    "                \n"
   ]
  },
  {
   "cell_type": "code",
   "execution_count": 25,
   "metadata": {},
   "outputs": [
    {
     "data": {
      "text/plain": [
       "(767, 239)"
      ]
     },
     "execution_count": 25,
     "metadata": {},
     "output_type": "execute_result"
    }
   ],
   "source": [
    "#test file A\n",
    "import pandas as pd\n",
    "df_A=pd.read_csv(\"A.csv\")\n",
    "df_A.shape\n",
    "df_A2=pd.read_csv(\"A_modified.csv\")\n",
    "df_A2.shape\n"
   ]
  },
  {
   "cell_type": "code",
   "execution_count": 26,
   "metadata": {},
   "outputs": [],
   "source": [
    "#a block that is used to concate the drug names(drug combinations and related concentration)\n",
    "\n",
    "import csv\n",
    "res_list=[]\n",
    "with open('train.csv', 'r') as file:\n",
    "    reader = csv.reader(file)\n",
    "    \n",
    "    for row in reader:\n",
    "        data=[]\n",
    "        data.append(row[0]+'+'+row[1]+\"+\"+row[2])\n",
    "        res_list.append(data)\n",
    "\n",
    "        \n",
    "        \n",
    "with open('concatenated.csv', 'w') as file2:\n",
    "    writer = csv.writer(file2)\n",
    "    writer.writerows(res_list)"
   ]
  },
  {
   "cell_type": "code",
   "execution_count": 27,
   "metadata": {},
   "outputs": [],
   "source": [
    "#a block that is used to concate concentration and ks numbers.\n",
    "import pandas as pd\n",
    "f1 = pd.read_csv('concatenated.csv')\n",
    "#f2 = pd.read_csv('C.csv')\n",
    "f3=pd.read_csv('D.csv')\n",
    "f4=pd.read_csv('E.csv')\n",
    "f5=pd.read_csv('modified_A.csv')\n",
    "file = [f1,f5]\n",
    "train = pd.concat(file,axis=1)\n",
    "train.to_csv(\"train3.csv\", index=0, sep=',')"
   ]
  },
  {
   "cell_type": "code",
   "execution_count": 28,
   "metadata": {},
   "outputs": [],
   "source": [
    "#a block that sets the fields for the drug data\n",
    "import csv\n",
    "fields=['drug_name','default']\n",
    "for i in range(1,239):\n",
    "    fields.append('ks'+str(i))\n",
    "rows=[]\n",
    "with open('train3.csv', 'r') as file:\n",
    "    reader = csv.reader(file)\n",
    "    \n",
    "    for row in reader:\n",
    "        rows.append(row)\n",
    "\n",
    "        \n",
    "        \n",
    "with open('drug_withfields2.csv', 'w') as file2:\n",
    "    writer = csv.writer(file2)\n",
    "    writer.writerow(fields)\n",
    "    writer.writerows(rows)"
   ]
  },
  {
   "cell_type": "code",
   "execution_count": 29,
   "metadata": {},
   "outputs": [
    {
     "name": "stdout",
     "output_type": "stream",
     "text": [
      "-0.294442\n"
     ]
    }
   ],
   "source": [
    "#do some further processing with \"drug_withfields\" because there are still some data error in it\n",
    "def remove_extradots(string):\n",
    "    counter=0\n",
    "    lst=[]\n",
    "    for i in range(len(string)):\n",
    "        if string[i]=='.' and counter<1 :\n",
    "            lst.append(string[i])\n",
    "            counter+=1\n",
    "        elif string[i]!='.':\n",
    "            lst.append(string[i])\n",
    "    res=\"\".join(lst)\n",
    "    return res\n",
    "\n",
    "\n",
    "\n",
    "import csv\n",
    "res_list=[]\n",
    "print(remove_extradots(\"-0.29444.2\"))\n",
    "with open('drug_withfields2.csv') as file2:\n",
    "    reader=csv.reader(file2)\n",
    "\n",
    "    for row in reader:\n",
    "        data=[]\n",
    "        for i in range(len(row)):\n",
    "            \n",
    "            data.append(remove_extradots(row[i]))\n",
    "        res_list.append(data)\n",
    "    \n",
    "\n",
    "\n",
    "with open('drug_with_fields.csv', 'w') as file3:\n",
    "    writer = csv.writer(file3)\n",
    "    writer.writerows(res_list)\n",
    "file3.close()\n",
    "                "
   ]
  },
  {
   "cell_type": "code",
   "execution_count": 30,
   "metadata": {},
   "outputs": [
    {
     "data": {
      "text/html": [
       "<div>\n",
       "<style scoped>\n",
       "    .dataframe tbody tr th:only-of-type {\n",
       "        vertical-align: middle;\n",
       "    }\n",
       "\n",
       "    .dataframe tbody tr th {\n",
       "        vertical-align: top;\n",
       "    }\n",
       "\n",
       "    .dataframe thead th {\n",
       "        text-align: right;\n",
       "    }\n",
       "</style>\n",
       "<table border=\"1\" class=\"dataframe\">\n",
       "  <thead>\n",
       "    <tr style=\"text-align: right;\">\n",
       "      <th></th>\n",
       "      <th>drug_name</th>\n",
       "      <th>default</th>\n",
       "      <th>ks1</th>\n",
       "      <th>ks2</th>\n",
       "      <th>ks3</th>\n",
       "      <th>ks4</th>\n",
       "      <th>ks5</th>\n",
       "      <th>ks6</th>\n",
       "      <th>ks7</th>\n",
       "      <th>ks8</th>\n",
       "      <th>...</th>\n",
       "      <th>ks229</th>\n",
       "      <th>ks230</th>\n",
       "      <th>ks231</th>\n",
       "      <th>ks232</th>\n",
       "      <th>ks233</th>\n",
       "      <th>ks234</th>\n",
       "      <th>ks235</th>\n",
       "      <th>ks236</th>\n",
       "      <th>ks237</th>\n",
       "      <th>ks238</th>\n",
       "    </tr>\n",
       "  </thead>\n",
       "  <tbody>\n",
       "    <tr>\n",
       "      <th>0</th>\n",
       "      <td>Etoposide+Etoposide+1</td>\n",
       "      <td>0</td>\n",
       "      <td>-0.915000</td>\n",
       "      <td>-0.309170</td>\n",
       "      <td>-0.266390</td>\n",
       "      <td>-0.595000</td>\n",
       "      <td>-0.719440</td>\n",
       "      <td>-0.304440</td>\n",
       "      <td>-0.235280</td>\n",
       "      <td>0.280280</td>\n",
       "      <td>...</td>\n",
       "      <td>0.096111</td>\n",
       "      <td>0.273331</td>\n",
       "      <td>-0.259170</td>\n",
       "      <td>0.202780</td>\n",
       "      <td>0.171941</td>\n",
       "      <td>0.273332</td>\n",
       "      <td>-0.601110</td>\n",
       "      <td>-0.586391</td>\n",
       "      <td>-0.432780</td>\n",
       "      <td>0.321670</td>\n",
       "    </tr>\n",
       "    <tr>\n",
       "      <th>2</th>\n",
       "      <td>Etoposide+Etoposide+2</td>\n",
       "      <td>0</td>\n",
       "      <td>-0.827500</td>\n",
       "      <td>-0.185050</td>\n",
       "      <td>0.225330</td>\n",
       "      <td>-0.530960</td>\n",
       "      <td>-0.628240</td>\n",
       "      <td>-0.191880</td>\n",
       "      <td>0.273000</td>\n",
       "      <td>0.321280</td>\n",
       "      <td>...</td>\n",
       "      <td>0.172830</td>\n",
       "      <td>0.209750</td>\n",
       "      <td>-0.334970</td>\n",
       "      <td>0.319720</td>\n",
       "      <td>0.240240</td>\n",
       "      <td>0.209750</td>\n",
       "      <td>-0.635440</td>\n",
       "      <td>-0.644490</td>\n",
       "      <td>-0.349710</td>\n",
       "      <td>0.430350</td>\n",
       "    </tr>\n",
       "    <tr>\n",
       "      <th>4</th>\n",
       "      <td>Etoposide+Etoposide+3</td>\n",
       "      <td>0</td>\n",
       "      <td>-0.590000</td>\n",
       "      <td>0.163430</td>\n",
       "      <td>-0.071733</td>\n",
       "      <td>0.036633</td>\n",
       "      <td>0.147570</td>\n",
       "      <td>-0.074267</td>\n",
       "      <td>-0.072833</td>\n",
       "      <td>-0.063000</td>\n",
       "      <td>...</td>\n",
       "      <td>0.366530</td>\n",
       "      <td>0.210270</td>\n",
       "      <td>-0.213230</td>\n",
       "      <td>0.495230</td>\n",
       "      <td>0.458200</td>\n",
       "      <td>0.210270</td>\n",
       "      <td>-0.405370</td>\n",
       "      <td>-0.440270</td>\n",
       "      <td>-0.207970</td>\n",
       "      <td>0.249330</td>\n",
       "    </tr>\n",
       "    <tr>\n",
       "      <th>6</th>\n",
       "      <td>Etoposide+Etoposide+4</td>\n",
       "      <td>0</td>\n",
       "      <td>0.055863</td>\n",
       "      <td>-0.089835</td>\n",
       "      <td>-0.060518</td>\n",
       "      <td>-0.058003</td>\n",
       "      <td>-0.082102</td>\n",
       "      <td>-0.062598</td>\n",
       "      <td>-0.054715</td>\n",
       "      <td>-0.045668</td>\n",
       "      <td>...</td>\n",
       "      <td>-0.148370</td>\n",
       "      <td>0.056149</td>\n",
       "      <td>-0.052402</td>\n",
       "      <td>-0.114600</td>\n",
       "      <td>-0.130490</td>\n",
       "      <td>0.056149</td>\n",
       "      <td>0.083671</td>\n",
       "      <td>0.055863</td>\n",
       "      <td>-0.075631</td>\n",
       "      <td>0.045953</td>\n",
       "    </tr>\n",
       "    <tr>\n",
       "      <th>8</th>\n",
       "      <td>Etoposide+Etoposide+5</td>\n",
       "      <td>0</td>\n",
       "      <td>0.072606</td>\n",
       "      <td>-0.050656</td>\n",
       "      <td>0.029489</td>\n",
       "      <td>-0.074577</td>\n",
       "      <td>-0.041196</td>\n",
       "      <td>-0.023138</td>\n",
       "      <td>0.033754</td>\n",
       "      <td>0.037671</td>\n",
       "      <td>...</td>\n",
       "      <td>-0.111160</td>\n",
       "      <td>0.032801</td>\n",
       "      <td>0.039006</td>\n",
       "      <td>-0.113550</td>\n",
       "      <td>-0.121610</td>\n",
       "      <td>0.032801</td>\n",
       "      <td>0.100530</td>\n",
       "      <td>0.067107</td>\n",
       "      <td>-0.044104</td>\n",
       "      <td>-0.039664</td>\n",
       "    </tr>\n",
       "    <tr>\n",
       "      <th>10</th>\n",
       "      <td>Etoposide+Etoposide+6</td>\n",
       "      <td>0</td>\n",
       "      <td>0.051316</td>\n",
       "      <td>-0.086824</td>\n",
       "      <td>-0.048019</td>\n",
       "      <td>-0.051763</td>\n",
       "      <td>-0.092343</td>\n",
       "      <td>-0.050676</td>\n",
       "      <td>-0.042838</td>\n",
       "      <td>-0.037814</td>\n",
       "      <td>...</td>\n",
       "      <td>-0.111460</td>\n",
       "      <td>0.036606</td>\n",
       "      <td>-0.043273</td>\n",
       "      <td>-0.109670</td>\n",
       "      <td>-0.119730</td>\n",
       "      <td>0.036606</td>\n",
       "      <td>0.080060</td>\n",
       "      <td>0.045157</td>\n",
       "      <td>-0.077717</td>\n",
       "      <td>0.024058</td>\n",
       "    </tr>\n",
       "    <tr>\n",
       "      <th>144</th>\n",
       "      <td>Paclitaxel+Paclitaxel+1</td>\n",
       "      <td>0</td>\n",
       "      <td>-0.179440</td>\n",
       "      <td>-0.770340</td>\n",
       "      <td>-0.994600</td>\n",
       "      <td>-1.000000</td>\n",
       "      <td>-1.000000</td>\n",
       "      <td>-0.996910</td>\n",
       "      <td>-0.994600</td>\n",
       "      <td>-0.993060</td>\n",
       "      <td>...</td>\n",
       "      <td>-0.555650</td>\n",
       "      <td>-0.107810</td>\n",
       "      <td>0.514750</td>\n",
       "      <td>-0.607440</td>\n",
       "      <td>-0.560250</td>\n",
       "      <td>-0.107810</td>\n",
       "      <td>0.926880</td>\n",
       "      <td>0.897280</td>\n",
       "      <td>0.292470</td>\n",
       "      <td>-0.710490</td>\n",
       "    </tr>\n",
       "    <tr>\n",
       "      <th>146</th>\n",
       "      <td>Paclitaxel+Paclitaxel+2</td>\n",
       "      <td>0</td>\n",
       "      <td>-0.633330</td>\n",
       "      <td>0.206700</td>\n",
       "      <td>0.276340</td>\n",
       "      <td>0.101780</td>\n",
       "      <td>0.159960</td>\n",
       "      <td>0.266090</td>\n",
       "      <td>0.289310</td>\n",
       "      <td>0.269860</td>\n",
       "      <td>...</td>\n",
       "      <td>0.264060</td>\n",
       "      <td>0.189130</td>\n",
       "      <td>-0.111990</td>\n",
       "      <td>0.432140</td>\n",
       "      <td>0.408620</td>\n",
       "      <td>0.189130</td>\n",
       "      <td>-0.526990</td>\n",
       "      <td>-0.536920</td>\n",
       "      <td>-0.264350</td>\n",
       "      <td>0.202900</td>\n",
       "    </tr>\n",
       "    <tr>\n",
       "      <th>148</th>\n",
       "      <td>Paclitaxel+Paclitaxel+3</td>\n",
       "      <td>0</td>\n",
       "      <td>-0.396670</td>\n",
       "      <td>0.248980</td>\n",
       "      <td>0.295240</td>\n",
       "      <td>0.058078</td>\n",
       "      <td>0.192110</td>\n",
       "      <td>0.257800</td>\n",
       "      <td>0.314420</td>\n",
       "      <td>0.340220</td>\n",
       "      <td>...</td>\n",
       "      <td>0.279040</td>\n",
       "      <td>0.062320</td>\n",
       "      <td>-0.029420</td>\n",
       "      <td>0.312640</td>\n",
       "      <td>0.310790</td>\n",
       "      <td>0.062320</td>\n",
       "      <td>-0.282840</td>\n",
       "      <td>-0.212540</td>\n",
       "      <td>-0.098604</td>\n",
       "      <td>-0.058758</td>\n",
       "    </tr>\n",
       "    <tr>\n",
       "      <th>150</th>\n",
       "      <td>Paclitaxel+Paclitaxel+4</td>\n",
       "      <td>0</td>\n",
       "      <td>-0.283290</td>\n",
       "      <td>0.179160</td>\n",
       "      <td>0.288650</td>\n",
       "      <td>0.058358</td>\n",
       "      <td>0.208310</td>\n",
       "      <td>0.271520</td>\n",
       "      <td>0.289620</td>\n",
       "      <td>0.281410</td>\n",
       "      <td>...</td>\n",
       "      <td>0.171220</td>\n",
       "      <td>0.089758</td>\n",
       "      <td>-0.064354</td>\n",
       "      <td>0.240610</td>\n",
       "      <td>0.211960</td>\n",
       "      <td>0.089758</td>\n",
       "      <td>-0.297460</td>\n",
       "      <td>-0.243660</td>\n",
       "      <td>-0.089818</td>\n",
       "      <td>0.056447</td>\n",
       "    </tr>\n",
       "    <tr>\n",
       "      <th>152</th>\n",
       "      <td>Paclitaxel+Paclitaxel+5</td>\n",
       "      <td>0</td>\n",
       "      <td>-0.135140</td>\n",
       "      <td>0.099324</td>\n",
       "      <td>0.161150</td>\n",
       "      <td>0.051553</td>\n",
       "      <td>0.124520</td>\n",
       "      <td>0.157800</td>\n",
       "      <td>0.167330</td>\n",
       "      <td>0.163500</td>\n",
       "      <td>...</td>\n",
       "      <td>0.054351</td>\n",
       "      <td>0.042283</td>\n",
       "      <td>-0.036215</td>\n",
       "      <td>0.078029</td>\n",
       "      <td>0.080373</td>\n",
       "      <td>0.042283</td>\n",
       "      <td>-0.103520</td>\n",
       "      <td>-0.083648</td>\n",
       "      <td>-0.031527</td>\n",
       "      <td>0.024459</td>\n",
       "    </tr>\n",
       "    <tr>\n",
       "      <th>154</th>\n",
       "      <td>Paclitaxel+Paclitaxel+6</td>\n",
       "      <td>0</td>\n",
       "      <td>0.096605</td>\n",
       "      <td>-0.106950</td>\n",
       "      <td>-0.046998</td>\n",
       "      <td>-0.128410</td>\n",
       "      <td>-0.080332</td>\n",
       "      <td>-0.054753</td>\n",
       "      <td>-0.041251</td>\n",
       "      <td>-0.032756</td>\n",
       "      <td>...</td>\n",
       "      <td>-0.128490</td>\n",
       "      <td>0.034068</td>\n",
       "      <td>-0.046963</td>\n",
       "      <td>-0.132030</td>\n",
       "      <td>-0.136710</td>\n",
       "      <td>0.034068</td>\n",
       "      <td>0.078195</td>\n",
       "      <td>0.058961</td>\n",
       "      <td>-0.050500</td>\n",
       "      <td>-0.049458</td>\n",
       "    </tr>\n",
       "    <tr>\n",
       "      <th>120</th>\n",
       "      <td>Etoposide+Paclitaxel+1</td>\n",
       "      <td>0</td>\n",
       "      <td>-0.910830</td>\n",
       "      <td>-0.166720</td>\n",
       "      <td>0.202730</td>\n",
       "      <td>-0.414020</td>\n",
       "      <td>-0.540290</td>\n",
       "      <td>-0.188250</td>\n",
       "      <td>0.238400</td>\n",
       "      <td>0.313230</td>\n",
       "      <td>...</td>\n",
       "      <td>0.189530</td>\n",
       "      <td>0.130480</td>\n",
       "      <td>-0.187330</td>\n",
       "      <td>0.227110</td>\n",
       "      <td>0.188100</td>\n",
       "      <td>0.130480</td>\n",
       "      <td>-0.598840</td>\n",
       "      <td>-0.583670</td>\n",
       "      <td>-0.330530</td>\n",
       "      <td>0.301470</td>\n",
       "    </tr>\n",
       "    <tr>\n",
       "      <th>122</th>\n",
       "      <td>Etoposide+Paclitaxel+2</td>\n",
       "      <td>0</td>\n",
       "      <td>-0.895830</td>\n",
       "      <td>-0.230060</td>\n",
       "      <td>0.252850</td>\n",
       "      <td>-0.470060</td>\n",
       "      <td>-0.655500</td>\n",
       "      <td>-0.129290</td>\n",
       "      <td>0.293970</td>\n",
       "      <td>0.360370</td>\n",
       "      <td>...</td>\n",
       "      <td>0.129360</td>\n",
       "      <td>0.117240</td>\n",
       "      <td>-0.235550</td>\n",
       "      <td>0.196490</td>\n",
       "      <td>0.164770</td>\n",
       "      <td>0.117240</td>\n",
       "      <td>-0.645820</td>\n",
       "      <td>-0.620480</td>\n",
       "      <td>-0.412910</td>\n",
       "      <td>0.307420</td>\n",
       "    </tr>\n",
       "    <tr>\n",
       "      <th>124</th>\n",
       "      <td>Etoposide+Paclitaxel+3</td>\n",
       "      <td>0</td>\n",
       "      <td>-0.705000</td>\n",
       "      <td>0.135700</td>\n",
       "      <td>0.130320</td>\n",
       "      <td>-0.037338</td>\n",
       "      <td>-0.151090</td>\n",
       "      <td>0.067174</td>\n",
       "      <td>0.146220</td>\n",
       "      <td>0.161520</td>\n",
       "      <td>...</td>\n",
       "      <td>0.365420</td>\n",
       "      <td>0.139750</td>\n",
       "      <td>-0.168850</td>\n",
       "      <td>0.432800</td>\n",
       "      <td>0.414080</td>\n",
       "      <td>0.139750</td>\n",
       "      <td>-0.481120</td>\n",
       "      <td>-0.505930</td>\n",
       "      <td>-0.308280</td>\n",
       "      <td>0.218820</td>\n",
       "    </tr>\n",
       "    <tr>\n",
       "      <th>126</th>\n",
       "      <td>Etoposide+Paclitaxel+4</td>\n",
       "      <td>0</td>\n",
       "      <td>-0.314210</td>\n",
       "      <td>0.175200</td>\n",
       "      <td>0.227600</td>\n",
       "      <td>0.146660</td>\n",
       "      <td>0.210930</td>\n",
       "      <td>0.210660</td>\n",
       "      <td>0.229190</td>\n",
       "      <td>0.219030</td>\n",
       "      <td>...</td>\n",
       "      <td>0.155060</td>\n",
       "      <td>0.141610</td>\n",
       "      <td>-0.055215</td>\n",
       "      <td>0.236660</td>\n",
       "      <td>0.224220</td>\n",
       "      <td>0.141610</td>\n",
       "      <td>-0.267610</td>\n",
       "      <td>-0.210790</td>\n",
       "      <td>-0.135070</td>\n",
       "      <td>0.049731</td>\n",
       "    </tr>\n",
       "    <tr>\n",
       "      <th>128</th>\n",
       "      <td>Etoposide+Paclitaxel+5</td>\n",
       "      <td>0</td>\n",
       "      <td>-0.130000</td>\n",
       "      <td>0.043242</td>\n",
       "      <td>0.075262</td>\n",
       "      <td>0.031502</td>\n",
       "      <td>0.038232</td>\n",
       "      <td>0.065658</td>\n",
       "      <td>0.078688</td>\n",
       "      <td>0.082501</td>\n",
       "      <td>...</td>\n",
       "      <td>0.056659</td>\n",
       "      <td>0.039780</td>\n",
       "      <td>-0.052051</td>\n",
       "      <td>0.071490</td>\n",
       "      <td>0.052923</td>\n",
       "      <td>0.039780</td>\n",
       "      <td>-0.088770</td>\n",
       "      <td>-0.079971</td>\n",
       "      <td>-0.062762</td>\n",
       "      <td>0.045847</td>\n",
       "    </tr>\n",
       "    <tr>\n",
       "      <th>130</th>\n",
       "      <td>Etoposide+Paclitaxel+6</td>\n",
       "      <td>0</td>\n",
       "      <td>0.029293</td>\n",
       "      <td>-0.117490</td>\n",
       "      <td>-0.083081</td>\n",
       "      <td>-0.091122</td>\n",
       "      <td>-0.130900</td>\n",
       "      <td>-0.088090</td>\n",
       "      <td>-0.077341</td>\n",
       "      <td>-0.070071</td>\n",
       "      <td>...</td>\n",
       "      <td>-0.125970</td>\n",
       "      <td>0.038568</td>\n",
       "      <td>-0.038495</td>\n",
       "      <td>-0.110320</td>\n",
       "      <td>-0.128930</td>\n",
       "      <td>0.038568</td>\n",
       "      <td>0.064061</td>\n",
       "      <td>0.051796</td>\n",
       "      <td>-0.072779</td>\n",
       "      <td>-0.031396</td>\n",
       "    </tr>\n",
       "    <tr>\n",
       "      <th>24</th>\n",
       "      <td>Paclitaxel+Etoposide+1</td>\n",
       "      <td>0</td>\n",
       "      <td>-0.643330</td>\n",
       "      <td>-0.845910</td>\n",
       "      <td>-0.982080</td>\n",
       "      <td>-0.995000</td>\n",
       "      <td>-0.995580</td>\n",
       "      <td>-0.982080</td>\n",
       "      <td>-0.974200</td>\n",
       "      <td>-0.961910</td>\n",
       "      <td>...</td>\n",
       "      <td>-0.644390</td>\n",
       "      <td>-0.207400</td>\n",
       "      <td>0.308410</td>\n",
       "      <td>-0.664290</td>\n",
       "      <td>-0.645160</td>\n",
       "      <td>-0.207400</td>\n",
       "      <td>0.479270</td>\n",
       "      <td>0.394290</td>\n",
       "      <td>-0.083925</td>\n",
       "      <td>-0.203850</td>\n",
       "    </tr>\n",
       "    <tr>\n",
       "      <th>26</th>\n",
       "      <td>Paclitaxel+Etoposide+2</td>\n",
       "      <td>0</td>\n",
       "      <td>-0.567500</td>\n",
       "      <td>0.189400</td>\n",
       "      <td>0.260040</td>\n",
       "      <td>0.189290</td>\n",
       "      <td>0.164250</td>\n",
       "      <td>0.233990</td>\n",
       "      <td>0.273410</td>\n",
       "      <td>0.266350</td>\n",
       "      <td>...</td>\n",
       "      <td>0.204410</td>\n",
       "      <td>0.313850</td>\n",
       "      <td>-0.262520</td>\n",
       "      <td>0.442070</td>\n",
       "      <td>0.378600</td>\n",
       "      <td>0.313850</td>\n",
       "      <td>-0.480640</td>\n",
       "      <td>-0.540500</td>\n",
       "      <td>-0.291820</td>\n",
       "      <td>0.307820</td>\n",
       "    </tr>\n",
       "    <tr>\n",
       "      <th>28</th>\n",
       "      <td>Paclitaxel+Etoposide+3</td>\n",
       "      <td>0</td>\n",
       "      <td>-0.062500</td>\n",
       "      <td>-0.077576</td>\n",
       "      <td>-0.061430</td>\n",
       "      <td>0.127530</td>\n",
       "      <td>-0.113590</td>\n",
       "      <td>-0.068394</td>\n",
       "      <td>0.052321</td>\n",
       "      <td>0.065935</td>\n",
       "      <td>...</td>\n",
       "      <td>-0.051053</td>\n",
       "      <td>0.048413</td>\n",
       "      <td>-0.061178</td>\n",
       "      <td>-0.037804</td>\n",
       "      <td>-0.027852</td>\n",
       "      <td>0.048413</td>\n",
       "      <td>-0.070725</td>\n",
       "      <td>-0.084126</td>\n",
       "      <td>-0.084403</td>\n",
       "      <td>0.051949</td>\n",
       "    </tr>\n",
       "    <tr>\n",
       "      <th>30</th>\n",
       "      <td>Paclitaxel+Etoposide+4</td>\n",
       "      <td>0</td>\n",
       "      <td>0.087645</td>\n",
       "      <td>-0.073396</td>\n",
       "      <td>0.054754</td>\n",
       "      <td>-0.051970</td>\n",
       "      <td>-0.040780</td>\n",
       "      <td>0.034008</td>\n",
       "      <td>0.061768</td>\n",
       "      <td>0.067519</td>\n",
       "      <td>...</td>\n",
       "      <td>-0.134110</td>\n",
       "      <td>0.024118</td>\n",
       "      <td>0.043218</td>\n",
       "      <td>-0.130790</td>\n",
       "      <td>-0.137150</td>\n",
       "      <td>0.024118</td>\n",
       "      <td>0.101820</td>\n",
       "      <td>0.072678</td>\n",
       "      <td>-0.068810</td>\n",
       "      <td>-0.028179</td>\n",
       "    </tr>\n",
       "    <tr>\n",
       "      <th>32</th>\n",
       "      <td>Paclitaxel+Etoposide+5</td>\n",
       "      <td>0</td>\n",
       "      <td>0.043110</td>\n",
       "      <td>-0.090163</td>\n",
       "      <td>-0.080549</td>\n",
       "      <td>-0.042581</td>\n",
       "      <td>-0.144170</td>\n",
       "      <td>-0.093598</td>\n",
       "      <td>-0.071687</td>\n",
       "      <td>-0.065325</td>\n",
       "      <td>...</td>\n",
       "      <td>-0.114490</td>\n",
       "      <td>0.055488</td>\n",
       "      <td>0.052114</td>\n",
       "      <td>-0.099634</td>\n",
       "      <td>-0.103660</td>\n",
       "      <td>0.055488</td>\n",
       "      <td>0.076199</td>\n",
       "      <td>-0.045366</td>\n",
       "      <td>-0.074492</td>\n",
       "      <td>-0.039492</td>\n",
       "    </tr>\n",
       "    <tr>\n",
       "      <th>34</th>\n",
       "      <td>Paclitaxel+Etoposide+6</td>\n",
       "      <td>0</td>\n",
       "      <td>0.057868</td>\n",
       "      <td>-0.104500</td>\n",
       "      <td>-0.102610</td>\n",
       "      <td>-0.078861</td>\n",
       "      <td>-0.149870</td>\n",
       "      <td>-0.114420</td>\n",
       "      <td>-0.094823</td>\n",
       "      <td>-0.085577</td>\n",
       "      <td>...</td>\n",
       "      <td>-0.113110</td>\n",
       "      <td>0.031001</td>\n",
       "      <td>0.045994</td>\n",
       "      <td>-0.118610</td>\n",
       "      <td>-0.122750</td>\n",
       "      <td>0.031001</td>\n",
       "      <td>0.093492</td>\n",
       "      <td>0.064062</td>\n",
       "      <td>-0.044960</td>\n",
       "      <td>-0.042547</td>\n",
       "    </tr>\n",
       "  </tbody>\n",
       "</table>\n",
       "<p>24 rows × 240 columns</p>\n",
       "</div>"
      ],
      "text/plain": [
       "                   drug_name  default       ks1       ks2       ks3       ks4  \\\n",
       "0      Etoposide+Etoposide+1        0 -0.915000 -0.309170 -0.266390 -0.595000   \n",
       "2      Etoposide+Etoposide+2        0 -0.827500 -0.185050  0.225330 -0.530960   \n",
       "4      Etoposide+Etoposide+3        0 -0.590000  0.163430 -0.071733  0.036633   \n",
       "6      Etoposide+Etoposide+4        0  0.055863 -0.089835 -0.060518 -0.058003   \n",
       "8      Etoposide+Etoposide+5        0  0.072606 -0.050656  0.029489 -0.074577   \n",
       "10     Etoposide+Etoposide+6        0  0.051316 -0.086824 -0.048019 -0.051763   \n",
       "144  Paclitaxel+Paclitaxel+1        0 -0.179440 -0.770340 -0.994600 -1.000000   \n",
       "146  Paclitaxel+Paclitaxel+2        0 -0.633330  0.206700  0.276340  0.101780   \n",
       "148  Paclitaxel+Paclitaxel+3        0 -0.396670  0.248980  0.295240  0.058078   \n",
       "150  Paclitaxel+Paclitaxel+4        0 -0.283290  0.179160  0.288650  0.058358   \n",
       "152  Paclitaxel+Paclitaxel+5        0 -0.135140  0.099324  0.161150  0.051553   \n",
       "154  Paclitaxel+Paclitaxel+6        0  0.096605 -0.106950 -0.046998 -0.128410   \n",
       "120   Etoposide+Paclitaxel+1        0 -0.910830 -0.166720  0.202730 -0.414020   \n",
       "122   Etoposide+Paclitaxel+2        0 -0.895830 -0.230060  0.252850 -0.470060   \n",
       "124   Etoposide+Paclitaxel+3        0 -0.705000  0.135700  0.130320 -0.037338   \n",
       "126   Etoposide+Paclitaxel+4        0 -0.314210  0.175200  0.227600  0.146660   \n",
       "128   Etoposide+Paclitaxel+5        0 -0.130000  0.043242  0.075262  0.031502   \n",
       "130   Etoposide+Paclitaxel+6        0  0.029293 -0.117490 -0.083081 -0.091122   \n",
       "24    Paclitaxel+Etoposide+1        0 -0.643330 -0.845910 -0.982080 -0.995000   \n",
       "26    Paclitaxel+Etoposide+2        0 -0.567500  0.189400  0.260040  0.189290   \n",
       "28    Paclitaxel+Etoposide+3        0 -0.062500 -0.077576 -0.061430  0.127530   \n",
       "30    Paclitaxel+Etoposide+4        0  0.087645 -0.073396  0.054754 -0.051970   \n",
       "32    Paclitaxel+Etoposide+5        0  0.043110 -0.090163 -0.080549 -0.042581   \n",
       "34    Paclitaxel+Etoposide+6        0  0.057868 -0.104500 -0.102610 -0.078861   \n",
       "\n",
       "          ks5       ks6       ks7       ks8  ...     ks229     ks230  \\\n",
       "0   -0.719440 -0.304440 -0.235280  0.280280  ...  0.096111  0.273331   \n",
       "2   -0.628240 -0.191880  0.273000  0.321280  ...  0.172830  0.209750   \n",
       "4    0.147570 -0.074267 -0.072833 -0.063000  ...  0.366530  0.210270   \n",
       "6   -0.082102 -0.062598 -0.054715 -0.045668  ... -0.148370  0.056149   \n",
       "8   -0.041196 -0.023138  0.033754  0.037671  ... -0.111160  0.032801   \n",
       "10  -0.092343 -0.050676 -0.042838 -0.037814  ... -0.111460  0.036606   \n",
       "144 -1.000000 -0.996910 -0.994600 -0.993060  ... -0.555650 -0.107810   \n",
       "146  0.159960  0.266090  0.289310  0.269860  ...  0.264060  0.189130   \n",
       "148  0.192110  0.257800  0.314420  0.340220  ...  0.279040  0.062320   \n",
       "150  0.208310  0.271520  0.289620  0.281410  ...  0.171220  0.089758   \n",
       "152  0.124520  0.157800  0.167330  0.163500  ...  0.054351  0.042283   \n",
       "154 -0.080332 -0.054753 -0.041251 -0.032756  ... -0.128490  0.034068   \n",
       "120 -0.540290 -0.188250  0.238400  0.313230  ...  0.189530  0.130480   \n",
       "122 -0.655500 -0.129290  0.293970  0.360370  ...  0.129360  0.117240   \n",
       "124 -0.151090  0.067174  0.146220  0.161520  ...  0.365420  0.139750   \n",
       "126  0.210930  0.210660  0.229190  0.219030  ...  0.155060  0.141610   \n",
       "128  0.038232  0.065658  0.078688  0.082501  ...  0.056659  0.039780   \n",
       "130 -0.130900 -0.088090 -0.077341 -0.070071  ... -0.125970  0.038568   \n",
       "24  -0.995580 -0.982080 -0.974200 -0.961910  ... -0.644390 -0.207400   \n",
       "26   0.164250  0.233990  0.273410  0.266350  ...  0.204410  0.313850   \n",
       "28  -0.113590 -0.068394  0.052321  0.065935  ... -0.051053  0.048413   \n",
       "30  -0.040780  0.034008  0.061768  0.067519  ... -0.134110  0.024118   \n",
       "32  -0.144170 -0.093598 -0.071687 -0.065325  ... -0.114490  0.055488   \n",
       "34  -0.149870 -0.114420 -0.094823 -0.085577  ... -0.113110  0.031001   \n",
       "\n",
       "        ks231     ks232     ks233     ks234     ks235     ks236     ks237  \\\n",
       "0   -0.259170  0.202780  0.171941  0.273332 -0.601110 -0.586391 -0.432780   \n",
       "2   -0.334970  0.319720  0.240240  0.209750 -0.635440 -0.644490 -0.349710   \n",
       "4   -0.213230  0.495230  0.458200  0.210270 -0.405370 -0.440270 -0.207970   \n",
       "6   -0.052402 -0.114600 -0.130490  0.056149  0.083671  0.055863 -0.075631   \n",
       "8    0.039006 -0.113550 -0.121610  0.032801  0.100530  0.067107 -0.044104   \n",
       "10  -0.043273 -0.109670 -0.119730  0.036606  0.080060  0.045157 -0.077717   \n",
       "144  0.514750 -0.607440 -0.560250 -0.107810  0.926880  0.897280  0.292470   \n",
       "146 -0.111990  0.432140  0.408620  0.189130 -0.526990 -0.536920 -0.264350   \n",
       "148 -0.029420  0.312640  0.310790  0.062320 -0.282840 -0.212540 -0.098604   \n",
       "150 -0.064354  0.240610  0.211960  0.089758 -0.297460 -0.243660 -0.089818   \n",
       "152 -0.036215  0.078029  0.080373  0.042283 -0.103520 -0.083648 -0.031527   \n",
       "154 -0.046963 -0.132030 -0.136710  0.034068  0.078195  0.058961 -0.050500   \n",
       "120 -0.187330  0.227110  0.188100  0.130480 -0.598840 -0.583670 -0.330530   \n",
       "122 -0.235550  0.196490  0.164770  0.117240 -0.645820 -0.620480 -0.412910   \n",
       "124 -0.168850  0.432800  0.414080  0.139750 -0.481120 -0.505930 -0.308280   \n",
       "126 -0.055215  0.236660  0.224220  0.141610 -0.267610 -0.210790 -0.135070   \n",
       "128 -0.052051  0.071490  0.052923  0.039780 -0.088770 -0.079971 -0.062762   \n",
       "130 -0.038495 -0.110320 -0.128930  0.038568  0.064061  0.051796 -0.072779   \n",
       "24   0.308410 -0.664290 -0.645160 -0.207400  0.479270  0.394290 -0.083925   \n",
       "26  -0.262520  0.442070  0.378600  0.313850 -0.480640 -0.540500 -0.291820   \n",
       "28  -0.061178 -0.037804 -0.027852  0.048413 -0.070725 -0.084126 -0.084403   \n",
       "30   0.043218 -0.130790 -0.137150  0.024118  0.101820  0.072678 -0.068810   \n",
       "32   0.052114 -0.099634 -0.103660  0.055488  0.076199 -0.045366 -0.074492   \n",
       "34   0.045994 -0.118610 -0.122750  0.031001  0.093492  0.064062 -0.044960   \n",
       "\n",
       "        ks238  \n",
       "0    0.321670  \n",
       "2    0.430350  \n",
       "4    0.249330  \n",
       "6    0.045953  \n",
       "8   -0.039664  \n",
       "10   0.024058  \n",
       "144 -0.710490  \n",
       "146  0.202900  \n",
       "148 -0.058758  \n",
       "150  0.056447  \n",
       "152  0.024459  \n",
       "154 -0.049458  \n",
       "120  0.301470  \n",
       "122  0.307420  \n",
       "124  0.218820  \n",
       "126  0.049731  \n",
       "128  0.045847  \n",
       "130 -0.031396  \n",
       "24  -0.203850  \n",
       "26   0.307820  \n",
       "28   0.051949  \n",
       "30  -0.028179  \n",
       "32  -0.039492  \n",
       "34  -0.042547  \n",
       "\n",
       "[24 rows x 240 columns]"
      ]
     },
     "execution_count": 30,
     "metadata": {},
     "output_type": "execute_result"
    }
   ],
   "source": [
    "#we take etoposide and palitaxel out. \n",
    "df=pd.read_csv('drug_with_fields.csv')\n",
    "df11=df.loc[(df['drug_name'] =='Etoposide+Etoposide+1') ]\n",
    "df12=df.loc[(df['drug_name'] =='Etoposide+Etoposide+2') ]\n",
    "df13=df.loc[(df['drug_name'] =='Etoposide+Etoposide+3') ]\n",
    "df14=df.loc[(df['drug_name'] =='Etoposide+Etoposide+4') ]\n",
    "df15=df.loc[(df['drug_name'] =='Etoposide+Etoposide+5') ]\n",
    "df16=df.loc[(df['drug_name'] =='Etoposide+Etoposide+6') ]\n",
    "df21=df.loc[(df['drug_name'] =='Paclitaxel+Paclitaxel+1') ]\n",
    "df22=df.loc[(df['drug_name'] =='Paclitaxel+Paclitaxel+2') ]\n",
    "df23=df.loc[(df['drug_name'] =='Paclitaxel+Paclitaxel+3') ]\n",
    "df24=df.loc[(df['drug_name'] =='Paclitaxel+Paclitaxel+4') ]\n",
    "df25=df.loc[(df['drug_name'] =='Paclitaxel+Paclitaxel+5') ]\n",
    "df26=df.loc[(df['drug_name'] =='Paclitaxel+Paclitaxel+6') ]\n",
    "df31=df.loc[(df['drug_name'] =='Etoposide+Paclitaxel+1')]\n",
    "df32=df.loc[(df['drug_name'] =='Etoposide+Paclitaxel+2')]\n",
    "df33=df.loc[(df['drug_name'] =='Etoposide+Paclitaxel+3')]\n",
    "df34=df.loc[(df['drug_name'] =='Etoposide+Paclitaxel+4')]\n",
    "df35=df.loc[(df['drug_name'] =='Etoposide+Paclitaxel+5')]\n",
    "df36=df.loc[(df['drug_name'] =='Etoposide+Paclitaxel+6')]\n",
    "df41=df.loc[(df['drug_name'] =='Paclitaxel+Etoposide+1') ]\n",
    "df42=df.loc[(df['drug_name'] =='Paclitaxel+Etoposide+2') ]\n",
    "df43=df.loc[(df['drug_name'] =='Paclitaxel+Etoposide+3') ]\n",
    "df44=df.loc[(df['drug_name'] =='Paclitaxel+Etoposide+4') ]\n",
    "df45=df.loc[(df['drug_name'] =='Paclitaxel+Etoposide+5') ]\n",
    "df46=df.loc[(df['drug_name'] =='Paclitaxel+Etoposide+6') ]\n",
    "\n",
    "frames = [df11, df12,df13,df14,df15,df16,df21,df22,df23,df24,df25,df26,df31,df32,df33,df34,df35,df36,df41,df42,df43,df44,df45,df46]\n",
    "\n",
    "e_and_p = pd.concat(frames)\n",
    "#etoposide and paclitaxel combination. \n",
    "e_and_p"
   ]
  },
  {
   "cell_type": "code",
   "execution_count": 31,
   "metadata": {},
   "outputs": [
    {
     "data": {
      "text/html": [
       "<div>\n",
       "<style scoped>\n",
       "    .dataframe tbody tr th:only-of-type {\n",
       "        vertical-align: middle;\n",
       "    }\n",
       "\n",
       "    .dataframe tbody tr th {\n",
       "        vertical-align: top;\n",
       "    }\n",
       "\n",
       "    .dataframe thead th {\n",
       "        text-align: right;\n",
       "    }\n",
       "</style>\n",
       "<table border=\"1\" class=\"dataframe\">\n",
       "  <thead>\n",
       "    <tr style=\"text-align: right;\">\n",
       "      <th></th>\n",
       "      <th>principal component 1</th>\n",
       "      <th>principal component 2</th>\n",
       "    </tr>\n",
       "  </thead>\n",
       "  <tbody>\n",
       "    <tr>\n",
       "      <th>0</th>\n",
       "      <td>15.657202</td>\n",
       "      <td>-0.118677</td>\n",
       "    </tr>\n",
       "    <tr>\n",
       "      <th>1</th>\n",
       "      <td>14.370540</td>\n",
       "      <td>-2.001606</td>\n",
       "    </tr>\n",
       "    <tr>\n",
       "      <th>2</th>\n",
       "      <td>11.351187</td>\n",
       "      <td>-4.802591</td>\n",
       "    </tr>\n",
       "    <tr>\n",
       "      <th>3</th>\n",
       "      <td>-10.886256</td>\n",
       "      <td>0.315498</td>\n",
       "    </tr>\n",
       "    <tr>\n",
       "      <th>4</th>\n",
       "      <td>-10.094573</td>\n",
       "      <td>0.002226</td>\n",
       "    </tr>\n",
       "    <tr>\n",
       "      <th>5</th>\n",
       "      <td>-10.058761</td>\n",
       "      <td>1.192268</td>\n",
       "    </tr>\n",
       "    <tr>\n",
       "      <th>6</th>\n",
       "      <td>8.782185</td>\n",
       "      <td>27.715500</td>\n",
       "    </tr>\n",
       "    <tr>\n",
       "      <th>7</th>\n",
       "      <td>3.934760</td>\n",
       "      <td>-8.344866</td>\n",
       "    </tr>\n",
       "    <tr>\n",
       "      <th>8</th>\n",
       "      <td>1.012259</td>\n",
       "      <td>-8.924778</td>\n",
       "    </tr>\n",
       "    <tr>\n",
       "      <th>9</th>\n",
       "      <td>0.188222</td>\n",
       "      <td>-7.795112</td>\n",
       "    </tr>\n",
       "    <tr>\n",
       "      <th>10</th>\n",
       "      <td>-5.965978</td>\n",
       "      <td>-4.332957</td>\n",
       "    </tr>\n",
       "    <tr>\n",
       "      <th>11</th>\n",
       "      <td>-11.576004</td>\n",
       "      <td>2.077045</td>\n",
       "    </tr>\n",
       "    <tr>\n",
       "      <th>12</th>\n",
       "      <td>14.511852</td>\n",
       "      <td>-1.177426</td>\n",
       "    </tr>\n",
       "    <tr>\n",
       "      <th>13</th>\n",
       "      <td>15.168616</td>\n",
       "      <td>-1.542807</td>\n",
       "    </tr>\n",
       "    <tr>\n",
       "      <th>14</th>\n",
       "      <td>11.741957</td>\n",
       "      <td>-5.199111</td>\n",
       "    </tr>\n",
       "    <tr>\n",
       "      <th>15</th>\n",
       "      <td>0.836177</td>\n",
       "      <td>-7.175793</td>\n",
       "    </tr>\n",
       "    <tr>\n",
       "      <th>16</th>\n",
       "      <td>-5.665363</td>\n",
       "      <td>-2.761569</td>\n",
       "    </tr>\n",
       "    <tr>\n",
       "      <th>17</th>\n",
       "      <td>-9.817936</td>\n",
       "      <td>2.225372</td>\n",
       "    </tr>\n",
       "    <tr>\n",
       "      <th>18</th>\n",
       "      <td>3.463869</td>\n",
       "      <td>24.538186</td>\n",
       "    </tr>\n",
       "    <tr>\n",
       "      <th>19</th>\n",
       "      <td>4.455247</td>\n",
       "      <td>-7.205767</td>\n",
       "    </tr>\n",
       "    <tr>\n",
       "      <th>20</th>\n",
       "      <td>-7.560190</td>\n",
       "      <td>-0.798382</td>\n",
       "    </tr>\n",
       "    <tr>\n",
       "      <th>21</th>\n",
       "      <td>-11.369160</td>\n",
       "      <td>1.297767</td>\n",
       "    </tr>\n",
       "    <tr>\n",
       "      <th>22</th>\n",
       "      <td>-11.155513</td>\n",
       "      <td>1.107381</td>\n",
       "    </tr>\n",
       "    <tr>\n",
       "      <th>23</th>\n",
       "      <td>-11.324341</td>\n",
       "      <td>1.710201</td>\n",
       "    </tr>\n",
       "  </tbody>\n",
       "</table>\n",
       "</div>"
      ],
      "text/plain": [
       "    principal component 1  principal component 2\n",
       "0               15.657202              -0.118677\n",
       "1               14.370540              -2.001606\n",
       "2               11.351187              -4.802591\n",
       "3              -10.886256               0.315498\n",
       "4              -10.094573               0.002226\n",
       "5              -10.058761               1.192268\n",
       "6                8.782185              27.715500\n",
       "7                3.934760              -8.344866\n",
       "8                1.012259              -8.924778\n",
       "9                0.188222              -7.795112\n",
       "10              -5.965978              -4.332957\n",
       "11             -11.576004               2.077045\n",
       "12              14.511852              -1.177426\n",
       "13              15.168616              -1.542807\n",
       "14              11.741957              -5.199111\n",
       "15               0.836177              -7.175793\n",
       "16              -5.665363              -2.761569\n",
       "17              -9.817936               2.225372\n",
       "18               3.463869              24.538186\n",
       "19               4.455247              -7.205767\n",
       "20              -7.560190              -0.798382\n",
       "21             -11.369160               1.297767\n",
       "22             -11.155513               1.107381\n",
       "23             -11.324341               1.710201"
      ]
     },
     "execution_count": 31,
     "metadata": {},
     "output_type": "execute_result"
    }
   ],
   "source": [
    "#a code block that is used to deal with the data using PCA models(dimensionality reduction)\n",
    "import pandas as pd\n",
    "import plotly.express as px\n",
    "from sklearn.decomposition import PCA\n",
    "from sklearn.preprocessing import StandardScaler\n",
    "\n",
    "X_drug = e_and_p.iloc[:, 3:240].values\n",
    "\n",
    "X_drug = StandardScaler().fit_transform(X_drug)\n",
    "\n",
    "pca_drug = PCA(n_components=2)\n",
    "components = pca_drug.fit_transform(X_drug)\n",
    "principalDf = pd.DataFrame(data = components\n",
    "             , columns = ['principal component 1', 'principal component 2'])\n",
    "principalDf\n"
   ]
  },
  {
   "cell_type": "code",
   "execution_count": 32,
   "metadata": {},
   "outputs": [
    {
     "name": "stdout",
     "output_type": "stream",
     "text": [
      "[[1.5597355644295634, 29.455563877359637], [0.9205553103989822, 13.132688946459465], [0.5567131668757519, 11.358126000390154], [13.911682071043346, 0.8963272570722504], [5.220772793442629, 1.599884841657048], [1.060801914572203, 1.7643144483177742]]\n",
      "4 2\n"
     ]
    }
   ],
   "source": [
    "#compute the distance between points\n",
    "#calculating distances between centroids\n",
    "#index for reference\n",
    "#0，6，12，18\n",
    "#1，7，13，19\n",
    "#2,8,14,20\n",
    "#3,9,15,21\n",
    "#4,10,16,22\n",
    "#5，11，17，23\n",
    "#first, we gonna find the most similar single drug response for \"Etoposide+Paclitaxel+1\t\"\n",
    "import math\n",
    "p_combi=principalDf.iloc[12,:]\n",
    "dist1=[]\n",
    "\n",
    "p=[]\n",
    "for i in range(24):\n",
    "    p.append([principalDf.iloc[i,:][0],principalDf.iloc[i,:][1]])\n",
    "dist1.append(math.dist(p[12],p[0]))\n",
    "\n",
    "dist1.append(math.dist(p[12],p[6]))\n",
    "#print(dist1)\n",
    "#conclusion, the most similar single drug response for \"Etoposide+Paclitaxel+1\t\" is \t\"Etoposide+Etoposide+1\"\n",
    "\n",
    "#then, we see the situation where the concentration decreases(still etoposide +paclitaxel)\n",
    "dist2=[]\n",
    "dist2.append(math.dist(p[13],p[1]))\n",
    "dist2.append(math.dist(p[13],p[7]))\n",
    "#print(dist2)\n",
    "#conclusion: still \"etoposide+etoposide+1\"\n",
    "\n",
    "#concentration 3\n",
    "dist3=[]\n",
    "dist3.append(math.dist(p[14],p[2]))\n",
    "dist3.append(math.dist(p[14],p[8]))\n",
    "dist3\n",
    "\n",
    "#then we just write a loop function and see the whole 6 situations\n",
    "big_dist=[]\n",
    "for i in range(6):\n",
    "    dist=[]\n",
    "    dist.append(math.dist(p[i+12],p[i]))\n",
    "    dist.append(math.dist(p[i+12],p[i+6]))\n",
    "    big_dist.append(dist)\n",
    "print(big_dist)\n",
    "counter_for_etoposide=0\n",
    "counter_for_paclitaxel=0\n",
    "for i in range(len(big_dist)):\n",
    "    if big_dist[i][0]<big_dist[i][1]:\n",
    "        counter_for_etoposide+=1\n",
    "    else:\n",
    "        counter_for_paclitaxel+=1\n",
    "print(counter_for_etoposide,counter_for_paclitaxel)\n",
    "\n",
    "\n",
    "#p1=principalDf.iloc[0,:]\n",
    "#p2=principalDf.iloc[6,:]\n",
    "\n",
    "#conclusion: etoposide is the major drug in \"etoposide+paclitaxel\" combination\n",
    "\n"
   ]
  },
  {
   "cell_type": "code",
   "execution_count": 33,
   "metadata": {},
   "outputs": [
    {
     "data": {
      "text/plain": [
       "numpy.float64"
      ]
     },
     "execution_count": 33,
     "metadata": {},
     "output_type": "execute_result"
    }
   ],
   "source": [
    "#test a datatype for debugging\n",
    "type(principalDf.iloc[0,:][0])"
   ]
  },
  {
   "cell_type": "code",
   "execution_count": 34,
   "metadata": {},
   "outputs": [
    {
     "name": "stdout",
     "output_type": "stream",
     "text": [
      "[[27.507058375436575, 6.195144199692184], [11.198050307567808, 1.2523781863850918], [19.330646067558213, 11.812078565228793], [1.0945537966083019, 14.705560630718873], [1.5319793755092015, 7.518547551359249], [1.367460166629199, 0.4448698043983311]]\n",
      "2 4\n"
     ]
    }
   ],
   "source": [
    "#find a similar single drug response for \"paclitaxel+etoposide\" combination\n",
    "\n",
    "big_dist2=[]\n",
    "for i in range(6):\n",
    "    dist=[]\n",
    "    dist.append(math.dist(p[i+18],p[i]))\n",
    "    dist.append(math.dist(p[i+18],p[i+6]))\n",
    "    big_dist2.append(dist)\n",
    "print(big_dist2)\n",
    "counter_for_etoposide2=0\n",
    "counter_for_paclitaxel2=0\n",
    "for i in range(len(big_dist2)):\n",
    "    if big_dist2[i][0]<big_dist2[i][1]:\n",
    "        counter_for_etoposide2+=1\n",
    "    else:\n",
    "        counter_for_paclitaxel2+=1\n",
    "print(counter_for_etoposide2,counter_for_paclitaxel2)"
   ]
  },
  {
   "cell_type": "code",
   "execution_count": 35,
   "metadata": {},
   "outputs": [
    {
     "name": "stdout",
     "output_type": "stream",
     "text": [
      "[3.225582258377382, 5.72758805148217]\n",
      "[8.498791486069313, 6.014327547657648]\n"
     ]
    }
   ],
   "source": [
    "#processing with the data using centroid\n",
    "#did not use centroid before because of different concentration\n",
    "#centroid_for_e=\n",
    "import math\n",
    "p_for_e=principalDf.iloc[0:6,:]\n",
    "p_for_p=principalDf.iloc[6:12,:]\n",
    "p_for_eandp=principalDf.iloc[12:18,:]\n",
    "p_for_pande=principalDf.iloc[18:24,:]\n",
    "centroid1=p_for_e.mean(axis=0)\n",
    "centroid2=p_for_p.mean(axis=0)\n",
    "centroid3=p_for_eandp.mean(axis=0)\n",
    "centroid4=p_for_pande.mean(axis=0)\n",
    "\n",
    "distance=[]\n",
    "distance2=[]\n",
    "distance.append(math.dist(centroid3,centroid1))\n",
    "distance.append(math.dist(centroid3,centroid2))\n",
    "distance2.append(math.dist(centroid4,centroid1))\n",
    "distance2.append(math.dist(centroid4,centroid2))\n",
    "print(distance)\n",
    "print(distance2)\n",
    "\n",
    "#for \"etoposide+paclitaxel\", etoposide is more similar to it\n",
    "#for \"paclitaxel+etoposide\", paclitaxel is more similar to it\n"
   ]
  },
  {
   "cell_type": "code",
   "execution_count": 36,
   "metadata": {},
   "outputs": [
    {
     "name": "stdout",
     "output_type": "stream",
     "text": [
      "(array([[0.        , 0.75156034]]), array([[12, 13]]))\n"
     ]
    }
   ],
   "source": [
    "\n",
    "#sklearn codes about knn\n",
    "from sklearn.neighbors import NearestNeighbors\n",
    "neighbor = NearestNeighbors(n_neighbors=2)\n",
    "neighbor.fit(p)\n",
    "\n",
    "print(neighbor.kneighbors([p[12]]))\n",
    "\n"
   ]
  },
  {
   "cell_type": "code",
   "execution_count": 37,
   "metadata": {},
   "outputs": [],
   "source": [
    "#before using knn, we need to process with p(add a label. drug_name. for further classification)\n",
    "#for i in range(6):\n",
    "    #print(p[i])\n",
    "\n",
    "#e_c=pd.Series([\"Etoposide\"], dtype=\"string\")\n",
    "#e_p=pd.Series([\"Paclitaxel\"], dtype=\"string\")\n",
    "#e_cp=pd.Series([\"Etoposide+Paclitaxel\"], dtype=\"string\")\n",
    "#type(e_c)\n",
    "#newdata=[]\n",
    "#for i in range(6):\n",
    "\n",
    "#    newdata.append(pd.concat([p[i],e_c]))\n",
    "#for j in range(6):\n",
    "#    newdata.append(pd.concat([p[i+6],e_p]))\n",
    "#for k in range(6):\n",
    " #   newdata.append(pd.concat([p[i+12],e_cp]))\n",
    "\n",
    "for i in range(6):\n",
    "    p[i].append('Etoposide')\n",
    "for j in range(6):\n",
    "    p[j+6].append('Paclitaxel')\n",
    "for k in range(6):\n",
    "    p[k+12].append('Etoposide+Paclitaxel')\n",
    "for m in range(6):\n",
    "    p[m+18].append(\"Paclitaxel+Etoposide\")\n",
    "\n",
    "\n",
    "\n"
   ]
  },
  {
   "cell_type": "code",
   "execution_count": 38,
   "metadata": {},
   "outputs": [],
   "source": [
    "#to show p"
   ]
  },
  {
   "cell_type": "code",
   "execution_count": 39,
   "metadata": {},
   "outputs": [
    {
     "data": {
      "text/plain": [
       "[[15.657202119414746, -0.11867710760223973, 'Etoposide'],\n",
       " [14.370540201700225, -2.0016060406294343, 'Etoposide'],\n",
       " [11.351186694943786, -4.8025914035911885, 'Etoposide'],\n",
       " [-10.886256082718754, 0.3154981658554624, 'Etoposide'],\n",
       " [-10.094572983809158, 0.0022263560023718042, 'Etoposide'],\n",
       " [-10.058760588986104, 1.1922677271706923, 'Etoposide'],\n",
       " [8.782185085909921, 27.715500185857046, 'Paclitaxel'],\n",
       " [3.9347604574789985, -8.34486558893439, 'Paclitaxel'],\n",
       " [1.012258679586837, -8.924778484315832, 'Paclitaxel'],\n",
       " [0.18822158303495407, -7.795112156265454, 'Paclitaxel'],\n",
       " [-5.965977890710594, -4.33295733101993, 'Paclitaxel'],\n",
       " [-11.576004351235591, 2.077044804403637, 'Paclitaxel']]"
      ]
     },
     "execution_count": 39,
     "metadata": {},
     "output_type": "execute_result"
    }
   ],
   "source": [
    "p2=p[:12]\n",
    "\n",
    "p2"
   ]
  },
  {
   "cell_type": "code",
   "execution_count": 40,
   "metadata": {},
   "outputs": [
    {
     "data": {
      "application/vnd.plotly.v1+json": {
       "config": {
        "plotlyServerURL": "https://plot.ly"
       },
       "data": [
        {
         "hovertemplate": "color=Etoposide+Etoposide+1<br>0=%{x}<br>1=%{y}<extra></extra>",
         "legendgroup": "Etoposide+Etoposide+1",
         "marker": {
          "color": "#636efa",
          "symbol": "circle"
         },
         "mode": "markers",
         "name": "Etoposide+Etoposide+1",
         "orientation": "v",
         "showlegend": true,
         "type": "scatter",
         "x": [
          15.753982318444336
         ],
         "xaxis": "x",
         "y": [
          -0.05865341728830795
         ],
         "yaxis": "y"
        },
        {
         "hovertemplate": "color=Etoposide+Etoposide+2<br>0=%{x}<br>1=%{y}<extra></extra>",
         "legendgroup": "Etoposide+Etoposide+2",
         "marker": {
          "color": "#EF553B",
          "symbol": "circle"
         },
         "mode": "markers",
         "name": "Etoposide+Etoposide+2",
         "orientation": "v",
         "showlegend": true,
         "type": "scatter",
         "x": [
          14.456871697036387
         ],
         "xaxis": "x",
         "y": [
          -1.9448382262762334
         ],
         "yaxis": "y"
        },
        {
         "hovertemplate": "color=Etoposide+Etoposide+3<br>0=%{x}<br>1=%{y}<extra></extra>",
         "legendgroup": "Etoposide+Etoposide+3",
         "marker": {
          "color": "#00cc96",
          "symbol": "circle"
         },
         "mode": "markers",
         "name": "Etoposide+Etoposide+3",
         "orientation": "v",
         "showlegend": true,
         "type": "scatter",
         "x": [
          11.37592394185559
         ],
         "xaxis": "x",
         "y": [
          -4.7477819569711475
         ],
         "yaxis": "y"
        },
        {
         "hovertemplate": "color=Etoposide+Etoposide+4<br>0=%{x}<br>1=%{y}<extra></extra>",
         "legendgroup": "Etoposide+Etoposide+4",
         "marker": {
          "color": "#ab63fa",
          "symbol": "circle"
         },
         "mode": "markers",
         "name": "Etoposide+Etoposide+4",
         "orientation": "v",
         "showlegend": true,
         "type": "scatter",
         "x": [
          -10.935227255699171
         ],
         "xaxis": "x",
         "y": [
          0.2702130397351504
         ],
         "yaxis": "y"
        },
        {
         "hovertemplate": "color=Etoposide+Etoposide+5<br>0=%{x}<br>1=%{y}<extra></extra>",
         "legendgroup": "Etoposide+Etoposide+5",
         "marker": {
          "color": "#FFA15A",
          "symbol": "circle"
         },
         "mode": "markers",
         "name": "Etoposide+Etoposide+5",
         "orientation": "v",
         "showlegend": true,
         "type": "scatter",
         "x": [
          -10.15288274311479
         ],
         "xaxis": "x",
         "y": [
          -0.03758543593940471
         ],
         "yaxis": "y"
        },
        {
         "hovertemplate": "color=Etoposide+Etoposide+6<br>0=%{x}<br>1=%{y}<extra></extra>",
         "legendgroup": "Etoposide+Etoposide+6",
         "marker": {
          "color": "#19d3f3",
          "symbol": "circle"
         },
         "mode": "markers",
         "name": "Etoposide+Etoposide+6",
         "orientation": "v",
         "showlegend": true,
         "type": "scatter",
         "x": [
          -10.114141064387422
         ],
         "xaxis": "x",
         "y": [
          1.151248385792283
         ],
         "yaxis": "y"
        },
        {
         "hovertemplate": "color=Paclitaxel+Paclitaxel+1<br>0=%{x}<br>1=%{y}<extra></extra>",
         "legendgroup": "Paclitaxel+Paclitaxel+1",
         "marker": {
          "color": "#FF6692",
          "symbol": "circle"
         },
         "mode": "markers",
         "name": "Paclitaxel+Paclitaxel+1",
         "orientation": "v",
         "showlegend": true,
         "type": "scatter",
         "x": [
          8.570207414818132
         ],
         "xaxis": "x",
         "y": [
          27.769736349937812
         ],
         "yaxis": "y"
        },
        {
         "hovertemplate": "color=Paclitaxel+Paclitaxel+2<br>0=%{x}<br>1=%{y}<extra></extra>",
         "legendgroup": "Paclitaxel+Paclitaxel+2",
         "marker": {
          "color": "#B6E880",
          "symbol": "circle"
         },
         "mode": "markers",
         "name": "Paclitaxel+Paclitaxel+2",
         "orientation": "v",
         "showlegend": true,
         "type": "scatter",
         "x": [
          4.0325445594480795
         ],
         "xaxis": "x",
         "y": [
          -8.33396660864296
         ],
         "yaxis": "y"
        },
        {
         "hovertemplate": "color=Paclitaxel+Paclitaxel+3<br>0=%{x}<br>1=%{y}<extra></extra>",
         "legendgroup": "Paclitaxel+Paclitaxel+3",
         "marker": {
          "color": "#FF97FF",
          "symbol": "circle"
         },
         "mode": "markers",
         "name": "Paclitaxel+Paclitaxel+3",
         "orientation": "v",
         "showlegend": true,
         "type": "scatter",
         "x": [
          1.056893367367816
         ],
         "xaxis": "x",
         "y": [
          -8.91957482550604
         ],
         "yaxis": "y"
        },
        {
         "hovertemplate": "color=Paclitaxel+Paclitaxel+4<br>0=%{x}<br>1=%{y}<extra></extra>",
         "legendgroup": "Paclitaxel+Paclitaxel+4",
         "marker": {
          "color": "#FECB52",
          "symbol": "circle"
         },
         "mode": "markers",
         "name": "Paclitaxel+Paclitaxel+4",
         "orientation": "v",
         "showlegend": true,
         "type": "scatter",
         "x": [
          0.20238777733634503
         ],
         "xaxis": "x",
         "y": [
          -7.790367477390663
         ],
         "yaxis": "y"
        },
        {
         "hovertemplate": "color=Paclitaxel+Paclitaxel+5<br>0=%{x}<br>1=%{y}<extra></extra>",
         "legendgroup": "Paclitaxel+Paclitaxel+5",
         "marker": {
          "color": "#636efa",
          "symbol": "circle"
         },
         "mode": "markers",
         "name": "Paclitaxel+Paclitaxel+5",
         "orientation": "v",
         "showlegend": true,
         "type": "scatter",
         "x": [
          -5.973895865193983
         ],
         "xaxis": "x",
         "y": [
          -4.3569737550671706
         ],
         "yaxis": "y"
        },
        {
         "hovertemplate": "color=Paclitaxel+Paclitaxel+6<br>0=%{x}<br>1=%{y}<extra></extra>",
         "legendgroup": "Paclitaxel+Paclitaxel+6",
         "marker": {
          "color": "#EF553B",
          "symbol": "circle"
         },
         "mode": "markers",
         "name": "Paclitaxel+Paclitaxel+6",
         "orientation": "v",
         "showlegend": true,
         "type": "scatter",
         "x": [
          -11.63836339777419
         ],
         "xaxis": "x",
         "y": [
          2.0290427522974923
         ],
         "yaxis": "y"
        },
        {
         "hovertemplate": "color=Etoposide+Paclitaxel+1<br>0=%{x}<br>1=%{y}<extra></extra>",
         "legendgroup": "Etoposide+Paclitaxel+1",
         "marker": {
          "color": "#00cc96",
          "symbol": "circle"
         },
         "mode": "markers",
         "name": "Etoposide+Paclitaxel+1",
         "orientation": "v",
         "showlegend": true,
         "type": "scatter",
         "x": [
          14.615620842347756
         ],
         "xaxis": "x",
         "y": [
          -1.1229545453262881
         ],
         "yaxis": "y"
        },
        {
         "hovertemplate": "color=Etoposide+Paclitaxel+2<br>0=%{x}<br>1=%{y}<extra></extra>",
         "legendgroup": "Etoposide+Paclitaxel+2",
         "marker": {
          "color": "#ab63fa",
          "symbol": "circle"
         },
         "mode": "markers",
         "name": "Etoposide+Paclitaxel+2",
         "orientation": "v",
         "showlegend": true,
         "type": "scatter",
         "x": [
          15.26918480399144
         ],
         "xaxis": "x",
         "y": [
          -1.484679587263526
         ],
         "yaxis": "y"
        },
        {
         "hovertemplate": "color=Etoposide+Paclitaxel+3<br>0=%{x}<br>1=%{y}<extra></extra>",
         "legendgroup": "Etoposide+Paclitaxel+3",
         "marker": {
          "color": "#FFA15A",
          "symbol": "circle"
         },
         "mode": "markers",
         "name": "Etoposide+Paclitaxel+3",
         "orientation": "v",
         "showlegend": true,
         "type": "scatter",
         "x": [
          11.807741445826478
         ],
         "xaxis": "x",
         "y": [
          -5.1487184023681785
         ],
         "yaxis": "y"
        },
        {
         "hovertemplate": "color=Etoposide+Paclitaxel+4<br>0=%{x}<br>1=%{y}<extra></extra>",
         "legendgroup": "Etoposide+Paclitaxel+4",
         "marker": {
          "color": "#19d3f3",
          "symbol": "circle"
         },
         "mode": "markers",
         "name": "Etoposide+Paclitaxel+4",
         "orientation": "v",
         "showlegend": true,
         "type": "scatter",
         "x": [
          0.8524741834306739
         ],
         "xaxis": "x",
         "y": [
          -7.168648274159293
         ],
         "yaxis": "y"
        },
        {
         "hovertemplate": "color=Etoposide+Paclitaxel+5<br>0=%{x}<br>1=%{y}<extra></extra>",
         "legendgroup": "Etoposide+Paclitaxel+5",
         "marker": {
          "color": "#FF6692",
          "symbol": "circle"
         },
         "mode": "markers",
         "name": "Etoposide+Paclitaxel+5",
         "orientation": "v",
         "showlegend": true,
         "type": "scatter",
         "x": [
          -5.68079271444351
         ],
         "xaxis": "x",
         "y": [
          -2.784295707637487
         ],
         "yaxis": "y"
        },
        {
         "hovertemplate": "color=Etoposide+Paclitaxel+6<br>0=%{x}<br>1=%{y}<extra></extra>",
         "legendgroup": "Etoposide+Paclitaxel+6",
         "marker": {
          "color": "#B6E880",
          "symbol": "circle"
         },
         "mode": "markers",
         "name": "Etoposide+Paclitaxel+6",
         "orientation": "v",
         "showlegend": true,
         "type": "scatter",
         "x": [
          -9.871952752576892
         ],
         "xaxis": "x",
         "y": [
          2.184532426726524
         ],
         "yaxis": "y"
        },
        {
         "hovertemplate": "color=Paclitaxel+Etoposide+1<br>0=%{x}<br>1=%{y}<extra></extra>",
         "legendgroup": "Paclitaxel+Etoposide+1",
         "marker": {
          "color": "#FF97FF",
          "symbol": "circle"
         },
         "mode": "markers",
         "name": "Paclitaxel+Etoposide+1",
         "orientation": "v",
         "showlegend": true,
         "type": "scatter",
         "x": [
          3.444152125566679
         ],
         "xaxis": "x",
         "y": [
          24.540098945218258
         ],
         "yaxis": "y"
        },
        {
         "hovertemplate": "color=Paclitaxel+Etoposide+2<br>0=%{x}<br>1=%{y}<extra></extra>",
         "legendgroup": "Paclitaxel+Etoposide+2",
         "marker": {
          "color": "#FECB52",
          "symbol": "circle"
         },
         "mode": "markers",
         "name": "Paclitaxel+Etoposide+2",
         "orientation": "v",
         "showlegend": true,
         "type": "scatter",
         "x": [
          4.524916436884396
         ],
         "xaxis": "x",
         "y": [
          -7.18896272922818
         ],
         "yaxis": "y"
        },
        {
         "hovertemplate": "color=Paclitaxel+Etoposide+3<br>0=%{x}<br>1=%{y}<extra></extra>",
         "legendgroup": "Paclitaxel+Etoposide+3",
         "marker": {
          "color": "#636efa",
          "symbol": "circle"
         },
         "mode": "markers",
         "name": "Paclitaxel+Etoposide+3",
         "orientation": "v",
         "showlegend": true,
         "type": "scatter",
         "x": [
          -7.589068721647181
         ],
         "xaxis": "x",
         "y": [
          -0.8298619242406382
         ],
         "yaxis": "y"
        },
        {
         "hovertemplate": "color=Paclitaxel+Etoposide+4<br>0=%{x}<br>1=%{y}<extra></extra>",
         "legendgroup": "Paclitaxel+Etoposide+4",
         "marker": {
          "color": "#EF553B",
          "symbol": "circle"
         },
         "mode": "markers",
         "name": "Paclitaxel+Etoposide+4",
         "orientation": "v",
         "showlegend": true,
         "type": "scatter",
         "x": [
          -11.427331081869774
         ],
         "xaxis": "x",
         "y": [
          1.250728697647142
         ],
         "yaxis": "y"
        },
        {
         "hovertemplate": "color=Paclitaxel+Etoposide+5<br>0=%{x}<br>1=%{y}<extra></extra>",
         "legendgroup": "Paclitaxel+Etoposide+5",
         "marker": {
          "color": "#00cc96",
          "symbol": "circle"
         },
         "mode": "markers",
         "name": "Paclitaxel+Etoposide+5",
         "orientation": "v",
         "showlegend": true,
         "type": "scatter",
         "x": [
          -11.202249629057198
         ],
         "xaxis": "x",
         "y": [
          1.0599054035923223
         ],
         "yaxis": "y"
        },
        {
         "hovertemplate": "color=Paclitaxel+Etoposide+6<br>0=%{x}<br>1=%{y}<extra></extra>",
         "legendgroup": "Paclitaxel+Etoposide+6",
         "marker": {
          "color": "#ab63fa",
          "symbol": "circle"
         },
         "mode": "markers",
         "name": "Paclitaxel+Etoposide+6",
         "orientation": "v",
         "showlegend": true,
         "type": "scatter",
         "x": [
          -11.376995688589995
         ],
         "xaxis": "x",
         "y": [
          1.6623568723585573
         ],
         "yaxis": "y"
        }
       ],
       "layout": {
        "legend": {
         "title": {
          "text": "color"
         },
         "tracegroupgap": 0
        },
        "margin": {
         "t": 60
        },
        "template": {
         "data": {
          "bar": [
           {
            "error_x": {
             "color": "#2a3f5f"
            },
            "error_y": {
             "color": "#2a3f5f"
            },
            "marker": {
             "line": {
              "color": "#E5ECF6",
              "width": 0.5
             },
             "pattern": {
              "fillmode": "overlay",
              "size": 10,
              "solidity": 0.2
             }
            },
            "type": "bar"
           }
          ],
          "barpolar": [
           {
            "marker": {
             "line": {
              "color": "#E5ECF6",
              "width": 0.5
             },
             "pattern": {
              "fillmode": "overlay",
              "size": 10,
              "solidity": 0.2
             }
            },
            "type": "barpolar"
           }
          ],
          "carpet": [
           {
            "aaxis": {
             "endlinecolor": "#2a3f5f",
             "gridcolor": "white",
             "linecolor": "white",
             "minorgridcolor": "white",
             "startlinecolor": "#2a3f5f"
            },
            "baxis": {
             "endlinecolor": "#2a3f5f",
             "gridcolor": "white",
             "linecolor": "white",
             "minorgridcolor": "white",
             "startlinecolor": "#2a3f5f"
            },
            "type": "carpet"
           }
          ],
          "choropleth": [
           {
            "colorbar": {
             "outlinewidth": 0,
             "ticks": ""
            },
            "type": "choropleth"
           }
          ],
          "contour": [
           {
            "colorbar": {
             "outlinewidth": 0,
             "ticks": ""
            },
            "colorscale": [
             [
              0,
              "#0d0887"
             ],
             [
              0.1111111111111111,
              "#46039f"
             ],
             [
              0.2222222222222222,
              "#7201a8"
             ],
             [
              0.3333333333333333,
              "#9c179e"
             ],
             [
              0.4444444444444444,
              "#bd3786"
             ],
             [
              0.5555555555555556,
              "#d8576b"
             ],
             [
              0.6666666666666666,
              "#ed7953"
             ],
             [
              0.7777777777777778,
              "#fb9f3a"
             ],
             [
              0.8888888888888888,
              "#fdca26"
             ],
             [
              1,
              "#f0f921"
             ]
            ],
            "type": "contour"
           }
          ],
          "contourcarpet": [
           {
            "colorbar": {
             "outlinewidth": 0,
             "ticks": ""
            },
            "type": "contourcarpet"
           }
          ],
          "heatmap": [
           {
            "colorbar": {
             "outlinewidth": 0,
             "ticks": ""
            },
            "colorscale": [
             [
              0,
              "#0d0887"
             ],
             [
              0.1111111111111111,
              "#46039f"
             ],
             [
              0.2222222222222222,
              "#7201a8"
             ],
             [
              0.3333333333333333,
              "#9c179e"
             ],
             [
              0.4444444444444444,
              "#bd3786"
             ],
             [
              0.5555555555555556,
              "#d8576b"
             ],
             [
              0.6666666666666666,
              "#ed7953"
             ],
             [
              0.7777777777777778,
              "#fb9f3a"
             ],
             [
              0.8888888888888888,
              "#fdca26"
             ],
             [
              1,
              "#f0f921"
             ]
            ],
            "type": "heatmap"
           }
          ],
          "heatmapgl": [
           {
            "colorbar": {
             "outlinewidth": 0,
             "ticks": ""
            },
            "colorscale": [
             [
              0,
              "#0d0887"
             ],
             [
              0.1111111111111111,
              "#46039f"
             ],
             [
              0.2222222222222222,
              "#7201a8"
             ],
             [
              0.3333333333333333,
              "#9c179e"
             ],
             [
              0.4444444444444444,
              "#bd3786"
             ],
             [
              0.5555555555555556,
              "#d8576b"
             ],
             [
              0.6666666666666666,
              "#ed7953"
             ],
             [
              0.7777777777777778,
              "#fb9f3a"
             ],
             [
              0.8888888888888888,
              "#fdca26"
             ],
             [
              1,
              "#f0f921"
             ]
            ],
            "type": "heatmapgl"
           }
          ],
          "histogram": [
           {
            "marker": {
             "pattern": {
              "fillmode": "overlay",
              "size": 10,
              "solidity": 0.2
             }
            },
            "type": "histogram"
           }
          ],
          "histogram2d": [
           {
            "colorbar": {
             "outlinewidth": 0,
             "ticks": ""
            },
            "colorscale": [
             [
              0,
              "#0d0887"
             ],
             [
              0.1111111111111111,
              "#46039f"
             ],
             [
              0.2222222222222222,
              "#7201a8"
             ],
             [
              0.3333333333333333,
              "#9c179e"
             ],
             [
              0.4444444444444444,
              "#bd3786"
             ],
             [
              0.5555555555555556,
              "#d8576b"
             ],
             [
              0.6666666666666666,
              "#ed7953"
             ],
             [
              0.7777777777777778,
              "#fb9f3a"
             ],
             [
              0.8888888888888888,
              "#fdca26"
             ],
             [
              1,
              "#f0f921"
             ]
            ],
            "type": "histogram2d"
           }
          ],
          "histogram2dcontour": [
           {
            "colorbar": {
             "outlinewidth": 0,
             "ticks": ""
            },
            "colorscale": [
             [
              0,
              "#0d0887"
             ],
             [
              0.1111111111111111,
              "#46039f"
             ],
             [
              0.2222222222222222,
              "#7201a8"
             ],
             [
              0.3333333333333333,
              "#9c179e"
             ],
             [
              0.4444444444444444,
              "#bd3786"
             ],
             [
              0.5555555555555556,
              "#d8576b"
             ],
             [
              0.6666666666666666,
              "#ed7953"
             ],
             [
              0.7777777777777778,
              "#fb9f3a"
             ],
             [
              0.8888888888888888,
              "#fdca26"
             ],
             [
              1,
              "#f0f921"
             ]
            ],
            "type": "histogram2dcontour"
           }
          ],
          "mesh3d": [
           {
            "colorbar": {
             "outlinewidth": 0,
             "ticks": ""
            },
            "type": "mesh3d"
           }
          ],
          "parcoords": [
           {
            "line": {
             "colorbar": {
              "outlinewidth": 0,
              "ticks": ""
             }
            },
            "type": "parcoords"
           }
          ],
          "pie": [
           {
            "automargin": true,
            "type": "pie"
           }
          ],
          "scatter": [
           {
            "fillpattern": {
             "fillmode": "overlay",
             "size": 10,
             "solidity": 0.2
            },
            "type": "scatter"
           }
          ],
          "scatter3d": [
           {
            "line": {
             "colorbar": {
              "outlinewidth": 0,
              "ticks": ""
             }
            },
            "marker": {
             "colorbar": {
              "outlinewidth": 0,
              "ticks": ""
             }
            },
            "type": "scatter3d"
           }
          ],
          "scattercarpet": [
           {
            "marker": {
             "colorbar": {
              "outlinewidth": 0,
              "ticks": ""
             }
            },
            "type": "scattercarpet"
           }
          ],
          "scattergeo": [
           {
            "marker": {
             "colorbar": {
              "outlinewidth": 0,
              "ticks": ""
             }
            },
            "type": "scattergeo"
           }
          ],
          "scattergl": [
           {
            "marker": {
             "colorbar": {
              "outlinewidth": 0,
              "ticks": ""
             }
            },
            "type": "scattergl"
           }
          ],
          "scattermapbox": [
           {
            "marker": {
             "colorbar": {
              "outlinewidth": 0,
              "ticks": ""
             }
            },
            "type": "scattermapbox"
           }
          ],
          "scatterpolar": [
           {
            "marker": {
             "colorbar": {
              "outlinewidth": 0,
              "ticks": ""
             }
            },
            "type": "scatterpolar"
           }
          ],
          "scatterpolargl": [
           {
            "marker": {
             "colorbar": {
              "outlinewidth": 0,
              "ticks": ""
             }
            },
            "type": "scatterpolargl"
           }
          ],
          "scatterternary": [
           {
            "marker": {
             "colorbar": {
              "outlinewidth": 0,
              "ticks": ""
             }
            },
            "type": "scatterternary"
           }
          ],
          "surface": [
           {
            "colorbar": {
             "outlinewidth": 0,
             "ticks": ""
            },
            "colorscale": [
             [
              0,
              "#0d0887"
             ],
             [
              0.1111111111111111,
              "#46039f"
             ],
             [
              0.2222222222222222,
              "#7201a8"
             ],
             [
              0.3333333333333333,
              "#9c179e"
             ],
             [
              0.4444444444444444,
              "#bd3786"
             ],
             [
              0.5555555555555556,
              "#d8576b"
             ],
             [
              0.6666666666666666,
              "#ed7953"
             ],
             [
              0.7777777777777778,
              "#fb9f3a"
             ],
             [
              0.8888888888888888,
              "#fdca26"
             ],
             [
              1,
              "#f0f921"
             ]
            ],
            "type": "surface"
           }
          ],
          "table": [
           {
            "cells": {
             "fill": {
              "color": "#EBF0F8"
             },
             "line": {
              "color": "white"
             }
            },
            "header": {
             "fill": {
              "color": "#C8D4E3"
             },
             "line": {
              "color": "white"
             }
            },
            "type": "table"
           }
          ]
         },
         "layout": {
          "annotationdefaults": {
           "arrowcolor": "#2a3f5f",
           "arrowhead": 0,
           "arrowwidth": 1
          },
          "autotypenumbers": "strict",
          "coloraxis": {
           "colorbar": {
            "outlinewidth": 0,
            "ticks": ""
           }
          },
          "colorscale": {
           "diverging": [
            [
             0,
             "#8e0152"
            ],
            [
             0.1,
             "#c51b7d"
            ],
            [
             0.2,
             "#de77ae"
            ],
            [
             0.3,
             "#f1b6da"
            ],
            [
             0.4,
             "#fde0ef"
            ],
            [
             0.5,
             "#f7f7f7"
            ],
            [
             0.6,
             "#e6f5d0"
            ],
            [
             0.7,
             "#b8e186"
            ],
            [
             0.8,
             "#7fbc41"
            ],
            [
             0.9,
             "#4d9221"
            ],
            [
             1,
             "#276419"
            ]
           ],
           "sequential": [
            [
             0,
             "#0d0887"
            ],
            [
             0.1111111111111111,
             "#46039f"
            ],
            [
             0.2222222222222222,
             "#7201a8"
            ],
            [
             0.3333333333333333,
             "#9c179e"
            ],
            [
             0.4444444444444444,
             "#bd3786"
            ],
            [
             0.5555555555555556,
             "#d8576b"
            ],
            [
             0.6666666666666666,
             "#ed7953"
            ],
            [
             0.7777777777777778,
             "#fb9f3a"
            ],
            [
             0.8888888888888888,
             "#fdca26"
            ],
            [
             1,
             "#f0f921"
            ]
           ],
           "sequentialminus": [
            [
             0,
             "#0d0887"
            ],
            [
             0.1111111111111111,
             "#46039f"
            ],
            [
             0.2222222222222222,
             "#7201a8"
            ],
            [
             0.3333333333333333,
             "#9c179e"
            ],
            [
             0.4444444444444444,
             "#bd3786"
            ],
            [
             0.5555555555555556,
             "#d8576b"
            ],
            [
             0.6666666666666666,
             "#ed7953"
            ],
            [
             0.7777777777777778,
             "#fb9f3a"
            ],
            [
             0.8888888888888888,
             "#fdca26"
            ],
            [
             1,
             "#f0f921"
            ]
           ]
          },
          "colorway": [
           "#636efa",
           "#EF553B",
           "#00cc96",
           "#ab63fa",
           "#FFA15A",
           "#19d3f3",
           "#FF6692",
           "#B6E880",
           "#FF97FF",
           "#FECB52"
          ],
          "font": {
           "color": "#2a3f5f"
          },
          "geo": {
           "bgcolor": "white",
           "lakecolor": "white",
           "landcolor": "#E5ECF6",
           "showlakes": true,
           "showland": true,
           "subunitcolor": "white"
          },
          "hoverlabel": {
           "align": "left"
          },
          "hovermode": "closest",
          "mapbox": {
           "style": "light"
          },
          "paper_bgcolor": "white",
          "plot_bgcolor": "#E5ECF6",
          "polar": {
           "angularaxis": {
            "gridcolor": "white",
            "linecolor": "white",
            "ticks": ""
           },
           "bgcolor": "#E5ECF6",
           "radialaxis": {
            "gridcolor": "white",
            "linecolor": "white",
            "ticks": ""
           }
          },
          "scene": {
           "xaxis": {
            "backgroundcolor": "#E5ECF6",
            "gridcolor": "white",
            "gridwidth": 2,
            "linecolor": "white",
            "showbackground": true,
            "ticks": "",
            "zerolinecolor": "white"
           },
           "yaxis": {
            "backgroundcolor": "#E5ECF6",
            "gridcolor": "white",
            "gridwidth": 2,
            "linecolor": "white",
            "showbackground": true,
            "ticks": "",
            "zerolinecolor": "white"
           },
           "zaxis": {
            "backgroundcolor": "#E5ECF6",
            "gridcolor": "white",
            "gridwidth": 2,
            "linecolor": "white",
            "showbackground": true,
            "ticks": "",
            "zerolinecolor": "white"
           }
          },
          "shapedefaults": {
           "line": {
            "color": "#2a3f5f"
           }
          },
          "ternary": {
           "aaxis": {
            "gridcolor": "white",
            "linecolor": "white",
            "ticks": ""
           },
           "baxis": {
            "gridcolor": "white",
            "linecolor": "white",
            "ticks": ""
           },
           "bgcolor": "#E5ECF6",
           "caxis": {
            "gridcolor": "white",
            "linecolor": "white",
            "ticks": ""
           }
          },
          "title": {
           "x": 0.05
          },
          "xaxis": {
           "automargin": true,
           "gridcolor": "white",
           "linecolor": "white",
           "ticks": "",
           "title": {
            "standoff": 15
           },
           "zerolinecolor": "white",
           "zerolinewidth": 2
          },
          "yaxis": {
           "automargin": true,
           "gridcolor": "white",
           "linecolor": "white",
           "ticks": "",
           "title": {
            "standoff": 15
           },
           "zerolinecolor": "white",
           "zerolinewidth": 2
          }
         }
        },
        "xaxis": {
         "anchor": "y",
         "domain": [
          0,
          1
         ],
         "title": {
          "text": "0"
         }
        },
        "yaxis": {
         "anchor": "x",
         "domain": [
          0,
          1
         ],
         "title": {
          "text": "1"
         }
        }
       }
      }
     },
     "metadata": {},
     "output_type": "display_data"
    }
   ],
   "source": [
    "#visualization(not the main work; just for getting an intuition)\n",
    "#pca model\n",
    "\n",
    "import pandas as pd\n",
    "import plotly.express as px\n",
    "from sklearn.decomposition import PCA\n",
    "from sklearn.preprocessing import StandardScaler\n",
    "\n",
    "\n",
    "X_drug = e_and_p.iloc[:, 2:240].values\n",
    "\n",
    "X_drug = StandardScaler().fit_transform(X_drug)\n",
    "\n",
    "pca_drug = PCA(n_components=2)\n",
    "components = pca_drug.fit_transform(X_drug)\n",
    "\n",
    "\n",
    "\n",
    "fig = px.scatter(components, x=0, y=1, color=e_and_p['drug_name'])\n",
    "fig.show()"
   ]
  },
  {
   "cell_type": "code",
   "execution_count": 41,
   "metadata": {},
   "outputs": [
    {
     "name": "stdout",
     "output_type": "stream",
     "text": [
      "[4.462550767401914, -2.605222366071501, 'Etoposide+Paclitaxel']\n"
     ]
    }
   ],
   "source": [
    "def get_centroid(point_lst):\n",
    "    x_sum=0\n",
    "    y_sum=0\n",
    "    for i in range(len(point_lst)):\n",
    "        x_sum+=point_lst[i][0]\n",
    "        y_sum+=point_lst[i][1]\n",
    "\n",
    "    x_mean=x_sum/len(point_lst)\n",
    "    y_mean=y_sum/len(point_lst)\n",
    "    centroid=[]\n",
    "    centroid.append(x_mean)\n",
    "    centroid.append(y_mean)\n",
    "    centroid.append(point_lst[0][-1])\n",
    "    return centroid\n",
    "print(get_centroid(p[12:18]))\n"
   ]
  },
  {
   "cell_type": "code",
   "execution_count": 42,
   "metadata": {},
   "outputs": [
    {
     "name": "stdout",
     "output_type": "stream",
     "text": [
      "The single drug response that is similar to \" Paclitaxel+Etoposide \" is: Paclitaxel.\n"
     ]
    }
   ],
   "source": [
    "# hand-written codes about knn\n",
    "# knn codes here: I picked many k values, and pick the most frequent results\n",
    "# (results according to different k values situations)\n",
    "# 1 euclidean distance\n",
    "# Example of calculating Euclidean distance\n",
    "from math import sqrt\n",
    " \n",
    "# calculate the Euclidean distance between two vectors\n",
    "def euclidean_distance(row1, row2):\n",
    "\tdistance = 0.0\n",
    "\tfor i in range(len(row1)-1):\n",
    "\t\tdistance += (row1[i] - row2[i])**2\n",
    "\treturn sqrt(distance)\n",
    "# Locate the most similar neighbors\n",
    "def get_neighbors(train, test_row, num_neighbors):\n",
    "\tdistances = list()\n",
    "\tfor train_row in train:\n",
    "\t\tdist = euclidean_distance(test_row, train_row)\n",
    "\t\tdistances.append((train_row, dist))\n",
    "\tdistances.sort(key=lambda tup: tup[1])\n",
    "\tneighbors = list()\n",
    "\tfor i in range(num_neighbors):\n",
    "\t\tneighbors.append(distances[i][0])\n",
    "\treturn neighbors\n",
    "\n",
    "# Make a classification prediction with neighbors\n",
    "def predict_classification(train, test_row, num_neighbors):\n",
    "    \t\n",
    "\tneighbors = get_neighbors(train, test_row, num_neighbors)\n",
    "\toutput_values = [row[-1] for row in neighbors]\n",
    "\tprediction = max(set(output_values), key=output_values.count)\n",
    "\treturn prediction\n",
    " \n",
    "# Test distance function\n",
    "\n",
    "#row0 = p[12]\n",
    "#for row in p:\n",
    "#\tdistance = euclidean_distance(row0, row)\n",
    "\t#print(distance)\n",
    "neighbors = get_neighbors(p2, p[12], 3)\n",
    "#for neighbor in neighbors:\n",
    "\t#print(neighbor)\n",
    "#neighbors2=get_neighbors(newdata,newdata[12],3)\n",
    "#prediction = predict_classification(p2, p[12], 3)\n",
    "#print('The single drug response that is similar to \" %s \" is: %s.' % (p[12][-1], prediction))\n",
    "#prediction = predict_classification(p2, p[12], 4)\n",
    "#print('The single drug response that is similar to \" %s \" is: %s.' % (p[12][-1], prediction))\n",
    "#prediction = predict_classification(p2, p[12], 5)\n",
    "#print('The single drug response that is similar to \" %s \" is: %s.' % (p[12][-1], prediction))\n",
    "#prediction = predict_classification(p2, p[12], 6)\n",
    "#print('The single drug response that is similar to \" %s \" is: %s.' % (p[12][-1], prediction))\n",
    "#prediction = predict_classification(p2, p[12], 7)\n",
    "#print('The single drug response that is similar to \" %s \" is: %s.' % (p[12][-1], prediction))\n",
    "centroid_ep=get_centroid(p[12:18])\n",
    "#prediction = predict_classification(p2, centroid_ep, 3)\n",
    "#print('The single drug response that is similar to \" %s \" is: %s.' % (centroid_ep[-1], prediction))\n",
    "centroid_pe=get_centroid(p[18:24])\n",
    "new_lst=[]\n",
    "new_lst.append(centroid_pe)\n",
    "new_lst.append(centroid_ep)\n",
    "new_centroid=get_centroid(new_lst)\n",
    "#prediction = predict_classification(p2, centroid_pe, 3)\n",
    "#print('The single drug response that is similar to \" %s \" is: %s.' % (centroid_pe[-1], prediction))\n",
    "#print(new_centroid)\n",
    "res=[]\n",
    "for i in range(1,13):\n",
    "    res.append(predict_classification(p2, new_centroid, i))\n",
    "#prediction = predict_classification(p2, new_centroid, 12)\n",
    "#print('The single drug response that is similar to \" %s \" is: %s.' % (new_centroid[-1], prediction))\n",
    "\n",
    "\n",
    "def more_frequent_res(lst):\n",
    "    \t\n",
    "\tcnt1=0\n",
    "\tcnt2=0\n",
    "\tfor i in range(len(lst)):\n",
    "\t\tif lst[i]=='Paclitaxel':\n",
    "\t\t\t\tcnt1+=1\n",
    "\t\telif lst[i]=='Etoposide':\n",
    "\t\t\t\tcnt2+=1\n",
    "\tif cnt1>cnt2: return 'Paclitaxel'\n",
    "\telse: return 'Etoposide'\n",
    "\n",
    "res2=more_frequent_res(res)\n",
    "#print(res2)\n",
    "print('The single drug response that is similar to \" %s \" is: %s.' %(new_centroid[-1],res2))\n",
    "\t\t\n",
    "\n"
   ]
  },
  {
   "cell_type": "code",
   "execution_count": 43,
   "metadata": {},
   "outputs": [],
   "source": [
    "#find similar drug response\n"
   ]
  },
  {
   "cell_type": "code",
   "execution_count": null,
   "metadata": {},
   "outputs": [],
   "source": []
  }
 ],
 "metadata": {
  "kernelspec": {
   "display_name": "Python 3.8.5 ('base')",
   "language": "python",
   "name": "python3"
  },
  "language_info": {
   "codemirror_mode": {
    "name": "ipython",
    "version": 3
   },
   "file_extension": ".py",
   "mimetype": "text/x-python",
   "name": "python",
   "nbconvert_exporter": "python",
   "pygments_lexer": "ipython3",
   "version": "3.8.5"
  },
  "vscode": {
   "interpreter": {
    "hash": "40d3a090f54c6569ab1632332b64b2c03c39dcf918b08424e98f38b5ae0af88f"
   }
  }
 },
 "nbformat": 4,
 "nbformat_minor": 4
}

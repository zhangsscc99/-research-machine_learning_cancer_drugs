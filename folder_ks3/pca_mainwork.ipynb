{
 "cells": [
  {
   "cell_type": "code",
   "execution_count": 1,
   "metadata": {},
   "outputs": [],
   "source": [
    "#a code block that deals with concentration and drug names\n",
    "#we do not use this block for now.\n",
    "#this is for \"timepoint 3\" version data.\n",
    "\n",
    "import pandas as pd\n",
    "f1 = pd.read_csv('B.csv')\n",
    "f2 = pd.read_csv('C.csv')\n",
    "f3=pd.read_csv('D.csv')\n",
    "f4=pd.read_csv('E.csv')\n",
    "f5=pd.read_csv('A_ks3.csv')\n",
    "file = [f1,f2,f3,f5]\n",
    "train = pd.concat(file,axis=1)\n",
    "train.to_csv(\"train.csv\", index=0, sep=',')\n"
   ]
  },
  {
   "cell_type": "code",
   "execution_count": 2,
   "metadata": {},
   "outputs": [
    {
     "name": "stdout",
     "output_type": "stream",
     "text": [
      "-0.294442\n"
     ]
    }
   ],
   "source": [
    "#do some further processing with \"A\" because there are some data error in it\n",
    "def remove_extradots(string):\n",
    "    counter=0\n",
    "    lst=[]\n",
    "    for i in range(len(string)):\n",
    "        if string[i]=='.' and counter<1 :\n",
    "            lst.append(string[i])\n",
    "            counter+=1\n",
    "        elif string[i]!='.':\n",
    "            lst.append(string[i])\n",
    "    res=\"\".join(lst)\n",
    "    return res\n",
    "\n",
    "\n",
    "\n",
    "import csv\n",
    "res_list=[]\n",
    "print(remove_extradots(\"-0.29444.2\"))\n",
    "with open('A_ks3.csv') as file2:\n",
    "    reader=csv.reader(file2)\n",
    "\n",
    "    for row in reader:\n",
    "        data=[]\n",
    "        for i in range(len(row)):\n",
    "            \n",
    "            data.append(remove_extradots(row[i]))\n",
    "        res_list.append(data)\n",
    "    \n",
    "\n",
    "\n",
    "with open('modified_A.csv', 'w') as file3:\n",
    "    writer = csv.writer(file3)\n",
    "    writer.writerows(res_list)\n",
    "file3.close()\n",
    "                \n"
   ]
  },
  {
   "cell_type": "code",
   "execution_count": 3,
   "metadata": {},
   "outputs": [
    {
     "data": {
      "text/plain": [
       "(767, 239)"
      ]
     },
     "execution_count": 3,
     "metadata": {},
     "output_type": "execute_result"
    }
   ],
   "source": [
    "#test file A\n",
    "import pandas as pd\n",
    "df_A=pd.read_csv(\"A_ks3.csv\")\n",
    "df_A.shape\n",
    "#df_A2=pd.read_csv(\"A_modified.csv\")\n",
    "#df_A2.shape\n"
   ]
  },
  {
   "cell_type": "code",
   "execution_count": 4,
   "metadata": {},
   "outputs": [],
   "source": [
    "#a block that is used to concate the drug names(drug combinations and related concentration)\n",
    "\n",
    "import csv\n",
    "res_list=[]\n",
    "with open('train.csv', 'r') as file:\n",
    "    reader = csv.reader(file)\n",
    "    \n",
    "    for row in reader:\n",
    "        data=[]\n",
    "        data.append(row[0]+'+'+row[1]+\"+\"+row[2])\n",
    "        res_list.append(data)\n",
    "\n",
    "        \n",
    "        \n",
    "with open('concatenated.csv', 'w') as file2:\n",
    "    writer = csv.writer(file2)\n",
    "    writer.writerows(res_list)"
   ]
  },
  {
   "cell_type": "code",
   "execution_count": 5,
   "metadata": {},
   "outputs": [],
   "source": [
    "#a block that is used to concate concentration and ks numbers.\n",
    "import pandas as pd\n",
    "f1 = pd.read_csv('concatenated.csv')\n",
    "#f2 = pd.read_csv('C.csv')\n",
    "f3=pd.read_csv('D.csv')\n",
    "f4=pd.read_csv('E.csv')\n",
    "f5=pd.read_csv('modified_A.csv')\n",
    "file = [f1,f5]\n",
    "train = pd.concat(file,axis=1)\n",
    "train.to_csv(\"train3.csv\", index=0, sep=',')"
   ]
  },
  {
   "cell_type": "code",
   "execution_count": 6,
   "metadata": {},
   "outputs": [],
   "source": [
    "#a block that sets the fields for the drug data\n",
    "import csv\n",
    "fields=['drug_name','default']\n",
    "for i in range(1,239):\n",
    "    fields.append('ks'+str(i))\n",
    "rows=[]\n",
    "with open('train3.csv', 'r') as file:\n",
    "    reader = csv.reader(file)\n",
    "    \n",
    "    for row in reader:\n",
    "        rows.append(row)\n",
    "\n",
    "        \n",
    "        \n",
    "with open('drug_withfields2.csv', 'w') as file2:\n",
    "    writer = csv.writer(file2)\n",
    "    writer.writerow(fields)\n",
    "    writer.writerows(rows)"
   ]
  },
  {
   "cell_type": "code",
   "execution_count": 7,
   "metadata": {},
   "outputs": [
    {
     "name": "stdout",
     "output_type": "stream",
     "text": [
      "-0.294442\n"
     ]
    }
   ],
   "source": [
    "#do some further processing with \"drug_withfields\" because there are still some data error in it\n",
    "def remove_extradots(string):\n",
    "    counter=0\n",
    "    lst=[]\n",
    "    for i in range(len(string)):\n",
    "        if string[i]=='.' and counter<1 :\n",
    "            lst.append(string[i])\n",
    "            counter+=1\n",
    "        elif string[i]!='.':\n",
    "            lst.append(string[i])\n",
    "    res=\"\".join(lst)\n",
    "    return res\n",
    "\n",
    "\n",
    "\n",
    "import csv\n",
    "res_list=[]\n",
    "print(remove_extradots(\"-0.29444.2\"))\n",
    "with open('drug_withfields2.csv') as file2:\n",
    "    reader=csv.reader(file2)\n",
    "\n",
    "    for row in reader:\n",
    "        data=[]\n",
    "        for i in range(len(row)):\n",
    "            \n",
    "            data.append(remove_extradots(row[i]))\n",
    "        res_list.append(data)\n",
    "    \n",
    "\n",
    "\n",
    "with open('drug_with_fields.csv', 'w') as file3:\n",
    "    writer = csv.writer(file3)\n",
    "    writer.writerows(res_list)\n",
    "file3.close()\n",
    "                "
   ]
  },
  {
   "cell_type": "code",
   "execution_count": 8,
   "metadata": {},
   "outputs": [
    {
     "data": {
      "text/html": [
       "<div>\n",
       "<style scoped>\n",
       "    .dataframe tbody tr th:only-of-type {\n",
       "        vertical-align: middle;\n",
       "    }\n",
       "\n",
       "    .dataframe tbody tr th {\n",
       "        vertical-align: top;\n",
       "    }\n",
       "\n",
       "    .dataframe thead th {\n",
       "        text-align: right;\n",
       "    }\n",
       "</style>\n",
       "<table border=\"1\" class=\"dataframe\">\n",
       "  <thead>\n",
       "    <tr style=\"text-align: right;\">\n",
       "      <th></th>\n",
       "      <th>drug_name</th>\n",
       "      <th>default</th>\n",
       "      <th>ks1</th>\n",
       "      <th>ks2</th>\n",
       "      <th>ks3</th>\n",
       "      <th>ks4</th>\n",
       "      <th>ks5</th>\n",
       "      <th>ks6</th>\n",
       "      <th>ks7</th>\n",
       "      <th>ks8</th>\n",
       "      <th>...</th>\n",
       "      <th>ks229</th>\n",
       "      <th>ks230</th>\n",
       "      <th>ks231</th>\n",
       "      <th>ks232</th>\n",
       "      <th>ks233</th>\n",
       "      <th>ks234</th>\n",
       "      <th>ks235</th>\n",
       "      <th>ks236</th>\n",
       "      <th>ks237</th>\n",
       "      <th>ks238</th>\n",
       "    </tr>\n",
       "  </thead>\n",
       "  <tbody>\n",
       "    <tr>\n",
       "      <th>0</th>\n",
       "      <td>Etoposide+Etoposide+1</td>\n",
       "      <td>0</td>\n",
       "      <td>-0.658330</td>\n",
       "      <td>-0.151980</td>\n",
       "      <td>-0.133790</td>\n",
       "      <td>-0.228720</td>\n",
       "      <td>-0.421970</td>\n",
       "      <td>-0.130760</td>\n",
       "      <td>0.161730</td>\n",
       "      <td>0.208450</td>\n",
       "      <td>...</td>\n",
       "      <td>0.232730</td>\n",
       "      <td>0.096027</td>\n",
       "      <td>-0.312950</td>\n",
       "      <td>0.339520</td>\n",
       "      <td>0.284891</td>\n",
       "      <td>0.096027</td>\n",
       "      <td>-0.559880</td>\n",
       "      <td>-0.570040</td>\n",
       "      <td>-0.212690</td>\n",
       "      <td>0.353240</td>\n",
       "    </tr>\n",
       "    <tr>\n",
       "      <th>2</th>\n",
       "      <td>Etoposide+Etoposide+2</td>\n",
       "      <td>0</td>\n",
       "      <td>-0.596670</td>\n",
       "      <td>-0.183410</td>\n",
       "      <td>-0.224890</td>\n",
       "      <td>-0.310260</td>\n",
       "      <td>-0.445170</td>\n",
       "      <td>-0.227970</td>\n",
       "      <td>-0.190090</td>\n",
       "      <td>-0.174000</td>\n",
       "      <td>...</td>\n",
       "      <td>0.220820</td>\n",
       "      <td>0.146930</td>\n",
       "      <td>-0.368010</td>\n",
       "      <td>0.342450</td>\n",
       "      <td>0.285190</td>\n",
       "      <td>0.146930</td>\n",
       "      <td>-0.498490</td>\n",
       "      <td>-0.577490</td>\n",
       "      <td>-0.216200</td>\n",
       "      <td>0.398800</td>\n",
       "    </tr>\n",
       "    <tr>\n",
       "      <th>4</th>\n",
       "      <td>Etoposide+Etoposide+3</td>\n",
       "      <td>0</td>\n",
       "      <td>-0.507540</td>\n",
       "      <td>0.080714</td>\n",
       "      <td>-0.125940</td>\n",
       "      <td>0.104190</td>\n",
       "      <td>-0.129000</td>\n",
       "      <td>-0.133430</td>\n",
       "      <td>-0.130930</td>\n",
       "      <td>-0.134840</td>\n",
       "      <td>...</td>\n",
       "      <td>0.299920</td>\n",
       "      <td>0.118720</td>\n",
       "      <td>-0.206960</td>\n",
       "      <td>0.427030</td>\n",
       "      <td>0.391510</td>\n",
       "      <td>0.118720</td>\n",
       "      <td>-0.328740</td>\n",
       "      <td>-0.414070</td>\n",
       "      <td>-0.155800</td>\n",
       "      <td>0.254140</td>\n",
       "    </tr>\n",
       "    <tr>\n",
       "      <th>6</th>\n",
       "      <td>Etoposide+Etoposide+4</td>\n",
       "      <td>0</td>\n",
       "      <td>-0.053269</td>\n",
       "      <td>-0.097863</td>\n",
       "      <td>-0.140810</td>\n",
       "      <td>-0.122950</td>\n",
       "      <td>-0.187030</td>\n",
       "      <td>-0.133820</td>\n",
       "      <td>-0.118800</td>\n",
       "      <td>-0.111940</td>\n",
       "      <td>...</td>\n",
       "      <td>-0.037030</td>\n",
       "      <td>0.022158</td>\n",
       "      <td>-0.063846</td>\n",
       "      <td>-0.028590</td>\n",
       "      <td>-0.035556</td>\n",
       "      <td>0.022158</td>\n",
       "      <td>0.054081</td>\n",
       "      <td>-0.064252</td>\n",
       "      <td>-0.036111</td>\n",
       "      <td>0.043312</td>\n",
       "    </tr>\n",
       "    <tr>\n",
       "      <th>8</th>\n",
       "      <td>Etoposide+Etoposide+5</td>\n",
       "      <td>0</td>\n",
       "      <td>0.038568</td>\n",
       "      <td>-0.070623</td>\n",
       "      <td>-0.084830</td>\n",
       "      <td>-0.055402</td>\n",
       "      <td>-0.134990</td>\n",
       "      <td>-0.088421</td>\n",
       "      <td>-0.069816</td>\n",
       "      <td>-0.063219</td>\n",
       "      <td>...</td>\n",
       "      <td>-0.065165</td>\n",
       "      <td>0.025711</td>\n",
       "      <td>-0.056965</td>\n",
       "      <td>-0.050647</td>\n",
       "      <td>-0.059582</td>\n",
       "      <td>0.025711</td>\n",
       "      <td>0.059502</td>\n",
       "      <td>-0.043597</td>\n",
       "      <td>-0.037950</td>\n",
       "      <td>0.031688</td>\n",
       "    </tr>\n",
       "    <tr>\n",
       "      <th>10</th>\n",
       "      <td>Etoposide+Etoposide+6</td>\n",
       "      <td>0</td>\n",
       "      <td>-0.021682</td>\n",
       "      <td>-0.073558</td>\n",
       "      <td>-0.087733</td>\n",
       "      <td>-0.079325</td>\n",
       "      <td>-0.128700</td>\n",
       "      <td>-0.096127</td>\n",
       "      <td>-0.071604</td>\n",
       "      <td>-0.062475</td>\n",
       "      <td>...</td>\n",
       "      <td>-0.037668</td>\n",
       "      <td>-0.027406</td>\n",
       "      <td>-0.071549</td>\n",
       "      <td>-0.027870</td>\n",
       "      <td>-0.039805</td>\n",
       "      <td>-0.027406</td>\n",
       "      <td>0.035064</td>\n",
       "      <td>-0.047980</td>\n",
       "      <td>-0.037499</td>\n",
       "      <td>0.056148</td>\n",
       "    </tr>\n",
       "    <tr>\n",
       "      <th>144</th>\n",
       "      <td>Paclitaxel+Paclitaxel+1</td>\n",
       "      <td>0</td>\n",
       "      <td>-0.955000</td>\n",
       "      <td>0.224410</td>\n",
       "      <td>0.305000</td>\n",
       "      <td>-0.150050</td>\n",
       "      <td>-0.103730</td>\n",
       "      <td>0.261620</td>\n",
       "      <td>0.338040</td>\n",
       "      <td>0.338530</td>\n",
       "      <td>...</td>\n",
       "      <td>0.272400</td>\n",
       "      <td>0.068137</td>\n",
       "      <td>-0.133770</td>\n",
       "      <td>0.334750</td>\n",
       "      <td>0.328870</td>\n",
       "      <td>0.068137</td>\n",
       "      <td>-0.479460</td>\n",
       "      <td>-0.468140</td>\n",
       "      <td>-0.323530</td>\n",
       "      <td>0.153530</td>\n",
       "    </tr>\n",
       "    <tr>\n",
       "      <th>146</th>\n",
       "      <td>Paclitaxel+Paclitaxel+2</td>\n",
       "      <td>0</td>\n",
       "      <td>-0.498500</td>\n",
       "      <td>0.079738</td>\n",
       "      <td>0.073921</td>\n",
       "      <td>0.171920</td>\n",
       "      <td>-0.111620</td>\n",
       "      <td>0.042774</td>\n",
       "      <td>0.112620</td>\n",
       "      <td>0.122160</td>\n",
       "      <td>...</td>\n",
       "      <td>0.103060</td>\n",
       "      <td>0.287970</td>\n",
       "      <td>-0.087589</td>\n",
       "      <td>0.385230</td>\n",
       "      <td>0.324320</td>\n",
       "      <td>0.287970</td>\n",
       "      <td>-0.390030</td>\n",
       "      <td>-0.433270</td>\n",
       "      <td>-0.294170</td>\n",
       "      <td>0.151010</td>\n",
       "    </tr>\n",
       "    <tr>\n",
       "      <th>148</th>\n",
       "      <td>Paclitaxel+Paclitaxel+3</td>\n",
       "      <td>0</td>\n",
       "      <td>-0.279380</td>\n",
       "      <td>0.205450</td>\n",
       "      <td>0.210170</td>\n",
       "      <td>0.051049</td>\n",
       "      <td>-0.034556</td>\n",
       "      <td>0.126620</td>\n",
       "      <td>0.242940</td>\n",
       "      <td>0.293630</td>\n",
       "      <td>...</td>\n",
       "      <td>0.182690</td>\n",
       "      <td>-0.025454</td>\n",
       "      <td>0.021285</td>\n",
       "      <td>0.205830</td>\n",
       "      <td>0.208830</td>\n",
       "      <td>-0.025454</td>\n",
       "      <td>-0.195560</td>\n",
       "      <td>-0.150440</td>\n",
       "      <td>-0.138220</td>\n",
       "      <td>-0.082601</td>\n",
       "    </tr>\n",
       "    <tr>\n",
       "      <th>150</th>\n",
       "      <td>Paclitaxel+Paclitaxel+4</td>\n",
       "      <td>0</td>\n",
       "      <td>-0.106570</td>\n",
       "      <td>0.085699</td>\n",
       "      <td>0.131410</td>\n",
       "      <td>-0.050910</td>\n",
       "      <td>-0.085852</td>\n",
       "      <td>0.095464</td>\n",
       "      <td>0.165640</td>\n",
       "      <td>0.185350</td>\n",
       "      <td>...</td>\n",
       "      <td>0.053027</td>\n",
       "      <td>0.027289</td>\n",
       "      <td>-0.041880</td>\n",
       "      <td>0.089362</td>\n",
       "      <td>0.087117</td>\n",
       "      <td>0.027289</td>\n",
       "      <td>-0.192040</td>\n",
       "      <td>-0.171560</td>\n",
       "      <td>-0.084863</td>\n",
       "      <td>-0.033923</td>\n",
       "    </tr>\n",
       "    <tr>\n",
       "      <th>152</th>\n",
       "      <td>Paclitaxel+Paclitaxel+5</td>\n",
       "      <td>0</td>\n",
       "      <td>-0.076667</td>\n",
       "      <td>-0.047941</td>\n",
       "      <td>0.062510</td>\n",
       "      <td>0.070742</td>\n",
       "      <td>-0.067299</td>\n",
       "      <td>0.050534</td>\n",
       "      <td>0.082583</td>\n",
       "      <td>0.092739</td>\n",
       "      <td>...</td>\n",
       "      <td>0.037439</td>\n",
       "      <td>0.026336</td>\n",
       "      <td>-0.035377</td>\n",
       "      <td>0.057637</td>\n",
       "      <td>0.049198</td>\n",
       "      <td>0.026336</td>\n",
       "      <td>-0.103310</td>\n",
       "      <td>-0.109280</td>\n",
       "      <td>-0.052736</td>\n",
       "      <td>0.029123</td>\n",
       "    </tr>\n",
       "    <tr>\n",
       "      <th>154</th>\n",
       "      <td>Paclitaxel+Paclitaxel+6</td>\n",
       "      <td>0</td>\n",
       "      <td>0.041802</td>\n",
       "      <td>-0.077287</td>\n",
       "      <td>-0.084714</td>\n",
       "      <td>-0.071462</td>\n",
       "      <td>-0.184020</td>\n",
       "      <td>-0.092969</td>\n",
       "      <td>-0.060428</td>\n",
       "      <td>-0.048673</td>\n",
       "      <td>...</td>\n",
       "      <td>-0.048262</td>\n",
       "      <td>-0.028494</td>\n",
       "      <td>-0.054063</td>\n",
       "      <td>-0.043073</td>\n",
       "      <td>-0.046339</td>\n",
       "      <td>-0.028494</td>\n",
       "      <td>0.068572</td>\n",
       "      <td>-0.039097</td>\n",
       "      <td>-0.035704</td>\n",
       "      <td>0.039612</td>\n",
       "    </tr>\n",
       "    <tr>\n",
       "      <th>120</th>\n",
       "      <td>Etoposide+Paclitaxel+1</td>\n",
       "      <td>0</td>\n",
       "      <td>-0.645000</td>\n",
       "      <td>-0.112110</td>\n",
       "      <td>0.118490</td>\n",
       "      <td>-0.169420</td>\n",
       "      <td>-0.334560</td>\n",
       "      <td>-0.071950</td>\n",
       "      <td>0.154560</td>\n",
       "      <td>0.217770</td>\n",
       "      <td>...</td>\n",
       "      <td>0.198420</td>\n",
       "      <td>-0.096323</td>\n",
       "      <td>-0.072118</td>\n",
       "      <td>0.221960</td>\n",
       "      <td>0.234940</td>\n",
       "      <td>-0.096323</td>\n",
       "      <td>-0.504400</td>\n",
       "      <td>-0.496690</td>\n",
       "      <td>-0.201370</td>\n",
       "      <td>0.140550</td>\n",
       "    </tr>\n",
       "    <tr>\n",
       "      <th>122</th>\n",
       "      <td>Etoposide+Paclitaxel+2</td>\n",
       "      <td>0</td>\n",
       "      <td>-0.682500</td>\n",
       "      <td>-0.123990</td>\n",
       "      <td>-0.132390</td>\n",
       "      <td>-0.230220</td>\n",
       "      <td>-0.357720</td>\n",
       "      <td>-0.138570</td>\n",
       "      <td>0.126640</td>\n",
       "      <td>0.180010</td>\n",
       "      <td>...</td>\n",
       "      <td>0.281360</td>\n",
       "      <td>-0.110190</td>\n",
       "      <td>-0.111970</td>\n",
       "      <td>0.307660</td>\n",
       "      <td>0.304870</td>\n",
       "      <td>-0.110190</td>\n",
       "      <td>-0.543330</td>\n",
       "      <td>-0.515140</td>\n",
       "      <td>-0.199960</td>\n",
       "      <td>0.187950</td>\n",
       "    </tr>\n",
       "    <tr>\n",
       "      <th>124</th>\n",
       "      <td>Etoposide+Paclitaxel+3</td>\n",
       "      <td>0</td>\n",
       "      <td>-0.565830</td>\n",
       "      <td>0.109100</td>\n",
       "      <td>-0.071556</td>\n",
       "      <td>0.181110</td>\n",
       "      <td>-0.124940</td>\n",
       "      <td>-0.073220</td>\n",
       "      <td>0.071408</td>\n",
       "      <td>0.084388</td>\n",
       "      <td>...</td>\n",
       "      <td>0.361300</td>\n",
       "      <td>-0.064363</td>\n",
       "      <td>-0.076876</td>\n",
       "      <td>0.381540</td>\n",
       "      <td>0.377910</td>\n",
       "      <td>-0.064363</td>\n",
       "      <td>-0.384620</td>\n",
       "      <td>-0.413360</td>\n",
       "      <td>-0.194100</td>\n",
       "      <td>0.166210</td>\n",
       "    </tr>\n",
       "    <tr>\n",
       "      <th>126</th>\n",
       "      <td>Etoposide+Paclitaxel+4</td>\n",
       "      <td>0</td>\n",
       "      <td>-0.103060</td>\n",
       "      <td>-0.131500</td>\n",
       "      <td>-0.067610</td>\n",
       "      <td>-0.056927</td>\n",
       "      <td>-0.216150</td>\n",
       "      <td>-0.094689</td>\n",
       "      <td>-0.027381</td>\n",
       "      <td>0.044455</td>\n",
       "      <td>...</td>\n",
       "      <td>-0.050954</td>\n",
       "      <td>0.050801</td>\n",
       "      <td>-0.042847</td>\n",
       "      <td>0.051451</td>\n",
       "      <td>-0.062674</td>\n",
       "      <td>0.050801</td>\n",
       "      <td>-0.163730</td>\n",
       "      <td>-0.169610</td>\n",
       "      <td>-0.107900</td>\n",
       "      <td>-0.038760</td>\n",
       "    </tr>\n",
       "    <tr>\n",
       "      <th>128</th>\n",
       "      <td>Etoposide+Paclitaxel+5</td>\n",
       "      <td>0</td>\n",
       "      <td>-0.111310</td>\n",
       "      <td>-0.080389</td>\n",
       "      <td>-0.086067</td>\n",
       "      <td>0.084237</td>\n",
       "      <td>-0.160210</td>\n",
       "      <td>-0.082407</td>\n",
       "      <td>-0.059805</td>\n",
       "      <td>-0.057087</td>\n",
       "      <td>...</td>\n",
       "      <td>0.084128</td>\n",
       "      <td>-0.032453</td>\n",
       "      <td>-0.031534</td>\n",
       "      <td>0.096137</td>\n",
       "      <td>0.092897</td>\n",
       "      <td>-0.032453</td>\n",
       "      <td>-0.164260</td>\n",
       "      <td>-0.139390</td>\n",
       "      <td>-0.044673</td>\n",
       "      <td>-0.026636</td>\n",
       "    </tr>\n",
       "    <tr>\n",
       "      <th>130</th>\n",
       "      <td>Etoposide+Paclitaxel+6</td>\n",
       "      <td>0</td>\n",
       "      <td>-0.059167</td>\n",
       "      <td>-0.110190</td>\n",
       "      <td>-0.131330</td>\n",
       "      <td>0.112090</td>\n",
       "      <td>-0.215610</td>\n",
       "      <td>-0.134220</td>\n",
       "      <td>-0.111070</td>\n",
       "      <td>-0.103600</td>\n",
       "      <td>...</td>\n",
       "      <td>-0.046169</td>\n",
       "      <td>0.030227</td>\n",
       "      <td>-0.043160</td>\n",
       "      <td>-0.035920</td>\n",
       "      <td>-0.048149</td>\n",
       "      <td>0.030227</td>\n",
       "      <td>-0.068214</td>\n",
       "      <td>-0.083063</td>\n",
       "      <td>-0.061288</td>\n",
       "      <td>-0.033788</td>\n",
       "    </tr>\n",
       "    <tr>\n",
       "      <th>24</th>\n",
       "      <td>Paclitaxel+Etoposide+1</td>\n",
       "      <td>0</td>\n",
       "      <td>-0.951670</td>\n",
       "      <td>0.165480</td>\n",
       "      <td>0.198210</td>\n",
       "      <td>0.085595</td>\n",
       "      <td>-0.169880</td>\n",
       "      <td>0.139400</td>\n",
       "      <td>0.263210</td>\n",
       "      <td>0.278330</td>\n",
       "      <td>...</td>\n",
       "      <td>0.170120</td>\n",
       "      <td>0.272620</td>\n",
       "      <td>-0.278810</td>\n",
       "      <td>0.417500</td>\n",
       "      <td>0.352260</td>\n",
       "      <td>0.272620</td>\n",
       "      <td>-0.465710</td>\n",
       "      <td>-0.543330</td>\n",
       "      <td>-0.301670</td>\n",
       "      <td>0.329400</td>\n",
       "    </tr>\n",
       "    <tr>\n",
       "      <th>26</th>\n",
       "      <td>Paclitaxel+Etoposide+2</td>\n",
       "      <td>0</td>\n",
       "      <td>-0.404170</td>\n",
       "      <td>0.042516</td>\n",
       "      <td>-0.022722</td>\n",
       "      <td>0.199150</td>\n",
       "      <td>-0.165330</td>\n",
       "      <td>-0.060915</td>\n",
       "      <td>0.053656</td>\n",
       "      <td>0.054818</td>\n",
       "      <td>...</td>\n",
       "      <td>0.084736</td>\n",
       "      <td>0.325110</td>\n",
       "      <td>-0.141790</td>\n",
       "      <td>0.349750</td>\n",
       "      <td>0.292720</td>\n",
       "      <td>0.325110</td>\n",
       "      <td>-0.353420</td>\n",
       "      <td>-0.401200</td>\n",
       "      <td>-0.234110</td>\n",
       "      <td>0.185680</td>\n",
       "    </tr>\n",
       "    <tr>\n",
       "      <th>28</th>\n",
       "      <td>Paclitaxel+Etoposide+3</td>\n",
       "      <td>0</td>\n",
       "      <td>0.019967</td>\n",
       "      <td>-0.116850</td>\n",
       "      <td>-0.166500</td>\n",
       "      <td>0.167010</td>\n",
       "      <td>-0.278660</td>\n",
       "      <td>-0.180870</td>\n",
       "      <td>-0.135460</td>\n",
       "      <td>-0.123350</td>\n",
       "      <td>...</td>\n",
       "      <td>-0.055114</td>\n",
       "      <td>0.031471</td>\n",
       "      <td>-0.045131</td>\n",
       "      <td>-0.038350</td>\n",
       "      <td>-0.053399</td>\n",
       "      <td>0.031471</td>\n",
       "      <td>0.058170</td>\n",
       "      <td>-0.070523</td>\n",
       "      <td>-0.043791</td>\n",
       "      <td>0.043529</td>\n",
       "    </tr>\n",
       "    <tr>\n",
       "      <th>30</th>\n",
       "      <td>Paclitaxel+Etoposide+4</td>\n",
       "      <td>0</td>\n",
       "      <td>-0.021667</td>\n",
       "      <td>-0.116690</td>\n",
       "      <td>-0.141640</td>\n",
       "      <td>0.157570</td>\n",
       "      <td>-0.262820</td>\n",
       "      <td>-0.167900</td>\n",
       "      <td>-0.118770</td>\n",
       "      <td>-0.111180</td>\n",
       "      <td>...</td>\n",
       "      <td>-0.046601</td>\n",
       "      <td>-0.038630</td>\n",
       "      <td>-0.036411</td>\n",
       "      <td>-0.054934</td>\n",
       "      <td>-0.050371</td>\n",
       "      <td>-0.038630</td>\n",
       "      <td>0.064967</td>\n",
       "      <td>-0.055899</td>\n",
       "      <td>-0.056997</td>\n",
       "      <td>0.038779</td>\n",
       "    </tr>\n",
       "    <tr>\n",
       "      <th>32</th>\n",
       "      <td>Paclitaxel+Etoposide+5</td>\n",
       "      <td>0</td>\n",
       "      <td>-0.051567</td>\n",
       "      <td>-0.074827</td>\n",
       "      <td>-0.099898</td>\n",
       "      <td>-0.090014</td>\n",
       "      <td>-0.191230</td>\n",
       "      <td>-0.104220</td>\n",
       "      <td>-0.072779</td>\n",
       "      <td>-0.068097</td>\n",
       "      <td>...</td>\n",
       "      <td>-0.031726</td>\n",
       "      <td>-0.022369</td>\n",
       "      <td>-0.022207</td>\n",
       "      <td>-0.031160</td>\n",
       "      <td>-0.030967</td>\n",
       "      <td>-0.022369</td>\n",
       "      <td>-0.051402</td>\n",
       "      <td>-0.062275</td>\n",
       "      <td>-0.045546</td>\n",
       "      <td>0.026155</td>\n",
       "    </tr>\n",
       "    <tr>\n",
       "      <th>34</th>\n",
       "      <td>Paclitaxel+Etoposide+6</td>\n",
       "      <td>0</td>\n",
       "      <td>-0.022507</td>\n",
       "      <td>-0.103480</td>\n",
       "      <td>-0.128450</td>\n",
       "      <td>0.102980</td>\n",
       "      <td>-0.208860</td>\n",
       "      <td>-0.133490</td>\n",
       "      <td>-0.104940</td>\n",
       "      <td>-0.100920</td>\n",
       "      <td>...</td>\n",
       "      <td>-0.042066</td>\n",
       "      <td>-0.019759</td>\n",
       "      <td>-0.030145</td>\n",
       "      <td>-0.048636</td>\n",
       "      <td>-0.055792</td>\n",
       "      <td>-0.019759</td>\n",
       "      <td>0.047466</td>\n",
       "      <td>-0.057486</td>\n",
       "      <td>-0.055365</td>\n",
       "      <td>0.033506</td>\n",
       "    </tr>\n",
       "  </tbody>\n",
       "</table>\n",
       "<p>24 rows × 240 columns</p>\n",
       "</div>"
      ],
      "text/plain": [
       "                   drug_name  default       ks1       ks2       ks3       ks4  \\\n",
       "0      Etoposide+Etoposide+1        0 -0.658330 -0.151980 -0.133790 -0.228720   \n",
       "2      Etoposide+Etoposide+2        0 -0.596670 -0.183410 -0.224890 -0.310260   \n",
       "4      Etoposide+Etoposide+3        0 -0.507540  0.080714 -0.125940  0.104190   \n",
       "6      Etoposide+Etoposide+4        0 -0.053269 -0.097863 -0.140810 -0.122950   \n",
       "8      Etoposide+Etoposide+5        0  0.038568 -0.070623 -0.084830 -0.055402   \n",
       "10     Etoposide+Etoposide+6        0 -0.021682 -0.073558 -0.087733 -0.079325   \n",
       "144  Paclitaxel+Paclitaxel+1        0 -0.955000  0.224410  0.305000 -0.150050   \n",
       "146  Paclitaxel+Paclitaxel+2        0 -0.498500  0.079738  0.073921  0.171920   \n",
       "148  Paclitaxel+Paclitaxel+3        0 -0.279380  0.205450  0.210170  0.051049   \n",
       "150  Paclitaxel+Paclitaxel+4        0 -0.106570  0.085699  0.131410 -0.050910   \n",
       "152  Paclitaxel+Paclitaxel+5        0 -0.076667 -0.047941  0.062510  0.070742   \n",
       "154  Paclitaxel+Paclitaxel+6        0  0.041802 -0.077287 -0.084714 -0.071462   \n",
       "120   Etoposide+Paclitaxel+1        0 -0.645000 -0.112110  0.118490 -0.169420   \n",
       "122   Etoposide+Paclitaxel+2        0 -0.682500 -0.123990 -0.132390 -0.230220   \n",
       "124   Etoposide+Paclitaxel+3        0 -0.565830  0.109100 -0.071556  0.181110   \n",
       "126   Etoposide+Paclitaxel+4        0 -0.103060 -0.131500 -0.067610 -0.056927   \n",
       "128   Etoposide+Paclitaxel+5        0 -0.111310 -0.080389 -0.086067  0.084237   \n",
       "130   Etoposide+Paclitaxel+6        0 -0.059167 -0.110190 -0.131330  0.112090   \n",
       "24    Paclitaxel+Etoposide+1        0 -0.951670  0.165480  0.198210  0.085595   \n",
       "26    Paclitaxel+Etoposide+2        0 -0.404170  0.042516 -0.022722  0.199150   \n",
       "28    Paclitaxel+Etoposide+3        0  0.019967 -0.116850 -0.166500  0.167010   \n",
       "30    Paclitaxel+Etoposide+4        0 -0.021667 -0.116690 -0.141640  0.157570   \n",
       "32    Paclitaxel+Etoposide+5        0 -0.051567 -0.074827 -0.099898 -0.090014   \n",
       "34    Paclitaxel+Etoposide+6        0 -0.022507 -0.103480 -0.128450  0.102980   \n",
       "\n",
       "          ks5       ks6       ks7       ks8  ...     ks229     ks230  \\\n",
       "0   -0.421970 -0.130760  0.161730  0.208450  ...  0.232730  0.096027   \n",
       "2   -0.445170 -0.227970 -0.190090 -0.174000  ...  0.220820  0.146930   \n",
       "4   -0.129000 -0.133430 -0.130930 -0.134840  ...  0.299920  0.118720   \n",
       "6   -0.187030 -0.133820 -0.118800 -0.111940  ... -0.037030  0.022158   \n",
       "8   -0.134990 -0.088421 -0.069816 -0.063219  ... -0.065165  0.025711   \n",
       "10  -0.128700 -0.096127 -0.071604 -0.062475  ... -0.037668 -0.027406   \n",
       "144 -0.103730  0.261620  0.338040  0.338530  ...  0.272400  0.068137   \n",
       "146 -0.111620  0.042774  0.112620  0.122160  ...  0.103060  0.287970   \n",
       "148 -0.034556  0.126620  0.242940  0.293630  ...  0.182690 -0.025454   \n",
       "150 -0.085852  0.095464  0.165640  0.185350  ...  0.053027  0.027289   \n",
       "152 -0.067299  0.050534  0.082583  0.092739  ...  0.037439  0.026336   \n",
       "154 -0.184020 -0.092969 -0.060428 -0.048673  ... -0.048262 -0.028494   \n",
       "120 -0.334560 -0.071950  0.154560  0.217770  ...  0.198420 -0.096323   \n",
       "122 -0.357720 -0.138570  0.126640  0.180010  ...  0.281360 -0.110190   \n",
       "124 -0.124940 -0.073220  0.071408  0.084388  ...  0.361300 -0.064363   \n",
       "126 -0.216150 -0.094689 -0.027381  0.044455  ... -0.050954  0.050801   \n",
       "128 -0.160210 -0.082407 -0.059805 -0.057087  ...  0.084128 -0.032453   \n",
       "130 -0.215610 -0.134220 -0.111070 -0.103600  ... -0.046169  0.030227   \n",
       "24  -0.169880  0.139400  0.263210  0.278330  ...  0.170120  0.272620   \n",
       "26  -0.165330 -0.060915  0.053656  0.054818  ...  0.084736  0.325110   \n",
       "28  -0.278660 -0.180870 -0.135460 -0.123350  ... -0.055114  0.031471   \n",
       "30  -0.262820 -0.167900 -0.118770 -0.111180  ... -0.046601 -0.038630   \n",
       "32  -0.191230 -0.104220 -0.072779 -0.068097  ... -0.031726 -0.022369   \n",
       "34  -0.208860 -0.133490 -0.104940 -0.100920  ... -0.042066 -0.019759   \n",
       "\n",
       "        ks231     ks232     ks233     ks234     ks235     ks236     ks237  \\\n",
       "0   -0.312950  0.339520  0.284891  0.096027 -0.559880 -0.570040 -0.212690   \n",
       "2   -0.368010  0.342450  0.285190  0.146930 -0.498490 -0.577490 -0.216200   \n",
       "4   -0.206960  0.427030  0.391510  0.118720 -0.328740 -0.414070 -0.155800   \n",
       "6   -0.063846 -0.028590 -0.035556  0.022158  0.054081 -0.064252 -0.036111   \n",
       "8   -0.056965 -0.050647 -0.059582  0.025711  0.059502 -0.043597 -0.037950   \n",
       "10  -0.071549 -0.027870 -0.039805 -0.027406  0.035064 -0.047980 -0.037499   \n",
       "144 -0.133770  0.334750  0.328870  0.068137 -0.479460 -0.468140 -0.323530   \n",
       "146 -0.087589  0.385230  0.324320  0.287970 -0.390030 -0.433270 -0.294170   \n",
       "148  0.021285  0.205830  0.208830 -0.025454 -0.195560 -0.150440 -0.138220   \n",
       "150 -0.041880  0.089362  0.087117  0.027289 -0.192040 -0.171560 -0.084863   \n",
       "152 -0.035377  0.057637  0.049198  0.026336 -0.103310 -0.109280 -0.052736   \n",
       "154 -0.054063 -0.043073 -0.046339 -0.028494  0.068572 -0.039097 -0.035704   \n",
       "120 -0.072118  0.221960  0.234940 -0.096323 -0.504400 -0.496690 -0.201370   \n",
       "122 -0.111970  0.307660  0.304870 -0.110190 -0.543330 -0.515140 -0.199960   \n",
       "124 -0.076876  0.381540  0.377910 -0.064363 -0.384620 -0.413360 -0.194100   \n",
       "126 -0.042847  0.051451 -0.062674  0.050801 -0.163730 -0.169610 -0.107900   \n",
       "128 -0.031534  0.096137  0.092897 -0.032453 -0.164260 -0.139390 -0.044673   \n",
       "130 -0.043160 -0.035920 -0.048149  0.030227 -0.068214 -0.083063 -0.061288   \n",
       "24  -0.278810  0.417500  0.352260  0.272620 -0.465710 -0.543330 -0.301670   \n",
       "26  -0.141790  0.349750  0.292720  0.325110 -0.353420 -0.401200 -0.234110   \n",
       "28  -0.045131 -0.038350 -0.053399  0.031471  0.058170 -0.070523 -0.043791   \n",
       "30  -0.036411 -0.054934 -0.050371 -0.038630  0.064967 -0.055899 -0.056997   \n",
       "32  -0.022207 -0.031160 -0.030967 -0.022369 -0.051402 -0.062275 -0.045546   \n",
       "34  -0.030145 -0.048636 -0.055792 -0.019759  0.047466 -0.057486 -0.055365   \n",
       "\n",
       "        ks238  \n",
       "0    0.353240  \n",
       "2    0.398800  \n",
       "4    0.254140  \n",
       "6    0.043312  \n",
       "8    0.031688  \n",
       "10   0.056148  \n",
       "144  0.153530  \n",
       "146  0.151010  \n",
       "148 -0.082601  \n",
       "150 -0.033923  \n",
       "152  0.029123  \n",
       "154  0.039612  \n",
       "120  0.140550  \n",
       "122  0.187950  \n",
       "124  0.166210  \n",
       "126 -0.038760  \n",
       "128 -0.026636  \n",
       "130 -0.033788  \n",
       "24   0.329400  \n",
       "26   0.185680  \n",
       "28   0.043529  \n",
       "30   0.038779  \n",
       "32   0.026155  \n",
       "34   0.033506  \n",
       "\n",
       "[24 rows x 240 columns]"
      ]
     },
     "execution_count": 8,
     "metadata": {},
     "output_type": "execute_result"
    }
   ],
   "source": [
    "#we take etoposide and palitaxel out. \n",
    "df=pd.read_csv('drug_with_fields.csv')\n",
    "df11=df.loc[(df['drug_name'] =='Etoposide+Etoposide+1') ]\n",
    "df12=df.loc[(df['drug_name'] =='Etoposide+Etoposide+2') ]\n",
    "df13=df.loc[(df['drug_name'] =='Etoposide+Etoposide+3') ]\n",
    "df14=df.loc[(df['drug_name'] =='Etoposide+Etoposide+4') ]\n",
    "df15=df.loc[(df['drug_name'] =='Etoposide+Etoposide+5') ]\n",
    "df16=df.loc[(df['drug_name'] =='Etoposide+Etoposide+6') ]\n",
    "df21=df.loc[(df['drug_name'] =='Paclitaxel+Paclitaxel+1') ]\n",
    "df22=df.loc[(df['drug_name'] =='Paclitaxel+Paclitaxel+2') ]\n",
    "df23=df.loc[(df['drug_name'] =='Paclitaxel+Paclitaxel+3') ]\n",
    "df24=df.loc[(df['drug_name'] =='Paclitaxel+Paclitaxel+4') ]\n",
    "df25=df.loc[(df['drug_name'] =='Paclitaxel+Paclitaxel+5') ]\n",
    "df26=df.loc[(df['drug_name'] =='Paclitaxel+Paclitaxel+6') ]\n",
    "df31=df.loc[(df['drug_name'] =='Etoposide+Paclitaxel+1')]\n",
    "df32=df.loc[(df['drug_name'] =='Etoposide+Paclitaxel+2')]\n",
    "df33=df.loc[(df['drug_name'] =='Etoposide+Paclitaxel+3')]\n",
    "df34=df.loc[(df['drug_name'] =='Etoposide+Paclitaxel+4')]\n",
    "df35=df.loc[(df['drug_name'] =='Etoposide+Paclitaxel+5')]\n",
    "df36=df.loc[(df['drug_name'] =='Etoposide+Paclitaxel+6')]\n",
    "df41=df.loc[(df['drug_name'] =='Paclitaxel+Etoposide+1') ]\n",
    "df42=df.loc[(df['drug_name'] =='Paclitaxel+Etoposide+2') ]\n",
    "df43=df.loc[(df['drug_name'] =='Paclitaxel+Etoposide+3') ]\n",
    "df44=df.loc[(df['drug_name'] =='Paclitaxel+Etoposide+4') ]\n",
    "df45=df.loc[(df['drug_name'] =='Paclitaxel+Etoposide+5') ]\n",
    "df46=df.loc[(df['drug_name'] =='Paclitaxel+Etoposide+6') ]\n",
    "\n",
    "frames = [df11, df12,df13,df14,df15,df16,df21,df22,df23,df24,df25,df26,df31,df32,df33,df34,df35,df36,df41,df42,df43,df44,df45,df46]\n",
    "\n",
    "e_and_p = pd.concat(frames)\n",
    "#etoposide and paclitaxel combination. \n",
    "e_and_p"
   ]
  },
  {
   "cell_type": "code",
   "execution_count": 9,
   "metadata": {},
   "outputs": [
    {
     "data": {
      "text/html": [
       "<div>\n",
       "<style scoped>\n",
       "    .dataframe tbody tr th:only-of-type {\n",
       "        vertical-align: middle;\n",
       "    }\n",
       "\n",
       "    .dataframe tbody tr th {\n",
       "        vertical-align: top;\n",
       "    }\n",
       "\n",
       "    .dataframe thead th {\n",
       "        text-align: right;\n",
       "    }\n",
       "</style>\n",
       "<table border=\"1\" class=\"dataframe\">\n",
       "  <thead>\n",
       "    <tr style=\"text-align: right;\">\n",
       "      <th></th>\n",
       "      <th>principal component 1</th>\n",
       "      <th>principal component 2</th>\n",
       "    </tr>\n",
       "  </thead>\n",
       "  <tbody>\n",
       "    <tr>\n",
       "      <th>0</th>\n",
       "      <td>17.200572</td>\n",
       "      <td>-6.231118</td>\n",
       "    </tr>\n",
       "    <tr>\n",
       "      <th>1</th>\n",
       "      <td>17.563365</td>\n",
       "      <td>-11.465125</td>\n",
       "    </tr>\n",
       "    <tr>\n",
       "      <th>2</th>\n",
       "      <td>12.966141</td>\n",
       "      <td>-3.652762</td>\n",
       "    </tr>\n",
       "    <tr>\n",
       "      <th>3</th>\n",
       "      <td>-7.518595</td>\n",
       "      <td>-4.347396</td>\n",
       "    </tr>\n",
       "    <tr>\n",
       "      <th>4</th>\n",
       "      <td>-10.996275</td>\n",
       "      <td>-2.493916</td>\n",
       "    </tr>\n",
       "    <tr>\n",
       "      <th>5</th>\n",
       "      <td>-9.766382</td>\n",
       "      <td>-1.889813</td>\n",
       "    </tr>\n",
       "    <tr>\n",
       "      <th>6</th>\n",
       "      <td>7.588438</td>\n",
       "      <td>17.200734</td>\n",
       "    </tr>\n",
       "    <tr>\n",
       "      <th>7</th>\n",
       "      <td>4.374249</td>\n",
       "      <td>6.582336</td>\n",
       "    </tr>\n",
       "    <tr>\n",
       "      <th>8</th>\n",
       "      <td>-1.593559</td>\n",
       "      <td>10.843503</td>\n",
       "    </tr>\n",
       "    <tr>\n",
       "      <th>9</th>\n",
       "      <td>-4.455318</td>\n",
       "      <td>3.422189</td>\n",
       "    </tr>\n",
       "    <tr>\n",
       "      <th>10</th>\n",
       "      <td>-8.269766</td>\n",
       "      <td>1.796412</td>\n",
       "    </tr>\n",
       "    <tr>\n",
       "      <th>11</th>\n",
       "      <td>-11.827351</td>\n",
       "      <td>-2.260009</td>\n",
       "    </tr>\n",
       "    <tr>\n",
       "      <th>12</th>\n",
       "      <td>14.111257</td>\n",
       "      <td>-2.325704</td>\n",
       "    </tr>\n",
       "    <tr>\n",
       "      <th>13</th>\n",
       "      <td>17.465758</td>\n",
       "      <td>-5.698039</td>\n",
       "    </tr>\n",
       "    <tr>\n",
       "      <th>14</th>\n",
       "      <td>13.330405</td>\n",
       "      <td>-1.637755</td>\n",
       "    </tr>\n",
       "    <tr>\n",
       "      <th>15</th>\n",
       "      <td>-2.483045</td>\n",
       "      <td>-1.375229</td>\n",
       "    </tr>\n",
       "    <tr>\n",
       "      <th>16</th>\n",
       "      <td>-4.300931</td>\n",
       "      <td>-0.770016</td>\n",
       "    </tr>\n",
       "    <tr>\n",
       "      <th>17</th>\n",
       "      <td>-9.561852</td>\n",
       "      <td>-3.065834</td>\n",
       "    </tr>\n",
       "    <tr>\n",
       "      <th>18</th>\n",
       "      <td>8.294484</td>\n",
       "      <td>14.284172</td>\n",
       "    </tr>\n",
       "    <tr>\n",
       "      <th>19</th>\n",
       "      <td>4.615516</td>\n",
       "      <td>3.334816</td>\n",
       "    </tr>\n",
       "    <tr>\n",
       "      <th>20</th>\n",
       "      <td>-10.294471</td>\n",
       "      <td>-2.228808</td>\n",
       "    </tr>\n",
       "    <tr>\n",
       "      <th>21</th>\n",
       "      <td>-12.109821</td>\n",
       "      <td>-3.559260</td>\n",
       "    </tr>\n",
       "    <tr>\n",
       "      <th>22</th>\n",
       "      <td>-10.687719</td>\n",
       "      <td>-1.358685</td>\n",
       "    </tr>\n",
       "    <tr>\n",
       "      <th>23</th>\n",
       "      <td>-13.645100</td>\n",
       "      <td>-3.104693</td>\n",
       "    </tr>\n",
       "  </tbody>\n",
       "</table>\n",
       "</div>"
      ],
      "text/plain": [
       "    principal component 1  principal component 2\n",
       "0               17.200572              -6.231118\n",
       "1               17.563365             -11.465125\n",
       "2               12.966141              -3.652762\n",
       "3               -7.518595              -4.347396\n",
       "4              -10.996275              -2.493916\n",
       "5               -9.766382              -1.889813\n",
       "6                7.588438              17.200734\n",
       "7                4.374249               6.582336\n",
       "8               -1.593559              10.843503\n",
       "9               -4.455318               3.422189\n",
       "10              -8.269766               1.796412\n",
       "11             -11.827351              -2.260009\n",
       "12              14.111257              -2.325704\n",
       "13              17.465758              -5.698039\n",
       "14              13.330405              -1.637755\n",
       "15              -2.483045              -1.375229\n",
       "16              -4.300931              -0.770016\n",
       "17              -9.561852              -3.065834\n",
       "18               8.294484              14.284172\n",
       "19               4.615516               3.334816\n",
       "20             -10.294471              -2.228808\n",
       "21             -12.109821              -3.559260\n",
       "22             -10.687719              -1.358685\n",
       "23             -13.645100              -3.104693"
      ]
     },
     "execution_count": 9,
     "metadata": {},
     "output_type": "execute_result"
    }
   ],
   "source": [
    "#a code block that is used to deal with the data using PCA models(dimensionality reduction)\n",
    "import pandas as pd\n",
    "import plotly.express as px\n",
    "from sklearn.decomposition import PCA\n",
    "from sklearn.preprocessing import StandardScaler\n",
    "\n",
    "X_drug = e_and_p.iloc[:, 3:240].values\n",
    "\n",
    "X_drug = StandardScaler().fit_transform(X_drug)\n",
    "\n",
    "pca_drug = PCA(n_components=2)\n",
    "components = pca_drug.fit_transform(X_drug)\n",
    "principalDf = pd.DataFrame(data = components\n",
    "             , columns = ['principal component 1', 'principal component 2'])\n",
    "principalDf\n"
   ]
  },
  {
   "cell_type": "code",
   "execution_count": 10,
   "metadata": {},
   "outputs": [
    {
     "name": "stdout",
     "output_type": "stream",
     "text": [
      "[[4.9795706397428985, 20.5871062522406], [5.767911999197081, 17.949797115440298], [2.0476670206344276, 19.455243896329236], [5.8472675372916205, 5.187010641119943], [6.91371515523737, 4.7263307431883925], [1.1936738733818053, 2.4045449894706525]]\n",
      "4 2\n"
     ]
    }
   ],
   "source": [
    "#compute the distance between points\n",
    "#calculating distances between centroids\n",
    "#index for reference\n",
    "#0，6，12，18\n",
    "#1，7，13，19\n",
    "#2,8,14,20\n",
    "#3,9,15,21\n",
    "#4,10,16,22\n",
    "#5，11，17，23\n",
    "#first, we gonna find the most similar single drug response for \"Etoposide+Paclitaxel+1\t\"\n",
    "import math\n",
    "p_combi=principalDf.iloc[12,:]\n",
    "dist1=[]\n",
    "\n",
    "p=[]\n",
    "for i in range(24):\n",
    "    p.append([principalDf.iloc[i,:][0],principalDf.iloc[i,:][1]])\n",
    "dist1.append(math.dist(p[12],p[0]))\n",
    "\n",
    "dist1.append(math.dist(p[12],p[6]))\n",
    "#print(dist1)\n",
    "#conclusion, the most similar single drug response for \"Etoposide+Paclitaxel+1\t\" is \t\"Etoposide+Etoposide+1\"\n",
    "\n",
    "#then, we see the situation where the concentration decreases(still etoposide +paclitaxel)\n",
    "dist2=[]\n",
    "dist2.append(math.dist(p[13],p[1]))\n",
    "dist2.append(math.dist(p[13],p[7]))\n",
    "#print(dist2)\n",
    "#conclusion: still \"etoposide+etoposide+1\"\n",
    "\n",
    "#concentration 3\n",
    "dist3=[]\n",
    "dist3.append(math.dist(p[14],p[2]))\n",
    "dist3.append(math.dist(p[14],p[8]))\n",
    "dist3\n",
    "\n",
    "#then we just write a loop function and see the whole 6 situations\n",
    "big_dist=[]\n",
    "for i in range(6):\n",
    "    dist=[]\n",
    "    dist.append(math.dist(p[i+12],p[i]))\n",
    "    dist.append(math.dist(p[i+12],p[i+6]))\n",
    "    big_dist.append(dist)\n",
    "print(big_dist)\n",
    "counter_for_etoposide=0\n",
    "counter_for_paclitaxel=0\n",
    "for i in range(len(big_dist)):\n",
    "    if big_dist[i][0]<big_dist[i][1]:\n",
    "        counter_for_etoposide+=1\n",
    "    else:\n",
    "        counter_for_paclitaxel+=1\n",
    "print(counter_for_etoposide,counter_for_paclitaxel)\n",
    "\n",
    "\n",
    "#p1=principalDf.iloc[0,:]\n",
    "#p2=principalDf.iloc[6,:]\n",
    "\n",
    "#conclusion: etoposide is the major drug in \"etoposide+paclitaxel\" combination\n",
    "\n"
   ]
  },
  {
   "cell_type": "code",
   "execution_count": 11,
   "metadata": {},
   "outputs": [
    {
     "data": {
      "text/plain": [
       "numpy.float64"
      ]
     },
     "execution_count": 11,
     "metadata": {},
     "output_type": "execute_result"
    }
   ],
   "source": [
    "#test a datatype for debugging\n",
    "type(principalDf.iloc[0,:][0])"
   ]
  },
  {
   "cell_type": "code",
   "execution_count": 12,
   "metadata": {},
   "outputs": [
    {
     "name": "stdout",
     "output_type": "stream",
     "text": [
      "[[22.365051153626528, 3.000805916605886], [19.664309331253378, 3.256469216720645], [23.30415572406141, 15.703222171398151], [4.658381505664705, 10.360118239070003], [1.1764169717909725, 3.9750641841344585], [4.064527796046929, 2.004420551536507]]\n",
      "2 4\n"
     ]
    }
   ],
   "source": [
    "#find a similar single drug response for \"paclitaxel+etoposide\" combination\n",
    "\n",
    "big_dist2=[]\n",
    "for i in range(6):\n",
    "    dist=[]\n",
    "    dist.append(math.dist(p[i+18],p[i]))\n",
    "    dist.append(math.dist(p[i+18],p[i+6]))\n",
    "    big_dist2.append(dist)\n",
    "print(big_dist2)\n",
    "counter_for_etoposide2=0\n",
    "counter_for_paclitaxel2=0\n",
    "for i in range(len(big_dist2)):\n",
    "    if big_dist2[i][0]<big_dist2[i][1]:\n",
    "        counter_for_etoposide2+=1\n",
    "    else:\n",
    "        counter_for_paclitaxel2+=1\n",
    "print(counter_for_etoposide2,counter_for_paclitaxel2)"
   ]
  },
  {
   "cell_type": "code",
   "execution_count": 13,
   "metadata": {},
   "outputs": [
    {
     "name": "stdout",
     "output_type": "stream",
     "text": [
      "[2.954808585453313, 11.277978863565012]\n",
      "[10.853383420654898, 6.006902881373704]\n"
     ]
    }
   ],
   "source": [
    "#processing with the data using centroid\n",
    "#did not use centroid before because of different concentration\n",
    "#centroid_for_e=\n",
    "import math\n",
    "p_for_e=principalDf.iloc[0:6,:]\n",
    "p_for_p=principalDf.iloc[6:12,:]\n",
    "p_for_eandp=principalDf.iloc[12:18,:]\n",
    "p_for_pande=principalDf.iloc[18:24,:]\n",
    "centroid1=p_for_e.mean(axis=0)\n",
    "centroid2=p_for_p.mean(axis=0)\n",
    "centroid3=p_for_eandp.mean(axis=0)\n",
    "centroid4=p_for_pande.mean(axis=0)\n",
    "\n",
    "distance=[]\n",
    "distance2=[]\n",
    "distance.append(math.dist(centroid3,centroid1))\n",
    "distance.append(math.dist(centroid3,centroid2))\n",
    "distance2.append(math.dist(centroid4,centroid1))\n",
    "distance2.append(math.dist(centroid4,centroid2))\n",
    "print(distance)\n",
    "print(distance2)\n",
    "\n",
    "#for \"etoposide+paclitaxel\", etoposide is more similar to it\n",
    "#for \"paclitaxel+etoposide\", paclitaxel is more similar to it\n"
   ]
  },
  {
   "cell_type": "code",
   "execution_count": 14,
   "metadata": {},
   "outputs": [
    {
     "name": "stdout",
     "output_type": "stream",
     "text": [
      "(array([[0.        , 1.04067481]]), array([[12, 14]]))\n"
     ]
    }
   ],
   "source": [
    "\n",
    "#sklearn codes about knn\n",
    "from sklearn.neighbors import NearestNeighbors\n",
    "neighbor = NearestNeighbors(n_neighbors=2)\n",
    "neighbor.fit(p)\n",
    "\n",
    "print(neighbor.kneighbors([p[12]]))\n",
    "\n"
   ]
  },
  {
   "cell_type": "code",
   "execution_count": 15,
   "metadata": {},
   "outputs": [],
   "source": [
    "#before using knn, we need to process with p(add a label. drug_name. for further classification)\n",
    "#for i in range(6):\n",
    "    #print(p[i])\n",
    "\n",
    "#e_c=pd.Series([\"Etoposide\"], dtype=\"string\")\n",
    "#e_p=pd.Series([\"Paclitaxel\"], dtype=\"string\")\n",
    "#e_cp=pd.Series([\"Etoposide+Paclitaxel\"], dtype=\"string\")\n",
    "#type(e_c)\n",
    "#newdata=[]\n",
    "#for i in range(6):\n",
    "\n",
    "#    newdata.append(pd.concat([p[i],e_c]))\n",
    "#for j in range(6):\n",
    "#    newdata.append(pd.concat([p[i+6],e_p]))\n",
    "#for k in range(6):\n",
    " #   newdata.append(pd.concat([p[i+12],e_cp]))\n",
    "\n",
    "for i in range(6):\n",
    "    p[i].append('Etoposide')\n",
    "for j in range(6):\n",
    "    p[j+6].append('Paclitaxel')\n",
    "for k in range(6):\n",
    "    p[k+12].append('Etoposide+Paclitaxel')\n",
    "for m in range(6):\n",
    "    p[m+18].append(\"Paclitaxel+Etoposide\")\n",
    "\n",
    "\n",
    "\n"
   ]
  },
  {
   "cell_type": "code",
   "execution_count": 16,
   "metadata": {},
   "outputs": [],
   "source": [
    "#to show p"
   ]
  },
  {
   "cell_type": "code",
   "execution_count": 17,
   "metadata": {},
   "outputs": [
    {
     "data": {
      "text/plain": [
       "[[17.200571833195742, -6.231118052209842, 'Etoposide'],\n",
       " [17.56336517183773, -11.46512537648899, 'Etoposide'],\n",
       " [12.966140541881785, -3.6527619156409483, 'Etoposide'],\n",
       " [-7.518594884817369, -4.347395785022291, 'Etoposide'],\n",
       " [-10.996274886938616, -2.4939159936477697, 'Etoposide'],\n",
       " [-9.76638163168716, -1.8898129498533762, 'Etoposide'],\n",
       " [7.588437897686793, 17.200733880764037, 'Paclitaxel'],\n",
       " [4.3742493140855245, 6.582335671434604, 'Paclitaxel'],\n",
       " [-1.5935593314145318, 10.84350307092231, 'Paclitaxel'],\n",
       " [-4.455318453540831, 3.42218900225146, 'Paclitaxel'],\n",
       " [-8.26976607135132, 1.7964124456757182, 'Paclitaxel'],\n",
       " [-11.827350726877432, -2.2600090221200126, 'Paclitaxel']]"
      ]
     },
     "execution_count": 17,
     "metadata": {},
     "output_type": "execute_result"
    }
   ],
   "source": [
    "p2=p[:12]\n",
    "\n",
    "p2"
   ]
  },
  {
   "cell_type": "code",
   "execution_count": 18,
   "metadata": {},
   "outputs": [
    {
     "data": {
      "application/vnd.plotly.v1+json": {
       "config": {
        "plotlyServerURL": "https://plot.ly"
       },
       "data": [
        {
         "hovertemplate": "color=Etoposide+Etoposide+1<br>0=%{x}<br>1=%{y}<extra></extra>",
         "legendgroup": "Etoposide+Etoposide+1",
         "marker": {
          "color": "#636efa",
          "symbol": "circle"
         },
         "mode": "markers",
         "name": "Etoposide+Etoposide+1",
         "orientation": "v",
         "showlegend": true,
         "type": "scatter",
         "x": [
          17.22150367174887
         ],
         "xaxis": "x",
         "y": [
          -6.268249034072882
         ],
         "yaxis": "y"
        },
        {
         "hovertemplate": "color=Etoposide+Etoposide+2<br>0=%{x}<br>1=%{y}<extra></extra>",
         "legendgroup": "Etoposide+Etoposide+2",
         "marker": {
          "color": "#EF553B",
          "symbol": "circle"
         },
         "mode": "markers",
         "name": "Etoposide+Etoposide+2",
         "orientation": "v",
         "showlegend": true,
         "type": "scatter",
         "x": [
          17.55429855263623
         ],
         "xaxis": "x",
         "y": [
          -11.508198239032465
         ],
         "yaxis": "y"
        },
        {
         "hovertemplate": "color=Etoposide+Etoposide+3<br>0=%{x}<br>1=%{y}<extra></extra>",
         "legendgroup": "Etoposide+Etoposide+3",
         "marker": {
          "color": "#00cc96",
          "symbol": "circle"
         },
         "mode": "markers",
         "name": "Etoposide+Etoposide+3",
         "orientation": "v",
         "showlegend": true,
         "type": "scatter",
         "x": [
          12.960873530219567
         ],
         "xaxis": "x",
         "y": [
          -3.727810456016892
         ],
         "yaxis": "y"
        },
        {
         "hovertemplate": "color=Etoposide+Etoposide+4<br>0=%{x}<br>1=%{y}<extra></extra>",
         "legendgroup": "Etoposide+Etoposide+4",
         "marker": {
          "color": "#ab63fa",
          "symbol": "circle"
         },
         "mode": "markers",
         "name": "Etoposide+Etoposide+4",
         "orientation": "v",
         "showlegend": true,
         "type": "scatter",
         "x": [
          -7.569527362926761
         ],
         "xaxis": "x",
         "y": [
          -4.3334289966893955
         ],
         "yaxis": "y"
        },
        {
         "hovertemplate": "color=Etoposide+Etoposide+5<br>0=%{x}<br>1=%{y}<extra></extra>",
         "legendgroup": "Etoposide+Etoposide+5",
         "marker": {
          "color": "#FFA15A",
          "symbol": "circle"
         },
         "mode": "markers",
         "name": "Etoposide+Etoposide+5",
         "orientation": "v",
         "showlegend": true,
         "type": "scatter",
         "x": [
          -11.055020378736495
         ],
         "xaxis": "x",
         "y": [
          -2.4732271372722594
         ],
         "yaxis": "y"
        },
        {
         "hovertemplate": "color=Etoposide+Etoposide+6<br>0=%{x}<br>1=%{y}<extra></extra>",
         "legendgroup": "Etoposide+Etoposide+6",
         "marker": {
          "color": "#19d3f3",
          "symbol": "circle"
         },
         "mode": "markers",
         "name": "Etoposide+Etoposide+6",
         "orientation": "v",
         "showlegend": true,
         "type": "scatter",
         "x": [
          -9.811253332783577
         ],
         "xaxis": "x",
         "y": [
          -1.8671286120006663
         ],
         "yaxis": "y"
        },
        {
         "hovertemplate": "color=Paclitaxel+Paclitaxel+1<br>0=%{x}<br>1=%{y}<extra></extra>",
         "legendgroup": "Paclitaxel+Paclitaxel+1",
         "marker": {
          "color": "#FF6692",
          "symbol": "circle"
         },
         "mode": "markers",
         "name": "Paclitaxel+Paclitaxel+1",
         "orientation": "v",
         "showlegend": true,
         "type": "scatter",
         "x": [
          7.7818421340747665
         ],
         "xaxis": "x",
         "y": [
          17.25375047947097
         ],
         "yaxis": "y"
        },
        {
         "hovertemplate": "color=Paclitaxel+Paclitaxel+2<br>0=%{x}<br>1=%{y}<extra></extra>",
         "legendgroup": "Paclitaxel+Paclitaxel+2",
         "marker": {
          "color": "#B6E880",
          "symbol": "circle"
         },
         "mode": "markers",
         "name": "Paclitaxel+Paclitaxel+2",
         "orientation": "v",
         "showlegend": true,
         "type": "scatter",
         "x": [
          4.423432399023955
         ],
         "xaxis": "x",
         "y": [
          6.558883965912109
         ],
         "yaxis": "y"
        },
        {
         "hovertemplate": "color=Paclitaxel+Paclitaxel+3<br>0=%{x}<br>1=%{y}<extra></extra>",
         "legendgroup": "Paclitaxel+Paclitaxel+3",
         "marker": {
          "color": "#FF97FF",
          "symbol": "circle"
         },
         "mode": "markers",
         "name": "Paclitaxel+Paclitaxel+3",
         "orientation": "v",
         "showlegend": true,
         "type": "scatter",
         "x": [
          -1.5717278512114952
         ],
         "xaxis": "x",
         "y": [
          10.816699123671194
         ],
         "yaxis": "y"
        },
        {
         "hovertemplate": "color=Paclitaxel+Paclitaxel+4<br>0=%{x}<br>1=%{y}<extra></extra>",
         "legendgroup": "Paclitaxel+Paclitaxel+4",
         "marker": {
          "color": "#FECB52",
          "symbol": "circle"
         },
         "mode": "markers",
         "name": "Paclitaxel+Paclitaxel+4",
         "orientation": "v",
         "showlegend": true,
         "type": "scatter",
         "x": [
          -4.485891977968445
         ],
         "xaxis": "x",
         "y": [
          3.4053825916974128
         ],
         "yaxis": "y"
        },
        {
         "hovertemplate": "color=Paclitaxel+Paclitaxel+5<br>0=%{x}<br>1=%{y}<extra></extra>",
         "legendgroup": "Paclitaxel+Paclitaxel+5",
         "marker": {
          "color": "#636efa",
          "symbol": "circle"
         },
         "mode": "markers",
         "name": "Paclitaxel+Paclitaxel+5",
         "orientation": "v",
         "showlegend": true,
         "type": "scatter",
         "x": [
          -8.297657125931906
         ],
         "xaxis": "x",
         "y": [
          1.808750872072389
         ],
         "yaxis": "y"
        },
        {
         "hovertemplate": "color=Paclitaxel+Paclitaxel+6<br>0=%{x}<br>1=%{y}<extra></extra>",
         "legendgroup": "Paclitaxel+Paclitaxel+6",
         "marker": {
          "color": "#EF553B",
          "symbol": "circle"
         },
         "mode": "markers",
         "name": "Paclitaxel+Paclitaxel+6",
         "orientation": "v",
         "showlegend": true,
         "type": "scatter",
         "x": [
          -11.881514531694732
         ],
         "xaxis": "x",
         "y": [
          -2.2276529153935516
         ],
         "yaxis": "y"
        },
        {
         "hovertemplate": "color=Etoposide+Paclitaxel+1<br>0=%{x}<br>1=%{y}<extra></extra>",
         "legendgroup": "Etoposide+Paclitaxel+1",
         "marker": {
          "color": "#00cc96",
          "symbol": "circle"
         },
         "mode": "markers",
         "name": "Etoposide+Paclitaxel+1",
         "orientation": "v",
         "showlegend": true,
         "type": "scatter",
         "x": [
          14.146640016998303
         ],
         "xaxis": "x",
         "y": [
          -2.3555979151509567
         ],
         "yaxis": "y"
        },
        {
         "hovertemplate": "color=Etoposide+Paclitaxel+2<br>0=%{x}<br>1=%{y}<extra></extra>",
         "legendgroup": "Etoposide+Paclitaxel+2",
         "marker": {
          "color": "#ab63fa",
          "symbol": "circle"
         },
         "mode": "markers",
         "name": "Etoposide+Paclitaxel+2",
         "orientation": "v",
         "showlegend": true,
         "type": "scatter",
         "x": [
          17.49094943081759
         ],
         "xaxis": "x",
         "y": [
          -5.742178736466404
         ],
         "yaxis": "y"
        },
        {
         "hovertemplate": "color=Etoposide+Paclitaxel+3<br>0=%{x}<br>1=%{y}<extra></extra>",
         "legendgroup": "Etoposide+Paclitaxel+3",
         "marker": {
          "color": "#FFA15A",
          "symbol": "circle"
         },
         "mode": "markers",
         "name": "Etoposide+Paclitaxel+3",
         "orientation": "v",
         "showlegend": true,
         "type": "scatter",
         "x": [
          13.343860093843327
         ],
         "xaxis": "x",
         "y": [
          -1.7092143705100569
         ],
         "yaxis": "y"
        },
        {
         "hovertemplate": "color=Etoposide+Paclitaxel+4<br>0=%{x}<br>1=%{y}<extra></extra>",
         "legendgroup": "Etoposide+Paclitaxel+4",
         "marker": {
          "color": "#19d3f3",
          "symbol": "circle"
         },
         "mode": "markers",
         "name": "Etoposide+Paclitaxel+4",
         "orientation": "v",
         "showlegend": true,
         "type": "scatter",
         "x": [
          -2.531390803683978
         ],
         "xaxis": "x",
         "y": [
          -1.3923254760215928
         ],
         "yaxis": "y"
        },
        {
         "hovertemplate": "color=Etoposide+Paclitaxel+5<br>0=%{x}<br>1=%{y}<extra></extra>",
         "legendgroup": "Etoposide+Paclitaxel+5",
         "marker": {
          "color": "#FF6692",
          "symbol": "circle"
         },
         "mode": "markers",
         "name": "Etoposide+Paclitaxel+5",
         "orientation": "v",
         "showlegend": true,
         "type": "scatter",
         "x": [
          -4.339032624697378
         ],
         "xaxis": "x",
         "y": [
          -0.7749796814035835
         ],
         "yaxis": "y"
        },
        {
         "hovertemplate": "color=Etoposide+Paclitaxel+6<br>0=%{x}<br>1=%{y}<extra></extra>",
         "legendgroup": "Etoposide+Paclitaxel+6",
         "marker": {
          "color": "#B6E880",
          "symbol": "circle"
         },
         "mode": "markers",
         "name": "Etoposide+Paclitaxel+6",
         "orientation": "v",
         "showlegend": true,
         "type": "scatter",
         "x": [
          -9.598702749998855
         ],
         "xaxis": "x",
         "y": [
          -3.0288970749145805
         ],
         "yaxis": "y"
        },
        {
         "hovertemplate": "color=Paclitaxel+Etoposide+1<br>0=%{x}<br>1=%{y}<extra></extra>",
         "legendgroup": "Paclitaxel+Etoposide+1",
         "marker": {
          "color": "#FF97FF",
          "symbol": "circle"
         },
         "mode": "markers",
         "name": "Paclitaxel+Etoposide+1",
         "orientation": "v",
         "showlegend": true,
         "type": "scatter",
         "x": [
          8.478630952105668
         ],
         "xaxis": "x",
         "y": [
          14.33598924271065
         ],
         "yaxis": "y"
        },
        {
         "hovertemplate": "color=Paclitaxel+Etoposide+2<br>0=%{x}<br>1=%{y}<extra></extra>",
         "legendgroup": "Paclitaxel+Etoposide+2",
         "marker": {
          "color": "#FECB52",
          "symbol": "circle"
         },
         "mode": "markers",
         "name": "Paclitaxel+Etoposide+2",
         "orientation": "v",
         "showlegend": true,
         "type": "scatter",
         "x": [
          4.63145549433527
         ],
         "xaxis": "x",
         "y": [
          3.2991726335528053
         ],
         "yaxis": "y"
        },
        {
         "hovertemplate": "color=Paclitaxel+Etoposide+3<br>0=%{x}<br>1=%{y}<extra></extra>",
         "legendgroup": "Paclitaxel+Etoposide+3",
         "marker": {
          "color": "#636efa",
          "symbol": "circle"
         },
         "mode": "markers",
         "name": "Paclitaxel+Etoposide+3",
         "orientation": "v",
         "showlegend": true,
         "type": "scatter",
         "x": [
          -10.347217170054492
         ],
         "xaxis": "x",
         "y": [
          -2.201989896181692
         ],
         "yaxis": "y"
        },
        {
         "hovertemplate": "color=Paclitaxel+Etoposide+4<br>0=%{x}<br>1=%{y}<extra></extra>",
         "legendgroup": "Paclitaxel+Etoposide+4",
         "marker": {
          "color": "#EF553B",
          "symbol": "circle"
         },
         "mode": "markers",
         "name": "Paclitaxel+Etoposide+4",
         "orientation": "v",
         "showlegend": true,
         "type": "scatter",
         "x": [
          -12.14750092355385
         ],
         "xaxis": "x",
         "y": [
          -3.5039135621774227
         ],
         "yaxis": "y"
        },
        {
         "hovertemplate": "color=Paclitaxel+Etoposide+5<br>0=%{x}<br>1=%{y}<extra></extra>",
         "legendgroup": "Paclitaxel+Etoposide+5",
         "marker": {
          "color": "#00cc96",
          "symbol": "circle"
         },
         "mode": "markers",
         "name": "Paclitaxel+Etoposide+5",
         "orientation": "v",
         "showlegend": true,
         "type": "scatter",
         "x": [
          -10.718640328044616
         ],
         "xaxis": "x",
         "y": [
          -1.3184279141632762
         ],
         "yaxis": "y"
        },
        {
         "hovertemplate": "color=Paclitaxel+Etoposide+6<br>0=%{x}<br>1=%{y}<extra></extra>",
         "legendgroup": "Paclitaxel+Etoposide+6",
         "marker": {
          "color": "#ab63fa",
          "symbol": "circle"
         },
         "mode": "markers",
         "name": "Paclitaxel+Etoposide+6",
         "orientation": "v",
         "showlegend": true,
         "type": "scatter",
         "x": [
          -13.678409114516967
         ],
         "xaxis": "x",
         "y": [
          -3.0454088916198567
         ],
         "yaxis": "y"
        }
       ],
       "layout": {
        "legend": {
         "title": {
          "text": "color"
         },
         "tracegroupgap": 0
        },
        "margin": {
         "t": 60
        },
        "template": {
         "data": {
          "bar": [
           {
            "error_x": {
             "color": "#2a3f5f"
            },
            "error_y": {
             "color": "#2a3f5f"
            },
            "marker": {
             "line": {
              "color": "#E5ECF6",
              "width": 0.5
             },
             "pattern": {
              "fillmode": "overlay",
              "size": 10,
              "solidity": 0.2
             }
            },
            "type": "bar"
           }
          ],
          "barpolar": [
           {
            "marker": {
             "line": {
              "color": "#E5ECF6",
              "width": 0.5
             },
             "pattern": {
              "fillmode": "overlay",
              "size": 10,
              "solidity": 0.2
             }
            },
            "type": "barpolar"
           }
          ],
          "carpet": [
           {
            "aaxis": {
             "endlinecolor": "#2a3f5f",
             "gridcolor": "white",
             "linecolor": "white",
             "minorgridcolor": "white",
             "startlinecolor": "#2a3f5f"
            },
            "baxis": {
             "endlinecolor": "#2a3f5f",
             "gridcolor": "white",
             "linecolor": "white",
             "minorgridcolor": "white",
             "startlinecolor": "#2a3f5f"
            },
            "type": "carpet"
           }
          ],
          "choropleth": [
           {
            "colorbar": {
             "outlinewidth": 0,
             "ticks": ""
            },
            "type": "choropleth"
           }
          ],
          "contour": [
           {
            "colorbar": {
             "outlinewidth": 0,
             "ticks": ""
            },
            "colorscale": [
             [
              0,
              "#0d0887"
             ],
             [
              0.1111111111111111,
              "#46039f"
             ],
             [
              0.2222222222222222,
              "#7201a8"
             ],
             [
              0.3333333333333333,
              "#9c179e"
             ],
             [
              0.4444444444444444,
              "#bd3786"
             ],
             [
              0.5555555555555556,
              "#d8576b"
             ],
             [
              0.6666666666666666,
              "#ed7953"
             ],
             [
              0.7777777777777778,
              "#fb9f3a"
             ],
             [
              0.8888888888888888,
              "#fdca26"
             ],
             [
              1,
              "#f0f921"
             ]
            ],
            "type": "contour"
           }
          ],
          "contourcarpet": [
           {
            "colorbar": {
             "outlinewidth": 0,
             "ticks": ""
            },
            "type": "contourcarpet"
           }
          ],
          "heatmap": [
           {
            "colorbar": {
             "outlinewidth": 0,
             "ticks": ""
            },
            "colorscale": [
             [
              0,
              "#0d0887"
             ],
             [
              0.1111111111111111,
              "#46039f"
             ],
             [
              0.2222222222222222,
              "#7201a8"
             ],
             [
              0.3333333333333333,
              "#9c179e"
             ],
             [
              0.4444444444444444,
              "#bd3786"
             ],
             [
              0.5555555555555556,
              "#d8576b"
             ],
             [
              0.6666666666666666,
              "#ed7953"
             ],
             [
              0.7777777777777778,
              "#fb9f3a"
             ],
             [
              0.8888888888888888,
              "#fdca26"
             ],
             [
              1,
              "#f0f921"
             ]
            ],
            "type": "heatmap"
           }
          ],
          "heatmapgl": [
           {
            "colorbar": {
             "outlinewidth": 0,
             "ticks": ""
            },
            "colorscale": [
             [
              0,
              "#0d0887"
             ],
             [
              0.1111111111111111,
              "#46039f"
             ],
             [
              0.2222222222222222,
              "#7201a8"
             ],
             [
              0.3333333333333333,
              "#9c179e"
             ],
             [
              0.4444444444444444,
              "#bd3786"
             ],
             [
              0.5555555555555556,
              "#d8576b"
             ],
             [
              0.6666666666666666,
              "#ed7953"
             ],
             [
              0.7777777777777778,
              "#fb9f3a"
             ],
             [
              0.8888888888888888,
              "#fdca26"
             ],
             [
              1,
              "#f0f921"
             ]
            ],
            "type": "heatmapgl"
           }
          ],
          "histogram": [
           {
            "marker": {
             "pattern": {
              "fillmode": "overlay",
              "size": 10,
              "solidity": 0.2
             }
            },
            "type": "histogram"
           }
          ],
          "histogram2d": [
           {
            "colorbar": {
             "outlinewidth": 0,
             "ticks": ""
            },
            "colorscale": [
             [
              0,
              "#0d0887"
             ],
             [
              0.1111111111111111,
              "#46039f"
             ],
             [
              0.2222222222222222,
              "#7201a8"
             ],
             [
              0.3333333333333333,
              "#9c179e"
             ],
             [
              0.4444444444444444,
              "#bd3786"
             ],
             [
              0.5555555555555556,
              "#d8576b"
             ],
             [
              0.6666666666666666,
              "#ed7953"
             ],
             [
              0.7777777777777778,
              "#fb9f3a"
             ],
             [
              0.8888888888888888,
              "#fdca26"
             ],
             [
              1,
              "#f0f921"
             ]
            ],
            "type": "histogram2d"
           }
          ],
          "histogram2dcontour": [
           {
            "colorbar": {
             "outlinewidth": 0,
             "ticks": ""
            },
            "colorscale": [
             [
              0,
              "#0d0887"
             ],
             [
              0.1111111111111111,
              "#46039f"
             ],
             [
              0.2222222222222222,
              "#7201a8"
             ],
             [
              0.3333333333333333,
              "#9c179e"
             ],
             [
              0.4444444444444444,
              "#bd3786"
             ],
             [
              0.5555555555555556,
              "#d8576b"
             ],
             [
              0.6666666666666666,
              "#ed7953"
             ],
             [
              0.7777777777777778,
              "#fb9f3a"
             ],
             [
              0.8888888888888888,
              "#fdca26"
             ],
             [
              1,
              "#f0f921"
             ]
            ],
            "type": "histogram2dcontour"
           }
          ],
          "mesh3d": [
           {
            "colorbar": {
             "outlinewidth": 0,
             "ticks": ""
            },
            "type": "mesh3d"
           }
          ],
          "parcoords": [
           {
            "line": {
             "colorbar": {
              "outlinewidth": 0,
              "ticks": ""
             }
            },
            "type": "parcoords"
           }
          ],
          "pie": [
           {
            "automargin": true,
            "type": "pie"
           }
          ],
          "scatter": [
           {
            "fillpattern": {
             "fillmode": "overlay",
             "size": 10,
             "solidity": 0.2
            },
            "type": "scatter"
           }
          ],
          "scatter3d": [
           {
            "line": {
             "colorbar": {
              "outlinewidth": 0,
              "ticks": ""
             }
            },
            "marker": {
             "colorbar": {
              "outlinewidth": 0,
              "ticks": ""
             }
            },
            "type": "scatter3d"
           }
          ],
          "scattercarpet": [
           {
            "marker": {
             "colorbar": {
              "outlinewidth": 0,
              "ticks": ""
             }
            },
            "type": "scattercarpet"
           }
          ],
          "scattergeo": [
           {
            "marker": {
             "colorbar": {
              "outlinewidth": 0,
              "ticks": ""
             }
            },
            "type": "scattergeo"
           }
          ],
          "scattergl": [
           {
            "marker": {
             "colorbar": {
              "outlinewidth": 0,
              "ticks": ""
             }
            },
            "type": "scattergl"
           }
          ],
          "scattermapbox": [
           {
            "marker": {
             "colorbar": {
              "outlinewidth": 0,
              "ticks": ""
             }
            },
            "type": "scattermapbox"
           }
          ],
          "scatterpolar": [
           {
            "marker": {
             "colorbar": {
              "outlinewidth": 0,
              "ticks": ""
             }
            },
            "type": "scatterpolar"
           }
          ],
          "scatterpolargl": [
           {
            "marker": {
             "colorbar": {
              "outlinewidth": 0,
              "ticks": ""
             }
            },
            "type": "scatterpolargl"
           }
          ],
          "scatterternary": [
           {
            "marker": {
             "colorbar": {
              "outlinewidth": 0,
              "ticks": ""
             }
            },
            "type": "scatterternary"
           }
          ],
          "surface": [
           {
            "colorbar": {
             "outlinewidth": 0,
             "ticks": ""
            },
            "colorscale": [
             [
              0,
              "#0d0887"
             ],
             [
              0.1111111111111111,
              "#46039f"
             ],
             [
              0.2222222222222222,
              "#7201a8"
             ],
             [
              0.3333333333333333,
              "#9c179e"
             ],
             [
              0.4444444444444444,
              "#bd3786"
             ],
             [
              0.5555555555555556,
              "#d8576b"
             ],
             [
              0.6666666666666666,
              "#ed7953"
             ],
             [
              0.7777777777777778,
              "#fb9f3a"
             ],
             [
              0.8888888888888888,
              "#fdca26"
             ],
             [
              1,
              "#f0f921"
             ]
            ],
            "type": "surface"
           }
          ],
          "table": [
           {
            "cells": {
             "fill": {
              "color": "#EBF0F8"
             },
             "line": {
              "color": "white"
             }
            },
            "header": {
             "fill": {
              "color": "#C8D4E3"
             },
             "line": {
              "color": "white"
             }
            },
            "type": "table"
           }
          ]
         },
         "layout": {
          "annotationdefaults": {
           "arrowcolor": "#2a3f5f",
           "arrowhead": 0,
           "arrowwidth": 1
          },
          "autotypenumbers": "strict",
          "coloraxis": {
           "colorbar": {
            "outlinewidth": 0,
            "ticks": ""
           }
          },
          "colorscale": {
           "diverging": [
            [
             0,
             "#8e0152"
            ],
            [
             0.1,
             "#c51b7d"
            ],
            [
             0.2,
             "#de77ae"
            ],
            [
             0.3,
             "#f1b6da"
            ],
            [
             0.4,
             "#fde0ef"
            ],
            [
             0.5,
             "#f7f7f7"
            ],
            [
             0.6,
             "#e6f5d0"
            ],
            [
             0.7,
             "#b8e186"
            ],
            [
             0.8,
             "#7fbc41"
            ],
            [
             0.9,
             "#4d9221"
            ],
            [
             1,
             "#276419"
            ]
           ],
           "sequential": [
            [
             0,
             "#0d0887"
            ],
            [
             0.1111111111111111,
             "#46039f"
            ],
            [
             0.2222222222222222,
             "#7201a8"
            ],
            [
             0.3333333333333333,
             "#9c179e"
            ],
            [
             0.4444444444444444,
             "#bd3786"
            ],
            [
             0.5555555555555556,
             "#d8576b"
            ],
            [
             0.6666666666666666,
             "#ed7953"
            ],
            [
             0.7777777777777778,
             "#fb9f3a"
            ],
            [
             0.8888888888888888,
             "#fdca26"
            ],
            [
             1,
             "#f0f921"
            ]
           ],
           "sequentialminus": [
            [
             0,
             "#0d0887"
            ],
            [
             0.1111111111111111,
             "#46039f"
            ],
            [
             0.2222222222222222,
             "#7201a8"
            ],
            [
             0.3333333333333333,
             "#9c179e"
            ],
            [
             0.4444444444444444,
             "#bd3786"
            ],
            [
             0.5555555555555556,
             "#d8576b"
            ],
            [
             0.6666666666666666,
             "#ed7953"
            ],
            [
             0.7777777777777778,
             "#fb9f3a"
            ],
            [
             0.8888888888888888,
             "#fdca26"
            ],
            [
             1,
             "#f0f921"
            ]
           ]
          },
          "colorway": [
           "#636efa",
           "#EF553B",
           "#00cc96",
           "#ab63fa",
           "#FFA15A",
           "#19d3f3",
           "#FF6692",
           "#B6E880",
           "#FF97FF",
           "#FECB52"
          ],
          "font": {
           "color": "#2a3f5f"
          },
          "geo": {
           "bgcolor": "white",
           "lakecolor": "white",
           "landcolor": "#E5ECF6",
           "showlakes": true,
           "showland": true,
           "subunitcolor": "white"
          },
          "hoverlabel": {
           "align": "left"
          },
          "hovermode": "closest",
          "mapbox": {
           "style": "light"
          },
          "paper_bgcolor": "white",
          "plot_bgcolor": "#E5ECF6",
          "polar": {
           "angularaxis": {
            "gridcolor": "white",
            "linecolor": "white",
            "ticks": ""
           },
           "bgcolor": "#E5ECF6",
           "radialaxis": {
            "gridcolor": "white",
            "linecolor": "white",
            "ticks": ""
           }
          },
          "scene": {
           "xaxis": {
            "backgroundcolor": "#E5ECF6",
            "gridcolor": "white",
            "gridwidth": 2,
            "linecolor": "white",
            "showbackground": true,
            "ticks": "",
            "zerolinecolor": "white"
           },
           "yaxis": {
            "backgroundcolor": "#E5ECF6",
            "gridcolor": "white",
            "gridwidth": 2,
            "linecolor": "white",
            "showbackground": true,
            "ticks": "",
            "zerolinecolor": "white"
           },
           "zaxis": {
            "backgroundcolor": "#E5ECF6",
            "gridcolor": "white",
            "gridwidth": 2,
            "linecolor": "white",
            "showbackground": true,
            "ticks": "",
            "zerolinecolor": "white"
           }
          },
          "shapedefaults": {
           "line": {
            "color": "#2a3f5f"
           }
          },
          "ternary": {
           "aaxis": {
            "gridcolor": "white",
            "linecolor": "white",
            "ticks": ""
           },
           "baxis": {
            "gridcolor": "white",
            "linecolor": "white",
            "ticks": ""
           },
           "bgcolor": "#E5ECF6",
           "caxis": {
            "gridcolor": "white",
            "linecolor": "white",
            "ticks": ""
           }
          },
          "title": {
           "x": 0.05
          },
          "xaxis": {
           "automargin": true,
           "gridcolor": "white",
           "linecolor": "white",
           "ticks": "",
           "title": {
            "standoff": 15
           },
           "zerolinecolor": "white",
           "zerolinewidth": 2
          },
          "yaxis": {
           "automargin": true,
           "gridcolor": "white",
           "linecolor": "white",
           "ticks": "",
           "title": {
            "standoff": 15
           },
           "zerolinecolor": "white",
           "zerolinewidth": 2
          }
         }
        },
        "xaxis": {
         "anchor": "y",
         "domain": [
          0,
          1
         ],
         "title": {
          "text": "0"
         }
        },
        "yaxis": {
         "anchor": "x",
         "domain": [
          0,
          1
         ],
         "title": {
          "text": "1"
         }
        }
       }
      }
     },
     "metadata": {},
     "output_type": "display_data"
    }
   ],
   "source": [
    "#visualization(not the main work; just for getting an intuition)\n",
    "#pca model\n",
    "\n",
    "import pandas as pd\n",
    "import plotly.express as px\n",
    "from sklearn.decomposition import PCA\n",
    "from sklearn.preprocessing import StandardScaler\n",
    "\n",
    "\n",
    "X_drug = e_and_p.iloc[:, 2:240].values\n",
    "\n",
    "X_drug = StandardScaler().fit_transform(X_drug)\n",
    "\n",
    "pca_drug = PCA(n_components=2)\n",
    "components = pca_drug.fit_transform(X_drug)\n",
    "\n",
    "\n",
    "\n",
    "fig = px.scatter(components, x=0, y=1, color=e_and_p['drug_name'])\n",
    "fig.show()"
   ]
  },
  {
   "cell_type": "code",
   "execution_count": 19,
   "metadata": {},
   "outputs": [
    {
     "name": "stdout",
     "output_type": "stream",
     "text": [
      "[4.760265278668556, -2.4787627789854194, 'Etoposide+Paclitaxel']\n"
     ]
    }
   ],
   "source": [
    "def get_centroid(point_lst):\n",
    "    x_sum=0\n",
    "    y_sum=0\n",
    "    for i in range(len(point_lst)):\n",
    "        x_sum+=point_lst[i][0]\n",
    "        y_sum+=point_lst[i][1]\n",
    "\n",
    "    x_mean=x_sum/len(point_lst)\n",
    "    y_mean=y_sum/len(point_lst)\n",
    "    centroid=[]\n",
    "    centroid.append(x_mean)\n",
    "    centroid.append(y_mean)\n",
    "    centroid.append(point_lst[0][-1])\n",
    "    return centroid\n",
    "print(get_centroid(p[12:18]))\n"
   ]
  },
  {
   "cell_type": "code",
   "execution_count": 20,
   "metadata": {},
   "outputs": [
    {
     "name": "stdout",
     "output_type": "stream",
     "text": [
      "The single drug response that is similar to \" Paclitaxel+Etoposide \" is: Paclitaxel.\n"
     ]
    }
   ],
   "source": [
    "# hand-written codes about knn\n",
    "# knn codes here: I picked many k values, and pick the most frequent results\n",
    "# (results according to different k values situations)\n",
    "# 1 euclidean distance\n",
    "# Example of calculating Euclidean distance\n",
    "from math import sqrt\n",
    " \n",
    "# calculate the Euclidean distance between two vectors\n",
    "def euclidean_distance(row1, row2):\n",
    "\tdistance = 0.0\n",
    "\tfor i in range(len(row1)-1):\n",
    "\t\tdistance += (row1[i] - row2[i])**2\n",
    "\treturn sqrt(distance)\n",
    "# Locate the most similar neighbors\n",
    "def get_neighbors(train, test_row, num_neighbors):\n",
    "\tdistances = list()\n",
    "\tfor train_row in train:\n",
    "\t\tdist = euclidean_distance(test_row, train_row)\n",
    "\t\tdistances.append((train_row, dist))\n",
    "\tdistances.sort(key=lambda tup: tup[1])\n",
    "\tneighbors = list()\n",
    "\tfor i in range(num_neighbors):\n",
    "\t\tneighbors.append(distances[i][0])\n",
    "\treturn neighbors\n",
    "\n",
    "# Make a classification prediction with neighbors\n",
    "def predict_classification(train, test_row, num_neighbors):\n",
    "    \t\n",
    "\tneighbors = get_neighbors(train, test_row, num_neighbors)\n",
    "\toutput_values = [row[-1] for row in neighbors]\n",
    "\tprediction = max(set(output_values), key=output_values.count)\n",
    "\treturn prediction\n",
    " \n",
    "# Test distance function\n",
    "\n",
    "#row0 = p[12]\n",
    "#for row in p:\n",
    "#\tdistance = euclidean_distance(row0, row)\n",
    "\t#print(distance)\n",
    "neighbors = get_neighbors(p2, p[12], 3)\n",
    "#for neighbor in neighbors:\n",
    "\t#print(neighbor)\n",
    "#neighbors2=get_neighbors(newdata,newdata[12],3)\n",
    "#prediction = predict_classification(p2, p[12], 3)\n",
    "#print('The single drug response that is similar to \" %s \" is: %s.' % (p[12][-1], prediction))\n",
    "#prediction = predict_classification(p2, p[12], 4)\n",
    "#print('The single drug response that is similar to \" %s \" is: %s.' % (p[12][-1], prediction))\n",
    "#prediction = predict_classification(p2, p[12], 5)\n",
    "#print('The single drug response that is similar to \" %s \" is: %s.' % (p[12][-1], prediction))\n",
    "#prediction = predict_classification(p2, p[12], 6)\n",
    "#print('The single drug response that is similar to \" %s \" is: %s.' % (p[12][-1], prediction))\n",
    "#prediction = predict_classification(p2, p[12], 7)\n",
    "#print('The single drug response that is similar to \" %s \" is: %s.' % (p[12][-1], prediction))\n",
    "centroid_ep=get_centroid(p[12:18])\n",
    "#prediction = predict_classification(p2, centroid_ep, 3)\n",
    "#print('The single drug response that is similar to \" %s \" is: %s.' % (centroid_ep[-1], prediction))\n",
    "centroid_pe=get_centroid(p[18:24])\n",
    "new_lst=[]\n",
    "new_lst.append(centroid_pe)\n",
    "new_lst.append(centroid_ep)\n",
    "new_centroid=get_centroid(new_lst)\n",
    "#prediction = predict_classification(p2, centroid_pe, 3)\n",
    "#print('The single drug response that is similar to \" %s \" is: %s.' % (centroid_pe[-1], prediction))\n",
    "#print(new_centroid)\n",
    "res=[]\n",
    "for i in range(1,13):\n",
    "    res.append(predict_classification(p2, new_centroid, i))\n",
    "#prediction = predict_classification(p2, new_centroid, 12)\n",
    "#print('The single drug response that is similar to \" %s \" is: %s.' % (new_centroid[-1], prediction))\n",
    "\n",
    "\n",
    "def more_frequent_res(lst):\n",
    "    \t\n",
    "\tcnt1=0\n",
    "\tcnt2=0\n",
    "\tfor i in range(len(lst)):\n",
    "\t\tif lst[i]=='Paclitaxel':\n",
    "\t\t\t\tcnt1+=1\n",
    "\t\telif lst[i]=='Etoposide':\n",
    "\t\t\t\tcnt2+=1\n",
    "\tif cnt1>cnt2: return 'Paclitaxel'\n",
    "\telse: return 'Etoposide'\n",
    "\n",
    "res2=more_frequent_res(res)\n",
    "#print(res2)\n",
    "print('The single drug response that is similar to \" %s \" is: %s.' %(new_centroid[-1],res2))\n",
    "\t\t\n",
    "\n"
   ]
  },
  {
   "cell_type": "code",
   "execution_count": 21,
   "metadata": {},
   "outputs": [],
   "source": [
    "#find similar drug response\n"
   ]
  },
  {
   "cell_type": "code",
   "execution_count": null,
   "metadata": {},
   "outputs": [],
   "source": []
  }
 ],
 "metadata": {
  "kernelspec": {
   "display_name": "Python 3.8.5 ('base')",
   "language": "python",
   "name": "python3"
  },
  "language_info": {
   "codemirror_mode": {
    "name": "ipython",
    "version": 3
   },
   "file_extension": ".py",
   "mimetype": "text/x-python",
   "name": "python",
   "nbconvert_exporter": "python",
   "pygments_lexer": "ipython3",
   "version": "3.8.5"
  },
  "vscode": {
   "interpreter": {
    "hash": "40d3a090f54c6569ab1632332b64b2c03c39dcf918b08424e98f38b5ae0af88f"
   }
  }
 },
 "nbformat": 4,
 "nbformat_minor": 4
}

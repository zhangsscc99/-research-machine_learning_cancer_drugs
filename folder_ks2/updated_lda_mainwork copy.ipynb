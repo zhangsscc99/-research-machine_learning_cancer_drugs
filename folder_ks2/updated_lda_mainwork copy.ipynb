{
 "cells": [
  {
   "cell_type": "code",
   "execution_count": 1,
   "metadata": {},
   "outputs": [],
   "source": [
    "#a code block that deals with concentration and drug names\n",
    "#we do not use this block for now.\n",
    "\n",
    "import pandas as pd\n",
    "f1 = pd.read_csv('B.csv')\n",
    "f2 = pd.read_csv('C.csv')\n",
    "f3=pd.read_csv('D.csv')\n",
    "f4=pd.read_csv('E.csv')\n",
    "f5=pd.read_csv('A_ks2.csv')\n",
    "file = [f1,f2,f3,f5]\n",
    "train = pd.concat(file,axis=1)\n",
    "train.to_csv(\"train.csv\", index=0, sep=',')\n"
   ]
  },
  {
   "cell_type": "code",
   "execution_count": 2,
   "metadata": {},
   "outputs": [
    {
     "name": "stdout",
     "output_type": "stream",
     "text": [
      "-0.294442\n"
     ]
    }
   ],
   "source": [
    "#do some further processing with \"A\" because there are some data error in it\n",
    "def remove_extradots(string):\n",
    "    counter=0\n",
    "    lst=[]\n",
    "    for i in range(len(string)):\n",
    "        if string[i]=='.' and counter<1 :\n",
    "            lst.append(string[i])\n",
    "            counter+=1\n",
    "        elif string[i]!='.':\n",
    "            lst.append(string[i])\n",
    "    res=\"\".join(lst)\n",
    "    return res\n",
    "\n",
    "\n",
    "\n",
    "import csv\n",
    "res_list=[]\n",
    "print(remove_extradots(\"-0.29444.2\"))\n",
    "with open('A_ks2.csv') as file2:\n",
    "    reader=csv.reader(file2)\n",
    "\n",
    "    for row in reader:\n",
    "        data=[]\n",
    "        for i in range(len(row)):\n",
    "            \n",
    "            data.append(remove_extradots(row[i]))\n",
    "        res_list.append(data)\n",
    "    \n",
    "\n",
    "\n",
    "with open('modified_A.csv', 'w') as file3:\n",
    "    writer = csv.writer(file3)\n",
    "    writer.writerows(res_list)\n",
    "file3.close()\n",
    "                \n"
   ]
  },
  {
   "cell_type": "code",
   "execution_count": 3,
   "metadata": {},
   "outputs": [
    {
     "data": {
      "text/plain": [
       "(767, 239)"
      ]
     },
     "execution_count": 3,
     "metadata": {},
     "output_type": "execute_result"
    }
   ],
   "source": [
    "#test file A\n",
    "import pandas as pd\n",
    "df_A=pd.read_csv(\"A_ks2.csv\")\n",
    "df_A.shape\n",
    "#df_A2=pd.read_csv(\"A_modified.csv\")\n",
    "#df_A2.shape\n"
   ]
  },
  {
   "cell_type": "code",
   "execution_count": 4,
   "metadata": {},
   "outputs": [],
   "source": [
    "#a block that is used to concate the drug names(drug combinations and related concentration)\n",
    "\n",
    "import csv\n",
    "res_list=[]\n",
    "with open('train.csv', 'r') as file:\n",
    "    reader = csv.reader(file)\n",
    "    \n",
    "    for row in reader:\n",
    "        data=[]\n",
    "        data.append(row[0]+'+'+row[1]+\"+\"+row[2])\n",
    "        res_list.append(data)\n",
    "\n",
    "        \n",
    "        \n",
    "with open('concatenated.csv', 'w') as file2:\n",
    "    writer = csv.writer(file2)\n",
    "    writer.writerows(res_list)"
   ]
  },
  {
   "cell_type": "code",
   "execution_count": 5,
   "metadata": {},
   "outputs": [],
   "source": [
    "#a block that is used to concate concentration and ks numbers.\n",
    "import pandas as pd\n",
    "f1 = pd.read_csv('concatenated.csv')\n",
    "#f2 = pd.read_csv('C.csv')\n",
    "f3=pd.read_csv('D.csv')\n",
    "f4=pd.read_csv('E.csv')\n",
    "f5=pd.read_csv('modified_A.csv')\n",
    "file = [f1,f5]\n",
    "train = pd.concat(file,axis=1)\n",
    "train.to_csv(\"train3.csv\", index=0, sep=',')"
   ]
  },
  {
   "cell_type": "code",
   "execution_count": 6,
   "metadata": {},
   "outputs": [],
   "source": [
    "#a block that sets the fields for the drug data\n",
    "import csv\n",
    "fields=['drug_name','default']\n",
    "for i in range(1,239):\n",
    "    fields.append('ks'+str(i))\n",
    "rows=[]\n",
    "with open('train3.csv', 'r') as file:\n",
    "    reader = csv.reader(file)\n",
    "    \n",
    "    for row in reader:\n",
    "        rows.append(row)\n",
    "\n",
    "        \n",
    "        \n",
    "with open('drug_withfields2.csv', 'w') as file2:\n",
    "    writer = csv.writer(file2)\n",
    "    writer.writerow(fields)\n",
    "    writer.writerows(rows)"
   ]
  },
  {
   "cell_type": "code",
   "execution_count": 7,
   "metadata": {},
   "outputs": [
    {
     "name": "stdout",
     "output_type": "stream",
     "text": [
      "-0.294442\n"
     ]
    }
   ],
   "source": [
    "#do some further processing with \"drug_withfields\" because there are still some data error in it\n",
    "def remove_extradots(string):\n",
    "    counter=0\n",
    "    lst=[]\n",
    "    for i in range(len(string)):\n",
    "        if string[i]=='.' and counter<1 :\n",
    "            lst.append(string[i])\n",
    "            counter+=1\n",
    "        elif string[i]!='.':\n",
    "            lst.append(string[i])\n",
    "    res=\"\".join(lst)\n",
    "    return res\n",
    "\n",
    "\n",
    "\n",
    "import csv\n",
    "res_list=[]\n",
    "print(remove_extradots(\"-0.29444.2\"))\n",
    "with open('drug_withfields2.csv') as file2:\n",
    "    reader=csv.reader(file2)\n",
    "\n",
    "    for row in reader:\n",
    "        data=[]\n",
    "        for i in range(len(row)):\n",
    "            \n",
    "            data.append(remove_extradots(row[i]))\n",
    "        res_list.append(data)\n",
    "    \n",
    "\n",
    "\n",
    "with open('drug_with_fields.csv', 'w') as file3:\n",
    "    writer = csv.writer(file3)\n",
    "    writer.writerows(res_list)\n",
    "file3.close()\n",
    "                "
   ]
  },
  {
   "cell_type": "code",
   "execution_count": 8,
   "metadata": {},
   "outputs": [
    {
     "data": {
      "text/html": [
       "<div>\n",
       "<style scoped>\n",
       "    .dataframe tbody tr th:only-of-type {\n",
       "        vertical-align: middle;\n",
       "    }\n",
       "\n",
       "    .dataframe tbody tr th {\n",
       "        vertical-align: top;\n",
       "    }\n",
       "\n",
       "    .dataframe thead th {\n",
       "        text-align: right;\n",
       "    }\n",
       "</style>\n",
       "<table border=\"1\" class=\"dataframe\">\n",
       "  <thead>\n",
       "    <tr style=\"text-align: right;\">\n",
       "      <th></th>\n",
       "      <th>drug_name</th>\n",
       "      <th>default</th>\n",
       "      <th>ks1</th>\n",
       "      <th>ks2</th>\n",
       "      <th>ks3</th>\n",
       "      <th>ks4</th>\n",
       "      <th>ks5</th>\n",
       "      <th>ks6</th>\n",
       "      <th>ks7</th>\n",
       "      <th>ks8</th>\n",
       "      <th>...</th>\n",
       "      <th>ks229</th>\n",
       "      <th>ks230</th>\n",
       "      <th>ks231</th>\n",
       "      <th>ks232</th>\n",
       "      <th>ks233</th>\n",
       "      <th>ks234</th>\n",
       "      <th>ks235</th>\n",
       "      <th>ks236</th>\n",
       "      <th>ks237</th>\n",
       "      <th>ks238</th>\n",
       "    </tr>\n",
       "  </thead>\n",
       "  <tbody>\n",
       "    <tr>\n",
       "      <th>12</th>\n",
       "      <td>Etoposide+Gemcitabine+1</td>\n",
       "      <td>0</td>\n",
       "      <td>-0.184870</td>\n",
       "      <td>-0.099087</td>\n",
       "      <td>-0.128100</td>\n",
       "      <td>-0.090660</td>\n",
       "      <td>-0.179700</td>\n",
       "      <td>-0.136530</td>\n",
       "      <td>-0.126740</td>\n",
       "      <td>-0.120790</td>\n",
       "      <td>...</td>\n",
       "      <td>0.057665</td>\n",
       "      <td>0.114990</td>\n",
       "      <td>-0.270030</td>\n",
       "      <td>0.151400</td>\n",
       "      <td>0.107700</td>\n",
       "      <td>0.114990</td>\n",
       "      <td>-0.138540</td>\n",
       "      <td>-0.247210</td>\n",
       "      <td>-0.088777</td>\n",
       "      <td>0.280320</td>\n",
       "    </tr>\n",
       "    <tr>\n",
       "      <th>14</th>\n",
       "      <td>Etoposide+Gemcitabine+2</td>\n",
       "      <td>0</td>\n",
       "      <td>-0.160830</td>\n",
       "      <td>-0.130290</td>\n",
       "      <td>-0.207700</td>\n",
       "      <td>-0.101180</td>\n",
       "      <td>-0.231780</td>\n",
       "      <td>-0.226070</td>\n",
       "      <td>-0.216740</td>\n",
       "      <td>-0.206720</td>\n",
       "      <td>...</td>\n",
       "      <td>0.071715</td>\n",
       "      <td>0.117700</td>\n",
       "      <td>-0.295330</td>\n",
       "      <td>0.153960</td>\n",
       "      <td>0.114980</td>\n",
       "      <td>0.117700</td>\n",
       "      <td>-0.107390</td>\n",
       "      <td>-0.212550</td>\n",
       "      <td>-0.094376</td>\n",
       "      <td>0.283920</td>\n",
       "    </tr>\n",
       "    <tr>\n",
       "      <th>16</th>\n",
       "      <td>Etoposide+Gemcitabine+3</td>\n",
       "      <td>0</td>\n",
       "      <td>-0.251310</td>\n",
       "      <td>-0.090650</td>\n",
       "      <td>-0.233650</td>\n",
       "      <td>-0.083527</td>\n",
       "      <td>-0.137960</td>\n",
       "      <td>-0.229940</td>\n",
       "      <td>-0.246240</td>\n",
       "      <td>-0.240170</td>\n",
       "      <td>...</td>\n",
       "      <td>0.112950</td>\n",
       "      <td>0.140700</td>\n",
       "      <td>-0.205850</td>\n",
       "      <td>0.197110</td>\n",
       "      <td>0.165930</td>\n",
       "      <td>0.140700</td>\n",
       "      <td>-0.048163</td>\n",
       "      <td>-0.160220</td>\n",
       "      <td>-0.098555</td>\n",
       "      <td>0.185980</td>\n",
       "    </tr>\n",
       "    <tr>\n",
       "      <th>18</th>\n",
       "      <td>Etoposide+Gemcitabine+4</td>\n",
       "      <td>0</td>\n",
       "      <td>-0.182100</td>\n",
       "      <td>-0.064928</td>\n",
       "      <td>-0.196120</td>\n",
       "      <td>-0.065672</td>\n",
       "      <td>-0.115260</td>\n",
       "      <td>-0.191780</td>\n",
       "      <td>-0.191640</td>\n",
       "      <td>-0.195310</td>\n",
       "      <td>...</td>\n",
       "      <td>0.084220</td>\n",
       "      <td>0.127640</td>\n",
       "      <td>-0.114820</td>\n",
       "      <td>0.163960</td>\n",
       "      <td>0.141680</td>\n",
       "      <td>0.127640</td>\n",
       "      <td>-0.053194</td>\n",
       "      <td>-0.121520</td>\n",
       "      <td>-0.072039</td>\n",
       "      <td>0.114630</td>\n",
       "    </tr>\n",
       "    <tr>\n",
       "      <th>20</th>\n",
       "      <td>Etoposide+Gemcitabine+5</td>\n",
       "      <td>0</td>\n",
       "      <td>-0.125830</td>\n",
       "      <td>0.055525</td>\n",
       "      <td>-0.072723</td>\n",
       "      <td>0.082487</td>\n",
       "      <td>0.053150</td>\n",
       "      <td>-0.065715</td>\n",
       "      <td>-0.081916</td>\n",
       "      <td>-0.086398</td>\n",
       "      <td>...</td>\n",
       "      <td>0.097900</td>\n",
       "      <td>0.050722</td>\n",
       "      <td>-0.076864</td>\n",
       "      <td>0.131670</td>\n",
       "      <td>0.127770</td>\n",
       "      <td>0.050722</td>\n",
       "      <td>-0.042034</td>\n",
       "      <td>-0.044921</td>\n",
       "      <td>0.054350</td>\n",
       "      <td>0.066102</td>\n",
       "    </tr>\n",
       "    <tr>\n",
       "      <th>22</th>\n",
       "      <td>Etoposide+Gemcitabine+6</td>\n",
       "      <td>0</td>\n",
       "      <td>-0.083361</td>\n",
       "      <td>-0.033312</td>\n",
       "      <td>-0.036934</td>\n",
       "      <td>-0.053729</td>\n",
       "      <td>-0.029681</td>\n",
       "      <td>-0.047214</td>\n",
       "      <td>-0.040963</td>\n",
       "      <td>-0.042845</td>\n",
       "      <td>...</td>\n",
       "      <td>-0.028586</td>\n",
       "      <td>0.065742</td>\n",
       "      <td>-0.070812</td>\n",
       "      <td>0.055362</td>\n",
       "      <td>0.041370</td>\n",
       "      <td>0.065742</td>\n",
       "      <td>-0.048957</td>\n",
       "      <td>-0.069133</td>\n",
       "      <td>-0.043593</td>\n",
       "      <td>0.061693</td>\n",
       "    </tr>\n",
       "    <tr>\n",
       "      <th>72</th>\n",
       "      <td>Gemcitabine+Etoposide+1</td>\n",
       "      <td>0</td>\n",
       "      <td>-0.282500</td>\n",
       "      <td>-0.071655</td>\n",
       "      <td>-0.093233</td>\n",
       "      <td>0.137140</td>\n",
       "      <td>-0.222910</td>\n",
       "      <td>-0.129930</td>\n",
       "      <td>-0.069211</td>\n",
       "      <td>0.072609</td>\n",
       "      <td>...</td>\n",
       "      <td>0.098426</td>\n",
       "      <td>0.067214</td>\n",
       "      <td>-0.165350</td>\n",
       "      <td>0.154820</td>\n",
       "      <td>0.131320</td>\n",
       "      <td>0.067214</td>\n",
       "      <td>-0.164310</td>\n",
       "      <td>-0.189790</td>\n",
       "      <td>-0.092532</td>\n",
       "      <td>0.174360</td>\n",
       "    </tr>\n",
       "    <tr>\n",
       "      <th>74</th>\n",
       "      <td>Gemcitabine+Etoposide+2</td>\n",
       "      <td>0</td>\n",
       "      <td>-0.278330</td>\n",
       "      <td>-0.148370</td>\n",
       "      <td>-0.231830</td>\n",
       "      <td>0.152670</td>\n",
       "      <td>-0.297130</td>\n",
       "      <td>-0.250930</td>\n",
       "      <td>-0.206700</td>\n",
       "      <td>-0.205970</td>\n",
       "      <td>...</td>\n",
       "      <td>0.120800</td>\n",
       "      <td>0.084633</td>\n",
       "      <td>-0.262630</td>\n",
       "      <td>0.200130</td>\n",
       "      <td>0.149030</td>\n",
       "      <td>0.084633</td>\n",
       "      <td>-0.124470</td>\n",
       "      <td>-0.234130</td>\n",
       "      <td>-0.097500</td>\n",
       "      <td>0.259470</td>\n",
       "    </tr>\n",
       "    <tr>\n",
       "      <th>76</th>\n",
       "      <td>Gemcitabine+Etoposide+3</td>\n",
       "      <td>0</td>\n",
       "      <td>-0.127020</td>\n",
       "      <td>-0.111580</td>\n",
       "      <td>-0.229470</td>\n",
       "      <td>0.210130</td>\n",
       "      <td>-0.313550</td>\n",
       "      <td>-0.268160</td>\n",
       "      <td>-0.199610</td>\n",
       "      <td>-0.179470</td>\n",
       "      <td>...</td>\n",
       "      <td>-0.065570</td>\n",
       "      <td>0.054781</td>\n",
       "      <td>-0.209560</td>\n",
       "      <td>0.088114</td>\n",
       "      <td>-0.069649</td>\n",
       "      <td>0.054781</td>\n",
       "      <td>0.121580</td>\n",
       "      <td>-0.097588</td>\n",
       "      <td>-0.088991</td>\n",
       "      <td>0.189560</td>\n",
       "    </tr>\n",
       "    <tr>\n",
       "      <th>78</th>\n",
       "      <td>Gemcitabine+Etoposide+4</td>\n",
       "      <td>0</td>\n",
       "      <td>0.040190</td>\n",
       "      <td>-0.113630</td>\n",
       "      <td>-0.225430</td>\n",
       "      <td>0.213640</td>\n",
       "      <td>-0.190440</td>\n",
       "      <td>-0.229400</td>\n",
       "      <td>-0.204370</td>\n",
       "      <td>-0.199090</td>\n",
       "      <td>...</td>\n",
       "      <td>-0.058121</td>\n",
       "      <td>-0.046544</td>\n",
       "      <td>-0.051896</td>\n",
       "      <td>-0.073054</td>\n",
       "      <td>-0.092964</td>\n",
       "      <td>-0.046544</td>\n",
       "      <td>0.179240</td>\n",
       "      <td>0.138040</td>\n",
       "      <td>-0.055666</td>\n",
       "      <td>-0.028977</td>\n",
       "    </tr>\n",
       "    <tr>\n",
       "      <th>80</th>\n",
       "      <td>Gemcitabine+Etoposide+5</td>\n",
       "      <td>0</td>\n",
       "      <td>0.112420</td>\n",
       "      <td>-0.125760</td>\n",
       "      <td>-0.167860</td>\n",
       "      <td>0.130490</td>\n",
       "      <td>-0.198560</td>\n",
       "      <td>-0.188520</td>\n",
       "      <td>-0.157870</td>\n",
       "      <td>-0.144860</td>\n",
       "      <td>...</td>\n",
       "      <td>-0.097427</td>\n",
       "      <td>-0.047620</td>\n",
       "      <td>-0.045433</td>\n",
       "      <td>-0.129030</td>\n",
       "      <td>-0.139990</td>\n",
       "      <td>-0.047620</td>\n",
       "      <td>0.144990</td>\n",
       "      <td>0.116760</td>\n",
       "      <td>0.027143</td>\n",
       "      <td>0.037907</td>\n",
       "    </tr>\n",
       "    <tr>\n",
       "      <th>82</th>\n",
       "      <td>Gemcitabine+Etoposide+6</td>\n",
       "      <td>0</td>\n",
       "      <td>0.033567</td>\n",
       "      <td>-0.101750</td>\n",
       "      <td>-0.107470</td>\n",
       "      <td>0.093043</td>\n",
       "      <td>-0.162880</td>\n",
       "      <td>-0.106970</td>\n",
       "      <td>-0.094408</td>\n",
       "      <td>-0.092742</td>\n",
       "      <td>...</td>\n",
       "      <td>-0.045023</td>\n",
       "      <td>0.018609</td>\n",
       "      <td>-0.044488</td>\n",
       "      <td>-0.055427</td>\n",
       "      <td>-0.062031</td>\n",
       "      <td>0.018609</td>\n",
       "      <td>0.059861</td>\n",
       "      <td>0.036655</td>\n",
       "      <td>0.018495</td>\n",
       "      <td>0.047588</td>\n",
       "    </tr>\n",
       "    <tr>\n",
       "      <th>0</th>\n",
       "      <td>Etoposide+Etoposide+1</td>\n",
       "      <td>0</td>\n",
       "      <td>-0.275910</td>\n",
       "      <td>-0.090945</td>\n",
       "      <td>-0.219180</td>\n",
       "      <td>0.151500</td>\n",
       "      <td>-0.261880</td>\n",
       "      <td>-0.247700</td>\n",
       "      <td>-0.203930</td>\n",
       "      <td>-0.191430</td>\n",
       "      <td>...</td>\n",
       "      <td>0.121660</td>\n",
       "      <td>0.101620</td>\n",
       "      <td>-0.218100</td>\n",
       "      <td>0.205050</td>\n",
       "      <td>0.167310</td>\n",
       "      <td>0.101621</td>\n",
       "      <td>-0.124470</td>\n",
       "      <td>-0.203870</td>\n",
       "      <td>-0.095000</td>\n",
       "      <td>0.216890</td>\n",
       "    </tr>\n",
       "    <tr>\n",
       "      <th>2</th>\n",
       "      <td>Etoposide+Etoposide+2</td>\n",
       "      <td>0</td>\n",
       "      <td>-0.293500</td>\n",
       "      <td>-0.120860</td>\n",
       "      <td>-0.257060</td>\n",
       "      <td>-0.128320</td>\n",
       "      <td>-0.265030</td>\n",
       "      <td>-0.258180</td>\n",
       "      <td>-0.241930</td>\n",
       "      <td>-0.233880</td>\n",
       "      <td>...</td>\n",
       "      <td>0.117910</td>\n",
       "      <td>0.096803</td>\n",
       "      <td>-0.305870</td>\n",
       "      <td>0.220450</td>\n",
       "      <td>0.164190</td>\n",
       "      <td>0.096803</td>\n",
       "      <td>-0.108550</td>\n",
       "      <td>-0.253310</td>\n",
       "      <td>-0.094153</td>\n",
       "      <td>0.297360</td>\n",
       "    </tr>\n",
       "    <tr>\n",
       "      <th>4</th>\n",
       "      <td>Etoposide+Etoposide+3</td>\n",
       "      <td>0</td>\n",
       "      <td>-0.240420</td>\n",
       "      <td>-0.083899</td>\n",
       "      <td>-0.210410</td>\n",
       "      <td>0.089637</td>\n",
       "      <td>-0.172030</td>\n",
       "      <td>-0.217160</td>\n",
       "      <td>-0.210520</td>\n",
       "      <td>-0.204970</td>\n",
       "      <td>...</td>\n",
       "      <td>0.105970</td>\n",
       "      <td>0.093028</td>\n",
       "      <td>-0.161720</td>\n",
       "      <td>0.161540</td>\n",
       "      <td>0.152760</td>\n",
       "      <td>0.093028</td>\n",
       "      <td>0.047837</td>\n",
       "      <td>-0.113280</td>\n",
       "      <td>-0.076406</td>\n",
       "      <td>0.143950</td>\n",
       "    </tr>\n",
       "    <tr>\n",
       "      <th>6</th>\n",
       "      <td>Etoposide+Etoposide+4</td>\n",
       "      <td>0</td>\n",
       "      <td>-0.047500</td>\n",
       "      <td>-0.083910</td>\n",
       "      <td>-0.118560</td>\n",
       "      <td>-0.051050</td>\n",
       "      <td>-0.111450</td>\n",
       "      <td>-0.121400</td>\n",
       "      <td>-0.110790</td>\n",
       "      <td>-0.105290</td>\n",
       "      <td>...</td>\n",
       "      <td>0.030848</td>\n",
       "      <td>-0.051124</td>\n",
       "      <td>-0.092303</td>\n",
       "      <td>-0.032973</td>\n",
       "      <td>-0.048831</td>\n",
       "      <td>-0.051124</td>\n",
       "      <td>0.090242</td>\n",
       "      <td>0.034324</td>\n",
       "      <td>0.019477</td>\n",
       "      <td>0.068619</td>\n",
       "    </tr>\n",
       "    <tr>\n",
       "      <th>8</th>\n",
       "      <td>Etoposide+Etoposide+5</td>\n",
       "      <td>0</td>\n",
       "      <td>0.033567</td>\n",
       "      <td>-0.055637</td>\n",
       "      <td>-0.082210</td>\n",
       "      <td>0.047443</td>\n",
       "      <td>-0.061823</td>\n",
       "      <td>-0.086123</td>\n",
       "      <td>-0.073333</td>\n",
       "      <td>-0.072355</td>\n",
       "      <td>...</td>\n",
       "      <td>-0.044610</td>\n",
       "      <td>0.031479</td>\n",
       "      <td>-0.049750</td>\n",
       "      <td>-0.039881</td>\n",
       "      <td>-0.049906</td>\n",
       "      <td>0.031479</td>\n",
       "      <td>0.077472</td>\n",
       "      <td>0.057093</td>\n",
       "      <td>0.022270</td>\n",
       "      <td>0.043294</td>\n",
       "    </tr>\n",
       "    <tr>\n",
       "      <th>10</th>\n",
       "      <td>Etoposide+Etoposide+6</td>\n",
       "      <td>0</td>\n",
       "      <td>-0.048333</td>\n",
       "      <td>-0.069917</td>\n",
       "      <td>-0.075126</td>\n",
       "      <td>0.068748</td>\n",
       "      <td>-0.065750</td>\n",
       "      <td>-0.071556</td>\n",
       "      <td>-0.067314</td>\n",
       "      <td>-0.065130</td>\n",
       "      <td>...</td>\n",
       "      <td>-0.047176</td>\n",
       "      <td>0.050841</td>\n",
       "      <td>-0.074885</td>\n",
       "      <td>0.035328</td>\n",
       "      <td>-0.027911</td>\n",
       "      <td>0.050841</td>\n",
       "      <td>0.036477</td>\n",
       "      <td>-0.053590</td>\n",
       "      <td>-0.034550</td>\n",
       "      <td>0.069791</td>\n",
       "    </tr>\n",
       "    <tr>\n",
       "      <th>84</th>\n",
       "      <td>Gemcitabine+Gemcitabine+1</td>\n",
       "      <td>0</td>\n",
       "      <td>-0.147500</td>\n",
       "      <td>-0.110340</td>\n",
       "      <td>-0.136360</td>\n",
       "      <td>0.150780</td>\n",
       "      <td>-0.266940</td>\n",
       "      <td>-0.183890</td>\n",
       "      <td>-0.094675</td>\n",
       "      <td>-0.079493</td>\n",
       "      <td>...</td>\n",
       "      <td>-0.076809</td>\n",
       "      <td>0.119250</td>\n",
       "      <td>-0.206620</td>\n",
       "      <td>0.090485</td>\n",
       "      <td>0.066093</td>\n",
       "      <td>0.119250</td>\n",
       "      <td>-0.066808</td>\n",
       "      <td>-0.142450</td>\n",
       "      <td>-0.115190</td>\n",
       "      <td>0.169990</td>\n",
       "    </tr>\n",
       "    <tr>\n",
       "      <th>86</th>\n",
       "      <td>Gemcitabine+Gemcitabine+2</td>\n",
       "      <td>0</td>\n",
       "      <td>-0.137500</td>\n",
       "      <td>-0.116870</td>\n",
       "      <td>-0.203430</td>\n",
       "      <td>0.159140</td>\n",
       "      <td>-0.272920</td>\n",
       "      <td>-0.219580</td>\n",
       "      <td>-0.193030</td>\n",
       "      <td>-0.184520</td>\n",
       "      <td>...</td>\n",
       "      <td>-0.057089</td>\n",
       "      <td>0.097788</td>\n",
       "      <td>-0.197240</td>\n",
       "      <td>0.092949</td>\n",
       "      <td>0.066101</td>\n",
       "      <td>0.097788</td>\n",
       "      <td>0.081180</td>\n",
       "      <td>-0.128090</td>\n",
       "      <td>-0.080270</td>\n",
       "      <td>0.185870</td>\n",
       "    </tr>\n",
       "    <tr>\n",
       "      <th>88</th>\n",
       "      <td>Gemcitabine+Gemcitabine+3</td>\n",
       "      <td>0</td>\n",
       "      <td>-0.232880</td>\n",
       "      <td>-0.075379</td>\n",
       "      <td>-0.154700</td>\n",
       "      <td>0.102650</td>\n",
       "      <td>-0.176820</td>\n",
       "      <td>-0.165830</td>\n",
       "      <td>-0.149320</td>\n",
       "      <td>-0.141060</td>\n",
       "      <td>...</td>\n",
       "      <td>0.088712</td>\n",
       "      <td>0.116290</td>\n",
       "      <td>-0.278940</td>\n",
       "      <td>0.163640</td>\n",
       "      <td>0.132880</td>\n",
       "      <td>0.116290</td>\n",
       "      <td>-0.091515</td>\n",
       "      <td>-0.187880</td>\n",
       "      <td>-0.078258</td>\n",
       "      <td>0.261360</td>\n",
       "    </tr>\n",
       "    <tr>\n",
       "      <th>90</th>\n",
       "      <td>Gemcitabine+Gemcitabine+4</td>\n",
       "      <td>0</td>\n",
       "      <td>-0.120730</td>\n",
       "      <td>-0.122040</td>\n",
       "      <td>-0.264540</td>\n",
       "      <td>0.139890</td>\n",
       "      <td>-0.233570</td>\n",
       "      <td>-0.269580</td>\n",
       "      <td>-0.256340</td>\n",
       "      <td>-0.255100</td>\n",
       "      <td>...</td>\n",
       "      <td>-0.054707</td>\n",
       "      <td>0.082898</td>\n",
       "      <td>-0.138270</td>\n",
       "      <td>0.089306</td>\n",
       "      <td>0.078001</td>\n",
       "      <td>0.082898</td>\n",
       "      <td>0.127930</td>\n",
       "      <td>0.057072</td>\n",
       "      <td>-0.084982</td>\n",
       "      <td>0.133650</td>\n",
       "    </tr>\n",
       "    <tr>\n",
       "      <th>92</th>\n",
       "      <td>Gemcitabine+Gemcitabine+5</td>\n",
       "      <td>0</td>\n",
       "      <td>-0.078761</td>\n",
       "      <td>-0.056834</td>\n",
       "      <td>-0.146080</td>\n",
       "      <td>0.152750</td>\n",
       "      <td>-0.076998</td>\n",
       "      <td>-0.142650</td>\n",
       "      <td>-0.144530</td>\n",
       "      <td>-0.148220</td>\n",
       "      <td>...</td>\n",
       "      <td>0.033027</td>\n",
       "      <td>0.080362</td>\n",
       "      <td>-0.058389</td>\n",
       "      <td>0.045019</td>\n",
       "      <td>0.052029</td>\n",
       "      <td>0.080362</td>\n",
       "      <td>0.074749</td>\n",
       "      <td>0.036530</td>\n",
       "      <td>0.050034</td>\n",
       "      <td>0.036193</td>\n",
       "    </tr>\n",
       "    <tr>\n",
       "      <th>94</th>\n",
       "      <td>Gemcitabine+Gemcitabine+6</td>\n",
       "      <td>0</td>\n",
       "      <td>0.075999</td>\n",
       "      <td>-0.072383</td>\n",
       "      <td>-0.093049</td>\n",
       "      <td>0.159150</td>\n",
       "      <td>-0.141890</td>\n",
       "      <td>-0.101310</td>\n",
       "      <td>-0.079069</td>\n",
       "      <td>-0.076247</td>\n",
       "      <td>...</td>\n",
       "      <td>-0.076269</td>\n",
       "      <td>-0.039469</td>\n",
       "      <td>-0.046160</td>\n",
       "      <td>-0.076848</td>\n",
       "      <td>-0.108350</td>\n",
       "      <td>-0.039469</td>\n",
       "      <td>0.119190</td>\n",
       "      <td>0.085894</td>\n",
       "      <td>-0.020537</td>\n",
       "      <td>0.044174</td>\n",
       "    </tr>\n",
       "  </tbody>\n",
       "</table>\n",
       "<p>24 rows × 240 columns</p>\n",
       "</div>"
      ],
      "text/plain": [
       "                    drug_name  default       ks1       ks2       ks3  \\\n",
       "12    Etoposide+Gemcitabine+1        0 -0.184870 -0.099087 -0.128100   \n",
       "14    Etoposide+Gemcitabine+2        0 -0.160830 -0.130290 -0.207700   \n",
       "16    Etoposide+Gemcitabine+3        0 -0.251310 -0.090650 -0.233650   \n",
       "18    Etoposide+Gemcitabine+4        0 -0.182100 -0.064928 -0.196120   \n",
       "20    Etoposide+Gemcitabine+5        0 -0.125830  0.055525 -0.072723   \n",
       "22    Etoposide+Gemcitabine+6        0 -0.083361 -0.033312 -0.036934   \n",
       "72    Gemcitabine+Etoposide+1        0 -0.282500 -0.071655 -0.093233   \n",
       "74    Gemcitabine+Etoposide+2        0 -0.278330 -0.148370 -0.231830   \n",
       "76    Gemcitabine+Etoposide+3        0 -0.127020 -0.111580 -0.229470   \n",
       "78    Gemcitabine+Etoposide+4        0  0.040190 -0.113630 -0.225430   \n",
       "80    Gemcitabine+Etoposide+5        0  0.112420 -0.125760 -0.167860   \n",
       "82    Gemcitabine+Etoposide+6        0  0.033567 -0.101750 -0.107470   \n",
       "0       Etoposide+Etoposide+1        0 -0.275910 -0.090945 -0.219180   \n",
       "2       Etoposide+Etoposide+2        0 -0.293500 -0.120860 -0.257060   \n",
       "4       Etoposide+Etoposide+3        0 -0.240420 -0.083899 -0.210410   \n",
       "6       Etoposide+Etoposide+4        0 -0.047500 -0.083910 -0.118560   \n",
       "8       Etoposide+Etoposide+5        0  0.033567 -0.055637 -0.082210   \n",
       "10      Etoposide+Etoposide+6        0 -0.048333 -0.069917 -0.075126   \n",
       "84  Gemcitabine+Gemcitabine+1        0 -0.147500 -0.110340 -0.136360   \n",
       "86  Gemcitabine+Gemcitabine+2        0 -0.137500 -0.116870 -0.203430   \n",
       "88  Gemcitabine+Gemcitabine+3        0 -0.232880 -0.075379 -0.154700   \n",
       "90  Gemcitabine+Gemcitabine+4        0 -0.120730 -0.122040 -0.264540   \n",
       "92  Gemcitabine+Gemcitabine+5        0 -0.078761 -0.056834 -0.146080   \n",
       "94  Gemcitabine+Gemcitabine+6        0  0.075999 -0.072383 -0.093049   \n",
       "\n",
       "         ks4       ks5       ks6       ks7       ks8  ...     ks229     ks230  \\\n",
       "12 -0.090660 -0.179700 -0.136530 -0.126740 -0.120790  ...  0.057665  0.114990   \n",
       "14 -0.101180 -0.231780 -0.226070 -0.216740 -0.206720  ...  0.071715  0.117700   \n",
       "16 -0.083527 -0.137960 -0.229940 -0.246240 -0.240170  ...  0.112950  0.140700   \n",
       "18 -0.065672 -0.115260 -0.191780 -0.191640 -0.195310  ...  0.084220  0.127640   \n",
       "20  0.082487  0.053150 -0.065715 -0.081916 -0.086398  ...  0.097900  0.050722   \n",
       "22 -0.053729 -0.029681 -0.047214 -0.040963 -0.042845  ... -0.028586  0.065742   \n",
       "72  0.137140 -0.222910 -0.129930 -0.069211  0.072609  ...  0.098426  0.067214   \n",
       "74  0.152670 -0.297130 -0.250930 -0.206700 -0.205970  ...  0.120800  0.084633   \n",
       "76  0.210130 -0.313550 -0.268160 -0.199610 -0.179470  ... -0.065570  0.054781   \n",
       "78  0.213640 -0.190440 -0.229400 -0.204370 -0.199090  ... -0.058121 -0.046544   \n",
       "80  0.130490 -0.198560 -0.188520 -0.157870 -0.144860  ... -0.097427 -0.047620   \n",
       "82  0.093043 -0.162880 -0.106970 -0.094408 -0.092742  ... -0.045023  0.018609   \n",
       "0   0.151500 -0.261880 -0.247700 -0.203930 -0.191430  ...  0.121660  0.101620   \n",
       "2  -0.128320 -0.265030 -0.258180 -0.241930 -0.233880  ...  0.117910  0.096803   \n",
       "4   0.089637 -0.172030 -0.217160 -0.210520 -0.204970  ...  0.105970  0.093028   \n",
       "6  -0.051050 -0.111450 -0.121400 -0.110790 -0.105290  ...  0.030848 -0.051124   \n",
       "8   0.047443 -0.061823 -0.086123 -0.073333 -0.072355  ... -0.044610  0.031479   \n",
       "10  0.068748 -0.065750 -0.071556 -0.067314 -0.065130  ... -0.047176  0.050841   \n",
       "84  0.150780 -0.266940 -0.183890 -0.094675 -0.079493  ... -0.076809  0.119250   \n",
       "86  0.159140 -0.272920 -0.219580 -0.193030 -0.184520  ... -0.057089  0.097788   \n",
       "88  0.102650 -0.176820 -0.165830 -0.149320 -0.141060  ...  0.088712  0.116290   \n",
       "90  0.139890 -0.233570 -0.269580 -0.256340 -0.255100  ... -0.054707  0.082898   \n",
       "92  0.152750 -0.076998 -0.142650 -0.144530 -0.148220  ...  0.033027  0.080362   \n",
       "94  0.159150 -0.141890 -0.101310 -0.079069 -0.076247  ... -0.076269 -0.039469   \n",
       "\n",
       "       ks231     ks232     ks233     ks234     ks235     ks236     ks237  \\\n",
       "12 -0.270030  0.151400  0.107700  0.114990 -0.138540 -0.247210 -0.088777   \n",
       "14 -0.295330  0.153960  0.114980  0.117700 -0.107390 -0.212550 -0.094376   \n",
       "16 -0.205850  0.197110  0.165930  0.140700 -0.048163 -0.160220 -0.098555   \n",
       "18 -0.114820  0.163960  0.141680  0.127640 -0.053194 -0.121520 -0.072039   \n",
       "20 -0.076864  0.131670  0.127770  0.050722 -0.042034 -0.044921  0.054350   \n",
       "22 -0.070812  0.055362  0.041370  0.065742 -0.048957 -0.069133 -0.043593   \n",
       "72 -0.165350  0.154820  0.131320  0.067214 -0.164310 -0.189790 -0.092532   \n",
       "74 -0.262630  0.200130  0.149030  0.084633 -0.124470 -0.234130 -0.097500   \n",
       "76 -0.209560  0.088114 -0.069649  0.054781  0.121580 -0.097588 -0.088991   \n",
       "78 -0.051896 -0.073054 -0.092964 -0.046544  0.179240  0.138040 -0.055666   \n",
       "80 -0.045433 -0.129030 -0.139990 -0.047620  0.144990  0.116760  0.027143   \n",
       "82 -0.044488 -0.055427 -0.062031  0.018609  0.059861  0.036655  0.018495   \n",
       "0  -0.218100  0.205050  0.167310  0.101621 -0.124470 -0.203870 -0.095000   \n",
       "2  -0.305870  0.220450  0.164190  0.096803 -0.108550 -0.253310 -0.094153   \n",
       "4  -0.161720  0.161540  0.152760  0.093028  0.047837 -0.113280 -0.076406   \n",
       "6  -0.092303 -0.032973 -0.048831 -0.051124  0.090242  0.034324  0.019477   \n",
       "8  -0.049750 -0.039881 -0.049906  0.031479  0.077472  0.057093  0.022270   \n",
       "10 -0.074885  0.035328 -0.027911  0.050841  0.036477 -0.053590 -0.034550   \n",
       "84 -0.206620  0.090485  0.066093  0.119250 -0.066808 -0.142450 -0.115190   \n",
       "86 -0.197240  0.092949  0.066101  0.097788  0.081180 -0.128090 -0.080270   \n",
       "88 -0.278940  0.163640  0.132880  0.116290 -0.091515 -0.187880 -0.078258   \n",
       "90 -0.138270  0.089306  0.078001  0.082898  0.127930  0.057072 -0.084982   \n",
       "92 -0.058389  0.045019  0.052029  0.080362  0.074749  0.036530  0.050034   \n",
       "94 -0.046160 -0.076848 -0.108350 -0.039469  0.119190  0.085894 -0.020537   \n",
       "\n",
       "       ks238  \n",
       "12  0.280320  \n",
       "14  0.283920  \n",
       "16  0.185980  \n",
       "18  0.114630  \n",
       "20  0.066102  \n",
       "22  0.061693  \n",
       "72  0.174360  \n",
       "74  0.259470  \n",
       "76  0.189560  \n",
       "78 -0.028977  \n",
       "80  0.037907  \n",
       "82  0.047588  \n",
       "0   0.216890  \n",
       "2   0.297360  \n",
       "4   0.143950  \n",
       "6   0.068619  \n",
       "8   0.043294  \n",
       "10  0.069791  \n",
       "84  0.169990  \n",
       "86  0.185870  \n",
       "88  0.261360  \n",
       "90  0.133650  \n",
       "92  0.036193  \n",
       "94  0.044174  \n",
       "\n",
       "[24 rows x 240 columns]"
      ]
     },
     "execution_count": 8,
     "metadata": {},
     "output_type": "execute_result"
    }
   ],
   "source": [
    "df=pd.read_csv('drug_with_fields.csv')\n",
    "#one type first type. dna\n",
    "df11=df.loc[(df['drug_name'] =='Etoposide+Gemcitabine+1') ]\n",
    "df12=df.loc[(df['drug_name'] =='Etoposide+Gemcitabine+2') ]\n",
    "df13=df.loc[(df['drug_name'] =='Etoposide+Gemcitabine+3') ]\n",
    "df14=df.loc[(df['drug_name'] =='Etoposide+Gemcitabine+4') ]\n",
    "df15=df.loc[(df['drug_name'] =='Etoposide+Gemcitabine+5') ]\n",
    "df16=df.loc[(df['drug_name'] =='Etoposide+Gemcitabine+6') ]\n",
    "df21=df.loc[(df['drug_name'] =='Gemcitabine+Etoposide+1') ]\n",
    "df22=df.loc[(df['drug_name'] =='Gemcitabine+Etoposide+2') ]\n",
    "df23=df.loc[(df['drug_name'] =='Gemcitabine+Etoposide+3') ]\n",
    "df24=df.loc[(df['drug_name'] =='Gemcitabine+Etoposide+4') ]\n",
    "df25=df.loc[(df['drug_name'] =='Gemcitabine+Etoposide+5') ]\n",
    "df26=df.loc[(df['drug_name'] =='Gemcitabine+Etoposide+6') ]\n",
    "df31=df.loc[(df['drug_name'] =='Etoposide+Etoposide+1') ]\n",
    "df32=df.loc[(df['drug_name'] =='Etoposide+Etoposide+2') ]\n",
    "df33=df.loc[(df['drug_name'] =='Etoposide+Etoposide+3') ]\n",
    "df34=df.loc[(df['drug_name'] =='Etoposide+Etoposide+4') ]\n",
    "df35=df.loc[(df['drug_name'] =='Etoposide+Etoposide+5') ]\n",
    "df36=df.loc[(df['drug_name'] =='Etoposide+Etoposide+6') ]\n",
    "df41=df.loc[(df['drug_name'] =='Gemcitabine+Gemcitabine+1') ]\n",
    "df42=df.loc[(df['drug_name'] =='Gemcitabine+Gemcitabine+2') ]\n",
    "df43=df.loc[(df['drug_name'] =='Gemcitabine+Gemcitabine+3') ]\n",
    "df44=df.loc[(df['drug_name'] =='Gemcitabine+Gemcitabine+4') ]\n",
    "df45=df.loc[(df['drug_name'] =='Gemcitabine+Gemcitabine+5') ]\n",
    "df46=df.loc[(df['drug_name'] =='Gemcitabine+Gemcitabine+6') ]\n",
    "frames = [df11, df12,df13,df14,df15,df16,df21,df22,df23,df24,df25,df26,df31,df32,df33,df34,df35,df36,df41,df42,df43,df44,df45,df46]\n",
    "dna = pd.concat(frames)\n",
    "dna\n"
   ]
  },
  {
   "cell_type": "code",
   "execution_count": 9,
   "metadata": {},
   "outputs": [
    {
     "data": {
      "text/html": [
       "<div>\n",
       "<style scoped>\n",
       "    .dataframe tbody tr th:only-of-type {\n",
       "        vertical-align: middle;\n",
       "    }\n",
       "\n",
       "    .dataframe tbody tr th {\n",
       "        vertical-align: top;\n",
       "    }\n",
       "\n",
       "    .dataframe thead th {\n",
       "        text-align: right;\n",
       "    }\n",
       "</style>\n",
       "<table border=\"1\" class=\"dataframe\">\n",
       "  <thead>\n",
       "    <tr style=\"text-align: right;\">\n",
       "      <th></th>\n",
       "      <th>drug_name</th>\n",
       "      <th>default</th>\n",
       "      <th>ks1</th>\n",
       "      <th>ks2</th>\n",
       "      <th>ks3</th>\n",
       "      <th>ks4</th>\n",
       "      <th>ks5</th>\n",
       "      <th>ks6</th>\n",
       "      <th>ks7</th>\n",
       "      <th>ks8</th>\n",
       "      <th>...</th>\n",
       "      <th>ks229</th>\n",
       "      <th>ks230</th>\n",
       "      <th>ks231</th>\n",
       "      <th>ks232</th>\n",
       "      <th>ks233</th>\n",
       "      <th>ks234</th>\n",
       "      <th>ks235</th>\n",
       "      <th>ks236</th>\n",
       "      <th>ks237</th>\n",
       "      <th>ks238</th>\n",
       "    </tr>\n",
       "  </thead>\n",
       "  <tbody>\n",
       "    <tr>\n",
       "      <th>12</th>\n",
       "      <td>Etoposide+Gemcitabine+1</td>\n",
       "      <td>0</td>\n",
       "      <td>-0.184870</td>\n",
       "      <td>-0.099087</td>\n",
       "      <td>-0.128100</td>\n",
       "      <td>-0.090660</td>\n",
       "      <td>-0.179700</td>\n",
       "      <td>-0.136530</td>\n",
       "      <td>-0.126740</td>\n",
       "      <td>-0.120790</td>\n",
       "      <td>...</td>\n",
       "      <td>0.057665</td>\n",
       "      <td>0.114990</td>\n",
       "      <td>-0.270030</td>\n",
       "      <td>0.151400</td>\n",
       "      <td>0.107700</td>\n",
       "      <td>0.114990</td>\n",
       "      <td>-0.138540</td>\n",
       "      <td>-0.247210</td>\n",
       "      <td>-0.088777</td>\n",
       "      <td>0.280320</td>\n",
       "    </tr>\n",
       "    <tr>\n",
       "      <th>14</th>\n",
       "      <td>Etoposide+Gemcitabine+2</td>\n",
       "      <td>0</td>\n",
       "      <td>-0.160830</td>\n",
       "      <td>-0.130290</td>\n",
       "      <td>-0.207700</td>\n",
       "      <td>-0.101180</td>\n",
       "      <td>-0.231780</td>\n",
       "      <td>-0.226070</td>\n",
       "      <td>-0.216740</td>\n",
       "      <td>-0.206720</td>\n",
       "      <td>...</td>\n",
       "      <td>0.071715</td>\n",
       "      <td>0.117700</td>\n",
       "      <td>-0.295330</td>\n",
       "      <td>0.153960</td>\n",
       "      <td>0.114980</td>\n",
       "      <td>0.117700</td>\n",
       "      <td>-0.107390</td>\n",
       "      <td>-0.212550</td>\n",
       "      <td>-0.094376</td>\n",
       "      <td>0.283920</td>\n",
       "    </tr>\n",
       "    <tr>\n",
       "      <th>16</th>\n",
       "      <td>Etoposide+Gemcitabine+3</td>\n",
       "      <td>0</td>\n",
       "      <td>-0.251310</td>\n",
       "      <td>-0.090650</td>\n",
       "      <td>-0.233650</td>\n",
       "      <td>-0.083527</td>\n",
       "      <td>-0.137960</td>\n",
       "      <td>-0.229940</td>\n",
       "      <td>-0.246240</td>\n",
       "      <td>-0.240170</td>\n",
       "      <td>...</td>\n",
       "      <td>0.112950</td>\n",
       "      <td>0.140700</td>\n",
       "      <td>-0.205850</td>\n",
       "      <td>0.197110</td>\n",
       "      <td>0.165930</td>\n",
       "      <td>0.140700</td>\n",
       "      <td>-0.048163</td>\n",
       "      <td>-0.160220</td>\n",
       "      <td>-0.098555</td>\n",
       "      <td>0.185980</td>\n",
       "    </tr>\n",
       "    <tr>\n",
       "      <th>18</th>\n",
       "      <td>Etoposide+Gemcitabine+4</td>\n",
       "      <td>0</td>\n",
       "      <td>-0.182100</td>\n",
       "      <td>-0.064928</td>\n",
       "      <td>-0.196120</td>\n",
       "      <td>-0.065672</td>\n",
       "      <td>-0.115260</td>\n",
       "      <td>-0.191780</td>\n",
       "      <td>-0.191640</td>\n",
       "      <td>-0.195310</td>\n",
       "      <td>...</td>\n",
       "      <td>0.084220</td>\n",
       "      <td>0.127640</td>\n",
       "      <td>-0.114820</td>\n",
       "      <td>0.163960</td>\n",
       "      <td>0.141680</td>\n",
       "      <td>0.127640</td>\n",
       "      <td>-0.053194</td>\n",
       "      <td>-0.121520</td>\n",
       "      <td>-0.072039</td>\n",
       "      <td>0.114630</td>\n",
       "    </tr>\n",
       "    <tr>\n",
       "      <th>20</th>\n",
       "      <td>Etoposide+Gemcitabine+5</td>\n",
       "      <td>0</td>\n",
       "      <td>-0.125830</td>\n",
       "      <td>0.055525</td>\n",
       "      <td>-0.072723</td>\n",
       "      <td>0.082487</td>\n",
       "      <td>0.053150</td>\n",
       "      <td>-0.065715</td>\n",
       "      <td>-0.081916</td>\n",
       "      <td>-0.086398</td>\n",
       "      <td>...</td>\n",
       "      <td>0.097900</td>\n",
       "      <td>0.050722</td>\n",
       "      <td>-0.076864</td>\n",
       "      <td>0.131670</td>\n",
       "      <td>0.127770</td>\n",
       "      <td>0.050722</td>\n",
       "      <td>-0.042034</td>\n",
       "      <td>-0.044921</td>\n",
       "      <td>0.054350</td>\n",
       "      <td>0.066102</td>\n",
       "    </tr>\n",
       "    <tr>\n",
       "      <th>22</th>\n",
       "      <td>Etoposide+Gemcitabine+6</td>\n",
       "      <td>0</td>\n",
       "      <td>-0.083361</td>\n",
       "      <td>-0.033312</td>\n",
       "      <td>-0.036934</td>\n",
       "      <td>-0.053729</td>\n",
       "      <td>-0.029681</td>\n",
       "      <td>-0.047214</td>\n",
       "      <td>-0.040963</td>\n",
       "      <td>-0.042845</td>\n",
       "      <td>...</td>\n",
       "      <td>-0.028586</td>\n",
       "      <td>0.065742</td>\n",
       "      <td>-0.070812</td>\n",
       "      <td>0.055362</td>\n",
       "      <td>0.041370</td>\n",
       "      <td>0.065742</td>\n",
       "      <td>-0.048957</td>\n",
       "      <td>-0.069133</td>\n",
       "      <td>-0.043593</td>\n",
       "      <td>0.061693</td>\n",
       "    </tr>\n",
       "    <tr>\n",
       "      <th>72</th>\n",
       "      <td>Gemcitabine+Etoposide+1</td>\n",
       "      <td>0</td>\n",
       "      <td>-0.282500</td>\n",
       "      <td>-0.071655</td>\n",
       "      <td>-0.093233</td>\n",
       "      <td>0.137140</td>\n",
       "      <td>-0.222910</td>\n",
       "      <td>-0.129930</td>\n",
       "      <td>-0.069211</td>\n",
       "      <td>0.072609</td>\n",
       "      <td>...</td>\n",
       "      <td>0.098426</td>\n",
       "      <td>0.067214</td>\n",
       "      <td>-0.165350</td>\n",
       "      <td>0.154820</td>\n",
       "      <td>0.131320</td>\n",
       "      <td>0.067214</td>\n",
       "      <td>-0.164310</td>\n",
       "      <td>-0.189790</td>\n",
       "      <td>-0.092532</td>\n",
       "      <td>0.174360</td>\n",
       "    </tr>\n",
       "    <tr>\n",
       "      <th>74</th>\n",
       "      <td>Gemcitabine+Etoposide+2</td>\n",
       "      <td>0</td>\n",
       "      <td>-0.278330</td>\n",
       "      <td>-0.148370</td>\n",
       "      <td>-0.231830</td>\n",
       "      <td>0.152670</td>\n",
       "      <td>-0.297130</td>\n",
       "      <td>-0.250930</td>\n",
       "      <td>-0.206700</td>\n",
       "      <td>-0.205970</td>\n",
       "      <td>...</td>\n",
       "      <td>0.120800</td>\n",
       "      <td>0.084633</td>\n",
       "      <td>-0.262630</td>\n",
       "      <td>0.200130</td>\n",
       "      <td>0.149030</td>\n",
       "      <td>0.084633</td>\n",
       "      <td>-0.124470</td>\n",
       "      <td>-0.234130</td>\n",
       "      <td>-0.097500</td>\n",
       "      <td>0.259470</td>\n",
       "    </tr>\n",
       "    <tr>\n",
       "      <th>76</th>\n",
       "      <td>Gemcitabine+Etoposide+3</td>\n",
       "      <td>0</td>\n",
       "      <td>-0.127020</td>\n",
       "      <td>-0.111580</td>\n",
       "      <td>-0.229470</td>\n",
       "      <td>0.210130</td>\n",
       "      <td>-0.313550</td>\n",
       "      <td>-0.268160</td>\n",
       "      <td>-0.199610</td>\n",
       "      <td>-0.179470</td>\n",
       "      <td>...</td>\n",
       "      <td>-0.065570</td>\n",
       "      <td>0.054781</td>\n",
       "      <td>-0.209560</td>\n",
       "      <td>0.088114</td>\n",
       "      <td>-0.069649</td>\n",
       "      <td>0.054781</td>\n",
       "      <td>0.121580</td>\n",
       "      <td>-0.097588</td>\n",
       "      <td>-0.088991</td>\n",
       "      <td>0.189560</td>\n",
       "    </tr>\n",
       "    <tr>\n",
       "      <th>78</th>\n",
       "      <td>Gemcitabine+Etoposide+4</td>\n",
       "      <td>0</td>\n",
       "      <td>0.040190</td>\n",
       "      <td>-0.113630</td>\n",
       "      <td>-0.225430</td>\n",
       "      <td>0.213640</td>\n",
       "      <td>-0.190440</td>\n",
       "      <td>-0.229400</td>\n",
       "      <td>-0.204370</td>\n",
       "      <td>-0.199090</td>\n",
       "      <td>...</td>\n",
       "      <td>-0.058121</td>\n",
       "      <td>-0.046544</td>\n",
       "      <td>-0.051896</td>\n",
       "      <td>-0.073054</td>\n",
       "      <td>-0.092964</td>\n",
       "      <td>-0.046544</td>\n",
       "      <td>0.179240</td>\n",
       "      <td>0.138040</td>\n",
       "      <td>-0.055666</td>\n",
       "      <td>-0.028977</td>\n",
       "    </tr>\n",
       "    <tr>\n",
       "      <th>80</th>\n",
       "      <td>Gemcitabine+Etoposide+5</td>\n",
       "      <td>0</td>\n",
       "      <td>0.112420</td>\n",
       "      <td>-0.125760</td>\n",
       "      <td>-0.167860</td>\n",
       "      <td>0.130490</td>\n",
       "      <td>-0.198560</td>\n",
       "      <td>-0.188520</td>\n",
       "      <td>-0.157870</td>\n",
       "      <td>-0.144860</td>\n",
       "      <td>...</td>\n",
       "      <td>-0.097427</td>\n",
       "      <td>-0.047620</td>\n",
       "      <td>-0.045433</td>\n",
       "      <td>-0.129030</td>\n",
       "      <td>-0.139990</td>\n",
       "      <td>-0.047620</td>\n",
       "      <td>0.144990</td>\n",
       "      <td>0.116760</td>\n",
       "      <td>0.027143</td>\n",
       "      <td>0.037907</td>\n",
       "    </tr>\n",
       "    <tr>\n",
       "      <th>82</th>\n",
       "      <td>Gemcitabine+Etoposide+6</td>\n",
       "      <td>0</td>\n",
       "      <td>0.033567</td>\n",
       "      <td>-0.101750</td>\n",
       "      <td>-0.107470</td>\n",
       "      <td>0.093043</td>\n",
       "      <td>-0.162880</td>\n",
       "      <td>-0.106970</td>\n",
       "      <td>-0.094408</td>\n",
       "      <td>-0.092742</td>\n",
       "      <td>...</td>\n",
       "      <td>-0.045023</td>\n",
       "      <td>0.018609</td>\n",
       "      <td>-0.044488</td>\n",
       "      <td>-0.055427</td>\n",
       "      <td>-0.062031</td>\n",
       "      <td>0.018609</td>\n",
       "      <td>0.059861</td>\n",
       "      <td>0.036655</td>\n",
       "      <td>0.018495</td>\n",
       "      <td>0.047588</td>\n",
       "    </tr>\n",
       "    <tr>\n",
       "      <th>0</th>\n",
       "      <td>Etoposide+Etoposide+1</td>\n",
       "      <td>0</td>\n",
       "      <td>-0.275910</td>\n",
       "      <td>-0.090945</td>\n",
       "      <td>-0.219180</td>\n",
       "      <td>0.151500</td>\n",
       "      <td>-0.261880</td>\n",
       "      <td>-0.247700</td>\n",
       "      <td>-0.203930</td>\n",
       "      <td>-0.191430</td>\n",
       "      <td>...</td>\n",
       "      <td>0.121660</td>\n",
       "      <td>0.101620</td>\n",
       "      <td>-0.218100</td>\n",
       "      <td>0.205050</td>\n",
       "      <td>0.167310</td>\n",
       "      <td>0.101621</td>\n",
       "      <td>-0.124470</td>\n",
       "      <td>-0.203870</td>\n",
       "      <td>-0.095000</td>\n",
       "      <td>0.216890</td>\n",
       "    </tr>\n",
       "    <tr>\n",
       "      <th>2</th>\n",
       "      <td>Etoposide+Etoposide+2</td>\n",
       "      <td>0</td>\n",
       "      <td>-0.293500</td>\n",
       "      <td>-0.120860</td>\n",
       "      <td>-0.257060</td>\n",
       "      <td>-0.128320</td>\n",
       "      <td>-0.265030</td>\n",
       "      <td>-0.258180</td>\n",
       "      <td>-0.241930</td>\n",
       "      <td>-0.233880</td>\n",
       "      <td>...</td>\n",
       "      <td>0.117910</td>\n",
       "      <td>0.096803</td>\n",
       "      <td>-0.305870</td>\n",
       "      <td>0.220450</td>\n",
       "      <td>0.164190</td>\n",
       "      <td>0.096803</td>\n",
       "      <td>-0.108550</td>\n",
       "      <td>-0.253310</td>\n",
       "      <td>-0.094153</td>\n",
       "      <td>0.297360</td>\n",
       "    </tr>\n",
       "    <tr>\n",
       "      <th>4</th>\n",
       "      <td>Etoposide+Etoposide+3</td>\n",
       "      <td>0</td>\n",
       "      <td>-0.240420</td>\n",
       "      <td>-0.083899</td>\n",
       "      <td>-0.210410</td>\n",
       "      <td>0.089637</td>\n",
       "      <td>-0.172030</td>\n",
       "      <td>-0.217160</td>\n",
       "      <td>-0.210520</td>\n",
       "      <td>-0.204970</td>\n",
       "      <td>...</td>\n",
       "      <td>0.105970</td>\n",
       "      <td>0.093028</td>\n",
       "      <td>-0.161720</td>\n",
       "      <td>0.161540</td>\n",
       "      <td>0.152760</td>\n",
       "      <td>0.093028</td>\n",
       "      <td>0.047837</td>\n",
       "      <td>-0.113280</td>\n",
       "      <td>-0.076406</td>\n",
       "      <td>0.143950</td>\n",
       "    </tr>\n",
       "    <tr>\n",
       "      <th>6</th>\n",
       "      <td>Etoposide+Etoposide+4</td>\n",
       "      <td>0</td>\n",
       "      <td>-0.047500</td>\n",
       "      <td>-0.083910</td>\n",
       "      <td>-0.118560</td>\n",
       "      <td>-0.051050</td>\n",
       "      <td>-0.111450</td>\n",
       "      <td>-0.121400</td>\n",
       "      <td>-0.110790</td>\n",
       "      <td>-0.105290</td>\n",
       "      <td>...</td>\n",
       "      <td>0.030848</td>\n",
       "      <td>-0.051124</td>\n",
       "      <td>-0.092303</td>\n",
       "      <td>-0.032973</td>\n",
       "      <td>-0.048831</td>\n",
       "      <td>-0.051124</td>\n",
       "      <td>0.090242</td>\n",
       "      <td>0.034324</td>\n",
       "      <td>0.019477</td>\n",
       "      <td>0.068619</td>\n",
       "    </tr>\n",
       "    <tr>\n",
       "      <th>8</th>\n",
       "      <td>Etoposide+Etoposide+5</td>\n",
       "      <td>0</td>\n",
       "      <td>0.033567</td>\n",
       "      <td>-0.055637</td>\n",
       "      <td>-0.082210</td>\n",
       "      <td>0.047443</td>\n",
       "      <td>-0.061823</td>\n",
       "      <td>-0.086123</td>\n",
       "      <td>-0.073333</td>\n",
       "      <td>-0.072355</td>\n",
       "      <td>...</td>\n",
       "      <td>-0.044610</td>\n",
       "      <td>0.031479</td>\n",
       "      <td>-0.049750</td>\n",
       "      <td>-0.039881</td>\n",
       "      <td>-0.049906</td>\n",
       "      <td>0.031479</td>\n",
       "      <td>0.077472</td>\n",
       "      <td>0.057093</td>\n",
       "      <td>0.022270</td>\n",
       "      <td>0.043294</td>\n",
       "    </tr>\n",
       "    <tr>\n",
       "      <th>10</th>\n",
       "      <td>Etoposide+Etoposide+6</td>\n",
       "      <td>0</td>\n",
       "      <td>-0.048333</td>\n",
       "      <td>-0.069917</td>\n",
       "      <td>-0.075126</td>\n",
       "      <td>0.068748</td>\n",
       "      <td>-0.065750</td>\n",
       "      <td>-0.071556</td>\n",
       "      <td>-0.067314</td>\n",
       "      <td>-0.065130</td>\n",
       "      <td>...</td>\n",
       "      <td>-0.047176</td>\n",
       "      <td>0.050841</td>\n",
       "      <td>-0.074885</td>\n",
       "      <td>0.035328</td>\n",
       "      <td>-0.027911</td>\n",
       "      <td>0.050841</td>\n",
       "      <td>0.036477</td>\n",
       "      <td>-0.053590</td>\n",
       "      <td>-0.034550</td>\n",
       "      <td>0.069791</td>\n",
       "    </tr>\n",
       "    <tr>\n",
       "      <th>84</th>\n",
       "      <td>Gemcitabine+Gemcitabine+1</td>\n",
       "      <td>0</td>\n",
       "      <td>-0.147500</td>\n",
       "      <td>-0.110340</td>\n",
       "      <td>-0.136360</td>\n",
       "      <td>0.150780</td>\n",
       "      <td>-0.266940</td>\n",
       "      <td>-0.183890</td>\n",
       "      <td>-0.094675</td>\n",
       "      <td>-0.079493</td>\n",
       "      <td>...</td>\n",
       "      <td>-0.076809</td>\n",
       "      <td>0.119250</td>\n",
       "      <td>-0.206620</td>\n",
       "      <td>0.090485</td>\n",
       "      <td>0.066093</td>\n",
       "      <td>0.119250</td>\n",
       "      <td>-0.066808</td>\n",
       "      <td>-0.142450</td>\n",
       "      <td>-0.115190</td>\n",
       "      <td>0.169990</td>\n",
       "    </tr>\n",
       "    <tr>\n",
       "      <th>86</th>\n",
       "      <td>Gemcitabine+Gemcitabine+2</td>\n",
       "      <td>0</td>\n",
       "      <td>-0.137500</td>\n",
       "      <td>-0.116870</td>\n",
       "      <td>-0.203430</td>\n",
       "      <td>0.159140</td>\n",
       "      <td>-0.272920</td>\n",
       "      <td>-0.219580</td>\n",
       "      <td>-0.193030</td>\n",
       "      <td>-0.184520</td>\n",
       "      <td>...</td>\n",
       "      <td>-0.057089</td>\n",
       "      <td>0.097788</td>\n",
       "      <td>-0.197240</td>\n",
       "      <td>0.092949</td>\n",
       "      <td>0.066101</td>\n",
       "      <td>0.097788</td>\n",
       "      <td>0.081180</td>\n",
       "      <td>-0.128090</td>\n",
       "      <td>-0.080270</td>\n",
       "      <td>0.185870</td>\n",
       "    </tr>\n",
       "    <tr>\n",
       "      <th>88</th>\n",
       "      <td>Gemcitabine+Gemcitabine+3</td>\n",
       "      <td>0</td>\n",
       "      <td>-0.232880</td>\n",
       "      <td>-0.075379</td>\n",
       "      <td>-0.154700</td>\n",
       "      <td>0.102650</td>\n",
       "      <td>-0.176820</td>\n",
       "      <td>-0.165830</td>\n",
       "      <td>-0.149320</td>\n",
       "      <td>-0.141060</td>\n",
       "      <td>...</td>\n",
       "      <td>0.088712</td>\n",
       "      <td>0.116290</td>\n",
       "      <td>-0.278940</td>\n",
       "      <td>0.163640</td>\n",
       "      <td>0.132880</td>\n",
       "      <td>0.116290</td>\n",
       "      <td>-0.091515</td>\n",
       "      <td>-0.187880</td>\n",
       "      <td>-0.078258</td>\n",
       "      <td>0.261360</td>\n",
       "    </tr>\n",
       "    <tr>\n",
       "      <th>90</th>\n",
       "      <td>Gemcitabine+Gemcitabine+4</td>\n",
       "      <td>0</td>\n",
       "      <td>-0.120730</td>\n",
       "      <td>-0.122040</td>\n",
       "      <td>-0.264540</td>\n",
       "      <td>0.139890</td>\n",
       "      <td>-0.233570</td>\n",
       "      <td>-0.269580</td>\n",
       "      <td>-0.256340</td>\n",
       "      <td>-0.255100</td>\n",
       "      <td>...</td>\n",
       "      <td>-0.054707</td>\n",
       "      <td>0.082898</td>\n",
       "      <td>-0.138270</td>\n",
       "      <td>0.089306</td>\n",
       "      <td>0.078001</td>\n",
       "      <td>0.082898</td>\n",
       "      <td>0.127930</td>\n",
       "      <td>0.057072</td>\n",
       "      <td>-0.084982</td>\n",
       "      <td>0.133650</td>\n",
       "    </tr>\n",
       "    <tr>\n",
       "      <th>92</th>\n",
       "      <td>Gemcitabine+Gemcitabine+5</td>\n",
       "      <td>0</td>\n",
       "      <td>-0.078761</td>\n",
       "      <td>-0.056834</td>\n",
       "      <td>-0.146080</td>\n",
       "      <td>0.152750</td>\n",
       "      <td>-0.076998</td>\n",
       "      <td>-0.142650</td>\n",
       "      <td>-0.144530</td>\n",
       "      <td>-0.148220</td>\n",
       "      <td>...</td>\n",
       "      <td>0.033027</td>\n",
       "      <td>0.080362</td>\n",
       "      <td>-0.058389</td>\n",
       "      <td>0.045019</td>\n",
       "      <td>0.052029</td>\n",
       "      <td>0.080362</td>\n",
       "      <td>0.074749</td>\n",
       "      <td>0.036530</td>\n",
       "      <td>0.050034</td>\n",
       "      <td>0.036193</td>\n",
       "    </tr>\n",
       "    <tr>\n",
       "      <th>94</th>\n",
       "      <td>Gemcitabine+Gemcitabine+6</td>\n",
       "      <td>0</td>\n",
       "      <td>0.075999</td>\n",
       "      <td>-0.072383</td>\n",
       "      <td>-0.093049</td>\n",
       "      <td>0.159150</td>\n",
       "      <td>-0.141890</td>\n",
       "      <td>-0.101310</td>\n",
       "      <td>-0.079069</td>\n",
       "      <td>-0.076247</td>\n",
       "      <td>...</td>\n",
       "      <td>-0.076269</td>\n",
       "      <td>-0.039469</td>\n",
       "      <td>-0.046160</td>\n",
       "      <td>-0.076848</td>\n",
       "      <td>-0.108350</td>\n",
       "      <td>-0.039469</td>\n",
       "      <td>0.119190</td>\n",
       "      <td>0.085894</td>\n",
       "      <td>-0.020537</td>\n",
       "      <td>0.044174</td>\n",
       "    </tr>\n",
       "  </tbody>\n",
       "</table>\n",
       "<p>24 rows × 240 columns</p>\n",
       "</div>"
      ],
      "text/plain": [
       "                    drug_name  default       ks1       ks2       ks3  \\\n",
       "12    Etoposide+Gemcitabine+1        0 -0.184870 -0.099087 -0.128100   \n",
       "14    Etoposide+Gemcitabine+2        0 -0.160830 -0.130290 -0.207700   \n",
       "16    Etoposide+Gemcitabine+3        0 -0.251310 -0.090650 -0.233650   \n",
       "18    Etoposide+Gemcitabine+4        0 -0.182100 -0.064928 -0.196120   \n",
       "20    Etoposide+Gemcitabine+5        0 -0.125830  0.055525 -0.072723   \n",
       "22    Etoposide+Gemcitabine+6        0 -0.083361 -0.033312 -0.036934   \n",
       "72    Gemcitabine+Etoposide+1        0 -0.282500 -0.071655 -0.093233   \n",
       "74    Gemcitabine+Etoposide+2        0 -0.278330 -0.148370 -0.231830   \n",
       "76    Gemcitabine+Etoposide+3        0 -0.127020 -0.111580 -0.229470   \n",
       "78    Gemcitabine+Etoposide+4        0  0.040190 -0.113630 -0.225430   \n",
       "80    Gemcitabine+Etoposide+5        0  0.112420 -0.125760 -0.167860   \n",
       "82    Gemcitabine+Etoposide+6        0  0.033567 -0.101750 -0.107470   \n",
       "0       Etoposide+Etoposide+1        0 -0.275910 -0.090945 -0.219180   \n",
       "2       Etoposide+Etoposide+2        0 -0.293500 -0.120860 -0.257060   \n",
       "4       Etoposide+Etoposide+3        0 -0.240420 -0.083899 -0.210410   \n",
       "6       Etoposide+Etoposide+4        0 -0.047500 -0.083910 -0.118560   \n",
       "8       Etoposide+Etoposide+5        0  0.033567 -0.055637 -0.082210   \n",
       "10      Etoposide+Etoposide+6        0 -0.048333 -0.069917 -0.075126   \n",
       "84  Gemcitabine+Gemcitabine+1        0 -0.147500 -0.110340 -0.136360   \n",
       "86  Gemcitabine+Gemcitabine+2        0 -0.137500 -0.116870 -0.203430   \n",
       "88  Gemcitabine+Gemcitabine+3        0 -0.232880 -0.075379 -0.154700   \n",
       "90  Gemcitabine+Gemcitabine+4        0 -0.120730 -0.122040 -0.264540   \n",
       "92  Gemcitabine+Gemcitabine+5        0 -0.078761 -0.056834 -0.146080   \n",
       "94  Gemcitabine+Gemcitabine+6        0  0.075999 -0.072383 -0.093049   \n",
       "\n",
       "         ks4       ks5       ks6       ks7       ks8  ...     ks229     ks230  \\\n",
       "12 -0.090660 -0.179700 -0.136530 -0.126740 -0.120790  ...  0.057665  0.114990   \n",
       "14 -0.101180 -0.231780 -0.226070 -0.216740 -0.206720  ...  0.071715  0.117700   \n",
       "16 -0.083527 -0.137960 -0.229940 -0.246240 -0.240170  ...  0.112950  0.140700   \n",
       "18 -0.065672 -0.115260 -0.191780 -0.191640 -0.195310  ...  0.084220  0.127640   \n",
       "20  0.082487  0.053150 -0.065715 -0.081916 -0.086398  ...  0.097900  0.050722   \n",
       "22 -0.053729 -0.029681 -0.047214 -0.040963 -0.042845  ... -0.028586  0.065742   \n",
       "72  0.137140 -0.222910 -0.129930 -0.069211  0.072609  ...  0.098426  0.067214   \n",
       "74  0.152670 -0.297130 -0.250930 -0.206700 -0.205970  ...  0.120800  0.084633   \n",
       "76  0.210130 -0.313550 -0.268160 -0.199610 -0.179470  ... -0.065570  0.054781   \n",
       "78  0.213640 -0.190440 -0.229400 -0.204370 -0.199090  ... -0.058121 -0.046544   \n",
       "80  0.130490 -0.198560 -0.188520 -0.157870 -0.144860  ... -0.097427 -0.047620   \n",
       "82  0.093043 -0.162880 -0.106970 -0.094408 -0.092742  ... -0.045023  0.018609   \n",
       "0   0.151500 -0.261880 -0.247700 -0.203930 -0.191430  ...  0.121660  0.101620   \n",
       "2  -0.128320 -0.265030 -0.258180 -0.241930 -0.233880  ...  0.117910  0.096803   \n",
       "4   0.089637 -0.172030 -0.217160 -0.210520 -0.204970  ...  0.105970  0.093028   \n",
       "6  -0.051050 -0.111450 -0.121400 -0.110790 -0.105290  ...  0.030848 -0.051124   \n",
       "8   0.047443 -0.061823 -0.086123 -0.073333 -0.072355  ... -0.044610  0.031479   \n",
       "10  0.068748 -0.065750 -0.071556 -0.067314 -0.065130  ... -0.047176  0.050841   \n",
       "84  0.150780 -0.266940 -0.183890 -0.094675 -0.079493  ... -0.076809  0.119250   \n",
       "86  0.159140 -0.272920 -0.219580 -0.193030 -0.184520  ... -0.057089  0.097788   \n",
       "88  0.102650 -0.176820 -0.165830 -0.149320 -0.141060  ...  0.088712  0.116290   \n",
       "90  0.139890 -0.233570 -0.269580 -0.256340 -0.255100  ... -0.054707  0.082898   \n",
       "92  0.152750 -0.076998 -0.142650 -0.144530 -0.148220  ...  0.033027  0.080362   \n",
       "94  0.159150 -0.141890 -0.101310 -0.079069 -0.076247  ... -0.076269 -0.039469   \n",
       "\n",
       "       ks231     ks232     ks233     ks234     ks235     ks236     ks237  \\\n",
       "12 -0.270030  0.151400  0.107700  0.114990 -0.138540 -0.247210 -0.088777   \n",
       "14 -0.295330  0.153960  0.114980  0.117700 -0.107390 -0.212550 -0.094376   \n",
       "16 -0.205850  0.197110  0.165930  0.140700 -0.048163 -0.160220 -0.098555   \n",
       "18 -0.114820  0.163960  0.141680  0.127640 -0.053194 -0.121520 -0.072039   \n",
       "20 -0.076864  0.131670  0.127770  0.050722 -0.042034 -0.044921  0.054350   \n",
       "22 -0.070812  0.055362  0.041370  0.065742 -0.048957 -0.069133 -0.043593   \n",
       "72 -0.165350  0.154820  0.131320  0.067214 -0.164310 -0.189790 -0.092532   \n",
       "74 -0.262630  0.200130  0.149030  0.084633 -0.124470 -0.234130 -0.097500   \n",
       "76 -0.209560  0.088114 -0.069649  0.054781  0.121580 -0.097588 -0.088991   \n",
       "78 -0.051896 -0.073054 -0.092964 -0.046544  0.179240  0.138040 -0.055666   \n",
       "80 -0.045433 -0.129030 -0.139990 -0.047620  0.144990  0.116760  0.027143   \n",
       "82 -0.044488 -0.055427 -0.062031  0.018609  0.059861  0.036655  0.018495   \n",
       "0  -0.218100  0.205050  0.167310  0.101621 -0.124470 -0.203870 -0.095000   \n",
       "2  -0.305870  0.220450  0.164190  0.096803 -0.108550 -0.253310 -0.094153   \n",
       "4  -0.161720  0.161540  0.152760  0.093028  0.047837 -0.113280 -0.076406   \n",
       "6  -0.092303 -0.032973 -0.048831 -0.051124  0.090242  0.034324  0.019477   \n",
       "8  -0.049750 -0.039881 -0.049906  0.031479  0.077472  0.057093  0.022270   \n",
       "10 -0.074885  0.035328 -0.027911  0.050841  0.036477 -0.053590 -0.034550   \n",
       "84 -0.206620  0.090485  0.066093  0.119250 -0.066808 -0.142450 -0.115190   \n",
       "86 -0.197240  0.092949  0.066101  0.097788  0.081180 -0.128090 -0.080270   \n",
       "88 -0.278940  0.163640  0.132880  0.116290 -0.091515 -0.187880 -0.078258   \n",
       "90 -0.138270  0.089306  0.078001  0.082898  0.127930  0.057072 -0.084982   \n",
       "92 -0.058389  0.045019  0.052029  0.080362  0.074749  0.036530  0.050034   \n",
       "94 -0.046160 -0.076848 -0.108350 -0.039469  0.119190  0.085894 -0.020537   \n",
       "\n",
       "       ks238  \n",
       "12  0.280320  \n",
       "14  0.283920  \n",
       "16  0.185980  \n",
       "18  0.114630  \n",
       "20  0.066102  \n",
       "22  0.061693  \n",
       "72  0.174360  \n",
       "74  0.259470  \n",
       "76  0.189560  \n",
       "78 -0.028977  \n",
       "80  0.037907  \n",
       "82  0.047588  \n",
       "0   0.216890  \n",
       "2   0.297360  \n",
       "4   0.143950  \n",
       "6   0.068619  \n",
       "8   0.043294  \n",
       "10  0.069791  \n",
       "84  0.169990  \n",
       "86  0.185870  \n",
       "88  0.261360  \n",
       "90  0.133650  \n",
       "92  0.036193  \n",
       "94  0.044174  \n",
       "\n",
       "[24 rows x 240 columns]"
      ]
     },
     "execution_count": 9,
     "metadata": {},
     "output_type": "execute_result"
    }
   ],
   "source": [
    "\n",
    "#one type first type. mt\n",
    "df11=df.loc[(df['drug_name'] =='Paclitaxel+Vinblastine+1') ]\n",
    "df12=df.loc[(df['drug_name'] =='Paclitaxel+Vinblastine+2') ]\n",
    "df13=df.loc[(df['drug_name'] =='Paclitaxel+Vinblastine+3') ]\n",
    "df14=df.loc[(df['drug_name'] =='Paclitaxel+Vinblastine+4') ]\n",
    "df15=df.loc[(df['drug_name'] =='Paclitaxel+Vinblastine+5') ]\n",
    "df16=df.loc[(df['drug_name'] =='Paclitaxel+Vinblastine+6') ]\n",
    "df21=df.loc[(df['drug_name'] =='Vinblastine+Paclitaxel+1') ]\n",
    "df22=df.loc[(df['drug_name'] =='Vinblastine+Paclitaxel+2') ]\n",
    "df23=df.loc[(df['drug_name'] =='Vinblastine+Paclitaxel+3') ]\n",
    "df24=df.loc[(df['drug_name'] =='Vinblastine+Paclitaxel+4') ]\n",
    "df25=df.loc[(df['drug_name'] =='Vinblastine+Paclitaxel+5') ]\n",
    "df26=df.loc[(df['drug_name'] =='Vinblastine+Paclitaxel+6') ]\n",
    "df31=df.loc[(df['drug_name'] =='Paclitaxel+Paclitaxel+1') ]\n",
    "df32=df.loc[(df['drug_name'] =='Paclitaxel+Paclitaxel+2') ]\n",
    "df33=df.loc[(df['drug_name'] =='Paclitaxel+Paclitaxel+3') ]\n",
    "df34=df.loc[(df['drug_name'] =='Paclitaxel+Paclitaxel+4') ]\n",
    "df35=df.loc[(df['drug_name'] =='Paclitaxel+Paclitaxel+5') ]\n",
    "df36=df.loc[(df['drug_name'] =='Paclitaxel+Paclitaxel+6') ]\n",
    "df41=df.loc[(df['drug_name'] =='Vinblastine+Vinblastine+1') ]\n",
    "df42=df.loc[(df['drug_name'] =='Vinblastine+Vinblastine+2') ]\n",
    "df43=df.loc[(df['drug_name'] =='Vinblastine+Vinblastine+3') ]\n",
    "df44=df.loc[(df['drug_name'] =='Vinblastine+Vinblastine+4') ]\n",
    "df45=df.loc[(df['drug_name'] =='Vinblastine+Vinblastine+5') ]\n",
    "df46=df.loc[(df['drug_name'] =='Vinblastine+Vinblastine+6') ]\n",
    "frames2 = [df11, df12,df13,df14,df15,df16,df21,df22,df23,df24,df25,df26,df31,df32,df33,df34,df35,df36,df41,df42,df43,df44,df45,df46]\n",
    "mt= pd.concat(frames)\n",
    "mt\n",
    "\n"
   ]
  },
  {
   "cell_type": "code",
   "execution_count": 10,
   "metadata": {},
   "outputs": [
    {
     "data": {
      "text/html": [
       "<div>\n",
       "<style scoped>\n",
       "    .dataframe tbody tr th:only-of-type {\n",
       "        vertical-align: middle;\n",
       "    }\n",
       "\n",
       "    .dataframe tbody tr th {\n",
       "        vertical-align: top;\n",
       "    }\n",
       "\n",
       "    .dataframe thead th {\n",
       "        text-align: right;\n",
       "    }\n",
       "</style>\n",
       "<table border=\"1\" class=\"dataframe\">\n",
       "  <thead>\n",
       "    <tr style=\"text-align: right;\">\n",
       "      <th></th>\n",
       "      <th>drug_name</th>\n",
       "      <th>default</th>\n",
       "      <th>ks1</th>\n",
       "      <th>ks2</th>\n",
       "      <th>ks3</th>\n",
       "      <th>ks4</th>\n",
       "      <th>ks5</th>\n",
       "      <th>ks6</th>\n",
       "      <th>ks7</th>\n",
       "      <th>ks8</th>\n",
       "      <th>...</th>\n",
       "      <th>ks229</th>\n",
       "      <th>ks230</th>\n",
       "      <th>ks231</th>\n",
       "      <th>ks232</th>\n",
       "      <th>ks233</th>\n",
       "      <th>ks234</th>\n",
       "      <th>ks235</th>\n",
       "      <th>ks236</th>\n",
       "      <th>ks237</th>\n",
       "      <th>ks238</th>\n",
       "    </tr>\n",
       "  </thead>\n",
       "  <tbody>\n",
       "    <tr>\n",
       "      <th>397</th>\n",
       "      <td>17AAG+AUY922+1</td>\n",
       "      <td>0</td>\n",
       "      <td>-0.293330</td>\n",
       "      <td>-0.153810</td>\n",
       "      <td>-0.168630</td>\n",
       "      <td>-0.126450</td>\n",
       "      <td>-0.315680</td>\n",
       "      <td>-0.174020</td>\n",
       "      <td>-0.146800</td>\n",
       "      <td>-0.147340</td>\n",
       "      <td>...</td>\n",
       "      <td>0.086603</td>\n",
       "      <td>0.134620</td>\n",
       "      <td>-0.204080</td>\n",
       "      <td>0.194780</td>\n",
       "      <td>0.145140</td>\n",
       "      <td>0.134620</td>\n",
       "      <td>-0.275390</td>\n",
       "      <td>-0.296960</td>\n",
       "      <td>-0.164450</td>\n",
       "      <td>0.214620</td>\n",
       "    </tr>\n",
       "    <tr>\n",
       "      <th>399</th>\n",
       "      <td>17AAG+AUY922+2</td>\n",
       "      <td>0</td>\n",
       "      <td>-0.442500</td>\n",
       "      <td>-0.169570</td>\n",
       "      <td>-0.264150</td>\n",
       "      <td>0.134970</td>\n",
       "      <td>-0.336240</td>\n",
       "      <td>-0.265020</td>\n",
       "      <td>-0.240410</td>\n",
       "      <td>-0.229120</td>\n",
       "      <td>...</td>\n",
       "      <td>0.149120</td>\n",
       "      <td>0.126060</td>\n",
       "      <td>-0.250120</td>\n",
       "      <td>0.300720</td>\n",
       "      <td>0.219990</td>\n",
       "      <td>0.126060</td>\n",
       "      <td>-0.265570</td>\n",
       "      <td>-0.344980</td>\n",
       "      <td>-0.127390</td>\n",
       "      <td>0.286000</td>\n",
       "    </tr>\n",
       "    <tr>\n",
       "      <th>401</th>\n",
       "      <td>17AAG+AUY922+3</td>\n",
       "      <td>0</td>\n",
       "      <td>-0.447500</td>\n",
       "      <td>-0.158600</td>\n",
       "      <td>-0.244360</td>\n",
       "      <td>-0.137810</td>\n",
       "      <td>-0.334700</td>\n",
       "      <td>-0.250510</td>\n",
       "      <td>-0.233340</td>\n",
       "      <td>-0.227700</td>\n",
       "      <td>...</td>\n",
       "      <td>0.141520</td>\n",
       "      <td>0.157670</td>\n",
       "      <td>-0.315380</td>\n",
       "      <td>0.283470</td>\n",
       "      <td>0.224310</td>\n",
       "      <td>0.157670</td>\n",
       "      <td>-0.251890</td>\n",
       "      <td>-0.373510</td>\n",
       "      <td>-0.120390</td>\n",
       "      <td>0.310270</td>\n",
       "    </tr>\n",
       "    <tr>\n",
       "      <th>403</th>\n",
       "      <td>17AAG+AUY922+4</td>\n",
       "      <td>0</td>\n",
       "      <td>-0.291720</td>\n",
       "      <td>-0.116050</td>\n",
       "      <td>-0.256050</td>\n",
       "      <td>0.108790</td>\n",
       "      <td>-0.231450</td>\n",
       "      <td>-0.250510</td>\n",
       "      <td>-0.246450</td>\n",
       "      <td>-0.252550</td>\n",
       "      <td>...</td>\n",
       "      <td>0.129950</td>\n",
       "      <td>0.090215</td>\n",
       "      <td>-0.161320</td>\n",
       "      <td>0.210750</td>\n",
       "      <td>0.196160</td>\n",
       "      <td>0.090215</td>\n",
       "      <td>-0.127900</td>\n",
       "      <td>-0.232530</td>\n",
       "      <td>-0.091183</td>\n",
       "      <td>0.177550</td>\n",
       "    </tr>\n",
       "    <tr>\n",
       "      <th>405</th>\n",
       "      <td>17AAG+AUY922+5</td>\n",
       "      <td>0</td>\n",
       "      <td>-0.051667</td>\n",
       "      <td>-0.043185</td>\n",
       "      <td>-0.075513</td>\n",
       "      <td>0.063609</td>\n",
       "      <td>-0.036511</td>\n",
       "      <td>-0.076548</td>\n",
       "      <td>-0.074988</td>\n",
       "      <td>-0.078437</td>\n",
       "      <td>...</td>\n",
       "      <td>0.054169</td>\n",
       "      <td>0.035543</td>\n",
       "      <td>-0.058353</td>\n",
       "      <td>0.069561</td>\n",
       "      <td>0.059375</td>\n",
       "      <td>0.035543</td>\n",
       "      <td>-0.076825</td>\n",
       "      <td>-0.095726</td>\n",
       "      <td>-0.035701</td>\n",
       "      <td>0.065025</td>\n",
       "    </tr>\n",
       "    <tr>\n",
       "      <th>407</th>\n",
       "      <td>17AAG+AUY922+6</td>\n",
       "      <td>0</td>\n",
       "      <td>-0.027500</td>\n",
       "      <td>-0.036471</td>\n",
       "      <td>-0.078881</td>\n",
       "      <td>0.093110</td>\n",
       "      <td>-0.087237</td>\n",
       "      <td>-0.083087</td>\n",
       "      <td>-0.071404</td>\n",
       "      <td>-0.061644</td>\n",
       "      <td>...</td>\n",
       "      <td>-0.034032</td>\n",
       "      <td>-0.049821</td>\n",
       "      <td>-0.072673</td>\n",
       "      <td>0.040895</td>\n",
       "      <td>-0.029223</td>\n",
       "      <td>-0.049821</td>\n",
       "      <td>0.060017</td>\n",
       "      <td>-0.056449</td>\n",
       "      <td>0.035078</td>\n",
       "      <td>0.047411</td>\n",
       "    </tr>\n",
       "    <tr>\n",
       "      <th>457</th>\n",
       "      <td>AUY922+17AAG+1</td>\n",
       "      <td>0</td>\n",
       "      <td>-0.032740</td>\n",
       "      <td>-0.061780</td>\n",
       "      <td>0.080494</td>\n",
       "      <td>-0.077161</td>\n",
       "      <td>-0.222740</td>\n",
       "      <td>-0.111770</td>\n",
       "      <td>0.089944</td>\n",
       "      <td>0.135550</td>\n",
       "      <td>...</td>\n",
       "      <td>-0.097147</td>\n",
       "      <td>0.042260</td>\n",
       "      <td>-0.200590</td>\n",
       "      <td>-0.076737</td>\n",
       "      <td>-0.105550</td>\n",
       "      <td>0.042260</td>\n",
       "      <td>0.091102</td>\n",
       "      <td>-0.135070</td>\n",
       "      <td>-0.111190</td>\n",
       "      <td>0.198150</td>\n",
       "    </tr>\n",
       "    <tr>\n",
       "      <th>459</th>\n",
       "      <td>AUY922+17AAG+2</td>\n",
       "      <td>0</td>\n",
       "      <td>-0.100830</td>\n",
       "      <td>-0.114660</td>\n",
       "      <td>-0.211770</td>\n",
       "      <td>-0.096207</td>\n",
       "      <td>-0.303180</td>\n",
       "      <td>-0.239620</td>\n",
       "      <td>-0.184140</td>\n",
       "      <td>-0.162510</td>\n",
       "      <td>...</td>\n",
       "      <td>-0.091839</td>\n",
       "      <td>0.064842</td>\n",
       "      <td>-0.217090</td>\n",
       "      <td>0.077474</td>\n",
       "      <td>-0.083486</td>\n",
       "      <td>0.064842</td>\n",
       "      <td>0.108000</td>\n",
       "      <td>-0.156790</td>\n",
       "      <td>-0.106800</td>\n",
       "      <td>0.215600</td>\n",
       "    </tr>\n",
       "    <tr>\n",
       "      <th>461</th>\n",
       "      <td>AUY922+17AAG+3</td>\n",
       "      <td>0</td>\n",
       "      <td>-0.246980</td>\n",
       "      <td>-0.129550</td>\n",
       "      <td>-0.288340</td>\n",
       "      <td>0.155660</td>\n",
       "      <td>-0.330310</td>\n",
       "      <td>-0.291760</td>\n",
       "      <td>-0.266100</td>\n",
       "      <td>-0.271020</td>\n",
       "      <td>...</td>\n",
       "      <td>0.135770</td>\n",
       "      <td>0.077002</td>\n",
       "      <td>-0.185520</td>\n",
       "      <td>0.203720</td>\n",
       "      <td>0.189250</td>\n",
       "      <td>0.077002</td>\n",
       "      <td>-0.108930</td>\n",
       "      <td>-0.208800</td>\n",
       "      <td>-0.089710</td>\n",
       "      <td>0.177360</td>\n",
       "    </tr>\n",
       "    <tr>\n",
       "      <th>463</th>\n",
       "      <td>AUY922+17AAG+4</td>\n",
       "      <td>0</td>\n",
       "      <td>-0.218750</td>\n",
       "      <td>-0.102870</td>\n",
       "      <td>-0.253970</td>\n",
       "      <td>0.147240</td>\n",
       "      <td>-0.222000</td>\n",
       "      <td>-0.272770</td>\n",
       "      <td>-0.240000</td>\n",
       "      <td>-0.237550</td>\n",
       "      <td>...</td>\n",
       "      <td>0.103810</td>\n",
       "      <td>0.096509</td>\n",
       "      <td>-0.125100</td>\n",
       "      <td>0.166270</td>\n",
       "      <td>0.140760</td>\n",
       "      <td>0.096509</td>\n",
       "      <td>-0.081137</td>\n",
       "      <td>-0.163730</td>\n",
       "      <td>-0.052786</td>\n",
       "      <td>0.114290</td>\n",
       "    </tr>\n",
       "    <tr>\n",
       "      <th>465</th>\n",
       "      <td>AUY922+17AAG+5</td>\n",
       "      <td>0</td>\n",
       "      <td>0.046269</td>\n",
       "      <td>-0.099380</td>\n",
       "      <td>-0.162230</td>\n",
       "      <td>0.120990</td>\n",
       "      <td>-0.188280</td>\n",
       "      <td>-0.170210</td>\n",
       "      <td>-0.138730</td>\n",
       "      <td>-0.145950</td>\n",
       "      <td>...</td>\n",
       "      <td>-0.055037</td>\n",
       "      <td>0.035004</td>\n",
       "      <td>-0.057565</td>\n",
       "      <td>-0.039253</td>\n",
       "      <td>-0.044968</td>\n",
       "      <td>0.035004</td>\n",
       "      <td>0.052402</td>\n",
       "      <td>-0.029179</td>\n",
       "      <td>-0.032786</td>\n",
       "      <td>0.064860</td>\n",
       "    </tr>\n",
       "    <tr>\n",
       "      <th>467</th>\n",
       "      <td>AUY922+17AAG+6</td>\n",
       "      <td>0</td>\n",
       "      <td>0.071875</td>\n",
       "      <td>-0.083333</td>\n",
       "      <td>-0.094583</td>\n",
       "      <td>0.143120</td>\n",
       "      <td>-0.113750</td>\n",
       "      <td>-0.100000</td>\n",
       "      <td>-0.081458</td>\n",
       "      <td>-0.081042</td>\n",
       "      <td>...</td>\n",
       "      <td>-0.061458</td>\n",
       "      <td>-0.053542</td>\n",
       "      <td>-0.029583</td>\n",
       "      <td>-0.088958</td>\n",
       "      <td>-0.089583</td>\n",
       "      <td>-0.053542</td>\n",
       "      <td>0.093542</td>\n",
       "      <td>0.070000</td>\n",
       "      <td>-0.037292</td>\n",
       "      <td>0.030625</td>\n",
       "    </tr>\n",
       "    <tr>\n",
       "      <th>469</th>\n",
       "      <td>AUY922+AUY922+1</td>\n",
       "      <td>0</td>\n",
       "      <td>-0.261670</td>\n",
       "      <td>-0.129740</td>\n",
       "      <td>-0.160260</td>\n",
       "      <td>0.137500</td>\n",
       "      <td>-0.290380</td>\n",
       "      <td>-0.181600</td>\n",
       "      <td>-0.127050</td>\n",
       "      <td>-0.128010</td>\n",
       "      <td>...</td>\n",
       "      <td>0.074295</td>\n",
       "      <td>0.126670</td>\n",
       "      <td>-0.194490</td>\n",
       "      <td>0.189230</td>\n",
       "      <td>0.125000</td>\n",
       "      <td>0.126670</td>\n",
       "      <td>-0.201600</td>\n",
       "      <td>-0.283270</td>\n",
       "      <td>-0.132820</td>\n",
       "      <td>0.201730</td>\n",
       "    </tr>\n",
       "    <tr>\n",
       "      <th>471</th>\n",
       "      <td>AUY922+AUY922+2</td>\n",
       "      <td>0</td>\n",
       "      <td>-0.252930</td>\n",
       "      <td>-0.115000</td>\n",
       "      <td>-0.180040</td>\n",
       "      <td>-0.087114</td>\n",
       "      <td>-0.220200</td>\n",
       "      <td>-0.187890</td>\n",
       "      <td>-0.166990</td>\n",
       "      <td>-0.162260</td>\n",
       "      <td>...</td>\n",
       "      <td>0.081667</td>\n",
       "      <td>0.140260</td>\n",
       "      <td>-0.285980</td>\n",
       "      <td>0.234470</td>\n",
       "      <td>0.176770</td>\n",
       "      <td>0.140260</td>\n",
       "      <td>-0.210140</td>\n",
       "      <td>-0.323130</td>\n",
       "      <td>-0.162110</td>\n",
       "      <td>0.274720</td>\n",
       "    </tr>\n",
       "    <tr>\n",
       "      <th>473</th>\n",
       "      <td>AUY922+AUY922+3</td>\n",
       "      <td>0</td>\n",
       "      <td>-0.257500</td>\n",
       "      <td>-0.130040</td>\n",
       "      <td>-0.216640</td>\n",
       "      <td>-0.116110</td>\n",
       "      <td>-0.326200</td>\n",
       "      <td>-0.225840</td>\n",
       "      <td>-0.202500</td>\n",
       "      <td>-0.192370</td>\n",
       "      <td>...</td>\n",
       "      <td>0.077697</td>\n",
       "      <td>0.099904</td>\n",
       "      <td>-0.235770</td>\n",
       "      <td>0.182280</td>\n",
       "      <td>0.130820</td>\n",
       "      <td>0.099904</td>\n",
       "      <td>-0.129670</td>\n",
       "      <td>-0.249850</td>\n",
       "      <td>-0.109580</td>\n",
       "      <td>0.257170</td>\n",
       "    </tr>\n",
       "    <tr>\n",
       "      <th>475</th>\n",
       "      <td>AUY922+AUY922+4</td>\n",
       "      <td>0</td>\n",
       "      <td>-0.225150</td>\n",
       "      <td>-0.113680</td>\n",
       "      <td>-0.224070</td>\n",
       "      <td>-0.124950</td>\n",
       "      <td>-0.229360</td>\n",
       "      <td>-0.216720</td>\n",
       "      <td>-0.216470</td>\n",
       "      <td>-0.217700</td>\n",
       "      <td>...</td>\n",
       "      <td>0.082108</td>\n",
       "      <td>0.067500</td>\n",
       "      <td>-0.138140</td>\n",
       "      <td>0.189310</td>\n",
       "      <td>0.147160</td>\n",
       "      <td>0.067500</td>\n",
       "      <td>-0.078088</td>\n",
       "      <td>-0.174020</td>\n",
       "      <td>-0.053725</td>\n",
       "      <td>0.145440</td>\n",
       "    </tr>\n",
       "    <tr>\n",
       "      <th>477</th>\n",
       "      <td>AUY922+AUY922+5</td>\n",
       "      <td>0</td>\n",
       "      <td>-0.119690</td>\n",
       "      <td>0.032366</td>\n",
       "      <td>-0.105430</td>\n",
       "      <td>0.079650</td>\n",
       "      <td>-0.037983</td>\n",
       "      <td>-0.092926</td>\n",
       "      <td>-0.103120</td>\n",
       "      <td>-0.105500</td>\n",
       "      <td>...</td>\n",
       "      <td>0.093887</td>\n",
       "      <td>0.036005</td>\n",
       "      <td>-0.036374</td>\n",
       "      <td>0.114190</td>\n",
       "      <td>0.117000</td>\n",
       "      <td>0.036005</td>\n",
       "      <td>-0.041654</td>\n",
       "      <td>-0.050401</td>\n",
       "      <td>0.062233</td>\n",
       "      <td>-0.029020</td>\n",
       "    </tr>\n",
       "    <tr>\n",
       "      <th>479</th>\n",
       "      <td>AUY922+AUY922+6</td>\n",
       "      <td>0</td>\n",
       "      <td>0.037551</td>\n",
       "      <td>-0.038885</td>\n",
       "      <td>-0.038110</td>\n",
       "      <td>-0.062008</td>\n",
       "      <td>0.027206</td>\n",
       "      <td>-0.031638</td>\n",
       "      <td>-0.038090</td>\n",
       "      <td>-0.038676</td>\n",
       "      <td>...</td>\n",
       "      <td>-0.059064</td>\n",
       "      <td>0.056433</td>\n",
       "      <td>-0.064881</td>\n",
       "      <td>-0.029441</td>\n",
       "      <td>-0.037726</td>\n",
       "      <td>0.056433</td>\n",
       "      <td>-0.030961</td>\n",
       "      <td>-0.076310</td>\n",
       "      <td>-0.066672</td>\n",
       "      <td>0.076636</td>\n",
       "    </tr>\n",
       "    <tr>\n",
       "      <th>385</th>\n",
       "      <td>17AAG+17AAG+1</td>\n",
       "      <td>0</td>\n",
       "      <td>-0.228080</td>\n",
       "      <td>-0.106320</td>\n",
       "      <td>-0.165770</td>\n",
       "      <td>-0.088614</td>\n",
       "      <td>-0.230360</td>\n",
       "      <td>-0.184890</td>\n",
       "      <td>-0.157880</td>\n",
       "      <td>-0.152480</td>\n",
       "      <td>...</td>\n",
       "      <td>0.093090</td>\n",
       "      <td>0.116110</td>\n",
       "      <td>-0.217670</td>\n",
       "      <td>0.193600</td>\n",
       "      <td>0.141920</td>\n",
       "      <td>0.116110</td>\n",
       "      <td>-0.150790</td>\n",
       "      <td>-0.246600</td>\n",
       "      <td>-0.112860</td>\n",
       "      <td>0.219410</td>\n",
       "    </tr>\n",
       "    <tr>\n",
       "      <th>387</th>\n",
       "      <td>17AAG+17AAG+2</td>\n",
       "      <td>0</td>\n",
       "      <td>-0.280000</td>\n",
       "      <td>-0.129130</td>\n",
       "      <td>-0.249310</td>\n",
       "      <td>-0.113230</td>\n",
       "      <td>-0.309440</td>\n",
       "      <td>-0.259060</td>\n",
       "      <td>-0.238100</td>\n",
       "      <td>-0.226520</td>\n",
       "      <td>...</td>\n",
       "      <td>0.078893</td>\n",
       "      <td>0.133820</td>\n",
       "      <td>-0.259750</td>\n",
       "      <td>0.195320</td>\n",
       "      <td>0.137810</td>\n",
       "      <td>0.133820</td>\n",
       "      <td>-0.126760</td>\n",
       "      <td>-0.263290</td>\n",
       "      <td>-0.097792</td>\n",
       "      <td>0.250120</td>\n",
       "    </tr>\n",
       "    <tr>\n",
       "      <th>389</th>\n",
       "      <td>17AAG+17AAG+3</td>\n",
       "      <td>0</td>\n",
       "      <td>-0.218750</td>\n",
       "      <td>-0.095024</td>\n",
       "      <td>-0.250190</td>\n",
       "      <td>-0.122380</td>\n",
       "      <td>-0.200520</td>\n",
       "      <td>-0.250520</td>\n",
       "      <td>-0.246000</td>\n",
       "      <td>-0.237670</td>\n",
       "      <td>...</td>\n",
       "      <td>0.098929</td>\n",
       "      <td>0.093747</td>\n",
       "      <td>-0.190960</td>\n",
       "      <td>0.186810</td>\n",
       "      <td>0.167860</td>\n",
       "      <td>0.093747</td>\n",
       "      <td>0.075590</td>\n",
       "      <td>-0.171840</td>\n",
       "      <td>-0.108130</td>\n",
       "      <td>0.172930</td>\n",
       "    </tr>\n",
       "    <tr>\n",
       "      <th>391</th>\n",
       "      <td>17AAG+17AAG+4</td>\n",
       "      <td>0</td>\n",
       "      <td>0.033386</td>\n",
       "      <td>-0.139580</td>\n",
       "      <td>-0.191310</td>\n",
       "      <td>-0.103220</td>\n",
       "      <td>-0.176450</td>\n",
       "      <td>-0.177650</td>\n",
       "      <td>-0.183810</td>\n",
       "      <td>-0.188840</td>\n",
       "      <td>...</td>\n",
       "      <td>-0.058823</td>\n",
       "      <td>-0.043850</td>\n",
       "      <td>-0.091095</td>\n",
       "      <td>-0.059406</td>\n",
       "      <td>-0.061763</td>\n",
       "      <td>-0.043850</td>\n",
       "      <td>0.043419</td>\n",
       "      <td>-0.075127</td>\n",
       "      <td>-0.034290</td>\n",
       "      <td>0.071150</td>\n",
       "    </tr>\n",
       "    <tr>\n",
       "      <th>393</th>\n",
       "      <td>17AAG+17AAG+5</td>\n",
       "      <td>0</td>\n",
       "      <td>0.028372</td>\n",
       "      <td>-0.078293</td>\n",
       "      <td>-0.089651</td>\n",
       "      <td>-0.076141</td>\n",
       "      <td>-0.081104</td>\n",
       "      <td>-0.082424</td>\n",
       "      <td>-0.084659</td>\n",
       "      <td>-0.085631</td>\n",
       "      <td>...</td>\n",
       "      <td>-0.052951</td>\n",
       "      <td>0.034716</td>\n",
       "      <td>-0.044154</td>\n",
       "      <td>-0.026967</td>\n",
       "      <td>-0.037231</td>\n",
       "      <td>0.034716</td>\n",
       "      <td>-0.052016</td>\n",
       "      <td>-0.083500</td>\n",
       "      <td>-0.036524</td>\n",
       "      <td>0.045176</td>\n",
       "    </tr>\n",
       "    <tr>\n",
       "      <th>395</th>\n",
       "      <td>17AAG+17AAG+6</td>\n",
       "      <td>0</td>\n",
       "      <td>-0.064436</td>\n",
       "      <td>-0.075579</td>\n",
       "      <td>-0.120600</td>\n",
       "      <td>0.118820</td>\n",
       "      <td>-0.177460</td>\n",
       "      <td>-0.125080</td>\n",
       "      <td>-0.098109</td>\n",
       "      <td>-0.104420</td>\n",
       "      <td>...</td>\n",
       "      <td>-0.033004</td>\n",
       "      <td>0.068947</td>\n",
       "      <td>-0.075329</td>\n",
       "      <td>0.079341</td>\n",
       "      <td>0.051946</td>\n",
       "      <td>0.068947</td>\n",
       "      <td>-0.073608</td>\n",
       "      <td>-0.125040</td>\n",
       "      <td>-0.066203</td>\n",
       "      <td>0.081487</td>\n",
       "    </tr>\n",
       "  </tbody>\n",
       "</table>\n",
       "<p>24 rows × 240 columns</p>\n",
       "</div>"
      ],
      "text/plain": [
       "           drug_name  default       ks1       ks2       ks3       ks4  \\\n",
       "397   17AAG+AUY922+1        0 -0.293330 -0.153810 -0.168630 -0.126450   \n",
       "399   17AAG+AUY922+2        0 -0.442500 -0.169570 -0.264150  0.134970   \n",
       "401   17AAG+AUY922+3        0 -0.447500 -0.158600 -0.244360 -0.137810   \n",
       "403   17AAG+AUY922+4        0 -0.291720 -0.116050 -0.256050  0.108790   \n",
       "405   17AAG+AUY922+5        0 -0.051667 -0.043185 -0.075513  0.063609   \n",
       "407   17AAG+AUY922+6        0 -0.027500 -0.036471 -0.078881  0.093110   \n",
       "457   AUY922+17AAG+1        0 -0.032740 -0.061780  0.080494 -0.077161   \n",
       "459   AUY922+17AAG+2        0 -0.100830 -0.114660 -0.211770 -0.096207   \n",
       "461   AUY922+17AAG+3        0 -0.246980 -0.129550 -0.288340  0.155660   \n",
       "463   AUY922+17AAG+4        0 -0.218750 -0.102870 -0.253970  0.147240   \n",
       "465   AUY922+17AAG+5        0  0.046269 -0.099380 -0.162230  0.120990   \n",
       "467   AUY922+17AAG+6        0  0.071875 -0.083333 -0.094583  0.143120   \n",
       "469  AUY922+AUY922+1        0 -0.261670 -0.129740 -0.160260  0.137500   \n",
       "471  AUY922+AUY922+2        0 -0.252930 -0.115000 -0.180040 -0.087114   \n",
       "473  AUY922+AUY922+3        0 -0.257500 -0.130040 -0.216640 -0.116110   \n",
       "475  AUY922+AUY922+4        0 -0.225150 -0.113680 -0.224070 -0.124950   \n",
       "477  AUY922+AUY922+5        0 -0.119690  0.032366 -0.105430  0.079650   \n",
       "479  AUY922+AUY922+6        0  0.037551 -0.038885 -0.038110 -0.062008   \n",
       "385    17AAG+17AAG+1        0 -0.228080 -0.106320 -0.165770 -0.088614   \n",
       "387    17AAG+17AAG+2        0 -0.280000 -0.129130 -0.249310 -0.113230   \n",
       "389    17AAG+17AAG+3        0 -0.218750 -0.095024 -0.250190 -0.122380   \n",
       "391    17AAG+17AAG+4        0  0.033386 -0.139580 -0.191310 -0.103220   \n",
       "393    17AAG+17AAG+5        0  0.028372 -0.078293 -0.089651 -0.076141   \n",
       "395    17AAG+17AAG+6        0 -0.064436 -0.075579 -0.120600  0.118820   \n",
       "\n",
       "          ks5       ks6       ks7       ks8  ...     ks229     ks230  \\\n",
       "397 -0.315680 -0.174020 -0.146800 -0.147340  ...  0.086603  0.134620   \n",
       "399 -0.336240 -0.265020 -0.240410 -0.229120  ...  0.149120  0.126060   \n",
       "401 -0.334700 -0.250510 -0.233340 -0.227700  ...  0.141520  0.157670   \n",
       "403 -0.231450 -0.250510 -0.246450 -0.252550  ...  0.129950  0.090215   \n",
       "405 -0.036511 -0.076548 -0.074988 -0.078437  ...  0.054169  0.035543   \n",
       "407 -0.087237 -0.083087 -0.071404 -0.061644  ... -0.034032 -0.049821   \n",
       "457 -0.222740 -0.111770  0.089944  0.135550  ... -0.097147  0.042260   \n",
       "459 -0.303180 -0.239620 -0.184140 -0.162510  ... -0.091839  0.064842   \n",
       "461 -0.330310 -0.291760 -0.266100 -0.271020  ...  0.135770  0.077002   \n",
       "463 -0.222000 -0.272770 -0.240000 -0.237550  ...  0.103810  0.096509   \n",
       "465 -0.188280 -0.170210 -0.138730 -0.145950  ... -0.055037  0.035004   \n",
       "467 -0.113750 -0.100000 -0.081458 -0.081042  ... -0.061458 -0.053542   \n",
       "469 -0.290380 -0.181600 -0.127050 -0.128010  ...  0.074295  0.126670   \n",
       "471 -0.220200 -0.187890 -0.166990 -0.162260  ...  0.081667  0.140260   \n",
       "473 -0.326200 -0.225840 -0.202500 -0.192370  ...  0.077697  0.099904   \n",
       "475 -0.229360 -0.216720 -0.216470 -0.217700  ...  0.082108  0.067500   \n",
       "477 -0.037983 -0.092926 -0.103120 -0.105500  ...  0.093887  0.036005   \n",
       "479  0.027206 -0.031638 -0.038090 -0.038676  ... -0.059064  0.056433   \n",
       "385 -0.230360 -0.184890 -0.157880 -0.152480  ...  0.093090  0.116110   \n",
       "387 -0.309440 -0.259060 -0.238100 -0.226520  ...  0.078893  0.133820   \n",
       "389 -0.200520 -0.250520 -0.246000 -0.237670  ...  0.098929  0.093747   \n",
       "391 -0.176450 -0.177650 -0.183810 -0.188840  ... -0.058823 -0.043850   \n",
       "393 -0.081104 -0.082424 -0.084659 -0.085631  ... -0.052951  0.034716   \n",
       "395 -0.177460 -0.125080 -0.098109 -0.104420  ... -0.033004  0.068947   \n",
       "\n",
       "        ks231     ks232     ks233     ks234     ks235     ks236     ks237  \\\n",
       "397 -0.204080  0.194780  0.145140  0.134620 -0.275390 -0.296960 -0.164450   \n",
       "399 -0.250120  0.300720  0.219990  0.126060 -0.265570 -0.344980 -0.127390   \n",
       "401 -0.315380  0.283470  0.224310  0.157670 -0.251890 -0.373510 -0.120390   \n",
       "403 -0.161320  0.210750  0.196160  0.090215 -0.127900 -0.232530 -0.091183   \n",
       "405 -0.058353  0.069561  0.059375  0.035543 -0.076825 -0.095726 -0.035701   \n",
       "407 -0.072673  0.040895 -0.029223 -0.049821  0.060017 -0.056449  0.035078   \n",
       "457 -0.200590 -0.076737 -0.105550  0.042260  0.091102 -0.135070 -0.111190   \n",
       "459 -0.217090  0.077474 -0.083486  0.064842  0.108000 -0.156790 -0.106800   \n",
       "461 -0.185520  0.203720  0.189250  0.077002 -0.108930 -0.208800 -0.089710   \n",
       "463 -0.125100  0.166270  0.140760  0.096509 -0.081137 -0.163730 -0.052786   \n",
       "465 -0.057565 -0.039253 -0.044968  0.035004  0.052402 -0.029179 -0.032786   \n",
       "467 -0.029583 -0.088958 -0.089583 -0.053542  0.093542  0.070000 -0.037292   \n",
       "469 -0.194490  0.189230  0.125000  0.126670 -0.201600 -0.283270 -0.132820   \n",
       "471 -0.285980  0.234470  0.176770  0.140260 -0.210140 -0.323130 -0.162110   \n",
       "473 -0.235770  0.182280  0.130820  0.099904 -0.129670 -0.249850 -0.109580   \n",
       "475 -0.138140  0.189310  0.147160  0.067500 -0.078088 -0.174020 -0.053725   \n",
       "477 -0.036374  0.114190  0.117000  0.036005 -0.041654 -0.050401  0.062233   \n",
       "479 -0.064881 -0.029441 -0.037726  0.056433 -0.030961 -0.076310 -0.066672   \n",
       "385 -0.217670  0.193600  0.141920  0.116110 -0.150790 -0.246600 -0.112860   \n",
       "387 -0.259750  0.195320  0.137810  0.133820 -0.126760 -0.263290 -0.097792   \n",
       "389 -0.190960  0.186810  0.167860  0.093747  0.075590 -0.171840 -0.108130   \n",
       "391 -0.091095 -0.059406 -0.061763 -0.043850  0.043419 -0.075127 -0.034290   \n",
       "393 -0.044154 -0.026967 -0.037231  0.034716 -0.052016 -0.083500 -0.036524   \n",
       "395 -0.075329  0.079341  0.051946  0.068947 -0.073608 -0.125040 -0.066203   \n",
       "\n",
       "        ks238  \n",
       "397  0.214620  \n",
       "399  0.286000  \n",
       "401  0.310270  \n",
       "403  0.177550  \n",
       "405  0.065025  \n",
       "407  0.047411  \n",
       "457  0.198150  \n",
       "459  0.215600  \n",
       "461  0.177360  \n",
       "463  0.114290  \n",
       "465  0.064860  \n",
       "467  0.030625  \n",
       "469  0.201730  \n",
       "471  0.274720  \n",
       "473  0.257170  \n",
       "475  0.145440  \n",
       "477 -0.029020  \n",
       "479  0.076636  \n",
       "385  0.219410  \n",
       "387  0.250120  \n",
       "389  0.172930  \n",
       "391  0.071150  \n",
       "393  0.045176  \n",
       "395  0.081487  \n",
       "\n",
       "[24 rows x 240 columns]"
      ]
     },
     "execution_count": 10,
     "metadata": {},
     "output_type": "execute_result"
    }
   ],
   "source": [
    "#Dna ： etoposide，Gemcitabine\n",
    "#hsp：17aag，auy922\n",
    "#mt：paclitaxel，Vinblastine\n",
    "#prot：\"MG132\"，ps341\n",
    "#hdac：saha，apicidin\n",
    "\n",
    "frames3=[]\n",
    "for i in range(1,7):\n",
    "    frames3.append(df.loc[(df['drug_name'] =='17AAG+AUY922+'+str(i)) ])\n",
    "for j in range(1,7):\n",
    "    frames3.append(df.loc[(df['drug_name'] =='AUY922+17AAG+'+str(j)) ])\n",
    "for k in range(1,7):\n",
    "    frames3.append(df.loc[(df['drug_name'] =='AUY922+AUY922+'+str(k)) ])\n",
    "for m in range(1,7):\n",
    "    frames3.append(df.loc[(df['drug_name'] =='17AAG+17AAG+'+str(m)) ])\n",
    "HSP= pd.concat(frames3)\n",
    "HSP\n"
   ]
  },
  {
   "cell_type": "code",
   "execution_count": 11,
   "metadata": {},
   "outputs": [
    {
     "data": {
      "text/html": [
       "<div>\n",
       "<style scoped>\n",
       "    .dataframe tbody tr th:only-of-type {\n",
       "        vertical-align: middle;\n",
       "    }\n",
       "\n",
       "    .dataframe tbody tr th {\n",
       "        vertical-align: top;\n",
       "    }\n",
       "\n",
       "    .dataframe thead th {\n",
       "        text-align: right;\n",
       "    }\n",
       "</style>\n",
       "<table border=\"1\" class=\"dataframe\">\n",
       "  <thead>\n",
       "    <tr style=\"text-align: right;\">\n",
       "      <th></th>\n",
       "      <th>drug_name</th>\n",
       "      <th>default</th>\n",
       "      <th>ks1</th>\n",
       "      <th>ks2</th>\n",
       "      <th>ks3</th>\n",
       "      <th>ks4</th>\n",
       "      <th>ks5</th>\n",
       "      <th>ks6</th>\n",
       "      <th>ks7</th>\n",
       "      <th>ks8</th>\n",
       "      <th>...</th>\n",
       "      <th>ks229</th>\n",
       "      <th>ks230</th>\n",
       "      <th>ks231</th>\n",
       "      <th>ks232</th>\n",
       "      <th>ks233</th>\n",
       "      <th>ks234</th>\n",
       "      <th>ks235</th>\n",
       "      <th>ks236</th>\n",
       "      <th>ks237</th>\n",
       "      <th>ks238</th>\n",
       "    </tr>\n",
       "  </thead>\n",
       "  <tbody>\n",
       "    <tr>\n",
       "      <th>541</th>\n",
       "      <td>MG132+PS341+1</td>\n",
       "      <td>0</td>\n",
       "      <td>-0.387500</td>\n",
       "      <td>-0.040572</td>\n",
       "      <td>0.050581</td>\n",
       "      <td>-0.109290</td>\n",
       "      <td>-0.132140</td>\n",
       "      <td>-0.050760</td>\n",
       "      <td>0.061356</td>\n",
       "      <td>0.084985</td>\n",
       "      <td>...</td>\n",
       "      <td>-0.204980</td>\n",
       "      <td>0.079745</td>\n",
       "      <td>0.140250</td>\n",
       "      <td>-0.144130</td>\n",
       "      <td>-0.129300</td>\n",
       "      <td>0.079745</td>\n",
       "      <td>0.155880</td>\n",
       "      <td>0.133880</td>\n",
       "      <td>-0.133970</td>\n",
       "      <td>-0.108340</td>\n",
       "    </tr>\n",
       "    <tr>\n",
       "      <th>543</th>\n",
       "      <td>MG132+PS341+2</td>\n",
       "      <td>0</td>\n",
       "      <td>-0.335830</td>\n",
       "      <td>0.034141</td>\n",
       "      <td>-0.118200</td>\n",
       "      <td>-0.077122</td>\n",
       "      <td>-0.073561</td>\n",
       "      <td>-0.133240</td>\n",
       "      <td>-0.117210</td>\n",
       "      <td>-0.104990</td>\n",
       "      <td>...</td>\n",
       "      <td>-0.127550</td>\n",
       "      <td>0.280070</td>\n",
       "      <td>-0.184360</td>\n",
       "      <td>0.197100</td>\n",
       "      <td>0.102810</td>\n",
       "      <td>0.280070</td>\n",
       "      <td>0.050356</td>\n",
       "      <td>-0.146660</td>\n",
       "      <td>-0.115170</td>\n",
       "      <td>0.158480</td>\n",
       "    </tr>\n",
       "    <tr>\n",
       "      <th>545</th>\n",
       "      <td>MG132+PS341+3</td>\n",
       "      <td>0</td>\n",
       "      <td>-0.142500</td>\n",
       "      <td>-0.044847</td>\n",
       "      <td>-0.080432</td>\n",
       "      <td>-0.043360</td>\n",
       "      <td>-0.079804</td>\n",
       "      <td>-0.080672</td>\n",
       "      <td>-0.081859</td>\n",
       "      <td>-0.084001</td>\n",
       "      <td>...</td>\n",
       "      <td>-0.135790</td>\n",
       "      <td>0.229760</td>\n",
       "      <td>-0.094110</td>\n",
       "      <td>0.120180</td>\n",
       "      <td>0.031972</td>\n",
       "      <td>0.229760</td>\n",
       "      <td>-0.049498</td>\n",
       "      <td>-0.075955</td>\n",
       "      <td>-0.114860</td>\n",
       "      <td>0.090236</td>\n",
       "    </tr>\n",
       "    <tr>\n",
       "      <th>547</th>\n",
       "      <td>MG132+PS341+4</td>\n",
       "      <td>0</td>\n",
       "      <td>-0.190830</td>\n",
       "      <td>-0.037294</td>\n",
       "      <td>-0.078637</td>\n",
       "      <td>-0.036844</td>\n",
       "      <td>-0.091070</td>\n",
       "      <td>-0.083961</td>\n",
       "      <td>-0.067137</td>\n",
       "      <td>-0.060997</td>\n",
       "      <td>...</td>\n",
       "      <td>0.139790</td>\n",
       "      <td>-0.035300</td>\n",
       "      <td>-0.113180</td>\n",
       "      <td>0.150020</td>\n",
       "      <td>0.140390</td>\n",
       "      <td>-0.035300</td>\n",
       "      <td>-0.209650</td>\n",
       "      <td>-0.211690</td>\n",
       "      <td>0.054983</td>\n",
       "      <td>0.089627</td>\n",
       "    </tr>\n",
       "    <tr>\n",
       "      <th>549</th>\n",
       "      <td>MG132+PS341+5</td>\n",
       "      <td>0</td>\n",
       "      <td>0.031805</td>\n",
       "      <td>-0.048918</td>\n",
       "      <td>0.037312</td>\n",
       "      <td>-0.087379</td>\n",
       "      <td>-0.037340</td>\n",
       "      <td>0.030442</td>\n",
       "      <td>0.043002</td>\n",
       "      <td>0.043913</td>\n",
       "      <td>...</td>\n",
       "      <td>0.031882</td>\n",
       "      <td>-0.075684</td>\n",
       "      <td>0.036330</td>\n",
       "      <td>-0.064459</td>\n",
       "      <td>-0.061302</td>\n",
       "      <td>-0.075684</td>\n",
       "      <td>-0.082296</td>\n",
       "      <td>-0.074630</td>\n",
       "      <td>0.046026</td>\n",
       "      <td>-0.039912</td>\n",
       "    </tr>\n",
       "    <tr>\n",
       "      <th>551</th>\n",
       "      <td>MG132+PS341+6</td>\n",
       "      <td>0</td>\n",
       "      <td>0.094591</td>\n",
       "      <td>0.037042</td>\n",
       "      <td>0.057213</td>\n",
       "      <td>-0.081726</td>\n",
       "      <td>0.081437</td>\n",
       "      <td>0.056910</td>\n",
       "      <td>0.059571</td>\n",
       "      <td>0.051433</td>\n",
       "      <td>...</td>\n",
       "      <td>-0.072965</td>\n",
       "      <td>-0.054048</td>\n",
       "      <td>-0.044131</td>\n",
       "      <td>-0.080816</td>\n",
       "      <td>-0.081004</td>\n",
       "      <td>-0.054048</td>\n",
       "      <td>0.085607</td>\n",
       "      <td>0.065125</td>\n",
       "      <td>0.042918</td>\n",
       "      <td>0.032258</td>\n",
       "    </tr>\n",
       "    <tr>\n",
       "      <th>601</th>\n",
       "      <td>PS341+MG132+1</td>\n",
       "      <td>0</td>\n",
       "      <td>-0.395830</td>\n",
       "      <td>0.059105</td>\n",
       "      <td>0.216230</td>\n",
       "      <td>-0.100640</td>\n",
       "      <td>-0.157240</td>\n",
       "      <td>0.172770</td>\n",
       "      <td>0.239260</td>\n",
       "      <td>0.275130</td>\n",
       "      <td>...</td>\n",
       "      <td>-0.207250</td>\n",
       "      <td>-0.188670</td>\n",
       "      <td>0.212440</td>\n",
       "      <td>-0.304790</td>\n",
       "      <td>-0.278340</td>\n",
       "      <td>-0.188670</td>\n",
       "      <td>0.127280</td>\n",
       "      <td>0.134120</td>\n",
       "      <td>-0.170160</td>\n",
       "      <td>-0.164310</td>\n",
       "    </tr>\n",
       "    <tr>\n",
       "      <th>603</th>\n",
       "      <td>PS341+MG132+2</td>\n",
       "      <td>0</td>\n",
       "      <td>-0.276670</td>\n",
       "      <td>0.062264</td>\n",
       "      <td>0.100680</td>\n",
       "      <td>0.039324</td>\n",
       "      <td>0.066627</td>\n",
       "      <td>0.091175</td>\n",
       "      <td>0.102350</td>\n",
       "      <td>0.116600</td>\n",
       "      <td>...</td>\n",
       "      <td>-0.065144</td>\n",
       "      <td>-0.135930</td>\n",
       "      <td>0.153540</td>\n",
       "      <td>-0.126210</td>\n",
       "      <td>-0.089823</td>\n",
       "      <td>-0.135930</td>\n",
       "      <td>0.093878</td>\n",
       "      <td>0.109970</td>\n",
       "      <td>-0.060814</td>\n",
       "      <td>-0.117960</td>\n",
       "    </tr>\n",
       "    <tr>\n",
       "      <th>605</th>\n",
       "      <td>PS341+MG132+3</td>\n",
       "      <td>0</td>\n",
       "      <td>-0.127240</td>\n",
       "      <td>0.160770</td>\n",
       "      <td>0.283210</td>\n",
       "      <td>0.045385</td>\n",
       "      <td>0.096987</td>\n",
       "      <td>0.246280</td>\n",
       "      <td>0.280510</td>\n",
       "      <td>0.290830</td>\n",
       "      <td>...</td>\n",
       "      <td>0.071474</td>\n",
       "      <td>-0.151920</td>\n",
       "      <td>0.078205</td>\n",
       "      <td>-0.090962</td>\n",
       "      <td>0.071026</td>\n",
       "      <td>-0.151920</td>\n",
       "      <td>-0.174810</td>\n",
       "      <td>-0.168140</td>\n",
       "      <td>-0.210450</td>\n",
       "      <td>-0.035769</td>\n",
       "    </tr>\n",
       "    <tr>\n",
       "      <th>607</th>\n",
       "      <td>PS341+MG132+4</td>\n",
       "      <td>0</td>\n",
       "      <td>-0.139170</td>\n",
       "      <td>0.158150</td>\n",
       "      <td>0.214130</td>\n",
       "      <td>0.046812</td>\n",
       "      <td>0.085973</td>\n",
       "      <td>0.165600</td>\n",
       "      <td>0.206240</td>\n",
       "      <td>0.219880</td>\n",
       "      <td>...</td>\n",
       "      <td>0.087731</td>\n",
       "      <td>-0.115330</td>\n",
       "      <td>0.019833</td>\n",
       "      <td>0.078177</td>\n",
       "      <td>0.094950</td>\n",
       "      <td>-0.115330</td>\n",
       "      <td>-0.147710</td>\n",
       "      <td>-0.144970</td>\n",
       "      <td>-0.159310</td>\n",
       "      <td>-0.022246</td>\n",
       "    </tr>\n",
       "    <tr>\n",
       "      <th>609</th>\n",
       "      <td>PS341+MG132+5</td>\n",
       "      <td>0</td>\n",
       "      <td>0.037551</td>\n",
       "      <td>-0.028288</td>\n",
       "      <td>0.040840</td>\n",
       "      <td>-0.068561</td>\n",
       "      <td>0.054094</td>\n",
       "      <td>0.040156</td>\n",
       "      <td>0.042985</td>\n",
       "      <td>0.039213</td>\n",
       "      <td>...</td>\n",
       "      <td>0.055517</td>\n",
       "      <td>-0.107330</td>\n",
       "      <td>0.032639</td>\n",
       "      <td>-0.055789</td>\n",
       "      <td>-0.052299</td>\n",
       "      <td>-0.107330</td>\n",
       "      <td>-0.040304</td>\n",
       "      <td>-0.056424</td>\n",
       "      <td>-0.036466</td>\n",
       "      <td>0.031917</td>\n",
       "    </tr>\n",
       "    <tr>\n",
       "      <th>611</th>\n",
       "      <td>PS341+MG132+6</td>\n",
       "      <td>0</td>\n",
       "      <td>0.054481</td>\n",
       "      <td>-0.066327</td>\n",
       "      <td>-0.036923</td>\n",
       "      <td>-0.063545</td>\n",
       "      <td>-0.054834</td>\n",
       "      <td>-0.041196</td>\n",
       "      <td>-0.036861</td>\n",
       "      <td>-0.038683</td>\n",
       "      <td>...</td>\n",
       "      <td>-0.063513</td>\n",
       "      <td>0.026103</td>\n",
       "      <td>-0.035980</td>\n",
       "      <td>-0.068237</td>\n",
       "      <td>-0.070866</td>\n",
       "      <td>0.026103</td>\n",
       "      <td>-0.064024</td>\n",
       "      <td>-0.090041</td>\n",
       "      <td>-0.067359</td>\n",
       "      <td>0.046875</td>\n",
       "    </tr>\n",
       "    <tr>\n",
       "      <th>529</th>\n",
       "      <td>MG132+MG132+1</td>\n",
       "      <td>0</td>\n",
       "      <td>-0.369370</td>\n",
       "      <td>-0.039704</td>\n",
       "      <td>0.074651</td>\n",
       "      <td>-0.048647</td>\n",
       "      <td>-0.152410</td>\n",
       "      <td>-0.045573</td>\n",
       "      <td>0.077823</td>\n",
       "      <td>0.102910</td>\n",
       "      <td>...</td>\n",
       "      <td>-0.147200</td>\n",
       "      <td>-0.092769</td>\n",
       "      <td>0.242970</td>\n",
       "      <td>-0.182610</td>\n",
       "      <td>-0.142060</td>\n",
       "      <td>-0.092769</td>\n",
       "      <td>0.169330</td>\n",
       "      <td>0.184040</td>\n",
       "      <td>-0.085520</td>\n",
       "      <td>-0.222990</td>\n",
       "    </tr>\n",
       "    <tr>\n",
       "      <th>531</th>\n",
       "      <td>MG132+MG132+2</td>\n",
       "      <td>0</td>\n",
       "      <td>-0.195000</td>\n",
       "      <td>-0.057219</td>\n",
       "      <td>-0.112140</td>\n",
       "      <td>0.105680</td>\n",
       "      <td>-0.192430</td>\n",
       "      <td>-0.126020</td>\n",
       "      <td>-0.087772</td>\n",
       "      <td>-0.087753</td>\n",
       "      <td>...</td>\n",
       "      <td>-0.122650</td>\n",
       "      <td>0.204600</td>\n",
       "      <td>-0.091255</td>\n",
       "      <td>0.114330</td>\n",
       "      <td>0.036760</td>\n",
       "      <td>0.204600</td>\n",
       "      <td>-0.048858</td>\n",
       "      <td>-0.115710</td>\n",
       "      <td>-0.177510</td>\n",
       "      <td>0.098876</td>\n",
       "    </tr>\n",
       "    <tr>\n",
       "      <th>533</th>\n",
       "      <td>MG132+MG132+3</td>\n",
       "      <td>0</td>\n",
       "      <td>-0.155830</td>\n",
       "      <td>0.152270</td>\n",
       "      <td>0.171700</td>\n",
       "      <td>0.078818</td>\n",
       "      <td>0.046350</td>\n",
       "      <td>0.109300</td>\n",
       "      <td>0.185150</td>\n",
       "      <td>0.200720</td>\n",
       "      <td>...</td>\n",
       "      <td>0.114060</td>\n",
       "      <td>-0.154260</td>\n",
       "      <td>0.127220</td>\n",
       "      <td>-0.070849</td>\n",
       "      <td>0.095221</td>\n",
       "      <td>-0.154260</td>\n",
       "      <td>-0.114930</td>\n",
       "      <td>-0.088034</td>\n",
       "      <td>-0.143580</td>\n",
       "      <td>-0.104820</td>\n",
       "    </tr>\n",
       "    <tr>\n",
       "      <th>535</th>\n",
       "      <td>MG132+MG132+4</td>\n",
       "      <td>0</td>\n",
       "      <td>-0.107500</td>\n",
       "      <td>-0.072596</td>\n",
       "      <td>-0.026868</td>\n",
       "      <td>0.121210</td>\n",
       "      <td>-0.129900</td>\n",
       "      <td>-0.054158</td>\n",
       "      <td>0.026763</td>\n",
       "      <td>0.045888</td>\n",
       "      <td>...</td>\n",
       "      <td>0.071918</td>\n",
       "      <td>-0.089828</td>\n",
       "      <td>-0.056244</td>\n",
       "      <td>0.075310</td>\n",
       "      <td>0.070733</td>\n",
       "      <td>-0.089828</td>\n",
       "      <td>-0.111260</td>\n",
       "      <td>-0.126720</td>\n",
       "      <td>-0.095289</td>\n",
       "      <td>-0.045565</td>\n",
       "    </tr>\n",
       "    <tr>\n",
       "      <th>537</th>\n",
       "      <td>MG132+MG132+5</td>\n",
       "      <td>0</td>\n",
       "      <td>0.038066</td>\n",
       "      <td>-0.066688</td>\n",
       "      <td>-0.070599</td>\n",
       "      <td>-0.039374</td>\n",
       "      <td>-0.093137</td>\n",
       "      <td>-0.067952</td>\n",
       "      <td>-0.053273</td>\n",
       "      <td>-0.051117</td>\n",
       "      <td>...</td>\n",
       "      <td>-0.049973</td>\n",
       "      <td>-0.093121</td>\n",
       "      <td>-0.028322</td>\n",
       "      <td>-0.086961</td>\n",
       "      <td>-0.084020</td>\n",
       "      <td>-0.093121</td>\n",
       "      <td>-0.045517</td>\n",
       "      <td>-0.049074</td>\n",
       "      <td>0.056509</td>\n",
       "      <td>-0.044869</td>\n",
       "    </tr>\n",
       "    <tr>\n",
       "      <th>539</th>\n",
       "      <td>MG132+MG132+6</td>\n",
       "      <td>0</td>\n",
       "      <td>-0.035000</td>\n",
       "      <td>-0.052381</td>\n",
       "      <td>-0.066146</td>\n",
       "      <td>-0.060091</td>\n",
       "      <td>-0.069101</td>\n",
       "      <td>-0.066046</td>\n",
       "      <td>-0.071606</td>\n",
       "      <td>-0.073575</td>\n",
       "      <td>...</td>\n",
       "      <td>-0.033541</td>\n",
       "      <td>0.044653</td>\n",
       "      <td>-0.056230</td>\n",
       "      <td>-0.028926</td>\n",
       "      <td>-0.030219</td>\n",
       "      <td>0.044653</td>\n",
       "      <td>-0.051429</td>\n",
       "      <td>-0.064530</td>\n",
       "      <td>0.080053</td>\n",
       "      <td>0.047187</td>\n",
       "    </tr>\n",
       "    <tr>\n",
       "      <th>613</th>\n",
       "      <td>PS341+PS341+1</td>\n",
       "      <td>0</td>\n",
       "      <td>-0.427500</td>\n",
       "      <td>0.054120</td>\n",
       "      <td>0.103770</td>\n",
       "      <td>-0.091583</td>\n",
       "      <td>-0.106960</td>\n",
       "      <td>0.047951</td>\n",
       "      <td>0.111550</td>\n",
       "      <td>0.135480</td>\n",
       "      <td>...</td>\n",
       "      <td>-0.152120</td>\n",
       "      <td>-0.171710</td>\n",
       "      <td>0.190040</td>\n",
       "      <td>-0.239660</td>\n",
       "      <td>-0.213510</td>\n",
       "      <td>-0.171710</td>\n",
       "      <td>0.195820</td>\n",
       "      <td>0.178740</td>\n",
       "      <td>-0.108780</td>\n",
       "      <td>-0.173390</td>\n",
       "    </tr>\n",
       "    <tr>\n",
       "      <th>615</th>\n",
       "      <td>PS341+PS341+2</td>\n",
       "      <td>0</td>\n",
       "      <td>-0.369370</td>\n",
       "      <td>0.061470</td>\n",
       "      <td>0.075251</td>\n",
       "      <td>-0.083468</td>\n",
       "      <td>-0.035296</td>\n",
       "      <td>0.058970</td>\n",
       "      <td>0.073763</td>\n",
       "      <td>0.093683</td>\n",
       "      <td>...</td>\n",
       "      <td>-0.088342</td>\n",
       "      <td>-0.151470</td>\n",
       "      <td>0.160060</td>\n",
       "      <td>-0.186740</td>\n",
       "      <td>-0.150740</td>\n",
       "      <td>-0.151470</td>\n",
       "      <td>0.165180</td>\n",
       "      <td>0.180820</td>\n",
       "      <td>-0.046882</td>\n",
       "      <td>-0.166860</td>\n",
       "    </tr>\n",
       "    <tr>\n",
       "      <th>617</th>\n",
       "      <td>PS341+PS341+3</td>\n",
       "      <td>0</td>\n",
       "      <td>-0.255970</td>\n",
       "      <td>0.026078</td>\n",
       "      <td>0.060000</td>\n",
       "      <td>-0.058066</td>\n",
       "      <td>0.055841</td>\n",
       "      <td>0.058043</td>\n",
       "      <td>0.064442</td>\n",
       "      <td>0.067018</td>\n",
       "      <td>...</td>\n",
       "      <td>-0.052982</td>\n",
       "      <td>-0.111910</td>\n",
       "      <td>0.126800</td>\n",
       "      <td>-0.105070</td>\n",
       "      <td>-0.064992</td>\n",
       "      <td>-0.111910</td>\n",
       "      <td>-0.065054</td>\n",
       "      <td>0.028616</td>\n",
       "      <td>-0.078020</td>\n",
       "      <td>-0.100150</td>\n",
       "    </tr>\n",
       "    <tr>\n",
       "      <th>619</th>\n",
       "      <td>PS341+PS341+4</td>\n",
       "      <td>0</td>\n",
       "      <td>-0.189440</td>\n",
       "      <td>-0.022987</td>\n",
       "      <td>0.051309</td>\n",
       "      <td>-0.029157</td>\n",
       "      <td>-0.047565</td>\n",
       "      <td>0.035954</td>\n",
       "      <td>0.048763</td>\n",
       "      <td>0.068897</td>\n",
       "      <td>...</td>\n",
       "      <td>0.123470</td>\n",
       "      <td>-0.078087</td>\n",
       "      <td>-0.055685</td>\n",
       "      <td>0.103210</td>\n",
       "      <td>0.122040</td>\n",
       "      <td>-0.078087</td>\n",
       "      <td>-0.220780</td>\n",
       "      <td>-0.263260</td>\n",
       "      <td>-0.068872</td>\n",
       "      <td>0.071530</td>\n",
       "    </tr>\n",
       "    <tr>\n",
       "      <th>621</th>\n",
       "      <td>PS341+PS341+5</td>\n",
       "      <td>0</td>\n",
       "      <td>-0.033869</td>\n",
       "      <td>-0.062432</td>\n",
       "      <td>-0.027983</td>\n",
       "      <td>-0.034977</td>\n",
       "      <td>-0.068250</td>\n",
       "      <td>-0.036331</td>\n",
       "      <td>-0.022500</td>\n",
       "      <td>0.025667</td>\n",
       "      <td>...</td>\n",
       "      <td>0.031550</td>\n",
       "      <td>-0.097590</td>\n",
       "      <td>0.036938</td>\n",
       "      <td>-0.076693</td>\n",
       "      <td>-0.057330</td>\n",
       "      <td>-0.097590</td>\n",
       "      <td>-0.063318</td>\n",
       "      <td>-0.062017</td>\n",
       "      <td>0.040422</td>\n",
       "      <td>0.026391</td>\n",
       "    </tr>\n",
       "    <tr>\n",
       "      <th>623</th>\n",
       "      <td>PS341+PS341+6</td>\n",
       "      <td>0</td>\n",
       "      <td>0.035997</td>\n",
       "      <td>-0.032960</td>\n",
       "      <td>0.036705</td>\n",
       "      <td>-0.059943</td>\n",
       "      <td>0.056233</td>\n",
       "      <td>0.036864</td>\n",
       "      <td>-0.038279</td>\n",
       "      <td>0.036501</td>\n",
       "      <td>...</td>\n",
       "      <td>0.033410</td>\n",
       "      <td>-0.040573</td>\n",
       "      <td>-0.066561</td>\n",
       "      <td>-0.051198</td>\n",
       "      <td>-0.047639</td>\n",
       "      <td>-0.040573</td>\n",
       "      <td>-0.051174</td>\n",
       "      <td>-0.085018</td>\n",
       "      <td>-0.041980</td>\n",
       "      <td>0.076069</td>\n",
       "    </tr>\n",
       "  </tbody>\n",
       "</table>\n",
       "<p>24 rows × 240 columns</p>\n",
       "</div>"
      ],
      "text/plain": [
       "         drug_name  default       ks1       ks2       ks3       ks4       ks5  \\\n",
       "541  MG132+PS341+1        0 -0.387500 -0.040572  0.050581 -0.109290 -0.132140   \n",
       "543  MG132+PS341+2        0 -0.335830  0.034141 -0.118200 -0.077122 -0.073561   \n",
       "545  MG132+PS341+3        0 -0.142500 -0.044847 -0.080432 -0.043360 -0.079804   \n",
       "547  MG132+PS341+4        0 -0.190830 -0.037294 -0.078637 -0.036844 -0.091070   \n",
       "549  MG132+PS341+5        0  0.031805 -0.048918  0.037312 -0.087379 -0.037340   \n",
       "551  MG132+PS341+6        0  0.094591  0.037042  0.057213 -0.081726  0.081437   \n",
       "601  PS341+MG132+1        0 -0.395830  0.059105  0.216230 -0.100640 -0.157240   \n",
       "603  PS341+MG132+2        0 -0.276670  0.062264  0.100680  0.039324  0.066627   \n",
       "605  PS341+MG132+3        0 -0.127240  0.160770  0.283210  0.045385  0.096987   \n",
       "607  PS341+MG132+4        0 -0.139170  0.158150  0.214130  0.046812  0.085973   \n",
       "609  PS341+MG132+5        0  0.037551 -0.028288  0.040840 -0.068561  0.054094   \n",
       "611  PS341+MG132+6        0  0.054481 -0.066327 -0.036923 -0.063545 -0.054834   \n",
       "529  MG132+MG132+1        0 -0.369370 -0.039704  0.074651 -0.048647 -0.152410   \n",
       "531  MG132+MG132+2        0 -0.195000 -0.057219 -0.112140  0.105680 -0.192430   \n",
       "533  MG132+MG132+3        0 -0.155830  0.152270  0.171700  0.078818  0.046350   \n",
       "535  MG132+MG132+4        0 -0.107500 -0.072596 -0.026868  0.121210 -0.129900   \n",
       "537  MG132+MG132+5        0  0.038066 -0.066688 -0.070599 -0.039374 -0.093137   \n",
       "539  MG132+MG132+6        0 -0.035000 -0.052381 -0.066146 -0.060091 -0.069101   \n",
       "613  PS341+PS341+1        0 -0.427500  0.054120  0.103770 -0.091583 -0.106960   \n",
       "615  PS341+PS341+2        0 -0.369370  0.061470  0.075251 -0.083468 -0.035296   \n",
       "617  PS341+PS341+3        0 -0.255970  0.026078  0.060000 -0.058066  0.055841   \n",
       "619  PS341+PS341+4        0 -0.189440 -0.022987  0.051309 -0.029157 -0.047565   \n",
       "621  PS341+PS341+5        0 -0.033869 -0.062432 -0.027983 -0.034977 -0.068250   \n",
       "623  PS341+PS341+6        0  0.035997 -0.032960  0.036705 -0.059943  0.056233   \n",
       "\n",
       "          ks6       ks7       ks8  ...     ks229     ks230     ks231  \\\n",
       "541 -0.050760  0.061356  0.084985  ... -0.204980  0.079745  0.140250   \n",
       "543 -0.133240 -0.117210 -0.104990  ... -0.127550  0.280070 -0.184360   \n",
       "545 -0.080672 -0.081859 -0.084001  ... -0.135790  0.229760 -0.094110   \n",
       "547 -0.083961 -0.067137 -0.060997  ...  0.139790 -0.035300 -0.113180   \n",
       "549  0.030442  0.043002  0.043913  ...  0.031882 -0.075684  0.036330   \n",
       "551  0.056910  0.059571  0.051433  ... -0.072965 -0.054048 -0.044131   \n",
       "601  0.172770  0.239260  0.275130  ... -0.207250 -0.188670  0.212440   \n",
       "603  0.091175  0.102350  0.116600  ... -0.065144 -0.135930  0.153540   \n",
       "605  0.246280  0.280510  0.290830  ...  0.071474 -0.151920  0.078205   \n",
       "607  0.165600  0.206240  0.219880  ...  0.087731 -0.115330  0.019833   \n",
       "609  0.040156  0.042985  0.039213  ...  0.055517 -0.107330  0.032639   \n",
       "611 -0.041196 -0.036861 -0.038683  ... -0.063513  0.026103 -0.035980   \n",
       "529 -0.045573  0.077823  0.102910  ... -0.147200 -0.092769  0.242970   \n",
       "531 -0.126020 -0.087772 -0.087753  ... -0.122650  0.204600 -0.091255   \n",
       "533  0.109300  0.185150  0.200720  ...  0.114060 -0.154260  0.127220   \n",
       "535 -0.054158  0.026763  0.045888  ...  0.071918 -0.089828 -0.056244   \n",
       "537 -0.067952 -0.053273 -0.051117  ... -0.049973 -0.093121 -0.028322   \n",
       "539 -0.066046 -0.071606 -0.073575  ... -0.033541  0.044653 -0.056230   \n",
       "613  0.047951  0.111550  0.135480  ... -0.152120 -0.171710  0.190040   \n",
       "615  0.058970  0.073763  0.093683  ... -0.088342 -0.151470  0.160060   \n",
       "617  0.058043  0.064442  0.067018  ... -0.052982 -0.111910  0.126800   \n",
       "619  0.035954  0.048763  0.068897  ...  0.123470 -0.078087 -0.055685   \n",
       "621 -0.036331 -0.022500  0.025667  ...  0.031550 -0.097590  0.036938   \n",
       "623  0.036864 -0.038279  0.036501  ...  0.033410 -0.040573 -0.066561   \n",
       "\n",
       "        ks232     ks233     ks234     ks235     ks236     ks237     ks238  \n",
       "541 -0.144130 -0.129300  0.079745  0.155880  0.133880 -0.133970 -0.108340  \n",
       "543  0.197100  0.102810  0.280070  0.050356 -0.146660 -0.115170  0.158480  \n",
       "545  0.120180  0.031972  0.229760 -0.049498 -0.075955 -0.114860  0.090236  \n",
       "547  0.150020  0.140390 -0.035300 -0.209650 -0.211690  0.054983  0.089627  \n",
       "549 -0.064459 -0.061302 -0.075684 -0.082296 -0.074630  0.046026 -0.039912  \n",
       "551 -0.080816 -0.081004 -0.054048  0.085607  0.065125  0.042918  0.032258  \n",
       "601 -0.304790 -0.278340 -0.188670  0.127280  0.134120 -0.170160 -0.164310  \n",
       "603 -0.126210 -0.089823 -0.135930  0.093878  0.109970 -0.060814 -0.117960  \n",
       "605 -0.090962  0.071026 -0.151920 -0.174810 -0.168140 -0.210450 -0.035769  \n",
       "607  0.078177  0.094950 -0.115330 -0.147710 -0.144970 -0.159310 -0.022246  \n",
       "609 -0.055789 -0.052299 -0.107330 -0.040304 -0.056424 -0.036466  0.031917  \n",
       "611 -0.068237 -0.070866  0.026103 -0.064024 -0.090041 -0.067359  0.046875  \n",
       "529 -0.182610 -0.142060 -0.092769  0.169330  0.184040 -0.085520 -0.222990  \n",
       "531  0.114330  0.036760  0.204600 -0.048858 -0.115710 -0.177510  0.098876  \n",
       "533 -0.070849  0.095221 -0.154260 -0.114930 -0.088034 -0.143580 -0.104820  \n",
       "535  0.075310  0.070733 -0.089828 -0.111260 -0.126720 -0.095289 -0.045565  \n",
       "537 -0.086961 -0.084020 -0.093121 -0.045517 -0.049074  0.056509 -0.044869  \n",
       "539 -0.028926 -0.030219  0.044653 -0.051429 -0.064530  0.080053  0.047187  \n",
       "613 -0.239660 -0.213510 -0.171710  0.195820  0.178740 -0.108780 -0.173390  \n",
       "615 -0.186740 -0.150740 -0.151470  0.165180  0.180820 -0.046882 -0.166860  \n",
       "617 -0.105070 -0.064992 -0.111910 -0.065054  0.028616 -0.078020 -0.100150  \n",
       "619  0.103210  0.122040 -0.078087 -0.220780 -0.263260 -0.068872  0.071530  \n",
       "621 -0.076693 -0.057330 -0.097590 -0.063318 -0.062017  0.040422  0.026391  \n",
       "623 -0.051198 -0.047639 -0.040573 -0.051174 -0.085018 -0.041980  0.076069  \n",
       "\n",
       "[24 rows x 240 columns]"
      ]
     },
     "execution_count": 11,
     "metadata": {},
     "output_type": "execute_result"
    }
   ],
   "source": [
    "#Dna ： etoposide，Gemcitabine\n",
    "#mt：paclitaxel，Vinblastine\n",
    "#hsp：17aag，auy922\n",
    "\n",
    "#prot：\"MG132\"，ps341\n",
    "#hdac：saha，apicidin\n",
    "\n",
    "frames4=[]\n",
    "for i in range(1,7):\n",
    "    frames4.append(df.loc[(df['drug_name'] =='MG132+PS341+'+str(i)) ])\n",
    "for j in range(1,7):\n",
    "    frames4.append(df.loc[(df['drug_name'] =='PS341+MG132+'+str(j)) ])\n",
    "for k in range(1,7):\n",
    "    frames4.append(df.loc[(df['drug_name'] =='MG132+MG132+'+str(k)) ])\n",
    "for m in range(1,7):\n",
    "    frames4.append(df.loc[(df['drug_name'] =='PS341+PS341+'+str(m)) ])\n",
    "PROT= pd.concat(frames4)\n",
    "PROT"
   ]
  },
  {
   "cell_type": "code",
   "execution_count": 12,
   "metadata": {},
   "outputs": [
    {
     "data": {
      "text/html": [
       "<div>\n",
       "<style scoped>\n",
       "    .dataframe tbody tr th:only-of-type {\n",
       "        vertical-align: middle;\n",
       "    }\n",
       "\n",
       "    .dataframe tbody tr th {\n",
       "        vertical-align: top;\n",
       "    }\n",
       "\n",
       "    .dataframe thead th {\n",
       "        text-align: right;\n",
       "    }\n",
       "</style>\n",
       "<table border=\"1\" class=\"dataframe\">\n",
       "  <thead>\n",
       "    <tr style=\"text-align: right;\">\n",
       "      <th></th>\n",
       "      <th>drug_name</th>\n",
       "      <th>default</th>\n",
       "      <th>ks1</th>\n",
       "      <th>ks2</th>\n",
       "      <th>ks3</th>\n",
       "      <th>ks4</th>\n",
       "      <th>ks5</th>\n",
       "      <th>ks6</th>\n",
       "      <th>ks7</th>\n",
       "      <th>ks8</th>\n",
       "      <th>...</th>\n",
       "      <th>ks229</th>\n",
       "      <th>ks230</th>\n",
       "      <th>ks231</th>\n",
       "      <th>ks232</th>\n",
       "      <th>ks233</th>\n",
       "      <th>ks234</th>\n",
       "      <th>ks235</th>\n",
       "      <th>ks236</th>\n",
       "      <th>ks237</th>\n",
       "      <th>ks238</th>\n",
       "    </tr>\n",
       "  </thead>\n",
       "  <tbody>\n",
       "    <tr>\n",
       "      <th>672</th>\n",
       "      <td>SAHA+Apicidin+1</td>\n",
       "      <td>0</td>\n",
       "      <td>-0.059834</td>\n",
       "      <td>0.340110</td>\n",
       "      <td>0.390130</td>\n",
       "      <td>0.077932</td>\n",
       "      <td>0.290870</td>\n",
       "      <td>0.363330</td>\n",
       "      <td>0.383150</td>\n",
       "      <td>0.378910</td>\n",
       "      <td>...</td>\n",
       "      <td>0.088412</td>\n",
       "      <td>0.119260</td>\n",
       "      <td>-0.191370</td>\n",
       "      <td>0.191600</td>\n",
       "      <td>0.133780</td>\n",
       "      <td>0.119260</td>\n",
       "      <td>-0.053923</td>\n",
       "      <td>-0.145330</td>\n",
       "      <td>-0.073195</td>\n",
       "      <td>0.178100</td>\n",
       "    </tr>\n",
       "    <tr>\n",
       "      <th>674</th>\n",
       "      <td>SAHA+Apicidin+2</td>\n",
       "      <td>0</td>\n",
       "      <td>-0.109790</td>\n",
       "      <td>0.332810</td>\n",
       "      <td>0.336710</td>\n",
       "      <td>0.109790</td>\n",
       "      <td>0.283200</td>\n",
       "      <td>0.324080</td>\n",
       "      <td>0.329100</td>\n",
       "      <td>0.325440</td>\n",
       "      <td>...</td>\n",
       "      <td>0.099784</td>\n",
       "      <td>0.150050</td>\n",
       "      <td>-0.197280</td>\n",
       "      <td>0.252150</td>\n",
       "      <td>0.189730</td>\n",
       "      <td>0.150050</td>\n",
       "      <td>-0.093772</td>\n",
       "      <td>-0.178180</td>\n",
       "      <td>-0.086238</td>\n",
       "      <td>0.191260</td>\n",
       "    </tr>\n",
       "    <tr>\n",
       "      <th>676</th>\n",
       "      <td>SAHA+Apicidin+3</td>\n",
       "      <td>0</td>\n",
       "      <td>0.038581</td>\n",
       "      <td>0.241160</td>\n",
       "      <td>0.237870</td>\n",
       "      <td>0.074451</td>\n",
       "      <td>0.297730</td>\n",
       "      <td>0.235490</td>\n",
       "      <td>0.224600</td>\n",
       "      <td>0.216060</td>\n",
       "      <td>...</td>\n",
       "      <td>0.059385</td>\n",
       "      <td>-0.058055</td>\n",
       "      <td>-0.046870</td>\n",
       "      <td>0.046923</td>\n",
       "      <td>0.047125</td>\n",
       "      <td>-0.058055</td>\n",
       "      <td>0.161690</td>\n",
       "      <td>0.096193</td>\n",
       "      <td>0.061451</td>\n",
       "      <td>0.053781</td>\n",
       "    </tr>\n",
       "    <tr>\n",
       "      <th>678</th>\n",
       "      <td>SAHA+Apicidin+4</td>\n",
       "      <td>0</td>\n",
       "      <td>-0.069082</td>\n",
       "      <td>0.079449</td>\n",
       "      <td>0.059266</td>\n",
       "      <td>0.112430</td>\n",
       "      <td>0.085854</td>\n",
       "      <td>0.057440</td>\n",
       "      <td>0.059194</td>\n",
       "      <td>0.059365</td>\n",
       "      <td>...</td>\n",
       "      <td>0.082106</td>\n",
       "      <td>-0.057335</td>\n",
       "      <td>-0.032106</td>\n",
       "      <td>0.076971</td>\n",
       "      <td>0.075093</td>\n",
       "      <td>-0.057335</td>\n",
       "      <td>0.042930</td>\n",
       "      <td>-0.049437</td>\n",
       "      <td>-0.045725</td>\n",
       "      <td>0.038102</td>\n",
       "    </tr>\n",
       "    <tr>\n",
       "      <th>680</th>\n",
       "      <td>SAHA+Apicidin+5</td>\n",
       "      <td>0</td>\n",
       "      <td>-0.106250</td>\n",
       "      <td>-0.043794</td>\n",
       "      <td>-0.063867</td>\n",
       "      <td>0.057435</td>\n",
       "      <td>-0.073059</td>\n",
       "      <td>-0.061508</td>\n",
       "      <td>-0.055215</td>\n",
       "      <td>-0.054832</td>\n",
       "      <td>...</td>\n",
       "      <td>0.053144</td>\n",
       "      <td>0.039696</td>\n",
       "      <td>-0.042343</td>\n",
       "      <td>0.089623</td>\n",
       "      <td>0.092760</td>\n",
       "      <td>0.039696</td>\n",
       "      <td>-0.120220</td>\n",
       "      <td>-0.147580</td>\n",
       "      <td>-0.053784</td>\n",
       "      <td>0.048014</td>\n",
       "    </tr>\n",
       "    <tr>\n",
       "      <th>682</th>\n",
       "      <td>SAHA+Apicidin+6</td>\n",
       "      <td>0</td>\n",
       "      <td>0.044009</td>\n",
       "      <td>-0.060000</td>\n",
       "      <td>-0.051537</td>\n",
       "      <td>-0.041997</td>\n",
       "      <td>-0.070790</td>\n",
       "      <td>-0.058190</td>\n",
       "      <td>-0.043190</td>\n",
       "      <td>-0.031782</td>\n",
       "      <td>...</td>\n",
       "      <td>-0.046509</td>\n",
       "      <td>-0.051552</td>\n",
       "      <td>-0.041853</td>\n",
       "      <td>-0.068994</td>\n",
       "      <td>-0.070287</td>\n",
       "      <td>-0.051552</td>\n",
       "      <td>0.030589</td>\n",
       "      <td>-0.048175</td>\n",
       "      <td>-0.026753</td>\n",
       "      <td>0.055905</td>\n",
       "    </tr>\n",
       "    <tr>\n",
       "      <th>289</th>\n",
       "      <td>Apicidin+SAHA+1</td>\n",
       "      <td>0</td>\n",
       "      <td>-0.129170</td>\n",
       "      <td>0.333380</td>\n",
       "      <td>0.365980</td>\n",
       "      <td>0.098066</td>\n",
       "      <td>0.278300</td>\n",
       "      <td>0.344320</td>\n",
       "      <td>0.378700</td>\n",
       "      <td>0.379170</td>\n",
       "      <td>...</td>\n",
       "      <td>0.047252</td>\n",
       "      <td>0.155370</td>\n",
       "      <td>-0.233800</td>\n",
       "      <td>0.178560</td>\n",
       "      <td>0.121500</td>\n",
       "      <td>0.155370</td>\n",
       "      <td>0.054595</td>\n",
       "      <td>-0.106830</td>\n",
       "      <td>-0.083176</td>\n",
       "      <td>0.207200</td>\n",
       "    </tr>\n",
       "    <tr>\n",
       "      <th>291</th>\n",
       "      <td>Apicidin+SAHA+2</td>\n",
       "      <td>0</td>\n",
       "      <td>-0.138660</td>\n",
       "      <td>0.363450</td>\n",
       "      <td>0.402400</td>\n",
       "      <td>0.097388</td>\n",
       "      <td>0.306650</td>\n",
       "      <td>0.388850</td>\n",
       "      <td>0.402590</td>\n",
       "      <td>0.401620</td>\n",
       "      <td>...</td>\n",
       "      <td>0.096812</td>\n",
       "      <td>0.192400</td>\n",
       "      <td>-0.241390</td>\n",
       "      <td>0.239650</td>\n",
       "      <td>0.183410</td>\n",
       "      <td>0.192400</td>\n",
       "      <td>-0.066253</td>\n",
       "      <td>-0.142030</td>\n",
       "      <td>-0.070906</td>\n",
       "      <td>0.218420</td>\n",
       "    </tr>\n",
       "    <tr>\n",
       "      <th>293</th>\n",
       "      <td>Apicidin+SAHA+3</td>\n",
       "      <td>0</td>\n",
       "      <td>0.090836</td>\n",
       "      <td>0.224790</td>\n",
       "      <td>0.228740</td>\n",
       "      <td>0.093226</td>\n",
       "      <td>0.304810</td>\n",
       "      <td>0.227980</td>\n",
       "      <td>0.209440</td>\n",
       "      <td>0.201790</td>\n",
       "      <td>...</td>\n",
       "      <td>-0.040253</td>\n",
       "      <td>0.039815</td>\n",
       "      <td>-0.059600</td>\n",
       "      <td>0.076027</td>\n",
       "      <td>0.047798</td>\n",
       "      <td>0.039815</td>\n",
       "      <td>0.195520</td>\n",
       "      <td>0.139350</td>\n",
       "      <td>0.072137</td>\n",
       "      <td>0.069109</td>\n",
       "    </tr>\n",
       "    <tr>\n",
       "      <th>295</th>\n",
       "      <td>Apicidin+SAHA+4</td>\n",
       "      <td>0</td>\n",
       "      <td>0.029024</td>\n",
       "      <td>0.096415</td>\n",
       "      <td>0.108240</td>\n",
       "      <td>0.055246</td>\n",
       "      <td>0.168910</td>\n",
       "      <td>0.107680</td>\n",
       "      <td>0.095182</td>\n",
       "      <td>0.093516</td>\n",
       "      <td>...</td>\n",
       "      <td>0.027556</td>\n",
       "      <td>-0.054533</td>\n",
       "      <td>-0.033550</td>\n",
       "      <td>-0.022225</td>\n",
       "      <td>0.026813</td>\n",
       "      <td>-0.054533</td>\n",
       "      <td>0.068205</td>\n",
       "      <td>0.056928</td>\n",
       "      <td>0.047905</td>\n",
       "      <td>0.037046</td>\n",
       "    </tr>\n",
       "    <tr>\n",
       "      <th>297</th>\n",
       "      <td>Apicidin+SAHA+5</td>\n",
       "      <td>0</td>\n",
       "      <td>-0.045142</td>\n",
       "      <td>0.041572</td>\n",
       "      <td>0.064937</td>\n",
       "      <td>-0.027956</td>\n",
       "      <td>0.091053</td>\n",
       "      <td>0.074009</td>\n",
       "      <td>0.060519</td>\n",
       "      <td>0.064104</td>\n",
       "      <td>...</td>\n",
       "      <td>0.027814</td>\n",
       "      <td>0.022406</td>\n",
       "      <td>-0.042987</td>\n",
       "      <td>-0.025849</td>\n",
       "      <td>-0.029182</td>\n",
       "      <td>0.022406</td>\n",
       "      <td>-0.034481</td>\n",
       "      <td>-0.032814</td>\n",
       "      <td>-0.036494</td>\n",
       "      <td>0.059277</td>\n",
       "    </tr>\n",
       "    <tr>\n",
       "      <th>299</th>\n",
       "      <td>Apicidin+SAHA+6</td>\n",
       "      <td>0</td>\n",
       "      <td>0.039756</td>\n",
       "      <td>-0.059731</td>\n",
       "      <td>-0.070248</td>\n",
       "      <td>0.050746</td>\n",
       "      <td>-0.063347</td>\n",
       "      <td>-0.073193</td>\n",
       "      <td>-0.062410</td>\n",
       "      <td>-0.059101</td>\n",
       "      <td>...</td>\n",
       "      <td>-0.059957</td>\n",
       "      <td>0.033753</td>\n",
       "      <td>-0.036089</td>\n",
       "      <td>-0.043607</td>\n",
       "      <td>-0.062300</td>\n",
       "      <td>0.033753</td>\n",
       "      <td>0.069930</td>\n",
       "      <td>0.038293</td>\n",
       "      <td>-0.034770</td>\n",
       "      <td>0.050022</td>\n",
       "    </tr>\n",
       "    <tr>\n",
       "      <th>673</th>\n",
       "      <td>Apicidin+Apicidin+1</td>\n",
       "      <td>0</td>\n",
       "      <td>-0.214600</td>\n",
       "      <td>0.389600</td>\n",
       "      <td>0.424420</td>\n",
       "      <td>0.120690</td>\n",
       "      <td>0.323700</td>\n",
       "      <td>0.392860</td>\n",
       "      <td>0.433190</td>\n",
       "      <td>0.436160</td>\n",
       "      <td>...</td>\n",
       "      <td>0.121560</td>\n",
       "      <td>0.146960</td>\n",
       "      <td>-0.243440</td>\n",
       "      <td>0.287860</td>\n",
       "      <td>0.205250</td>\n",
       "      <td>0.146960</td>\n",
       "      <td>-0.116960</td>\n",
       "      <td>-0.196050</td>\n",
       "      <td>-0.099746</td>\n",
       "      <td>0.237430</td>\n",
       "    </tr>\n",
       "    <tr>\n",
       "      <th>675</th>\n",
       "      <td>Apicidin+Apicidin+2</td>\n",
       "      <td>0</td>\n",
       "      <td>-0.035000</td>\n",
       "      <td>0.318060</td>\n",
       "      <td>0.344260</td>\n",
       "      <td>0.105320</td>\n",
       "      <td>0.266340</td>\n",
       "      <td>0.320190</td>\n",
       "      <td>0.349080</td>\n",
       "      <td>0.347260</td>\n",
       "      <td>...</td>\n",
       "      <td>0.080862</td>\n",
       "      <td>0.088018</td>\n",
       "      <td>-0.147980</td>\n",
       "      <td>0.171260</td>\n",
       "      <td>0.135390</td>\n",
       "      <td>0.088018</td>\n",
       "      <td>0.031280</td>\n",
       "      <td>-0.087588</td>\n",
       "      <td>0.070700</td>\n",
       "      <td>0.145150</td>\n",
       "    </tr>\n",
       "    <tr>\n",
       "      <th>677</th>\n",
       "      <td>Apicidin+Apicidin+3</td>\n",
       "      <td>0</td>\n",
       "      <td>-0.082093</td>\n",
       "      <td>0.268840</td>\n",
       "      <td>0.241990</td>\n",
       "      <td>0.083841</td>\n",
       "      <td>0.271080</td>\n",
       "      <td>0.239880</td>\n",
       "      <td>0.225080</td>\n",
       "      <td>0.225160</td>\n",
       "      <td>...</td>\n",
       "      <td>0.111910</td>\n",
       "      <td>0.078374</td>\n",
       "      <td>-0.069370</td>\n",
       "      <td>0.158410</td>\n",
       "      <td>0.156750</td>\n",
       "      <td>0.078374</td>\n",
       "      <td>0.047093</td>\n",
       "      <td>-0.046585</td>\n",
       "      <td>0.058394</td>\n",
       "      <td>0.084126</td>\n",
       "    </tr>\n",
       "    <tr>\n",
       "      <th>679</th>\n",
       "      <td>Apicidin+Apicidin+4</td>\n",
       "      <td>0</td>\n",
       "      <td>-0.035000</td>\n",
       "      <td>0.094167</td>\n",
       "      <td>0.080227</td>\n",
       "      <td>0.093636</td>\n",
       "      <td>0.100380</td>\n",
       "      <td>0.074015</td>\n",
       "      <td>0.078258</td>\n",
       "      <td>0.075758</td>\n",
       "      <td>...</td>\n",
       "      <td>0.060000</td>\n",
       "      <td>-0.080833</td>\n",
       "      <td>0.033409</td>\n",
       "      <td>0.039924</td>\n",
       "      <td>0.050909</td>\n",
       "      <td>-0.080833</td>\n",
       "      <td>0.044015</td>\n",
       "      <td>0.029167</td>\n",
       "      <td>0.035682</td>\n",
       "      <td>0.029318</td>\n",
       "    </tr>\n",
       "    <tr>\n",
       "      <th>681</th>\n",
       "      <td>Apicidin+Apicidin+5</td>\n",
       "      <td>0</td>\n",
       "      <td>-0.044167</td>\n",
       "      <td>-0.035503</td>\n",
       "      <td>0.032462</td>\n",
       "      <td>0.044966</td>\n",
       "      <td>0.026965</td>\n",
       "      <td>0.036185</td>\n",
       "      <td>0.037325</td>\n",
       "      <td>0.037404</td>\n",
       "      <td>...</td>\n",
       "      <td>0.050600</td>\n",
       "      <td>-0.030612</td>\n",
       "      <td>-0.042041</td>\n",
       "      <td>0.048289</td>\n",
       "      <td>0.049577</td>\n",
       "      <td>-0.030612</td>\n",
       "      <td>-0.093174</td>\n",
       "      <td>-0.092107</td>\n",
       "      <td>-0.045393</td>\n",
       "      <td>0.051876</td>\n",
       "    </tr>\n",
       "    <tr>\n",
       "      <th>683</th>\n",
       "      <td>Apicidin+Apicidin+6</td>\n",
       "      <td>0</td>\n",
       "      <td>-0.036667</td>\n",
       "      <td>-0.047998</td>\n",
       "      <td>-0.057048</td>\n",
       "      <td>0.073265</td>\n",
       "      <td>-0.064164</td>\n",
       "      <td>-0.064066</td>\n",
       "      <td>-0.039407</td>\n",
       "      <td>-0.041638</td>\n",
       "      <td>...</td>\n",
       "      <td>0.033442</td>\n",
       "      <td>-0.043986</td>\n",
       "      <td>-0.076154</td>\n",
       "      <td>0.040873</td>\n",
       "      <td>0.036701</td>\n",
       "      <td>-0.043986</td>\n",
       "      <td>-0.047804</td>\n",
       "      <td>-0.086692</td>\n",
       "      <td>-0.054204</td>\n",
       "      <td>0.089533</td>\n",
       "    </tr>\n",
       "    <tr>\n",
       "      <th>288</th>\n",
       "      <td>SAHA+SAHA+1</td>\n",
       "      <td>0</td>\n",
       "      <td>-0.138660</td>\n",
       "      <td>0.366480</td>\n",
       "      <td>0.435790</td>\n",
       "      <td>0.083339</td>\n",
       "      <td>0.314940</td>\n",
       "      <td>0.412460</td>\n",
       "      <td>0.424920</td>\n",
       "      <td>0.428980</td>\n",
       "      <td>...</td>\n",
       "      <td>0.053367</td>\n",
       "      <td>0.145810</td>\n",
       "      <td>-0.230010</td>\n",
       "      <td>0.191530</td>\n",
       "      <td>0.130160</td>\n",
       "      <td>0.145810</td>\n",
       "      <td>0.053367</td>\n",
       "      <td>-0.115400</td>\n",
       "      <td>-0.098501</td>\n",
       "      <td>0.211350</td>\n",
       "    </tr>\n",
       "    <tr>\n",
       "      <th>290</th>\n",
       "      <td>SAHA+SAHA+2</td>\n",
       "      <td>0</td>\n",
       "      <td>-0.095833</td>\n",
       "      <td>0.340920</td>\n",
       "      <td>0.385140</td>\n",
       "      <td>0.079212</td>\n",
       "      <td>0.259180</td>\n",
       "      <td>0.359630</td>\n",
       "      <td>0.385400</td>\n",
       "      <td>0.385200</td>\n",
       "      <td>...</td>\n",
       "      <td>0.083685</td>\n",
       "      <td>0.135250</td>\n",
       "      <td>-0.199080</td>\n",
       "      <td>0.175700</td>\n",
       "      <td>0.136010</td>\n",
       "      <td>0.135250</td>\n",
       "      <td>0.052987</td>\n",
       "      <td>-0.101970</td>\n",
       "      <td>-0.052306</td>\n",
       "      <td>0.198650</td>\n",
       "    </tr>\n",
       "    <tr>\n",
       "      <th>292</th>\n",
       "      <td>SAHA+SAHA+3</td>\n",
       "      <td>0</td>\n",
       "      <td>0.051307</td>\n",
       "      <td>0.236780</td>\n",
       "      <td>0.229990</td>\n",
       "      <td>0.083399</td>\n",
       "      <td>0.298260</td>\n",
       "      <td>0.226510</td>\n",
       "      <td>0.223090</td>\n",
       "      <td>0.208060</td>\n",
       "      <td>...</td>\n",
       "      <td>0.037662</td>\n",
       "      <td>0.039134</td>\n",
       "      <td>-0.050224</td>\n",
       "      <td>0.061670</td>\n",
       "      <td>0.058436</td>\n",
       "      <td>0.039134</td>\n",
       "      <td>0.171180</td>\n",
       "      <td>0.126540</td>\n",
       "      <td>0.063737</td>\n",
       "      <td>0.053910</td>\n",
       "    </tr>\n",
       "    <tr>\n",
       "      <th>294</th>\n",
       "      <td>SAHA+SAHA+4</td>\n",
       "      <td>0</td>\n",
       "      <td>0.058049</td>\n",
       "      <td>0.083817</td>\n",
       "      <td>0.101000</td>\n",
       "      <td>0.054505</td>\n",
       "      <td>0.130480</td>\n",
       "      <td>0.107850</td>\n",
       "      <td>0.089163</td>\n",
       "      <td>0.088013</td>\n",
       "      <td>...</td>\n",
       "      <td>-0.040156</td>\n",
       "      <td>-0.069032</td>\n",
       "      <td>0.048584</td>\n",
       "      <td>-0.062223</td>\n",
       "      <td>-0.052686</td>\n",
       "      <td>-0.069032</td>\n",
       "      <td>0.106940</td>\n",
       "      <td>0.098304</td>\n",
       "      <td>0.055156</td>\n",
       "      <td>-0.039647</td>\n",
       "    </tr>\n",
       "    <tr>\n",
       "      <th>296</th>\n",
       "      <td>SAHA+SAHA+5</td>\n",
       "      <td>0</td>\n",
       "      <td>-0.053333</td>\n",
       "      <td>-0.051991</td>\n",
       "      <td>-0.067236</td>\n",
       "      <td>0.042680</td>\n",
       "      <td>-0.021477</td>\n",
       "      <td>-0.059421</td>\n",
       "      <td>-0.063338</td>\n",
       "      <td>-0.060349</td>\n",
       "      <td>...</td>\n",
       "      <td>0.035254</td>\n",
       "      <td>-0.028119</td>\n",
       "      <td>-0.055364</td>\n",
       "      <td>0.025259</td>\n",
       "      <td>-0.025993</td>\n",
       "      <td>-0.028119</td>\n",
       "      <td>0.025354</td>\n",
       "      <td>-0.036891</td>\n",
       "      <td>0.054736</td>\n",
       "      <td>0.053343</td>\n",
       "    </tr>\n",
       "    <tr>\n",
       "      <th>298</th>\n",
       "      <td>SAHA+SAHA+6</td>\n",
       "      <td>0</td>\n",
       "      <td>-0.069216</td>\n",
       "      <td>-0.050392</td>\n",
       "      <td>-0.063284</td>\n",
       "      <td>-0.035931</td>\n",
       "      <td>-0.045343</td>\n",
       "      <td>-0.060000</td>\n",
       "      <td>-0.061912</td>\n",
       "      <td>-0.063676</td>\n",
       "      <td>...</td>\n",
       "      <td>0.046275</td>\n",
       "      <td>0.039706</td>\n",
       "      <td>-0.066324</td>\n",
       "      <td>0.060392</td>\n",
       "      <td>0.049118</td>\n",
       "      <td>0.039706</td>\n",
       "      <td>-0.079755</td>\n",
       "      <td>-0.097500</td>\n",
       "      <td>-0.050735</td>\n",
       "      <td>0.064363</td>\n",
       "    </tr>\n",
       "  </tbody>\n",
       "</table>\n",
       "<p>24 rows × 240 columns</p>\n",
       "</div>"
      ],
      "text/plain": [
       "               drug_name  default       ks1       ks2       ks3       ks4  \\\n",
       "672      SAHA+Apicidin+1        0 -0.059834  0.340110  0.390130  0.077932   \n",
       "674      SAHA+Apicidin+2        0 -0.109790  0.332810  0.336710  0.109790   \n",
       "676      SAHA+Apicidin+3        0  0.038581  0.241160  0.237870  0.074451   \n",
       "678      SAHA+Apicidin+4        0 -0.069082  0.079449  0.059266  0.112430   \n",
       "680      SAHA+Apicidin+5        0 -0.106250 -0.043794 -0.063867  0.057435   \n",
       "682      SAHA+Apicidin+6        0  0.044009 -0.060000 -0.051537 -0.041997   \n",
       "289      Apicidin+SAHA+1        0 -0.129170  0.333380  0.365980  0.098066   \n",
       "291      Apicidin+SAHA+2        0 -0.138660  0.363450  0.402400  0.097388   \n",
       "293      Apicidin+SAHA+3        0  0.090836  0.224790  0.228740  0.093226   \n",
       "295      Apicidin+SAHA+4        0  0.029024  0.096415  0.108240  0.055246   \n",
       "297      Apicidin+SAHA+5        0 -0.045142  0.041572  0.064937 -0.027956   \n",
       "299      Apicidin+SAHA+6        0  0.039756 -0.059731 -0.070248  0.050746   \n",
       "673  Apicidin+Apicidin+1        0 -0.214600  0.389600  0.424420  0.120690   \n",
       "675  Apicidin+Apicidin+2        0 -0.035000  0.318060  0.344260  0.105320   \n",
       "677  Apicidin+Apicidin+3        0 -0.082093  0.268840  0.241990  0.083841   \n",
       "679  Apicidin+Apicidin+4        0 -0.035000  0.094167  0.080227  0.093636   \n",
       "681  Apicidin+Apicidin+5        0 -0.044167 -0.035503  0.032462  0.044966   \n",
       "683  Apicidin+Apicidin+6        0 -0.036667 -0.047998 -0.057048  0.073265   \n",
       "288          SAHA+SAHA+1        0 -0.138660  0.366480  0.435790  0.083339   \n",
       "290          SAHA+SAHA+2        0 -0.095833  0.340920  0.385140  0.079212   \n",
       "292          SAHA+SAHA+3        0  0.051307  0.236780  0.229990  0.083399   \n",
       "294          SAHA+SAHA+4        0  0.058049  0.083817  0.101000  0.054505   \n",
       "296          SAHA+SAHA+5        0 -0.053333 -0.051991 -0.067236  0.042680   \n",
       "298          SAHA+SAHA+6        0 -0.069216 -0.050392 -0.063284 -0.035931   \n",
       "\n",
       "          ks5       ks6       ks7       ks8  ...     ks229     ks230  \\\n",
       "672  0.290870  0.363330  0.383150  0.378910  ...  0.088412  0.119260   \n",
       "674  0.283200  0.324080  0.329100  0.325440  ...  0.099784  0.150050   \n",
       "676  0.297730  0.235490  0.224600  0.216060  ...  0.059385 -0.058055   \n",
       "678  0.085854  0.057440  0.059194  0.059365  ...  0.082106 -0.057335   \n",
       "680 -0.073059 -0.061508 -0.055215 -0.054832  ...  0.053144  0.039696   \n",
       "682 -0.070790 -0.058190 -0.043190 -0.031782  ... -0.046509 -0.051552   \n",
       "289  0.278300  0.344320  0.378700  0.379170  ...  0.047252  0.155370   \n",
       "291  0.306650  0.388850  0.402590  0.401620  ...  0.096812  0.192400   \n",
       "293  0.304810  0.227980  0.209440  0.201790  ... -0.040253  0.039815   \n",
       "295  0.168910  0.107680  0.095182  0.093516  ...  0.027556 -0.054533   \n",
       "297  0.091053  0.074009  0.060519  0.064104  ...  0.027814  0.022406   \n",
       "299 -0.063347 -0.073193 -0.062410 -0.059101  ... -0.059957  0.033753   \n",
       "673  0.323700  0.392860  0.433190  0.436160  ...  0.121560  0.146960   \n",
       "675  0.266340  0.320190  0.349080  0.347260  ...  0.080862  0.088018   \n",
       "677  0.271080  0.239880  0.225080  0.225160  ...  0.111910  0.078374   \n",
       "679  0.100380  0.074015  0.078258  0.075758  ...  0.060000 -0.080833   \n",
       "681  0.026965  0.036185  0.037325  0.037404  ...  0.050600 -0.030612   \n",
       "683 -0.064164 -0.064066 -0.039407 -0.041638  ...  0.033442 -0.043986   \n",
       "288  0.314940  0.412460  0.424920  0.428980  ...  0.053367  0.145810   \n",
       "290  0.259180  0.359630  0.385400  0.385200  ...  0.083685  0.135250   \n",
       "292  0.298260  0.226510  0.223090  0.208060  ...  0.037662  0.039134   \n",
       "294  0.130480  0.107850  0.089163  0.088013  ... -0.040156 -0.069032   \n",
       "296 -0.021477 -0.059421 -0.063338 -0.060349  ...  0.035254 -0.028119   \n",
       "298 -0.045343 -0.060000 -0.061912 -0.063676  ...  0.046275  0.039706   \n",
       "\n",
       "        ks231     ks232     ks233     ks234     ks235     ks236     ks237  \\\n",
       "672 -0.191370  0.191600  0.133780  0.119260 -0.053923 -0.145330 -0.073195   \n",
       "674 -0.197280  0.252150  0.189730  0.150050 -0.093772 -0.178180 -0.086238   \n",
       "676 -0.046870  0.046923  0.047125 -0.058055  0.161690  0.096193  0.061451   \n",
       "678 -0.032106  0.076971  0.075093 -0.057335  0.042930 -0.049437 -0.045725   \n",
       "680 -0.042343  0.089623  0.092760  0.039696 -0.120220 -0.147580 -0.053784   \n",
       "682 -0.041853 -0.068994 -0.070287 -0.051552  0.030589 -0.048175 -0.026753   \n",
       "289 -0.233800  0.178560  0.121500  0.155370  0.054595 -0.106830 -0.083176   \n",
       "291 -0.241390  0.239650  0.183410  0.192400 -0.066253 -0.142030 -0.070906   \n",
       "293 -0.059600  0.076027  0.047798  0.039815  0.195520  0.139350  0.072137   \n",
       "295 -0.033550 -0.022225  0.026813 -0.054533  0.068205  0.056928  0.047905   \n",
       "297 -0.042987 -0.025849 -0.029182  0.022406 -0.034481 -0.032814 -0.036494   \n",
       "299 -0.036089 -0.043607 -0.062300  0.033753  0.069930  0.038293 -0.034770   \n",
       "673 -0.243440  0.287860  0.205250  0.146960 -0.116960 -0.196050 -0.099746   \n",
       "675 -0.147980  0.171260  0.135390  0.088018  0.031280 -0.087588  0.070700   \n",
       "677 -0.069370  0.158410  0.156750  0.078374  0.047093 -0.046585  0.058394   \n",
       "679  0.033409  0.039924  0.050909 -0.080833  0.044015  0.029167  0.035682   \n",
       "681 -0.042041  0.048289  0.049577 -0.030612 -0.093174 -0.092107 -0.045393   \n",
       "683 -0.076154  0.040873  0.036701 -0.043986 -0.047804 -0.086692 -0.054204   \n",
       "288 -0.230010  0.191530  0.130160  0.145810  0.053367 -0.115400 -0.098501   \n",
       "290 -0.199080  0.175700  0.136010  0.135250  0.052987 -0.101970 -0.052306   \n",
       "292 -0.050224  0.061670  0.058436  0.039134  0.171180  0.126540  0.063737   \n",
       "294  0.048584 -0.062223 -0.052686 -0.069032  0.106940  0.098304  0.055156   \n",
       "296 -0.055364  0.025259 -0.025993 -0.028119  0.025354 -0.036891  0.054736   \n",
       "298 -0.066324  0.060392  0.049118  0.039706 -0.079755 -0.097500 -0.050735   \n",
       "\n",
       "        ks238  \n",
       "672  0.178100  \n",
       "674  0.191260  \n",
       "676  0.053781  \n",
       "678  0.038102  \n",
       "680  0.048014  \n",
       "682  0.055905  \n",
       "289  0.207200  \n",
       "291  0.218420  \n",
       "293  0.069109  \n",
       "295  0.037046  \n",
       "297  0.059277  \n",
       "299  0.050022  \n",
       "673  0.237430  \n",
       "675  0.145150  \n",
       "677  0.084126  \n",
       "679  0.029318  \n",
       "681  0.051876  \n",
       "683  0.089533  \n",
       "288  0.211350  \n",
       "290  0.198650  \n",
       "292  0.053910  \n",
       "294 -0.039647  \n",
       "296  0.053343  \n",
       "298  0.064363  \n",
       "\n",
       "[24 rows x 240 columns]"
      ]
     },
     "execution_count": 12,
     "metadata": {},
     "output_type": "execute_result"
    }
   ],
   "source": [
    "#Dna ： etoposide，Gemcitabine\n",
    "#hsp：17aag，auy922\n",
    "#mt：paclitaxel，Vinblastine\n",
    "#prot：\"MG132\"，ps341\n",
    "#hdac：saha，apicidin\n",
    "\n",
    "frames5=[]\n",
    "for i in range(1,7):\n",
    "    frames5.append(df.loc[(df['drug_name'] =='SAHA+Apicidin+'+str(i)) ])\n",
    "for j in range(1,7):\n",
    "    frames5.append(df.loc[(df['drug_name'] =='Apicidin+SAHA+'+str(j)) ])\n",
    "for k in range(1,7):\n",
    "    frames5.append(df.loc[(df['drug_name'] =='Apicidin+Apicidin+'+str(k)) ])\n",
    "for m in range(1,7):\n",
    "    frames5.append(df.loc[(df['drug_name'] =='SAHA+SAHA+'+str(m)) ])\n",
    "HDAC= pd.concat(frames5)\n",
    "HDAC"
   ]
  },
  {
   "cell_type": "code",
   "execution_count": 13,
   "metadata": {},
   "outputs": [
    {
     "data": {
      "text/html": [
       "<div>\n",
       "<style scoped>\n",
       "    .dataframe tbody tr th:only-of-type {\n",
       "        vertical-align: middle;\n",
       "    }\n",
       "\n",
       "    .dataframe tbody tr th {\n",
       "        vertical-align: top;\n",
       "    }\n",
       "\n",
       "    .dataframe thead th {\n",
       "        text-align: right;\n",
       "    }\n",
       "</style>\n",
       "<table border=\"1\" class=\"dataframe\">\n",
       "  <thead>\n",
       "    <tr style=\"text-align: right;\">\n",
       "      <th></th>\n",
       "      <th>drug_name</th>\n",
       "      <th>default</th>\n",
       "      <th>ks1</th>\n",
       "      <th>ks2</th>\n",
       "      <th>ks3</th>\n",
       "      <th>ks4</th>\n",
       "      <th>ks5</th>\n",
       "      <th>ks6</th>\n",
       "      <th>ks7</th>\n",
       "      <th>ks8</th>\n",
       "      <th>...</th>\n",
       "      <th>ks229</th>\n",
       "      <th>ks230</th>\n",
       "      <th>ks231</th>\n",
       "      <th>ks232</th>\n",
       "      <th>ks233</th>\n",
       "      <th>ks234</th>\n",
       "      <th>ks235</th>\n",
       "      <th>ks236</th>\n",
       "      <th>ks237</th>\n",
       "      <th>ks238</th>\n",
       "    </tr>\n",
       "  </thead>\n",
       "  <tbody>\n",
       "    <tr>\n",
       "      <th>360</th>\n",
       "      <td>DMSO+DMSO+1</td>\n",
       "      <td>0</td>\n",
       "      <td>-0.040458</td>\n",
       "      <td>0.041631</td>\n",
       "      <td>-0.033216</td>\n",
       "      <td>0.089519</td>\n",
       "      <td>0.035493</td>\n",
       "      <td>-0.048932</td>\n",
       "      <td>0.033310</td>\n",
       "      <td>0.037242</td>\n",
       "      <td>...</td>\n",
       "      <td>0.044847</td>\n",
       "      <td>0.039354</td>\n",
       "      <td>-0.043862</td>\n",
       "      <td>0.040423</td>\n",
       "      <td>0.038685</td>\n",
       "      <td>0.039354</td>\n",
       "      <td>0.033568</td>\n",
       "      <td>-0.032840</td>\n",
       "      <td>0.043052</td>\n",
       "      <td>0.035833</td>\n",
       "    </tr>\n",
       "    <tr>\n",
       "      <th>361</th>\n",
       "      <td>DMSO+DMSO+1</td>\n",
       "      <td>0</td>\n",
       "      <td>0.028564</td>\n",
       "      <td>-0.038257</td>\n",
       "      <td>-0.049343</td>\n",
       "      <td>0.047224</td>\n",
       "      <td>0.030922</td>\n",
       "      <td>-0.049885</td>\n",
       "      <td>-0.061118</td>\n",
       "      <td>-0.056782</td>\n",
       "      <td>...</td>\n",
       "      <td>-0.042416</td>\n",
       "      <td>0.046901</td>\n",
       "      <td>-0.027170</td>\n",
       "      <td>0.020591</td>\n",
       "      <td>-0.023852</td>\n",
       "      <td>0.046901</td>\n",
       "      <td>0.048184</td>\n",
       "      <td>0.026701</td>\n",
       "      <td>0.027907</td>\n",
       "      <td>0.019685</td>\n",
       "    </tr>\n",
       "    <tr>\n",
       "      <th>372</th>\n",
       "      <td>DMSO+DMSO+1</td>\n",
       "      <td>0</td>\n",
       "      <td>0.090836</td>\n",
       "      <td>0.042936</td>\n",
       "      <td>0.051533</td>\n",
       "      <td>0.033143</td>\n",
       "      <td>0.080786</td>\n",
       "      <td>0.041084</td>\n",
       "      <td>0.039284</td>\n",
       "      <td>0.046330</td>\n",
       "      <td>...</td>\n",
       "      <td>-0.047803</td>\n",
       "      <td>-0.022398</td>\n",
       "      <td>-0.040381</td>\n",
       "      <td>-0.069433</td>\n",
       "      <td>-0.090159</td>\n",
       "      <td>-0.022398</td>\n",
       "      <td>0.095729</td>\n",
       "      <td>0.096272</td>\n",
       "      <td>0.031701</td>\n",
       "      <td>0.028169</td>\n",
       "    </tr>\n",
       "    <tr>\n",
       "      <th>373</th>\n",
       "      <td>DMSO+DMSO+1</td>\n",
       "      <td>0</td>\n",
       "      <td>0.077589</td>\n",
       "      <td>-0.058936</td>\n",
       "      <td>-0.059840</td>\n",
       "      <td>0.056152</td>\n",
       "      <td>-0.044450</td>\n",
       "      <td>-0.054716</td>\n",
       "      <td>-0.055887</td>\n",
       "      <td>-0.054610</td>\n",
       "      <td>...</td>\n",
       "      <td>-0.040833</td>\n",
       "      <td>-0.040018</td>\n",
       "      <td>-0.069876</td>\n",
       "      <td>-0.059504</td>\n",
       "      <td>-0.069309</td>\n",
       "      <td>-0.040018</td>\n",
       "      <td>0.077943</td>\n",
       "      <td>0.073156</td>\n",
       "      <td>0.050745</td>\n",
       "      <td>0.055727</td>\n",
       "    </tr>\n",
       "    <tr>\n",
       "      <th>744</th>\n",
       "      <td>DMSO+DMSO+1</td>\n",
       "      <td>0</td>\n",
       "      <td>0.049394</td>\n",
       "      <td>0.068186</td>\n",
       "      <td>0.071101</td>\n",
       "      <td>0.054791</td>\n",
       "      <td>0.083623</td>\n",
       "      <td>0.071546</td>\n",
       "      <td>0.062879</td>\n",
       "      <td>0.062353</td>\n",
       "      <td>...</td>\n",
       "      <td>0.026096</td>\n",
       "      <td>-0.038975</td>\n",
       "      <td>-0.052656</td>\n",
       "      <td>0.033578</td>\n",
       "      <td>-0.026720</td>\n",
       "      <td>-0.038975</td>\n",
       "      <td>0.069617</td>\n",
       "      <td>0.036742</td>\n",
       "      <td>0.031283</td>\n",
       "      <td>0.041925</td>\n",
       "    </tr>\n",
       "    <tr>\n",
       "      <th>745</th>\n",
       "      <td>DMSO+DMSO+1</td>\n",
       "      <td>0</td>\n",
       "      <td>0.138140</td>\n",
       "      <td>0.031667</td>\n",
       "      <td>0.029423</td>\n",
       "      <td>0.033269</td>\n",
       "      <td>0.031410</td>\n",
       "      <td>0.029744</td>\n",
       "      <td>0.030256</td>\n",
       "      <td>0.028910</td>\n",
       "      <td>...</td>\n",
       "      <td>-0.060705</td>\n",
       "      <td>-0.075897</td>\n",
       "      <td>0.053013</td>\n",
       "      <td>-0.089359</td>\n",
       "      <td>-0.077628</td>\n",
       "      <td>-0.075897</td>\n",
       "      <td>0.120000</td>\n",
       "      <td>0.137820</td>\n",
       "      <td>0.058974</td>\n",
       "      <td>-0.083141</td>\n",
       "    </tr>\n",
       "    <tr>\n",
       "      <th>756</th>\n",
       "      <td>DMSO+DMSO+1</td>\n",
       "      <td>0</td>\n",
       "      <td>-0.036667</td>\n",
       "      <td>0.025263</td>\n",
       "      <td>-0.037774</td>\n",
       "      <td>-0.029886</td>\n",
       "      <td>-0.025616</td>\n",
       "      <td>-0.038813</td>\n",
       "      <td>-0.039817</td>\n",
       "      <td>-0.038516</td>\n",
       "      <td>...</td>\n",
       "      <td>0.051416</td>\n",
       "      <td>-0.025422</td>\n",
       "      <td>0.049167</td>\n",
       "      <td>0.034623</td>\n",
       "      <td>0.038824</td>\n",
       "      <td>-0.025422</td>\n",
       "      <td>-0.017420</td>\n",
       "      <td>0.021792</td>\n",
       "      <td>0.024863</td>\n",
       "      <td>-0.035947</td>\n",
       "    </tr>\n",
       "    <tr>\n",
       "      <th>757</th>\n",
       "      <td>DMSO+DMSO+1</td>\n",
       "      <td>0</td>\n",
       "      <td>-0.027500</td>\n",
       "      <td>0.045976</td>\n",
       "      <td>0.047774</td>\n",
       "      <td>0.067184</td>\n",
       "      <td>0.056997</td>\n",
       "      <td>0.037728</td>\n",
       "      <td>0.039048</td>\n",
       "      <td>0.034074</td>\n",
       "      <td>...</td>\n",
       "      <td>0.033587</td>\n",
       "      <td>-0.040746</td>\n",
       "      <td>-0.041647</td>\n",
       "      <td>0.045220</td>\n",
       "      <td>0.033289</td>\n",
       "      <td>-0.040746</td>\n",
       "      <td>-0.040175</td>\n",
       "      <td>-0.057324</td>\n",
       "      <td>-0.025991</td>\n",
       "      <td>0.042167</td>\n",
       "    </tr>\n",
       "    <tr>\n",
       "      <th>362</th>\n",
       "      <td>DMSO+DMSO+2</td>\n",
       "      <td>0</td>\n",
       "      <td>-0.034665</td>\n",
       "      <td>0.037463</td>\n",
       "      <td>0.034453</td>\n",
       "      <td>0.047030</td>\n",
       "      <td>0.078444</td>\n",
       "      <td>0.030116</td>\n",
       "      <td>0.033613</td>\n",
       "      <td>0.035964</td>\n",
       "      <td>...</td>\n",
       "      <td>0.041602</td>\n",
       "      <td>-0.020125</td>\n",
       "      <td>-0.044592</td>\n",
       "      <td>0.056796</td>\n",
       "      <td>0.033946</td>\n",
       "      <td>-0.020125</td>\n",
       "      <td>0.034982</td>\n",
       "      <td>0.026566</td>\n",
       "      <td>-0.049791</td>\n",
       "      <td>0.035072</td>\n",
       "    </tr>\n",
       "    <tr>\n",
       "      <th>363</th>\n",
       "      <td>DMSO+DMSO+2</td>\n",
       "      <td>0</td>\n",
       "      <td>0.048748</td>\n",
       "      <td>0.025792</td>\n",
       "      <td>0.048283</td>\n",
       "      <td>0.062357</td>\n",
       "      <td>0.057030</td>\n",
       "      <td>0.046819</td>\n",
       "      <td>0.040599</td>\n",
       "      <td>0.039116</td>\n",
       "      <td>...</td>\n",
       "      <td>-0.045258</td>\n",
       "      <td>0.024337</td>\n",
       "      <td>0.047647</td>\n",
       "      <td>-0.043527</td>\n",
       "      <td>-0.049489</td>\n",
       "      <td>0.024337</td>\n",
       "      <td>0.035511</td>\n",
       "      <td>0.041234</td>\n",
       "      <td>-0.032670</td>\n",
       "      <td>-0.048867</td>\n",
       "    </tr>\n",
       "    <tr>\n",
       "      <th>374</th>\n",
       "      <td>DMSO+DMSO+2</td>\n",
       "      <td>0</td>\n",
       "      <td>0.029024</td>\n",
       "      <td>-0.019078</td>\n",
       "      <td>-0.028211</td>\n",
       "      <td>0.046319</td>\n",
       "      <td>0.036928</td>\n",
       "      <td>-0.027060</td>\n",
       "      <td>-0.029044</td>\n",
       "      <td>-0.027893</td>\n",
       "      <td>...</td>\n",
       "      <td>0.035890</td>\n",
       "      <td>-0.023229</td>\n",
       "      <td>0.025090</td>\n",
       "      <td>0.034930</td>\n",
       "      <td>-0.034500</td>\n",
       "      <td>-0.023229</td>\n",
       "      <td>0.051753</td>\n",
       "      <td>0.045010</td>\n",
       "      <td>0.022479</td>\n",
       "      <td>-0.028189</td>\n",
       "    </tr>\n",
       "    <tr>\n",
       "      <th>375</th>\n",
       "      <td>DMSO+DMSO+2</td>\n",
       "      <td>0</td>\n",
       "      <td>-0.100830</td>\n",
       "      <td>-0.030089</td>\n",
       "      <td>-0.020413</td>\n",
       "      <td>-0.053206</td>\n",
       "      <td>0.046864</td>\n",
       "      <td>0.022017</td>\n",
       "      <td>-0.023518</td>\n",
       "      <td>-0.027335</td>\n",
       "      <td>...</td>\n",
       "      <td>-0.030598</td>\n",
       "      <td>0.067926</td>\n",
       "      <td>-0.046559</td>\n",
       "      <td>0.048340</td>\n",
       "      <td>0.035153</td>\n",
       "      <td>0.067926</td>\n",
       "      <td>-0.059898</td>\n",
       "      <td>-0.071788</td>\n",
       "      <td>-0.039319</td>\n",
       "      <td>0.056991</td>\n",
       "    </tr>\n",
       "    <tr>\n",
       "      <th>746</th>\n",
       "      <td>DMSO+DMSO+2</td>\n",
       "      <td>0</td>\n",
       "      <td>-0.035000</td>\n",
       "      <td>0.036750</td>\n",
       "      <td>0.031538</td>\n",
       "      <td>0.048164</td>\n",
       "      <td>0.039679</td>\n",
       "      <td>0.034590</td>\n",
       "      <td>0.030258</td>\n",
       "      <td>0.030759</td>\n",
       "      <td>...</td>\n",
       "      <td>0.036014</td>\n",
       "      <td>-0.040564</td>\n",
       "      <td>0.044763</td>\n",
       "      <td>0.024345</td>\n",
       "      <td>0.035065</td>\n",
       "      <td>-0.040564</td>\n",
       "      <td>-0.031131</td>\n",
       "      <td>-0.028679</td>\n",
       "      <td>-0.047764</td>\n",
       "      <td>-0.047718</td>\n",
       "    </tr>\n",
       "    <tr>\n",
       "      <th>747</th>\n",
       "      <td>DMSO+DMSO+2</td>\n",
       "      <td>0</td>\n",
       "      <td>0.155350</td>\n",
       "      <td>0.045161</td>\n",
       "      <td>0.037836</td>\n",
       "      <td>0.040964</td>\n",
       "      <td>0.051214</td>\n",
       "      <td>0.036680</td>\n",
       "      <td>0.045168</td>\n",
       "      <td>0.042668</td>\n",
       "      <td>...</td>\n",
       "      <td>-0.064633</td>\n",
       "      <td>-0.118320</td>\n",
       "      <td>0.045850</td>\n",
       "      <td>-0.107900</td>\n",
       "      <td>-0.100540</td>\n",
       "      <td>-0.118320</td>\n",
       "      <td>0.139950</td>\n",
       "      <td>0.136950</td>\n",
       "      <td>0.053322</td>\n",
       "      <td>-0.056613</td>\n",
       "    </tr>\n",
       "    <tr>\n",
       "      <th>758</th>\n",
       "      <td>DMSO+DMSO+2</td>\n",
       "      <td>0</td>\n",
       "      <td>-0.039885</td>\n",
       "      <td>-0.028966</td>\n",
       "      <td>-0.037557</td>\n",
       "      <td>0.065977</td>\n",
       "      <td>-0.024511</td>\n",
       "      <td>-0.037586</td>\n",
       "      <td>-0.030000</td>\n",
       "      <td>-0.034713</td>\n",
       "      <td>...</td>\n",
       "      <td>0.036293</td>\n",
       "      <td>0.031293</td>\n",
       "      <td>-0.033592</td>\n",
       "      <td>0.071121</td>\n",
       "      <td>0.060489</td>\n",
       "      <td>0.031293</td>\n",
       "      <td>-0.058534</td>\n",
       "      <td>-0.077759</td>\n",
       "      <td>-0.057759</td>\n",
       "      <td>0.027730</td>\n",
       "    </tr>\n",
       "    <tr>\n",
       "      <th>759</th>\n",
       "      <td>DMSO+DMSO+2</td>\n",
       "      <td>0</td>\n",
       "      <td>0.043282</td>\n",
       "      <td>-0.030620</td>\n",
       "      <td>0.028999</td>\n",
       "      <td>0.039496</td>\n",
       "      <td>0.029962</td>\n",
       "      <td>0.026127</td>\n",
       "      <td>0.030208</td>\n",
       "      <td>0.026087</td>\n",
       "      <td>...</td>\n",
       "      <td>-0.031710</td>\n",
       "      <td>-0.026588</td>\n",
       "      <td>-0.032759</td>\n",
       "      <td>-0.031416</td>\n",
       "      <td>-0.038064</td>\n",
       "      <td>-0.026588</td>\n",
       "      <td>-0.044175</td>\n",
       "      <td>-0.050650</td>\n",
       "      <td>-0.077414</td>\n",
       "      <td>0.050359</td>\n",
       "    </tr>\n",
       "    <tr>\n",
       "      <th>364</th>\n",
       "      <td>DMSO+DMSO+3</td>\n",
       "      <td>0</td>\n",
       "      <td>-0.060833</td>\n",
       "      <td>0.043738</td>\n",
       "      <td>0.034322</td>\n",
       "      <td>0.020532</td>\n",
       "      <td>0.054267</td>\n",
       "      <td>0.033246</td>\n",
       "      <td>0.036311</td>\n",
       "      <td>0.037521</td>\n",
       "      <td>...</td>\n",
       "      <td>0.053716</td>\n",
       "      <td>0.053259</td>\n",
       "      <td>-0.038456</td>\n",
       "      <td>0.040905</td>\n",
       "      <td>0.046905</td>\n",
       "      <td>0.053259</td>\n",
       "      <td>-0.036419</td>\n",
       "      <td>-0.030095</td>\n",
       "      <td>0.042346</td>\n",
       "      <td>0.038104</td>\n",
       "    </tr>\n",
       "    <tr>\n",
       "      <th>365</th>\n",
       "      <td>DMSO+DMSO+3</td>\n",
       "      <td>0</td>\n",
       "      <td>-0.054167</td>\n",
       "      <td>-0.037860</td>\n",
       "      <td>-0.078285</td>\n",
       "      <td>0.144870</td>\n",
       "      <td>-0.105070</td>\n",
       "      <td>-0.094508</td>\n",
       "      <td>-0.065276</td>\n",
       "      <td>-0.067656</td>\n",
       "      <td>...</td>\n",
       "      <td>-0.035881</td>\n",
       "      <td>0.060024</td>\n",
       "      <td>0.047542</td>\n",
       "      <td>-0.033753</td>\n",
       "      <td>-0.027218</td>\n",
       "      <td>0.060024</td>\n",
       "      <td>0.063705</td>\n",
       "      <td>0.068321</td>\n",
       "      <td>-0.034317</td>\n",
       "      <td>-0.049406</td>\n",
       "    </tr>\n",
       "    <tr>\n",
       "      <th>376</th>\n",
       "      <td>DMSO+DMSO+3</td>\n",
       "      <td>0</td>\n",
       "      <td>-0.074167</td>\n",
       "      <td>0.029225</td>\n",
       "      <td>0.046846</td>\n",
       "      <td>0.036556</td>\n",
       "      <td>0.049191</td>\n",
       "      <td>0.049257</td>\n",
       "      <td>0.042740</td>\n",
       "      <td>0.040640</td>\n",
       "      <td>...</td>\n",
       "      <td>0.025714</td>\n",
       "      <td>0.042061</td>\n",
       "      <td>-0.032495</td>\n",
       "      <td>0.045386</td>\n",
       "      <td>0.038125</td>\n",
       "      <td>0.042061</td>\n",
       "      <td>-0.058710</td>\n",
       "      <td>-0.059067</td>\n",
       "      <td>-0.049929</td>\n",
       "      <td>0.044752</td>\n",
       "    </tr>\n",
       "    <tr>\n",
       "      <th>377</th>\n",
       "      <td>DMSO+DMSO+3</td>\n",
       "      <td>0</td>\n",
       "      <td>-0.030833</td>\n",
       "      <td>-0.041578</td>\n",
       "      <td>-0.024546</td>\n",
       "      <td>-0.073358</td>\n",
       "      <td>0.057323</td>\n",
       "      <td>0.025539</td>\n",
       "      <td>-0.029775</td>\n",
       "      <td>-0.028551</td>\n",
       "      <td>...</td>\n",
       "      <td>-0.043918</td>\n",
       "      <td>0.030593</td>\n",
       "      <td>-0.031836</td>\n",
       "      <td>0.025443</td>\n",
       "      <td>-0.034234</td>\n",
       "      <td>0.030593</td>\n",
       "      <td>-0.059673</td>\n",
       "      <td>-0.048231</td>\n",
       "      <td>-0.036393</td>\n",
       "      <td>0.043968</td>\n",
       "    </tr>\n",
       "    <tr>\n",
       "      <th>748</th>\n",
       "      <td>DMSO+DMSO+3</td>\n",
       "      <td>0</td>\n",
       "      <td>0.044734</td>\n",
       "      <td>-0.055579</td>\n",
       "      <td>-0.046694</td>\n",
       "      <td>0.051509</td>\n",
       "      <td>-0.067315</td>\n",
       "      <td>-0.045896</td>\n",
       "      <td>-0.038688</td>\n",
       "      <td>-0.040408</td>\n",
       "      <td>...</td>\n",
       "      <td>-0.025186</td>\n",
       "      <td>-0.045091</td>\n",
       "      <td>-0.032382</td>\n",
       "      <td>-0.038445</td>\n",
       "      <td>-0.047857</td>\n",
       "      <td>-0.045091</td>\n",
       "      <td>-0.031608</td>\n",
       "      <td>-0.045537</td>\n",
       "      <td>-0.046227</td>\n",
       "      <td>0.021891</td>\n",
       "    </tr>\n",
       "    <tr>\n",
       "      <th>749</th>\n",
       "      <td>DMSO+DMSO+3</td>\n",
       "      <td>0</td>\n",
       "      <td>0.059126</td>\n",
       "      <td>0.035217</td>\n",
       "      <td>0.037866</td>\n",
       "      <td>0.058552</td>\n",
       "      <td>0.047368</td>\n",
       "      <td>0.038700</td>\n",
       "      <td>0.039750</td>\n",
       "      <td>0.037727</td>\n",
       "      <td>...</td>\n",
       "      <td>-0.026348</td>\n",
       "      <td>-0.042837</td>\n",
       "      <td>-0.040553</td>\n",
       "      <td>-0.035220</td>\n",
       "      <td>-0.033353</td>\n",
       "      <td>-0.042837</td>\n",
       "      <td>0.025920</td>\n",
       "      <td>-0.024586</td>\n",
       "      <td>-0.023344</td>\n",
       "      <td>0.026247</td>\n",
       "    </tr>\n",
       "    <tr>\n",
       "      <th>760</th>\n",
       "      <td>DMSO+DMSO+3</td>\n",
       "      <td>0</td>\n",
       "      <td>-0.035000</td>\n",
       "      <td>-0.035334</td>\n",
       "      <td>-0.041146</td>\n",
       "      <td>-0.070236</td>\n",
       "      <td>-0.025562</td>\n",
       "      <td>-0.033916</td>\n",
       "      <td>-0.044811</td>\n",
       "      <td>-0.041693</td>\n",
       "      <td>...</td>\n",
       "      <td>0.044600</td>\n",
       "      <td>0.039945</td>\n",
       "      <td>-0.054793</td>\n",
       "      <td>0.058812</td>\n",
       "      <td>0.057748</td>\n",
       "      <td>0.039945</td>\n",
       "      <td>-0.083266</td>\n",
       "      <td>-0.112680</td>\n",
       "      <td>-0.041286</td>\n",
       "      <td>0.051935</td>\n",
       "    </tr>\n",
       "    <tr>\n",
       "      <th>761</th>\n",
       "      <td>DMSO+DMSO+3</td>\n",
       "      <td>0</td>\n",
       "      <td>-0.050833</td>\n",
       "      <td>0.036774</td>\n",
       "      <td>0.031280</td>\n",
       "      <td>-0.055583</td>\n",
       "      <td>0.030092</td>\n",
       "      <td>0.042272</td>\n",
       "      <td>0.036287</td>\n",
       "      <td>0.036610</td>\n",
       "      <td>...</td>\n",
       "      <td>0.025884</td>\n",
       "      <td>0.026628</td>\n",
       "      <td>0.035766</td>\n",
       "      <td>0.036075</td>\n",
       "      <td>0.035590</td>\n",
       "      <td>0.026628</td>\n",
       "      <td>-0.053257</td>\n",
       "      <td>-0.066956</td>\n",
       "      <td>-0.060097</td>\n",
       "      <td>0.033805</td>\n",
       "    </tr>\n",
       "    <tr>\n",
       "      <th>366</th>\n",
       "      <td>DMSO+DMSO+4</td>\n",
       "      <td>0</td>\n",
       "      <td>0.053004</td>\n",
       "      <td>-0.035733</td>\n",
       "      <td>-0.037271</td>\n",
       "      <td>-0.031932</td>\n",
       "      <td>0.023626</td>\n",
       "      <td>-0.034240</td>\n",
       "      <td>-0.039121</td>\n",
       "      <td>-0.044002</td>\n",
       "      <td>...</td>\n",
       "      <td>-0.048910</td>\n",
       "      <td>0.031310</td>\n",
       "      <td>0.025412</td>\n",
       "      <td>-0.065165</td>\n",
       "      <td>-0.067005</td>\n",
       "      <td>0.031310</td>\n",
       "      <td>0.059441</td>\n",
       "      <td>0.065147</td>\n",
       "      <td>-0.028947</td>\n",
       "      <td>-0.028379</td>\n",
       "    </tr>\n",
       "    <tr>\n",
       "      <th>367</th>\n",
       "      <td>DMSO+DMSO+4</td>\n",
       "      <td>0</td>\n",
       "      <td>0.036243</td>\n",
       "      <td>-0.028715</td>\n",
       "      <td>-0.028771</td>\n",
       "      <td>0.026879</td>\n",
       "      <td>0.042090</td>\n",
       "      <td>-0.024788</td>\n",
       "      <td>-0.031031</td>\n",
       "      <td>-0.034025</td>\n",
       "      <td>...</td>\n",
       "      <td>-0.034040</td>\n",
       "      <td>0.045890</td>\n",
       "      <td>-0.037302</td>\n",
       "      <td>0.029986</td>\n",
       "      <td>-0.027387</td>\n",
       "      <td>0.045890</td>\n",
       "      <td>0.043376</td>\n",
       "      <td>0.053390</td>\n",
       "      <td>0.032274</td>\n",
       "      <td>0.032726</td>\n",
       "    </tr>\n",
       "    <tr>\n",
       "      <th>378</th>\n",
       "      <td>DMSO+DMSO+4</td>\n",
       "      <td>0</td>\n",
       "      <td>-0.149770</td>\n",
       "      <td>-0.039126</td>\n",
       "      <td>-0.029577</td>\n",
       "      <td>-0.067855</td>\n",
       "      <td>0.024344</td>\n",
       "      <td>0.033060</td>\n",
       "      <td>-0.037719</td>\n",
       "      <td>-0.035751</td>\n",
       "      <td>...</td>\n",
       "      <td>0.030724</td>\n",
       "      <td>0.092131</td>\n",
       "      <td>-0.042131</td>\n",
       "      <td>0.070683</td>\n",
       "      <td>0.071598</td>\n",
       "      <td>0.092131</td>\n",
       "      <td>-0.132960</td>\n",
       "      <td>-0.116220</td>\n",
       "      <td>-0.071530</td>\n",
       "      <td>0.043279</td>\n",
       "    </tr>\n",
       "    <tr>\n",
       "      <th>379</th>\n",
       "      <td>DMSO+DMSO+4</td>\n",
       "      <td>0</td>\n",
       "      <td>-0.116840</td>\n",
       "      <td>0.041439</td>\n",
       "      <td>0.029134</td>\n",
       "      <td>-0.049989</td>\n",
       "      <td>0.055714</td>\n",
       "      <td>0.038820</td>\n",
       "      <td>-0.023182</td>\n",
       "      <td>0.023734</td>\n",
       "      <td>...</td>\n",
       "      <td>-0.034253</td>\n",
       "      <td>0.095595</td>\n",
       "      <td>-0.073171</td>\n",
       "      <td>0.087067</td>\n",
       "      <td>0.070141</td>\n",
       "      <td>0.095595</td>\n",
       "      <td>-0.104060</td>\n",
       "      <td>-0.112540</td>\n",
       "      <td>-0.064827</td>\n",
       "      <td>0.087825</td>\n",
       "    </tr>\n",
       "    <tr>\n",
       "      <th>750</th>\n",
       "      <td>DMSO+DMSO+4</td>\n",
       "      <td>0</td>\n",
       "      <td>-0.033869</td>\n",
       "      <td>-0.042376</td>\n",
       "      <td>-0.046686</td>\n",
       "      <td>0.053937</td>\n",
       "      <td>-0.024178</td>\n",
       "      <td>-0.037870</td>\n",
       "      <td>-0.045140</td>\n",
       "      <td>-0.043514</td>\n",
       "      <td>...</td>\n",
       "      <td>0.036312</td>\n",
       "      <td>0.038454</td>\n",
       "      <td>-0.028857</td>\n",
       "      <td>0.048741</td>\n",
       "      <td>0.045354</td>\n",
       "      <td>0.038454</td>\n",
       "      <td>-0.037130</td>\n",
       "      <td>-0.049740</td>\n",
       "      <td>-0.045008</td>\n",
       "      <td>0.034872</td>\n",
       "    </tr>\n",
       "    <tr>\n",
       "      <th>751</th>\n",
       "      <td>DMSO+DMSO+4</td>\n",
       "      <td>0</td>\n",
       "      <td>0.130420</td>\n",
       "      <td>-0.052241</td>\n",
       "      <td>-0.062605</td>\n",
       "      <td>0.058220</td>\n",
       "      <td>-0.073390</td>\n",
       "      <td>-0.064013</td>\n",
       "      <td>-0.056222</td>\n",
       "      <td>-0.056982</td>\n",
       "      <td>...</td>\n",
       "      <td>-0.060801</td>\n",
       "      <td>-0.085008</td>\n",
       "      <td>0.035858</td>\n",
       "      <td>-0.081092</td>\n",
       "      <td>-0.070858</td>\n",
       "      <td>-0.085008</td>\n",
       "      <td>0.104980</td>\n",
       "      <td>0.082427</td>\n",
       "      <td>0.047694</td>\n",
       "      <td>-0.045348</td>\n",
       "    </tr>\n",
       "    <tr>\n",
       "      <th>762</th>\n",
       "      <td>DMSO+DMSO+4</td>\n",
       "      <td>0</td>\n",
       "      <td>-0.046188</td>\n",
       "      <td>0.027480</td>\n",
       "      <td>0.029646</td>\n",
       "      <td>-0.045633</td>\n",
       "      <td>-0.026490</td>\n",
       "      <td>0.036687</td>\n",
       "      <td>0.026182</td>\n",
       "      <td>0.030270</td>\n",
       "      <td>...</td>\n",
       "      <td>0.026071</td>\n",
       "      <td>0.051771</td>\n",
       "      <td>-0.049834</td>\n",
       "      <td>0.049750</td>\n",
       "      <td>0.031109</td>\n",
       "      <td>0.051771</td>\n",
       "      <td>-0.047253</td>\n",
       "      <td>-0.077593</td>\n",
       "      <td>-0.055958</td>\n",
       "      <td>0.051112</td>\n",
       "    </tr>\n",
       "    <tr>\n",
       "      <th>763</th>\n",
       "      <td>DMSO+DMSO+4</td>\n",
       "      <td>0</td>\n",
       "      <td>-0.065594</td>\n",
       "      <td>0.049508</td>\n",
       "      <td>0.055270</td>\n",
       "      <td>-0.085126</td>\n",
       "      <td>0.075701</td>\n",
       "      <td>0.064532</td>\n",
       "      <td>0.055582</td>\n",
       "      <td>0.060318</td>\n",
       "      <td>...</td>\n",
       "      <td>0.061805</td>\n",
       "      <td>0.065749</td>\n",
       "      <td>-0.041109</td>\n",
       "      <td>0.090863</td>\n",
       "      <td>0.076829</td>\n",
       "      <td>0.065749</td>\n",
       "      <td>-0.100770</td>\n",
       "      <td>-0.116430</td>\n",
       "      <td>-0.046199</td>\n",
       "      <td>0.031984</td>\n",
       "    </tr>\n",
       "    <tr>\n",
       "      <th>368</th>\n",
       "      <td>DMSO+DMSO+5</td>\n",
       "      <td>0</td>\n",
       "      <td>0.108760</td>\n",
       "      <td>-0.058930</td>\n",
       "      <td>-0.080637</td>\n",
       "      <td>0.021223</td>\n",
       "      <td>-0.034893</td>\n",
       "      <td>-0.083405</td>\n",
       "      <td>-0.082936</td>\n",
       "      <td>-0.085459</td>\n",
       "      <td>...</td>\n",
       "      <td>-0.073973</td>\n",
       "      <td>-0.039946</td>\n",
       "      <td>-0.053677</td>\n",
       "      <td>-0.083022</td>\n",
       "      <td>-0.100480</td>\n",
       "      <td>-0.039946</td>\n",
       "      <td>0.127180</td>\n",
       "      <td>0.103410</td>\n",
       "      <td>0.029210</td>\n",
       "      <td>0.032046</td>\n",
       "    </tr>\n",
       "    <tr>\n",
       "      <th>369</th>\n",
       "      <td>DMSO+DMSO+5</td>\n",
       "      <td>0</td>\n",
       "      <td>0.030398</td>\n",
       "      <td>0.031491</td>\n",
       "      <td>0.041896</td>\n",
       "      <td>0.045956</td>\n",
       "      <td>0.042806</td>\n",
       "      <td>0.041613</td>\n",
       "      <td>0.044174</td>\n",
       "      <td>0.034167</td>\n",
       "      <td>...</td>\n",
       "      <td>-0.044450</td>\n",
       "      <td>0.043716</td>\n",
       "      <td>-0.045528</td>\n",
       "      <td>0.037714</td>\n",
       "      <td>-0.038234</td>\n",
       "      <td>0.043716</td>\n",
       "      <td>0.030696</td>\n",
       "      <td>0.024671</td>\n",
       "      <td>-0.045268</td>\n",
       "      <td>0.051246</td>\n",
       "    </tr>\n",
       "    <tr>\n",
       "      <th>380</th>\n",
       "      <td>DMSO+DMSO+5</td>\n",
       "      <td>0</td>\n",
       "      <td>-0.049167</td>\n",
       "      <td>0.027813</td>\n",
       "      <td>-0.031647</td>\n",
       "      <td>0.045554</td>\n",
       "      <td>0.046973</td>\n",
       "      <td>0.028573</td>\n",
       "      <td>-0.032231</td>\n",
       "      <td>-0.036981</td>\n",
       "      <td>...</td>\n",
       "      <td>0.029555</td>\n",
       "      <td>0.024343</td>\n",
       "      <td>-0.041445</td>\n",
       "      <td>0.038814</td>\n",
       "      <td>0.028430</td>\n",
       "      <td>0.024343</td>\n",
       "      <td>-0.044703</td>\n",
       "      <td>-0.032767</td>\n",
       "      <td>-0.019440</td>\n",
       "      <td>0.028021</td>\n",
       "    </tr>\n",
       "    <tr>\n",
       "      <th>381</th>\n",
       "      <td>DMSO+DMSO+5</td>\n",
       "      <td>0</td>\n",
       "      <td>-0.110760</td>\n",
       "      <td>0.035309</td>\n",
       "      <td>0.061684</td>\n",
       "      <td>-0.076701</td>\n",
       "      <td>0.066701</td>\n",
       "      <td>0.068643</td>\n",
       "      <td>0.050842</td>\n",
       "      <td>0.044485</td>\n",
       "      <td>...</td>\n",
       "      <td>0.039974</td>\n",
       "      <td>0.049897</td>\n",
       "      <td>-0.037500</td>\n",
       "      <td>0.058067</td>\n",
       "      <td>0.055352</td>\n",
       "      <td>0.049897</td>\n",
       "      <td>-0.118280</td>\n",
       "      <td>-0.097234</td>\n",
       "      <td>-0.039029</td>\n",
       "      <td>0.039811</td>\n",
       "    </tr>\n",
       "    <tr>\n",
       "      <th>752</th>\n",
       "      <td>DMSO+DMSO+5</td>\n",
       "      <td>0</td>\n",
       "      <td>-0.041032</td>\n",
       "      <td>-0.052054</td>\n",
       "      <td>-0.050206</td>\n",
       "      <td>0.030538</td>\n",
       "      <td>0.041415</td>\n",
       "      <td>-0.042704</td>\n",
       "      <td>-0.051993</td>\n",
       "      <td>-0.055167</td>\n",
       "      <td>...</td>\n",
       "      <td>-0.037322</td>\n",
       "      <td>0.049334</td>\n",
       "      <td>-0.031356</td>\n",
       "      <td>0.040707</td>\n",
       "      <td>0.039835</td>\n",
       "      <td>0.049334</td>\n",
       "      <td>-0.032722</td>\n",
       "      <td>-0.046170</td>\n",
       "      <td>-0.060264</td>\n",
       "      <td>0.029293</td>\n",
       "    </tr>\n",
       "    <tr>\n",
       "      <th>753</th>\n",
       "      <td>DMSO+DMSO+5</td>\n",
       "      <td>0</td>\n",
       "      <td>0.037551</td>\n",
       "      <td>-0.023850</td>\n",
       "      <td>-0.048429</td>\n",
       "      <td>0.031277</td>\n",
       "      <td>0.043765</td>\n",
       "      <td>-0.042544</td>\n",
       "      <td>-0.036391</td>\n",
       "      <td>-0.035845</td>\n",
       "      <td>...</td>\n",
       "      <td>-0.035716</td>\n",
       "      <td>0.032724</td>\n",
       "      <td>0.026434</td>\n",
       "      <td>-0.024265</td>\n",
       "      <td>-0.026821</td>\n",
       "      <td>0.032724</td>\n",
       "      <td>-0.032216</td>\n",
       "      <td>-0.041827</td>\n",
       "      <td>-0.038342</td>\n",
       "      <td>0.028306</td>\n",
       "    </tr>\n",
       "    <tr>\n",
       "      <th>764</th>\n",
       "      <td>DMSO+DMSO+5</td>\n",
       "      <td>0</td>\n",
       "      <td>-0.052500</td>\n",
       "      <td>0.034735</td>\n",
       "      <td>0.037764</td>\n",
       "      <td>-0.095677</td>\n",
       "      <td>0.032901</td>\n",
       "      <td>0.038640</td>\n",
       "      <td>0.039103</td>\n",
       "      <td>0.037436</td>\n",
       "      <td>...</td>\n",
       "      <td>-0.026636</td>\n",
       "      <td>0.051622</td>\n",
       "      <td>-0.029787</td>\n",
       "      <td>0.047933</td>\n",
       "      <td>0.034292</td>\n",
       "      <td>0.051622</td>\n",
       "      <td>-0.093135</td>\n",
       "      <td>-0.096584</td>\n",
       "      <td>-0.054384</td>\n",
       "      <td>0.040735</td>\n",
       "    </tr>\n",
       "    <tr>\n",
       "      <th>765</th>\n",
       "      <td>DMSO+DMSO+5</td>\n",
       "      <td>0</td>\n",
       "      <td>-0.035000</td>\n",
       "      <td>-0.029732</td>\n",
       "      <td>-0.024797</td>\n",
       "      <td>-0.089169</td>\n",
       "      <td>0.038979</td>\n",
       "      <td>0.021342</td>\n",
       "      <td>-0.026069</td>\n",
       "      <td>-0.025653</td>\n",
       "      <td>...</td>\n",
       "      <td>0.041240</td>\n",
       "      <td>-0.030230</td>\n",
       "      <td>0.044448</td>\n",
       "      <td>0.031934</td>\n",
       "      <td>0.034935</td>\n",
       "      <td>-0.030230</td>\n",
       "      <td>-0.054267</td>\n",
       "      <td>-0.041093</td>\n",
       "      <td>0.028523</td>\n",
       "      <td>-0.047316</td>\n",
       "    </tr>\n",
       "    <tr>\n",
       "      <th>370</th>\n",
       "      <td>DMSO+DMSO+6</td>\n",
       "      <td>0</td>\n",
       "      <td>0.178330</td>\n",
       "      <td>-0.052500</td>\n",
       "      <td>-0.051389</td>\n",
       "      <td>0.079167</td>\n",
       "      <td>-0.044352</td>\n",
       "      <td>-0.057500</td>\n",
       "      <td>-0.051204</td>\n",
       "      <td>-0.050093</td>\n",
       "      <td>...</td>\n",
       "      <td>-0.082407</td>\n",
       "      <td>-0.092870</td>\n",
       "      <td>-0.030093</td>\n",
       "      <td>-0.138520</td>\n",
       "      <td>-0.148800</td>\n",
       "      <td>-0.092870</td>\n",
       "      <td>0.190370</td>\n",
       "      <td>0.187960</td>\n",
       "      <td>0.070741</td>\n",
       "      <td>-0.035370</td>\n",
       "    </tr>\n",
       "    <tr>\n",
       "      <th>371</th>\n",
       "      <td>DMSO+DMSO+6</td>\n",
       "      <td>0</td>\n",
       "      <td>0.075999</td>\n",
       "      <td>-0.020794</td>\n",
       "      <td>-0.033651</td>\n",
       "      <td>0.056283</td>\n",
       "      <td>0.053008</td>\n",
       "      <td>-0.029964</td>\n",
       "      <td>-0.033014</td>\n",
       "      <td>-0.028763</td>\n",
       "      <td>...</td>\n",
       "      <td>-0.044931</td>\n",
       "      <td>-0.037178</td>\n",
       "      <td>-0.031333</td>\n",
       "      <td>-0.067113</td>\n",
       "      <td>-0.079110</td>\n",
       "      <td>-0.037178</td>\n",
       "      <td>0.109000</td>\n",
       "      <td>0.118850</td>\n",
       "      <td>0.036532</td>\n",
       "      <td>-0.025839</td>\n",
       "    </tr>\n",
       "    <tr>\n",
       "      <th>382</th>\n",
       "      <td>DMSO+DMSO+6</td>\n",
       "      <td>0</td>\n",
       "      <td>-0.194710</td>\n",
       "      <td>0.049312</td>\n",
       "      <td>0.061884</td>\n",
       "      <td>-0.049855</td>\n",
       "      <td>0.068514</td>\n",
       "      <td>0.072609</td>\n",
       "      <td>0.060145</td>\n",
       "      <td>0.056594</td>\n",
       "      <td>...</td>\n",
       "      <td>0.084239</td>\n",
       "      <td>0.075072</td>\n",
       "      <td>-0.032681</td>\n",
       "      <td>0.128770</td>\n",
       "      <td>0.129890</td>\n",
       "      <td>0.075072</td>\n",
       "      <td>-0.171880</td>\n",
       "      <td>-0.124860</td>\n",
       "      <td>-0.068732</td>\n",
       "      <td>0.035688</td>\n",
       "    </tr>\n",
       "    <tr>\n",
       "      <th>383</th>\n",
       "      <td>DMSO+DMSO+6</td>\n",
       "      <td>0</td>\n",
       "      <td>-0.158330</td>\n",
       "      <td>0.057385</td>\n",
       "      <td>0.059397</td>\n",
       "      <td>0.030316</td>\n",
       "      <td>0.039397</td>\n",
       "      <td>0.068621</td>\n",
       "      <td>0.057098</td>\n",
       "      <td>0.052644</td>\n",
       "      <td>...</td>\n",
       "      <td>0.050115</td>\n",
       "      <td>0.066063</td>\n",
       "      <td>0.048103</td>\n",
       "      <td>0.082586</td>\n",
       "      <td>0.076207</td>\n",
       "      <td>0.066063</td>\n",
       "      <td>-0.115260</td>\n",
       "      <td>-0.092069</td>\n",
       "      <td>-0.047989</td>\n",
       "      <td>0.043908</td>\n",
       "    </tr>\n",
       "    <tr>\n",
       "      <th>754</th>\n",
       "      <td>DMSO+DMSO+6</td>\n",
       "      <td>0</td>\n",
       "      <td>-0.035000</td>\n",
       "      <td>-0.042247</td>\n",
       "      <td>-0.071477</td>\n",
       "      <td>0.072036</td>\n",
       "      <td>-0.055685</td>\n",
       "      <td>-0.064447</td>\n",
       "      <td>-0.061233</td>\n",
       "      <td>-0.068129</td>\n",
       "      <td>...</td>\n",
       "      <td>-0.025266</td>\n",
       "      <td>0.034931</td>\n",
       "      <td>-0.043589</td>\n",
       "      <td>0.037315</td>\n",
       "      <td>-0.031861</td>\n",
       "      <td>0.034931</td>\n",
       "      <td>0.033640</td>\n",
       "      <td>-0.056613</td>\n",
       "      <td>-0.051455</td>\n",
       "      <td>0.043782</td>\n",
       "    </tr>\n",
       "    <tr>\n",
       "      <th>755</th>\n",
       "      <td>DMSO+DMSO+6</td>\n",
       "      <td>0</td>\n",
       "      <td>0.052609</td>\n",
       "      <td>0.040490</td>\n",
       "      <td>0.033616</td>\n",
       "      <td>-0.031387</td>\n",
       "      <td>0.053315</td>\n",
       "      <td>0.034489</td>\n",
       "      <td>0.030144</td>\n",
       "      <td>0.027769</td>\n",
       "      <td>...</td>\n",
       "      <td>-0.031363</td>\n",
       "      <td>-0.051054</td>\n",
       "      <td>-0.044989</td>\n",
       "      <td>-0.033120</td>\n",
       "      <td>-0.038797</td>\n",
       "      <td>-0.051054</td>\n",
       "      <td>0.062066</td>\n",
       "      <td>0.051890</td>\n",
       "      <td>0.026741</td>\n",
       "      <td>0.045863</td>\n",
       "    </tr>\n",
       "    <tr>\n",
       "      <th>766</th>\n",
       "      <td>DMSO+DMSO+6</td>\n",
       "      <td>0</td>\n",
       "      <td>-0.063281</td>\n",
       "      <td>0.056212</td>\n",
       "      <td>0.060275</td>\n",
       "      <td>-0.077504</td>\n",
       "      <td>0.040267</td>\n",
       "      <td>0.062169</td>\n",
       "      <td>0.057532</td>\n",
       "      <td>0.058796</td>\n",
       "      <td>...</td>\n",
       "      <td>-0.040901</td>\n",
       "      <td>0.067883</td>\n",
       "      <td>-0.045857</td>\n",
       "      <td>0.060618</td>\n",
       "      <td>0.036172</td>\n",
       "      <td>0.067883</td>\n",
       "      <td>-0.067277</td>\n",
       "      <td>-0.083154</td>\n",
       "      <td>-0.082065</td>\n",
       "      <td>0.055028</td>\n",
       "    </tr>\n",
       "    <tr>\n",
       "      <th>767</th>\n",
       "      <td>DMSO+DMSO+6</td>\n",
       "      <td>0</td>\n",
       "      <td>-0.035000</td>\n",
       "      <td>0.032537</td>\n",
       "      <td>0.038507</td>\n",
       "      <td>0.082728</td>\n",
       "      <td>-0.038154</td>\n",
       "      <td>0.046283</td>\n",
       "      <td>0.048734</td>\n",
       "      <td>0.049263</td>\n",
       "      <td>...</td>\n",
       "      <td>0.018404</td>\n",
       "      <td>0.030697</td>\n",
       "      <td>0.027218</td>\n",
       "      <td>0.033547</td>\n",
       "      <td>0.027961</td>\n",
       "      <td>0.030697</td>\n",
       "      <td>-0.034024</td>\n",
       "      <td>-0.024326</td>\n",
       "      <td>-0.046260</td>\n",
       "      <td>-0.031593</td>\n",
       "    </tr>\n",
       "  </tbody>\n",
       "</table>\n",
       "<p>48 rows × 240 columns</p>\n",
       "</div>"
      ],
      "text/plain": [
       "       drug_name  default       ks1       ks2       ks3       ks4       ks5  \\\n",
       "360  DMSO+DMSO+1        0 -0.040458  0.041631 -0.033216  0.089519  0.035493   \n",
       "361  DMSO+DMSO+1        0  0.028564 -0.038257 -0.049343  0.047224  0.030922   \n",
       "372  DMSO+DMSO+1        0  0.090836  0.042936  0.051533  0.033143  0.080786   \n",
       "373  DMSO+DMSO+1        0  0.077589 -0.058936 -0.059840  0.056152 -0.044450   \n",
       "744  DMSO+DMSO+1        0  0.049394  0.068186  0.071101  0.054791  0.083623   \n",
       "745  DMSO+DMSO+1        0  0.138140  0.031667  0.029423  0.033269  0.031410   \n",
       "756  DMSO+DMSO+1        0 -0.036667  0.025263 -0.037774 -0.029886 -0.025616   \n",
       "757  DMSO+DMSO+1        0 -0.027500  0.045976  0.047774  0.067184  0.056997   \n",
       "362  DMSO+DMSO+2        0 -0.034665  0.037463  0.034453  0.047030  0.078444   \n",
       "363  DMSO+DMSO+2        0  0.048748  0.025792  0.048283  0.062357  0.057030   \n",
       "374  DMSO+DMSO+2        0  0.029024 -0.019078 -0.028211  0.046319  0.036928   \n",
       "375  DMSO+DMSO+2        0 -0.100830 -0.030089 -0.020413 -0.053206  0.046864   \n",
       "746  DMSO+DMSO+2        0 -0.035000  0.036750  0.031538  0.048164  0.039679   \n",
       "747  DMSO+DMSO+2        0  0.155350  0.045161  0.037836  0.040964  0.051214   \n",
       "758  DMSO+DMSO+2        0 -0.039885 -0.028966 -0.037557  0.065977 -0.024511   \n",
       "759  DMSO+DMSO+2        0  0.043282 -0.030620  0.028999  0.039496  0.029962   \n",
       "364  DMSO+DMSO+3        0 -0.060833  0.043738  0.034322  0.020532  0.054267   \n",
       "365  DMSO+DMSO+3        0 -0.054167 -0.037860 -0.078285  0.144870 -0.105070   \n",
       "376  DMSO+DMSO+3        0 -0.074167  0.029225  0.046846  0.036556  0.049191   \n",
       "377  DMSO+DMSO+3        0 -0.030833 -0.041578 -0.024546 -0.073358  0.057323   \n",
       "748  DMSO+DMSO+3        0  0.044734 -0.055579 -0.046694  0.051509 -0.067315   \n",
       "749  DMSO+DMSO+3        0  0.059126  0.035217  0.037866  0.058552  0.047368   \n",
       "760  DMSO+DMSO+3        0 -0.035000 -0.035334 -0.041146 -0.070236 -0.025562   \n",
       "761  DMSO+DMSO+3        0 -0.050833  0.036774  0.031280 -0.055583  0.030092   \n",
       "366  DMSO+DMSO+4        0  0.053004 -0.035733 -0.037271 -0.031932  0.023626   \n",
       "367  DMSO+DMSO+4        0  0.036243 -0.028715 -0.028771  0.026879  0.042090   \n",
       "378  DMSO+DMSO+4        0 -0.149770 -0.039126 -0.029577 -0.067855  0.024344   \n",
       "379  DMSO+DMSO+4        0 -0.116840  0.041439  0.029134 -0.049989  0.055714   \n",
       "750  DMSO+DMSO+4        0 -0.033869 -0.042376 -0.046686  0.053937 -0.024178   \n",
       "751  DMSO+DMSO+4        0  0.130420 -0.052241 -0.062605  0.058220 -0.073390   \n",
       "762  DMSO+DMSO+4        0 -0.046188  0.027480  0.029646 -0.045633 -0.026490   \n",
       "763  DMSO+DMSO+4        0 -0.065594  0.049508  0.055270 -0.085126  0.075701   \n",
       "368  DMSO+DMSO+5        0  0.108760 -0.058930 -0.080637  0.021223 -0.034893   \n",
       "369  DMSO+DMSO+5        0  0.030398  0.031491  0.041896  0.045956  0.042806   \n",
       "380  DMSO+DMSO+5        0 -0.049167  0.027813 -0.031647  0.045554  0.046973   \n",
       "381  DMSO+DMSO+5        0 -0.110760  0.035309  0.061684 -0.076701  0.066701   \n",
       "752  DMSO+DMSO+5        0 -0.041032 -0.052054 -0.050206  0.030538  0.041415   \n",
       "753  DMSO+DMSO+5        0  0.037551 -0.023850 -0.048429  0.031277  0.043765   \n",
       "764  DMSO+DMSO+5        0 -0.052500  0.034735  0.037764 -0.095677  0.032901   \n",
       "765  DMSO+DMSO+5        0 -0.035000 -0.029732 -0.024797 -0.089169  0.038979   \n",
       "370  DMSO+DMSO+6        0  0.178330 -0.052500 -0.051389  0.079167 -0.044352   \n",
       "371  DMSO+DMSO+6        0  0.075999 -0.020794 -0.033651  0.056283  0.053008   \n",
       "382  DMSO+DMSO+6        0 -0.194710  0.049312  0.061884 -0.049855  0.068514   \n",
       "383  DMSO+DMSO+6        0 -0.158330  0.057385  0.059397  0.030316  0.039397   \n",
       "754  DMSO+DMSO+6        0 -0.035000 -0.042247 -0.071477  0.072036 -0.055685   \n",
       "755  DMSO+DMSO+6        0  0.052609  0.040490  0.033616 -0.031387  0.053315   \n",
       "766  DMSO+DMSO+6        0 -0.063281  0.056212  0.060275 -0.077504  0.040267   \n",
       "767  DMSO+DMSO+6        0 -0.035000  0.032537  0.038507  0.082728 -0.038154   \n",
       "\n",
       "          ks6       ks7       ks8  ...     ks229     ks230     ks231  \\\n",
       "360 -0.048932  0.033310  0.037242  ...  0.044847  0.039354 -0.043862   \n",
       "361 -0.049885 -0.061118 -0.056782  ... -0.042416  0.046901 -0.027170   \n",
       "372  0.041084  0.039284  0.046330  ... -0.047803 -0.022398 -0.040381   \n",
       "373 -0.054716 -0.055887 -0.054610  ... -0.040833 -0.040018 -0.069876   \n",
       "744  0.071546  0.062879  0.062353  ...  0.026096 -0.038975 -0.052656   \n",
       "745  0.029744  0.030256  0.028910  ... -0.060705 -0.075897  0.053013   \n",
       "756 -0.038813 -0.039817 -0.038516  ...  0.051416 -0.025422  0.049167   \n",
       "757  0.037728  0.039048  0.034074  ...  0.033587 -0.040746 -0.041647   \n",
       "362  0.030116  0.033613  0.035964  ...  0.041602 -0.020125 -0.044592   \n",
       "363  0.046819  0.040599  0.039116  ... -0.045258  0.024337  0.047647   \n",
       "374 -0.027060 -0.029044 -0.027893  ...  0.035890 -0.023229  0.025090   \n",
       "375  0.022017 -0.023518 -0.027335  ... -0.030598  0.067926 -0.046559   \n",
       "746  0.034590  0.030258  0.030759  ...  0.036014 -0.040564  0.044763   \n",
       "747  0.036680  0.045168  0.042668  ... -0.064633 -0.118320  0.045850   \n",
       "758 -0.037586 -0.030000 -0.034713  ...  0.036293  0.031293 -0.033592   \n",
       "759  0.026127  0.030208  0.026087  ... -0.031710 -0.026588 -0.032759   \n",
       "364  0.033246  0.036311  0.037521  ...  0.053716  0.053259 -0.038456   \n",
       "365 -0.094508 -0.065276 -0.067656  ... -0.035881  0.060024  0.047542   \n",
       "376  0.049257  0.042740  0.040640  ...  0.025714  0.042061 -0.032495   \n",
       "377  0.025539 -0.029775 -0.028551  ... -0.043918  0.030593 -0.031836   \n",
       "748 -0.045896 -0.038688 -0.040408  ... -0.025186 -0.045091 -0.032382   \n",
       "749  0.038700  0.039750  0.037727  ... -0.026348 -0.042837 -0.040553   \n",
       "760 -0.033916 -0.044811 -0.041693  ...  0.044600  0.039945 -0.054793   \n",
       "761  0.042272  0.036287  0.036610  ...  0.025884  0.026628  0.035766   \n",
       "366 -0.034240 -0.039121 -0.044002  ... -0.048910  0.031310  0.025412   \n",
       "367 -0.024788 -0.031031 -0.034025  ... -0.034040  0.045890 -0.037302   \n",
       "378  0.033060 -0.037719 -0.035751  ...  0.030724  0.092131 -0.042131   \n",
       "379  0.038820 -0.023182  0.023734  ... -0.034253  0.095595 -0.073171   \n",
       "750 -0.037870 -0.045140 -0.043514  ...  0.036312  0.038454 -0.028857   \n",
       "751 -0.064013 -0.056222 -0.056982  ... -0.060801 -0.085008  0.035858   \n",
       "762  0.036687  0.026182  0.030270  ...  0.026071  0.051771 -0.049834   \n",
       "763  0.064532  0.055582  0.060318  ...  0.061805  0.065749 -0.041109   \n",
       "368 -0.083405 -0.082936 -0.085459  ... -0.073973 -0.039946 -0.053677   \n",
       "369  0.041613  0.044174  0.034167  ... -0.044450  0.043716 -0.045528   \n",
       "380  0.028573 -0.032231 -0.036981  ...  0.029555  0.024343 -0.041445   \n",
       "381  0.068643  0.050842  0.044485  ...  0.039974  0.049897 -0.037500   \n",
       "752 -0.042704 -0.051993 -0.055167  ... -0.037322  0.049334 -0.031356   \n",
       "753 -0.042544 -0.036391 -0.035845  ... -0.035716  0.032724  0.026434   \n",
       "764  0.038640  0.039103  0.037436  ... -0.026636  0.051622 -0.029787   \n",
       "765  0.021342 -0.026069 -0.025653  ...  0.041240 -0.030230  0.044448   \n",
       "370 -0.057500 -0.051204 -0.050093  ... -0.082407 -0.092870 -0.030093   \n",
       "371 -0.029964 -0.033014 -0.028763  ... -0.044931 -0.037178 -0.031333   \n",
       "382  0.072609  0.060145  0.056594  ...  0.084239  0.075072 -0.032681   \n",
       "383  0.068621  0.057098  0.052644  ...  0.050115  0.066063  0.048103   \n",
       "754 -0.064447 -0.061233 -0.068129  ... -0.025266  0.034931 -0.043589   \n",
       "755  0.034489  0.030144  0.027769  ... -0.031363 -0.051054 -0.044989   \n",
       "766  0.062169  0.057532  0.058796  ... -0.040901  0.067883 -0.045857   \n",
       "767  0.046283  0.048734  0.049263  ...  0.018404  0.030697  0.027218   \n",
       "\n",
       "        ks232     ks233     ks234     ks235     ks236     ks237     ks238  \n",
       "360  0.040423  0.038685  0.039354  0.033568 -0.032840  0.043052  0.035833  \n",
       "361  0.020591 -0.023852  0.046901  0.048184  0.026701  0.027907  0.019685  \n",
       "372 -0.069433 -0.090159 -0.022398  0.095729  0.096272  0.031701  0.028169  \n",
       "373 -0.059504 -0.069309 -0.040018  0.077943  0.073156  0.050745  0.055727  \n",
       "744  0.033578 -0.026720 -0.038975  0.069617  0.036742  0.031283  0.041925  \n",
       "745 -0.089359 -0.077628 -0.075897  0.120000  0.137820  0.058974 -0.083141  \n",
       "756  0.034623  0.038824 -0.025422 -0.017420  0.021792  0.024863 -0.035947  \n",
       "757  0.045220  0.033289 -0.040746 -0.040175 -0.057324 -0.025991  0.042167  \n",
       "362  0.056796  0.033946 -0.020125  0.034982  0.026566 -0.049791  0.035072  \n",
       "363 -0.043527 -0.049489  0.024337  0.035511  0.041234 -0.032670 -0.048867  \n",
       "374  0.034930 -0.034500 -0.023229  0.051753  0.045010  0.022479 -0.028189  \n",
       "375  0.048340  0.035153  0.067926 -0.059898 -0.071788 -0.039319  0.056991  \n",
       "746  0.024345  0.035065 -0.040564 -0.031131 -0.028679 -0.047764 -0.047718  \n",
       "747 -0.107900 -0.100540 -0.118320  0.139950  0.136950  0.053322 -0.056613  \n",
       "758  0.071121  0.060489  0.031293 -0.058534 -0.077759 -0.057759  0.027730  \n",
       "759 -0.031416 -0.038064 -0.026588 -0.044175 -0.050650 -0.077414  0.050359  \n",
       "364  0.040905  0.046905  0.053259 -0.036419 -0.030095  0.042346  0.038104  \n",
       "365 -0.033753 -0.027218  0.060024  0.063705  0.068321 -0.034317 -0.049406  \n",
       "376  0.045386  0.038125  0.042061 -0.058710 -0.059067 -0.049929  0.044752  \n",
       "377  0.025443 -0.034234  0.030593 -0.059673 -0.048231 -0.036393  0.043968  \n",
       "748 -0.038445 -0.047857 -0.045091 -0.031608 -0.045537 -0.046227  0.021891  \n",
       "749 -0.035220 -0.033353 -0.042837  0.025920 -0.024586 -0.023344  0.026247  \n",
       "760  0.058812  0.057748  0.039945 -0.083266 -0.112680 -0.041286  0.051935  \n",
       "761  0.036075  0.035590  0.026628 -0.053257 -0.066956 -0.060097  0.033805  \n",
       "366 -0.065165 -0.067005  0.031310  0.059441  0.065147 -0.028947 -0.028379  \n",
       "367  0.029986 -0.027387  0.045890  0.043376  0.053390  0.032274  0.032726  \n",
       "378  0.070683  0.071598  0.092131 -0.132960 -0.116220 -0.071530  0.043279  \n",
       "379  0.087067  0.070141  0.095595 -0.104060 -0.112540 -0.064827  0.087825  \n",
       "750  0.048741  0.045354  0.038454 -0.037130 -0.049740 -0.045008  0.034872  \n",
       "751 -0.081092 -0.070858 -0.085008  0.104980  0.082427  0.047694 -0.045348  \n",
       "762  0.049750  0.031109  0.051771 -0.047253 -0.077593 -0.055958  0.051112  \n",
       "763  0.090863  0.076829  0.065749 -0.100770 -0.116430 -0.046199  0.031984  \n",
       "368 -0.083022 -0.100480 -0.039946  0.127180  0.103410  0.029210  0.032046  \n",
       "369  0.037714 -0.038234  0.043716  0.030696  0.024671 -0.045268  0.051246  \n",
       "380  0.038814  0.028430  0.024343 -0.044703 -0.032767 -0.019440  0.028021  \n",
       "381  0.058067  0.055352  0.049897 -0.118280 -0.097234 -0.039029  0.039811  \n",
       "752  0.040707  0.039835  0.049334 -0.032722 -0.046170 -0.060264  0.029293  \n",
       "753 -0.024265 -0.026821  0.032724 -0.032216 -0.041827 -0.038342  0.028306  \n",
       "764  0.047933  0.034292  0.051622 -0.093135 -0.096584 -0.054384  0.040735  \n",
       "765  0.031934  0.034935 -0.030230 -0.054267 -0.041093  0.028523 -0.047316  \n",
       "370 -0.138520 -0.148800 -0.092870  0.190370  0.187960  0.070741 -0.035370  \n",
       "371 -0.067113 -0.079110 -0.037178  0.109000  0.118850  0.036532 -0.025839  \n",
       "382  0.128770  0.129890  0.075072 -0.171880 -0.124860 -0.068732  0.035688  \n",
       "383  0.082586  0.076207  0.066063 -0.115260 -0.092069 -0.047989  0.043908  \n",
       "754  0.037315 -0.031861  0.034931  0.033640 -0.056613 -0.051455  0.043782  \n",
       "755 -0.033120 -0.038797 -0.051054  0.062066  0.051890  0.026741  0.045863  \n",
       "766  0.060618  0.036172  0.067883 -0.067277 -0.083154 -0.082065  0.055028  \n",
       "767  0.033547  0.027961  0.030697 -0.034024 -0.024326 -0.046260 -0.031593  \n",
       "\n",
       "[48 rows x 240 columns]"
      ]
     },
     "execution_count": 13,
     "metadata": {},
     "output_type": "execute_result"
    }
   ],
   "source": [
    "#Dna ： etoposide，Gemcitabine\n",
    "#hsp：17aag，auy922\n",
    "#mt：paclitaxel，Vinblastine\n",
    "#prot：\"MG132\"，ps341\n",
    "#hdac：saha，apicidin\n",
    "\n",
    "frames6=[]\n",
    "for i in range(1,7):\n",
    "    frames6.append(df.loc[(df['drug_name'] =='DMSO+DMSO+'+str(i)) ])\n",
    "\n",
    "DMSO= pd.concat(frames6)\n",
    "DMSO\n",
    "#len(DMSO)\n"
   ]
  },
  {
   "cell_type": "code",
   "execution_count": 14,
   "metadata": {},
   "outputs": [
    {
     "name": "stdout",
     "output_type": "stream",
     "text": [
      "                   drug_name  default       ks1       ks2       ks3       ks4  \\\n",
      "12   Etoposide+Gemcitabine+1        0 -0.184870 -0.099087 -0.128100 -0.090660   \n",
      "14   Etoposide+Gemcitabine+2        0 -0.160830 -0.130290 -0.207700 -0.101180   \n",
      "16   Etoposide+Gemcitabine+3        0 -0.251310 -0.090650 -0.233650 -0.083527   \n",
      "18   Etoposide+Gemcitabine+4        0 -0.182100 -0.064928 -0.196120 -0.065672   \n",
      "20   Etoposide+Gemcitabine+5        0 -0.125830  0.055525 -0.072723  0.082487   \n",
      "..                       ...      ...       ...       ...       ...       ...   \n",
      "383              DMSO+DMSO+6        0 -0.158330  0.057385  0.059397  0.030316   \n",
      "754              DMSO+DMSO+6        0 -0.035000 -0.042247 -0.071477  0.072036   \n",
      "755              DMSO+DMSO+6        0  0.052609  0.040490  0.033616 -0.031387   \n",
      "766              DMSO+DMSO+6        0 -0.063281  0.056212  0.060275 -0.077504   \n",
      "767              DMSO+DMSO+6        0 -0.035000  0.032537  0.038507  0.082728   \n",
      "\n",
      "          ks5       ks6       ks7       ks8  ...     ks229     ks230  \\\n",
      "12  -0.179700 -0.136530 -0.126740 -0.120790  ...  0.057665  0.114990   \n",
      "14  -0.231780 -0.226070 -0.216740 -0.206720  ...  0.071715  0.117700   \n",
      "16  -0.137960 -0.229940 -0.246240 -0.240170  ...  0.112950  0.140700   \n",
      "18  -0.115260 -0.191780 -0.191640 -0.195310  ...  0.084220  0.127640   \n",
      "20   0.053150 -0.065715 -0.081916 -0.086398  ...  0.097900  0.050722   \n",
      "..        ...       ...       ...       ...  ...       ...       ...   \n",
      "383  0.039397  0.068621  0.057098  0.052644  ...  0.050115  0.066063   \n",
      "754 -0.055685 -0.064447 -0.061233 -0.068129  ... -0.025266  0.034931   \n",
      "755  0.053315  0.034489  0.030144  0.027769  ... -0.031363 -0.051054   \n",
      "766  0.040267  0.062169  0.057532  0.058796  ... -0.040901  0.067883   \n",
      "767 -0.038154  0.046283  0.048734  0.049263  ...  0.018404  0.030697   \n",
      "\n",
      "        ks231     ks232     ks233     ks234     ks235     ks236     ks237  \\\n",
      "12  -0.270030  0.151400  0.107700  0.114990 -0.138540 -0.247210 -0.088777   \n",
      "14  -0.295330  0.153960  0.114980  0.117700 -0.107390 -0.212550 -0.094376   \n",
      "16  -0.205850  0.197110  0.165930  0.140700 -0.048163 -0.160220 -0.098555   \n",
      "18  -0.114820  0.163960  0.141680  0.127640 -0.053194 -0.121520 -0.072039   \n",
      "20  -0.076864  0.131670  0.127770  0.050722 -0.042034 -0.044921  0.054350   \n",
      "..        ...       ...       ...       ...       ...       ...       ...   \n",
      "383  0.048103  0.082586  0.076207  0.066063 -0.115260 -0.092069 -0.047989   \n",
      "754 -0.043589  0.037315 -0.031861  0.034931  0.033640 -0.056613 -0.051455   \n",
      "755 -0.044989 -0.033120 -0.038797 -0.051054  0.062066  0.051890  0.026741   \n",
      "766 -0.045857  0.060618  0.036172  0.067883 -0.067277 -0.083154 -0.082065   \n",
      "767  0.027218  0.033547  0.027961  0.030697 -0.034024 -0.024326 -0.046260   \n",
      "\n",
      "        ks238  \n",
      "12   0.280320  \n",
      "14   0.283920  \n",
      "16   0.185980  \n",
      "18   0.114630  \n",
      "20   0.066102  \n",
      "..        ...  \n",
      "383  0.043908  \n",
      "754  0.043782  \n",
      "755  0.045863  \n",
      "766  0.055028  \n",
      "767 -0.031593  \n",
      "\n",
      "[168 rows x 240 columns]\n",
      "168\n"
     ]
    }
   ],
   "source": [
    "combi=frames+frames2+frames3+frames4+frames5+frames6\n",
    "training= pd.concat(combi)\n",
    "print(training)\n",
    "print(len(training))\n",
    "\n"
   ]
  },
  {
   "cell_type": "code",
   "execution_count": 15,
   "metadata": {},
   "outputs": [
    {
     "name": "stdout",
     "output_type": "stream",
     "text": [
      "237\n",
      "4\n"
     ]
    }
   ],
   "source": [
    "#lda model\n",
    "#just sample\n",
    "#Dna ： etoposide，Gemcitabine\n",
    "#mt：paclitaxel，Vinblastine\n",
    "#hsp：17aag，auy922\n",
    "\n",
    "#prot：\"MG132\"，ps341\n",
    "#hdac：saha，apicidin\n",
    "from sklearn.datasets import make_classification\n",
    "from sklearn.discriminant_analysis import LinearDiscriminantAnalysis\n",
    "\n",
    "X_drug=training.iloc[:, 3:240].values\n",
    "\n",
    "y=[]\n",
    "for i in range(24):\n",
    "    y.append('DNA')\n",
    "for j in range(24):\n",
    "    y.append('MT')\n",
    "for k in range(24):\n",
    "    y.append('HSP')\n",
    "for m in range(24):\n",
    "    y.append('PROT')\n",
    "for n in range(24):\n",
    "    y.append('HDAC')\n",
    "for k in range(48):\n",
    "    y.append('DMSO')\n",
    "print(len(X_drug[0]))\n",
    "model = LinearDiscriminantAnalysis(n_components=4)\n",
    "#model.fit(X_drug, y)\n",
    "#X_drug2 = model.transform(X_drug)\n",
    "#reduce dimension for the data\n",
    "X_drug2=model.fit(X_drug,y).transform(X_drug)\n",
    "X_drug2\n",
    "print(len(X_drug2[0]))\n",
    "\n"
   ]
  },
  {
   "cell_type": "code",
   "execution_count": 16,
   "metadata": {},
   "outputs": [
    {
     "name": "stdout",
     "output_type": "stream",
     "text": [
      "168\n",
      "[-12.34000887  -0.68951806   0.9604731    1.36112621]\n"
     ]
    }
   ],
   "source": [
    "print(len(X_drug2))\n",
    "print(X_drug2[-1])"
   ]
  },
  {
   "cell_type": "code",
   "execution_count": 17,
   "metadata": {},
   "outputs": [],
   "source": [
    "#wipe out those whose concentration is not valid\n",
    "def get_centroid(point_lst):\n",
    "    x_sum=0\n",
    "    y_sum=0\n",
    "    z1_sum=0\n",
    "    z2_sum=0\n",
    "    z3_sum=0\n",
    "    z4_sum=0\n",
    "\n",
    "\n",
    "    for i in range(len(point_lst)):\n",
    "        x_sum+=point_lst[i][0]\n",
    "        y_sum+=point_lst[i][1]\n",
    "        z1_sum+=point_lst[i][2]\n",
    "        z2_sum+=point_lst[i][3]\n",
    "        #z3_sum+=point_lst[i][4]\n",
    "        #z4_sum+=point_lst[i][5]\n",
    "\n",
    "\n",
    "    x_mean=x_sum/len(point_lst)\n",
    "    y_mean=y_sum/len(point_lst)\n",
    "    z1_mean=z1_sum/len(point_lst)\n",
    "    z2_mean=z2_sum/len(point_lst)\n",
    "    #z3_mean=z3_sum/len(point_lst)\n",
    "    #z4_mean=z4_sum/len(point_lst)\n",
    "    centroid=[]\n",
    "    centroid.append(x_mean)\n",
    "    centroid.append(y_mean)\n",
    "    centroid.append(z1_mean)\n",
    "    centroid.append(z2_mean)\n",
    "    #centroid.append(z3_mean)\n",
    "    #centroid.append(z4_mean)\n",
    "    #centroid.append(point_lst[0][-1])\n",
    "    return centroid\n",
    "\n"
   ]
  },
  {
   "cell_type": "code",
   "execution_count": 18,
   "metadata": {},
   "outputs": [
    {
     "data": {
      "text/html": [
       "<div>\n",
       "<style scoped>\n",
       "    .dataframe tbody tr th:only-of-type {\n",
       "        vertical-align: middle;\n",
       "    }\n",
       "\n",
       "    .dataframe tbody tr th {\n",
       "        vertical-align: top;\n",
       "    }\n",
       "\n",
       "    .dataframe thead th {\n",
       "        text-align: right;\n",
       "    }\n",
       "</style>\n",
       "<table border=\"1\" class=\"dataframe\">\n",
       "  <thead>\n",
       "    <tr style=\"text-align: right;\">\n",
       "      <th></th>\n",
       "      <th>principal component 1</th>\n",
       "      <th>principal component 2</th>\n",
       "      <th>principal component 3</th>\n",
       "      <th>principal component 4</th>\n",
       "    </tr>\n",
       "  </thead>\n",
       "  <tbody>\n",
       "    <tr>\n",
       "      <th>0</th>\n",
       "      <td>10.525797</td>\n",
       "      <td>-1.095634</td>\n",
       "      <td>3.747846</td>\n",
       "      <td>-0.021216</td>\n",
       "    </tr>\n",
       "    <tr>\n",
       "      <th>1</th>\n",
       "      <td>9.000980</td>\n",
       "      <td>-1.333177</td>\n",
       "      <td>5.046633</td>\n",
       "      <td>0.778640</td>\n",
       "    </tr>\n",
       "    <tr>\n",
       "      <th>2</th>\n",
       "      <td>7.880334</td>\n",
       "      <td>-3.287024</td>\n",
       "      <td>3.999122</td>\n",
       "      <td>0.067940</td>\n",
       "    </tr>\n",
       "    <tr>\n",
       "      <th>3</th>\n",
       "      <td>7.551847</td>\n",
       "      <td>-2.815300</td>\n",
       "      <td>4.554244</td>\n",
       "      <td>-0.182876</td>\n",
       "    </tr>\n",
       "    <tr>\n",
       "      <th>4</th>\n",
       "      <td>7.896075</td>\n",
       "      <td>-2.283806</td>\n",
       "      <td>4.823695</td>\n",
       "      <td>-0.758695</td>\n",
       "    </tr>\n",
       "    <tr>\n",
       "      <th>...</th>\n",
       "      <td>...</td>\n",
       "      <td>...</td>\n",
       "      <td>...</td>\n",
       "      <td>...</td>\n",
       "    </tr>\n",
       "    <tr>\n",
       "      <th>163</th>\n",
       "      <td>-11.937962</td>\n",
       "      <td>-0.432295</td>\n",
       "      <td>1.855338</td>\n",
       "      <td>0.705735</td>\n",
       "    </tr>\n",
       "    <tr>\n",
       "      <th>164</th>\n",
       "      <td>-13.064600</td>\n",
       "      <td>-1.948426</td>\n",
       "      <td>1.964826</td>\n",
       "      <td>0.004238</td>\n",
       "    </tr>\n",
       "    <tr>\n",
       "      <th>165</th>\n",
       "      <td>-11.650386</td>\n",
       "      <td>-0.087742</td>\n",
       "      <td>0.813444</td>\n",
       "      <td>-0.072147</td>\n",
       "    </tr>\n",
       "    <tr>\n",
       "      <th>166</th>\n",
       "      <td>-13.272099</td>\n",
       "      <td>0.541192</td>\n",
       "      <td>0.418920</td>\n",
       "      <td>-0.417235</td>\n",
       "    </tr>\n",
       "    <tr>\n",
       "      <th>167</th>\n",
       "      <td>-12.340009</td>\n",
       "      <td>-0.689518</td>\n",
       "      <td>0.960473</td>\n",
       "      <td>1.361126</td>\n",
       "    </tr>\n",
       "  </tbody>\n",
       "</table>\n",
       "<p>168 rows × 4 columns</p>\n",
       "</div>"
      ],
      "text/plain": [
       "     principal component 1  principal component 2  principal component 3  \\\n",
       "0                10.525797              -1.095634               3.747846   \n",
       "1                 9.000980              -1.333177               5.046633   \n",
       "2                 7.880334              -3.287024               3.999122   \n",
       "3                 7.551847              -2.815300               4.554244   \n",
       "4                 7.896075              -2.283806               4.823695   \n",
       "..                     ...                    ...                    ...   \n",
       "163             -11.937962              -0.432295               1.855338   \n",
       "164             -13.064600              -1.948426               1.964826   \n",
       "165             -11.650386              -0.087742               0.813444   \n",
       "166             -13.272099               0.541192               0.418920   \n",
       "167             -12.340009              -0.689518               0.960473   \n",
       "\n",
       "     principal component 4  \n",
       "0                -0.021216  \n",
       "1                 0.778640  \n",
       "2                 0.067940  \n",
       "3                -0.182876  \n",
       "4                -0.758695  \n",
       "..                     ...  \n",
       "163               0.705735  \n",
       "164               0.004238  \n",
       "165              -0.072147  \n",
       "166              -0.417235  \n",
       "167               1.361126  \n",
       "\n",
       "[168 rows x 4 columns]"
      ]
     },
     "execution_count": 18,
     "metadata": {},
     "output_type": "execute_result"
    }
   ],
   "source": [
    "#pca_drug = PCA(n_components=6)\n",
    "#components = pca_drug.fit_transform(X_drug)\n",
    "principalDf = pd.DataFrame(data = X_drug2\n",
    "             , columns =['principal component 1', 'principal component 2','principal component 3','principal component 4'])\n",
    "principalDf"
   ]
  },
  {
   "cell_type": "code",
   "execution_count": 19,
   "metadata": {},
   "outputs": [],
   "source": [
    "#predict\n",
    "#still sample but useful this block \n",
    "#model2 = LinearDiscriminantAnalysis(n_components=1)\n",
    "#model2.fit(X_drug2,y)\n",
    "#row=X_drug2\n",
    "#yhat = model2.predict(row)\n",
    "# summarize prediction\n",
    "#print('Predicted Class: %s' % yhat)\n",
    "\n"
   ]
  },
  {
   "cell_type": "code",
   "execution_count": 20,
   "metadata": {},
   "outputs": [
    {
     "name": "stdout",
     "output_type": "stream",
     "text": [
      "168\n"
     ]
    },
    {
     "data": {
      "text/plain": [
       "[array([-12.14480197,  -0.50220388,   2.35741992,   0.82286599]),\n",
       " array([-11.88122946,  -1.31993759,   1.88341227,   0.29844214]),\n",
       " array([-14.03363588,  -0.97136597,   0.29867279,  -0.50022972]),\n",
       " array([-13.20621967,  -0.7820917 ,   1.87527133,  -0.07498161]),\n",
       " array([-12.1288692 ,   0.29932025,  -1.98083523,  -0.32902043]),\n",
       " array([-12.07912491,   1.03115142,   1.74718257,  -0.71012883]),\n",
       " array([-12.80260447,  -0.59329959,   0.59607683,  -0.13443053])]"
      ]
     },
     "execution_count": 20,
     "metadata": {},
     "output_type": "execute_result"
    }
   ],
   "source": [
    "all_list=[]\n",
    "\n",
    "for i in range(len(X_drug2)):\n",
    "    all_list.append(X_drug2[i])\n",
    "print(len(all_list))\n",
    "all_list[120:127]"
   ]
  },
  {
   "cell_type": "code",
   "execution_count": 21,
   "metadata": {},
   "outputs": [
    {
     "name": "stdout",
     "output_type": "stream",
     "text": [
      "[-12.14480197  -0.50220388   2.35741992   0.82286599]\n",
      "[-12.25047433  -0.9865331    1.08839789  -1.26548623]\n",
      "[-13.78162735  -2.50209005  -0.0598096   -1.01060139]\n",
      "[-11.46901793   0.85684053   1.44292434   0.40526427]\n",
      "[-10.92319686  -0.91180669   0.23448483   0.28999717]\n",
      "[-13.73655346  -1.98352676   1.87405618  -1.72973024]\n",
      "132\n",
      "36\n"
     ]
    }
   ],
   "source": [
    "X_training=[]\n",
    "X_testing=[]\n",
    "#X_training=all_list[6:24]+all_list[30:48]+all_list[54:72]+all_list[78:96]+all_list[102:120]+all_list[120]\n",
    "X_training=all_list[6:24]+all_list[30:48]+all_list[54:72]+all_list[78:96]+all_list[102:120]\n",
    "for i in range(120,168,8):\n",
    "    X_training+=all_list[i:i+7]\n",
    "\n",
    "X_testing=all_list[:6]+all_list[24:30]+all_list[48:54]+all_list[72:78]+all_list[96:102]\n",
    "for j in range(120,168,8):\n",
    "    X_testing.append(all_list[j])\n",
    "    print(all_list[j])\n",
    "\n",
    "#X_testing=all_list[:6]+all_list[24:30]+all_list[48:54]+all_list[72:78]+all_list[96:102]\n",
    "#X_testing.append()\n",
    "print(len(X_training))\n",
    "print(len(X_testing))\n",
    "y=[]\n",
    "for i in range(18):\n",
    "    y.append('DNA')\n",
    "for j in range(18):\n",
    "    y.append(\"MT\")\n",
    "for k in range(18):\n",
    "    y.append(\"HSP\")\n",
    "for m in range(18):\n",
    "    y.append(\"PROT\")\n",
    "for n in range(18):\n",
    "    y.append(\"HDAC\")\n",
    "for k in range(42):\n",
    "    y.append(\"DMSO\")\n"
   ]
  },
  {
   "cell_type": "code",
   "execution_count": 22,
   "metadata": {},
   "outputs": [
    {
     "name": "stdout",
     "output_type": "stream",
     "text": [
      "48\n",
      "[-12.728719243958052, -0.595491341701775, 0.9845714026224407, -0.37428662208962576]\n"
     ]
    }
   ],
   "source": [
    "\n",
    "dmso_lst2=[]\n",
    "for i in range(48):\n",
    "    dmso_lst2.append(all_list[i+120])\n",
    "print(len(dmso_lst2))\n",
    "cen_dmso=get_centroid(dmso_lst2)\n",
    "print(cen_dmso)\n"
   ]
  },
  {
   "cell_type": "code",
   "execution_count": 23,
   "metadata": {},
   "outputs": [],
   "source": [
    "#calculating the distance\n",
    "from math import sqrt\n",
    "def euclidean_distance(row1, row2):\n",
    "    distance =0\n",
    "\t#print(len(row1)-1) this is to ensure that we calculate 6 points\n",
    "    for i in range(len(row1)-1):\n",
    "\n",
    "\t\n",
    "\n",
    "        distance += (row1[i] - row2[i])**2\n",
    "    return sqrt(distance)"
   ]
  },
  {
   "cell_type": "code",
   "execution_count": 24,
   "metadata": {},
   "outputs": [
    {
     "name": "stdout",
     "output_type": "stream",
     "text": [
      "48\n"
     ]
    },
    {
     "data": {
      "text/plain": [
       "5.372530684652879"
      ]
     },
     "execution_count": 24,
     "metadata": {},
     "output_type": "execute_result"
    }
   ],
   "source": [
    "dist_lst=[]\n",
    "for i in range(len(dmso_lst2)):\n",
    "    dist_lst.append(euclidean_distance(dmso_lst2[i],cen_dmso))\n",
    "dist_lst.sort()\n",
    "print(len(dist_lst))\n",
    "max_ave=sum(dist_lst[-5:-1])/len(dist_lst[-5:-1])\n",
    "max_ave\n",
    "max_ave*=2\n",
    "max_ave\n"
   ]
  },
  {
   "cell_type": "code",
   "execution_count": 25,
   "metadata": {},
   "outputs": [
    {
     "name": "stdout",
     "output_type": "stream",
     "text": [
      "14.041814537058837\n"
     ]
    }
   ],
   "source": [
    "#selecting data\n",
    "effect=[]\n",
    "dist_lst2=[]\n",
    "for i in range(120):\n",
    "    selection_dist=euclidean_distance(all_list[i],cen_dmso)\n",
    "    dist_lst2.append(selection_dist)\n",
    "dist_lst2.sort()\n",
    "print(dist_lst2[0])"
   ]
  },
  {
   "cell_type": "code",
   "execution_count": 26,
   "metadata": {},
   "outputs": [
    {
     "name": "stdout",
     "output_type": "stream",
     "text": [
      "['DNA' 'DNA' 'DNA' 'DNA' 'DNA' 'DNA' 'MT' 'MT' 'MT' 'MT' 'MT' 'MT' 'HSP'\n",
      " 'HSP' 'HSP' 'HSP' 'HSP' 'HSP' 'PROT' 'PROT' 'PROT' 'PROT' 'PROT' 'PROT'\n",
      " 'HDAC' 'HDAC' 'HDAC' 'HDAC' 'HDAC' 'HDAC' 'DMSO' 'DMSO' 'DMSO' 'DMSO'\n",
      " 'DMSO' 'DMSO']\n",
      "36\n"
     ]
    }
   ],
   "source": [
    "model2 = LinearDiscriminantAnalysis(n_components=4)\n",
    "model2.fit(X_training,y)\n",
    "yhat2=model2.predict(X_testing)\n",
    "\n",
    "print(yhat2)\n",
    "print(len(yhat2))"
   ]
  },
  {
   "cell_type": "code",
   "execution_count": null,
   "metadata": {},
   "outputs": [],
   "source": []
  },
  {
   "cell_type": "code",
   "execution_count": 27,
   "metadata": {},
   "outputs": [],
   "source": [
    "def accuracy(list1,list2):\n",
    "    length=len(list1)\n",
    "    list3=[]\n",
    "    for i in range(int(length/6.0)):\n",
    "        list3.append(list2[0])\n",
    "    for j in range(int(length/6.0)):\n",
    "        list3.append(list2[1])\n",
    "    for m in range(int(length/6.0)):\n",
    "        list3.append(list2[2])\n",
    "    for n in range(int(length/6.0)):\n",
    "        list3.append(list2[3])\n",
    "    for k in range(int(length/6.0)):\n",
    "        list3.append(list2[4])\n",
    "    for k in range(int(length/6.0)):\n",
    "        list3.append(list2[5])\n",
    "\n",
    "    counter=0\n",
    "    for k in range(len(list1)):\n",
    "\n",
    "        if list1[k]==list3[k]:\n",
    "            counter+=1\n",
    "    return counter/length\n",
    "\n"
   ]
  },
  {
   "cell_type": "code",
   "execution_count": 28,
   "metadata": {},
   "outputs": [
    {
     "data": {
      "text/plain": [
       "'100.00%'"
      ]
     },
     "execution_count": 28,
     "metadata": {},
     "output_type": "execute_result"
    }
   ],
   "source": [
    "#test accuracy\n",
    "'%.2f%%' % ((accuracy( yhat2,['DNA',\"MT\",\"HSP\",\"PROT\",\"HDAC\",\"DMSO\"]))*100)\n"
   ]
  },
  {
   "cell_type": "code",
   "execution_count": 29,
   "metadata": {},
   "outputs": [
    {
     "data": {
      "text/plain": [
       "['DNA',\n",
       " 'DNA',\n",
       " 'DNA',\n",
       " 'DNA',\n",
       " 'DNA',\n",
       " 'DNA',\n",
       " 'DNA',\n",
       " 'DNA',\n",
       " 'DNA',\n",
       " 'DNA',\n",
       " 'DNA',\n",
       " 'DNA',\n",
       " 'DNA',\n",
       " 'DNA',\n",
       " 'DNA',\n",
       " 'DNA',\n",
       " 'DNA',\n",
       " 'DNA',\n",
       " 'DNA',\n",
       " 'DNA',\n",
       " 'DNA',\n",
       " 'DNA',\n",
       " 'DNA',\n",
       " 'DNA',\n",
       " 'MT',\n",
       " 'MT',\n",
       " 'MT',\n",
       " 'MT',\n",
       " 'MT',\n",
       " 'MT',\n",
       " 'MT',\n",
       " 'MT',\n",
       " 'MT',\n",
       " 'MT',\n",
       " 'MT',\n",
       " 'MT',\n",
       " 'MT',\n",
       " 'MT',\n",
       " 'MT',\n",
       " 'MT',\n",
       " 'MT',\n",
       " 'MT',\n",
       " 'MT',\n",
       " 'MT',\n",
       " 'MT',\n",
       " 'MT',\n",
       " 'MT',\n",
       " 'MT',\n",
       " 'HSP',\n",
       " 'HSP',\n",
       " 'HSP',\n",
       " 'HSP',\n",
       " 'HSP',\n",
       " 'HSP',\n",
       " 'HSP',\n",
       " 'HSP',\n",
       " 'HSP',\n",
       " 'HSP',\n",
       " 'HSP',\n",
       " 'HSP',\n",
       " 'HSP',\n",
       " 'HSP',\n",
       " 'HSP',\n",
       " 'HSP',\n",
       " 'HSP',\n",
       " 'HSP',\n",
       " 'HSP',\n",
       " 'HSP',\n",
       " 'HSP',\n",
       " 'HSP',\n",
       " 'HSP',\n",
       " 'HSP',\n",
       " 'PROT',\n",
       " 'PROT',\n",
       " 'PROT',\n",
       " 'PROT',\n",
       " 'PROT',\n",
       " 'PROT',\n",
       " 'PROT',\n",
       " 'PROT',\n",
       " 'PROT',\n",
       " 'PROT',\n",
       " 'PROT',\n",
       " 'PROT',\n",
       " 'PROT',\n",
       " 'PROT',\n",
       " 'PROT',\n",
       " 'PROT',\n",
       " 'PROT',\n",
       " 'PROT',\n",
       " 'PROT',\n",
       " 'PROT',\n",
       " 'PROT',\n",
       " 'PROT',\n",
       " 'PROT',\n",
       " 'PROT',\n",
       " 'HDAC',\n",
       " 'HDAC',\n",
       " 'HDAC',\n",
       " 'HDAC',\n",
       " 'HDAC',\n",
       " 'HDAC',\n",
       " 'HDAC',\n",
       " 'HDAC',\n",
       " 'HDAC',\n",
       " 'HDAC',\n",
       " 'HDAC',\n",
       " 'HDAC',\n",
       " 'HDAC',\n",
       " 'HDAC',\n",
       " 'HDAC',\n",
       " 'HDAC',\n",
       " 'HDAC',\n",
       " 'HDAC',\n",
       " 'HDAC',\n",
       " 'HDAC',\n",
       " 'HDAC',\n",
       " 'HDAC',\n",
       " 'HDAC',\n",
       " 'HDAC',\n",
       " 'DMSO',\n",
       " 'DMSO',\n",
       " 'DMSO',\n",
       " 'DMSO',\n",
       " 'DMSO',\n",
       " 'DMSO',\n",
       " 'DMSO',\n",
       " 'DMSO',\n",
       " 'DMSO',\n",
       " 'DMSO',\n",
       " 'DMSO',\n",
       " 'DMSO',\n",
       " 'DMSO',\n",
       " 'DMSO',\n",
       " 'DMSO',\n",
       " 'DMSO',\n",
       " 'DMSO',\n",
       " 'DMSO',\n",
       " 'DMSO',\n",
       " 'DMSO',\n",
       " 'DMSO',\n",
       " 'DMSO',\n",
       " 'DMSO',\n",
       " 'DMSO',\n",
       " 'DMSO',\n",
       " 'DMSO',\n",
       " 'DMSO',\n",
       " 'DMSO',\n",
       " 'DMSO',\n",
       " 'DMSO',\n",
       " 'DMSO',\n",
       " 'DMSO',\n",
       " 'DMSO',\n",
       " 'DMSO',\n",
       " 'DMSO',\n",
       " 'DMSO',\n",
       " 'DMSO',\n",
       " 'DMSO',\n",
       " 'DMSO',\n",
       " 'DMSO',\n",
       " 'DMSO',\n",
       " 'DMSO',\n",
       " 'DMSO',\n",
       " 'DMSO',\n",
       " 'DMSO',\n",
       " 'DMSO',\n",
       " 'DMSO',\n",
       " 'DMSO']"
      ]
     },
     "execution_count": 29,
     "metadata": {},
     "output_type": "execute_result"
    }
   ],
   "source": [
    "training[\"drug_name\"]\n",
    "train_drug_name_without_concentration=[]\n",
    "for each in training['drug_name']:\n",
    "    train_drug_name_without_concentration.append(each[:-2])\n",
    "    #print(training[\"drug_name\"][i][0:-1])\n",
    "    \n",
    "\n",
    "train_drug_name_without_concentration\n",
    "train_drug_name_without_concentration2=[]\n",
    "#dna,mt,hsp,prot,hdac\n",
    "for i in range(int((len(train_drug_name_without_concentration)-48)/5.0)):\n",
    "    train_drug_name_without_concentration2.append('DNA')\n",
    "for i in range(int((len(train_drug_name_without_concentration)-48)/5.0)):\n",
    "    train_drug_name_without_concentration2.append('MT')\n",
    "for i in range(int((len(train_drug_name_without_concentration)-48)/5.0)):\n",
    "    train_drug_name_without_concentration2.append('HSP')\n",
    "for i in range(int((len(train_drug_name_without_concentration)-48)/5.0)):\n",
    "    train_drug_name_without_concentration2.append('PROT')\n",
    "for i in range(int((len(train_drug_name_without_concentration)-48)/5.0)):\n",
    "    train_drug_name_without_concentration2.append('HDAC')\n",
    "for i in range(48):\n",
    "    train_drug_name_without_concentration2.append(\"DMSO\")\n",
    "\n",
    "train_drug_name_without_concentration2   \n"
   ]
  },
  {
   "cell_type": "code",
   "execution_count": 30,
   "metadata": {},
   "outputs": [
    {
     "data": {
      "application/vnd.plotly.v1+json": {
       "config": {
        "plotlyServerURL": "https://plot.ly"
       },
       "data": [
        {
         "hovertemplate": "color=DNA<br>0=%{x}<br>1=%{y}<extra></extra>",
         "legendgroup": "DNA",
         "marker": {
          "color": "#636efa",
          "symbol": "circle"
         },
         "mode": "markers",
         "name": "DNA",
         "orientation": "v",
         "showlegend": true,
         "type": "scatter",
         "x": [
          10.462076714361615,
          8.93123207369031,
          7.815626523119903,
          7.4528885266341245,
          7.834948888408255,
          8.518212376666535,
          8.819165642321883,
          6.177976440700697,
          8.927375996333286,
          8.248914338833202,
          7.083501506912437,
          8.270617738675178,
          6.041847395015203,
          7.675902434242116,
          7.244311193840286,
          7.045314901063578,
          6.82361804310602,
          8.786044957935411,
          7.456598019776022,
          8.187841189311706,
          9.2704494206758,
          10.719272820363859,
          7.399157446456182,
          7.73198490923529
         ],
         "xaxis": "x",
         "y": [
          -0.9240090166221879,
          -1.063040378633745,
          -3.1355212879850267,
          -2.5328920433922835,
          -2.0961569565479703,
          -1.018628837715662,
          -2.713134690613118,
          -3.4039460297968605,
          -2.657339553252724,
          -2.7689928541778794,
          -3.744383365488469,
          -0.13679578671345494,
          1.5327451813757793,
          -4.16805227374432,
          -4.0264857694696214,
          -0.5796082350716741,
          -0.5946330915466131,
          -4.31776002549115,
          -2.856400140115913,
          -2.3666260216740826,
          -1.9317857763104516,
          -1.340134555604034,
          -2.3105706212860766,
          -1.8229699921757858
         ],
         "yaxis": "y"
        },
        {
         "hovertemplate": "color=MT<br>0=%{x}<br>1=%{y}<extra></extra>",
         "legendgroup": "MT",
         "marker": {
          "color": "#EF553B",
          "symbol": "circle"
         },
         "mode": "markers",
         "name": "MT",
         "orientation": "v",
         "showlegend": true,
         "type": "scatter",
         "x": [
          4.37902142386344,
          6.288810364348629,
          4.476147633915853,
          5.405346476971256,
          4.818955247612536,
          5.424625955558797,
          4.710665401973141,
          5.12339903890972,
          4.079360745993147,
          5.503621618055392,
          6.7674449610310035,
          3.0454808118481536,
          5.828844233426251,
          4.876548389832248,
          5.5338665590049585,
          4.6149432016935075,
          5.185143105964812,
          4.962813287874296,
          5.5993122808349955,
          4.157224971419363,
          3.4695836167137974,
          5.749216415662241,
          5.473776568468917,
          2.726587629688267
         ],
         "xaxis": "x",
         "y": [
          9.670000546786822,
          10.011117109152206,
          9.9038486223059,
          9.970713783876622,
          8.366545768704178,
          8.476299378061743,
          10.676093877255111,
          9.898667712864217,
          9.400394131467406,
          9.058004194278107,
          8.808047084475255,
          10.344382786372208,
          10.0501389998119,
          8.898080615761774,
          10.308650103754411,
          9.343227395792614,
          10.14563375888503,
          8.697420254392062,
          9.91891329570643,
          11.492576789956965,
          11.177784824026501,
          9.395292681509515,
          8.823077634553378,
          10.061510368362326
         ],
         "yaxis": "y"
        },
        {
         "hovertemplate": "color=HSP<br>0=%{x}<br>1=%{y}<extra></extra>",
         "legendgroup": "HSP",
         "marker": {
          "color": "#00cc96",
          "symbol": "circle"
         },
         "mode": "markers",
         "name": "HSP",
         "orientation": "v",
         "showlegend": true,
         "type": "scatter",
         "x": [
          4.595708206693748,
          5.756317758261645,
          4.9420042612740165,
          4.057987079919653,
          4.52222132171452,
          4.6097706361086095,
          5.649655958614077,
          3.8693930240655248,
          7.051609185710133,
          5.121383519146105,
          4.900346319070758,
          3.8997217984162216,
          4.244123059425892,
          6.640914668511456,
          5.246559736509435,
          4.763521625546068,
          6.382997683593051,
          4.2003360729709005,
          5.474052976207674,
          5.23822322722541,
          5.154810437221072,
          5.365114970386017,
          5.96788648096103,
          5.375643791746703
         ],
         "xaxis": "x",
         "y": [
          -3.7393303416015713,
          -2.4789337051046276,
          -3.7158754952113013,
          -5.0344199532632565,
          -1.9178535727060058,
          -1.5790462083791048,
          -3.2284969975012445,
          -2.354826827196015,
          -1.8161695851729793,
          -4.239975593488962,
          -2.9115595781674872,
          -2.531365258597309,
          -3.816425850519223,
          -2.861406490295372,
          -3.4686365793638445,
          -3.0030821301577926,
          -3.8321585637508,
          -4.01968083127013,
          -4.089214587851787,
          -2.9076092298575014,
          -3.0996236787078306,
          -2.936168190793879,
          -3.739471451643209,
          -1.516252817473466
         ],
         "yaxis": "y"
        },
        {
         "hovertemplate": "color=PROT<br>0=%{x}<br>1=%{y}<extra></extra>",
         "legendgroup": "PROT",
         "marker": {
          "color": "#ab63fa",
          "symbol": "circle"
         },
         "mode": "markers",
         "name": "PROT",
         "orientation": "v",
         "showlegend": true,
         "type": "scatter",
         "x": [
          2.267568181158817,
          2.2606270657819096,
          1.259031685131692,
          2.0894712766235313,
          2.579021099235659,
          2.8905485721097497,
          2.242304074789433,
          2.093074724527601,
          2.256213647140945,
          1.2393428546872207,
          3.9612318905137216,
          -0.9392435938916269,
          1.1917844034365175,
          2.4817743249985864,
          1.5708123507881593,
          2.152734231117594,
          0.7559228949362238,
          2.3180782657441252,
          2.733281372278582,
          1.956734892084005,
          2.1220688016902316,
          1.7453201241090415,
          2.2655689812405995,
          0.8473520644518051
         ],
         "xaxis": "x",
         "y": [
          2.769863227409199,
          2.8018089847518564,
          2.3363138863314696,
          0.5808867132378464,
          4.962261705661242,
          0.842993917190198,
          2.1441676370060194,
          2.692796922375987,
          2.0932449142583356,
          1.9398796716753195,
          1.140962634220741,
          0.9714841556398031,
          2.5923863483536342,
          1.6137345618968528,
          1.8629908163758857,
          4.020521816617532,
          1.6892902031956438,
          2.4631991469387677,
          2.7146568674404383,
          1.298675451155417,
          1.7054702704112101,
          3.612832927342352,
          3.2075062167474657,
          1.2189041173019068
         ],
         "yaxis": "y"
        },
        {
         "hovertemplate": "color=HDAC<br>0=%{x}<br>1=%{y}<extra></extra>",
         "legendgroup": "HDAC",
         "marker": {
          "color": "#FFA15A",
          "symbol": "circle"
         },
         "mode": "markers",
         "name": "HDAC",
         "orientation": "v",
         "showlegend": true,
         "type": "scatter",
         "x": [
          5.223806171672795,
          5.985521858310456,
          7.282290434186211,
          4.406175337405953,
          6.016458890708036,
          4.574116166941118,
          5.1883089552404495,
          6.71084170822139,
          4.612595752815007,
          3.9641226931122615,
          6.020199052404653,
          4.841427481031644,
          3.9992013486370572,
          5.323990903394028,
          4.922974065045809,
          5.4767723353166815,
          4.495142719693701,
          6.3013646488007575,
          5.336304071647618,
          7.03043452404718,
          3.938543894497125,
          6.790509577891114,
          6.870331569912066,
          4.703250450454726
         ],
         "xaxis": "x",
         "y": [
          -6.474807565099602,
          -4.906247400227792,
          -7.3731696808885125,
          -4.976862302110158,
          -3.770989009833584,
          -6.246388920982512,
          -6.603793631805137,
          -6.0701564353976645,
          -6.269755910537328,
          -5.1623539905064,
          -6.857819025894777,
          -5.342306194653314,
          -6.878048724727807,
          -5.976648990392949,
          -6.1376495891607545,
          -4.910399079214451,
          -6.541588873075007,
          -6.075019478135432,
          -4.693241094030237,
          -5.024731791339437,
          -6.96712713663207,
          -6.184600995433991,
          -4.812304377088814,
          -3.3727527344427424
         ],
         "yaxis": "y"
        },
        {
         "hovertemplate": "color=DMSO<br>0=%{x}<br>1=%{y}<extra></extra>",
         "legendgroup": "DMSO",
         "marker": {
          "color": "#19d3f3",
          "symbol": "circle"
         },
         "mode": "markers",
         "name": "DMSO",
         "orientation": "v",
         "showlegend": true,
         "type": "scatter",
         "x": [
          -12.174228093268791,
          -11.86939847258853,
          -14.061485967137878,
          -13.145745100382008,
          -12.09090052967013,
          -12.030681037273238,
          -12.762933454753275,
          -12.438543475416484,
          -12.256567428445749,
          -12.84499562086954,
          -13.080283072078842,
          -13.243045817629012,
          -14.472444365321776,
          -13.597272750824871,
          -11.602501045095137,
          -12.421075112570938,
          -13.846981494836026,
          -11.640544060180481,
          -15.060292024270462,
          -13.707570395406709,
          -12.787772368967094,
          -12.28896581668433,
          -11.29302166371561,
          -13.089923756534013,
          -11.450133906828539,
          -10.909643415143007,
          -10.09874594197437,
          -12.915916407275917,
          -13.71892522501182,
          -13.486101975142981,
          -12.296204937372828,
          -13.783385406874832,
          -10.925219676197624,
          -13.863035114950831,
          -12.514033436457476,
          -12.158816139516748,
          -12.607988284939472,
          -11.890435032786549,
          -12.437765741935264,
          -14.531476736707345,
          -13.76536476241586,
          -13.096255771290725,
          -14.029826692329554,
          -11.919228646162422,
          -13.08559566270208,
          -11.635617829211881,
          -13.262337015822752,
          -12.32200535074333
         ],
         "xaxis": "x",
         "y": [
          -0.1924601741768154,
          -1.1871088176671847,
          -0.7729398187139022,
          -0.7692038274464463,
          0.24510291473109297,
          1.1027300751126974,
          -0.5659592724469594,
          -0.8558118580558826,
          -0.8513189093189779,
          -0.08510012731053701,
          -1.008646707446798,
          -0.7385400398151851,
          0.3080936054799605,
          -1.992110167778844,
          -1.7578909805972212,
          0.42920093858573444,
          -2.2606891614245064,
          0.782988346049219,
          0.5077599377111771,
          0.03003148940939799,
          -0.30138405864856976,
          -0.2480129185090547,
          0.09972488075948725,
          -0.6029264995940774,
          1.01717137671256,
          -0.35969474282380304,
          -1.1803019412472326,
          -0.341198698569479,
          -0.7398903722825789,
          -1.5651666621317584,
          -2.1190696475350213,
          -0.2627980526666061,
          -0.8044448643889782,
          0.27386387586528377,
          -0.2996402188957387,
          -0.4646344244441273,
          -0.5275655850719622,
          -1.5645621651426922,
          -0.7740318481380078,
          0.5067580794034975,
          -1.772702639663558,
          0.30505597125584505,
          0.4974590655634666,
          -0.2837193845985899,
          -1.7295289459377388,
          0.022286115634323093,
          0.6804754431074526,
          -0.5594348428016654
         ],
         "yaxis": "y"
        }
       ],
       "layout": {
        "legend": {
         "title": {
          "text": "color"
         },
         "tracegroupgap": 0
        },
        "margin": {
         "t": 60
        },
        "template": {
         "data": {
          "bar": [
           {
            "error_x": {
             "color": "#2a3f5f"
            },
            "error_y": {
             "color": "#2a3f5f"
            },
            "marker": {
             "line": {
              "color": "#E5ECF6",
              "width": 0.5
             },
             "pattern": {
              "fillmode": "overlay",
              "size": 10,
              "solidity": 0.2
             }
            },
            "type": "bar"
           }
          ],
          "barpolar": [
           {
            "marker": {
             "line": {
              "color": "#E5ECF6",
              "width": 0.5
             },
             "pattern": {
              "fillmode": "overlay",
              "size": 10,
              "solidity": 0.2
             }
            },
            "type": "barpolar"
           }
          ],
          "carpet": [
           {
            "aaxis": {
             "endlinecolor": "#2a3f5f",
             "gridcolor": "white",
             "linecolor": "white",
             "minorgridcolor": "white",
             "startlinecolor": "#2a3f5f"
            },
            "baxis": {
             "endlinecolor": "#2a3f5f",
             "gridcolor": "white",
             "linecolor": "white",
             "minorgridcolor": "white",
             "startlinecolor": "#2a3f5f"
            },
            "type": "carpet"
           }
          ],
          "choropleth": [
           {
            "colorbar": {
             "outlinewidth": 0,
             "ticks": ""
            },
            "type": "choropleth"
           }
          ],
          "contour": [
           {
            "colorbar": {
             "outlinewidth": 0,
             "ticks": ""
            },
            "colorscale": [
             [
              0,
              "#0d0887"
             ],
             [
              0.1111111111111111,
              "#46039f"
             ],
             [
              0.2222222222222222,
              "#7201a8"
             ],
             [
              0.3333333333333333,
              "#9c179e"
             ],
             [
              0.4444444444444444,
              "#bd3786"
             ],
             [
              0.5555555555555556,
              "#d8576b"
             ],
             [
              0.6666666666666666,
              "#ed7953"
             ],
             [
              0.7777777777777778,
              "#fb9f3a"
             ],
             [
              0.8888888888888888,
              "#fdca26"
             ],
             [
              1,
              "#f0f921"
             ]
            ],
            "type": "contour"
           }
          ],
          "contourcarpet": [
           {
            "colorbar": {
             "outlinewidth": 0,
             "ticks": ""
            },
            "type": "contourcarpet"
           }
          ],
          "heatmap": [
           {
            "colorbar": {
             "outlinewidth": 0,
             "ticks": ""
            },
            "colorscale": [
             [
              0,
              "#0d0887"
             ],
             [
              0.1111111111111111,
              "#46039f"
             ],
             [
              0.2222222222222222,
              "#7201a8"
             ],
             [
              0.3333333333333333,
              "#9c179e"
             ],
             [
              0.4444444444444444,
              "#bd3786"
             ],
             [
              0.5555555555555556,
              "#d8576b"
             ],
             [
              0.6666666666666666,
              "#ed7953"
             ],
             [
              0.7777777777777778,
              "#fb9f3a"
             ],
             [
              0.8888888888888888,
              "#fdca26"
             ],
             [
              1,
              "#f0f921"
             ]
            ],
            "type": "heatmap"
           }
          ],
          "heatmapgl": [
           {
            "colorbar": {
             "outlinewidth": 0,
             "ticks": ""
            },
            "colorscale": [
             [
              0,
              "#0d0887"
             ],
             [
              0.1111111111111111,
              "#46039f"
             ],
             [
              0.2222222222222222,
              "#7201a8"
             ],
             [
              0.3333333333333333,
              "#9c179e"
             ],
             [
              0.4444444444444444,
              "#bd3786"
             ],
             [
              0.5555555555555556,
              "#d8576b"
             ],
             [
              0.6666666666666666,
              "#ed7953"
             ],
             [
              0.7777777777777778,
              "#fb9f3a"
             ],
             [
              0.8888888888888888,
              "#fdca26"
             ],
             [
              1,
              "#f0f921"
             ]
            ],
            "type": "heatmapgl"
           }
          ],
          "histogram": [
           {
            "marker": {
             "pattern": {
              "fillmode": "overlay",
              "size": 10,
              "solidity": 0.2
             }
            },
            "type": "histogram"
           }
          ],
          "histogram2d": [
           {
            "colorbar": {
             "outlinewidth": 0,
             "ticks": ""
            },
            "colorscale": [
             [
              0,
              "#0d0887"
             ],
             [
              0.1111111111111111,
              "#46039f"
             ],
             [
              0.2222222222222222,
              "#7201a8"
             ],
             [
              0.3333333333333333,
              "#9c179e"
             ],
             [
              0.4444444444444444,
              "#bd3786"
             ],
             [
              0.5555555555555556,
              "#d8576b"
             ],
             [
              0.6666666666666666,
              "#ed7953"
             ],
             [
              0.7777777777777778,
              "#fb9f3a"
             ],
             [
              0.8888888888888888,
              "#fdca26"
             ],
             [
              1,
              "#f0f921"
             ]
            ],
            "type": "histogram2d"
           }
          ],
          "histogram2dcontour": [
           {
            "colorbar": {
             "outlinewidth": 0,
             "ticks": ""
            },
            "colorscale": [
             [
              0,
              "#0d0887"
             ],
             [
              0.1111111111111111,
              "#46039f"
             ],
             [
              0.2222222222222222,
              "#7201a8"
             ],
             [
              0.3333333333333333,
              "#9c179e"
             ],
             [
              0.4444444444444444,
              "#bd3786"
             ],
             [
              0.5555555555555556,
              "#d8576b"
             ],
             [
              0.6666666666666666,
              "#ed7953"
             ],
             [
              0.7777777777777778,
              "#fb9f3a"
             ],
             [
              0.8888888888888888,
              "#fdca26"
             ],
             [
              1,
              "#f0f921"
             ]
            ],
            "type": "histogram2dcontour"
           }
          ],
          "mesh3d": [
           {
            "colorbar": {
             "outlinewidth": 0,
             "ticks": ""
            },
            "type": "mesh3d"
           }
          ],
          "parcoords": [
           {
            "line": {
             "colorbar": {
              "outlinewidth": 0,
              "ticks": ""
             }
            },
            "type": "parcoords"
           }
          ],
          "pie": [
           {
            "automargin": true,
            "type": "pie"
           }
          ],
          "scatter": [
           {
            "fillpattern": {
             "fillmode": "overlay",
             "size": 10,
             "solidity": 0.2
            },
            "type": "scatter"
           }
          ],
          "scatter3d": [
           {
            "line": {
             "colorbar": {
              "outlinewidth": 0,
              "ticks": ""
             }
            },
            "marker": {
             "colorbar": {
              "outlinewidth": 0,
              "ticks": ""
             }
            },
            "type": "scatter3d"
           }
          ],
          "scattercarpet": [
           {
            "marker": {
             "colorbar": {
              "outlinewidth": 0,
              "ticks": ""
             }
            },
            "type": "scattercarpet"
           }
          ],
          "scattergeo": [
           {
            "marker": {
             "colorbar": {
              "outlinewidth": 0,
              "ticks": ""
             }
            },
            "type": "scattergeo"
           }
          ],
          "scattergl": [
           {
            "marker": {
             "colorbar": {
              "outlinewidth": 0,
              "ticks": ""
             }
            },
            "type": "scattergl"
           }
          ],
          "scattermapbox": [
           {
            "marker": {
             "colorbar": {
              "outlinewidth": 0,
              "ticks": ""
             }
            },
            "type": "scattermapbox"
           }
          ],
          "scatterpolar": [
           {
            "marker": {
             "colorbar": {
              "outlinewidth": 0,
              "ticks": ""
             }
            },
            "type": "scatterpolar"
           }
          ],
          "scatterpolargl": [
           {
            "marker": {
             "colorbar": {
              "outlinewidth": 0,
              "ticks": ""
             }
            },
            "type": "scatterpolargl"
           }
          ],
          "scatterternary": [
           {
            "marker": {
             "colorbar": {
              "outlinewidth": 0,
              "ticks": ""
             }
            },
            "type": "scatterternary"
           }
          ],
          "surface": [
           {
            "colorbar": {
             "outlinewidth": 0,
             "ticks": ""
            },
            "colorscale": [
             [
              0,
              "#0d0887"
             ],
             [
              0.1111111111111111,
              "#46039f"
             ],
             [
              0.2222222222222222,
              "#7201a8"
             ],
             [
              0.3333333333333333,
              "#9c179e"
             ],
             [
              0.4444444444444444,
              "#bd3786"
             ],
             [
              0.5555555555555556,
              "#d8576b"
             ],
             [
              0.6666666666666666,
              "#ed7953"
             ],
             [
              0.7777777777777778,
              "#fb9f3a"
             ],
             [
              0.8888888888888888,
              "#fdca26"
             ],
             [
              1,
              "#f0f921"
             ]
            ],
            "type": "surface"
           }
          ],
          "table": [
           {
            "cells": {
             "fill": {
              "color": "#EBF0F8"
             },
             "line": {
              "color": "white"
             }
            },
            "header": {
             "fill": {
              "color": "#C8D4E3"
             },
             "line": {
              "color": "white"
             }
            },
            "type": "table"
           }
          ]
         },
         "layout": {
          "annotationdefaults": {
           "arrowcolor": "#2a3f5f",
           "arrowhead": 0,
           "arrowwidth": 1
          },
          "autotypenumbers": "strict",
          "coloraxis": {
           "colorbar": {
            "outlinewidth": 0,
            "ticks": ""
           }
          },
          "colorscale": {
           "diverging": [
            [
             0,
             "#8e0152"
            ],
            [
             0.1,
             "#c51b7d"
            ],
            [
             0.2,
             "#de77ae"
            ],
            [
             0.3,
             "#f1b6da"
            ],
            [
             0.4,
             "#fde0ef"
            ],
            [
             0.5,
             "#f7f7f7"
            ],
            [
             0.6,
             "#e6f5d0"
            ],
            [
             0.7,
             "#b8e186"
            ],
            [
             0.8,
             "#7fbc41"
            ],
            [
             0.9,
             "#4d9221"
            ],
            [
             1,
             "#276419"
            ]
           ],
           "sequential": [
            [
             0,
             "#0d0887"
            ],
            [
             0.1111111111111111,
             "#46039f"
            ],
            [
             0.2222222222222222,
             "#7201a8"
            ],
            [
             0.3333333333333333,
             "#9c179e"
            ],
            [
             0.4444444444444444,
             "#bd3786"
            ],
            [
             0.5555555555555556,
             "#d8576b"
            ],
            [
             0.6666666666666666,
             "#ed7953"
            ],
            [
             0.7777777777777778,
             "#fb9f3a"
            ],
            [
             0.8888888888888888,
             "#fdca26"
            ],
            [
             1,
             "#f0f921"
            ]
           ],
           "sequentialminus": [
            [
             0,
             "#0d0887"
            ],
            [
             0.1111111111111111,
             "#46039f"
            ],
            [
             0.2222222222222222,
             "#7201a8"
            ],
            [
             0.3333333333333333,
             "#9c179e"
            ],
            [
             0.4444444444444444,
             "#bd3786"
            ],
            [
             0.5555555555555556,
             "#d8576b"
            ],
            [
             0.6666666666666666,
             "#ed7953"
            ],
            [
             0.7777777777777778,
             "#fb9f3a"
            ],
            [
             0.8888888888888888,
             "#fdca26"
            ],
            [
             1,
             "#f0f921"
            ]
           ]
          },
          "colorway": [
           "#636efa",
           "#EF553B",
           "#00cc96",
           "#ab63fa",
           "#FFA15A",
           "#19d3f3",
           "#FF6692",
           "#B6E880",
           "#FF97FF",
           "#FECB52"
          ],
          "font": {
           "color": "#2a3f5f"
          },
          "geo": {
           "bgcolor": "white",
           "lakecolor": "white",
           "landcolor": "#E5ECF6",
           "showlakes": true,
           "showland": true,
           "subunitcolor": "white"
          },
          "hoverlabel": {
           "align": "left"
          },
          "hovermode": "closest",
          "mapbox": {
           "style": "light"
          },
          "paper_bgcolor": "white",
          "plot_bgcolor": "#E5ECF6",
          "polar": {
           "angularaxis": {
            "gridcolor": "white",
            "linecolor": "white",
            "ticks": ""
           },
           "bgcolor": "#E5ECF6",
           "radialaxis": {
            "gridcolor": "white",
            "linecolor": "white",
            "ticks": ""
           }
          },
          "scene": {
           "xaxis": {
            "backgroundcolor": "#E5ECF6",
            "gridcolor": "white",
            "gridwidth": 2,
            "linecolor": "white",
            "showbackground": true,
            "ticks": "",
            "zerolinecolor": "white"
           },
           "yaxis": {
            "backgroundcolor": "#E5ECF6",
            "gridcolor": "white",
            "gridwidth": 2,
            "linecolor": "white",
            "showbackground": true,
            "ticks": "",
            "zerolinecolor": "white"
           },
           "zaxis": {
            "backgroundcolor": "#E5ECF6",
            "gridcolor": "white",
            "gridwidth": 2,
            "linecolor": "white",
            "showbackground": true,
            "ticks": "",
            "zerolinecolor": "white"
           }
          },
          "shapedefaults": {
           "line": {
            "color": "#2a3f5f"
           }
          },
          "ternary": {
           "aaxis": {
            "gridcolor": "white",
            "linecolor": "white",
            "ticks": ""
           },
           "baxis": {
            "gridcolor": "white",
            "linecolor": "white",
            "ticks": ""
           },
           "bgcolor": "#E5ECF6",
           "caxis": {
            "gridcolor": "white",
            "linecolor": "white",
            "ticks": ""
           }
          },
          "title": {
           "x": 0.05
          },
          "xaxis": {
           "automargin": true,
           "gridcolor": "white",
           "linecolor": "white",
           "ticks": "",
           "title": {
            "standoff": 15
           },
           "zerolinecolor": "white",
           "zerolinewidth": 2
          },
          "yaxis": {
           "automargin": true,
           "gridcolor": "white",
           "linecolor": "white",
           "ticks": "",
           "title": {
            "standoff": 15
           },
           "zerolinecolor": "white",
           "zerolinewidth": 2
          }
         }
        },
        "xaxis": {
         "anchor": "y",
         "domain": [
          0,
          1
         ],
         "title": {
          "text": "0"
         }
        },
        "yaxis": {
         "anchor": "x",
         "domain": [
          0,
          1
         ],
         "title": {
          "text": "1"
         }
        }
       }
      }
     },
     "metadata": {},
     "output_type": "display_data"
    }
   ],
   "source": [
    "import plotly.express as px\n",
    "from sklearn.decomposition import PCA\n",
    "from sklearn.preprocessing import StandardScaler\n",
    "model = LinearDiscriminantAnalysis(n_components=4)\n",
    "y2=[]\n",
    "for i in range(24):\n",
    "    y2.append('DNA')\n",
    "for j in range(24):\n",
    "    y2.append('MT')\n",
    "for k in range(24):\n",
    "    y2.append('HSP')\n",
    "for m in range(24):\n",
    "    y2.append('PROT')\n",
    "for n in range(24):\n",
    "    y2.append('HDAC')\n",
    "for k in range(48):\n",
    "    y2.append('DMSO')\n",
    "#model.fit(X_drug, y)\n",
    "#X_drug2 = model.transform(X_drug)\n",
    "X_drug3=training.iloc[:,2:240].values\n",
    "X_drug3=model.fit(X_drug3,y2).transform(X_drug3)\n",
    "fig = px.scatter(X_drug3, x=0, y=1, color=train_drug_name_without_concentration2)\n",
    "#training['drug_name']\n",
    "fig.show()\n",
    "#these 5 groups are very clearly separated, as we can see in the image"
   ]
  },
  {
   "cell_type": "code",
   "execution_count": 31,
   "metadata": {},
   "outputs": [
    {
     "data": {
      "application/vnd.plotly.v1+json": {
       "config": {
        "plotlyServerURL": "https://plot.ly"
       },
       "data": [
        {
         "hovertemplate": "color=Etoposide+Gemcitabine+1<br>0=%{x}<br>1=%{y}<extra></extra>",
         "legendgroup": "Etoposide+Gemcitabine+1",
         "marker": {
          "color": "#636efa",
          "symbol": "circle"
         },
         "mode": "markers",
         "name": "Etoposide+Gemcitabine+1",
         "orientation": "v",
         "showlegend": true,
         "type": "scatter",
         "x": [
          10.462076714361615
         ],
         "xaxis": "x",
         "y": [
          -0.9240090166221879
         ],
         "yaxis": "y"
        },
        {
         "hovertemplate": "color=Etoposide+Gemcitabine+2<br>0=%{x}<br>1=%{y}<extra></extra>",
         "legendgroup": "Etoposide+Gemcitabine+2",
         "marker": {
          "color": "#EF553B",
          "symbol": "circle"
         },
         "mode": "markers",
         "name": "Etoposide+Gemcitabine+2",
         "orientation": "v",
         "showlegend": true,
         "type": "scatter",
         "x": [
          8.93123207369031
         ],
         "xaxis": "x",
         "y": [
          -1.063040378633745
         ],
         "yaxis": "y"
        },
        {
         "hovertemplate": "color=Etoposide+Gemcitabine+3<br>0=%{x}<br>1=%{y}<extra></extra>",
         "legendgroup": "Etoposide+Gemcitabine+3",
         "marker": {
          "color": "#00cc96",
          "symbol": "circle"
         },
         "mode": "markers",
         "name": "Etoposide+Gemcitabine+3",
         "orientation": "v",
         "showlegend": true,
         "type": "scatter",
         "x": [
          7.815626523119903
         ],
         "xaxis": "x",
         "y": [
          -3.1355212879850267
         ],
         "yaxis": "y"
        },
        {
         "hovertemplate": "color=Etoposide+Gemcitabine+4<br>0=%{x}<br>1=%{y}<extra></extra>",
         "legendgroup": "Etoposide+Gemcitabine+4",
         "marker": {
          "color": "#ab63fa",
          "symbol": "circle"
         },
         "mode": "markers",
         "name": "Etoposide+Gemcitabine+4",
         "orientation": "v",
         "showlegend": true,
         "type": "scatter",
         "x": [
          7.4528885266341245
         ],
         "xaxis": "x",
         "y": [
          -2.5328920433922835
         ],
         "yaxis": "y"
        },
        {
         "hovertemplate": "color=Etoposide+Gemcitabine+5<br>0=%{x}<br>1=%{y}<extra></extra>",
         "legendgroup": "Etoposide+Gemcitabine+5",
         "marker": {
          "color": "#FFA15A",
          "symbol": "circle"
         },
         "mode": "markers",
         "name": "Etoposide+Gemcitabine+5",
         "orientation": "v",
         "showlegend": true,
         "type": "scatter",
         "x": [
          7.834948888408255
         ],
         "xaxis": "x",
         "y": [
          -2.0961569565479703
         ],
         "yaxis": "y"
        },
        {
         "hovertemplate": "color=Etoposide+Gemcitabine+6<br>0=%{x}<br>1=%{y}<extra></extra>",
         "legendgroup": "Etoposide+Gemcitabine+6",
         "marker": {
          "color": "#19d3f3",
          "symbol": "circle"
         },
         "mode": "markers",
         "name": "Etoposide+Gemcitabine+6",
         "orientation": "v",
         "showlegend": true,
         "type": "scatter",
         "x": [
          8.518212376666535
         ],
         "xaxis": "x",
         "y": [
          -1.018628837715662
         ],
         "yaxis": "y"
        },
        {
         "hovertemplate": "color=Gemcitabine+Etoposide+1<br>0=%{x}<br>1=%{y}<extra></extra>",
         "legendgroup": "Gemcitabine+Etoposide+1",
         "marker": {
          "color": "#FF6692",
          "symbol": "circle"
         },
         "mode": "markers",
         "name": "Gemcitabine+Etoposide+1",
         "orientation": "v",
         "showlegend": true,
         "type": "scatter",
         "x": [
          8.819165642321883
         ],
         "xaxis": "x",
         "y": [
          -2.713134690613118
         ],
         "yaxis": "y"
        },
        {
         "hovertemplate": "color=Gemcitabine+Etoposide+2<br>0=%{x}<br>1=%{y}<extra></extra>",
         "legendgroup": "Gemcitabine+Etoposide+2",
         "marker": {
          "color": "#B6E880",
          "symbol": "circle"
         },
         "mode": "markers",
         "name": "Gemcitabine+Etoposide+2",
         "orientation": "v",
         "showlegend": true,
         "type": "scatter",
         "x": [
          6.177976440700697
         ],
         "xaxis": "x",
         "y": [
          -3.4039460297968605
         ],
         "yaxis": "y"
        },
        {
         "hovertemplate": "color=Gemcitabine+Etoposide+3<br>0=%{x}<br>1=%{y}<extra></extra>",
         "legendgroup": "Gemcitabine+Etoposide+3",
         "marker": {
          "color": "#FF97FF",
          "symbol": "circle"
         },
         "mode": "markers",
         "name": "Gemcitabine+Etoposide+3",
         "orientation": "v",
         "showlegend": true,
         "type": "scatter",
         "x": [
          8.927375996333286
         ],
         "xaxis": "x",
         "y": [
          -2.657339553252724
         ],
         "yaxis": "y"
        },
        {
         "hovertemplate": "color=Gemcitabine+Etoposide+4<br>0=%{x}<br>1=%{y}<extra></extra>",
         "legendgroup": "Gemcitabine+Etoposide+4",
         "marker": {
          "color": "#FECB52",
          "symbol": "circle"
         },
         "mode": "markers",
         "name": "Gemcitabine+Etoposide+4",
         "orientation": "v",
         "showlegend": true,
         "type": "scatter",
         "x": [
          8.248914338833202
         ],
         "xaxis": "x",
         "y": [
          -2.7689928541778794
         ],
         "yaxis": "y"
        },
        {
         "hovertemplate": "color=Gemcitabine+Etoposide+5<br>0=%{x}<br>1=%{y}<extra></extra>",
         "legendgroup": "Gemcitabine+Etoposide+5",
         "marker": {
          "color": "#636efa",
          "symbol": "circle"
         },
         "mode": "markers",
         "name": "Gemcitabine+Etoposide+5",
         "orientation": "v",
         "showlegend": true,
         "type": "scatter",
         "x": [
          7.083501506912437
         ],
         "xaxis": "x",
         "y": [
          -3.744383365488469
         ],
         "yaxis": "y"
        },
        {
         "hovertemplate": "color=Gemcitabine+Etoposide+6<br>0=%{x}<br>1=%{y}<extra></extra>",
         "legendgroup": "Gemcitabine+Etoposide+6",
         "marker": {
          "color": "#EF553B",
          "symbol": "circle"
         },
         "mode": "markers",
         "name": "Gemcitabine+Etoposide+6",
         "orientation": "v",
         "showlegend": true,
         "type": "scatter",
         "x": [
          8.270617738675178
         ],
         "xaxis": "x",
         "y": [
          -0.13679578671345494
         ],
         "yaxis": "y"
        },
        {
         "hovertemplate": "color=Etoposide+Etoposide+1<br>0=%{x}<br>1=%{y}<extra></extra>",
         "legendgroup": "Etoposide+Etoposide+1",
         "marker": {
          "color": "#00cc96",
          "symbol": "circle"
         },
         "mode": "markers",
         "name": "Etoposide+Etoposide+1",
         "orientation": "v",
         "showlegend": true,
         "type": "scatter",
         "x": [
          6.041847395015203
         ],
         "xaxis": "x",
         "y": [
          1.5327451813757793
         ],
         "yaxis": "y"
        },
        {
         "hovertemplate": "color=Etoposide+Etoposide+2<br>0=%{x}<br>1=%{y}<extra></extra>",
         "legendgroup": "Etoposide+Etoposide+2",
         "marker": {
          "color": "#ab63fa",
          "symbol": "circle"
         },
         "mode": "markers",
         "name": "Etoposide+Etoposide+2",
         "orientation": "v",
         "showlegend": true,
         "type": "scatter",
         "x": [
          7.675902434242116
         ],
         "xaxis": "x",
         "y": [
          -4.16805227374432
         ],
         "yaxis": "y"
        },
        {
         "hovertemplate": "color=Etoposide+Etoposide+3<br>0=%{x}<br>1=%{y}<extra></extra>",
         "legendgroup": "Etoposide+Etoposide+3",
         "marker": {
          "color": "#FFA15A",
          "symbol": "circle"
         },
         "mode": "markers",
         "name": "Etoposide+Etoposide+3",
         "orientation": "v",
         "showlegend": true,
         "type": "scatter",
         "x": [
          7.244311193840286
         ],
         "xaxis": "x",
         "y": [
          -4.0264857694696214
         ],
         "yaxis": "y"
        },
        {
         "hovertemplate": "color=Etoposide+Etoposide+4<br>0=%{x}<br>1=%{y}<extra></extra>",
         "legendgroup": "Etoposide+Etoposide+4",
         "marker": {
          "color": "#19d3f3",
          "symbol": "circle"
         },
         "mode": "markers",
         "name": "Etoposide+Etoposide+4",
         "orientation": "v",
         "showlegend": true,
         "type": "scatter",
         "x": [
          7.045314901063578
         ],
         "xaxis": "x",
         "y": [
          -0.5796082350716741
         ],
         "yaxis": "y"
        },
        {
         "hovertemplate": "color=Etoposide+Etoposide+5<br>0=%{x}<br>1=%{y}<extra></extra>",
         "legendgroup": "Etoposide+Etoposide+5",
         "marker": {
          "color": "#FF6692",
          "symbol": "circle"
         },
         "mode": "markers",
         "name": "Etoposide+Etoposide+5",
         "orientation": "v",
         "showlegend": true,
         "type": "scatter",
         "x": [
          6.82361804310602
         ],
         "xaxis": "x",
         "y": [
          -0.5946330915466131
         ],
         "yaxis": "y"
        },
        {
         "hovertemplate": "color=Etoposide+Etoposide+6<br>0=%{x}<br>1=%{y}<extra></extra>",
         "legendgroup": "Etoposide+Etoposide+6",
         "marker": {
          "color": "#B6E880",
          "symbol": "circle"
         },
         "mode": "markers",
         "name": "Etoposide+Etoposide+6",
         "orientation": "v",
         "showlegend": true,
         "type": "scatter",
         "x": [
          8.786044957935411
         ],
         "xaxis": "x",
         "y": [
          -4.31776002549115
         ],
         "yaxis": "y"
        },
        {
         "hovertemplate": "color=Gemcitabine+Gemcitabine+1<br>0=%{x}<br>1=%{y}<extra></extra>",
         "legendgroup": "Gemcitabine+Gemcitabine+1",
         "marker": {
          "color": "#FF97FF",
          "symbol": "circle"
         },
         "mode": "markers",
         "name": "Gemcitabine+Gemcitabine+1",
         "orientation": "v",
         "showlegend": true,
         "type": "scatter",
         "x": [
          7.456598019776022
         ],
         "xaxis": "x",
         "y": [
          -2.856400140115913
         ],
         "yaxis": "y"
        },
        {
         "hovertemplate": "color=Gemcitabine+Gemcitabine+2<br>0=%{x}<br>1=%{y}<extra></extra>",
         "legendgroup": "Gemcitabine+Gemcitabine+2",
         "marker": {
          "color": "#FECB52",
          "symbol": "circle"
         },
         "mode": "markers",
         "name": "Gemcitabine+Gemcitabine+2",
         "orientation": "v",
         "showlegend": true,
         "type": "scatter",
         "x": [
          8.187841189311706
         ],
         "xaxis": "x",
         "y": [
          -2.3666260216740826
         ],
         "yaxis": "y"
        },
        {
         "hovertemplate": "color=Gemcitabine+Gemcitabine+3<br>0=%{x}<br>1=%{y}<extra></extra>",
         "legendgroup": "Gemcitabine+Gemcitabine+3",
         "marker": {
          "color": "#636efa",
          "symbol": "circle"
         },
         "mode": "markers",
         "name": "Gemcitabine+Gemcitabine+3",
         "orientation": "v",
         "showlegend": true,
         "type": "scatter",
         "x": [
          9.2704494206758
         ],
         "xaxis": "x",
         "y": [
          -1.9317857763104516
         ],
         "yaxis": "y"
        },
        {
         "hovertemplate": "color=Gemcitabine+Gemcitabine+4<br>0=%{x}<br>1=%{y}<extra></extra>",
         "legendgroup": "Gemcitabine+Gemcitabine+4",
         "marker": {
          "color": "#EF553B",
          "symbol": "circle"
         },
         "mode": "markers",
         "name": "Gemcitabine+Gemcitabine+4",
         "orientation": "v",
         "showlegend": true,
         "type": "scatter",
         "x": [
          10.719272820363859
         ],
         "xaxis": "x",
         "y": [
          -1.340134555604034
         ],
         "yaxis": "y"
        },
        {
         "hovertemplate": "color=Gemcitabine+Gemcitabine+5<br>0=%{x}<br>1=%{y}<extra></extra>",
         "legendgroup": "Gemcitabine+Gemcitabine+5",
         "marker": {
          "color": "#00cc96",
          "symbol": "circle"
         },
         "mode": "markers",
         "name": "Gemcitabine+Gemcitabine+5",
         "orientation": "v",
         "showlegend": true,
         "type": "scatter",
         "x": [
          7.399157446456182
         ],
         "xaxis": "x",
         "y": [
          -2.3105706212860766
         ],
         "yaxis": "y"
        },
        {
         "hovertemplate": "color=Gemcitabine+Gemcitabine+6<br>0=%{x}<br>1=%{y}<extra></extra>",
         "legendgroup": "Gemcitabine+Gemcitabine+6",
         "marker": {
          "color": "#ab63fa",
          "symbol": "circle"
         },
         "mode": "markers",
         "name": "Gemcitabine+Gemcitabine+6",
         "orientation": "v",
         "showlegend": true,
         "type": "scatter",
         "x": [
          7.73198490923529
         ],
         "xaxis": "x",
         "y": [
          -1.8229699921757858
         ],
         "yaxis": "y"
        },
        {
         "hovertemplate": "color=Paclitaxel+Vinblastine+1<br>0=%{x}<br>1=%{y}<extra></extra>",
         "legendgroup": "Paclitaxel+Vinblastine+1",
         "marker": {
          "color": "#FFA15A",
          "symbol": "circle"
         },
         "mode": "markers",
         "name": "Paclitaxel+Vinblastine+1",
         "orientation": "v",
         "showlegend": true,
         "type": "scatter",
         "x": [
          4.37902142386344
         ],
         "xaxis": "x",
         "y": [
          9.670000546786822
         ],
         "yaxis": "y"
        },
        {
         "hovertemplate": "color=Paclitaxel+Vinblastine+2<br>0=%{x}<br>1=%{y}<extra></extra>",
         "legendgroup": "Paclitaxel+Vinblastine+2",
         "marker": {
          "color": "#19d3f3",
          "symbol": "circle"
         },
         "mode": "markers",
         "name": "Paclitaxel+Vinblastine+2",
         "orientation": "v",
         "showlegend": true,
         "type": "scatter",
         "x": [
          6.288810364348629
         ],
         "xaxis": "x",
         "y": [
          10.011117109152206
         ],
         "yaxis": "y"
        },
        {
         "hovertemplate": "color=Paclitaxel+Vinblastine+3<br>0=%{x}<br>1=%{y}<extra></extra>",
         "legendgroup": "Paclitaxel+Vinblastine+3",
         "marker": {
          "color": "#FF6692",
          "symbol": "circle"
         },
         "mode": "markers",
         "name": "Paclitaxel+Vinblastine+3",
         "orientation": "v",
         "showlegend": true,
         "type": "scatter",
         "x": [
          4.476147633915853
         ],
         "xaxis": "x",
         "y": [
          9.9038486223059
         ],
         "yaxis": "y"
        },
        {
         "hovertemplate": "color=Paclitaxel+Vinblastine+4<br>0=%{x}<br>1=%{y}<extra></extra>",
         "legendgroup": "Paclitaxel+Vinblastine+4",
         "marker": {
          "color": "#B6E880",
          "symbol": "circle"
         },
         "mode": "markers",
         "name": "Paclitaxel+Vinblastine+4",
         "orientation": "v",
         "showlegend": true,
         "type": "scatter",
         "x": [
          5.405346476971256
         ],
         "xaxis": "x",
         "y": [
          9.970713783876622
         ],
         "yaxis": "y"
        },
        {
         "hovertemplate": "color=Paclitaxel+Vinblastine+5<br>0=%{x}<br>1=%{y}<extra></extra>",
         "legendgroup": "Paclitaxel+Vinblastine+5",
         "marker": {
          "color": "#FF97FF",
          "symbol": "circle"
         },
         "mode": "markers",
         "name": "Paclitaxel+Vinblastine+5",
         "orientation": "v",
         "showlegend": true,
         "type": "scatter",
         "x": [
          4.818955247612536
         ],
         "xaxis": "x",
         "y": [
          8.366545768704178
         ],
         "yaxis": "y"
        },
        {
         "hovertemplate": "color=Paclitaxel+Vinblastine+6<br>0=%{x}<br>1=%{y}<extra></extra>",
         "legendgroup": "Paclitaxel+Vinblastine+6",
         "marker": {
          "color": "#FECB52",
          "symbol": "circle"
         },
         "mode": "markers",
         "name": "Paclitaxel+Vinblastine+6",
         "orientation": "v",
         "showlegend": true,
         "type": "scatter",
         "x": [
          5.424625955558797
         ],
         "xaxis": "x",
         "y": [
          8.476299378061743
         ],
         "yaxis": "y"
        },
        {
         "hovertemplate": "color=Vinblastine+Paclitaxel+1<br>0=%{x}<br>1=%{y}<extra></extra>",
         "legendgroup": "Vinblastine+Paclitaxel+1",
         "marker": {
          "color": "#636efa",
          "symbol": "circle"
         },
         "mode": "markers",
         "name": "Vinblastine+Paclitaxel+1",
         "orientation": "v",
         "showlegend": true,
         "type": "scatter",
         "x": [
          4.710665401973141
         ],
         "xaxis": "x",
         "y": [
          10.676093877255111
         ],
         "yaxis": "y"
        },
        {
         "hovertemplate": "color=Vinblastine+Paclitaxel+2<br>0=%{x}<br>1=%{y}<extra></extra>",
         "legendgroup": "Vinblastine+Paclitaxel+2",
         "marker": {
          "color": "#EF553B",
          "symbol": "circle"
         },
         "mode": "markers",
         "name": "Vinblastine+Paclitaxel+2",
         "orientation": "v",
         "showlegend": true,
         "type": "scatter",
         "x": [
          5.12339903890972
         ],
         "xaxis": "x",
         "y": [
          9.898667712864217
         ],
         "yaxis": "y"
        },
        {
         "hovertemplate": "color=Vinblastine+Paclitaxel+3<br>0=%{x}<br>1=%{y}<extra></extra>",
         "legendgroup": "Vinblastine+Paclitaxel+3",
         "marker": {
          "color": "#00cc96",
          "symbol": "circle"
         },
         "mode": "markers",
         "name": "Vinblastine+Paclitaxel+3",
         "orientation": "v",
         "showlegend": true,
         "type": "scatter",
         "x": [
          4.079360745993147
         ],
         "xaxis": "x",
         "y": [
          9.400394131467406
         ],
         "yaxis": "y"
        },
        {
         "hovertemplate": "color=Vinblastine+Paclitaxel+4<br>0=%{x}<br>1=%{y}<extra></extra>",
         "legendgroup": "Vinblastine+Paclitaxel+4",
         "marker": {
          "color": "#ab63fa",
          "symbol": "circle"
         },
         "mode": "markers",
         "name": "Vinblastine+Paclitaxel+4",
         "orientation": "v",
         "showlegend": true,
         "type": "scatter",
         "x": [
          5.503621618055392
         ],
         "xaxis": "x",
         "y": [
          9.058004194278107
         ],
         "yaxis": "y"
        },
        {
         "hovertemplate": "color=Vinblastine+Paclitaxel+5<br>0=%{x}<br>1=%{y}<extra></extra>",
         "legendgroup": "Vinblastine+Paclitaxel+5",
         "marker": {
          "color": "#FFA15A",
          "symbol": "circle"
         },
         "mode": "markers",
         "name": "Vinblastine+Paclitaxel+5",
         "orientation": "v",
         "showlegend": true,
         "type": "scatter",
         "x": [
          6.7674449610310035
         ],
         "xaxis": "x",
         "y": [
          8.808047084475255
         ],
         "yaxis": "y"
        },
        {
         "hovertemplate": "color=Vinblastine+Paclitaxel+6<br>0=%{x}<br>1=%{y}<extra></extra>",
         "legendgroup": "Vinblastine+Paclitaxel+6",
         "marker": {
          "color": "#19d3f3",
          "symbol": "circle"
         },
         "mode": "markers",
         "name": "Vinblastine+Paclitaxel+6",
         "orientation": "v",
         "showlegend": true,
         "type": "scatter",
         "x": [
          3.0454808118481536
         ],
         "xaxis": "x",
         "y": [
          10.344382786372208
         ],
         "yaxis": "y"
        },
        {
         "hovertemplate": "color=Paclitaxel+Paclitaxel+1<br>0=%{x}<br>1=%{y}<extra></extra>",
         "legendgroup": "Paclitaxel+Paclitaxel+1",
         "marker": {
          "color": "#FF6692",
          "symbol": "circle"
         },
         "mode": "markers",
         "name": "Paclitaxel+Paclitaxel+1",
         "orientation": "v",
         "showlegend": true,
         "type": "scatter",
         "x": [
          5.828844233426251
         ],
         "xaxis": "x",
         "y": [
          10.0501389998119
         ],
         "yaxis": "y"
        },
        {
         "hovertemplate": "color=Paclitaxel+Paclitaxel+2<br>0=%{x}<br>1=%{y}<extra></extra>",
         "legendgroup": "Paclitaxel+Paclitaxel+2",
         "marker": {
          "color": "#B6E880",
          "symbol": "circle"
         },
         "mode": "markers",
         "name": "Paclitaxel+Paclitaxel+2",
         "orientation": "v",
         "showlegend": true,
         "type": "scatter",
         "x": [
          4.876548389832248
         ],
         "xaxis": "x",
         "y": [
          8.898080615761774
         ],
         "yaxis": "y"
        },
        {
         "hovertemplate": "color=Paclitaxel+Paclitaxel+3<br>0=%{x}<br>1=%{y}<extra></extra>",
         "legendgroup": "Paclitaxel+Paclitaxel+3",
         "marker": {
          "color": "#FF97FF",
          "symbol": "circle"
         },
         "mode": "markers",
         "name": "Paclitaxel+Paclitaxel+3",
         "orientation": "v",
         "showlegend": true,
         "type": "scatter",
         "x": [
          5.5338665590049585
         ],
         "xaxis": "x",
         "y": [
          10.308650103754411
         ],
         "yaxis": "y"
        },
        {
         "hovertemplate": "color=Paclitaxel+Paclitaxel+4<br>0=%{x}<br>1=%{y}<extra></extra>",
         "legendgroup": "Paclitaxel+Paclitaxel+4",
         "marker": {
          "color": "#FECB52",
          "symbol": "circle"
         },
         "mode": "markers",
         "name": "Paclitaxel+Paclitaxel+4",
         "orientation": "v",
         "showlegend": true,
         "type": "scatter",
         "x": [
          4.6149432016935075
         ],
         "xaxis": "x",
         "y": [
          9.343227395792614
         ],
         "yaxis": "y"
        },
        {
         "hovertemplate": "color=Paclitaxel+Paclitaxel+5<br>0=%{x}<br>1=%{y}<extra></extra>",
         "legendgroup": "Paclitaxel+Paclitaxel+5",
         "marker": {
          "color": "#636efa",
          "symbol": "circle"
         },
         "mode": "markers",
         "name": "Paclitaxel+Paclitaxel+5",
         "orientation": "v",
         "showlegend": true,
         "type": "scatter",
         "x": [
          5.185143105964812
         ],
         "xaxis": "x",
         "y": [
          10.14563375888503
         ],
         "yaxis": "y"
        },
        {
         "hovertemplate": "color=Paclitaxel+Paclitaxel+6<br>0=%{x}<br>1=%{y}<extra></extra>",
         "legendgroup": "Paclitaxel+Paclitaxel+6",
         "marker": {
          "color": "#EF553B",
          "symbol": "circle"
         },
         "mode": "markers",
         "name": "Paclitaxel+Paclitaxel+6",
         "orientation": "v",
         "showlegend": true,
         "type": "scatter",
         "x": [
          4.962813287874296
         ],
         "xaxis": "x",
         "y": [
          8.697420254392062
         ],
         "yaxis": "y"
        },
        {
         "hovertemplate": "color=Vinblastine+Vinblastine+1<br>0=%{x}<br>1=%{y}<extra></extra>",
         "legendgroup": "Vinblastine+Vinblastine+1",
         "marker": {
          "color": "#00cc96",
          "symbol": "circle"
         },
         "mode": "markers",
         "name": "Vinblastine+Vinblastine+1",
         "orientation": "v",
         "showlegend": true,
         "type": "scatter",
         "x": [
          5.5993122808349955
         ],
         "xaxis": "x",
         "y": [
          9.91891329570643
         ],
         "yaxis": "y"
        },
        {
         "hovertemplate": "color=Vinblastine+Vinblastine+2<br>0=%{x}<br>1=%{y}<extra></extra>",
         "legendgroup": "Vinblastine+Vinblastine+2",
         "marker": {
          "color": "#ab63fa",
          "symbol": "circle"
         },
         "mode": "markers",
         "name": "Vinblastine+Vinblastine+2",
         "orientation": "v",
         "showlegend": true,
         "type": "scatter",
         "x": [
          4.157224971419363
         ],
         "xaxis": "x",
         "y": [
          11.492576789956965
         ],
         "yaxis": "y"
        },
        {
         "hovertemplate": "color=Vinblastine+Vinblastine+3<br>0=%{x}<br>1=%{y}<extra></extra>",
         "legendgroup": "Vinblastine+Vinblastine+3",
         "marker": {
          "color": "#FFA15A",
          "symbol": "circle"
         },
         "mode": "markers",
         "name": "Vinblastine+Vinblastine+3",
         "orientation": "v",
         "showlegend": true,
         "type": "scatter",
         "x": [
          3.4695836167137974
         ],
         "xaxis": "x",
         "y": [
          11.177784824026501
         ],
         "yaxis": "y"
        },
        {
         "hovertemplate": "color=Vinblastine+Vinblastine+4<br>0=%{x}<br>1=%{y}<extra></extra>",
         "legendgroup": "Vinblastine+Vinblastine+4",
         "marker": {
          "color": "#19d3f3",
          "symbol": "circle"
         },
         "mode": "markers",
         "name": "Vinblastine+Vinblastine+4",
         "orientation": "v",
         "showlegend": true,
         "type": "scatter",
         "x": [
          5.749216415662241
         ],
         "xaxis": "x",
         "y": [
          9.395292681509515
         ],
         "yaxis": "y"
        },
        {
         "hovertemplate": "color=Vinblastine+Vinblastine+5<br>0=%{x}<br>1=%{y}<extra></extra>",
         "legendgroup": "Vinblastine+Vinblastine+5",
         "marker": {
          "color": "#FF6692",
          "symbol": "circle"
         },
         "mode": "markers",
         "name": "Vinblastine+Vinblastine+5",
         "orientation": "v",
         "showlegend": true,
         "type": "scatter",
         "x": [
          5.473776568468917
         ],
         "xaxis": "x",
         "y": [
          8.823077634553378
         ],
         "yaxis": "y"
        },
        {
         "hovertemplate": "color=Vinblastine+Vinblastine+6<br>0=%{x}<br>1=%{y}<extra></extra>",
         "legendgroup": "Vinblastine+Vinblastine+6",
         "marker": {
          "color": "#B6E880",
          "symbol": "circle"
         },
         "mode": "markers",
         "name": "Vinblastine+Vinblastine+6",
         "orientation": "v",
         "showlegend": true,
         "type": "scatter",
         "x": [
          2.726587629688267
         ],
         "xaxis": "x",
         "y": [
          10.061510368362326
         ],
         "yaxis": "y"
        },
        {
         "hovertemplate": "color=17AAG+AUY922+1<br>0=%{x}<br>1=%{y}<extra></extra>",
         "legendgroup": "17AAG+AUY922+1",
         "marker": {
          "color": "#FF97FF",
          "symbol": "circle"
         },
         "mode": "markers",
         "name": "17AAG+AUY922+1",
         "orientation": "v",
         "showlegend": true,
         "type": "scatter",
         "x": [
          4.595708206693748
         ],
         "xaxis": "x",
         "y": [
          -3.7393303416015713
         ],
         "yaxis": "y"
        },
        {
         "hovertemplate": "color=17AAG+AUY922+2<br>0=%{x}<br>1=%{y}<extra></extra>",
         "legendgroup": "17AAG+AUY922+2",
         "marker": {
          "color": "#FECB52",
          "symbol": "circle"
         },
         "mode": "markers",
         "name": "17AAG+AUY922+2",
         "orientation": "v",
         "showlegend": true,
         "type": "scatter",
         "x": [
          5.756317758261645
         ],
         "xaxis": "x",
         "y": [
          -2.4789337051046276
         ],
         "yaxis": "y"
        },
        {
         "hovertemplate": "color=17AAG+AUY922+3<br>0=%{x}<br>1=%{y}<extra></extra>",
         "legendgroup": "17AAG+AUY922+3",
         "marker": {
          "color": "#636efa",
          "symbol": "circle"
         },
         "mode": "markers",
         "name": "17AAG+AUY922+3",
         "orientation": "v",
         "showlegend": true,
         "type": "scatter",
         "x": [
          4.9420042612740165
         ],
         "xaxis": "x",
         "y": [
          -3.7158754952113013
         ],
         "yaxis": "y"
        },
        {
         "hovertemplate": "color=17AAG+AUY922+4<br>0=%{x}<br>1=%{y}<extra></extra>",
         "legendgroup": "17AAG+AUY922+4",
         "marker": {
          "color": "#EF553B",
          "symbol": "circle"
         },
         "mode": "markers",
         "name": "17AAG+AUY922+4",
         "orientation": "v",
         "showlegend": true,
         "type": "scatter",
         "x": [
          4.057987079919653
         ],
         "xaxis": "x",
         "y": [
          -5.0344199532632565
         ],
         "yaxis": "y"
        },
        {
         "hovertemplate": "color=17AAG+AUY922+5<br>0=%{x}<br>1=%{y}<extra></extra>",
         "legendgroup": "17AAG+AUY922+5",
         "marker": {
          "color": "#00cc96",
          "symbol": "circle"
         },
         "mode": "markers",
         "name": "17AAG+AUY922+5",
         "orientation": "v",
         "showlegend": true,
         "type": "scatter",
         "x": [
          4.52222132171452
         ],
         "xaxis": "x",
         "y": [
          -1.9178535727060058
         ],
         "yaxis": "y"
        },
        {
         "hovertemplate": "color=17AAG+AUY922+6<br>0=%{x}<br>1=%{y}<extra></extra>",
         "legendgroup": "17AAG+AUY922+6",
         "marker": {
          "color": "#ab63fa",
          "symbol": "circle"
         },
         "mode": "markers",
         "name": "17AAG+AUY922+6",
         "orientation": "v",
         "showlegend": true,
         "type": "scatter",
         "x": [
          4.6097706361086095
         ],
         "xaxis": "x",
         "y": [
          -1.5790462083791048
         ],
         "yaxis": "y"
        },
        {
         "hovertemplate": "color=AUY922+17AAG+1<br>0=%{x}<br>1=%{y}<extra></extra>",
         "legendgroup": "AUY922+17AAG+1",
         "marker": {
          "color": "#FFA15A",
          "symbol": "circle"
         },
         "mode": "markers",
         "name": "AUY922+17AAG+1",
         "orientation": "v",
         "showlegend": true,
         "type": "scatter",
         "x": [
          5.649655958614077
         ],
         "xaxis": "x",
         "y": [
          -3.2284969975012445
         ],
         "yaxis": "y"
        },
        {
         "hovertemplate": "color=AUY922+17AAG+2<br>0=%{x}<br>1=%{y}<extra></extra>",
         "legendgroup": "AUY922+17AAG+2",
         "marker": {
          "color": "#19d3f3",
          "symbol": "circle"
         },
         "mode": "markers",
         "name": "AUY922+17AAG+2",
         "orientation": "v",
         "showlegend": true,
         "type": "scatter",
         "x": [
          3.8693930240655248
         ],
         "xaxis": "x",
         "y": [
          -2.354826827196015
         ],
         "yaxis": "y"
        },
        {
         "hovertemplate": "color=AUY922+17AAG+3<br>0=%{x}<br>1=%{y}<extra></extra>",
         "legendgroup": "AUY922+17AAG+3",
         "marker": {
          "color": "#FF6692",
          "symbol": "circle"
         },
         "mode": "markers",
         "name": "AUY922+17AAG+3",
         "orientation": "v",
         "showlegend": true,
         "type": "scatter",
         "x": [
          7.051609185710133
         ],
         "xaxis": "x",
         "y": [
          -1.8161695851729793
         ],
         "yaxis": "y"
        },
        {
         "hovertemplate": "color=AUY922+17AAG+4<br>0=%{x}<br>1=%{y}<extra></extra>",
         "legendgroup": "AUY922+17AAG+4",
         "marker": {
          "color": "#B6E880",
          "symbol": "circle"
         },
         "mode": "markers",
         "name": "AUY922+17AAG+4",
         "orientation": "v",
         "showlegend": true,
         "type": "scatter",
         "x": [
          5.121383519146105
         ],
         "xaxis": "x",
         "y": [
          -4.239975593488962
         ],
         "yaxis": "y"
        },
        {
         "hovertemplate": "color=AUY922+17AAG+5<br>0=%{x}<br>1=%{y}<extra></extra>",
         "legendgroup": "AUY922+17AAG+5",
         "marker": {
          "color": "#FF97FF",
          "symbol": "circle"
         },
         "mode": "markers",
         "name": "AUY922+17AAG+5",
         "orientation": "v",
         "showlegend": true,
         "type": "scatter",
         "x": [
          4.900346319070758
         ],
         "xaxis": "x",
         "y": [
          -2.9115595781674872
         ],
         "yaxis": "y"
        },
        {
         "hovertemplate": "color=AUY922+17AAG+6<br>0=%{x}<br>1=%{y}<extra></extra>",
         "legendgroup": "AUY922+17AAG+6",
         "marker": {
          "color": "#FECB52",
          "symbol": "circle"
         },
         "mode": "markers",
         "name": "AUY922+17AAG+6",
         "orientation": "v",
         "showlegend": true,
         "type": "scatter",
         "x": [
          3.8997217984162216
         ],
         "xaxis": "x",
         "y": [
          -2.531365258597309
         ],
         "yaxis": "y"
        },
        {
         "hovertemplate": "color=AUY922+AUY922+1<br>0=%{x}<br>1=%{y}<extra></extra>",
         "legendgroup": "AUY922+AUY922+1",
         "marker": {
          "color": "#636efa",
          "symbol": "circle"
         },
         "mode": "markers",
         "name": "AUY922+AUY922+1",
         "orientation": "v",
         "showlegend": true,
         "type": "scatter",
         "x": [
          4.244123059425892
         ],
         "xaxis": "x",
         "y": [
          -3.816425850519223
         ],
         "yaxis": "y"
        },
        {
         "hovertemplate": "color=AUY922+AUY922+2<br>0=%{x}<br>1=%{y}<extra></extra>",
         "legendgroup": "AUY922+AUY922+2",
         "marker": {
          "color": "#EF553B",
          "symbol": "circle"
         },
         "mode": "markers",
         "name": "AUY922+AUY922+2",
         "orientation": "v",
         "showlegend": true,
         "type": "scatter",
         "x": [
          6.640914668511456
         ],
         "xaxis": "x",
         "y": [
          -2.861406490295372
         ],
         "yaxis": "y"
        },
        {
         "hovertemplate": "color=AUY922+AUY922+3<br>0=%{x}<br>1=%{y}<extra></extra>",
         "legendgroup": "AUY922+AUY922+3",
         "marker": {
          "color": "#00cc96",
          "symbol": "circle"
         },
         "mode": "markers",
         "name": "AUY922+AUY922+3",
         "orientation": "v",
         "showlegend": true,
         "type": "scatter",
         "x": [
          5.246559736509435
         ],
         "xaxis": "x",
         "y": [
          -3.4686365793638445
         ],
         "yaxis": "y"
        },
        {
         "hovertemplate": "color=AUY922+AUY922+4<br>0=%{x}<br>1=%{y}<extra></extra>",
         "legendgroup": "AUY922+AUY922+4",
         "marker": {
          "color": "#ab63fa",
          "symbol": "circle"
         },
         "mode": "markers",
         "name": "AUY922+AUY922+4",
         "orientation": "v",
         "showlegend": true,
         "type": "scatter",
         "x": [
          4.763521625546068
         ],
         "xaxis": "x",
         "y": [
          -3.0030821301577926
         ],
         "yaxis": "y"
        },
        {
         "hovertemplate": "color=AUY922+AUY922+5<br>0=%{x}<br>1=%{y}<extra></extra>",
         "legendgroup": "AUY922+AUY922+5",
         "marker": {
          "color": "#FFA15A",
          "symbol": "circle"
         },
         "mode": "markers",
         "name": "AUY922+AUY922+5",
         "orientation": "v",
         "showlegend": true,
         "type": "scatter",
         "x": [
          6.382997683593051
         ],
         "xaxis": "x",
         "y": [
          -3.8321585637508
         ],
         "yaxis": "y"
        },
        {
         "hovertemplate": "color=AUY922+AUY922+6<br>0=%{x}<br>1=%{y}<extra></extra>",
         "legendgroup": "AUY922+AUY922+6",
         "marker": {
          "color": "#19d3f3",
          "symbol": "circle"
         },
         "mode": "markers",
         "name": "AUY922+AUY922+6",
         "orientation": "v",
         "showlegend": true,
         "type": "scatter",
         "x": [
          4.2003360729709005
         ],
         "xaxis": "x",
         "y": [
          -4.01968083127013
         ],
         "yaxis": "y"
        },
        {
         "hovertemplate": "color=17AAG+17AAG+1<br>0=%{x}<br>1=%{y}<extra></extra>",
         "legendgroup": "17AAG+17AAG+1",
         "marker": {
          "color": "#FF6692",
          "symbol": "circle"
         },
         "mode": "markers",
         "name": "17AAG+17AAG+1",
         "orientation": "v",
         "showlegend": true,
         "type": "scatter",
         "x": [
          5.474052976207674
         ],
         "xaxis": "x",
         "y": [
          -4.089214587851787
         ],
         "yaxis": "y"
        },
        {
         "hovertemplate": "color=17AAG+17AAG+2<br>0=%{x}<br>1=%{y}<extra></extra>",
         "legendgroup": "17AAG+17AAG+2",
         "marker": {
          "color": "#B6E880",
          "symbol": "circle"
         },
         "mode": "markers",
         "name": "17AAG+17AAG+2",
         "orientation": "v",
         "showlegend": true,
         "type": "scatter",
         "x": [
          5.23822322722541
         ],
         "xaxis": "x",
         "y": [
          -2.9076092298575014
         ],
         "yaxis": "y"
        },
        {
         "hovertemplate": "color=17AAG+17AAG+3<br>0=%{x}<br>1=%{y}<extra></extra>",
         "legendgroup": "17AAG+17AAG+3",
         "marker": {
          "color": "#FF97FF",
          "symbol": "circle"
         },
         "mode": "markers",
         "name": "17AAG+17AAG+3",
         "orientation": "v",
         "showlegend": true,
         "type": "scatter",
         "x": [
          5.154810437221072
         ],
         "xaxis": "x",
         "y": [
          -3.0996236787078306
         ],
         "yaxis": "y"
        },
        {
         "hovertemplate": "color=17AAG+17AAG+4<br>0=%{x}<br>1=%{y}<extra></extra>",
         "legendgroup": "17AAG+17AAG+4",
         "marker": {
          "color": "#FECB52",
          "symbol": "circle"
         },
         "mode": "markers",
         "name": "17AAG+17AAG+4",
         "orientation": "v",
         "showlegend": true,
         "type": "scatter",
         "x": [
          5.365114970386017
         ],
         "xaxis": "x",
         "y": [
          -2.936168190793879
         ],
         "yaxis": "y"
        },
        {
         "hovertemplate": "color=17AAG+17AAG+5<br>0=%{x}<br>1=%{y}<extra></extra>",
         "legendgroup": "17AAG+17AAG+5",
         "marker": {
          "color": "#636efa",
          "symbol": "circle"
         },
         "mode": "markers",
         "name": "17AAG+17AAG+5",
         "orientation": "v",
         "showlegend": true,
         "type": "scatter",
         "x": [
          5.96788648096103
         ],
         "xaxis": "x",
         "y": [
          -3.739471451643209
         ],
         "yaxis": "y"
        },
        {
         "hovertemplate": "color=17AAG+17AAG+6<br>0=%{x}<br>1=%{y}<extra></extra>",
         "legendgroup": "17AAG+17AAG+6",
         "marker": {
          "color": "#EF553B",
          "symbol": "circle"
         },
         "mode": "markers",
         "name": "17AAG+17AAG+6",
         "orientation": "v",
         "showlegend": true,
         "type": "scatter",
         "x": [
          5.375643791746703
         ],
         "xaxis": "x",
         "y": [
          -1.516252817473466
         ],
         "yaxis": "y"
        },
        {
         "hovertemplate": "color=MG132+PS341+1<br>0=%{x}<br>1=%{y}<extra></extra>",
         "legendgroup": "MG132+PS341+1",
         "marker": {
          "color": "#00cc96",
          "symbol": "circle"
         },
         "mode": "markers",
         "name": "MG132+PS341+1",
         "orientation": "v",
         "showlegend": true,
         "type": "scatter",
         "x": [
          2.267568181158817
         ],
         "xaxis": "x",
         "y": [
          2.769863227409199
         ],
         "yaxis": "y"
        },
        {
         "hovertemplate": "color=MG132+PS341+2<br>0=%{x}<br>1=%{y}<extra></extra>",
         "legendgroup": "MG132+PS341+2",
         "marker": {
          "color": "#ab63fa",
          "symbol": "circle"
         },
         "mode": "markers",
         "name": "MG132+PS341+2",
         "orientation": "v",
         "showlegend": true,
         "type": "scatter",
         "x": [
          2.2606270657819096
         ],
         "xaxis": "x",
         "y": [
          2.8018089847518564
         ],
         "yaxis": "y"
        },
        {
         "hovertemplate": "color=MG132+PS341+3<br>0=%{x}<br>1=%{y}<extra></extra>",
         "legendgroup": "MG132+PS341+3",
         "marker": {
          "color": "#FFA15A",
          "symbol": "circle"
         },
         "mode": "markers",
         "name": "MG132+PS341+3",
         "orientation": "v",
         "showlegend": true,
         "type": "scatter",
         "x": [
          1.259031685131692
         ],
         "xaxis": "x",
         "y": [
          2.3363138863314696
         ],
         "yaxis": "y"
        },
        {
         "hovertemplate": "color=MG132+PS341+4<br>0=%{x}<br>1=%{y}<extra></extra>",
         "legendgroup": "MG132+PS341+4",
         "marker": {
          "color": "#19d3f3",
          "symbol": "circle"
         },
         "mode": "markers",
         "name": "MG132+PS341+4",
         "orientation": "v",
         "showlegend": true,
         "type": "scatter",
         "x": [
          2.0894712766235313
         ],
         "xaxis": "x",
         "y": [
          0.5808867132378464
         ],
         "yaxis": "y"
        },
        {
         "hovertemplate": "color=MG132+PS341+5<br>0=%{x}<br>1=%{y}<extra></extra>",
         "legendgroup": "MG132+PS341+5",
         "marker": {
          "color": "#FF6692",
          "symbol": "circle"
         },
         "mode": "markers",
         "name": "MG132+PS341+5",
         "orientation": "v",
         "showlegend": true,
         "type": "scatter",
         "x": [
          2.579021099235659
         ],
         "xaxis": "x",
         "y": [
          4.962261705661242
         ],
         "yaxis": "y"
        },
        {
         "hovertemplate": "color=MG132+PS341+6<br>0=%{x}<br>1=%{y}<extra></extra>",
         "legendgroup": "MG132+PS341+6",
         "marker": {
          "color": "#B6E880",
          "symbol": "circle"
         },
         "mode": "markers",
         "name": "MG132+PS341+6",
         "orientation": "v",
         "showlegend": true,
         "type": "scatter",
         "x": [
          2.8905485721097497
         ],
         "xaxis": "x",
         "y": [
          0.842993917190198
         ],
         "yaxis": "y"
        },
        {
         "hovertemplate": "color=PS341+MG132+1<br>0=%{x}<br>1=%{y}<extra></extra>",
         "legendgroup": "PS341+MG132+1",
         "marker": {
          "color": "#FF97FF",
          "symbol": "circle"
         },
         "mode": "markers",
         "name": "PS341+MG132+1",
         "orientation": "v",
         "showlegend": true,
         "type": "scatter",
         "x": [
          2.242304074789433
         ],
         "xaxis": "x",
         "y": [
          2.1441676370060194
         ],
         "yaxis": "y"
        },
        {
         "hovertemplate": "color=PS341+MG132+2<br>0=%{x}<br>1=%{y}<extra></extra>",
         "legendgroup": "PS341+MG132+2",
         "marker": {
          "color": "#FECB52",
          "symbol": "circle"
         },
         "mode": "markers",
         "name": "PS341+MG132+2",
         "orientation": "v",
         "showlegend": true,
         "type": "scatter",
         "x": [
          2.093074724527601
         ],
         "xaxis": "x",
         "y": [
          2.692796922375987
         ],
         "yaxis": "y"
        },
        {
         "hovertemplate": "color=PS341+MG132+3<br>0=%{x}<br>1=%{y}<extra></extra>",
         "legendgroup": "PS341+MG132+3",
         "marker": {
          "color": "#636efa",
          "symbol": "circle"
         },
         "mode": "markers",
         "name": "PS341+MG132+3",
         "orientation": "v",
         "showlegend": true,
         "type": "scatter",
         "x": [
          2.256213647140945
         ],
         "xaxis": "x",
         "y": [
          2.0932449142583356
         ],
         "yaxis": "y"
        },
        {
         "hovertemplate": "color=PS341+MG132+4<br>0=%{x}<br>1=%{y}<extra></extra>",
         "legendgroup": "PS341+MG132+4",
         "marker": {
          "color": "#EF553B",
          "symbol": "circle"
         },
         "mode": "markers",
         "name": "PS341+MG132+4",
         "orientation": "v",
         "showlegend": true,
         "type": "scatter",
         "x": [
          1.2393428546872207
         ],
         "xaxis": "x",
         "y": [
          1.9398796716753195
         ],
         "yaxis": "y"
        },
        {
         "hovertemplate": "color=PS341+MG132+5<br>0=%{x}<br>1=%{y}<extra></extra>",
         "legendgroup": "PS341+MG132+5",
         "marker": {
          "color": "#00cc96",
          "symbol": "circle"
         },
         "mode": "markers",
         "name": "PS341+MG132+5",
         "orientation": "v",
         "showlegend": true,
         "type": "scatter",
         "x": [
          3.9612318905137216
         ],
         "xaxis": "x",
         "y": [
          1.140962634220741
         ],
         "yaxis": "y"
        },
        {
         "hovertemplate": "color=PS341+MG132+6<br>0=%{x}<br>1=%{y}<extra></extra>",
         "legendgroup": "PS341+MG132+6",
         "marker": {
          "color": "#ab63fa",
          "symbol": "circle"
         },
         "mode": "markers",
         "name": "PS341+MG132+6",
         "orientation": "v",
         "showlegend": true,
         "type": "scatter",
         "x": [
          -0.9392435938916269
         ],
         "xaxis": "x",
         "y": [
          0.9714841556398031
         ],
         "yaxis": "y"
        },
        {
         "hovertemplate": "color=MG132+MG132+1<br>0=%{x}<br>1=%{y}<extra></extra>",
         "legendgroup": "MG132+MG132+1",
         "marker": {
          "color": "#FFA15A",
          "symbol": "circle"
         },
         "mode": "markers",
         "name": "MG132+MG132+1",
         "orientation": "v",
         "showlegend": true,
         "type": "scatter",
         "x": [
          1.1917844034365175
         ],
         "xaxis": "x",
         "y": [
          2.5923863483536342
         ],
         "yaxis": "y"
        },
        {
         "hovertemplate": "color=MG132+MG132+2<br>0=%{x}<br>1=%{y}<extra></extra>",
         "legendgroup": "MG132+MG132+2",
         "marker": {
          "color": "#19d3f3",
          "symbol": "circle"
         },
         "mode": "markers",
         "name": "MG132+MG132+2",
         "orientation": "v",
         "showlegend": true,
         "type": "scatter",
         "x": [
          2.4817743249985864
         ],
         "xaxis": "x",
         "y": [
          1.6137345618968528
         ],
         "yaxis": "y"
        },
        {
         "hovertemplate": "color=MG132+MG132+3<br>0=%{x}<br>1=%{y}<extra></extra>",
         "legendgroup": "MG132+MG132+3",
         "marker": {
          "color": "#FF6692",
          "symbol": "circle"
         },
         "mode": "markers",
         "name": "MG132+MG132+3",
         "orientation": "v",
         "showlegend": true,
         "type": "scatter",
         "x": [
          1.5708123507881593
         ],
         "xaxis": "x",
         "y": [
          1.8629908163758857
         ],
         "yaxis": "y"
        },
        {
         "hovertemplate": "color=MG132+MG132+4<br>0=%{x}<br>1=%{y}<extra></extra>",
         "legendgroup": "MG132+MG132+4",
         "marker": {
          "color": "#B6E880",
          "symbol": "circle"
         },
         "mode": "markers",
         "name": "MG132+MG132+4",
         "orientation": "v",
         "showlegend": true,
         "type": "scatter",
         "x": [
          2.152734231117594
         ],
         "xaxis": "x",
         "y": [
          4.020521816617532
         ],
         "yaxis": "y"
        },
        {
         "hovertemplate": "color=MG132+MG132+5<br>0=%{x}<br>1=%{y}<extra></extra>",
         "legendgroup": "MG132+MG132+5",
         "marker": {
          "color": "#FF97FF",
          "symbol": "circle"
         },
         "mode": "markers",
         "name": "MG132+MG132+5",
         "orientation": "v",
         "showlegend": true,
         "type": "scatter",
         "x": [
          0.7559228949362238
         ],
         "xaxis": "x",
         "y": [
          1.6892902031956438
         ],
         "yaxis": "y"
        },
        {
         "hovertemplate": "color=MG132+MG132+6<br>0=%{x}<br>1=%{y}<extra></extra>",
         "legendgroup": "MG132+MG132+6",
         "marker": {
          "color": "#FECB52",
          "symbol": "circle"
         },
         "mode": "markers",
         "name": "MG132+MG132+6",
         "orientation": "v",
         "showlegend": true,
         "type": "scatter",
         "x": [
          2.3180782657441252
         ],
         "xaxis": "x",
         "y": [
          2.4631991469387677
         ],
         "yaxis": "y"
        },
        {
         "hovertemplate": "color=PS341+PS341+1<br>0=%{x}<br>1=%{y}<extra></extra>",
         "legendgroup": "PS341+PS341+1",
         "marker": {
          "color": "#636efa",
          "symbol": "circle"
         },
         "mode": "markers",
         "name": "PS341+PS341+1",
         "orientation": "v",
         "showlegend": true,
         "type": "scatter",
         "x": [
          2.733281372278582
         ],
         "xaxis": "x",
         "y": [
          2.7146568674404383
         ],
         "yaxis": "y"
        },
        {
         "hovertemplate": "color=PS341+PS341+2<br>0=%{x}<br>1=%{y}<extra></extra>",
         "legendgroup": "PS341+PS341+2",
         "marker": {
          "color": "#EF553B",
          "symbol": "circle"
         },
         "mode": "markers",
         "name": "PS341+PS341+2",
         "orientation": "v",
         "showlegend": true,
         "type": "scatter",
         "x": [
          1.956734892084005
         ],
         "xaxis": "x",
         "y": [
          1.298675451155417
         ],
         "yaxis": "y"
        },
        {
         "hovertemplate": "color=PS341+PS341+3<br>0=%{x}<br>1=%{y}<extra></extra>",
         "legendgroup": "PS341+PS341+3",
         "marker": {
          "color": "#00cc96",
          "symbol": "circle"
         },
         "mode": "markers",
         "name": "PS341+PS341+3",
         "orientation": "v",
         "showlegend": true,
         "type": "scatter",
         "x": [
          2.1220688016902316
         ],
         "xaxis": "x",
         "y": [
          1.7054702704112101
         ],
         "yaxis": "y"
        },
        {
         "hovertemplate": "color=PS341+PS341+4<br>0=%{x}<br>1=%{y}<extra></extra>",
         "legendgroup": "PS341+PS341+4",
         "marker": {
          "color": "#ab63fa",
          "symbol": "circle"
         },
         "mode": "markers",
         "name": "PS341+PS341+4",
         "orientation": "v",
         "showlegend": true,
         "type": "scatter",
         "x": [
          1.7453201241090415
         ],
         "xaxis": "x",
         "y": [
          3.612832927342352
         ],
         "yaxis": "y"
        },
        {
         "hovertemplate": "color=PS341+PS341+5<br>0=%{x}<br>1=%{y}<extra></extra>",
         "legendgroup": "PS341+PS341+5",
         "marker": {
          "color": "#FFA15A",
          "symbol": "circle"
         },
         "mode": "markers",
         "name": "PS341+PS341+5",
         "orientation": "v",
         "showlegend": true,
         "type": "scatter",
         "x": [
          2.2655689812405995
         ],
         "xaxis": "x",
         "y": [
          3.2075062167474657
         ],
         "yaxis": "y"
        },
        {
         "hovertemplate": "color=PS341+PS341+6<br>0=%{x}<br>1=%{y}<extra></extra>",
         "legendgroup": "PS341+PS341+6",
         "marker": {
          "color": "#19d3f3",
          "symbol": "circle"
         },
         "mode": "markers",
         "name": "PS341+PS341+6",
         "orientation": "v",
         "showlegend": true,
         "type": "scatter",
         "x": [
          0.8473520644518051
         ],
         "xaxis": "x",
         "y": [
          1.2189041173019068
         ],
         "yaxis": "y"
        },
        {
         "hovertemplate": "color=SAHA+Apicidin+1<br>0=%{x}<br>1=%{y}<extra></extra>",
         "legendgroup": "SAHA+Apicidin+1",
         "marker": {
          "color": "#FF6692",
          "symbol": "circle"
         },
         "mode": "markers",
         "name": "SAHA+Apicidin+1",
         "orientation": "v",
         "showlegend": true,
         "type": "scatter",
         "x": [
          5.223806171672795
         ],
         "xaxis": "x",
         "y": [
          -6.474807565099602
         ],
         "yaxis": "y"
        },
        {
         "hovertemplate": "color=SAHA+Apicidin+2<br>0=%{x}<br>1=%{y}<extra></extra>",
         "legendgroup": "SAHA+Apicidin+2",
         "marker": {
          "color": "#B6E880",
          "symbol": "circle"
         },
         "mode": "markers",
         "name": "SAHA+Apicidin+2",
         "orientation": "v",
         "showlegend": true,
         "type": "scatter",
         "x": [
          5.985521858310456
         ],
         "xaxis": "x",
         "y": [
          -4.906247400227792
         ],
         "yaxis": "y"
        },
        {
         "hovertemplate": "color=SAHA+Apicidin+3<br>0=%{x}<br>1=%{y}<extra></extra>",
         "legendgroup": "SAHA+Apicidin+3",
         "marker": {
          "color": "#FF97FF",
          "symbol": "circle"
         },
         "mode": "markers",
         "name": "SAHA+Apicidin+3",
         "orientation": "v",
         "showlegend": true,
         "type": "scatter",
         "x": [
          7.282290434186211
         ],
         "xaxis": "x",
         "y": [
          -7.3731696808885125
         ],
         "yaxis": "y"
        },
        {
         "hovertemplate": "color=SAHA+Apicidin+4<br>0=%{x}<br>1=%{y}<extra></extra>",
         "legendgroup": "SAHA+Apicidin+4",
         "marker": {
          "color": "#FECB52",
          "symbol": "circle"
         },
         "mode": "markers",
         "name": "SAHA+Apicidin+4",
         "orientation": "v",
         "showlegend": true,
         "type": "scatter",
         "x": [
          4.406175337405953
         ],
         "xaxis": "x",
         "y": [
          -4.976862302110158
         ],
         "yaxis": "y"
        },
        {
         "hovertemplate": "color=SAHA+Apicidin+5<br>0=%{x}<br>1=%{y}<extra></extra>",
         "legendgroup": "SAHA+Apicidin+5",
         "marker": {
          "color": "#636efa",
          "symbol": "circle"
         },
         "mode": "markers",
         "name": "SAHA+Apicidin+5",
         "orientation": "v",
         "showlegend": true,
         "type": "scatter",
         "x": [
          6.016458890708036
         ],
         "xaxis": "x",
         "y": [
          -3.770989009833584
         ],
         "yaxis": "y"
        },
        {
         "hovertemplate": "color=SAHA+Apicidin+6<br>0=%{x}<br>1=%{y}<extra></extra>",
         "legendgroup": "SAHA+Apicidin+6",
         "marker": {
          "color": "#EF553B",
          "symbol": "circle"
         },
         "mode": "markers",
         "name": "SAHA+Apicidin+6",
         "orientation": "v",
         "showlegend": true,
         "type": "scatter",
         "x": [
          4.574116166941118
         ],
         "xaxis": "x",
         "y": [
          -6.246388920982512
         ],
         "yaxis": "y"
        },
        {
         "hovertemplate": "color=Apicidin+SAHA+1<br>0=%{x}<br>1=%{y}<extra></extra>",
         "legendgroup": "Apicidin+SAHA+1",
         "marker": {
          "color": "#00cc96",
          "symbol": "circle"
         },
         "mode": "markers",
         "name": "Apicidin+SAHA+1",
         "orientation": "v",
         "showlegend": true,
         "type": "scatter",
         "x": [
          5.1883089552404495
         ],
         "xaxis": "x",
         "y": [
          -6.603793631805137
         ],
         "yaxis": "y"
        },
        {
         "hovertemplate": "color=Apicidin+SAHA+2<br>0=%{x}<br>1=%{y}<extra></extra>",
         "legendgroup": "Apicidin+SAHA+2",
         "marker": {
          "color": "#ab63fa",
          "symbol": "circle"
         },
         "mode": "markers",
         "name": "Apicidin+SAHA+2",
         "orientation": "v",
         "showlegend": true,
         "type": "scatter",
         "x": [
          6.71084170822139
         ],
         "xaxis": "x",
         "y": [
          -6.0701564353976645
         ],
         "yaxis": "y"
        },
        {
         "hovertemplate": "color=Apicidin+SAHA+3<br>0=%{x}<br>1=%{y}<extra></extra>",
         "legendgroup": "Apicidin+SAHA+3",
         "marker": {
          "color": "#FFA15A",
          "symbol": "circle"
         },
         "mode": "markers",
         "name": "Apicidin+SAHA+3",
         "orientation": "v",
         "showlegend": true,
         "type": "scatter",
         "x": [
          4.612595752815007
         ],
         "xaxis": "x",
         "y": [
          -6.269755910537328
         ],
         "yaxis": "y"
        },
        {
         "hovertemplate": "color=Apicidin+SAHA+4<br>0=%{x}<br>1=%{y}<extra></extra>",
         "legendgroup": "Apicidin+SAHA+4",
         "marker": {
          "color": "#19d3f3",
          "symbol": "circle"
         },
         "mode": "markers",
         "name": "Apicidin+SAHA+4",
         "orientation": "v",
         "showlegend": true,
         "type": "scatter",
         "x": [
          3.9641226931122615
         ],
         "xaxis": "x",
         "y": [
          -5.1623539905064
         ],
         "yaxis": "y"
        },
        {
         "hovertemplate": "color=Apicidin+SAHA+5<br>0=%{x}<br>1=%{y}<extra></extra>",
         "legendgroup": "Apicidin+SAHA+5",
         "marker": {
          "color": "#FF6692",
          "symbol": "circle"
         },
         "mode": "markers",
         "name": "Apicidin+SAHA+5",
         "orientation": "v",
         "showlegend": true,
         "type": "scatter",
         "x": [
          6.020199052404653
         ],
         "xaxis": "x",
         "y": [
          -6.857819025894777
         ],
         "yaxis": "y"
        },
        {
         "hovertemplate": "color=Apicidin+SAHA+6<br>0=%{x}<br>1=%{y}<extra></extra>",
         "legendgroup": "Apicidin+SAHA+6",
         "marker": {
          "color": "#B6E880",
          "symbol": "circle"
         },
         "mode": "markers",
         "name": "Apicidin+SAHA+6",
         "orientation": "v",
         "showlegend": true,
         "type": "scatter",
         "x": [
          4.841427481031644
         ],
         "xaxis": "x",
         "y": [
          -5.342306194653314
         ],
         "yaxis": "y"
        },
        {
         "hovertemplate": "color=Apicidin+Apicidin+1<br>0=%{x}<br>1=%{y}<extra></extra>",
         "legendgroup": "Apicidin+Apicidin+1",
         "marker": {
          "color": "#FF97FF",
          "symbol": "circle"
         },
         "mode": "markers",
         "name": "Apicidin+Apicidin+1",
         "orientation": "v",
         "showlegend": true,
         "type": "scatter",
         "x": [
          3.9992013486370572
         ],
         "xaxis": "x",
         "y": [
          -6.878048724727807
         ],
         "yaxis": "y"
        },
        {
         "hovertemplate": "color=Apicidin+Apicidin+2<br>0=%{x}<br>1=%{y}<extra></extra>",
         "legendgroup": "Apicidin+Apicidin+2",
         "marker": {
          "color": "#FECB52",
          "symbol": "circle"
         },
         "mode": "markers",
         "name": "Apicidin+Apicidin+2",
         "orientation": "v",
         "showlegend": true,
         "type": "scatter",
         "x": [
          5.323990903394028
         ],
         "xaxis": "x",
         "y": [
          -5.976648990392949
         ],
         "yaxis": "y"
        },
        {
         "hovertemplate": "color=Apicidin+Apicidin+3<br>0=%{x}<br>1=%{y}<extra></extra>",
         "legendgroup": "Apicidin+Apicidin+3",
         "marker": {
          "color": "#636efa",
          "symbol": "circle"
         },
         "mode": "markers",
         "name": "Apicidin+Apicidin+3",
         "orientation": "v",
         "showlegend": true,
         "type": "scatter",
         "x": [
          4.922974065045809
         ],
         "xaxis": "x",
         "y": [
          -6.1376495891607545
         ],
         "yaxis": "y"
        },
        {
         "hovertemplate": "color=Apicidin+Apicidin+4<br>0=%{x}<br>1=%{y}<extra></extra>",
         "legendgroup": "Apicidin+Apicidin+4",
         "marker": {
          "color": "#EF553B",
          "symbol": "circle"
         },
         "mode": "markers",
         "name": "Apicidin+Apicidin+4",
         "orientation": "v",
         "showlegend": true,
         "type": "scatter",
         "x": [
          5.4767723353166815
         ],
         "xaxis": "x",
         "y": [
          -4.910399079214451
         ],
         "yaxis": "y"
        },
        {
         "hovertemplate": "color=Apicidin+Apicidin+5<br>0=%{x}<br>1=%{y}<extra></extra>",
         "legendgroup": "Apicidin+Apicidin+5",
         "marker": {
          "color": "#00cc96",
          "symbol": "circle"
         },
         "mode": "markers",
         "name": "Apicidin+Apicidin+5",
         "orientation": "v",
         "showlegend": true,
         "type": "scatter",
         "x": [
          4.495142719693701
         ],
         "xaxis": "x",
         "y": [
          -6.541588873075007
         ],
         "yaxis": "y"
        },
        {
         "hovertemplate": "color=Apicidin+Apicidin+6<br>0=%{x}<br>1=%{y}<extra></extra>",
         "legendgroup": "Apicidin+Apicidin+6",
         "marker": {
          "color": "#ab63fa",
          "symbol": "circle"
         },
         "mode": "markers",
         "name": "Apicidin+Apicidin+6",
         "orientation": "v",
         "showlegend": true,
         "type": "scatter",
         "x": [
          6.3013646488007575
         ],
         "xaxis": "x",
         "y": [
          -6.075019478135432
         ],
         "yaxis": "y"
        },
        {
         "hovertemplate": "color=SAHA+SAHA+1<br>0=%{x}<br>1=%{y}<extra></extra>",
         "legendgroup": "SAHA+SAHA+1",
         "marker": {
          "color": "#FFA15A",
          "symbol": "circle"
         },
         "mode": "markers",
         "name": "SAHA+SAHA+1",
         "orientation": "v",
         "showlegend": true,
         "type": "scatter",
         "x": [
          5.336304071647618
         ],
         "xaxis": "x",
         "y": [
          -4.693241094030237
         ],
         "yaxis": "y"
        },
        {
         "hovertemplate": "color=SAHA+SAHA+2<br>0=%{x}<br>1=%{y}<extra></extra>",
         "legendgroup": "SAHA+SAHA+2",
         "marker": {
          "color": "#19d3f3",
          "symbol": "circle"
         },
         "mode": "markers",
         "name": "SAHA+SAHA+2",
         "orientation": "v",
         "showlegend": true,
         "type": "scatter",
         "x": [
          7.03043452404718
         ],
         "xaxis": "x",
         "y": [
          -5.024731791339437
         ],
         "yaxis": "y"
        },
        {
         "hovertemplate": "color=SAHA+SAHA+3<br>0=%{x}<br>1=%{y}<extra></extra>",
         "legendgroup": "SAHA+SAHA+3",
         "marker": {
          "color": "#FF6692",
          "symbol": "circle"
         },
         "mode": "markers",
         "name": "SAHA+SAHA+3",
         "orientation": "v",
         "showlegend": true,
         "type": "scatter",
         "x": [
          3.938543894497125
         ],
         "xaxis": "x",
         "y": [
          -6.96712713663207
         ],
         "yaxis": "y"
        },
        {
         "hovertemplate": "color=SAHA+SAHA+4<br>0=%{x}<br>1=%{y}<extra></extra>",
         "legendgroup": "SAHA+SAHA+4",
         "marker": {
          "color": "#B6E880",
          "symbol": "circle"
         },
         "mode": "markers",
         "name": "SAHA+SAHA+4",
         "orientation": "v",
         "showlegend": true,
         "type": "scatter",
         "x": [
          6.790509577891114
         ],
         "xaxis": "x",
         "y": [
          -6.184600995433991
         ],
         "yaxis": "y"
        },
        {
         "hovertemplate": "color=SAHA+SAHA+5<br>0=%{x}<br>1=%{y}<extra></extra>",
         "legendgroup": "SAHA+SAHA+5",
         "marker": {
          "color": "#FF97FF",
          "symbol": "circle"
         },
         "mode": "markers",
         "name": "SAHA+SAHA+5",
         "orientation": "v",
         "showlegend": true,
         "type": "scatter",
         "x": [
          6.870331569912066
         ],
         "xaxis": "x",
         "y": [
          -4.812304377088814
         ],
         "yaxis": "y"
        },
        {
         "hovertemplate": "color=SAHA+SAHA+6<br>0=%{x}<br>1=%{y}<extra></extra>",
         "legendgroup": "SAHA+SAHA+6",
         "marker": {
          "color": "#FECB52",
          "symbol": "circle"
         },
         "mode": "markers",
         "name": "SAHA+SAHA+6",
         "orientation": "v",
         "showlegend": true,
         "type": "scatter",
         "x": [
          4.703250450454726
         ],
         "xaxis": "x",
         "y": [
          -3.3727527344427424
         ],
         "yaxis": "y"
        },
        {
         "hovertemplate": "color=DMSO+DMSO+1<br>0=%{x}<br>1=%{y}<extra></extra>",
         "legendgroup": "DMSO+DMSO+1",
         "marker": {
          "color": "#636efa",
          "symbol": "circle"
         },
         "mode": "markers",
         "name": "DMSO+DMSO+1",
         "orientation": "v",
         "showlegend": true,
         "type": "scatter",
         "x": [
          -12.174228093268791,
          -11.86939847258853,
          -14.061485967137878,
          -13.145745100382008,
          -12.09090052967013,
          -12.030681037273238,
          -12.762933454753275,
          -12.438543475416484
         ],
         "xaxis": "x",
         "y": [
          -0.1924601741768154,
          -1.1871088176671847,
          -0.7729398187139022,
          -0.7692038274464463,
          0.24510291473109297,
          1.1027300751126974,
          -0.5659592724469594,
          -0.8558118580558826
         ],
         "yaxis": "y"
        },
        {
         "hovertemplate": "color=DMSO+DMSO+2<br>0=%{x}<br>1=%{y}<extra></extra>",
         "legendgroup": "DMSO+DMSO+2",
         "marker": {
          "color": "#EF553B",
          "symbol": "circle"
         },
         "mode": "markers",
         "name": "DMSO+DMSO+2",
         "orientation": "v",
         "showlegend": true,
         "type": "scatter",
         "x": [
          -12.256567428445749,
          -12.84499562086954,
          -13.080283072078842,
          -13.243045817629012,
          -14.472444365321776,
          -13.597272750824871,
          -11.602501045095137,
          -12.421075112570938
         ],
         "xaxis": "x",
         "y": [
          -0.8513189093189779,
          -0.08510012731053701,
          -1.008646707446798,
          -0.7385400398151851,
          0.3080936054799605,
          -1.992110167778844,
          -1.7578909805972212,
          0.42920093858573444
         ],
         "yaxis": "y"
        },
        {
         "hovertemplate": "color=DMSO+DMSO+3<br>0=%{x}<br>1=%{y}<extra></extra>",
         "legendgroup": "DMSO+DMSO+3",
         "marker": {
          "color": "#00cc96",
          "symbol": "circle"
         },
         "mode": "markers",
         "name": "DMSO+DMSO+3",
         "orientation": "v",
         "showlegend": true,
         "type": "scatter",
         "x": [
          -13.846981494836026,
          -11.640544060180481,
          -15.060292024270462,
          -13.707570395406709,
          -12.787772368967094,
          -12.28896581668433,
          -11.29302166371561,
          -13.089923756534013
         ],
         "xaxis": "x",
         "y": [
          -2.2606891614245064,
          0.782988346049219,
          0.5077599377111771,
          0.03003148940939799,
          -0.30138405864856976,
          -0.2480129185090547,
          0.09972488075948725,
          -0.6029264995940774
         ],
         "yaxis": "y"
        },
        {
         "hovertemplate": "color=DMSO+DMSO+4<br>0=%{x}<br>1=%{y}<extra></extra>",
         "legendgroup": "DMSO+DMSO+4",
         "marker": {
          "color": "#ab63fa",
          "symbol": "circle"
         },
         "mode": "markers",
         "name": "DMSO+DMSO+4",
         "orientation": "v",
         "showlegend": true,
         "type": "scatter",
         "x": [
          -11.450133906828539,
          -10.909643415143007,
          -10.09874594197437,
          -12.915916407275917,
          -13.71892522501182,
          -13.486101975142981,
          -12.296204937372828,
          -13.783385406874832
         ],
         "xaxis": "x",
         "y": [
          1.01717137671256,
          -0.35969474282380304,
          -1.1803019412472326,
          -0.341198698569479,
          -0.7398903722825789,
          -1.5651666621317584,
          -2.1190696475350213,
          -0.2627980526666061
         ],
         "yaxis": "y"
        },
        {
         "hovertemplate": "color=DMSO+DMSO+5<br>0=%{x}<br>1=%{y}<extra></extra>",
         "legendgroup": "DMSO+DMSO+5",
         "marker": {
          "color": "#FFA15A",
          "symbol": "circle"
         },
         "mode": "markers",
         "name": "DMSO+DMSO+5",
         "orientation": "v",
         "showlegend": true,
         "type": "scatter",
         "x": [
          -10.925219676197624,
          -13.863035114950831,
          -12.514033436457476,
          -12.158816139516748,
          -12.607988284939472,
          -11.890435032786549,
          -12.437765741935264,
          -14.531476736707345
         ],
         "xaxis": "x",
         "y": [
          -0.8044448643889782,
          0.27386387586528377,
          -0.2996402188957387,
          -0.4646344244441273,
          -0.5275655850719622,
          -1.5645621651426922,
          -0.7740318481380078,
          0.5067580794034975
         ],
         "yaxis": "y"
        },
        {
         "hovertemplate": "color=DMSO+DMSO+6<br>0=%{x}<br>1=%{y}<extra></extra>",
         "legendgroup": "DMSO+DMSO+6",
         "marker": {
          "color": "#19d3f3",
          "symbol": "circle"
         },
         "mode": "markers",
         "name": "DMSO+DMSO+6",
         "orientation": "v",
         "showlegend": true,
         "type": "scatter",
         "x": [
          -13.76536476241586,
          -13.096255771290725,
          -14.029826692329554,
          -11.919228646162422,
          -13.08559566270208,
          -11.635617829211881,
          -13.262337015822752,
          -12.32200535074333
         ],
         "xaxis": "x",
         "y": [
          -1.772702639663558,
          0.30505597125584505,
          0.4974590655634666,
          -0.2837193845985899,
          -1.7295289459377388,
          0.022286115634323093,
          0.6804754431074526,
          -0.5594348428016654
         ],
         "yaxis": "y"
        }
       ],
       "layout": {
        "legend": {
         "title": {
          "text": "color"
         },
         "tracegroupgap": 0
        },
        "margin": {
         "t": 60
        },
        "template": {
         "data": {
          "bar": [
           {
            "error_x": {
             "color": "#2a3f5f"
            },
            "error_y": {
             "color": "#2a3f5f"
            },
            "marker": {
             "line": {
              "color": "#E5ECF6",
              "width": 0.5
             },
             "pattern": {
              "fillmode": "overlay",
              "size": 10,
              "solidity": 0.2
             }
            },
            "type": "bar"
           }
          ],
          "barpolar": [
           {
            "marker": {
             "line": {
              "color": "#E5ECF6",
              "width": 0.5
             },
             "pattern": {
              "fillmode": "overlay",
              "size": 10,
              "solidity": 0.2
             }
            },
            "type": "barpolar"
           }
          ],
          "carpet": [
           {
            "aaxis": {
             "endlinecolor": "#2a3f5f",
             "gridcolor": "white",
             "linecolor": "white",
             "minorgridcolor": "white",
             "startlinecolor": "#2a3f5f"
            },
            "baxis": {
             "endlinecolor": "#2a3f5f",
             "gridcolor": "white",
             "linecolor": "white",
             "minorgridcolor": "white",
             "startlinecolor": "#2a3f5f"
            },
            "type": "carpet"
           }
          ],
          "choropleth": [
           {
            "colorbar": {
             "outlinewidth": 0,
             "ticks": ""
            },
            "type": "choropleth"
           }
          ],
          "contour": [
           {
            "colorbar": {
             "outlinewidth": 0,
             "ticks": ""
            },
            "colorscale": [
             [
              0,
              "#0d0887"
             ],
             [
              0.1111111111111111,
              "#46039f"
             ],
             [
              0.2222222222222222,
              "#7201a8"
             ],
             [
              0.3333333333333333,
              "#9c179e"
             ],
             [
              0.4444444444444444,
              "#bd3786"
             ],
             [
              0.5555555555555556,
              "#d8576b"
             ],
             [
              0.6666666666666666,
              "#ed7953"
             ],
             [
              0.7777777777777778,
              "#fb9f3a"
             ],
             [
              0.8888888888888888,
              "#fdca26"
             ],
             [
              1,
              "#f0f921"
             ]
            ],
            "type": "contour"
           }
          ],
          "contourcarpet": [
           {
            "colorbar": {
             "outlinewidth": 0,
             "ticks": ""
            },
            "type": "contourcarpet"
           }
          ],
          "heatmap": [
           {
            "colorbar": {
             "outlinewidth": 0,
             "ticks": ""
            },
            "colorscale": [
             [
              0,
              "#0d0887"
             ],
             [
              0.1111111111111111,
              "#46039f"
             ],
             [
              0.2222222222222222,
              "#7201a8"
             ],
             [
              0.3333333333333333,
              "#9c179e"
             ],
             [
              0.4444444444444444,
              "#bd3786"
             ],
             [
              0.5555555555555556,
              "#d8576b"
             ],
             [
              0.6666666666666666,
              "#ed7953"
             ],
             [
              0.7777777777777778,
              "#fb9f3a"
             ],
             [
              0.8888888888888888,
              "#fdca26"
             ],
             [
              1,
              "#f0f921"
             ]
            ],
            "type": "heatmap"
           }
          ],
          "heatmapgl": [
           {
            "colorbar": {
             "outlinewidth": 0,
             "ticks": ""
            },
            "colorscale": [
             [
              0,
              "#0d0887"
             ],
             [
              0.1111111111111111,
              "#46039f"
             ],
             [
              0.2222222222222222,
              "#7201a8"
             ],
             [
              0.3333333333333333,
              "#9c179e"
             ],
             [
              0.4444444444444444,
              "#bd3786"
             ],
             [
              0.5555555555555556,
              "#d8576b"
             ],
             [
              0.6666666666666666,
              "#ed7953"
             ],
             [
              0.7777777777777778,
              "#fb9f3a"
             ],
             [
              0.8888888888888888,
              "#fdca26"
             ],
             [
              1,
              "#f0f921"
             ]
            ],
            "type": "heatmapgl"
           }
          ],
          "histogram": [
           {
            "marker": {
             "pattern": {
              "fillmode": "overlay",
              "size": 10,
              "solidity": 0.2
             }
            },
            "type": "histogram"
           }
          ],
          "histogram2d": [
           {
            "colorbar": {
             "outlinewidth": 0,
             "ticks": ""
            },
            "colorscale": [
             [
              0,
              "#0d0887"
             ],
             [
              0.1111111111111111,
              "#46039f"
             ],
             [
              0.2222222222222222,
              "#7201a8"
             ],
             [
              0.3333333333333333,
              "#9c179e"
             ],
             [
              0.4444444444444444,
              "#bd3786"
             ],
             [
              0.5555555555555556,
              "#d8576b"
             ],
             [
              0.6666666666666666,
              "#ed7953"
             ],
             [
              0.7777777777777778,
              "#fb9f3a"
             ],
             [
              0.8888888888888888,
              "#fdca26"
             ],
             [
              1,
              "#f0f921"
             ]
            ],
            "type": "histogram2d"
           }
          ],
          "histogram2dcontour": [
           {
            "colorbar": {
             "outlinewidth": 0,
             "ticks": ""
            },
            "colorscale": [
             [
              0,
              "#0d0887"
             ],
             [
              0.1111111111111111,
              "#46039f"
             ],
             [
              0.2222222222222222,
              "#7201a8"
             ],
             [
              0.3333333333333333,
              "#9c179e"
             ],
             [
              0.4444444444444444,
              "#bd3786"
             ],
             [
              0.5555555555555556,
              "#d8576b"
             ],
             [
              0.6666666666666666,
              "#ed7953"
             ],
             [
              0.7777777777777778,
              "#fb9f3a"
             ],
             [
              0.8888888888888888,
              "#fdca26"
             ],
             [
              1,
              "#f0f921"
             ]
            ],
            "type": "histogram2dcontour"
           }
          ],
          "mesh3d": [
           {
            "colorbar": {
             "outlinewidth": 0,
             "ticks": ""
            },
            "type": "mesh3d"
           }
          ],
          "parcoords": [
           {
            "line": {
             "colorbar": {
              "outlinewidth": 0,
              "ticks": ""
             }
            },
            "type": "parcoords"
           }
          ],
          "pie": [
           {
            "automargin": true,
            "type": "pie"
           }
          ],
          "scatter": [
           {
            "fillpattern": {
             "fillmode": "overlay",
             "size": 10,
             "solidity": 0.2
            },
            "type": "scatter"
           }
          ],
          "scatter3d": [
           {
            "line": {
             "colorbar": {
              "outlinewidth": 0,
              "ticks": ""
             }
            },
            "marker": {
             "colorbar": {
              "outlinewidth": 0,
              "ticks": ""
             }
            },
            "type": "scatter3d"
           }
          ],
          "scattercarpet": [
           {
            "marker": {
             "colorbar": {
              "outlinewidth": 0,
              "ticks": ""
             }
            },
            "type": "scattercarpet"
           }
          ],
          "scattergeo": [
           {
            "marker": {
             "colorbar": {
              "outlinewidth": 0,
              "ticks": ""
             }
            },
            "type": "scattergeo"
           }
          ],
          "scattergl": [
           {
            "marker": {
             "colorbar": {
              "outlinewidth": 0,
              "ticks": ""
             }
            },
            "type": "scattergl"
           }
          ],
          "scattermapbox": [
           {
            "marker": {
             "colorbar": {
              "outlinewidth": 0,
              "ticks": ""
             }
            },
            "type": "scattermapbox"
           }
          ],
          "scatterpolar": [
           {
            "marker": {
             "colorbar": {
              "outlinewidth": 0,
              "ticks": ""
             }
            },
            "type": "scatterpolar"
           }
          ],
          "scatterpolargl": [
           {
            "marker": {
             "colorbar": {
              "outlinewidth": 0,
              "ticks": ""
             }
            },
            "type": "scatterpolargl"
           }
          ],
          "scatterternary": [
           {
            "marker": {
             "colorbar": {
              "outlinewidth": 0,
              "ticks": ""
             }
            },
            "type": "scatterternary"
           }
          ],
          "surface": [
           {
            "colorbar": {
             "outlinewidth": 0,
             "ticks": ""
            },
            "colorscale": [
             [
              0,
              "#0d0887"
             ],
             [
              0.1111111111111111,
              "#46039f"
             ],
             [
              0.2222222222222222,
              "#7201a8"
             ],
             [
              0.3333333333333333,
              "#9c179e"
             ],
             [
              0.4444444444444444,
              "#bd3786"
             ],
             [
              0.5555555555555556,
              "#d8576b"
             ],
             [
              0.6666666666666666,
              "#ed7953"
             ],
             [
              0.7777777777777778,
              "#fb9f3a"
             ],
             [
              0.8888888888888888,
              "#fdca26"
             ],
             [
              1,
              "#f0f921"
             ]
            ],
            "type": "surface"
           }
          ],
          "table": [
           {
            "cells": {
             "fill": {
              "color": "#EBF0F8"
             },
             "line": {
              "color": "white"
             }
            },
            "header": {
             "fill": {
              "color": "#C8D4E3"
             },
             "line": {
              "color": "white"
             }
            },
            "type": "table"
           }
          ]
         },
         "layout": {
          "annotationdefaults": {
           "arrowcolor": "#2a3f5f",
           "arrowhead": 0,
           "arrowwidth": 1
          },
          "autotypenumbers": "strict",
          "coloraxis": {
           "colorbar": {
            "outlinewidth": 0,
            "ticks": ""
           }
          },
          "colorscale": {
           "diverging": [
            [
             0,
             "#8e0152"
            ],
            [
             0.1,
             "#c51b7d"
            ],
            [
             0.2,
             "#de77ae"
            ],
            [
             0.3,
             "#f1b6da"
            ],
            [
             0.4,
             "#fde0ef"
            ],
            [
             0.5,
             "#f7f7f7"
            ],
            [
             0.6,
             "#e6f5d0"
            ],
            [
             0.7,
             "#b8e186"
            ],
            [
             0.8,
             "#7fbc41"
            ],
            [
             0.9,
             "#4d9221"
            ],
            [
             1,
             "#276419"
            ]
           ],
           "sequential": [
            [
             0,
             "#0d0887"
            ],
            [
             0.1111111111111111,
             "#46039f"
            ],
            [
             0.2222222222222222,
             "#7201a8"
            ],
            [
             0.3333333333333333,
             "#9c179e"
            ],
            [
             0.4444444444444444,
             "#bd3786"
            ],
            [
             0.5555555555555556,
             "#d8576b"
            ],
            [
             0.6666666666666666,
             "#ed7953"
            ],
            [
             0.7777777777777778,
             "#fb9f3a"
            ],
            [
             0.8888888888888888,
             "#fdca26"
            ],
            [
             1,
             "#f0f921"
            ]
           ],
           "sequentialminus": [
            [
             0,
             "#0d0887"
            ],
            [
             0.1111111111111111,
             "#46039f"
            ],
            [
             0.2222222222222222,
             "#7201a8"
            ],
            [
             0.3333333333333333,
             "#9c179e"
            ],
            [
             0.4444444444444444,
             "#bd3786"
            ],
            [
             0.5555555555555556,
             "#d8576b"
            ],
            [
             0.6666666666666666,
             "#ed7953"
            ],
            [
             0.7777777777777778,
             "#fb9f3a"
            ],
            [
             0.8888888888888888,
             "#fdca26"
            ],
            [
             1,
             "#f0f921"
            ]
           ]
          },
          "colorway": [
           "#636efa",
           "#EF553B",
           "#00cc96",
           "#ab63fa",
           "#FFA15A",
           "#19d3f3",
           "#FF6692",
           "#B6E880",
           "#FF97FF",
           "#FECB52"
          ],
          "font": {
           "color": "#2a3f5f"
          },
          "geo": {
           "bgcolor": "white",
           "lakecolor": "white",
           "landcolor": "#E5ECF6",
           "showlakes": true,
           "showland": true,
           "subunitcolor": "white"
          },
          "hoverlabel": {
           "align": "left"
          },
          "hovermode": "closest",
          "mapbox": {
           "style": "light"
          },
          "paper_bgcolor": "white",
          "plot_bgcolor": "#E5ECF6",
          "polar": {
           "angularaxis": {
            "gridcolor": "white",
            "linecolor": "white",
            "ticks": ""
           },
           "bgcolor": "#E5ECF6",
           "radialaxis": {
            "gridcolor": "white",
            "linecolor": "white",
            "ticks": ""
           }
          },
          "scene": {
           "xaxis": {
            "backgroundcolor": "#E5ECF6",
            "gridcolor": "white",
            "gridwidth": 2,
            "linecolor": "white",
            "showbackground": true,
            "ticks": "",
            "zerolinecolor": "white"
           },
           "yaxis": {
            "backgroundcolor": "#E5ECF6",
            "gridcolor": "white",
            "gridwidth": 2,
            "linecolor": "white",
            "showbackground": true,
            "ticks": "",
            "zerolinecolor": "white"
           },
           "zaxis": {
            "backgroundcolor": "#E5ECF6",
            "gridcolor": "white",
            "gridwidth": 2,
            "linecolor": "white",
            "showbackground": true,
            "ticks": "",
            "zerolinecolor": "white"
           }
          },
          "shapedefaults": {
           "line": {
            "color": "#2a3f5f"
           }
          },
          "ternary": {
           "aaxis": {
            "gridcolor": "white",
            "linecolor": "white",
            "ticks": ""
           },
           "baxis": {
            "gridcolor": "white",
            "linecolor": "white",
            "ticks": ""
           },
           "bgcolor": "#E5ECF6",
           "caxis": {
            "gridcolor": "white",
            "linecolor": "white",
            "ticks": ""
           }
          },
          "title": {
           "x": 0.05
          },
          "xaxis": {
           "automargin": true,
           "gridcolor": "white",
           "linecolor": "white",
           "ticks": "",
           "title": {
            "standoff": 15
           },
           "zerolinecolor": "white",
           "zerolinewidth": 2
          },
          "yaxis": {
           "automargin": true,
           "gridcolor": "white",
           "linecolor": "white",
           "ticks": "",
           "title": {
            "standoff": 15
           },
           "zerolinecolor": "white",
           "zerolinewidth": 2
          }
         }
        },
        "xaxis": {
         "anchor": "y",
         "domain": [
          0,
          1
         ],
         "title": {
          "text": "0"
         }
        },
        "yaxis": {
         "anchor": "x",
         "domain": [
          0,
          1
         ],
         "title": {
          "text": "1"
         }
        }
       }
      }
     },
     "metadata": {},
     "output_type": "display_data"
    }
   ],
   "source": [
    "import plotly.express as px\n",
    "from sklearn.decomposition import PCA\n",
    "from sklearn.preprocessing import StandardScaler\n",
    "model = LinearDiscriminantAnalysis(n_components=4)\n",
    "y2=[]\n",
    "for i in range(24):\n",
    "    y2.append('DNA')\n",
    "for j in range(24):\n",
    "    y2.append('MT')\n",
    "for k in range(24):\n",
    "    y2.append('HSP')\n",
    "for m in range(24):\n",
    "    y2.append('PROT')\n",
    "for n in range(24):\n",
    "    y2.append('HDAC')\n",
    "for k in range(48):\n",
    "    y2.append(\"DMSO\")\n",
    "#model.fit(X_drug, y)\n",
    "#X_drug2 = model.transform(X_drug)\n",
    "X_drug3=training.iloc[:,2:240].values\n",
    "X_drug3=model.fit(X_drug3,y2).transform(X_drug3)\n",
    "fig = px.scatter(X_drug3, x=0, y=1, color=training['drug_name'])\n",
    "fig.show()\n",
    "#these 5 groups are very clearly separated, as we can see in the image"
   ]
  },
  {
   "cell_type": "code",
   "execution_count": 32,
   "metadata": {},
   "outputs": [],
   "source": [
    "# Create a function\n",
    "def select_n_components(var_ratio, goal_var: float) -> int:\n",
    "    # Set initial variance explained so far\n",
    "    total_variance = 0.0\n",
    "    \n",
    "    # Set initial number of features\n",
    "    n_components = 0\n",
    "    \n",
    "    # For the explained variance of each feature:\n",
    "    for explained_variance in var_ratio:\n",
    "        \n",
    "        # Add the explained variance to the total\n",
    "        total_variance += explained_variance\n",
    "        \n",
    "        # Add one to the number of components\n",
    "        n_components += 1\n",
    "        \n",
    "        # If we reach our goal level of explained variance\n",
    "        if total_variance >= goal_var:\n",
    "            # End the loop\n",
    "            break\n",
    "            \n",
    "    # Return the number of components\n",
    "    return n_components"
   ]
  },
  {
   "cell_type": "code",
   "execution_count": 33,
   "metadata": {},
   "outputs": [],
   "source": [
    "lda = LinearDiscriminantAnalysis(n_components=None)\n",
    "y5=[]\n",
    "for i in range(18):\n",
    "    y5.append('DNA')\n",
    "for j in range(18):\n",
    "    y5.append(\"MT\")\n",
    "for k in range(18):\n",
    "    y5.append(\"HSP\")\n",
    "for m in range(18):\n",
    "    y5.append(\"PROT\")\n",
    "for n in range(18):\n",
    "    y5.append(\"HDAC\")\n",
    "for k in range(42):\n",
    "    y5.append(\"DMSO\")\n",
    "\n",
    "X_lda=lda.fit(X_training,y5)\n"
   ]
  },
  {
   "cell_type": "code",
   "execution_count": 34,
   "metadata": {},
   "outputs": [
    {
     "data": {
      "text/plain": [
       "array([0.56989838, 0.1924261 , 0.1336627 , 0.10401281])"
      ]
     },
     "execution_count": 34,
     "metadata": {},
     "output_type": "execute_result"
    }
   ],
   "source": [
    "# Create array of explained variance ratios\n",
    "lda_var_ratios = lda.explained_variance_ratio_\n",
    "lda_var_ratios"
   ]
  },
  {
   "cell_type": "code",
   "execution_count": 35,
   "metadata": {},
   "outputs": [
    {
     "name": "stdout",
     "output_type": "stream",
     "text": [
      "4\n",
      "3\n",
      "2\n",
      "2\n",
      "1\n"
     ]
    }
   ],
   "source": [
    "# Run function\n",
    "print(select_n_components(lda_var_ratios, 0.95))\n",
    "print(select_n_components(lda_var_ratios, 0.85))\n",
    "print(select_n_components(lda_var_ratios, 0.75))\n",
    "print(select_n_components(lda_var_ratios, 0.65))\n",
    "print(select_n_components(lda_var_ratios, 0.35))\n"
   ]
  },
  {
   "cell_type": "code",
   "execution_count": 36,
   "metadata": {},
   "outputs": [
    {
     "data": {
      "text/html": [
       "<div>\n",
       "<style scoped>\n",
       "    .dataframe tbody tr th:only-of-type {\n",
       "        vertical-align: middle;\n",
       "    }\n",
       "\n",
       "    .dataframe tbody tr th {\n",
       "        vertical-align: top;\n",
       "    }\n",
       "\n",
       "    .dataframe thead th {\n",
       "        text-align: right;\n",
       "    }\n",
       "</style>\n",
       "<table border=\"1\" class=\"dataframe\">\n",
       "  <thead>\n",
       "    <tr style=\"text-align: right;\">\n",
       "      <th></th>\n",
       "      <th>principal component 1</th>\n",
       "      <th>principal component 2</th>\n",
       "      <th>principal component 3</th>\n",
       "      <th>principal component 4</th>\n",
       "    </tr>\n",
       "  </thead>\n",
       "  <tbody>\n",
       "    <tr>\n",
       "      <th>0</th>\n",
       "      <td>10.525797</td>\n",
       "      <td>-1.095634</td>\n",
       "      <td>3.747846</td>\n",
       "      <td>-0.021216</td>\n",
       "    </tr>\n",
       "    <tr>\n",
       "      <th>1</th>\n",
       "      <td>9.000980</td>\n",
       "      <td>-1.333177</td>\n",
       "      <td>5.046633</td>\n",
       "      <td>0.778640</td>\n",
       "    </tr>\n",
       "    <tr>\n",
       "      <th>2</th>\n",
       "      <td>7.880334</td>\n",
       "      <td>-3.287024</td>\n",
       "      <td>3.999122</td>\n",
       "      <td>0.067940</td>\n",
       "    </tr>\n",
       "    <tr>\n",
       "      <th>3</th>\n",
       "      <td>7.551847</td>\n",
       "      <td>-2.815300</td>\n",
       "      <td>4.554244</td>\n",
       "      <td>-0.182876</td>\n",
       "    </tr>\n",
       "    <tr>\n",
       "      <th>4</th>\n",
       "      <td>7.896075</td>\n",
       "      <td>-2.283806</td>\n",
       "      <td>4.823695</td>\n",
       "      <td>-0.758695</td>\n",
       "    </tr>\n",
       "    <tr>\n",
       "      <th>...</th>\n",
       "      <td>...</td>\n",
       "      <td>...</td>\n",
       "      <td>...</td>\n",
       "      <td>...</td>\n",
       "    </tr>\n",
       "    <tr>\n",
       "      <th>163</th>\n",
       "      <td>-11.937962</td>\n",
       "      <td>-0.432295</td>\n",
       "      <td>1.855338</td>\n",
       "      <td>0.705735</td>\n",
       "    </tr>\n",
       "    <tr>\n",
       "      <th>164</th>\n",
       "      <td>-13.064600</td>\n",
       "      <td>-1.948426</td>\n",
       "      <td>1.964826</td>\n",
       "      <td>0.004238</td>\n",
       "    </tr>\n",
       "    <tr>\n",
       "      <th>165</th>\n",
       "      <td>-11.650386</td>\n",
       "      <td>-0.087742</td>\n",
       "      <td>0.813444</td>\n",
       "      <td>-0.072147</td>\n",
       "    </tr>\n",
       "    <tr>\n",
       "      <th>166</th>\n",
       "      <td>-13.272099</td>\n",
       "      <td>0.541192</td>\n",
       "      <td>0.418920</td>\n",
       "      <td>-0.417235</td>\n",
       "    </tr>\n",
       "    <tr>\n",
       "      <th>167</th>\n",
       "      <td>-12.340009</td>\n",
       "      <td>-0.689518</td>\n",
       "      <td>0.960473</td>\n",
       "      <td>1.361126</td>\n",
       "    </tr>\n",
       "  </tbody>\n",
       "</table>\n",
       "<p>168 rows × 4 columns</p>\n",
       "</div>"
      ],
      "text/plain": [
       "     principal component 1  principal component 2  principal component 3  \\\n",
       "0                10.525797              -1.095634               3.747846   \n",
       "1                 9.000980              -1.333177               5.046633   \n",
       "2                 7.880334              -3.287024               3.999122   \n",
       "3                 7.551847              -2.815300               4.554244   \n",
       "4                 7.896075              -2.283806               4.823695   \n",
       "..                     ...                    ...                    ...   \n",
       "163             -11.937962              -0.432295               1.855338   \n",
       "164             -13.064600              -1.948426               1.964826   \n",
       "165             -11.650386              -0.087742               0.813444   \n",
       "166             -13.272099               0.541192               0.418920   \n",
       "167             -12.340009              -0.689518               0.960473   \n",
       "\n",
       "     principal component 4  \n",
       "0                -0.021216  \n",
       "1                 0.778640  \n",
       "2                 0.067940  \n",
       "3                -0.182876  \n",
       "4                -0.758695  \n",
       "..                     ...  \n",
       "163               0.705735  \n",
       "164               0.004238  \n",
       "165              -0.072147  \n",
       "166              -0.417235  \n",
       "167               1.361126  \n",
       "\n",
       "[168 rows x 4 columns]"
      ]
     },
     "execution_count": 36,
     "metadata": {},
     "output_type": "execute_result"
    }
   ],
   "source": [
    "#pca_drug = PCA(n_components=6)\n",
    "#components = pca_drug.fit_transform(X_drug)\n",
    "principalDf = pd.DataFrame(data = X_drug2\n",
    "             , columns =['principal component 1', 'principal component 2','principal component 3','principal component 4'])\n",
    "principalDf"
   ]
  },
  {
   "cell_type": "code",
   "execution_count": 37,
   "metadata": {},
   "outputs": [
    {
     "data": {
      "text/html": [
       "<div>\n",
       "<style scoped>\n",
       "    .dataframe tbody tr th:only-of-type {\n",
       "        vertical-align: middle;\n",
       "    }\n",
       "\n",
       "    .dataframe tbody tr th {\n",
       "        vertical-align: top;\n",
       "    }\n",
       "\n",
       "    .dataframe thead th {\n",
       "        text-align: right;\n",
       "    }\n",
       "</style>\n",
       "<table border=\"1\" class=\"dataframe\">\n",
       "  <thead>\n",
       "    <tr style=\"text-align: right;\">\n",
       "      <th></th>\n",
       "      <th>drug_name</th>\n",
       "      <th>default</th>\n",
       "      <th>ks1</th>\n",
       "      <th>ks2</th>\n",
       "      <th>ks3</th>\n",
       "      <th>ks4</th>\n",
       "      <th>ks5</th>\n",
       "      <th>ks6</th>\n",
       "      <th>ks7</th>\n",
       "      <th>ks8</th>\n",
       "      <th>...</th>\n",
       "      <th>ks229</th>\n",
       "      <th>ks230</th>\n",
       "      <th>ks231</th>\n",
       "      <th>ks232</th>\n",
       "      <th>ks233</th>\n",
       "      <th>ks234</th>\n",
       "      <th>ks235</th>\n",
       "      <th>ks236</th>\n",
       "      <th>ks237</th>\n",
       "      <th>ks238</th>\n",
       "    </tr>\n",
       "  </thead>\n",
       "  <tbody>\n",
       "    <tr>\n",
       "      <th>12</th>\n",
       "      <td>Etoposide+Gemcitabine+1</td>\n",
       "      <td>0</td>\n",
       "      <td>-0.184870</td>\n",
       "      <td>-0.099087</td>\n",
       "      <td>-0.128100</td>\n",
       "      <td>-0.090660</td>\n",
       "      <td>-0.179700</td>\n",
       "      <td>-0.136530</td>\n",
       "      <td>-0.126740</td>\n",
       "      <td>-0.120790</td>\n",
       "      <td>...</td>\n",
       "      <td>0.057665</td>\n",
       "      <td>0.114990</td>\n",
       "      <td>-0.270030</td>\n",
       "      <td>0.151400</td>\n",
       "      <td>0.107700</td>\n",
       "      <td>0.114990</td>\n",
       "      <td>-0.138540</td>\n",
       "      <td>-0.247210</td>\n",
       "      <td>-0.088777</td>\n",
       "      <td>0.280320</td>\n",
       "    </tr>\n",
       "    <tr>\n",
       "      <th>14</th>\n",
       "      <td>Etoposide+Gemcitabine+2</td>\n",
       "      <td>0</td>\n",
       "      <td>-0.160830</td>\n",
       "      <td>-0.130290</td>\n",
       "      <td>-0.207700</td>\n",
       "      <td>-0.101180</td>\n",
       "      <td>-0.231780</td>\n",
       "      <td>-0.226070</td>\n",
       "      <td>-0.216740</td>\n",
       "      <td>-0.206720</td>\n",
       "      <td>...</td>\n",
       "      <td>0.071715</td>\n",
       "      <td>0.117700</td>\n",
       "      <td>-0.295330</td>\n",
       "      <td>0.153960</td>\n",
       "      <td>0.114980</td>\n",
       "      <td>0.117700</td>\n",
       "      <td>-0.107390</td>\n",
       "      <td>-0.212550</td>\n",
       "      <td>-0.094376</td>\n",
       "      <td>0.283920</td>\n",
       "    </tr>\n",
       "    <tr>\n",
       "      <th>16</th>\n",
       "      <td>Etoposide+Gemcitabine+3</td>\n",
       "      <td>0</td>\n",
       "      <td>-0.251310</td>\n",
       "      <td>-0.090650</td>\n",
       "      <td>-0.233650</td>\n",
       "      <td>-0.083527</td>\n",
       "      <td>-0.137960</td>\n",
       "      <td>-0.229940</td>\n",
       "      <td>-0.246240</td>\n",
       "      <td>-0.240170</td>\n",
       "      <td>...</td>\n",
       "      <td>0.112950</td>\n",
       "      <td>0.140700</td>\n",
       "      <td>-0.205850</td>\n",
       "      <td>0.197110</td>\n",
       "      <td>0.165930</td>\n",
       "      <td>0.140700</td>\n",
       "      <td>-0.048163</td>\n",
       "      <td>-0.160220</td>\n",
       "      <td>-0.098555</td>\n",
       "      <td>0.185980</td>\n",
       "    </tr>\n",
       "    <tr>\n",
       "      <th>18</th>\n",
       "      <td>Etoposide+Gemcitabine+4</td>\n",
       "      <td>0</td>\n",
       "      <td>-0.182100</td>\n",
       "      <td>-0.064928</td>\n",
       "      <td>-0.196120</td>\n",
       "      <td>-0.065672</td>\n",
       "      <td>-0.115260</td>\n",
       "      <td>-0.191780</td>\n",
       "      <td>-0.191640</td>\n",
       "      <td>-0.195310</td>\n",
       "      <td>...</td>\n",
       "      <td>0.084220</td>\n",
       "      <td>0.127640</td>\n",
       "      <td>-0.114820</td>\n",
       "      <td>0.163960</td>\n",
       "      <td>0.141680</td>\n",
       "      <td>0.127640</td>\n",
       "      <td>-0.053194</td>\n",
       "      <td>-0.121520</td>\n",
       "      <td>-0.072039</td>\n",
       "      <td>0.114630</td>\n",
       "    </tr>\n",
       "    <tr>\n",
       "      <th>20</th>\n",
       "      <td>Etoposide+Gemcitabine+5</td>\n",
       "      <td>0</td>\n",
       "      <td>-0.125830</td>\n",
       "      <td>0.055525</td>\n",
       "      <td>-0.072723</td>\n",
       "      <td>0.082487</td>\n",
       "      <td>0.053150</td>\n",
       "      <td>-0.065715</td>\n",
       "      <td>-0.081916</td>\n",
       "      <td>-0.086398</td>\n",
       "      <td>...</td>\n",
       "      <td>0.097900</td>\n",
       "      <td>0.050722</td>\n",
       "      <td>-0.076864</td>\n",
       "      <td>0.131670</td>\n",
       "      <td>0.127770</td>\n",
       "      <td>0.050722</td>\n",
       "      <td>-0.042034</td>\n",
       "      <td>-0.044921</td>\n",
       "      <td>0.054350</td>\n",
       "      <td>0.066102</td>\n",
       "    </tr>\n",
       "    <tr>\n",
       "      <th>...</th>\n",
       "      <td>...</td>\n",
       "      <td>...</td>\n",
       "      <td>...</td>\n",
       "      <td>...</td>\n",
       "      <td>...</td>\n",
       "      <td>...</td>\n",
       "      <td>...</td>\n",
       "      <td>...</td>\n",
       "      <td>...</td>\n",
       "      <td>...</td>\n",
       "      <td>...</td>\n",
       "      <td>...</td>\n",
       "      <td>...</td>\n",
       "      <td>...</td>\n",
       "      <td>...</td>\n",
       "      <td>...</td>\n",
       "      <td>...</td>\n",
       "      <td>...</td>\n",
       "      <td>...</td>\n",
       "      <td>...</td>\n",
       "      <td>...</td>\n",
       "    </tr>\n",
       "    <tr>\n",
       "      <th>383</th>\n",
       "      <td>DMSO+DMSO+6</td>\n",
       "      <td>0</td>\n",
       "      <td>-0.158330</td>\n",
       "      <td>0.057385</td>\n",
       "      <td>0.059397</td>\n",
       "      <td>0.030316</td>\n",
       "      <td>0.039397</td>\n",
       "      <td>0.068621</td>\n",
       "      <td>0.057098</td>\n",
       "      <td>0.052644</td>\n",
       "      <td>...</td>\n",
       "      <td>0.050115</td>\n",
       "      <td>0.066063</td>\n",
       "      <td>0.048103</td>\n",
       "      <td>0.082586</td>\n",
       "      <td>0.076207</td>\n",
       "      <td>0.066063</td>\n",
       "      <td>-0.115260</td>\n",
       "      <td>-0.092069</td>\n",
       "      <td>-0.047989</td>\n",
       "      <td>0.043908</td>\n",
       "    </tr>\n",
       "    <tr>\n",
       "      <th>754</th>\n",
       "      <td>DMSO+DMSO+6</td>\n",
       "      <td>0</td>\n",
       "      <td>-0.035000</td>\n",
       "      <td>-0.042247</td>\n",
       "      <td>-0.071477</td>\n",
       "      <td>0.072036</td>\n",
       "      <td>-0.055685</td>\n",
       "      <td>-0.064447</td>\n",
       "      <td>-0.061233</td>\n",
       "      <td>-0.068129</td>\n",
       "      <td>...</td>\n",
       "      <td>-0.025266</td>\n",
       "      <td>0.034931</td>\n",
       "      <td>-0.043589</td>\n",
       "      <td>0.037315</td>\n",
       "      <td>-0.031861</td>\n",
       "      <td>0.034931</td>\n",
       "      <td>0.033640</td>\n",
       "      <td>-0.056613</td>\n",
       "      <td>-0.051455</td>\n",
       "      <td>0.043782</td>\n",
       "    </tr>\n",
       "    <tr>\n",
       "      <th>755</th>\n",
       "      <td>DMSO+DMSO+6</td>\n",
       "      <td>0</td>\n",
       "      <td>0.052609</td>\n",
       "      <td>0.040490</td>\n",
       "      <td>0.033616</td>\n",
       "      <td>-0.031387</td>\n",
       "      <td>0.053315</td>\n",
       "      <td>0.034489</td>\n",
       "      <td>0.030144</td>\n",
       "      <td>0.027769</td>\n",
       "      <td>...</td>\n",
       "      <td>-0.031363</td>\n",
       "      <td>-0.051054</td>\n",
       "      <td>-0.044989</td>\n",
       "      <td>-0.033120</td>\n",
       "      <td>-0.038797</td>\n",
       "      <td>-0.051054</td>\n",
       "      <td>0.062066</td>\n",
       "      <td>0.051890</td>\n",
       "      <td>0.026741</td>\n",
       "      <td>0.045863</td>\n",
       "    </tr>\n",
       "    <tr>\n",
       "      <th>766</th>\n",
       "      <td>DMSO+DMSO+6</td>\n",
       "      <td>0</td>\n",
       "      <td>-0.063281</td>\n",
       "      <td>0.056212</td>\n",
       "      <td>0.060275</td>\n",
       "      <td>-0.077504</td>\n",
       "      <td>0.040267</td>\n",
       "      <td>0.062169</td>\n",
       "      <td>0.057532</td>\n",
       "      <td>0.058796</td>\n",
       "      <td>...</td>\n",
       "      <td>-0.040901</td>\n",
       "      <td>0.067883</td>\n",
       "      <td>-0.045857</td>\n",
       "      <td>0.060618</td>\n",
       "      <td>0.036172</td>\n",
       "      <td>0.067883</td>\n",
       "      <td>-0.067277</td>\n",
       "      <td>-0.083154</td>\n",
       "      <td>-0.082065</td>\n",
       "      <td>0.055028</td>\n",
       "    </tr>\n",
       "    <tr>\n",
       "      <th>767</th>\n",
       "      <td>DMSO+DMSO+6</td>\n",
       "      <td>0</td>\n",
       "      <td>-0.035000</td>\n",
       "      <td>0.032537</td>\n",
       "      <td>0.038507</td>\n",
       "      <td>0.082728</td>\n",
       "      <td>-0.038154</td>\n",
       "      <td>0.046283</td>\n",
       "      <td>0.048734</td>\n",
       "      <td>0.049263</td>\n",
       "      <td>...</td>\n",
       "      <td>0.018404</td>\n",
       "      <td>0.030697</td>\n",
       "      <td>0.027218</td>\n",
       "      <td>0.033547</td>\n",
       "      <td>0.027961</td>\n",
       "      <td>0.030697</td>\n",
       "      <td>-0.034024</td>\n",
       "      <td>-0.024326</td>\n",
       "      <td>-0.046260</td>\n",
       "      <td>-0.031593</td>\n",
       "    </tr>\n",
       "  </tbody>\n",
       "</table>\n",
       "<p>168 rows × 240 columns</p>\n",
       "</div>"
      ],
      "text/plain": [
       "                   drug_name  default       ks1       ks2       ks3       ks4  \\\n",
       "12   Etoposide+Gemcitabine+1        0 -0.184870 -0.099087 -0.128100 -0.090660   \n",
       "14   Etoposide+Gemcitabine+2        0 -0.160830 -0.130290 -0.207700 -0.101180   \n",
       "16   Etoposide+Gemcitabine+3        0 -0.251310 -0.090650 -0.233650 -0.083527   \n",
       "18   Etoposide+Gemcitabine+4        0 -0.182100 -0.064928 -0.196120 -0.065672   \n",
       "20   Etoposide+Gemcitabine+5        0 -0.125830  0.055525 -0.072723  0.082487   \n",
       "..                       ...      ...       ...       ...       ...       ...   \n",
       "383              DMSO+DMSO+6        0 -0.158330  0.057385  0.059397  0.030316   \n",
       "754              DMSO+DMSO+6        0 -0.035000 -0.042247 -0.071477  0.072036   \n",
       "755              DMSO+DMSO+6        0  0.052609  0.040490  0.033616 -0.031387   \n",
       "766              DMSO+DMSO+6        0 -0.063281  0.056212  0.060275 -0.077504   \n",
       "767              DMSO+DMSO+6        0 -0.035000  0.032537  0.038507  0.082728   \n",
       "\n",
       "          ks5       ks6       ks7       ks8  ...     ks229     ks230  \\\n",
       "12  -0.179700 -0.136530 -0.126740 -0.120790  ...  0.057665  0.114990   \n",
       "14  -0.231780 -0.226070 -0.216740 -0.206720  ...  0.071715  0.117700   \n",
       "16  -0.137960 -0.229940 -0.246240 -0.240170  ...  0.112950  0.140700   \n",
       "18  -0.115260 -0.191780 -0.191640 -0.195310  ...  0.084220  0.127640   \n",
       "20   0.053150 -0.065715 -0.081916 -0.086398  ...  0.097900  0.050722   \n",
       "..        ...       ...       ...       ...  ...       ...       ...   \n",
       "383  0.039397  0.068621  0.057098  0.052644  ...  0.050115  0.066063   \n",
       "754 -0.055685 -0.064447 -0.061233 -0.068129  ... -0.025266  0.034931   \n",
       "755  0.053315  0.034489  0.030144  0.027769  ... -0.031363 -0.051054   \n",
       "766  0.040267  0.062169  0.057532  0.058796  ... -0.040901  0.067883   \n",
       "767 -0.038154  0.046283  0.048734  0.049263  ...  0.018404  0.030697   \n",
       "\n",
       "        ks231     ks232     ks233     ks234     ks235     ks236     ks237  \\\n",
       "12  -0.270030  0.151400  0.107700  0.114990 -0.138540 -0.247210 -0.088777   \n",
       "14  -0.295330  0.153960  0.114980  0.117700 -0.107390 -0.212550 -0.094376   \n",
       "16  -0.205850  0.197110  0.165930  0.140700 -0.048163 -0.160220 -0.098555   \n",
       "18  -0.114820  0.163960  0.141680  0.127640 -0.053194 -0.121520 -0.072039   \n",
       "20  -0.076864  0.131670  0.127770  0.050722 -0.042034 -0.044921  0.054350   \n",
       "..        ...       ...       ...       ...       ...       ...       ...   \n",
       "383  0.048103  0.082586  0.076207  0.066063 -0.115260 -0.092069 -0.047989   \n",
       "754 -0.043589  0.037315 -0.031861  0.034931  0.033640 -0.056613 -0.051455   \n",
       "755 -0.044989 -0.033120 -0.038797 -0.051054  0.062066  0.051890  0.026741   \n",
       "766 -0.045857  0.060618  0.036172  0.067883 -0.067277 -0.083154 -0.082065   \n",
       "767  0.027218  0.033547  0.027961  0.030697 -0.034024 -0.024326 -0.046260   \n",
       "\n",
       "        ks238  \n",
       "12   0.280320  \n",
       "14   0.283920  \n",
       "16   0.185980  \n",
       "18   0.114630  \n",
       "20   0.066102  \n",
       "..        ...  \n",
       "383  0.043908  \n",
       "754  0.043782  \n",
       "755  0.045863  \n",
       "766  0.055028  \n",
       "767 -0.031593  \n",
       "\n",
       "[168 rows x 240 columns]"
      ]
     },
     "execution_count": 37,
     "metadata": {},
     "output_type": "execute_result"
    }
   ],
   "source": [
    "training"
   ]
  },
  {
   "cell_type": "code",
   "execution_count": 38,
   "metadata": {},
   "outputs": [
    {
     "name": "stdout",
     "output_type": "stream",
     "text": [
      "['DNA' 'DNA' 'DNA' 'DNA' 'DNA' 'DNA' 'MT' 'MT' 'MT' 'MT' 'MT' 'MT' 'HSP'\n",
      " 'HSP' 'HSP' 'HSP' 'HSP' 'HSP' 'PROT' 'PROT' 'PROT' 'PROT' 'PROT' 'PROT'\n",
      " 'HDAC' 'HDAC' 'HDAC' 'HDAC' 'HDAC' 'HDAC' 'DMSO' 'DMSO' 'DMSO' 'DMSO'\n",
      " 'DMSO' 'DMSO']\n",
      "1.0\n"
     ]
    }
   ],
   "source": [
    "#knn\n",
    "from sklearn.neighbors import KNeighborsClassifier\n",
    "from sklearn.metrics import accuracy_score\n",
    "knn5 = KNeighborsClassifier(n_neighbors=20)\n",
    "knn5.fit(X_training, y)\n",
    "y_pred_5 = knn5.predict(X_testing)\n",
    "print(y_pred_5)\n",
    "print(accuracy(y_pred_5,['DNA',\"MT\",\"HSP\",\"PROT\",\"HDAC\",\"DMSO\"]))\n",
    "#print(\"Accuracy with k=5\", accuracy_score(y_test, y_pred_5)*100)"
   ]
  },
  {
   "cell_type": "code",
   "execution_count": 39,
   "metadata": {},
   "outputs": [
    {
     "name": "stdout",
     "output_type": "stream",
     "text": [
      "168\n"
     ]
    }
   ],
   "source": [
    "import numpy as np\n",
    "all_list2=[]\n",
    "for i in range(len(all_list)):\n",
    "    all_list2.append(np.ndarray.tolist(all_list[i]))\n",
    "\n",
    "print(len(all_list2))"
   ]
  },
  {
   "cell_type": "code",
   "execution_count": 40,
   "metadata": {},
   "outputs": [],
   "source": [
    "#starts with bootstrap sampling\n",
    "#24,24,24,24,24,48\n",
    "#6,6,6,6,6,12\n",
    "\n",
    "\n",
    "import random\n",
    "def bootstrap(all_list):\n",
    "    part1=all_list[:24]\n",
    "    \n",
    "    part2=all_list[24:48]\n",
    "    part3=all_list[48:72]\n",
    "    part4=all_list[72:96]\n",
    "    part5=all_list[96:120]\n",
    "    part6=all_list[120:168]\n",
    "\n",
    "    testing_data=[]\n",
    "    toremovelst=[]\n",
    "    testing_data2=[]\n",
    "    toremovelst2=[]\n",
    "    testing_data3=[]\n",
    "    toremovelst3=[]\n",
    "    testing_data4=[]\n",
    "    toremovelst4=[]\n",
    "    testing_data5=[]\n",
    "    toremovelst5=[]\n",
    "    testing_data6=[]\n",
    "    toremovelst6=[]\n",
    "    #1\n",
    "    \n",
    "    \n",
    "    toremoveindexlst=random.sample(range(24), 6)\n",
    "    for i in range(len(toremoveindexlst)):\n",
    "        toremoveindex=toremoveindexlst[i]\n",
    "\n",
    "        target=part1[toremoveindex]\n",
    "        toremovelst.append(target)\n",
    "        testing_data.append(target)\n",
    "    \n",
    "        \n",
    "    for i in range(len(toremovelst)):\n",
    "        part1.remove(toremovelst[i])\n",
    "    #2\n",
    "    toremoveindexlst2=random.sample(range(24), 6)\n",
    "    for i in range(len(toremoveindexlst2)):\n",
    "        toremoveindex2=toremoveindexlst2[i]\n",
    "\n",
    "        target2=part2[toremoveindex2]\n",
    "        toremovelst2.append(target2)\n",
    "        testing_data.append(target2)\n",
    "    \n",
    "        \n",
    "    for i in range(len(toremovelst2)):\n",
    "        part2.remove(toremovelst2[i])\n",
    "    #3\n",
    "    toremoveindexlst3=random.sample(range(24), 6)\n",
    "    for i in range(len(toremoveindexlst3)):\n",
    "        toremoveindex3=toremoveindexlst3[i]\n",
    "\n",
    "        target3=part3[toremoveindex3]\n",
    "        toremovelst3.append(target3)\n",
    "        testing_data.append(target3)\n",
    "\n",
    "    for i in range(len(toremovelst3)):\n",
    "        part3.remove(toremovelst3[i])\n",
    "    #4\n",
    "    toremoveindexlst4=random.sample(range(24), 6)\n",
    "    for i in range(len(toremoveindexlst4)):\n",
    "        toremoveindex4=toremoveindexlst4[i]\n",
    "\n",
    "        target4=part4[toremoveindex4]\n",
    "        toremovelst4.append(target4)\n",
    "        testing_data.append(target4)\n",
    "        \n",
    "    for i in range(len(toremovelst4)):\n",
    "        part4.remove(toremovelst4[i])\n",
    "    #5\n",
    "    toremoveindexlst5=random.sample(range(24), 6)\n",
    "    for i in range(len(toremoveindexlst5)):\n",
    "        toremoveindex5=toremoveindexlst5[i]\n",
    "\n",
    "        target5=part5[toremoveindex5]\n",
    "        toremovelst5.append(target5)\n",
    "        testing_data.append(target5)\n",
    "\n",
    "    for i in range(len(toremovelst5)):\n",
    "        part5.remove(toremovelst5[i])\n",
    "\n",
    "    #6\n",
    "    toremoveindexlst6=random.sample(range(48), 12)\n",
    "    for i in range(len(toremoveindexlst6)):\n",
    "        toremoveindex6=toremoveindexlst6[i]\n",
    "\n",
    "        target6=part6[toremoveindex6]\n",
    "        toremovelst6.append(target6)\n",
    "        testing_data.append(target6)\n",
    "    \n",
    "        \n",
    "    for i in range(len(toremovelst6)):\n",
    "        part6.remove(toremovelst6[i])\n",
    "    \n",
    "    \n",
    "        \n",
    "\n",
    "\n",
    "\n",
    "\n",
    "\n",
    "        \n",
    "    \n",
    "    \n",
    "\n",
    "\n",
    "\n",
    "\n",
    "\n",
    "    return part1,part2,part3,part4,part5,part6,testing_data\n",
    "\n"
   ]
  },
  {
   "cell_type": "code",
   "execution_count": 41,
   "metadata": {},
   "outputs": [],
   "source": [
    "part1,part2,part3,part4,part5,part6,testing_data=bootstrap(all_list2)\n",
    "\n"
   ]
  },
  {
   "cell_type": "code",
   "execution_count": 42,
   "metadata": {},
   "outputs": [
    {
     "name": "stdout",
     "output_type": "stream",
     "text": [
      "126 36\n"
     ]
    }
   ],
   "source": [
    "training_data=part1+part2+part3+part4+part5+part6\n",
    "print(len(training_data),len(part6))\n",
    "y6=[]\n",
    "for i in range(18):\n",
    "    y6.append('DNA')\n",
    "for j in range(18):\n",
    "    y6.append(\"MT\")\n",
    "for k in range(18):\n",
    "    y6.append(\"HSP\")\n",
    "for m in range(18):\n",
    "    y6.append(\"PROT\")\n",
    "for n in range(18):\n",
    "    y6.append(\"HDAC\")\n",
    "for k in range(36):\n",
    "    y6.append(\"DMSO\")"
   ]
  },
  {
   "cell_type": "code",
   "execution_count": 43,
   "metadata": {},
   "outputs": [
    {
     "name": "stdout",
     "output_type": "stream",
     "text": [
      "['DNA' 'DNA' 'DNA' 'DNA' 'DNA' 'DNA' 'MT' 'MT' 'MT' 'MT' 'MT' 'MT' 'HSP'\n",
      " 'HSP' 'HSP' 'HSP' 'HSP' 'HSP' 'PROT' 'PROT' 'PROT' 'PROT' 'PROT' 'PROT'\n",
      " 'HDAC' 'HDAC' 'HDAC' 'HDAC' 'HDAC' 'HDAC' 'DMSO' 'DMSO' 'DMSO' 'DMSO'\n",
      " 'DMSO' 'DMSO']\n",
      "36\n"
     ]
    }
   ],
   "source": [
    "model6 = LinearDiscriminantAnalysis(n_components=4)\n",
    "model6.fit(training_data,y6)\n",
    "yhat6=model6.predict(X_testing)\n",
    "\n",
    "print(yhat6)\n",
    "print(len(yhat6))"
   ]
  },
  {
   "cell_type": "code",
   "execution_count": 44,
   "metadata": {},
   "outputs": [],
   "source": [
    "def accuracy2(list1,list2):\n",
    "    length=len(list1)\n",
    "    list3=[]\n",
    "    for i in range(6):\n",
    "        list3.append(list2[0])\n",
    "    for j in range(6):\n",
    "        list3.append(list2[1])\n",
    "    for m in range(6):\n",
    "        list3.append(list2[2])\n",
    "    for n in range(6):\n",
    "        list3.append(list2[3])\n",
    "    for k in range(6):\n",
    "        list3.append(list2[4])\n",
    "    for k in range(12):\n",
    "        list3.append(list2[5])\n",
    "\n",
    "    counter=0\n",
    "    for k in range(len(list1)):\n",
    "\n",
    "        if list1[k]==list3[k]:\n",
    "            counter+=1\n",
    "    return counter/length\n",
    "\n"
   ]
  },
  {
   "cell_type": "code",
   "execution_count": 45,
   "metadata": {},
   "outputs": [],
   "source": [
    "a1=accuracy2(yhat6,[\"DNA\",\"MT\",\"HSP\",\"PROT\",\"HDAC\",\"DMSO\"])\n"
   ]
  },
  {
   "cell_type": "code",
   "execution_count": 46,
   "metadata": {},
   "outputs": [],
   "source": [
    "#bootstrap "
   ]
  },
  {
   "cell_type": "code",
   "execution_count": 47,
   "metadata": {},
   "outputs": [],
   "source": [
    "#just to predict, then we will know the effects of bootstrap sampling\n",
    "accuracylst=[]\n",
    "def bootstrap_predict_accuracy():\n",
    "    part1,part2,part3,part4,part5,part6,testing_data=bootstrap(all_list2)\n",
    "    training_data=part1+part2+part3+part4+part5+part6\n",
    "\n",
    "\n",
    "    model6 = LinearDiscriminantAnalysis(n_components=4)\n",
    "    model6.fit(training_data,y6)\n",
    "    yhat6=model6.predict(X_testing)\n",
    "    a=accuracy2(yhat6,[\"DNA\",\"MT\",\"HSP\",\"PROT\",\"HDAC\",\"DMSO\"])\n",
    "\n",
    "\n",
    "    accuracylst.append(a)\n",
    "\n",
    "for i in range(10):\n",
    "    bootstrap_predict_accuracy()\n",
    "ave_accuracy=sum(accuracylst)/len(accuracylst)\n",
    "\n",
    "    "
   ]
  },
  {
   "cell_type": "code",
   "execution_count": 48,
   "metadata": {},
   "outputs": [
    {
     "data": {
      "text/plain": [
       "1.0"
      ]
     },
     "execution_count": 48,
     "metadata": {},
     "output_type": "execute_result"
    }
   ],
   "source": [
    "ave_accuracy"
   ]
  }
 ],
 "metadata": {
  "kernelspec": {
   "display_name": "Python 3.8.5 ('base')",
   "language": "python",
   "name": "python3"
  },
  "language_info": {
   "codemirror_mode": {
    "name": "ipython",
    "version": 3
   },
   "file_extension": ".py",
   "mimetype": "text/x-python",
   "name": "python",
   "nbconvert_exporter": "python",
   "pygments_lexer": "ipython3",
   "version": "3.8.5"
  },
  "vscode": {
   "interpreter": {
    "hash": "40d3a090f54c6569ab1632332b64b2c03c39dcf918b08424e98f38b5ae0af88f"
   }
  }
 },
 "nbformat": 4,
 "nbformat_minor": 4
}

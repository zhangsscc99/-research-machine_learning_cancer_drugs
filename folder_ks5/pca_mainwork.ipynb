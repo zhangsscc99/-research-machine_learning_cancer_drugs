{
 "cells": [
  {
   "cell_type": "code",
   "execution_count": 10,
   "metadata": {},
   "outputs": [],
   "source": [
    "#In \"folder 2\", the data we use is timepoint5 version\n",
    "#a code block that deals with concentration and drug names\n",
    "#we do not use this block for now.\n",
    "\n",
    "\n",
    "import pandas as pd\n",
    "f1 = pd.read_csv('B.csv')\n",
    "f2 = pd.read_csv('C.csv')\n",
    "f3=pd.read_csv('D.csv')\n",
    "f4=pd.read_csv('E.csv')\n",
    "f5=pd.read_csv('A_ks5.csv')\n",
    "file = [f1,f2,f3,f5]\n",
    "train = pd.concat(file,axis=1)\n",
    "train.to_csv(\"train.csv\", index=0, sep=',')\n"
   ]
  },
  {
   "cell_type": "code",
   "execution_count": 11,
   "metadata": {},
   "outputs": [
    {
     "name": "stdout",
     "output_type": "stream",
     "text": [
      "-0.294442\n"
     ]
    }
   ],
   "source": [
    "#do some further processing with \"A\" because there are some data error in it\n",
    "def remove_extradots(string):\n",
    "    counter=0\n",
    "    lst=[]\n",
    "    for i in range(len(string)):\n",
    "        if string[i]=='.' and counter<1 :\n",
    "            lst.append(string[i])\n",
    "            counter+=1\n",
    "        elif string[i]!='.':\n",
    "            lst.append(string[i])\n",
    "    res=\"\".join(lst)\n",
    "    return res\n",
    "\n",
    "\n",
    "\n",
    "import csv\n",
    "res_list=[]\n",
    "print(remove_extradots(\"-0.29444.2\"))\n",
    "with open('A_ks5.csv') as file2:\n",
    "    reader=csv.reader(file2)\n",
    "\n",
    "    for row in reader:\n",
    "        data=[]\n",
    "        for i in range(len(row)):\n",
    "            \n",
    "            data.append(remove_extradots(row[i]))\n",
    "        res_list.append(data)\n",
    "    \n",
    "\n",
    "\n",
    "with open('modified_A.csv', 'w') as file3:\n",
    "    writer = csv.writer(file3)\n",
    "    writer.writerows(res_list)\n",
    "file3.close()\n",
    "                \n"
   ]
  },
  {
   "cell_type": "code",
   "execution_count": 12,
   "metadata": {},
   "outputs": [
    {
     "data": {
      "text/plain": [
       "(767, 239)"
      ]
     },
     "execution_count": 12,
     "metadata": {},
     "output_type": "execute_result"
    }
   ],
   "source": [
    "#test file A\n",
    "import pandas as pd\n",
    "df_A=pd.read_csv(\"A_ks5.csv\")\n",
    "df_A.shape\n",
    "\n"
   ]
  },
  {
   "cell_type": "code",
   "execution_count": 13,
   "metadata": {},
   "outputs": [],
   "source": [
    "#a block that is used to concate the drug names(drug combinations and related concentration)\n",
    "\n",
    "import csv\n",
    "res_list=[]\n",
    "with open('train.csv', 'r') as file:\n",
    "    reader = csv.reader(file)\n",
    "    \n",
    "    for row in reader:\n",
    "        data=[]\n",
    "        data.append(row[0]+'+'+row[1]+\"+\"+row[2])\n",
    "        res_list.append(data)\n",
    "\n",
    "        \n",
    "        \n",
    "with open('concatenated.csv', 'w') as file2:\n",
    "    writer = csv.writer(file2)\n",
    "    writer.writerows(res_list)"
   ]
  },
  {
   "cell_type": "code",
   "execution_count": 14,
   "metadata": {},
   "outputs": [],
   "source": [
    "#a block that is used to concate concentration and ks numbers.\n",
    "import pandas as pd\n",
    "f1 = pd.read_csv('concatenated.csv')\n",
    "#f2 = pd.read_csv('C.csv')\n",
    "f3=pd.read_csv('D.csv')\n",
    "f4=pd.read_csv('E.csv')\n",
    "f5=pd.read_csv('modified_A.csv')\n",
    "file = [f1,f5]\n",
    "train = pd.concat(file,axis=1)\n",
    "train.to_csv(\"train3.csv\", index=0, sep=',')"
   ]
  },
  {
   "cell_type": "code",
   "execution_count": 15,
   "metadata": {},
   "outputs": [],
   "source": [
    "#a block that sets the fields for the drug data\n",
    "import csv\n",
    "fields=['drug_name','default']\n",
    "for i in range(1,239):\n",
    "    fields.append('ks'+str(i))\n",
    "rows=[]\n",
    "with open('train3.csv', 'r') as file:\n",
    "    reader = csv.reader(file)\n",
    "    \n",
    "    for row in reader:\n",
    "        rows.append(row)\n",
    "\n",
    "        \n",
    "        \n",
    "with open('drug_withfields2.csv', 'w') as file2:\n",
    "    writer = csv.writer(file2)\n",
    "    writer.writerow(fields)\n",
    "    writer.writerows(rows)"
   ]
  },
  {
   "cell_type": "code",
   "execution_count": 16,
   "metadata": {},
   "outputs": [
    {
     "name": "stdout",
     "output_type": "stream",
     "text": [
      "-0.294442\n"
     ]
    }
   ],
   "source": [
    "#do some further processing with \"drug_withfields\" because there are still some data error in it\n",
    "def remove_extradots(string):\n",
    "    counter=0\n",
    "    lst=[]\n",
    "    for i in range(len(string)):\n",
    "        if string[i]=='.' and counter<1 :\n",
    "            lst.append(string[i])\n",
    "            counter+=1\n",
    "        elif string[i]!='.':\n",
    "            lst.append(string[i])\n",
    "    res=\"\".join(lst)\n",
    "    return res\n",
    "\n",
    "\n",
    "\n",
    "import csv\n",
    "res_list=[]\n",
    "print(remove_extradots(\"-0.29444.2\"))\n",
    "with open('drug_withfields2.csv') as file2:\n",
    "    reader=csv.reader(file2)\n",
    "\n",
    "    for row in reader:\n",
    "        data=[]\n",
    "        for i in range(len(row)):\n",
    "            \n",
    "            data.append(remove_extradots(row[i]))\n",
    "        res_list.append(data)\n",
    "    \n",
    "\n",
    "\n",
    "with open('drug_with_fields.csv', 'w') as file3:\n",
    "    writer = csv.writer(file3)\n",
    "    writer.writerows(res_list)\n",
    "file3.close()\n",
    "                "
   ]
  },
  {
   "cell_type": "code",
   "execution_count": 17,
   "metadata": {},
   "outputs": [
    {
     "data": {
      "text/html": [
       "<div>\n",
       "<style scoped>\n",
       "    .dataframe tbody tr th:only-of-type {\n",
       "        vertical-align: middle;\n",
       "    }\n",
       "\n",
       "    .dataframe tbody tr th {\n",
       "        vertical-align: top;\n",
       "    }\n",
       "\n",
       "    .dataframe thead th {\n",
       "        text-align: right;\n",
       "    }\n",
       "</style>\n",
       "<table border=\"1\" class=\"dataframe\">\n",
       "  <thead>\n",
       "    <tr style=\"text-align: right;\">\n",
       "      <th></th>\n",
       "      <th>drug_name</th>\n",
       "      <th>default</th>\n",
       "      <th>ks1</th>\n",
       "      <th>ks2</th>\n",
       "      <th>ks3</th>\n",
       "      <th>ks4</th>\n",
       "      <th>ks5</th>\n",
       "      <th>ks6</th>\n",
       "      <th>ks7</th>\n",
       "      <th>ks8</th>\n",
       "      <th>...</th>\n",
       "      <th>ks229</th>\n",
       "      <th>ks230</th>\n",
       "      <th>ks231</th>\n",
       "      <th>ks232</th>\n",
       "      <th>ks233</th>\n",
       "      <th>ks234</th>\n",
       "      <th>ks235</th>\n",
       "      <th>ks236</th>\n",
       "      <th>ks237</th>\n",
       "      <th>ks238</th>\n",
       "    </tr>\n",
       "  </thead>\n",
       "  <tbody>\n",
       "    <tr>\n",
       "      <th>0</th>\n",
       "      <td>Etoposide+Etoposide+1</td>\n",
       "      <td>0</td>\n",
       "      <td>-0.930830</td>\n",
       "      <td>-0.494530</td>\n",
       "      <td>-0.571140</td>\n",
       "      <td>-0.799580</td>\n",
       "      <td>-0.885820</td>\n",
       "      <td>-0.605470</td>\n",
       "      <td>-0.502670</td>\n",
       "      <td>-0.483900</td>\n",
       "      <td>...</td>\n",
       "      <td>-0.081045</td>\n",
       "      <td>0.191610</td>\n",
       "      <td>-0.217910</td>\n",
       "      <td>0.135640</td>\n",
       "      <td>0.109241</td>\n",
       "      <td>0.191611</td>\n",
       "      <td>-0.457840</td>\n",
       "      <td>-0.457700</td>\n",
       "      <td>-0.306950</td>\n",
       "      <td>0.244280</td>\n",
       "    </tr>\n",
       "    <tr>\n",
       "      <th>2</th>\n",
       "      <td>Etoposide+Etoposide+2</td>\n",
       "      <td>0</td>\n",
       "      <td>-0.925000</td>\n",
       "      <td>-0.400790</td>\n",
       "      <td>-0.318350</td>\n",
       "      <td>-0.538470</td>\n",
       "      <td>-0.806570</td>\n",
       "      <td>-0.364790</td>\n",
       "      <td>-0.259440</td>\n",
       "      <td>-0.227850</td>\n",
       "      <td>...</td>\n",
       "      <td>0.209710</td>\n",
       "      <td>0.219110</td>\n",
       "      <td>-0.316050</td>\n",
       "      <td>0.302770</td>\n",
       "      <td>0.269690</td>\n",
       "      <td>0.219110</td>\n",
       "      <td>-0.682210</td>\n",
       "      <td>-0.677890</td>\n",
       "      <td>-0.436920</td>\n",
       "      <td>0.410580</td>\n",
       "    </tr>\n",
       "    <tr>\n",
       "      <th>4</th>\n",
       "      <td>Etoposide+Etoposide+3</td>\n",
       "      <td>0</td>\n",
       "      <td>-0.612500</td>\n",
       "      <td>0.097551</td>\n",
       "      <td>-0.134220</td>\n",
       "      <td>0.145150</td>\n",
       "      <td>-0.135310</td>\n",
       "      <td>-0.134520</td>\n",
       "      <td>-0.132050</td>\n",
       "      <td>-0.126850</td>\n",
       "      <td>...</td>\n",
       "      <td>0.448330</td>\n",
       "      <td>0.139830</td>\n",
       "      <td>-0.284680</td>\n",
       "      <td>0.535250</td>\n",
       "      <td>0.513990</td>\n",
       "      <td>0.139830</td>\n",
       "      <td>-0.458720</td>\n",
       "      <td>-0.513200</td>\n",
       "      <td>-0.164460</td>\n",
       "      <td>0.358140</td>\n",
       "    </tr>\n",
       "    <tr>\n",
       "      <th>6</th>\n",
       "      <td>Etoposide+Etoposide+4</td>\n",
       "      <td>0</td>\n",
       "      <td>0.097702</td>\n",
       "      <td>-0.056872</td>\n",
       "      <td>0.052675</td>\n",
       "      <td>0.092692</td>\n",
       "      <td>-0.035013</td>\n",
       "      <td>0.022697</td>\n",
       "      <td>0.067232</td>\n",
       "      <td>0.089390</td>\n",
       "      <td>...</td>\n",
       "      <td>-0.135830</td>\n",
       "      <td>0.052788</td>\n",
       "      <td>-0.042936</td>\n",
       "      <td>-0.105850</td>\n",
       "      <td>-0.116150</td>\n",
       "      <td>0.052788</td>\n",
       "      <td>0.122380</td>\n",
       "      <td>0.109650</td>\n",
       "      <td>-0.061423</td>\n",
       "      <td>-0.056829</td>\n",
       "    </tr>\n",
       "    <tr>\n",
       "      <th>8</th>\n",
       "      <td>Etoposide+Etoposide+5</td>\n",
       "      <td>0</td>\n",
       "      <td>0.086735</td>\n",
       "      <td>0.059167</td>\n",
       "      <td>0.080377</td>\n",
       "      <td>0.131050</td>\n",
       "      <td>0.028573</td>\n",
       "      <td>0.041073</td>\n",
       "      <td>0.097591</td>\n",
       "      <td>0.110090</td>\n",
       "      <td>...</td>\n",
       "      <td>-0.094087</td>\n",
       "      <td>0.048276</td>\n",
       "      <td>-0.029692</td>\n",
       "      <td>-0.090616</td>\n",
       "      <td>-0.095434</td>\n",
       "      <td>0.048276</td>\n",
       "      <td>0.135300</td>\n",
       "      <td>0.114380</td>\n",
       "      <td>-0.046655</td>\n",
       "      <td>-0.047169</td>\n",
       "    </tr>\n",
       "    <tr>\n",
       "      <th>10</th>\n",
       "      <td>Etoposide+Etoposide+6</td>\n",
       "      <td>0</td>\n",
       "      <td>0.101740</td>\n",
       "      <td>-0.058135</td>\n",
       "      <td>0.029234</td>\n",
       "      <td>0.118040</td>\n",
       "      <td>-0.071427</td>\n",
       "      <td>-0.024583</td>\n",
       "      <td>0.042422</td>\n",
       "      <td>0.067318</td>\n",
       "      <td>...</td>\n",
       "      <td>-0.105350</td>\n",
       "      <td>0.043098</td>\n",
       "      <td>-0.033994</td>\n",
       "      <td>-0.094549</td>\n",
       "      <td>-0.101240</td>\n",
       "      <td>0.043098</td>\n",
       "      <td>0.096732</td>\n",
       "      <td>0.081555</td>\n",
       "      <td>-0.054561</td>\n",
       "      <td>-0.039229</td>\n",
       "    </tr>\n",
       "    <tr>\n",
       "      <th>144</th>\n",
       "      <td>Paclitaxel+Paclitaxel+1</td>\n",
       "      <td>0</td>\n",
       "      <td>-0.300830</td>\n",
       "      <td>-0.840350</td>\n",
       "      <td>-1.000000</td>\n",
       "      <td>-0.997500</td>\n",
       "      <td>-1.000000</td>\n",
       "      <td>-1.000000</td>\n",
       "      <td>-0.999140</td>\n",
       "      <td>-0.997430</td>\n",
       "      <td>...</td>\n",
       "      <td>-0.584100</td>\n",
       "      <td>-0.102890</td>\n",
       "      <td>0.466930</td>\n",
       "      <td>-0.623440</td>\n",
       "      <td>-0.580900</td>\n",
       "      <td>-0.102890</td>\n",
       "      <td>0.859730</td>\n",
       "      <td>0.809250</td>\n",
       "      <td>0.255000</td>\n",
       "      <td>-0.573130</td>\n",
       "    </tr>\n",
       "    <tr>\n",
       "      <th>146</th>\n",
       "      <td>Paclitaxel+Paclitaxel+2</td>\n",
       "      <td>0</td>\n",
       "      <td>-0.701670</td>\n",
       "      <td>0.215270</td>\n",
       "      <td>0.294070</td>\n",
       "      <td>0.091438</td>\n",
       "      <td>-0.061154</td>\n",
       "      <td>0.242050</td>\n",
       "      <td>0.341930</td>\n",
       "      <td>0.333870</td>\n",
       "      <td>...</td>\n",
       "      <td>0.185270</td>\n",
       "      <td>0.184740</td>\n",
       "      <td>-0.082992</td>\n",
       "      <td>0.331490</td>\n",
       "      <td>0.319060</td>\n",
       "      <td>0.184740</td>\n",
       "      <td>-0.469570</td>\n",
       "      <td>-0.474290</td>\n",
       "      <td>-0.306930</td>\n",
       "      <td>0.206270</td>\n",
       "    </tr>\n",
       "    <tr>\n",
       "      <th>148</th>\n",
       "      <td>Paclitaxel+Paclitaxel+3</td>\n",
       "      <td>0</td>\n",
       "      <td>-0.475830</td>\n",
       "      <td>0.268630</td>\n",
       "      <td>0.201940</td>\n",
       "      <td>0.281090</td>\n",
       "      <td>0.101080</td>\n",
       "      <td>0.136620</td>\n",
       "      <td>0.230790</td>\n",
       "      <td>0.260900</td>\n",
       "      <td>...</td>\n",
       "      <td>0.381840</td>\n",
       "      <td>0.066984</td>\n",
       "      <td>-0.046572</td>\n",
       "      <td>0.417620</td>\n",
       "      <td>0.409940</td>\n",
       "      <td>0.066984</td>\n",
       "      <td>-0.286740</td>\n",
       "      <td>-0.237130</td>\n",
       "      <td>-0.087100</td>\n",
       "      <td>0.039240</td>\n",
       "    </tr>\n",
       "    <tr>\n",
       "      <th>150</th>\n",
       "      <td>Paclitaxel+Paclitaxel+4</td>\n",
       "      <td>0</td>\n",
       "      <td>-0.341030</td>\n",
       "      <td>0.212930</td>\n",
       "      <td>0.278850</td>\n",
       "      <td>0.138780</td>\n",
       "      <td>0.130820</td>\n",
       "      <td>0.237260</td>\n",
       "      <td>0.300770</td>\n",
       "      <td>0.302080</td>\n",
       "      <td>...</td>\n",
       "      <td>0.246680</td>\n",
       "      <td>0.123350</td>\n",
       "      <td>-0.089826</td>\n",
       "      <td>0.338950</td>\n",
       "      <td>0.305890</td>\n",
       "      <td>0.123350</td>\n",
       "      <td>-0.292010</td>\n",
       "      <td>-0.275380</td>\n",
       "      <td>-0.121880</td>\n",
       "      <td>0.103550</td>\n",
       "    </tr>\n",
       "    <tr>\n",
       "      <th>152</th>\n",
       "      <td>Paclitaxel+Paclitaxel+5</td>\n",
       "      <td>0</td>\n",
       "      <td>-0.089338</td>\n",
       "      <td>0.154390</td>\n",
       "      <td>0.170250</td>\n",
       "      <td>0.172360</td>\n",
       "      <td>0.079247</td>\n",
       "      <td>0.132480</td>\n",
       "      <td>0.189570</td>\n",
       "      <td>0.190650</td>\n",
       "      <td>...</td>\n",
       "      <td>0.069583</td>\n",
       "      <td>0.041740</td>\n",
       "      <td>-0.054723</td>\n",
       "      <td>0.092216</td>\n",
       "      <td>0.087632</td>\n",
       "      <td>0.041740</td>\n",
       "      <td>0.045508</td>\n",
       "      <td>0.054221</td>\n",
       "      <td>-0.058192</td>\n",
       "      <td>-0.049703</td>\n",
       "    </tr>\n",
       "    <tr>\n",
       "      <th>154</th>\n",
       "      <td>Paclitaxel+Paclitaxel+6</td>\n",
       "      <td>0</td>\n",
       "      <td>0.142920</td>\n",
       "      <td>-0.104830</td>\n",
       "      <td>-0.041014</td>\n",
       "      <td>0.057095</td>\n",
       "      <td>-0.067967</td>\n",
       "      <td>-0.043463</td>\n",
       "      <td>0.054461</td>\n",
       "      <td>0.072370</td>\n",
       "      <td>...</td>\n",
       "      <td>-0.171350</td>\n",
       "      <td>0.051535</td>\n",
       "      <td>-0.061594</td>\n",
       "      <td>-0.160620</td>\n",
       "      <td>-0.168540</td>\n",
       "      <td>0.051535</td>\n",
       "      <td>0.111810</td>\n",
       "      <td>0.077847</td>\n",
       "      <td>-0.075746</td>\n",
       "      <td>-0.042617</td>\n",
       "    </tr>\n",
       "    <tr>\n",
       "      <th>120</th>\n",
       "      <td>Etoposide+Paclitaxel+1</td>\n",
       "      <td>0</td>\n",
       "      <td>-0.846670</td>\n",
       "      <td>-0.663110</td>\n",
       "      <td>-0.789380</td>\n",
       "      <td>-0.884760</td>\n",
       "      <td>-0.933720</td>\n",
       "      <td>-0.806660</td>\n",
       "      <td>-0.748630</td>\n",
       "      <td>-0.722390</td>\n",
       "      <td>...</td>\n",
       "      <td>-0.277370</td>\n",
       "      <td>0.154730</td>\n",
       "      <td>-0.150620</td>\n",
       "      <td>-0.253280</td>\n",
       "      <td>-0.246950</td>\n",
       "      <td>0.154730</td>\n",
       "      <td>-0.265350</td>\n",
       "      <td>-0.311100</td>\n",
       "      <td>-0.302470</td>\n",
       "      <td>0.213200</td>\n",
       "    </tr>\n",
       "    <tr>\n",
       "      <th>122</th>\n",
       "      <td>Etoposide+Paclitaxel+2</td>\n",
       "      <td>0</td>\n",
       "      <td>-0.948330</td>\n",
       "      <td>-0.375430</td>\n",
       "      <td>-0.334610</td>\n",
       "      <td>-0.451520</td>\n",
       "      <td>-0.714800</td>\n",
       "      <td>-0.348860</td>\n",
       "      <td>-0.267030</td>\n",
       "      <td>-0.226220</td>\n",
       "      <td>...</td>\n",
       "      <td>0.232800</td>\n",
       "      <td>0.248270</td>\n",
       "      <td>-0.319700</td>\n",
       "      <td>0.317800</td>\n",
       "      <td>0.289170</td>\n",
       "      <td>0.248270</td>\n",
       "      <td>-0.694270</td>\n",
       "      <td>-0.666910</td>\n",
       "      <td>-0.457930</td>\n",
       "      <td>0.373620</td>\n",
       "    </tr>\n",
       "    <tr>\n",
       "      <th>124</th>\n",
       "      <td>Etoposide+Paclitaxel+3</td>\n",
       "      <td>0</td>\n",
       "      <td>-0.760830</td>\n",
       "      <td>-0.147850</td>\n",
       "      <td>-0.210250</td>\n",
       "      <td>0.160570</td>\n",
       "      <td>-0.344720</td>\n",
       "      <td>-0.244520</td>\n",
       "      <td>-0.162720</td>\n",
       "      <td>-0.139860</td>\n",
       "      <td>...</td>\n",
       "      <td>0.412510</td>\n",
       "      <td>0.166410</td>\n",
       "      <td>-0.210580</td>\n",
       "      <td>0.482260</td>\n",
       "      <td>0.469360</td>\n",
       "      <td>0.166410</td>\n",
       "      <td>-0.590290</td>\n",
       "      <td>-0.597670</td>\n",
       "      <td>-0.298980</td>\n",
       "      <td>0.289440</td>\n",
       "    </tr>\n",
       "    <tr>\n",
       "      <th>126</th>\n",
       "      <td>Etoposide+Paclitaxel+4</td>\n",
       "      <td>0</td>\n",
       "      <td>-0.361800</td>\n",
       "      <td>0.229630</td>\n",
       "      <td>0.223180</td>\n",
       "      <td>0.240800</td>\n",
       "      <td>0.128740</td>\n",
       "      <td>0.177700</td>\n",
       "      <td>0.251450</td>\n",
       "      <td>0.263140</td>\n",
       "      <td>...</td>\n",
       "      <td>0.268230</td>\n",
       "      <td>0.126220</td>\n",
       "      <td>-0.115410</td>\n",
       "      <td>0.334580</td>\n",
       "      <td>0.307330</td>\n",
       "      <td>0.126220</td>\n",
       "      <td>-0.232980</td>\n",
       "      <td>-0.231510</td>\n",
       "      <td>-0.105080</td>\n",
       "      <td>0.097613</td>\n",
       "    </tr>\n",
       "    <tr>\n",
       "      <th>128</th>\n",
       "      <td>Etoposide+Paclitaxel+5</td>\n",
       "      <td>0</td>\n",
       "      <td>-0.058284</td>\n",
       "      <td>0.088440</td>\n",
       "      <td>0.075076</td>\n",
       "      <td>0.240700</td>\n",
       "      <td>-0.044116</td>\n",
       "      <td>-0.030284</td>\n",
       "      <td>0.101760</td>\n",
       "      <td>0.117550</td>\n",
       "      <td>...</td>\n",
       "      <td>0.029492</td>\n",
       "      <td>0.046294</td>\n",
       "      <td>-0.042994</td>\n",
       "      <td>0.043383</td>\n",
       "      <td>0.032267</td>\n",
       "      <td>0.046294</td>\n",
       "      <td>0.058341</td>\n",
       "      <td>0.045061</td>\n",
       "      <td>-0.063228</td>\n",
       "      <td>-0.052766</td>\n",
       "    </tr>\n",
       "    <tr>\n",
       "      <th>130</th>\n",
       "      <td>Etoposide+Paclitaxel+6</td>\n",
       "      <td>0</td>\n",
       "      <td>0.095894</td>\n",
       "      <td>-0.098137</td>\n",
       "      <td>-0.083238</td>\n",
       "      <td>0.193900</td>\n",
       "      <td>-0.164690</td>\n",
       "      <td>-0.136600</td>\n",
       "      <td>-0.065088</td>\n",
       "      <td>-0.041870</td>\n",
       "      <td>...</td>\n",
       "      <td>-0.133680</td>\n",
       "      <td>0.051104</td>\n",
       "      <td>-0.052602</td>\n",
       "      <td>-0.120470</td>\n",
       "      <td>-0.120970</td>\n",
       "      <td>0.051104</td>\n",
       "      <td>0.114700</td>\n",
       "      <td>0.097026</td>\n",
       "      <td>-0.079702</td>\n",
       "      <td>-0.041883</td>\n",
       "    </tr>\n",
       "    <tr>\n",
       "      <th>24</th>\n",
       "      <td>Paclitaxel+Etoposide+1</td>\n",
       "      <td>0</td>\n",
       "      <td>-0.680620</td>\n",
       "      <td>-0.851010</td>\n",
       "      <td>-0.991660</td>\n",
       "      <td>-0.981870</td>\n",
       "      <td>-1.000000</td>\n",
       "      <td>-0.993540</td>\n",
       "      <td>-0.971240</td>\n",
       "      <td>-0.947690</td>\n",
       "      <td>...</td>\n",
       "      <td>-0.624510</td>\n",
       "      <td>-0.206660</td>\n",
       "      <td>0.144050</td>\n",
       "      <td>-0.641330</td>\n",
       "      <td>-0.617780</td>\n",
       "      <td>-0.206660</td>\n",
       "      <td>0.290100</td>\n",
       "      <td>0.157730</td>\n",
       "      <td>-0.151070</td>\n",
       "      <td>0.081429</td>\n",
       "    </tr>\n",
       "    <tr>\n",
       "      <th>26</th>\n",
       "      <td>Paclitaxel+Etoposide+2</td>\n",
       "      <td>0</td>\n",
       "      <td>-0.686670</td>\n",
       "      <td>0.201060</td>\n",
       "      <td>0.253560</td>\n",
       "      <td>0.191230</td>\n",
       "      <td>-0.098699</td>\n",
       "      <td>0.159940</td>\n",
       "      <td>0.315230</td>\n",
       "      <td>0.340850</td>\n",
       "      <td>...</td>\n",
       "      <td>0.122930</td>\n",
       "      <td>0.347530</td>\n",
       "      <td>-0.294710</td>\n",
       "      <td>0.363940</td>\n",
       "      <td>0.299500</td>\n",
       "      <td>0.347530</td>\n",
       "      <td>-0.392750</td>\n",
       "      <td>-0.471340</td>\n",
       "      <td>-0.406250</td>\n",
       "      <td>0.367560</td>\n",
       "    </tr>\n",
       "    <tr>\n",
       "      <th>28</th>\n",
       "      <td>Paclitaxel+Etoposide+3</td>\n",
       "      <td>0</td>\n",
       "      <td>-0.035000</td>\n",
       "      <td>-0.078124</td>\n",
       "      <td>-0.107970</td>\n",
       "      <td>0.316880</td>\n",
       "      <td>-0.158460</td>\n",
       "      <td>-0.139360</td>\n",
       "      <td>-0.082519</td>\n",
       "      <td>-0.063477</td>\n",
       "      <td>...</td>\n",
       "      <td>-0.036736</td>\n",
       "      <td>0.030062</td>\n",
       "      <td>-0.025455</td>\n",
       "      <td>-0.045671</td>\n",
       "      <td>-0.043672</td>\n",
       "      <td>0.030062</td>\n",
       "      <td>0.098858</td>\n",
       "      <td>0.063011</td>\n",
       "      <td>-0.089129</td>\n",
       "      <td>-0.021140</td>\n",
       "    </tr>\n",
       "    <tr>\n",
       "      <th>30</th>\n",
       "      <td>Paclitaxel+Etoposide+4</td>\n",
       "      <td>0</td>\n",
       "      <td>0.058507</td>\n",
       "      <td>-0.095412</td>\n",
       "      <td>-0.135600</td>\n",
       "      <td>0.389410</td>\n",
       "      <td>-0.184960</td>\n",
       "      <td>-0.213550</td>\n",
       "      <td>-0.110020</td>\n",
       "      <td>-0.070833</td>\n",
       "      <td>...</td>\n",
       "      <td>-0.102420</td>\n",
       "      <td>0.040860</td>\n",
       "      <td>-0.034935</td>\n",
       "      <td>-0.099975</td>\n",
       "      <td>-0.100070</td>\n",
       "      <td>0.040860</td>\n",
       "      <td>0.186760</td>\n",
       "      <td>0.164590</td>\n",
       "      <td>-0.066861</td>\n",
       "      <td>-0.060081</td>\n",
       "    </tr>\n",
       "    <tr>\n",
       "      <th>32</th>\n",
       "      <td>Paclitaxel+Etoposide+5</td>\n",
       "      <td>0</td>\n",
       "      <td>0.084414</td>\n",
       "      <td>-0.080815</td>\n",
       "      <td>-0.047830</td>\n",
       "      <td>0.254250</td>\n",
       "      <td>-0.124920</td>\n",
       "      <td>-0.094469</td>\n",
       "      <td>0.038700</td>\n",
       "      <td>0.066731</td>\n",
       "      <td>...</td>\n",
       "      <td>-0.107420</td>\n",
       "      <td>0.028553</td>\n",
       "      <td>-0.036996</td>\n",
       "      <td>-0.106860</td>\n",
       "      <td>-0.108240</td>\n",
       "      <td>0.028553</td>\n",
       "      <td>0.143890</td>\n",
       "      <td>0.111840</td>\n",
       "      <td>-0.063498</td>\n",
       "      <td>-0.046282</td>\n",
       "    </tr>\n",
       "    <tr>\n",
       "      <th>34</th>\n",
       "      <td>Paclitaxel+Etoposide+6</td>\n",
       "      <td>0</td>\n",
       "      <td>0.079262</td>\n",
       "      <td>-0.114600</td>\n",
       "      <td>-0.103290</td>\n",
       "      <td>0.212910</td>\n",
       "      <td>-0.125160</td>\n",
       "      <td>-0.123030</td>\n",
       "      <td>-0.082338</td>\n",
       "      <td>-0.068838</td>\n",
       "      <td>...</td>\n",
       "      <td>-0.126770</td>\n",
       "      <td>0.059551</td>\n",
       "      <td>-0.043650</td>\n",
       "      <td>-0.109740</td>\n",
       "      <td>-0.115690</td>\n",
       "      <td>0.059551</td>\n",
       "      <td>0.128050</td>\n",
       "      <td>0.093462</td>\n",
       "      <td>-0.065218</td>\n",
       "      <td>-0.046354</td>\n",
       "    </tr>\n",
       "  </tbody>\n",
       "</table>\n",
       "<p>24 rows × 240 columns</p>\n",
       "</div>"
      ],
      "text/plain": [
       "                   drug_name  default       ks1       ks2       ks3       ks4  \\\n",
       "0      Etoposide+Etoposide+1        0 -0.930830 -0.494530 -0.571140 -0.799580   \n",
       "2      Etoposide+Etoposide+2        0 -0.925000 -0.400790 -0.318350 -0.538470   \n",
       "4      Etoposide+Etoposide+3        0 -0.612500  0.097551 -0.134220  0.145150   \n",
       "6      Etoposide+Etoposide+4        0  0.097702 -0.056872  0.052675  0.092692   \n",
       "8      Etoposide+Etoposide+5        0  0.086735  0.059167  0.080377  0.131050   \n",
       "10     Etoposide+Etoposide+6        0  0.101740 -0.058135  0.029234  0.118040   \n",
       "144  Paclitaxel+Paclitaxel+1        0 -0.300830 -0.840350 -1.000000 -0.997500   \n",
       "146  Paclitaxel+Paclitaxel+2        0 -0.701670  0.215270  0.294070  0.091438   \n",
       "148  Paclitaxel+Paclitaxel+3        0 -0.475830  0.268630  0.201940  0.281090   \n",
       "150  Paclitaxel+Paclitaxel+4        0 -0.341030  0.212930  0.278850  0.138780   \n",
       "152  Paclitaxel+Paclitaxel+5        0 -0.089338  0.154390  0.170250  0.172360   \n",
       "154  Paclitaxel+Paclitaxel+6        0  0.142920 -0.104830 -0.041014  0.057095   \n",
       "120   Etoposide+Paclitaxel+1        0 -0.846670 -0.663110 -0.789380 -0.884760   \n",
       "122   Etoposide+Paclitaxel+2        0 -0.948330 -0.375430 -0.334610 -0.451520   \n",
       "124   Etoposide+Paclitaxel+3        0 -0.760830 -0.147850 -0.210250  0.160570   \n",
       "126   Etoposide+Paclitaxel+4        0 -0.361800  0.229630  0.223180  0.240800   \n",
       "128   Etoposide+Paclitaxel+5        0 -0.058284  0.088440  0.075076  0.240700   \n",
       "130   Etoposide+Paclitaxel+6        0  0.095894 -0.098137 -0.083238  0.193900   \n",
       "24    Paclitaxel+Etoposide+1        0 -0.680620 -0.851010 -0.991660 -0.981870   \n",
       "26    Paclitaxel+Etoposide+2        0 -0.686670  0.201060  0.253560  0.191230   \n",
       "28    Paclitaxel+Etoposide+3        0 -0.035000 -0.078124 -0.107970  0.316880   \n",
       "30    Paclitaxel+Etoposide+4        0  0.058507 -0.095412 -0.135600  0.389410   \n",
       "32    Paclitaxel+Etoposide+5        0  0.084414 -0.080815 -0.047830  0.254250   \n",
       "34    Paclitaxel+Etoposide+6        0  0.079262 -0.114600 -0.103290  0.212910   \n",
       "\n",
       "          ks5       ks6       ks7       ks8  ...     ks229     ks230  \\\n",
       "0   -0.885820 -0.605470 -0.502670 -0.483900  ... -0.081045  0.191610   \n",
       "2   -0.806570 -0.364790 -0.259440 -0.227850  ...  0.209710  0.219110   \n",
       "4   -0.135310 -0.134520 -0.132050 -0.126850  ...  0.448330  0.139830   \n",
       "6   -0.035013  0.022697  0.067232  0.089390  ... -0.135830  0.052788   \n",
       "8    0.028573  0.041073  0.097591  0.110090  ... -0.094087  0.048276   \n",
       "10  -0.071427 -0.024583  0.042422  0.067318  ... -0.105350  0.043098   \n",
       "144 -1.000000 -1.000000 -0.999140 -0.997430  ... -0.584100 -0.102890   \n",
       "146 -0.061154  0.242050  0.341930  0.333870  ...  0.185270  0.184740   \n",
       "148  0.101080  0.136620  0.230790  0.260900  ...  0.381840  0.066984   \n",
       "150  0.130820  0.237260  0.300770  0.302080  ...  0.246680  0.123350   \n",
       "152  0.079247  0.132480  0.189570  0.190650  ...  0.069583  0.041740   \n",
       "154 -0.067967 -0.043463  0.054461  0.072370  ... -0.171350  0.051535   \n",
       "120 -0.933720 -0.806660 -0.748630 -0.722390  ... -0.277370  0.154730   \n",
       "122 -0.714800 -0.348860 -0.267030 -0.226220  ...  0.232800  0.248270   \n",
       "124 -0.344720 -0.244520 -0.162720 -0.139860  ...  0.412510  0.166410   \n",
       "126  0.128740  0.177700  0.251450  0.263140  ...  0.268230  0.126220   \n",
       "128 -0.044116 -0.030284  0.101760  0.117550  ...  0.029492  0.046294   \n",
       "130 -0.164690 -0.136600 -0.065088 -0.041870  ... -0.133680  0.051104   \n",
       "24  -1.000000 -0.993540 -0.971240 -0.947690  ... -0.624510 -0.206660   \n",
       "26  -0.098699  0.159940  0.315230  0.340850  ...  0.122930  0.347530   \n",
       "28  -0.158460 -0.139360 -0.082519 -0.063477  ... -0.036736  0.030062   \n",
       "30  -0.184960 -0.213550 -0.110020 -0.070833  ... -0.102420  0.040860   \n",
       "32  -0.124920 -0.094469  0.038700  0.066731  ... -0.107420  0.028553   \n",
       "34  -0.125160 -0.123030 -0.082338 -0.068838  ... -0.126770  0.059551   \n",
       "\n",
       "        ks231     ks232     ks233     ks234     ks235     ks236     ks237  \\\n",
       "0   -0.217910  0.135640  0.109241  0.191611 -0.457840 -0.457700 -0.306950   \n",
       "2   -0.316050  0.302770  0.269690  0.219110 -0.682210 -0.677890 -0.436920   \n",
       "4   -0.284680  0.535250  0.513990  0.139830 -0.458720 -0.513200 -0.164460   \n",
       "6   -0.042936 -0.105850 -0.116150  0.052788  0.122380  0.109650 -0.061423   \n",
       "8   -0.029692 -0.090616 -0.095434  0.048276  0.135300  0.114380 -0.046655   \n",
       "10  -0.033994 -0.094549 -0.101240  0.043098  0.096732  0.081555 -0.054561   \n",
       "144  0.466930 -0.623440 -0.580900 -0.102890  0.859730  0.809250  0.255000   \n",
       "146 -0.082992  0.331490  0.319060  0.184740 -0.469570 -0.474290 -0.306930   \n",
       "148 -0.046572  0.417620  0.409940  0.066984 -0.286740 -0.237130 -0.087100   \n",
       "150 -0.089826  0.338950  0.305890  0.123350 -0.292010 -0.275380 -0.121880   \n",
       "152 -0.054723  0.092216  0.087632  0.041740  0.045508  0.054221 -0.058192   \n",
       "154 -0.061594 -0.160620 -0.168540  0.051535  0.111810  0.077847 -0.075746   \n",
       "120 -0.150620 -0.253280 -0.246950  0.154730 -0.265350 -0.311100 -0.302470   \n",
       "122 -0.319700  0.317800  0.289170  0.248270 -0.694270 -0.666910 -0.457930   \n",
       "124 -0.210580  0.482260  0.469360  0.166410 -0.590290 -0.597670 -0.298980   \n",
       "126 -0.115410  0.334580  0.307330  0.126220 -0.232980 -0.231510 -0.105080   \n",
       "128 -0.042994  0.043383  0.032267  0.046294  0.058341  0.045061 -0.063228   \n",
       "130 -0.052602 -0.120470 -0.120970  0.051104  0.114700  0.097026 -0.079702   \n",
       "24   0.144050 -0.641330 -0.617780 -0.206660  0.290100  0.157730 -0.151070   \n",
       "26  -0.294710  0.363940  0.299500  0.347530 -0.392750 -0.471340 -0.406250   \n",
       "28  -0.025455 -0.045671 -0.043672  0.030062  0.098858  0.063011 -0.089129   \n",
       "30  -0.034935 -0.099975 -0.100070  0.040860  0.186760  0.164590 -0.066861   \n",
       "32  -0.036996 -0.106860 -0.108240  0.028553  0.143890  0.111840 -0.063498   \n",
       "34  -0.043650 -0.109740 -0.115690  0.059551  0.128050  0.093462 -0.065218   \n",
       "\n",
       "        ks238  \n",
       "0    0.244280  \n",
       "2    0.410580  \n",
       "4    0.358140  \n",
       "6   -0.056829  \n",
       "8   -0.047169  \n",
       "10  -0.039229  \n",
       "144 -0.573130  \n",
       "146  0.206270  \n",
       "148  0.039240  \n",
       "150  0.103550  \n",
       "152 -0.049703  \n",
       "154 -0.042617  \n",
       "120  0.213200  \n",
       "122  0.373620  \n",
       "124  0.289440  \n",
       "126  0.097613  \n",
       "128 -0.052766  \n",
       "130 -0.041883  \n",
       "24   0.081429  \n",
       "26   0.367560  \n",
       "28  -0.021140  \n",
       "30  -0.060081  \n",
       "32  -0.046282  \n",
       "34  -0.046354  \n",
       "\n",
       "[24 rows x 240 columns]"
      ]
     },
     "execution_count": 17,
     "metadata": {},
     "output_type": "execute_result"
    }
   ],
   "source": [
    "#we take etoposide and palitaxel out. \n",
    "df=pd.read_csv('drug_with_fields.csv')\n",
    "df11=df.loc[(df['drug_name'] =='Etoposide+Etoposide+1') ]\n",
    "df12=df.loc[(df['drug_name'] =='Etoposide+Etoposide+2') ]\n",
    "df13=df.loc[(df['drug_name'] =='Etoposide+Etoposide+3') ]\n",
    "df14=df.loc[(df['drug_name'] =='Etoposide+Etoposide+4') ]\n",
    "df15=df.loc[(df['drug_name'] =='Etoposide+Etoposide+5') ]\n",
    "df16=df.loc[(df['drug_name'] =='Etoposide+Etoposide+6') ]\n",
    "df21=df.loc[(df['drug_name'] =='Paclitaxel+Paclitaxel+1') ]\n",
    "df22=df.loc[(df['drug_name'] =='Paclitaxel+Paclitaxel+2') ]\n",
    "df23=df.loc[(df['drug_name'] =='Paclitaxel+Paclitaxel+3') ]\n",
    "df24=df.loc[(df['drug_name'] =='Paclitaxel+Paclitaxel+4') ]\n",
    "df25=df.loc[(df['drug_name'] =='Paclitaxel+Paclitaxel+5') ]\n",
    "df26=df.loc[(df['drug_name'] =='Paclitaxel+Paclitaxel+6') ]\n",
    "df31=df.loc[(df['drug_name'] =='Etoposide+Paclitaxel+1')]\n",
    "df32=df.loc[(df['drug_name'] =='Etoposide+Paclitaxel+2')]\n",
    "df33=df.loc[(df['drug_name'] =='Etoposide+Paclitaxel+3')]\n",
    "df34=df.loc[(df['drug_name'] =='Etoposide+Paclitaxel+4')]\n",
    "df35=df.loc[(df['drug_name'] =='Etoposide+Paclitaxel+5')]\n",
    "df36=df.loc[(df['drug_name'] =='Etoposide+Paclitaxel+6')]\n",
    "df41=df.loc[(df['drug_name'] =='Paclitaxel+Etoposide+1') ]\n",
    "df42=df.loc[(df['drug_name'] =='Paclitaxel+Etoposide+2') ]\n",
    "df43=df.loc[(df['drug_name'] =='Paclitaxel+Etoposide+3') ]\n",
    "df44=df.loc[(df['drug_name'] =='Paclitaxel+Etoposide+4') ]\n",
    "df45=df.loc[(df['drug_name'] =='Paclitaxel+Etoposide+5') ]\n",
    "df46=df.loc[(df['drug_name'] =='Paclitaxel+Etoposide+6') ]\n",
    "\n",
    "frames = [df11, df12,df13,df14,df15,df16,df21,df22,df23,df24,df25,df26,df31,df32,df33,df34,df35,df36,df41,df42,df43,df44,df45,df46]\n",
    "\n",
    "e_and_p = pd.concat(frames)\n",
    "#etoposide and paclitaxel combination. \n",
    "e_and_p"
   ]
  },
  {
   "cell_type": "code",
   "execution_count": 18,
   "metadata": {},
   "outputs": [
    {
     "data": {
      "text/html": [
       "<div>\n",
       "<style scoped>\n",
       "    .dataframe tbody tr th:only-of-type {\n",
       "        vertical-align: middle;\n",
       "    }\n",
       "\n",
       "    .dataframe tbody tr th {\n",
       "        vertical-align: top;\n",
       "    }\n",
       "\n",
       "    .dataframe thead th {\n",
       "        text-align: right;\n",
       "    }\n",
       "</style>\n",
       "<table border=\"1\" class=\"dataframe\">\n",
       "  <thead>\n",
       "    <tr style=\"text-align: right;\">\n",
       "      <th></th>\n",
       "      <th>principal component 1</th>\n",
       "      <th>principal component 2</th>\n",
       "    </tr>\n",
       "  </thead>\n",
       "  <tbody>\n",
       "    <tr>\n",
       "      <th>0</th>\n",
       "      <td>15.996401</td>\n",
       "      <td>1.802033</td>\n",
       "    </tr>\n",
       "    <tr>\n",
       "      <th>1</th>\n",
       "      <td>14.654263</td>\n",
       "      <td>-5.240995</td>\n",
       "    </tr>\n",
       "    <tr>\n",
       "      <th>2</th>\n",
       "      <td>7.942676</td>\n",
       "      <td>-11.579292</td>\n",
       "    </tr>\n",
       "    <tr>\n",
       "      <th>3</th>\n",
       "      <td>-9.646263</td>\n",
       "      <td>3.323166</td>\n",
       "    </tr>\n",
       "    <tr>\n",
       "      <th>4</th>\n",
       "      <td>-10.732410</td>\n",
       "      <td>2.490275</td>\n",
       "    </tr>\n",
       "    <tr>\n",
       "      <th>5</th>\n",
       "      <td>-11.083752</td>\n",
       "      <td>3.868218</td>\n",
       "    </tr>\n",
       "    <tr>\n",
       "      <th>6</th>\n",
       "      <td>13.475902</td>\n",
       "      <td>18.339134</td>\n",
       "    </tr>\n",
       "    <tr>\n",
       "      <th>7</th>\n",
       "      <td>-0.211568</td>\n",
       "      <td>-7.278338</td>\n",
       "    </tr>\n",
       "    <tr>\n",
       "      <th>8</th>\n",
       "      <td>-2.761668</td>\n",
       "      <td>-11.394661</td>\n",
       "    </tr>\n",
       "    <tr>\n",
       "      <th>9</th>\n",
       "      <td>-1.807593</td>\n",
       "      <td>-10.271233</td>\n",
       "    </tr>\n",
       "    <tr>\n",
       "      <th>10</th>\n",
       "      <td>-7.821645</td>\n",
       "      <td>-2.430362</td>\n",
       "    </tr>\n",
       "    <tr>\n",
       "      <th>11</th>\n",
       "      <td>-10.680352</td>\n",
       "      <td>6.050992</td>\n",
       "    </tr>\n",
       "    <tr>\n",
       "      <th>12</th>\n",
       "      <td>17.735047</td>\n",
       "      <td>7.495917</td>\n",
       "    </tr>\n",
       "    <tr>\n",
       "      <th>13</th>\n",
       "      <td>15.555497</td>\n",
       "      <td>-5.043422</td>\n",
       "    </tr>\n",
       "    <tr>\n",
       "      <th>14</th>\n",
       "      <td>11.161334</td>\n",
       "      <td>-9.722527</td>\n",
       "    </tr>\n",
       "    <tr>\n",
       "      <th>15</th>\n",
       "      <td>-1.821655</td>\n",
       "      <td>-10.086182</td>\n",
       "    </tr>\n",
       "    <tr>\n",
       "      <th>16</th>\n",
       "      <td>-7.132670</td>\n",
       "      <td>-0.830958</td>\n",
       "    </tr>\n",
       "    <tr>\n",
       "      <th>17</th>\n",
       "      <td>-8.325094</td>\n",
       "      <td>4.566001</td>\n",
       "    </tr>\n",
       "    <tr>\n",
       "      <th>18</th>\n",
       "      <td>10.195803</td>\n",
       "      <td>20.262707</td>\n",
       "    </tr>\n",
       "    <tr>\n",
       "      <th>19</th>\n",
       "      <td>2.750242</td>\n",
       "      <td>-7.402260</td>\n",
       "    </tr>\n",
       "    <tr>\n",
       "      <th>20</th>\n",
       "      <td>-7.180128</td>\n",
       "      <td>0.702779</td>\n",
       "    </tr>\n",
       "    <tr>\n",
       "      <th>21</th>\n",
       "      <td>-10.146640</td>\n",
       "      <td>4.197380</td>\n",
       "    </tr>\n",
       "    <tr>\n",
       "      <th>22</th>\n",
       "      <td>-10.395123</td>\n",
       "      <td>4.179096</td>\n",
       "    </tr>\n",
       "    <tr>\n",
       "      <th>23</th>\n",
       "      <td>-9.720606</td>\n",
       "      <td>4.002533</td>\n",
       "    </tr>\n",
       "  </tbody>\n",
       "</table>\n",
       "</div>"
      ],
      "text/plain": [
       "    principal component 1  principal component 2\n",
       "0               15.996401               1.802033\n",
       "1               14.654263              -5.240995\n",
       "2                7.942676             -11.579292\n",
       "3               -9.646263               3.323166\n",
       "4              -10.732410               2.490275\n",
       "5              -11.083752               3.868218\n",
       "6               13.475902              18.339134\n",
       "7               -0.211568              -7.278338\n",
       "8               -2.761668             -11.394661\n",
       "9               -1.807593             -10.271233\n",
       "10              -7.821645              -2.430362\n",
       "11             -10.680352               6.050992\n",
       "12              17.735047               7.495917\n",
       "13              15.555497              -5.043422\n",
       "14              11.161334              -9.722527\n",
       "15              -1.821655             -10.086182\n",
       "16              -7.132670              -0.830958\n",
       "17              -8.325094               4.566001\n",
       "18              10.195803              20.262707\n",
       "19               2.750242              -7.402260\n",
       "20              -7.180128               0.702779\n",
       "21             -10.146640               4.197380\n",
       "22             -10.395123               4.179096\n",
       "23              -9.720606               4.002533"
      ]
     },
     "execution_count": 18,
     "metadata": {},
     "output_type": "execute_result"
    }
   ],
   "source": [
    "#a code block that is used to deal with the data using PCA models(dimensionality reduction)\n",
    "import pandas as pd\n",
    "import plotly.express as px\n",
    "from sklearn.decomposition import PCA\n",
    "from sklearn.preprocessing import StandardScaler\n",
    "\n",
    "X_drug = e_and_p.iloc[:, 3:240].values\n",
    "\n",
    "X_drug = StandardScaler().fit_transform(X_drug)\n",
    "\n",
    "pca_drug = PCA(n_components=2)\n",
    "components = pca_drug.fit_transform(X_drug)\n",
    "principalDf = pd.DataFrame(data = components\n",
    "             , columns = ['principal component 1', 'principal component 2'])\n",
    "principalDf\n"
   ]
  },
  {
   "cell_type": "code",
   "execution_count": 19,
   "metadata": {},
   "outputs": [
    {
     "name": "stdout",
     "output_type": "stream",
     "text": [
      "[[5.953418916532232, 11.649707607462867], [0.9226370824932894, 15.924672448385376], [3.7158221579233346, 14.023053105163793], [15.52530468318084, 0.1855844037319497], [4.8978278768578845, 1.741488542378375], [2.845539327411295, 2.7843199524097164]]\n",
      "3 3\n"
     ]
    }
   ],
   "source": [
    "#compute the distance between points\n",
    "#calculating distances between centroids\n",
    "#index for reference\n",
    "#0，6，12，18\n",
    "#1，7，13，19\n",
    "#2,8,14,20\n",
    "#3,9,15,21\n",
    "#4,10,16,22\n",
    "#5，11，17，23\n",
    "#first, we gonna find the most similar single drug response for \"Etoposide+Paclitaxel+1\t\"\n",
    "import math\n",
    "p_combi=principalDf.iloc[12,:]\n",
    "dist1=[]\n",
    "\n",
    "p=[]\n",
    "for i in range(24):\n",
    "    p.append([principalDf.iloc[i,:][0],principalDf.iloc[i,:][1]])\n",
    "dist1.append(math.dist(p[12],p[0]))\n",
    "\n",
    "dist1.append(math.dist(p[12],p[6]))\n",
    "#print(dist1)\n",
    "#conclusion, the most similar single drug response for \"Etoposide+Paclitaxel+1\t\" is \t\"Etoposide+Etoposide+1\"\n",
    "\n",
    "#then, we see the situation where the concentration decreases(still etoposide +paclitaxel)\n",
    "dist2=[]\n",
    "dist2.append(math.dist(p[13],p[1]))\n",
    "dist2.append(math.dist(p[13],p[7]))\n",
    "#print(dist2)\n",
    "#conclusion: still \"etoposide+etoposide+1\"\n",
    "\n",
    "#concentration 3\n",
    "dist3=[]\n",
    "dist3.append(math.dist(p[14],p[2]))\n",
    "dist3.append(math.dist(p[14],p[8]))\n",
    "dist3\n",
    "\n",
    "#then we just write a loop function and see the whole 6 situations\n",
    "big_dist=[]\n",
    "for i in range(6):\n",
    "    dist=[]\n",
    "    dist.append(math.dist(p[i+12],p[i]))\n",
    "    dist.append(math.dist(p[i+12],p[i+6]))\n",
    "    big_dist.append(dist)\n",
    "print(big_dist)\n",
    "counter_for_etoposide=0\n",
    "counter_for_paclitaxel=0\n",
    "for i in range(len(big_dist)):\n",
    "    if big_dist[i][0]<big_dist[i][1]:\n",
    "        counter_for_etoposide+=1\n",
    "    else:\n",
    "        counter_for_paclitaxel+=1\n",
    "print(counter_for_etoposide,counter_for_paclitaxel)\n",
    "\n",
    "\n",
    "#p1=principalDf.iloc[0,:]\n",
    "#p2=principalDf.iloc[6,:]\n",
    "\n",
    "#conclusion: etoposide is the major drug in \"etoposide+paclitaxel\" combination\n",
    "\n"
   ]
  },
  {
   "cell_type": "code",
   "execution_count": 20,
   "metadata": {},
   "outputs": [
    {
     "data": {
      "text/plain": [
       "numpy.float64"
      ]
     },
     "execution_count": 20,
     "metadata": {},
     "output_type": "execute_result"
    }
   ],
   "source": [
    "#test a datatype for debugging\n",
    "type(principalDf.iloc[0,:][0])"
   ]
  },
  {
   "cell_type": "code",
   "execution_count": 21,
   "metadata": {},
   "outputs": [
    {
     "name": "stdout",
     "output_type": "stream",
     "text": [
      "[[19.35054008078454, 3.8025224562958244], [12.098627241529133, 2.9644008520056317], [19.48200401179763, 12.87908640038797], [1.0072877064676322, 16.699714506477456], [1.7221725442919742, 7.092794156147579], [1.3697467040618085, 2.262144432381928]]\n",
      "3 3\n"
     ]
    }
   ],
   "source": [
    "#find a similar single drug response for \"paclitaxel+etoposide\" combination\n",
    "\n",
    "big_dist2=[]\n",
    "for i in range(6):\n",
    "    dist=[]\n",
    "    dist.append(math.dist(p[i+18],p[i]))\n",
    "    dist.append(math.dist(p[i+18],p[i+6]))\n",
    "    big_dist2.append(dist)\n",
    "print(big_dist2)\n",
    "counter_for_etoposide2=0\n",
    "counter_for_paclitaxel2=0\n",
    "for i in range(len(big_dist2)):\n",
    "    if big_dist2[i][0]<big_dist2[i][1]:\n",
    "        counter_for_etoposide2+=1\n",
    "    else:\n",
    "        counter_for_paclitaxel2+=1\n",
    "print(counter_for_etoposide2,counter_for_paclitaxel2)"
   ]
  },
  {
   "cell_type": "code",
   "execution_count": 22,
   "metadata": {},
   "outputs": [
    {
     "name": "stdout",
     "output_type": "stream",
     "text": [
      "[3.6143912735539043, 6.2617014973552445]\n",
      "[7.413680200919972, 6.0091365826398375]\n"
     ]
    }
   ],
   "source": [
    "#processing with the data using centroid\n",
    "#did not use centroid before because of different concentration\n",
    "#centroid_for_e=\n",
    "import math\n",
    "p_for_e=principalDf.iloc[0:6,:]\n",
    "p_for_p=principalDf.iloc[6:12,:]\n",
    "p_for_eandp=principalDf.iloc[12:18,:]\n",
    "p_for_pande=principalDf.iloc[18:24,:]\n",
    "centroid1=p_for_e.mean(axis=0)\n",
    "centroid2=p_for_p.mean(axis=0)\n",
    "centroid3=p_for_eandp.mean(axis=0)\n",
    "centroid4=p_for_pande.mean(axis=0)\n",
    "\n",
    "distance=[]\n",
    "distance2=[]\n",
    "distance.append(math.dist(centroid3,centroid1))\n",
    "distance.append(math.dist(centroid3,centroid2))\n",
    "distance2.append(math.dist(centroid4,centroid1))\n",
    "distance2.append(math.dist(centroid4,centroid2))\n",
    "print(distance)\n",
    "print(distance2)\n",
    "\n",
    "#for \"etoposide+paclitaxel\", etoposide is more similar to it\n",
    "#for \"paclitaxel+etoposide\", paclitaxel is more similar to it\n"
   ]
  },
  {
   "cell_type": "code",
   "execution_count": 23,
   "metadata": {},
   "outputs": [
    {
     "name": "stdout",
     "output_type": "stream",
     "text": [
      "(array([[0.        , 5.95341892]]), array([[12,  0]]))\n"
     ]
    }
   ],
   "source": [
    "\n",
    "#sklearn codes about knn\n",
    "from sklearn.neighbors import NearestNeighbors\n",
    "neighbor = NearestNeighbors(n_neighbors=2)\n",
    "neighbor.fit(p)\n",
    "\n",
    "print(neighbor.kneighbors([p[12]]))\n",
    "\n"
   ]
  },
  {
   "cell_type": "code",
   "execution_count": 24,
   "metadata": {},
   "outputs": [],
   "source": [
    "#before using knn, we need to process with p(add a label. drug_name. for further classification)\n",
    "#for i in range(6):\n",
    "    #print(p[i])\n",
    "\n",
    "#e_c=pd.Series([\"Etoposide\"], dtype=\"string\")\n",
    "#e_p=pd.Series([\"Paclitaxel\"], dtype=\"string\")\n",
    "#e_cp=pd.Series([\"Etoposide+Paclitaxel\"], dtype=\"string\")\n",
    "#type(e_c)\n",
    "#newdata=[]\n",
    "#for i in range(6):\n",
    "\n",
    "#    newdata.append(pd.concat([p[i],e_c]))\n",
    "#for j in range(6):\n",
    "#    newdata.append(pd.concat([p[i+6],e_p]))\n",
    "#for k in range(6):\n",
    " #   newdata.append(pd.concat([p[i+12],e_cp]))\n",
    "\n",
    "for i in range(6):\n",
    "    p[i].append('Etoposide')\n",
    "for j in range(6):\n",
    "    p[j+6].append('Paclitaxel')\n",
    "for k in range(6):\n",
    "    p[k+12].append('Etoposide+Paclitaxel')\n",
    "for m in range(6):\n",
    "    p[m+18].append(\"Paclitaxel+Etoposide\")\n",
    "\n",
    "\n",
    "\n"
   ]
  },
  {
   "cell_type": "code",
   "execution_count": 25,
   "metadata": {},
   "outputs": [],
   "source": [
    "#to show p"
   ]
  },
  {
   "cell_type": "code",
   "execution_count": 26,
   "metadata": {},
   "outputs": [
    {
     "data": {
      "text/plain": [
       "[[15.996401181448027, 1.802033155607778, 'Etoposide'],\n",
       " [14.654262853902699, -5.240995296495313, 'Etoposide'],\n",
       " [7.942676206472837, -11.579291649521439, 'Etoposide'],\n",
       " [-9.646262660819803, 3.3231655276483174, 'Etoposide'],\n",
       " [-10.73240984690028, 2.490275276455143, 'Etoposide'],\n",
       " [-11.083751710485702, 3.868218316339694, 'Etoposide'],\n",
       " [13.475901563827158, 18.33913432728017, 'Paclitaxel'],\n",
       " [-0.21156760716866627, -7.2783380980389385, 'Paclitaxel'],\n",
       " [-2.761667721118324, -11.394661485827397, 'Paclitaxel'],\n",
       " [-1.8075932459507023, -10.271233002561727, 'Paclitaxel'],\n",
       " [-7.821644904895198, -2.4303624096971452, 'Paclitaxel'],\n",
       " [-10.68035169220521, 6.050991987380856, 'Paclitaxel']]"
      ]
     },
     "execution_count": 26,
     "metadata": {},
     "output_type": "execute_result"
    }
   ],
   "source": [
    "p2=p[:12]\n",
    "\n",
    "p2"
   ]
  },
  {
   "cell_type": "code",
   "execution_count": 27,
   "metadata": {},
   "outputs": [
    {
     "data": {
      "application/vnd.plotly.v1+json": {
       "config": {
        "plotlyServerURL": "https://plot.ly"
       },
       "data": [
        {
         "hovertemplate": "color=Etoposide+Etoposide+1<br>0=%{x}<br>1=%{y}<extra></extra>",
         "legendgroup": "Etoposide+Etoposide+1",
         "marker": {
          "color": "#636efa",
          "symbol": "circle"
         },
         "mode": "markers",
         "name": "Etoposide+Etoposide+1",
         "orientation": "v",
         "showlegend": true,
         "type": "scatter",
         "x": [
          16.057681810018266
         ],
         "xaxis": "x",
         "y": [
          1.896392436934056
         ],
         "yaxis": "y"
        },
        {
         "hovertemplate": "color=Etoposide+Etoposide+2<br>0=%{x}<br>1=%{y}<extra></extra>",
         "legendgroup": "Etoposide+Etoposide+2",
         "marker": {
          "color": "#EF553B",
          "symbol": "circle"
         },
         "mode": "markers",
         "name": "Etoposide+Etoposide+2",
         "orientation": "v",
         "showlegend": true,
         "type": "scatter",
         "x": [
          14.767469062846812
         ],
         "xaxis": "x",
         "y": [
          -5.156981326635349
         ],
         "yaxis": "y"
        },
        {
         "hovertemplate": "color=Etoposide+Etoposide+3<br>0=%{x}<br>1=%{y}<extra></extra>",
         "legendgroup": "Etoposide+Etoposide+3",
         "marker": {
          "color": "#00cc96",
          "symbol": "circle"
         },
         "mode": "markers",
         "name": "Etoposide+Etoposide+3",
         "orientation": "v",
         "showlegend": true,
         "type": "scatter",
         "x": [
          8.040113193818712
         ],
         "xaxis": "x",
         "y": [
          -11.519067160171877
         ],
         "yaxis": "y"
        },
        {
         "hovertemplate": "color=Etoposide+Etoposide+4<br>0=%{x}<br>1=%{y}<extra></extra>",
         "legendgroup": "Etoposide+Etoposide+4",
         "marker": {
          "color": "#ab63fa",
          "symbol": "circle"
         },
         "mode": "markers",
         "name": "Etoposide+Etoposide+4",
         "orientation": "v",
         "showlegend": true,
         "type": "scatter",
         "x": [
          -9.726103898408809
         ],
         "xaxis": "x",
         "y": [
          3.2691256098107804
         ],
         "yaxis": "y"
        },
        {
         "hovertemplate": "color=Etoposide+Etoposide+5<br>0=%{x}<br>1=%{y}<extra></extra>",
         "legendgroup": "Etoposide+Etoposide+5",
         "marker": {
          "color": "#FFA15A",
          "symbol": "circle"
         },
         "mode": "markers",
         "name": "Etoposide+Etoposide+5",
         "orientation": "v",
         "showlegend": true,
         "type": "scatter",
         "x": [
          -10.800681279691021
         ],
         "xaxis": "x",
         "y": [
          2.4260577985571565
         ],
         "yaxis": "y"
        },
        {
         "hovertemplate": "color=Etoposide+Etoposide+6<br>0=%{x}<br>1=%{y}<extra></extra>",
         "legendgroup": "Etoposide+Etoposide+6",
         "marker": {
          "color": "#19d3f3",
          "symbol": "circle"
         },
         "mode": "markers",
         "name": "Etoposide+Etoposide+6",
         "orientation": "v",
         "showlegend": true,
         "type": "scatter",
         "x": [
          -11.161334571824804
         ],
         "xaxis": "x",
         "y": [
          3.800358056950842
         ],
         "yaxis": "y"
        },
        {
         "hovertemplate": "color=Paclitaxel+Paclitaxel+1<br>0=%{x}<br>1=%{y}<extra></extra>",
         "legendgroup": "Paclitaxel+Paclitaxel+1",
         "marker": {
          "color": "#FF6692",
          "symbol": "circle"
         },
         "mode": "markers",
         "name": "Paclitaxel+Paclitaxel+1",
         "orientation": "v",
         "showlegend": true,
         "type": "scatter",
         "x": [
          13.288191545113841
         ],
         "xaxis": "x",
         "y": [
          18.46395180266311
         ],
         "yaxis": "y"
        },
        {
         "hovertemplate": "color=Paclitaxel+Paclitaxel+2<br>0=%{x}<br>1=%{y}<extra></extra>",
         "legendgroup": "Paclitaxel+Paclitaxel+2",
         "marker": {
          "color": "#B6E880",
          "symbol": "circle"
         },
         "mode": "markers",
         "name": "Paclitaxel+Paclitaxel+2",
         "orientation": "v",
         "showlegend": true,
         "type": "scatter",
         "x": [
          -0.07458848514861637
         ],
         "xaxis": "x",
         "y": [
          -7.31230707668914
         ],
         "yaxis": "y"
        },
        {
         "hovertemplate": "color=Paclitaxel+Paclitaxel+3<br>0=%{x}<br>1=%{y}<extra></extra>",
         "legendgroup": "Paclitaxel+Paclitaxel+3",
         "marker": {
          "color": "#FF97FF",
          "symbol": "circle"
         },
         "mode": "markers",
         "name": "Paclitaxel+Paclitaxel+3",
         "orientation": "v",
         "showlegend": true,
         "type": "scatter",
         "x": [
          -2.652509599854065
         ],
         "xaxis": "x",
         "y": [
          -11.422153134901428
         ],
         "yaxis": "y"
        },
        {
         "hovertemplate": "color=Paclitaxel+Paclitaxel+4<br>0=%{x}<br>1=%{y}<extra></extra>",
         "legendgroup": "Paclitaxel+Paclitaxel+4",
         "marker": {
          "color": "#FECB52",
          "symbol": "circle"
         },
         "mode": "markers",
         "name": "Paclitaxel+Paclitaxel+4",
         "orientation": "v",
         "showlegend": true,
         "type": "scatter",
         "x": [
          -1.7391549759179767
         ],
         "xaxis": "x",
         "y": [
          -10.279495919028708
         ],
         "yaxis": "y"
        },
        {
         "hovertemplate": "color=Paclitaxel+Paclitaxel+5<br>0=%{x}<br>1=%{y}<extra></extra>",
         "legendgroup": "Paclitaxel+Paclitaxel+5",
         "marker": {
          "color": "#636efa",
          "symbol": "circle"
         },
         "mode": "markers",
         "name": "Paclitaxel+Paclitaxel+5",
         "orientation": "v",
         "showlegend": true,
         "type": "scatter",
         "x": [
          -7.8330918251053125
         ],
         "xaxis": "x",
         "y": [
          -2.478451691453045
         ],
         "yaxis": "y"
        },
        {
         "hovertemplate": "color=Paclitaxel+Paclitaxel+6<br>0=%{x}<br>1=%{y}<extra></extra>",
         "legendgroup": "Paclitaxel+Paclitaxel+6",
         "marker": {
          "color": "#EF553B",
          "symbol": "circle"
         },
         "mode": "markers",
         "name": "Paclitaxel+Paclitaxel+6",
         "orientation": "v",
         "showlegend": true,
         "type": "scatter",
         "x": [
          -10.781615771938217
         ],
         "xaxis": "x",
         "y": [
          5.988507898803199
         ],
         "yaxis": "y"
        },
        {
         "hovertemplate": "color=Etoposide+Paclitaxel+1<br>0=%{x}<br>1=%{y}<extra></extra>",
         "legendgroup": "Etoposide+Paclitaxel+1",
         "marker": {
          "color": "#00cc96",
          "symbol": "circle"
         },
         "mode": "markers",
         "name": "Etoposide+Paclitaxel+1",
         "orientation": "v",
         "showlegend": true,
         "type": "scatter",
         "x": [
          17.732301742373174
         ],
         "xaxis": "x",
         "y": [
          7.611875251933878
         ],
         "yaxis": "y"
        },
        {
         "hovertemplate": "color=Etoposide+Paclitaxel+2<br>0=%{x}<br>1=%{y}<extra></extra>",
         "legendgroup": "Etoposide+Paclitaxel+2",
         "marker": {
          "color": "#ab63fa",
          "symbol": "circle"
         },
         "mode": "markers",
         "name": "Etoposide+Paclitaxel+2",
         "orientation": "v",
         "showlegend": true,
         "type": "scatter",
         "x": [
          15.670291291352562
         ],
         "xaxis": "x",
         "y": [
          -4.953999510643874
         ],
         "yaxis": "y"
        },
        {
         "hovertemplate": "color=Etoposide+Paclitaxel+3<br>0=%{x}<br>1=%{y}<extra></extra>",
         "legendgroup": "Etoposide+Paclitaxel+3",
         "marker": {
          "color": "#FFA15A",
          "symbol": "circle"
         },
         "mode": "markers",
         "name": "Etoposide+Paclitaxel+3",
         "orientation": "v",
         "showlegend": true,
         "type": "scatter",
         "x": [
          11.273230684585922
         ],
         "xaxis": "x",
         "y": [
          -9.650015641374436
         ],
         "yaxis": "y"
        },
        {
         "hovertemplate": "color=Etoposide+Paclitaxel+4<br>0=%{x}<br>1=%{y}<extra></extra>",
         "legendgroup": "Etoposide+Paclitaxel+4",
         "marker": {
          "color": "#19d3f3",
          "symbol": "circle"
         },
         "mode": "markers",
         "name": "Etoposide+Paclitaxel+4",
         "orientation": "v",
         "showlegend": true,
         "type": "scatter",
         "x": [
          -1.7510170244123182
         ],
         "xaxis": "x",
         "y": [
          -10.095476915169328
         ],
         "yaxis": "y"
        },
        {
         "hovertemplate": "color=Etoposide+Paclitaxel+5<br>0=%{x}<br>1=%{y}<extra></extra>",
         "legendgroup": "Etoposide+Paclitaxel+5",
         "marker": {
          "color": "#FF6692",
          "symbol": "circle"
         },
         "mode": "markers",
         "name": "Etoposide+Paclitaxel+5",
         "orientation": "v",
         "showlegend": true,
         "type": "scatter",
         "x": [
          -7.1628377891061055
         ],
         "xaxis": "x",
         "y": [
          -0.8716743160634132
         ],
         "yaxis": "y"
        },
        {
         "hovertemplate": "color=Etoposide+Paclitaxel+6<br>0=%{x}<br>1=%{y}<extra></extra>",
         "legendgroup": "Etoposide+Paclitaxel+6",
         "marker": {
          "color": "#B6E880",
          "symbol": "circle"
         },
         "mode": "markers",
         "name": "Etoposide+Paclitaxel+6",
         "orientation": "v",
         "showlegend": true,
         "type": "scatter",
         "x": [
          -8.41728502309231
         ],
         "xaxis": "x",
         "y": [
          4.523072370787733
         ],
         "yaxis": "y"
        },
        {
         "hovertemplate": "color=Paclitaxel+Etoposide+1<br>0=%{x}<br>1=%{y}<extra></extra>",
         "legendgroup": "Paclitaxel+Etoposide+1",
         "marker": {
          "color": "#FF97FF",
          "symbol": "circle"
         },
         "mode": "markers",
         "name": "Paclitaxel+Etoposide+1",
         "orientation": "v",
         "showlegend": true,
         "type": "scatter",
         "x": [
          10.115718312147328
         ],
         "xaxis": "x",
         "y": [
          20.310005170657604
         ],
         "yaxis": "y"
        },
        {
         "hovertemplate": "color=Paclitaxel+Etoposide+2<br>0=%{x}<br>1=%{y}<extra></extra>",
         "legendgroup": "Paclitaxel+Etoposide+2",
         "marker": {
          "color": "#FECB52",
          "symbol": "circle"
         },
         "mode": "markers",
         "name": "Paclitaxel+Etoposide+2",
         "orientation": "v",
         "showlegend": true,
         "type": "scatter",
         "x": [
          2.870273979970982
         ],
         "xaxis": "x",
         "y": [
          -7.405959366669593
         ],
         "yaxis": "y"
        },
        {
         "hovertemplate": "color=Paclitaxel+Etoposide+3<br>0=%{x}<br>1=%{y}<extra></extra>",
         "legendgroup": "Paclitaxel+Etoposide+3",
         "marker": {
          "color": "#636efa",
          "symbol": "circle"
         },
         "mode": "markers",
         "name": "Paclitaxel+Etoposide+3",
         "orientation": "v",
         "showlegend": true,
         "type": "scatter",
         "x": [
          -7.2233252442289855
         ],
         "xaxis": "x",
         "y": [
          0.6616382820994501
         ],
         "yaxis": "y"
        },
        {
         "hovertemplate": "color=Paclitaxel+Etoposide+4<br>0=%{x}<br>1=%{y}<extra></extra>",
         "legendgroup": "Paclitaxel+Etoposide+4",
         "marker": {
          "color": "#EF553B",
          "symbol": "circle"
         },
         "mode": "markers",
         "name": "Paclitaxel+Etoposide+4",
         "orientation": "v",
         "showlegend": true,
         "type": "scatter",
         "x": [
          -10.219964321650652
         ],
         "xaxis": "x",
         "y": [
          4.134118669969854
         ],
         "yaxis": "y"
        },
        {
         "hovertemplate": "color=Paclitaxel+Etoposide+5<br>0=%{x}<br>1=%{y}<extra></extra>",
         "legendgroup": "Paclitaxel+Etoposide+5",
         "marker": {
          "color": "#00cc96",
          "symbol": "circle"
         },
         "mode": "markers",
         "name": "Paclitaxel+Etoposide+5",
         "orientation": "v",
         "showlegend": true,
         "type": "scatter",
         "x": [
          -10.472969823062487
         ],
         "xaxis": "x",
         "y": [
          4.115611613575359
         ],
         "yaxis": "y"
        },
        {
         "hovertemplate": "color=Paclitaxel+Etoposide+6<br>0=%{x}<br>1=%{y}<extra></extra>",
         "legendgroup": "Paclitaxel+Etoposide+6",
         "marker": {
          "color": "#ab63fa",
          "symbol": "circle"
         },
         "mode": "markers",
         "name": "Paclitaxel+Etoposide+6",
         "orientation": "v",
         "showlegend": true,
         "type": "scatter",
         "x": [
          -9.798791988785904
         ],
         "xaxis": "x",
         "y": [
          3.9448670960571834
         ],
         "yaxis": "y"
        }
       ],
       "layout": {
        "legend": {
         "title": {
          "text": "color"
         },
         "tracegroupgap": 0
        },
        "margin": {
         "t": 60
        },
        "template": {
         "data": {
          "bar": [
           {
            "error_x": {
             "color": "#2a3f5f"
            },
            "error_y": {
             "color": "#2a3f5f"
            },
            "marker": {
             "line": {
              "color": "#E5ECF6",
              "width": 0.5
             },
             "pattern": {
              "fillmode": "overlay",
              "size": 10,
              "solidity": 0.2
             }
            },
            "type": "bar"
           }
          ],
          "barpolar": [
           {
            "marker": {
             "line": {
              "color": "#E5ECF6",
              "width": 0.5
             },
             "pattern": {
              "fillmode": "overlay",
              "size": 10,
              "solidity": 0.2
             }
            },
            "type": "barpolar"
           }
          ],
          "carpet": [
           {
            "aaxis": {
             "endlinecolor": "#2a3f5f",
             "gridcolor": "white",
             "linecolor": "white",
             "minorgridcolor": "white",
             "startlinecolor": "#2a3f5f"
            },
            "baxis": {
             "endlinecolor": "#2a3f5f",
             "gridcolor": "white",
             "linecolor": "white",
             "minorgridcolor": "white",
             "startlinecolor": "#2a3f5f"
            },
            "type": "carpet"
           }
          ],
          "choropleth": [
           {
            "colorbar": {
             "outlinewidth": 0,
             "ticks": ""
            },
            "type": "choropleth"
           }
          ],
          "contour": [
           {
            "colorbar": {
             "outlinewidth": 0,
             "ticks": ""
            },
            "colorscale": [
             [
              0,
              "#0d0887"
             ],
             [
              0.1111111111111111,
              "#46039f"
             ],
             [
              0.2222222222222222,
              "#7201a8"
             ],
             [
              0.3333333333333333,
              "#9c179e"
             ],
             [
              0.4444444444444444,
              "#bd3786"
             ],
             [
              0.5555555555555556,
              "#d8576b"
             ],
             [
              0.6666666666666666,
              "#ed7953"
             ],
             [
              0.7777777777777778,
              "#fb9f3a"
             ],
             [
              0.8888888888888888,
              "#fdca26"
             ],
             [
              1,
              "#f0f921"
             ]
            ],
            "type": "contour"
           }
          ],
          "contourcarpet": [
           {
            "colorbar": {
             "outlinewidth": 0,
             "ticks": ""
            },
            "type": "contourcarpet"
           }
          ],
          "heatmap": [
           {
            "colorbar": {
             "outlinewidth": 0,
             "ticks": ""
            },
            "colorscale": [
             [
              0,
              "#0d0887"
             ],
             [
              0.1111111111111111,
              "#46039f"
             ],
             [
              0.2222222222222222,
              "#7201a8"
             ],
             [
              0.3333333333333333,
              "#9c179e"
             ],
             [
              0.4444444444444444,
              "#bd3786"
             ],
             [
              0.5555555555555556,
              "#d8576b"
             ],
             [
              0.6666666666666666,
              "#ed7953"
             ],
             [
              0.7777777777777778,
              "#fb9f3a"
             ],
             [
              0.8888888888888888,
              "#fdca26"
             ],
             [
              1,
              "#f0f921"
             ]
            ],
            "type": "heatmap"
           }
          ],
          "heatmapgl": [
           {
            "colorbar": {
             "outlinewidth": 0,
             "ticks": ""
            },
            "colorscale": [
             [
              0,
              "#0d0887"
             ],
             [
              0.1111111111111111,
              "#46039f"
             ],
             [
              0.2222222222222222,
              "#7201a8"
             ],
             [
              0.3333333333333333,
              "#9c179e"
             ],
             [
              0.4444444444444444,
              "#bd3786"
             ],
             [
              0.5555555555555556,
              "#d8576b"
             ],
             [
              0.6666666666666666,
              "#ed7953"
             ],
             [
              0.7777777777777778,
              "#fb9f3a"
             ],
             [
              0.8888888888888888,
              "#fdca26"
             ],
             [
              1,
              "#f0f921"
             ]
            ],
            "type": "heatmapgl"
           }
          ],
          "histogram": [
           {
            "marker": {
             "pattern": {
              "fillmode": "overlay",
              "size": 10,
              "solidity": 0.2
             }
            },
            "type": "histogram"
           }
          ],
          "histogram2d": [
           {
            "colorbar": {
             "outlinewidth": 0,
             "ticks": ""
            },
            "colorscale": [
             [
              0,
              "#0d0887"
             ],
             [
              0.1111111111111111,
              "#46039f"
             ],
             [
              0.2222222222222222,
              "#7201a8"
             ],
             [
              0.3333333333333333,
              "#9c179e"
             ],
             [
              0.4444444444444444,
              "#bd3786"
             ],
             [
              0.5555555555555556,
              "#d8576b"
             ],
             [
              0.6666666666666666,
              "#ed7953"
             ],
             [
              0.7777777777777778,
              "#fb9f3a"
             ],
             [
              0.8888888888888888,
              "#fdca26"
             ],
             [
              1,
              "#f0f921"
             ]
            ],
            "type": "histogram2d"
           }
          ],
          "histogram2dcontour": [
           {
            "colorbar": {
             "outlinewidth": 0,
             "ticks": ""
            },
            "colorscale": [
             [
              0,
              "#0d0887"
             ],
             [
              0.1111111111111111,
              "#46039f"
             ],
             [
              0.2222222222222222,
              "#7201a8"
             ],
             [
              0.3333333333333333,
              "#9c179e"
             ],
             [
              0.4444444444444444,
              "#bd3786"
             ],
             [
              0.5555555555555556,
              "#d8576b"
             ],
             [
              0.6666666666666666,
              "#ed7953"
             ],
             [
              0.7777777777777778,
              "#fb9f3a"
             ],
             [
              0.8888888888888888,
              "#fdca26"
             ],
             [
              1,
              "#f0f921"
             ]
            ],
            "type": "histogram2dcontour"
           }
          ],
          "mesh3d": [
           {
            "colorbar": {
             "outlinewidth": 0,
             "ticks": ""
            },
            "type": "mesh3d"
           }
          ],
          "parcoords": [
           {
            "line": {
             "colorbar": {
              "outlinewidth": 0,
              "ticks": ""
             }
            },
            "type": "parcoords"
           }
          ],
          "pie": [
           {
            "automargin": true,
            "type": "pie"
           }
          ],
          "scatter": [
           {
            "fillpattern": {
             "fillmode": "overlay",
             "size": 10,
             "solidity": 0.2
            },
            "type": "scatter"
           }
          ],
          "scatter3d": [
           {
            "line": {
             "colorbar": {
              "outlinewidth": 0,
              "ticks": ""
             }
            },
            "marker": {
             "colorbar": {
              "outlinewidth": 0,
              "ticks": ""
             }
            },
            "type": "scatter3d"
           }
          ],
          "scattercarpet": [
           {
            "marker": {
             "colorbar": {
              "outlinewidth": 0,
              "ticks": ""
             }
            },
            "type": "scattercarpet"
           }
          ],
          "scattergeo": [
           {
            "marker": {
             "colorbar": {
              "outlinewidth": 0,
              "ticks": ""
             }
            },
            "type": "scattergeo"
           }
          ],
          "scattergl": [
           {
            "marker": {
             "colorbar": {
              "outlinewidth": 0,
              "ticks": ""
             }
            },
            "type": "scattergl"
           }
          ],
          "scattermapbox": [
           {
            "marker": {
             "colorbar": {
              "outlinewidth": 0,
              "ticks": ""
             }
            },
            "type": "scattermapbox"
           }
          ],
          "scatterpolar": [
           {
            "marker": {
             "colorbar": {
              "outlinewidth": 0,
              "ticks": ""
             }
            },
            "type": "scatterpolar"
           }
          ],
          "scatterpolargl": [
           {
            "marker": {
             "colorbar": {
              "outlinewidth": 0,
              "ticks": ""
             }
            },
            "type": "scatterpolargl"
           }
          ],
          "scatterternary": [
           {
            "marker": {
             "colorbar": {
              "outlinewidth": 0,
              "ticks": ""
             }
            },
            "type": "scatterternary"
           }
          ],
          "surface": [
           {
            "colorbar": {
             "outlinewidth": 0,
             "ticks": ""
            },
            "colorscale": [
             [
              0,
              "#0d0887"
             ],
             [
              0.1111111111111111,
              "#46039f"
             ],
             [
              0.2222222222222222,
              "#7201a8"
             ],
             [
              0.3333333333333333,
              "#9c179e"
             ],
             [
              0.4444444444444444,
              "#bd3786"
             ],
             [
              0.5555555555555556,
              "#d8576b"
             ],
             [
              0.6666666666666666,
              "#ed7953"
             ],
             [
              0.7777777777777778,
              "#fb9f3a"
             ],
             [
              0.8888888888888888,
              "#fdca26"
             ],
             [
              1,
              "#f0f921"
             ]
            ],
            "type": "surface"
           }
          ],
          "table": [
           {
            "cells": {
             "fill": {
              "color": "#EBF0F8"
             },
             "line": {
              "color": "white"
             }
            },
            "header": {
             "fill": {
              "color": "#C8D4E3"
             },
             "line": {
              "color": "white"
             }
            },
            "type": "table"
           }
          ]
         },
         "layout": {
          "annotationdefaults": {
           "arrowcolor": "#2a3f5f",
           "arrowhead": 0,
           "arrowwidth": 1
          },
          "autotypenumbers": "strict",
          "coloraxis": {
           "colorbar": {
            "outlinewidth": 0,
            "ticks": ""
           }
          },
          "colorscale": {
           "diverging": [
            [
             0,
             "#8e0152"
            ],
            [
             0.1,
             "#c51b7d"
            ],
            [
             0.2,
             "#de77ae"
            ],
            [
             0.3,
             "#f1b6da"
            ],
            [
             0.4,
             "#fde0ef"
            ],
            [
             0.5,
             "#f7f7f7"
            ],
            [
             0.6,
             "#e6f5d0"
            ],
            [
             0.7,
             "#b8e186"
            ],
            [
             0.8,
             "#7fbc41"
            ],
            [
             0.9,
             "#4d9221"
            ],
            [
             1,
             "#276419"
            ]
           ],
           "sequential": [
            [
             0,
             "#0d0887"
            ],
            [
             0.1111111111111111,
             "#46039f"
            ],
            [
             0.2222222222222222,
             "#7201a8"
            ],
            [
             0.3333333333333333,
             "#9c179e"
            ],
            [
             0.4444444444444444,
             "#bd3786"
            ],
            [
             0.5555555555555556,
             "#d8576b"
            ],
            [
             0.6666666666666666,
             "#ed7953"
            ],
            [
             0.7777777777777778,
             "#fb9f3a"
            ],
            [
             0.8888888888888888,
             "#fdca26"
            ],
            [
             1,
             "#f0f921"
            ]
           ],
           "sequentialminus": [
            [
             0,
             "#0d0887"
            ],
            [
             0.1111111111111111,
             "#46039f"
            ],
            [
             0.2222222222222222,
             "#7201a8"
            ],
            [
             0.3333333333333333,
             "#9c179e"
            ],
            [
             0.4444444444444444,
             "#bd3786"
            ],
            [
             0.5555555555555556,
             "#d8576b"
            ],
            [
             0.6666666666666666,
             "#ed7953"
            ],
            [
             0.7777777777777778,
             "#fb9f3a"
            ],
            [
             0.8888888888888888,
             "#fdca26"
            ],
            [
             1,
             "#f0f921"
            ]
           ]
          },
          "colorway": [
           "#636efa",
           "#EF553B",
           "#00cc96",
           "#ab63fa",
           "#FFA15A",
           "#19d3f3",
           "#FF6692",
           "#B6E880",
           "#FF97FF",
           "#FECB52"
          ],
          "font": {
           "color": "#2a3f5f"
          },
          "geo": {
           "bgcolor": "white",
           "lakecolor": "white",
           "landcolor": "#E5ECF6",
           "showlakes": true,
           "showland": true,
           "subunitcolor": "white"
          },
          "hoverlabel": {
           "align": "left"
          },
          "hovermode": "closest",
          "mapbox": {
           "style": "light"
          },
          "paper_bgcolor": "white",
          "plot_bgcolor": "#E5ECF6",
          "polar": {
           "angularaxis": {
            "gridcolor": "white",
            "linecolor": "white",
            "ticks": ""
           },
           "bgcolor": "#E5ECF6",
           "radialaxis": {
            "gridcolor": "white",
            "linecolor": "white",
            "ticks": ""
           }
          },
          "scene": {
           "xaxis": {
            "backgroundcolor": "#E5ECF6",
            "gridcolor": "white",
            "gridwidth": 2,
            "linecolor": "white",
            "showbackground": true,
            "ticks": "",
            "zerolinecolor": "white"
           },
           "yaxis": {
            "backgroundcolor": "#E5ECF6",
            "gridcolor": "white",
            "gridwidth": 2,
            "linecolor": "white",
            "showbackground": true,
            "ticks": "",
            "zerolinecolor": "white"
           },
           "zaxis": {
            "backgroundcolor": "#E5ECF6",
            "gridcolor": "white",
            "gridwidth": 2,
            "linecolor": "white",
            "showbackground": true,
            "ticks": "",
            "zerolinecolor": "white"
           }
          },
          "shapedefaults": {
           "line": {
            "color": "#2a3f5f"
           }
          },
          "ternary": {
           "aaxis": {
            "gridcolor": "white",
            "linecolor": "white",
            "ticks": ""
           },
           "baxis": {
            "gridcolor": "white",
            "linecolor": "white",
            "ticks": ""
           },
           "bgcolor": "#E5ECF6",
           "caxis": {
            "gridcolor": "white",
            "linecolor": "white",
            "ticks": ""
           }
          },
          "title": {
           "x": 0.05
          },
          "xaxis": {
           "automargin": true,
           "gridcolor": "white",
           "linecolor": "white",
           "ticks": "",
           "title": {
            "standoff": 15
           },
           "zerolinecolor": "white",
           "zerolinewidth": 2
          },
          "yaxis": {
           "automargin": true,
           "gridcolor": "white",
           "linecolor": "white",
           "ticks": "",
           "title": {
            "standoff": 15
           },
           "zerolinecolor": "white",
           "zerolinewidth": 2
          }
         }
        },
        "xaxis": {
         "anchor": "y",
         "domain": [
          0,
          1
         ],
         "title": {
          "text": "0"
         }
        },
        "yaxis": {
         "anchor": "x",
         "domain": [
          0,
          1
         ],
         "title": {
          "text": "1"
         }
        }
       }
      }
     },
     "metadata": {},
     "output_type": "display_data"
    }
   ],
   "source": [
    "#visualization(not the main work; just for getting an intuition)\n",
    "#pca model\n",
    "\n",
    "import pandas as pd\n",
    "import plotly.express as px\n",
    "from sklearn.decomposition import PCA\n",
    "from sklearn.preprocessing import StandardScaler\n",
    "\n",
    "\n",
    "X_drug = e_and_p.iloc[:, 2:240].values\n",
    "\n",
    "X_drug = StandardScaler().fit_transform(X_drug)\n",
    "\n",
    "pca_drug = PCA(n_components=2)\n",
    "components = pca_drug.fit_transform(X_drug)\n",
    "\n",
    "\n",
    "\n",
    "fig = px.scatter(components, x=0, y=1, color=e_and_p['drug_name'])\n",
    "fig.show()"
   ]
  },
  {
   "cell_type": "code",
   "execution_count": 28,
   "metadata": {},
   "outputs": [
    {
     "name": "stdout",
     "output_type": "stream",
     "text": [
      "[4.528743278359055, -2.2701951396701303, 'Etoposide+Paclitaxel']\n"
     ]
    }
   ],
   "source": [
    "def get_centroid(point_lst):\n",
    "    x_sum=0\n",
    "    y_sum=0\n",
    "    for i in range(len(point_lst)):\n",
    "        x_sum+=point_lst[i][0]\n",
    "        y_sum+=point_lst[i][1]\n",
    "\n",
    "    x_mean=x_sum/len(point_lst)\n",
    "    y_mean=y_sum/len(point_lst)\n",
    "    centroid=[]\n",
    "    centroid.append(x_mean)\n",
    "    centroid.append(y_mean)\n",
    "    centroid.append(point_lst[0][-1])\n",
    "    return centroid\n",
    "print(get_centroid(p[12:18]))\n"
   ]
  },
  {
   "cell_type": "code",
   "execution_count": 29,
   "metadata": {},
   "outputs": [
    {
     "name": "stdout",
     "output_type": "stream",
     "text": [
      "The single drug response that is similar to \" Paclitaxel+Etoposide \" is: Paclitaxel.\n"
     ]
    }
   ],
   "source": [
    "# hand-written codes about knn\n",
    "# knn codes here: I picked many k values, and pick the most frequent results\n",
    "# (results according to different k values situations)\n",
    "# 1 euclidean distance\n",
    "# Example of calculating Euclidean distance\n",
    "from math import sqrt\n",
    " \n",
    "# calculate the Euclidean distance between two vectors\n",
    "def euclidean_distance(row1, row2):\n",
    "\tdistance = 0.0\n",
    "\tfor i in range(len(row1)-1):\n",
    "\t\tdistance += (row1[i] - row2[i])**2\n",
    "\treturn sqrt(distance)\n",
    "# Locate the most similar neighbors\n",
    "def get_neighbors(train, test_row, num_neighbors):\n",
    "\tdistances = list()\n",
    "\tfor train_row in train:\n",
    "\t\tdist = euclidean_distance(test_row, train_row)\n",
    "\t\tdistances.append((train_row, dist))\n",
    "\tdistances.sort(key=lambda tup: tup[1])\n",
    "\tneighbors = list()\n",
    "\tfor i in range(num_neighbors):\n",
    "\t\tneighbors.append(distances[i][0])\n",
    "\treturn neighbors\n",
    "\n",
    "# Make a classification prediction with neighbors\n",
    "def predict_classification(train, test_row, num_neighbors):\n",
    "    \t\n",
    "\tneighbors = get_neighbors(train, test_row, num_neighbors)\n",
    "\toutput_values = [row[-1] for row in neighbors]\n",
    "\tprediction = max(set(output_values), key=output_values.count)\n",
    "\treturn prediction\n",
    " \n",
    "# Test distance function\n",
    "\n",
    "#row0 = p[12]\n",
    "#for row in p:\n",
    "#\tdistance = euclidean_distance(row0, row)\n",
    "\t#print(distance)\n",
    "neighbors = get_neighbors(p2, p[12], 3)\n",
    "#for neighbor in neighbors:\n",
    "\t#print(neighbor)\n",
    "#neighbors2=get_neighbors(newdata,newdata[12],3)\n",
    "#prediction = predict_classification(p2, p[12], 3)\n",
    "#print('The single drug response that is similar to \" %s \" is: %s.' % (p[12][-1], prediction))\n",
    "#prediction = predict_classification(p2, p[12], 4)\n",
    "#print('The single drug response that is similar to \" %s \" is: %s.' % (p[12][-1], prediction))\n",
    "#prediction = predict_classification(p2, p[12], 5)\n",
    "#print('The single drug response that is similar to \" %s \" is: %s.' % (p[12][-1], prediction))\n",
    "#prediction = predict_classification(p2, p[12], 6)\n",
    "#print('The single drug response that is similar to \" %s \" is: %s.' % (p[12][-1], prediction))\n",
    "#prediction = predict_classification(p2, p[12], 7)\n",
    "#print('The single drug response that is similar to \" %s \" is: %s.' % (p[12][-1], prediction))\n",
    "centroid_ep=get_centroid(p[12:18])\n",
    "#prediction = predict_classification(p2, centroid_ep, 3)\n",
    "#print('The single drug response that is similar to \" %s \" is: %s.' % (centroid_ep[-1], prediction))\n",
    "centroid_pe=get_centroid(p[18:24])\n",
    "new_lst=[]\n",
    "new_lst.append(centroid_pe)\n",
    "new_lst.append(centroid_ep)\n",
    "new_centroid=get_centroid(new_lst)\n",
    "#prediction = predict_classification(p2, centroid_pe, 3)\n",
    "#print('The single drug response that is similar to \" %s \" is: %s.' % (centroid_pe[-1], prediction))\n",
    "#print(new_centroid)\n",
    "res=[]\n",
    "for i in range(1,13):\n",
    "    res.append(predict_classification(p2, new_centroid, i))\n",
    "#prediction = predict_classification(p2, new_centroid, 12)\n",
    "#print('The single drug response that is similar to \" %s \" is: %s.' % (new_centroid[-1], prediction))\n",
    "\n",
    "\n",
    "def more_frequent_res(lst):\n",
    "    \t\n",
    "\tcnt1=0\n",
    "\tcnt2=0\n",
    "\tfor i in range(len(lst)):\n",
    "\t\tif lst[i]=='Paclitaxel':\n",
    "\t\t\t\tcnt1+=1\n",
    "\t\telif lst[i]=='Etoposide':\n",
    "\t\t\t\tcnt2+=1\n",
    "\tif cnt1>cnt2: return 'Paclitaxel'\n",
    "\telse: return 'Etoposide'\n",
    "\n",
    "res2=more_frequent_res(res)\n",
    "#print(res2)\n",
    "print('The single drug response that is similar to \" %s \" is: %s.' %(new_centroid[-1],res2))\n",
    "\t\t\n",
    "\n"
   ]
  },
  {
   "cell_type": "code",
   "execution_count": 30,
   "metadata": {},
   "outputs": [],
   "source": [
    "#find similar drug response\n"
   ]
  },
  {
   "cell_type": "code",
   "execution_count": null,
   "metadata": {},
   "outputs": [],
   "source": []
  }
 ],
 "metadata": {
  "kernelspec": {
   "display_name": "Python 3.8.5 ('base')",
   "language": "python",
   "name": "python3"
  },
  "language_info": {
   "codemirror_mode": {
    "name": "ipython",
    "version": 3
   },
   "file_extension": ".py",
   "mimetype": "text/x-python",
   "name": "python",
   "nbconvert_exporter": "python",
   "pygments_lexer": "ipython3",
   "version": "3.8.5"
  },
  "vscode": {
   "interpreter": {
    "hash": "40d3a090f54c6569ab1632332b64b2c03c39dcf918b08424e98f38b5ae0af88f"
   }
  }
 },
 "nbformat": 4,
 "nbformat_minor": 4
}

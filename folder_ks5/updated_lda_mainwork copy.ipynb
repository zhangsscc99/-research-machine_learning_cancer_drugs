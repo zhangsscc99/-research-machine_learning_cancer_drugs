{
 "cells": [
  {
   "cell_type": "code",
   "execution_count": 179,
   "metadata": {},
   "outputs": [],
   "source": [
    "#a code block that deals with concentration and drug names\n",
    "#we do not use this block for now.\n",
    "\n",
    "import pandas as pd\n",
    "f1 = pd.read_csv('B.csv')\n",
    "f2 = pd.read_csv('C.csv')\n",
    "f3=pd.read_csv('D.csv')\n",
    "f4=pd.read_csv('E.csv')\n",
    "f5=pd.read_csv('A_ks5.csv')\n",
    "file = [f1,f2,f3,f5]\n",
    "train = pd.concat(file,axis=1)\n",
    "train.to_csv(\"train.csv\", index=0, sep=',')\n"
   ]
  },
  {
   "cell_type": "code",
   "execution_count": 180,
   "metadata": {},
   "outputs": [
    {
     "name": "stdout",
     "output_type": "stream",
     "text": [
      "-0.294442\n"
     ]
    }
   ],
   "source": [
    "#do some further processing with \"A\" because there are some data error in it\n",
    "def remove_extradots(string):\n",
    "    counter=0\n",
    "    lst=[]\n",
    "    for i in range(len(string)):\n",
    "        if string[i]=='.' and counter<1 :\n",
    "            lst.append(string[i])\n",
    "            counter+=1\n",
    "        elif string[i]!='.':\n",
    "            lst.append(string[i])\n",
    "    res=\"\".join(lst)\n",
    "    return res\n",
    "\n",
    "\n",
    "\n",
    "import csv\n",
    "res_list=[]\n",
    "print(remove_extradots(\"-0.29444.2\"))\n",
    "with open('A_ks5.csv') as file2:\n",
    "    reader=csv.reader(file2)\n",
    "\n",
    "    for row in reader:\n",
    "        data=[]\n",
    "        for i in range(len(row)):\n",
    "            \n",
    "            data.append(remove_extradots(row[i]))\n",
    "        res_list.append(data)\n",
    "    \n",
    "\n",
    "\n",
    "with open('modified_A.csv', 'w') as file3:\n",
    "    writer = csv.writer(file3)\n",
    "    writer.writerows(res_list)\n",
    "file3.close()\n",
    "                \n"
   ]
  },
  {
   "cell_type": "code",
   "execution_count": 181,
   "metadata": {},
   "outputs": [
    {
     "data": {
      "text/plain": [
       "(767, 239)"
      ]
     },
     "execution_count": 181,
     "metadata": {},
     "output_type": "execute_result"
    }
   ],
   "source": [
    "#test file A\n",
    "import pandas as pd\n",
    "df_A=pd.read_csv(\"A_ks5.csv\")\n",
    "df_A.shape\n",
    "#df_A2=pd.read_csv(\"A_modified.csv\")\n",
    "#df_A2.shape\n"
   ]
  },
  {
   "cell_type": "code",
   "execution_count": 182,
   "metadata": {},
   "outputs": [],
   "source": [
    "#a block that is used to concate the drug names(drug combinations and related concentration)\n",
    "\n",
    "import csv\n",
    "res_list=[]\n",
    "with open('train.csv', 'r') as file:\n",
    "    reader = csv.reader(file)\n",
    "    \n",
    "    for row in reader:\n",
    "        data=[]\n",
    "        data.append(row[0]+'+'+row[1]+\"+\"+row[2])\n",
    "        res_list.append(data)\n",
    "\n",
    "        \n",
    "        \n",
    "with open('concatenated.csv', 'w') as file2:\n",
    "    writer = csv.writer(file2)\n",
    "    writer.writerows(res_list)"
   ]
  },
  {
   "cell_type": "code",
   "execution_count": 183,
   "metadata": {},
   "outputs": [],
   "source": [
    "#a block that is used to concate concentration and ks numbers.\n",
    "import pandas as pd\n",
    "f1 = pd.read_csv('concatenated.csv')\n",
    "#f2 = pd.read_csv('C.csv')\n",
    "f3=pd.read_csv('D.csv')\n",
    "f4=pd.read_csv('E.csv')\n",
    "f5=pd.read_csv('modified_A.csv')\n",
    "file = [f1,f5]\n",
    "train = pd.concat(file,axis=1)\n",
    "train.to_csv(\"train3.csv\", index=0, sep=',')"
   ]
  },
  {
   "cell_type": "code",
   "execution_count": 184,
   "metadata": {},
   "outputs": [],
   "source": [
    "#a block that sets the fields for the drug data\n",
    "import csv\n",
    "fields=['drug_name','default']\n",
    "for i in range(1,239):\n",
    "    fields.append('ks'+str(i))\n",
    "rows=[]\n",
    "with open('train3.csv', 'r') as file:\n",
    "    reader = csv.reader(file)\n",
    "    \n",
    "    for row in reader:\n",
    "        rows.append(row)\n",
    "\n",
    "        \n",
    "        \n",
    "with open('drug_withfields2.csv', 'w') as file2:\n",
    "    writer = csv.writer(file2)\n",
    "    writer.writerow(fields)\n",
    "    writer.writerows(rows)"
   ]
  },
  {
   "cell_type": "code",
   "execution_count": 185,
   "metadata": {},
   "outputs": [
    {
     "name": "stdout",
     "output_type": "stream",
     "text": [
      "-0.294442\n"
     ]
    }
   ],
   "source": [
    "#do some further processing with \"drug_withfields\" because there are still some data error in it\n",
    "def remove_extradots(string):\n",
    "    counter=0\n",
    "    lst=[]\n",
    "    for i in range(len(string)):\n",
    "        if string[i]=='.' and counter<1 :\n",
    "            lst.append(string[i])\n",
    "            counter+=1\n",
    "        elif string[i]!='.':\n",
    "            lst.append(string[i])\n",
    "    res=\"\".join(lst)\n",
    "    return res\n",
    "\n",
    "\n",
    "\n",
    "import csv\n",
    "res_list=[]\n",
    "print(remove_extradots(\"-0.29444.2\"))\n",
    "with open('drug_withfields2.csv') as file2:\n",
    "    reader=csv.reader(file2)\n",
    "\n",
    "    for row in reader:\n",
    "        data=[]\n",
    "        for i in range(len(row)):\n",
    "            \n",
    "            data.append(remove_extradots(row[i]))\n",
    "        res_list.append(data)\n",
    "    \n",
    "\n",
    "\n",
    "with open('drug_with_fields.csv', 'w') as file3:\n",
    "    writer = csv.writer(file3)\n",
    "    writer.writerows(res_list)\n",
    "file3.close()\n",
    "                "
   ]
  },
  {
   "cell_type": "code",
   "execution_count": 186,
   "metadata": {},
   "outputs": [
    {
     "data": {
      "text/html": [
       "<div>\n",
       "<style scoped>\n",
       "    .dataframe tbody tr th:only-of-type {\n",
       "        vertical-align: middle;\n",
       "    }\n",
       "\n",
       "    .dataframe tbody tr th {\n",
       "        vertical-align: top;\n",
       "    }\n",
       "\n",
       "    .dataframe thead th {\n",
       "        text-align: right;\n",
       "    }\n",
       "</style>\n",
       "<table border=\"1\" class=\"dataframe\">\n",
       "  <thead>\n",
       "    <tr style=\"text-align: right;\">\n",
       "      <th></th>\n",
       "      <th>drug_name</th>\n",
       "      <th>default</th>\n",
       "      <th>ks1</th>\n",
       "      <th>ks2</th>\n",
       "      <th>ks3</th>\n",
       "      <th>ks4</th>\n",
       "      <th>ks5</th>\n",
       "      <th>ks6</th>\n",
       "      <th>ks7</th>\n",
       "      <th>ks8</th>\n",
       "      <th>...</th>\n",
       "      <th>ks229</th>\n",
       "      <th>ks230</th>\n",
       "      <th>ks231</th>\n",
       "      <th>ks232</th>\n",
       "      <th>ks233</th>\n",
       "      <th>ks234</th>\n",
       "      <th>ks235</th>\n",
       "      <th>ks236</th>\n",
       "      <th>ks237</th>\n",
       "      <th>ks238</th>\n",
       "    </tr>\n",
       "  </thead>\n",
       "  <tbody>\n",
       "    <tr>\n",
       "      <th>12</th>\n",
       "      <td>Etoposide+Gemcitabine+1</td>\n",
       "      <td>0</td>\n",
       "      <td>-0.749170</td>\n",
       "      <td>-0.669410</td>\n",
       "      <td>-0.927020</td>\n",
       "      <td>-0.965710</td>\n",
       "      <td>-0.987910</td>\n",
       "      <td>-0.922450</td>\n",
       "      <td>-0.889720</td>\n",
       "      <td>-0.870230</td>\n",
       "      <td>...</td>\n",
       "      <td>-0.337330</td>\n",
       "      <td>0.136410</td>\n",
       "      <td>-0.145360</td>\n",
       "      <td>-0.306520</td>\n",
       "      <td>-0.297390</td>\n",
       "      <td>0.136410</td>\n",
       "      <td>0.235710</td>\n",
       "      <td>0.167310</td>\n",
       "      <td>-0.203070</td>\n",
       "      <td>0.135950</td>\n",
       "    </tr>\n",
       "    <tr>\n",
       "      <th>14</th>\n",
       "      <td>Etoposide+Gemcitabine+2</td>\n",
       "      <td>0</td>\n",
       "      <td>-0.913330</td>\n",
       "      <td>-0.459310</td>\n",
       "      <td>-0.413220</td>\n",
       "      <td>-0.696840</td>\n",
       "      <td>-0.882330</td>\n",
       "      <td>-0.497390</td>\n",
       "      <td>-0.380400</td>\n",
       "      <td>-0.361150</td>\n",
       "      <td>...</td>\n",
       "      <td>0.137990</td>\n",
       "      <td>0.272160</td>\n",
       "      <td>-0.289340</td>\n",
       "      <td>0.270370</td>\n",
       "      <td>0.205260</td>\n",
       "      <td>0.272160</td>\n",
       "      <td>-0.627590</td>\n",
       "      <td>-0.608650</td>\n",
       "      <td>-0.403970</td>\n",
       "      <td>0.399480</td>\n",
       "    </tr>\n",
       "    <tr>\n",
       "      <th>16</th>\n",
       "      <td>Etoposide+Gemcitabine+3</td>\n",
       "      <td>0</td>\n",
       "      <td>-0.690000</td>\n",
       "      <td>0.299020</td>\n",
       "      <td>0.126810</td>\n",
       "      <td>0.259950</td>\n",
       "      <td>0.251080</td>\n",
       "      <td>0.149220</td>\n",
       "      <td>0.113770</td>\n",
       "      <td>0.086765</td>\n",
       "      <td>...</td>\n",
       "      <td>0.551860</td>\n",
       "      <td>0.247790</td>\n",
       "      <td>-0.315200</td>\n",
       "      <td>0.722750</td>\n",
       "      <td>0.682450</td>\n",
       "      <td>0.247790</td>\n",
       "      <td>-0.531130</td>\n",
       "      <td>-0.569710</td>\n",
       "      <td>-0.181620</td>\n",
       "      <td>0.395390</td>\n",
       "    </tr>\n",
       "    <tr>\n",
       "      <th>18</th>\n",
       "      <td>Etoposide+Gemcitabine+4</td>\n",
       "      <td>0</td>\n",
       "      <td>-0.677500</td>\n",
       "      <td>0.258400</td>\n",
       "      <td>0.152130</td>\n",
       "      <td>0.207060</td>\n",
       "      <td>0.146180</td>\n",
       "      <td>0.151390</td>\n",
       "      <td>0.143780</td>\n",
       "      <td>0.126430</td>\n",
       "      <td>...</td>\n",
       "      <td>0.485480</td>\n",
       "      <td>0.231640</td>\n",
       "      <td>-0.226070</td>\n",
       "      <td>0.623180</td>\n",
       "      <td>0.595200</td>\n",
       "      <td>0.231640</td>\n",
       "      <td>-0.474370</td>\n",
       "      <td>-0.498440</td>\n",
       "      <td>-0.153010</td>\n",
       "      <td>0.282530</td>\n",
       "    </tr>\n",
       "    <tr>\n",
       "      <th>20</th>\n",
       "      <td>Etoposide+Gemcitabine+5</td>\n",
       "      <td>0</td>\n",
       "      <td>-0.060833</td>\n",
       "      <td>-0.167140</td>\n",
       "      <td>-0.198800</td>\n",
       "      <td>0.093564</td>\n",
       "      <td>-0.258180</td>\n",
       "      <td>-0.186680</td>\n",
       "      <td>-0.175810</td>\n",
       "      <td>-0.170990</td>\n",
       "      <td>...</td>\n",
       "      <td>-0.052231</td>\n",
       "      <td>0.031219</td>\n",
       "      <td>-0.091645</td>\n",
       "      <td>-0.042901</td>\n",
       "      <td>-0.048864</td>\n",
       "      <td>0.031219</td>\n",
       "      <td>-0.108130</td>\n",
       "      <td>-0.122700</td>\n",
       "      <td>-0.088380</td>\n",
       "      <td>0.100400</td>\n",
       "    </tr>\n",
       "    <tr>\n",
       "      <th>22</th>\n",
       "      <td>Etoposide+Gemcitabine+6</td>\n",
       "      <td>0</td>\n",
       "      <td>0.083015</td>\n",
       "      <td>-0.050783</td>\n",
       "      <td>0.086035</td>\n",
       "      <td>0.068023</td>\n",
       "      <td>0.040280</td>\n",
       "      <td>0.069896</td>\n",
       "      <td>0.098187</td>\n",
       "      <td>0.105420</td>\n",
       "      <td>...</td>\n",
       "      <td>-0.099344</td>\n",
       "      <td>0.039748</td>\n",
       "      <td>-0.028958</td>\n",
       "      <td>-0.091077</td>\n",
       "      <td>-0.087472</td>\n",
       "      <td>0.039748</td>\n",
       "      <td>0.081126</td>\n",
       "      <td>0.075743</td>\n",
       "      <td>-0.045866</td>\n",
       "      <td>-0.049417</td>\n",
       "    </tr>\n",
       "    <tr>\n",
       "      <th>72</th>\n",
       "      <td>Gemcitabine+Etoposide+1</td>\n",
       "      <td>0</td>\n",
       "      <td>-0.713330</td>\n",
       "      <td>-0.774560</td>\n",
       "      <td>-0.961700</td>\n",
       "      <td>-0.986490</td>\n",
       "      <td>-0.994910</td>\n",
       "      <td>-0.968090</td>\n",
       "      <td>-0.944310</td>\n",
       "      <td>-0.923210</td>\n",
       "      <td>...</td>\n",
       "      <td>-0.426610</td>\n",
       "      <td>0.111720</td>\n",
       "      <td>0.116930</td>\n",
       "      <td>-0.403950</td>\n",
       "      <td>-0.403140</td>\n",
       "      <td>0.111720</td>\n",
       "      <td>0.213970</td>\n",
       "      <td>0.153460</td>\n",
       "      <td>-0.203070</td>\n",
       "      <td>0.089149</td>\n",
       "    </tr>\n",
       "    <tr>\n",
       "      <th>74</th>\n",
       "      <td>Gemcitabine+Etoposide+2</td>\n",
       "      <td>0</td>\n",
       "      <td>-0.780000</td>\n",
       "      <td>-0.722470</td>\n",
       "      <td>-0.922870</td>\n",
       "      <td>-0.968220</td>\n",
       "      <td>-0.994490</td>\n",
       "      <td>-0.928630</td>\n",
       "      <td>-0.905500</td>\n",
       "      <td>-0.887490</td>\n",
       "      <td>...</td>\n",
       "      <td>-0.352870</td>\n",
       "      <td>0.114080</td>\n",
       "      <td>0.093003</td>\n",
       "      <td>-0.329940</td>\n",
       "      <td>-0.313260</td>\n",
       "      <td>0.114080</td>\n",
       "      <td>0.193750</td>\n",
       "      <td>-0.156670</td>\n",
       "      <td>-0.252160</td>\n",
       "      <td>0.117480</td>\n",
       "    </tr>\n",
       "    <tr>\n",
       "      <th>76</th>\n",
       "      <td>Gemcitabine+Etoposide+3</td>\n",
       "      <td>0</td>\n",
       "      <td>-0.887500</td>\n",
       "      <td>-0.541820</td>\n",
       "      <td>-0.639910</td>\n",
       "      <td>-0.801420</td>\n",
       "      <td>-0.903400</td>\n",
       "      <td>-0.665160</td>\n",
       "      <td>-0.605320</td>\n",
       "      <td>-0.569120</td>\n",
       "      <td>...</td>\n",
       "      <td>0.112570</td>\n",
       "      <td>0.292570</td>\n",
       "      <td>-0.371510</td>\n",
       "      <td>0.223130</td>\n",
       "      <td>0.180650</td>\n",
       "      <td>0.292570</td>\n",
       "      <td>-0.563060</td>\n",
       "      <td>-0.610090</td>\n",
       "      <td>-0.389750</td>\n",
       "      <td>0.458960</td>\n",
       "    </tr>\n",
       "    <tr>\n",
       "      <th>78</th>\n",
       "      <td>Gemcitabine+Etoposide+4</td>\n",
       "      <td>0</td>\n",
       "      <td>0.107510</td>\n",
       "      <td>0.072807</td>\n",
       "      <td>0.043609</td>\n",
       "      <td>0.252200</td>\n",
       "      <td>-0.057031</td>\n",
       "      <td>-0.069156</td>\n",
       "      <td>0.059811</td>\n",
       "      <td>0.107200</td>\n",
       "      <td>...</td>\n",
       "      <td>-0.140180</td>\n",
       "      <td>0.047199</td>\n",
       "      <td>-0.043867</td>\n",
       "      <td>-0.152010</td>\n",
       "      <td>-0.145750</td>\n",
       "      <td>0.047199</td>\n",
       "      <td>0.205450</td>\n",
       "      <td>0.190560</td>\n",
       "      <td>-0.067196</td>\n",
       "      <td>-0.080784</td>\n",
       "    </tr>\n",
       "    <tr>\n",
       "      <th>80</th>\n",
       "      <td>Gemcitabine+Etoposide+5</td>\n",
       "      <td>0</td>\n",
       "      <td>0.100400</td>\n",
       "      <td>-0.083630</td>\n",
       "      <td>0.070463</td>\n",
       "      <td>0.188350</td>\n",
       "      <td>-0.059757</td>\n",
       "      <td>-0.030308</td>\n",
       "      <td>0.102570</td>\n",
       "      <td>0.119030</td>\n",
       "      <td>...</td>\n",
       "      <td>-0.155170</td>\n",
       "      <td>0.035656</td>\n",
       "      <td>-0.036042</td>\n",
       "      <td>-0.156410</td>\n",
       "      <td>-0.152880</td>\n",
       "      <td>0.035656</td>\n",
       "      <td>0.153490</td>\n",
       "      <td>0.138390</td>\n",
       "      <td>-0.061476</td>\n",
       "      <td>-0.065220</td>\n",
       "    </tr>\n",
       "    <tr>\n",
       "      <th>82</th>\n",
       "      <td>Gemcitabine+Etoposide+6</td>\n",
       "      <td>0</td>\n",
       "      <td>0.133120</td>\n",
       "      <td>-0.129150</td>\n",
       "      <td>-0.104200</td>\n",
       "      <td>0.212200</td>\n",
       "      <td>-0.154010</td>\n",
       "      <td>-0.137190</td>\n",
       "      <td>-0.081325</td>\n",
       "      <td>-0.058404</td>\n",
       "      <td>...</td>\n",
       "      <td>-0.159840</td>\n",
       "      <td>0.054025</td>\n",
       "      <td>-0.052054</td>\n",
       "      <td>-0.157770</td>\n",
       "      <td>-0.154720</td>\n",
       "      <td>0.054025</td>\n",
       "      <td>0.146020</td>\n",
       "      <td>0.122360</td>\n",
       "      <td>-0.071671</td>\n",
       "      <td>-0.044196</td>\n",
       "    </tr>\n",
       "    <tr>\n",
       "      <th>0</th>\n",
       "      <td>Etoposide+Etoposide+1</td>\n",
       "      <td>0</td>\n",
       "      <td>-0.930830</td>\n",
       "      <td>-0.494530</td>\n",
       "      <td>-0.571140</td>\n",
       "      <td>-0.799580</td>\n",
       "      <td>-0.885820</td>\n",
       "      <td>-0.605470</td>\n",
       "      <td>-0.502670</td>\n",
       "      <td>-0.483900</td>\n",
       "      <td>...</td>\n",
       "      <td>-0.081045</td>\n",
       "      <td>0.191610</td>\n",
       "      <td>-0.217910</td>\n",
       "      <td>0.135640</td>\n",
       "      <td>0.109241</td>\n",
       "      <td>0.191611</td>\n",
       "      <td>-0.457840</td>\n",
       "      <td>-0.457700</td>\n",
       "      <td>-0.306950</td>\n",
       "      <td>0.244280</td>\n",
       "    </tr>\n",
       "    <tr>\n",
       "      <th>2</th>\n",
       "      <td>Etoposide+Etoposide+2</td>\n",
       "      <td>0</td>\n",
       "      <td>-0.925000</td>\n",
       "      <td>-0.400790</td>\n",
       "      <td>-0.318350</td>\n",
       "      <td>-0.538470</td>\n",
       "      <td>-0.806570</td>\n",
       "      <td>-0.364790</td>\n",
       "      <td>-0.259440</td>\n",
       "      <td>-0.227850</td>\n",
       "      <td>...</td>\n",
       "      <td>0.209710</td>\n",
       "      <td>0.219110</td>\n",
       "      <td>-0.316050</td>\n",
       "      <td>0.302770</td>\n",
       "      <td>0.269690</td>\n",
       "      <td>0.219110</td>\n",
       "      <td>-0.682210</td>\n",
       "      <td>-0.677890</td>\n",
       "      <td>-0.436920</td>\n",
       "      <td>0.410580</td>\n",
       "    </tr>\n",
       "    <tr>\n",
       "      <th>4</th>\n",
       "      <td>Etoposide+Etoposide+3</td>\n",
       "      <td>0</td>\n",
       "      <td>-0.612500</td>\n",
       "      <td>0.097551</td>\n",
       "      <td>-0.134220</td>\n",
       "      <td>0.145150</td>\n",
       "      <td>-0.135310</td>\n",
       "      <td>-0.134520</td>\n",
       "      <td>-0.132050</td>\n",
       "      <td>-0.126850</td>\n",
       "      <td>...</td>\n",
       "      <td>0.448330</td>\n",
       "      <td>0.139830</td>\n",
       "      <td>-0.284680</td>\n",
       "      <td>0.535250</td>\n",
       "      <td>0.513990</td>\n",
       "      <td>0.139830</td>\n",
       "      <td>-0.458720</td>\n",
       "      <td>-0.513200</td>\n",
       "      <td>-0.164460</td>\n",
       "      <td>0.358140</td>\n",
       "    </tr>\n",
       "    <tr>\n",
       "      <th>6</th>\n",
       "      <td>Etoposide+Etoposide+4</td>\n",
       "      <td>0</td>\n",
       "      <td>0.097702</td>\n",
       "      <td>-0.056872</td>\n",
       "      <td>0.052675</td>\n",
       "      <td>0.092692</td>\n",
       "      <td>-0.035013</td>\n",
       "      <td>0.022697</td>\n",
       "      <td>0.067232</td>\n",
       "      <td>0.089390</td>\n",
       "      <td>...</td>\n",
       "      <td>-0.135830</td>\n",
       "      <td>0.052788</td>\n",
       "      <td>-0.042936</td>\n",
       "      <td>-0.105850</td>\n",
       "      <td>-0.116150</td>\n",
       "      <td>0.052788</td>\n",
       "      <td>0.122380</td>\n",
       "      <td>0.109650</td>\n",
       "      <td>-0.061423</td>\n",
       "      <td>-0.056829</td>\n",
       "    </tr>\n",
       "    <tr>\n",
       "      <th>8</th>\n",
       "      <td>Etoposide+Etoposide+5</td>\n",
       "      <td>0</td>\n",
       "      <td>0.086735</td>\n",
       "      <td>0.059167</td>\n",
       "      <td>0.080377</td>\n",
       "      <td>0.131050</td>\n",
       "      <td>0.028573</td>\n",
       "      <td>0.041073</td>\n",
       "      <td>0.097591</td>\n",
       "      <td>0.110090</td>\n",
       "      <td>...</td>\n",
       "      <td>-0.094087</td>\n",
       "      <td>0.048276</td>\n",
       "      <td>-0.029692</td>\n",
       "      <td>-0.090616</td>\n",
       "      <td>-0.095434</td>\n",
       "      <td>0.048276</td>\n",
       "      <td>0.135300</td>\n",
       "      <td>0.114380</td>\n",
       "      <td>-0.046655</td>\n",
       "      <td>-0.047169</td>\n",
       "    </tr>\n",
       "    <tr>\n",
       "      <th>10</th>\n",
       "      <td>Etoposide+Etoposide+6</td>\n",
       "      <td>0</td>\n",
       "      <td>0.101740</td>\n",
       "      <td>-0.058135</td>\n",
       "      <td>0.029234</td>\n",
       "      <td>0.118040</td>\n",
       "      <td>-0.071427</td>\n",
       "      <td>-0.024583</td>\n",
       "      <td>0.042422</td>\n",
       "      <td>0.067318</td>\n",
       "      <td>...</td>\n",
       "      <td>-0.105350</td>\n",
       "      <td>0.043098</td>\n",
       "      <td>-0.033994</td>\n",
       "      <td>-0.094549</td>\n",
       "      <td>-0.101240</td>\n",
       "      <td>0.043098</td>\n",
       "      <td>0.096732</td>\n",
       "      <td>0.081555</td>\n",
       "      <td>-0.054561</td>\n",
       "      <td>-0.039229</td>\n",
       "    </tr>\n",
       "    <tr>\n",
       "      <th>84</th>\n",
       "      <td>Gemcitabine+Gemcitabine+1</td>\n",
       "      <td>0</td>\n",
       "      <td>-0.701670</td>\n",
       "      <td>-0.739040</td>\n",
       "      <td>-0.955280</td>\n",
       "      <td>-0.974470</td>\n",
       "      <td>-0.997500</td>\n",
       "      <td>-0.956020</td>\n",
       "      <td>-0.948350</td>\n",
       "      <td>-0.936790</td>\n",
       "      <td>...</td>\n",
       "      <td>-0.373150</td>\n",
       "      <td>0.164250</td>\n",
       "      <td>-0.118720</td>\n",
       "      <td>-0.304390</td>\n",
       "      <td>-0.308700</td>\n",
       "      <td>0.164250</td>\n",
       "      <td>0.211120</td>\n",
       "      <td>0.159960</td>\n",
       "      <td>-0.231020</td>\n",
       "      <td>0.113860</td>\n",
       "    </tr>\n",
       "    <tr>\n",
       "      <th>86</th>\n",
       "      <td>Gemcitabine+Gemcitabine+2</td>\n",
       "      <td>0</td>\n",
       "      <td>-0.665830</td>\n",
       "      <td>-0.725630</td>\n",
       "      <td>-0.960370</td>\n",
       "      <td>-0.980240</td>\n",
       "      <td>-0.999170</td>\n",
       "      <td>-0.968460</td>\n",
       "      <td>-0.942910</td>\n",
       "      <td>-0.922550</td>\n",
       "      <td>...</td>\n",
       "      <td>-0.364990</td>\n",
       "      <td>0.141870</td>\n",
       "      <td>-0.093919</td>\n",
       "      <td>-0.339610</td>\n",
       "      <td>-0.322560</td>\n",
       "      <td>0.141870</td>\n",
       "      <td>0.249030</td>\n",
       "      <td>0.202570</td>\n",
       "      <td>-0.187940</td>\n",
       "      <td>0.086514</td>\n",
       "    </tr>\n",
       "    <tr>\n",
       "      <th>88</th>\n",
       "      <td>Gemcitabine+Gemcitabine+3</td>\n",
       "      <td>0</td>\n",
       "      <td>-0.878330</td>\n",
       "      <td>-0.520350</td>\n",
       "      <td>-0.636090</td>\n",
       "      <td>-0.784970</td>\n",
       "      <td>-0.893300</td>\n",
       "      <td>-0.631550</td>\n",
       "      <td>-0.585780</td>\n",
       "      <td>-0.570160</td>\n",
       "      <td>...</td>\n",
       "      <td>0.133530</td>\n",
       "      <td>0.228150</td>\n",
       "      <td>-0.319850</td>\n",
       "      <td>0.219740</td>\n",
       "      <td>0.190880</td>\n",
       "      <td>0.228150</td>\n",
       "      <td>-0.472540</td>\n",
       "      <td>-0.484150</td>\n",
       "      <td>-0.325380</td>\n",
       "      <td>0.362470</td>\n",
       "    </tr>\n",
       "    <tr>\n",
       "      <th>90</th>\n",
       "      <td>Gemcitabine+Gemcitabine+4</td>\n",
       "      <td>0</td>\n",
       "      <td>-0.697500</td>\n",
       "      <td>0.215210</td>\n",
       "      <td>-0.091668</td>\n",
       "      <td>0.313230</td>\n",
       "      <td>-0.075671</td>\n",
       "      <td>-0.090671</td>\n",
       "      <td>0.093784</td>\n",
       "      <td>0.087096</td>\n",
       "      <td>...</td>\n",
       "      <td>0.495020</td>\n",
       "      <td>0.301100</td>\n",
       "      <td>-0.288840</td>\n",
       "      <td>0.669520</td>\n",
       "      <td>0.638940</td>\n",
       "      <td>0.301100</td>\n",
       "      <td>-0.514150</td>\n",
       "      <td>-0.561630</td>\n",
       "      <td>-0.209890</td>\n",
       "      <td>0.369080</td>\n",
       "    </tr>\n",
       "    <tr>\n",
       "      <th>92</th>\n",
       "      <td>Gemcitabine+Gemcitabine+5</td>\n",
       "      <td>0</td>\n",
       "      <td>-0.035000</td>\n",
       "      <td>-0.205680</td>\n",
       "      <td>-0.212370</td>\n",
       "      <td>0.109260</td>\n",
       "      <td>-0.316220</td>\n",
       "      <td>-0.222360</td>\n",
       "      <td>-0.173480</td>\n",
       "      <td>-0.156270</td>\n",
       "      <td>...</td>\n",
       "      <td>-0.108000</td>\n",
       "      <td>0.050404</td>\n",
       "      <td>-0.089020</td>\n",
       "      <td>-0.092536</td>\n",
       "      <td>-0.091410</td>\n",
       "      <td>0.050404</td>\n",
       "      <td>-0.099881</td>\n",
       "      <td>-0.121120</td>\n",
       "      <td>-0.124370</td>\n",
       "      <td>0.087708</td>\n",
       "    </tr>\n",
       "    <tr>\n",
       "      <th>94</th>\n",
       "      <td>Gemcitabine+Gemcitabine+6</td>\n",
       "      <td>0</td>\n",
       "      <td>0.106630</td>\n",
       "      <td>-0.058514</td>\n",
       "      <td>0.065298</td>\n",
       "      <td>0.195070</td>\n",
       "      <td>-0.075471</td>\n",
       "      <td>-0.022524</td>\n",
       "      <td>0.091501</td>\n",
       "      <td>0.116910</td>\n",
       "      <td>...</td>\n",
       "      <td>-0.142740</td>\n",
       "      <td>0.041577</td>\n",
       "      <td>-0.030118</td>\n",
       "      <td>-0.135980</td>\n",
       "      <td>-0.143020</td>\n",
       "      <td>0.041577</td>\n",
       "      <td>0.147430</td>\n",
       "      <td>0.113920</td>\n",
       "      <td>-0.056411</td>\n",
       "      <td>-0.043697</td>\n",
       "    </tr>\n",
       "  </tbody>\n",
       "</table>\n",
       "<p>24 rows × 240 columns</p>\n",
       "</div>"
      ],
      "text/plain": [
       "                    drug_name  default       ks1       ks2       ks3  \\\n",
       "12    Etoposide+Gemcitabine+1        0 -0.749170 -0.669410 -0.927020   \n",
       "14    Etoposide+Gemcitabine+2        0 -0.913330 -0.459310 -0.413220   \n",
       "16    Etoposide+Gemcitabine+3        0 -0.690000  0.299020  0.126810   \n",
       "18    Etoposide+Gemcitabine+4        0 -0.677500  0.258400  0.152130   \n",
       "20    Etoposide+Gemcitabine+5        0 -0.060833 -0.167140 -0.198800   \n",
       "22    Etoposide+Gemcitabine+6        0  0.083015 -0.050783  0.086035   \n",
       "72    Gemcitabine+Etoposide+1        0 -0.713330 -0.774560 -0.961700   \n",
       "74    Gemcitabine+Etoposide+2        0 -0.780000 -0.722470 -0.922870   \n",
       "76    Gemcitabine+Etoposide+3        0 -0.887500 -0.541820 -0.639910   \n",
       "78    Gemcitabine+Etoposide+4        0  0.107510  0.072807  0.043609   \n",
       "80    Gemcitabine+Etoposide+5        0  0.100400 -0.083630  0.070463   \n",
       "82    Gemcitabine+Etoposide+6        0  0.133120 -0.129150 -0.104200   \n",
       "0       Etoposide+Etoposide+1        0 -0.930830 -0.494530 -0.571140   \n",
       "2       Etoposide+Etoposide+2        0 -0.925000 -0.400790 -0.318350   \n",
       "4       Etoposide+Etoposide+3        0 -0.612500  0.097551 -0.134220   \n",
       "6       Etoposide+Etoposide+4        0  0.097702 -0.056872  0.052675   \n",
       "8       Etoposide+Etoposide+5        0  0.086735  0.059167  0.080377   \n",
       "10      Etoposide+Etoposide+6        0  0.101740 -0.058135  0.029234   \n",
       "84  Gemcitabine+Gemcitabine+1        0 -0.701670 -0.739040 -0.955280   \n",
       "86  Gemcitabine+Gemcitabine+2        0 -0.665830 -0.725630 -0.960370   \n",
       "88  Gemcitabine+Gemcitabine+3        0 -0.878330 -0.520350 -0.636090   \n",
       "90  Gemcitabine+Gemcitabine+4        0 -0.697500  0.215210 -0.091668   \n",
       "92  Gemcitabine+Gemcitabine+5        0 -0.035000 -0.205680 -0.212370   \n",
       "94  Gemcitabine+Gemcitabine+6        0  0.106630 -0.058514  0.065298   \n",
       "\n",
       "         ks4       ks5       ks6       ks7       ks8  ...     ks229     ks230  \\\n",
       "12 -0.965710 -0.987910 -0.922450 -0.889720 -0.870230  ... -0.337330  0.136410   \n",
       "14 -0.696840 -0.882330 -0.497390 -0.380400 -0.361150  ...  0.137990  0.272160   \n",
       "16  0.259950  0.251080  0.149220  0.113770  0.086765  ...  0.551860  0.247790   \n",
       "18  0.207060  0.146180  0.151390  0.143780  0.126430  ...  0.485480  0.231640   \n",
       "20  0.093564 -0.258180 -0.186680 -0.175810 -0.170990  ... -0.052231  0.031219   \n",
       "22  0.068023  0.040280  0.069896  0.098187  0.105420  ... -0.099344  0.039748   \n",
       "72 -0.986490 -0.994910 -0.968090 -0.944310 -0.923210  ... -0.426610  0.111720   \n",
       "74 -0.968220 -0.994490 -0.928630 -0.905500 -0.887490  ... -0.352870  0.114080   \n",
       "76 -0.801420 -0.903400 -0.665160 -0.605320 -0.569120  ...  0.112570  0.292570   \n",
       "78  0.252200 -0.057031 -0.069156  0.059811  0.107200  ... -0.140180  0.047199   \n",
       "80  0.188350 -0.059757 -0.030308  0.102570  0.119030  ... -0.155170  0.035656   \n",
       "82  0.212200 -0.154010 -0.137190 -0.081325 -0.058404  ... -0.159840  0.054025   \n",
       "0  -0.799580 -0.885820 -0.605470 -0.502670 -0.483900  ... -0.081045  0.191610   \n",
       "2  -0.538470 -0.806570 -0.364790 -0.259440 -0.227850  ...  0.209710  0.219110   \n",
       "4   0.145150 -0.135310 -0.134520 -0.132050 -0.126850  ...  0.448330  0.139830   \n",
       "6   0.092692 -0.035013  0.022697  0.067232  0.089390  ... -0.135830  0.052788   \n",
       "8   0.131050  0.028573  0.041073  0.097591  0.110090  ... -0.094087  0.048276   \n",
       "10  0.118040 -0.071427 -0.024583  0.042422  0.067318  ... -0.105350  0.043098   \n",
       "84 -0.974470 -0.997500 -0.956020 -0.948350 -0.936790  ... -0.373150  0.164250   \n",
       "86 -0.980240 -0.999170 -0.968460 -0.942910 -0.922550  ... -0.364990  0.141870   \n",
       "88 -0.784970 -0.893300 -0.631550 -0.585780 -0.570160  ...  0.133530  0.228150   \n",
       "90  0.313230 -0.075671 -0.090671  0.093784  0.087096  ...  0.495020  0.301100   \n",
       "92  0.109260 -0.316220 -0.222360 -0.173480 -0.156270  ... -0.108000  0.050404   \n",
       "94  0.195070 -0.075471 -0.022524  0.091501  0.116910  ... -0.142740  0.041577   \n",
       "\n",
       "       ks231     ks232     ks233     ks234     ks235     ks236     ks237  \\\n",
       "12 -0.145360 -0.306520 -0.297390  0.136410  0.235710  0.167310 -0.203070   \n",
       "14 -0.289340  0.270370  0.205260  0.272160 -0.627590 -0.608650 -0.403970   \n",
       "16 -0.315200  0.722750  0.682450  0.247790 -0.531130 -0.569710 -0.181620   \n",
       "18 -0.226070  0.623180  0.595200  0.231640 -0.474370 -0.498440 -0.153010   \n",
       "20 -0.091645 -0.042901 -0.048864  0.031219 -0.108130 -0.122700 -0.088380   \n",
       "22 -0.028958 -0.091077 -0.087472  0.039748  0.081126  0.075743 -0.045866   \n",
       "72  0.116930 -0.403950 -0.403140  0.111720  0.213970  0.153460 -0.203070   \n",
       "74  0.093003 -0.329940 -0.313260  0.114080  0.193750 -0.156670 -0.252160   \n",
       "76 -0.371510  0.223130  0.180650  0.292570 -0.563060 -0.610090 -0.389750   \n",
       "78 -0.043867 -0.152010 -0.145750  0.047199  0.205450  0.190560 -0.067196   \n",
       "80 -0.036042 -0.156410 -0.152880  0.035656  0.153490  0.138390 -0.061476   \n",
       "82 -0.052054 -0.157770 -0.154720  0.054025  0.146020  0.122360 -0.071671   \n",
       "0  -0.217910  0.135640  0.109241  0.191611 -0.457840 -0.457700 -0.306950   \n",
       "2  -0.316050  0.302770  0.269690  0.219110 -0.682210 -0.677890 -0.436920   \n",
       "4  -0.284680  0.535250  0.513990  0.139830 -0.458720 -0.513200 -0.164460   \n",
       "6  -0.042936 -0.105850 -0.116150  0.052788  0.122380  0.109650 -0.061423   \n",
       "8  -0.029692 -0.090616 -0.095434  0.048276  0.135300  0.114380 -0.046655   \n",
       "10 -0.033994 -0.094549 -0.101240  0.043098  0.096732  0.081555 -0.054561   \n",
       "84 -0.118720 -0.304390 -0.308700  0.164250  0.211120  0.159960 -0.231020   \n",
       "86 -0.093919 -0.339610 -0.322560  0.141870  0.249030  0.202570 -0.187940   \n",
       "88 -0.319850  0.219740  0.190880  0.228150 -0.472540 -0.484150 -0.325380   \n",
       "90 -0.288840  0.669520  0.638940  0.301100 -0.514150 -0.561630 -0.209890   \n",
       "92 -0.089020 -0.092536 -0.091410  0.050404 -0.099881 -0.121120 -0.124370   \n",
       "94 -0.030118 -0.135980 -0.143020  0.041577  0.147430  0.113920 -0.056411   \n",
       "\n",
       "       ks238  \n",
       "12  0.135950  \n",
       "14  0.399480  \n",
       "16  0.395390  \n",
       "18  0.282530  \n",
       "20  0.100400  \n",
       "22 -0.049417  \n",
       "72  0.089149  \n",
       "74  0.117480  \n",
       "76  0.458960  \n",
       "78 -0.080784  \n",
       "80 -0.065220  \n",
       "82 -0.044196  \n",
       "0   0.244280  \n",
       "2   0.410580  \n",
       "4   0.358140  \n",
       "6  -0.056829  \n",
       "8  -0.047169  \n",
       "10 -0.039229  \n",
       "84  0.113860  \n",
       "86  0.086514  \n",
       "88  0.362470  \n",
       "90  0.369080  \n",
       "92  0.087708  \n",
       "94 -0.043697  \n",
       "\n",
       "[24 rows x 240 columns]"
      ]
     },
     "execution_count": 186,
     "metadata": {},
     "output_type": "execute_result"
    }
   ],
   "source": [
    "df=pd.read_csv('drug_with_fields.csv')\n",
    "#one type first type. dna\n",
    "df11=df.loc[(df['drug_name'] =='Etoposide+Gemcitabine+1') ]\n",
    "df12=df.loc[(df['drug_name'] =='Etoposide+Gemcitabine+2') ]\n",
    "df13=df.loc[(df['drug_name'] =='Etoposide+Gemcitabine+3') ]\n",
    "df14=df.loc[(df['drug_name'] =='Etoposide+Gemcitabine+4') ]\n",
    "df15=df.loc[(df['drug_name'] =='Etoposide+Gemcitabine+5') ]\n",
    "df16=df.loc[(df['drug_name'] =='Etoposide+Gemcitabine+6') ]\n",
    "df21=df.loc[(df['drug_name'] =='Gemcitabine+Etoposide+1') ]\n",
    "df22=df.loc[(df['drug_name'] =='Gemcitabine+Etoposide+2') ]\n",
    "df23=df.loc[(df['drug_name'] =='Gemcitabine+Etoposide+3') ]\n",
    "df24=df.loc[(df['drug_name'] =='Gemcitabine+Etoposide+4') ]\n",
    "df25=df.loc[(df['drug_name'] =='Gemcitabine+Etoposide+5') ]\n",
    "df26=df.loc[(df['drug_name'] =='Gemcitabine+Etoposide+6') ]\n",
    "df31=df.loc[(df['drug_name'] =='Etoposide+Etoposide+1') ]\n",
    "df32=df.loc[(df['drug_name'] =='Etoposide+Etoposide+2') ]\n",
    "df33=df.loc[(df['drug_name'] =='Etoposide+Etoposide+3') ]\n",
    "df34=df.loc[(df['drug_name'] =='Etoposide+Etoposide+4') ]\n",
    "df35=df.loc[(df['drug_name'] =='Etoposide+Etoposide+5') ]\n",
    "df36=df.loc[(df['drug_name'] =='Etoposide+Etoposide+6') ]\n",
    "df41=df.loc[(df['drug_name'] =='Gemcitabine+Gemcitabine+1') ]\n",
    "df42=df.loc[(df['drug_name'] =='Gemcitabine+Gemcitabine+2') ]\n",
    "df43=df.loc[(df['drug_name'] =='Gemcitabine+Gemcitabine+3') ]\n",
    "df44=df.loc[(df['drug_name'] =='Gemcitabine+Gemcitabine+4') ]\n",
    "df45=df.loc[(df['drug_name'] =='Gemcitabine+Gemcitabine+5') ]\n",
    "df46=df.loc[(df['drug_name'] =='Gemcitabine+Gemcitabine+6') ]\n",
    "frames = [df11, df12,df13,df14,df15,df16,df21,df22,df23,df24,df25,df26,df31,df32,df33,df34,df35,df36,df41,df42,df43,df44,df45,df46]\n",
    "dna = pd.concat(frames)\n",
    "dna\n"
   ]
  },
  {
   "cell_type": "code",
   "execution_count": 187,
   "metadata": {},
   "outputs": [
    {
     "data": {
      "text/html": [
       "<div>\n",
       "<style scoped>\n",
       "    .dataframe tbody tr th:only-of-type {\n",
       "        vertical-align: middle;\n",
       "    }\n",
       "\n",
       "    .dataframe tbody tr th {\n",
       "        vertical-align: top;\n",
       "    }\n",
       "\n",
       "    .dataframe thead th {\n",
       "        text-align: right;\n",
       "    }\n",
       "</style>\n",
       "<table border=\"1\" class=\"dataframe\">\n",
       "  <thead>\n",
       "    <tr style=\"text-align: right;\">\n",
       "      <th></th>\n",
       "      <th>drug_name</th>\n",
       "      <th>default</th>\n",
       "      <th>ks1</th>\n",
       "      <th>ks2</th>\n",
       "      <th>ks3</th>\n",
       "      <th>ks4</th>\n",
       "      <th>ks5</th>\n",
       "      <th>ks6</th>\n",
       "      <th>ks7</th>\n",
       "      <th>ks8</th>\n",
       "      <th>...</th>\n",
       "      <th>ks229</th>\n",
       "      <th>ks230</th>\n",
       "      <th>ks231</th>\n",
       "      <th>ks232</th>\n",
       "      <th>ks233</th>\n",
       "      <th>ks234</th>\n",
       "      <th>ks235</th>\n",
       "      <th>ks236</th>\n",
       "      <th>ks237</th>\n",
       "      <th>ks238</th>\n",
       "    </tr>\n",
       "  </thead>\n",
       "  <tbody>\n",
       "    <tr>\n",
       "      <th>12</th>\n",
       "      <td>Etoposide+Gemcitabine+1</td>\n",
       "      <td>0</td>\n",
       "      <td>-0.749170</td>\n",
       "      <td>-0.669410</td>\n",
       "      <td>-0.927020</td>\n",
       "      <td>-0.965710</td>\n",
       "      <td>-0.987910</td>\n",
       "      <td>-0.922450</td>\n",
       "      <td>-0.889720</td>\n",
       "      <td>-0.870230</td>\n",
       "      <td>...</td>\n",
       "      <td>-0.337330</td>\n",
       "      <td>0.136410</td>\n",
       "      <td>-0.145360</td>\n",
       "      <td>-0.306520</td>\n",
       "      <td>-0.297390</td>\n",
       "      <td>0.136410</td>\n",
       "      <td>0.235710</td>\n",
       "      <td>0.167310</td>\n",
       "      <td>-0.203070</td>\n",
       "      <td>0.135950</td>\n",
       "    </tr>\n",
       "    <tr>\n",
       "      <th>14</th>\n",
       "      <td>Etoposide+Gemcitabine+2</td>\n",
       "      <td>0</td>\n",
       "      <td>-0.913330</td>\n",
       "      <td>-0.459310</td>\n",
       "      <td>-0.413220</td>\n",
       "      <td>-0.696840</td>\n",
       "      <td>-0.882330</td>\n",
       "      <td>-0.497390</td>\n",
       "      <td>-0.380400</td>\n",
       "      <td>-0.361150</td>\n",
       "      <td>...</td>\n",
       "      <td>0.137990</td>\n",
       "      <td>0.272160</td>\n",
       "      <td>-0.289340</td>\n",
       "      <td>0.270370</td>\n",
       "      <td>0.205260</td>\n",
       "      <td>0.272160</td>\n",
       "      <td>-0.627590</td>\n",
       "      <td>-0.608650</td>\n",
       "      <td>-0.403970</td>\n",
       "      <td>0.399480</td>\n",
       "    </tr>\n",
       "    <tr>\n",
       "      <th>16</th>\n",
       "      <td>Etoposide+Gemcitabine+3</td>\n",
       "      <td>0</td>\n",
       "      <td>-0.690000</td>\n",
       "      <td>0.299020</td>\n",
       "      <td>0.126810</td>\n",
       "      <td>0.259950</td>\n",
       "      <td>0.251080</td>\n",
       "      <td>0.149220</td>\n",
       "      <td>0.113770</td>\n",
       "      <td>0.086765</td>\n",
       "      <td>...</td>\n",
       "      <td>0.551860</td>\n",
       "      <td>0.247790</td>\n",
       "      <td>-0.315200</td>\n",
       "      <td>0.722750</td>\n",
       "      <td>0.682450</td>\n",
       "      <td>0.247790</td>\n",
       "      <td>-0.531130</td>\n",
       "      <td>-0.569710</td>\n",
       "      <td>-0.181620</td>\n",
       "      <td>0.395390</td>\n",
       "    </tr>\n",
       "    <tr>\n",
       "      <th>18</th>\n",
       "      <td>Etoposide+Gemcitabine+4</td>\n",
       "      <td>0</td>\n",
       "      <td>-0.677500</td>\n",
       "      <td>0.258400</td>\n",
       "      <td>0.152130</td>\n",
       "      <td>0.207060</td>\n",
       "      <td>0.146180</td>\n",
       "      <td>0.151390</td>\n",
       "      <td>0.143780</td>\n",
       "      <td>0.126430</td>\n",
       "      <td>...</td>\n",
       "      <td>0.485480</td>\n",
       "      <td>0.231640</td>\n",
       "      <td>-0.226070</td>\n",
       "      <td>0.623180</td>\n",
       "      <td>0.595200</td>\n",
       "      <td>0.231640</td>\n",
       "      <td>-0.474370</td>\n",
       "      <td>-0.498440</td>\n",
       "      <td>-0.153010</td>\n",
       "      <td>0.282530</td>\n",
       "    </tr>\n",
       "    <tr>\n",
       "      <th>20</th>\n",
       "      <td>Etoposide+Gemcitabine+5</td>\n",
       "      <td>0</td>\n",
       "      <td>-0.060833</td>\n",
       "      <td>-0.167140</td>\n",
       "      <td>-0.198800</td>\n",
       "      <td>0.093564</td>\n",
       "      <td>-0.258180</td>\n",
       "      <td>-0.186680</td>\n",
       "      <td>-0.175810</td>\n",
       "      <td>-0.170990</td>\n",
       "      <td>...</td>\n",
       "      <td>-0.052231</td>\n",
       "      <td>0.031219</td>\n",
       "      <td>-0.091645</td>\n",
       "      <td>-0.042901</td>\n",
       "      <td>-0.048864</td>\n",
       "      <td>0.031219</td>\n",
       "      <td>-0.108130</td>\n",
       "      <td>-0.122700</td>\n",
       "      <td>-0.088380</td>\n",
       "      <td>0.100400</td>\n",
       "    </tr>\n",
       "    <tr>\n",
       "      <th>22</th>\n",
       "      <td>Etoposide+Gemcitabine+6</td>\n",
       "      <td>0</td>\n",
       "      <td>0.083015</td>\n",
       "      <td>-0.050783</td>\n",
       "      <td>0.086035</td>\n",
       "      <td>0.068023</td>\n",
       "      <td>0.040280</td>\n",
       "      <td>0.069896</td>\n",
       "      <td>0.098187</td>\n",
       "      <td>0.105420</td>\n",
       "      <td>...</td>\n",
       "      <td>-0.099344</td>\n",
       "      <td>0.039748</td>\n",
       "      <td>-0.028958</td>\n",
       "      <td>-0.091077</td>\n",
       "      <td>-0.087472</td>\n",
       "      <td>0.039748</td>\n",
       "      <td>0.081126</td>\n",
       "      <td>0.075743</td>\n",
       "      <td>-0.045866</td>\n",
       "      <td>-0.049417</td>\n",
       "    </tr>\n",
       "    <tr>\n",
       "      <th>72</th>\n",
       "      <td>Gemcitabine+Etoposide+1</td>\n",
       "      <td>0</td>\n",
       "      <td>-0.713330</td>\n",
       "      <td>-0.774560</td>\n",
       "      <td>-0.961700</td>\n",
       "      <td>-0.986490</td>\n",
       "      <td>-0.994910</td>\n",
       "      <td>-0.968090</td>\n",
       "      <td>-0.944310</td>\n",
       "      <td>-0.923210</td>\n",
       "      <td>...</td>\n",
       "      <td>-0.426610</td>\n",
       "      <td>0.111720</td>\n",
       "      <td>0.116930</td>\n",
       "      <td>-0.403950</td>\n",
       "      <td>-0.403140</td>\n",
       "      <td>0.111720</td>\n",
       "      <td>0.213970</td>\n",
       "      <td>0.153460</td>\n",
       "      <td>-0.203070</td>\n",
       "      <td>0.089149</td>\n",
       "    </tr>\n",
       "    <tr>\n",
       "      <th>74</th>\n",
       "      <td>Gemcitabine+Etoposide+2</td>\n",
       "      <td>0</td>\n",
       "      <td>-0.780000</td>\n",
       "      <td>-0.722470</td>\n",
       "      <td>-0.922870</td>\n",
       "      <td>-0.968220</td>\n",
       "      <td>-0.994490</td>\n",
       "      <td>-0.928630</td>\n",
       "      <td>-0.905500</td>\n",
       "      <td>-0.887490</td>\n",
       "      <td>...</td>\n",
       "      <td>-0.352870</td>\n",
       "      <td>0.114080</td>\n",
       "      <td>0.093003</td>\n",
       "      <td>-0.329940</td>\n",
       "      <td>-0.313260</td>\n",
       "      <td>0.114080</td>\n",
       "      <td>0.193750</td>\n",
       "      <td>-0.156670</td>\n",
       "      <td>-0.252160</td>\n",
       "      <td>0.117480</td>\n",
       "    </tr>\n",
       "    <tr>\n",
       "      <th>76</th>\n",
       "      <td>Gemcitabine+Etoposide+3</td>\n",
       "      <td>0</td>\n",
       "      <td>-0.887500</td>\n",
       "      <td>-0.541820</td>\n",
       "      <td>-0.639910</td>\n",
       "      <td>-0.801420</td>\n",
       "      <td>-0.903400</td>\n",
       "      <td>-0.665160</td>\n",
       "      <td>-0.605320</td>\n",
       "      <td>-0.569120</td>\n",
       "      <td>...</td>\n",
       "      <td>0.112570</td>\n",
       "      <td>0.292570</td>\n",
       "      <td>-0.371510</td>\n",
       "      <td>0.223130</td>\n",
       "      <td>0.180650</td>\n",
       "      <td>0.292570</td>\n",
       "      <td>-0.563060</td>\n",
       "      <td>-0.610090</td>\n",
       "      <td>-0.389750</td>\n",
       "      <td>0.458960</td>\n",
       "    </tr>\n",
       "    <tr>\n",
       "      <th>78</th>\n",
       "      <td>Gemcitabine+Etoposide+4</td>\n",
       "      <td>0</td>\n",
       "      <td>0.107510</td>\n",
       "      <td>0.072807</td>\n",
       "      <td>0.043609</td>\n",
       "      <td>0.252200</td>\n",
       "      <td>-0.057031</td>\n",
       "      <td>-0.069156</td>\n",
       "      <td>0.059811</td>\n",
       "      <td>0.107200</td>\n",
       "      <td>...</td>\n",
       "      <td>-0.140180</td>\n",
       "      <td>0.047199</td>\n",
       "      <td>-0.043867</td>\n",
       "      <td>-0.152010</td>\n",
       "      <td>-0.145750</td>\n",
       "      <td>0.047199</td>\n",
       "      <td>0.205450</td>\n",
       "      <td>0.190560</td>\n",
       "      <td>-0.067196</td>\n",
       "      <td>-0.080784</td>\n",
       "    </tr>\n",
       "    <tr>\n",
       "      <th>80</th>\n",
       "      <td>Gemcitabine+Etoposide+5</td>\n",
       "      <td>0</td>\n",
       "      <td>0.100400</td>\n",
       "      <td>-0.083630</td>\n",
       "      <td>0.070463</td>\n",
       "      <td>0.188350</td>\n",
       "      <td>-0.059757</td>\n",
       "      <td>-0.030308</td>\n",
       "      <td>0.102570</td>\n",
       "      <td>0.119030</td>\n",
       "      <td>...</td>\n",
       "      <td>-0.155170</td>\n",
       "      <td>0.035656</td>\n",
       "      <td>-0.036042</td>\n",
       "      <td>-0.156410</td>\n",
       "      <td>-0.152880</td>\n",
       "      <td>0.035656</td>\n",
       "      <td>0.153490</td>\n",
       "      <td>0.138390</td>\n",
       "      <td>-0.061476</td>\n",
       "      <td>-0.065220</td>\n",
       "    </tr>\n",
       "    <tr>\n",
       "      <th>82</th>\n",
       "      <td>Gemcitabine+Etoposide+6</td>\n",
       "      <td>0</td>\n",
       "      <td>0.133120</td>\n",
       "      <td>-0.129150</td>\n",
       "      <td>-0.104200</td>\n",
       "      <td>0.212200</td>\n",
       "      <td>-0.154010</td>\n",
       "      <td>-0.137190</td>\n",
       "      <td>-0.081325</td>\n",
       "      <td>-0.058404</td>\n",
       "      <td>...</td>\n",
       "      <td>-0.159840</td>\n",
       "      <td>0.054025</td>\n",
       "      <td>-0.052054</td>\n",
       "      <td>-0.157770</td>\n",
       "      <td>-0.154720</td>\n",
       "      <td>0.054025</td>\n",
       "      <td>0.146020</td>\n",
       "      <td>0.122360</td>\n",
       "      <td>-0.071671</td>\n",
       "      <td>-0.044196</td>\n",
       "    </tr>\n",
       "    <tr>\n",
       "      <th>0</th>\n",
       "      <td>Etoposide+Etoposide+1</td>\n",
       "      <td>0</td>\n",
       "      <td>-0.930830</td>\n",
       "      <td>-0.494530</td>\n",
       "      <td>-0.571140</td>\n",
       "      <td>-0.799580</td>\n",
       "      <td>-0.885820</td>\n",
       "      <td>-0.605470</td>\n",
       "      <td>-0.502670</td>\n",
       "      <td>-0.483900</td>\n",
       "      <td>...</td>\n",
       "      <td>-0.081045</td>\n",
       "      <td>0.191610</td>\n",
       "      <td>-0.217910</td>\n",
       "      <td>0.135640</td>\n",
       "      <td>0.109241</td>\n",
       "      <td>0.191611</td>\n",
       "      <td>-0.457840</td>\n",
       "      <td>-0.457700</td>\n",
       "      <td>-0.306950</td>\n",
       "      <td>0.244280</td>\n",
       "    </tr>\n",
       "    <tr>\n",
       "      <th>2</th>\n",
       "      <td>Etoposide+Etoposide+2</td>\n",
       "      <td>0</td>\n",
       "      <td>-0.925000</td>\n",
       "      <td>-0.400790</td>\n",
       "      <td>-0.318350</td>\n",
       "      <td>-0.538470</td>\n",
       "      <td>-0.806570</td>\n",
       "      <td>-0.364790</td>\n",
       "      <td>-0.259440</td>\n",
       "      <td>-0.227850</td>\n",
       "      <td>...</td>\n",
       "      <td>0.209710</td>\n",
       "      <td>0.219110</td>\n",
       "      <td>-0.316050</td>\n",
       "      <td>0.302770</td>\n",
       "      <td>0.269690</td>\n",
       "      <td>0.219110</td>\n",
       "      <td>-0.682210</td>\n",
       "      <td>-0.677890</td>\n",
       "      <td>-0.436920</td>\n",
       "      <td>0.410580</td>\n",
       "    </tr>\n",
       "    <tr>\n",
       "      <th>4</th>\n",
       "      <td>Etoposide+Etoposide+3</td>\n",
       "      <td>0</td>\n",
       "      <td>-0.612500</td>\n",
       "      <td>0.097551</td>\n",
       "      <td>-0.134220</td>\n",
       "      <td>0.145150</td>\n",
       "      <td>-0.135310</td>\n",
       "      <td>-0.134520</td>\n",
       "      <td>-0.132050</td>\n",
       "      <td>-0.126850</td>\n",
       "      <td>...</td>\n",
       "      <td>0.448330</td>\n",
       "      <td>0.139830</td>\n",
       "      <td>-0.284680</td>\n",
       "      <td>0.535250</td>\n",
       "      <td>0.513990</td>\n",
       "      <td>0.139830</td>\n",
       "      <td>-0.458720</td>\n",
       "      <td>-0.513200</td>\n",
       "      <td>-0.164460</td>\n",
       "      <td>0.358140</td>\n",
       "    </tr>\n",
       "    <tr>\n",
       "      <th>6</th>\n",
       "      <td>Etoposide+Etoposide+4</td>\n",
       "      <td>0</td>\n",
       "      <td>0.097702</td>\n",
       "      <td>-0.056872</td>\n",
       "      <td>0.052675</td>\n",
       "      <td>0.092692</td>\n",
       "      <td>-0.035013</td>\n",
       "      <td>0.022697</td>\n",
       "      <td>0.067232</td>\n",
       "      <td>0.089390</td>\n",
       "      <td>...</td>\n",
       "      <td>-0.135830</td>\n",
       "      <td>0.052788</td>\n",
       "      <td>-0.042936</td>\n",
       "      <td>-0.105850</td>\n",
       "      <td>-0.116150</td>\n",
       "      <td>0.052788</td>\n",
       "      <td>0.122380</td>\n",
       "      <td>0.109650</td>\n",
       "      <td>-0.061423</td>\n",
       "      <td>-0.056829</td>\n",
       "    </tr>\n",
       "    <tr>\n",
       "      <th>8</th>\n",
       "      <td>Etoposide+Etoposide+5</td>\n",
       "      <td>0</td>\n",
       "      <td>0.086735</td>\n",
       "      <td>0.059167</td>\n",
       "      <td>0.080377</td>\n",
       "      <td>0.131050</td>\n",
       "      <td>0.028573</td>\n",
       "      <td>0.041073</td>\n",
       "      <td>0.097591</td>\n",
       "      <td>0.110090</td>\n",
       "      <td>...</td>\n",
       "      <td>-0.094087</td>\n",
       "      <td>0.048276</td>\n",
       "      <td>-0.029692</td>\n",
       "      <td>-0.090616</td>\n",
       "      <td>-0.095434</td>\n",
       "      <td>0.048276</td>\n",
       "      <td>0.135300</td>\n",
       "      <td>0.114380</td>\n",
       "      <td>-0.046655</td>\n",
       "      <td>-0.047169</td>\n",
       "    </tr>\n",
       "    <tr>\n",
       "      <th>10</th>\n",
       "      <td>Etoposide+Etoposide+6</td>\n",
       "      <td>0</td>\n",
       "      <td>0.101740</td>\n",
       "      <td>-0.058135</td>\n",
       "      <td>0.029234</td>\n",
       "      <td>0.118040</td>\n",
       "      <td>-0.071427</td>\n",
       "      <td>-0.024583</td>\n",
       "      <td>0.042422</td>\n",
       "      <td>0.067318</td>\n",
       "      <td>...</td>\n",
       "      <td>-0.105350</td>\n",
       "      <td>0.043098</td>\n",
       "      <td>-0.033994</td>\n",
       "      <td>-0.094549</td>\n",
       "      <td>-0.101240</td>\n",
       "      <td>0.043098</td>\n",
       "      <td>0.096732</td>\n",
       "      <td>0.081555</td>\n",
       "      <td>-0.054561</td>\n",
       "      <td>-0.039229</td>\n",
       "    </tr>\n",
       "    <tr>\n",
       "      <th>84</th>\n",
       "      <td>Gemcitabine+Gemcitabine+1</td>\n",
       "      <td>0</td>\n",
       "      <td>-0.701670</td>\n",
       "      <td>-0.739040</td>\n",
       "      <td>-0.955280</td>\n",
       "      <td>-0.974470</td>\n",
       "      <td>-0.997500</td>\n",
       "      <td>-0.956020</td>\n",
       "      <td>-0.948350</td>\n",
       "      <td>-0.936790</td>\n",
       "      <td>...</td>\n",
       "      <td>-0.373150</td>\n",
       "      <td>0.164250</td>\n",
       "      <td>-0.118720</td>\n",
       "      <td>-0.304390</td>\n",
       "      <td>-0.308700</td>\n",
       "      <td>0.164250</td>\n",
       "      <td>0.211120</td>\n",
       "      <td>0.159960</td>\n",
       "      <td>-0.231020</td>\n",
       "      <td>0.113860</td>\n",
       "    </tr>\n",
       "    <tr>\n",
       "      <th>86</th>\n",
       "      <td>Gemcitabine+Gemcitabine+2</td>\n",
       "      <td>0</td>\n",
       "      <td>-0.665830</td>\n",
       "      <td>-0.725630</td>\n",
       "      <td>-0.960370</td>\n",
       "      <td>-0.980240</td>\n",
       "      <td>-0.999170</td>\n",
       "      <td>-0.968460</td>\n",
       "      <td>-0.942910</td>\n",
       "      <td>-0.922550</td>\n",
       "      <td>...</td>\n",
       "      <td>-0.364990</td>\n",
       "      <td>0.141870</td>\n",
       "      <td>-0.093919</td>\n",
       "      <td>-0.339610</td>\n",
       "      <td>-0.322560</td>\n",
       "      <td>0.141870</td>\n",
       "      <td>0.249030</td>\n",
       "      <td>0.202570</td>\n",
       "      <td>-0.187940</td>\n",
       "      <td>0.086514</td>\n",
       "    </tr>\n",
       "    <tr>\n",
       "      <th>88</th>\n",
       "      <td>Gemcitabine+Gemcitabine+3</td>\n",
       "      <td>0</td>\n",
       "      <td>-0.878330</td>\n",
       "      <td>-0.520350</td>\n",
       "      <td>-0.636090</td>\n",
       "      <td>-0.784970</td>\n",
       "      <td>-0.893300</td>\n",
       "      <td>-0.631550</td>\n",
       "      <td>-0.585780</td>\n",
       "      <td>-0.570160</td>\n",
       "      <td>...</td>\n",
       "      <td>0.133530</td>\n",
       "      <td>0.228150</td>\n",
       "      <td>-0.319850</td>\n",
       "      <td>0.219740</td>\n",
       "      <td>0.190880</td>\n",
       "      <td>0.228150</td>\n",
       "      <td>-0.472540</td>\n",
       "      <td>-0.484150</td>\n",
       "      <td>-0.325380</td>\n",
       "      <td>0.362470</td>\n",
       "    </tr>\n",
       "    <tr>\n",
       "      <th>90</th>\n",
       "      <td>Gemcitabine+Gemcitabine+4</td>\n",
       "      <td>0</td>\n",
       "      <td>-0.697500</td>\n",
       "      <td>0.215210</td>\n",
       "      <td>-0.091668</td>\n",
       "      <td>0.313230</td>\n",
       "      <td>-0.075671</td>\n",
       "      <td>-0.090671</td>\n",
       "      <td>0.093784</td>\n",
       "      <td>0.087096</td>\n",
       "      <td>...</td>\n",
       "      <td>0.495020</td>\n",
       "      <td>0.301100</td>\n",
       "      <td>-0.288840</td>\n",
       "      <td>0.669520</td>\n",
       "      <td>0.638940</td>\n",
       "      <td>0.301100</td>\n",
       "      <td>-0.514150</td>\n",
       "      <td>-0.561630</td>\n",
       "      <td>-0.209890</td>\n",
       "      <td>0.369080</td>\n",
       "    </tr>\n",
       "    <tr>\n",
       "      <th>92</th>\n",
       "      <td>Gemcitabine+Gemcitabine+5</td>\n",
       "      <td>0</td>\n",
       "      <td>-0.035000</td>\n",
       "      <td>-0.205680</td>\n",
       "      <td>-0.212370</td>\n",
       "      <td>0.109260</td>\n",
       "      <td>-0.316220</td>\n",
       "      <td>-0.222360</td>\n",
       "      <td>-0.173480</td>\n",
       "      <td>-0.156270</td>\n",
       "      <td>...</td>\n",
       "      <td>-0.108000</td>\n",
       "      <td>0.050404</td>\n",
       "      <td>-0.089020</td>\n",
       "      <td>-0.092536</td>\n",
       "      <td>-0.091410</td>\n",
       "      <td>0.050404</td>\n",
       "      <td>-0.099881</td>\n",
       "      <td>-0.121120</td>\n",
       "      <td>-0.124370</td>\n",
       "      <td>0.087708</td>\n",
       "    </tr>\n",
       "    <tr>\n",
       "      <th>94</th>\n",
       "      <td>Gemcitabine+Gemcitabine+6</td>\n",
       "      <td>0</td>\n",
       "      <td>0.106630</td>\n",
       "      <td>-0.058514</td>\n",
       "      <td>0.065298</td>\n",
       "      <td>0.195070</td>\n",
       "      <td>-0.075471</td>\n",
       "      <td>-0.022524</td>\n",
       "      <td>0.091501</td>\n",
       "      <td>0.116910</td>\n",
       "      <td>...</td>\n",
       "      <td>-0.142740</td>\n",
       "      <td>0.041577</td>\n",
       "      <td>-0.030118</td>\n",
       "      <td>-0.135980</td>\n",
       "      <td>-0.143020</td>\n",
       "      <td>0.041577</td>\n",
       "      <td>0.147430</td>\n",
       "      <td>0.113920</td>\n",
       "      <td>-0.056411</td>\n",
       "      <td>-0.043697</td>\n",
       "    </tr>\n",
       "  </tbody>\n",
       "</table>\n",
       "<p>24 rows × 240 columns</p>\n",
       "</div>"
      ],
      "text/plain": [
       "                    drug_name  default       ks1       ks2       ks3  \\\n",
       "12    Etoposide+Gemcitabine+1        0 -0.749170 -0.669410 -0.927020   \n",
       "14    Etoposide+Gemcitabine+2        0 -0.913330 -0.459310 -0.413220   \n",
       "16    Etoposide+Gemcitabine+3        0 -0.690000  0.299020  0.126810   \n",
       "18    Etoposide+Gemcitabine+4        0 -0.677500  0.258400  0.152130   \n",
       "20    Etoposide+Gemcitabine+5        0 -0.060833 -0.167140 -0.198800   \n",
       "22    Etoposide+Gemcitabine+6        0  0.083015 -0.050783  0.086035   \n",
       "72    Gemcitabine+Etoposide+1        0 -0.713330 -0.774560 -0.961700   \n",
       "74    Gemcitabine+Etoposide+2        0 -0.780000 -0.722470 -0.922870   \n",
       "76    Gemcitabine+Etoposide+3        0 -0.887500 -0.541820 -0.639910   \n",
       "78    Gemcitabine+Etoposide+4        0  0.107510  0.072807  0.043609   \n",
       "80    Gemcitabine+Etoposide+5        0  0.100400 -0.083630  0.070463   \n",
       "82    Gemcitabine+Etoposide+6        0  0.133120 -0.129150 -0.104200   \n",
       "0       Etoposide+Etoposide+1        0 -0.930830 -0.494530 -0.571140   \n",
       "2       Etoposide+Etoposide+2        0 -0.925000 -0.400790 -0.318350   \n",
       "4       Etoposide+Etoposide+3        0 -0.612500  0.097551 -0.134220   \n",
       "6       Etoposide+Etoposide+4        0  0.097702 -0.056872  0.052675   \n",
       "8       Etoposide+Etoposide+5        0  0.086735  0.059167  0.080377   \n",
       "10      Etoposide+Etoposide+6        0  0.101740 -0.058135  0.029234   \n",
       "84  Gemcitabine+Gemcitabine+1        0 -0.701670 -0.739040 -0.955280   \n",
       "86  Gemcitabine+Gemcitabine+2        0 -0.665830 -0.725630 -0.960370   \n",
       "88  Gemcitabine+Gemcitabine+3        0 -0.878330 -0.520350 -0.636090   \n",
       "90  Gemcitabine+Gemcitabine+4        0 -0.697500  0.215210 -0.091668   \n",
       "92  Gemcitabine+Gemcitabine+5        0 -0.035000 -0.205680 -0.212370   \n",
       "94  Gemcitabine+Gemcitabine+6        0  0.106630 -0.058514  0.065298   \n",
       "\n",
       "         ks4       ks5       ks6       ks7       ks8  ...     ks229     ks230  \\\n",
       "12 -0.965710 -0.987910 -0.922450 -0.889720 -0.870230  ... -0.337330  0.136410   \n",
       "14 -0.696840 -0.882330 -0.497390 -0.380400 -0.361150  ...  0.137990  0.272160   \n",
       "16  0.259950  0.251080  0.149220  0.113770  0.086765  ...  0.551860  0.247790   \n",
       "18  0.207060  0.146180  0.151390  0.143780  0.126430  ...  0.485480  0.231640   \n",
       "20  0.093564 -0.258180 -0.186680 -0.175810 -0.170990  ... -0.052231  0.031219   \n",
       "22  0.068023  0.040280  0.069896  0.098187  0.105420  ... -0.099344  0.039748   \n",
       "72 -0.986490 -0.994910 -0.968090 -0.944310 -0.923210  ... -0.426610  0.111720   \n",
       "74 -0.968220 -0.994490 -0.928630 -0.905500 -0.887490  ... -0.352870  0.114080   \n",
       "76 -0.801420 -0.903400 -0.665160 -0.605320 -0.569120  ...  0.112570  0.292570   \n",
       "78  0.252200 -0.057031 -0.069156  0.059811  0.107200  ... -0.140180  0.047199   \n",
       "80  0.188350 -0.059757 -0.030308  0.102570  0.119030  ... -0.155170  0.035656   \n",
       "82  0.212200 -0.154010 -0.137190 -0.081325 -0.058404  ... -0.159840  0.054025   \n",
       "0  -0.799580 -0.885820 -0.605470 -0.502670 -0.483900  ... -0.081045  0.191610   \n",
       "2  -0.538470 -0.806570 -0.364790 -0.259440 -0.227850  ...  0.209710  0.219110   \n",
       "4   0.145150 -0.135310 -0.134520 -0.132050 -0.126850  ...  0.448330  0.139830   \n",
       "6   0.092692 -0.035013  0.022697  0.067232  0.089390  ... -0.135830  0.052788   \n",
       "8   0.131050  0.028573  0.041073  0.097591  0.110090  ... -0.094087  0.048276   \n",
       "10  0.118040 -0.071427 -0.024583  0.042422  0.067318  ... -0.105350  0.043098   \n",
       "84 -0.974470 -0.997500 -0.956020 -0.948350 -0.936790  ... -0.373150  0.164250   \n",
       "86 -0.980240 -0.999170 -0.968460 -0.942910 -0.922550  ... -0.364990  0.141870   \n",
       "88 -0.784970 -0.893300 -0.631550 -0.585780 -0.570160  ...  0.133530  0.228150   \n",
       "90  0.313230 -0.075671 -0.090671  0.093784  0.087096  ...  0.495020  0.301100   \n",
       "92  0.109260 -0.316220 -0.222360 -0.173480 -0.156270  ... -0.108000  0.050404   \n",
       "94  0.195070 -0.075471 -0.022524  0.091501  0.116910  ... -0.142740  0.041577   \n",
       "\n",
       "       ks231     ks232     ks233     ks234     ks235     ks236     ks237  \\\n",
       "12 -0.145360 -0.306520 -0.297390  0.136410  0.235710  0.167310 -0.203070   \n",
       "14 -0.289340  0.270370  0.205260  0.272160 -0.627590 -0.608650 -0.403970   \n",
       "16 -0.315200  0.722750  0.682450  0.247790 -0.531130 -0.569710 -0.181620   \n",
       "18 -0.226070  0.623180  0.595200  0.231640 -0.474370 -0.498440 -0.153010   \n",
       "20 -0.091645 -0.042901 -0.048864  0.031219 -0.108130 -0.122700 -0.088380   \n",
       "22 -0.028958 -0.091077 -0.087472  0.039748  0.081126  0.075743 -0.045866   \n",
       "72  0.116930 -0.403950 -0.403140  0.111720  0.213970  0.153460 -0.203070   \n",
       "74  0.093003 -0.329940 -0.313260  0.114080  0.193750 -0.156670 -0.252160   \n",
       "76 -0.371510  0.223130  0.180650  0.292570 -0.563060 -0.610090 -0.389750   \n",
       "78 -0.043867 -0.152010 -0.145750  0.047199  0.205450  0.190560 -0.067196   \n",
       "80 -0.036042 -0.156410 -0.152880  0.035656  0.153490  0.138390 -0.061476   \n",
       "82 -0.052054 -0.157770 -0.154720  0.054025  0.146020  0.122360 -0.071671   \n",
       "0  -0.217910  0.135640  0.109241  0.191611 -0.457840 -0.457700 -0.306950   \n",
       "2  -0.316050  0.302770  0.269690  0.219110 -0.682210 -0.677890 -0.436920   \n",
       "4  -0.284680  0.535250  0.513990  0.139830 -0.458720 -0.513200 -0.164460   \n",
       "6  -0.042936 -0.105850 -0.116150  0.052788  0.122380  0.109650 -0.061423   \n",
       "8  -0.029692 -0.090616 -0.095434  0.048276  0.135300  0.114380 -0.046655   \n",
       "10 -0.033994 -0.094549 -0.101240  0.043098  0.096732  0.081555 -0.054561   \n",
       "84 -0.118720 -0.304390 -0.308700  0.164250  0.211120  0.159960 -0.231020   \n",
       "86 -0.093919 -0.339610 -0.322560  0.141870  0.249030  0.202570 -0.187940   \n",
       "88 -0.319850  0.219740  0.190880  0.228150 -0.472540 -0.484150 -0.325380   \n",
       "90 -0.288840  0.669520  0.638940  0.301100 -0.514150 -0.561630 -0.209890   \n",
       "92 -0.089020 -0.092536 -0.091410  0.050404 -0.099881 -0.121120 -0.124370   \n",
       "94 -0.030118 -0.135980 -0.143020  0.041577  0.147430  0.113920 -0.056411   \n",
       "\n",
       "       ks238  \n",
       "12  0.135950  \n",
       "14  0.399480  \n",
       "16  0.395390  \n",
       "18  0.282530  \n",
       "20  0.100400  \n",
       "22 -0.049417  \n",
       "72  0.089149  \n",
       "74  0.117480  \n",
       "76  0.458960  \n",
       "78 -0.080784  \n",
       "80 -0.065220  \n",
       "82 -0.044196  \n",
       "0   0.244280  \n",
       "2   0.410580  \n",
       "4   0.358140  \n",
       "6  -0.056829  \n",
       "8  -0.047169  \n",
       "10 -0.039229  \n",
       "84  0.113860  \n",
       "86  0.086514  \n",
       "88  0.362470  \n",
       "90  0.369080  \n",
       "92  0.087708  \n",
       "94 -0.043697  \n",
       "\n",
       "[24 rows x 240 columns]"
      ]
     },
     "execution_count": 187,
     "metadata": {},
     "output_type": "execute_result"
    }
   ],
   "source": [
    "\n",
    "#one type first type. mt\n",
    "df11=df.loc[(df['drug_name'] =='Paclitaxel+Vinblastine+1') ]\n",
    "df12=df.loc[(df['drug_name'] =='Paclitaxel+Vinblastine+2') ]\n",
    "df13=df.loc[(df['drug_name'] =='Paclitaxel+Vinblastine+3') ]\n",
    "df14=df.loc[(df['drug_name'] =='Paclitaxel+Vinblastine+4') ]\n",
    "df15=df.loc[(df['drug_name'] =='Paclitaxel+Vinblastine+5') ]\n",
    "df16=df.loc[(df['drug_name'] =='Paclitaxel+Vinblastine+6') ]\n",
    "df21=df.loc[(df['drug_name'] =='Vinblastine+Paclitaxel+1') ]\n",
    "df22=df.loc[(df['drug_name'] =='Vinblastine+Paclitaxel+2') ]\n",
    "df23=df.loc[(df['drug_name'] =='Vinblastine+Paclitaxel+3') ]\n",
    "df24=df.loc[(df['drug_name'] =='Vinblastine+Paclitaxel+4') ]\n",
    "df25=df.loc[(df['drug_name'] =='Vinblastine+Paclitaxel+5') ]\n",
    "df26=df.loc[(df['drug_name'] =='Vinblastine+Paclitaxel+6') ]\n",
    "df31=df.loc[(df['drug_name'] =='Paclitaxel+Paclitaxel+1') ]\n",
    "df32=df.loc[(df['drug_name'] =='Paclitaxel+Paclitaxel+2') ]\n",
    "df33=df.loc[(df['drug_name'] =='Paclitaxel+Paclitaxel+3') ]\n",
    "df34=df.loc[(df['drug_name'] =='Paclitaxel+Paclitaxel+4') ]\n",
    "df35=df.loc[(df['drug_name'] =='Paclitaxel+Paclitaxel+5') ]\n",
    "df36=df.loc[(df['drug_name'] =='Paclitaxel+Paclitaxel+6') ]\n",
    "df41=df.loc[(df['drug_name'] =='Vinblastine+Vinblastine+1') ]\n",
    "df42=df.loc[(df['drug_name'] =='Vinblastine+Vinblastine+2') ]\n",
    "df43=df.loc[(df['drug_name'] =='Vinblastine+Vinblastine+3') ]\n",
    "df44=df.loc[(df['drug_name'] =='Vinblastine+Vinblastine+4') ]\n",
    "df45=df.loc[(df['drug_name'] =='Vinblastine+Vinblastine+5') ]\n",
    "df46=df.loc[(df['drug_name'] =='Vinblastine+Vinblastine+6') ]\n",
    "frames2 = [df11, df12,df13,df14,df15,df16,df21,df22,df23,df24,df25,df26,df31,df32,df33,df34,df35,df36,df41,df42,df43,df44,df45,df46]\n",
    "mt= pd.concat(frames)\n",
    "mt\n",
    "\n"
   ]
  },
  {
   "cell_type": "code",
   "execution_count": 188,
   "metadata": {},
   "outputs": [
    {
     "data": {
      "text/html": [
       "<div>\n",
       "<style scoped>\n",
       "    .dataframe tbody tr th:only-of-type {\n",
       "        vertical-align: middle;\n",
       "    }\n",
       "\n",
       "    .dataframe tbody tr th {\n",
       "        vertical-align: top;\n",
       "    }\n",
       "\n",
       "    .dataframe thead th {\n",
       "        text-align: right;\n",
       "    }\n",
       "</style>\n",
       "<table border=\"1\" class=\"dataframe\">\n",
       "  <thead>\n",
       "    <tr style=\"text-align: right;\">\n",
       "      <th></th>\n",
       "      <th>drug_name</th>\n",
       "      <th>default</th>\n",
       "      <th>ks1</th>\n",
       "      <th>ks2</th>\n",
       "      <th>ks3</th>\n",
       "      <th>ks4</th>\n",
       "      <th>ks5</th>\n",
       "      <th>ks6</th>\n",
       "      <th>ks7</th>\n",
       "      <th>ks8</th>\n",
       "      <th>...</th>\n",
       "      <th>ks229</th>\n",
       "      <th>ks230</th>\n",
       "      <th>ks231</th>\n",
       "      <th>ks232</th>\n",
       "      <th>ks233</th>\n",
       "      <th>ks234</th>\n",
       "      <th>ks235</th>\n",
       "      <th>ks236</th>\n",
       "      <th>ks237</th>\n",
       "      <th>ks238</th>\n",
       "    </tr>\n",
       "  </thead>\n",
       "  <tbody>\n",
       "    <tr>\n",
       "      <th>397</th>\n",
       "      <td>17AAG+AUY922+1</td>\n",
       "      <td>0</td>\n",
       "      <td>-0.687500</td>\n",
       "      <td>-0.755260</td>\n",
       "      <td>-0.976050</td>\n",
       "      <td>-0.989520</td>\n",
       "      <td>-0.997500</td>\n",
       "      <td>-0.976050</td>\n",
       "      <td>-0.971550</td>\n",
       "      <td>-0.954580</td>\n",
       "      <td>...</td>\n",
       "      <td>-0.430090</td>\n",
       "      <td>-0.045055</td>\n",
       "      <td>0.163330</td>\n",
       "      <td>-0.445040</td>\n",
       "      <td>-0.421380</td>\n",
       "      <td>-0.045055</td>\n",
       "      <td>0.36891</td>\n",
       "      <td>0.29652</td>\n",
       "      <td>-0.122430</td>\n",
       "      <td>-0.178410</td>\n",
       "    </tr>\n",
       "    <tr>\n",
       "      <th>399</th>\n",
       "      <td>17AAG+AUY922+2</td>\n",
       "      <td>0</td>\n",
       "      <td>-0.825000</td>\n",
       "      <td>-0.707500</td>\n",
       "      <td>-0.900000</td>\n",
       "      <td>-0.978330</td>\n",
       "      <td>-0.987500</td>\n",
       "      <td>-0.909170</td>\n",
       "      <td>-0.884170</td>\n",
       "      <td>-0.863330</td>\n",
       "      <td>...</td>\n",
       "      <td>-0.365830</td>\n",
       "      <td>0.105000</td>\n",
       "      <td>0.118330</td>\n",
       "      <td>-0.355000</td>\n",
       "      <td>-0.344170</td>\n",
       "      <td>0.105000</td>\n",
       "      <td>0.27750</td>\n",
       "      <td>0.21667</td>\n",
       "      <td>-0.170830</td>\n",
       "      <td>-0.143330</td>\n",
       "    </tr>\n",
       "    <tr>\n",
       "      <th>401</th>\n",
       "      <td>17AAG+AUY922+3</td>\n",
       "      <td>0</td>\n",
       "      <td>-0.901670</td>\n",
       "      <td>-0.624760</td>\n",
       "      <td>-0.745490</td>\n",
       "      <td>-0.910350</td>\n",
       "      <td>-0.942800</td>\n",
       "      <td>-0.778430</td>\n",
       "      <td>-0.707540</td>\n",
       "      <td>-0.668760</td>\n",
       "      <td>...</td>\n",
       "      <td>-0.311990</td>\n",
       "      <td>0.122720</td>\n",
       "      <td>-0.130750</td>\n",
       "      <td>-0.291750</td>\n",
       "      <td>-0.269310</td>\n",
       "      <td>0.122720</td>\n",
       "      <td>-0.24902</td>\n",
       "      <td>-0.29693</td>\n",
       "      <td>-0.254250</td>\n",
       "      <td>0.169760</td>\n",
       "    </tr>\n",
       "    <tr>\n",
       "      <th>403</th>\n",
       "      <td>17AAG+AUY922+4</td>\n",
       "      <td>0</td>\n",
       "      <td>-0.212590</td>\n",
       "      <td>-0.045150</td>\n",
       "      <td>-0.105950</td>\n",
       "      <td>0.138100</td>\n",
       "      <td>-0.125270</td>\n",
       "      <td>-0.140810</td>\n",
       "      <td>-0.099238</td>\n",
       "      <td>-0.083805</td>\n",
       "      <td>...</td>\n",
       "      <td>0.127000</td>\n",
       "      <td>0.055021</td>\n",
       "      <td>-0.071852</td>\n",
       "      <td>0.180470</td>\n",
       "      <td>0.171570</td>\n",
       "      <td>0.055021</td>\n",
       "      <td>-0.14462</td>\n",
       "      <td>-0.16088</td>\n",
       "      <td>-0.077014</td>\n",
       "      <td>0.103630</td>\n",
       "    </tr>\n",
       "    <tr>\n",
       "      <th>405</th>\n",
       "      <td>17AAG+AUY922+5</td>\n",
       "      <td>0</td>\n",
       "      <td>0.041125</td>\n",
       "      <td>-0.062162</td>\n",
       "      <td>-0.045596</td>\n",
       "      <td>0.138780</td>\n",
       "      <td>-0.093122</td>\n",
       "      <td>-0.079141</td>\n",
       "      <td>-0.038862</td>\n",
       "      <td>0.030323</td>\n",
       "      <td>...</td>\n",
       "      <td>-0.053139</td>\n",
       "      <td>0.045375</td>\n",
       "      <td>0.040604</td>\n",
       "      <td>-0.072692</td>\n",
       "      <td>-0.072666</td>\n",
       "      <td>0.045375</td>\n",
       "      <td>0.11420</td>\n",
       "      <td>0.12236</td>\n",
       "      <td>-0.047177</td>\n",
       "      <td>-0.064111</td>\n",
       "    </tr>\n",
       "    <tr>\n",
       "      <th>407</th>\n",
       "      <td>17AAG+AUY922+6</td>\n",
       "      <td>0</td>\n",
       "      <td>0.072607</td>\n",
       "      <td>0.077800</td>\n",
       "      <td>0.108570</td>\n",
       "      <td>0.095616</td>\n",
       "      <td>0.047839</td>\n",
       "      <td>0.069354</td>\n",
       "      <td>0.108910</td>\n",
       "      <td>0.125410</td>\n",
       "      <td>...</td>\n",
       "      <td>-0.061909</td>\n",
       "      <td>0.039102</td>\n",
       "      <td>0.054175</td>\n",
       "      <td>-0.058110</td>\n",
       "      <td>-0.060372</td>\n",
       "      <td>0.039102</td>\n",
       "      <td>0.15201</td>\n",
       "      <td>0.15448</td>\n",
       "      <td>-0.029300</td>\n",
       "      <td>-0.091250</td>\n",
       "    </tr>\n",
       "    <tr>\n",
       "      <th>457</th>\n",
       "      <td>AUY922+17AAG+1</td>\n",
       "      <td>0</td>\n",
       "      <td>-0.617500</td>\n",
       "      <td>-0.711270</td>\n",
       "      <td>-0.956650</td>\n",
       "      <td>-0.983560</td>\n",
       "      <td>-0.995900</td>\n",
       "      <td>-0.964020</td>\n",
       "      <td>-0.941880</td>\n",
       "      <td>-0.926140</td>\n",
       "      <td>...</td>\n",
       "      <td>-0.332990</td>\n",
       "      <td>0.094657</td>\n",
       "      <td>-0.088627</td>\n",
       "      <td>-0.322840</td>\n",
       "      <td>-0.315650</td>\n",
       "      <td>0.094657</td>\n",
       "      <td>0.30183</td>\n",
       "      <td>0.22358</td>\n",
       "      <td>-0.136450</td>\n",
       "      <td>-0.113220</td>\n",
       "    </tr>\n",
       "    <tr>\n",
       "      <th>459</th>\n",
       "      <td>AUY922+17AAG+2</td>\n",
       "      <td>0</td>\n",
       "      <td>-0.870830</td>\n",
       "      <td>-0.466670</td>\n",
       "      <td>-0.526110</td>\n",
       "      <td>-0.780000</td>\n",
       "      <td>-0.910560</td>\n",
       "      <td>-0.551390</td>\n",
       "      <td>-0.504720</td>\n",
       "      <td>-0.485000</td>\n",
       "      <td>...</td>\n",
       "      <td>0.140000</td>\n",
       "      <td>0.229440</td>\n",
       "      <td>-0.350830</td>\n",
       "      <td>0.275830</td>\n",
       "      <td>0.232500</td>\n",
       "      <td>0.229440</td>\n",
       "      <td>-0.56694</td>\n",
       "      <td>-0.58306</td>\n",
       "      <td>-0.392500</td>\n",
       "      <td>0.398330</td>\n",
       "    </tr>\n",
       "    <tr>\n",
       "      <th>461</th>\n",
       "      <td>AUY922+17AAG+3</td>\n",
       "      <td>0</td>\n",
       "      <td>-0.687500</td>\n",
       "      <td>0.268900</td>\n",
       "      <td>-0.082731</td>\n",
       "      <td>0.328500</td>\n",
       "      <td>-0.089468</td>\n",
       "      <td>-0.081637</td>\n",
       "      <td>-0.072430</td>\n",
       "      <td>-0.067992</td>\n",
       "      <td>...</td>\n",
       "      <td>0.535290</td>\n",
       "      <td>0.248180</td>\n",
       "      <td>-0.307180</td>\n",
       "      <td>0.700600</td>\n",
       "      <td>0.663700</td>\n",
       "      <td>0.248180</td>\n",
       "      <td>-0.45772</td>\n",
       "      <td>-0.51238</td>\n",
       "      <td>-0.128500</td>\n",
       "      <td>0.350480</td>\n",
       "    </tr>\n",
       "    <tr>\n",
       "      <th>463</th>\n",
       "      <td>AUY922+17AAG+4</td>\n",
       "      <td>0</td>\n",
       "      <td>-0.685830</td>\n",
       "      <td>0.205200</td>\n",
       "      <td>-0.101370</td>\n",
       "      <td>0.276860</td>\n",
       "      <td>-0.130360</td>\n",
       "      <td>-0.100220</td>\n",
       "      <td>-0.079942</td>\n",
       "      <td>-0.077863</td>\n",
       "      <td>...</td>\n",
       "      <td>0.447060</td>\n",
       "      <td>0.263450</td>\n",
       "      <td>-0.183240</td>\n",
       "      <td>0.575830</td>\n",
       "      <td>0.572680</td>\n",
       "      <td>0.263450</td>\n",
       "      <td>-0.40132</td>\n",
       "      <td>-0.41589</td>\n",
       "      <td>-0.217430</td>\n",
       "      <td>0.230600</td>\n",
       "    </tr>\n",
       "    <tr>\n",
       "      <th>465</th>\n",
       "      <td>AUY922+17AAG+5</td>\n",
       "      <td>0</td>\n",
       "      <td>0.092078</td>\n",
       "      <td>-0.142130</td>\n",
       "      <td>-0.176780</td>\n",
       "      <td>0.237510</td>\n",
       "      <td>-0.268390</td>\n",
       "      <td>-0.245390</td>\n",
       "      <td>-0.150500</td>\n",
       "      <td>-0.114020</td>\n",
       "      <td>...</td>\n",
       "      <td>-0.139190</td>\n",
       "      <td>0.034783</td>\n",
       "      <td>0.040403</td>\n",
       "      <td>-0.131820</td>\n",
       "      <td>-0.139940</td>\n",
       "      <td>0.034783</td>\n",
       "      <td>0.13699</td>\n",
       "      <td>0.13144</td>\n",
       "      <td>-0.066351</td>\n",
       "      <td>-0.064588</td>\n",
       "    </tr>\n",
       "    <tr>\n",
       "      <th>467</th>\n",
       "      <td>AUY922+17AAG+6</td>\n",
       "      <td>0</td>\n",
       "      <td>0.086807</td>\n",
       "      <td>-0.080649</td>\n",
       "      <td>-0.091017</td>\n",
       "      <td>0.262560</td>\n",
       "      <td>-0.173160</td>\n",
       "      <td>-0.164350</td>\n",
       "      <td>-0.066861</td>\n",
       "      <td>-0.042175</td>\n",
       "      <td>...</td>\n",
       "      <td>-0.118740</td>\n",
       "      <td>-0.036071</td>\n",
       "      <td>0.028203</td>\n",
       "      <td>-0.137110</td>\n",
       "      <td>-0.126330</td>\n",
       "      <td>-0.036071</td>\n",
       "      <td>0.18423</td>\n",
       "      <td>0.16933</td>\n",
       "      <td>-0.049978</td>\n",
       "      <td>-0.076613</td>\n",
       "    </tr>\n",
       "    <tr>\n",
       "      <th>469</th>\n",
       "      <td>AUY922+AUY922+1</td>\n",
       "      <td>0</td>\n",
       "      <td>-0.500830</td>\n",
       "      <td>-0.824920</td>\n",
       "      <td>-0.988020</td>\n",
       "      <td>-0.997140</td>\n",
       "      <td>-0.998800</td>\n",
       "      <td>-0.989220</td>\n",
       "      <td>-0.983600</td>\n",
       "      <td>-0.980840</td>\n",
       "      <td>...</td>\n",
       "      <td>-0.475160</td>\n",
       "      <td>0.040314</td>\n",
       "      <td>0.292840</td>\n",
       "      <td>-0.492960</td>\n",
       "      <td>-0.470880</td>\n",
       "      <td>0.040314</td>\n",
       "      <td>0.57405</td>\n",
       "      <td>0.50833</td>\n",
       "      <td>-0.103530</td>\n",
       "      <td>-0.360010</td>\n",
       "    </tr>\n",
       "    <tr>\n",
       "      <th>471</th>\n",
       "      <td>AUY922+AUY922+2</td>\n",
       "      <td>0</td>\n",
       "      <td>-0.714170</td>\n",
       "      <td>-0.738300</td>\n",
       "      <td>-0.950710</td>\n",
       "      <td>-0.983230</td>\n",
       "      <td>-0.994480</td>\n",
       "      <td>-0.954260</td>\n",
       "      <td>-0.925510</td>\n",
       "      <td>-0.897170</td>\n",
       "      <td>...</td>\n",
       "      <td>-0.349280</td>\n",
       "      <td>0.129500</td>\n",
       "      <td>0.119570</td>\n",
       "      <td>-0.331520</td>\n",
       "      <td>-0.316300</td>\n",
       "      <td>0.129500</td>\n",
       "      <td>0.27907</td>\n",
       "      <td>0.21604</td>\n",
       "      <td>-0.160560</td>\n",
       "      <td>-0.121330</td>\n",
       "    </tr>\n",
       "    <tr>\n",
       "      <th>473</th>\n",
       "      <td>AUY922+AUY922+3</td>\n",
       "      <td>0</td>\n",
       "      <td>-0.760000</td>\n",
       "      <td>-0.752280</td>\n",
       "      <td>-0.912620</td>\n",
       "      <td>-0.969860</td>\n",
       "      <td>-0.992310</td>\n",
       "      <td>-0.912720</td>\n",
       "      <td>-0.897030</td>\n",
       "      <td>-0.880270</td>\n",
       "      <td>...</td>\n",
       "      <td>-0.344360</td>\n",
       "      <td>0.127250</td>\n",
       "      <td>-0.094740</td>\n",
       "      <td>-0.299720</td>\n",
       "      <td>-0.302970</td>\n",
       "      <td>0.127250</td>\n",
       "      <td>-0.18398</td>\n",
       "      <td>-0.18712</td>\n",
       "      <td>-0.251700</td>\n",
       "      <td>0.106070</td>\n",
       "    </tr>\n",
       "    <tr>\n",
       "      <th>475</th>\n",
       "      <td>AUY922+AUY922+4</td>\n",
       "      <td>0</td>\n",
       "      <td>-0.781670</td>\n",
       "      <td>0.176640</td>\n",
       "      <td>-0.113040</td>\n",
       "      <td>0.299460</td>\n",
       "      <td>-0.145990</td>\n",
       "      <td>-0.121720</td>\n",
       "      <td>-0.105750</td>\n",
       "      <td>-0.090565</td>\n",
       "      <td>...</td>\n",
       "      <td>0.538220</td>\n",
       "      <td>0.301600</td>\n",
       "      <td>-0.239870</td>\n",
       "      <td>0.664760</td>\n",
       "      <td>0.634390</td>\n",
       "      <td>0.301600</td>\n",
       "      <td>-0.56582</td>\n",
       "      <td>-0.57415</td>\n",
       "      <td>-0.217920</td>\n",
       "      <td>0.320560</td>\n",
       "    </tr>\n",
       "    <tr>\n",
       "      <th>477</th>\n",
       "      <td>AUY922+AUY922+5</td>\n",
       "      <td>0</td>\n",
       "      <td>-0.062247</td>\n",
       "      <td>-0.260270</td>\n",
       "      <td>-0.332000</td>\n",
       "      <td>0.151170</td>\n",
       "      <td>-0.456140</td>\n",
       "      <td>-0.360700</td>\n",
       "      <td>-0.291960</td>\n",
       "      <td>-0.262450</td>\n",
       "      <td>...</td>\n",
       "      <td>-0.057064</td>\n",
       "      <td>0.068009</td>\n",
       "      <td>-0.077889</td>\n",
       "      <td>-0.059540</td>\n",
       "      <td>-0.065136</td>\n",
       "      <td>0.068009</td>\n",
       "      <td>-0.14487</td>\n",
       "      <td>-0.15538</td>\n",
       "      <td>-0.112140</td>\n",
       "      <td>0.064177</td>\n",
       "    </tr>\n",
       "    <tr>\n",
       "      <th>479</th>\n",
       "      <td>AUY922+AUY922+6</td>\n",
       "      <td>0</td>\n",
       "      <td>0.094453</td>\n",
       "      <td>-0.056431</td>\n",
       "      <td>0.024914</td>\n",
       "      <td>-0.018491</td>\n",
       "      <td>-0.062686</td>\n",
       "      <td>-0.034803</td>\n",
       "      <td>0.036248</td>\n",
       "      <td>0.052053</td>\n",
       "      <td>...</td>\n",
       "      <td>-0.113150</td>\n",
       "      <td>0.055665</td>\n",
       "      <td>0.040311</td>\n",
       "      <td>-0.119280</td>\n",
       "      <td>-0.112650</td>\n",
       "      <td>0.055665</td>\n",
       "      <td>0.14191</td>\n",
       "      <td>0.14122</td>\n",
       "      <td>-0.052779</td>\n",
       "      <td>-0.084489</td>\n",
       "    </tr>\n",
       "    <tr>\n",
       "      <th>385</th>\n",
       "      <td>17AAG+17AAG+1</td>\n",
       "      <td>0</td>\n",
       "      <td>-0.861670</td>\n",
       "      <td>-0.679570</td>\n",
       "      <td>-0.838320</td>\n",
       "      <td>-0.955340</td>\n",
       "      <td>-0.958010</td>\n",
       "      <td>-0.838230</td>\n",
       "      <td>-0.805820</td>\n",
       "      <td>-0.790750</td>\n",
       "      <td>...</td>\n",
       "      <td>-0.198660</td>\n",
       "      <td>0.195630</td>\n",
       "      <td>-0.208590</td>\n",
       "      <td>-0.185780</td>\n",
       "      <td>-0.165000</td>\n",
       "      <td>0.195630</td>\n",
       "      <td>-0.35155</td>\n",
       "      <td>-0.36160</td>\n",
       "      <td>-0.292090</td>\n",
       "      <td>0.248890</td>\n",
       "    </tr>\n",
       "    <tr>\n",
       "      <th>387</th>\n",
       "      <td>17AAG+17AAG+2</td>\n",
       "      <td>0</td>\n",
       "      <td>-0.898330</td>\n",
       "      <td>-0.425800</td>\n",
       "      <td>-0.486410</td>\n",
       "      <td>-0.687730</td>\n",
       "      <td>-0.852260</td>\n",
       "      <td>-0.499650</td>\n",
       "      <td>-0.444240</td>\n",
       "      <td>-0.426290</td>\n",
       "      <td>...</td>\n",
       "      <td>0.229190</td>\n",
       "      <td>0.225830</td>\n",
       "      <td>-0.308520</td>\n",
       "      <td>0.295970</td>\n",
       "      <td>0.254480</td>\n",
       "      <td>0.225830</td>\n",
       "      <td>-0.62820</td>\n",
       "      <td>-0.64773</td>\n",
       "      <td>-0.397580</td>\n",
       "      <td>0.395790</td>\n",
       "    </tr>\n",
       "    <tr>\n",
       "      <th>389</th>\n",
       "      <td>17AAG+17AAG+3</td>\n",
       "      <td>0</td>\n",
       "      <td>-0.580000</td>\n",
       "      <td>0.050205</td>\n",
       "      <td>-0.170540</td>\n",
       "      <td>-0.059912</td>\n",
       "      <td>-0.170250</td>\n",
       "      <td>-0.171580</td>\n",
       "      <td>-0.168360</td>\n",
       "      <td>-0.160250</td>\n",
       "      <td>...</td>\n",
       "      <td>0.392620</td>\n",
       "      <td>0.205000</td>\n",
       "      <td>-0.268390</td>\n",
       "      <td>0.509170</td>\n",
       "      <td>0.483000</td>\n",
       "      <td>0.205000</td>\n",
       "      <td>-0.45724</td>\n",
       "      <td>-0.47493</td>\n",
       "      <td>-0.196080</td>\n",
       "      <td>0.305180</td>\n",
       "    </tr>\n",
       "    <tr>\n",
       "      <th>391</th>\n",
       "      <td>17AAG+17AAG+4</td>\n",
       "      <td>0</td>\n",
       "      <td>0.123770</td>\n",
       "      <td>-0.074506</td>\n",
       "      <td>-0.067362</td>\n",
       "      <td>0.109620</td>\n",
       "      <td>-0.096618</td>\n",
       "      <td>-0.121330</td>\n",
       "      <td>-0.059557</td>\n",
       "      <td>-0.035920</td>\n",
       "      <td>...</td>\n",
       "      <td>-0.103270</td>\n",
       "      <td>-0.029803</td>\n",
       "      <td>0.017400</td>\n",
       "      <td>-0.115760</td>\n",
       "      <td>-0.116890</td>\n",
       "      <td>-0.029803</td>\n",
       "      <td>0.14552</td>\n",
       "      <td>0.15470</td>\n",
       "      <td>-0.024412</td>\n",
       "      <td>-0.091311</td>\n",
       "    </tr>\n",
       "    <tr>\n",
       "      <th>393</th>\n",
       "      <td>17AAG+17AAG+5</td>\n",
       "      <td>0</td>\n",
       "      <td>0.103830</td>\n",
       "      <td>-0.070053</td>\n",
       "      <td>-0.093880</td>\n",
       "      <td>0.073408</td>\n",
       "      <td>-0.102620</td>\n",
       "      <td>-0.139060</td>\n",
       "      <td>-0.090679</td>\n",
       "      <td>-0.056269</td>\n",
       "      <td>...</td>\n",
       "      <td>-0.104840</td>\n",
       "      <td>0.022707</td>\n",
       "      <td>0.041385</td>\n",
       "      <td>-0.105700</td>\n",
       "      <td>-0.105690</td>\n",
       "      <td>0.022707</td>\n",
       "      <td>0.14385</td>\n",
       "      <td>0.14191</td>\n",
       "      <td>-0.045663</td>\n",
       "      <td>-0.072357</td>\n",
       "    </tr>\n",
       "    <tr>\n",
       "      <th>395</th>\n",
       "      <td>17AAG+17AAG+6</td>\n",
       "      <td>0</td>\n",
       "      <td>0.116620</td>\n",
       "      <td>-0.076437</td>\n",
       "      <td>-0.046308</td>\n",
       "      <td>0.120910</td>\n",
       "      <td>-0.102580</td>\n",
       "      <td>-0.068888</td>\n",
       "      <td>-0.033459</td>\n",
       "      <td>0.025073</td>\n",
       "      <td>...</td>\n",
       "      <td>-0.118240</td>\n",
       "      <td>0.044498</td>\n",
       "      <td>0.034456</td>\n",
       "      <td>-0.108620</td>\n",
       "      <td>-0.109910</td>\n",
       "      <td>0.044498</td>\n",
       "      <td>0.11005</td>\n",
       "      <td>0.11127</td>\n",
       "      <td>-0.057057</td>\n",
       "      <td>-0.050202</td>\n",
       "    </tr>\n",
       "  </tbody>\n",
       "</table>\n",
       "<p>24 rows × 240 columns</p>\n",
       "</div>"
      ],
      "text/plain": [
       "           drug_name  default       ks1       ks2       ks3       ks4  \\\n",
       "397   17AAG+AUY922+1        0 -0.687500 -0.755260 -0.976050 -0.989520   \n",
       "399   17AAG+AUY922+2        0 -0.825000 -0.707500 -0.900000 -0.978330   \n",
       "401   17AAG+AUY922+3        0 -0.901670 -0.624760 -0.745490 -0.910350   \n",
       "403   17AAG+AUY922+4        0 -0.212590 -0.045150 -0.105950  0.138100   \n",
       "405   17AAG+AUY922+5        0  0.041125 -0.062162 -0.045596  0.138780   \n",
       "407   17AAG+AUY922+6        0  0.072607  0.077800  0.108570  0.095616   \n",
       "457   AUY922+17AAG+1        0 -0.617500 -0.711270 -0.956650 -0.983560   \n",
       "459   AUY922+17AAG+2        0 -0.870830 -0.466670 -0.526110 -0.780000   \n",
       "461   AUY922+17AAG+3        0 -0.687500  0.268900 -0.082731  0.328500   \n",
       "463   AUY922+17AAG+4        0 -0.685830  0.205200 -0.101370  0.276860   \n",
       "465   AUY922+17AAG+5        0  0.092078 -0.142130 -0.176780  0.237510   \n",
       "467   AUY922+17AAG+6        0  0.086807 -0.080649 -0.091017  0.262560   \n",
       "469  AUY922+AUY922+1        0 -0.500830 -0.824920 -0.988020 -0.997140   \n",
       "471  AUY922+AUY922+2        0 -0.714170 -0.738300 -0.950710 -0.983230   \n",
       "473  AUY922+AUY922+3        0 -0.760000 -0.752280 -0.912620 -0.969860   \n",
       "475  AUY922+AUY922+4        0 -0.781670  0.176640 -0.113040  0.299460   \n",
       "477  AUY922+AUY922+5        0 -0.062247 -0.260270 -0.332000  0.151170   \n",
       "479  AUY922+AUY922+6        0  0.094453 -0.056431  0.024914 -0.018491   \n",
       "385    17AAG+17AAG+1        0 -0.861670 -0.679570 -0.838320 -0.955340   \n",
       "387    17AAG+17AAG+2        0 -0.898330 -0.425800 -0.486410 -0.687730   \n",
       "389    17AAG+17AAG+3        0 -0.580000  0.050205 -0.170540 -0.059912   \n",
       "391    17AAG+17AAG+4        0  0.123770 -0.074506 -0.067362  0.109620   \n",
       "393    17AAG+17AAG+5        0  0.103830 -0.070053 -0.093880  0.073408   \n",
       "395    17AAG+17AAG+6        0  0.116620 -0.076437 -0.046308  0.120910   \n",
       "\n",
       "          ks5       ks6       ks7       ks8  ...     ks229     ks230  \\\n",
       "397 -0.997500 -0.976050 -0.971550 -0.954580  ... -0.430090 -0.045055   \n",
       "399 -0.987500 -0.909170 -0.884170 -0.863330  ... -0.365830  0.105000   \n",
       "401 -0.942800 -0.778430 -0.707540 -0.668760  ... -0.311990  0.122720   \n",
       "403 -0.125270 -0.140810 -0.099238 -0.083805  ...  0.127000  0.055021   \n",
       "405 -0.093122 -0.079141 -0.038862  0.030323  ... -0.053139  0.045375   \n",
       "407  0.047839  0.069354  0.108910  0.125410  ... -0.061909  0.039102   \n",
       "457 -0.995900 -0.964020 -0.941880 -0.926140  ... -0.332990  0.094657   \n",
       "459 -0.910560 -0.551390 -0.504720 -0.485000  ...  0.140000  0.229440   \n",
       "461 -0.089468 -0.081637 -0.072430 -0.067992  ...  0.535290  0.248180   \n",
       "463 -0.130360 -0.100220 -0.079942 -0.077863  ...  0.447060  0.263450   \n",
       "465 -0.268390 -0.245390 -0.150500 -0.114020  ... -0.139190  0.034783   \n",
       "467 -0.173160 -0.164350 -0.066861 -0.042175  ... -0.118740 -0.036071   \n",
       "469 -0.998800 -0.989220 -0.983600 -0.980840  ... -0.475160  0.040314   \n",
       "471 -0.994480 -0.954260 -0.925510 -0.897170  ... -0.349280  0.129500   \n",
       "473 -0.992310 -0.912720 -0.897030 -0.880270  ... -0.344360  0.127250   \n",
       "475 -0.145990 -0.121720 -0.105750 -0.090565  ...  0.538220  0.301600   \n",
       "477 -0.456140 -0.360700 -0.291960 -0.262450  ... -0.057064  0.068009   \n",
       "479 -0.062686 -0.034803  0.036248  0.052053  ... -0.113150  0.055665   \n",
       "385 -0.958010 -0.838230 -0.805820 -0.790750  ... -0.198660  0.195630   \n",
       "387 -0.852260 -0.499650 -0.444240 -0.426290  ...  0.229190  0.225830   \n",
       "389 -0.170250 -0.171580 -0.168360 -0.160250  ...  0.392620  0.205000   \n",
       "391 -0.096618 -0.121330 -0.059557 -0.035920  ... -0.103270 -0.029803   \n",
       "393 -0.102620 -0.139060 -0.090679 -0.056269  ... -0.104840  0.022707   \n",
       "395 -0.102580 -0.068888 -0.033459  0.025073  ... -0.118240  0.044498   \n",
       "\n",
       "        ks231     ks232     ks233     ks234    ks235    ks236     ks237  \\\n",
       "397  0.163330 -0.445040 -0.421380 -0.045055  0.36891  0.29652 -0.122430   \n",
       "399  0.118330 -0.355000 -0.344170  0.105000  0.27750  0.21667 -0.170830   \n",
       "401 -0.130750 -0.291750 -0.269310  0.122720 -0.24902 -0.29693 -0.254250   \n",
       "403 -0.071852  0.180470  0.171570  0.055021 -0.14462 -0.16088 -0.077014   \n",
       "405  0.040604 -0.072692 -0.072666  0.045375  0.11420  0.12236 -0.047177   \n",
       "407  0.054175 -0.058110 -0.060372  0.039102  0.15201  0.15448 -0.029300   \n",
       "457 -0.088627 -0.322840 -0.315650  0.094657  0.30183  0.22358 -0.136450   \n",
       "459 -0.350830  0.275830  0.232500  0.229440 -0.56694 -0.58306 -0.392500   \n",
       "461 -0.307180  0.700600  0.663700  0.248180 -0.45772 -0.51238 -0.128500   \n",
       "463 -0.183240  0.575830  0.572680  0.263450 -0.40132 -0.41589 -0.217430   \n",
       "465  0.040403 -0.131820 -0.139940  0.034783  0.13699  0.13144 -0.066351   \n",
       "467  0.028203 -0.137110 -0.126330 -0.036071  0.18423  0.16933 -0.049978   \n",
       "469  0.292840 -0.492960 -0.470880  0.040314  0.57405  0.50833 -0.103530   \n",
       "471  0.119570 -0.331520 -0.316300  0.129500  0.27907  0.21604 -0.160560   \n",
       "473 -0.094740 -0.299720 -0.302970  0.127250 -0.18398 -0.18712 -0.251700   \n",
       "475 -0.239870  0.664760  0.634390  0.301600 -0.56582 -0.57415 -0.217920   \n",
       "477 -0.077889 -0.059540 -0.065136  0.068009 -0.14487 -0.15538 -0.112140   \n",
       "479  0.040311 -0.119280 -0.112650  0.055665  0.14191  0.14122 -0.052779   \n",
       "385 -0.208590 -0.185780 -0.165000  0.195630 -0.35155 -0.36160 -0.292090   \n",
       "387 -0.308520  0.295970  0.254480  0.225830 -0.62820 -0.64773 -0.397580   \n",
       "389 -0.268390  0.509170  0.483000  0.205000 -0.45724 -0.47493 -0.196080   \n",
       "391  0.017400 -0.115760 -0.116890 -0.029803  0.14552  0.15470 -0.024412   \n",
       "393  0.041385 -0.105700 -0.105690  0.022707  0.14385  0.14191 -0.045663   \n",
       "395  0.034456 -0.108620 -0.109910  0.044498  0.11005  0.11127 -0.057057   \n",
       "\n",
       "        ks238  \n",
       "397 -0.178410  \n",
       "399 -0.143330  \n",
       "401  0.169760  \n",
       "403  0.103630  \n",
       "405 -0.064111  \n",
       "407 -0.091250  \n",
       "457 -0.113220  \n",
       "459  0.398330  \n",
       "461  0.350480  \n",
       "463  0.230600  \n",
       "465 -0.064588  \n",
       "467 -0.076613  \n",
       "469 -0.360010  \n",
       "471 -0.121330  \n",
       "473  0.106070  \n",
       "475  0.320560  \n",
       "477  0.064177  \n",
       "479 -0.084489  \n",
       "385  0.248890  \n",
       "387  0.395790  \n",
       "389  0.305180  \n",
       "391 -0.091311  \n",
       "393 -0.072357  \n",
       "395 -0.050202  \n",
       "\n",
       "[24 rows x 240 columns]"
      ]
     },
     "execution_count": 188,
     "metadata": {},
     "output_type": "execute_result"
    }
   ],
   "source": [
    "#Dna ： etoposide，Gemcitabine\n",
    "#hsp：17aag，auy922\n",
    "#mt：paclitaxel，Vinblastine\n",
    "#prot：\"MG132\"，ps341\n",
    "#hdac：saha，apicidin\n",
    "\n",
    "frames3=[]\n",
    "for i in range(1,7):\n",
    "    frames3.append(df.loc[(df['drug_name'] =='17AAG+AUY922+'+str(i)) ])\n",
    "for j in range(1,7):\n",
    "    frames3.append(df.loc[(df['drug_name'] =='AUY922+17AAG+'+str(j)) ])\n",
    "for k in range(1,7):\n",
    "    frames3.append(df.loc[(df['drug_name'] =='AUY922+AUY922+'+str(k)) ])\n",
    "for m in range(1,7):\n",
    "    frames3.append(df.loc[(df['drug_name'] =='17AAG+17AAG+'+str(m)) ])\n",
    "HSP= pd.concat(frames3)\n",
    "HSP\n"
   ]
  },
  {
   "cell_type": "code",
   "execution_count": 189,
   "metadata": {},
   "outputs": [
    {
     "data": {
      "text/html": [
       "<div>\n",
       "<style scoped>\n",
       "    .dataframe tbody tr th:only-of-type {\n",
       "        vertical-align: middle;\n",
       "    }\n",
       "\n",
       "    .dataframe tbody tr th {\n",
       "        vertical-align: top;\n",
       "    }\n",
       "\n",
       "    .dataframe thead th {\n",
       "        text-align: right;\n",
       "    }\n",
       "</style>\n",
       "<table border=\"1\" class=\"dataframe\">\n",
       "  <thead>\n",
       "    <tr style=\"text-align: right;\">\n",
       "      <th></th>\n",
       "      <th>drug_name</th>\n",
       "      <th>default</th>\n",
       "      <th>ks1</th>\n",
       "      <th>ks2</th>\n",
       "      <th>ks3</th>\n",
       "      <th>ks4</th>\n",
       "      <th>ks5</th>\n",
       "      <th>ks6</th>\n",
       "      <th>ks7</th>\n",
       "      <th>ks8</th>\n",
       "      <th>...</th>\n",
       "      <th>ks229</th>\n",
       "      <th>ks230</th>\n",
       "      <th>ks231</th>\n",
       "      <th>ks232</th>\n",
       "      <th>ks233</th>\n",
       "      <th>ks234</th>\n",
       "      <th>ks235</th>\n",
       "      <th>ks236</th>\n",
       "      <th>ks237</th>\n",
       "      <th>ks238</th>\n",
       "    </tr>\n",
       "  </thead>\n",
       "  <tbody>\n",
       "    <tr>\n",
       "      <th>541</th>\n",
       "      <td>MG132+PS341+1</td>\n",
       "      <td>0</td>\n",
       "      <td>-0.988330</td>\n",
       "      <td>0.204550</td>\n",
       "      <td>0.490610</td>\n",
       "      <td>-0.466820</td>\n",
       "      <td>-0.147270</td>\n",
       "      <td>0.485150</td>\n",
       "      <td>0.499770</td>\n",
       "      <td>0.460610</td>\n",
       "      <td>...</td>\n",
       "      <td>0.378110</td>\n",
       "      <td>0.383940</td>\n",
       "      <td>-0.519700</td>\n",
       "      <td>0.485080</td>\n",
       "      <td>0.486890</td>\n",
       "      <td>0.383940</td>\n",
       "      <td>-0.656890</td>\n",
       "      <td>-0.654770</td>\n",
       "      <td>-0.435230</td>\n",
       "      <td>0.565530</td>\n",
       "    </tr>\n",
       "    <tr>\n",
       "      <th>543</th>\n",
       "      <td>MG132+PS341+2</td>\n",
       "      <td>0</td>\n",
       "      <td>-0.629170</td>\n",
       "      <td>0.433960</td>\n",
       "      <td>0.379030</td>\n",
       "      <td>0.161740</td>\n",
       "      <td>0.430830</td>\n",
       "      <td>0.349370</td>\n",
       "      <td>0.359510</td>\n",
       "      <td>0.368470</td>\n",
       "      <td>...</td>\n",
       "      <td>0.551670</td>\n",
       "      <td>0.129240</td>\n",
       "      <td>-0.055764</td>\n",
       "      <td>0.623680</td>\n",
       "      <td>0.611810</td>\n",
       "      <td>0.129240</td>\n",
       "      <td>-0.416530</td>\n",
       "      <td>-0.422010</td>\n",
       "      <td>-0.167920</td>\n",
       "      <td>0.180970</td>\n",
       "    </tr>\n",
       "    <tr>\n",
       "      <th>545</th>\n",
       "      <td>MG132+PS341+3</td>\n",
       "      <td>0</td>\n",
       "      <td>-0.409170</td>\n",
       "      <td>0.256740</td>\n",
       "      <td>0.175900</td>\n",
       "      <td>0.226020</td>\n",
       "      <td>0.120820</td>\n",
       "      <td>0.123790</td>\n",
       "      <td>0.188730</td>\n",
       "      <td>0.214750</td>\n",
       "      <td>...</td>\n",
       "      <td>0.328920</td>\n",
       "      <td>0.095963</td>\n",
       "      <td>-0.063551</td>\n",
       "      <td>0.382580</td>\n",
       "      <td>0.367300</td>\n",
       "      <td>0.095963</td>\n",
       "      <td>-0.204490</td>\n",
       "      <td>-0.171420</td>\n",
       "      <td>-0.132560</td>\n",
       "      <td>-0.038409</td>\n",
       "    </tr>\n",
       "    <tr>\n",
       "      <th>547</th>\n",
       "      <td>MG132+PS341+4</td>\n",
       "      <td>0</td>\n",
       "      <td>-0.342500</td>\n",
       "      <td>0.250800</td>\n",
       "      <td>0.244160</td>\n",
       "      <td>0.164610</td>\n",
       "      <td>0.140700</td>\n",
       "      <td>0.211330</td>\n",
       "      <td>0.257470</td>\n",
       "      <td>0.264390</td>\n",
       "      <td>...</td>\n",
       "      <td>0.294790</td>\n",
       "      <td>0.084982</td>\n",
       "      <td>-0.049263</td>\n",
       "      <td>0.353040</td>\n",
       "      <td>0.346170</td>\n",
       "      <td>0.084982</td>\n",
       "      <td>-0.218010</td>\n",
       "      <td>-0.184390</td>\n",
       "      <td>-0.067262</td>\n",
       "      <td>-0.024066</td>\n",
       "    </tr>\n",
       "    <tr>\n",
       "      <th>549</th>\n",
       "      <td>MG132+PS341+5</td>\n",
       "      <td>0</td>\n",
       "      <td>-0.046438</td>\n",
       "      <td>0.081620</td>\n",
       "      <td>0.094815</td>\n",
       "      <td>0.102460</td>\n",
       "      <td>-0.028970</td>\n",
       "      <td>0.061817</td>\n",
       "      <td>0.100800</td>\n",
       "      <td>0.107850</td>\n",
       "      <td>...</td>\n",
       "      <td>0.042222</td>\n",
       "      <td>-0.038748</td>\n",
       "      <td>0.036114</td>\n",
       "      <td>0.055844</td>\n",
       "      <td>0.059583</td>\n",
       "      <td>-0.038748</td>\n",
       "      <td>-0.048999</td>\n",
       "      <td>-0.043861</td>\n",
       "      <td>-0.039795</td>\n",
       "      <td>-0.056240</td>\n",
       "    </tr>\n",
       "    <tr>\n",
       "      <th>551</th>\n",
       "      <td>MG132+PS341+6</td>\n",
       "      <td>0</td>\n",
       "      <td>0.129920</td>\n",
       "      <td>-0.068248</td>\n",
       "      <td>0.061794</td>\n",
       "      <td>0.063990</td>\n",
       "      <td>-0.032913</td>\n",
       "      <td>0.028012</td>\n",
       "      <td>0.072540</td>\n",
       "      <td>0.082882</td>\n",
       "      <td>...</td>\n",
       "      <td>-0.137470</td>\n",
       "      <td>0.024990</td>\n",
       "      <td>0.023410</td>\n",
       "      <td>-0.152750</td>\n",
       "      <td>-0.147150</td>\n",
       "      <td>0.024990</td>\n",
       "      <td>0.159570</td>\n",
       "      <td>0.146420</td>\n",
       "      <td>-0.042805</td>\n",
       "      <td>-0.084911</td>\n",
       "    </tr>\n",
       "    <tr>\n",
       "      <th>601</th>\n",
       "      <td>PS341+MG132+1</td>\n",
       "      <td>0</td>\n",
       "      <td>-0.317470</td>\n",
       "      <td>-0.844290</td>\n",
       "      <td>-0.999150</td>\n",
       "      <td>-0.999170</td>\n",
       "      <td>-1.000000</td>\n",
       "      <td>-1.000000</td>\n",
       "      <td>-0.999150</td>\n",
       "      <td>-0.997460</td>\n",
       "      <td>...</td>\n",
       "      <td>-0.595790</td>\n",
       "      <td>-0.129110</td>\n",
       "      <td>0.521820</td>\n",
       "      <td>-0.636430</td>\n",
       "      <td>-0.594600</td>\n",
       "      <td>-0.129110</td>\n",
       "      <td>0.871410</td>\n",
       "      <td>0.839770</td>\n",
       "      <td>0.254930</td>\n",
       "      <td>-0.629690</td>\n",
       "    </tr>\n",
       "    <tr>\n",
       "      <th>603</th>\n",
       "      <td>PS341+MG132+2</td>\n",
       "      <td>0</td>\n",
       "      <td>-0.956670</td>\n",
       "      <td>-0.142860</td>\n",
       "      <td>0.326790</td>\n",
       "      <td>-0.229400</td>\n",
       "      <td>-0.215710</td>\n",
       "      <td>0.292860</td>\n",
       "      <td>0.366550</td>\n",
       "      <td>0.379880</td>\n",
       "      <td>...</td>\n",
       "      <td>0.170240</td>\n",
       "      <td>0.170000</td>\n",
       "      <td>-0.162380</td>\n",
       "      <td>0.211550</td>\n",
       "      <td>0.236070</td>\n",
       "      <td>0.170000</td>\n",
       "      <td>-0.491790</td>\n",
       "      <td>-0.505950</td>\n",
       "      <td>-0.376550</td>\n",
       "      <td>0.246070</td>\n",
       "    </tr>\n",
       "    <tr>\n",
       "      <th>605</th>\n",
       "      <td>PS341+MG132+3</td>\n",
       "      <td>0</td>\n",
       "      <td>-0.698740</td>\n",
       "      <td>0.362200</td>\n",
       "      <td>0.361490</td>\n",
       "      <td>0.115390</td>\n",
       "      <td>0.290760</td>\n",
       "      <td>0.314900</td>\n",
       "      <td>0.362070</td>\n",
       "      <td>0.361380</td>\n",
       "      <td>...</td>\n",
       "      <td>0.530840</td>\n",
       "      <td>0.059453</td>\n",
       "      <td>-0.103820</td>\n",
       "      <td>0.578050</td>\n",
       "      <td>0.565230</td>\n",
       "      <td>0.059453</td>\n",
       "      <td>-0.634780</td>\n",
       "      <td>-0.557460</td>\n",
       "      <td>-0.149750</td>\n",
       "      <td>0.072113</td>\n",
       "    </tr>\n",
       "    <tr>\n",
       "      <th>607</th>\n",
       "      <td>PS341+MG132+4</td>\n",
       "      <td>0</td>\n",
       "      <td>-0.475000</td>\n",
       "      <td>0.344120</td>\n",
       "      <td>0.364830</td>\n",
       "      <td>0.139640</td>\n",
       "      <td>0.368740</td>\n",
       "      <td>0.370740</td>\n",
       "      <td>0.353000</td>\n",
       "      <td>0.337120</td>\n",
       "      <td>...</td>\n",
       "      <td>0.402240</td>\n",
       "      <td>0.068881</td>\n",
       "      <td>-0.070857</td>\n",
       "      <td>0.459000</td>\n",
       "      <td>0.451740</td>\n",
       "      <td>0.068881</td>\n",
       "      <td>-0.390210</td>\n",
       "      <td>-0.322520</td>\n",
       "      <td>-0.120070</td>\n",
       "      <td>-0.025429</td>\n",
       "    </tr>\n",
       "    <tr>\n",
       "      <th>609</th>\n",
       "      <td>PS341+MG132+5</td>\n",
       "      <td>0</td>\n",
       "      <td>-0.127980</td>\n",
       "      <td>-0.074591</td>\n",
       "      <td>-0.059814</td>\n",
       "      <td>-0.024528</td>\n",
       "      <td>-0.058333</td>\n",
       "      <td>-0.062987</td>\n",
       "      <td>-0.060571</td>\n",
       "      <td>0.064933</td>\n",
       "      <td>...</td>\n",
       "      <td>0.068106</td>\n",
       "      <td>0.061402</td>\n",
       "      <td>-0.066157</td>\n",
       "      <td>0.103560</td>\n",
       "      <td>0.094802</td>\n",
       "      <td>0.061402</td>\n",
       "      <td>-0.145960</td>\n",
       "      <td>-0.158240</td>\n",
       "      <td>-0.100620</td>\n",
       "      <td>0.083475</td>\n",
       "    </tr>\n",
       "    <tr>\n",
       "      <th>611</th>\n",
       "      <td>PS341+MG132+6</td>\n",
       "      <td>0</td>\n",
       "      <td>0.139410</td>\n",
       "      <td>-0.097196</td>\n",
       "      <td>-0.043439</td>\n",
       "      <td>-0.038001</td>\n",
       "      <td>-0.077974</td>\n",
       "      <td>-0.061916</td>\n",
       "      <td>-0.030657</td>\n",
       "      <td>0.043506</td>\n",
       "      <td>...</td>\n",
       "      <td>-0.140550</td>\n",
       "      <td>0.028355</td>\n",
       "      <td>0.047181</td>\n",
       "      <td>-0.145160</td>\n",
       "      <td>-0.137980</td>\n",
       "      <td>0.028355</td>\n",
       "      <td>0.142240</td>\n",
       "      <td>0.151170</td>\n",
       "      <td>-0.048026</td>\n",
       "      <td>-0.078342</td>\n",
       "    </tr>\n",
       "    <tr>\n",
       "      <th>529</th>\n",
       "      <td>MG132+MG132+1</td>\n",
       "      <td>0</td>\n",
       "      <td>-0.320000</td>\n",
       "      <td>-0.846870</td>\n",
       "      <td>-0.998290</td>\n",
       "      <td>-0.999170</td>\n",
       "      <td>-1.000000</td>\n",
       "      <td>-0.998290</td>\n",
       "      <td>-0.998290</td>\n",
       "      <td>-0.995760</td>\n",
       "      <td>...</td>\n",
       "      <td>-0.583500</td>\n",
       "      <td>-0.153390</td>\n",
       "      <td>0.511220</td>\n",
       "      <td>-0.646450</td>\n",
       "      <td>-0.591480</td>\n",
       "      <td>-0.153390</td>\n",
       "      <td>0.880480</td>\n",
       "      <td>0.846850</td>\n",
       "      <td>0.248400</td>\n",
       "      <td>-0.638060</td>\n",
       "    </tr>\n",
       "    <tr>\n",
       "      <th>531</th>\n",
       "      <td>MG132+MG132+2</td>\n",
       "      <td>0</td>\n",
       "      <td>-0.639170</td>\n",
       "      <td>0.214840</td>\n",
       "      <td>0.288780</td>\n",
       "      <td>-0.060869</td>\n",
       "      <td>0.027829</td>\n",
       "      <td>0.248460</td>\n",
       "      <td>0.317930</td>\n",
       "      <td>0.321920</td>\n",
       "      <td>...</td>\n",
       "      <td>0.226240</td>\n",
       "      <td>0.150610</td>\n",
       "      <td>-0.103570</td>\n",
       "      <td>0.356330</td>\n",
       "      <td>0.333980</td>\n",
       "      <td>0.150610</td>\n",
       "      <td>-0.448690</td>\n",
       "      <td>-0.471340</td>\n",
       "      <td>-0.280420</td>\n",
       "      <td>0.187210</td>\n",
       "    </tr>\n",
       "    <tr>\n",
       "      <th>533</th>\n",
       "      <td>MG132+MG132+3</td>\n",
       "      <td>0</td>\n",
       "      <td>-0.448330</td>\n",
       "      <td>0.234150</td>\n",
       "      <td>0.193620</td>\n",
       "      <td>0.091442</td>\n",
       "      <td>0.095146</td>\n",
       "      <td>0.145780</td>\n",
       "      <td>0.211960</td>\n",
       "      <td>0.241340</td>\n",
       "      <td>...</td>\n",
       "      <td>0.345510</td>\n",
       "      <td>0.097377</td>\n",
       "      <td>-0.097720</td>\n",
       "      <td>0.389120</td>\n",
       "      <td>0.379120</td>\n",
       "      <td>0.097377</td>\n",
       "      <td>-0.362870</td>\n",
       "      <td>-0.307140</td>\n",
       "      <td>-0.098870</td>\n",
       "      <td>0.066927</td>\n",
       "    </tr>\n",
       "    <tr>\n",
       "      <th>535</th>\n",
       "      <td>MG132+MG132+4</td>\n",
       "      <td>0</td>\n",
       "      <td>-0.376460</td>\n",
       "      <td>0.175200</td>\n",
       "      <td>0.200250</td>\n",
       "      <td>0.120270</td>\n",
       "      <td>0.131310</td>\n",
       "      <td>0.188470</td>\n",
       "      <td>0.213180</td>\n",
       "      <td>0.212680</td>\n",
       "      <td>...</td>\n",
       "      <td>0.280020</td>\n",
       "      <td>0.098996</td>\n",
       "      <td>-0.093924</td>\n",
       "      <td>0.362160</td>\n",
       "      <td>0.343310</td>\n",
       "      <td>0.098996</td>\n",
       "      <td>-0.338940</td>\n",
       "      <td>-0.303490</td>\n",
       "      <td>-0.096399</td>\n",
       "      <td>0.088937</td>\n",
       "    </tr>\n",
       "    <tr>\n",
       "      <th>537</th>\n",
       "      <td>MG132+MG132+5</td>\n",
       "      <td>0</td>\n",
       "      <td>-0.056717</td>\n",
       "      <td>0.077550</td>\n",
       "      <td>0.090337</td>\n",
       "      <td>0.114540</td>\n",
       "      <td>-0.055216</td>\n",
       "      <td>0.055401</td>\n",
       "      <td>0.105040</td>\n",
       "      <td>0.122030</td>\n",
       "      <td>...</td>\n",
       "      <td>0.048111</td>\n",
       "      <td>0.047893</td>\n",
       "      <td>-0.031469</td>\n",
       "      <td>0.064738</td>\n",
       "      <td>0.062047</td>\n",
       "      <td>0.047893</td>\n",
       "      <td>-0.061542</td>\n",
       "      <td>-0.060981</td>\n",
       "      <td>-0.058192</td>\n",
       "      <td>-0.036754</td>\n",
       "    </tr>\n",
       "    <tr>\n",
       "      <th>539</th>\n",
       "      <td>MG132+MG132+6</td>\n",
       "      <td>0</td>\n",
       "      <td>0.124210</td>\n",
       "      <td>-0.087693</td>\n",
       "      <td>-0.032779</td>\n",
       "      <td>0.036694</td>\n",
       "      <td>-0.111280</td>\n",
       "      <td>-0.063507</td>\n",
       "      <td>0.024454</td>\n",
       "      <td>0.045902</td>\n",
       "      <td>...</td>\n",
       "      <td>-0.145300</td>\n",
       "      <td>0.030305</td>\n",
       "      <td>0.043179</td>\n",
       "      <td>-0.137450</td>\n",
       "      <td>-0.144100</td>\n",
       "      <td>0.030305</td>\n",
       "      <td>0.128640</td>\n",
       "      <td>0.136050</td>\n",
       "      <td>-0.043683</td>\n",
       "      <td>-0.091109</td>\n",
       "    </tr>\n",
       "    <tr>\n",
       "      <th>613</th>\n",
       "      <td>PS341+PS341+1</td>\n",
       "      <td>0</td>\n",
       "      <td>-0.250000</td>\n",
       "      <td>-0.864740</td>\n",
       "      <td>-0.997660</td>\n",
       "      <td>-0.999170</td>\n",
       "      <td>-1.000000</td>\n",
       "      <td>-0.999220</td>\n",
       "      <td>-0.996100</td>\n",
       "      <td>-0.991420</td>\n",
       "      <td>...</td>\n",
       "      <td>-0.617160</td>\n",
       "      <td>-0.154220</td>\n",
       "      <td>0.539510</td>\n",
       "      <td>-0.654110</td>\n",
       "      <td>-0.609320</td>\n",
       "      <td>-0.154220</td>\n",
       "      <td>0.889080</td>\n",
       "      <td>0.871430</td>\n",
       "      <td>0.245840</td>\n",
       "      <td>-0.659030</td>\n",
       "    </tr>\n",
       "    <tr>\n",
       "      <th>615</th>\n",
       "      <td>PS341+PS341+2</td>\n",
       "      <td>0</td>\n",
       "      <td>-0.861670</td>\n",
       "      <td>0.493330</td>\n",
       "      <td>0.557500</td>\n",
       "      <td>0.075833</td>\n",
       "      <td>0.493330</td>\n",
       "      <td>0.554170</td>\n",
       "      <td>0.511670</td>\n",
       "      <td>0.490830</td>\n",
       "      <td>...</td>\n",
       "      <td>0.609170</td>\n",
       "      <td>-0.055833</td>\n",
       "      <td>-0.243330</td>\n",
       "      <td>0.629170</td>\n",
       "      <td>0.631670</td>\n",
       "      <td>-0.055833</td>\n",
       "      <td>-0.635000</td>\n",
       "      <td>-0.657500</td>\n",
       "      <td>-0.255830</td>\n",
       "      <td>0.383330</td>\n",
       "    </tr>\n",
       "    <tr>\n",
       "      <th>617</th>\n",
       "      <td>PS341+PS341+3</td>\n",
       "      <td>0</td>\n",
       "      <td>-0.595000</td>\n",
       "      <td>0.401070</td>\n",
       "      <td>0.498680</td>\n",
       "      <td>0.085083</td>\n",
       "      <td>0.226890</td>\n",
       "      <td>0.429980</td>\n",
       "      <td>0.489530</td>\n",
       "      <td>0.517160</td>\n",
       "      <td>...</td>\n",
       "      <td>0.356520</td>\n",
       "      <td>0.104540</td>\n",
       "      <td>-0.049256</td>\n",
       "      <td>0.404130</td>\n",
       "      <td>0.393310</td>\n",
       "      <td>0.104540</td>\n",
       "      <td>-0.394560</td>\n",
       "      <td>-0.386950</td>\n",
       "      <td>-0.290010</td>\n",
       "      <td>0.095884</td>\n",
       "    </tr>\n",
       "    <tr>\n",
       "      <th>619</th>\n",
       "      <td>PS341+PS341+4</td>\n",
       "      <td>0</td>\n",
       "      <td>-0.505450</td>\n",
       "      <td>0.379650</td>\n",
       "      <td>0.407830</td>\n",
       "      <td>0.137260</td>\n",
       "      <td>0.373970</td>\n",
       "      <td>0.397300</td>\n",
       "      <td>0.388490</td>\n",
       "      <td>0.386370</td>\n",
       "      <td>...</td>\n",
       "      <td>0.442560</td>\n",
       "      <td>0.072424</td>\n",
       "      <td>-0.020291</td>\n",
       "      <td>0.466160</td>\n",
       "      <td>0.465930</td>\n",
       "      <td>0.072424</td>\n",
       "      <td>-0.357620</td>\n",
       "      <td>-0.283690</td>\n",
       "      <td>-0.140070</td>\n",
       "      <td>-0.022726</td>\n",
       "    </tr>\n",
       "    <tr>\n",
       "      <th>621</th>\n",
       "      <td>PS341+PS341+5</td>\n",
       "      <td>0</td>\n",
       "      <td>-0.140490</td>\n",
       "      <td>-0.044115</td>\n",
       "      <td>-0.053316</td>\n",
       "      <td>0.102880</td>\n",
       "      <td>-0.124030</td>\n",
       "      <td>-0.076084</td>\n",
       "      <td>-0.041468</td>\n",
       "      <td>-0.037740</td>\n",
       "      <td>...</td>\n",
       "      <td>0.080117</td>\n",
       "      <td>0.033649</td>\n",
       "      <td>0.044650</td>\n",
       "      <td>0.086125</td>\n",
       "      <td>0.105970</td>\n",
       "      <td>0.033649</td>\n",
       "      <td>-0.098549</td>\n",
       "      <td>-0.102860</td>\n",
       "      <td>-0.074002</td>\n",
       "      <td>0.050075</td>\n",
       "    </tr>\n",
       "    <tr>\n",
       "      <th>623</th>\n",
       "      <td>PS341+PS341+6</td>\n",
       "      <td>0</td>\n",
       "      <td>0.112100</td>\n",
       "      <td>0.059556</td>\n",
       "      <td>0.093113</td>\n",
       "      <td>0.030352</td>\n",
       "      <td>0.102850</td>\n",
       "      <td>0.073302</td>\n",
       "      <td>0.080489</td>\n",
       "      <td>0.090841</td>\n",
       "      <td>...</td>\n",
       "      <td>-0.090641</td>\n",
       "      <td>0.036167</td>\n",
       "      <td>0.034556</td>\n",
       "      <td>-0.099324</td>\n",
       "      <td>-0.098770</td>\n",
       "      <td>0.036167</td>\n",
       "      <td>0.129260</td>\n",
       "      <td>0.132320</td>\n",
       "      <td>-0.036659</td>\n",
       "      <td>-0.065723</td>\n",
       "    </tr>\n",
       "  </tbody>\n",
       "</table>\n",
       "<p>24 rows × 240 columns</p>\n",
       "</div>"
      ],
      "text/plain": [
       "         drug_name  default       ks1       ks2       ks3       ks4       ks5  \\\n",
       "541  MG132+PS341+1        0 -0.988330  0.204550  0.490610 -0.466820 -0.147270   \n",
       "543  MG132+PS341+2        0 -0.629170  0.433960  0.379030  0.161740  0.430830   \n",
       "545  MG132+PS341+3        0 -0.409170  0.256740  0.175900  0.226020  0.120820   \n",
       "547  MG132+PS341+4        0 -0.342500  0.250800  0.244160  0.164610  0.140700   \n",
       "549  MG132+PS341+5        0 -0.046438  0.081620  0.094815  0.102460 -0.028970   \n",
       "551  MG132+PS341+6        0  0.129920 -0.068248  0.061794  0.063990 -0.032913   \n",
       "601  PS341+MG132+1        0 -0.317470 -0.844290 -0.999150 -0.999170 -1.000000   \n",
       "603  PS341+MG132+2        0 -0.956670 -0.142860  0.326790 -0.229400 -0.215710   \n",
       "605  PS341+MG132+3        0 -0.698740  0.362200  0.361490  0.115390  0.290760   \n",
       "607  PS341+MG132+4        0 -0.475000  0.344120  0.364830  0.139640  0.368740   \n",
       "609  PS341+MG132+5        0 -0.127980 -0.074591 -0.059814 -0.024528 -0.058333   \n",
       "611  PS341+MG132+6        0  0.139410 -0.097196 -0.043439 -0.038001 -0.077974   \n",
       "529  MG132+MG132+1        0 -0.320000 -0.846870 -0.998290 -0.999170 -1.000000   \n",
       "531  MG132+MG132+2        0 -0.639170  0.214840  0.288780 -0.060869  0.027829   \n",
       "533  MG132+MG132+3        0 -0.448330  0.234150  0.193620  0.091442  0.095146   \n",
       "535  MG132+MG132+4        0 -0.376460  0.175200  0.200250  0.120270  0.131310   \n",
       "537  MG132+MG132+5        0 -0.056717  0.077550  0.090337  0.114540 -0.055216   \n",
       "539  MG132+MG132+6        0  0.124210 -0.087693 -0.032779  0.036694 -0.111280   \n",
       "613  PS341+PS341+1        0 -0.250000 -0.864740 -0.997660 -0.999170 -1.000000   \n",
       "615  PS341+PS341+2        0 -0.861670  0.493330  0.557500  0.075833  0.493330   \n",
       "617  PS341+PS341+3        0 -0.595000  0.401070  0.498680  0.085083  0.226890   \n",
       "619  PS341+PS341+4        0 -0.505450  0.379650  0.407830  0.137260  0.373970   \n",
       "621  PS341+PS341+5        0 -0.140490 -0.044115 -0.053316  0.102880 -0.124030   \n",
       "623  PS341+PS341+6        0  0.112100  0.059556  0.093113  0.030352  0.102850   \n",
       "\n",
       "          ks6       ks7       ks8  ...     ks229     ks230     ks231  \\\n",
       "541  0.485150  0.499770  0.460610  ...  0.378110  0.383940 -0.519700   \n",
       "543  0.349370  0.359510  0.368470  ...  0.551670  0.129240 -0.055764   \n",
       "545  0.123790  0.188730  0.214750  ...  0.328920  0.095963 -0.063551   \n",
       "547  0.211330  0.257470  0.264390  ...  0.294790  0.084982 -0.049263   \n",
       "549  0.061817  0.100800  0.107850  ...  0.042222 -0.038748  0.036114   \n",
       "551  0.028012  0.072540  0.082882  ... -0.137470  0.024990  0.023410   \n",
       "601 -1.000000 -0.999150 -0.997460  ... -0.595790 -0.129110  0.521820   \n",
       "603  0.292860  0.366550  0.379880  ...  0.170240  0.170000 -0.162380   \n",
       "605  0.314900  0.362070  0.361380  ...  0.530840  0.059453 -0.103820   \n",
       "607  0.370740  0.353000  0.337120  ...  0.402240  0.068881 -0.070857   \n",
       "609 -0.062987 -0.060571  0.064933  ...  0.068106  0.061402 -0.066157   \n",
       "611 -0.061916 -0.030657  0.043506  ... -0.140550  0.028355  0.047181   \n",
       "529 -0.998290 -0.998290 -0.995760  ... -0.583500 -0.153390  0.511220   \n",
       "531  0.248460  0.317930  0.321920  ...  0.226240  0.150610 -0.103570   \n",
       "533  0.145780  0.211960  0.241340  ...  0.345510  0.097377 -0.097720   \n",
       "535  0.188470  0.213180  0.212680  ...  0.280020  0.098996 -0.093924   \n",
       "537  0.055401  0.105040  0.122030  ...  0.048111  0.047893 -0.031469   \n",
       "539 -0.063507  0.024454  0.045902  ... -0.145300  0.030305  0.043179   \n",
       "613 -0.999220 -0.996100 -0.991420  ... -0.617160 -0.154220  0.539510   \n",
       "615  0.554170  0.511670  0.490830  ...  0.609170 -0.055833 -0.243330   \n",
       "617  0.429980  0.489530  0.517160  ...  0.356520  0.104540 -0.049256   \n",
       "619  0.397300  0.388490  0.386370  ...  0.442560  0.072424 -0.020291   \n",
       "621 -0.076084 -0.041468 -0.037740  ...  0.080117  0.033649  0.044650   \n",
       "623  0.073302  0.080489  0.090841  ... -0.090641  0.036167  0.034556   \n",
       "\n",
       "        ks232     ks233     ks234     ks235     ks236     ks237     ks238  \n",
       "541  0.485080  0.486890  0.383940 -0.656890 -0.654770 -0.435230  0.565530  \n",
       "543  0.623680  0.611810  0.129240 -0.416530 -0.422010 -0.167920  0.180970  \n",
       "545  0.382580  0.367300  0.095963 -0.204490 -0.171420 -0.132560 -0.038409  \n",
       "547  0.353040  0.346170  0.084982 -0.218010 -0.184390 -0.067262 -0.024066  \n",
       "549  0.055844  0.059583 -0.038748 -0.048999 -0.043861 -0.039795 -0.056240  \n",
       "551 -0.152750 -0.147150  0.024990  0.159570  0.146420 -0.042805 -0.084911  \n",
       "601 -0.636430 -0.594600 -0.129110  0.871410  0.839770  0.254930 -0.629690  \n",
       "603  0.211550  0.236070  0.170000 -0.491790 -0.505950 -0.376550  0.246070  \n",
       "605  0.578050  0.565230  0.059453 -0.634780 -0.557460 -0.149750  0.072113  \n",
       "607  0.459000  0.451740  0.068881 -0.390210 -0.322520 -0.120070 -0.025429  \n",
       "609  0.103560  0.094802  0.061402 -0.145960 -0.158240 -0.100620  0.083475  \n",
       "611 -0.145160 -0.137980  0.028355  0.142240  0.151170 -0.048026 -0.078342  \n",
       "529 -0.646450 -0.591480 -0.153390  0.880480  0.846850  0.248400 -0.638060  \n",
       "531  0.356330  0.333980  0.150610 -0.448690 -0.471340 -0.280420  0.187210  \n",
       "533  0.389120  0.379120  0.097377 -0.362870 -0.307140 -0.098870  0.066927  \n",
       "535  0.362160  0.343310  0.098996 -0.338940 -0.303490 -0.096399  0.088937  \n",
       "537  0.064738  0.062047  0.047893 -0.061542 -0.060981 -0.058192 -0.036754  \n",
       "539 -0.137450 -0.144100  0.030305  0.128640  0.136050 -0.043683 -0.091109  \n",
       "613 -0.654110 -0.609320 -0.154220  0.889080  0.871430  0.245840 -0.659030  \n",
       "615  0.629170  0.631670 -0.055833 -0.635000 -0.657500 -0.255830  0.383330  \n",
       "617  0.404130  0.393310  0.104540 -0.394560 -0.386950 -0.290010  0.095884  \n",
       "619  0.466160  0.465930  0.072424 -0.357620 -0.283690 -0.140070 -0.022726  \n",
       "621  0.086125  0.105970  0.033649 -0.098549 -0.102860 -0.074002  0.050075  \n",
       "623 -0.099324 -0.098770  0.036167  0.129260  0.132320 -0.036659 -0.065723  \n",
       "\n",
       "[24 rows x 240 columns]"
      ]
     },
     "execution_count": 189,
     "metadata": {},
     "output_type": "execute_result"
    }
   ],
   "source": [
    "#Dna ： etoposide，Gemcitabine\n",
    "#mt：paclitaxel，Vinblastine\n",
    "#hsp：17aag，auy922\n",
    "\n",
    "#prot：\"MG132\"，ps341\n",
    "#hdac：saha，apicidin\n",
    "\n",
    "frames4=[]\n",
    "for i in range(1,7):\n",
    "    frames4.append(df.loc[(df['drug_name'] =='MG132+PS341+'+str(i)) ])\n",
    "for j in range(1,7):\n",
    "    frames4.append(df.loc[(df['drug_name'] =='PS341+MG132+'+str(j)) ])\n",
    "for k in range(1,7):\n",
    "    frames4.append(df.loc[(df['drug_name'] =='MG132+MG132+'+str(k)) ])\n",
    "for m in range(1,7):\n",
    "    frames4.append(df.loc[(df['drug_name'] =='PS341+PS341+'+str(m)) ])\n",
    "PROT= pd.concat(frames4)\n",
    "PROT"
   ]
  },
  {
   "cell_type": "code",
   "execution_count": 190,
   "metadata": {},
   "outputs": [
    {
     "data": {
      "text/html": [
       "<div>\n",
       "<style scoped>\n",
       "    .dataframe tbody tr th:only-of-type {\n",
       "        vertical-align: middle;\n",
       "    }\n",
       "\n",
       "    .dataframe tbody tr th {\n",
       "        vertical-align: top;\n",
       "    }\n",
       "\n",
       "    .dataframe thead th {\n",
       "        text-align: right;\n",
       "    }\n",
       "</style>\n",
       "<table border=\"1\" class=\"dataframe\">\n",
       "  <thead>\n",
       "    <tr style=\"text-align: right;\">\n",
       "      <th></th>\n",
       "      <th>drug_name</th>\n",
       "      <th>default</th>\n",
       "      <th>ks1</th>\n",
       "      <th>ks2</th>\n",
       "      <th>ks3</th>\n",
       "      <th>ks4</th>\n",
       "      <th>ks5</th>\n",
       "      <th>ks6</th>\n",
       "      <th>ks7</th>\n",
       "      <th>ks8</th>\n",
       "      <th>...</th>\n",
       "      <th>ks229</th>\n",
       "      <th>ks230</th>\n",
       "      <th>ks231</th>\n",
       "      <th>ks232</th>\n",
       "      <th>ks233</th>\n",
       "      <th>ks234</th>\n",
       "      <th>ks235</th>\n",
       "      <th>ks236</th>\n",
       "      <th>ks237</th>\n",
       "      <th>ks238</th>\n",
       "    </tr>\n",
       "  </thead>\n",
       "  <tbody>\n",
       "    <tr>\n",
       "      <th>672</th>\n",
       "      <td>SAHA+Apicidin+1</td>\n",
       "      <td>0</td>\n",
       "      <td>-0.819170</td>\n",
       "      <td>-0.719220</td>\n",
       "      <td>-0.865900</td>\n",
       "      <td>-0.940780</td>\n",
       "      <td>-0.954210</td>\n",
       "      <td>-0.872760</td>\n",
       "      <td>-0.826870</td>\n",
       "      <td>-0.793480</td>\n",
       "      <td>...</td>\n",
       "      <td>-0.158290</td>\n",
       "      <td>0.122030</td>\n",
       "      <td>-0.127860</td>\n",
       "      <td>-0.152370</td>\n",
       "      <td>-0.135520</td>\n",
       "      <td>0.122030</td>\n",
       "      <td>-0.378410</td>\n",
       "      <td>-0.368750</td>\n",
       "      <td>-0.294340</td>\n",
       "      <td>0.209640</td>\n",
       "    </tr>\n",
       "    <tr>\n",
       "      <th>674</th>\n",
       "      <td>SAHA+Apicidin+2</td>\n",
       "      <td>0</td>\n",
       "      <td>-0.639170</td>\n",
       "      <td>0.557510</td>\n",
       "      <td>0.598390</td>\n",
       "      <td>0.115160</td>\n",
       "      <td>0.534800</td>\n",
       "      <td>0.599450</td>\n",
       "      <td>0.601010</td>\n",
       "      <td>0.581840</td>\n",
       "      <td>...</td>\n",
       "      <td>0.513520</td>\n",
       "      <td>0.170930</td>\n",
       "      <td>-0.087101</td>\n",
       "      <td>0.607680</td>\n",
       "      <td>0.600680</td>\n",
       "      <td>0.170930</td>\n",
       "      <td>-0.555800</td>\n",
       "      <td>-0.530110</td>\n",
       "      <td>-0.154950</td>\n",
       "      <td>0.224130</td>\n",
       "    </tr>\n",
       "    <tr>\n",
       "      <th>676</th>\n",
       "      <td>SAHA+Apicidin+3</td>\n",
       "      <td>0</td>\n",
       "      <td>-0.079362</td>\n",
       "      <td>0.363130</td>\n",
       "      <td>0.424230</td>\n",
       "      <td>0.152130</td>\n",
       "      <td>0.419280</td>\n",
       "      <td>0.422010</td>\n",
       "      <td>0.406750</td>\n",
       "      <td>0.391410</td>\n",
       "      <td>...</td>\n",
       "      <td>0.120260</td>\n",
       "      <td>0.042665</td>\n",
       "      <td>0.061202</td>\n",
       "      <td>0.140080</td>\n",
       "      <td>0.148740</td>\n",
       "      <td>0.042665</td>\n",
       "      <td>0.169720</td>\n",
       "      <td>0.157770</td>\n",
       "      <td>-0.055649</td>\n",
       "      <td>-0.077338</td>\n",
       "    </tr>\n",
       "    <tr>\n",
       "      <th>678</th>\n",
       "      <td>SAHA+Apicidin+4</td>\n",
       "      <td>0</td>\n",
       "      <td>0.042066</td>\n",
       "      <td>0.064977</td>\n",
       "      <td>0.082751</td>\n",
       "      <td>0.068676</td>\n",
       "      <td>0.072660</td>\n",
       "      <td>0.068002</td>\n",
       "      <td>0.085445</td>\n",
       "      <td>0.079475</td>\n",
       "      <td>...</td>\n",
       "      <td>-0.061610</td>\n",
       "      <td>-0.034680</td>\n",
       "      <td>0.037523</td>\n",
       "      <td>-0.073984</td>\n",
       "      <td>-0.065913</td>\n",
       "      <td>-0.034680</td>\n",
       "      <td>0.112630</td>\n",
       "      <td>0.110780</td>\n",
       "      <td>-0.037078</td>\n",
       "      <td>-0.056381</td>\n",
       "    </tr>\n",
       "    <tr>\n",
       "      <th>680</th>\n",
       "      <td>SAHA+Apicidin+5</td>\n",
       "      <td>0</td>\n",
       "      <td>0.045482</td>\n",
       "      <td>-0.121280</td>\n",
       "      <td>-0.086435</td>\n",
       "      <td>0.040694</td>\n",
       "      <td>-0.125620</td>\n",
       "      <td>-0.093616</td>\n",
       "      <td>-0.081189</td>\n",
       "      <td>-0.067276</td>\n",
       "      <td>...</td>\n",
       "      <td>-0.097808</td>\n",
       "      <td>0.044751</td>\n",
       "      <td>-0.036567</td>\n",
       "      <td>-0.098671</td>\n",
       "      <td>-0.096256</td>\n",
       "      <td>0.044751</td>\n",
       "      <td>-0.062315</td>\n",
       "      <td>-0.075092</td>\n",
       "      <td>-0.056719</td>\n",
       "      <td>-0.036545</td>\n",
       "    </tr>\n",
       "    <tr>\n",
       "      <th>682</th>\n",
       "      <td>SAHA+Apicidin+6</td>\n",
       "      <td>0</td>\n",
       "      <td>0.052281</td>\n",
       "      <td>-0.062670</td>\n",
       "      <td>-0.034032</td>\n",
       "      <td>-0.028311</td>\n",
       "      <td>-0.053935</td>\n",
       "      <td>-0.042351</td>\n",
       "      <td>0.017437</td>\n",
       "      <td>0.023533</td>\n",
       "      <td>...</td>\n",
       "      <td>-0.103150</td>\n",
       "      <td>0.029251</td>\n",
       "      <td>0.027240</td>\n",
       "      <td>-0.108380</td>\n",
       "      <td>-0.109020</td>\n",
       "      <td>0.029251</td>\n",
       "      <td>0.097031</td>\n",
       "      <td>0.095649</td>\n",
       "      <td>-0.028263</td>\n",
       "      <td>-0.083786</td>\n",
       "    </tr>\n",
       "    <tr>\n",
       "      <th>289</th>\n",
       "      <td>Apicidin+SAHA+1</td>\n",
       "      <td>0</td>\n",
       "      <td>-0.805000</td>\n",
       "      <td>-0.705380</td>\n",
       "      <td>-0.932300</td>\n",
       "      <td>-0.959650</td>\n",
       "      <td>-0.987230</td>\n",
       "      <td>-0.937750</td>\n",
       "      <td>-0.911380</td>\n",
       "      <td>-0.889150</td>\n",
       "      <td>...</td>\n",
       "      <td>-0.203840</td>\n",
       "      <td>0.081258</td>\n",
       "      <td>-0.142450</td>\n",
       "      <td>-0.197660</td>\n",
       "      <td>-0.196810</td>\n",
       "      <td>0.081258</td>\n",
       "      <td>-0.259610</td>\n",
       "      <td>-0.267610</td>\n",
       "      <td>-0.228320</td>\n",
       "      <td>0.171600</td>\n",
       "    </tr>\n",
       "    <tr>\n",
       "      <th>291</th>\n",
       "      <td>Apicidin+SAHA+2</td>\n",
       "      <td>0</td>\n",
       "      <td>-0.650830</td>\n",
       "      <td>0.636690</td>\n",
       "      <td>0.697760</td>\n",
       "      <td>0.173100</td>\n",
       "      <td>0.642820</td>\n",
       "      <td>0.703780</td>\n",
       "      <td>0.683010</td>\n",
       "      <td>0.645450</td>\n",
       "      <td>...</td>\n",
       "      <td>0.581390</td>\n",
       "      <td>0.183440</td>\n",
       "      <td>-0.155340</td>\n",
       "      <td>0.691520</td>\n",
       "      <td>0.675300</td>\n",
       "      <td>0.183440</td>\n",
       "      <td>-0.579620</td>\n",
       "      <td>-0.575490</td>\n",
       "      <td>-0.182310</td>\n",
       "      <td>0.294640</td>\n",
       "    </tr>\n",
       "    <tr>\n",
       "      <th>293</th>\n",
       "      <td>Apicidin+SAHA+3</td>\n",
       "      <td>0</td>\n",
       "      <td>0.050020</td>\n",
       "      <td>0.323170</td>\n",
       "      <td>0.443300</td>\n",
       "      <td>0.105150</td>\n",
       "      <td>0.444200</td>\n",
       "      <td>0.449360</td>\n",
       "      <td>0.430900</td>\n",
       "      <td>0.413740</td>\n",
       "      <td>...</td>\n",
       "      <td>0.041315</td>\n",
       "      <td>0.023062</td>\n",
       "      <td>0.048090</td>\n",
       "      <td>0.037481</td>\n",
       "      <td>0.034211</td>\n",
       "      <td>0.023062</td>\n",
       "      <td>0.199180</td>\n",
       "      <td>0.156040</td>\n",
       "      <td>-0.035293</td>\n",
       "      <td>-0.061665</td>\n",
       "    </tr>\n",
       "    <tr>\n",
       "      <th>295</th>\n",
       "      <td>Apicidin+SAHA+4</td>\n",
       "      <td>0</td>\n",
       "      <td>0.141710</td>\n",
       "      <td>-0.040410</td>\n",
       "      <td>0.108520</td>\n",
       "      <td>-0.032015</td>\n",
       "      <td>0.083251</td>\n",
       "      <td>0.105200</td>\n",
       "      <td>0.092807</td>\n",
       "      <td>0.085888</td>\n",
       "      <td>...</td>\n",
       "      <td>-0.155180</td>\n",
       "      <td>0.052958</td>\n",
       "      <td>-0.040014</td>\n",
       "      <td>-0.153580</td>\n",
       "      <td>-0.156740</td>\n",
       "      <td>0.052958</td>\n",
       "      <td>0.159050</td>\n",
       "      <td>0.119170</td>\n",
       "      <td>-0.061803</td>\n",
       "      <td>-0.039331</td>\n",
       "    </tr>\n",
       "    <tr>\n",
       "      <th>297</th>\n",
       "      <td>Apicidin+SAHA+5</td>\n",
       "      <td>0</td>\n",
       "      <td>0.123910</td>\n",
       "      <td>-0.078472</td>\n",
       "      <td>0.076635</td>\n",
       "      <td>-0.035787</td>\n",
       "      <td>0.033707</td>\n",
       "      <td>0.062920</td>\n",
       "      <td>0.077586</td>\n",
       "      <td>0.076516</td>\n",
       "      <td>...</td>\n",
       "      <td>-0.157020</td>\n",
       "      <td>0.047651</td>\n",
       "      <td>-0.048229</td>\n",
       "      <td>-0.150520</td>\n",
       "      <td>-0.154690</td>\n",
       "      <td>0.047651</td>\n",
       "      <td>0.133420</td>\n",
       "      <td>0.107470</td>\n",
       "      <td>-0.051899</td>\n",
       "      <td>-0.036275</td>\n",
       "    </tr>\n",
       "    <tr>\n",
       "      <th>299</th>\n",
       "      <td>Apicidin+SAHA+6</td>\n",
       "      <td>0</td>\n",
       "      <td>0.189250</td>\n",
       "      <td>-0.104780</td>\n",
       "      <td>0.043633</td>\n",
       "      <td>0.021472</td>\n",
       "      <td>-0.030832</td>\n",
       "      <td>0.031133</td>\n",
       "      <td>0.049691</td>\n",
       "      <td>0.053917</td>\n",
       "      <td>...</td>\n",
       "      <td>-0.182640</td>\n",
       "      <td>0.031323</td>\n",
       "      <td>-0.032265</td>\n",
       "      <td>-0.183220</td>\n",
       "      <td>-0.188680</td>\n",
       "      <td>0.031323</td>\n",
       "      <td>0.151100</td>\n",
       "      <td>0.124560</td>\n",
       "      <td>-0.036879</td>\n",
       "      <td>-0.060399</td>\n",
       "    </tr>\n",
       "    <tr>\n",
       "      <th>673</th>\n",
       "      <td>Apicidin+Apicidin+1</td>\n",
       "      <td>0</td>\n",
       "      <td>-0.781670</td>\n",
       "      <td>-0.755520</td>\n",
       "      <td>-0.972000</td>\n",
       "      <td>-0.986500</td>\n",
       "      <td>-0.997500</td>\n",
       "      <td>-0.961840</td>\n",
       "      <td>-0.939340</td>\n",
       "      <td>-0.921340</td>\n",
       "      <td>...</td>\n",
       "      <td>-0.270560</td>\n",
       "      <td>0.084436</td>\n",
       "      <td>0.112440</td>\n",
       "      <td>-0.245420</td>\n",
       "      <td>-0.243750</td>\n",
       "      <td>0.084436</td>\n",
       "      <td>-0.192600</td>\n",
       "      <td>-0.187440</td>\n",
       "      <td>-0.190410</td>\n",
       "      <td>-0.057446</td>\n",
       "    </tr>\n",
       "    <tr>\n",
       "      <th>675</th>\n",
       "      <td>Apicidin+Apicidin+2</td>\n",
       "      <td>0</td>\n",
       "      <td>-0.620000</td>\n",
       "      <td>0.633600</td>\n",
       "      <td>0.663650</td>\n",
       "      <td>0.157110</td>\n",
       "      <td>0.637890</td>\n",
       "      <td>0.661120</td>\n",
       "      <td>0.648740</td>\n",
       "      <td>0.621050</td>\n",
       "      <td>...</td>\n",
       "      <td>0.600990</td>\n",
       "      <td>0.125100</td>\n",
       "      <td>-0.135950</td>\n",
       "      <td>0.701670</td>\n",
       "      <td>0.695560</td>\n",
       "      <td>0.125100</td>\n",
       "      <td>-0.545730</td>\n",
       "      <td>-0.525900</td>\n",
       "      <td>-0.113990</td>\n",
       "      <td>0.274610</td>\n",
       "    </tr>\n",
       "    <tr>\n",
       "      <th>677</th>\n",
       "      <td>Apicidin+Apicidin+3</td>\n",
       "      <td>0</td>\n",
       "      <td>-0.102860</td>\n",
       "      <td>0.356880</td>\n",
       "      <td>0.410640</td>\n",
       "      <td>0.138420</td>\n",
       "      <td>0.405690</td>\n",
       "      <td>0.406500</td>\n",
       "      <td>0.385280</td>\n",
       "      <td>0.371240</td>\n",
       "      <td>...</td>\n",
       "      <td>0.148430</td>\n",
       "      <td>-0.035986</td>\n",
       "      <td>0.066418</td>\n",
       "      <td>0.155190</td>\n",
       "      <td>0.167760</td>\n",
       "      <td>-0.035986</td>\n",
       "      <td>0.152470</td>\n",
       "      <td>0.134030</td>\n",
       "      <td>0.034210</td>\n",
       "      <td>-0.075175</td>\n",
       "    </tr>\n",
       "    <tr>\n",
       "      <th>679</th>\n",
       "      <td>Apicidin+Apicidin+4</td>\n",
       "      <td>0</td>\n",
       "      <td>0.089211</td>\n",
       "      <td>0.071938</td>\n",
       "      <td>0.114040</td>\n",
       "      <td>0.053434</td>\n",
       "      <td>0.114270</td>\n",
       "      <td>0.110510</td>\n",
       "      <td>0.107040</td>\n",
       "      <td>0.106980</td>\n",
       "      <td>...</td>\n",
       "      <td>-0.102890</td>\n",
       "      <td>0.029339</td>\n",
       "      <td>0.052041</td>\n",
       "      <td>-0.099362</td>\n",
       "      <td>-0.097670</td>\n",
       "      <td>0.029339</td>\n",
       "      <td>0.149700</td>\n",
       "      <td>0.147750</td>\n",
       "      <td>-0.055161</td>\n",
       "      <td>-0.074297</td>\n",
       "    </tr>\n",
       "    <tr>\n",
       "      <th>681</th>\n",
       "      <td>Apicidin+Apicidin+5</td>\n",
       "      <td>0</td>\n",
       "      <td>0.051761</td>\n",
       "      <td>-0.091303</td>\n",
       "      <td>-0.026639</td>\n",
       "      <td>-0.031385</td>\n",
       "      <td>-0.036877</td>\n",
       "      <td>-0.027991</td>\n",
       "      <td>0.037166</td>\n",
       "      <td>0.039893</td>\n",
       "      <td>...</td>\n",
       "      <td>-0.122020</td>\n",
       "      <td>0.029522</td>\n",
       "      <td>-0.037169</td>\n",
       "      <td>-0.119630</td>\n",
       "      <td>-0.120680</td>\n",
       "      <td>0.029522</td>\n",
       "      <td>0.137050</td>\n",
       "      <td>0.125810</td>\n",
       "      <td>-0.033752</td>\n",
       "      <td>-0.077019</td>\n",
       "    </tr>\n",
       "    <tr>\n",
       "      <th>683</th>\n",
       "      <td>Apicidin+Apicidin+6</td>\n",
       "      <td>0</td>\n",
       "      <td>0.139410</td>\n",
       "      <td>-0.108400</td>\n",
       "      <td>-0.086694</td>\n",
       "      <td>0.042368</td>\n",
       "      <td>-0.111760</td>\n",
       "      <td>-0.108760</td>\n",
       "      <td>-0.069625</td>\n",
       "      <td>-0.055139</td>\n",
       "      <td>...</td>\n",
       "      <td>-0.153340</td>\n",
       "      <td>0.042060</td>\n",
       "      <td>0.031382</td>\n",
       "      <td>-0.154320</td>\n",
       "      <td>-0.161630</td>\n",
       "      <td>0.042060</td>\n",
       "      <td>0.130530</td>\n",
       "      <td>0.125020</td>\n",
       "      <td>-0.047549</td>\n",
       "      <td>-0.054140</td>\n",
       "    </tr>\n",
       "    <tr>\n",
       "      <th>288</th>\n",
       "      <td>SAHA+SAHA+1</td>\n",
       "      <td>0</td>\n",
       "      <td>-0.764170</td>\n",
       "      <td>-0.740900</td>\n",
       "      <td>-0.954870</td>\n",
       "      <td>-0.977370</td>\n",
       "      <td>-0.989740</td>\n",
       "      <td>-0.957440</td>\n",
       "      <td>-0.918400</td>\n",
       "      <td>-0.892630</td>\n",
       "      <td>...</td>\n",
       "      <td>-0.296220</td>\n",
       "      <td>0.132880</td>\n",
       "      <td>-0.099615</td>\n",
       "      <td>-0.270830</td>\n",
       "      <td>-0.266730</td>\n",
       "      <td>0.132880</td>\n",
       "      <td>-0.172180</td>\n",
       "      <td>-0.182880</td>\n",
       "      <td>-0.267880</td>\n",
       "      <td>0.132950</td>\n",
       "    </tr>\n",
       "    <tr>\n",
       "      <th>290</th>\n",
       "      <td>SAHA+SAHA+2</td>\n",
       "      <td>0</td>\n",
       "      <td>-0.650830</td>\n",
       "      <td>0.630790</td>\n",
       "      <td>0.676920</td>\n",
       "      <td>0.167740</td>\n",
       "      <td>0.599980</td>\n",
       "      <td>0.677670</td>\n",
       "      <td>0.658850</td>\n",
       "      <td>0.630060</td>\n",
       "      <td>...</td>\n",
       "      <td>0.538630</td>\n",
       "      <td>0.154080</td>\n",
       "      <td>-0.157860</td>\n",
       "      <td>0.643140</td>\n",
       "      <td>0.638610</td>\n",
       "      <td>0.154080</td>\n",
       "      <td>-0.524830</td>\n",
       "      <td>-0.520510</td>\n",
       "      <td>-0.183780</td>\n",
       "      <td>0.281670</td>\n",
       "    </tr>\n",
       "    <tr>\n",
       "      <th>292</th>\n",
       "      <td>SAHA+SAHA+3</td>\n",
       "      <td>0</td>\n",
       "      <td>-0.050000</td>\n",
       "      <td>0.361100</td>\n",
       "      <td>0.448260</td>\n",
       "      <td>0.162890</td>\n",
       "      <td>0.448480</td>\n",
       "      <td>0.446840</td>\n",
       "      <td>0.442590</td>\n",
       "      <td>0.420530</td>\n",
       "      <td>...</td>\n",
       "      <td>0.115710</td>\n",
       "      <td>0.047349</td>\n",
       "      <td>0.026096</td>\n",
       "      <td>0.127050</td>\n",
       "      <td>0.117700</td>\n",
       "      <td>0.047349</td>\n",
       "      <td>0.158250</td>\n",
       "      <td>0.101300</td>\n",
       "      <td>-0.058386</td>\n",
       "      <td>-0.035401</td>\n",
       "    </tr>\n",
       "    <tr>\n",
       "      <th>294</th>\n",
       "      <td>SAHA+SAHA+4</td>\n",
       "      <td>0</td>\n",
       "      <td>0.083482</td>\n",
       "      <td>0.102670</td>\n",
       "      <td>0.187060</td>\n",
       "      <td>0.068716</td>\n",
       "      <td>0.153600</td>\n",
       "      <td>0.179590</td>\n",
       "      <td>0.182010</td>\n",
       "      <td>0.171780</td>\n",
       "      <td>...</td>\n",
       "      <td>-0.091766</td>\n",
       "      <td>0.034585</td>\n",
       "      <td>-0.043996</td>\n",
       "      <td>-0.096631</td>\n",
       "      <td>-0.085410</td>\n",
       "      <td>0.034585</td>\n",
       "      <td>0.122200</td>\n",
       "      <td>0.102010</td>\n",
       "      <td>-0.051268</td>\n",
       "      <td>-0.048886</td>\n",
       "    </tr>\n",
       "    <tr>\n",
       "      <th>296</th>\n",
       "      <td>SAHA+SAHA+5</td>\n",
       "      <td>0</td>\n",
       "      <td>0.082080</td>\n",
       "      <td>-0.095090</td>\n",
       "      <td>0.045131</td>\n",
       "      <td>-0.038340</td>\n",
       "      <td>-0.036715</td>\n",
       "      <td>0.043464</td>\n",
       "      <td>0.051123</td>\n",
       "      <td>0.056143</td>\n",
       "      <td>...</td>\n",
       "      <td>-0.123530</td>\n",
       "      <td>0.058774</td>\n",
       "      <td>-0.068147</td>\n",
       "      <td>-0.110060</td>\n",
       "      <td>-0.114430</td>\n",
       "      <td>0.058774</td>\n",
       "      <td>0.075379</td>\n",
       "      <td>0.071095</td>\n",
       "      <td>-0.054242</td>\n",
       "      <td>0.039518</td>\n",
       "    </tr>\n",
       "    <tr>\n",
       "      <th>298</th>\n",
       "      <td>SAHA+SAHA+6</td>\n",
       "      <td>0</td>\n",
       "      <td>0.119230</td>\n",
       "      <td>-0.111520</td>\n",
       "      <td>-0.030594</td>\n",
       "      <td>-0.056651</td>\n",
       "      <td>-0.055880</td>\n",
       "      <td>-0.027947</td>\n",
       "      <td>0.038263</td>\n",
       "      <td>0.039357</td>\n",
       "      <td>...</td>\n",
       "      <td>-0.135570</td>\n",
       "      <td>0.036210</td>\n",
       "      <td>-0.046633</td>\n",
       "      <td>-0.139190</td>\n",
       "      <td>-0.153110</td>\n",
       "      <td>0.036210</td>\n",
       "      <td>0.079504</td>\n",
       "      <td>0.067747</td>\n",
       "      <td>-0.047180</td>\n",
       "      <td>0.037564</td>\n",
       "    </tr>\n",
       "  </tbody>\n",
       "</table>\n",
       "<p>24 rows × 240 columns</p>\n",
       "</div>"
      ],
      "text/plain": [
       "               drug_name  default       ks1       ks2       ks3       ks4  \\\n",
       "672      SAHA+Apicidin+1        0 -0.819170 -0.719220 -0.865900 -0.940780   \n",
       "674      SAHA+Apicidin+2        0 -0.639170  0.557510  0.598390  0.115160   \n",
       "676      SAHA+Apicidin+3        0 -0.079362  0.363130  0.424230  0.152130   \n",
       "678      SAHA+Apicidin+4        0  0.042066  0.064977  0.082751  0.068676   \n",
       "680      SAHA+Apicidin+5        0  0.045482 -0.121280 -0.086435  0.040694   \n",
       "682      SAHA+Apicidin+6        0  0.052281 -0.062670 -0.034032 -0.028311   \n",
       "289      Apicidin+SAHA+1        0 -0.805000 -0.705380 -0.932300 -0.959650   \n",
       "291      Apicidin+SAHA+2        0 -0.650830  0.636690  0.697760  0.173100   \n",
       "293      Apicidin+SAHA+3        0  0.050020  0.323170  0.443300  0.105150   \n",
       "295      Apicidin+SAHA+4        0  0.141710 -0.040410  0.108520 -0.032015   \n",
       "297      Apicidin+SAHA+5        0  0.123910 -0.078472  0.076635 -0.035787   \n",
       "299      Apicidin+SAHA+6        0  0.189250 -0.104780  0.043633  0.021472   \n",
       "673  Apicidin+Apicidin+1        0 -0.781670 -0.755520 -0.972000 -0.986500   \n",
       "675  Apicidin+Apicidin+2        0 -0.620000  0.633600  0.663650  0.157110   \n",
       "677  Apicidin+Apicidin+3        0 -0.102860  0.356880  0.410640  0.138420   \n",
       "679  Apicidin+Apicidin+4        0  0.089211  0.071938  0.114040  0.053434   \n",
       "681  Apicidin+Apicidin+5        0  0.051761 -0.091303 -0.026639 -0.031385   \n",
       "683  Apicidin+Apicidin+6        0  0.139410 -0.108400 -0.086694  0.042368   \n",
       "288          SAHA+SAHA+1        0 -0.764170 -0.740900 -0.954870 -0.977370   \n",
       "290          SAHA+SAHA+2        0 -0.650830  0.630790  0.676920  0.167740   \n",
       "292          SAHA+SAHA+3        0 -0.050000  0.361100  0.448260  0.162890   \n",
       "294          SAHA+SAHA+4        0  0.083482  0.102670  0.187060  0.068716   \n",
       "296          SAHA+SAHA+5        0  0.082080 -0.095090  0.045131 -0.038340   \n",
       "298          SAHA+SAHA+6        0  0.119230 -0.111520 -0.030594 -0.056651   \n",
       "\n",
       "          ks5       ks6       ks7       ks8  ...     ks229     ks230  \\\n",
       "672 -0.954210 -0.872760 -0.826870 -0.793480  ... -0.158290  0.122030   \n",
       "674  0.534800  0.599450  0.601010  0.581840  ...  0.513520  0.170930   \n",
       "676  0.419280  0.422010  0.406750  0.391410  ...  0.120260  0.042665   \n",
       "678  0.072660  0.068002  0.085445  0.079475  ... -0.061610 -0.034680   \n",
       "680 -0.125620 -0.093616 -0.081189 -0.067276  ... -0.097808  0.044751   \n",
       "682 -0.053935 -0.042351  0.017437  0.023533  ... -0.103150  0.029251   \n",
       "289 -0.987230 -0.937750 -0.911380 -0.889150  ... -0.203840  0.081258   \n",
       "291  0.642820  0.703780  0.683010  0.645450  ...  0.581390  0.183440   \n",
       "293  0.444200  0.449360  0.430900  0.413740  ...  0.041315  0.023062   \n",
       "295  0.083251  0.105200  0.092807  0.085888  ... -0.155180  0.052958   \n",
       "297  0.033707  0.062920  0.077586  0.076516  ... -0.157020  0.047651   \n",
       "299 -0.030832  0.031133  0.049691  0.053917  ... -0.182640  0.031323   \n",
       "673 -0.997500 -0.961840 -0.939340 -0.921340  ... -0.270560  0.084436   \n",
       "675  0.637890  0.661120  0.648740  0.621050  ...  0.600990  0.125100   \n",
       "677  0.405690  0.406500  0.385280  0.371240  ...  0.148430 -0.035986   \n",
       "679  0.114270  0.110510  0.107040  0.106980  ... -0.102890  0.029339   \n",
       "681 -0.036877 -0.027991  0.037166  0.039893  ... -0.122020  0.029522   \n",
       "683 -0.111760 -0.108760 -0.069625 -0.055139  ... -0.153340  0.042060   \n",
       "288 -0.989740 -0.957440 -0.918400 -0.892630  ... -0.296220  0.132880   \n",
       "290  0.599980  0.677670  0.658850  0.630060  ...  0.538630  0.154080   \n",
       "292  0.448480  0.446840  0.442590  0.420530  ...  0.115710  0.047349   \n",
       "294  0.153600  0.179590  0.182010  0.171780  ... -0.091766  0.034585   \n",
       "296 -0.036715  0.043464  0.051123  0.056143  ... -0.123530  0.058774   \n",
       "298 -0.055880 -0.027947  0.038263  0.039357  ... -0.135570  0.036210   \n",
       "\n",
       "        ks231     ks232     ks233     ks234     ks235     ks236     ks237  \\\n",
       "672 -0.127860 -0.152370 -0.135520  0.122030 -0.378410 -0.368750 -0.294340   \n",
       "674 -0.087101  0.607680  0.600680  0.170930 -0.555800 -0.530110 -0.154950   \n",
       "676  0.061202  0.140080  0.148740  0.042665  0.169720  0.157770 -0.055649   \n",
       "678  0.037523 -0.073984 -0.065913 -0.034680  0.112630  0.110780 -0.037078   \n",
       "680 -0.036567 -0.098671 -0.096256  0.044751 -0.062315 -0.075092 -0.056719   \n",
       "682  0.027240 -0.108380 -0.109020  0.029251  0.097031  0.095649 -0.028263   \n",
       "289 -0.142450 -0.197660 -0.196810  0.081258 -0.259610 -0.267610 -0.228320   \n",
       "291 -0.155340  0.691520  0.675300  0.183440 -0.579620 -0.575490 -0.182310   \n",
       "293  0.048090  0.037481  0.034211  0.023062  0.199180  0.156040 -0.035293   \n",
       "295 -0.040014 -0.153580 -0.156740  0.052958  0.159050  0.119170 -0.061803   \n",
       "297 -0.048229 -0.150520 -0.154690  0.047651  0.133420  0.107470 -0.051899   \n",
       "299 -0.032265 -0.183220 -0.188680  0.031323  0.151100  0.124560 -0.036879   \n",
       "673  0.112440 -0.245420 -0.243750  0.084436 -0.192600 -0.187440 -0.190410   \n",
       "675 -0.135950  0.701670  0.695560  0.125100 -0.545730 -0.525900 -0.113990   \n",
       "677  0.066418  0.155190  0.167760 -0.035986  0.152470  0.134030  0.034210   \n",
       "679  0.052041 -0.099362 -0.097670  0.029339  0.149700  0.147750 -0.055161   \n",
       "681 -0.037169 -0.119630 -0.120680  0.029522  0.137050  0.125810 -0.033752   \n",
       "683  0.031382 -0.154320 -0.161630  0.042060  0.130530  0.125020 -0.047549   \n",
       "288 -0.099615 -0.270830 -0.266730  0.132880 -0.172180 -0.182880 -0.267880   \n",
       "290 -0.157860  0.643140  0.638610  0.154080 -0.524830 -0.520510 -0.183780   \n",
       "292  0.026096  0.127050  0.117700  0.047349  0.158250  0.101300 -0.058386   \n",
       "294 -0.043996 -0.096631 -0.085410  0.034585  0.122200  0.102010 -0.051268   \n",
       "296 -0.068147 -0.110060 -0.114430  0.058774  0.075379  0.071095 -0.054242   \n",
       "298 -0.046633 -0.139190 -0.153110  0.036210  0.079504  0.067747 -0.047180   \n",
       "\n",
       "        ks238  \n",
       "672  0.209640  \n",
       "674  0.224130  \n",
       "676 -0.077338  \n",
       "678 -0.056381  \n",
       "680 -0.036545  \n",
       "682 -0.083786  \n",
       "289  0.171600  \n",
       "291  0.294640  \n",
       "293 -0.061665  \n",
       "295 -0.039331  \n",
       "297 -0.036275  \n",
       "299 -0.060399  \n",
       "673 -0.057446  \n",
       "675  0.274610  \n",
       "677 -0.075175  \n",
       "679 -0.074297  \n",
       "681 -0.077019  \n",
       "683 -0.054140  \n",
       "288  0.132950  \n",
       "290  0.281670  \n",
       "292 -0.035401  \n",
       "294 -0.048886  \n",
       "296  0.039518  \n",
       "298  0.037564  \n",
       "\n",
       "[24 rows x 240 columns]"
      ]
     },
     "execution_count": 190,
     "metadata": {},
     "output_type": "execute_result"
    }
   ],
   "source": [
    "#Dna ： etoposide，Gemcitabine\n",
    "#hsp：17aag，auy922\n",
    "#mt：paclitaxel，Vinblastine\n",
    "#prot：\"MG132\"，ps341\n",
    "#hdac：saha，apicidin\n",
    "\n",
    "frames5=[]\n",
    "for i in range(1,7):\n",
    "    frames5.append(df.loc[(df['drug_name'] =='SAHA+Apicidin+'+str(i)) ])\n",
    "for j in range(1,7):\n",
    "    frames5.append(df.loc[(df['drug_name'] =='Apicidin+SAHA+'+str(j)) ])\n",
    "for k in range(1,7):\n",
    "    frames5.append(df.loc[(df['drug_name'] =='Apicidin+Apicidin+'+str(k)) ])\n",
    "for m in range(1,7):\n",
    "    frames5.append(df.loc[(df['drug_name'] =='SAHA+SAHA+'+str(m)) ])\n",
    "HDAC= pd.concat(frames5)\n",
    "HDAC"
   ]
  },
  {
   "cell_type": "code",
   "execution_count": 191,
   "metadata": {},
   "outputs": [
    {
     "data": {
      "text/html": [
       "<div>\n",
       "<style scoped>\n",
       "    .dataframe tbody tr th:only-of-type {\n",
       "        vertical-align: middle;\n",
       "    }\n",
       "\n",
       "    .dataframe tbody tr th {\n",
       "        vertical-align: top;\n",
       "    }\n",
       "\n",
       "    .dataframe thead th {\n",
       "        text-align: right;\n",
       "    }\n",
       "</style>\n",
       "<table border=\"1\" class=\"dataframe\">\n",
       "  <thead>\n",
       "    <tr style=\"text-align: right;\">\n",
       "      <th></th>\n",
       "      <th>drug_name</th>\n",
       "      <th>default</th>\n",
       "      <th>ks1</th>\n",
       "      <th>ks2</th>\n",
       "      <th>ks3</th>\n",
       "      <th>ks4</th>\n",
       "      <th>ks5</th>\n",
       "      <th>ks6</th>\n",
       "      <th>ks7</th>\n",
       "      <th>ks8</th>\n",
       "      <th>...</th>\n",
       "      <th>ks229</th>\n",
       "      <th>ks230</th>\n",
       "      <th>ks231</th>\n",
       "      <th>ks232</th>\n",
       "      <th>ks233</th>\n",
       "      <th>ks234</th>\n",
       "      <th>ks235</th>\n",
       "      <th>ks236</th>\n",
       "      <th>ks237</th>\n",
       "      <th>ks238</th>\n",
       "    </tr>\n",
       "  </thead>\n",
       "  <tbody>\n",
       "    <tr>\n",
       "      <th>360</th>\n",
       "      <td>DMSO+DMSO+1</td>\n",
       "      <td>0</td>\n",
       "      <td>-0.050000</td>\n",
       "      <td>0.088765</td>\n",
       "      <td>0.045054</td>\n",
       "      <td>0.201330</td>\n",
       "      <td>0.026972</td>\n",
       "      <td>-0.033317</td>\n",
       "      <td>0.053878</td>\n",
       "      <td>0.056809</td>\n",
       "      <td>...</td>\n",
       "      <td>0.073015</td>\n",
       "      <td>-0.019309</td>\n",
       "      <td>0.030871</td>\n",
       "      <td>0.065105</td>\n",
       "      <td>0.076503</td>\n",
       "      <td>-0.019309</td>\n",
       "      <td>0.049460</td>\n",
       "      <td>0.032525</td>\n",
       "      <td>-0.019791</td>\n",
       "      <td>-0.024673</td>\n",
       "    </tr>\n",
       "    <tr>\n",
       "      <th>361</th>\n",
       "      <td>DMSO+DMSO+1</td>\n",
       "      <td>0</td>\n",
       "      <td>0.023127</td>\n",
       "      <td>0.040922</td>\n",
       "      <td>0.049528</td>\n",
       "      <td>0.045583</td>\n",
       "      <td>-0.032832</td>\n",
       "      <td>0.043931</td>\n",
       "      <td>0.052463</td>\n",
       "      <td>0.049926</td>\n",
       "      <td>...</td>\n",
       "      <td>-0.020531</td>\n",
       "      <td>0.029801</td>\n",
       "      <td>0.027684</td>\n",
       "      <td>-0.028997</td>\n",
       "      <td>-0.031652</td>\n",
       "      <td>0.029801</td>\n",
       "      <td>0.034698</td>\n",
       "      <td>-0.024115</td>\n",
       "      <td>-0.024941</td>\n",
       "      <td>0.032050</td>\n",
       "    </tr>\n",
       "    <tr>\n",
       "      <th>372</th>\n",
       "      <td>DMSO+DMSO+1</td>\n",
       "      <td>0</td>\n",
       "      <td>0.078791</td>\n",
       "      <td>-0.021792</td>\n",
       "      <td>0.078186</td>\n",
       "      <td>-0.032950</td>\n",
       "      <td>0.051335</td>\n",
       "      <td>0.068031</td>\n",
       "      <td>0.073938</td>\n",
       "      <td>0.074742</td>\n",
       "      <td>...</td>\n",
       "      <td>-0.054476</td>\n",
       "      <td>0.025819</td>\n",
       "      <td>-0.025981</td>\n",
       "      <td>-0.058746</td>\n",
       "      <td>-0.052670</td>\n",
       "      <td>0.025819</td>\n",
       "      <td>0.022109</td>\n",
       "      <td>0.023562</td>\n",
       "      <td>0.022743</td>\n",
       "      <td>0.036055</td>\n",
       "    </tr>\n",
       "    <tr>\n",
       "      <th>373</th>\n",
       "      <td>DMSO+DMSO+1</td>\n",
       "      <td>0</td>\n",
       "      <td>0.035676</td>\n",
       "      <td>0.034145</td>\n",
       "      <td>0.071192</td>\n",
       "      <td>-0.045774</td>\n",
       "      <td>0.073008</td>\n",
       "      <td>0.064923</td>\n",
       "      <td>0.063961</td>\n",
       "      <td>0.060696</td>\n",
       "      <td>...</td>\n",
       "      <td>-0.027888</td>\n",
       "      <td>0.044286</td>\n",
       "      <td>-0.032220</td>\n",
       "      <td>-0.024672</td>\n",
       "      <td>-0.020305</td>\n",
       "      <td>0.044286</td>\n",
       "      <td>-0.024643</td>\n",
       "      <td>-0.033614</td>\n",
       "      <td>-0.045529</td>\n",
       "      <td>0.038559</td>\n",
       "    </tr>\n",
       "    <tr>\n",
       "      <th>744</th>\n",
       "      <td>DMSO+DMSO+1</td>\n",
       "      <td>0</td>\n",
       "      <td>-0.065346</td>\n",
       "      <td>0.120600</td>\n",
       "      <td>0.065723</td>\n",
       "      <td>0.168690</td>\n",
       "      <td>0.065016</td>\n",
       "      <td>0.055943</td>\n",
       "      <td>0.069072</td>\n",
       "      <td>0.074230</td>\n",
       "      <td>...</td>\n",
       "      <td>0.070487</td>\n",
       "      <td>0.028538</td>\n",
       "      <td>0.048805</td>\n",
       "      <td>0.102360</td>\n",
       "      <td>0.092767</td>\n",
       "      <td>0.028538</td>\n",
       "      <td>0.079796</td>\n",
       "      <td>0.089245</td>\n",
       "      <td>-0.022264</td>\n",
       "      <td>-0.057642</td>\n",
       "    </tr>\n",
       "    <tr>\n",
       "      <th>745</th>\n",
       "      <td>DMSO+DMSO+1</td>\n",
       "      <td>0</td>\n",
       "      <td>0.034188</td>\n",
       "      <td>0.105910</td>\n",
       "      <td>0.118920</td>\n",
       "      <td>0.033165</td>\n",
       "      <td>0.071428</td>\n",
       "      <td>0.107180</td>\n",
       "      <td>0.122050</td>\n",
       "      <td>0.123380</td>\n",
       "      <td>...</td>\n",
       "      <td>0.014563</td>\n",
       "      <td>-0.035795</td>\n",
       "      <td>0.058603</td>\n",
       "      <td>-0.022444</td>\n",
       "      <td>0.019920</td>\n",
       "      <td>-0.035795</td>\n",
       "      <td>0.085619</td>\n",
       "      <td>0.107940</td>\n",
       "      <td>0.044619</td>\n",
       "      <td>-0.079987</td>\n",
       "    </tr>\n",
       "    <tr>\n",
       "      <th>756</th>\n",
       "      <td>DMSO+DMSO+1</td>\n",
       "      <td>0</td>\n",
       "      <td>-0.033766</td>\n",
       "      <td>-0.020477</td>\n",
       "      <td>0.046106</td>\n",
       "      <td>-0.057283</td>\n",
       "      <td>-0.044341</td>\n",
       "      <td>0.029567</td>\n",
       "      <td>0.049224</td>\n",
       "      <td>0.041678</td>\n",
       "      <td>...</td>\n",
       "      <td>-0.021369</td>\n",
       "      <td>0.039484</td>\n",
       "      <td>-0.029168</td>\n",
       "      <td>0.033300</td>\n",
       "      <td>0.026632</td>\n",
       "      <td>0.039484</td>\n",
       "      <td>-0.042528</td>\n",
       "      <td>0.037170</td>\n",
       "      <td>-0.029050</td>\n",
       "      <td>-0.025738</td>\n",
       "    </tr>\n",
       "    <tr>\n",
       "      <th>757</th>\n",
       "      <td>DMSO+DMSO+1</td>\n",
       "      <td>0</td>\n",
       "      <td>0.026336</td>\n",
       "      <td>0.038513</td>\n",
       "      <td>0.056108</td>\n",
       "      <td>-0.044023</td>\n",
       "      <td>0.067181</td>\n",
       "      <td>0.057687</td>\n",
       "      <td>0.053405</td>\n",
       "      <td>0.050467</td>\n",
       "      <td>...</td>\n",
       "      <td>0.030012</td>\n",
       "      <td>0.042153</td>\n",
       "      <td>0.027121</td>\n",
       "      <td>0.037831</td>\n",
       "      <td>0.033692</td>\n",
       "      <td>0.042153</td>\n",
       "      <td>0.016966</td>\n",
       "      <td>0.018987</td>\n",
       "      <td>-0.033313</td>\n",
       "      <td>0.019446</td>\n",
       "    </tr>\n",
       "    <tr>\n",
       "      <th>362</th>\n",
       "      <td>DMSO+DMSO+2</td>\n",
       "      <td>0</td>\n",
       "      <td>-0.025911</td>\n",
       "      <td>0.026684</td>\n",
       "      <td>0.027831</td>\n",
       "      <td>0.096734</td>\n",
       "      <td>-0.024139</td>\n",
       "      <td>-0.022119</td>\n",
       "      <td>0.029404</td>\n",
       "      <td>0.034490</td>\n",
       "      <td>...</td>\n",
       "      <td>-0.023076</td>\n",
       "      <td>0.036341</td>\n",
       "      <td>-0.017969</td>\n",
       "      <td>0.028027</td>\n",
       "      <td>0.026442</td>\n",
       "      <td>0.036341</td>\n",
       "      <td>-0.033035</td>\n",
       "      <td>-0.042006</td>\n",
       "      <td>-0.039963</td>\n",
       "      <td>0.039860</td>\n",
       "    </tr>\n",
       "    <tr>\n",
       "      <th>363</th>\n",
       "      <td>DMSO+DMSO+2</td>\n",
       "      <td>0</td>\n",
       "      <td>0.053535</td>\n",
       "      <td>-0.024524</td>\n",
       "      <td>0.028197</td>\n",
       "      <td>0.047200</td>\n",
       "      <td>0.024892</td>\n",
       "      <td>0.022016</td>\n",
       "      <td>0.028500</td>\n",
       "      <td>0.027122</td>\n",
       "      <td>...</td>\n",
       "      <td>-0.054432</td>\n",
       "      <td>0.024651</td>\n",
       "      <td>0.016312</td>\n",
       "      <td>-0.049795</td>\n",
       "      <td>-0.048810</td>\n",
       "      <td>0.024651</td>\n",
       "      <td>0.050319</td>\n",
       "      <td>0.041120</td>\n",
       "      <td>-0.023459</td>\n",
       "      <td>0.023026</td>\n",
       "    </tr>\n",
       "    <tr>\n",
       "      <th>374</th>\n",
       "      <td>DMSO+DMSO+2</td>\n",
       "      <td>0</td>\n",
       "      <td>0.036716</td>\n",
       "      <td>0.030891</td>\n",
       "      <td>0.040907</td>\n",
       "      <td>-0.074596</td>\n",
       "      <td>0.027648</td>\n",
       "      <td>0.044211</td>\n",
       "      <td>0.046768</td>\n",
       "      <td>0.043225</td>\n",
       "      <td>...</td>\n",
       "      <td>-0.025850</td>\n",
       "      <td>0.030865</td>\n",
       "      <td>-0.034278</td>\n",
       "      <td>-0.043146</td>\n",
       "      <td>-0.039800</td>\n",
       "      <td>0.030865</td>\n",
       "      <td>0.024325</td>\n",
       "      <td>-0.024779</td>\n",
       "      <td>-0.023890</td>\n",
       "      <td>0.037482</td>\n",
       "    </tr>\n",
       "    <tr>\n",
       "      <th>375</th>\n",
       "      <td>DMSO+DMSO+2</td>\n",
       "      <td>0</td>\n",
       "      <td>0.015952</td>\n",
       "      <td>-0.054167</td>\n",
       "      <td>-0.032143</td>\n",
       "      <td>-0.090357</td>\n",
       "      <td>-0.049167</td>\n",
       "      <td>0.030714</td>\n",
       "      <td>-0.037381</td>\n",
       "      <td>-0.037738</td>\n",
       "      <td>...</td>\n",
       "      <td>-0.037381</td>\n",
       "      <td>0.037738</td>\n",
       "      <td>-0.038810</td>\n",
       "      <td>-0.034524</td>\n",
       "      <td>-0.040357</td>\n",
       "      <td>0.037738</td>\n",
       "      <td>-0.050357</td>\n",
       "      <td>-0.054167</td>\n",
       "      <td>-0.022976</td>\n",
       "      <td>0.055595</td>\n",
       "    </tr>\n",
       "    <tr>\n",
       "      <th>746</th>\n",
       "      <td>DMSO+DMSO+2</td>\n",
       "      <td>0</td>\n",
       "      <td>-0.042973</td>\n",
       "      <td>-0.025315</td>\n",
       "      <td>-0.043370</td>\n",
       "      <td>-0.045655</td>\n",
       "      <td>-0.043962</td>\n",
       "      <td>-0.045246</td>\n",
       "      <td>-0.039431</td>\n",
       "      <td>-0.036261</td>\n",
       "      <td>...</td>\n",
       "      <td>0.026683</td>\n",
       "      <td>0.037920</td>\n",
       "      <td>0.036769</td>\n",
       "      <td>0.040266</td>\n",
       "      <td>0.048321</td>\n",
       "      <td>0.037920</td>\n",
       "      <td>-0.039052</td>\n",
       "      <td>-0.030262</td>\n",
       "      <td>-0.025753</td>\n",
       "      <td>-0.035774</td>\n",
       "    </tr>\n",
       "    <tr>\n",
       "      <th>747</th>\n",
       "      <td>DMSO+DMSO+2</td>\n",
       "      <td>0</td>\n",
       "      <td>0.062548</td>\n",
       "      <td>0.056347</td>\n",
       "      <td>0.076880</td>\n",
       "      <td>0.067773</td>\n",
       "      <td>0.044976</td>\n",
       "      <td>0.060457</td>\n",
       "      <td>0.075476</td>\n",
       "      <td>0.089092</td>\n",
       "      <td>...</td>\n",
       "      <td>-0.066627</td>\n",
       "      <td>0.044338</td>\n",
       "      <td>0.023715</td>\n",
       "      <td>-0.048778</td>\n",
       "      <td>-0.052758</td>\n",
       "      <td>0.044338</td>\n",
       "      <td>0.090006</td>\n",
       "      <td>0.096349</td>\n",
       "      <td>-0.042800</td>\n",
       "      <td>-0.027346</td>\n",
       "    </tr>\n",
       "    <tr>\n",
       "      <th>758</th>\n",
       "      <td>DMSO+DMSO+2</td>\n",
       "      <td>0</td>\n",
       "      <td>0.030810</td>\n",
       "      <td>-0.034466</td>\n",
       "      <td>-0.021589</td>\n",
       "      <td>0.019510</td>\n",
       "      <td>-0.033170</td>\n",
       "      <td>-0.025183</td>\n",
       "      <td>-0.027160</td>\n",
       "      <td>-0.021774</td>\n",
       "      <td>...</td>\n",
       "      <td>-0.019378</td>\n",
       "      <td>0.044501</td>\n",
       "      <td>-0.033774</td>\n",
       "      <td>0.030903</td>\n",
       "      <td>0.029337</td>\n",
       "      <td>0.044501</td>\n",
       "      <td>-0.044297</td>\n",
       "      <td>-0.056668</td>\n",
       "      <td>-0.043731</td>\n",
       "      <td>-0.015561</td>\n",
       "    </tr>\n",
       "    <tr>\n",
       "      <th>759</th>\n",
       "      <td>DMSO+DMSO+2</td>\n",
       "      <td>0</td>\n",
       "      <td>0.042815</td>\n",
       "      <td>-0.042039</td>\n",
       "      <td>-0.044535</td>\n",
       "      <td>-0.046190</td>\n",
       "      <td>-0.056454</td>\n",
       "      <td>-0.050317</td>\n",
       "      <td>-0.050165</td>\n",
       "      <td>-0.045306</td>\n",
       "      <td>...</td>\n",
       "      <td>-0.044328</td>\n",
       "      <td>0.030490</td>\n",
       "      <td>0.052215</td>\n",
       "      <td>-0.041642</td>\n",
       "      <td>-0.039719</td>\n",
       "      <td>0.030490</td>\n",
       "      <td>0.058096</td>\n",
       "      <td>0.063952</td>\n",
       "      <td>0.030987</td>\n",
       "      <td>-0.064793</td>\n",
       "    </tr>\n",
       "    <tr>\n",
       "      <th>364</th>\n",
       "      <td>DMSO+DMSO+3</td>\n",
       "      <td>0</td>\n",
       "      <td>0.082548</td>\n",
       "      <td>-0.038465</td>\n",
       "      <td>0.051054</td>\n",
       "      <td>0.029949</td>\n",
       "      <td>0.032434</td>\n",
       "      <td>0.040764</td>\n",
       "      <td>0.044486</td>\n",
       "      <td>0.047283</td>\n",
       "      <td>...</td>\n",
       "      <td>-0.071523</td>\n",
       "      <td>0.042239</td>\n",
       "      <td>-0.025738</td>\n",
       "      <td>-0.065756</td>\n",
       "      <td>-0.070617</td>\n",
       "      <td>0.042239</td>\n",
       "      <td>0.032320</td>\n",
       "      <td>0.016747</td>\n",
       "      <td>-0.040037</td>\n",
       "      <td>0.019435</td>\n",
       "    </tr>\n",
       "    <tr>\n",
       "      <th>365</th>\n",
       "      <td>DMSO+DMSO+3</td>\n",
       "      <td>0</td>\n",
       "      <td>-0.144430</td>\n",
       "      <td>-0.101920</td>\n",
       "      <td>-0.397750</td>\n",
       "      <td>0.295320</td>\n",
       "      <td>-0.449850</td>\n",
       "      <td>-0.442710</td>\n",
       "      <td>-0.349190</td>\n",
       "      <td>-0.312720</td>\n",
       "      <td>...</td>\n",
       "      <td>0.112660</td>\n",
       "      <td>0.035774</td>\n",
       "      <td>0.033340</td>\n",
       "      <td>0.136450</td>\n",
       "      <td>0.137350</td>\n",
       "      <td>0.035774</td>\n",
       "      <td>0.097567</td>\n",
       "      <td>0.053031</td>\n",
       "      <td>-0.078748</td>\n",
       "      <td>0.035767</td>\n",
       "    </tr>\n",
       "    <tr>\n",
       "      <th>376</th>\n",
       "      <td>DMSO+DMSO+3</td>\n",
       "      <td>0</td>\n",
       "      <td>0.021702</td>\n",
       "      <td>0.028221</td>\n",
       "      <td>0.090171</td>\n",
       "      <td>-0.068765</td>\n",
       "      <td>0.046430</td>\n",
       "      <td>0.092033</td>\n",
       "      <td>0.084078</td>\n",
       "      <td>0.079492</td>\n",
       "      <td>...</td>\n",
       "      <td>-0.042488</td>\n",
       "      <td>0.047069</td>\n",
       "      <td>-0.038706</td>\n",
       "      <td>-0.028050</td>\n",
       "      <td>-0.041519</td>\n",
       "      <td>0.047069</td>\n",
       "      <td>-0.030242</td>\n",
       "      <td>-0.038605</td>\n",
       "      <td>-0.035526</td>\n",
       "      <td>0.045857</td>\n",
       "    </tr>\n",
       "    <tr>\n",
       "      <th>377</th>\n",
       "      <td>DMSO+DMSO+3</td>\n",
       "      <td>0</td>\n",
       "      <td>0.020272</td>\n",
       "      <td>-0.037954</td>\n",
       "      <td>-0.029839</td>\n",
       "      <td>-0.082009</td>\n",
       "      <td>-0.056146</td>\n",
       "      <td>-0.026656</td>\n",
       "      <td>-0.030383</td>\n",
       "      <td>0.035602</td>\n",
       "      <td>...</td>\n",
       "      <td>-0.036809</td>\n",
       "      <td>0.041702</td>\n",
       "      <td>-0.023249</td>\n",
       "      <td>-0.033567</td>\n",
       "      <td>-0.032191</td>\n",
       "      <td>0.041702</td>\n",
       "      <td>-0.041356</td>\n",
       "      <td>-0.043018</td>\n",
       "      <td>-0.030120</td>\n",
       "      <td>0.037743</td>\n",
       "    </tr>\n",
       "    <tr>\n",
       "      <th>748</th>\n",
       "      <td>DMSO+DMSO+3</td>\n",
       "      <td>0</td>\n",
       "      <td>-0.054279</td>\n",
       "      <td>0.028470</td>\n",
       "      <td>-0.031194</td>\n",
       "      <td>-0.022164</td>\n",
       "      <td>-0.020311</td>\n",
       "      <td>-0.044216</td>\n",
       "      <td>-0.034192</td>\n",
       "      <td>0.022761</td>\n",
       "      <td>...</td>\n",
       "      <td>0.043993</td>\n",
       "      <td>0.043358</td>\n",
       "      <td>0.038595</td>\n",
       "      <td>0.061132</td>\n",
       "      <td>0.065920</td>\n",
       "      <td>0.043358</td>\n",
       "      <td>-0.033271</td>\n",
       "      <td>0.049876</td>\n",
       "      <td>-0.026132</td>\n",
       "      <td>-0.046803</td>\n",
       "    </tr>\n",
       "    <tr>\n",
       "      <th>749</th>\n",
       "      <td>DMSO+DMSO+3</td>\n",
       "      <td>0</td>\n",
       "      <td>0.069111</td>\n",
       "      <td>0.015944</td>\n",
       "      <td>0.042643</td>\n",
       "      <td>-0.023433</td>\n",
       "      <td>0.033328</td>\n",
       "      <td>0.041286</td>\n",
       "      <td>0.044542</td>\n",
       "      <td>0.045828</td>\n",
       "      <td>...</td>\n",
       "      <td>-0.050304</td>\n",
       "      <td>-0.028604</td>\n",
       "      <td>0.047958</td>\n",
       "      <td>-0.049376</td>\n",
       "      <td>-0.043637</td>\n",
       "      <td>-0.028604</td>\n",
       "      <td>0.052467</td>\n",
       "      <td>0.068201</td>\n",
       "      <td>-0.026242</td>\n",
       "      <td>-0.054724</td>\n",
       "    </tr>\n",
       "    <tr>\n",
       "      <th>760</th>\n",
       "      <td>DMSO+DMSO+3</td>\n",
       "      <td>0</td>\n",
       "      <td>0.028384</td>\n",
       "      <td>-0.024146</td>\n",
       "      <td>-0.027435</td>\n",
       "      <td>-0.026338</td>\n",
       "      <td>-0.020557</td>\n",
       "      <td>-0.039997</td>\n",
       "      <td>-0.023228</td>\n",
       "      <td>-0.013823</td>\n",
       "      <td>...</td>\n",
       "      <td>0.027698</td>\n",
       "      <td>-0.033808</td>\n",
       "      <td>0.027038</td>\n",
       "      <td>0.034473</td>\n",
       "      <td>0.031015</td>\n",
       "      <td>-0.033808</td>\n",
       "      <td>0.032590</td>\n",
       "      <td>-0.039556</td>\n",
       "      <td>0.025735</td>\n",
       "      <td>-0.039253</td>\n",
       "    </tr>\n",
       "    <tr>\n",
       "      <th>761</th>\n",
       "      <td>DMSO+DMSO+3</td>\n",
       "      <td>0</td>\n",
       "      <td>-0.028609</td>\n",
       "      <td>0.022010</td>\n",
       "      <td>-0.046257</td>\n",
       "      <td>-0.088892</td>\n",
       "      <td>-0.023359</td>\n",
       "      <td>-0.041775</td>\n",
       "      <td>-0.046261</td>\n",
       "      <td>0.043421</td>\n",
       "      <td>...</td>\n",
       "      <td>0.022593</td>\n",
       "      <td>0.036137</td>\n",
       "      <td>0.031904</td>\n",
       "      <td>0.033483</td>\n",
       "      <td>0.042284</td>\n",
       "      <td>0.036137</td>\n",
       "      <td>-0.036795</td>\n",
       "      <td>0.034422</td>\n",
       "      <td>-0.037596</td>\n",
       "      <td>-0.032453</td>\n",
       "    </tr>\n",
       "    <tr>\n",
       "      <th>366</th>\n",
       "      <td>DMSO+DMSO+4</td>\n",
       "      <td>0</td>\n",
       "      <td>0.020750</td>\n",
       "      <td>-0.048989</td>\n",
       "      <td>0.065069</td>\n",
       "      <td>-0.028279</td>\n",
       "      <td>-0.063373</td>\n",
       "      <td>0.067002</td>\n",
       "      <td>0.070725</td>\n",
       "      <td>0.067298</td>\n",
       "      <td>...</td>\n",
       "      <td>-0.049739</td>\n",
       "      <td>0.042559</td>\n",
       "      <td>-0.041839</td>\n",
       "      <td>-0.027056</td>\n",
       "      <td>-0.035222</td>\n",
       "      <td>0.042559</td>\n",
       "      <td>-0.026706</td>\n",
       "      <td>-0.042870</td>\n",
       "      <td>-0.054029</td>\n",
       "      <td>0.051016</td>\n",
       "    </tr>\n",
       "    <tr>\n",
       "      <th>367</th>\n",
       "      <td>DMSO+DMSO+4</td>\n",
       "      <td>0</td>\n",
       "      <td>0.076425</td>\n",
       "      <td>0.018880</td>\n",
       "      <td>0.066227</td>\n",
       "      <td>-0.029380</td>\n",
       "      <td>0.031968</td>\n",
       "      <td>0.051694</td>\n",
       "      <td>0.070058</td>\n",
       "      <td>0.075226</td>\n",
       "      <td>...</td>\n",
       "      <td>-0.076364</td>\n",
       "      <td>0.033691</td>\n",
       "      <td>-0.019994</td>\n",
       "      <td>-0.066704</td>\n",
       "      <td>-0.069807</td>\n",
       "      <td>0.033691</td>\n",
       "      <td>0.055193</td>\n",
       "      <td>0.037587</td>\n",
       "      <td>-0.031125</td>\n",
       "      <td>0.021516</td>\n",
       "    </tr>\n",
       "    <tr>\n",
       "      <th>378</th>\n",
       "      <td>DMSO+DMSO+4</td>\n",
       "      <td>0</td>\n",
       "      <td>-0.032500</td>\n",
       "      <td>-0.041194</td>\n",
       "      <td>0.032750</td>\n",
       "      <td>-0.062640</td>\n",
       "      <td>0.039106</td>\n",
       "      <td>0.028318</td>\n",
       "      <td>-0.028059</td>\n",
       "      <td>-0.031392</td>\n",
       "      <td>...</td>\n",
       "      <td>-0.023147</td>\n",
       "      <td>0.060788</td>\n",
       "      <td>-0.040647</td>\n",
       "      <td>0.024728</td>\n",
       "      <td>0.016187</td>\n",
       "      <td>0.060788</td>\n",
       "      <td>-0.064481</td>\n",
       "      <td>-0.071944</td>\n",
       "      <td>-0.043532</td>\n",
       "      <td>0.057558</td>\n",
       "    </tr>\n",
       "    <tr>\n",
       "      <th>379</th>\n",
       "      <td>DMSO+DMSO+4</td>\n",
       "      <td>0</td>\n",
       "      <td>-0.036267</td>\n",
       "      <td>-0.047202</td>\n",
       "      <td>-0.053804</td>\n",
       "      <td>-0.076376</td>\n",
       "      <td>-0.075042</td>\n",
       "      <td>-0.044584</td>\n",
       "      <td>-0.049718</td>\n",
       "      <td>-0.048012</td>\n",
       "      <td>...</td>\n",
       "      <td>0.019161</td>\n",
       "      <td>0.049196</td>\n",
       "      <td>-0.035281</td>\n",
       "      <td>0.025549</td>\n",
       "      <td>0.026374</td>\n",
       "      <td>0.049196</td>\n",
       "      <td>-0.073487</td>\n",
       "      <td>-0.058332</td>\n",
       "      <td>-0.031458</td>\n",
       "      <td>0.038022</td>\n",
       "    </tr>\n",
       "    <tr>\n",
       "      <th>750</th>\n",
       "      <td>DMSO+DMSO+4</td>\n",
       "      <td>0</td>\n",
       "      <td>-0.026483</td>\n",
       "      <td>0.027493</td>\n",
       "      <td>-0.025319</td>\n",
       "      <td>0.032801</td>\n",
       "      <td>0.023422</td>\n",
       "      <td>-0.035139</td>\n",
       "      <td>-0.023017</td>\n",
       "      <td>0.019049</td>\n",
       "      <td>...</td>\n",
       "      <td>0.033309</td>\n",
       "      <td>0.034328</td>\n",
       "      <td>0.023545</td>\n",
       "      <td>0.052011</td>\n",
       "      <td>0.042657</td>\n",
       "      <td>0.034328</td>\n",
       "      <td>-0.030466</td>\n",
       "      <td>-0.033531</td>\n",
       "      <td>-0.018623</td>\n",
       "      <td>-0.021880</td>\n",
       "    </tr>\n",
       "    <tr>\n",
       "      <th>751</th>\n",
       "      <td>DMSO+DMSO+4</td>\n",
       "      <td>0</td>\n",
       "      <td>0.056415</td>\n",
       "      <td>0.045805</td>\n",
       "      <td>0.080453</td>\n",
       "      <td>0.032066</td>\n",
       "      <td>0.043492</td>\n",
       "      <td>0.055916</td>\n",
       "      <td>0.086165</td>\n",
       "      <td>0.090429</td>\n",
       "      <td>...</td>\n",
       "      <td>-0.045136</td>\n",
       "      <td>0.028447</td>\n",
       "      <td>0.038711</td>\n",
       "      <td>-0.039363</td>\n",
       "      <td>-0.046023</td>\n",
       "      <td>0.028447</td>\n",
       "      <td>0.072731</td>\n",
       "      <td>0.077764</td>\n",
       "      <td>-0.022738</td>\n",
       "      <td>-0.042047</td>\n",
       "    </tr>\n",
       "    <tr>\n",
       "      <th>762</th>\n",
       "      <td>DMSO+DMSO+4</td>\n",
       "      <td>0</td>\n",
       "      <td>-0.028609</td>\n",
       "      <td>0.033775</td>\n",
       "      <td>0.040972</td>\n",
       "      <td>-0.050117</td>\n",
       "      <td>0.032340</td>\n",
       "      <td>0.041030</td>\n",
       "      <td>0.039098</td>\n",
       "      <td>0.042614</td>\n",
       "      <td>...</td>\n",
       "      <td>-0.019088</td>\n",
       "      <td>0.040406</td>\n",
       "      <td>0.027690</td>\n",
       "      <td>0.027753</td>\n",
       "      <td>0.030379</td>\n",
       "      <td>0.040406</td>\n",
       "      <td>0.028692</td>\n",
       "      <td>0.043211</td>\n",
       "      <td>-0.027513</td>\n",
       "      <td>-0.034065</td>\n",
       "    </tr>\n",
       "    <tr>\n",
       "      <th>763</th>\n",
       "      <td>DMSO+DMSO+4</td>\n",
       "      <td>0</td>\n",
       "      <td>0.037693</td>\n",
       "      <td>-0.027580</td>\n",
       "      <td>-0.027702</td>\n",
       "      <td>-0.054280</td>\n",
       "      <td>-0.034034</td>\n",
       "      <td>-0.032629</td>\n",
       "      <td>-0.023407</td>\n",
       "      <td>-0.018429</td>\n",
       "      <td>...</td>\n",
       "      <td>-0.041278</td>\n",
       "      <td>0.039448</td>\n",
       "      <td>0.036973</td>\n",
       "      <td>-0.032340</td>\n",
       "      <td>-0.031594</td>\n",
       "      <td>0.039448</td>\n",
       "      <td>0.040046</td>\n",
       "      <td>0.052755</td>\n",
       "      <td>0.027390</td>\n",
       "      <td>-0.052352</td>\n",
       "    </tr>\n",
       "    <tr>\n",
       "      <th>368</th>\n",
       "      <td>DMSO+DMSO+5</td>\n",
       "      <td>0</td>\n",
       "      <td>0.045460</td>\n",
       "      <td>0.051983</td>\n",
       "      <td>0.110060</td>\n",
       "      <td>-0.036580</td>\n",
       "      <td>0.083190</td>\n",
       "      <td>0.109510</td>\n",
       "      <td>0.105660</td>\n",
       "      <td>0.105570</td>\n",
       "      <td>...</td>\n",
       "      <td>-0.027672</td>\n",
       "      <td>0.037615</td>\n",
       "      <td>0.021006</td>\n",
       "      <td>-0.033822</td>\n",
       "      <td>-0.035000</td>\n",
       "      <td>0.037615</td>\n",
       "      <td>0.025000</td>\n",
       "      <td>0.023132</td>\n",
       "      <td>-0.036379</td>\n",
       "      <td>0.031351</td>\n",
       "    </tr>\n",
       "    <tr>\n",
       "      <th>369</th>\n",
       "      <td>DMSO+DMSO+5</td>\n",
       "      <td>0</td>\n",
       "      <td>0.059001</td>\n",
       "      <td>-0.036537</td>\n",
       "      <td>0.073850</td>\n",
       "      <td>-0.061462</td>\n",
       "      <td>0.024383</td>\n",
       "      <td>0.079273</td>\n",
       "      <td>0.072773</td>\n",
       "      <td>0.069086</td>\n",
       "      <td>...</td>\n",
       "      <td>-0.058585</td>\n",
       "      <td>0.022555</td>\n",
       "      <td>-0.033203</td>\n",
       "      <td>-0.042241</td>\n",
       "      <td>-0.057107</td>\n",
       "      <td>0.022555</td>\n",
       "      <td>0.027466</td>\n",
       "      <td>-0.016811</td>\n",
       "      <td>-0.040342</td>\n",
       "      <td>0.033314</td>\n",
       "    </tr>\n",
       "    <tr>\n",
       "      <th>380</th>\n",
       "      <td>DMSO+DMSO+5</td>\n",
       "      <td>0</td>\n",
       "      <td>-0.016632</td>\n",
       "      <td>-0.056883</td>\n",
       "      <td>-0.038241</td>\n",
       "      <td>-0.049820</td>\n",
       "      <td>-0.034391</td>\n",
       "      <td>-0.031334</td>\n",
       "      <td>-0.041242</td>\n",
       "      <td>-0.043267</td>\n",
       "      <td>...</td>\n",
       "      <td>-0.047847</td>\n",
       "      <td>0.036737</td>\n",
       "      <td>-0.043074</td>\n",
       "      <td>-0.031277</td>\n",
       "      <td>-0.040819</td>\n",
       "      <td>0.036737</td>\n",
       "      <td>-0.043314</td>\n",
       "      <td>-0.053240</td>\n",
       "      <td>-0.036934</td>\n",
       "      <td>0.051070</td>\n",
       "    </tr>\n",
       "    <tr>\n",
       "      <th>381</th>\n",
       "      <td>DMSO+DMSO+5</td>\n",
       "      <td>0</td>\n",
       "      <td>-0.051240</td>\n",
       "      <td>-0.049365</td>\n",
       "      <td>0.048352</td>\n",
       "      <td>-0.074154</td>\n",
       "      <td>-0.038442</td>\n",
       "      <td>0.055800</td>\n",
       "      <td>0.044847</td>\n",
       "      <td>-0.041782</td>\n",
       "      <td>...</td>\n",
       "      <td>0.035729</td>\n",
       "      <td>0.031572</td>\n",
       "      <td>-0.045043</td>\n",
       "      <td>0.030397</td>\n",
       "      <td>0.026563</td>\n",
       "      <td>0.031572</td>\n",
       "      <td>-0.075066</td>\n",
       "      <td>-0.077302</td>\n",
       "      <td>-0.021560</td>\n",
       "      <td>0.054184</td>\n",
       "    </tr>\n",
       "    <tr>\n",
       "      <th>752</th>\n",
       "      <td>DMSO+DMSO+5</td>\n",
       "      <td>0</td>\n",
       "      <td>-0.033766</td>\n",
       "      <td>-0.044447</td>\n",
       "      <td>-0.039277</td>\n",
       "      <td>-0.032006</td>\n",
       "      <td>-0.046491</td>\n",
       "      <td>-0.039718</td>\n",
       "      <td>-0.040811</td>\n",
       "      <td>-0.032503</td>\n",
       "      <td>...</td>\n",
       "      <td>0.026096</td>\n",
       "      <td>0.047626</td>\n",
       "      <td>-0.035538</td>\n",
       "      <td>0.051305</td>\n",
       "      <td>0.051116</td>\n",
       "      <td>0.047626</td>\n",
       "      <td>-0.058724</td>\n",
       "      <td>-0.069231</td>\n",
       "      <td>-0.034795</td>\n",
       "      <td>-0.027756</td>\n",
       "    </tr>\n",
       "    <tr>\n",
       "      <th>753</th>\n",
       "      <td>DMSO+DMSO+5</td>\n",
       "      <td>0</td>\n",
       "      <td>0.035950</td>\n",
       "      <td>0.027403</td>\n",
       "      <td>0.038798</td>\n",
       "      <td>-0.049981</td>\n",
       "      <td>-0.019322</td>\n",
       "      <td>0.037422</td>\n",
       "      <td>0.039089</td>\n",
       "      <td>0.042984</td>\n",
       "      <td>...</td>\n",
       "      <td>-0.028372</td>\n",
       "      <td>-0.024225</td>\n",
       "      <td>0.031376</td>\n",
       "      <td>-0.028857</td>\n",
       "      <td>-0.022868</td>\n",
       "      <td>-0.024225</td>\n",
       "      <td>0.039671</td>\n",
       "      <td>0.061318</td>\n",
       "      <td>0.030601</td>\n",
       "      <td>-0.025950</td>\n",
       "    </tr>\n",
       "    <tr>\n",
       "      <th>764</th>\n",
       "      <td>DMSO+DMSO+5</td>\n",
       "      <td>0</td>\n",
       "      <td>-0.043862</td>\n",
       "      <td>-0.029911</td>\n",
       "      <td>-0.044284</td>\n",
       "      <td>-0.028284</td>\n",
       "      <td>-0.084616</td>\n",
       "      <td>-0.055947</td>\n",
       "      <td>-0.050323</td>\n",
       "      <td>-0.037829</td>\n",
       "      <td>...</td>\n",
       "      <td>0.020523</td>\n",
       "      <td>-0.025664</td>\n",
       "      <td>0.025295</td>\n",
       "      <td>0.044161</td>\n",
       "      <td>0.033478</td>\n",
       "      <td>-0.025664</td>\n",
       "      <td>-0.023576</td>\n",
       "      <td>-0.032045</td>\n",
       "      <td>0.024038</td>\n",
       "      <td>0.021119</td>\n",
       "    </tr>\n",
       "    <tr>\n",
       "      <th>765</th>\n",
       "      <td>DMSO+DMSO+5</td>\n",
       "      <td>0</td>\n",
       "      <td>0.033201</td>\n",
       "      <td>-0.050266</td>\n",
       "      <td>-0.026608</td>\n",
       "      <td>-0.081249</td>\n",
       "      <td>-0.063121</td>\n",
       "      <td>-0.027963</td>\n",
       "      <td>-0.020642</td>\n",
       "      <td>0.026160</td>\n",
       "      <td>...</td>\n",
       "      <td>-0.029753</td>\n",
       "      <td>0.033267</td>\n",
       "      <td>0.044786</td>\n",
       "      <td>0.028140</td>\n",
       "      <td>-0.025318</td>\n",
       "      <td>0.033267</td>\n",
       "      <td>-0.049073</td>\n",
       "      <td>-0.051091</td>\n",
       "      <td>-0.043315</td>\n",
       "      <td>0.020061</td>\n",
       "    </tr>\n",
       "    <tr>\n",
       "      <th>370</th>\n",
       "      <td>DMSO+DMSO+6</td>\n",
       "      <td>0</td>\n",
       "      <td>0.072135</td>\n",
       "      <td>0.055973</td>\n",
       "      <td>0.122970</td>\n",
       "      <td>-0.043977</td>\n",
       "      <td>0.097684</td>\n",
       "      <td>0.123110</td>\n",
       "      <td>0.113440</td>\n",
       "      <td>0.112360</td>\n",
       "      <td>...</td>\n",
       "      <td>-0.057246</td>\n",
       "      <td>0.021190</td>\n",
       "      <td>0.022163</td>\n",
       "      <td>-0.067341</td>\n",
       "      <td>-0.069312</td>\n",
       "      <td>0.021190</td>\n",
       "      <td>0.062695</td>\n",
       "      <td>0.053049</td>\n",
       "      <td>0.030970</td>\n",
       "      <td>-0.019994</td>\n",
       "    </tr>\n",
       "    <tr>\n",
       "      <th>371</th>\n",
       "      <td>DMSO+DMSO+6</td>\n",
       "      <td>0</td>\n",
       "      <td>0.069733</td>\n",
       "      <td>0.032678</td>\n",
       "      <td>0.099262</td>\n",
       "      <td>-0.048546</td>\n",
       "      <td>0.083506</td>\n",
       "      <td>0.096706</td>\n",
       "      <td>0.085829</td>\n",
       "      <td>0.081713</td>\n",
       "      <td>...</td>\n",
       "      <td>-0.052690</td>\n",
       "      <td>0.041094</td>\n",
       "      <td>-0.052296</td>\n",
       "      <td>-0.042032</td>\n",
       "      <td>-0.051583</td>\n",
       "      <td>0.041094</td>\n",
       "      <td>-0.028517</td>\n",
       "      <td>-0.032949</td>\n",
       "      <td>-0.037583</td>\n",
       "      <td>0.051173</td>\n",
       "    </tr>\n",
       "    <tr>\n",
       "      <th>382</th>\n",
       "      <td>DMSO+DMSO+6</td>\n",
       "      <td>0</td>\n",
       "      <td>-0.052500</td>\n",
       "      <td>-0.027284</td>\n",
       "      <td>-0.033449</td>\n",
       "      <td>-0.037950</td>\n",
       "      <td>-0.047513</td>\n",
       "      <td>0.033912</td>\n",
       "      <td>-0.027187</td>\n",
       "      <td>-0.030258</td>\n",
       "      <td>...</td>\n",
       "      <td>0.044101</td>\n",
       "      <td>0.033822</td>\n",
       "      <td>-0.039482</td>\n",
       "      <td>0.039642</td>\n",
       "      <td>0.033877</td>\n",
       "      <td>0.033822</td>\n",
       "      <td>-0.057308</td>\n",
       "      <td>-0.062674</td>\n",
       "      <td>-0.018630</td>\n",
       "      <td>0.040258</td>\n",
       "    </tr>\n",
       "    <tr>\n",
       "      <th>383</th>\n",
       "      <td>DMSO+DMSO+6</td>\n",
       "      <td>0</td>\n",
       "      <td>-0.054484</td>\n",
       "      <td>0.056548</td>\n",
       "      <td>0.056706</td>\n",
       "      <td>0.053135</td>\n",
       "      <td>0.022540</td>\n",
       "      <td>0.044246</td>\n",
       "      <td>0.046786</td>\n",
       "      <td>0.045873</td>\n",
       "      <td>...</td>\n",
       "      <td>0.034921</td>\n",
       "      <td>0.040714</td>\n",
       "      <td>-0.025635</td>\n",
       "      <td>0.053810</td>\n",
       "      <td>0.046548</td>\n",
       "      <td>0.040714</td>\n",
       "      <td>0.031270</td>\n",
       "      <td>0.034286</td>\n",
       "      <td>-0.026349</td>\n",
       "      <td>-0.024881</td>\n",
       "    </tr>\n",
       "    <tr>\n",
       "      <th>754</th>\n",
       "      <td>DMSO+DMSO+6</td>\n",
       "      <td>0</td>\n",
       "      <td>-0.032901</td>\n",
       "      <td>0.023610</td>\n",
       "      <td>-0.024707</td>\n",
       "      <td>-0.038758</td>\n",
       "      <td>-0.030139</td>\n",
       "      <td>-0.031500</td>\n",
       "      <td>-0.019386</td>\n",
       "      <td>0.029038</td>\n",
       "      <td>...</td>\n",
       "      <td>0.029591</td>\n",
       "      <td>-0.035263</td>\n",
       "      <td>0.039139</td>\n",
       "      <td>0.038929</td>\n",
       "      <td>0.049717</td>\n",
       "      <td>-0.035263</td>\n",
       "      <td>0.024070</td>\n",
       "      <td>0.033969</td>\n",
       "      <td>0.039007</td>\n",
       "      <td>-0.029900</td>\n",
       "    </tr>\n",
       "    <tr>\n",
       "      <th>755</th>\n",
       "      <td>DMSO+DMSO+6</td>\n",
       "      <td>0</td>\n",
       "      <td>0.040747</td>\n",
       "      <td>-0.040153</td>\n",
       "      <td>0.050000</td>\n",
       "      <td>0.023503</td>\n",
       "      <td>0.047512</td>\n",
       "      <td>0.050217</td>\n",
       "      <td>0.046320</td>\n",
       "      <td>0.042159</td>\n",
       "      <td>...</td>\n",
       "      <td>-0.037163</td>\n",
       "      <td>0.027777</td>\n",
       "      <td>-0.025349</td>\n",
       "      <td>-0.026051</td>\n",
       "      <td>-0.035638</td>\n",
       "      <td>0.027777</td>\n",
       "      <td>0.032834</td>\n",
       "      <td>0.049933</td>\n",
       "      <td>-0.028290</td>\n",
       "      <td>-0.025389</td>\n",
       "    </tr>\n",
       "    <tr>\n",
       "      <th>766</th>\n",
       "      <td>DMSO+DMSO+6</td>\n",
       "      <td>0</td>\n",
       "      <td>0.035169</td>\n",
       "      <td>0.038537</td>\n",
       "      <td>0.037045</td>\n",
       "      <td>0.062430</td>\n",
       "      <td>0.022459</td>\n",
       "      <td>0.042075</td>\n",
       "      <td>0.037348</td>\n",
       "      <td>0.031066</td>\n",
       "      <td>...</td>\n",
       "      <td>0.024476</td>\n",
       "      <td>-0.017844</td>\n",
       "      <td>0.048467</td>\n",
       "      <td>0.027821</td>\n",
       "      <td>0.037879</td>\n",
       "      <td>-0.017844</td>\n",
       "      <td>0.032547</td>\n",
       "      <td>0.040583</td>\n",
       "      <td>-0.021958</td>\n",
       "      <td>-0.037541</td>\n",
       "    </tr>\n",
       "    <tr>\n",
       "      <th>767</th>\n",
       "      <td>DMSO+DMSO+6</td>\n",
       "      <td>0</td>\n",
       "      <td>-0.069091</td>\n",
       "      <td>0.067601</td>\n",
       "      <td>0.036944</td>\n",
       "      <td>0.123810</td>\n",
       "      <td>-0.030884</td>\n",
       "      <td>-0.025960</td>\n",
       "      <td>0.038131</td>\n",
       "      <td>0.037096</td>\n",
       "      <td>...</td>\n",
       "      <td>0.060808</td>\n",
       "      <td>0.037045</td>\n",
       "      <td>0.031439</td>\n",
       "      <td>0.084520</td>\n",
       "      <td>0.080177</td>\n",
       "      <td>0.037045</td>\n",
       "      <td>0.029949</td>\n",
       "      <td>0.052727</td>\n",
       "      <td>-0.040000</td>\n",
       "      <td>-0.051263</td>\n",
       "    </tr>\n",
       "  </tbody>\n",
       "</table>\n",
       "<p>48 rows × 240 columns</p>\n",
       "</div>"
      ],
      "text/plain": [
       "       drug_name  default       ks1       ks2       ks3       ks4       ks5  \\\n",
       "360  DMSO+DMSO+1        0 -0.050000  0.088765  0.045054  0.201330  0.026972   \n",
       "361  DMSO+DMSO+1        0  0.023127  0.040922  0.049528  0.045583 -0.032832   \n",
       "372  DMSO+DMSO+1        0  0.078791 -0.021792  0.078186 -0.032950  0.051335   \n",
       "373  DMSO+DMSO+1        0  0.035676  0.034145  0.071192 -0.045774  0.073008   \n",
       "744  DMSO+DMSO+1        0 -0.065346  0.120600  0.065723  0.168690  0.065016   \n",
       "745  DMSO+DMSO+1        0  0.034188  0.105910  0.118920  0.033165  0.071428   \n",
       "756  DMSO+DMSO+1        0 -0.033766 -0.020477  0.046106 -0.057283 -0.044341   \n",
       "757  DMSO+DMSO+1        0  0.026336  0.038513  0.056108 -0.044023  0.067181   \n",
       "362  DMSO+DMSO+2        0 -0.025911  0.026684  0.027831  0.096734 -0.024139   \n",
       "363  DMSO+DMSO+2        0  0.053535 -0.024524  0.028197  0.047200  0.024892   \n",
       "374  DMSO+DMSO+2        0  0.036716  0.030891  0.040907 -0.074596  0.027648   \n",
       "375  DMSO+DMSO+2        0  0.015952 -0.054167 -0.032143 -0.090357 -0.049167   \n",
       "746  DMSO+DMSO+2        0 -0.042973 -0.025315 -0.043370 -0.045655 -0.043962   \n",
       "747  DMSO+DMSO+2        0  0.062548  0.056347  0.076880  0.067773  0.044976   \n",
       "758  DMSO+DMSO+2        0  0.030810 -0.034466 -0.021589  0.019510 -0.033170   \n",
       "759  DMSO+DMSO+2        0  0.042815 -0.042039 -0.044535 -0.046190 -0.056454   \n",
       "364  DMSO+DMSO+3        0  0.082548 -0.038465  0.051054  0.029949  0.032434   \n",
       "365  DMSO+DMSO+3        0 -0.144430 -0.101920 -0.397750  0.295320 -0.449850   \n",
       "376  DMSO+DMSO+3        0  0.021702  0.028221  0.090171 -0.068765  0.046430   \n",
       "377  DMSO+DMSO+3        0  0.020272 -0.037954 -0.029839 -0.082009 -0.056146   \n",
       "748  DMSO+DMSO+3        0 -0.054279  0.028470 -0.031194 -0.022164 -0.020311   \n",
       "749  DMSO+DMSO+3        0  0.069111  0.015944  0.042643 -0.023433  0.033328   \n",
       "760  DMSO+DMSO+3        0  0.028384 -0.024146 -0.027435 -0.026338 -0.020557   \n",
       "761  DMSO+DMSO+3        0 -0.028609  0.022010 -0.046257 -0.088892 -0.023359   \n",
       "366  DMSO+DMSO+4        0  0.020750 -0.048989  0.065069 -0.028279 -0.063373   \n",
       "367  DMSO+DMSO+4        0  0.076425  0.018880  0.066227 -0.029380  0.031968   \n",
       "378  DMSO+DMSO+4        0 -0.032500 -0.041194  0.032750 -0.062640  0.039106   \n",
       "379  DMSO+DMSO+4        0 -0.036267 -0.047202 -0.053804 -0.076376 -0.075042   \n",
       "750  DMSO+DMSO+4        0 -0.026483  0.027493 -0.025319  0.032801  0.023422   \n",
       "751  DMSO+DMSO+4        0  0.056415  0.045805  0.080453  0.032066  0.043492   \n",
       "762  DMSO+DMSO+4        0 -0.028609  0.033775  0.040972 -0.050117  0.032340   \n",
       "763  DMSO+DMSO+4        0  0.037693 -0.027580 -0.027702 -0.054280 -0.034034   \n",
       "368  DMSO+DMSO+5        0  0.045460  0.051983  0.110060 -0.036580  0.083190   \n",
       "369  DMSO+DMSO+5        0  0.059001 -0.036537  0.073850 -0.061462  0.024383   \n",
       "380  DMSO+DMSO+5        0 -0.016632 -0.056883 -0.038241 -0.049820 -0.034391   \n",
       "381  DMSO+DMSO+5        0 -0.051240 -0.049365  0.048352 -0.074154 -0.038442   \n",
       "752  DMSO+DMSO+5        0 -0.033766 -0.044447 -0.039277 -0.032006 -0.046491   \n",
       "753  DMSO+DMSO+5        0  0.035950  0.027403  0.038798 -0.049981 -0.019322   \n",
       "764  DMSO+DMSO+5        0 -0.043862 -0.029911 -0.044284 -0.028284 -0.084616   \n",
       "765  DMSO+DMSO+5        0  0.033201 -0.050266 -0.026608 -0.081249 -0.063121   \n",
       "370  DMSO+DMSO+6        0  0.072135  0.055973  0.122970 -0.043977  0.097684   \n",
       "371  DMSO+DMSO+6        0  0.069733  0.032678  0.099262 -0.048546  0.083506   \n",
       "382  DMSO+DMSO+6        0 -0.052500 -0.027284 -0.033449 -0.037950 -0.047513   \n",
       "383  DMSO+DMSO+6        0 -0.054484  0.056548  0.056706  0.053135  0.022540   \n",
       "754  DMSO+DMSO+6        0 -0.032901  0.023610 -0.024707 -0.038758 -0.030139   \n",
       "755  DMSO+DMSO+6        0  0.040747 -0.040153  0.050000  0.023503  0.047512   \n",
       "766  DMSO+DMSO+6        0  0.035169  0.038537  0.037045  0.062430  0.022459   \n",
       "767  DMSO+DMSO+6        0 -0.069091  0.067601  0.036944  0.123810 -0.030884   \n",
       "\n",
       "          ks6       ks7       ks8  ...     ks229     ks230     ks231  \\\n",
       "360 -0.033317  0.053878  0.056809  ...  0.073015 -0.019309  0.030871   \n",
       "361  0.043931  0.052463  0.049926  ... -0.020531  0.029801  0.027684   \n",
       "372  0.068031  0.073938  0.074742  ... -0.054476  0.025819 -0.025981   \n",
       "373  0.064923  0.063961  0.060696  ... -0.027888  0.044286 -0.032220   \n",
       "744  0.055943  0.069072  0.074230  ...  0.070487  0.028538  0.048805   \n",
       "745  0.107180  0.122050  0.123380  ...  0.014563 -0.035795  0.058603   \n",
       "756  0.029567  0.049224  0.041678  ... -0.021369  0.039484 -0.029168   \n",
       "757  0.057687  0.053405  0.050467  ...  0.030012  0.042153  0.027121   \n",
       "362 -0.022119  0.029404  0.034490  ... -0.023076  0.036341 -0.017969   \n",
       "363  0.022016  0.028500  0.027122  ... -0.054432  0.024651  0.016312   \n",
       "374  0.044211  0.046768  0.043225  ... -0.025850  0.030865 -0.034278   \n",
       "375  0.030714 -0.037381 -0.037738  ... -0.037381  0.037738 -0.038810   \n",
       "746 -0.045246 -0.039431 -0.036261  ...  0.026683  0.037920  0.036769   \n",
       "747  0.060457  0.075476  0.089092  ... -0.066627  0.044338  0.023715   \n",
       "758 -0.025183 -0.027160 -0.021774  ... -0.019378  0.044501 -0.033774   \n",
       "759 -0.050317 -0.050165 -0.045306  ... -0.044328  0.030490  0.052215   \n",
       "364  0.040764  0.044486  0.047283  ... -0.071523  0.042239 -0.025738   \n",
       "365 -0.442710 -0.349190 -0.312720  ...  0.112660  0.035774  0.033340   \n",
       "376  0.092033  0.084078  0.079492  ... -0.042488  0.047069 -0.038706   \n",
       "377 -0.026656 -0.030383  0.035602  ... -0.036809  0.041702 -0.023249   \n",
       "748 -0.044216 -0.034192  0.022761  ...  0.043993  0.043358  0.038595   \n",
       "749  0.041286  0.044542  0.045828  ... -0.050304 -0.028604  0.047958   \n",
       "760 -0.039997 -0.023228 -0.013823  ...  0.027698 -0.033808  0.027038   \n",
       "761 -0.041775 -0.046261  0.043421  ...  0.022593  0.036137  0.031904   \n",
       "366  0.067002  0.070725  0.067298  ... -0.049739  0.042559 -0.041839   \n",
       "367  0.051694  0.070058  0.075226  ... -0.076364  0.033691 -0.019994   \n",
       "378  0.028318 -0.028059 -0.031392  ... -0.023147  0.060788 -0.040647   \n",
       "379 -0.044584 -0.049718 -0.048012  ...  0.019161  0.049196 -0.035281   \n",
       "750 -0.035139 -0.023017  0.019049  ...  0.033309  0.034328  0.023545   \n",
       "751  0.055916  0.086165  0.090429  ... -0.045136  0.028447  0.038711   \n",
       "762  0.041030  0.039098  0.042614  ... -0.019088  0.040406  0.027690   \n",
       "763 -0.032629 -0.023407 -0.018429  ... -0.041278  0.039448  0.036973   \n",
       "368  0.109510  0.105660  0.105570  ... -0.027672  0.037615  0.021006   \n",
       "369  0.079273  0.072773  0.069086  ... -0.058585  0.022555 -0.033203   \n",
       "380 -0.031334 -0.041242 -0.043267  ... -0.047847  0.036737 -0.043074   \n",
       "381  0.055800  0.044847 -0.041782  ...  0.035729  0.031572 -0.045043   \n",
       "752 -0.039718 -0.040811 -0.032503  ...  0.026096  0.047626 -0.035538   \n",
       "753  0.037422  0.039089  0.042984  ... -0.028372 -0.024225  0.031376   \n",
       "764 -0.055947 -0.050323 -0.037829  ...  0.020523 -0.025664  0.025295   \n",
       "765 -0.027963 -0.020642  0.026160  ... -0.029753  0.033267  0.044786   \n",
       "370  0.123110  0.113440  0.112360  ... -0.057246  0.021190  0.022163   \n",
       "371  0.096706  0.085829  0.081713  ... -0.052690  0.041094 -0.052296   \n",
       "382  0.033912 -0.027187 -0.030258  ...  0.044101  0.033822 -0.039482   \n",
       "383  0.044246  0.046786  0.045873  ...  0.034921  0.040714 -0.025635   \n",
       "754 -0.031500 -0.019386  0.029038  ...  0.029591 -0.035263  0.039139   \n",
       "755  0.050217  0.046320  0.042159  ... -0.037163  0.027777 -0.025349   \n",
       "766  0.042075  0.037348  0.031066  ...  0.024476 -0.017844  0.048467   \n",
       "767 -0.025960  0.038131  0.037096  ...  0.060808  0.037045  0.031439   \n",
       "\n",
       "        ks232     ks233     ks234     ks235     ks236     ks237     ks238  \n",
       "360  0.065105  0.076503 -0.019309  0.049460  0.032525 -0.019791 -0.024673  \n",
       "361 -0.028997 -0.031652  0.029801  0.034698 -0.024115 -0.024941  0.032050  \n",
       "372 -0.058746 -0.052670  0.025819  0.022109  0.023562  0.022743  0.036055  \n",
       "373 -0.024672 -0.020305  0.044286 -0.024643 -0.033614 -0.045529  0.038559  \n",
       "744  0.102360  0.092767  0.028538  0.079796  0.089245 -0.022264 -0.057642  \n",
       "745 -0.022444  0.019920 -0.035795  0.085619  0.107940  0.044619 -0.079987  \n",
       "756  0.033300  0.026632  0.039484 -0.042528  0.037170 -0.029050 -0.025738  \n",
       "757  0.037831  0.033692  0.042153  0.016966  0.018987 -0.033313  0.019446  \n",
       "362  0.028027  0.026442  0.036341 -0.033035 -0.042006 -0.039963  0.039860  \n",
       "363 -0.049795 -0.048810  0.024651  0.050319  0.041120 -0.023459  0.023026  \n",
       "374 -0.043146 -0.039800  0.030865  0.024325 -0.024779 -0.023890  0.037482  \n",
       "375 -0.034524 -0.040357  0.037738 -0.050357 -0.054167 -0.022976  0.055595  \n",
       "746  0.040266  0.048321  0.037920 -0.039052 -0.030262 -0.025753 -0.035774  \n",
       "747 -0.048778 -0.052758  0.044338  0.090006  0.096349 -0.042800 -0.027346  \n",
       "758  0.030903  0.029337  0.044501 -0.044297 -0.056668 -0.043731 -0.015561  \n",
       "759 -0.041642 -0.039719  0.030490  0.058096  0.063952  0.030987 -0.064793  \n",
       "364 -0.065756 -0.070617  0.042239  0.032320  0.016747 -0.040037  0.019435  \n",
       "365  0.136450  0.137350  0.035774  0.097567  0.053031 -0.078748  0.035767  \n",
       "376 -0.028050 -0.041519  0.047069 -0.030242 -0.038605 -0.035526  0.045857  \n",
       "377 -0.033567 -0.032191  0.041702 -0.041356 -0.043018 -0.030120  0.037743  \n",
       "748  0.061132  0.065920  0.043358 -0.033271  0.049876 -0.026132 -0.046803  \n",
       "749 -0.049376 -0.043637 -0.028604  0.052467  0.068201 -0.026242 -0.054724  \n",
       "760  0.034473  0.031015 -0.033808  0.032590 -0.039556  0.025735 -0.039253  \n",
       "761  0.033483  0.042284  0.036137 -0.036795  0.034422 -0.037596 -0.032453  \n",
       "366 -0.027056 -0.035222  0.042559 -0.026706 -0.042870 -0.054029  0.051016  \n",
       "367 -0.066704 -0.069807  0.033691  0.055193  0.037587 -0.031125  0.021516  \n",
       "378  0.024728  0.016187  0.060788 -0.064481 -0.071944 -0.043532  0.057558  \n",
       "379  0.025549  0.026374  0.049196 -0.073487 -0.058332 -0.031458  0.038022  \n",
       "750  0.052011  0.042657  0.034328 -0.030466 -0.033531 -0.018623 -0.021880  \n",
       "751 -0.039363 -0.046023  0.028447  0.072731  0.077764 -0.022738 -0.042047  \n",
       "762  0.027753  0.030379  0.040406  0.028692  0.043211 -0.027513 -0.034065  \n",
       "763 -0.032340 -0.031594  0.039448  0.040046  0.052755  0.027390 -0.052352  \n",
       "368 -0.033822 -0.035000  0.037615  0.025000  0.023132 -0.036379  0.031351  \n",
       "369 -0.042241 -0.057107  0.022555  0.027466 -0.016811 -0.040342  0.033314  \n",
       "380 -0.031277 -0.040819  0.036737 -0.043314 -0.053240 -0.036934  0.051070  \n",
       "381  0.030397  0.026563  0.031572 -0.075066 -0.077302 -0.021560  0.054184  \n",
       "752  0.051305  0.051116  0.047626 -0.058724 -0.069231 -0.034795 -0.027756  \n",
       "753 -0.028857 -0.022868 -0.024225  0.039671  0.061318  0.030601 -0.025950  \n",
       "764  0.044161  0.033478 -0.025664 -0.023576 -0.032045  0.024038  0.021119  \n",
       "765  0.028140 -0.025318  0.033267 -0.049073 -0.051091 -0.043315  0.020061  \n",
       "370 -0.067341 -0.069312  0.021190  0.062695  0.053049  0.030970 -0.019994  \n",
       "371 -0.042032 -0.051583  0.041094 -0.028517 -0.032949 -0.037583  0.051173  \n",
       "382  0.039642  0.033877  0.033822 -0.057308 -0.062674 -0.018630  0.040258  \n",
       "383  0.053810  0.046548  0.040714  0.031270  0.034286 -0.026349 -0.024881  \n",
       "754  0.038929  0.049717 -0.035263  0.024070  0.033969  0.039007 -0.029900  \n",
       "755 -0.026051 -0.035638  0.027777  0.032834  0.049933 -0.028290 -0.025389  \n",
       "766  0.027821  0.037879 -0.017844  0.032547  0.040583 -0.021958 -0.037541  \n",
       "767  0.084520  0.080177  0.037045  0.029949  0.052727 -0.040000 -0.051263  \n",
       "\n",
       "[48 rows x 240 columns]"
      ]
     },
     "execution_count": 191,
     "metadata": {},
     "output_type": "execute_result"
    }
   ],
   "source": [
    "#Dna ： etoposide，Gemcitabine\n",
    "#hsp：17aag，auy922\n",
    "#mt：paclitaxel，Vinblastine\n",
    "#prot：\"MG132\"，ps341\n",
    "#hdac：saha，apicidin\n",
    "\n",
    "frames6=[]\n",
    "for i in range(1,7):\n",
    "    frames6.append(df.loc[(df['drug_name'] =='DMSO+DMSO+'+str(i)) ])\n",
    "\n",
    "DMSO= pd.concat(frames6)\n",
    "DMSO\n",
    "#len(DMSO)\n"
   ]
  },
  {
   "cell_type": "code",
   "execution_count": 192,
   "metadata": {},
   "outputs": [
    {
     "name": "stdout",
     "output_type": "stream",
     "text": [
      "                   drug_name  default       ks1       ks2       ks3       ks4  \\\n",
      "12   Etoposide+Gemcitabine+1        0 -0.749170 -0.669410 -0.927020 -0.965710   \n",
      "14   Etoposide+Gemcitabine+2        0 -0.913330 -0.459310 -0.413220 -0.696840   \n",
      "16   Etoposide+Gemcitabine+3        0 -0.690000  0.299020  0.126810  0.259950   \n",
      "18   Etoposide+Gemcitabine+4        0 -0.677500  0.258400  0.152130  0.207060   \n",
      "20   Etoposide+Gemcitabine+5        0 -0.060833 -0.167140 -0.198800  0.093564   \n",
      "..                       ...      ...       ...       ...       ...       ...   \n",
      "383              DMSO+DMSO+6        0 -0.054484  0.056548  0.056706  0.053135   \n",
      "754              DMSO+DMSO+6        0 -0.032901  0.023610 -0.024707 -0.038758   \n",
      "755              DMSO+DMSO+6        0  0.040747 -0.040153  0.050000  0.023503   \n",
      "766              DMSO+DMSO+6        0  0.035169  0.038537  0.037045  0.062430   \n",
      "767              DMSO+DMSO+6        0 -0.069091  0.067601  0.036944  0.123810   \n",
      "\n",
      "          ks5       ks6       ks7       ks8  ...     ks229     ks230  \\\n",
      "12  -0.987910 -0.922450 -0.889720 -0.870230  ... -0.337330  0.136410   \n",
      "14  -0.882330 -0.497390 -0.380400 -0.361150  ...  0.137990  0.272160   \n",
      "16   0.251080  0.149220  0.113770  0.086765  ...  0.551860  0.247790   \n",
      "18   0.146180  0.151390  0.143780  0.126430  ...  0.485480  0.231640   \n",
      "20  -0.258180 -0.186680 -0.175810 -0.170990  ... -0.052231  0.031219   \n",
      "..        ...       ...       ...       ...  ...       ...       ...   \n",
      "383  0.022540  0.044246  0.046786  0.045873  ...  0.034921  0.040714   \n",
      "754 -0.030139 -0.031500 -0.019386  0.029038  ...  0.029591 -0.035263   \n",
      "755  0.047512  0.050217  0.046320  0.042159  ... -0.037163  0.027777   \n",
      "766  0.022459  0.042075  0.037348  0.031066  ...  0.024476 -0.017844   \n",
      "767 -0.030884 -0.025960  0.038131  0.037096  ...  0.060808  0.037045   \n",
      "\n",
      "        ks231     ks232     ks233     ks234     ks235     ks236     ks237  \\\n",
      "12  -0.145360 -0.306520 -0.297390  0.136410  0.235710  0.167310 -0.203070   \n",
      "14  -0.289340  0.270370  0.205260  0.272160 -0.627590 -0.608650 -0.403970   \n",
      "16  -0.315200  0.722750  0.682450  0.247790 -0.531130 -0.569710 -0.181620   \n",
      "18  -0.226070  0.623180  0.595200  0.231640 -0.474370 -0.498440 -0.153010   \n",
      "20  -0.091645 -0.042901 -0.048864  0.031219 -0.108130 -0.122700 -0.088380   \n",
      "..        ...       ...       ...       ...       ...       ...       ...   \n",
      "383 -0.025635  0.053810  0.046548  0.040714  0.031270  0.034286 -0.026349   \n",
      "754  0.039139  0.038929  0.049717 -0.035263  0.024070  0.033969  0.039007   \n",
      "755 -0.025349 -0.026051 -0.035638  0.027777  0.032834  0.049933 -0.028290   \n",
      "766  0.048467  0.027821  0.037879 -0.017844  0.032547  0.040583 -0.021958   \n",
      "767  0.031439  0.084520  0.080177  0.037045  0.029949  0.052727 -0.040000   \n",
      "\n",
      "        ks238  \n",
      "12   0.135950  \n",
      "14   0.399480  \n",
      "16   0.395390  \n",
      "18   0.282530  \n",
      "20   0.100400  \n",
      "..        ...  \n",
      "383 -0.024881  \n",
      "754 -0.029900  \n",
      "755 -0.025389  \n",
      "766 -0.037541  \n",
      "767 -0.051263  \n",
      "\n",
      "[168 rows x 240 columns]\n",
      "168\n"
     ]
    }
   ],
   "source": [
    "combi=frames+frames2+frames3+frames4+frames5+frames6\n",
    "training= pd.concat(combi)\n",
    "print(training)\n",
    "print(len(training))\n",
    "\n"
   ]
  },
  {
   "cell_type": "code",
   "execution_count": 193,
   "metadata": {},
   "outputs": [
    {
     "name": "stdout",
     "output_type": "stream",
     "text": [
      "237\n",
      "4\n"
     ]
    }
   ],
   "source": [
    "#lda model\n",
    "#just sample\n",
    "#Dna ： etoposide，Gemcitabine\n",
    "#mt：paclitaxel，Vinblastine\n",
    "#hsp：17aag，auy922\n",
    "\n",
    "#prot：\"MG132\"，ps341\n",
    "#hdac：saha，apicidin\n",
    "from sklearn.datasets import make_classification\n",
    "from sklearn.discriminant_analysis import LinearDiscriminantAnalysis\n",
    "\n",
    "X_drug=training.iloc[:, 3:240].values\n",
    "\n",
    "y=[]\n",
    "for i in range(24):\n",
    "    y.append('DNA')\n",
    "for j in range(24):\n",
    "    y.append('MT')\n",
    "for k in range(24):\n",
    "    y.append('HSP')\n",
    "for m in range(24):\n",
    "    y.append('PROT')\n",
    "for n in range(24):\n",
    "    y.append('HDAC')\n",
    "for k in range(48):\n",
    "    y.append('DMSO')\n",
    "print(len(X_drug[0]))\n",
    "model = LinearDiscriminantAnalysis(n_components=4)\n",
    "#model.fit(X_drug, y)\n",
    "#X_drug2 = model.transform(X_drug)\n",
    "#reduce dimension for the data\n",
    "X_drug2=model.fit(X_drug,y).transform(X_drug)\n",
    "X_drug2\n",
    "print(len(X_drug2[0]))\n",
    "\n"
   ]
  },
  {
   "cell_type": "code",
   "execution_count": 194,
   "metadata": {},
   "outputs": [
    {
     "name": "stdout",
     "output_type": "stream",
     "text": [
      "168\n",
      "[-11.66517297  -0.03949836   0.176347    -0.76999122]\n"
     ]
    }
   ],
   "source": [
    "print(len(X_drug2))\n",
    "print(X_drug2[-1])"
   ]
  },
  {
   "cell_type": "code",
   "execution_count": 195,
   "metadata": {},
   "outputs": [],
   "source": [
    "#wipe out those whose concentration is not valid\n",
    "def get_centroid(point_lst):\n",
    "    x_sum=0\n",
    "    y_sum=0\n",
    "    z1_sum=0\n",
    "    z2_sum=0\n",
    "    z3_sum=0\n",
    "    z4_sum=0\n",
    "\n",
    "\n",
    "    for i in range(len(point_lst)):\n",
    "        x_sum+=point_lst[i][0]\n",
    "        y_sum+=point_lst[i][1]\n",
    "        z1_sum+=point_lst[i][2]\n",
    "        z2_sum+=point_lst[i][3]\n",
    "        #z3_sum+=point_lst[i][4]\n",
    "        #z4_sum+=point_lst[i][5]\n",
    "\n",
    "\n",
    "    x_mean=x_sum/len(point_lst)\n",
    "    y_mean=y_sum/len(point_lst)\n",
    "    z1_mean=z1_sum/len(point_lst)\n",
    "    z2_mean=z2_sum/len(point_lst)\n",
    "    #z3_mean=z3_sum/len(point_lst)\n",
    "    #z4_mean=z4_sum/len(point_lst)\n",
    "    centroid=[]\n",
    "    centroid.append(x_mean)\n",
    "    centroid.append(y_mean)\n",
    "    centroid.append(z1_mean)\n",
    "    centroid.append(z2_mean)\n",
    "    #centroid.append(z3_mean)\n",
    "    #centroid.append(z4_mean)\n",
    "    #centroid.append(point_lst[0][-1])\n",
    "    return centroid\n",
    "\n"
   ]
  },
  {
   "cell_type": "code",
   "execution_count": 196,
   "metadata": {},
   "outputs": [
    {
     "data": {
      "text/html": [
       "<div>\n",
       "<style scoped>\n",
       "    .dataframe tbody tr th:only-of-type {\n",
       "        vertical-align: middle;\n",
       "    }\n",
       "\n",
       "    .dataframe tbody tr th {\n",
       "        vertical-align: top;\n",
       "    }\n",
       "\n",
       "    .dataframe thead th {\n",
       "        text-align: right;\n",
       "    }\n",
       "</style>\n",
       "<table border=\"1\" class=\"dataframe\">\n",
       "  <thead>\n",
       "    <tr style=\"text-align: right;\">\n",
       "      <th></th>\n",
       "      <th>principal component 1</th>\n",
       "      <th>principal component 2</th>\n",
       "      <th>principal component 3</th>\n",
       "      <th>principal component 4</th>\n",
       "    </tr>\n",
       "  </thead>\n",
       "  <tbody>\n",
       "    <tr>\n",
       "      <th>0</th>\n",
       "      <td>5.458710</td>\n",
       "      <td>-3.010897</td>\n",
       "      <td>-2.844358</td>\n",
       "      <td>6.381750</td>\n",
       "    </tr>\n",
       "    <tr>\n",
       "      <th>1</th>\n",
       "      <td>5.674542</td>\n",
       "      <td>-2.580582</td>\n",
       "      <td>-3.685344</td>\n",
       "      <td>6.061704</td>\n",
       "    </tr>\n",
       "    <tr>\n",
       "      <th>2</th>\n",
       "      <td>4.980717</td>\n",
       "      <td>-3.047598</td>\n",
       "      <td>-3.191974</td>\n",
       "      <td>6.613889</td>\n",
       "    </tr>\n",
       "    <tr>\n",
       "      <th>3</th>\n",
       "      <td>5.546080</td>\n",
       "      <td>-2.786623</td>\n",
       "      <td>-3.114503</td>\n",
       "      <td>6.429688</td>\n",
       "    </tr>\n",
       "    <tr>\n",
       "      <th>4</th>\n",
       "      <td>3.832139</td>\n",
       "      <td>-2.785175</td>\n",
       "      <td>-3.578390</td>\n",
       "      <td>5.211350</td>\n",
       "    </tr>\n",
       "    <tr>\n",
       "      <th>...</th>\n",
       "      <td>...</td>\n",
       "      <td>...</td>\n",
       "      <td>...</td>\n",
       "      <td>...</td>\n",
       "    </tr>\n",
       "    <tr>\n",
       "      <th>163</th>\n",
       "      <td>-8.612544</td>\n",
       "      <td>-0.316407</td>\n",
       "      <td>-0.071905</td>\n",
       "      <td>-1.686388</td>\n",
       "    </tr>\n",
       "    <tr>\n",
       "      <th>164</th>\n",
       "      <td>-11.079353</td>\n",
       "      <td>1.018951</td>\n",
       "      <td>-0.986696</td>\n",
       "      <td>-0.745355</td>\n",
       "    </tr>\n",
       "    <tr>\n",
       "      <th>165</th>\n",
       "      <td>-11.043056</td>\n",
       "      <td>-0.237225</td>\n",
       "      <td>-1.725754</td>\n",
       "      <td>-0.827417</td>\n",
       "    </tr>\n",
       "    <tr>\n",
       "      <th>166</th>\n",
       "      <td>-10.763662</td>\n",
       "      <td>-1.695279</td>\n",
       "      <td>0.307424</td>\n",
       "      <td>-1.846010</td>\n",
       "    </tr>\n",
       "    <tr>\n",
       "      <th>167</th>\n",
       "      <td>-11.665173</td>\n",
       "      <td>-0.039498</td>\n",
       "      <td>0.176347</td>\n",
       "      <td>-0.769991</td>\n",
       "    </tr>\n",
       "  </tbody>\n",
       "</table>\n",
       "<p>168 rows × 4 columns</p>\n",
       "</div>"
      ],
      "text/plain": [
       "     principal component 1  principal component 2  principal component 3  \\\n",
       "0                 5.458710              -3.010897              -2.844358   \n",
       "1                 5.674542              -2.580582              -3.685344   \n",
       "2                 4.980717              -3.047598              -3.191974   \n",
       "3                 5.546080              -2.786623              -3.114503   \n",
       "4                 3.832139              -2.785175              -3.578390   \n",
       "..                     ...                    ...                    ...   \n",
       "163              -8.612544              -0.316407              -0.071905   \n",
       "164             -11.079353               1.018951              -0.986696   \n",
       "165             -11.043056              -0.237225              -1.725754   \n",
       "166             -10.763662              -1.695279               0.307424   \n",
       "167             -11.665173              -0.039498               0.176347   \n",
       "\n",
       "     principal component 4  \n",
       "0                 6.381750  \n",
       "1                 6.061704  \n",
       "2                 6.613889  \n",
       "3                 6.429688  \n",
       "4                 5.211350  \n",
       "..                     ...  \n",
       "163              -1.686388  \n",
       "164              -0.745355  \n",
       "165              -0.827417  \n",
       "166              -1.846010  \n",
       "167              -0.769991  \n",
       "\n",
       "[168 rows x 4 columns]"
      ]
     },
     "execution_count": 196,
     "metadata": {},
     "output_type": "execute_result"
    }
   ],
   "source": [
    "#pca_drug = PCA(n_components=6)\n",
    "#components = pca_drug.fit_transform(X_drug)\n",
    "principalDf = pd.DataFrame(data = X_drug2\n",
    "             , columns =['principal component 1', 'principal component 2','principal component 3','principal component 4'])\n",
    "principalDf"
   ]
  },
  {
   "cell_type": "code",
   "execution_count": 197,
   "metadata": {},
   "outputs": [],
   "source": [
    "#predict\n",
    "#still sample but useful this block \n",
    "#model2 = LinearDiscriminantAnalysis(n_components=1)\n",
    "#model2.fit(X_drug2,y)\n",
    "#row=X_drug2\n",
    "#yhat = model2.predict(row)\n",
    "# summarize prediction\n",
    "#print('Predicted Class: %s' % yhat)\n",
    "\n"
   ]
  },
  {
   "cell_type": "code",
   "execution_count": 198,
   "metadata": {},
   "outputs": [
    {
     "name": "stdout",
     "output_type": "stream",
     "text": [
      "168\n"
     ]
    },
    {
     "data": {
      "text/plain": [
       "[array([-8.77390923,  0.79572352, -0.68825258,  0.80366804]),\n",
       " array([-11.0641967 ,  -1.79303831,  -2.20441442,  -0.75132398]),\n",
       " array([-1.01431362e+01,  1.12190383e-04, -1.39880711e+00, -1.76689690e-01]),\n",
       " array([-10.24719429,   1.86238778,  -1.16688337,  -0.66615587]),\n",
       " array([-8.30646705, -0.95749846, -0.88256995,  1.82502237]),\n",
       " array([-9.26683667, -2.15171148, -0.45293189, -0.86592221]),\n",
       " array([-9.37248081, -1.14688868,  0.26941872, -2.05672627])]"
      ]
     },
     "execution_count": 198,
     "metadata": {},
     "output_type": "execute_result"
    }
   ],
   "source": [
    "all_list=[]\n",
    "\n",
    "for i in range(len(X_drug2)):\n",
    "    all_list.append(X_drug2[i])\n",
    "print(len(all_list))\n",
    "all_list[120:127]"
   ]
  },
  {
   "cell_type": "code",
   "execution_count": 199,
   "metadata": {},
   "outputs": [
    {
     "name": "stdout",
     "output_type": "stream",
     "text": [
      "[-8.77390923  0.79572352 -0.68825258  0.80366804]\n",
      "[-11.28264665  -0.89122094  -0.44425103   1.5779437 ]\n",
      "[-9.56203128  0.02327983  0.07168416  0.27327523]\n",
      "[-11.37323109   0.38820901  -0.73977947   0.1621462 ]\n",
      "[-12.00910466   0.22537951  -0.50990613  -1.57833629]\n",
      "[-10.80895062  -0.78569403  -1.15821254   1.40879626]\n",
      "132\n",
      "36\n"
     ]
    }
   ],
   "source": [
    "X_training=[]\n",
    "X_testing=[]\n",
    "#X_training=all_list[6:24]+all_list[30:48]+all_list[54:72]+all_list[78:96]+all_list[102:120]+all_list[120]\n",
    "X_training=all_list[6:24]+all_list[30:48]+all_list[54:72]+all_list[78:96]+all_list[102:120]\n",
    "for i in range(120,168,8):\n",
    "    X_training+=all_list[i:i+7]\n",
    "\n",
    "X_testing=all_list[:6]+all_list[24:30]+all_list[48:54]+all_list[72:78]+all_list[96:102]\n",
    "for j in range(120,168,8):\n",
    "    X_testing.append(all_list[j])\n",
    "    print(all_list[j])\n",
    "\n",
    "#X_testing=all_list[:6]+all_list[24:30]+all_list[48:54]+all_list[72:78]+all_list[96:102]\n",
    "#X_testing.append()\n",
    "print(len(X_training))\n",
    "print(len(X_testing))\n",
    "y=[]\n",
    "for i in range(18):\n",
    "    y.append('DNA')\n",
    "for j in range(18):\n",
    "    y.append(\"MT\")\n",
    "for k in range(18):\n",
    "    y.append(\"HSP\")\n",
    "for m in range(18):\n",
    "    y.append(\"PROT\")\n",
    "for n in range(18):\n",
    "    y.append(\"HDAC\")\n",
    "for k in range(42):\n",
    "    y.append(\"DMSO\")\n"
   ]
  },
  {
   "cell_type": "code",
   "execution_count": 200,
   "metadata": {},
   "outputs": [
    {
     "name": "stdout",
     "output_type": "stream",
     "text": [
      "48\n",
      "[-10.369477297010029, -0.4387755962716618, -0.5988150269458361, 0.052833811895691314]\n"
     ]
    }
   ],
   "source": [
    "\n",
    "dmso_lst2=[]\n",
    "for i in range(48):\n",
    "    dmso_lst2.append(all_list[i+120])\n",
    "print(len(dmso_lst2))\n",
    "cen_dmso=get_centroid(dmso_lst2)\n",
    "print(cen_dmso)\n"
   ]
  },
  {
   "cell_type": "code",
   "execution_count": 201,
   "metadata": {},
   "outputs": [],
   "source": [
    "#calculating the distance\n",
    "from math import sqrt\n",
    "def euclidean_distance(row1, row2):\n",
    "    distance =0\n",
    "\t#print(len(row1)-1) this is to ensure that we calculate 6 points\n",
    "    for i in range(len(row1)-1):\n",
    "\n",
    "\t\n",
    "\n",
    "        distance += (row1[i] - row2[i])**2\n",
    "    return sqrt(distance)"
   ]
  },
  {
   "cell_type": "code",
   "execution_count": 202,
   "metadata": {},
   "outputs": [
    {
     "name": "stdout",
     "output_type": "stream",
     "text": [
      "48\n"
     ]
    },
    {
     "data": {
      "text/plain": [
       "5.802213527791475"
      ]
     },
     "execution_count": 202,
     "metadata": {},
     "output_type": "execute_result"
    }
   ],
   "source": [
    "dist_lst=[]\n",
    "for i in range(len(dmso_lst2)):\n",
    "    dist_lst.append(euclidean_distance(dmso_lst2[i],cen_dmso))\n",
    "dist_lst.sort()\n",
    "print(len(dist_lst))\n",
    "max_ave=sum(dist_lst[-5:-1])/len(dist_lst[-5:-1])\n",
    "max_ave\n",
    "max_ave*=2\n",
    "max_ave\n"
   ]
  },
  {
   "cell_type": "code",
   "execution_count": 203,
   "metadata": {},
   "outputs": [
    {
     "name": "stdout",
     "output_type": "stream",
     "text": [
      "11.44390090210147\n"
     ]
    }
   ],
   "source": [
    "#selecting data\n",
    "effect=[]\n",
    "dist_lst2=[]\n",
    "for i in range(120):\n",
    "    selection_dist=euclidean_distance(all_list[i],cen_dmso)\n",
    "    dist_lst2.append(selection_dist)\n",
    "dist_lst2.sort()\n",
    "print(dist_lst2[0])"
   ]
  },
  {
   "cell_type": "code",
   "execution_count": 204,
   "metadata": {},
   "outputs": [
    {
     "name": "stdout",
     "output_type": "stream",
     "text": [
      "['DNA' 'DNA' 'DNA' 'DNA' 'DNA' 'DNA' 'MT' 'MT' 'MT' 'MT' 'MT' 'MT' 'HSP'\n",
      " 'HSP' 'HSP' 'HSP' 'HSP' 'HSP' 'PROT' 'PROT' 'PROT' 'PROT' 'PROT' 'PROT'\n",
      " 'HDAC' 'HDAC' 'HDAC' 'HDAC' 'HDAC' 'HDAC' 'DMSO' 'DMSO' 'DMSO' 'DMSO'\n",
      " 'DMSO' 'DMSO']\n",
      "36\n"
     ]
    }
   ],
   "source": [
    "model2 = LinearDiscriminantAnalysis(n_components=4)\n",
    "model2.fit(X_training,y)\n",
    "yhat2=model2.predict(X_testing)\n",
    "\n",
    "print(yhat2)\n",
    "print(len(yhat2))"
   ]
  },
  {
   "cell_type": "code",
   "execution_count": null,
   "metadata": {},
   "outputs": [],
   "source": []
  },
  {
   "cell_type": "code",
   "execution_count": 205,
   "metadata": {},
   "outputs": [],
   "source": [
    "def accuracy(list1,list2):\n",
    "    length=len(list1)\n",
    "    list3=[]\n",
    "    for i in range(int(length/6.0)):\n",
    "        list3.append(list2[0])\n",
    "    for j in range(int(length/6.0)):\n",
    "        list3.append(list2[1])\n",
    "    for m in range(int(length/6.0)):\n",
    "        list3.append(list2[2])\n",
    "    for n in range(int(length/6.0)):\n",
    "        list3.append(list2[3])\n",
    "    for k in range(int(length/6.0)):\n",
    "        list3.append(list2[4])\n",
    "    for k in range(int(length/6.0)):\n",
    "        list3.append(list2[5])\n",
    "\n",
    "    counter=0\n",
    "    for k in range(len(list1)):\n",
    "\n",
    "        if list1[k]==list3[k]:\n",
    "            counter+=1\n",
    "    return counter/length\n",
    "\n"
   ]
  },
  {
   "cell_type": "code",
   "execution_count": 206,
   "metadata": {},
   "outputs": [
    {
     "data": {
      "text/plain": [
       "'100.00%'"
      ]
     },
     "execution_count": 206,
     "metadata": {},
     "output_type": "execute_result"
    }
   ],
   "source": [
    "#test accuracy\n",
    "'%.2f%%' % ((accuracy( yhat2,['DNA',\"MT\",\"HSP\",\"PROT\",\"HDAC\",\"DMSO\"]))*100)\n"
   ]
  },
  {
   "cell_type": "code",
   "execution_count": 207,
   "metadata": {},
   "outputs": [
    {
     "data": {
      "text/plain": [
       "['DNA',\n",
       " 'DNA',\n",
       " 'DNA',\n",
       " 'DNA',\n",
       " 'DNA',\n",
       " 'DNA',\n",
       " 'DNA',\n",
       " 'DNA',\n",
       " 'DNA',\n",
       " 'DNA',\n",
       " 'DNA',\n",
       " 'DNA',\n",
       " 'DNA',\n",
       " 'DNA',\n",
       " 'DNA',\n",
       " 'DNA',\n",
       " 'DNA',\n",
       " 'DNA',\n",
       " 'DNA',\n",
       " 'DNA',\n",
       " 'DNA',\n",
       " 'DNA',\n",
       " 'DNA',\n",
       " 'DNA',\n",
       " 'MT',\n",
       " 'MT',\n",
       " 'MT',\n",
       " 'MT',\n",
       " 'MT',\n",
       " 'MT',\n",
       " 'MT',\n",
       " 'MT',\n",
       " 'MT',\n",
       " 'MT',\n",
       " 'MT',\n",
       " 'MT',\n",
       " 'MT',\n",
       " 'MT',\n",
       " 'MT',\n",
       " 'MT',\n",
       " 'MT',\n",
       " 'MT',\n",
       " 'MT',\n",
       " 'MT',\n",
       " 'MT',\n",
       " 'MT',\n",
       " 'MT',\n",
       " 'MT',\n",
       " 'HSP',\n",
       " 'HSP',\n",
       " 'HSP',\n",
       " 'HSP',\n",
       " 'HSP',\n",
       " 'HSP',\n",
       " 'HSP',\n",
       " 'HSP',\n",
       " 'HSP',\n",
       " 'HSP',\n",
       " 'HSP',\n",
       " 'HSP',\n",
       " 'HSP',\n",
       " 'HSP',\n",
       " 'HSP',\n",
       " 'HSP',\n",
       " 'HSP',\n",
       " 'HSP',\n",
       " 'HSP',\n",
       " 'HSP',\n",
       " 'HSP',\n",
       " 'HSP',\n",
       " 'HSP',\n",
       " 'HSP',\n",
       " 'PROT',\n",
       " 'PROT',\n",
       " 'PROT',\n",
       " 'PROT',\n",
       " 'PROT',\n",
       " 'PROT',\n",
       " 'PROT',\n",
       " 'PROT',\n",
       " 'PROT',\n",
       " 'PROT',\n",
       " 'PROT',\n",
       " 'PROT',\n",
       " 'PROT',\n",
       " 'PROT',\n",
       " 'PROT',\n",
       " 'PROT',\n",
       " 'PROT',\n",
       " 'PROT',\n",
       " 'PROT',\n",
       " 'PROT',\n",
       " 'PROT',\n",
       " 'PROT',\n",
       " 'PROT',\n",
       " 'PROT',\n",
       " 'HDAC',\n",
       " 'HDAC',\n",
       " 'HDAC',\n",
       " 'HDAC',\n",
       " 'HDAC',\n",
       " 'HDAC',\n",
       " 'HDAC',\n",
       " 'HDAC',\n",
       " 'HDAC',\n",
       " 'HDAC',\n",
       " 'HDAC',\n",
       " 'HDAC',\n",
       " 'HDAC',\n",
       " 'HDAC',\n",
       " 'HDAC',\n",
       " 'HDAC',\n",
       " 'HDAC',\n",
       " 'HDAC',\n",
       " 'HDAC',\n",
       " 'HDAC',\n",
       " 'HDAC',\n",
       " 'HDAC',\n",
       " 'HDAC',\n",
       " 'HDAC',\n",
       " 'DMSO',\n",
       " 'DMSO',\n",
       " 'DMSO',\n",
       " 'DMSO',\n",
       " 'DMSO',\n",
       " 'DMSO',\n",
       " 'DMSO',\n",
       " 'DMSO',\n",
       " 'DMSO',\n",
       " 'DMSO',\n",
       " 'DMSO',\n",
       " 'DMSO',\n",
       " 'DMSO',\n",
       " 'DMSO',\n",
       " 'DMSO',\n",
       " 'DMSO',\n",
       " 'DMSO',\n",
       " 'DMSO',\n",
       " 'DMSO',\n",
       " 'DMSO',\n",
       " 'DMSO',\n",
       " 'DMSO',\n",
       " 'DMSO',\n",
       " 'DMSO',\n",
       " 'DMSO',\n",
       " 'DMSO',\n",
       " 'DMSO',\n",
       " 'DMSO',\n",
       " 'DMSO',\n",
       " 'DMSO',\n",
       " 'DMSO',\n",
       " 'DMSO',\n",
       " 'DMSO',\n",
       " 'DMSO',\n",
       " 'DMSO',\n",
       " 'DMSO',\n",
       " 'DMSO',\n",
       " 'DMSO',\n",
       " 'DMSO',\n",
       " 'DMSO',\n",
       " 'DMSO',\n",
       " 'DMSO',\n",
       " 'DMSO',\n",
       " 'DMSO',\n",
       " 'DMSO',\n",
       " 'DMSO',\n",
       " 'DMSO',\n",
       " 'DMSO']"
      ]
     },
     "execution_count": 207,
     "metadata": {},
     "output_type": "execute_result"
    }
   ],
   "source": [
    "training[\"drug_name\"]\n",
    "train_drug_name_without_concentration=[]\n",
    "for each in training['drug_name']:\n",
    "    train_drug_name_without_concentration.append(each[:-2])\n",
    "    #print(training[\"drug_name\"][i][0:-1])\n",
    "    \n",
    "\n",
    "train_drug_name_without_concentration\n",
    "train_drug_name_without_concentration2=[]\n",
    "#dna,mt,hsp,prot,hdac\n",
    "for i in range(int((len(train_drug_name_without_concentration)-48)/5.0)):\n",
    "    train_drug_name_without_concentration2.append('DNA')\n",
    "for i in range(int((len(train_drug_name_without_concentration)-48)/5.0)):\n",
    "    train_drug_name_without_concentration2.append('MT')\n",
    "for i in range(int((len(train_drug_name_without_concentration)-48)/5.0)):\n",
    "    train_drug_name_without_concentration2.append('HSP')\n",
    "for i in range(int((len(train_drug_name_without_concentration)-48)/5.0)):\n",
    "    train_drug_name_without_concentration2.append('PROT')\n",
    "for i in range(int((len(train_drug_name_without_concentration)-48)/5.0)):\n",
    "    train_drug_name_without_concentration2.append('HDAC')\n",
    "for i in range(48):\n",
    "    train_drug_name_without_concentration2.append(\"DMSO\")\n",
    "\n",
    "train_drug_name_without_concentration2   \n"
   ]
  },
  {
   "cell_type": "code",
   "execution_count": 208,
   "metadata": {},
   "outputs": [
    {
     "data": {
      "application/vnd.plotly.v1+json": {
       "config": {
        "plotlyServerURL": "https://plot.ly"
       },
       "data": [
        {
         "hovertemplate": "color=DNA<br>0=%{x}<br>1=%{y}<extra></extra>",
         "legendgroup": "DNA",
         "marker": {
          "color": "#636efa",
          "symbol": "circle"
         },
         "mode": "markers",
         "name": "DNA",
         "orientation": "v",
         "showlegend": true,
         "type": "scatter",
         "x": [
          5.698751474674081,
          5.856726551111445,
          5.1692670960211835,
          5.755333917770987,
          4.097913012813078,
          4.438017947617736,
          5.538761761103393,
          6.0171634958542715,
          6.205397787956132,
          5.986632038507479,
          7.04792563639929,
          6.2225252049148985,
          5.897490238327651,
          6.235088249850009,
          6.369219800142723,
          5.571452921748908,
          5.731286532788191,
          5.638047573942395,
          5.583132410190492,
          4.8792661607246215,
          5.964387929318873,
          6.280032217000391,
          5.468272435441929,
          6.744433347628256
         ],
         "xaxis": "x",
         "y": [
          -2.174325963638737,
          -1.8430226922972133,
          -2.2405676723419767,
          -1.992735836647701,
          -1.934379343965217,
          -2.321679781948812,
          -2.388823054575446,
          -2.0582318039593224,
          -1.9805295218594763,
          -1.6433436146783045,
          -0.219859502183772,
          -1.2158200214378994,
          -2.0423741212509694,
          -2.019300799000968,
          -1.632003267927231,
          -2.1531698792460863,
          -2.133046234179292,
          -1.273085108436342,
          -1.2102596051609038,
          -2.436084451802831,
          -2.0695534608899275,
          -2.245905651589487,
          -1.932653294238708,
          -1.5574541615852047
         ],
         "yaxis": "y"
        },
        {
         "hovertemplate": "color=MT<br>0=%{x}<br>1=%{y}<extra></extra>",
         "legendgroup": "MT",
         "marker": {
          "color": "#EF553B",
          "symbol": "circle"
         },
         "mode": "markers",
         "name": "MT",
         "orientation": "v",
         "showlegend": true,
         "type": "scatter",
         "x": [
          5.390370355364923,
          4.538637284751022,
          4.832704773305935,
          2.320586052170225,
          4.066414118983347,
          7.153375447590829,
          4.634449834939683,
          4.4357631316069694,
          4.6749009781586235,
          3.686320265522887,
          3.779798310203282,
          5.638255006274679,
          6.203135986219976,
          4.619815914418807,
          5.420952402407263,
          5.288819052268082,
          5.288517369071387,
          5.544018366636385,
          5.176601538287022,
          4.797589440822139,
          4.749359239346229,
          5.67101194195643,
          4.121421983285895,
          3.1221701026287163
         ],
         "xaxis": "x",
         "y": [
          -2.9438206755011067,
          -3.566799275397356,
          -4.06943785980713,
          -3.560982281484088,
          -4.799812694703863,
          -4.118022810380143,
          -3.484302915997024,
          -2.8841843785895094,
          -3.06400400526018,
          -2.596388565657235,
          -2.2907663156130758,
          -3.1367159843019885,
          -1.55627197688249,
          -2.6727474995611806,
          -5.582583745269887,
          -3.0343498633367276,
          -4.3318640253123375,
          -2.6756776709564347,
          -4.053344824979146,
          -2.513129959348961,
          -3.6238088436314992,
          -3.125234723492482,
          -3.6170800294852072,
          0.28227487498163195
         ],
         "yaxis": "y"
        },
        {
         "hovertemplate": "color=HSP<br>0=%{x}<br>1=%{y}<extra></extra>",
         "legendgroup": "HSP",
         "marker": {
          "color": "#00cc96",
          "symbol": "circle"
         },
         "mode": "markers",
         "name": "HSP",
         "orientation": "v",
         "showlegend": true,
         "type": "scatter",
         "x": [
          1.6061716784271385,
          3.134607491091491,
          2.2587352377629757,
          4.217223988929056,
          3.3534966696544974,
          2.6701253135878327,
          4.055895378726337,
          2.6680886980314145,
          3.27427935475625,
          2.565142005855225,
          3.283893694049551,
          1.2981041034920398,
          3.287302396923444,
          2.826304270945188,
          3.4571873271172833,
          2.551819574195176,
          2.889921788585014,
          3.162309623698509,
          2.8354989410306324,
          2.3916901721643824,
          2.5415185704122694,
          2.0700529572027424,
          0.05892940166404636,
          1.8150617160258518
         ],
         "xaxis": "x",
         "y": [
          -2.783257613316196,
          -3.31710849803794,
          -3.124852388972172,
          -2.5555894670844106,
          -3.0133196026573907,
          -2.8183383058264244,
          -2.7097909600598924,
          -2.769342578383348,
          -3.301350608642867,
          -3.5264973212147606,
          -3.989461052369364,
          -4.276804184752463,
          -2.802841184664594,
          -3.3170514780983917,
          -3.6726564207766845,
          -2.3923674107022355,
          -2.4170306554698766,
          -1.3680206093167446,
          -2.4951991947925474,
          -3.8471880630087973,
          -3.067069457263974,
          -2.474710748076092,
          -3.7680628941285064,
          -0.9099496227087559
         ],
         "yaxis": "y"
        },
        {
         "hovertemplate": "color=PROT<br>0=%{x}<br>1=%{y}<extra></extra>",
         "legendgroup": "PROT",
         "marker": {
          "color": "#ab63fa",
          "symbol": "circle"
         },
         "mode": "markers",
         "name": "PROT",
         "orientation": "v",
         "showlegend": true,
         "type": "scatter",
         "x": [
          4.377522349351381,
          5.357412839397475,
          5.204268662435327,
          0.7055259942030739,
          4.398541683747254,
          4.922732426512549,
          3.1795831111993444,
          4.8858449555376895,
          3.9800992176321754,
          4.678912301397274,
          5.226638708410443,
          4.566652966871028,
          4.4539530387938875,
          4.569721954145272,
          5.031534064039458,
          4.619012439239691,
          3.307046907721336,
          4.6234166725955586,
          3.2241970824794675,
          3.918027376616517,
          4.708269539569637,
          4.618227879887536,
          3.4320227919721304,
          3.6913793684276364
         ],
         "xaxis": "x",
         "y": [
          -1.2463784628818224,
          -0.8425957067820633,
          -1.4347344385533656,
          -1.8388628120006496,
          -0.6568692690241716,
          -2.669659323996486,
          -0.7501376369837089,
          -0.9963117311803303,
          -0.7399242965747,
          -2.3889980486122533,
          -0.8322600639270761,
          1.2857341977413717,
          -3.1366248341262017,
          -2.0241717505495864,
          -0.5404700184288818,
          -3.0151460456781094,
          -0.6553731403730161,
          -1.1830057520239352,
          -1.535669340525026,
          -1.4905226994009548,
          -1.8290162444229303,
          0.5123873394477721,
          -0.45727261364935257,
          -0.9023344554876124
         ],
         "yaxis": "y"
        },
        {
         "hovertemplate": "color=HDAC<br>0=%{x}<br>1=%{y}<extra></extra>",
         "legendgroup": "HDAC",
         "marker": {
          "color": "#FFA15A",
          "symbol": "circle"
         },
         "mode": "markers",
         "name": "HDAC",
         "orientation": "v",
         "showlegend": true,
         "type": "scatter",
         "x": [
          4.065010070807778,
          4.9863631362831216,
          1.6881917387980498,
          5.809491164595653,
          5.022081040025581,
          2.6758585568498545,
          3.8821316055149087,
          3.4537312945364143,
          4.193671200166327,
          2.6757304916095688,
          3.196293819625562,
          2.094005928041919,
          2.7607163283564224,
          3.324418466103673,
          3.387624789861639,
          3.9373576538155675,
          4.007527789673752,
          3.8911712998829127,
          3.9300446004672467,
          3.998839567330156,
          3.8621117233725655,
          4.725708417954237,
          0.47958256236697183,
          3.0040393227708133
         ],
         "xaxis": "x",
         "y": [
          10.462677806001647,
          10.516693358935012,
          10.246918455320829,
          11.230734028917574,
          10.33923954797373,
          9.299592600753803,
          11.31423763434578,
          9.227866152699555,
          11.18547182417449,
          10.970092592487044,
          7.644597062641158,
          8.642630197001534,
          9.861712115452603,
          9.464912151543329,
          10.895738957215812,
          9.307595245474298,
          10.493554235356044,
          7.258864775786288,
          9.24651375381839,
          11.317879074241818,
          9.32239541691844,
          8.318076939570119,
          8.954926466089077,
          7.336998217666798
         ],
         "yaxis": "y"
        },
        {
         "hovertemplate": "color=DMSO<br>0=%{x}<br>1=%{y}<extra></extra>",
         "legendgroup": "DMSO",
         "marker": {
          "color": "#19d3f3",
          "symbol": "circle"
         },
         "mode": "markers",
         "name": "DMSO",
         "orientation": "v",
         "showlegend": true,
         "type": "scatter",
         "x": [
          -8.82744746335015,
          -11.347557900692472,
          -10.21853041930896,
          -10.380471409027983,
          -8.282468255314884,
          -9.468775211330808,
          -9.617758314175914,
          -12.337872448442493,
          -11.301596580711182,
          -9.806563820044914,
          -11.06814504141788,
          -11.712307942657873,
          -11.894309815904506,
          -10.129395288963861,
          -10.55973877990183,
          -12.059594691237894,
          -9.788523389422243,
          -10.325767704255147,
          -10.673679846206603,
          -11.757665786552069,
          -11.114690398353966,
          -10.456510120768046,
          -11.340028174232687,
          -10.980968091902868,
          -11.560098603797092,
          -9.516534383519188,
          -10.314246922662297,
          -8.929174411475614,
          -11.616581164371484,
          -8.358872866470874,
          -9.034901599716251,
          -12.16966883367316,
          -12.3815907774891,
          -9.23904308477141,
          -9.88409494302365,
          -9.406810492948274,
          -12.14884008556853,
          -10.441905347233126,
          -9.908171006140863,
          -9.54610932577207,
          -10.99662564361714,
          -10.686059688348047,
          -9.14323159532991,
          -8.925227621013331,
          -11.090093097950302,
          -10.937566585786652,
          -11.098317503494044,
          -11.77298941504213
         ],
         "xaxis": "x",
         "y": [
          1.0919472671767252,
          -1.710147602952679,
          0.28291321487899096,
          1.9583638062563729,
          -0.42197063727213147,
          -2.051213645938808,
          -1.2454175129022134,
          0.2550613668946639,
          -0.37416449103183913,
          -0.08592096642058275,
          1.7140180048594267,
          2.3621314834399847,
          -0.3257374229652696,
          -1.3743847927329658,
          -0.06484276696782719,
          0.6343900539471615,
          0.07243673429863812,
          -0.24763362298367578,
          0.33132642832251485,
          -2.551043392179259,
          0.13389961622664562,
          0.7662041099553666,
          -1.4626457424023185,
          -0.3312583008404028,
          0.5381058803633871,
          -0.5915530685171898,
          -0.6938748385598263,
          -1.0893396842682552,
          -0.5181776128809434,
          -0.5537086133098261,
          -0.972082474727163,
          0.3842533160290924,
          0.021820639697293948,
          1.4334357481028872,
          0.30350528801749405,
          0.011879087560764454,
          -0.31673365558682276,
          -1.0697830174106684,
          0.17239302315493676,
          -1.4845218514020369,
          -0.5055547518745019,
          -0.49652062094687177,
          -2.3731776797856114,
          -0.5209948351703289,
          1.3285908062268144,
          0.2940682428510123,
          -1.847246477264287,
          0.1523297137757906
         ],
         "yaxis": "y"
        }
       ],
       "layout": {
        "legend": {
         "title": {
          "text": "color"
         },
         "tracegroupgap": 0
        },
        "margin": {
         "t": 60
        },
        "template": {
         "data": {
          "bar": [
           {
            "error_x": {
             "color": "#2a3f5f"
            },
            "error_y": {
             "color": "#2a3f5f"
            },
            "marker": {
             "line": {
              "color": "#E5ECF6",
              "width": 0.5
             },
             "pattern": {
              "fillmode": "overlay",
              "size": 10,
              "solidity": 0.2
             }
            },
            "type": "bar"
           }
          ],
          "barpolar": [
           {
            "marker": {
             "line": {
              "color": "#E5ECF6",
              "width": 0.5
             },
             "pattern": {
              "fillmode": "overlay",
              "size": 10,
              "solidity": 0.2
             }
            },
            "type": "barpolar"
           }
          ],
          "carpet": [
           {
            "aaxis": {
             "endlinecolor": "#2a3f5f",
             "gridcolor": "white",
             "linecolor": "white",
             "minorgridcolor": "white",
             "startlinecolor": "#2a3f5f"
            },
            "baxis": {
             "endlinecolor": "#2a3f5f",
             "gridcolor": "white",
             "linecolor": "white",
             "minorgridcolor": "white",
             "startlinecolor": "#2a3f5f"
            },
            "type": "carpet"
           }
          ],
          "choropleth": [
           {
            "colorbar": {
             "outlinewidth": 0,
             "ticks": ""
            },
            "type": "choropleth"
           }
          ],
          "contour": [
           {
            "colorbar": {
             "outlinewidth": 0,
             "ticks": ""
            },
            "colorscale": [
             [
              0,
              "#0d0887"
             ],
             [
              0.1111111111111111,
              "#46039f"
             ],
             [
              0.2222222222222222,
              "#7201a8"
             ],
             [
              0.3333333333333333,
              "#9c179e"
             ],
             [
              0.4444444444444444,
              "#bd3786"
             ],
             [
              0.5555555555555556,
              "#d8576b"
             ],
             [
              0.6666666666666666,
              "#ed7953"
             ],
             [
              0.7777777777777778,
              "#fb9f3a"
             ],
             [
              0.8888888888888888,
              "#fdca26"
             ],
             [
              1,
              "#f0f921"
             ]
            ],
            "type": "contour"
           }
          ],
          "contourcarpet": [
           {
            "colorbar": {
             "outlinewidth": 0,
             "ticks": ""
            },
            "type": "contourcarpet"
           }
          ],
          "heatmap": [
           {
            "colorbar": {
             "outlinewidth": 0,
             "ticks": ""
            },
            "colorscale": [
             [
              0,
              "#0d0887"
             ],
             [
              0.1111111111111111,
              "#46039f"
             ],
             [
              0.2222222222222222,
              "#7201a8"
             ],
             [
              0.3333333333333333,
              "#9c179e"
             ],
             [
              0.4444444444444444,
              "#bd3786"
             ],
             [
              0.5555555555555556,
              "#d8576b"
             ],
             [
              0.6666666666666666,
              "#ed7953"
             ],
             [
              0.7777777777777778,
              "#fb9f3a"
             ],
             [
              0.8888888888888888,
              "#fdca26"
             ],
             [
              1,
              "#f0f921"
             ]
            ],
            "type": "heatmap"
           }
          ],
          "heatmapgl": [
           {
            "colorbar": {
             "outlinewidth": 0,
             "ticks": ""
            },
            "colorscale": [
             [
              0,
              "#0d0887"
             ],
             [
              0.1111111111111111,
              "#46039f"
             ],
             [
              0.2222222222222222,
              "#7201a8"
             ],
             [
              0.3333333333333333,
              "#9c179e"
             ],
             [
              0.4444444444444444,
              "#bd3786"
             ],
             [
              0.5555555555555556,
              "#d8576b"
             ],
             [
              0.6666666666666666,
              "#ed7953"
             ],
             [
              0.7777777777777778,
              "#fb9f3a"
             ],
             [
              0.8888888888888888,
              "#fdca26"
             ],
             [
              1,
              "#f0f921"
             ]
            ],
            "type": "heatmapgl"
           }
          ],
          "histogram": [
           {
            "marker": {
             "pattern": {
              "fillmode": "overlay",
              "size": 10,
              "solidity": 0.2
             }
            },
            "type": "histogram"
           }
          ],
          "histogram2d": [
           {
            "colorbar": {
             "outlinewidth": 0,
             "ticks": ""
            },
            "colorscale": [
             [
              0,
              "#0d0887"
             ],
             [
              0.1111111111111111,
              "#46039f"
             ],
             [
              0.2222222222222222,
              "#7201a8"
             ],
             [
              0.3333333333333333,
              "#9c179e"
             ],
             [
              0.4444444444444444,
              "#bd3786"
             ],
             [
              0.5555555555555556,
              "#d8576b"
             ],
             [
              0.6666666666666666,
              "#ed7953"
             ],
             [
              0.7777777777777778,
              "#fb9f3a"
             ],
             [
              0.8888888888888888,
              "#fdca26"
             ],
             [
              1,
              "#f0f921"
             ]
            ],
            "type": "histogram2d"
           }
          ],
          "histogram2dcontour": [
           {
            "colorbar": {
             "outlinewidth": 0,
             "ticks": ""
            },
            "colorscale": [
             [
              0,
              "#0d0887"
             ],
             [
              0.1111111111111111,
              "#46039f"
             ],
             [
              0.2222222222222222,
              "#7201a8"
             ],
             [
              0.3333333333333333,
              "#9c179e"
             ],
             [
              0.4444444444444444,
              "#bd3786"
             ],
             [
              0.5555555555555556,
              "#d8576b"
             ],
             [
              0.6666666666666666,
              "#ed7953"
             ],
             [
              0.7777777777777778,
              "#fb9f3a"
             ],
             [
              0.8888888888888888,
              "#fdca26"
             ],
             [
              1,
              "#f0f921"
             ]
            ],
            "type": "histogram2dcontour"
           }
          ],
          "mesh3d": [
           {
            "colorbar": {
             "outlinewidth": 0,
             "ticks": ""
            },
            "type": "mesh3d"
           }
          ],
          "parcoords": [
           {
            "line": {
             "colorbar": {
              "outlinewidth": 0,
              "ticks": ""
             }
            },
            "type": "parcoords"
           }
          ],
          "pie": [
           {
            "automargin": true,
            "type": "pie"
           }
          ],
          "scatter": [
           {
            "fillpattern": {
             "fillmode": "overlay",
             "size": 10,
             "solidity": 0.2
            },
            "type": "scatter"
           }
          ],
          "scatter3d": [
           {
            "line": {
             "colorbar": {
              "outlinewidth": 0,
              "ticks": ""
             }
            },
            "marker": {
             "colorbar": {
              "outlinewidth": 0,
              "ticks": ""
             }
            },
            "type": "scatter3d"
           }
          ],
          "scattercarpet": [
           {
            "marker": {
             "colorbar": {
              "outlinewidth": 0,
              "ticks": ""
             }
            },
            "type": "scattercarpet"
           }
          ],
          "scattergeo": [
           {
            "marker": {
             "colorbar": {
              "outlinewidth": 0,
              "ticks": ""
             }
            },
            "type": "scattergeo"
           }
          ],
          "scattergl": [
           {
            "marker": {
             "colorbar": {
              "outlinewidth": 0,
              "ticks": ""
             }
            },
            "type": "scattergl"
           }
          ],
          "scattermapbox": [
           {
            "marker": {
             "colorbar": {
              "outlinewidth": 0,
              "ticks": ""
             }
            },
            "type": "scattermapbox"
           }
          ],
          "scatterpolar": [
           {
            "marker": {
             "colorbar": {
              "outlinewidth": 0,
              "ticks": ""
             }
            },
            "type": "scatterpolar"
           }
          ],
          "scatterpolargl": [
           {
            "marker": {
             "colorbar": {
              "outlinewidth": 0,
              "ticks": ""
             }
            },
            "type": "scatterpolargl"
           }
          ],
          "scatterternary": [
           {
            "marker": {
             "colorbar": {
              "outlinewidth": 0,
              "ticks": ""
             }
            },
            "type": "scatterternary"
           }
          ],
          "surface": [
           {
            "colorbar": {
             "outlinewidth": 0,
             "ticks": ""
            },
            "colorscale": [
             [
              0,
              "#0d0887"
             ],
             [
              0.1111111111111111,
              "#46039f"
             ],
             [
              0.2222222222222222,
              "#7201a8"
             ],
             [
              0.3333333333333333,
              "#9c179e"
             ],
             [
              0.4444444444444444,
              "#bd3786"
             ],
             [
              0.5555555555555556,
              "#d8576b"
             ],
             [
              0.6666666666666666,
              "#ed7953"
             ],
             [
              0.7777777777777778,
              "#fb9f3a"
             ],
             [
              0.8888888888888888,
              "#fdca26"
             ],
             [
              1,
              "#f0f921"
             ]
            ],
            "type": "surface"
           }
          ],
          "table": [
           {
            "cells": {
             "fill": {
              "color": "#EBF0F8"
             },
             "line": {
              "color": "white"
             }
            },
            "header": {
             "fill": {
              "color": "#C8D4E3"
             },
             "line": {
              "color": "white"
             }
            },
            "type": "table"
           }
          ]
         },
         "layout": {
          "annotationdefaults": {
           "arrowcolor": "#2a3f5f",
           "arrowhead": 0,
           "arrowwidth": 1
          },
          "autotypenumbers": "strict",
          "coloraxis": {
           "colorbar": {
            "outlinewidth": 0,
            "ticks": ""
           }
          },
          "colorscale": {
           "diverging": [
            [
             0,
             "#8e0152"
            ],
            [
             0.1,
             "#c51b7d"
            ],
            [
             0.2,
             "#de77ae"
            ],
            [
             0.3,
             "#f1b6da"
            ],
            [
             0.4,
             "#fde0ef"
            ],
            [
             0.5,
             "#f7f7f7"
            ],
            [
             0.6,
             "#e6f5d0"
            ],
            [
             0.7,
             "#b8e186"
            ],
            [
             0.8,
             "#7fbc41"
            ],
            [
             0.9,
             "#4d9221"
            ],
            [
             1,
             "#276419"
            ]
           ],
           "sequential": [
            [
             0,
             "#0d0887"
            ],
            [
             0.1111111111111111,
             "#46039f"
            ],
            [
             0.2222222222222222,
             "#7201a8"
            ],
            [
             0.3333333333333333,
             "#9c179e"
            ],
            [
             0.4444444444444444,
             "#bd3786"
            ],
            [
             0.5555555555555556,
             "#d8576b"
            ],
            [
             0.6666666666666666,
             "#ed7953"
            ],
            [
             0.7777777777777778,
             "#fb9f3a"
            ],
            [
             0.8888888888888888,
             "#fdca26"
            ],
            [
             1,
             "#f0f921"
            ]
           ],
           "sequentialminus": [
            [
             0,
             "#0d0887"
            ],
            [
             0.1111111111111111,
             "#46039f"
            ],
            [
             0.2222222222222222,
             "#7201a8"
            ],
            [
             0.3333333333333333,
             "#9c179e"
            ],
            [
             0.4444444444444444,
             "#bd3786"
            ],
            [
             0.5555555555555556,
             "#d8576b"
            ],
            [
             0.6666666666666666,
             "#ed7953"
            ],
            [
             0.7777777777777778,
             "#fb9f3a"
            ],
            [
             0.8888888888888888,
             "#fdca26"
            ],
            [
             1,
             "#f0f921"
            ]
           ]
          },
          "colorway": [
           "#636efa",
           "#EF553B",
           "#00cc96",
           "#ab63fa",
           "#FFA15A",
           "#19d3f3",
           "#FF6692",
           "#B6E880",
           "#FF97FF",
           "#FECB52"
          ],
          "font": {
           "color": "#2a3f5f"
          },
          "geo": {
           "bgcolor": "white",
           "lakecolor": "white",
           "landcolor": "#E5ECF6",
           "showlakes": true,
           "showland": true,
           "subunitcolor": "white"
          },
          "hoverlabel": {
           "align": "left"
          },
          "hovermode": "closest",
          "mapbox": {
           "style": "light"
          },
          "paper_bgcolor": "white",
          "plot_bgcolor": "#E5ECF6",
          "polar": {
           "angularaxis": {
            "gridcolor": "white",
            "linecolor": "white",
            "ticks": ""
           },
           "bgcolor": "#E5ECF6",
           "radialaxis": {
            "gridcolor": "white",
            "linecolor": "white",
            "ticks": ""
           }
          },
          "scene": {
           "xaxis": {
            "backgroundcolor": "#E5ECF6",
            "gridcolor": "white",
            "gridwidth": 2,
            "linecolor": "white",
            "showbackground": true,
            "ticks": "",
            "zerolinecolor": "white"
           },
           "yaxis": {
            "backgroundcolor": "#E5ECF6",
            "gridcolor": "white",
            "gridwidth": 2,
            "linecolor": "white",
            "showbackground": true,
            "ticks": "",
            "zerolinecolor": "white"
           },
           "zaxis": {
            "backgroundcolor": "#E5ECF6",
            "gridcolor": "white",
            "gridwidth": 2,
            "linecolor": "white",
            "showbackground": true,
            "ticks": "",
            "zerolinecolor": "white"
           }
          },
          "shapedefaults": {
           "line": {
            "color": "#2a3f5f"
           }
          },
          "ternary": {
           "aaxis": {
            "gridcolor": "white",
            "linecolor": "white",
            "ticks": ""
           },
           "baxis": {
            "gridcolor": "white",
            "linecolor": "white",
            "ticks": ""
           },
           "bgcolor": "#E5ECF6",
           "caxis": {
            "gridcolor": "white",
            "linecolor": "white",
            "ticks": ""
           }
          },
          "title": {
           "x": 0.05
          },
          "xaxis": {
           "automargin": true,
           "gridcolor": "white",
           "linecolor": "white",
           "ticks": "",
           "title": {
            "standoff": 15
           },
           "zerolinecolor": "white",
           "zerolinewidth": 2
          },
          "yaxis": {
           "automargin": true,
           "gridcolor": "white",
           "linecolor": "white",
           "ticks": "",
           "title": {
            "standoff": 15
           },
           "zerolinecolor": "white",
           "zerolinewidth": 2
          }
         }
        },
        "xaxis": {
         "anchor": "y",
         "domain": [
          0,
          1
         ],
         "title": {
          "text": "0"
         }
        },
        "yaxis": {
         "anchor": "x",
         "domain": [
          0,
          1
         ],
         "title": {
          "text": "1"
         }
        }
       }
      }
     },
     "metadata": {},
     "output_type": "display_data"
    }
   ],
   "source": [
    "import plotly.express as px\n",
    "from sklearn.decomposition import PCA\n",
    "from sklearn.preprocessing import StandardScaler\n",
    "model = LinearDiscriminantAnalysis(n_components=4)\n",
    "y2=[]\n",
    "for i in range(24):\n",
    "    y2.append('DNA')\n",
    "for j in range(24):\n",
    "    y2.append('MT')\n",
    "for k in range(24):\n",
    "    y2.append('HSP')\n",
    "for m in range(24):\n",
    "    y2.append('PROT')\n",
    "for n in range(24):\n",
    "    y2.append('HDAC')\n",
    "for k in range(48):\n",
    "    y2.append('DMSO')\n",
    "#model.fit(X_drug, y)\n",
    "#X_drug2 = model.transform(X_drug)\n",
    "X_drug3=training.iloc[:,2:240].values\n",
    "X_drug3=model.fit(X_drug3,y2).transform(X_drug3)\n",
    "fig = px.scatter(X_drug3, x=0, y=1, color=train_drug_name_without_concentration2)\n",
    "#training['drug_name']\n",
    "fig.show()\n",
    "#these 5 groups are very clearly separated, as we can see in the image"
   ]
  },
  {
   "cell_type": "code",
   "execution_count": 209,
   "metadata": {},
   "outputs": [
    {
     "data": {
      "application/vnd.plotly.v1+json": {
       "config": {
        "plotlyServerURL": "https://plot.ly"
       },
       "data": [
        {
         "hovertemplate": "color=Etoposide+Gemcitabine+1<br>0=%{x}<br>1=%{y}<extra></extra>",
         "legendgroup": "Etoposide+Gemcitabine+1",
         "marker": {
          "color": "#636efa",
          "symbol": "circle"
         },
         "mode": "markers",
         "name": "Etoposide+Gemcitabine+1",
         "orientation": "v",
         "showlegend": true,
         "type": "scatter",
         "x": [
          5.698751474674081
         ],
         "xaxis": "x",
         "y": [
          -2.174325963638737
         ],
         "yaxis": "y"
        },
        {
         "hovertemplate": "color=Etoposide+Gemcitabine+2<br>0=%{x}<br>1=%{y}<extra></extra>",
         "legendgroup": "Etoposide+Gemcitabine+2",
         "marker": {
          "color": "#EF553B",
          "symbol": "circle"
         },
         "mode": "markers",
         "name": "Etoposide+Gemcitabine+2",
         "orientation": "v",
         "showlegend": true,
         "type": "scatter",
         "x": [
          5.856726551111445
         ],
         "xaxis": "x",
         "y": [
          -1.8430226922972133
         ],
         "yaxis": "y"
        },
        {
         "hovertemplate": "color=Etoposide+Gemcitabine+3<br>0=%{x}<br>1=%{y}<extra></extra>",
         "legendgroup": "Etoposide+Gemcitabine+3",
         "marker": {
          "color": "#00cc96",
          "symbol": "circle"
         },
         "mode": "markers",
         "name": "Etoposide+Gemcitabine+3",
         "orientation": "v",
         "showlegend": true,
         "type": "scatter",
         "x": [
          5.1692670960211835
         ],
         "xaxis": "x",
         "y": [
          -2.2405676723419767
         ],
         "yaxis": "y"
        },
        {
         "hovertemplate": "color=Etoposide+Gemcitabine+4<br>0=%{x}<br>1=%{y}<extra></extra>",
         "legendgroup": "Etoposide+Gemcitabine+4",
         "marker": {
          "color": "#ab63fa",
          "symbol": "circle"
         },
         "mode": "markers",
         "name": "Etoposide+Gemcitabine+4",
         "orientation": "v",
         "showlegend": true,
         "type": "scatter",
         "x": [
          5.755333917770987
         ],
         "xaxis": "x",
         "y": [
          -1.992735836647701
         ],
         "yaxis": "y"
        },
        {
         "hovertemplate": "color=Etoposide+Gemcitabine+5<br>0=%{x}<br>1=%{y}<extra></extra>",
         "legendgroup": "Etoposide+Gemcitabine+5",
         "marker": {
          "color": "#FFA15A",
          "symbol": "circle"
         },
         "mode": "markers",
         "name": "Etoposide+Gemcitabine+5",
         "orientation": "v",
         "showlegend": true,
         "type": "scatter",
         "x": [
          4.097913012813078
         ],
         "xaxis": "x",
         "y": [
          -1.934379343965217
         ],
         "yaxis": "y"
        },
        {
         "hovertemplate": "color=Etoposide+Gemcitabine+6<br>0=%{x}<br>1=%{y}<extra></extra>",
         "legendgroup": "Etoposide+Gemcitabine+6",
         "marker": {
          "color": "#19d3f3",
          "symbol": "circle"
         },
         "mode": "markers",
         "name": "Etoposide+Gemcitabine+6",
         "orientation": "v",
         "showlegend": true,
         "type": "scatter",
         "x": [
          4.438017947617736
         ],
         "xaxis": "x",
         "y": [
          -2.321679781948812
         ],
         "yaxis": "y"
        },
        {
         "hovertemplate": "color=Gemcitabine+Etoposide+1<br>0=%{x}<br>1=%{y}<extra></extra>",
         "legendgroup": "Gemcitabine+Etoposide+1",
         "marker": {
          "color": "#FF6692",
          "symbol": "circle"
         },
         "mode": "markers",
         "name": "Gemcitabine+Etoposide+1",
         "orientation": "v",
         "showlegend": true,
         "type": "scatter",
         "x": [
          5.538761761103393
         ],
         "xaxis": "x",
         "y": [
          -2.388823054575446
         ],
         "yaxis": "y"
        },
        {
         "hovertemplate": "color=Gemcitabine+Etoposide+2<br>0=%{x}<br>1=%{y}<extra></extra>",
         "legendgroup": "Gemcitabine+Etoposide+2",
         "marker": {
          "color": "#B6E880",
          "symbol": "circle"
         },
         "mode": "markers",
         "name": "Gemcitabine+Etoposide+2",
         "orientation": "v",
         "showlegend": true,
         "type": "scatter",
         "x": [
          6.0171634958542715
         ],
         "xaxis": "x",
         "y": [
          -2.0582318039593224
         ],
         "yaxis": "y"
        },
        {
         "hovertemplate": "color=Gemcitabine+Etoposide+3<br>0=%{x}<br>1=%{y}<extra></extra>",
         "legendgroup": "Gemcitabine+Etoposide+3",
         "marker": {
          "color": "#FF97FF",
          "symbol": "circle"
         },
         "mode": "markers",
         "name": "Gemcitabine+Etoposide+3",
         "orientation": "v",
         "showlegend": true,
         "type": "scatter",
         "x": [
          6.205397787956132
         ],
         "xaxis": "x",
         "y": [
          -1.9805295218594763
         ],
         "yaxis": "y"
        },
        {
         "hovertemplate": "color=Gemcitabine+Etoposide+4<br>0=%{x}<br>1=%{y}<extra></extra>",
         "legendgroup": "Gemcitabine+Etoposide+4",
         "marker": {
          "color": "#FECB52",
          "symbol": "circle"
         },
         "mode": "markers",
         "name": "Gemcitabine+Etoposide+4",
         "orientation": "v",
         "showlegend": true,
         "type": "scatter",
         "x": [
          5.986632038507479
         ],
         "xaxis": "x",
         "y": [
          -1.6433436146783045
         ],
         "yaxis": "y"
        },
        {
         "hovertemplate": "color=Gemcitabine+Etoposide+5<br>0=%{x}<br>1=%{y}<extra></extra>",
         "legendgroup": "Gemcitabine+Etoposide+5",
         "marker": {
          "color": "#636efa",
          "symbol": "circle"
         },
         "mode": "markers",
         "name": "Gemcitabine+Etoposide+5",
         "orientation": "v",
         "showlegend": true,
         "type": "scatter",
         "x": [
          7.04792563639929
         ],
         "xaxis": "x",
         "y": [
          -0.219859502183772
         ],
         "yaxis": "y"
        },
        {
         "hovertemplate": "color=Gemcitabine+Etoposide+6<br>0=%{x}<br>1=%{y}<extra></extra>",
         "legendgroup": "Gemcitabine+Etoposide+6",
         "marker": {
          "color": "#EF553B",
          "symbol": "circle"
         },
         "mode": "markers",
         "name": "Gemcitabine+Etoposide+6",
         "orientation": "v",
         "showlegend": true,
         "type": "scatter",
         "x": [
          6.2225252049148985
         ],
         "xaxis": "x",
         "y": [
          -1.2158200214378994
         ],
         "yaxis": "y"
        },
        {
         "hovertemplate": "color=Etoposide+Etoposide+1<br>0=%{x}<br>1=%{y}<extra></extra>",
         "legendgroup": "Etoposide+Etoposide+1",
         "marker": {
          "color": "#00cc96",
          "symbol": "circle"
         },
         "mode": "markers",
         "name": "Etoposide+Etoposide+1",
         "orientation": "v",
         "showlegend": true,
         "type": "scatter",
         "x": [
          5.897490238327651
         ],
         "xaxis": "x",
         "y": [
          -2.0423741212509694
         ],
         "yaxis": "y"
        },
        {
         "hovertemplate": "color=Etoposide+Etoposide+2<br>0=%{x}<br>1=%{y}<extra></extra>",
         "legendgroup": "Etoposide+Etoposide+2",
         "marker": {
          "color": "#ab63fa",
          "symbol": "circle"
         },
         "mode": "markers",
         "name": "Etoposide+Etoposide+2",
         "orientation": "v",
         "showlegend": true,
         "type": "scatter",
         "x": [
          6.235088249850009
         ],
         "xaxis": "x",
         "y": [
          -2.019300799000968
         ],
         "yaxis": "y"
        },
        {
         "hovertemplate": "color=Etoposide+Etoposide+3<br>0=%{x}<br>1=%{y}<extra></extra>",
         "legendgroup": "Etoposide+Etoposide+3",
         "marker": {
          "color": "#FFA15A",
          "symbol": "circle"
         },
         "mode": "markers",
         "name": "Etoposide+Etoposide+3",
         "orientation": "v",
         "showlegend": true,
         "type": "scatter",
         "x": [
          6.369219800142723
         ],
         "xaxis": "x",
         "y": [
          -1.632003267927231
         ],
         "yaxis": "y"
        },
        {
         "hovertemplate": "color=Etoposide+Etoposide+4<br>0=%{x}<br>1=%{y}<extra></extra>",
         "legendgroup": "Etoposide+Etoposide+4",
         "marker": {
          "color": "#19d3f3",
          "symbol": "circle"
         },
         "mode": "markers",
         "name": "Etoposide+Etoposide+4",
         "orientation": "v",
         "showlegend": true,
         "type": "scatter",
         "x": [
          5.571452921748908
         ],
         "xaxis": "x",
         "y": [
          -2.1531698792460863
         ],
         "yaxis": "y"
        },
        {
         "hovertemplate": "color=Etoposide+Etoposide+5<br>0=%{x}<br>1=%{y}<extra></extra>",
         "legendgroup": "Etoposide+Etoposide+5",
         "marker": {
          "color": "#FF6692",
          "symbol": "circle"
         },
         "mode": "markers",
         "name": "Etoposide+Etoposide+5",
         "orientation": "v",
         "showlegend": true,
         "type": "scatter",
         "x": [
          5.731286532788191
         ],
         "xaxis": "x",
         "y": [
          -2.133046234179292
         ],
         "yaxis": "y"
        },
        {
         "hovertemplate": "color=Etoposide+Etoposide+6<br>0=%{x}<br>1=%{y}<extra></extra>",
         "legendgroup": "Etoposide+Etoposide+6",
         "marker": {
          "color": "#B6E880",
          "symbol": "circle"
         },
         "mode": "markers",
         "name": "Etoposide+Etoposide+6",
         "orientation": "v",
         "showlegend": true,
         "type": "scatter",
         "x": [
          5.638047573942395
         ],
         "xaxis": "x",
         "y": [
          -1.273085108436342
         ],
         "yaxis": "y"
        },
        {
         "hovertemplate": "color=Gemcitabine+Gemcitabine+1<br>0=%{x}<br>1=%{y}<extra></extra>",
         "legendgroup": "Gemcitabine+Gemcitabine+1",
         "marker": {
          "color": "#FF97FF",
          "symbol": "circle"
         },
         "mode": "markers",
         "name": "Gemcitabine+Gemcitabine+1",
         "orientation": "v",
         "showlegend": true,
         "type": "scatter",
         "x": [
          5.583132410190492
         ],
         "xaxis": "x",
         "y": [
          -1.2102596051609038
         ],
         "yaxis": "y"
        },
        {
         "hovertemplate": "color=Gemcitabine+Gemcitabine+2<br>0=%{x}<br>1=%{y}<extra></extra>",
         "legendgroup": "Gemcitabine+Gemcitabine+2",
         "marker": {
          "color": "#FECB52",
          "symbol": "circle"
         },
         "mode": "markers",
         "name": "Gemcitabine+Gemcitabine+2",
         "orientation": "v",
         "showlegend": true,
         "type": "scatter",
         "x": [
          4.8792661607246215
         ],
         "xaxis": "x",
         "y": [
          -2.436084451802831
         ],
         "yaxis": "y"
        },
        {
         "hovertemplate": "color=Gemcitabine+Gemcitabine+3<br>0=%{x}<br>1=%{y}<extra></extra>",
         "legendgroup": "Gemcitabine+Gemcitabine+3",
         "marker": {
          "color": "#636efa",
          "symbol": "circle"
         },
         "mode": "markers",
         "name": "Gemcitabine+Gemcitabine+3",
         "orientation": "v",
         "showlegend": true,
         "type": "scatter",
         "x": [
          5.964387929318873
         ],
         "xaxis": "x",
         "y": [
          -2.0695534608899275
         ],
         "yaxis": "y"
        },
        {
         "hovertemplate": "color=Gemcitabine+Gemcitabine+4<br>0=%{x}<br>1=%{y}<extra></extra>",
         "legendgroup": "Gemcitabine+Gemcitabine+4",
         "marker": {
          "color": "#EF553B",
          "symbol": "circle"
         },
         "mode": "markers",
         "name": "Gemcitabine+Gemcitabine+4",
         "orientation": "v",
         "showlegend": true,
         "type": "scatter",
         "x": [
          6.280032217000391
         ],
         "xaxis": "x",
         "y": [
          -2.245905651589487
         ],
         "yaxis": "y"
        },
        {
         "hovertemplate": "color=Gemcitabine+Gemcitabine+5<br>0=%{x}<br>1=%{y}<extra></extra>",
         "legendgroup": "Gemcitabine+Gemcitabine+5",
         "marker": {
          "color": "#00cc96",
          "symbol": "circle"
         },
         "mode": "markers",
         "name": "Gemcitabine+Gemcitabine+5",
         "orientation": "v",
         "showlegend": true,
         "type": "scatter",
         "x": [
          5.468272435441929
         ],
         "xaxis": "x",
         "y": [
          -1.932653294238708
         ],
         "yaxis": "y"
        },
        {
         "hovertemplate": "color=Gemcitabine+Gemcitabine+6<br>0=%{x}<br>1=%{y}<extra></extra>",
         "legendgroup": "Gemcitabine+Gemcitabine+6",
         "marker": {
          "color": "#ab63fa",
          "symbol": "circle"
         },
         "mode": "markers",
         "name": "Gemcitabine+Gemcitabine+6",
         "orientation": "v",
         "showlegend": true,
         "type": "scatter",
         "x": [
          6.744433347628256
         ],
         "xaxis": "x",
         "y": [
          -1.5574541615852047
         ],
         "yaxis": "y"
        },
        {
         "hovertemplate": "color=Paclitaxel+Vinblastine+1<br>0=%{x}<br>1=%{y}<extra></extra>",
         "legendgroup": "Paclitaxel+Vinblastine+1",
         "marker": {
          "color": "#FFA15A",
          "symbol": "circle"
         },
         "mode": "markers",
         "name": "Paclitaxel+Vinblastine+1",
         "orientation": "v",
         "showlegend": true,
         "type": "scatter",
         "x": [
          5.390370355364923
         ],
         "xaxis": "x",
         "y": [
          -2.9438206755011067
         ],
         "yaxis": "y"
        },
        {
         "hovertemplate": "color=Paclitaxel+Vinblastine+2<br>0=%{x}<br>1=%{y}<extra></extra>",
         "legendgroup": "Paclitaxel+Vinblastine+2",
         "marker": {
          "color": "#19d3f3",
          "symbol": "circle"
         },
         "mode": "markers",
         "name": "Paclitaxel+Vinblastine+2",
         "orientation": "v",
         "showlegend": true,
         "type": "scatter",
         "x": [
          4.538637284751022
         ],
         "xaxis": "x",
         "y": [
          -3.566799275397356
         ],
         "yaxis": "y"
        },
        {
         "hovertemplate": "color=Paclitaxel+Vinblastine+3<br>0=%{x}<br>1=%{y}<extra></extra>",
         "legendgroup": "Paclitaxel+Vinblastine+3",
         "marker": {
          "color": "#FF6692",
          "symbol": "circle"
         },
         "mode": "markers",
         "name": "Paclitaxel+Vinblastine+3",
         "orientation": "v",
         "showlegend": true,
         "type": "scatter",
         "x": [
          4.832704773305935
         ],
         "xaxis": "x",
         "y": [
          -4.06943785980713
         ],
         "yaxis": "y"
        },
        {
         "hovertemplate": "color=Paclitaxel+Vinblastine+4<br>0=%{x}<br>1=%{y}<extra></extra>",
         "legendgroup": "Paclitaxel+Vinblastine+4",
         "marker": {
          "color": "#B6E880",
          "symbol": "circle"
         },
         "mode": "markers",
         "name": "Paclitaxel+Vinblastine+4",
         "orientation": "v",
         "showlegend": true,
         "type": "scatter",
         "x": [
          2.320586052170225
         ],
         "xaxis": "x",
         "y": [
          -3.560982281484088
         ],
         "yaxis": "y"
        },
        {
         "hovertemplate": "color=Paclitaxel+Vinblastine+5<br>0=%{x}<br>1=%{y}<extra></extra>",
         "legendgroup": "Paclitaxel+Vinblastine+5",
         "marker": {
          "color": "#FF97FF",
          "symbol": "circle"
         },
         "mode": "markers",
         "name": "Paclitaxel+Vinblastine+5",
         "orientation": "v",
         "showlegend": true,
         "type": "scatter",
         "x": [
          4.066414118983347
         ],
         "xaxis": "x",
         "y": [
          -4.799812694703863
         ],
         "yaxis": "y"
        },
        {
         "hovertemplate": "color=Paclitaxel+Vinblastine+6<br>0=%{x}<br>1=%{y}<extra></extra>",
         "legendgroup": "Paclitaxel+Vinblastine+6",
         "marker": {
          "color": "#FECB52",
          "symbol": "circle"
         },
         "mode": "markers",
         "name": "Paclitaxel+Vinblastine+6",
         "orientation": "v",
         "showlegend": true,
         "type": "scatter",
         "x": [
          7.153375447590829
         ],
         "xaxis": "x",
         "y": [
          -4.118022810380143
         ],
         "yaxis": "y"
        },
        {
         "hovertemplate": "color=Vinblastine+Paclitaxel+1<br>0=%{x}<br>1=%{y}<extra></extra>",
         "legendgroup": "Vinblastine+Paclitaxel+1",
         "marker": {
          "color": "#636efa",
          "symbol": "circle"
         },
         "mode": "markers",
         "name": "Vinblastine+Paclitaxel+1",
         "orientation": "v",
         "showlegend": true,
         "type": "scatter",
         "x": [
          4.634449834939683
         ],
         "xaxis": "x",
         "y": [
          -3.484302915997024
         ],
         "yaxis": "y"
        },
        {
         "hovertemplate": "color=Vinblastine+Paclitaxel+2<br>0=%{x}<br>1=%{y}<extra></extra>",
         "legendgroup": "Vinblastine+Paclitaxel+2",
         "marker": {
          "color": "#EF553B",
          "symbol": "circle"
         },
         "mode": "markers",
         "name": "Vinblastine+Paclitaxel+2",
         "orientation": "v",
         "showlegend": true,
         "type": "scatter",
         "x": [
          4.4357631316069694
         ],
         "xaxis": "x",
         "y": [
          -2.8841843785895094
         ],
         "yaxis": "y"
        },
        {
         "hovertemplate": "color=Vinblastine+Paclitaxel+3<br>0=%{x}<br>1=%{y}<extra></extra>",
         "legendgroup": "Vinblastine+Paclitaxel+3",
         "marker": {
          "color": "#00cc96",
          "symbol": "circle"
         },
         "mode": "markers",
         "name": "Vinblastine+Paclitaxel+3",
         "orientation": "v",
         "showlegend": true,
         "type": "scatter",
         "x": [
          4.6749009781586235
         ],
         "xaxis": "x",
         "y": [
          -3.06400400526018
         ],
         "yaxis": "y"
        },
        {
         "hovertemplate": "color=Vinblastine+Paclitaxel+4<br>0=%{x}<br>1=%{y}<extra></extra>",
         "legendgroup": "Vinblastine+Paclitaxel+4",
         "marker": {
          "color": "#ab63fa",
          "symbol": "circle"
         },
         "mode": "markers",
         "name": "Vinblastine+Paclitaxel+4",
         "orientation": "v",
         "showlegend": true,
         "type": "scatter",
         "x": [
          3.686320265522887
         ],
         "xaxis": "x",
         "y": [
          -2.596388565657235
         ],
         "yaxis": "y"
        },
        {
         "hovertemplate": "color=Vinblastine+Paclitaxel+5<br>0=%{x}<br>1=%{y}<extra></extra>",
         "legendgroup": "Vinblastine+Paclitaxel+5",
         "marker": {
          "color": "#FFA15A",
          "symbol": "circle"
         },
         "mode": "markers",
         "name": "Vinblastine+Paclitaxel+5",
         "orientation": "v",
         "showlegend": true,
         "type": "scatter",
         "x": [
          3.779798310203282
         ],
         "xaxis": "x",
         "y": [
          -2.2907663156130758
         ],
         "yaxis": "y"
        },
        {
         "hovertemplate": "color=Vinblastine+Paclitaxel+6<br>0=%{x}<br>1=%{y}<extra></extra>",
         "legendgroup": "Vinblastine+Paclitaxel+6",
         "marker": {
          "color": "#19d3f3",
          "symbol": "circle"
         },
         "mode": "markers",
         "name": "Vinblastine+Paclitaxel+6",
         "orientation": "v",
         "showlegend": true,
         "type": "scatter",
         "x": [
          5.638255006274679
         ],
         "xaxis": "x",
         "y": [
          -3.1367159843019885
         ],
         "yaxis": "y"
        },
        {
         "hovertemplate": "color=Paclitaxel+Paclitaxel+1<br>0=%{x}<br>1=%{y}<extra></extra>",
         "legendgroup": "Paclitaxel+Paclitaxel+1",
         "marker": {
          "color": "#FF6692",
          "symbol": "circle"
         },
         "mode": "markers",
         "name": "Paclitaxel+Paclitaxel+1",
         "orientation": "v",
         "showlegend": true,
         "type": "scatter",
         "x": [
          6.203135986219976
         ],
         "xaxis": "x",
         "y": [
          -1.55627197688249
         ],
         "yaxis": "y"
        },
        {
         "hovertemplate": "color=Paclitaxel+Paclitaxel+2<br>0=%{x}<br>1=%{y}<extra></extra>",
         "legendgroup": "Paclitaxel+Paclitaxel+2",
         "marker": {
          "color": "#B6E880",
          "symbol": "circle"
         },
         "mode": "markers",
         "name": "Paclitaxel+Paclitaxel+2",
         "orientation": "v",
         "showlegend": true,
         "type": "scatter",
         "x": [
          4.619815914418807
         ],
         "xaxis": "x",
         "y": [
          -2.6727474995611806
         ],
         "yaxis": "y"
        },
        {
         "hovertemplate": "color=Paclitaxel+Paclitaxel+3<br>0=%{x}<br>1=%{y}<extra></extra>",
         "legendgroup": "Paclitaxel+Paclitaxel+3",
         "marker": {
          "color": "#FF97FF",
          "symbol": "circle"
         },
         "mode": "markers",
         "name": "Paclitaxel+Paclitaxel+3",
         "orientation": "v",
         "showlegend": true,
         "type": "scatter",
         "x": [
          5.420952402407263
         ],
         "xaxis": "x",
         "y": [
          -5.582583745269887
         ],
         "yaxis": "y"
        },
        {
         "hovertemplate": "color=Paclitaxel+Paclitaxel+4<br>0=%{x}<br>1=%{y}<extra></extra>",
         "legendgroup": "Paclitaxel+Paclitaxel+4",
         "marker": {
          "color": "#FECB52",
          "symbol": "circle"
         },
         "mode": "markers",
         "name": "Paclitaxel+Paclitaxel+4",
         "orientation": "v",
         "showlegend": true,
         "type": "scatter",
         "x": [
          5.288819052268082
         ],
         "xaxis": "x",
         "y": [
          -3.0343498633367276
         ],
         "yaxis": "y"
        },
        {
         "hovertemplate": "color=Paclitaxel+Paclitaxel+5<br>0=%{x}<br>1=%{y}<extra></extra>",
         "legendgroup": "Paclitaxel+Paclitaxel+5",
         "marker": {
          "color": "#636efa",
          "symbol": "circle"
         },
         "mode": "markers",
         "name": "Paclitaxel+Paclitaxel+5",
         "orientation": "v",
         "showlegend": true,
         "type": "scatter",
         "x": [
          5.288517369071387
         ],
         "xaxis": "x",
         "y": [
          -4.3318640253123375
         ],
         "yaxis": "y"
        },
        {
         "hovertemplate": "color=Paclitaxel+Paclitaxel+6<br>0=%{x}<br>1=%{y}<extra></extra>",
         "legendgroup": "Paclitaxel+Paclitaxel+6",
         "marker": {
          "color": "#EF553B",
          "symbol": "circle"
         },
         "mode": "markers",
         "name": "Paclitaxel+Paclitaxel+6",
         "orientation": "v",
         "showlegend": true,
         "type": "scatter",
         "x": [
          5.544018366636385
         ],
         "xaxis": "x",
         "y": [
          -2.6756776709564347
         ],
         "yaxis": "y"
        },
        {
         "hovertemplate": "color=Vinblastine+Vinblastine+1<br>0=%{x}<br>1=%{y}<extra></extra>",
         "legendgroup": "Vinblastine+Vinblastine+1",
         "marker": {
          "color": "#00cc96",
          "symbol": "circle"
         },
         "mode": "markers",
         "name": "Vinblastine+Vinblastine+1",
         "orientation": "v",
         "showlegend": true,
         "type": "scatter",
         "x": [
          5.176601538287022
         ],
         "xaxis": "x",
         "y": [
          -4.053344824979146
         ],
         "yaxis": "y"
        },
        {
         "hovertemplate": "color=Vinblastine+Vinblastine+2<br>0=%{x}<br>1=%{y}<extra></extra>",
         "legendgroup": "Vinblastine+Vinblastine+2",
         "marker": {
          "color": "#ab63fa",
          "symbol": "circle"
         },
         "mode": "markers",
         "name": "Vinblastine+Vinblastine+2",
         "orientation": "v",
         "showlegend": true,
         "type": "scatter",
         "x": [
          4.797589440822139
         ],
         "xaxis": "x",
         "y": [
          -2.513129959348961
         ],
         "yaxis": "y"
        },
        {
         "hovertemplate": "color=Vinblastine+Vinblastine+3<br>0=%{x}<br>1=%{y}<extra></extra>",
         "legendgroup": "Vinblastine+Vinblastine+3",
         "marker": {
          "color": "#FFA15A",
          "symbol": "circle"
         },
         "mode": "markers",
         "name": "Vinblastine+Vinblastine+3",
         "orientation": "v",
         "showlegend": true,
         "type": "scatter",
         "x": [
          4.749359239346229
         ],
         "xaxis": "x",
         "y": [
          -3.6238088436314992
         ],
         "yaxis": "y"
        },
        {
         "hovertemplate": "color=Vinblastine+Vinblastine+4<br>0=%{x}<br>1=%{y}<extra></extra>",
         "legendgroup": "Vinblastine+Vinblastine+4",
         "marker": {
          "color": "#19d3f3",
          "symbol": "circle"
         },
         "mode": "markers",
         "name": "Vinblastine+Vinblastine+4",
         "orientation": "v",
         "showlegend": true,
         "type": "scatter",
         "x": [
          5.67101194195643
         ],
         "xaxis": "x",
         "y": [
          -3.125234723492482
         ],
         "yaxis": "y"
        },
        {
         "hovertemplate": "color=Vinblastine+Vinblastine+5<br>0=%{x}<br>1=%{y}<extra></extra>",
         "legendgroup": "Vinblastine+Vinblastine+5",
         "marker": {
          "color": "#FF6692",
          "symbol": "circle"
         },
         "mode": "markers",
         "name": "Vinblastine+Vinblastine+5",
         "orientation": "v",
         "showlegend": true,
         "type": "scatter",
         "x": [
          4.121421983285895
         ],
         "xaxis": "x",
         "y": [
          -3.6170800294852072
         ],
         "yaxis": "y"
        },
        {
         "hovertemplate": "color=Vinblastine+Vinblastine+6<br>0=%{x}<br>1=%{y}<extra></extra>",
         "legendgroup": "Vinblastine+Vinblastine+6",
         "marker": {
          "color": "#B6E880",
          "symbol": "circle"
         },
         "mode": "markers",
         "name": "Vinblastine+Vinblastine+6",
         "orientation": "v",
         "showlegend": true,
         "type": "scatter",
         "x": [
          3.1221701026287163
         ],
         "xaxis": "x",
         "y": [
          0.28227487498163195
         ],
         "yaxis": "y"
        },
        {
         "hovertemplate": "color=17AAG+AUY922+1<br>0=%{x}<br>1=%{y}<extra></extra>",
         "legendgroup": "17AAG+AUY922+1",
         "marker": {
          "color": "#FF97FF",
          "symbol": "circle"
         },
         "mode": "markers",
         "name": "17AAG+AUY922+1",
         "orientation": "v",
         "showlegend": true,
         "type": "scatter",
         "x": [
          1.6061716784271385
         ],
         "xaxis": "x",
         "y": [
          -2.783257613316196
         ],
         "yaxis": "y"
        },
        {
         "hovertemplate": "color=17AAG+AUY922+2<br>0=%{x}<br>1=%{y}<extra></extra>",
         "legendgroup": "17AAG+AUY922+2",
         "marker": {
          "color": "#FECB52",
          "symbol": "circle"
         },
         "mode": "markers",
         "name": "17AAG+AUY922+2",
         "orientation": "v",
         "showlegend": true,
         "type": "scatter",
         "x": [
          3.134607491091491
         ],
         "xaxis": "x",
         "y": [
          -3.31710849803794
         ],
         "yaxis": "y"
        },
        {
         "hovertemplate": "color=17AAG+AUY922+3<br>0=%{x}<br>1=%{y}<extra></extra>",
         "legendgroup": "17AAG+AUY922+3",
         "marker": {
          "color": "#636efa",
          "symbol": "circle"
         },
         "mode": "markers",
         "name": "17AAG+AUY922+3",
         "orientation": "v",
         "showlegend": true,
         "type": "scatter",
         "x": [
          2.2587352377629757
         ],
         "xaxis": "x",
         "y": [
          -3.124852388972172
         ],
         "yaxis": "y"
        },
        {
         "hovertemplate": "color=17AAG+AUY922+4<br>0=%{x}<br>1=%{y}<extra></extra>",
         "legendgroup": "17AAG+AUY922+4",
         "marker": {
          "color": "#EF553B",
          "symbol": "circle"
         },
         "mode": "markers",
         "name": "17AAG+AUY922+4",
         "orientation": "v",
         "showlegend": true,
         "type": "scatter",
         "x": [
          4.217223988929056
         ],
         "xaxis": "x",
         "y": [
          -2.5555894670844106
         ],
         "yaxis": "y"
        },
        {
         "hovertemplate": "color=17AAG+AUY922+5<br>0=%{x}<br>1=%{y}<extra></extra>",
         "legendgroup": "17AAG+AUY922+5",
         "marker": {
          "color": "#00cc96",
          "symbol": "circle"
         },
         "mode": "markers",
         "name": "17AAG+AUY922+5",
         "orientation": "v",
         "showlegend": true,
         "type": "scatter",
         "x": [
          3.3534966696544974
         ],
         "xaxis": "x",
         "y": [
          -3.0133196026573907
         ],
         "yaxis": "y"
        },
        {
         "hovertemplate": "color=17AAG+AUY922+6<br>0=%{x}<br>1=%{y}<extra></extra>",
         "legendgroup": "17AAG+AUY922+6",
         "marker": {
          "color": "#ab63fa",
          "symbol": "circle"
         },
         "mode": "markers",
         "name": "17AAG+AUY922+6",
         "orientation": "v",
         "showlegend": true,
         "type": "scatter",
         "x": [
          2.6701253135878327
         ],
         "xaxis": "x",
         "y": [
          -2.8183383058264244
         ],
         "yaxis": "y"
        },
        {
         "hovertemplate": "color=AUY922+17AAG+1<br>0=%{x}<br>1=%{y}<extra></extra>",
         "legendgroup": "AUY922+17AAG+1",
         "marker": {
          "color": "#FFA15A",
          "symbol": "circle"
         },
         "mode": "markers",
         "name": "AUY922+17AAG+1",
         "orientation": "v",
         "showlegend": true,
         "type": "scatter",
         "x": [
          4.055895378726337
         ],
         "xaxis": "x",
         "y": [
          -2.7097909600598924
         ],
         "yaxis": "y"
        },
        {
         "hovertemplate": "color=AUY922+17AAG+2<br>0=%{x}<br>1=%{y}<extra></extra>",
         "legendgroup": "AUY922+17AAG+2",
         "marker": {
          "color": "#19d3f3",
          "symbol": "circle"
         },
         "mode": "markers",
         "name": "AUY922+17AAG+2",
         "orientation": "v",
         "showlegend": true,
         "type": "scatter",
         "x": [
          2.6680886980314145
         ],
         "xaxis": "x",
         "y": [
          -2.769342578383348
         ],
         "yaxis": "y"
        },
        {
         "hovertemplate": "color=AUY922+17AAG+3<br>0=%{x}<br>1=%{y}<extra></extra>",
         "legendgroup": "AUY922+17AAG+3",
         "marker": {
          "color": "#FF6692",
          "symbol": "circle"
         },
         "mode": "markers",
         "name": "AUY922+17AAG+3",
         "orientation": "v",
         "showlegend": true,
         "type": "scatter",
         "x": [
          3.27427935475625
         ],
         "xaxis": "x",
         "y": [
          -3.301350608642867
         ],
         "yaxis": "y"
        },
        {
         "hovertemplate": "color=AUY922+17AAG+4<br>0=%{x}<br>1=%{y}<extra></extra>",
         "legendgroup": "AUY922+17AAG+4",
         "marker": {
          "color": "#B6E880",
          "symbol": "circle"
         },
         "mode": "markers",
         "name": "AUY922+17AAG+4",
         "orientation": "v",
         "showlegend": true,
         "type": "scatter",
         "x": [
          2.565142005855225
         ],
         "xaxis": "x",
         "y": [
          -3.5264973212147606
         ],
         "yaxis": "y"
        },
        {
         "hovertemplate": "color=AUY922+17AAG+5<br>0=%{x}<br>1=%{y}<extra></extra>",
         "legendgroup": "AUY922+17AAG+5",
         "marker": {
          "color": "#FF97FF",
          "symbol": "circle"
         },
         "mode": "markers",
         "name": "AUY922+17AAG+5",
         "orientation": "v",
         "showlegend": true,
         "type": "scatter",
         "x": [
          3.283893694049551
         ],
         "xaxis": "x",
         "y": [
          -3.989461052369364
         ],
         "yaxis": "y"
        },
        {
         "hovertemplate": "color=AUY922+17AAG+6<br>0=%{x}<br>1=%{y}<extra></extra>",
         "legendgroup": "AUY922+17AAG+6",
         "marker": {
          "color": "#FECB52",
          "symbol": "circle"
         },
         "mode": "markers",
         "name": "AUY922+17AAG+6",
         "orientation": "v",
         "showlegend": true,
         "type": "scatter",
         "x": [
          1.2981041034920398
         ],
         "xaxis": "x",
         "y": [
          -4.276804184752463
         ],
         "yaxis": "y"
        },
        {
         "hovertemplate": "color=AUY922+AUY922+1<br>0=%{x}<br>1=%{y}<extra></extra>",
         "legendgroup": "AUY922+AUY922+1",
         "marker": {
          "color": "#636efa",
          "symbol": "circle"
         },
         "mode": "markers",
         "name": "AUY922+AUY922+1",
         "orientation": "v",
         "showlegend": true,
         "type": "scatter",
         "x": [
          3.287302396923444
         ],
         "xaxis": "x",
         "y": [
          -2.802841184664594
         ],
         "yaxis": "y"
        },
        {
         "hovertemplate": "color=AUY922+AUY922+2<br>0=%{x}<br>1=%{y}<extra></extra>",
         "legendgroup": "AUY922+AUY922+2",
         "marker": {
          "color": "#EF553B",
          "symbol": "circle"
         },
         "mode": "markers",
         "name": "AUY922+AUY922+2",
         "orientation": "v",
         "showlegend": true,
         "type": "scatter",
         "x": [
          2.826304270945188
         ],
         "xaxis": "x",
         "y": [
          -3.3170514780983917
         ],
         "yaxis": "y"
        },
        {
         "hovertemplate": "color=AUY922+AUY922+3<br>0=%{x}<br>1=%{y}<extra></extra>",
         "legendgroup": "AUY922+AUY922+3",
         "marker": {
          "color": "#00cc96",
          "symbol": "circle"
         },
         "mode": "markers",
         "name": "AUY922+AUY922+3",
         "orientation": "v",
         "showlegend": true,
         "type": "scatter",
         "x": [
          3.4571873271172833
         ],
         "xaxis": "x",
         "y": [
          -3.6726564207766845
         ],
         "yaxis": "y"
        },
        {
         "hovertemplate": "color=AUY922+AUY922+4<br>0=%{x}<br>1=%{y}<extra></extra>",
         "legendgroup": "AUY922+AUY922+4",
         "marker": {
          "color": "#ab63fa",
          "symbol": "circle"
         },
         "mode": "markers",
         "name": "AUY922+AUY922+4",
         "orientation": "v",
         "showlegend": true,
         "type": "scatter",
         "x": [
          2.551819574195176
         ],
         "xaxis": "x",
         "y": [
          -2.3923674107022355
         ],
         "yaxis": "y"
        },
        {
         "hovertemplate": "color=AUY922+AUY922+5<br>0=%{x}<br>1=%{y}<extra></extra>",
         "legendgroup": "AUY922+AUY922+5",
         "marker": {
          "color": "#FFA15A",
          "symbol": "circle"
         },
         "mode": "markers",
         "name": "AUY922+AUY922+5",
         "orientation": "v",
         "showlegend": true,
         "type": "scatter",
         "x": [
          2.889921788585014
         ],
         "xaxis": "x",
         "y": [
          -2.4170306554698766
         ],
         "yaxis": "y"
        },
        {
         "hovertemplate": "color=AUY922+AUY922+6<br>0=%{x}<br>1=%{y}<extra></extra>",
         "legendgroup": "AUY922+AUY922+6",
         "marker": {
          "color": "#19d3f3",
          "symbol": "circle"
         },
         "mode": "markers",
         "name": "AUY922+AUY922+6",
         "orientation": "v",
         "showlegend": true,
         "type": "scatter",
         "x": [
          3.162309623698509
         ],
         "xaxis": "x",
         "y": [
          -1.3680206093167446
         ],
         "yaxis": "y"
        },
        {
         "hovertemplate": "color=17AAG+17AAG+1<br>0=%{x}<br>1=%{y}<extra></extra>",
         "legendgroup": "17AAG+17AAG+1",
         "marker": {
          "color": "#FF6692",
          "symbol": "circle"
         },
         "mode": "markers",
         "name": "17AAG+17AAG+1",
         "orientation": "v",
         "showlegend": true,
         "type": "scatter",
         "x": [
          2.8354989410306324
         ],
         "xaxis": "x",
         "y": [
          -2.4951991947925474
         ],
         "yaxis": "y"
        },
        {
         "hovertemplate": "color=17AAG+17AAG+2<br>0=%{x}<br>1=%{y}<extra></extra>",
         "legendgroup": "17AAG+17AAG+2",
         "marker": {
          "color": "#B6E880",
          "symbol": "circle"
         },
         "mode": "markers",
         "name": "17AAG+17AAG+2",
         "orientation": "v",
         "showlegend": true,
         "type": "scatter",
         "x": [
          2.3916901721643824
         ],
         "xaxis": "x",
         "y": [
          -3.8471880630087973
         ],
         "yaxis": "y"
        },
        {
         "hovertemplate": "color=17AAG+17AAG+3<br>0=%{x}<br>1=%{y}<extra></extra>",
         "legendgroup": "17AAG+17AAG+3",
         "marker": {
          "color": "#FF97FF",
          "symbol": "circle"
         },
         "mode": "markers",
         "name": "17AAG+17AAG+3",
         "orientation": "v",
         "showlegend": true,
         "type": "scatter",
         "x": [
          2.5415185704122694
         ],
         "xaxis": "x",
         "y": [
          -3.067069457263974
         ],
         "yaxis": "y"
        },
        {
         "hovertemplate": "color=17AAG+17AAG+4<br>0=%{x}<br>1=%{y}<extra></extra>",
         "legendgroup": "17AAG+17AAG+4",
         "marker": {
          "color": "#FECB52",
          "symbol": "circle"
         },
         "mode": "markers",
         "name": "17AAG+17AAG+4",
         "orientation": "v",
         "showlegend": true,
         "type": "scatter",
         "x": [
          2.0700529572027424
         ],
         "xaxis": "x",
         "y": [
          -2.474710748076092
         ],
         "yaxis": "y"
        },
        {
         "hovertemplate": "color=17AAG+17AAG+5<br>0=%{x}<br>1=%{y}<extra></extra>",
         "legendgroup": "17AAG+17AAG+5",
         "marker": {
          "color": "#636efa",
          "symbol": "circle"
         },
         "mode": "markers",
         "name": "17AAG+17AAG+5",
         "orientation": "v",
         "showlegend": true,
         "type": "scatter",
         "x": [
          0.05892940166404636
         ],
         "xaxis": "x",
         "y": [
          -3.7680628941285064
         ],
         "yaxis": "y"
        },
        {
         "hovertemplate": "color=17AAG+17AAG+6<br>0=%{x}<br>1=%{y}<extra></extra>",
         "legendgroup": "17AAG+17AAG+6",
         "marker": {
          "color": "#EF553B",
          "symbol": "circle"
         },
         "mode": "markers",
         "name": "17AAG+17AAG+6",
         "orientation": "v",
         "showlegend": true,
         "type": "scatter",
         "x": [
          1.8150617160258518
         ],
         "xaxis": "x",
         "y": [
          -0.9099496227087559
         ],
         "yaxis": "y"
        },
        {
         "hovertemplate": "color=MG132+PS341+1<br>0=%{x}<br>1=%{y}<extra></extra>",
         "legendgroup": "MG132+PS341+1",
         "marker": {
          "color": "#00cc96",
          "symbol": "circle"
         },
         "mode": "markers",
         "name": "MG132+PS341+1",
         "orientation": "v",
         "showlegend": true,
         "type": "scatter",
         "x": [
          4.377522349351381
         ],
         "xaxis": "x",
         "y": [
          -1.2463784628818224
         ],
         "yaxis": "y"
        },
        {
         "hovertemplate": "color=MG132+PS341+2<br>0=%{x}<br>1=%{y}<extra></extra>",
         "legendgroup": "MG132+PS341+2",
         "marker": {
          "color": "#ab63fa",
          "symbol": "circle"
         },
         "mode": "markers",
         "name": "MG132+PS341+2",
         "orientation": "v",
         "showlegend": true,
         "type": "scatter",
         "x": [
          5.357412839397475
         ],
         "xaxis": "x",
         "y": [
          -0.8425957067820633
         ],
         "yaxis": "y"
        },
        {
         "hovertemplate": "color=MG132+PS341+3<br>0=%{x}<br>1=%{y}<extra></extra>",
         "legendgroup": "MG132+PS341+3",
         "marker": {
          "color": "#FFA15A",
          "symbol": "circle"
         },
         "mode": "markers",
         "name": "MG132+PS341+3",
         "orientation": "v",
         "showlegend": true,
         "type": "scatter",
         "x": [
          5.204268662435327
         ],
         "xaxis": "x",
         "y": [
          -1.4347344385533656
         ],
         "yaxis": "y"
        },
        {
         "hovertemplate": "color=MG132+PS341+4<br>0=%{x}<br>1=%{y}<extra></extra>",
         "legendgroup": "MG132+PS341+4",
         "marker": {
          "color": "#19d3f3",
          "symbol": "circle"
         },
         "mode": "markers",
         "name": "MG132+PS341+4",
         "orientation": "v",
         "showlegend": true,
         "type": "scatter",
         "x": [
          0.7055259942030739
         ],
         "xaxis": "x",
         "y": [
          -1.8388628120006496
         ],
         "yaxis": "y"
        },
        {
         "hovertemplate": "color=MG132+PS341+5<br>0=%{x}<br>1=%{y}<extra></extra>",
         "legendgroup": "MG132+PS341+5",
         "marker": {
          "color": "#FF6692",
          "symbol": "circle"
         },
         "mode": "markers",
         "name": "MG132+PS341+5",
         "orientation": "v",
         "showlegend": true,
         "type": "scatter",
         "x": [
          4.398541683747254
         ],
         "xaxis": "x",
         "y": [
          -0.6568692690241716
         ],
         "yaxis": "y"
        },
        {
         "hovertemplate": "color=MG132+PS341+6<br>0=%{x}<br>1=%{y}<extra></extra>",
         "legendgroup": "MG132+PS341+6",
         "marker": {
          "color": "#B6E880",
          "symbol": "circle"
         },
         "mode": "markers",
         "name": "MG132+PS341+6",
         "orientation": "v",
         "showlegend": true,
         "type": "scatter",
         "x": [
          4.922732426512549
         ],
         "xaxis": "x",
         "y": [
          -2.669659323996486
         ],
         "yaxis": "y"
        },
        {
         "hovertemplate": "color=PS341+MG132+1<br>0=%{x}<br>1=%{y}<extra></extra>",
         "legendgroup": "PS341+MG132+1",
         "marker": {
          "color": "#FF97FF",
          "symbol": "circle"
         },
         "mode": "markers",
         "name": "PS341+MG132+1",
         "orientation": "v",
         "showlegend": true,
         "type": "scatter",
         "x": [
          3.1795831111993444
         ],
         "xaxis": "x",
         "y": [
          -0.7501376369837089
         ],
         "yaxis": "y"
        },
        {
         "hovertemplate": "color=PS341+MG132+2<br>0=%{x}<br>1=%{y}<extra></extra>",
         "legendgroup": "PS341+MG132+2",
         "marker": {
          "color": "#FECB52",
          "symbol": "circle"
         },
         "mode": "markers",
         "name": "PS341+MG132+2",
         "orientation": "v",
         "showlegend": true,
         "type": "scatter",
         "x": [
          4.8858449555376895
         ],
         "xaxis": "x",
         "y": [
          -0.9963117311803303
         ],
         "yaxis": "y"
        },
        {
         "hovertemplate": "color=PS341+MG132+3<br>0=%{x}<br>1=%{y}<extra></extra>",
         "legendgroup": "PS341+MG132+3",
         "marker": {
          "color": "#636efa",
          "symbol": "circle"
         },
         "mode": "markers",
         "name": "PS341+MG132+3",
         "orientation": "v",
         "showlegend": true,
         "type": "scatter",
         "x": [
          3.9800992176321754
         ],
         "xaxis": "x",
         "y": [
          -0.7399242965747
         ],
         "yaxis": "y"
        },
        {
         "hovertemplate": "color=PS341+MG132+4<br>0=%{x}<br>1=%{y}<extra></extra>",
         "legendgroup": "PS341+MG132+4",
         "marker": {
          "color": "#EF553B",
          "symbol": "circle"
         },
         "mode": "markers",
         "name": "PS341+MG132+4",
         "orientation": "v",
         "showlegend": true,
         "type": "scatter",
         "x": [
          4.678912301397274
         ],
         "xaxis": "x",
         "y": [
          -2.3889980486122533
         ],
         "yaxis": "y"
        },
        {
         "hovertemplate": "color=PS341+MG132+5<br>0=%{x}<br>1=%{y}<extra></extra>",
         "legendgroup": "PS341+MG132+5",
         "marker": {
          "color": "#00cc96",
          "symbol": "circle"
         },
         "mode": "markers",
         "name": "PS341+MG132+5",
         "orientation": "v",
         "showlegend": true,
         "type": "scatter",
         "x": [
          5.226638708410443
         ],
         "xaxis": "x",
         "y": [
          -0.8322600639270761
         ],
         "yaxis": "y"
        },
        {
         "hovertemplate": "color=PS341+MG132+6<br>0=%{x}<br>1=%{y}<extra></extra>",
         "legendgroup": "PS341+MG132+6",
         "marker": {
          "color": "#ab63fa",
          "symbol": "circle"
         },
         "mode": "markers",
         "name": "PS341+MG132+6",
         "orientation": "v",
         "showlegend": true,
         "type": "scatter",
         "x": [
          4.566652966871028
         ],
         "xaxis": "x",
         "y": [
          1.2857341977413717
         ],
         "yaxis": "y"
        },
        {
         "hovertemplate": "color=MG132+MG132+1<br>0=%{x}<br>1=%{y}<extra></extra>",
         "legendgroup": "MG132+MG132+1",
         "marker": {
          "color": "#FFA15A",
          "symbol": "circle"
         },
         "mode": "markers",
         "name": "MG132+MG132+1",
         "orientation": "v",
         "showlegend": true,
         "type": "scatter",
         "x": [
          4.4539530387938875
         ],
         "xaxis": "x",
         "y": [
          -3.1366248341262017
         ],
         "yaxis": "y"
        },
        {
         "hovertemplate": "color=MG132+MG132+2<br>0=%{x}<br>1=%{y}<extra></extra>",
         "legendgroup": "MG132+MG132+2",
         "marker": {
          "color": "#19d3f3",
          "symbol": "circle"
         },
         "mode": "markers",
         "name": "MG132+MG132+2",
         "orientation": "v",
         "showlegend": true,
         "type": "scatter",
         "x": [
          4.569721954145272
         ],
         "xaxis": "x",
         "y": [
          -2.0241717505495864
         ],
         "yaxis": "y"
        },
        {
         "hovertemplate": "color=MG132+MG132+3<br>0=%{x}<br>1=%{y}<extra></extra>",
         "legendgroup": "MG132+MG132+3",
         "marker": {
          "color": "#FF6692",
          "symbol": "circle"
         },
         "mode": "markers",
         "name": "MG132+MG132+3",
         "orientation": "v",
         "showlegend": true,
         "type": "scatter",
         "x": [
          5.031534064039458
         ],
         "xaxis": "x",
         "y": [
          -0.5404700184288818
         ],
         "yaxis": "y"
        },
        {
         "hovertemplate": "color=MG132+MG132+4<br>0=%{x}<br>1=%{y}<extra></extra>",
         "legendgroup": "MG132+MG132+4",
         "marker": {
          "color": "#B6E880",
          "symbol": "circle"
         },
         "mode": "markers",
         "name": "MG132+MG132+4",
         "orientation": "v",
         "showlegend": true,
         "type": "scatter",
         "x": [
          4.619012439239691
         ],
         "xaxis": "x",
         "y": [
          -3.0151460456781094
         ],
         "yaxis": "y"
        },
        {
         "hovertemplate": "color=MG132+MG132+5<br>0=%{x}<br>1=%{y}<extra></extra>",
         "legendgroup": "MG132+MG132+5",
         "marker": {
          "color": "#FF97FF",
          "symbol": "circle"
         },
         "mode": "markers",
         "name": "MG132+MG132+5",
         "orientation": "v",
         "showlegend": true,
         "type": "scatter",
         "x": [
          3.307046907721336
         ],
         "xaxis": "x",
         "y": [
          -0.6553731403730161
         ],
         "yaxis": "y"
        },
        {
         "hovertemplate": "color=MG132+MG132+6<br>0=%{x}<br>1=%{y}<extra></extra>",
         "legendgroup": "MG132+MG132+6",
         "marker": {
          "color": "#FECB52",
          "symbol": "circle"
         },
         "mode": "markers",
         "name": "MG132+MG132+6",
         "orientation": "v",
         "showlegend": true,
         "type": "scatter",
         "x": [
          4.6234166725955586
         ],
         "xaxis": "x",
         "y": [
          -1.1830057520239352
         ],
         "yaxis": "y"
        },
        {
         "hovertemplate": "color=PS341+PS341+1<br>0=%{x}<br>1=%{y}<extra></extra>",
         "legendgroup": "PS341+PS341+1",
         "marker": {
          "color": "#636efa",
          "symbol": "circle"
         },
         "mode": "markers",
         "name": "PS341+PS341+1",
         "orientation": "v",
         "showlegend": true,
         "type": "scatter",
         "x": [
          3.2241970824794675
         ],
         "xaxis": "x",
         "y": [
          -1.535669340525026
         ],
         "yaxis": "y"
        },
        {
         "hovertemplate": "color=PS341+PS341+2<br>0=%{x}<br>1=%{y}<extra></extra>",
         "legendgroup": "PS341+PS341+2",
         "marker": {
          "color": "#EF553B",
          "symbol": "circle"
         },
         "mode": "markers",
         "name": "PS341+PS341+2",
         "orientation": "v",
         "showlegend": true,
         "type": "scatter",
         "x": [
          3.918027376616517
         ],
         "xaxis": "x",
         "y": [
          -1.4905226994009548
         ],
         "yaxis": "y"
        },
        {
         "hovertemplate": "color=PS341+PS341+3<br>0=%{x}<br>1=%{y}<extra></extra>",
         "legendgroup": "PS341+PS341+3",
         "marker": {
          "color": "#00cc96",
          "symbol": "circle"
         },
         "mode": "markers",
         "name": "PS341+PS341+3",
         "orientation": "v",
         "showlegend": true,
         "type": "scatter",
         "x": [
          4.708269539569637
         ],
         "xaxis": "x",
         "y": [
          -1.8290162444229303
         ],
         "yaxis": "y"
        },
        {
         "hovertemplate": "color=PS341+PS341+4<br>0=%{x}<br>1=%{y}<extra></extra>",
         "legendgroup": "PS341+PS341+4",
         "marker": {
          "color": "#ab63fa",
          "symbol": "circle"
         },
         "mode": "markers",
         "name": "PS341+PS341+4",
         "orientation": "v",
         "showlegend": true,
         "type": "scatter",
         "x": [
          4.618227879887536
         ],
         "xaxis": "x",
         "y": [
          0.5123873394477721
         ],
         "yaxis": "y"
        },
        {
         "hovertemplate": "color=PS341+PS341+5<br>0=%{x}<br>1=%{y}<extra></extra>",
         "legendgroup": "PS341+PS341+5",
         "marker": {
          "color": "#FFA15A",
          "symbol": "circle"
         },
         "mode": "markers",
         "name": "PS341+PS341+5",
         "orientation": "v",
         "showlegend": true,
         "type": "scatter",
         "x": [
          3.4320227919721304
         ],
         "xaxis": "x",
         "y": [
          -0.45727261364935257
         ],
         "yaxis": "y"
        },
        {
         "hovertemplate": "color=PS341+PS341+6<br>0=%{x}<br>1=%{y}<extra></extra>",
         "legendgroup": "PS341+PS341+6",
         "marker": {
          "color": "#19d3f3",
          "symbol": "circle"
         },
         "mode": "markers",
         "name": "PS341+PS341+6",
         "orientation": "v",
         "showlegend": true,
         "type": "scatter",
         "x": [
          3.6913793684276364
         ],
         "xaxis": "x",
         "y": [
          -0.9023344554876124
         ],
         "yaxis": "y"
        },
        {
         "hovertemplate": "color=SAHA+Apicidin+1<br>0=%{x}<br>1=%{y}<extra></extra>",
         "legendgroup": "SAHA+Apicidin+1",
         "marker": {
          "color": "#FF6692",
          "symbol": "circle"
         },
         "mode": "markers",
         "name": "SAHA+Apicidin+1",
         "orientation": "v",
         "showlegend": true,
         "type": "scatter",
         "x": [
          4.065010070807778
         ],
         "xaxis": "x",
         "y": [
          10.462677806001647
         ],
         "yaxis": "y"
        },
        {
         "hovertemplate": "color=SAHA+Apicidin+2<br>0=%{x}<br>1=%{y}<extra></extra>",
         "legendgroup": "SAHA+Apicidin+2",
         "marker": {
          "color": "#B6E880",
          "symbol": "circle"
         },
         "mode": "markers",
         "name": "SAHA+Apicidin+2",
         "orientation": "v",
         "showlegend": true,
         "type": "scatter",
         "x": [
          4.9863631362831216
         ],
         "xaxis": "x",
         "y": [
          10.516693358935012
         ],
         "yaxis": "y"
        },
        {
         "hovertemplate": "color=SAHA+Apicidin+3<br>0=%{x}<br>1=%{y}<extra></extra>",
         "legendgroup": "SAHA+Apicidin+3",
         "marker": {
          "color": "#FF97FF",
          "symbol": "circle"
         },
         "mode": "markers",
         "name": "SAHA+Apicidin+3",
         "orientation": "v",
         "showlegend": true,
         "type": "scatter",
         "x": [
          1.6881917387980498
         ],
         "xaxis": "x",
         "y": [
          10.246918455320829
         ],
         "yaxis": "y"
        },
        {
         "hovertemplate": "color=SAHA+Apicidin+4<br>0=%{x}<br>1=%{y}<extra></extra>",
         "legendgroup": "SAHA+Apicidin+4",
         "marker": {
          "color": "#FECB52",
          "symbol": "circle"
         },
         "mode": "markers",
         "name": "SAHA+Apicidin+4",
         "orientation": "v",
         "showlegend": true,
         "type": "scatter",
         "x": [
          5.809491164595653
         ],
         "xaxis": "x",
         "y": [
          11.230734028917574
         ],
         "yaxis": "y"
        },
        {
         "hovertemplate": "color=SAHA+Apicidin+5<br>0=%{x}<br>1=%{y}<extra></extra>",
         "legendgroup": "SAHA+Apicidin+5",
         "marker": {
          "color": "#636efa",
          "symbol": "circle"
         },
         "mode": "markers",
         "name": "SAHA+Apicidin+5",
         "orientation": "v",
         "showlegend": true,
         "type": "scatter",
         "x": [
          5.022081040025581
         ],
         "xaxis": "x",
         "y": [
          10.33923954797373
         ],
         "yaxis": "y"
        },
        {
         "hovertemplate": "color=SAHA+Apicidin+6<br>0=%{x}<br>1=%{y}<extra></extra>",
         "legendgroup": "SAHA+Apicidin+6",
         "marker": {
          "color": "#EF553B",
          "symbol": "circle"
         },
         "mode": "markers",
         "name": "SAHA+Apicidin+6",
         "orientation": "v",
         "showlegend": true,
         "type": "scatter",
         "x": [
          2.6758585568498545
         ],
         "xaxis": "x",
         "y": [
          9.299592600753803
         ],
         "yaxis": "y"
        },
        {
         "hovertemplate": "color=Apicidin+SAHA+1<br>0=%{x}<br>1=%{y}<extra></extra>",
         "legendgroup": "Apicidin+SAHA+1",
         "marker": {
          "color": "#00cc96",
          "symbol": "circle"
         },
         "mode": "markers",
         "name": "Apicidin+SAHA+1",
         "orientation": "v",
         "showlegend": true,
         "type": "scatter",
         "x": [
          3.8821316055149087
         ],
         "xaxis": "x",
         "y": [
          11.31423763434578
         ],
         "yaxis": "y"
        },
        {
         "hovertemplate": "color=Apicidin+SAHA+2<br>0=%{x}<br>1=%{y}<extra></extra>",
         "legendgroup": "Apicidin+SAHA+2",
         "marker": {
          "color": "#ab63fa",
          "symbol": "circle"
         },
         "mode": "markers",
         "name": "Apicidin+SAHA+2",
         "orientation": "v",
         "showlegend": true,
         "type": "scatter",
         "x": [
          3.4537312945364143
         ],
         "xaxis": "x",
         "y": [
          9.227866152699555
         ],
         "yaxis": "y"
        },
        {
         "hovertemplate": "color=Apicidin+SAHA+3<br>0=%{x}<br>1=%{y}<extra></extra>",
         "legendgroup": "Apicidin+SAHA+3",
         "marker": {
          "color": "#FFA15A",
          "symbol": "circle"
         },
         "mode": "markers",
         "name": "Apicidin+SAHA+3",
         "orientation": "v",
         "showlegend": true,
         "type": "scatter",
         "x": [
          4.193671200166327
         ],
         "xaxis": "x",
         "y": [
          11.18547182417449
         ],
         "yaxis": "y"
        },
        {
         "hovertemplate": "color=Apicidin+SAHA+4<br>0=%{x}<br>1=%{y}<extra></extra>",
         "legendgroup": "Apicidin+SAHA+4",
         "marker": {
          "color": "#19d3f3",
          "symbol": "circle"
         },
         "mode": "markers",
         "name": "Apicidin+SAHA+4",
         "orientation": "v",
         "showlegend": true,
         "type": "scatter",
         "x": [
          2.6757304916095688
         ],
         "xaxis": "x",
         "y": [
          10.970092592487044
         ],
         "yaxis": "y"
        },
        {
         "hovertemplate": "color=Apicidin+SAHA+5<br>0=%{x}<br>1=%{y}<extra></extra>",
         "legendgroup": "Apicidin+SAHA+5",
         "marker": {
          "color": "#FF6692",
          "symbol": "circle"
         },
         "mode": "markers",
         "name": "Apicidin+SAHA+5",
         "orientation": "v",
         "showlegend": true,
         "type": "scatter",
         "x": [
          3.196293819625562
         ],
         "xaxis": "x",
         "y": [
          7.644597062641158
         ],
         "yaxis": "y"
        },
        {
         "hovertemplate": "color=Apicidin+SAHA+6<br>0=%{x}<br>1=%{y}<extra></extra>",
         "legendgroup": "Apicidin+SAHA+6",
         "marker": {
          "color": "#B6E880",
          "symbol": "circle"
         },
         "mode": "markers",
         "name": "Apicidin+SAHA+6",
         "orientation": "v",
         "showlegend": true,
         "type": "scatter",
         "x": [
          2.094005928041919
         ],
         "xaxis": "x",
         "y": [
          8.642630197001534
         ],
         "yaxis": "y"
        },
        {
         "hovertemplate": "color=Apicidin+Apicidin+1<br>0=%{x}<br>1=%{y}<extra></extra>",
         "legendgroup": "Apicidin+Apicidin+1",
         "marker": {
          "color": "#FF97FF",
          "symbol": "circle"
         },
         "mode": "markers",
         "name": "Apicidin+Apicidin+1",
         "orientation": "v",
         "showlegend": true,
         "type": "scatter",
         "x": [
          2.7607163283564224
         ],
         "xaxis": "x",
         "y": [
          9.861712115452603
         ],
         "yaxis": "y"
        },
        {
         "hovertemplate": "color=Apicidin+Apicidin+2<br>0=%{x}<br>1=%{y}<extra></extra>",
         "legendgroup": "Apicidin+Apicidin+2",
         "marker": {
          "color": "#FECB52",
          "symbol": "circle"
         },
         "mode": "markers",
         "name": "Apicidin+Apicidin+2",
         "orientation": "v",
         "showlegend": true,
         "type": "scatter",
         "x": [
          3.324418466103673
         ],
         "xaxis": "x",
         "y": [
          9.464912151543329
         ],
         "yaxis": "y"
        },
        {
         "hovertemplate": "color=Apicidin+Apicidin+3<br>0=%{x}<br>1=%{y}<extra></extra>",
         "legendgroup": "Apicidin+Apicidin+3",
         "marker": {
          "color": "#636efa",
          "symbol": "circle"
         },
         "mode": "markers",
         "name": "Apicidin+Apicidin+3",
         "orientation": "v",
         "showlegend": true,
         "type": "scatter",
         "x": [
          3.387624789861639
         ],
         "xaxis": "x",
         "y": [
          10.895738957215812
         ],
         "yaxis": "y"
        },
        {
         "hovertemplate": "color=Apicidin+Apicidin+4<br>0=%{x}<br>1=%{y}<extra></extra>",
         "legendgroup": "Apicidin+Apicidin+4",
         "marker": {
          "color": "#EF553B",
          "symbol": "circle"
         },
         "mode": "markers",
         "name": "Apicidin+Apicidin+4",
         "orientation": "v",
         "showlegend": true,
         "type": "scatter",
         "x": [
          3.9373576538155675
         ],
         "xaxis": "x",
         "y": [
          9.307595245474298
         ],
         "yaxis": "y"
        },
        {
         "hovertemplate": "color=Apicidin+Apicidin+5<br>0=%{x}<br>1=%{y}<extra></extra>",
         "legendgroup": "Apicidin+Apicidin+5",
         "marker": {
          "color": "#00cc96",
          "symbol": "circle"
         },
         "mode": "markers",
         "name": "Apicidin+Apicidin+5",
         "orientation": "v",
         "showlegend": true,
         "type": "scatter",
         "x": [
          4.007527789673752
         ],
         "xaxis": "x",
         "y": [
          10.493554235356044
         ],
         "yaxis": "y"
        },
        {
         "hovertemplate": "color=Apicidin+Apicidin+6<br>0=%{x}<br>1=%{y}<extra></extra>",
         "legendgroup": "Apicidin+Apicidin+6",
         "marker": {
          "color": "#ab63fa",
          "symbol": "circle"
         },
         "mode": "markers",
         "name": "Apicidin+Apicidin+6",
         "orientation": "v",
         "showlegend": true,
         "type": "scatter",
         "x": [
          3.8911712998829127
         ],
         "xaxis": "x",
         "y": [
          7.258864775786288
         ],
         "yaxis": "y"
        },
        {
         "hovertemplate": "color=SAHA+SAHA+1<br>0=%{x}<br>1=%{y}<extra></extra>",
         "legendgroup": "SAHA+SAHA+1",
         "marker": {
          "color": "#FFA15A",
          "symbol": "circle"
         },
         "mode": "markers",
         "name": "SAHA+SAHA+1",
         "orientation": "v",
         "showlegend": true,
         "type": "scatter",
         "x": [
          3.9300446004672467
         ],
         "xaxis": "x",
         "y": [
          9.24651375381839
         ],
         "yaxis": "y"
        },
        {
         "hovertemplate": "color=SAHA+SAHA+2<br>0=%{x}<br>1=%{y}<extra></extra>",
         "legendgroup": "SAHA+SAHA+2",
         "marker": {
          "color": "#19d3f3",
          "symbol": "circle"
         },
         "mode": "markers",
         "name": "SAHA+SAHA+2",
         "orientation": "v",
         "showlegend": true,
         "type": "scatter",
         "x": [
          3.998839567330156
         ],
         "xaxis": "x",
         "y": [
          11.317879074241818
         ],
         "yaxis": "y"
        },
        {
         "hovertemplate": "color=SAHA+SAHA+3<br>0=%{x}<br>1=%{y}<extra></extra>",
         "legendgroup": "SAHA+SAHA+3",
         "marker": {
          "color": "#FF6692",
          "symbol": "circle"
         },
         "mode": "markers",
         "name": "SAHA+SAHA+3",
         "orientation": "v",
         "showlegend": true,
         "type": "scatter",
         "x": [
          3.8621117233725655
         ],
         "xaxis": "x",
         "y": [
          9.32239541691844
         ],
         "yaxis": "y"
        },
        {
         "hovertemplate": "color=SAHA+SAHA+4<br>0=%{x}<br>1=%{y}<extra></extra>",
         "legendgroup": "SAHA+SAHA+4",
         "marker": {
          "color": "#B6E880",
          "symbol": "circle"
         },
         "mode": "markers",
         "name": "SAHA+SAHA+4",
         "orientation": "v",
         "showlegend": true,
         "type": "scatter",
         "x": [
          4.725708417954237
         ],
         "xaxis": "x",
         "y": [
          8.318076939570119
         ],
         "yaxis": "y"
        },
        {
         "hovertemplate": "color=SAHA+SAHA+5<br>0=%{x}<br>1=%{y}<extra></extra>",
         "legendgroup": "SAHA+SAHA+5",
         "marker": {
          "color": "#FF97FF",
          "symbol": "circle"
         },
         "mode": "markers",
         "name": "SAHA+SAHA+5",
         "orientation": "v",
         "showlegend": true,
         "type": "scatter",
         "x": [
          0.47958256236697183
         ],
         "xaxis": "x",
         "y": [
          8.954926466089077
         ],
         "yaxis": "y"
        },
        {
         "hovertemplate": "color=SAHA+SAHA+6<br>0=%{x}<br>1=%{y}<extra></extra>",
         "legendgroup": "SAHA+SAHA+6",
         "marker": {
          "color": "#FECB52",
          "symbol": "circle"
         },
         "mode": "markers",
         "name": "SAHA+SAHA+6",
         "orientation": "v",
         "showlegend": true,
         "type": "scatter",
         "x": [
          3.0040393227708133
         ],
         "xaxis": "x",
         "y": [
          7.336998217666798
         ],
         "yaxis": "y"
        },
        {
         "hovertemplate": "color=DMSO+DMSO+1<br>0=%{x}<br>1=%{y}<extra></extra>",
         "legendgroup": "DMSO+DMSO+1",
         "marker": {
          "color": "#636efa",
          "symbol": "circle"
         },
         "mode": "markers",
         "name": "DMSO+DMSO+1",
         "orientation": "v",
         "showlegend": true,
         "type": "scatter",
         "x": [
          -8.82744746335015,
          -11.347557900692472,
          -10.21853041930896,
          -10.380471409027983,
          -8.282468255314884,
          -9.468775211330808,
          -9.617758314175914,
          -12.337872448442493
         ],
         "xaxis": "x",
         "y": [
          1.0919472671767252,
          -1.710147602952679,
          0.28291321487899096,
          1.9583638062563729,
          -0.42197063727213147,
          -2.051213645938808,
          -1.2454175129022134,
          0.2550613668946639
         ],
         "yaxis": "y"
        },
        {
         "hovertemplate": "color=DMSO+DMSO+2<br>0=%{x}<br>1=%{y}<extra></extra>",
         "legendgroup": "DMSO+DMSO+2",
         "marker": {
          "color": "#EF553B",
          "symbol": "circle"
         },
         "mode": "markers",
         "name": "DMSO+DMSO+2",
         "orientation": "v",
         "showlegend": true,
         "type": "scatter",
         "x": [
          -11.301596580711182,
          -9.806563820044914,
          -11.06814504141788,
          -11.712307942657873,
          -11.894309815904506,
          -10.129395288963861,
          -10.55973877990183,
          -12.059594691237894
         ],
         "xaxis": "x",
         "y": [
          -0.37416449103183913,
          -0.08592096642058275,
          1.7140180048594267,
          2.3621314834399847,
          -0.3257374229652696,
          -1.3743847927329658,
          -0.06484276696782719,
          0.6343900539471615
         ],
         "yaxis": "y"
        },
        {
         "hovertemplate": "color=DMSO+DMSO+3<br>0=%{x}<br>1=%{y}<extra></extra>",
         "legendgroup": "DMSO+DMSO+3",
         "marker": {
          "color": "#00cc96",
          "symbol": "circle"
         },
         "mode": "markers",
         "name": "DMSO+DMSO+3",
         "orientation": "v",
         "showlegend": true,
         "type": "scatter",
         "x": [
          -9.788523389422243,
          -10.325767704255147,
          -10.673679846206603,
          -11.757665786552069,
          -11.114690398353966,
          -10.456510120768046,
          -11.340028174232687,
          -10.980968091902868
         ],
         "xaxis": "x",
         "y": [
          0.07243673429863812,
          -0.24763362298367578,
          0.33132642832251485,
          -2.551043392179259,
          0.13389961622664562,
          0.7662041099553666,
          -1.4626457424023185,
          -0.3312583008404028
         ],
         "yaxis": "y"
        },
        {
         "hovertemplate": "color=DMSO+DMSO+4<br>0=%{x}<br>1=%{y}<extra></extra>",
         "legendgroup": "DMSO+DMSO+4",
         "marker": {
          "color": "#ab63fa",
          "symbol": "circle"
         },
         "mode": "markers",
         "name": "DMSO+DMSO+4",
         "orientation": "v",
         "showlegend": true,
         "type": "scatter",
         "x": [
          -11.560098603797092,
          -9.516534383519188,
          -10.314246922662297,
          -8.929174411475614,
          -11.616581164371484,
          -8.358872866470874,
          -9.034901599716251,
          -12.16966883367316
         ],
         "xaxis": "x",
         "y": [
          0.5381058803633871,
          -0.5915530685171898,
          -0.6938748385598263,
          -1.0893396842682552,
          -0.5181776128809434,
          -0.5537086133098261,
          -0.972082474727163,
          0.3842533160290924
         ],
         "yaxis": "y"
        },
        {
         "hovertemplate": "color=DMSO+DMSO+5<br>0=%{x}<br>1=%{y}<extra></extra>",
         "legendgroup": "DMSO+DMSO+5",
         "marker": {
          "color": "#FFA15A",
          "symbol": "circle"
         },
         "mode": "markers",
         "name": "DMSO+DMSO+5",
         "orientation": "v",
         "showlegend": true,
         "type": "scatter",
         "x": [
          -12.3815907774891,
          -9.23904308477141,
          -9.88409494302365,
          -9.406810492948274,
          -12.14884008556853,
          -10.441905347233126,
          -9.908171006140863,
          -9.54610932577207
         ],
         "xaxis": "x",
         "y": [
          0.021820639697293948,
          1.4334357481028872,
          0.30350528801749405,
          0.011879087560764454,
          -0.31673365558682276,
          -1.0697830174106684,
          0.17239302315493676,
          -1.4845218514020369
         ],
         "yaxis": "y"
        },
        {
         "hovertemplate": "color=DMSO+DMSO+6<br>0=%{x}<br>1=%{y}<extra></extra>",
         "legendgroup": "DMSO+DMSO+6",
         "marker": {
          "color": "#19d3f3",
          "symbol": "circle"
         },
         "mode": "markers",
         "name": "DMSO+DMSO+6",
         "orientation": "v",
         "showlegend": true,
         "type": "scatter",
         "x": [
          -10.99662564361714,
          -10.686059688348047,
          -9.14323159532991,
          -8.925227621013331,
          -11.090093097950302,
          -10.937566585786652,
          -11.098317503494044,
          -11.77298941504213
         ],
         "xaxis": "x",
         "y": [
          -0.5055547518745019,
          -0.49652062094687177,
          -2.3731776797856114,
          -0.5209948351703289,
          1.3285908062268144,
          0.2940682428510123,
          -1.847246477264287,
          0.1523297137757906
         ],
         "yaxis": "y"
        }
       ],
       "layout": {
        "legend": {
         "title": {
          "text": "color"
         },
         "tracegroupgap": 0
        },
        "margin": {
         "t": 60
        },
        "template": {
         "data": {
          "bar": [
           {
            "error_x": {
             "color": "#2a3f5f"
            },
            "error_y": {
             "color": "#2a3f5f"
            },
            "marker": {
             "line": {
              "color": "#E5ECF6",
              "width": 0.5
             },
             "pattern": {
              "fillmode": "overlay",
              "size": 10,
              "solidity": 0.2
             }
            },
            "type": "bar"
           }
          ],
          "barpolar": [
           {
            "marker": {
             "line": {
              "color": "#E5ECF6",
              "width": 0.5
             },
             "pattern": {
              "fillmode": "overlay",
              "size": 10,
              "solidity": 0.2
             }
            },
            "type": "barpolar"
           }
          ],
          "carpet": [
           {
            "aaxis": {
             "endlinecolor": "#2a3f5f",
             "gridcolor": "white",
             "linecolor": "white",
             "minorgridcolor": "white",
             "startlinecolor": "#2a3f5f"
            },
            "baxis": {
             "endlinecolor": "#2a3f5f",
             "gridcolor": "white",
             "linecolor": "white",
             "minorgridcolor": "white",
             "startlinecolor": "#2a3f5f"
            },
            "type": "carpet"
           }
          ],
          "choropleth": [
           {
            "colorbar": {
             "outlinewidth": 0,
             "ticks": ""
            },
            "type": "choropleth"
           }
          ],
          "contour": [
           {
            "colorbar": {
             "outlinewidth": 0,
             "ticks": ""
            },
            "colorscale": [
             [
              0,
              "#0d0887"
             ],
             [
              0.1111111111111111,
              "#46039f"
             ],
             [
              0.2222222222222222,
              "#7201a8"
             ],
             [
              0.3333333333333333,
              "#9c179e"
             ],
             [
              0.4444444444444444,
              "#bd3786"
             ],
             [
              0.5555555555555556,
              "#d8576b"
             ],
             [
              0.6666666666666666,
              "#ed7953"
             ],
             [
              0.7777777777777778,
              "#fb9f3a"
             ],
             [
              0.8888888888888888,
              "#fdca26"
             ],
             [
              1,
              "#f0f921"
             ]
            ],
            "type": "contour"
           }
          ],
          "contourcarpet": [
           {
            "colorbar": {
             "outlinewidth": 0,
             "ticks": ""
            },
            "type": "contourcarpet"
           }
          ],
          "heatmap": [
           {
            "colorbar": {
             "outlinewidth": 0,
             "ticks": ""
            },
            "colorscale": [
             [
              0,
              "#0d0887"
             ],
             [
              0.1111111111111111,
              "#46039f"
             ],
             [
              0.2222222222222222,
              "#7201a8"
             ],
             [
              0.3333333333333333,
              "#9c179e"
             ],
             [
              0.4444444444444444,
              "#bd3786"
             ],
             [
              0.5555555555555556,
              "#d8576b"
             ],
             [
              0.6666666666666666,
              "#ed7953"
             ],
             [
              0.7777777777777778,
              "#fb9f3a"
             ],
             [
              0.8888888888888888,
              "#fdca26"
             ],
             [
              1,
              "#f0f921"
             ]
            ],
            "type": "heatmap"
           }
          ],
          "heatmapgl": [
           {
            "colorbar": {
             "outlinewidth": 0,
             "ticks": ""
            },
            "colorscale": [
             [
              0,
              "#0d0887"
             ],
             [
              0.1111111111111111,
              "#46039f"
             ],
             [
              0.2222222222222222,
              "#7201a8"
             ],
             [
              0.3333333333333333,
              "#9c179e"
             ],
             [
              0.4444444444444444,
              "#bd3786"
             ],
             [
              0.5555555555555556,
              "#d8576b"
             ],
             [
              0.6666666666666666,
              "#ed7953"
             ],
             [
              0.7777777777777778,
              "#fb9f3a"
             ],
             [
              0.8888888888888888,
              "#fdca26"
             ],
             [
              1,
              "#f0f921"
             ]
            ],
            "type": "heatmapgl"
           }
          ],
          "histogram": [
           {
            "marker": {
             "pattern": {
              "fillmode": "overlay",
              "size": 10,
              "solidity": 0.2
             }
            },
            "type": "histogram"
           }
          ],
          "histogram2d": [
           {
            "colorbar": {
             "outlinewidth": 0,
             "ticks": ""
            },
            "colorscale": [
             [
              0,
              "#0d0887"
             ],
             [
              0.1111111111111111,
              "#46039f"
             ],
             [
              0.2222222222222222,
              "#7201a8"
             ],
             [
              0.3333333333333333,
              "#9c179e"
             ],
             [
              0.4444444444444444,
              "#bd3786"
             ],
             [
              0.5555555555555556,
              "#d8576b"
             ],
             [
              0.6666666666666666,
              "#ed7953"
             ],
             [
              0.7777777777777778,
              "#fb9f3a"
             ],
             [
              0.8888888888888888,
              "#fdca26"
             ],
             [
              1,
              "#f0f921"
             ]
            ],
            "type": "histogram2d"
           }
          ],
          "histogram2dcontour": [
           {
            "colorbar": {
             "outlinewidth": 0,
             "ticks": ""
            },
            "colorscale": [
             [
              0,
              "#0d0887"
             ],
             [
              0.1111111111111111,
              "#46039f"
             ],
             [
              0.2222222222222222,
              "#7201a8"
             ],
             [
              0.3333333333333333,
              "#9c179e"
             ],
             [
              0.4444444444444444,
              "#bd3786"
             ],
             [
              0.5555555555555556,
              "#d8576b"
             ],
             [
              0.6666666666666666,
              "#ed7953"
             ],
             [
              0.7777777777777778,
              "#fb9f3a"
             ],
             [
              0.8888888888888888,
              "#fdca26"
             ],
             [
              1,
              "#f0f921"
             ]
            ],
            "type": "histogram2dcontour"
           }
          ],
          "mesh3d": [
           {
            "colorbar": {
             "outlinewidth": 0,
             "ticks": ""
            },
            "type": "mesh3d"
           }
          ],
          "parcoords": [
           {
            "line": {
             "colorbar": {
              "outlinewidth": 0,
              "ticks": ""
             }
            },
            "type": "parcoords"
           }
          ],
          "pie": [
           {
            "automargin": true,
            "type": "pie"
           }
          ],
          "scatter": [
           {
            "fillpattern": {
             "fillmode": "overlay",
             "size": 10,
             "solidity": 0.2
            },
            "type": "scatter"
           }
          ],
          "scatter3d": [
           {
            "line": {
             "colorbar": {
              "outlinewidth": 0,
              "ticks": ""
             }
            },
            "marker": {
             "colorbar": {
              "outlinewidth": 0,
              "ticks": ""
             }
            },
            "type": "scatter3d"
           }
          ],
          "scattercarpet": [
           {
            "marker": {
             "colorbar": {
              "outlinewidth": 0,
              "ticks": ""
             }
            },
            "type": "scattercarpet"
           }
          ],
          "scattergeo": [
           {
            "marker": {
             "colorbar": {
              "outlinewidth": 0,
              "ticks": ""
             }
            },
            "type": "scattergeo"
           }
          ],
          "scattergl": [
           {
            "marker": {
             "colorbar": {
              "outlinewidth": 0,
              "ticks": ""
             }
            },
            "type": "scattergl"
           }
          ],
          "scattermapbox": [
           {
            "marker": {
             "colorbar": {
              "outlinewidth": 0,
              "ticks": ""
             }
            },
            "type": "scattermapbox"
           }
          ],
          "scatterpolar": [
           {
            "marker": {
             "colorbar": {
              "outlinewidth": 0,
              "ticks": ""
             }
            },
            "type": "scatterpolar"
           }
          ],
          "scatterpolargl": [
           {
            "marker": {
             "colorbar": {
              "outlinewidth": 0,
              "ticks": ""
             }
            },
            "type": "scatterpolargl"
           }
          ],
          "scatterternary": [
           {
            "marker": {
             "colorbar": {
              "outlinewidth": 0,
              "ticks": ""
             }
            },
            "type": "scatterternary"
           }
          ],
          "surface": [
           {
            "colorbar": {
             "outlinewidth": 0,
             "ticks": ""
            },
            "colorscale": [
             [
              0,
              "#0d0887"
             ],
             [
              0.1111111111111111,
              "#46039f"
             ],
             [
              0.2222222222222222,
              "#7201a8"
             ],
             [
              0.3333333333333333,
              "#9c179e"
             ],
             [
              0.4444444444444444,
              "#bd3786"
             ],
             [
              0.5555555555555556,
              "#d8576b"
             ],
             [
              0.6666666666666666,
              "#ed7953"
             ],
             [
              0.7777777777777778,
              "#fb9f3a"
             ],
             [
              0.8888888888888888,
              "#fdca26"
             ],
             [
              1,
              "#f0f921"
             ]
            ],
            "type": "surface"
           }
          ],
          "table": [
           {
            "cells": {
             "fill": {
              "color": "#EBF0F8"
             },
             "line": {
              "color": "white"
             }
            },
            "header": {
             "fill": {
              "color": "#C8D4E3"
             },
             "line": {
              "color": "white"
             }
            },
            "type": "table"
           }
          ]
         },
         "layout": {
          "annotationdefaults": {
           "arrowcolor": "#2a3f5f",
           "arrowhead": 0,
           "arrowwidth": 1
          },
          "autotypenumbers": "strict",
          "coloraxis": {
           "colorbar": {
            "outlinewidth": 0,
            "ticks": ""
           }
          },
          "colorscale": {
           "diverging": [
            [
             0,
             "#8e0152"
            ],
            [
             0.1,
             "#c51b7d"
            ],
            [
             0.2,
             "#de77ae"
            ],
            [
             0.3,
             "#f1b6da"
            ],
            [
             0.4,
             "#fde0ef"
            ],
            [
             0.5,
             "#f7f7f7"
            ],
            [
             0.6,
             "#e6f5d0"
            ],
            [
             0.7,
             "#b8e186"
            ],
            [
             0.8,
             "#7fbc41"
            ],
            [
             0.9,
             "#4d9221"
            ],
            [
             1,
             "#276419"
            ]
           ],
           "sequential": [
            [
             0,
             "#0d0887"
            ],
            [
             0.1111111111111111,
             "#46039f"
            ],
            [
             0.2222222222222222,
             "#7201a8"
            ],
            [
             0.3333333333333333,
             "#9c179e"
            ],
            [
             0.4444444444444444,
             "#bd3786"
            ],
            [
             0.5555555555555556,
             "#d8576b"
            ],
            [
             0.6666666666666666,
             "#ed7953"
            ],
            [
             0.7777777777777778,
             "#fb9f3a"
            ],
            [
             0.8888888888888888,
             "#fdca26"
            ],
            [
             1,
             "#f0f921"
            ]
           ],
           "sequentialminus": [
            [
             0,
             "#0d0887"
            ],
            [
             0.1111111111111111,
             "#46039f"
            ],
            [
             0.2222222222222222,
             "#7201a8"
            ],
            [
             0.3333333333333333,
             "#9c179e"
            ],
            [
             0.4444444444444444,
             "#bd3786"
            ],
            [
             0.5555555555555556,
             "#d8576b"
            ],
            [
             0.6666666666666666,
             "#ed7953"
            ],
            [
             0.7777777777777778,
             "#fb9f3a"
            ],
            [
             0.8888888888888888,
             "#fdca26"
            ],
            [
             1,
             "#f0f921"
            ]
           ]
          },
          "colorway": [
           "#636efa",
           "#EF553B",
           "#00cc96",
           "#ab63fa",
           "#FFA15A",
           "#19d3f3",
           "#FF6692",
           "#B6E880",
           "#FF97FF",
           "#FECB52"
          ],
          "font": {
           "color": "#2a3f5f"
          },
          "geo": {
           "bgcolor": "white",
           "lakecolor": "white",
           "landcolor": "#E5ECF6",
           "showlakes": true,
           "showland": true,
           "subunitcolor": "white"
          },
          "hoverlabel": {
           "align": "left"
          },
          "hovermode": "closest",
          "mapbox": {
           "style": "light"
          },
          "paper_bgcolor": "white",
          "plot_bgcolor": "#E5ECF6",
          "polar": {
           "angularaxis": {
            "gridcolor": "white",
            "linecolor": "white",
            "ticks": ""
           },
           "bgcolor": "#E5ECF6",
           "radialaxis": {
            "gridcolor": "white",
            "linecolor": "white",
            "ticks": ""
           }
          },
          "scene": {
           "xaxis": {
            "backgroundcolor": "#E5ECF6",
            "gridcolor": "white",
            "gridwidth": 2,
            "linecolor": "white",
            "showbackground": true,
            "ticks": "",
            "zerolinecolor": "white"
           },
           "yaxis": {
            "backgroundcolor": "#E5ECF6",
            "gridcolor": "white",
            "gridwidth": 2,
            "linecolor": "white",
            "showbackground": true,
            "ticks": "",
            "zerolinecolor": "white"
           },
           "zaxis": {
            "backgroundcolor": "#E5ECF6",
            "gridcolor": "white",
            "gridwidth": 2,
            "linecolor": "white",
            "showbackground": true,
            "ticks": "",
            "zerolinecolor": "white"
           }
          },
          "shapedefaults": {
           "line": {
            "color": "#2a3f5f"
           }
          },
          "ternary": {
           "aaxis": {
            "gridcolor": "white",
            "linecolor": "white",
            "ticks": ""
           },
           "baxis": {
            "gridcolor": "white",
            "linecolor": "white",
            "ticks": ""
           },
           "bgcolor": "#E5ECF6",
           "caxis": {
            "gridcolor": "white",
            "linecolor": "white",
            "ticks": ""
           }
          },
          "title": {
           "x": 0.05
          },
          "xaxis": {
           "automargin": true,
           "gridcolor": "white",
           "linecolor": "white",
           "ticks": "",
           "title": {
            "standoff": 15
           },
           "zerolinecolor": "white",
           "zerolinewidth": 2
          },
          "yaxis": {
           "automargin": true,
           "gridcolor": "white",
           "linecolor": "white",
           "ticks": "",
           "title": {
            "standoff": 15
           },
           "zerolinecolor": "white",
           "zerolinewidth": 2
          }
         }
        },
        "xaxis": {
         "anchor": "y",
         "domain": [
          0,
          1
         ],
         "title": {
          "text": "0"
         }
        },
        "yaxis": {
         "anchor": "x",
         "domain": [
          0,
          1
         ],
         "title": {
          "text": "1"
         }
        }
       }
      }
     },
     "metadata": {},
     "output_type": "display_data"
    }
   ],
   "source": [
    "import plotly.express as px\n",
    "from sklearn.decomposition import PCA\n",
    "from sklearn.preprocessing import StandardScaler\n",
    "model = LinearDiscriminantAnalysis(n_components=4)\n",
    "y2=[]\n",
    "for i in range(24):\n",
    "    y2.append('DNA')\n",
    "for j in range(24):\n",
    "    y2.append('MT')\n",
    "for k in range(24):\n",
    "    y2.append('HSP')\n",
    "for m in range(24):\n",
    "    y2.append('PROT')\n",
    "for n in range(24):\n",
    "    y2.append('HDAC')\n",
    "for k in range(48):\n",
    "    y2.append(\"DMSO\")\n",
    "#model.fit(X_drug, y)\n",
    "#X_drug2 = model.transform(X_drug)\n",
    "X_drug3=training.iloc[:,2:240].values\n",
    "X_drug3=model.fit(X_drug3,y2).transform(X_drug3)\n",
    "fig = px.scatter(X_drug3, x=0, y=1, color=training['drug_name'])\n",
    "fig.show()\n",
    "#these 5 groups are very clearly separated, as we can see in the image"
   ]
  },
  {
   "cell_type": "code",
   "execution_count": 210,
   "metadata": {},
   "outputs": [],
   "source": [
    "# Create a function\n",
    "def select_n_components(var_ratio, goal_var: float) -> int:\n",
    "    # Set initial variance explained so far\n",
    "    total_variance = 0.0\n",
    "    \n",
    "    # Set initial number of features\n",
    "    n_components = 0\n",
    "    \n",
    "    # For the explained variance of each feature:\n",
    "    for explained_variance in var_ratio:\n",
    "        \n",
    "        # Add the explained variance to the total\n",
    "        total_variance += explained_variance\n",
    "        \n",
    "        # Add one to the number of components\n",
    "        n_components += 1\n",
    "        \n",
    "        # If we reach our goal level of explained variance\n",
    "        if total_variance >= goal_var:\n",
    "            # End the loop\n",
    "            break\n",
    "            \n",
    "    # Return the number of components\n",
    "    return n_components"
   ]
  },
  {
   "cell_type": "code",
   "execution_count": 211,
   "metadata": {},
   "outputs": [],
   "source": [
    "lda = LinearDiscriminantAnalysis(n_components=None)\n",
    "y5=[]\n",
    "for i in range(18):\n",
    "    y5.append('DNA')\n",
    "for j in range(18):\n",
    "    y5.append(\"MT\")\n",
    "for k in range(18):\n",
    "    y5.append(\"HSP\")\n",
    "for m in range(18):\n",
    "    y5.append(\"PROT\")\n",
    "for n in range(18):\n",
    "    y5.append(\"HDAC\")\n",
    "for k in range(42):\n",
    "    y5.append(\"DMSO\")\n",
    "\n",
    "X_lda=lda.fit(X_training,y5)\n"
   ]
  },
  {
   "cell_type": "code",
   "execution_count": 212,
   "metadata": {},
   "outputs": [
    {
     "data": {
      "text/plain": [
       "array([0.63711558, 0.14356985, 0.11528802, 0.10402656])"
      ]
     },
     "execution_count": 212,
     "metadata": {},
     "output_type": "execute_result"
    }
   ],
   "source": [
    "# Create array of explained variance ratios\n",
    "lda_var_ratios = lda.explained_variance_ratio_\n",
    "lda_var_ratios"
   ]
  },
  {
   "cell_type": "code",
   "execution_count": 213,
   "metadata": {},
   "outputs": [
    {
     "name": "stdout",
     "output_type": "stream",
     "text": [
      "4\n",
      "3\n",
      "2\n",
      "2\n",
      "1\n"
     ]
    }
   ],
   "source": [
    "# Run function\n",
    "print(select_n_components(lda_var_ratios, 0.95))\n",
    "print(select_n_components(lda_var_ratios, 0.85))\n",
    "print(select_n_components(lda_var_ratios, 0.75))\n",
    "print(select_n_components(lda_var_ratios, 0.65))\n",
    "print(select_n_components(lda_var_ratios, 0.35))\n"
   ]
  },
  {
   "cell_type": "code",
   "execution_count": 214,
   "metadata": {},
   "outputs": [
    {
     "data": {
      "text/html": [
       "<div>\n",
       "<style scoped>\n",
       "    .dataframe tbody tr th:only-of-type {\n",
       "        vertical-align: middle;\n",
       "    }\n",
       "\n",
       "    .dataframe tbody tr th {\n",
       "        vertical-align: top;\n",
       "    }\n",
       "\n",
       "    .dataframe thead th {\n",
       "        text-align: right;\n",
       "    }\n",
       "</style>\n",
       "<table border=\"1\" class=\"dataframe\">\n",
       "  <thead>\n",
       "    <tr style=\"text-align: right;\">\n",
       "      <th></th>\n",
       "      <th>principal component 1</th>\n",
       "      <th>principal component 2</th>\n",
       "      <th>principal component 3</th>\n",
       "      <th>principal component 4</th>\n",
       "    </tr>\n",
       "  </thead>\n",
       "  <tbody>\n",
       "    <tr>\n",
       "      <th>0</th>\n",
       "      <td>5.458710</td>\n",
       "      <td>-3.010897</td>\n",
       "      <td>-2.844358</td>\n",
       "      <td>6.381750</td>\n",
       "    </tr>\n",
       "    <tr>\n",
       "      <th>1</th>\n",
       "      <td>5.674542</td>\n",
       "      <td>-2.580582</td>\n",
       "      <td>-3.685344</td>\n",
       "      <td>6.061704</td>\n",
       "    </tr>\n",
       "    <tr>\n",
       "      <th>2</th>\n",
       "      <td>4.980717</td>\n",
       "      <td>-3.047598</td>\n",
       "      <td>-3.191974</td>\n",
       "      <td>6.613889</td>\n",
       "    </tr>\n",
       "    <tr>\n",
       "      <th>3</th>\n",
       "      <td>5.546080</td>\n",
       "      <td>-2.786623</td>\n",
       "      <td>-3.114503</td>\n",
       "      <td>6.429688</td>\n",
       "    </tr>\n",
       "    <tr>\n",
       "      <th>4</th>\n",
       "      <td>3.832139</td>\n",
       "      <td>-2.785175</td>\n",
       "      <td>-3.578390</td>\n",
       "      <td>5.211350</td>\n",
       "    </tr>\n",
       "    <tr>\n",
       "      <th>...</th>\n",
       "      <td>...</td>\n",
       "      <td>...</td>\n",
       "      <td>...</td>\n",
       "      <td>...</td>\n",
       "    </tr>\n",
       "    <tr>\n",
       "      <th>163</th>\n",
       "      <td>-8.612544</td>\n",
       "      <td>-0.316407</td>\n",
       "      <td>-0.071905</td>\n",
       "      <td>-1.686388</td>\n",
       "    </tr>\n",
       "    <tr>\n",
       "      <th>164</th>\n",
       "      <td>-11.079353</td>\n",
       "      <td>1.018951</td>\n",
       "      <td>-0.986696</td>\n",
       "      <td>-0.745355</td>\n",
       "    </tr>\n",
       "    <tr>\n",
       "      <th>165</th>\n",
       "      <td>-11.043056</td>\n",
       "      <td>-0.237225</td>\n",
       "      <td>-1.725754</td>\n",
       "      <td>-0.827417</td>\n",
       "    </tr>\n",
       "    <tr>\n",
       "      <th>166</th>\n",
       "      <td>-10.763662</td>\n",
       "      <td>-1.695279</td>\n",
       "      <td>0.307424</td>\n",
       "      <td>-1.846010</td>\n",
       "    </tr>\n",
       "    <tr>\n",
       "      <th>167</th>\n",
       "      <td>-11.665173</td>\n",
       "      <td>-0.039498</td>\n",
       "      <td>0.176347</td>\n",
       "      <td>-0.769991</td>\n",
       "    </tr>\n",
       "  </tbody>\n",
       "</table>\n",
       "<p>168 rows × 4 columns</p>\n",
       "</div>"
      ],
      "text/plain": [
       "     principal component 1  principal component 2  principal component 3  \\\n",
       "0                 5.458710              -3.010897              -2.844358   \n",
       "1                 5.674542              -2.580582              -3.685344   \n",
       "2                 4.980717              -3.047598              -3.191974   \n",
       "3                 5.546080              -2.786623              -3.114503   \n",
       "4                 3.832139              -2.785175              -3.578390   \n",
       "..                     ...                    ...                    ...   \n",
       "163              -8.612544              -0.316407              -0.071905   \n",
       "164             -11.079353               1.018951              -0.986696   \n",
       "165             -11.043056              -0.237225              -1.725754   \n",
       "166             -10.763662              -1.695279               0.307424   \n",
       "167             -11.665173              -0.039498               0.176347   \n",
       "\n",
       "     principal component 4  \n",
       "0                 6.381750  \n",
       "1                 6.061704  \n",
       "2                 6.613889  \n",
       "3                 6.429688  \n",
       "4                 5.211350  \n",
       "..                     ...  \n",
       "163              -1.686388  \n",
       "164              -0.745355  \n",
       "165              -0.827417  \n",
       "166              -1.846010  \n",
       "167              -0.769991  \n",
       "\n",
       "[168 rows x 4 columns]"
      ]
     },
     "execution_count": 214,
     "metadata": {},
     "output_type": "execute_result"
    }
   ],
   "source": [
    "#pca_drug = PCA(n_components=6)\n",
    "#components = pca_drug.fit_transform(X_drug)\n",
    "principalDf = pd.DataFrame(data = X_drug2\n",
    "             , columns =['principal component 1', 'principal component 2','principal component 3','principal component 4'])\n",
    "principalDf"
   ]
  },
  {
   "cell_type": "code",
   "execution_count": 215,
   "metadata": {},
   "outputs": [
    {
     "data": {
      "text/html": [
       "<div>\n",
       "<style scoped>\n",
       "    .dataframe tbody tr th:only-of-type {\n",
       "        vertical-align: middle;\n",
       "    }\n",
       "\n",
       "    .dataframe tbody tr th {\n",
       "        vertical-align: top;\n",
       "    }\n",
       "\n",
       "    .dataframe thead th {\n",
       "        text-align: right;\n",
       "    }\n",
       "</style>\n",
       "<table border=\"1\" class=\"dataframe\">\n",
       "  <thead>\n",
       "    <tr style=\"text-align: right;\">\n",
       "      <th></th>\n",
       "      <th>drug_name</th>\n",
       "      <th>default</th>\n",
       "      <th>ks1</th>\n",
       "      <th>ks2</th>\n",
       "      <th>ks3</th>\n",
       "      <th>ks4</th>\n",
       "      <th>ks5</th>\n",
       "      <th>ks6</th>\n",
       "      <th>ks7</th>\n",
       "      <th>ks8</th>\n",
       "      <th>...</th>\n",
       "      <th>ks229</th>\n",
       "      <th>ks230</th>\n",
       "      <th>ks231</th>\n",
       "      <th>ks232</th>\n",
       "      <th>ks233</th>\n",
       "      <th>ks234</th>\n",
       "      <th>ks235</th>\n",
       "      <th>ks236</th>\n",
       "      <th>ks237</th>\n",
       "      <th>ks238</th>\n",
       "    </tr>\n",
       "  </thead>\n",
       "  <tbody>\n",
       "    <tr>\n",
       "      <th>12</th>\n",
       "      <td>Etoposide+Gemcitabine+1</td>\n",
       "      <td>0</td>\n",
       "      <td>-0.749170</td>\n",
       "      <td>-0.669410</td>\n",
       "      <td>-0.927020</td>\n",
       "      <td>-0.965710</td>\n",
       "      <td>-0.987910</td>\n",
       "      <td>-0.922450</td>\n",
       "      <td>-0.889720</td>\n",
       "      <td>-0.870230</td>\n",
       "      <td>...</td>\n",
       "      <td>-0.337330</td>\n",
       "      <td>0.136410</td>\n",
       "      <td>-0.145360</td>\n",
       "      <td>-0.306520</td>\n",
       "      <td>-0.297390</td>\n",
       "      <td>0.136410</td>\n",
       "      <td>0.235710</td>\n",
       "      <td>0.167310</td>\n",
       "      <td>-0.203070</td>\n",
       "      <td>0.135950</td>\n",
       "    </tr>\n",
       "    <tr>\n",
       "      <th>14</th>\n",
       "      <td>Etoposide+Gemcitabine+2</td>\n",
       "      <td>0</td>\n",
       "      <td>-0.913330</td>\n",
       "      <td>-0.459310</td>\n",
       "      <td>-0.413220</td>\n",
       "      <td>-0.696840</td>\n",
       "      <td>-0.882330</td>\n",
       "      <td>-0.497390</td>\n",
       "      <td>-0.380400</td>\n",
       "      <td>-0.361150</td>\n",
       "      <td>...</td>\n",
       "      <td>0.137990</td>\n",
       "      <td>0.272160</td>\n",
       "      <td>-0.289340</td>\n",
       "      <td>0.270370</td>\n",
       "      <td>0.205260</td>\n",
       "      <td>0.272160</td>\n",
       "      <td>-0.627590</td>\n",
       "      <td>-0.608650</td>\n",
       "      <td>-0.403970</td>\n",
       "      <td>0.399480</td>\n",
       "    </tr>\n",
       "    <tr>\n",
       "      <th>16</th>\n",
       "      <td>Etoposide+Gemcitabine+3</td>\n",
       "      <td>0</td>\n",
       "      <td>-0.690000</td>\n",
       "      <td>0.299020</td>\n",
       "      <td>0.126810</td>\n",
       "      <td>0.259950</td>\n",
       "      <td>0.251080</td>\n",
       "      <td>0.149220</td>\n",
       "      <td>0.113770</td>\n",
       "      <td>0.086765</td>\n",
       "      <td>...</td>\n",
       "      <td>0.551860</td>\n",
       "      <td>0.247790</td>\n",
       "      <td>-0.315200</td>\n",
       "      <td>0.722750</td>\n",
       "      <td>0.682450</td>\n",
       "      <td>0.247790</td>\n",
       "      <td>-0.531130</td>\n",
       "      <td>-0.569710</td>\n",
       "      <td>-0.181620</td>\n",
       "      <td>0.395390</td>\n",
       "    </tr>\n",
       "    <tr>\n",
       "      <th>18</th>\n",
       "      <td>Etoposide+Gemcitabine+4</td>\n",
       "      <td>0</td>\n",
       "      <td>-0.677500</td>\n",
       "      <td>0.258400</td>\n",
       "      <td>0.152130</td>\n",
       "      <td>0.207060</td>\n",
       "      <td>0.146180</td>\n",
       "      <td>0.151390</td>\n",
       "      <td>0.143780</td>\n",
       "      <td>0.126430</td>\n",
       "      <td>...</td>\n",
       "      <td>0.485480</td>\n",
       "      <td>0.231640</td>\n",
       "      <td>-0.226070</td>\n",
       "      <td>0.623180</td>\n",
       "      <td>0.595200</td>\n",
       "      <td>0.231640</td>\n",
       "      <td>-0.474370</td>\n",
       "      <td>-0.498440</td>\n",
       "      <td>-0.153010</td>\n",
       "      <td>0.282530</td>\n",
       "    </tr>\n",
       "    <tr>\n",
       "      <th>20</th>\n",
       "      <td>Etoposide+Gemcitabine+5</td>\n",
       "      <td>0</td>\n",
       "      <td>-0.060833</td>\n",
       "      <td>-0.167140</td>\n",
       "      <td>-0.198800</td>\n",
       "      <td>0.093564</td>\n",
       "      <td>-0.258180</td>\n",
       "      <td>-0.186680</td>\n",
       "      <td>-0.175810</td>\n",
       "      <td>-0.170990</td>\n",
       "      <td>...</td>\n",
       "      <td>-0.052231</td>\n",
       "      <td>0.031219</td>\n",
       "      <td>-0.091645</td>\n",
       "      <td>-0.042901</td>\n",
       "      <td>-0.048864</td>\n",
       "      <td>0.031219</td>\n",
       "      <td>-0.108130</td>\n",
       "      <td>-0.122700</td>\n",
       "      <td>-0.088380</td>\n",
       "      <td>0.100400</td>\n",
       "    </tr>\n",
       "    <tr>\n",
       "      <th>...</th>\n",
       "      <td>...</td>\n",
       "      <td>...</td>\n",
       "      <td>...</td>\n",
       "      <td>...</td>\n",
       "      <td>...</td>\n",
       "      <td>...</td>\n",
       "      <td>...</td>\n",
       "      <td>...</td>\n",
       "      <td>...</td>\n",
       "      <td>...</td>\n",
       "      <td>...</td>\n",
       "      <td>...</td>\n",
       "      <td>...</td>\n",
       "      <td>...</td>\n",
       "      <td>...</td>\n",
       "      <td>...</td>\n",
       "      <td>...</td>\n",
       "      <td>...</td>\n",
       "      <td>...</td>\n",
       "      <td>...</td>\n",
       "      <td>...</td>\n",
       "    </tr>\n",
       "    <tr>\n",
       "      <th>383</th>\n",
       "      <td>DMSO+DMSO+6</td>\n",
       "      <td>0</td>\n",
       "      <td>-0.054484</td>\n",
       "      <td>0.056548</td>\n",
       "      <td>0.056706</td>\n",
       "      <td>0.053135</td>\n",
       "      <td>0.022540</td>\n",
       "      <td>0.044246</td>\n",
       "      <td>0.046786</td>\n",
       "      <td>0.045873</td>\n",
       "      <td>...</td>\n",
       "      <td>0.034921</td>\n",
       "      <td>0.040714</td>\n",
       "      <td>-0.025635</td>\n",
       "      <td>0.053810</td>\n",
       "      <td>0.046548</td>\n",
       "      <td>0.040714</td>\n",
       "      <td>0.031270</td>\n",
       "      <td>0.034286</td>\n",
       "      <td>-0.026349</td>\n",
       "      <td>-0.024881</td>\n",
       "    </tr>\n",
       "    <tr>\n",
       "      <th>754</th>\n",
       "      <td>DMSO+DMSO+6</td>\n",
       "      <td>0</td>\n",
       "      <td>-0.032901</td>\n",
       "      <td>0.023610</td>\n",
       "      <td>-0.024707</td>\n",
       "      <td>-0.038758</td>\n",
       "      <td>-0.030139</td>\n",
       "      <td>-0.031500</td>\n",
       "      <td>-0.019386</td>\n",
       "      <td>0.029038</td>\n",
       "      <td>...</td>\n",
       "      <td>0.029591</td>\n",
       "      <td>-0.035263</td>\n",
       "      <td>0.039139</td>\n",
       "      <td>0.038929</td>\n",
       "      <td>0.049717</td>\n",
       "      <td>-0.035263</td>\n",
       "      <td>0.024070</td>\n",
       "      <td>0.033969</td>\n",
       "      <td>0.039007</td>\n",
       "      <td>-0.029900</td>\n",
       "    </tr>\n",
       "    <tr>\n",
       "      <th>755</th>\n",
       "      <td>DMSO+DMSO+6</td>\n",
       "      <td>0</td>\n",
       "      <td>0.040747</td>\n",
       "      <td>-0.040153</td>\n",
       "      <td>0.050000</td>\n",
       "      <td>0.023503</td>\n",
       "      <td>0.047512</td>\n",
       "      <td>0.050217</td>\n",
       "      <td>0.046320</td>\n",
       "      <td>0.042159</td>\n",
       "      <td>...</td>\n",
       "      <td>-0.037163</td>\n",
       "      <td>0.027777</td>\n",
       "      <td>-0.025349</td>\n",
       "      <td>-0.026051</td>\n",
       "      <td>-0.035638</td>\n",
       "      <td>0.027777</td>\n",
       "      <td>0.032834</td>\n",
       "      <td>0.049933</td>\n",
       "      <td>-0.028290</td>\n",
       "      <td>-0.025389</td>\n",
       "    </tr>\n",
       "    <tr>\n",
       "      <th>766</th>\n",
       "      <td>DMSO+DMSO+6</td>\n",
       "      <td>0</td>\n",
       "      <td>0.035169</td>\n",
       "      <td>0.038537</td>\n",
       "      <td>0.037045</td>\n",
       "      <td>0.062430</td>\n",
       "      <td>0.022459</td>\n",
       "      <td>0.042075</td>\n",
       "      <td>0.037348</td>\n",
       "      <td>0.031066</td>\n",
       "      <td>...</td>\n",
       "      <td>0.024476</td>\n",
       "      <td>-0.017844</td>\n",
       "      <td>0.048467</td>\n",
       "      <td>0.027821</td>\n",
       "      <td>0.037879</td>\n",
       "      <td>-0.017844</td>\n",
       "      <td>0.032547</td>\n",
       "      <td>0.040583</td>\n",
       "      <td>-0.021958</td>\n",
       "      <td>-0.037541</td>\n",
       "    </tr>\n",
       "    <tr>\n",
       "      <th>767</th>\n",
       "      <td>DMSO+DMSO+6</td>\n",
       "      <td>0</td>\n",
       "      <td>-0.069091</td>\n",
       "      <td>0.067601</td>\n",
       "      <td>0.036944</td>\n",
       "      <td>0.123810</td>\n",
       "      <td>-0.030884</td>\n",
       "      <td>-0.025960</td>\n",
       "      <td>0.038131</td>\n",
       "      <td>0.037096</td>\n",
       "      <td>...</td>\n",
       "      <td>0.060808</td>\n",
       "      <td>0.037045</td>\n",
       "      <td>0.031439</td>\n",
       "      <td>0.084520</td>\n",
       "      <td>0.080177</td>\n",
       "      <td>0.037045</td>\n",
       "      <td>0.029949</td>\n",
       "      <td>0.052727</td>\n",
       "      <td>-0.040000</td>\n",
       "      <td>-0.051263</td>\n",
       "    </tr>\n",
       "  </tbody>\n",
       "</table>\n",
       "<p>168 rows × 240 columns</p>\n",
       "</div>"
      ],
      "text/plain": [
       "                   drug_name  default       ks1       ks2       ks3       ks4  \\\n",
       "12   Etoposide+Gemcitabine+1        0 -0.749170 -0.669410 -0.927020 -0.965710   \n",
       "14   Etoposide+Gemcitabine+2        0 -0.913330 -0.459310 -0.413220 -0.696840   \n",
       "16   Etoposide+Gemcitabine+3        0 -0.690000  0.299020  0.126810  0.259950   \n",
       "18   Etoposide+Gemcitabine+4        0 -0.677500  0.258400  0.152130  0.207060   \n",
       "20   Etoposide+Gemcitabine+5        0 -0.060833 -0.167140 -0.198800  0.093564   \n",
       "..                       ...      ...       ...       ...       ...       ...   \n",
       "383              DMSO+DMSO+6        0 -0.054484  0.056548  0.056706  0.053135   \n",
       "754              DMSO+DMSO+6        0 -0.032901  0.023610 -0.024707 -0.038758   \n",
       "755              DMSO+DMSO+6        0  0.040747 -0.040153  0.050000  0.023503   \n",
       "766              DMSO+DMSO+6        0  0.035169  0.038537  0.037045  0.062430   \n",
       "767              DMSO+DMSO+6        0 -0.069091  0.067601  0.036944  0.123810   \n",
       "\n",
       "          ks5       ks6       ks7       ks8  ...     ks229     ks230  \\\n",
       "12  -0.987910 -0.922450 -0.889720 -0.870230  ... -0.337330  0.136410   \n",
       "14  -0.882330 -0.497390 -0.380400 -0.361150  ...  0.137990  0.272160   \n",
       "16   0.251080  0.149220  0.113770  0.086765  ...  0.551860  0.247790   \n",
       "18   0.146180  0.151390  0.143780  0.126430  ...  0.485480  0.231640   \n",
       "20  -0.258180 -0.186680 -0.175810 -0.170990  ... -0.052231  0.031219   \n",
       "..        ...       ...       ...       ...  ...       ...       ...   \n",
       "383  0.022540  0.044246  0.046786  0.045873  ...  0.034921  0.040714   \n",
       "754 -0.030139 -0.031500 -0.019386  0.029038  ...  0.029591 -0.035263   \n",
       "755  0.047512  0.050217  0.046320  0.042159  ... -0.037163  0.027777   \n",
       "766  0.022459  0.042075  0.037348  0.031066  ...  0.024476 -0.017844   \n",
       "767 -0.030884 -0.025960  0.038131  0.037096  ...  0.060808  0.037045   \n",
       "\n",
       "        ks231     ks232     ks233     ks234     ks235     ks236     ks237  \\\n",
       "12  -0.145360 -0.306520 -0.297390  0.136410  0.235710  0.167310 -0.203070   \n",
       "14  -0.289340  0.270370  0.205260  0.272160 -0.627590 -0.608650 -0.403970   \n",
       "16  -0.315200  0.722750  0.682450  0.247790 -0.531130 -0.569710 -0.181620   \n",
       "18  -0.226070  0.623180  0.595200  0.231640 -0.474370 -0.498440 -0.153010   \n",
       "20  -0.091645 -0.042901 -0.048864  0.031219 -0.108130 -0.122700 -0.088380   \n",
       "..        ...       ...       ...       ...       ...       ...       ...   \n",
       "383 -0.025635  0.053810  0.046548  0.040714  0.031270  0.034286 -0.026349   \n",
       "754  0.039139  0.038929  0.049717 -0.035263  0.024070  0.033969  0.039007   \n",
       "755 -0.025349 -0.026051 -0.035638  0.027777  0.032834  0.049933 -0.028290   \n",
       "766  0.048467  0.027821  0.037879 -0.017844  0.032547  0.040583 -0.021958   \n",
       "767  0.031439  0.084520  0.080177  0.037045  0.029949  0.052727 -0.040000   \n",
       "\n",
       "        ks238  \n",
       "12   0.135950  \n",
       "14   0.399480  \n",
       "16   0.395390  \n",
       "18   0.282530  \n",
       "20   0.100400  \n",
       "..        ...  \n",
       "383 -0.024881  \n",
       "754 -0.029900  \n",
       "755 -0.025389  \n",
       "766 -0.037541  \n",
       "767 -0.051263  \n",
       "\n",
       "[168 rows x 240 columns]"
      ]
     },
     "execution_count": 215,
     "metadata": {},
     "output_type": "execute_result"
    }
   ],
   "source": [
    "training"
   ]
  },
  {
   "cell_type": "code",
   "execution_count": 216,
   "metadata": {},
   "outputs": [
    {
     "name": "stdout",
     "output_type": "stream",
     "text": [
      "['DNA' 'DNA' 'DNA' 'DNA' 'DNA' 'DNA' 'MT' 'MT' 'MT' 'MT' 'MT' 'MT' 'HSP'\n",
      " 'HSP' 'HSP' 'HSP' 'HSP' 'HSP' 'PROT' 'PROT' 'PROT' 'PROT' 'PROT' 'PROT'\n",
      " 'HDAC' 'HDAC' 'HDAC' 'HDAC' 'HDAC' 'HDAC' 'DMSO' 'DMSO' 'DMSO' 'DMSO'\n",
      " 'DMSO' 'DMSO']\n",
      "1.0\n"
     ]
    }
   ],
   "source": [
    "#knn\n",
    "from sklearn.neighbors import KNeighborsClassifier\n",
    "from sklearn.metrics import accuracy_score\n",
    "knn5 = KNeighborsClassifier(n_neighbors=20)\n",
    "knn5.fit(X_training, y)\n",
    "y_pred_5 = knn5.predict(X_testing)\n",
    "print(y_pred_5)\n",
    "print(accuracy(y_pred_5,['DNA',\"MT\",\"HSP\",\"PROT\",\"HDAC\",\"DMSO\"]))\n",
    "#print(\"Accuracy with k=5\", accuracy_score(y_test, y_pred_5)*100)"
   ]
  },
  {
   "cell_type": "code",
   "execution_count": 217,
   "metadata": {},
   "outputs": [
    {
     "name": "stdout",
     "output_type": "stream",
     "text": [
      "168\n"
     ]
    }
   ],
   "source": [
    "import numpy as np\n",
    "all_list2=[]\n",
    "for i in range(len(all_list)):\n",
    "    all_list2.append(np.ndarray.tolist(all_list[i]))\n",
    "\n",
    "print(len(all_list2))"
   ]
  },
  {
   "cell_type": "code",
   "execution_count": 218,
   "metadata": {},
   "outputs": [],
   "source": [
    "#starts with bootstrap sampling\n",
    "#24,24,24,24,24,48\n",
    "#6,6,6,6,6,12\n",
    "\n",
    "\n",
    "import random\n",
    "def bootstrap(all_list):\n",
    "    part1=all_list[:24]\n",
    "    \n",
    "    part2=all_list[24:48]\n",
    "    part3=all_list[48:72]\n",
    "    part4=all_list[72:96]\n",
    "    part5=all_list[96:120]\n",
    "    part6=all_list[120:168]\n",
    "\n",
    "    testing_data=[]\n",
    "    toremovelst=[]\n",
    "    testing_data2=[]\n",
    "    toremovelst2=[]\n",
    "    testing_data3=[]\n",
    "    toremovelst3=[]\n",
    "    testing_data4=[]\n",
    "    toremovelst4=[]\n",
    "    testing_data5=[]\n",
    "    toremovelst5=[]\n",
    "    testing_data6=[]\n",
    "    toremovelst6=[]\n",
    "    #1\n",
    "    \n",
    "    \n",
    "    toremoveindexlst=random.sample(range(24), 6)\n",
    "    for i in range(len(toremoveindexlst)):\n",
    "        toremoveindex=toremoveindexlst[i]\n",
    "\n",
    "        target=part1[toremoveindex]\n",
    "        toremovelst.append(target)\n",
    "        testing_data.append(target)\n",
    "    \n",
    "        \n",
    "    for i in range(len(toremovelst)):\n",
    "        part1.remove(toremovelst[i])\n",
    "    #2\n",
    "    toremoveindexlst2=random.sample(range(24), 6)\n",
    "    for i in range(len(toremoveindexlst2)):\n",
    "        toremoveindex2=toremoveindexlst2[i]\n",
    "\n",
    "        target2=part2[toremoveindex2]\n",
    "        toremovelst2.append(target2)\n",
    "        testing_data.append(target2)\n",
    "    \n",
    "        \n",
    "    for i in range(len(toremovelst2)):\n",
    "        part2.remove(toremovelst2[i])\n",
    "    #3\n",
    "    toremoveindexlst3=random.sample(range(24), 6)\n",
    "    for i in range(len(toremoveindexlst3)):\n",
    "        toremoveindex3=toremoveindexlst3[i]\n",
    "\n",
    "        target3=part3[toremoveindex3]\n",
    "        toremovelst3.append(target3)\n",
    "        testing_data.append(target3)\n",
    "\n",
    "    for i in range(len(toremovelst3)):\n",
    "        part3.remove(toremovelst3[i])\n",
    "    #4\n",
    "    toremoveindexlst4=random.sample(range(24), 6)\n",
    "    for i in range(len(toremoveindexlst4)):\n",
    "        toremoveindex4=toremoveindexlst4[i]\n",
    "\n",
    "        target4=part4[toremoveindex4]\n",
    "        toremovelst4.append(target4)\n",
    "        testing_data.append(target4)\n",
    "        \n",
    "    for i in range(len(toremovelst4)):\n",
    "        part4.remove(toremovelst4[i])\n",
    "    #5\n",
    "    toremoveindexlst5=random.sample(range(24), 6)\n",
    "    for i in range(len(toremoveindexlst5)):\n",
    "        toremoveindex5=toremoveindexlst5[i]\n",
    "\n",
    "        target5=part5[toremoveindex5]\n",
    "        toremovelst5.append(target5)\n",
    "        testing_data.append(target5)\n",
    "\n",
    "    for i in range(len(toremovelst5)):\n",
    "        part5.remove(toremovelst5[i])\n",
    "\n",
    "    #6\n",
    "    toremoveindexlst6=random.sample(range(48), 12)\n",
    "    for i in range(len(toremoveindexlst6)):\n",
    "        toremoveindex6=toremoveindexlst6[i]\n",
    "\n",
    "        target6=part6[toremoveindex6]\n",
    "        toremovelst6.append(target6)\n",
    "        testing_data.append(target6)\n",
    "    \n",
    "        \n",
    "    for i in range(len(toremovelst6)):\n",
    "        part6.remove(toremovelst6[i])\n",
    "    \n",
    "    \n",
    "        \n",
    "\n",
    "\n",
    "\n",
    "\n",
    "\n",
    "        \n",
    "    \n",
    "    \n",
    "\n",
    "\n",
    "\n",
    "\n",
    "\n",
    "    return part1,part2,part3,part4,part5,part6,testing_data\n",
    "\n"
   ]
  },
  {
   "cell_type": "code",
   "execution_count": 219,
   "metadata": {},
   "outputs": [],
   "source": [
    "part1,part2,part3,part4,part5,part6,testing_data=bootstrap(all_list2)\n",
    "\n"
   ]
  },
  {
   "cell_type": "code",
   "execution_count": 226,
   "metadata": {},
   "outputs": [
    {
     "name": "stdout",
     "output_type": "stream",
     "text": [
      "126 36\n"
     ]
    }
   ],
   "source": [
    "training_data=part1+part2+part3+part4+part5+part6\n",
    "print(len(training_data),len(part6))\n",
    "y6=[]\n",
    "for i in range(18):\n",
    "    y6.append('DNA')\n",
    "for j in range(18):\n",
    "    y6.append(\"MT\")\n",
    "for k in range(18):\n",
    "    y6.append(\"HSP\")\n",
    "for m in range(18):\n",
    "    y6.append(\"PROT\")\n",
    "for n in range(18):\n",
    "    y6.append(\"HDAC\")\n",
    "for k in range(36):\n",
    "    y6.append(\"DMSO\")"
   ]
  },
  {
   "cell_type": "code",
   "execution_count": 231,
   "metadata": {},
   "outputs": [
    {
     "name": "stdout",
     "output_type": "stream",
     "text": [
      "['DNA' 'DNA' 'DNA' 'DNA' 'DNA' 'DNA' 'MT' 'MT' 'MT' 'MT' 'MT' 'MT' 'HSP'\n",
      " 'HSP' 'HSP' 'HSP' 'HSP' 'HSP' 'PROT' 'PROT' 'PROT' 'PROT' 'PROT' 'PROT'\n",
      " 'HDAC' 'HDAC' 'HDAC' 'HDAC' 'HDAC' 'HDAC' 'DMSO' 'DMSO' 'DMSO' 'DMSO'\n",
      " 'DMSO' 'DMSO']\n",
      "36\n"
     ]
    }
   ],
   "source": [
    "model6 = LinearDiscriminantAnalysis(n_components=4)\n",
    "model6.fit(training_data,y6)\n",
    "yhat6=model6.predict(X_testing)\n",
    "\n",
    "print(yhat6)\n",
    "print(len(yhat6))"
   ]
  },
  {
   "cell_type": "code",
   "execution_count": 229,
   "metadata": {},
   "outputs": [],
   "source": [
    "def accuracy2(list1,list2):\n",
    "    length=len(list1)\n",
    "    list3=[]\n",
    "    for i in range(6):\n",
    "        list3.append(list2[0])\n",
    "    for j in range(6):\n",
    "        list3.append(list2[1])\n",
    "    for m in range(6):\n",
    "        list3.append(list2[2])\n",
    "    for n in range(6):\n",
    "        list3.append(list2[3])\n",
    "    for k in range(6):\n",
    "        list3.append(list2[4])\n",
    "    for k in range(12):\n",
    "        list3.append(list2[5])\n",
    "\n",
    "    counter=0\n",
    "    for k in range(len(list1)):\n",
    "\n",
    "        if list1[k]==list3[k]:\n",
    "            counter+=1\n",
    "    return counter/length\n",
    "\n"
   ]
  },
  {
   "cell_type": "code",
   "execution_count": 230,
   "metadata": {},
   "outputs": [
    {
     "data": {
      "text/plain": [
       "1.0"
      ]
     },
     "execution_count": 230,
     "metadata": {},
     "output_type": "execute_result"
    }
   ],
   "source": [
    "a1=accuracy2(yhat6,[\"DNA\",\"MT\",\"HSP\",\"PROT\",\"HDAC\",\"DMSO\"])\n"
   ]
  },
  {
   "cell_type": "code",
   "execution_count": null,
   "metadata": {},
   "outputs": [],
   "source": [
    "#bootstrap "
   ]
  },
  {
   "cell_type": "code",
   "execution_count": 234,
   "metadata": {},
   "outputs": [],
   "source": [
    "#just to predict, then we will know the effects of bootstrap sampling\n",
    "accuracylst=[]\n",
    "def bootstrap_predict_accuracy():\n",
    "    part1,part2,part3,part4,part5,part6,testing_data=bootstrap(all_list2)\n",
    "    training_data=part1+part2+part3+part4+part5+part6\n",
    "\n",
    "\n",
    "    model6 = LinearDiscriminantAnalysis(n_components=4)\n",
    "    model6.fit(training_data,y6)\n",
    "    yhat6=model6.predict(X_testing)\n",
    "    a=accuracy2(yhat6,[\"DNA\",\"MT\",\"HSP\",\"PROT\",\"HDAC\",\"DMSO\"])\n",
    "\n",
    "\n",
    "    accuracylst.append(a)\n",
    "\n",
    "for i in range(10):\n",
    "    bootstrap_predict_accuracy()\n",
    "ave_accuracy=sum(accuracylst)/len(accuracylst)\n",
    "\n",
    "    "
   ]
  },
  {
   "cell_type": "code",
   "execution_count": 236,
   "metadata": {},
   "outputs": [
    {
     "data": {
      "text/plain": [
       "1.0"
      ]
     },
     "execution_count": 236,
     "metadata": {},
     "output_type": "execute_result"
    }
   ],
   "source": [
    "ave_accuracy"
   ]
  },
  {
   "cell_type": "code",
   "execution_count": null,
   "metadata": {},
   "outputs": [
    {
     "data": {
      "text/plain": [
       "6"
      ]
     },
     "execution_count": 89,
     "metadata": {},
     "output_type": "execute_result"
    }
   ],
   "source": [
    "len(part1)\n",
    "len(testing_data)"
   ]
  },
  {
   "cell_type": "code",
   "execution_count": null,
   "metadata": {},
   "outputs": [
    {
     "name": "stdout",
     "output_type": "stream",
     "text": [
      "168\n"
     ]
    }
   ],
   "source": [
    "print(len(all_list))"
   ]
  },
  {
   "cell_type": "code",
   "execution_count": null,
   "metadata": {},
   "outputs": [
    {
     "name": "stdout",
     "output_type": "stream",
     "text": [
      "[1, 2, 4, 5]\n"
     ]
    }
   ],
   "source": [
    "alist=[1,2,3,4,5]\n",
    "alist.remove(3)\n",
    "print(alist)"
   ]
  }
 ],
 "metadata": {
  "kernelspec": {
   "display_name": "Python 3.8.5 ('base')",
   "language": "python",
   "name": "python3"
  },
  "language_info": {
   "codemirror_mode": {
    "name": "ipython",
    "version": 3
   },
   "file_extension": ".py",
   "mimetype": "text/x-python",
   "name": "python",
   "nbconvert_exporter": "python",
   "pygments_lexer": "ipython3",
   "version": "3.8.5"
  },
  "vscode": {
   "interpreter": {
    "hash": "40d3a090f54c6569ab1632332b64b2c03c39dcf918b08424e98f38b5ae0af88f"
   }
  }
 },
 "nbformat": 4,
 "nbformat_minor": 4
}
